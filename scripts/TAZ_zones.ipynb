{
 "cells": [
  {
   "cell_type": "code",
   "execution_count": 1,
   "id": "initial_id",
   "metadata": {
    "collapsed": true,
    "ExecuteTime": {
     "end_time": "2024-01-18T09:58:18.717486800Z",
     "start_time": "2024-01-18T09:58:17.619712400Z"
    }
   },
   "outputs": [],
   "source": [
    "import geopandas as gpd\n",
    "import numpy as np\n",
    "import pandas as pd"
   ]
  },
  {
   "cell_type": "code",
   "execution_count": 2,
   "outputs": [
    {
     "data": {
      "text/plain": "        id          area  administrative_unit_id  municipality_id  \\\n0        1  1.224163e+06                       6                1   \n1        2  1.502047e+06                       6                1   \n2        3  3.110835e+05                       6                1   \n3        4  2.325404e+05                       6                1   \n4        5  2.935132e+05                       6                1   \n...    ...           ...                     ...              ...   \n2871  2880  1.321830e+04                       2                1   \n2872  2881  1.290221e+05                       1                1   \n2873  2883  1.227687e+05                       1                1   \n2874  2884  2.572212e+03                       1                1   \n2875  3000  3.550764e+06                       6                1   \n\n                                               geometry  \n0     POLYGON ((56.34764 58.03500, 56.34762 58.03500...  \n1     POLYGON ((56.36000 58.03485, 56.35999 58.03486...  \n2     POLYGON ((56.36956 58.03529, 56.36956 58.03528...  \n3     POLYGON ((56.37105 58.03543, 56.37104 58.03542...  \n4     POLYGON ((56.37142 58.03544, 56.37140 58.03544...  \n...                                                 ...  \n2871  POLYGON ((56.15604 57.88224, 56.15602 57.88224...  \n2872  POLYGON ((56.41638 58.15545, 56.41639 58.15545...  \n2873  POLYGON ((56.53509 58.13568, 56.53508 58.13569...  \n2874  POLYGON ((56.51985 58.14921, 56.51985 58.14923...  \n2875  POLYGON ((56.31847 58.03896, 56.31846 58.03897...  \n\n[2876 rows x 5 columns]",
      "text/html": "<div>\n<style scoped>\n    .dataframe tbody tr th:only-of-type {\n        vertical-align: middle;\n    }\n\n    .dataframe tbody tr th {\n        vertical-align: top;\n    }\n\n    .dataframe thead th {\n        text-align: right;\n    }\n</style>\n<table border=\"1\" class=\"dataframe\">\n  <thead>\n    <tr style=\"text-align: right;\">\n      <th></th>\n      <th>id</th>\n      <th>area</th>\n      <th>administrative_unit_id</th>\n      <th>municipality_id</th>\n      <th>geometry</th>\n    </tr>\n  </thead>\n  <tbody>\n    <tr>\n      <th>0</th>\n      <td>1</td>\n      <td>1.224163e+06</td>\n      <td>6</td>\n      <td>1</td>\n      <td>POLYGON ((56.34764 58.03500, 56.34762 58.03500...</td>\n    </tr>\n    <tr>\n      <th>1</th>\n      <td>2</td>\n      <td>1.502047e+06</td>\n      <td>6</td>\n      <td>1</td>\n      <td>POLYGON ((56.36000 58.03485, 56.35999 58.03486...</td>\n    </tr>\n    <tr>\n      <th>2</th>\n      <td>3</td>\n      <td>3.110835e+05</td>\n      <td>6</td>\n      <td>1</td>\n      <td>POLYGON ((56.36956 58.03529, 56.36956 58.03528...</td>\n    </tr>\n    <tr>\n      <th>3</th>\n      <td>4</td>\n      <td>2.325404e+05</td>\n      <td>6</td>\n      <td>1</td>\n      <td>POLYGON ((56.37105 58.03543, 56.37104 58.03542...</td>\n    </tr>\n    <tr>\n      <th>4</th>\n      <td>5</td>\n      <td>2.935132e+05</td>\n      <td>6</td>\n      <td>1</td>\n      <td>POLYGON ((56.37142 58.03544, 56.37140 58.03544...</td>\n    </tr>\n    <tr>\n      <th>...</th>\n      <td>...</td>\n      <td>...</td>\n      <td>...</td>\n      <td>...</td>\n      <td>...</td>\n    </tr>\n    <tr>\n      <th>2871</th>\n      <td>2880</td>\n      <td>1.321830e+04</td>\n      <td>2</td>\n      <td>1</td>\n      <td>POLYGON ((56.15604 57.88224, 56.15602 57.88224...</td>\n    </tr>\n    <tr>\n      <th>2872</th>\n      <td>2881</td>\n      <td>1.290221e+05</td>\n      <td>1</td>\n      <td>1</td>\n      <td>POLYGON ((56.41638 58.15545, 56.41639 58.15545...</td>\n    </tr>\n    <tr>\n      <th>2873</th>\n      <td>2883</td>\n      <td>1.227687e+05</td>\n      <td>1</td>\n      <td>1</td>\n      <td>POLYGON ((56.53509 58.13568, 56.53508 58.13569...</td>\n    </tr>\n    <tr>\n      <th>2874</th>\n      <td>2884</td>\n      <td>2.572212e+03</td>\n      <td>1</td>\n      <td>1</td>\n      <td>POLYGON ((56.51985 58.14921, 56.51985 58.14923...</td>\n    </tr>\n    <tr>\n      <th>2875</th>\n      <td>3000</td>\n      <td>3.550764e+06</td>\n      <td>6</td>\n      <td>1</td>\n      <td>POLYGON ((56.31847 58.03896, 56.31846 58.03897...</td>\n    </tr>\n  </tbody>\n</table>\n<p>2876 rows × 5 columns</p>\n</div>"
     },
     "execution_count": 2,
     "metadata": {},
     "output_type": "execute_result"
    }
   ],
   "source": [
    "blocks = gpd.read_file(\"data/blocks.geojson\")\n",
    "blocks"
   ],
   "metadata": {
    "collapsed": false,
    "ExecuteTime": {
     "end_time": "2023-12-24T20:39:51.595186100Z",
     "start_time": "2023-12-24T20:39:46.859042200Z"
    }
   },
   "id": "41457a3716840996"
  },
  {
   "cell_type": "code",
   "execution_count": 34,
   "outputs": [
    {
     "name": "stderr",
     "output_type": "stream",
     "text": [
      "C:\\Users\\sm_pa\\AppData\\Local\\Programs\\Python\\Python39\\lib\\site-packages\\IPython\\core\\interactiveshell.py:3490: FutureWarning: The `op` parameter is deprecated and will be removed in a future release. Please use the `predicate` parameter instead.\n",
      "  if await self.run_code(code, result, async_=asy):\n"
     ]
    },
    {
     "data": {
      "text/plain": "        id          area  administrative_unit_id  municipality_id  \\\n0        1  1.224163e+06                       6                1   \n1        2  1.502047e+06                       6                1   \n2        3  3.110835e+05                       6                1   \n3        4  2.325404e+05                       6                1   \n4        5  2.935132e+05                       6                1   \n...    ...           ...                     ...              ...   \n2871  2880  1.321830e+04                       2                1   \n2872  2881  1.290221e+05                       1                1   \n2873  2883  1.227687e+05                       1                1   \n2874  2884  2.572212e+03                       1                1   \n2875  3000  3.550764e+06                       6                1   \n\n                                               geometry  index_right  \\\n0     POLYGON ((56.34764 58.03500, 56.34762 58.03500...          NaN   \n1     POLYGON ((56.36000 58.03485, 56.35999 58.03486...          NaN   \n2     POLYGON ((56.36956 58.03529, 56.36956 58.03528...          NaN   \n3     POLYGON ((56.37105 58.03543, 56.37104 58.03542...          NaN   \n4     POLYGON ((56.37142 58.03544, 56.37140 58.03544...          NaN   \n...                                                 ...          ...   \n2871  POLYGON ((56.15604 57.88224, 56.15602 57.88224...         22.0   \n2872  POLYGON ((56.41638 58.15545, 56.41639 58.15545...          NaN   \n2873  POLYGON ((56.53509 58.13568, 56.53508 58.13569...          NaN   \n2874  POLYGON ((56.51985 58.14921, 56.51985 58.14923...          NaN   \n2875  POLYGON ((56.31847 58.03896, 56.31846 58.03897...         41.0   \n\n        full_id    osm_id  osm_type     landuse  ... name:en alt_name access  \\\n0           NaN       NaN       NaN         NaN  ...     NaN      NaN    NaN   \n1           NaN       NaN       NaN         NaN  ...     NaN      NaN    NaN   \n2           NaN       NaN       NaN         NaN  ...     NaN      NaN    NaN   \n3           NaN       NaN       NaN         NaN  ...     NaN      NaN    NaN   \n4           NaN       NaN       NaN         NaN  ...     NaN      NaN    NaN   \n...         ...       ...       ...         ...  ...     ...      ...    ...   \n2871   r4669319   4669319  relation  industrial  ...    None     None   None   \n2872        NaN       NaN       NaN         NaN  ...     NaN      NaN    NaN   \n2873        NaN       NaN       NaN         NaN  ...     NaN      NaN    NaN   \n2874        NaN       NaN       NaN         NaN  ...     NaN      NaN    NaN   \n2875  w28240234  28240234       way  industrial  ...    None     None   None   \n\n     barrier      industrial depot         addr:street addr:housenumber  \\\n0        NaN             NaN   NaN                 NaN              NaN   \n1        NaN             NaN   NaN                 NaN              NaN   \n2        NaN             NaN   NaN                 NaN              NaN   \n3        NaN             NaN   NaN                 NaN              NaN   \n4        NaN             NaN   NaN                 NaN              NaN   \n...      ...             ...   ...                 ...              ...   \n2871    None  petrochemicals  None  Промышленная улица               96   \n2872     NaN             NaN   NaN                 NaN              NaN   \n2873     NaN             NaN   NaN                 NaN              NaN   \n2874     NaN             NaN   NaN                 NaN              NaN   \n2875   fence            None  None                None             None   \n\n                                name          type  \n0                                NaN           NaN  \n1                                NaN           NaN  \n2                                NaN           NaN  \n3                                NaN           NaN  \n4                                NaN           NaN  \n...                              ...           ...  \n2871  Филиал «ПМУ» АО «ОХК «Уралхим»  multipolygon  \n2872                             NaN           NaN  \n2873                             NaN           NaN  \n2874                             NaN           NaN  \n2875                   Хлебозавод №7          None  \n\n[3107 rows x 61 columns]",
      "text/html": "<div>\n<style scoped>\n    .dataframe tbody tr th:only-of-type {\n        vertical-align: middle;\n    }\n\n    .dataframe tbody tr th {\n        vertical-align: top;\n    }\n\n    .dataframe thead th {\n        text-align: right;\n    }\n</style>\n<table border=\"1\" class=\"dataframe\">\n  <thead>\n    <tr style=\"text-align: right;\">\n      <th></th>\n      <th>id</th>\n      <th>area</th>\n      <th>administrative_unit_id</th>\n      <th>municipality_id</th>\n      <th>geometry</th>\n      <th>index_right</th>\n      <th>full_id</th>\n      <th>osm_id</th>\n      <th>osm_type</th>\n      <th>landuse</th>\n      <th>...</th>\n      <th>name:en</th>\n      <th>alt_name</th>\n      <th>access</th>\n      <th>barrier</th>\n      <th>industrial</th>\n      <th>depot</th>\n      <th>addr:street</th>\n      <th>addr:housenumber</th>\n      <th>name</th>\n      <th>type</th>\n    </tr>\n  </thead>\n  <tbody>\n    <tr>\n      <th>0</th>\n      <td>1</td>\n      <td>1.224163e+06</td>\n      <td>6</td>\n      <td>1</td>\n      <td>POLYGON ((56.34764 58.03500, 56.34762 58.03500...</td>\n      <td>NaN</td>\n      <td>NaN</td>\n      <td>NaN</td>\n      <td>NaN</td>\n      <td>NaN</td>\n      <td>...</td>\n      <td>NaN</td>\n      <td>NaN</td>\n      <td>NaN</td>\n      <td>NaN</td>\n      <td>NaN</td>\n      <td>NaN</td>\n      <td>NaN</td>\n      <td>NaN</td>\n      <td>NaN</td>\n      <td>NaN</td>\n    </tr>\n    <tr>\n      <th>1</th>\n      <td>2</td>\n      <td>1.502047e+06</td>\n      <td>6</td>\n      <td>1</td>\n      <td>POLYGON ((56.36000 58.03485, 56.35999 58.03486...</td>\n      <td>NaN</td>\n      <td>NaN</td>\n      <td>NaN</td>\n      <td>NaN</td>\n      <td>NaN</td>\n      <td>...</td>\n      <td>NaN</td>\n      <td>NaN</td>\n      <td>NaN</td>\n      <td>NaN</td>\n      <td>NaN</td>\n      <td>NaN</td>\n      <td>NaN</td>\n      <td>NaN</td>\n      <td>NaN</td>\n      <td>NaN</td>\n    </tr>\n    <tr>\n      <th>2</th>\n      <td>3</td>\n      <td>3.110835e+05</td>\n      <td>6</td>\n      <td>1</td>\n      <td>POLYGON ((56.36956 58.03529, 56.36956 58.03528...</td>\n      <td>NaN</td>\n      <td>NaN</td>\n      <td>NaN</td>\n      <td>NaN</td>\n      <td>NaN</td>\n      <td>...</td>\n      <td>NaN</td>\n      <td>NaN</td>\n      <td>NaN</td>\n      <td>NaN</td>\n      <td>NaN</td>\n      <td>NaN</td>\n      <td>NaN</td>\n      <td>NaN</td>\n      <td>NaN</td>\n      <td>NaN</td>\n    </tr>\n    <tr>\n      <th>3</th>\n      <td>4</td>\n      <td>2.325404e+05</td>\n      <td>6</td>\n      <td>1</td>\n      <td>POLYGON ((56.37105 58.03543, 56.37104 58.03542...</td>\n      <td>NaN</td>\n      <td>NaN</td>\n      <td>NaN</td>\n      <td>NaN</td>\n      <td>NaN</td>\n      <td>...</td>\n      <td>NaN</td>\n      <td>NaN</td>\n      <td>NaN</td>\n      <td>NaN</td>\n      <td>NaN</td>\n      <td>NaN</td>\n      <td>NaN</td>\n      <td>NaN</td>\n      <td>NaN</td>\n      <td>NaN</td>\n    </tr>\n    <tr>\n      <th>4</th>\n      <td>5</td>\n      <td>2.935132e+05</td>\n      <td>6</td>\n      <td>1</td>\n      <td>POLYGON ((56.37142 58.03544, 56.37140 58.03544...</td>\n      <td>NaN</td>\n      <td>NaN</td>\n      <td>NaN</td>\n      <td>NaN</td>\n      <td>NaN</td>\n      <td>...</td>\n      <td>NaN</td>\n      <td>NaN</td>\n      <td>NaN</td>\n      <td>NaN</td>\n      <td>NaN</td>\n      <td>NaN</td>\n      <td>NaN</td>\n      <td>NaN</td>\n      <td>NaN</td>\n      <td>NaN</td>\n    </tr>\n    <tr>\n      <th>...</th>\n      <td>...</td>\n      <td>...</td>\n      <td>...</td>\n      <td>...</td>\n      <td>...</td>\n      <td>...</td>\n      <td>...</td>\n      <td>...</td>\n      <td>...</td>\n      <td>...</td>\n      <td>...</td>\n      <td>...</td>\n      <td>...</td>\n      <td>...</td>\n      <td>...</td>\n      <td>...</td>\n      <td>...</td>\n      <td>...</td>\n      <td>...</td>\n      <td>...</td>\n      <td>...</td>\n    </tr>\n    <tr>\n      <th>2871</th>\n      <td>2880</td>\n      <td>1.321830e+04</td>\n      <td>2</td>\n      <td>1</td>\n      <td>POLYGON ((56.15604 57.88224, 56.15602 57.88224...</td>\n      <td>22.0</td>\n      <td>r4669319</td>\n      <td>4669319</td>\n      <td>relation</td>\n      <td>industrial</td>\n      <td>...</td>\n      <td>None</td>\n      <td>None</td>\n      <td>None</td>\n      <td>None</td>\n      <td>petrochemicals</td>\n      <td>None</td>\n      <td>Промышленная улица</td>\n      <td>96</td>\n      <td>Филиал «ПМУ» АО «ОХК «Уралхим»</td>\n      <td>multipolygon</td>\n    </tr>\n    <tr>\n      <th>2872</th>\n      <td>2881</td>\n      <td>1.290221e+05</td>\n      <td>1</td>\n      <td>1</td>\n      <td>POLYGON ((56.41638 58.15545, 56.41639 58.15545...</td>\n      <td>NaN</td>\n      <td>NaN</td>\n      <td>NaN</td>\n      <td>NaN</td>\n      <td>NaN</td>\n      <td>...</td>\n      <td>NaN</td>\n      <td>NaN</td>\n      <td>NaN</td>\n      <td>NaN</td>\n      <td>NaN</td>\n      <td>NaN</td>\n      <td>NaN</td>\n      <td>NaN</td>\n      <td>NaN</td>\n      <td>NaN</td>\n    </tr>\n    <tr>\n      <th>2873</th>\n      <td>2883</td>\n      <td>1.227687e+05</td>\n      <td>1</td>\n      <td>1</td>\n      <td>POLYGON ((56.53509 58.13568, 56.53508 58.13569...</td>\n      <td>NaN</td>\n      <td>NaN</td>\n      <td>NaN</td>\n      <td>NaN</td>\n      <td>NaN</td>\n      <td>...</td>\n      <td>NaN</td>\n      <td>NaN</td>\n      <td>NaN</td>\n      <td>NaN</td>\n      <td>NaN</td>\n      <td>NaN</td>\n      <td>NaN</td>\n      <td>NaN</td>\n      <td>NaN</td>\n      <td>NaN</td>\n    </tr>\n    <tr>\n      <th>2874</th>\n      <td>2884</td>\n      <td>2.572212e+03</td>\n      <td>1</td>\n      <td>1</td>\n      <td>POLYGON ((56.51985 58.14921, 56.51985 58.14923...</td>\n      <td>NaN</td>\n      <td>NaN</td>\n      <td>NaN</td>\n      <td>NaN</td>\n      <td>NaN</td>\n      <td>...</td>\n      <td>NaN</td>\n      <td>NaN</td>\n      <td>NaN</td>\n      <td>NaN</td>\n      <td>NaN</td>\n      <td>NaN</td>\n      <td>NaN</td>\n      <td>NaN</td>\n      <td>NaN</td>\n      <td>NaN</td>\n    </tr>\n    <tr>\n      <th>2875</th>\n      <td>3000</td>\n      <td>3.550764e+06</td>\n      <td>6</td>\n      <td>1</td>\n      <td>POLYGON ((56.31847 58.03896, 56.31846 58.03897...</td>\n      <td>41.0</td>\n      <td>w28240234</td>\n      <td>28240234</td>\n      <td>way</td>\n      <td>industrial</td>\n      <td>...</td>\n      <td>None</td>\n      <td>None</td>\n      <td>None</td>\n      <td>fence</td>\n      <td>None</td>\n      <td>None</td>\n      <td>None</td>\n      <td>None</td>\n      <td>Хлебозавод №7</td>\n      <td>None</td>\n    </tr>\n  </tbody>\n</table>\n<p>3107 rows × 61 columns</p>\n</div>"
     },
     "execution_count": 34,
     "metadata": {},
     "output_type": "execute_result"
    }
   ],
   "source": [
    "# определяем кварталы, пересекающиеся с промзонами\n",
    "industrial_zone = gpd.read_file(\"data/landuse_industrial.geojson\")\n",
    "result = gpd.sjoin(blocks, industrial_zone, how=\"left\", op='intersects')\n",
    "result"
   ],
   "metadata": {
    "collapsed": false,
    "ExecuteTime": {
     "end_time": "2023-12-24T21:22:23.304485600Z",
     "start_time": "2023-12-24T21:22:22.409749800Z"
    }
   },
   "id": "cccb54fc040d4209"
  },
  {
   "cell_type": "code",
   "execution_count": 35,
   "outputs": [
    {
     "data": {
      "text/plain": "        id          area  administrative_unit_id  municipality_id  \\\n0        1  1.224163e+06                       6                1   \n1        2  1.502047e+06                       6                1   \n2        3  3.110835e+05                       6                1   \n3        4  2.325404e+05                       6                1   \n4        5  2.935132e+05                       6                1   \n...    ...           ...                     ...              ...   \n2871  2880  1.321830e+04                       2                1   \n2872  2881  1.290221e+05                       1                1   \n2873  2883  1.227687e+05                       1                1   \n2874  2884  2.572212e+03                       1                1   \n2875  3000  3.550764e+06                       6                1   \n\n                                               geometry  index_right  \\\n0     POLYGON ((56.34764 58.03500, 56.34762 58.03500...          NaN   \n1     POLYGON ((56.36000 58.03485, 56.35999 58.03486...          NaN   \n2     POLYGON ((56.36956 58.03529, 56.36956 58.03528...          NaN   \n3     POLYGON ((56.37105 58.03543, 56.37104 58.03542...          NaN   \n4     POLYGON ((56.37142 58.03544, 56.37140 58.03544...          NaN   \n...                                                 ...          ...   \n2871  POLYGON ((56.15604 57.88224, 56.15602 57.88224...         22.0   \n2872  POLYGON ((56.41638 58.15545, 56.41639 58.15545...          NaN   \n2873  POLYGON ((56.53509 58.13568, 56.53508 58.13569...          NaN   \n2874  POLYGON ((56.51985 58.14921, 56.51985 58.14923...          NaN   \n2875  POLYGON ((56.31847 58.03896, 56.31846 58.03897...         41.0   \n\n        full_id    osm_id  osm_type     landuse  ... name:en alt_name access  \\\n0           NaN       NaN       NaN              ...     NaN      NaN    NaN   \n1           NaN       NaN       NaN              ...     NaN      NaN    NaN   \n2           NaN       NaN       NaN              ...     NaN      NaN    NaN   \n3           NaN       NaN       NaN              ...     NaN      NaN    NaN   \n4           NaN       NaN       NaN              ...     NaN      NaN    NaN   \n...         ...       ...       ...         ...  ...     ...      ...    ...   \n2871   r4669319   4669319  relation  industrial  ...    None     None   None   \n2872        NaN       NaN       NaN              ...     NaN      NaN    NaN   \n2873        NaN       NaN       NaN              ...     NaN      NaN    NaN   \n2874        NaN       NaN       NaN              ...     NaN      NaN    NaN   \n2875  w28240234  28240234       way  industrial  ...    None     None   None   \n\n     barrier      industrial depot         addr:street addr:housenumber  \\\n0        NaN             NaN   NaN                 NaN              NaN   \n1        NaN             NaN   NaN                 NaN              NaN   \n2        NaN             NaN   NaN                 NaN              NaN   \n3        NaN             NaN   NaN                 NaN              NaN   \n4        NaN             NaN   NaN                 NaN              NaN   \n...      ...             ...   ...                 ...              ...   \n2871    None  petrochemicals  None  Промышленная улица               96   \n2872     NaN             NaN   NaN                 NaN              NaN   \n2873     NaN             NaN   NaN                 NaN              NaN   \n2874     NaN             NaN   NaN                 NaN              NaN   \n2875   fence            None  None                None             None   \n\n                                name          type  \n0                                NaN           NaN  \n1                                NaN           NaN  \n2                                NaN           NaN  \n3                                NaN           NaN  \n4                                NaN           NaN  \n...                              ...           ...  \n2871  Филиал «ПМУ» АО «ОХК «Уралхим»  multipolygon  \n2872                             NaN           NaN  \n2873                             NaN           NaN  \n2874                             NaN           NaN  \n2875                   Хлебозавод №7          None  \n\n[3107 rows x 61 columns]",
      "text/html": "<div>\n<style scoped>\n    .dataframe tbody tr th:only-of-type {\n        vertical-align: middle;\n    }\n\n    .dataframe tbody tr th {\n        vertical-align: top;\n    }\n\n    .dataframe thead th {\n        text-align: right;\n    }\n</style>\n<table border=\"1\" class=\"dataframe\">\n  <thead>\n    <tr style=\"text-align: right;\">\n      <th></th>\n      <th>id</th>\n      <th>area</th>\n      <th>administrative_unit_id</th>\n      <th>municipality_id</th>\n      <th>geometry</th>\n      <th>index_right</th>\n      <th>full_id</th>\n      <th>osm_id</th>\n      <th>osm_type</th>\n      <th>landuse</th>\n      <th>...</th>\n      <th>name:en</th>\n      <th>alt_name</th>\n      <th>access</th>\n      <th>barrier</th>\n      <th>industrial</th>\n      <th>depot</th>\n      <th>addr:street</th>\n      <th>addr:housenumber</th>\n      <th>name</th>\n      <th>type</th>\n    </tr>\n  </thead>\n  <tbody>\n    <tr>\n      <th>0</th>\n      <td>1</td>\n      <td>1.224163e+06</td>\n      <td>6</td>\n      <td>1</td>\n      <td>POLYGON ((56.34764 58.03500, 56.34762 58.03500...</td>\n      <td>NaN</td>\n      <td>NaN</td>\n      <td>NaN</td>\n      <td>NaN</td>\n      <td></td>\n      <td>...</td>\n      <td>NaN</td>\n      <td>NaN</td>\n      <td>NaN</td>\n      <td>NaN</td>\n      <td>NaN</td>\n      <td>NaN</td>\n      <td>NaN</td>\n      <td>NaN</td>\n      <td>NaN</td>\n      <td>NaN</td>\n    </tr>\n    <tr>\n      <th>1</th>\n      <td>2</td>\n      <td>1.502047e+06</td>\n      <td>6</td>\n      <td>1</td>\n      <td>POLYGON ((56.36000 58.03485, 56.35999 58.03486...</td>\n      <td>NaN</td>\n      <td>NaN</td>\n      <td>NaN</td>\n      <td>NaN</td>\n      <td></td>\n      <td>...</td>\n      <td>NaN</td>\n      <td>NaN</td>\n      <td>NaN</td>\n      <td>NaN</td>\n      <td>NaN</td>\n      <td>NaN</td>\n      <td>NaN</td>\n      <td>NaN</td>\n      <td>NaN</td>\n      <td>NaN</td>\n    </tr>\n    <tr>\n      <th>2</th>\n      <td>3</td>\n      <td>3.110835e+05</td>\n      <td>6</td>\n      <td>1</td>\n      <td>POLYGON ((56.36956 58.03529, 56.36956 58.03528...</td>\n      <td>NaN</td>\n      <td>NaN</td>\n      <td>NaN</td>\n      <td>NaN</td>\n      <td></td>\n      <td>...</td>\n      <td>NaN</td>\n      <td>NaN</td>\n      <td>NaN</td>\n      <td>NaN</td>\n      <td>NaN</td>\n      <td>NaN</td>\n      <td>NaN</td>\n      <td>NaN</td>\n      <td>NaN</td>\n      <td>NaN</td>\n    </tr>\n    <tr>\n      <th>3</th>\n      <td>4</td>\n      <td>2.325404e+05</td>\n      <td>6</td>\n      <td>1</td>\n      <td>POLYGON ((56.37105 58.03543, 56.37104 58.03542...</td>\n      <td>NaN</td>\n      <td>NaN</td>\n      <td>NaN</td>\n      <td>NaN</td>\n      <td></td>\n      <td>...</td>\n      <td>NaN</td>\n      <td>NaN</td>\n      <td>NaN</td>\n      <td>NaN</td>\n      <td>NaN</td>\n      <td>NaN</td>\n      <td>NaN</td>\n      <td>NaN</td>\n      <td>NaN</td>\n      <td>NaN</td>\n    </tr>\n    <tr>\n      <th>4</th>\n      <td>5</td>\n      <td>2.935132e+05</td>\n      <td>6</td>\n      <td>1</td>\n      <td>POLYGON ((56.37142 58.03544, 56.37140 58.03544...</td>\n      <td>NaN</td>\n      <td>NaN</td>\n      <td>NaN</td>\n      <td>NaN</td>\n      <td></td>\n      <td>...</td>\n      <td>NaN</td>\n      <td>NaN</td>\n      <td>NaN</td>\n      <td>NaN</td>\n      <td>NaN</td>\n      <td>NaN</td>\n      <td>NaN</td>\n      <td>NaN</td>\n      <td>NaN</td>\n      <td>NaN</td>\n    </tr>\n    <tr>\n      <th>...</th>\n      <td>...</td>\n      <td>...</td>\n      <td>...</td>\n      <td>...</td>\n      <td>...</td>\n      <td>...</td>\n      <td>...</td>\n      <td>...</td>\n      <td>...</td>\n      <td>...</td>\n      <td>...</td>\n      <td>...</td>\n      <td>...</td>\n      <td>...</td>\n      <td>...</td>\n      <td>...</td>\n      <td>...</td>\n      <td>...</td>\n      <td>...</td>\n      <td>...</td>\n      <td>...</td>\n    </tr>\n    <tr>\n      <th>2871</th>\n      <td>2880</td>\n      <td>1.321830e+04</td>\n      <td>2</td>\n      <td>1</td>\n      <td>POLYGON ((56.15604 57.88224, 56.15602 57.88224...</td>\n      <td>22.0</td>\n      <td>r4669319</td>\n      <td>4669319</td>\n      <td>relation</td>\n      <td>industrial</td>\n      <td>...</td>\n      <td>None</td>\n      <td>None</td>\n      <td>None</td>\n      <td>None</td>\n      <td>petrochemicals</td>\n      <td>None</td>\n      <td>Промышленная улица</td>\n      <td>96</td>\n      <td>Филиал «ПМУ» АО «ОХК «Уралхим»</td>\n      <td>multipolygon</td>\n    </tr>\n    <tr>\n      <th>2872</th>\n      <td>2881</td>\n      <td>1.290221e+05</td>\n      <td>1</td>\n      <td>1</td>\n      <td>POLYGON ((56.41638 58.15545, 56.41639 58.15545...</td>\n      <td>NaN</td>\n      <td>NaN</td>\n      <td>NaN</td>\n      <td>NaN</td>\n      <td></td>\n      <td>...</td>\n      <td>NaN</td>\n      <td>NaN</td>\n      <td>NaN</td>\n      <td>NaN</td>\n      <td>NaN</td>\n      <td>NaN</td>\n      <td>NaN</td>\n      <td>NaN</td>\n      <td>NaN</td>\n      <td>NaN</td>\n    </tr>\n    <tr>\n      <th>2873</th>\n      <td>2883</td>\n      <td>1.227687e+05</td>\n      <td>1</td>\n      <td>1</td>\n      <td>POLYGON ((56.53509 58.13568, 56.53508 58.13569...</td>\n      <td>NaN</td>\n      <td>NaN</td>\n      <td>NaN</td>\n      <td>NaN</td>\n      <td></td>\n      <td>...</td>\n      <td>NaN</td>\n      <td>NaN</td>\n      <td>NaN</td>\n      <td>NaN</td>\n      <td>NaN</td>\n      <td>NaN</td>\n      <td>NaN</td>\n      <td>NaN</td>\n      <td>NaN</td>\n      <td>NaN</td>\n    </tr>\n    <tr>\n      <th>2874</th>\n      <td>2884</td>\n      <td>2.572212e+03</td>\n      <td>1</td>\n      <td>1</td>\n      <td>POLYGON ((56.51985 58.14921, 56.51985 58.14923...</td>\n      <td>NaN</td>\n      <td>NaN</td>\n      <td>NaN</td>\n      <td>NaN</td>\n      <td></td>\n      <td>...</td>\n      <td>NaN</td>\n      <td>NaN</td>\n      <td>NaN</td>\n      <td>NaN</td>\n      <td>NaN</td>\n      <td>NaN</td>\n      <td>NaN</td>\n      <td>NaN</td>\n      <td>NaN</td>\n      <td>NaN</td>\n    </tr>\n    <tr>\n      <th>2875</th>\n      <td>3000</td>\n      <td>3.550764e+06</td>\n      <td>6</td>\n      <td>1</td>\n      <td>POLYGON ((56.31847 58.03896, 56.31846 58.03897...</td>\n      <td>41.0</td>\n      <td>w28240234</td>\n      <td>28240234</td>\n      <td>way</td>\n      <td>industrial</td>\n      <td>...</td>\n      <td>None</td>\n      <td>None</td>\n      <td>None</td>\n      <td>fence</td>\n      <td>None</td>\n      <td>None</td>\n      <td>None</td>\n      <td>None</td>\n      <td>Хлебозавод №7</td>\n      <td>None</td>\n    </tr>\n  </tbody>\n</table>\n<p>3107 rows × 61 columns</p>\n</div>"
     },
     "execution_count": 35,
     "metadata": {},
     "output_type": "execute_result"
    }
   ],
   "source": [
    "result['landuse'] = ''\n",
    "result.loc[~result['index_right'].isna(), 'landuse'] = 'industrial'\n",
    "result"
   ],
   "metadata": {
    "collapsed": false,
    "ExecuteTime": {
     "end_time": "2023-12-24T21:22:26.636232300Z",
     "start_time": "2023-12-24T21:22:26.557647100Z"
    }
   },
   "id": "10e4fc4e52c7b11"
  },
  {
   "cell_type": "code",
   "execution_count": 36,
   "outputs": [
    {
     "data": {
      "text/plain": "        id          area                                           geometry  \\\n0        1  1.224163e+06  POLYGON ((56.34764 58.03500, 56.34762 58.03500...   \n1        2  1.502047e+06  POLYGON ((56.36000 58.03485, 56.35999 58.03486...   \n2        3  3.110835e+05  POLYGON ((56.36956 58.03529, 56.36956 58.03528...   \n3        4  2.325404e+05  POLYGON ((56.37105 58.03543, 56.37104 58.03542...   \n4        5  2.935132e+05  POLYGON ((56.37142 58.03544, 56.37140 58.03544...   \n...    ...           ...                                                ...   \n2871  2880  1.321830e+04  POLYGON ((56.15604 57.88224, 56.15602 57.88224...   \n2872  2881  1.290221e+05  POLYGON ((56.41638 58.15545, 56.41639 58.15545...   \n2873  2883  1.227687e+05  POLYGON ((56.53509 58.13568, 56.53508 58.13569...   \n2874  2884  2.572212e+03  POLYGON ((56.51985 58.14921, 56.51985 58.14923...   \n2875  3000  3.550764e+06  POLYGON ((56.31847 58.03896, 56.31846 58.03897...   \n\n         landuse  \n0                 \n1                 \n2                 \n3                 \n4                 \n...          ...  \n2871  industrial  \n2872              \n2873              \n2874              \n2875  industrial  \n\n[3107 rows x 4 columns]",
      "text/html": "<div>\n<style scoped>\n    .dataframe tbody tr th:only-of-type {\n        vertical-align: middle;\n    }\n\n    .dataframe tbody tr th {\n        vertical-align: top;\n    }\n\n    .dataframe thead th {\n        text-align: right;\n    }\n</style>\n<table border=\"1\" class=\"dataframe\">\n  <thead>\n    <tr style=\"text-align: right;\">\n      <th></th>\n      <th>id</th>\n      <th>area</th>\n      <th>geometry</th>\n      <th>landuse</th>\n    </tr>\n  </thead>\n  <tbody>\n    <tr>\n      <th>0</th>\n      <td>1</td>\n      <td>1.224163e+06</td>\n      <td>POLYGON ((56.34764 58.03500, 56.34762 58.03500...</td>\n      <td></td>\n    </tr>\n    <tr>\n      <th>1</th>\n      <td>2</td>\n      <td>1.502047e+06</td>\n      <td>POLYGON ((56.36000 58.03485, 56.35999 58.03486...</td>\n      <td></td>\n    </tr>\n    <tr>\n      <th>2</th>\n      <td>3</td>\n      <td>3.110835e+05</td>\n      <td>POLYGON ((56.36956 58.03529, 56.36956 58.03528...</td>\n      <td></td>\n    </tr>\n    <tr>\n      <th>3</th>\n      <td>4</td>\n      <td>2.325404e+05</td>\n      <td>POLYGON ((56.37105 58.03543, 56.37104 58.03542...</td>\n      <td></td>\n    </tr>\n    <tr>\n      <th>4</th>\n      <td>5</td>\n      <td>2.935132e+05</td>\n      <td>POLYGON ((56.37142 58.03544, 56.37140 58.03544...</td>\n      <td></td>\n    </tr>\n    <tr>\n      <th>...</th>\n      <td>...</td>\n      <td>...</td>\n      <td>...</td>\n      <td>...</td>\n    </tr>\n    <tr>\n      <th>2871</th>\n      <td>2880</td>\n      <td>1.321830e+04</td>\n      <td>POLYGON ((56.15604 57.88224, 56.15602 57.88224...</td>\n      <td>industrial</td>\n    </tr>\n    <tr>\n      <th>2872</th>\n      <td>2881</td>\n      <td>1.290221e+05</td>\n      <td>POLYGON ((56.41638 58.15545, 56.41639 58.15545...</td>\n      <td></td>\n    </tr>\n    <tr>\n      <th>2873</th>\n      <td>2883</td>\n      <td>1.227687e+05</td>\n      <td>POLYGON ((56.53509 58.13568, 56.53508 58.13569...</td>\n      <td></td>\n    </tr>\n    <tr>\n      <th>2874</th>\n      <td>2884</td>\n      <td>2.572212e+03</td>\n      <td>POLYGON ((56.51985 58.14921, 56.51985 58.14923...</td>\n      <td></td>\n    </tr>\n    <tr>\n      <th>2875</th>\n      <td>3000</td>\n      <td>3.550764e+06</td>\n      <td>POLYGON ((56.31847 58.03896, 56.31846 58.03897...</td>\n      <td>industrial</td>\n    </tr>\n  </tbody>\n</table>\n<p>3107 rows × 4 columns</p>\n</div>"
     },
     "execution_count": 36,
     "metadata": {},
     "output_type": "execute_result"
    }
   ],
   "source": [
    "result = result[['id', 'area', 'geometry', 'landuse']]\n",
    "result"
   ],
   "metadata": {
    "collapsed": false,
    "ExecuteTime": {
     "end_time": "2023-12-24T21:22:29.652191500Z",
     "start_time": "2023-12-24T21:22:29.573533600Z"
    }
   },
   "id": "69239d97db8f995a"
  },
  {
   "cell_type": "code",
   "execution_count": 37,
   "outputs": [
    {
     "data": {
      "text/plain": "        id          area                                           geometry  \\\n0        1  1.224163e+06  POLYGON ((56.34764 58.03500, 56.34762 58.03500...   \n1        2  1.502047e+06  POLYGON ((56.36000 58.03485, 56.35999 58.03486...   \n2        3  3.110835e+05  POLYGON ((56.36956 58.03529, 56.36956 58.03528...   \n3        4  2.325404e+05  POLYGON ((56.37105 58.03543, 56.37104 58.03542...   \n4        5  2.935132e+05  POLYGON ((56.37142 58.03544, 56.37140 58.03544...   \n...    ...           ...                                                ...   \n2871  2880  1.321830e+04  POLYGON ((56.15604 57.88224, 56.15602 57.88224...   \n2872  2881  1.290221e+05  POLYGON ((56.41638 58.15545, 56.41639 58.15545...   \n2873  2883  1.227687e+05  POLYGON ((56.53509 58.13568, 56.53508 58.13569...   \n2874  2884  2.572212e+03  POLYGON ((56.51985 58.14921, 56.51985 58.14923...   \n2875  3000  3.550764e+06  POLYGON ((56.31847 58.03896, 56.31846 58.03897...   \n\n         landuse  \n0                 \n1                 \n2                 \n3                 \n4                 \n...          ...  \n2871  industrial  \n2872              \n2873              \n2874              \n2875  industrial  \n\n[2876 rows x 4 columns]",
      "text/html": "<div>\n<style scoped>\n    .dataframe tbody tr th:only-of-type {\n        vertical-align: middle;\n    }\n\n    .dataframe tbody tr th {\n        vertical-align: top;\n    }\n\n    .dataframe thead th {\n        text-align: right;\n    }\n</style>\n<table border=\"1\" class=\"dataframe\">\n  <thead>\n    <tr style=\"text-align: right;\">\n      <th></th>\n      <th>id</th>\n      <th>area</th>\n      <th>geometry</th>\n      <th>landuse</th>\n    </tr>\n  </thead>\n  <tbody>\n    <tr>\n      <th>0</th>\n      <td>1</td>\n      <td>1.224163e+06</td>\n      <td>POLYGON ((56.34764 58.03500, 56.34762 58.03500...</td>\n      <td></td>\n    </tr>\n    <tr>\n      <th>1</th>\n      <td>2</td>\n      <td>1.502047e+06</td>\n      <td>POLYGON ((56.36000 58.03485, 56.35999 58.03486...</td>\n      <td></td>\n    </tr>\n    <tr>\n      <th>2</th>\n      <td>3</td>\n      <td>3.110835e+05</td>\n      <td>POLYGON ((56.36956 58.03529, 56.36956 58.03528...</td>\n      <td></td>\n    </tr>\n    <tr>\n      <th>3</th>\n      <td>4</td>\n      <td>2.325404e+05</td>\n      <td>POLYGON ((56.37105 58.03543, 56.37104 58.03542...</td>\n      <td></td>\n    </tr>\n    <tr>\n      <th>4</th>\n      <td>5</td>\n      <td>2.935132e+05</td>\n      <td>POLYGON ((56.37142 58.03544, 56.37140 58.03544...</td>\n      <td></td>\n    </tr>\n    <tr>\n      <th>...</th>\n      <td>...</td>\n      <td>...</td>\n      <td>...</td>\n      <td>...</td>\n    </tr>\n    <tr>\n      <th>2871</th>\n      <td>2880</td>\n      <td>1.321830e+04</td>\n      <td>POLYGON ((56.15604 57.88224, 56.15602 57.88224...</td>\n      <td>industrial</td>\n    </tr>\n    <tr>\n      <th>2872</th>\n      <td>2881</td>\n      <td>1.290221e+05</td>\n      <td>POLYGON ((56.41638 58.15545, 56.41639 58.15545...</td>\n      <td></td>\n    </tr>\n    <tr>\n      <th>2873</th>\n      <td>2883</td>\n      <td>1.227687e+05</td>\n      <td>POLYGON ((56.53509 58.13568, 56.53508 58.13569...</td>\n      <td></td>\n    </tr>\n    <tr>\n      <th>2874</th>\n      <td>2884</td>\n      <td>2.572212e+03</td>\n      <td>POLYGON ((56.51985 58.14921, 56.51985 58.14923...</td>\n      <td></td>\n    </tr>\n    <tr>\n      <th>2875</th>\n      <td>3000</td>\n      <td>3.550764e+06</td>\n      <td>POLYGON ((56.31847 58.03896, 56.31846 58.03897...</td>\n      <td>industrial</td>\n    </tr>\n  </tbody>\n</table>\n<p>2876 rows × 4 columns</p>\n</div>"
     },
     "execution_count": 37,
     "metadata": {},
     "output_type": "execute_result"
    }
   ],
   "source": [
    "result = result.drop_duplicates(subset=['id'])\n",
    "result"
   ],
   "metadata": {
    "collapsed": false,
    "ExecuteTime": {
     "end_time": "2023-12-24T21:22:33.442530Z",
     "start_time": "2023-12-24T21:22:33.362650500Z"
    }
   },
   "id": "107d360fb38e0073"
  },
  {
   "cell_type": "code",
   "execution_count": 38,
   "outputs": [
    {
     "data": {
      "text/plain": "159"
     },
     "execution_count": 38,
     "metadata": {},
     "output_type": "execute_result"
    }
   ],
   "source": [
    "(result['landuse'] == 'industrial').sum()"
   ],
   "metadata": {
    "collapsed": false,
    "ExecuteTime": {
     "end_time": "2023-12-24T21:22:36.897752200Z",
     "start_time": "2023-12-24T21:22:36.866460200Z"
    }
   },
   "id": "d55d1725c8ade646"
  },
  {
   "cell_type": "code",
   "execution_count": 39,
   "outputs": [
    {
     "name": "stderr",
     "output_type": "stream",
     "text": [
      "C:\\Users\\sm_pa\\AppData\\Local\\Programs\\Python\\Python39\\lib\\site-packages\\IPython\\core\\interactiveshell.py:3490: FutureWarning: The `op` parameter is deprecated and will be removed in a future release. Please use the `predicate` parameter instead.\n",
      "  if await self.run_code(code, result, async_=asy):\n"
     ]
    },
    {
     "data": {
      "text/plain": "        id          area                                           geometry  \\\n0        1  1.224163e+06  POLYGON ((56.34764 58.03500, 56.34762 58.03500...   \n1        2  1.502047e+06  POLYGON ((56.36000 58.03485, 56.35999 58.03486...   \n2        3  3.110835e+05  POLYGON ((56.36956 58.03529, 56.36956 58.03528...   \n3        4  2.325404e+05  POLYGON ((56.37105 58.03543, 56.37104 58.03542...   \n4        5  2.935132e+05  POLYGON ((56.37142 58.03544, 56.37140 58.03544...   \n...    ...           ...                                                ...   \n2871  2880  1.321830e+04  POLYGON ((56.15604 57.88224, 56.15602 57.88224...   \n2872  2881  1.290221e+05  POLYGON ((56.41638 58.15545, 56.41639 58.15545...   \n2873  2883  1.227687e+05  POLYGON ((56.53509 58.13568, 56.53508 58.13569...   \n2874  2884  2.572212e+03  POLYGON ((56.51985 58.14921, 56.51985 58.14923...   \n2875  3000  3.550764e+06  POLYGON ((56.31847 58.03896, 56.31846 58.03897...   \n\n     landuse_left  index_right    full_id    osm_id  osm_type landuse_right  \\\n0                         17.0  r13601592  13601592  relation    commercial   \n1                          NaN        NaN       NaN       NaN           NaN   \n2                          NaN        NaN       NaN       NaN           NaN   \n3                          NaN        NaN       NaN       NaN           NaN   \n4                          NaN        NaN       NaN       NaN           NaN   \n...           ...          ...        ...       ...       ...           ...   \n2871   industrial          NaN        NaN       NaN       NaN           NaN   \n2872                       NaN        NaN       NaN       NaN           NaN   \n2873                       NaN        NaN       NaN       NaN           NaN   \n2874                       NaN        NaN       NaN       NaN           NaN   \n2875   industrial          NaN        NaN       NaN       NaN           NaN   \n\n     fence_type  ... loc_name description barrier addr:street addr:postcode  \\\n0          None  ...     None        None    None        None          None   \n1           NaN  ...      NaN         NaN     NaN         NaN           NaN   \n2           NaN  ...      NaN         NaN     NaN         NaN           NaN   \n3           NaN  ...      NaN         NaN     NaN         NaN           NaN   \n4           NaN  ...      NaN         NaN     NaN         NaN           NaN   \n...         ...  ...      ...         ...     ...         ...           ...   \n2871        NaN  ...      NaN         NaN     NaN         NaN           NaN   \n2872        NaN  ...      NaN         NaN     NaN         NaN           NaN   \n2873        NaN  ...      NaN         NaN     NaN         NaN           NaN   \n2874        NaN  ...      NaN         NaN     NaN         NaN           NaN   \n2875        NaN  ...      NaN         NaN     NaN         NaN           NaN   \n\n     addr:housenumber addr:city website  name          type  \n0                None      None    None  None  multipolygon  \n1                 NaN       NaN     NaN   NaN           NaN  \n2                 NaN       NaN     NaN   NaN           NaN  \n3                 NaN       NaN     NaN   NaN           NaN  \n4                 NaN       NaN     NaN   NaN           NaN  \n...               ...       ...     ...   ...           ...  \n2871              NaN       NaN     NaN   NaN           NaN  \n2872              NaN       NaN     NaN   NaN           NaN  \n2873              NaN       NaN     NaN   NaN           NaN  \n2874              NaN       NaN     NaN   NaN           NaN  \n2875              NaN       NaN     NaN   NaN           NaN  \n\n[2922 rows x 26 columns]",
      "text/html": "<div>\n<style scoped>\n    .dataframe tbody tr th:only-of-type {\n        vertical-align: middle;\n    }\n\n    .dataframe tbody tr th {\n        vertical-align: top;\n    }\n\n    .dataframe thead th {\n        text-align: right;\n    }\n</style>\n<table border=\"1\" class=\"dataframe\">\n  <thead>\n    <tr style=\"text-align: right;\">\n      <th></th>\n      <th>id</th>\n      <th>area</th>\n      <th>geometry</th>\n      <th>landuse_left</th>\n      <th>index_right</th>\n      <th>full_id</th>\n      <th>osm_id</th>\n      <th>osm_type</th>\n      <th>landuse_right</th>\n      <th>fence_type</th>\n      <th>...</th>\n      <th>loc_name</th>\n      <th>description</th>\n      <th>barrier</th>\n      <th>addr:street</th>\n      <th>addr:postcode</th>\n      <th>addr:housenumber</th>\n      <th>addr:city</th>\n      <th>website</th>\n      <th>name</th>\n      <th>type</th>\n    </tr>\n  </thead>\n  <tbody>\n    <tr>\n      <th>0</th>\n      <td>1</td>\n      <td>1.224163e+06</td>\n      <td>POLYGON ((56.34764 58.03500, 56.34762 58.03500...</td>\n      <td></td>\n      <td>17.0</td>\n      <td>r13601592</td>\n      <td>13601592</td>\n      <td>relation</td>\n      <td>commercial</td>\n      <td>None</td>\n      <td>...</td>\n      <td>None</td>\n      <td>None</td>\n      <td>None</td>\n      <td>None</td>\n      <td>None</td>\n      <td>None</td>\n      <td>None</td>\n      <td>None</td>\n      <td>None</td>\n      <td>multipolygon</td>\n    </tr>\n    <tr>\n      <th>1</th>\n      <td>2</td>\n      <td>1.502047e+06</td>\n      <td>POLYGON ((56.36000 58.03485, 56.35999 58.03486...</td>\n      <td></td>\n      <td>NaN</td>\n      <td>NaN</td>\n      <td>NaN</td>\n      <td>NaN</td>\n      <td>NaN</td>\n      <td>NaN</td>\n      <td>...</td>\n      <td>NaN</td>\n      <td>NaN</td>\n      <td>NaN</td>\n      <td>NaN</td>\n      <td>NaN</td>\n      <td>NaN</td>\n      <td>NaN</td>\n      <td>NaN</td>\n      <td>NaN</td>\n      <td>NaN</td>\n    </tr>\n    <tr>\n      <th>2</th>\n      <td>3</td>\n      <td>3.110835e+05</td>\n      <td>POLYGON ((56.36956 58.03529, 56.36956 58.03528...</td>\n      <td></td>\n      <td>NaN</td>\n      <td>NaN</td>\n      <td>NaN</td>\n      <td>NaN</td>\n      <td>NaN</td>\n      <td>NaN</td>\n      <td>...</td>\n      <td>NaN</td>\n      <td>NaN</td>\n      <td>NaN</td>\n      <td>NaN</td>\n      <td>NaN</td>\n      <td>NaN</td>\n      <td>NaN</td>\n      <td>NaN</td>\n      <td>NaN</td>\n      <td>NaN</td>\n    </tr>\n    <tr>\n      <th>3</th>\n      <td>4</td>\n      <td>2.325404e+05</td>\n      <td>POLYGON ((56.37105 58.03543, 56.37104 58.03542...</td>\n      <td></td>\n      <td>NaN</td>\n      <td>NaN</td>\n      <td>NaN</td>\n      <td>NaN</td>\n      <td>NaN</td>\n      <td>NaN</td>\n      <td>...</td>\n      <td>NaN</td>\n      <td>NaN</td>\n      <td>NaN</td>\n      <td>NaN</td>\n      <td>NaN</td>\n      <td>NaN</td>\n      <td>NaN</td>\n      <td>NaN</td>\n      <td>NaN</td>\n      <td>NaN</td>\n    </tr>\n    <tr>\n      <th>4</th>\n      <td>5</td>\n      <td>2.935132e+05</td>\n      <td>POLYGON ((56.37142 58.03544, 56.37140 58.03544...</td>\n      <td></td>\n      <td>NaN</td>\n      <td>NaN</td>\n      <td>NaN</td>\n      <td>NaN</td>\n      <td>NaN</td>\n      <td>NaN</td>\n      <td>...</td>\n      <td>NaN</td>\n      <td>NaN</td>\n      <td>NaN</td>\n      <td>NaN</td>\n      <td>NaN</td>\n      <td>NaN</td>\n      <td>NaN</td>\n      <td>NaN</td>\n      <td>NaN</td>\n      <td>NaN</td>\n    </tr>\n    <tr>\n      <th>...</th>\n      <td>...</td>\n      <td>...</td>\n      <td>...</td>\n      <td>...</td>\n      <td>...</td>\n      <td>...</td>\n      <td>...</td>\n      <td>...</td>\n      <td>...</td>\n      <td>...</td>\n      <td>...</td>\n      <td>...</td>\n      <td>...</td>\n      <td>...</td>\n      <td>...</td>\n      <td>...</td>\n      <td>...</td>\n      <td>...</td>\n      <td>...</td>\n      <td>...</td>\n      <td>...</td>\n    </tr>\n    <tr>\n      <th>2871</th>\n      <td>2880</td>\n      <td>1.321830e+04</td>\n      <td>POLYGON ((56.15604 57.88224, 56.15602 57.88224...</td>\n      <td>industrial</td>\n      <td>NaN</td>\n      <td>NaN</td>\n      <td>NaN</td>\n      <td>NaN</td>\n      <td>NaN</td>\n      <td>NaN</td>\n      <td>...</td>\n      <td>NaN</td>\n      <td>NaN</td>\n      <td>NaN</td>\n      <td>NaN</td>\n      <td>NaN</td>\n      <td>NaN</td>\n      <td>NaN</td>\n      <td>NaN</td>\n      <td>NaN</td>\n      <td>NaN</td>\n    </tr>\n    <tr>\n      <th>2872</th>\n      <td>2881</td>\n      <td>1.290221e+05</td>\n      <td>POLYGON ((56.41638 58.15545, 56.41639 58.15545...</td>\n      <td></td>\n      <td>NaN</td>\n      <td>NaN</td>\n      <td>NaN</td>\n      <td>NaN</td>\n      <td>NaN</td>\n      <td>NaN</td>\n      <td>...</td>\n      <td>NaN</td>\n      <td>NaN</td>\n      <td>NaN</td>\n      <td>NaN</td>\n      <td>NaN</td>\n      <td>NaN</td>\n      <td>NaN</td>\n      <td>NaN</td>\n      <td>NaN</td>\n      <td>NaN</td>\n    </tr>\n    <tr>\n      <th>2873</th>\n      <td>2883</td>\n      <td>1.227687e+05</td>\n      <td>POLYGON ((56.53509 58.13568, 56.53508 58.13569...</td>\n      <td></td>\n      <td>NaN</td>\n      <td>NaN</td>\n      <td>NaN</td>\n      <td>NaN</td>\n      <td>NaN</td>\n      <td>NaN</td>\n      <td>...</td>\n      <td>NaN</td>\n      <td>NaN</td>\n      <td>NaN</td>\n      <td>NaN</td>\n      <td>NaN</td>\n      <td>NaN</td>\n      <td>NaN</td>\n      <td>NaN</td>\n      <td>NaN</td>\n      <td>NaN</td>\n    </tr>\n    <tr>\n      <th>2874</th>\n      <td>2884</td>\n      <td>2.572212e+03</td>\n      <td>POLYGON ((56.51985 58.14921, 56.51985 58.14923...</td>\n      <td></td>\n      <td>NaN</td>\n      <td>NaN</td>\n      <td>NaN</td>\n      <td>NaN</td>\n      <td>NaN</td>\n      <td>NaN</td>\n      <td>...</td>\n      <td>NaN</td>\n      <td>NaN</td>\n      <td>NaN</td>\n      <td>NaN</td>\n      <td>NaN</td>\n      <td>NaN</td>\n      <td>NaN</td>\n      <td>NaN</td>\n      <td>NaN</td>\n      <td>NaN</td>\n    </tr>\n    <tr>\n      <th>2875</th>\n      <td>3000</td>\n      <td>3.550764e+06</td>\n      <td>POLYGON ((56.31847 58.03896, 56.31846 58.03897...</td>\n      <td>industrial</td>\n      <td>NaN</td>\n      <td>NaN</td>\n      <td>NaN</td>\n      <td>NaN</td>\n      <td>NaN</td>\n      <td>NaN</td>\n      <td>...</td>\n      <td>NaN</td>\n      <td>NaN</td>\n      <td>NaN</td>\n      <td>NaN</td>\n      <td>NaN</td>\n      <td>NaN</td>\n      <td>NaN</td>\n      <td>NaN</td>\n      <td>NaN</td>\n      <td>NaN</td>\n    </tr>\n  </tbody>\n</table>\n<p>2922 rows × 26 columns</p>\n</div>"
     },
     "execution_count": 39,
     "metadata": {},
     "output_type": "execute_result"
    }
   ],
   "source": [
    "# определяем кварталы, пересекающиеся с коммерческими зонами\n",
    "com_zone = gpd.read_file(\"data/landuse_commercial.geojson\")\n",
    "result = gpd.sjoin(result, com_zone, how=\"left\", op='intersects')\n",
    "result"
   ],
   "metadata": {
    "collapsed": false,
    "ExecuteTime": {
     "end_time": "2023-12-24T21:22:45.002890300Z",
     "start_time": "2023-12-24T21:22:44.758438400Z"
    }
   },
   "id": "f3b7179c7a4cd98d"
  },
  {
   "cell_type": "code",
   "execution_count": 40,
   "outputs": [
    {
     "data": {
      "text/plain": "        id          area                                           geometry  \\\n0        1  1.224163e+06  POLYGON ((56.34764 58.03500, 56.34762 58.03500...   \n1        2  1.502047e+06  POLYGON ((56.36000 58.03485, 56.35999 58.03486...   \n2        3  3.110835e+05  POLYGON ((56.36956 58.03529, 56.36956 58.03528...   \n3        4  2.325404e+05  POLYGON ((56.37105 58.03543, 56.37104 58.03542...   \n4        5  2.935132e+05  POLYGON ((56.37142 58.03544, 56.37140 58.03544...   \n...    ...           ...                                                ...   \n2871  2880  1.321830e+04  POLYGON ((56.15604 57.88224, 56.15602 57.88224...   \n2872  2881  1.290221e+05  POLYGON ((56.41638 58.15545, 56.41639 58.15545...   \n2873  2883  1.227687e+05  POLYGON ((56.53509 58.13568, 56.53508 58.13569...   \n2874  2884  2.572212e+03  POLYGON ((56.51985 58.14921, 56.51985 58.14923...   \n2875  3000  3.550764e+06  POLYGON ((56.31847 58.03896, 56.31846 58.03897...   \n\n     landuse_left  \n0      commercial  \n1                  \n2                  \n3                  \n4                  \n...           ...  \n2871   industrial  \n2872               \n2873               \n2874               \n2875   industrial  \n\n[2876 rows x 4 columns]",
      "text/html": "<div>\n<style scoped>\n    .dataframe tbody tr th:only-of-type {\n        vertical-align: middle;\n    }\n\n    .dataframe tbody tr th {\n        vertical-align: top;\n    }\n\n    .dataframe thead th {\n        text-align: right;\n    }\n</style>\n<table border=\"1\" class=\"dataframe\">\n  <thead>\n    <tr style=\"text-align: right;\">\n      <th></th>\n      <th>id</th>\n      <th>area</th>\n      <th>geometry</th>\n      <th>landuse_left</th>\n    </tr>\n  </thead>\n  <tbody>\n    <tr>\n      <th>0</th>\n      <td>1</td>\n      <td>1.224163e+06</td>\n      <td>POLYGON ((56.34764 58.03500, 56.34762 58.03500...</td>\n      <td>commercial</td>\n    </tr>\n    <tr>\n      <th>1</th>\n      <td>2</td>\n      <td>1.502047e+06</td>\n      <td>POLYGON ((56.36000 58.03485, 56.35999 58.03486...</td>\n      <td></td>\n    </tr>\n    <tr>\n      <th>2</th>\n      <td>3</td>\n      <td>3.110835e+05</td>\n      <td>POLYGON ((56.36956 58.03529, 56.36956 58.03528...</td>\n      <td></td>\n    </tr>\n    <tr>\n      <th>3</th>\n      <td>4</td>\n      <td>2.325404e+05</td>\n      <td>POLYGON ((56.37105 58.03543, 56.37104 58.03542...</td>\n      <td></td>\n    </tr>\n    <tr>\n      <th>4</th>\n      <td>5</td>\n      <td>2.935132e+05</td>\n      <td>POLYGON ((56.37142 58.03544, 56.37140 58.03544...</td>\n      <td></td>\n    </tr>\n    <tr>\n      <th>...</th>\n      <td>...</td>\n      <td>...</td>\n      <td>...</td>\n      <td>...</td>\n    </tr>\n    <tr>\n      <th>2871</th>\n      <td>2880</td>\n      <td>1.321830e+04</td>\n      <td>POLYGON ((56.15604 57.88224, 56.15602 57.88224...</td>\n      <td>industrial</td>\n    </tr>\n    <tr>\n      <th>2872</th>\n      <td>2881</td>\n      <td>1.290221e+05</td>\n      <td>POLYGON ((56.41638 58.15545, 56.41639 58.15545...</td>\n      <td></td>\n    </tr>\n    <tr>\n      <th>2873</th>\n      <td>2883</td>\n      <td>1.227687e+05</td>\n      <td>POLYGON ((56.53509 58.13568, 56.53508 58.13569...</td>\n      <td></td>\n    </tr>\n    <tr>\n      <th>2874</th>\n      <td>2884</td>\n      <td>2.572212e+03</td>\n      <td>POLYGON ((56.51985 58.14921, 56.51985 58.14923...</td>\n      <td></td>\n    </tr>\n    <tr>\n      <th>2875</th>\n      <td>3000</td>\n      <td>3.550764e+06</td>\n      <td>POLYGON ((56.31847 58.03896, 56.31846 58.03897...</td>\n      <td>industrial</td>\n    </tr>\n  </tbody>\n</table>\n<p>2876 rows × 4 columns</p>\n</div>"
     },
     "execution_count": 40,
     "metadata": {},
     "output_type": "execute_result"
    }
   ],
   "source": [
    "# помечаем коммерческие кварталы\n",
    "result.loc[~result['index_right'].isna(), 'landuse_left'] = 'commercial'\n",
    "result = result[['id', 'area', 'geometry', 'landuse_left']]\n",
    "result = result.drop_duplicates(subset=['id'])\n",
    "result"
   ],
   "metadata": {
    "collapsed": false,
    "ExecuteTime": {
     "end_time": "2023-12-24T21:35:42.801041300Z",
     "start_time": "2023-12-24T21:35:42.738024900Z"
    }
   },
   "id": "c64f2d1f3c6ea212"
  },
  {
   "cell_type": "code",
   "execution_count": 41,
   "outputs": [
    {
     "data": {
      "text/plain": "        id          area                                           geometry  \\\n0        1  1.224163e+06  POLYGON ((56.34764 58.03500, 56.34762 58.03500...   \n1        2  1.502047e+06  POLYGON ((56.36000 58.03485, 56.35999 58.03486...   \n2        3  3.110835e+05  POLYGON ((56.36956 58.03529, 56.36956 58.03528...   \n3        4  2.325404e+05  POLYGON ((56.37105 58.03543, 56.37104 58.03542...   \n4        5  2.935132e+05  POLYGON ((56.37142 58.03544, 56.37140 58.03544...   \n...    ...           ...                                                ...   \n2871  2880  1.321830e+04  POLYGON ((56.15604 57.88224, 56.15602 57.88224...   \n2872  2881  1.290221e+05  POLYGON ((56.41638 58.15545, 56.41639 58.15545...   \n2873  2883  1.227687e+05  POLYGON ((56.53509 58.13568, 56.53508 58.13569...   \n2874  2884  2.572212e+03  POLYGON ((56.51985 58.14921, 56.51985 58.14923...   \n2875  3000  3.550764e+06  POLYGON ((56.31847 58.03896, 56.31846 58.03897...   \n\n         landuse  \n0     commercial  \n1                 \n2                 \n3                 \n4                 \n...          ...  \n2871  industrial  \n2872              \n2873              \n2874              \n2875  industrial  \n\n[2876 rows x 4 columns]",
      "text/html": "<div>\n<style scoped>\n    .dataframe tbody tr th:only-of-type {\n        vertical-align: middle;\n    }\n\n    .dataframe tbody tr th {\n        vertical-align: top;\n    }\n\n    .dataframe thead th {\n        text-align: right;\n    }\n</style>\n<table border=\"1\" class=\"dataframe\">\n  <thead>\n    <tr style=\"text-align: right;\">\n      <th></th>\n      <th>id</th>\n      <th>area</th>\n      <th>geometry</th>\n      <th>landuse</th>\n    </tr>\n  </thead>\n  <tbody>\n    <tr>\n      <th>0</th>\n      <td>1</td>\n      <td>1.224163e+06</td>\n      <td>POLYGON ((56.34764 58.03500, 56.34762 58.03500...</td>\n      <td>commercial</td>\n    </tr>\n    <tr>\n      <th>1</th>\n      <td>2</td>\n      <td>1.502047e+06</td>\n      <td>POLYGON ((56.36000 58.03485, 56.35999 58.03486...</td>\n      <td></td>\n    </tr>\n    <tr>\n      <th>2</th>\n      <td>3</td>\n      <td>3.110835e+05</td>\n      <td>POLYGON ((56.36956 58.03529, 56.36956 58.03528...</td>\n      <td></td>\n    </tr>\n    <tr>\n      <th>3</th>\n      <td>4</td>\n      <td>2.325404e+05</td>\n      <td>POLYGON ((56.37105 58.03543, 56.37104 58.03542...</td>\n      <td></td>\n    </tr>\n    <tr>\n      <th>4</th>\n      <td>5</td>\n      <td>2.935132e+05</td>\n      <td>POLYGON ((56.37142 58.03544, 56.37140 58.03544...</td>\n      <td></td>\n    </tr>\n    <tr>\n      <th>...</th>\n      <td>...</td>\n      <td>...</td>\n      <td>...</td>\n      <td>...</td>\n    </tr>\n    <tr>\n      <th>2871</th>\n      <td>2880</td>\n      <td>1.321830e+04</td>\n      <td>POLYGON ((56.15604 57.88224, 56.15602 57.88224...</td>\n      <td>industrial</td>\n    </tr>\n    <tr>\n      <th>2872</th>\n      <td>2881</td>\n      <td>1.290221e+05</td>\n      <td>POLYGON ((56.41638 58.15545, 56.41639 58.15545...</td>\n      <td></td>\n    </tr>\n    <tr>\n      <th>2873</th>\n      <td>2883</td>\n      <td>1.227687e+05</td>\n      <td>POLYGON ((56.53509 58.13568, 56.53508 58.13569...</td>\n      <td></td>\n    </tr>\n    <tr>\n      <th>2874</th>\n      <td>2884</td>\n      <td>2.572212e+03</td>\n      <td>POLYGON ((56.51985 58.14921, 56.51985 58.14923...</td>\n      <td></td>\n    </tr>\n    <tr>\n      <th>2875</th>\n      <td>3000</td>\n      <td>3.550764e+06</td>\n      <td>POLYGON ((56.31847 58.03896, 56.31846 58.03897...</td>\n      <td>industrial</td>\n    </tr>\n  </tbody>\n</table>\n<p>2876 rows × 4 columns</p>\n</div>"
     },
     "execution_count": 41,
     "metadata": {},
     "output_type": "execute_result"
    }
   ],
   "source": [
    "result = result.rename(columns={'landuse_left':'landuse'})\n",
    "result"
   ],
   "metadata": {
    "collapsed": false,
    "ExecuteTime": {
     "end_time": "2023-12-24T21:35:51.439117400Z",
     "start_time": "2023-12-24T21:35:51.360589200Z"
    }
   },
   "id": "bd3dc048ac189b8c"
  },
  {
   "cell_type": "code",
   "execution_count": 42,
   "outputs": [
    {
     "name": "stderr",
     "output_type": "stream",
     "text": [
      "C:\\Users\\sm_pa\\AppData\\Local\\Programs\\Python\\Python39\\lib\\site-packages\\IPython\\core\\interactiveshell.py:3490: FutureWarning: The `op` parameter is deprecated and will be removed in a future release. Please use the `predicate` parameter instead.\n",
      "  if await self.run_code(code, result, async_=asy):\n"
     ]
    },
    {
     "data": {
      "text/plain": "        id          area                                           geometry  \\\n0        1  1.224163e+06  POLYGON ((56.34764 58.03500, 56.34762 58.03500...   \n1        2  1.502047e+06  POLYGON ((56.36000 58.03485, 56.35999 58.03486...   \n2        3  3.110835e+05  POLYGON ((56.36956 58.03529, 56.36956 58.03528...   \n3        4  2.325404e+05  POLYGON ((56.37105 58.03543, 56.37104 58.03542...   \n4        5  2.935132e+05  POLYGON ((56.37142 58.03544, 56.37140 58.03544...   \n...    ...           ...                                                ...   \n2871  2880  1.321830e+04  POLYGON ((56.15604 57.88224, 56.15602 57.88224...   \n2872  2881  1.290221e+05  POLYGON ((56.41638 58.15545, 56.41639 58.15545...   \n2873  2883  1.227687e+05  POLYGON ((56.53509 58.13568, 56.53508 58.13569...   \n2874  2884  2.572212e+03  POLYGON ((56.51985 58.14921, 56.51985 58.14923...   \n2875  3000  3.550764e+06  POLYGON ((56.31847 58.03896, 56.31846 58.03897...   \n\n     landuse_left  index_right full_id osm_id osm_type landuse_right operator  \\\n0      commercial          NaN     NaN    NaN      NaN           NaN      NaN   \n1                          NaN     NaN    NaN      NaN           NaN      NaN   \n2                          NaN     NaN    NaN      NaN           NaN      NaN   \n3                          NaN     NaN    NaN      NaN           NaN      NaN   \n4                          NaN     NaN    NaN      NaN           NaN      NaN   \n...           ...          ...     ...    ...      ...           ...      ...   \n2871   industrial          NaN     NaN    NaN      NaN           NaN      NaN   \n2872                       NaN     NaN    NaN      NaN           NaN      NaN   \n2873                       NaN     NaN    NaN      NaN           NaN      NaN   \n2874                       NaN     NaN    NaN      NaN           NaN      NaN   \n2875   industrial          NaN     NaN    NaN      NaN           NaN      NaN   \n\n     loc_name description addr:street addr:postcode addr:housenumber  \\\n0         NaN         NaN         NaN           NaN              NaN   \n1         NaN         NaN         NaN           NaN              NaN   \n2         NaN         NaN         NaN           NaN              NaN   \n3         NaN         NaN         NaN           NaN              NaN   \n4         NaN         NaN         NaN           NaN              NaN   \n...       ...         ...         ...           ...              ...   \n2871      NaN         NaN         NaN           NaN              NaN   \n2872      NaN         NaN         NaN           NaN              NaN   \n2873      NaN         NaN         NaN           NaN              NaN   \n2874      NaN         NaN         NaN           NaN              NaN   \n2875      NaN         NaN         NaN           NaN              NaN   \n\n     addr:city barrier amenity name type  \n0          NaN     NaN     NaN  NaN  NaN  \n1          NaN     NaN     NaN  NaN  NaN  \n2          NaN     NaN     NaN  NaN  NaN  \n3          NaN     NaN     NaN  NaN  NaN  \n4          NaN     NaN     NaN  NaN  NaN  \n...        ...     ...     ...  ...  ...  \n2871       NaN     NaN     NaN  NaN  NaN  \n2872       NaN     NaN     NaN  NaN  NaN  \n2873       NaN     NaN     NaN  NaN  NaN  \n2874       NaN     NaN     NaN  NaN  NaN  \n2875       NaN     NaN     NaN  NaN  NaN  \n\n[2877 rows x 20 columns]",
      "text/html": "<div>\n<style scoped>\n    .dataframe tbody tr th:only-of-type {\n        vertical-align: middle;\n    }\n\n    .dataframe tbody tr th {\n        vertical-align: top;\n    }\n\n    .dataframe thead th {\n        text-align: right;\n    }\n</style>\n<table border=\"1\" class=\"dataframe\">\n  <thead>\n    <tr style=\"text-align: right;\">\n      <th></th>\n      <th>id</th>\n      <th>area</th>\n      <th>geometry</th>\n      <th>landuse_left</th>\n      <th>index_right</th>\n      <th>full_id</th>\n      <th>osm_id</th>\n      <th>osm_type</th>\n      <th>landuse_right</th>\n      <th>operator</th>\n      <th>loc_name</th>\n      <th>description</th>\n      <th>addr:street</th>\n      <th>addr:postcode</th>\n      <th>addr:housenumber</th>\n      <th>addr:city</th>\n      <th>barrier</th>\n      <th>amenity</th>\n      <th>name</th>\n      <th>type</th>\n    </tr>\n  </thead>\n  <tbody>\n    <tr>\n      <th>0</th>\n      <td>1</td>\n      <td>1.224163e+06</td>\n      <td>POLYGON ((56.34764 58.03500, 56.34762 58.03500...</td>\n      <td>commercial</td>\n      <td>NaN</td>\n      <td>NaN</td>\n      <td>NaN</td>\n      <td>NaN</td>\n      <td>NaN</td>\n      <td>NaN</td>\n      <td>NaN</td>\n      <td>NaN</td>\n      <td>NaN</td>\n      <td>NaN</td>\n      <td>NaN</td>\n      <td>NaN</td>\n      <td>NaN</td>\n      <td>NaN</td>\n      <td>NaN</td>\n      <td>NaN</td>\n    </tr>\n    <tr>\n      <th>1</th>\n      <td>2</td>\n      <td>1.502047e+06</td>\n      <td>POLYGON ((56.36000 58.03485, 56.35999 58.03486...</td>\n      <td></td>\n      <td>NaN</td>\n      <td>NaN</td>\n      <td>NaN</td>\n      <td>NaN</td>\n      <td>NaN</td>\n      <td>NaN</td>\n      <td>NaN</td>\n      <td>NaN</td>\n      <td>NaN</td>\n      <td>NaN</td>\n      <td>NaN</td>\n      <td>NaN</td>\n      <td>NaN</td>\n      <td>NaN</td>\n      <td>NaN</td>\n      <td>NaN</td>\n    </tr>\n    <tr>\n      <th>2</th>\n      <td>3</td>\n      <td>3.110835e+05</td>\n      <td>POLYGON ((56.36956 58.03529, 56.36956 58.03528...</td>\n      <td></td>\n      <td>NaN</td>\n      <td>NaN</td>\n      <td>NaN</td>\n      <td>NaN</td>\n      <td>NaN</td>\n      <td>NaN</td>\n      <td>NaN</td>\n      <td>NaN</td>\n      <td>NaN</td>\n      <td>NaN</td>\n      <td>NaN</td>\n      <td>NaN</td>\n      <td>NaN</td>\n      <td>NaN</td>\n      <td>NaN</td>\n      <td>NaN</td>\n    </tr>\n    <tr>\n      <th>3</th>\n      <td>4</td>\n      <td>2.325404e+05</td>\n      <td>POLYGON ((56.37105 58.03543, 56.37104 58.03542...</td>\n      <td></td>\n      <td>NaN</td>\n      <td>NaN</td>\n      <td>NaN</td>\n      <td>NaN</td>\n      <td>NaN</td>\n      <td>NaN</td>\n      <td>NaN</td>\n      <td>NaN</td>\n      <td>NaN</td>\n      <td>NaN</td>\n      <td>NaN</td>\n      <td>NaN</td>\n      <td>NaN</td>\n      <td>NaN</td>\n      <td>NaN</td>\n      <td>NaN</td>\n    </tr>\n    <tr>\n      <th>4</th>\n      <td>5</td>\n      <td>2.935132e+05</td>\n      <td>POLYGON ((56.37142 58.03544, 56.37140 58.03544...</td>\n      <td></td>\n      <td>NaN</td>\n      <td>NaN</td>\n      <td>NaN</td>\n      <td>NaN</td>\n      <td>NaN</td>\n      <td>NaN</td>\n      <td>NaN</td>\n      <td>NaN</td>\n      <td>NaN</td>\n      <td>NaN</td>\n      <td>NaN</td>\n      <td>NaN</td>\n      <td>NaN</td>\n      <td>NaN</td>\n      <td>NaN</td>\n      <td>NaN</td>\n    </tr>\n    <tr>\n      <th>...</th>\n      <td>...</td>\n      <td>...</td>\n      <td>...</td>\n      <td>...</td>\n      <td>...</td>\n      <td>...</td>\n      <td>...</td>\n      <td>...</td>\n      <td>...</td>\n      <td>...</td>\n      <td>...</td>\n      <td>...</td>\n      <td>...</td>\n      <td>...</td>\n      <td>...</td>\n      <td>...</td>\n      <td>...</td>\n      <td>...</td>\n      <td>...</td>\n      <td>...</td>\n    </tr>\n    <tr>\n      <th>2871</th>\n      <td>2880</td>\n      <td>1.321830e+04</td>\n      <td>POLYGON ((56.15604 57.88224, 56.15602 57.88224...</td>\n      <td>industrial</td>\n      <td>NaN</td>\n      <td>NaN</td>\n      <td>NaN</td>\n      <td>NaN</td>\n      <td>NaN</td>\n      <td>NaN</td>\n      <td>NaN</td>\n      <td>NaN</td>\n      <td>NaN</td>\n      <td>NaN</td>\n      <td>NaN</td>\n      <td>NaN</td>\n      <td>NaN</td>\n      <td>NaN</td>\n      <td>NaN</td>\n      <td>NaN</td>\n    </tr>\n    <tr>\n      <th>2872</th>\n      <td>2881</td>\n      <td>1.290221e+05</td>\n      <td>POLYGON ((56.41638 58.15545, 56.41639 58.15545...</td>\n      <td></td>\n      <td>NaN</td>\n      <td>NaN</td>\n      <td>NaN</td>\n      <td>NaN</td>\n      <td>NaN</td>\n      <td>NaN</td>\n      <td>NaN</td>\n      <td>NaN</td>\n      <td>NaN</td>\n      <td>NaN</td>\n      <td>NaN</td>\n      <td>NaN</td>\n      <td>NaN</td>\n      <td>NaN</td>\n      <td>NaN</td>\n      <td>NaN</td>\n    </tr>\n    <tr>\n      <th>2873</th>\n      <td>2883</td>\n      <td>1.227687e+05</td>\n      <td>POLYGON ((56.53509 58.13568, 56.53508 58.13569...</td>\n      <td></td>\n      <td>NaN</td>\n      <td>NaN</td>\n      <td>NaN</td>\n      <td>NaN</td>\n      <td>NaN</td>\n      <td>NaN</td>\n      <td>NaN</td>\n      <td>NaN</td>\n      <td>NaN</td>\n      <td>NaN</td>\n      <td>NaN</td>\n      <td>NaN</td>\n      <td>NaN</td>\n      <td>NaN</td>\n      <td>NaN</td>\n      <td>NaN</td>\n    </tr>\n    <tr>\n      <th>2874</th>\n      <td>2884</td>\n      <td>2.572212e+03</td>\n      <td>POLYGON ((56.51985 58.14921, 56.51985 58.14923...</td>\n      <td></td>\n      <td>NaN</td>\n      <td>NaN</td>\n      <td>NaN</td>\n      <td>NaN</td>\n      <td>NaN</td>\n      <td>NaN</td>\n      <td>NaN</td>\n      <td>NaN</td>\n      <td>NaN</td>\n      <td>NaN</td>\n      <td>NaN</td>\n      <td>NaN</td>\n      <td>NaN</td>\n      <td>NaN</td>\n      <td>NaN</td>\n      <td>NaN</td>\n    </tr>\n    <tr>\n      <th>2875</th>\n      <td>3000</td>\n      <td>3.550764e+06</td>\n      <td>POLYGON ((56.31847 58.03896, 56.31846 58.03897...</td>\n      <td>industrial</td>\n      <td>NaN</td>\n      <td>NaN</td>\n      <td>NaN</td>\n      <td>NaN</td>\n      <td>NaN</td>\n      <td>NaN</td>\n      <td>NaN</td>\n      <td>NaN</td>\n      <td>NaN</td>\n      <td>NaN</td>\n      <td>NaN</td>\n      <td>NaN</td>\n      <td>NaN</td>\n      <td>NaN</td>\n      <td>NaN</td>\n      <td>NaN</td>\n    </tr>\n  </tbody>\n</table>\n<p>2877 rows × 20 columns</p>\n</div>"
     },
     "execution_count": 42,
     "metadata": {},
     "output_type": "execute_result"
    }
   ],
   "source": [
    "# определяем кварталы, пересекающиеся с ретейл зонами\n",
    "retail_zone = gpd.read_file(\"data/landuse_retail.geojson\")\n",
    "result = gpd.sjoin(result, retail_zone, how=\"left\", op='intersects')\n",
    "result"
   ],
   "metadata": {
    "collapsed": false,
    "ExecuteTime": {
     "end_time": "2023-12-24T21:36:02.751371500Z",
     "start_time": "2023-12-24T21:36:02.625504600Z"
    }
   },
   "id": "5e5b678511a43419"
  },
  {
   "cell_type": "code",
   "execution_count": 43,
   "outputs": [
    {
     "data": {
      "text/plain": "        id          area                                           geometry  \\\n0        1  1.224163e+06  POLYGON ((56.34764 58.03500, 56.34762 58.03500...   \n1        2  1.502047e+06  POLYGON ((56.36000 58.03485, 56.35999 58.03486...   \n2        3  3.110835e+05  POLYGON ((56.36956 58.03529, 56.36956 58.03528...   \n3        4  2.325404e+05  POLYGON ((56.37105 58.03543, 56.37104 58.03542...   \n4        5  2.935132e+05  POLYGON ((56.37142 58.03544, 56.37140 58.03544...   \n...    ...           ...                                                ...   \n2871  2880  1.321830e+04  POLYGON ((56.15604 57.88224, 56.15602 57.88224...   \n2872  2881  1.290221e+05  POLYGON ((56.41638 58.15545, 56.41639 58.15545...   \n2873  2883  1.227687e+05  POLYGON ((56.53509 58.13568, 56.53508 58.13569...   \n2874  2884  2.572212e+03  POLYGON ((56.51985 58.14921, 56.51985 58.14923...   \n2875  3000  3.550764e+06  POLYGON ((56.31847 58.03896, 56.31846 58.03897...   \n\n     landuse_left  \n0      commercial  \n1                  \n2                  \n3                  \n4                  \n...           ...  \n2871   industrial  \n2872               \n2873               \n2874               \n2875   industrial  \n\n[2876 rows x 4 columns]",
      "text/html": "<div>\n<style scoped>\n    .dataframe tbody tr th:only-of-type {\n        vertical-align: middle;\n    }\n\n    .dataframe tbody tr th {\n        vertical-align: top;\n    }\n\n    .dataframe thead th {\n        text-align: right;\n    }\n</style>\n<table border=\"1\" class=\"dataframe\">\n  <thead>\n    <tr style=\"text-align: right;\">\n      <th></th>\n      <th>id</th>\n      <th>area</th>\n      <th>geometry</th>\n      <th>landuse_left</th>\n    </tr>\n  </thead>\n  <tbody>\n    <tr>\n      <th>0</th>\n      <td>1</td>\n      <td>1.224163e+06</td>\n      <td>POLYGON ((56.34764 58.03500, 56.34762 58.03500...</td>\n      <td>commercial</td>\n    </tr>\n    <tr>\n      <th>1</th>\n      <td>2</td>\n      <td>1.502047e+06</td>\n      <td>POLYGON ((56.36000 58.03485, 56.35999 58.03486...</td>\n      <td></td>\n    </tr>\n    <tr>\n      <th>2</th>\n      <td>3</td>\n      <td>3.110835e+05</td>\n      <td>POLYGON ((56.36956 58.03529, 56.36956 58.03528...</td>\n      <td></td>\n    </tr>\n    <tr>\n      <th>3</th>\n      <td>4</td>\n      <td>2.325404e+05</td>\n      <td>POLYGON ((56.37105 58.03543, 56.37104 58.03542...</td>\n      <td></td>\n    </tr>\n    <tr>\n      <th>4</th>\n      <td>5</td>\n      <td>2.935132e+05</td>\n      <td>POLYGON ((56.37142 58.03544, 56.37140 58.03544...</td>\n      <td></td>\n    </tr>\n    <tr>\n      <th>...</th>\n      <td>...</td>\n      <td>...</td>\n      <td>...</td>\n      <td>...</td>\n    </tr>\n    <tr>\n      <th>2871</th>\n      <td>2880</td>\n      <td>1.321830e+04</td>\n      <td>POLYGON ((56.15604 57.88224, 56.15602 57.88224...</td>\n      <td>industrial</td>\n    </tr>\n    <tr>\n      <th>2872</th>\n      <td>2881</td>\n      <td>1.290221e+05</td>\n      <td>POLYGON ((56.41638 58.15545, 56.41639 58.15545...</td>\n      <td></td>\n    </tr>\n    <tr>\n      <th>2873</th>\n      <td>2883</td>\n      <td>1.227687e+05</td>\n      <td>POLYGON ((56.53509 58.13568, 56.53508 58.13569...</td>\n      <td></td>\n    </tr>\n    <tr>\n      <th>2874</th>\n      <td>2884</td>\n      <td>2.572212e+03</td>\n      <td>POLYGON ((56.51985 58.14921, 56.51985 58.14923...</td>\n      <td></td>\n    </tr>\n    <tr>\n      <th>2875</th>\n      <td>3000</td>\n      <td>3.550764e+06</td>\n      <td>POLYGON ((56.31847 58.03896, 56.31846 58.03897...</td>\n      <td>industrial</td>\n    </tr>\n  </tbody>\n</table>\n<p>2876 rows × 4 columns</p>\n</div>"
     },
     "execution_count": 43,
     "metadata": {},
     "output_type": "execute_result"
    }
   ],
   "source": [
    "# помечаем ретейл кварталы как коммерческие\n",
    "result.loc[~result['index_right'].isna(), 'landuse_left'] = 'commercial'\n",
    "result = result[['id', 'area', 'geometry', 'landuse_left']]\n",
    "result = result.drop_duplicates(subset=['id'])\n",
    "result"
   ],
   "metadata": {
    "collapsed": false,
    "ExecuteTime": {
     "end_time": "2023-12-24T21:36:52.868592300Z",
     "start_time": "2023-12-24T21:36:52.621889500Z"
    }
   },
   "id": "87a97ed2845ba787"
  },
  {
   "cell_type": "code",
   "execution_count": null,
   "outputs": [],
   "source": [
    "result = result.rename(columns={'landuse_left':'landuse'})\n",
    "result"
   ],
   "metadata": {
    "collapsed": false
   },
   "id": "a564520b56544854"
  },
  {
   "cell_type": "code",
   "execution_count": 49,
   "outputs": [
    {
     "name": "stderr",
     "output_type": "stream",
     "text": [
      "C:\\Users\\sm_pa\\AppData\\Local\\Programs\\Python\\Python39\\lib\\site-packages\\IPython\\core\\interactiveshell.py:3490: FutureWarning: The `op` parameter is deprecated and will be removed in a future release. Please use the `predicate` parameter instead.\n",
      "  if await self.run_code(code, result, async_=asy):\n"
     ]
    },
    {
     "data": {
      "text/plain": "        id          area                                           geometry  \\\n0        1  1.224163e+06  POLYGON ((56.34764 58.03500, 56.34762 58.03500...   \n1        2  1.502047e+06  POLYGON ((56.36000 58.03485, 56.35999 58.03486...   \n2        3  3.110835e+05  POLYGON ((56.36956 58.03529, 56.36956 58.03528...   \n3        4  2.325404e+05  POLYGON ((56.37105 58.03543, 56.37104 58.03542...   \n4        5  2.935132e+05  POLYGON ((56.37142 58.03544, 56.37140 58.03544...   \n...    ...           ...                                                ...   \n2871  2880  1.321830e+04  POLYGON ((56.15604 57.88224, 56.15602 57.88224...   \n2872  2881  1.290221e+05  POLYGON ((56.41638 58.15545, 56.41639 58.15545...   \n2873  2883  1.227687e+05  POLYGON ((56.53509 58.13568, 56.53508 58.13569...   \n2874  2884  2.572212e+03  POLYGON ((56.51985 58.14921, 56.51985 58.14923...   \n2875  3000  3.550764e+06  POLYGON ((56.31847 58.03896, 56.31846 58.03897...   \n\n     landuse_left  index_right    full_id    osm_id  osm_type landuse_right  \\\n0      commercial          NaN        NaN       NaN       NaN           NaN   \n1                          NaN        NaN       NaN       NaN           NaN   \n2                          NaN        NaN       NaN       NaN           NaN   \n3                          NaN        NaN       NaN       NaN           NaN   \n4                          NaN        NaN       NaN       NaN           NaN   \n...           ...          ...        ...       ...       ...           ...   \n2871   industrial         22.0   r4669319   4669319  relation    industrial   \n2872                       NaN        NaN       NaN       NaN           NaN   \n2873                       NaN        NaN       NaN       NaN           NaN   \n2874                       NaN        NaN       NaN       NaN           NaN   \n2875   industrial         41.0  w28240234  28240234       way    industrial   \n\n     product  ... name:en alt_name access barrier      industrial depot  \\\n0        NaN  ...     NaN      NaN    NaN     NaN             NaN   NaN   \n1        NaN  ...     NaN      NaN    NaN     NaN             NaN   NaN   \n2        NaN  ...     NaN      NaN    NaN     NaN             NaN   NaN   \n3        NaN  ...     NaN      NaN    NaN     NaN             NaN   NaN   \n4        NaN  ...     NaN      NaN    NaN     NaN             NaN   NaN   \n...      ...  ...     ...      ...    ...     ...             ...   ...   \n2871    None  ...    None     None   None    None  petrochemicals  None   \n2872     NaN  ...     NaN      NaN    NaN     NaN             NaN   NaN   \n2873     NaN  ...     NaN      NaN    NaN     NaN             NaN   NaN   \n2874     NaN  ...     NaN      NaN    NaN     NaN             NaN   NaN   \n2875    None  ...    None     None   None   fence            None  None   \n\n             addr:street addr:housenumber                            name  \\\n0                    NaN              NaN                             NaN   \n1                    NaN              NaN                             NaN   \n2                    NaN              NaN                             NaN   \n3                    NaN              NaN                             NaN   \n4                    NaN              NaN                             NaN   \n...                  ...              ...                             ...   \n2871  Промышленная улица               96  Филиал «ПМУ» АО «ОХК «Уралхим»   \n2872                 NaN              NaN                             NaN   \n2873                 NaN              NaN                             NaN   \n2874                 NaN              NaN                             NaN   \n2875                None             None                   Хлебозавод №7   \n\n              type  \n0              NaN  \n1              NaN  \n2              NaN  \n3              NaN  \n4              NaN  \n...            ...  \n2871  multipolygon  \n2872           NaN  \n2873           NaN  \n2874           NaN  \n2875          None  \n\n[3107 rows x 60 columns]",
      "text/html": "<div>\n<style scoped>\n    .dataframe tbody tr th:only-of-type {\n        vertical-align: middle;\n    }\n\n    .dataframe tbody tr th {\n        vertical-align: top;\n    }\n\n    .dataframe thead th {\n        text-align: right;\n    }\n</style>\n<table border=\"1\" class=\"dataframe\">\n  <thead>\n    <tr style=\"text-align: right;\">\n      <th></th>\n      <th>id</th>\n      <th>area</th>\n      <th>geometry</th>\n      <th>landuse_left</th>\n      <th>index_right</th>\n      <th>full_id</th>\n      <th>osm_id</th>\n      <th>osm_type</th>\n      <th>landuse_right</th>\n      <th>product</th>\n      <th>...</th>\n      <th>name:en</th>\n      <th>alt_name</th>\n      <th>access</th>\n      <th>barrier</th>\n      <th>industrial</th>\n      <th>depot</th>\n      <th>addr:street</th>\n      <th>addr:housenumber</th>\n      <th>name</th>\n      <th>type</th>\n    </tr>\n  </thead>\n  <tbody>\n    <tr>\n      <th>0</th>\n      <td>1</td>\n      <td>1.224163e+06</td>\n      <td>POLYGON ((56.34764 58.03500, 56.34762 58.03500...</td>\n      <td>commercial</td>\n      <td>NaN</td>\n      <td>NaN</td>\n      <td>NaN</td>\n      <td>NaN</td>\n      <td>NaN</td>\n      <td>NaN</td>\n      <td>...</td>\n      <td>NaN</td>\n      <td>NaN</td>\n      <td>NaN</td>\n      <td>NaN</td>\n      <td>NaN</td>\n      <td>NaN</td>\n      <td>NaN</td>\n      <td>NaN</td>\n      <td>NaN</td>\n      <td>NaN</td>\n    </tr>\n    <tr>\n      <th>1</th>\n      <td>2</td>\n      <td>1.502047e+06</td>\n      <td>POLYGON ((56.36000 58.03485, 56.35999 58.03486...</td>\n      <td></td>\n      <td>NaN</td>\n      <td>NaN</td>\n      <td>NaN</td>\n      <td>NaN</td>\n      <td>NaN</td>\n      <td>NaN</td>\n      <td>...</td>\n      <td>NaN</td>\n      <td>NaN</td>\n      <td>NaN</td>\n      <td>NaN</td>\n      <td>NaN</td>\n      <td>NaN</td>\n      <td>NaN</td>\n      <td>NaN</td>\n      <td>NaN</td>\n      <td>NaN</td>\n    </tr>\n    <tr>\n      <th>2</th>\n      <td>3</td>\n      <td>3.110835e+05</td>\n      <td>POLYGON ((56.36956 58.03529, 56.36956 58.03528...</td>\n      <td></td>\n      <td>NaN</td>\n      <td>NaN</td>\n      <td>NaN</td>\n      <td>NaN</td>\n      <td>NaN</td>\n      <td>NaN</td>\n      <td>...</td>\n      <td>NaN</td>\n      <td>NaN</td>\n      <td>NaN</td>\n      <td>NaN</td>\n      <td>NaN</td>\n      <td>NaN</td>\n      <td>NaN</td>\n      <td>NaN</td>\n      <td>NaN</td>\n      <td>NaN</td>\n    </tr>\n    <tr>\n      <th>3</th>\n      <td>4</td>\n      <td>2.325404e+05</td>\n      <td>POLYGON ((56.37105 58.03543, 56.37104 58.03542...</td>\n      <td></td>\n      <td>NaN</td>\n      <td>NaN</td>\n      <td>NaN</td>\n      <td>NaN</td>\n      <td>NaN</td>\n      <td>NaN</td>\n      <td>...</td>\n      <td>NaN</td>\n      <td>NaN</td>\n      <td>NaN</td>\n      <td>NaN</td>\n      <td>NaN</td>\n      <td>NaN</td>\n      <td>NaN</td>\n      <td>NaN</td>\n      <td>NaN</td>\n      <td>NaN</td>\n    </tr>\n    <tr>\n      <th>4</th>\n      <td>5</td>\n      <td>2.935132e+05</td>\n      <td>POLYGON ((56.37142 58.03544, 56.37140 58.03544...</td>\n      <td></td>\n      <td>NaN</td>\n      <td>NaN</td>\n      <td>NaN</td>\n      <td>NaN</td>\n      <td>NaN</td>\n      <td>NaN</td>\n      <td>...</td>\n      <td>NaN</td>\n      <td>NaN</td>\n      <td>NaN</td>\n      <td>NaN</td>\n      <td>NaN</td>\n      <td>NaN</td>\n      <td>NaN</td>\n      <td>NaN</td>\n      <td>NaN</td>\n      <td>NaN</td>\n    </tr>\n    <tr>\n      <th>...</th>\n      <td>...</td>\n      <td>...</td>\n      <td>...</td>\n      <td>...</td>\n      <td>...</td>\n      <td>...</td>\n      <td>...</td>\n      <td>...</td>\n      <td>...</td>\n      <td>...</td>\n      <td>...</td>\n      <td>...</td>\n      <td>...</td>\n      <td>...</td>\n      <td>...</td>\n      <td>...</td>\n      <td>...</td>\n      <td>...</td>\n      <td>...</td>\n      <td>...</td>\n      <td>...</td>\n    </tr>\n    <tr>\n      <th>2871</th>\n      <td>2880</td>\n      <td>1.321830e+04</td>\n      <td>POLYGON ((56.15604 57.88224, 56.15602 57.88224...</td>\n      <td>industrial</td>\n      <td>22.0</td>\n      <td>r4669319</td>\n      <td>4669319</td>\n      <td>relation</td>\n      <td>industrial</td>\n      <td>None</td>\n      <td>...</td>\n      <td>None</td>\n      <td>None</td>\n      <td>None</td>\n      <td>None</td>\n      <td>petrochemicals</td>\n      <td>None</td>\n      <td>Промышленная улица</td>\n      <td>96</td>\n      <td>Филиал «ПМУ» АО «ОХК «Уралхим»</td>\n      <td>multipolygon</td>\n    </tr>\n    <tr>\n      <th>2872</th>\n      <td>2881</td>\n      <td>1.290221e+05</td>\n      <td>POLYGON ((56.41638 58.15545, 56.41639 58.15545...</td>\n      <td></td>\n      <td>NaN</td>\n      <td>NaN</td>\n      <td>NaN</td>\n      <td>NaN</td>\n      <td>NaN</td>\n      <td>NaN</td>\n      <td>...</td>\n      <td>NaN</td>\n      <td>NaN</td>\n      <td>NaN</td>\n      <td>NaN</td>\n      <td>NaN</td>\n      <td>NaN</td>\n      <td>NaN</td>\n      <td>NaN</td>\n      <td>NaN</td>\n      <td>NaN</td>\n    </tr>\n    <tr>\n      <th>2873</th>\n      <td>2883</td>\n      <td>1.227687e+05</td>\n      <td>POLYGON ((56.53509 58.13568, 56.53508 58.13569...</td>\n      <td></td>\n      <td>NaN</td>\n      <td>NaN</td>\n      <td>NaN</td>\n      <td>NaN</td>\n      <td>NaN</td>\n      <td>NaN</td>\n      <td>...</td>\n      <td>NaN</td>\n      <td>NaN</td>\n      <td>NaN</td>\n      <td>NaN</td>\n      <td>NaN</td>\n      <td>NaN</td>\n      <td>NaN</td>\n      <td>NaN</td>\n      <td>NaN</td>\n      <td>NaN</td>\n    </tr>\n    <tr>\n      <th>2874</th>\n      <td>2884</td>\n      <td>2.572212e+03</td>\n      <td>POLYGON ((56.51985 58.14921, 56.51985 58.14923...</td>\n      <td></td>\n      <td>NaN</td>\n      <td>NaN</td>\n      <td>NaN</td>\n      <td>NaN</td>\n      <td>NaN</td>\n      <td>NaN</td>\n      <td>...</td>\n      <td>NaN</td>\n      <td>NaN</td>\n      <td>NaN</td>\n      <td>NaN</td>\n      <td>NaN</td>\n      <td>NaN</td>\n      <td>NaN</td>\n      <td>NaN</td>\n      <td>NaN</td>\n      <td>NaN</td>\n    </tr>\n    <tr>\n      <th>2875</th>\n      <td>3000</td>\n      <td>3.550764e+06</td>\n      <td>POLYGON ((56.31847 58.03896, 56.31846 58.03897...</td>\n      <td>industrial</td>\n      <td>41.0</td>\n      <td>w28240234</td>\n      <td>28240234</td>\n      <td>way</td>\n      <td>industrial</td>\n      <td>None</td>\n      <td>...</td>\n      <td>None</td>\n      <td>None</td>\n      <td>None</td>\n      <td>fence</td>\n      <td>None</td>\n      <td>None</td>\n      <td>None</td>\n      <td>None</td>\n      <td>Хлебозавод №7</td>\n      <td>None</td>\n    </tr>\n  </tbody>\n</table>\n<p>3107 rows × 60 columns</p>\n</div>"
     },
     "execution_count": 49,
     "metadata": {},
     "output_type": "execute_result"
    }
   ],
   "source": [
    "# определяем кварталы, пересекающиеся с промзонами\n",
    "result = gpd.sjoin(result, industrial_zone, how=\"left\", op='intersects')\n",
    "result"
   ],
   "metadata": {
    "collapsed": false,
    "ExecuteTime": {
     "end_time": "2023-12-24T21:41:17.442175300Z",
     "start_time": "2023-12-24T21:41:17.320897300Z"
    }
   },
   "id": "c22795d5c976a248"
  },
  {
   "cell_type": "code",
   "execution_count": 51,
   "outputs": [
    {
     "data": {
      "text/plain": "        id          area                                           geometry  \\\n0        1  1.224163e+06  POLYGON ((56.34764 58.03500, 56.34762 58.03500...   \n1        2  1.502047e+06  POLYGON ((56.36000 58.03485, 56.35999 58.03486...   \n2        3  3.110835e+05  POLYGON ((56.36956 58.03529, 56.36956 58.03528...   \n3        4  2.325404e+05  POLYGON ((56.37105 58.03543, 56.37104 58.03542...   \n4        5  2.935132e+05  POLYGON ((56.37142 58.03544, 56.37140 58.03544...   \n...    ...           ...                                                ...   \n2871  2880  1.321830e+04  POLYGON ((56.15604 57.88224, 56.15602 57.88224...   \n2872  2881  1.290221e+05  POLYGON ((56.41638 58.15545, 56.41639 58.15545...   \n2873  2883  1.227687e+05  POLYGON ((56.53509 58.13568, 56.53508 58.13569...   \n2874  2884  2.572212e+03  POLYGON ((56.51985 58.14921, 56.51985 58.14923...   \n2875  3000  3.550764e+06  POLYGON ((56.31847 58.03896, 56.31846 58.03897...   \n\n     landuse_left  index_right    full_id    osm_id  osm_type landuse_right  \\\n0      commercial          NaN        NaN       NaN       NaN           NaN   \n1                          NaN        NaN       NaN       NaN           NaN   \n2                          NaN        NaN       NaN       NaN           NaN   \n3                          NaN        NaN       NaN       NaN           NaN   \n4                          NaN        NaN       NaN       NaN           NaN   \n...           ...          ...        ...       ...       ...           ...   \n2871   industrial         22.0   r4669319   4669319  relation    industrial   \n2872                       NaN        NaN       NaN       NaN           NaN   \n2873                       NaN        NaN       NaN       NaN           NaN   \n2874                       NaN        NaN       NaN       NaN           NaN   \n2875   industrial         41.0  w28240234  28240234       way    industrial   \n\n     product  ... alt_name access barrier      industrial depot  \\\n0        NaN  ...      NaN    NaN     NaN             NaN   NaN   \n1        NaN  ...      NaN    NaN     NaN             NaN   NaN   \n2        NaN  ...      NaN    NaN     NaN             NaN   NaN   \n3        NaN  ...      NaN    NaN     NaN             NaN   NaN   \n4        NaN  ...      NaN    NaN     NaN             NaN   NaN   \n...      ...  ...      ...    ...     ...             ...   ...   \n2871    None  ...     None   None    None  petrochemicals  None   \n2872     NaN  ...      NaN    NaN     NaN             NaN   NaN   \n2873     NaN  ...      NaN    NaN     NaN             NaN   NaN   \n2874     NaN  ...      NaN    NaN     NaN             NaN   NaN   \n2875    None  ...     None   None   fence            None  None   \n\n             addr:street addr:housenumber                            name  \\\n0                    NaN              NaN                             NaN   \n1                    NaN              NaN                             NaN   \n2                    NaN              NaN                             NaN   \n3                    NaN              NaN                             NaN   \n4                    NaN              NaN                             NaN   \n...                  ...              ...                             ...   \n2871  Промышленная улица               96  Филиал «ПМУ» АО «ОХК «Уралхим»   \n2872                 NaN              NaN                             NaN   \n2873                 NaN              NaN                             NaN   \n2874                 NaN              NaN                             NaN   \n2875                None             None                   Хлебозавод №7   \n\n              type     landuse  \n0              NaN              \n1              NaN              \n2              NaN              \n3              NaN              \n4              NaN              \n...            ...         ...  \n2871  multipolygon  industrial  \n2872           NaN              \n2873           NaN              \n2874           NaN              \n2875          None  industrial  \n\n[3107 rows x 61 columns]",
      "text/html": "<div>\n<style scoped>\n    .dataframe tbody tr th:only-of-type {\n        vertical-align: middle;\n    }\n\n    .dataframe tbody tr th {\n        vertical-align: top;\n    }\n\n    .dataframe thead th {\n        text-align: right;\n    }\n</style>\n<table border=\"1\" class=\"dataframe\">\n  <thead>\n    <tr style=\"text-align: right;\">\n      <th></th>\n      <th>id</th>\n      <th>area</th>\n      <th>geometry</th>\n      <th>landuse_left</th>\n      <th>index_right</th>\n      <th>full_id</th>\n      <th>osm_id</th>\n      <th>osm_type</th>\n      <th>landuse_right</th>\n      <th>product</th>\n      <th>...</th>\n      <th>alt_name</th>\n      <th>access</th>\n      <th>barrier</th>\n      <th>industrial</th>\n      <th>depot</th>\n      <th>addr:street</th>\n      <th>addr:housenumber</th>\n      <th>name</th>\n      <th>type</th>\n      <th>landuse</th>\n    </tr>\n  </thead>\n  <tbody>\n    <tr>\n      <th>0</th>\n      <td>1</td>\n      <td>1.224163e+06</td>\n      <td>POLYGON ((56.34764 58.03500, 56.34762 58.03500...</td>\n      <td>commercial</td>\n      <td>NaN</td>\n      <td>NaN</td>\n      <td>NaN</td>\n      <td>NaN</td>\n      <td>NaN</td>\n      <td>NaN</td>\n      <td>...</td>\n      <td>NaN</td>\n      <td>NaN</td>\n      <td>NaN</td>\n      <td>NaN</td>\n      <td>NaN</td>\n      <td>NaN</td>\n      <td>NaN</td>\n      <td>NaN</td>\n      <td>NaN</td>\n      <td></td>\n    </tr>\n    <tr>\n      <th>1</th>\n      <td>2</td>\n      <td>1.502047e+06</td>\n      <td>POLYGON ((56.36000 58.03485, 56.35999 58.03486...</td>\n      <td></td>\n      <td>NaN</td>\n      <td>NaN</td>\n      <td>NaN</td>\n      <td>NaN</td>\n      <td>NaN</td>\n      <td>NaN</td>\n      <td>...</td>\n      <td>NaN</td>\n      <td>NaN</td>\n      <td>NaN</td>\n      <td>NaN</td>\n      <td>NaN</td>\n      <td>NaN</td>\n      <td>NaN</td>\n      <td>NaN</td>\n      <td>NaN</td>\n      <td></td>\n    </tr>\n    <tr>\n      <th>2</th>\n      <td>3</td>\n      <td>3.110835e+05</td>\n      <td>POLYGON ((56.36956 58.03529, 56.36956 58.03528...</td>\n      <td></td>\n      <td>NaN</td>\n      <td>NaN</td>\n      <td>NaN</td>\n      <td>NaN</td>\n      <td>NaN</td>\n      <td>NaN</td>\n      <td>...</td>\n      <td>NaN</td>\n      <td>NaN</td>\n      <td>NaN</td>\n      <td>NaN</td>\n      <td>NaN</td>\n      <td>NaN</td>\n      <td>NaN</td>\n      <td>NaN</td>\n      <td>NaN</td>\n      <td></td>\n    </tr>\n    <tr>\n      <th>3</th>\n      <td>4</td>\n      <td>2.325404e+05</td>\n      <td>POLYGON ((56.37105 58.03543, 56.37104 58.03542...</td>\n      <td></td>\n      <td>NaN</td>\n      <td>NaN</td>\n      <td>NaN</td>\n      <td>NaN</td>\n      <td>NaN</td>\n      <td>NaN</td>\n      <td>...</td>\n      <td>NaN</td>\n      <td>NaN</td>\n      <td>NaN</td>\n      <td>NaN</td>\n      <td>NaN</td>\n      <td>NaN</td>\n      <td>NaN</td>\n      <td>NaN</td>\n      <td>NaN</td>\n      <td></td>\n    </tr>\n    <tr>\n      <th>4</th>\n      <td>5</td>\n      <td>2.935132e+05</td>\n      <td>POLYGON ((56.37142 58.03544, 56.37140 58.03544...</td>\n      <td></td>\n      <td>NaN</td>\n      <td>NaN</td>\n      <td>NaN</td>\n      <td>NaN</td>\n      <td>NaN</td>\n      <td>NaN</td>\n      <td>...</td>\n      <td>NaN</td>\n      <td>NaN</td>\n      <td>NaN</td>\n      <td>NaN</td>\n      <td>NaN</td>\n      <td>NaN</td>\n      <td>NaN</td>\n      <td>NaN</td>\n      <td>NaN</td>\n      <td></td>\n    </tr>\n    <tr>\n      <th>...</th>\n      <td>...</td>\n      <td>...</td>\n      <td>...</td>\n      <td>...</td>\n      <td>...</td>\n      <td>...</td>\n      <td>...</td>\n      <td>...</td>\n      <td>...</td>\n      <td>...</td>\n      <td>...</td>\n      <td>...</td>\n      <td>...</td>\n      <td>...</td>\n      <td>...</td>\n      <td>...</td>\n      <td>...</td>\n      <td>...</td>\n      <td>...</td>\n      <td>...</td>\n      <td>...</td>\n    </tr>\n    <tr>\n      <th>2871</th>\n      <td>2880</td>\n      <td>1.321830e+04</td>\n      <td>POLYGON ((56.15604 57.88224, 56.15602 57.88224...</td>\n      <td>industrial</td>\n      <td>22.0</td>\n      <td>r4669319</td>\n      <td>4669319</td>\n      <td>relation</td>\n      <td>industrial</td>\n      <td>None</td>\n      <td>...</td>\n      <td>None</td>\n      <td>None</td>\n      <td>None</td>\n      <td>petrochemicals</td>\n      <td>None</td>\n      <td>Промышленная улица</td>\n      <td>96</td>\n      <td>Филиал «ПМУ» АО «ОХК «Уралхим»</td>\n      <td>multipolygon</td>\n      <td>industrial</td>\n    </tr>\n    <tr>\n      <th>2872</th>\n      <td>2881</td>\n      <td>1.290221e+05</td>\n      <td>POLYGON ((56.41638 58.15545, 56.41639 58.15545...</td>\n      <td></td>\n      <td>NaN</td>\n      <td>NaN</td>\n      <td>NaN</td>\n      <td>NaN</td>\n      <td>NaN</td>\n      <td>NaN</td>\n      <td>...</td>\n      <td>NaN</td>\n      <td>NaN</td>\n      <td>NaN</td>\n      <td>NaN</td>\n      <td>NaN</td>\n      <td>NaN</td>\n      <td>NaN</td>\n      <td>NaN</td>\n      <td>NaN</td>\n      <td></td>\n    </tr>\n    <tr>\n      <th>2873</th>\n      <td>2883</td>\n      <td>1.227687e+05</td>\n      <td>POLYGON ((56.53509 58.13568, 56.53508 58.13569...</td>\n      <td></td>\n      <td>NaN</td>\n      <td>NaN</td>\n      <td>NaN</td>\n      <td>NaN</td>\n      <td>NaN</td>\n      <td>NaN</td>\n      <td>...</td>\n      <td>NaN</td>\n      <td>NaN</td>\n      <td>NaN</td>\n      <td>NaN</td>\n      <td>NaN</td>\n      <td>NaN</td>\n      <td>NaN</td>\n      <td>NaN</td>\n      <td>NaN</td>\n      <td></td>\n    </tr>\n    <tr>\n      <th>2874</th>\n      <td>2884</td>\n      <td>2.572212e+03</td>\n      <td>POLYGON ((56.51985 58.14921, 56.51985 58.14923...</td>\n      <td></td>\n      <td>NaN</td>\n      <td>NaN</td>\n      <td>NaN</td>\n      <td>NaN</td>\n      <td>NaN</td>\n      <td>NaN</td>\n      <td>...</td>\n      <td>NaN</td>\n      <td>NaN</td>\n      <td>NaN</td>\n      <td>NaN</td>\n      <td>NaN</td>\n      <td>NaN</td>\n      <td>NaN</td>\n      <td>NaN</td>\n      <td>NaN</td>\n      <td></td>\n    </tr>\n    <tr>\n      <th>2875</th>\n      <td>3000</td>\n      <td>3.550764e+06</td>\n      <td>POLYGON ((56.31847 58.03896, 56.31846 58.03897...</td>\n      <td>industrial</td>\n      <td>41.0</td>\n      <td>w28240234</td>\n      <td>28240234</td>\n      <td>way</td>\n      <td>industrial</td>\n      <td>None</td>\n      <td>...</td>\n      <td>None</td>\n      <td>None</td>\n      <td>fence</td>\n      <td>None</td>\n      <td>None</td>\n      <td>None</td>\n      <td>None</td>\n      <td>Хлебозавод №7</td>\n      <td>None</td>\n      <td>industrial</td>\n    </tr>\n  </tbody>\n</table>\n<p>3107 rows × 61 columns</p>\n</div>"
     },
     "execution_count": 51,
     "metadata": {},
     "output_type": "execute_result"
    }
   ],
   "source": [
    "result.loc[~result['index_right'].isna(), 'landuse_left'] = 'industrial'\n",
    "result"
   ],
   "metadata": {
    "collapsed": false,
    "ExecuteTime": {
     "end_time": "2023-12-24T21:43:15.096615600Z",
     "start_time": "2023-12-24T21:43:14.999839300Z"
    }
   },
   "id": "105dc9a1857c42f"
  },
  {
   "cell_type": "code",
   "execution_count": 52,
   "outputs": [
    {
     "data": {
      "text/plain": "        id          area                                           geometry  \\\n0        1  1.224163e+06  POLYGON ((56.34764 58.03500, 56.34762 58.03500...   \n1        2  1.502047e+06  POLYGON ((56.36000 58.03485, 56.35999 58.03486...   \n2        3  3.110835e+05  POLYGON ((56.36956 58.03529, 56.36956 58.03528...   \n3        4  2.325404e+05  POLYGON ((56.37105 58.03543, 56.37104 58.03542...   \n4        5  2.935132e+05  POLYGON ((56.37142 58.03544, 56.37140 58.03544...   \n...    ...           ...                                                ...   \n2871  2880  1.321830e+04  POLYGON ((56.15604 57.88224, 56.15602 57.88224...   \n2872  2881  1.290221e+05  POLYGON ((56.41638 58.15545, 56.41639 58.15545...   \n2873  2883  1.227687e+05  POLYGON ((56.53509 58.13568, 56.53508 58.13569...   \n2874  2884  2.572212e+03  POLYGON ((56.51985 58.14921, 56.51985 58.14923...   \n2875  3000  3.550764e+06  POLYGON ((56.31847 58.03896, 56.31846 58.03897...   \n\n         landuse  \n0     commercial  \n1                 \n2                 \n3                 \n4                 \n...          ...  \n2871  industrial  \n2872              \n2873              \n2874              \n2875  industrial  \n\n[2876 rows x 4 columns]",
      "text/html": "<div>\n<style scoped>\n    .dataframe tbody tr th:only-of-type {\n        vertical-align: middle;\n    }\n\n    .dataframe tbody tr th {\n        vertical-align: top;\n    }\n\n    .dataframe thead th {\n        text-align: right;\n    }\n</style>\n<table border=\"1\" class=\"dataframe\">\n  <thead>\n    <tr style=\"text-align: right;\">\n      <th></th>\n      <th>id</th>\n      <th>area</th>\n      <th>geometry</th>\n      <th>landuse</th>\n    </tr>\n  </thead>\n  <tbody>\n    <tr>\n      <th>0</th>\n      <td>1</td>\n      <td>1.224163e+06</td>\n      <td>POLYGON ((56.34764 58.03500, 56.34762 58.03500...</td>\n      <td>commercial</td>\n    </tr>\n    <tr>\n      <th>1</th>\n      <td>2</td>\n      <td>1.502047e+06</td>\n      <td>POLYGON ((56.36000 58.03485, 56.35999 58.03486...</td>\n      <td></td>\n    </tr>\n    <tr>\n      <th>2</th>\n      <td>3</td>\n      <td>3.110835e+05</td>\n      <td>POLYGON ((56.36956 58.03529, 56.36956 58.03528...</td>\n      <td></td>\n    </tr>\n    <tr>\n      <th>3</th>\n      <td>4</td>\n      <td>2.325404e+05</td>\n      <td>POLYGON ((56.37105 58.03543, 56.37104 58.03542...</td>\n      <td></td>\n    </tr>\n    <tr>\n      <th>4</th>\n      <td>5</td>\n      <td>2.935132e+05</td>\n      <td>POLYGON ((56.37142 58.03544, 56.37140 58.03544...</td>\n      <td></td>\n    </tr>\n    <tr>\n      <th>...</th>\n      <td>...</td>\n      <td>...</td>\n      <td>...</td>\n      <td>...</td>\n    </tr>\n    <tr>\n      <th>2871</th>\n      <td>2880</td>\n      <td>1.321830e+04</td>\n      <td>POLYGON ((56.15604 57.88224, 56.15602 57.88224...</td>\n      <td>industrial</td>\n    </tr>\n    <tr>\n      <th>2872</th>\n      <td>2881</td>\n      <td>1.290221e+05</td>\n      <td>POLYGON ((56.41638 58.15545, 56.41639 58.15545...</td>\n      <td></td>\n    </tr>\n    <tr>\n      <th>2873</th>\n      <td>2883</td>\n      <td>1.227687e+05</td>\n      <td>POLYGON ((56.53509 58.13568, 56.53508 58.13569...</td>\n      <td></td>\n    </tr>\n    <tr>\n      <th>2874</th>\n      <td>2884</td>\n      <td>2.572212e+03</td>\n      <td>POLYGON ((56.51985 58.14921, 56.51985 58.14923...</td>\n      <td></td>\n    </tr>\n    <tr>\n      <th>2875</th>\n      <td>3000</td>\n      <td>3.550764e+06</td>\n      <td>POLYGON ((56.31847 58.03896, 56.31846 58.03897...</td>\n      <td>industrial</td>\n    </tr>\n  </tbody>\n</table>\n<p>2876 rows × 4 columns</p>\n</div>"
     },
     "execution_count": 52,
     "metadata": {},
     "output_type": "execute_result"
    }
   ],
   "source": [
    "result = result[['id', 'area', 'geometry', 'landuse_left']]\n",
    "result = result.drop_duplicates(subset=['id'])\n",
    "result = result.rename(columns={'landuse_left':'landuse'})\n",
    "result"
   ],
   "metadata": {
    "collapsed": false,
    "ExecuteTime": {
     "end_time": "2023-12-24T21:47:10.846954500Z",
     "start_time": "2023-12-24T21:47:10.733995800Z"
    }
   },
   "id": "1e5487a440477738"
  },
  {
   "cell_type": "code",
   "execution_count": 54,
   "outputs": [
    {
     "data": {
      "text/plain": "88"
     },
     "execution_count": 54,
     "metadata": {},
     "output_type": "execute_result"
    }
   ],
   "source": [
    "(result['landuse'] == 'commercial').sum()"
   ],
   "metadata": {
    "collapsed": false,
    "ExecuteTime": {
     "end_time": "2023-12-24T21:47:42.858530700Z",
     "start_time": "2023-12-24T21:47:42.826815300Z"
    }
   },
   "id": "fff3f7f1a29a1f0d"
  },
  {
   "cell_type": "code",
   "execution_count": 56,
   "outputs": [],
   "source": [
    "result.to_file('data/blocks_partly_TAZ.geojson', driver='GeoJSON')"
   ],
   "metadata": {
    "collapsed": false,
    "ExecuteTime": {
     "end_time": "2023-12-24T21:48:08.862062900Z",
     "start_time": "2023-12-24T21:48:05.864029400Z"
    }
   },
   "id": "ab67e4f20a7ed935"
  },
  {
   "cell_type": "markdown",
   "source": [
    "Продолжение обработки - оценка долей жилых, коммерческих и промышленных площадей в каждом квартале"
   ],
   "metadata": {
    "collapsed": false
   },
   "id": "a54eb60192713f51"
  },
  {
   "cell_type": "code",
   "execution_count": 4,
   "outputs": [
    {
     "data": {
      "text/plain": "              id    function  is_living  storeys_count  basement_area  \\\n0        4669322         yes      False              1        694.450   \n1       79882759         yes      False              1        214.784   \n2       79882837      office      False              2        776.034   \n3       79883190         yes      False              1        189.197   \n4       89185196  industrial      False              1        450.628   \n...          ...         ...        ...            ...            ...   \n8438  1147821565         yes      False              1       1218.829   \n8439  1148104875         yes      False              1        107.470   \n8440  1148419580      office      False              4        624.885   \n8441  1148746841  industrial      False              1        188.391   \n8442  1149034816  industrial      False              1        516.981   \n\n      block_id    industry  total_area  workers  \\\n0          275  industrial     694.450       41   \n1          752  industrial     214.784        9   \n2          752     service    1552.068       72   \n3          752  industrial     189.197        8   \n4          943  industrial     450.628       19   \n...        ...         ...         ...      ...   \n8438       649  industrial    1218.829       35   \n8439       274     service     107.470        2   \n8440       276     service    2499.540       67   \n8441       274  industrial     188.391        6   \n8442       275  industrial     516.981       18   \n\n                                               geometry  \n0     MULTIPOLYGON (((56.17115 57.88024, 56.17135 57...  \n1     MULTIPOLYGON (((56.34866 58.10470, 56.34892 58...  \n2     MULTIPOLYGON (((56.34712 58.08610, 56.34720 58...  \n3     MULTIPOLYGON (((56.34799 58.10467, 56.34834 58...  \n4     MULTIPOLYGON (((56.12423 58.03430, 56.12452 58...  \n...                                                 ...  \n8438  MULTIPOLYGON (((56.16802 57.91086, 56.16836 57...  \n8439  MULTIPOLYGON (((56.13393 57.92601, 56.13408 57...  \n8440  MULTIPOLYGON (((56.16355 57.88379, 56.16394 57...  \n8441  MULTIPOLYGON (((56.13846 57.90833, 56.13847 57...  \n8442  MULTIPOLYGON (((56.15790 57.87906, 56.15796 57...  \n\n[8443 rows x 10 columns]",
      "text/html": "<div>\n<style scoped>\n    .dataframe tbody tr th:only-of-type {\n        vertical-align: middle;\n    }\n\n    .dataframe tbody tr th {\n        vertical-align: top;\n    }\n\n    .dataframe thead th {\n        text-align: right;\n    }\n</style>\n<table border=\"1\" class=\"dataframe\">\n  <thead>\n    <tr style=\"text-align: right;\">\n      <th></th>\n      <th>id</th>\n      <th>function</th>\n      <th>is_living</th>\n      <th>storeys_count</th>\n      <th>basement_area</th>\n      <th>block_id</th>\n      <th>industry</th>\n      <th>total_area</th>\n      <th>workers</th>\n      <th>geometry</th>\n    </tr>\n  </thead>\n  <tbody>\n    <tr>\n      <th>0</th>\n      <td>4669322</td>\n      <td>yes</td>\n      <td>False</td>\n      <td>1</td>\n      <td>694.450</td>\n      <td>275</td>\n      <td>industrial</td>\n      <td>694.450</td>\n      <td>41</td>\n      <td>MULTIPOLYGON (((56.17115 57.88024, 56.17135 57...</td>\n    </tr>\n    <tr>\n      <th>1</th>\n      <td>79882759</td>\n      <td>yes</td>\n      <td>False</td>\n      <td>1</td>\n      <td>214.784</td>\n      <td>752</td>\n      <td>industrial</td>\n      <td>214.784</td>\n      <td>9</td>\n      <td>MULTIPOLYGON (((56.34866 58.10470, 56.34892 58...</td>\n    </tr>\n    <tr>\n      <th>2</th>\n      <td>79882837</td>\n      <td>office</td>\n      <td>False</td>\n      <td>2</td>\n      <td>776.034</td>\n      <td>752</td>\n      <td>service</td>\n      <td>1552.068</td>\n      <td>72</td>\n      <td>MULTIPOLYGON (((56.34712 58.08610, 56.34720 58...</td>\n    </tr>\n    <tr>\n      <th>3</th>\n      <td>79883190</td>\n      <td>yes</td>\n      <td>False</td>\n      <td>1</td>\n      <td>189.197</td>\n      <td>752</td>\n      <td>industrial</td>\n      <td>189.197</td>\n      <td>8</td>\n      <td>MULTIPOLYGON (((56.34799 58.10467, 56.34834 58...</td>\n    </tr>\n    <tr>\n      <th>4</th>\n      <td>89185196</td>\n      <td>industrial</td>\n      <td>False</td>\n      <td>1</td>\n      <td>450.628</td>\n      <td>943</td>\n      <td>industrial</td>\n      <td>450.628</td>\n      <td>19</td>\n      <td>MULTIPOLYGON (((56.12423 58.03430, 56.12452 58...</td>\n    </tr>\n    <tr>\n      <th>...</th>\n      <td>...</td>\n      <td>...</td>\n      <td>...</td>\n      <td>...</td>\n      <td>...</td>\n      <td>...</td>\n      <td>...</td>\n      <td>...</td>\n      <td>...</td>\n      <td>...</td>\n    </tr>\n    <tr>\n      <th>8438</th>\n      <td>1147821565</td>\n      <td>yes</td>\n      <td>False</td>\n      <td>1</td>\n      <td>1218.829</td>\n      <td>649</td>\n      <td>industrial</td>\n      <td>1218.829</td>\n      <td>35</td>\n      <td>MULTIPOLYGON (((56.16802 57.91086, 56.16836 57...</td>\n    </tr>\n    <tr>\n      <th>8439</th>\n      <td>1148104875</td>\n      <td>yes</td>\n      <td>False</td>\n      <td>1</td>\n      <td>107.470</td>\n      <td>274</td>\n      <td>service</td>\n      <td>107.470</td>\n      <td>2</td>\n      <td>MULTIPOLYGON (((56.13393 57.92601, 56.13408 57...</td>\n    </tr>\n    <tr>\n      <th>8440</th>\n      <td>1148419580</td>\n      <td>office</td>\n      <td>False</td>\n      <td>4</td>\n      <td>624.885</td>\n      <td>276</td>\n      <td>service</td>\n      <td>2499.540</td>\n      <td>67</td>\n      <td>MULTIPOLYGON (((56.16355 57.88379, 56.16394 57...</td>\n    </tr>\n    <tr>\n      <th>8441</th>\n      <td>1148746841</td>\n      <td>industrial</td>\n      <td>False</td>\n      <td>1</td>\n      <td>188.391</td>\n      <td>274</td>\n      <td>industrial</td>\n      <td>188.391</td>\n      <td>6</td>\n      <td>MULTIPOLYGON (((56.13846 57.90833, 56.13847 57...</td>\n    </tr>\n    <tr>\n      <th>8442</th>\n      <td>1149034816</td>\n      <td>industrial</td>\n      <td>False</td>\n      <td>1</td>\n      <td>516.981</td>\n      <td>275</td>\n      <td>industrial</td>\n      <td>516.981</td>\n      <td>18</td>\n      <td>MULTIPOLYGON (((56.15790 57.87906, 56.15796 57...</td>\n    </tr>\n  </tbody>\n</table>\n<p>8443 rows × 10 columns</p>\n</div>"
     },
     "execution_count": 4,
     "metadata": {},
     "output_type": "execute_result"
    }
   ],
   "source": [
    "buildings_with_workers = gpd.read_file(\"data/buildings_with_workers.geojson\")\n",
    "buildings_with_workers"
   ],
   "metadata": {
    "collapsed": false,
    "ExecuteTime": {
     "end_time": "2024-01-07T17:19:13.229395Z",
     "start_time": "2024-01-07T17:19:08.696530600Z"
    }
   },
   "id": "6f975838d557a230"
  },
  {
   "cell_type": "code",
   "execution_count": 5,
   "outputs": [
    {
     "name": "stdout",
     "output_type": "stream",
     "text": [
      "Таблица долей занятости в каждой из трех индустрий для каждого квартала:\n",
      "industry  block_id  industrial    retail   service\n",
      "0                1    0.000000  0.000000  1.000000\n",
      "1                6    0.932489  0.067511  0.000000\n",
      "2                9    0.900648  0.009719  0.089633\n",
      "3               11    1.000000  0.000000  0.000000\n",
      "4               16    0.000000  0.133333  0.866667\n",
      "..             ...         ...       ...       ...\n",
      "494           2869    0.439394  0.000000  0.560606\n",
      "495           2875    0.546729  0.000000  0.453271\n",
      "496           2877    1.000000  0.000000  0.000000\n",
      "497           2879    1.000000  0.000000  0.000000\n",
      "498           3000    0.274725  0.000000  0.725275\n",
      "\n",
      "[499 rows x 4 columns]\n"
     ]
    }
   ],
   "source": [
    "\n",
    "# Группировка данных по 'block_id' и 'industry', вычисление суммы работников для каждой группы\n",
    "grouped_data = buildings_with_workers.groupby(['block_id', 'industry'])['workers'].sum().reset_index()\n",
    "\n",
    "# Подсчет общего числа работников для каждого квартала\n",
    "total_workers_per_block = grouped_data.groupby('block_id')['workers'].sum()\n",
    "\n",
    "# Добавление столбца с долями занятости для каждой индустрии\n",
    "grouped_data['employment_share'] = grouped_data['workers'] / grouped_data['block_id'].map(total_workers_per_block)\n",
    "\n",
    "# Подготовка таблицы из трех столбцов\n",
    "result_table = grouped_data.pivot(index='block_id', columns='industry', values='employment_share').reset_index()\n",
    "\n",
    "# Заполнение NaN значений нулями\n",
    "result_table = result_table.fillna(0)\n",
    "\n",
    "# Вывод результата\n",
    "print(\"Таблица долей занятости в каждой из трех индустрий для каждого квартала:\")\n",
    "print(result_table)\n"
   ],
   "metadata": {
    "collapsed": false,
    "ExecuteTime": {
     "end_time": "2024-01-07T17:19:17.698068800Z",
     "start_time": "2024-01-07T17:19:17.666802500Z"
    }
   },
   "id": "1f4fbbcd12dba52e"
  },
  {
   "cell_type": "code",
   "execution_count": 6,
   "outputs": [
    {
     "data": {
      "text/plain": "        id          area     landuse  \\\n0        1  1.224163e+06  commercial   \n1        2  1.502047e+06               \n2        3  3.110835e+05               \n3        4  2.325404e+05               \n4        5  2.935132e+05               \n...    ...           ...         ...   \n2871  2880  1.321830e+04  industrial   \n2872  2881  1.290221e+05               \n2873  2883  1.227687e+05               \n2874  2884  2.572212e+03               \n2875  3000  3.550764e+06  industrial   \n\n                                               geometry  \n0     POLYGON ((56.34764 58.03500, 56.34762 58.03500...  \n1     POLYGON ((56.36000 58.03485, 56.35999 58.03486...  \n2     POLYGON ((56.36956 58.03529, 56.36956 58.03528...  \n3     POLYGON ((56.37105 58.03543, 56.37104 58.03542...  \n4     POLYGON ((56.37142 58.03544, 56.37140 58.03544...  \n...                                                 ...  \n2871  POLYGON ((56.15604 57.88224, 56.15602 57.88224...  \n2872  POLYGON ((56.41638 58.15545, 56.41639 58.15545...  \n2873  POLYGON ((56.53509 58.13568, 56.53508 58.13569...  \n2874  POLYGON ((56.51985 58.14921, 56.51985 58.14923...  \n2875  POLYGON ((56.31847 58.03896, 56.31846 58.03897...  \n\n[2876 rows x 4 columns]",
      "text/html": "<div>\n<style scoped>\n    .dataframe tbody tr th:only-of-type {\n        vertical-align: middle;\n    }\n\n    .dataframe tbody tr th {\n        vertical-align: top;\n    }\n\n    .dataframe thead th {\n        text-align: right;\n    }\n</style>\n<table border=\"1\" class=\"dataframe\">\n  <thead>\n    <tr style=\"text-align: right;\">\n      <th></th>\n      <th>id</th>\n      <th>area</th>\n      <th>landuse</th>\n      <th>geometry</th>\n    </tr>\n  </thead>\n  <tbody>\n    <tr>\n      <th>0</th>\n      <td>1</td>\n      <td>1.224163e+06</td>\n      <td>commercial</td>\n      <td>POLYGON ((56.34764 58.03500, 56.34762 58.03500...</td>\n    </tr>\n    <tr>\n      <th>1</th>\n      <td>2</td>\n      <td>1.502047e+06</td>\n      <td></td>\n      <td>POLYGON ((56.36000 58.03485, 56.35999 58.03486...</td>\n    </tr>\n    <tr>\n      <th>2</th>\n      <td>3</td>\n      <td>3.110835e+05</td>\n      <td></td>\n      <td>POLYGON ((56.36956 58.03529, 56.36956 58.03528...</td>\n    </tr>\n    <tr>\n      <th>3</th>\n      <td>4</td>\n      <td>2.325404e+05</td>\n      <td></td>\n      <td>POLYGON ((56.37105 58.03543, 56.37104 58.03542...</td>\n    </tr>\n    <tr>\n      <th>4</th>\n      <td>5</td>\n      <td>2.935132e+05</td>\n      <td></td>\n      <td>POLYGON ((56.37142 58.03544, 56.37140 58.03544...</td>\n    </tr>\n    <tr>\n      <th>...</th>\n      <td>...</td>\n      <td>...</td>\n      <td>...</td>\n      <td>...</td>\n    </tr>\n    <tr>\n      <th>2871</th>\n      <td>2880</td>\n      <td>1.321830e+04</td>\n      <td>industrial</td>\n      <td>POLYGON ((56.15604 57.88224, 56.15602 57.88224...</td>\n    </tr>\n    <tr>\n      <th>2872</th>\n      <td>2881</td>\n      <td>1.290221e+05</td>\n      <td></td>\n      <td>POLYGON ((56.41638 58.15545, 56.41639 58.15545...</td>\n    </tr>\n    <tr>\n      <th>2873</th>\n      <td>2883</td>\n      <td>1.227687e+05</td>\n      <td></td>\n      <td>POLYGON ((56.53509 58.13568, 56.53508 58.13569...</td>\n    </tr>\n    <tr>\n      <th>2874</th>\n      <td>2884</td>\n      <td>2.572212e+03</td>\n      <td></td>\n      <td>POLYGON ((56.51985 58.14921, 56.51985 58.14923...</td>\n    </tr>\n    <tr>\n      <th>2875</th>\n      <td>3000</td>\n      <td>3.550764e+06</td>\n      <td>industrial</td>\n      <td>POLYGON ((56.31847 58.03896, 56.31846 58.03897...</td>\n    </tr>\n  </tbody>\n</table>\n<p>2876 rows × 4 columns</p>\n</div>"
     },
     "execution_count": 6,
     "metadata": {},
     "output_type": "execute_result"
    }
   ],
   "source": [
    "blocks_TAZ = gpd.read_file(\"data/blocks_partly_TAZ.geojson\")\n",
    "blocks_TAZ"
   ],
   "metadata": {
    "collapsed": false,
    "ExecuteTime": {
     "end_time": "2024-01-07T17:19:26.546306400Z",
     "start_time": "2024-01-07T17:19:21.766255100Z"
    }
   },
   "id": "68334845300c8c6c"
  },
  {
   "cell_type": "code",
   "execution_count": 7,
   "outputs": [
    {
     "name": "stdout",
     "output_type": "stream",
     "text": [
      "Объединенный геоджейсон с долями из result_table:\n",
      "        id          area     landuse  \\\n",
      "0        1  1.224163e+06  commercial   \n",
      "1        2  1.502047e+06               \n",
      "2        3  3.110835e+05               \n",
      "3        4  2.325404e+05               \n",
      "4        5  2.935132e+05               \n",
      "...    ...           ...         ...   \n",
      "2871  2880  1.321830e+04  industrial   \n",
      "2872  2881  1.290221e+05               \n",
      "2873  2883  1.227687e+05               \n",
      "2874  2884  2.572212e+03               \n",
      "2875  3000  3.550764e+06  industrial   \n",
      "\n",
      "                                               geometry  block_id  industrial  \\\n",
      "0     POLYGON ((56.34764 58.03500, 56.34762 58.03500...       1.0    0.000000   \n",
      "1     POLYGON ((56.36000 58.03485, 56.35999 58.03486...       NaN         NaN   \n",
      "2     POLYGON ((56.36956 58.03529, 56.36956 58.03528...       NaN         NaN   \n",
      "3     POLYGON ((56.37105 58.03543, 56.37104 58.03542...       NaN         NaN   \n",
      "4     POLYGON ((56.37142 58.03544, 56.37140 58.03544...       NaN         NaN   \n",
      "...                                                 ...       ...         ...   \n",
      "2871  POLYGON ((56.15604 57.88224, 56.15602 57.88224...       NaN         NaN   \n",
      "2872  POLYGON ((56.41638 58.15545, 56.41639 58.15545...       NaN         NaN   \n",
      "2873  POLYGON ((56.53509 58.13568, 56.53508 58.13569...       NaN         NaN   \n",
      "2874  POLYGON ((56.51985 58.14921, 56.51985 58.14923...       NaN         NaN   \n",
      "2875  POLYGON ((56.31847 58.03896, 56.31846 58.03897...    3000.0    0.274725   \n",
      "\n",
      "      retail   service  \n",
      "0        0.0  1.000000  \n",
      "1        NaN       NaN  \n",
      "2        NaN       NaN  \n",
      "3        NaN       NaN  \n",
      "4        NaN       NaN  \n",
      "...      ...       ...  \n",
      "2871     NaN       NaN  \n",
      "2872     NaN       NaN  \n",
      "2873     NaN       NaN  \n",
      "2874     NaN       NaN  \n",
      "2875     0.0  0.725275  \n",
      "\n",
      "[2876 rows x 8 columns]\n"
     ]
    }
   ],
   "source": [
    "\n",
    "# Присоединение данных к геоджейсону\n",
    "merged_gdf = blocks_TAZ.merge(result_table, how='left', left_on='id', right_on='block_id')\n",
    "\n",
    "# Вывод результата\n",
    "print(\"Объединенный геоджейсон с долями из result_table:\")\n",
    "print(merged_gdf)\n"
   ],
   "metadata": {
    "collapsed": false,
    "ExecuteTime": {
     "end_time": "2024-01-07T17:19:30.845796800Z",
     "start_time": "2024-01-07T17:19:30.798902900Z"
    }
   },
   "id": "f9c6ae6de4a40d04"
  },
  {
   "cell_type": "code",
   "execution_count": 8,
   "outputs": [
    {
     "data": {
      "text/plain": "        id          area     landuse  \\\n0        1  1.224163e+06  commercial   \n1        2  1.502047e+06               \n2        3  3.110835e+05               \n3        4  2.325404e+05               \n4        5  2.935132e+05               \n...    ...           ...         ...   \n2871  2880  1.321830e+04  industrial   \n2872  2881  1.290221e+05               \n2873  2883  1.227687e+05               \n2874  2884  2.572212e+03               \n2875  3000  3.550764e+06  industrial   \n\n                                               geometry  block_id  industrial  \\\n0     POLYGON ((56.34764 58.03500, 56.34762 58.03500...       1.0    0.000000   \n1     POLYGON ((56.36000 58.03485, 56.35999 58.03486...       NaN         NaN   \n2     POLYGON ((56.36956 58.03529, 56.36956 58.03528...       NaN         NaN   \n3     POLYGON ((56.37105 58.03543, 56.37104 58.03542...       NaN         NaN   \n4     POLYGON ((56.37142 58.03544, 56.37140 58.03544...       NaN         NaN   \n...                                                 ...       ...         ...   \n2871  POLYGON ((56.15604 57.88224, 56.15602 57.88224...       NaN         NaN   \n2872  POLYGON ((56.41638 58.15545, 56.41639 58.15545...       NaN         NaN   \n2873  POLYGON ((56.53509 58.13568, 56.53508 58.13569...       NaN         NaN   \n2874  POLYGON ((56.51985 58.14921, 56.51985 58.14923...       NaN         NaN   \n2875  POLYGON ((56.31847 58.03896, 56.31846 58.03897...    3000.0    0.274725   \n\n      retail   service  \n0        0.0  1.000000  \n1        NaN       NaN  \n2        NaN       NaN  \n3        NaN       NaN  \n4        NaN       NaN  \n...      ...       ...  \n2871     NaN       NaN  \n2872     NaN       NaN  \n2873     NaN       NaN  \n2874     NaN       NaN  \n2875     0.0  0.725275  \n\n[2876 rows x 8 columns]",
      "text/html": "<div>\n<style scoped>\n    .dataframe tbody tr th:only-of-type {\n        vertical-align: middle;\n    }\n\n    .dataframe tbody tr th {\n        vertical-align: top;\n    }\n\n    .dataframe thead th {\n        text-align: right;\n    }\n</style>\n<table border=\"1\" class=\"dataframe\">\n  <thead>\n    <tr style=\"text-align: right;\">\n      <th></th>\n      <th>id</th>\n      <th>area</th>\n      <th>landuse</th>\n      <th>geometry</th>\n      <th>block_id</th>\n      <th>industrial</th>\n      <th>retail</th>\n      <th>service</th>\n    </tr>\n  </thead>\n  <tbody>\n    <tr>\n      <th>0</th>\n      <td>1</td>\n      <td>1.224163e+06</td>\n      <td>commercial</td>\n      <td>POLYGON ((56.34764 58.03500, 56.34762 58.03500...</td>\n      <td>1.0</td>\n      <td>0.000000</td>\n      <td>0.0</td>\n      <td>1.000000</td>\n    </tr>\n    <tr>\n      <th>1</th>\n      <td>2</td>\n      <td>1.502047e+06</td>\n      <td></td>\n      <td>POLYGON ((56.36000 58.03485, 56.35999 58.03486...</td>\n      <td>NaN</td>\n      <td>NaN</td>\n      <td>NaN</td>\n      <td>NaN</td>\n    </tr>\n    <tr>\n      <th>2</th>\n      <td>3</td>\n      <td>3.110835e+05</td>\n      <td></td>\n      <td>POLYGON ((56.36956 58.03529, 56.36956 58.03528...</td>\n      <td>NaN</td>\n      <td>NaN</td>\n      <td>NaN</td>\n      <td>NaN</td>\n    </tr>\n    <tr>\n      <th>3</th>\n      <td>4</td>\n      <td>2.325404e+05</td>\n      <td></td>\n      <td>POLYGON ((56.37105 58.03543, 56.37104 58.03542...</td>\n      <td>NaN</td>\n      <td>NaN</td>\n      <td>NaN</td>\n      <td>NaN</td>\n    </tr>\n    <tr>\n      <th>4</th>\n      <td>5</td>\n      <td>2.935132e+05</td>\n      <td></td>\n      <td>POLYGON ((56.37142 58.03544, 56.37140 58.03544...</td>\n      <td>NaN</td>\n      <td>NaN</td>\n      <td>NaN</td>\n      <td>NaN</td>\n    </tr>\n    <tr>\n      <th>...</th>\n      <td>...</td>\n      <td>...</td>\n      <td>...</td>\n      <td>...</td>\n      <td>...</td>\n      <td>...</td>\n      <td>...</td>\n      <td>...</td>\n    </tr>\n    <tr>\n      <th>2871</th>\n      <td>2880</td>\n      <td>1.321830e+04</td>\n      <td>industrial</td>\n      <td>POLYGON ((56.15604 57.88224, 56.15602 57.88224...</td>\n      <td>NaN</td>\n      <td>NaN</td>\n      <td>NaN</td>\n      <td>NaN</td>\n    </tr>\n    <tr>\n      <th>2872</th>\n      <td>2881</td>\n      <td>1.290221e+05</td>\n      <td></td>\n      <td>POLYGON ((56.41638 58.15545, 56.41639 58.15545...</td>\n      <td>NaN</td>\n      <td>NaN</td>\n      <td>NaN</td>\n      <td>NaN</td>\n    </tr>\n    <tr>\n      <th>2873</th>\n      <td>2883</td>\n      <td>1.227687e+05</td>\n      <td></td>\n      <td>POLYGON ((56.53509 58.13568, 56.53508 58.13569...</td>\n      <td>NaN</td>\n      <td>NaN</td>\n      <td>NaN</td>\n      <td>NaN</td>\n    </tr>\n    <tr>\n      <th>2874</th>\n      <td>2884</td>\n      <td>2.572212e+03</td>\n      <td></td>\n      <td>POLYGON ((56.51985 58.14921, 56.51985 58.14923...</td>\n      <td>NaN</td>\n      <td>NaN</td>\n      <td>NaN</td>\n      <td>NaN</td>\n    </tr>\n    <tr>\n      <th>2875</th>\n      <td>3000</td>\n      <td>3.550764e+06</td>\n      <td>industrial</td>\n      <td>POLYGON ((56.31847 58.03896, 56.31846 58.03897...</td>\n      <td>3000.0</td>\n      <td>0.274725</td>\n      <td>0.0</td>\n      <td>0.725275</td>\n    </tr>\n  </tbody>\n</table>\n<p>2876 rows × 8 columns</p>\n</div>"
     },
     "execution_count": 8,
     "metadata": {},
     "output_type": "execute_result"
    }
   ],
   "source": [
    "merged_gdf"
   ],
   "metadata": {
    "collapsed": false,
    "ExecuteTime": {
     "end_time": "2024-01-07T17:38:06.033930900Z",
     "start_time": "2024-01-07T17:38:05.971164600Z"
    }
   },
   "id": "879575d44b1c3892"
  },
  {
   "cell_type": "code",
   "execution_count": 10,
   "outputs": [
    {
     "data": {
      "text/plain": "        id          area     landuse  \\\n0        1  1.224163e+06  commercial   \n5        6  3.949440e+07  industrial   \n8        9  5.817216e+07  industrial   \n10      11  2.740008e+05  industrial   \n15      16  2.060076e+05               \n...    ...           ...         ...   \n2860  2869  3.137001e+05  commercial   \n2866  2875  2.419463e+06  industrial   \n2868  2877  1.502041e+05  industrial   \n2870  2879  1.999429e+05  industrial   \n2875  3000  3.550764e+06  industrial   \n\n                                               geometry  block_id  industrial  \\\n0     POLYGON ((56.34764 58.03500, 56.34762 58.03500...       1.0    0.000000   \n5     POLYGON ((56.34129 58.02780, 56.34127 58.02781...       6.0    0.932489   \n8     POLYGON ((56.36243 58.05457, 56.36242 58.05457...       9.0    0.900648   \n10    POLYGON ((56.40011 58.04080, 56.40011 58.04081...      11.0    1.000000   \n15    POLYGON ((56.20791 58.00293, 56.20789 58.00293...      16.0    0.000000   \n...                                                 ...       ...         ...   \n2860  POLYGON ((56.38621 58.14957, 56.38620 58.14958...    2869.0    0.439394   \n2866  POLYGON ((56.36681 58.12208, 56.36681 58.12208...    2875.0    0.546729   \n2868  POLYGON ((56.28264 58.02905, 56.28262 58.02904...    2877.0    1.000000   \n2870  POLYGON ((56.15650 57.88209, 56.15648 57.88209...    2879.0    1.000000   \n2875  POLYGON ((56.31847 58.03896, 56.31846 58.03897...    3000.0    0.274725   \n\n        retail   service  \n0     0.000000  1.000000  \n5     0.067511  0.000000  \n8     0.009719  0.089633  \n10    0.000000  0.000000  \n15    0.133333  0.866667  \n...        ...       ...  \n2860  0.000000  0.560606  \n2866  0.000000  0.453271  \n2868  0.000000  0.000000  \n2870  0.000000  0.000000  \n2875  0.000000  0.725275  \n\n[499 rows x 8 columns]",
      "text/html": "<div>\n<style scoped>\n    .dataframe tbody tr th:only-of-type {\n        vertical-align: middle;\n    }\n\n    .dataframe tbody tr th {\n        vertical-align: top;\n    }\n\n    .dataframe thead th {\n        text-align: right;\n    }\n</style>\n<table border=\"1\" class=\"dataframe\">\n  <thead>\n    <tr style=\"text-align: right;\">\n      <th></th>\n      <th>id</th>\n      <th>area</th>\n      <th>landuse</th>\n      <th>geometry</th>\n      <th>block_id</th>\n      <th>industrial</th>\n      <th>retail</th>\n      <th>service</th>\n    </tr>\n  </thead>\n  <tbody>\n    <tr>\n      <th>0</th>\n      <td>1</td>\n      <td>1.224163e+06</td>\n      <td>commercial</td>\n      <td>POLYGON ((56.34764 58.03500, 56.34762 58.03500...</td>\n      <td>1.0</td>\n      <td>0.000000</td>\n      <td>0.000000</td>\n      <td>1.000000</td>\n    </tr>\n    <tr>\n      <th>5</th>\n      <td>6</td>\n      <td>3.949440e+07</td>\n      <td>industrial</td>\n      <td>POLYGON ((56.34129 58.02780, 56.34127 58.02781...</td>\n      <td>6.0</td>\n      <td>0.932489</td>\n      <td>0.067511</td>\n      <td>0.000000</td>\n    </tr>\n    <tr>\n      <th>8</th>\n      <td>9</td>\n      <td>5.817216e+07</td>\n      <td>industrial</td>\n      <td>POLYGON ((56.36243 58.05457, 56.36242 58.05457...</td>\n      <td>9.0</td>\n      <td>0.900648</td>\n      <td>0.009719</td>\n      <td>0.089633</td>\n    </tr>\n    <tr>\n      <th>10</th>\n      <td>11</td>\n      <td>2.740008e+05</td>\n      <td>industrial</td>\n      <td>POLYGON ((56.40011 58.04080, 56.40011 58.04081...</td>\n      <td>11.0</td>\n      <td>1.000000</td>\n      <td>0.000000</td>\n      <td>0.000000</td>\n    </tr>\n    <tr>\n      <th>15</th>\n      <td>16</td>\n      <td>2.060076e+05</td>\n      <td></td>\n      <td>POLYGON ((56.20791 58.00293, 56.20789 58.00293...</td>\n      <td>16.0</td>\n      <td>0.000000</td>\n      <td>0.133333</td>\n      <td>0.866667</td>\n    </tr>\n    <tr>\n      <th>...</th>\n      <td>...</td>\n      <td>...</td>\n      <td>...</td>\n      <td>...</td>\n      <td>...</td>\n      <td>...</td>\n      <td>...</td>\n      <td>...</td>\n    </tr>\n    <tr>\n      <th>2860</th>\n      <td>2869</td>\n      <td>3.137001e+05</td>\n      <td>commercial</td>\n      <td>POLYGON ((56.38621 58.14957, 56.38620 58.14958...</td>\n      <td>2869.0</td>\n      <td>0.439394</td>\n      <td>0.000000</td>\n      <td>0.560606</td>\n    </tr>\n    <tr>\n      <th>2866</th>\n      <td>2875</td>\n      <td>2.419463e+06</td>\n      <td>industrial</td>\n      <td>POLYGON ((56.36681 58.12208, 56.36681 58.12208...</td>\n      <td>2875.0</td>\n      <td>0.546729</td>\n      <td>0.000000</td>\n      <td>0.453271</td>\n    </tr>\n    <tr>\n      <th>2868</th>\n      <td>2877</td>\n      <td>1.502041e+05</td>\n      <td>industrial</td>\n      <td>POLYGON ((56.28264 58.02905, 56.28262 58.02904...</td>\n      <td>2877.0</td>\n      <td>1.000000</td>\n      <td>0.000000</td>\n      <td>0.000000</td>\n    </tr>\n    <tr>\n      <th>2870</th>\n      <td>2879</td>\n      <td>1.999429e+05</td>\n      <td>industrial</td>\n      <td>POLYGON ((56.15650 57.88209, 56.15648 57.88209...</td>\n      <td>2879.0</td>\n      <td>1.000000</td>\n      <td>0.000000</td>\n      <td>0.000000</td>\n    </tr>\n    <tr>\n      <th>2875</th>\n      <td>3000</td>\n      <td>3.550764e+06</td>\n      <td>industrial</td>\n      <td>POLYGON ((56.31847 58.03896, 56.31846 58.03897...</td>\n      <td>3000.0</td>\n      <td>0.274725</td>\n      <td>0.000000</td>\n      <td>0.725275</td>\n    </tr>\n  </tbody>\n</table>\n<p>499 rows × 8 columns</p>\n</div>"
     },
     "execution_count": 10,
     "metadata": {},
     "output_type": "execute_result"
    }
   ],
   "source": [
    "# оставляем только кварталы, являющиеся грузогенераторами - те, в которых расположено хотя бы 1 рабочее место\n",
    "merged_gdf = merged_gdf.dropna(subset=['block_id'])\n",
    "merged_gdf"
   ],
   "metadata": {
    "collapsed": false,
    "ExecuteTime": {
     "end_time": "2024-01-07T17:52:53.325208400Z",
     "start_time": "2024-01-07T17:52:53.247090Z"
    }
   },
   "id": "7fed7d3df96b1626"
  },
  {
   "cell_type": "code",
   "execution_count": 12,
   "outputs": [
    {
     "data": {
      "text/plain": "        id          area     landuse  \\\n0        1  1.224163e+06  commercial   \n5        6  3.949440e+07  industrial   \n8        9  5.817216e+07  industrial   \n10      11  2.740008e+05  industrial   \n15      16  2.060076e+05               \n...    ...           ...         ...   \n2860  2869  3.137001e+05  commercial   \n2866  2875  2.419463e+06  industrial   \n2868  2877  1.502041e+05  industrial   \n2870  2879  1.999429e+05  industrial   \n2875  3000  3.550764e+06  industrial   \n\n                                               geometry  industrial    retail  \\\n0     POLYGON ((56.34764 58.03500, 56.34762 58.03500...    0.000000  0.000000   \n5     POLYGON ((56.34129 58.02780, 56.34127 58.02781...    0.932489  0.067511   \n8     POLYGON ((56.36243 58.05457, 56.36242 58.05457...    0.900648  0.009719   \n10    POLYGON ((56.40011 58.04080, 56.40011 58.04081...    1.000000  0.000000   \n15    POLYGON ((56.20791 58.00293, 56.20789 58.00293...    0.000000  0.133333   \n...                                                 ...         ...       ...   \n2860  POLYGON ((56.38621 58.14957, 56.38620 58.14958...    0.439394  0.000000   \n2866  POLYGON ((56.36681 58.12208, 56.36681 58.12208...    0.546729  0.000000   \n2868  POLYGON ((56.28264 58.02905, 56.28262 58.02904...    1.000000  0.000000   \n2870  POLYGON ((56.15650 57.88209, 56.15648 57.88209...    1.000000  0.000000   \n2875  POLYGON ((56.31847 58.03896, 56.31846 58.03897...    0.274725  0.000000   \n\n       service  \n0     1.000000  \n5     0.000000  \n8     0.089633  \n10    0.000000  \n15    0.866667  \n...        ...  \n2860  0.560606  \n2866  0.453271  \n2868  0.000000  \n2870  0.000000  \n2875  0.725275  \n\n[499 rows x 7 columns]",
      "text/html": "<div>\n<style scoped>\n    .dataframe tbody tr th:only-of-type {\n        vertical-align: middle;\n    }\n\n    .dataframe tbody tr th {\n        vertical-align: top;\n    }\n\n    .dataframe thead th {\n        text-align: right;\n    }\n</style>\n<table border=\"1\" class=\"dataframe\">\n  <thead>\n    <tr style=\"text-align: right;\">\n      <th></th>\n      <th>id</th>\n      <th>area</th>\n      <th>landuse</th>\n      <th>geometry</th>\n      <th>industrial</th>\n      <th>retail</th>\n      <th>service</th>\n    </tr>\n  </thead>\n  <tbody>\n    <tr>\n      <th>0</th>\n      <td>1</td>\n      <td>1.224163e+06</td>\n      <td>commercial</td>\n      <td>POLYGON ((56.34764 58.03500, 56.34762 58.03500...</td>\n      <td>0.000000</td>\n      <td>0.000000</td>\n      <td>1.000000</td>\n    </tr>\n    <tr>\n      <th>5</th>\n      <td>6</td>\n      <td>3.949440e+07</td>\n      <td>industrial</td>\n      <td>POLYGON ((56.34129 58.02780, 56.34127 58.02781...</td>\n      <td>0.932489</td>\n      <td>0.067511</td>\n      <td>0.000000</td>\n    </tr>\n    <tr>\n      <th>8</th>\n      <td>9</td>\n      <td>5.817216e+07</td>\n      <td>industrial</td>\n      <td>POLYGON ((56.36243 58.05457, 56.36242 58.05457...</td>\n      <td>0.900648</td>\n      <td>0.009719</td>\n      <td>0.089633</td>\n    </tr>\n    <tr>\n      <th>10</th>\n      <td>11</td>\n      <td>2.740008e+05</td>\n      <td>industrial</td>\n      <td>POLYGON ((56.40011 58.04080, 56.40011 58.04081...</td>\n      <td>1.000000</td>\n      <td>0.000000</td>\n      <td>0.000000</td>\n    </tr>\n    <tr>\n      <th>15</th>\n      <td>16</td>\n      <td>2.060076e+05</td>\n      <td></td>\n      <td>POLYGON ((56.20791 58.00293, 56.20789 58.00293...</td>\n      <td>0.000000</td>\n      <td>0.133333</td>\n      <td>0.866667</td>\n    </tr>\n    <tr>\n      <th>...</th>\n      <td>...</td>\n      <td>...</td>\n      <td>...</td>\n      <td>...</td>\n      <td>...</td>\n      <td>...</td>\n      <td>...</td>\n    </tr>\n    <tr>\n      <th>2860</th>\n      <td>2869</td>\n      <td>3.137001e+05</td>\n      <td>commercial</td>\n      <td>POLYGON ((56.38621 58.14957, 56.38620 58.14958...</td>\n      <td>0.439394</td>\n      <td>0.000000</td>\n      <td>0.560606</td>\n    </tr>\n    <tr>\n      <th>2866</th>\n      <td>2875</td>\n      <td>2.419463e+06</td>\n      <td>industrial</td>\n      <td>POLYGON ((56.36681 58.12208, 56.36681 58.12208...</td>\n      <td>0.546729</td>\n      <td>0.000000</td>\n      <td>0.453271</td>\n    </tr>\n    <tr>\n      <th>2868</th>\n      <td>2877</td>\n      <td>1.502041e+05</td>\n      <td>industrial</td>\n      <td>POLYGON ((56.28264 58.02905, 56.28262 58.02904...</td>\n      <td>1.000000</td>\n      <td>0.000000</td>\n      <td>0.000000</td>\n    </tr>\n    <tr>\n      <th>2870</th>\n      <td>2879</td>\n      <td>1.999429e+05</td>\n      <td>industrial</td>\n      <td>POLYGON ((56.15650 57.88209, 56.15648 57.88209...</td>\n      <td>1.000000</td>\n      <td>0.000000</td>\n      <td>0.000000</td>\n    </tr>\n    <tr>\n      <th>2875</th>\n      <td>3000</td>\n      <td>3.550764e+06</td>\n      <td>industrial</td>\n      <td>POLYGON ((56.31847 58.03896, 56.31846 58.03897...</td>\n      <td>0.274725</td>\n      <td>0.000000</td>\n      <td>0.725275</td>\n    </tr>\n  </tbody>\n</table>\n<p>499 rows × 7 columns</p>\n</div>"
     },
     "execution_count": 12,
     "metadata": {},
     "output_type": "execute_result"
    }
   ],
   "source": [
    "merged_gdf = merged_gdf[['id', 'area', 'landuse', 'geometry', 'industrial', 'retail', 'service']]\n",
    "merged_gdf"
   ],
   "metadata": {
    "collapsed": false,
    "ExecuteTime": {
     "end_time": "2024-01-07T18:47:44.405442400Z",
     "start_time": "2024-01-07T18:47:44.296026Z"
    }
   },
   "id": "636f76da811674b3"
  },
  {
   "cell_type": "code",
   "execution_count": 11,
   "outputs": [],
   "source": [
    "merged_gdf.to_file('data/test.geojson', driver='GeoJSON')"
   ],
   "metadata": {
    "collapsed": false,
    "ExecuteTime": {
     "end_time": "2024-01-07T18:15:43.937653600Z",
     "start_time": "2024-01-07T18:15:42.525020100Z"
    }
   },
   "id": "fb1e485e4684e12c"
  },
  {
   "cell_type": "code",
   "execution_count": 7,
   "outputs": [
    {
     "ename": "DriverError",
     "evalue": "data/test.geojson: No such file or directory",
     "output_type": "error",
     "traceback": [
      "\u001B[1;31m---------------------------------------------------------------------------\u001B[0m",
      "\u001B[1;31mCPLE_OpenFailedError\u001B[0m                      Traceback (most recent call last)",
      "File \u001B[1;32mfiona\\\\ogrext.pyx:136\u001B[0m, in \u001B[0;36mfiona.ogrext.gdal_open_vector\u001B[1;34m()\u001B[0m\n",
      "File \u001B[1;32mfiona\\\\_err.pyx:291\u001B[0m, in \u001B[0;36mfiona._err.exc_wrap_pointer\u001B[1;34m()\u001B[0m\n",
      "\u001B[1;31mCPLE_OpenFailedError\u001B[0m: data/test.geojson: No such file or directory",
      "\nDuring handling of the above exception, another exception occurred:\n",
      "\u001B[1;31mDriverError\u001B[0m                               Traceback (most recent call last)",
      "Cell \u001B[1;32mIn[7], line 1\u001B[0m\n\u001B[1;32m----> 1\u001B[0m blocks_TAZ \u001B[38;5;241m=\u001B[39m \u001B[43mgpd\u001B[49m\u001B[38;5;241;43m.\u001B[39;49m\u001B[43mread_file\u001B[49m\u001B[43m(\u001B[49m\u001B[38;5;124;43m\"\u001B[39;49m\u001B[38;5;124;43mdata/test.geojson\u001B[39;49m\u001B[38;5;124;43m\"\u001B[39;49m\u001B[43m)\u001B[49m\n\u001B[0;32m      2\u001B[0m blocks_TAZ\n",
      "File \u001B[1;32m~\\AppData\\Local\\Programs\\Python\\Python39\\lib\\site-packages\\geopandas\\io\\file.py:297\u001B[0m, in \u001B[0;36m_read_file\u001B[1;34m(filename, bbox, mask, rows, engine, **kwargs)\u001B[0m\n\u001B[0;32m    294\u001B[0m     \u001B[38;5;28;01melse\u001B[39;00m:\n\u001B[0;32m    295\u001B[0m         path_or_bytes \u001B[38;5;241m=\u001B[39m filename\n\u001B[1;32m--> 297\u001B[0m     \u001B[38;5;28;01mreturn\u001B[39;00m _read_file_fiona(\n\u001B[0;32m    298\u001B[0m         path_or_bytes, from_bytes, bbox\u001B[38;5;241m=\u001B[39mbbox, mask\u001B[38;5;241m=\u001B[39mmask, rows\u001B[38;5;241m=\u001B[39mrows, \u001B[38;5;241m*\u001B[39m\u001B[38;5;241m*\u001B[39mkwargs\n\u001B[0;32m    299\u001B[0m     )\n\u001B[0;32m    301\u001B[0m \u001B[38;5;28;01melse\u001B[39;00m:\n\u001B[0;32m    302\u001B[0m     \u001B[38;5;28;01mraise\u001B[39;00m \u001B[38;5;167;01mValueError\u001B[39;00m(\u001B[38;5;124mf\u001B[39m\u001B[38;5;124m\"\u001B[39m\u001B[38;5;124munknown engine \u001B[39m\u001B[38;5;124m'\u001B[39m\u001B[38;5;132;01m{\u001B[39;00mengine\u001B[38;5;132;01m}\u001B[39;00m\u001B[38;5;124m'\u001B[39m\u001B[38;5;124m\"\u001B[39m)\n",
      "File \u001B[1;32m~\\AppData\\Local\\Programs\\Python\\Python39\\lib\\site-packages\\geopandas\\io\\file.py:338\u001B[0m, in \u001B[0;36m_read_file_fiona\u001B[1;34m(path_or_bytes, from_bytes, bbox, mask, rows, where, **kwargs)\u001B[0m\n\u001B[0;32m    335\u001B[0m     reader \u001B[38;5;241m=\u001B[39m fiona\u001B[38;5;241m.\u001B[39mopen\n\u001B[0;32m    337\u001B[0m \u001B[38;5;28;01mwith\u001B[39;00m fiona_env():\n\u001B[1;32m--> 338\u001B[0m     \u001B[38;5;28;01mwith\u001B[39;00m reader(path_or_bytes, \u001B[38;5;241m*\u001B[39m\u001B[38;5;241m*\u001B[39mkwargs) \u001B[38;5;28;01mas\u001B[39;00m features:\n\u001B[0;32m    339\u001B[0m         crs \u001B[38;5;241m=\u001B[39m features\u001B[38;5;241m.\u001B[39mcrs_wkt\n\u001B[0;32m    340\u001B[0m         \u001B[38;5;66;03m# attempt to get EPSG code\u001B[39;00m\n",
      "File \u001B[1;32m~\\AppData\\Local\\Programs\\Python\\Python39\\lib\\site-packages\\fiona\\env.py:457\u001B[0m, in \u001B[0;36mensure_env_with_credentials.<locals>.wrapper\u001B[1;34m(*args, **kwds)\u001B[0m\n\u001B[0;32m    454\u001B[0m     session \u001B[38;5;241m=\u001B[39m DummySession()\n\u001B[0;32m    456\u001B[0m \u001B[38;5;28;01mwith\u001B[39;00m env_ctor(session\u001B[38;5;241m=\u001B[39msession):\n\u001B[1;32m--> 457\u001B[0m     \u001B[38;5;28;01mreturn\u001B[39;00m f(\u001B[38;5;241m*\u001B[39margs, \u001B[38;5;241m*\u001B[39m\u001B[38;5;241m*\u001B[39mkwds)\n",
      "File \u001B[1;32m~\\AppData\\Local\\Programs\\Python\\Python39\\lib\\site-packages\\fiona\\__init__.py:319\u001B[0m, in \u001B[0;36mopen\u001B[1;34m(fp, mode, driver, schema, crs, encoding, layer, vfs, enabled_drivers, crs_wkt, allow_unsupported_drivers, **kwargs)\u001B[0m\n\u001B[0;32m    316\u001B[0m     path \u001B[38;5;241m=\u001B[39m parse_path(fp)\n\u001B[0;32m    318\u001B[0m \u001B[38;5;28;01mif\u001B[39;00m mode \u001B[38;5;129;01min\u001B[39;00m (\u001B[38;5;124m\"\u001B[39m\u001B[38;5;124ma\u001B[39m\u001B[38;5;124m\"\u001B[39m, \u001B[38;5;124m\"\u001B[39m\u001B[38;5;124mr\u001B[39m\u001B[38;5;124m\"\u001B[39m):\n\u001B[1;32m--> 319\u001B[0m     colxn \u001B[38;5;241m=\u001B[39m Collection(\n\u001B[0;32m    320\u001B[0m         path,\n\u001B[0;32m    321\u001B[0m         mode,\n\u001B[0;32m    322\u001B[0m         driver\u001B[38;5;241m=\u001B[39mdriver,\n\u001B[0;32m    323\u001B[0m         encoding\u001B[38;5;241m=\u001B[39mencoding,\n\u001B[0;32m    324\u001B[0m         layer\u001B[38;5;241m=\u001B[39mlayer,\n\u001B[0;32m    325\u001B[0m         enabled_drivers\u001B[38;5;241m=\u001B[39menabled_drivers,\n\u001B[0;32m    326\u001B[0m         allow_unsupported_drivers\u001B[38;5;241m=\u001B[39mallow_unsupported_drivers,\n\u001B[0;32m    327\u001B[0m         \u001B[38;5;241m*\u001B[39m\u001B[38;5;241m*\u001B[39mkwargs\n\u001B[0;32m    328\u001B[0m     )\n\u001B[0;32m    329\u001B[0m \u001B[38;5;28;01melif\u001B[39;00m mode \u001B[38;5;241m==\u001B[39m \u001B[38;5;124m\"\u001B[39m\u001B[38;5;124mw\u001B[39m\u001B[38;5;124m\"\u001B[39m:\n\u001B[0;32m    330\u001B[0m     colxn \u001B[38;5;241m=\u001B[39m Collection(\n\u001B[0;32m    331\u001B[0m         path,\n\u001B[0;32m    332\u001B[0m         mode,\n\u001B[1;32m   (...)\u001B[0m\n\u001B[0;32m    341\u001B[0m         \u001B[38;5;241m*\u001B[39m\u001B[38;5;241m*\u001B[39mkwargs\n\u001B[0;32m    342\u001B[0m     )\n",
      "File \u001B[1;32m~\\AppData\\Local\\Programs\\Python\\Python39\\lib\\site-packages\\fiona\\collection.py:243\u001B[0m, in \u001B[0;36mCollection.__init__\u001B[1;34m(self, path, mode, driver, schema, crs, encoding, layer, vsi, archive, enabled_drivers, crs_wkt, ignore_fields, ignore_geometry, include_fields, wkt_version, allow_unsupported_drivers, **kwargs)\u001B[0m\n\u001B[0;32m    241\u001B[0m \u001B[38;5;28;01mif\u001B[39;00m \u001B[38;5;28mself\u001B[39m\u001B[38;5;241m.\u001B[39mmode \u001B[38;5;241m==\u001B[39m \u001B[38;5;124m\"\u001B[39m\u001B[38;5;124mr\u001B[39m\u001B[38;5;124m\"\u001B[39m:\n\u001B[0;32m    242\u001B[0m     \u001B[38;5;28mself\u001B[39m\u001B[38;5;241m.\u001B[39msession \u001B[38;5;241m=\u001B[39m Session()\n\u001B[1;32m--> 243\u001B[0m     \u001B[38;5;28mself\u001B[39m\u001B[38;5;241m.\u001B[39msession\u001B[38;5;241m.\u001B[39mstart(\u001B[38;5;28mself\u001B[39m, \u001B[38;5;241m*\u001B[39m\u001B[38;5;241m*\u001B[39mkwargs)\n\u001B[0;32m    244\u001B[0m \u001B[38;5;28;01melif\u001B[39;00m \u001B[38;5;28mself\u001B[39m\u001B[38;5;241m.\u001B[39mmode \u001B[38;5;129;01min\u001B[39;00m (\u001B[38;5;124m\"\u001B[39m\u001B[38;5;124ma\u001B[39m\u001B[38;5;124m\"\u001B[39m, \u001B[38;5;124m\"\u001B[39m\u001B[38;5;124mw\u001B[39m\u001B[38;5;124m\"\u001B[39m):\n\u001B[0;32m    245\u001B[0m     \u001B[38;5;28mself\u001B[39m\u001B[38;5;241m.\u001B[39msession \u001B[38;5;241m=\u001B[39m WritingSession()\n",
      "File \u001B[1;32mfiona\\\\ogrext.pyx:588\u001B[0m, in \u001B[0;36mfiona.ogrext.Session.start\u001B[1;34m()\u001B[0m\n",
      "File \u001B[1;32mfiona\\\\ogrext.pyx:143\u001B[0m, in \u001B[0;36mfiona.ogrext.gdal_open_vector\u001B[1;34m()\u001B[0m\n",
      "\u001B[1;31mDriverError\u001B[0m: data/test.geojson: No such file or directory"
     ]
    }
   ],
   "source": [
    "blocks_TAZ = gpd.read_file(\"data/test.geojson\")\n",
    "blocks_TAZ"
   ],
   "metadata": {
    "collapsed": false,
    "ExecuteTime": {
     "end_time": "2024-01-13T15:47:35.128589200Z",
     "start_time": "2024-01-13T15:47:34.987144200Z"
    }
   },
   "id": "a81ebd219ca67667"
  },
  {
   "cell_type": "code",
   "execution_count": 5,
   "outputs": [
    {
     "data": {
      "text/plain": "              id    function  is_living  storeys_count  basement_area  \\\n0        4669322         yes      False              1        694.450   \n1       79882759         yes      False              1        214.784   \n2       79882837      office      False              2        776.034   \n3       79883190         yes      False              1        189.197   \n4       89185196  industrial      False              1        450.628   \n...          ...         ...        ...            ...            ...   \n8438  1147821565         yes      False              1       1218.829   \n8439  1148104875         yes      False              1        107.470   \n8440  1148419580      office      False              4        624.885   \n8441  1148746841  industrial      False              1        188.391   \n8442  1149034816  industrial      False              1        516.981   \n\n      block_id    industry  total_area  workers  \\\n0          275  industrial     694.450       41   \n1          752  industrial     214.784        9   \n2          752     service    1552.068       72   \n3          752  industrial     189.197        8   \n4          943  industrial     450.628       19   \n...        ...         ...         ...      ...   \n8438       649  industrial    1218.829       35   \n8439       274     service     107.470        2   \n8440       276     service    2499.540       67   \n8441       274  industrial     188.391        6   \n8442       275  industrial     516.981       18   \n\n                                               geometry  \n0     MULTIPOLYGON (((56.17115 57.88024, 56.17135 57...  \n1     MULTIPOLYGON (((56.34866 58.10470, 56.34892 58...  \n2     MULTIPOLYGON (((56.34712 58.08610, 56.34720 58...  \n3     MULTIPOLYGON (((56.34799 58.10467, 56.34834 58...  \n4     MULTIPOLYGON (((56.12423 58.03430, 56.12452 58...  \n...                                                 ...  \n8438  MULTIPOLYGON (((56.16802 57.91086, 56.16836 57...  \n8439  MULTIPOLYGON (((56.13393 57.92601, 56.13408 57...  \n8440  MULTIPOLYGON (((56.16355 57.88379, 56.16394 57...  \n8441  MULTIPOLYGON (((56.13846 57.90833, 56.13847 57...  \n8442  MULTIPOLYGON (((56.15790 57.87906, 56.15796 57...  \n\n[8443 rows x 10 columns]",
      "text/html": "<div>\n<style scoped>\n    .dataframe tbody tr th:only-of-type {\n        vertical-align: middle;\n    }\n\n    .dataframe tbody tr th {\n        vertical-align: top;\n    }\n\n    .dataframe thead th {\n        text-align: right;\n    }\n</style>\n<table border=\"1\" class=\"dataframe\">\n  <thead>\n    <tr style=\"text-align: right;\">\n      <th></th>\n      <th>id</th>\n      <th>function</th>\n      <th>is_living</th>\n      <th>storeys_count</th>\n      <th>basement_area</th>\n      <th>block_id</th>\n      <th>industry</th>\n      <th>total_area</th>\n      <th>workers</th>\n      <th>geometry</th>\n    </tr>\n  </thead>\n  <tbody>\n    <tr>\n      <th>0</th>\n      <td>4669322</td>\n      <td>yes</td>\n      <td>False</td>\n      <td>1</td>\n      <td>694.450</td>\n      <td>275</td>\n      <td>industrial</td>\n      <td>694.450</td>\n      <td>41</td>\n      <td>MULTIPOLYGON (((56.17115 57.88024, 56.17135 57...</td>\n    </tr>\n    <tr>\n      <th>1</th>\n      <td>79882759</td>\n      <td>yes</td>\n      <td>False</td>\n      <td>1</td>\n      <td>214.784</td>\n      <td>752</td>\n      <td>industrial</td>\n      <td>214.784</td>\n      <td>9</td>\n      <td>MULTIPOLYGON (((56.34866 58.10470, 56.34892 58...</td>\n    </tr>\n    <tr>\n      <th>2</th>\n      <td>79882837</td>\n      <td>office</td>\n      <td>False</td>\n      <td>2</td>\n      <td>776.034</td>\n      <td>752</td>\n      <td>service</td>\n      <td>1552.068</td>\n      <td>72</td>\n      <td>MULTIPOLYGON (((56.34712 58.08610, 56.34720 58...</td>\n    </tr>\n    <tr>\n      <th>3</th>\n      <td>79883190</td>\n      <td>yes</td>\n      <td>False</td>\n      <td>1</td>\n      <td>189.197</td>\n      <td>752</td>\n      <td>industrial</td>\n      <td>189.197</td>\n      <td>8</td>\n      <td>MULTIPOLYGON (((56.34799 58.10467, 56.34834 58...</td>\n    </tr>\n    <tr>\n      <th>4</th>\n      <td>89185196</td>\n      <td>industrial</td>\n      <td>False</td>\n      <td>1</td>\n      <td>450.628</td>\n      <td>943</td>\n      <td>industrial</td>\n      <td>450.628</td>\n      <td>19</td>\n      <td>MULTIPOLYGON (((56.12423 58.03430, 56.12452 58...</td>\n    </tr>\n    <tr>\n      <th>...</th>\n      <td>...</td>\n      <td>...</td>\n      <td>...</td>\n      <td>...</td>\n      <td>...</td>\n      <td>...</td>\n      <td>...</td>\n      <td>...</td>\n      <td>...</td>\n      <td>...</td>\n    </tr>\n    <tr>\n      <th>8438</th>\n      <td>1147821565</td>\n      <td>yes</td>\n      <td>False</td>\n      <td>1</td>\n      <td>1218.829</td>\n      <td>649</td>\n      <td>industrial</td>\n      <td>1218.829</td>\n      <td>35</td>\n      <td>MULTIPOLYGON (((56.16802 57.91086, 56.16836 57...</td>\n    </tr>\n    <tr>\n      <th>8439</th>\n      <td>1148104875</td>\n      <td>yes</td>\n      <td>False</td>\n      <td>1</td>\n      <td>107.470</td>\n      <td>274</td>\n      <td>service</td>\n      <td>107.470</td>\n      <td>2</td>\n      <td>MULTIPOLYGON (((56.13393 57.92601, 56.13408 57...</td>\n    </tr>\n    <tr>\n      <th>8440</th>\n      <td>1148419580</td>\n      <td>office</td>\n      <td>False</td>\n      <td>4</td>\n      <td>624.885</td>\n      <td>276</td>\n      <td>service</td>\n      <td>2499.540</td>\n      <td>67</td>\n      <td>MULTIPOLYGON (((56.16355 57.88379, 56.16394 57...</td>\n    </tr>\n    <tr>\n      <th>8441</th>\n      <td>1148746841</td>\n      <td>industrial</td>\n      <td>False</td>\n      <td>1</td>\n      <td>188.391</td>\n      <td>274</td>\n      <td>industrial</td>\n      <td>188.391</td>\n      <td>6</td>\n      <td>MULTIPOLYGON (((56.13846 57.90833, 56.13847 57...</td>\n    </tr>\n    <tr>\n      <th>8442</th>\n      <td>1149034816</td>\n      <td>industrial</td>\n      <td>False</td>\n      <td>1</td>\n      <td>516.981</td>\n      <td>275</td>\n      <td>industrial</td>\n      <td>516.981</td>\n      <td>18</td>\n      <td>MULTIPOLYGON (((56.15790 57.87906, 56.15796 57...</td>\n    </tr>\n  </tbody>\n</table>\n<p>8443 rows × 10 columns</p>\n</div>"
     },
     "execution_count": 5,
     "metadata": {},
     "output_type": "execute_result"
    }
   ],
   "source": [
    "work_buildings = gpd.read_file(\"data/buildings_with_workers.geojson\")\n",
    "work_buildings"
   ],
   "metadata": {
    "collapsed": false,
    "ExecuteTime": {
     "end_time": "2024-01-12T12:52:46.193517600Z",
     "start_time": "2024-01-12T12:52:42.973555700Z"
    }
   },
   "id": "bd89d8786562ba3b"
  },
  {
   "cell_type": "markdown",
   "source": [
    "Считаем суммарную рабочую площадь по каждой зоне"
   ],
   "metadata": {
    "collapsed": false
   },
   "id": "77a94a21c4d97fbd"
  },
  {
   "cell_type": "code",
   "execution_count": 9,
   "outputs": [],
   "source": [
    "# Группировка данных по block_id и вычисление суммарной площади для каждой зоны\n",
    "work_area_by_block = work_buildings.groupby('block_id')['total_area'].sum().reset_index()\n",
    "\n",
    "# Объединение данных с blocks_TAZ по полю id (blocks_TAZ) и block_id (work_area_by_block)\n",
    "blocks_TAZ1 = blocks_TAZ.merge(work_area_by_block, how='left', left_on='id', right_on='block_id')\n",
    "\n",
    "# Заполнение NaN значений нулями (если какие-то зоны не имеют рабочих зданий)\n",
    "blocks_TAZ1['work_area'] = blocks_TAZ1['total_area'].fillna(0)"
   ],
   "metadata": {
    "collapsed": false,
    "ExecuteTime": {
     "end_time": "2024-01-12T12:58:18.442069700Z",
     "start_time": "2024-01-12T12:58:18.402295800Z"
    }
   },
   "id": "2c6a38b0a63ce523"
  },
  {
   "cell_type": "code",
   "execution_count": 10,
   "outputs": [
    {
     "data": {
      "text/plain": "       id          area     landuse  industrial    retail   service  \\\n0       1  1.224163e+06  commercial    0.000000  0.000000  1.000000   \n1       6  3.949440e+07  industrial    0.932489  0.067511  0.000000   \n2       9  5.817216e+07  industrial    0.900648  0.009719  0.089633   \n3      11  2.740008e+05  industrial    1.000000  0.000000  0.000000   \n4      16  2.060076e+05                0.000000  0.133333  0.866667   \n..    ...           ...         ...         ...       ...       ...   \n494  2869  3.137001e+05  commercial    0.439394  0.000000  0.560606   \n495  2875  2.419463e+06  industrial    0.546729  0.000000  0.453271   \n496  2877  1.502041e+05  industrial    1.000000  0.000000  0.000000   \n497  2879  1.999429e+05  industrial    1.000000  0.000000  0.000000   \n498  3000  3.550764e+06  industrial    0.274725  0.000000  0.725275   \n\n     work_area                                           geometry  \n0     4893.620  POLYGON ((56.34764 58.03500, 56.34762 58.03500...  \n1    29031.391  POLYGON ((56.34129 58.02780, 56.34127 58.02781...  \n2    39884.962  POLYGON ((56.36243 58.05457, 56.36242 58.05457...  \n3      539.633  POLYGON ((56.40011 58.04080, 56.40011 58.04081...  \n4     6815.552  POLYGON ((56.20791 58.00293, 56.20789 58.00293...  \n..         ...                                                ...  \n494   4756.526  POLYGON ((56.38621 58.14957, 56.38620 58.14958...  \n495   9696.609  POLYGON ((56.36681 58.12208, 56.36681 58.12208...  \n496   6515.337  POLYGON ((56.28264 58.02905, 56.28262 58.02904...  \n497   4229.398  POLYGON ((56.15650 57.88209, 56.15648 57.88209...  \n498   8527.540  POLYGON ((56.31847 58.03896, 56.31846 58.03897...  \n\n[499 rows x 8 columns]",
      "text/html": "<div>\n<style scoped>\n    .dataframe tbody tr th:only-of-type {\n        vertical-align: middle;\n    }\n\n    .dataframe tbody tr th {\n        vertical-align: top;\n    }\n\n    .dataframe thead th {\n        text-align: right;\n    }\n</style>\n<table border=\"1\" class=\"dataframe\">\n  <thead>\n    <tr style=\"text-align: right;\">\n      <th></th>\n      <th>id</th>\n      <th>area</th>\n      <th>landuse</th>\n      <th>industrial</th>\n      <th>retail</th>\n      <th>service</th>\n      <th>work_area</th>\n      <th>geometry</th>\n    </tr>\n  </thead>\n  <tbody>\n    <tr>\n      <th>0</th>\n      <td>1</td>\n      <td>1.224163e+06</td>\n      <td>commercial</td>\n      <td>0.000000</td>\n      <td>0.000000</td>\n      <td>1.000000</td>\n      <td>4893.620</td>\n      <td>POLYGON ((56.34764 58.03500, 56.34762 58.03500...</td>\n    </tr>\n    <tr>\n      <th>1</th>\n      <td>6</td>\n      <td>3.949440e+07</td>\n      <td>industrial</td>\n      <td>0.932489</td>\n      <td>0.067511</td>\n      <td>0.000000</td>\n      <td>29031.391</td>\n      <td>POLYGON ((56.34129 58.02780, 56.34127 58.02781...</td>\n    </tr>\n    <tr>\n      <th>2</th>\n      <td>9</td>\n      <td>5.817216e+07</td>\n      <td>industrial</td>\n      <td>0.900648</td>\n      <td>0.009719</td>\n      <td>0.089633</td>\n      <td>39884.962</td>\n      <td>POLYGON ((56.36243 58.05457, 56.36242 58.05457...</td>\n    </tr>\n    <tr>\n      <th>3</th>\n      <td>11</td>\n      <td>2.740008e+05</td>\n      <td>industrial</td>\n      <td>1.000000</td>\n      <td>0.000000</td>\n      <td>0.000000</td>\n      <td>539.633</td>\n      <td>POLYGON ((56.40011 58.04080, 56.40011 58.04081...</td>\n    </tr>\n    <tr>\n      <th>4</th>\n      <td>16</td>\n      <td>2.060076e+05</td>\n      <td></td>\n      <td>0.000000</td>\n      <td>0.133333</td>\n      <td>0.866667</td>\n      <td>6815.552</td>\n      <td>POLYGON ((56.20791 58.00293, 56.20789 58.00293...</td>\n    </tr>\n    <tr>\n      <th>...</th>\n      <td>...</td>\n      <td>...</td>\n      <td>...</td>\n      <td>...</td>\n      <td>...</td>\n      <td>...</td>\n      <td>...</td>\n      <td>...</td>\n    </tr>\n    <tr>\n      <th>494</th>\n      <td>2869</td>\n      <td>3.137001e+05</td>\n      <td>commercial</td>\n      <td>0.439394</td>\n      <td>0.000000</td>\n      <td>0.560606</td>\n      <td>4756.526</td>\n      <td>POLYGON ((56.38621 58.14957, 56.38620 58.14958...</td>\n    </tr>\n    <tr>\n      <th>495</th>\n      <td>2875</td>\n      <td>2.419463e+06</td>\n      <td>industrial</td>\n      <td>0.546729</td>\n      <td>0.000000</td>\n      <td>0.453271</td>\n      <td>9696.609</td>\n      <td>POLYGON ((56.36681 58.12208, 56.36681 58.12208...</td>\n    </tr>\n    <tr>\n      <th>496</th>\n      <td>2877</td>\n      <td>1.502041e+05</td>\n      <td>industrial</td>\n      <td>1.000000</td>\n      <td>0.000000</td>\n      <td>0.000000</td>\n      <td>6515.337</td>\n      <td>POLYGON ((56.28264 58.02905, 56.28262 58.02904...</td>\n    </tr>\n    <tr>\n      <th>497</th>\n      <td>2879</td>\n      <td>1.999429e+05</td>\n      <td>industrial</td>\n      <td>1.000000</td>\n      <td>0.000000</td>\n      <td>0.000000</td>\n      <td>4229.398</td>\n      <td>POLYGON ((56.15650 57.88209, 56.15648 57.88209...</td>\n    </tr>\n    <tr>\n      <th>498</th>\n      <td>3000</td>\n      <td>3.550764e+06</td>\n      <td>industrial</td>\n      <td>0.274725</td>\n      <td>0.000000</td>\n      <td>0.725275</td>\n      <td>8527.540</td>\n      <td>POLYGON ((56.31847 58.03896, 56.31846 58.03897...</td>\n    </tr>\n  </tbody>\n</table>\n<p>499 rows × 8 columns</p>\n</div>"
     },
     "execution_count": 10,
     "metadata": {},
     "output_type": "execute_result"
    }
   ],
   "source": [
    "blocks_TAZ1 = blocks_TAZ1[['id', 'area', 'landuse', 'industrial', 'retail', 'service', 'work_area', 'geometry']]\n",
    "blocks_TAZ1"
   ],
   "metadata": {
    "collapsed": false,
    "ExecuteTime": {
     "end_time": "2024-01-12T12:58:26.360671Z",
     "start_time": "2024-01-12T12:58:26.329404400Z"
    }
   },
   "id": "4110daad525a2ef5"
  },
  {
   "cell_type": "markdown",
   "source": [
    "Считаем суммарную жилую площадь по каждой зоне"
   ],
   "metadata": {
    "collapsed": false
   },
   "id": "160500303b047628"
  },
  {
   "cell_type": "code",
   "execution_count": 11,
   "outputs": [
    {
     "data": {
      "text/plain": "               id      function  is_living  storeys_count  basement_area  \\\n0           28470        school      False              3       2393.244   \n1           28480        school      False              3       2346.316   \n2          290869        school      False              3       2337.493   \n3          299980        school      False              3       2377.855   \n4          300873        school      False              3       2769.566   \n...           ...           ...        ...            ...            ...   \n62803  1150785208    apartments       True              9       1413.145   \n62804  1150785209    apartments       True              9       1987.830   \n62805  1150785213  construction       True             16       1118.595   \n62806  1150785217  construction       True             16        380.318   \n62807  1150785218  construction       True             16        310.757   \n\n       total_area  population  living_area  block_id  \\\n0             NaN           0          0.0      1705   \n1             NaN           0          0.0        31   \n2             NaN           0          0.0       379   \n3             NaN           0          0.0       375   \n4             NaN           0          0.0       371   \n...           ...         ...          ...       ...   \n62803     12718.0         229      12718.0        31   \n62804     17890.0         309      17890.0        31   \n62805     17898.0         325      17898.0        31   \n62806      6085.0         115       6085.0        31   \n62807      4972.0         102       4972.0        31   \n\n                                                geometry  \n0      MULTIPOLYGON (((56.32419 58.03256, 56.32387 58...  \n1      MULTIPOLYGON (((56.35565 58.05996, 56.35499 58...  \n2      MULTIPOLYGON (((56.16076 57.99611, 56.16087 57...  \n3      MULTIPOLYGON (((56.15229 57.99695, 56.15242 57...  \n4      MULTIPOLYGON (((56.14174 57.99620, 56.14186 57...  \n...                                                  ...  \n62803  MULTIPOLYGON (((56.34214 58.05251, 56.34235 58...  \n62804  MULTIPOLYGON (((56.34139 58.05311, 56.34087 58...  \n62805  MULTIPOLYGON (((56.34648 58.05406, 56.34647 58...  \n62806  MULTIPOLYGON (((56.34690 58.05433, 56.34707 58...  \n62807  MULTIPOLYGON (((56.34859 58.05438, 56.34816 58...  \n\n[62808 rows x 10 columns]",
      "text/html": "<div>\n<style scoped>\n    .dataframe tbody tr th:only-of-type {\n        vertical-align: middle;\n    }\n\n    .dataframe tbody tr th {\n        vertical-align: top;\n    }\n\n    .dataframe thead th {\n        text-align: right;\n    }\n</style>\n<table border=\"1\" class=\"dataframe\">\n  <thead>\n    <tr style=\"text-align: right;\">\n      <th></th>\n      <th>id</th>\n      <th>function</th>\n      <th>is_living</th>\n      <th>storeys_count</th>\n      <th>basement_area</th>\n      <th>total_area</th>\n      <th>population</th>\n      <th>living_area</th>\n      <th>block_id</th>\n      <th>geometry</th>\n    </tr>\n  </thead>\n  <tbody>\n    <tr>\n      <th>0</th>\n      <td>28470</td>\n      <td>school</td>\n      <td>False</td>\n      <td>3</td>\n      <td>2393.244</td>\n      <td>NaN</td>\n      <td>0</td>\n      <td>0.0</td>\n      <td>1705</td>\n      <td>MULTIPOLYGON (((56.32419 58.03256, 56.32387 58...</td>\n    </tr>\n    <tr>\n      <th>1</th>\n      <td>28480</td>\n      <td>school</td>\n      <td>False</td>\n      <td>3</td>\n      <td>2346.316</td>\n      <td>NaN</td>\n      <td>0</td>\n      <td>0.0</td>\n      <td>31</td>\n      <td>MULTIPOLYGON (((56.35565 58.05996, 56.35499 58...</td>\n    </tr>\n    <tr>\n      <th>2</th>\n      <td>290869</td>\n      <td>school</td>\n      <td>False</td>\n      <td>3</td>\n      <td>2337.493</td>\n      <td>NaN</td>\n      <td>0</td>\n      <td>0.0</td>\n      <td>379</td>\n      <td>MULTIPOLYGON (((56.16076 57.99611, 56.16087 57...</td>\n    </tr>\n    <tr>\n      <th>3</th>\n      <td>299980</td>\n      <td>school</td>\n      <td>False</td>\n      <td>3</td>\n      <td>2377.855</td>\n      <td>NaN</td>\n      <td>0</td>\n      <td>0.0</td>\n      <td>375</td>\n      <td>MULTIPOLYGON (((56.15229 57.99695, 56.15242 57...</td>\n    </tr>\n    <tr>\n      <th>4</th>\n      <td>300873</td>\n      <td>school</td>\n      <td>False</td>\n      <td>3</td>\n      <td>2769.566</td>\n      <td>NaN</td>\n      <td>0</td>\n      <td>0.0</td>\n      <td>371</td>\n      <td>MULTIPOLYGON (((56.14174 57.99620, 56.14186 57...</td>\n    </tr>\n    <tr>\n      <th>...</th>\n      <td>...</td>\n      <td>...</td>\n      <td>...</td>\n      <td>...</td>\n      <td>...</td>\n      <td>...</td>\n      <td>...</td>\n      <td>...</td>\n      <td>...</td>\n      <td>...</td>\n    </tr>\n    <tr>\n      <th>62803</th>\n      <td>1150785208</td>\n      <td>apartments</td>\n      <td>True</td>\n      <td>9</td>\n      <td>1413.145</td>\n      <td>12718.0</td>\n      <td>229</td>\n      <td>12718.0</td>\n      <td>31</td>\n      <td>MULTIPOLYGON (((56.34214 58.05251, 56.34235 58...</td>\n    </tr>\n    <tr>\n      <th>62804</th>\n      <td>1150785209</td>\n      <td>apartments</td>\n      <td>True</td>\n      <td>9</td>\n      <td>1987.830</td>\n      <td>17890.0</td>\n      <td>309</td>\n      <td>17890.0</td>\n      <td>31</td>\n      <td>MULTIPOLYGON (((56.34139 58.05311, 56.34087 58...</td>\n    </tr>\n    <tr>\n      <th>62805</th>\n      <td>1150785213</td>\n      <td>construction</td>\n      <td>True</td>\n      <td>16</td>\n      <td>1118.595</td>\n      <td>17898.0</td>\n      <td>325</td>\n      <td>17898.0</td>\n      <td>31</td>\n      <td>MULTIPOLYGON (((56.34648 58.05406, 56.34647 58...</td>\n    </tr>\n    <tr>\n      <th>62806</th>\n      <td>1150785217</td>\n      <td>construction</td>\n      <td>True</td>\n      <td>16</td>\n      <td>380.318</td>\n      <td>6085.0</td>\n      <td>115</td>\n      <td>6085.0</td>\n      <td>31</td>\n      <td>MULTIPOLYGON (((56.34690 58.05433, 56.34707 58...</td>\n    </tr>\n    <tr>\n      <th>62807</th>\n      <td>1150785218</td>\n      <td>construction</td>\n      <td>True</td>\n      <td>16</td>\n      <td>310.757</td>\n      <td>4972.0</td>\n      <td>102</td>\n      <td>4972.0</td>\n      <td>31</td>\n      <td>MULTIPOLYGON (((56.34859 58.05438, 56.34816 58...</td>\n    </tr>\n  </tbody>\n</table>\n<p>62808 rows × 10 columns</p>\n</div>"
     },
     "execution_count": 11,
     "metadata": {},
     "output_type": "execute_result"
    }
   ],
   "source": [
    "all_buildings = gpd.read_file(\"data/all_buildings.geojson\")\n",
    "all_buildings"
   ],
   "metadata": {
    "collapsed": false,
    "ExecuteTime": {
     "end_time": "2024-01-12T13:00:55.796941100Z",
     "start_time": "2024-01-12T13:00:35.994569500Z"
    }
   },
   "id": "f524e8b71e624a99"
  },
  {
   "cell_type": "code",
   "execution_count": 12,
   "outputs": [
    {
     "data": {
      "text/plain": "               id      function  is_living  storeys_count  basement_area  \\\n35        2173828           yes       True              7       2405.573   \n44        2414213           yes       True              3       1342.551   \n52        3436636           yes       True              1        176.517   \n53        3958429           yes       True             10       1813.652   \n55        3972447    apartments       True             25       2413.605   \n...           ...           ...        ...            ...            ...   \n62803  1150785208    apartments       True              9       1413.145   \n62804  1150785209    apartments       True              9       1987.830   \n62805  1150785213  construction       True             16       1118.595   \n62806  1150785217  construction       True             16        380.318   \n62807  1150785218  construction       True             16        310.757   \n\n       total_area  population  living_area  block_id  \\\n35        16839.0         319      16839.0       226   \n44         4028.0          73       4028.0       988   \n52          177.0           8        177.0       423   \n53        18137.0         322      18137.0       127   \n55        60340.0        1091      60340.0       127   \n...           ...         ...          ...       ...   \n62803     12718.0         229      12718.0        31   \n62804     17890.0         309      17890.0        31   \n62805     17898.0         325      17898.0        31   \n62806      6085.0         115       6085.0        31   \n62807      4972.0         102       4972.0        31   \n\n                                                geometry  \n35     MULTIPOLYGON (((56.37308 58.11029, 56.37318 58...  \n44     MULTIPOLYGON (((56.28227 57.97740, 56.28220 57...  \n52     MULTIPOLYGON (((56.24230 57.99971, 56.24244 57...  \n53     MULTIPOLYGON (((56.26537 57.99655, 56.26549 57...  \n55     MULTIPOLYGON (((56.26673 57.99620, 56.26660 57...  \n...                                                  ...  \n62803  MULTIPOLYGON (((56.34214 58.05251, 56.34235 58...  \n62804  MULTIPOLYGON (((56.34139 58.05311, 56.34087 58...  \n62805  MULTIPOLYGON (((56.34648 58.05406, 56.34647 58...  \n62806  MULTIPOLYGON (((56.34690 58.05433, 56.34707 58...  \n62807  MULTIPOLYGON (((56.34859 58.05438, 56.34816 58...  \n\n[32579 rows x 10 columns]",
      "text/html": "<div>\n<style scoped>\n    .dataframe tbody tr th:only-of-type {\n        vertical-align: middle;\n    }\n\n    .dataframe tbody tr th {\n        vertical-align: top;\n    }\n\n    .dataframe thead th {\n        text-align: right;\n    }\n</style>\n<table border=\"1\" class=\"dataframe\">\n  <thead>\n    <tr style=\"text-align: right;\">\n      <th></th>\n      <th>id</th>\n      <th>function</th>\n      <th>is_living</th>\n      <th>storeys_count</th>\n      <th>basement_area</th>\n      <th>total_area</th>\n      <th>population</th>\n      <th>living_area</th>\n      <th>block_id</th>\n      <th>geometry</th>\n    </tr>\n  </thead>\n  <tbody>\n    <tr>\n      <th>35</th>\n      <td>2173828</td>\n      <td>yes</td>\n      <td>True</td>\n      <td>7</td>\n      <td>2405.573</td>\n      <td>16839.0</td>\n      <td>319</td>\n      <td>16839.0</td>\n      <td>226</td>\n      <td>MULTIPOLYGON (((56.37308 58.11029, 56.37318 58...</td>\n    </tr>\n    <tr>\n      <th>44</th>\n      <td>2414213</td>\n      <td>yes</td>\n      <td>True</td>\n      <td>3</td>\n      <td>1342.551</td>\n      <td>4028.0</td>\n      <td>73</td>\n      <td>4028.0</td>\n      <td>988</td>\n      <td>MULTIPOLYGON (((56.28227 57.97740, 56.28220 57...</td>\n    </tr>\n    <tr>\n      <th>52</th>\n      <td>3436636</td>\n      <td>yes</td>\n      <td>True</td>\n      <td>1</td>\n      <td>176.517</td>\n      <td>177.0</td>\n      <td>8</td>\n      <td>177.0</td>\n      <td>423</td>\n      <td>MULTIPOLYGON (((56.24230 57.99971, 56.24244 57...</td>\n    </tr>\n    <tr>\n      <th>53</th>\n      <td>3958429</td>\n      <td>yes</td>\n      <td>True</td>\n      <td>10</td>\n      <td>1813.652</td>\n      <td>18137.0</td>\n      <td>322</td>\n      <td>18137.0</td>\n      <td>127</td>\n      <td>MULTIPOLYGON (((56.26537 57.99655, 56.26549 57...</td>\n    </tr>\n    <tr>\n      <th>55</th>\n      <td>3972447</td>\n      <td>apartments</td>\n      <td>True</td>\n      <td>25</td>\n      <td>2413.605</td>\n      <td>60340.0</td>\n      <td>1091</td>\n      <td>60340.0</td>\n      <td>127</td>\n      <td>MULTIPOLYGON (((56.26673 57.99620, 56.26660 57...</td>\n    </tr>\n    <tr>\n      <th>...</th>\n      <td>...</td>\n      <td>...</td>\n      <td>...</td>\n      <td>...</td>\n      <td>...</td>\n      <td>...</td>\n      <td>...</td>\n      <td>...</td>\n      <td>...</td>\n      <td>...</td>\n    </tr>\n    <tr>\n      <th>62803</th>\n      <td>1150785208</td>\n      <td>apartments</td>\n      <td>True</td>\n      <td>9</td>\n      <td>1413.145</td>\n      <td>12718.0</td>\n      <td>229</td>\n      <td>12718.0</td>\n      <td>31</td>\n      <td>MULTIPOLYGON (((56.34214 58.05251, 56.34235 58...</td>\n    </tr>\n    <tr>\n      <th>62804</th>\n      <td>1150785209</td>\n      <td>apartments</td>\n      <td>True</td>\n      <td>9</td>\n      <td>1987.830</td>\n      <td>17890.0</td>\n      <td>309</td>\n      <td>17890.0</td>\n      <td>31</td>\n      <td>MULTIPOLYGON (((56.34139 58.05311, 56.34087 58...</td>\n    </tr>\n    <tr>\n      <th>62805</th>\n      <td>1150785213</td>\n      <td>construction</td>\n      <td>True</td>\n      <td>16</td>\n      <td>1118.595</td>\n      <td>17898.0</td>\n      <td>325</td>\n      <td>17898.0</td>\n      <td>31</td>\n      <td>MULTIPOLYGON (((56.34648 58.05406, 56.34647 58...</td>\n    </tr>\n    <tr>\n      <th>62806</th>\n      <td>1150785217</td>\n      <td>construction</td>\n      <td>True</td>\n      <td>16</td>\n      <td>380.318</td>\n      <td>6085.0</td>\n      <td>115</td>\n      <td>6085.0</td>\n      <td>31</td>\n      <td>MULTIPOLYGON (((56.34690 58.05433, 56.34707 58...</td>\n    </tr>\n    <tr>\n      <th>62807</th>\n      <td>1150785218</td>\n      <td>construction</td>\n      <td>True</td>\n      <td>16</td>\n      <td>310.757</td>\n      <td>4972.0</td>\n      <td>102</td>\n      <td>4972.0</td>\n      <td>31</td>\n      <td>MULTIPOLYGON (((56.34859 58.05438, 56.34816 58...</td>\n    </tr>\n  </tbody>\n</table>\n<p>32579 rows × 10 columns</p>\n</div>"
     },
     "execution_count": 12,
     "metadata": {},
     "output_type": "execute_result"
    }
   ],
   "source": [
    "living_buildings = all_buildings[all_buildings['is_living'] == True]\n",
    "living_buildings"
   ],
   "metadata": {
    "collapsed": false,
    "ExecuteTime": {
     "end_time": "2024-01-12T13:02:16.480058Z",
     "start_time": "2024-01-12T13:02:16.401485800Z"
    }
   },
   "id": "e6474a47fa00b00"
  },
  {
   "cell_type": "code",
   "execution_count": 60,
   "outputs": [
    {
     "data": {
      "text/plain": "       id          area     landuse  industrial    retail   service  \\\n0       1  1.224163e+06  commercial    0.000000  0.000000  1.000000   \n1       6  3.949440e+07  industrial    0.932489  0.067511  0.000000   \n2       9  5.817216e+07  industrial    0.900648  0.009719  0.089633   \n3      11  2.740008e+05  industrial    1.000000  0.000000  0.000000   \n4      16  2.060076e+05                0.000000  0.133333  0.866667   \n..    ...           ...         ...         ...       ...       ...   \n494  2869  3.137001e+05  commercial    0.439394  0.000000  0.560606   \n495  2875  2.419463e+06  industrial    0.546729  0.000000  0.453271   \n496  2877  1.502041e+05  industrial    1.000000  0.000000  0.000000   \n497  2879  1.999429e+05  industrial    1.000000  0.000000  0.000000   \n498  3000  3.550764e+06  industrial    0.274725  0.000000  0.725275   \n\n     work_area                                           geometry  block_id  \\\n0     4893.620  POLYGON ((56.34764 58.03500, 56.34762 58.03500...       1.0   \n1    29031.391  POLYGON ((56.34129 58.02780, 56.34127 58.02781...       6.0   \n2    39884.962  POLYGON ((56.36243 58.05457, 56.36242 58.05457...       9.0   \n3      539.633  POLYGON ((56.40011 58.04080, 56.40011 58.04081...      11.0   \n4     6815.552  POLYGON ((56.20791 58.00293, 56.20789 58.00293...      16.0   \n..         ...                                                ...       ...   \n494   4756.526  POLYGON ((56.38621 58.14957, 56.38620 58.14958...       NaN   \n495   9696.609  POLYGON ((56.36681 58.12208, 56.36681 58.12208...    2875.0   \n496   6515.337  POLYGON ((56.28264 58.02905, 56.28262 58.02904...       NaN   \n497   4229.398  POLYGON ((56.15650 57.88209, 56.15648 57.88209...       NaN   \n498   8527.540  POLYGON ((56.31847 58.03896, 56.31846 58.03897...    3000.0   \n\n     living_area  \n0       113243.0  \n1        45179.0  \n2       304269.0  \n3         1527.0  \n4        79678.0  \n..           ...  \n494          0.0  \n495       1284.0  \n496          0.0  \n497          0.0  \n498      46561.0  \n\n[499 rows x 10 columns]",
      "text/html": "<div>\n<style scoped>\n    .dataframe tbody tr th:only-of-type {\n        vertical-align: middle;\n    }\n\n    .dataframe tbody tr th {\n        vertical-align: top;\n    }\n\n    .dataframe thead th {\n        text-align: right;\n    }\n</style>\n<table border=\"1\" class=\"dataframe\">\n  <thead>\n    <tr style=\"text-align: right;\">\n      <th></th>\n      <th>id</th>\n      <th>area</th>\n      <th>landuse</th>\n      <th>industrial</th>\n      <th>retail</th>\n      <th>service</th>\n      <th>work_area</th>\n      <th>geometry</th>\n      <th>block_id</th>\n      <th>living_area</th>\n    </tr>\n  </thead>\n  <tbody>\n    <tr>\n      <th>0</th>\n      <td>1</td>\n      <td>1.224163e+06</td>\n      <td>commercial</td>\n      <td>0.000000</td>\n      <td>0.000000</td>\n      <td>1.000000</td>\n      <td>4893.620</td>\n      <td>POLYGON ((56.34764 58.03500, 56.34762 58.03500...</td>\n      <td>1.0</td>\n      <td>113243.0</td>\n    </tr>\n    <tr>\n      <th>1</th>\n      <td>6</td>\n      <td>3.949440e+07</td>\n      <td>industrial</td>\n      <td>0.932489</td>\n      <td>0.067511</td>\n      <td>0.000000</td>\n      <td>29031.391</td>\n      <td>POLYGON ((56.34129 58.02780, 56.34127 58.02781...</td>\n      <td>6.0</td>\n      <td>45179.0</td>\n    </tr>\n    <tr>\n      <th>2</th>\n      <td>9</td>\n      <td>5.817216e+07</td>\n      <td>industrial</td>\n      <td>0.900648</td>\n      <td>0.009719</td>\n      <td>0.089633</td>\n      <td>39884.962</td>\n      <td>POLYGON ((56.36243 58.05457, 56.36242 58.05457...</td>\n      <td>9.0</td>\n      <td>304269.0</td>\n    </tr>\n    <tr>\n      <th>3</th>\n      <td>11</td>\n      <td>2.740008e+05</td>\n      <td>industrial</td>\n      <td>1.000000</td>\n      <td>0.000000</td>\n      <td>0.000000</td>\n      <td>539.633</td>\n      <td>POLYGON ((56.40011 58.04080, 56.40011 58.04081...</td>\n      <td>11.0</td>\n      <td>1527.0</td>\n    </tr>\n    <tr>\n      <th>4</th>\n      <td>16</td>\n      <td>2.060076e+05</td>\n      <td></td>\n      <td>0.000000</td>\n      <td>0.133333</td>\n      <td>0.866667</td>\n      <td>6815.552</td>\n      <td>POLYGON ((56.20791 58.00293, 56.20789 58.00293...</td>\n      <td>16.0</td>\n      <td>79678.0</td>\n    </tr>\n    <tr>\n      <th>...</th>\n      <td>...</td>\n      <td>...</td>\n      <td>...</td>\n      <td>...</td>\n      <td>...</td>\n      <td>...</td>\n      <td>...</td>\n      <td>...</td>\n      <td>...</td>\n      <td>...</td>\n    </tr>\n    <tr>\n      <th>494</th>\n      <td>2869</td>\n      <td>3.137001e+05</td>\n      <td>commercial</td>\n      <td>0.439394</td>\n      <td>0.000000</td>\n      <td>0.560606</td>\n      <td>4756.526</td>\n      <td>POLYGON ((56.38621 58.14957, 56.38620 58.14958...</td>\n      <td>NaN</td>\n      <td>0.0</td>\n    </tr>\n    <tr>\n      <th>495</th>\n      <td>2875</td>\n      <td>2.419463e+06</td>\n      <td>industrial</td>\n      <td>0.546729</td>\n      <td>0.000000</td>\n      <td>0.453271</td>\n      <td>9696.609</td>\n      <td>POLYGON ((56.36681 58.12208, 56.36681 58.12208...</td>\n      <td>2875.0</td>\n      <td>1284.0</td>\n    </tr>\n    <tr>\n      <th>496</th>\n      <td>2877</td>\n      <td>1.502041e+05</td>\n      <td>industrial</td>\n      <td>1.000000</td>\n      <td>0.000000</td>\n      <td>0.000000</td>\n      <td>6515.337</td>\n      <td>POLYGON ((56.28264 58.02905, 56.28262 58.02904...</td>\n      <td>NaN</td>\n      <td>0.0</td>\n    </tr>\n    <tr>\n      <th>497</th>\n      <td>2879</td>\n      <td>1.999429e+05</td>\n      <td>industrial</td>\n      <td>1.000000</td>\n      <td>0.000000</td>\n      <td>0.000000</td>\n      <td>4229.398</td>\n      <td>POLYGON ((56.15650 57.88209, 56.15648 57.88209...</td>\n      <td>NaN</td>\n      <td>0.0</td>\n    </tr>\n    <tr>\n      <th>498</th>\n      <td>3000</td>\n      <td>3.550764e+06</td>\n      <td>industrial</td>\n      <td>0.274725</td>\n      <td>0.000000</td>\n      <td>0.725275</td>\n      <td>8527.540</td>\n      <td>POLYGON ((56.31847 58.03896, 56.31846 58.03897...</td>\n      <td>3000.0</td>\n      <td>46561.0</td>\n    </tr>\n  </tbody>\n</table>\n<p>499 rows × 10 columns</p>\n</div>"
     },
     "execution_count": 60,
     "metadata": {},
     "output_type": "execute_result"
    }
   ],
   "source": [
    "# Группировка данных по block_id и вычисление суммарной жилой площади для каждой зоны\n",
    "living_area_by_block = living_buildings.groupby('block_id')['living_area'].sum().reset_index()\n",
    "\n",
    "# Объединение данных с blocks_TAZ по полю id (blocks_TAZ) и block_id (work_area_by_block)\n",
    "blocks_TAZ2 = blocks_TAZ1.merge(living_area_by_block, how='left', left_on='id', right_on='block_id')\n",
    "\n",
    "# Заполнение NaN значений нулями (если какие-то зоны не имеют рабочих зданий)\n",
    "blocks_TAZ2['living_area'] = blocks_TAZ2['living_area'].fillna(0)\n",
    "blocks_TAZ2"
   ],
   "metadata": {
    "collapsed": false,
    "ExecuteTime": {
     "end_time": "2024-01-12T18:54:47.197432800Z",
     "start_time": "2024-01-12T18:54:47.118906700Z"
    }
   },
   "id": "cd03f28af3506a2b"
  },
  {
   "cell_type": "code",
   "execution_count": 61,
   "outputs": [
    {
     "data": {
      "text/plain": "       id          area      landuse  industrial    retail   service  \\\n0       1  1.224163e+06  residential    0.000000  0.000000  1.000000   \n1       6  3.949440e+07  residential    0.932489  0.067511  0.000000   \n2       9  5.817216e+07  residential    0.900648  0.009719  0.089633   \n3      11  2.740008e+05  residential    1.000000  0.000000  0.000000   \n4      16  2.060076e+05  residential    0.000000  0.133333  0.866667   \n..    ...           ...          ...         ...       ...       ...   \n494  2869  3.137001e+05   commercial    0.439394  0.000000  0.560606   \n495  2875  2.419463e+06   industrial    0.546729  0.000000  0.453271   \n496  2877  1.502041e+05   industrial    1.000000  0.000000  0.000000   \n497  2879  1.999429e+05   industrial    1.000000  0.000000  0.000000   \n498  3000  3.550764e+06  residential    0.274725  0.000000  0.725275   \n\n     work_area                                           geometry  block_id  \\\n0     4893.620  POLYGON ((56.34764 58.03500, 56.34762 58.03500...       1.0   \n1    29031.391  POLYGON ((56.34129 58.02780, 56.34127 58.02781...       6.0   \n2    39884.962  POLYGON ((56.36243 58.05457, 56.36242 58.05457...       9.0   \n3      539.633  POLYGON ((56.40011 58.04080, 56.40011 58.04081...      11.0   \n4     6815.552  POLYGON ((56.20791 58.00293, 56.20789 58.00293...      16.0   \n..         ...                                                ...       ...   \n494   4756.526  POLYGON ((56.38621 58.14957, 56.38620 58.14958...       NaN   \n495   9696.609  POLYGON ((56.36681 58.12208, 56.36681 58.12208...    2875.0   \n496   6515.337  POLYGON ((56.28264 58.02905, 56.28262 58.02904...       NaN   \n497   4229.398  POLYGON ((56.15650 57.88209, 56.15648 57.88209...       NaN   \n498   8527.540  POLYGON ((56.31847 58.03896, 56.31846 58.03897...    3000.0   \n\n     living_area  \n0       113243.0  \n1        45179.0  \n2       304269.0  \n3         1527.0  \n4        79678.0  \n..           ...  \n494          0.0  \n495       1284.0  \n496          0.0  \n497          0.0  \n498      46561.0  \n\n[499 rows x 10 columns]",
      "text/html": "<div>\n<style scoped>\n    .dataframe tbody tr th:only-of-type {\n        vertical-align: middle;\n    }\n\n    .dataframe tbody tr th {\n        vertical-align: top;\n    }\n\n    .dataframe thead th {\n        text-align: right;\n    }\n</style>\n<table border=\"1\" class=\"dataframe\">\n  <thead>\n    <tr style=\"text-align: right;\">\n      <th></th>\n      <th>id</th>\n      <th>area</th>\n      <th>landuse</th>\n      <th>industrial</th>\n      <th>retail</th>\n      <th>service</th>\n      <th>work_area</th>\n      <th>geometry</th>\n      <th>block_id</th>\n      <th>living_area</th>\n    </tr>\n  </thead>\n  <tbody>\n    <tr>\n      <th>0</th>\n      <td>1</td>\n      <td>1.224163e+06</td>\n      <td>residential</td>\n      <td>0.000000</td>\n      <td>0.000000</td>\n      <td>1.000000</td>\n      <td>4893.620</td>\n      <td>POLYGON ((56.34764 58.03500, 56.34762 58.03500...</td>\n      <td>1.0</td>\n      <td>113243.0</td>\n    </tr>\n    <tr>\n      <th>1</th>\n      <td>6</td>\n      <td>3.949440e+07</td>\n      <td>residential</td>\n      <td>0.932489</td>\n      <td>0.067511</td>\n      <td>0.000000</td>\n      <td>29031.391</td>\n      <td>POLYGON ((56.34129 58.02780, 56.34127 58.02781...</td>\n      <td>6.0</td>\n      <td>45179.0</td>\n    </tr>\n    <tr>\n      <th>2</th>\n      <td>9</td>\n      <td>5.817216e+07</td>\n      <td>residential</td>\n      <td>0.900648</td>\n      <td>0.009719</td>\n      <td>0.089633</td>\n      <td>39884.962</td>\n      <td>POLYGON ((56.36243 58.05457, 56.36242 58.05457...</td>\n      <td>9.0</td>\n      <td>304269.0</td>\n    </tr>\n    <tr>\n      <th>3</th>\n      <td>11</td>\n      <td>2.740008e+05</td>\n      <td>residential</td>\n      <td>1.000000</td>\n      <td>0.000000</td>\n      <td>0.000000</td>\n      <td>539.633</td>\n      <td>POLYGON ((56.40011 58.04080, 56.40011 58.04081...</td>\n      <td>11.0</td>\n      <td>1527.0</td>\n    </tr>\n    <tr>\n      <th>4</th>\n      <td>16</td>\n      <td>2.060076e+05</td>\n      <td>residential</td>\n      <td>0.000000</td>\n      <td>0.133333</td>\n      <td>0.866667</td>\n      <td>6815.552</td>\n      <td>POLYGON ((56.20791 58.00293, 56.20789 58.00293...</td>\n      <td>16.0</td>\n      <td>79678.0</td>\n    </tr>\n    <tr>\n      <th>...</th>\n      <td>...</td>\n      <td>...</td>\n      <td>...</td>\n      <td>...</td>\n      <td>...</td>\n      <td>...</td>\n      <td>...</td>\n      <td>...</td>\n      <td>...</td>\n      <td>...</td>\n    </tr>\n    <tr>\n      <th>494</th>\n      <td>2869</td>\n      <td>3.137001e+05</td>\n      <td>commercial</td>\n      <td>0.439394</td>\n      <td>0.000000</td>\n      <td>0.560606</td>\n      <td>4756.526</td>\n      <td>POLYGON ((56.38621 58.14957, 56.38620 58.14958...</td>\n      <td>NaN</td>\n      <td>0.0</td>\n    </tr>\n    <tr>\n      <th>495</th>\n      <td>2875</td>\n      <td>2.419463e+06</td>\n      <td>industrial</td>\n      <td>0.546729</td>\n      <td>0.000000</td>\n      <td>0.453271</td>\n      <td>9696.609</td>\n      <td>POLYGON ((56.36681 58.12208, 56.36681 58.12208...</td>\n      <td>2875.0</td>\n      <td>1284.0</td>\n    </tr>\n    <tr>\n      <th>496</th>\n      <td>2877</td>\n      <td>1.502041e+05</td>\n      <td>industrial</td>\n      <td>1.000000</td>\n      <td>0.000000</td>\n      <td>0.000000</td>\n      <td>6515.337</td>\n      <td>POLYGON ((56.28264 58.02905, 56.28262 58.02904...</td>\n      <td>NaN</td>\n      <td>0.0</td>\n    </tr>\n    <tr>\n      <th>497</th>\n      <td>2879</td>\n      <td>1.999429e+05</td>\n      <td>industrial</td>\n      <td>1.000000</td>\n      <td>0.000000</td>\n      <td>0.000000</td>\n      <td>4229.398</td>\n      <td>POLYGON ((56.15650 57.88209, 56.15648 57.88209...</td>\n      <td>NaN</td>\n      <td>0.0</td>\n    </tr>\n    <tr>\n      <th>498</th>\n      <td>3000</td>\n      <td>3.550764e+06</td>\n      <td>residential</td>\n      <td>0.274725</td>\n      <td>0.000000</td>\n      <td>0.725275</td>\n      <td>8527.540</td>\n      <td>POLYGON ((56.31847 58.03896, 56.31846 58.03897...</td>\n      <td>3000.0</td>\n      <td>46561.0</td>\n    </tr>\n  </tbody>\n</table>\n<p>499 rows × 10 columns</p>\n</div>"
     },
     "execution_count": 61,
     "metadata": {},
     "output_type": "execute_result"
    }
   ],
   "source": [
    "blocks_TAZ2['landuse'] = np.where(blocks_TAZ2['work_area'] < blocks_TAZ2['living_area'], 'residential', blocks_TAZ2['landuse'])\n",
    "blocks_TAZ2"
   ],
   "metadata": {
    "collapsed": false,
    "ExecuteTime": {
     "end_time": "2024-01-12T18:54:49.720409Z",
     "start_time": "2024-01-12T18:54:49.641853600Z"
    }
   },
   "id": "c3a0f4a494538331"
  },
  {
   "cell_type": "code",
   "execution_count": 62,
   "outputs": [
    {
     "data": {
      "text/plain": "61"
     },
     "execution_count": 62,
     "metadata": {},
     "output_type": "execute_result"
    }
   ],
   "source": [
    "len(blocks_TAZ2[blocks_TAZ2['landuse'] == ''])"
   ],
   "metadata": {
    "collapsed": false,
    "ExecuteTime": {
     "end_time": "2024-01-12T18:54:51.914668400Z",
     "start_time": "2024-01-12T18:54:51.883405200Z"
    }
   },
   "id": "c9fc45e48321928e"
  },
  {
   "cell_type": "code",
   "execution_count": 63,
   "outputs": [
    {
     "data": {
      "text/plain": "       id          area      landuse  industrial    retail   service  \\\n0       1  1.224163e+06  residential    0.000000  0.000000  1.000000   \n1       6  3.949440e+07  residential    0.932489  0.067511  0.000000   \n2       9  5.817216e+07  residential    0.900648  0.009719  0.089633   \n3      11  2.740008e+05  residential    1.000000  0.000000  0.000000   \n4      16  2.060076e+05  residential    0.000000  0.133333  0.866667   \n..    ...           ...          ...         ...       ...       ...   \n494  2869  3.137001e+05   commercial    0.439394  0.000000  0.560606   \n495  2875  2.419463e+06   industrial    0.546729  0.000000  0.453271   \n496  2877  1.502041e+05   industrial    1.000000  0.000000  0.000000   \n497  2879  1.999429e+05   industrial    1.000000  0.000000  0.000000   \n498  3000  3.550764e+06  residential    0.274725  0.000000  0.725275   \n\n     work_area                                           geometry  block_id  \\\n0     4893.620  POLYGON ((56.34764 58.03500, 56.34762 58.03500...       1.0   \n1    29031.391  POLYGON ((56.34129 58.02780, 56.34127 58.02781...       6.0   \n2    39884.962  POLYGON ((56.36243 58.05457, 56.36242 58.05457...       9.0   \n3      539.633  POLYGON ((56.40011 58.04080, 56.40011 58.04081...      11.0   \n4     6815.552  POLYGON ((56.20791 58.00293, 56.20789 58.00293...      16.0   \n..         ...                                                ...       ...   \n494   4756.526  POLYGON ((56.38621 58.14957, 56.38620 58.14958...       NaN   \n495   9696.609  POLYGON ((56.36681 58.12208, 56.36681 58.12208...    2875.0   \n496   6515.337  POLYGON ((56.28264 58.02905, 56.28262 58.02904...       NaN   \n497   4229.398  POLYGON ((56.15650 57.88209, 56.15648 57.88209...       NaN   \n498   8527.540  POLYGON ((56.31847 58.03896, 56.31846 58.03897...    3000.0   \n\n     living_area        temp  \n0       113243.0  commercial  \n1        45179.0  industrial  \n2       304269.0  industrial  \n3         1527.0  industrial  \n4        79678.0  commercial  \n..           ...         ...  \n494          0.0  commercial  \n495       1284.0  industrial  \n496          0.0  industrial  \n497          0.0  industrial  \n498      46561.0  commercial  \n\n[499 rows x 11 columns]",
      "text/html": "<div>\n<style scoped>\n    .dataframe tbody tr th:only-of-type {\n        vertical-align: middle;\n    }\n\n    .dataframe tbody tr th {\n        vertical-align: top;\n    }\n\n    .dataframe thead th {\n        text-align: right;\n    }\n</style>\n<table border=\"1\" class=\"dataframe\">\n  <thead>\n    <tr style=\"text-align: right;\">\n      <th></th>\n      <th>id</th>\n      <th>area</th>\n      <th>landuse</th>\n      <th>industrial</th>\n      <th>retail</th>\n      <th>service</th>\n      <th>work_area</th>\n      <th>geometry</th>\n      <th>block_id</th>\n      <th>living_area</th>\n      <th>temp</th>\n    </tr>\n  </thead>\n  <tbody>\n    <tr>\n      <th>0</th>\n      <td>1</td>\n      <td>1.224163e+06</td>\n      <td>residential</td>\n      <td>0.000000</td>\n      <td>0.000000</td>\n      <td>1.000000</td>\n      <td>4893.620</td>\n      <td>POLYGON ((56.34764 58.03500, 56.34762 58.03500...</td>\n      <td>1.0</td>\n      <td>113243.0</td>\n      <td>commercial</td>\n    </tr>\n    <tr>\n      <th>1</th>\n      <td>6</td>\n      <td>3.949440e+07</td>\n      <td>residential</td>\n      <td>0.932489</td>\n      <td>0.067511</td>\n      <td>0.000000</td>\n      <td>29031.391</td>\n      <td>POLYGON ((56.34129 58.02780, 56.34127 58.02781...</td>\n      <td>6.0</td>\n      <td>45179.0</td>\n      <td>industrial</td>\n    </tr>\n    <tr>\n      <th>2</th>\n      <td>9</td>\n      <td>5.817216e+07</td>\n      <td>residential</td>\n      <td>0.900648</td>\n      <td>0.009719</td>\n      <td>0.089633</td>\n      <td>39884.962</td>\n      <td>POLYGON ((56.36243 58.05457, 56.36242 58.05457...</td>\n      <td>9.0</td>\n      <td>304269.0</td>\n      <td>industrial</td>\n    </tr>\n    <tr>\n      <th>3</th>\n      <td>11</td>\n      <td>2.740008e+05</td>\n      <td>residential</td>\n      <td>1.000000</td>\n      <td>0.000000</td>\n      <td>0.000000</td>\n      <td>539.633</td>\n      <td>POLYGON ((56.40011 58.04080, 56.40011 58.04081...</td>\n      <td>11.0</td>\n      <td>1527.0</td>\n      <td>industrial</td>\n    </tr>\n    <tr>\n      <th>4</th>\n      <td>16</td>\n      <td>2.060076e+05</td>\n      <td>residential</td>\n      <td>0.000000</td>\n      <td>0.133333</td>\n      <td>0.866667</td>\n      <td>6815.552</td>\n      <td>POLYGON ((56.20791 58.00293, 56.20789 58.00293...</td>\n      <td>16.0</td>\n      <td>79678.0</td>\n      <td>commercial</td>\n    </tr>\n    <tr>\n      <th>...</th>\n      <td>...</td>\n      <td>...</td>\n      <td>...</td>\n      <td>...</td>\n      <td>...</td>\n      <td>...</td>\n      <td>...</td>\n      <td>...</td>\n      <td>...</td>\n      <td>...</td>\n      <td>...</td>\n    </tr>\n    <tr>\n      <th>494</th>\n      <td>2869</td>\n      <td>3.137001e+05</td>\n      <td>commercial</td>\n      <td>0.439394</td>\n      <td>0.000000</td>\n      <td>0.560606</td>\n      <td>4756.526</td>\n      <td>POLYGON ((56.38621 58.14957, 56.38620 58.14958...</td>\n      <td>NaN</td>\n      <td>0.0</td>\n      <td>commercial</td>\n    </tr>\n    <tr>\n      <th>495</th>\n      <td>2875</td>\n      <td>2.419463e+06</td>\n      <td>industrial</td>\n      <td>0.546729</td>\n      <td>0.000000</td>\n      <td>0.453271</td>\n      <td>9696.609</td>\n      <td>POLYGON ((56.36681 58.12208, 56.36681 58.12208...</td>\n      <td>2875.0</td>\n      <td>1284.0</td>\n      <td>industrial</td>\n    </tr>\n    <tr>\n      <th>496</th>\n      <td>2877</td>\n      <td>1.502041e+05</td>\n      <td>industrial</td>\n      <td>1.000000</td>\n      <td>0.000000</td>\n      <td>0.000000</td>\n      <td>6515.337</td>\n      <td>POLYGON ((56.28264 58.02905, 56.28262 58.02904...</td>\n      <td>NaN</td>\n      <td>0.0</td>\n      <td>industrial</td>\n    </tr>\n    <tr>\n      <th>497</th>\n      <td>2879</td>\n      <td>1.999429e+05</td>\n      <td>industrial</td>\n      <td>1.000000</td>\n      <td>0.000000</td>\n      <td>0.000000</td>\n      <td>4229.398</td>\n      <td>POLYGON ((56.15650 57.88209, 56.15648 57.88209...</td>\n      <td>NaN</td>\n      <td>0.0</td>\n      <td>industrial</td>\n    </tr>\n    <tr>\n      <th>498</th>\n      <td>3000</td>\n      <td>3.550764e+06</td>\n      <td>residential</td>\n      <td>0.274725</td>\n      <td>0.000000</td>\n      <td>0.725275</td>\n      <td>8527.540</td>\n      <td>POLYGON ((56.31847 58.03896, 56.31846 58.03897...</td>\n      <td>3000.0</td>\n      <td>46561.0</td>\n      <td>commercial</td>\n    </tr>\n  </tbody>\n</table>\n<p>499 rows × 11 columns</p>\n</div>"
     },
     "execution_count": 63,
     "metadata": {},
     "output_type": "execute_result"
    }
   ],
   "source": [
    "# Создаем дополнительную переменную, в которую запишем чего больше, коммерческих или промышленных площадей в квартале\n",
    "blocks_TAZ3 = blocks_TAZ2\n",
    "blocks_TAZ3['temp'] = np.where(((blocks_TAZ2['service'] + blocks_TAZ2['retail']) > blocks_TAZ2['industrial']), 'commercial', 'industrial')\n",
    "blocks_TAZ3"
   ],
   "metadata": {
    "collapsed": false,
    "ExecuteTime": {
     "end_time": "2024-01-12T18:56:32.161764700Z",
     "start_time": "2024-01-12T18:56:32.067473600Z"
    }
   },
   "id": "3b2eaf6a407ca497"
  },
  {
   "cell_type": "code",
   "execution_count": 64,
   "outputs": [
    {
     "data": {
      "text/plain": "       id          area      landuse  industrial    retail   service  \\\n0       1  1.224163e+06  residential    0.000000  0.000000  1.000000   \n1       6  3.949440e+07  residential    0.932489  0.067511  0.000000   \n2       9  5.817216e+07  residential    0.900648  0.009719  0.089633   \n3      11  2.740008e+05  residential    1.000000  0.000000  0.000000   \n4      16  2.060076e+05  residential    0.000000  0.133333  0.866667   \n..    ...           ...          ...         ...       ...       ...   \n494  2869  3.137001e+05   commercial    0.439394  0.000000  0.560606   \n495  2875  2.419463e+06   industrial    0.546729  0.000000  0.453271   \n496  2877  1.502041e+05   industrial    1.000000  0.000000  0.000000   \n497  2879  1.999429e+05   industrial    1.000000  0.000000  0.000000   \n498  3000  3.550764e+06  residential    0.274725  0.000000  0.725275   \n\n     work_area                                           geometry  block_id  \\\n0     4893.620  POLYGON ((56.34764 58.03500, 56.34762 58.03500...       1.0   \n1    29031.391  POLYGON ((56.34129 58.02780, 56.34127 58.02781...       6.0   \n2    39884.962  POLYGON ((56.36243 58.05457, 56.36242 58.05457...       9.0   \n3      539.633  POLYGON ((56.40011 58.04080, 56.40011 58.04081...      11.0   \n4     6815.552  POLYGON ((56.20791 58.00293, 56.20789 58.00293...      16.0   \n..         ...                                                ...       ...   \n494   4756.526  POLYGON ((56.38621 58.14957, 56.38620 58.14958...       NaN   \n495   9696.609  POLYGON ((56.36681 58.12208, 56.36681 58.12208...    2875.0   \n496   6515.337  POLYGON ((56.28264 58.02905, 56.28262 58.02904...       NaN   \n497   4229.398  POLYGON ((56.15650 57.88209, 56.15648 57.88209...       NaN   \n498   8527.540  POLYGON ((56.31847 58.03896, 56.31846 58.03897...    3000.0   \n\n     living_area        temp  \n0       113243.0  commercial  \n1        45179.0  industrial  \n2       304269.0  industrial  \n3         1527.0  industrial  \n4        79678.0  commercial  \n..           ...         ...  \n494          0.0  commercial  \n495       1284.0  industrial  \n496          0.0  industrial  \n497          0.0  industrial  \n498      46561.0  commercial  \n\n[499 rows x 11 columns]",
      "text/html": "<div>\n<style scoped>\n    .dataframe tbody tr th:only-of-type {\n        vertical-align: middle;\n    }\n\n    .dataframe tbody tr th {\n        vertical-align: top;\n    }\n\n    .dataframe thead th {\n        text-align: right;\n    }\n</style>\n<table border=\"1\" class=\"dataframe\">\n  <thead>\n    <tr style=\"text-align: right;\">\n      <th></th>\n      <th>id</th>\n      <th>area</th>\n      <th>landuse</th>\n      <th>industrial</th>\n      <th>retail</th>\n      <th>service</th>\n      <th>work_area</th>\n      <th>geometry</th>\n      <th>block_id</th>\n      <th>living_area</th>\n      <th>temp</th>\n    </tr>\n  </thead>\n  <tbody>\n    <tr>\n      <th>0</th>\n      <td>1</td>\n      <td>1.224163e+06</td>\n      <td>residential</td>\n      <td>0.000000</td>\n      <td>0.000000</td>\n      <td>1.000000</td>\n      <td>4893.620</td>\n      <td>POLYGON ((56.34764 58.03500, 56.34762 58.03500...</td>\n      <td>1.0</td>\n      <td>113243.0</td>\n      <td>commercial</td>\n    </tr>\n    <tr>\n      <th>1</th>\n      <td>6</td>\n      <td>3.949440e+07</td>\n      <td>residential</td>\n      <td>0.932489</td>\n      <td>0.067511</td>\n      <td>0.000000</td>\n      <td>29031.391</td>\n      <td>POLYGON ((56.34129 58.02780, 56.34127 58.02781...</td>\n      <td>6.0</td>\n      <td>45179.0</td>\n      <td>industrial</td>\n    </tr>\n    <tr>\n      <th>2</th>\n      <td>9</td>\n      <td>5.817216e+07</td>\n      <td>residential</td>\n      <td>0.900648</td>\n      <td>0.009719</td>\n      <td>0.089633</td>\n      <td>39884.962</td>\n      <td>POLYGON ((56.36243 58.05457, 56.36242 58.05457...</td>\n      <td>9.0</td>\n      <td>304269.0</td>\n      <td>industrial</td>\n    </tr>\n    <tr>\n      <th>3</th>\n      <td>11</td>\n      <td>2.740008e+05</td>\n      <td>residential</td>\n      <td>1.000000</td>\n      <td>0.000000</td>\n      <td>0.000000</td>\n      <td>539.633</td>\n      <td>POLYGON ((56.40011 58.04080, 56.40011 58.04081...</td>\n      <td>11.0</td>\n      <td>1527.0</td>\n      <td>industrial</td>\n    </tr>\n    <tr>\n      <th>4</th>\n      <td>16</td>\n      <td>2.060076e+05</td>\n      <td>residential</td>\n      <td>0.000000</td>\n      <td>0.133333</td>\n      <td>0.866667</td>\n      <td>6815.552</td>\n      <td>POLYGON ((56.20791 58.00293, 56.20789 58.00293...</td>\n      <td>16.0</td>\n      <td>79678.0</td>\n      <td>commercial</td>\n    </tr>\n    <tr>\n      <th>...</th>\n      <td>...</td>\n      <td>...</td>\n      <td>...</td>\n      <td>...</td>\n      <td>...</td>\n      <td>...</td>\n      <td>...</td>\n      <td>...</td>\n      <td>...</td>\n      <td>...</td>\n      <td>...</td>\n    </tr>\n    <tr>\n      <th>494</th>\n      <td>2869</td>\n      <td>3.137001e+05</td>\n      <td>commercial</td>\n      <td>0.439394</td>\n      <td>0.000000</td>\n      <td>0.560606</td>\n      <td>4756.526</td>\n      <td>POLYGON ((56.38621 58.14957, 56.38620 58.14958...</td>\n      <td>NaN</td>\n      <td>0.0</td>\n      <td>commercial</td>\n    </tr>\n    <tr>\n      <th>495</th>\n      <td>2875</td>\n      <td>2.419463e+06</td>\n      <td>industrial</td>\n      <td>0.546729</td>\n      <td>0.000000</td>\n      <td>0.453271</td>\n      <td>9696.609</td>\n      <td>POLYGON ((56.36681 58.12208, 56.36681 58.12208...</td>\n      <td>2875.0</td>\n      <td>1284.0</td>\n      <td>industrial</td>\n    </tr>\n    <tr>\n      <th>496</th>\n      <td>2877</td>\n      <td>1.502041e+05</td>\n      <td>industrial</td>\n      <td>1.000000</td>\n      <td>0.000000</td>\n      <td>0.000000</td>\n      <td>6515.337</td>\n      <td>POLYGON ((56.28264 58.02905, 56.28262 58.02904...</td>\n      <td>NaN</td>\n      <td>0.0</td>\n      <td>industrial</td>\n    </tr>\n    <tr>\n      <th>497</th>\n      <td>2879</td>\n      <td>1.999429e+05</td>\n      <td>industrial</td>\n      <td>1.000000</td>\n      <td>0.000000</td>\n      <td>0.000000</td>\n      <td>4229.398</td>\n      <td>POLYGON ((56.15650 57.88209, 56.15648 57.88209...</td>\n      <td>NaN</td>\n      <td>0.0</td>\n      <td>industrial</td>\n    </tr>\n    <tr>\n      <th>498</th>\n      <td>3000</td>\n      <td>3.550764e+06</td>\n      <td>residential</td>\n      <td>0.274725</td>\n      <td>0.000000</td>\n      <td>0.725275</td>\n      <td>8527.540</td>\n      <td>POLYGON ((56.31847 58.03896, 56.31846 58.03897...</td>\n      <td>3000.0</td>\n      <td>46561.0</td>\n      <td>commercial</td>\n    </tr>\n  </tbody>\n</table>\n<p>499 rows × 11 columns</p>\n</div>"
     },
     "execution_count": 64,
     "metadata": {},
     "output_type": "execute_result"
    }
   ],
   "source": [
    "# Кварталам с незаполненным типом землепользования запишем значение этой временной переменной\n",
    "blocks_TAZ3['landuse'] = blocks_TAZ3.apply(lambda row: row['temp'] if row['landuse'] == '' else row['landuse'], axis=1)\n",
    "blocks_TAZ3"
   ],
   "metadata": {
    "collapsed": false,
    "ExecuteTime": {
     "end_time": "2024-01-12T18:58:42.143770500Z",
     "start_time": "2024-01-12T18:58:42.029959300Z"
    }
   },
   "id": "f0964f27e226a85c"
  },
  {
   "cell_type": "code",
   "execution_count": 65,
   "outputs": [],
   "source": [
    "blocks_TAZ3 = blocks_TAZ3.drop(columns=['temp'])\n",
    "blocks_TAZ3 = blocks_TAZ3.drop(columns=['block_id'])"
   ],
   "metadata": {
    "collapsed": false,
    "ExecuteTime": {
     "end_time": "2024-01-12T19:00:32.818750600Z",
     "start_time": "2024-01-12T19:00:32.787457300Z"
    }
   },
   "id": "67784e79991dedab"
  },
  {
   "cell_type": "code",
   "execution_count": 67,
   "outputs": [],
   "source": [
    "blocks_TAZ3.to_file('data/TAZ_with_landuse.geojson', driver='GeoJSON')"
   ],
   "metadata": {
    "collapsed": false,
    "ExecuteTime": {
     "end_time": "2024-01-12T19:01:14.319337900Z",
     "start_time": "2024-01-12T19:01:13.126143600Z"
    }
   },
   "id": "3ae2360c2cad5186"
  },
  {
   "cell_type": "markdown",
   "source": [
    "Теперь посчитаем коэффициенты доступности каждой зоны к рабочим местам и к населению"
   ],
   "metadata": {
    "collapsed": false
   },
   "id": "f593f7c499f4bb3"
  },
  {
   "cell_type": "code",
   "execution_count": 34,
   "outputs": [
    {
     "data": {
      "text/plain": "              id    function  is_living  storeys_count  basement_area  \\\n0        4669322         yes      False              1        694.450   \n1       79882759         yes      False              1        214.784   \n2       79882837      office      False              2        776.034   \n3       79883190         yes      False              1        189.197   \n4       89185196  industrial      False              1        450.628   \n...          ...         ...        ...            ...            ...   \n8438  1147821565         yes      False              1       1218.829   \n8439  1148104875         yes      False              1        107.470   \n8440  1148419580      office      False              4        624.885   \n8441  1148746841  industrial      False              1        188.391   \n8442  1149034816  industrial      False              1        516.981   \n\n      block_id    industry  total_area  workers  \\\n0          275  industrial     694.450       41   \n1          752  industrial     214.784        9   \n2          752     service    1552.068       72   \n3          752  industrial     189.197        8   \n4          943  industrial     450.628       19   \n...        ...         ...         ...      ...   \n8438       649  industrial    1218.829       35   \n8439       274     service     107.470        2   \n8440       276     service    2499.540       67   \n8441       274  industrial     188.391        6   \n8442       275  industrial     516.981       18   \n\n                                               geometry  \n0     MULTIPOLYGON (((56.17115 57.88024, 56.17135 57...  \n1     MULTIPOLYGON (((56.34866 58.10470, 56.34892 58...  \n2     MULTIPOLYGON (((56.34712 58.08610, 56.34720 58...  \n3     MULTIPOLYGON (((56.34799 58.10467, 56.34834 58...  \n4     MULTIPOLYGON (((56.12423 58.03430, 56.12452 58...  \n...                                                 ...  \n8438  MULTIPOLYGON (((56.16802 57.91086, 56.16836 57...  \n8439  MULTIPOLYGON (((56.13393 57.92601, 56.13408 57...  \n8440  MULTIPOLYGON (((56.16355 57.88379, 56.16394 57...  \n8441  MULTIPOLYGON (((56.13846 57.90833, 56.13847 57...  \n8442  MULTIPOLYGON (((56.15790 57.87906, 56.15796 57...  \n\n[8443 rows x 10 columns]",
      "text/html": "<div>\n<style scoped>\n    .dataframe tbody tr th:only-of-type {\n        vertical-align: middle;\n    }\n\n    .dataframe tbody tr th {\n        vertical-align: top;\n    }\n\n    .dataframe thead th {\n        text-align: right;\n    }\n</style>\n<table border=\"1\" class=\"dataframe\">\n  <thead>\n    <tr style=\"text-align: right;\">\n      <th></th>\n      <th>id</th>\n      <th>function</th>\n      <th>is_living</th>\n      <th>storeys_count</th>\n      <th>basement_area</th>\n      <th>block_id</th>\n      <th>industry</th>\n      <th>total_area</th>\n      <th>workers</th>\n      <th>geometry</th>\n    </tr>\n  </thead>\n  <tbody>\n    <tr>\n      <th>0</th>\n      <td>4669322</td>\n      <td>yes</td>\n      <td>False</td>\n      <td>1</td>\n      <td>694.450</td>\n      <td>275</td>\n      <td>industrial</td>\n      <td>694.450</td>\n      <td>41</td>\n      <td>MULTIPOLYGON (((56.17115 57.88024, 56.17135 57...</td>\n    </tr>\n    <tr>\n      <th>1</th>\n      <td>79882759</td>\n      <td>yes</td>\n      <td>False</td>\n      <td>1</td>\n      <td>214.784</td>\n      <td>752</td>\n      <td>industrial</td>\n      <td>214.784</td>\n      <td>9</td>\n      <td>MULTIPOLYGON (((56.34866 58.10470, 56.34892 58...</td>\n    </tr>\n    <tr>\n      <th>2</th>\n      <td>79882837</td>\n      <td>office</td>\n      <td>False</td>\n      <td>2</td>\n      <td>776.034</td>\n      <td>752</td>\n      <td>service</td>\n      <td>1552.068</td>\n      <td>72</td>\n      <td>MULTIPOLYGON (((56.34712 58.08610, 56.34720 58...</td>\n    </tr>\n    <tr>\n      <th>3</th>\n      <td>79883190</td>\n      <td>yes</td>\n      <td>False</td>\n      <td>1</td>\n      <td>189.197</td>\n      <td>752</td>\n      <td>industrial</td>\n      <td>189.197</td>\n      <td>8</td>\n      <td>MULTIPOLYGON (((56.34799 58.10467, 56.34834 58...</td>\n    </tr>\n    <tr>\n      <th>4</th>\n      <td>89185196</td>\n      <td>industrial</td>\n      <td>False</td>\n      <td>1</td>\n      <td>450.628</td>\n      <td>943</td>\n      <td>industrial</td>\n      <td>450.628</td>\n      <td>19</td>\n      <td>MULTIPOLYGON (((56.12423 58.03430, 56.12452 58...</td>\n    </tr>\n    <tr>\n      <th>...</th>\n      <td>...</td>\n      <td>...</td>\n      <td>...</td>\n      <td>...</td>\n      <td>...</td>\n      <td>...</td>\n      <td>...</td>\n      <td>...</td>\n      <td>...</td>\n      <td>...</td>\n    </tr>\n    <tr>\n      <th>8438</th>\n      <td>1147821565</td>\n      <td>yes</td>\n      <td>False</td>\n      <td>1</td>\n      <td>1218.829</td>\n      <td>649</td>\n      <td>industrial</td>\n      <td>1218.829</td>\n      <td>35</td>\n      <td>MULTIPOLYGON (((56.16802 57.91086, 56.16836 57...</td>\n    </tr>\n    <tr>\n      <th>8439</th>\n      <td>1148104875</td>\n      <td>yes</td>\n      <td>False</td>\n      <td>1</td>\n      <td>107.470</td>\n      <td>274</td>\n      <td>service</td>\n      <td>107.470</td>\n      <td>2</td>\n      <td>MULTIPOLYGON (((56.13393 57.92601, 56.13408 57...</td>\n    </tr>\n    <tr>\n      <th>8440</th>\n      <td>1148419580</td>\n      <td>office</td>\n      <td>False</td>\n      <td>4</td>\n      <td>624.885</td>\n      <td>276</td>\n      <td>service</td>\n      <td>2499.540</td>\n      <td>67</td>\n      <td>MULTIPOLYGON (((56.16355 57.88379, 56.16394 57...</td>\n    </tr>\n    <tr>\n      <th>8441</th>\n      <td>1148746841</td>\n      <td>industrial</td>\n      <td>False</td>\n      <td>1</td>\n      <td>188.391</td>\n      <td>274</td>\n      <td>industrial</td>\n      <td>188.391</td>\n      <td>6</td>\n      <td>MULTIPOLYGON (((56.13846 57.90833, 56.13847 57...</td>\n    </tr>\n    <tr>\n      <th>8442</th>\n      <td>1149034816</td>\n      <td>industrial</td>\n      <td>False</td>\n      <td>1</td>\n      <td>516.981</td>\n      <td>275</td>\n      <td>industrial</td>\n      <td>516.981</td>\n      <td>18</td>\n      <td>MULTIPOLYGON (((56.15790 57.87906, 56.15796 57...</td>\n    </tr>\n  </tbody>\n</table>\n<p>8443 rows × 10 columns</p>\n</div>"
     },
     "execution_count": 34,
     "metadata": {},
     "output_type": "execute_result"
    }
   ],
   "source": [
    "zones = gpd.read_file(\"C:/Users/sm_pa/OneDrive/Рабочий стол/НИР3/perm_freight_modelling/data/TAZ_with_landuse.geojson\")\n",
    "buildings_with_workers = gpd.read_file(\"C:/Users/sm_pa/OneDrive/Рабочий стол/НИР3/perm_freight_modelling/data/buildings_with_workers.geojson\")\n",
    "buildings_with_workers"
   ],
   "metadata": {
    "collapsed": false,
    "ExecuteTime": {
     "end_time": "2024-01-16T09:40:37.259109500Z",
     "start_time": "2024-01-16T09:40:31.740558900Z"
    }
   },
   "id": "2fa24c118ff70916"
  },
  {
   "cell_type": "code",
   "execution_count": 35,
   "outputs": [
    {
     "name": "stdout",
     "output_type": "stream",
     "text": [
      "       id          area      landuse  industrial    retail   service  \\\n",
      "0       1  1.224163e+06  low_density    0.000000  0.000000  1.000000   \n",
      "1       6  3.949440e+07  low_density    0.932489  0.067511  0.000000   \n",
      "2       9  5.817216e+07  low_density    0.900648  0.009719  0.089633   \n",
      "3      11  2.740008e+05  low_density    1.000000  0.000000  0.000000   \n",
      "4      16  2.060076e+05  residential    0.000000  0.133333  0.866667   \n",
      "..    ...           ...          ...         ...       ...       ...   \n",
      "494  2869  3.137001e+05   commercial    0.439394  0.000000  0.560606   \n",
      "495  2875  2.419463e+06   industrial    0.546729  0.000000  0.453271   \n",
      "496  2877  1.502041e+05   industrial    1.000000  0.000000  0.000000   \n",
      "497  2879  1.999429e+05   industrial    1.000000  0.000000  0.000000   \n",
      "498  3000  3.550764e+06  low_density    0.274725  0.000000  0.725275   \n",
      "\n",
      "     work_area  living_area  \\\n",
      "0     4893.620     113243.0   \n",
      "1    29031.391      45179.0   \n",
      "2    39884.962     304269.0   \n",
      "3      539.633       1527.0   \n",
      "4     6815.552      79678.0   \n",
      "..         ...          ...   \n",
      "494   4756.526          0.0   \n",
      "495   9696.609       1284.0   \n",
      "496   6515.337          0.0   \n",
      "497   4229.398          0.0   \n",
      "498   8527.540      46561.0   \n",
      "\n",
      "                                              geometry  block_id  workers  \n",
      "0    POLYGON ((56.34764 58.03500, 56.34762 58.03500...         1      124  \n",
      "1    POLYGON ((56.34129 58.02780, 56.34127 58.02781...         6      711  \n",
      "2    POLYGON ((56.36243 58.05457, 56.36242 58.05457...         9      926  \n",
      "3    POLYGON ((56.40011 58.04080, 56.40011 58.04081...        11       15  \n",
      "4    POLYGON ((56.20791 58.00293, 56.20789 58.00293...        16      150  \n",
      "..                                                 ...       ...      ...  \n",
      "494  POLYGON ((56.38621 58.14957, 56.38620 58.14958...      2869      132  \n",
      "495  POLYGON ((56.36681 58.12208, 56.36681 58.12208...      2875      214  \n",
      "496  POLYGON ((56.28264 58.02905, 56.28262 58.02904...      2877      158  \n",
      "497  POLYGON ((56.15650 57.88209, 56.15648 57.88209...      2879       94  \n",
      "498  POLYGON ((56.31847 58.03896, 56.31846 58.03897...      3000      182  \n",
      "\n",
      "[499 rows x 11 columns]\n"
     ]
    }
   ],
   "source": [
    "# Группируем данные по 'block_id' и считаем сумму рабочих в каждой зоне\n",
    "grouped_data = buildings_with_workers.groupby('block_id')['workers'].sum().reset_index()\n",
    "\n",
    "# Обновляем данные в zones\n",
    "zones = zones.merge(grouped_data, left_on='id', right_on='block_id', how='left', suffixes=('', '_sum'))\n",
    "\n",
    "# Заполняем пропуски нулями\n",
    "zones['workers'] = zones['workers'].fillna(0).astype(int)\n",
    "\n",
    "# Выводим обновленный геодатафрейм zones\n",
    "print(zones)\n"
   ],
   "metadata": {
    "collapsed": false,
    "ExecuteTime": {
     "end_time": "2024-01-16T09:40:41.746128300Z",
     "start_time": "2024-01-16T09:40:41.651966200Z"
    }
   },
   "id": "4c5441a403c0a09c"
  },
  {
   "cell_type": "code",
   "execution_count": 36,
   "outputs": [
    {
     "data": {
      "text/plain": "419280"
     },
     "execution_count": 36,
     "metadata": {},
     "output_type": "execute_result"
    }
   ],
   "source": [
    "zones['workers'].sum()"
   ],
   "metadata": {
    "collapsed": false,
    "ExecuteTime": {
     "end_time": "2024-01-16T09:40:44.469425700Z",
     "start_time": "2024-01-16T09:40:44.442418800Z"
    }
   },
   "id": "34fda4a710f104f"
  },
  {
   "cell_type": "code",
   "execution_count": 37,
   "outputs": [
    {
     "data": {
      "text/plain": "               id      function  is_living  storeys_count  basement_area  \\\n35        2173828           yes       True              7       2405.573   \n44        2414213           yes       True              3       1342.551   \n52        3436636           yes       True              1        176.517   \n53        3958429           yes       True             10       1813.652   \n55        3972447    apartments       True             25       2413.605   \n...           ...           ...        ...            ...            ...   \n62803  1150785208    apartments       True              9       1413.145   \n62804  1150785209    apartments       True              9       1987.830   \n62805  1150785213  construction       True             16       1118.595   \n62806  1150785217  construction       True             16        380.318   \n62807  1150785218  construction       True             16        310.757   \n\n       total_area  population  living_area  block_id  \\\n35        16839.0         319      16839.0       226   \n44         4028.0          73       4028.0       988   \n52          177.0           8        177.0       423   \n53        18137.0         322      18137.0       127   \n55        60340.0        1091      60340.0       127   \n...           ...         ...          ...       ...   \n62803     12718.0         229      12718.0        31   \n62804     17890.0         309      17890.0        31   \n62805     17898.0         325      17898.0        31   \n62806      6085.0         115       6085.0        31   \n62807      4972.0         102       4972.0        31   \n\n                                                geometry  \n35     MULTIPOLYGON (((56.37308 58.11029, 56.37318 58...  \n44     MULTIPOLYGON (((56.28227 57.97740, 56.28220 57...  \n52     MULTIPOLYGON (((56.24230 57.99971, 56.24244 57...  \n53     MULTIPOLYGON (((56.26537 57.99655, 56.26549 57...  \n55     MULTIPOLYGON (((56.26673 57.99620, 56.26660 57...  \n...                                                  ...  \n62803  MULTIPOLYGON (((56.34214 58.05251, 56.34235 58...  \n62804  MULTIPOLYGON (((56.34139 58.05311, 56.34087 58...  \n62805  MULTIPOLYGON (((56.34648 58.05406, 56.34647 58...  \n62806  MULTIPOLYGON (((56.34690 58.05433, 56.34707 58...  \n62807  MULTIPOLYGON (((56.34859 58.05438, 56.34816 58...  \n\n[32579 rows x 10 columns]",
      "text/html": "<div>\n<style scoped>\n    .dataframe tbody tr th:only-of-type {\n        vertical-align: middle;\n    }\n\n    .dataframe tbody tr th {\n        vertical-align: top;\n    }\n\n    .dataframe thead th {\n        text-align: right;\n    }\n</style>\n<table border=\"1\" class=\"dataframe\">\n  <thead>\n    <tr style=\"text-align: right;\">\n      <th></th>\n      <th>id</th>\n      <th>function</th>\n      <th>is_living</th>\n      <th>storeys_count</th>\n      <th>basement_area</th>\n      <th>total_area</th>\n      <th>population</th>\n      <th>living_area</th>\n      <th>block_id</th>\n      <th>geometry</th>\n    </tr>\n  </thead>\n  <tbody>\n    <tr>\n      <th>35</th>\n      <td>2173828</td>\n      <td>yes</td>\n      <td>True</td>\n      <td>7</td>\n      <td>2405.573</td>\n      <td>16839.0</td>\n      <td>319</td>\n      <td>16839.0</td>\n      <td>226</td>\n      <td>MULTIPOLYGON (((56.37308 58.11029, 56.37318 58...</td>\n    </tr>\n    <tr>\n      <th>44</th>\n      <td>2414213</td>\n      <td>yes</td>\n      <td>True</td>\n      <td>3</td>\n      <td>1342.551</td>\n      <td>4028.0</td>\n      <td>73</td>\n      <td>4028.0</td>\n      <td>988</td>\n      <td>MULTIPOLYGON (((56.28227 57.97740, 56.28220 57...</td>\n    </tr>\n    <tr>\n      <th>52</th>\n      <td>3436636</td>\n      <td>yes</td>\n      <td>True</td>\n      <td>1</td>\n      <td>176.517</td>\n      <td>177.0</td>\n      <td>8</td>\n      <td>177.0</td>\n      <td>423</td>\n      <td>MULTIPOLYGON (((56.24230 57.99971, 56.24244 57...</td>\n    </tr>\n    <tr>\n      <th>53</th>\n      <td>3958429</td>\n      <td>yes</td>\n      <td>True</td>\n      <td>10</td>\n      <td>1813.652</td>\n      <td>18137.0</td>\n      <td>322</td>\n      <td>18137.0</td>\n      <td>127</td>\n      <td>MULTIPOLYGON (((56.26537 57.99655, 56.26549 57...</td>\n    </tr>\n    <tr>\n      <th>55</th>\n      <td>3972447</td>\n      <td>apartments</td>\n      <td>True</td>\n      <td>25</td>\n      <td>2413.605</td>\n      <td>60340.0</td>\n      <td>1091</td>\n      <td>60340.0</td>\n      <td>127</td>\n      <td>MULTIPOLYGON (((56.26673 57.99620, 56.26660 57...</td>\n    </tr>\n    <tr>\n      <th>...</th>\n      <td>...</td>\n      <td>...</td>\n      <td>...</td>\n      <td>...</td>\n      <td>...</td>\n      <td>...</td>\n      <td>...</td>\n      <td>...</td>\n      <td>...</td>\n      <td>...</td>\n    </tr>\n    <tr>\n      <th>62803</th>\n      <td>1150785208</td>\n      <td>apartments</td>\n      <td>True</td>\n      <td>9</td>\n      <td>1413.145</td>\n      <td>12718.0</td>\n      <td>229</td>\n      <td>12718.0</td>\n      <td>31</td>\n      <td>MULTIPOLYGON (((56.34214 58.05251, 56.34235 58...</td>\n    </tr>\n    <tr>\n      <th>62804</th>\n      <td>1150785209</td>\n      <td>apartments</td>\n      <td>True</td>\n      <td>9</td>\n      <td>1987.830</td>\n      <td>17890.0</td>\n      <td>309</td>\n      <td>17890.0</td>\n      <td>31</td>\n      <td>MULTIPOLYGON (((56.34139 58.05311, 56.34087 58...</td>\n    </tr>\n    <tr>\n      <th>62805</th>\n      <td>1150785213</td>\n      <td>construction</td>\n      <td>True</td>\n      <td>16</td>\n      <td>1118.595</td>\n      <td>17898.0</td>\n      <td>325</td>\n      <td>17898.0</td>\n      <td>31</td>\n      <td>MULTIPOLYGON (((56.34648 58.05406, 56.34647 58...</td>\n    </tr>\n    <tr>\n      <th>62806</th>\n      <td>1150785217</td>\n      <td>construction</td>\n      <td>True</td>\n      <td>16</td>\n      <td>380.318</td>\n      <td>6085.0</td>\n      <td>115</td>\n      <td>6085.0</td>\n      <td>31</td>\n      <td>MULTIPOLYGON (((56.34690 58.05433, 56.34707 58...</td>\n    </tr>\n    <tr>\n      <th>62807</th>\n      <td>1150785218</td>\n      <td>construction</td>\n      <td>True</td>\n      <td>16</td>\n      <td>310.757</td>\n      <td>4972.0</td>\n      <td>102</td>\n      <td>4972.0</td>\n      <td>31</td>\n      <td>MULTIPOLYGON (((56.34859 58.05438, 56.34816 58...</td>\n    </tr>\n  </tbody>\n</table>\n<p>32579 rows × 10 columns</p>\n</div>"
     },
     "execution_count": 37,
     "metadata": {},
     "output_type": "execute_result"
    }
   ],
   "source": [
    "all_buildings = gpd.read_file(\"C:/Users/sm_pa/OneDrive/Рабочий стол/НИР3/perm_freight_modelling/data/all_buildings.geojson\")\n",
    "living_buildings = all_buildings[all_buildings['is_living'] == True]\n",
    "living_buildings"
   ],
   "metadata": {
    "collapsed": false,
    "ExecuteTime": {
     "end_time": "2024-01-16T09:41:08.872833Z",
     "start_time": "2024-01-16T09:40:46.856861200Z"
    }
   },
   "id": "1da73a35d7e5e819"
  },
  {
   "cell_type": "code",
   "execution_count": 38,
   "outputs": [],
   "source": [
    "# Группируем данные по 'block_id' и считаем сумму жителей в каждой зоне\n",
    "grouped_data = living_buildings.groupby('block_id')['population'].sum().reset_index()\n",
    "\n",
    "# Обновляем данные в zones\n",
    "zones = zones.merge(grouped_data, left_on='id', right_on='block_id', how='left', suffixes=('', '_sum'))\n",
    "\n"
   ],
   "metadata": {
    "collapsed": false,
    "ExecuteTime": {
     "end_time": "2024-01-16T09:58:51.178155600Z",
     "start_time": "2024-01-16T09:58:51.146905Z"
    }
   },
   "id": "126cf7bbd98e05a5"
  },
  {
   "cell_type": "code",
   "execution_count": 39,
   "outputs": [
    {
     "name": "stdout",
     "output_type": "stream",
     "text": [
      "       id          area      landuse  industrial    retail   service  \\\n",
      "0       1  1.224163e+06  low_density    0.000000  0.000000  1.000000   \n",
      "1       6  3.949440e+07  low_density    0.932489  0.067511  0.000000   \n",
      "2       9  5.817216e+07  low_density    0.900648  0.009719  0.089633   \n",
      "3      11  2.740008e+05  low_density    1.000000  0.000000  0.000000   \n",
      "4      16  2.060076e+05  residential    0.000000  0.133333  0.866667   \n",
      "..    ...           ...          ...         ...       ...       ...   \n",
      "494  2869  3.137001e+05   commercial    0.439394  0.000000  0.560606   \n",
      "495  2875  2.419463e+06   industrial    0.546729  0.000000  0.453271   \n",
      "496  2877  1.502041e+05   industrial    1.000000  0.000000  0.000000   \n",
      "497  2879  1.999429e+05   industrial    1.000000  0.000000  0.000000   \n",
      "498  3000  3.550764e+06  low_density    0.274725  0.000000  0.725275   \n",
      "\n",
      "     work_area  living_area  \\\n",
      "0     4893.620     113243.0   \n",
      "1    29031.391      45179.0   \n",
      "2    39884.962     304269.0   \n",
      "3      539.633       1527.0   \n",
      "4     6815.552      79678.0   \n",
      "..         ...          ...   \n",
      "494   4756.526          0.0   \n",
      "495   9696.609       1284.0   \n",
      "496   6515.337          0.0   \n",
      "497   4229.398          0.0   \n",
      "498   8527.540      46561.0   \n",
      "\n",
      "                                              geometry  block_id  workers  \\\n",
      "0    POLYGON ((56.34764 58.03500, 56.34762 58.03500...         1      124   \n",
      "1    POLYGON ((56.34129 58.02780, 56.34127 58.02781...         6      711   \n",
      "2    POLYGON ((56.36243 58.05457, 56.36242 58.05457...         9      926   \n",
      "3    POLYGON ((56.40011 58.04080, 56.40011 58.04081...        11       15   \n",
      "4    POLYGON ((56.20791 58.00293, 56.20789 58.00293...        16      150   \n",
      "..                                                 ...       ...      ...   \n",
      "494  POLYGON ((56.38621 58.14957, 56.38620 58.14958...      2869      132   \n",
      "495  POLYGON ((56.36681 58.12208, 56.36681 58.12208...      2875      214   \n",
      "496  POLYGON ((56.28264 58.02905, 56.28262 58.02904...      2877      158   \n",
      "497  POLYGON ((56.15650 57.88209, 56.15648 57.88209...      2879       94   \n",
      "498  POLYGON ((56.31847 58.03896, 56.31846 58.03897...      3000      182   \n",
      "\n",
      "     block_id_sum  population  \n",
      "0             1.0        2211  \n",
      "1             6.0         898  \n",
      "2             9.0        6476  \n",
      "3            11.0          20  \n",
      "4            16.0        1340  \n",
      "..            ...         ...  \n",
      "494           NaN           0  \n",
      "495        2875.0          24  \n",
      "496           NaN           0  \n",
      "497           NaN           0  \n",
      "498        3000.0         911  \n",
      "\n",
      "[499 rows x 13 columns]\n"
     ]
    }
   ],
   "source": [
    "# Заполняем пропуски нулями\n",
    "zones['population'] = zones['population'].fillna(0).astype(int)\n",
    "\n",
    "# Выводим обновленный геодатафрейм zones\n",
    "print(zones)"
   ],
   "metadata": {
    "collapsed": false,
    "ExecuteTime": {
     "end_time": "2024-01-16T09:58:53.790577400Z",
     "start_time": "2024-01-16T09:58:53.738405800Z"
    }
   },
   "id": "c026e13dfe5e3419"
  },
  {
   "cell_type": "code",
   "execution_count": 40,
   "outputs": [
    {
     "data": {
      "text/plain": "       id          area      landuse  industrial    retail   service  \\\n0       1  1.224163e+06  low_density    0.000000  0.000000  1.000000   \n1       6  3.949440e+07  low_density    0.932489  0.067511  0.000000   \n2       9  5.817216e+07  low_density    0.900648  0.009719  0.089633   \n3      11  2.740008e+05  low_density    1.000000  0.000000  0.000000   \n4      16  2.060076e+05  residential    0.000000  0.133333  0.866667   \n..    ...           ...          ...         ...       ...       ...   \n494  2869  3.137001e+05   commercial    0.439394  0.000000  0.560606   \n495  2875  2.419463e+06   industrial    0.546729  0.000000  0.453271   \n496  2877  1.502041e+05   industrial    1.000000  0.000000  0.000000   \n497  2879  1.999429e+05   industrial    1.000000  0.000000  0.000000   \n498  3000  3.550764e+06  low_density    0.274725  0.000000  0.725275   \n\n     work_area  living_area  workers  population  \\\n0     4893.620     113243.0      124        2211   \n1    29031.391      45179.0      711         898   \n2    39884.962     304269.0      926        6476   \n3      539.633       1527.0       15          20   \n4     6815.552      79678.0      150        1340   \n..         ...          ...      ...         ...   \n494   4756.526          0.0      132           0   \n495   9696.609       1284.0      214          24   \n496   6515.337          0.0      158           0   \n497   4229.398          0.0       94           0   \n498   8527.540      46561.0      182         911   \n\n                                              geometry  \n0    POLYGON ((56.34764 58.03500, 56.34762 58.03500...  \n1    POLYGON ((56.34129 58.02780, 56.34127 58.02781...  \n2    POLYGON ((56.36243 58.05457, 56.36242 58.05457...  \n3    POLYGON ((56.40011 58.04080, 56.40011 58.04081...  \n4    POLYGON ((56.20791 58.00293, 56.20789 58.00293...  \n..                                                 ...  \n494  POLYGON ((56.38621 58.14957, 56.38620 58.14958...  \n495  POLYGON ((56.36681 58.12208, 56.36681 58.12208...  \n496  POLYGON ((56.28264 58.02905, 56.28262 58.02904...  \n497  POLYGON ((56.15650 57.88209, 56.15648 57.88209...  \n498  POLYGON ((56.31847 58.03896, 56.31846 58.03897...  \n\n[499 rows x 11 columns]",
      "text/html": "<div>\n<style scoped>\n    .dataframe tbody tr th:only-of-type {\n        vertical-align: middle;\n    }\n\n    .dataframe tbody tr th {\n        vertical-align: top;\n    }\n\n    .dataframe thead th {\n        text-align: right;\n    }\n</style>\n<table border=\"1\" class=\"dataframe\">\n  <thead>\n    <tr style=\"text-align: right;\">\n      <th></th>\n      <th>id</th>\n      <th>area</th>\n      <th>landuse</th>\n      <th>industrial</th>\n      <th>retail</th>\n      <th>service</th>\n      <th>work_area</th>\n      <th>living_area</th>\n      <th>workers</th>\n      <th>population</th>\n      <th>geometry</th>\n    </tr>\n  </thead>\n  <tbody>\n    <tr>\n      <th>0</th>\n      <td>1</td>\n      <td>1.224163e+06</td>\n      <td>low_density</td>\n      <td>0.000000</td>\n      <td>0.000000</td>\n      <td>1.000000</td>\n      <td>4893.620</td>\n      <td>113243.0</td>\n      <td>124</td>\n      <td>2211</td>\n      <td>POLYGON ((56.34764 58.03500, 56.34762 58.03500...</td>\n    </tr>\n    <tr>\n      <th>1</th>\n      <td>6</td>\n      <td>3.949440e+07</td>\n      <td>low_density</td>\n      <td>0.932489</td>\n      <td>0.067511</td>\n      <td>0.000000</td>\n      <td>29031.391</td>\n      <td>45179.0</td>\n      <td>711</td>\n      <td>898</td>\n      <td>POLYGON ((56.34129 58.02780, 56.34127 58.02781...</td>\n    </tr>\n    <tr>\n      <th>2</th>\n      <td>9</td>\n      <td>5.817216e+07</td>\n      <td>low_density</td>\n      <td>0.900648</td>\n      <td>0.009719</td>\n      <td>0.089633</td>\n      <td>39884.962</td>\n      <td>304269.0</td>\n      <td>926</td>\n      <td>6476</td>\n      <td>POLYGON ((56.36243 58.05457, 56.36242 58.05457...</td>\n    </tr>\n    <tr>\n      <th>3</th>\n      <td>11</td>\n      <td>2.740008e+05</td>\n      <td>low_density</td>\n      <td>1.000000</td>\n      <td>0.000000</td>\n      <td>0.000000</td>\n      <td>539.633</td>\n      <td>1527.0</td>\n      <td>15</td>\n      <td>20</td>\n      <td>POLYGON ((56.40011 58.04080, 56.40011 58.04081...</td>\n    </tr>\n    <tr>\n      <th>4</th>\n      <td>16</td>\n      <td>2.060076e+05</td>\n      <td>residential</td>\n      <td>0.000000</td>\n      <td>0.133333</td>\n      <td>0.866667</td>\n      <td>6815.552</td>\n      <td>79678.0</td>\n      <td>150</td>\n      <td>1340</td>\n      <td>POLYGON ((56.20791 58.00293, 56.20789 58.00293...</td>\n    </tr>\n    <tr>\n      <th>...</th>\n      <td>...</td>\n      <td>...</td>\n      <td>...</td>\n      <td>...</td>\n      <td>...</td>\n      <td>...</td>\n      <td>...</td>\n      <td>...</td>\n      <td>...</td>\n      <td>...</td>\n      <td>...</td>\n    </tr>\n    <tr>\n      <th>494</th>\n      <td>2869</td>\n      <td>3.137001e+05</td>\n      <td>commercial</td>\n      <td>0.439394</td>\n      <td>0.000000</td>\n      <td>0.560606</td>\n      <td>4756.526</td>\n      <td>0.0</td>\n      <td>132</td>\n      <td>0</td>\n      <td>POLYGON ((56.38621 58.14957, 56.38620 58.14958...</td>\n    </tr>\n    <tr>\n      <th>495</th>\n      <td>2875</td>\n      <td>2.419463e+06</td>\n      <td>industrial</td>\n      <td>0.546729</td>\n      <td>0.000000</td>\n      <td>0.453271</td>\n      <td>9696.609</td>\n      <td>1284.0</td>\n      <td>214</td>\n      <td>24</td>\n      <td>POLYGON ((56.36681 58.12208, 56.36681 58.12208...</td>\n    </tr>\n    <tr>\n      <th>496</th>\n      <td>2877</td>\n      <td>1.502041e+05</td>\n      <td>industrial</td>\n      <td>1.000000</td>\n      <td>0.000000</td>\n      <td>0.000000</td>\n      <td>6515.337</td>\n      <td>0.0</td>\n      <td>158</td>\n      <td>0</td>\n      <td>POLYGON ((56.28264 58.02905, 56.28262 58.02904...</td>\n    </tr>\n    <tr>\n      <th>497</th>\n      <td>2879</td>\n      <td>1.999429e+05</td>\n      <td>industrial</td>\n      <td>1.000000</td>\n      <td>0.000000</td>\n      <td>0.000000</td>\n      <td>4229.398</td>\n      <td>0.0</td>\n      <td>94</td>\n      <td>0</td>\n      <td>POLYGON ((56.15650 57.88209, 56.15648 57.88209...</td>\n    </tr>\n    <tr>\n      <th>498</th>\n      <td>3000</td>\n      <td>3.550764e+06</td>\n      <td>low_density</td>\n      <td>0.274725</td>\n      <td>0.000000</td>\n      <td>0.725275</td>\n      <td>8527.540</td>\n      <td>46561.0</td>\n      <td>182</td>\n      <td>911</td>\n      <td>POLYGON ((56.31847 58.03896, 56.31846 58.03897...</td>\n    </tr>\n  </tbody>\n</table>\n<p>499 rows × 11 columns</p>\n</div>"
     },
     "execution_count": 40,
     "metadata": {},
     "output_type": "execute_result"
    }
   ],
   "source": [
    "zones = zones[['id', 'area', 'landuse', 'industrial', 'retail', 'service', 'work_area', 'living_area', 'workers', 'population', 'geometry']]\n",
    "zones"
   ],
   "metadata": {
    "collapsed": false,
    "ExecuteTime": {
     "end_time": "2024-01-16T09:58:56.652310800Z",
     "start_time": "2024-01-16T09:58:56.573476300Z"
    }
   },
   "id": "7f21c017ab65c04b"
  },
  {
   "cell_type": "code",
   "execution_count": 42,
   "outputs": [],
   "source": [
    "zones.to_file('data/testzones1.geojson', driver='GeoJSON')"
   ],
   "metadata": {
    "collapsed": false,
    "ExecuteTime": {
     "end_time": "2024-01-16T09:59:33.570787300Z",
     "start_time": "2024-01-16T09:59:32.096896Z"
    }
   },
   "id": "a6681fd1aff8f782"
  },
  {
   "cell_type": "markdown",
   "source": [
    "Посчитаем коэффициенты доступности"
   ],
   "metadata": {
    "collapsed": false
   },
   "id": "7862b4d4b754678d"
  },
  {
   "cell_type": "code",
   "execution_count": 2,
   "outputs": [],
   "source": [
    "zones = gpd.read_file(\"C:/Users/sm_pa/OneDrive/Рабочий стол/НИР3/perm_freight_modelling/data/testzones1.geojson\")"
   ],
   "metadata": {
    "collapsed": false,
    "ExecuteTime": {
     "end_time": "2024-01-17T19:03:39.090618100Z",
     "start_time": "2024-01-17T19:03:36.463141400Z"
    }
   },
   "id": "30d4bfd28b279b40"
  },
  {
   "cell_type": "code",
   "execution_count": 3,
   "outputs": [],
   "source": [
    "# Загрузка матрицы расстояний из CSV файла\n",
    "distances = pd.read_csv('data/TAZ_distance_matrix.csv', index_col=0)\n",
    "distances = distances.replace(0, 1)"
   ],
   "metadata": {
    "collapsed": false,
    "ExecuteTime": {
     "end_time": "2024-01-17T19:03:42.987467900Z",
     "start_time": "2024-01-17T19:03:42.877640400Z"
    }
   },
   "id": "6e685c70b41c7848"
  },
  {
   "cell_type": "code",
   "execution_count": 4,
   "outputs": [],
   "source": [
    "zones.set_index('id', inplace=True)"
   ],
   "metadata": {
    "collapsed": false,
    "ExecuteTime": {
     "end_time": "2024-01-17T19:03:45.308788800Z",
     "start_time": "2024-01-17T19:03:45.277139400Z"
    }
   },
   "id": "1883a1b571d22b49"
  },
  {
   "cell_type": "code",
   "execution_count": 5,
   "outputs": [],
   "source": [
    "# вычисление доступности населения для каждой зоны\n",
    "zones['population_availability'] = 0.0\n",
    "for index, zone in zones.iterrows():\n",
    "    coef = 0.0\n",
    "    zone_distances = distances.loc[index]\n",
    "    \n",
    "    for column, distance in zone_distances.items():\n",
    "        if index == column:\n",
    "            continue\n",
    "        coef += (zones.loc[int(column), 'population'] / distance)\n",
    "    zones.loc[index, 'population_availability'] = coef"
   ],
   "metadata": {
    "collapsed": false,
    "ExecuteTime": {
     "end_time": "2024-01-17T19:03:56.535969200Z",
     "start_time": "2024-01-17T19:03:52.302972Z"
    }
   },
   "id": "594a13b77eecc901"
  },
  {
   "cell_type": "code",
   "execution_count": 6,
   "outputs": [],
   "source": [
    "# вычисление доступности рабочих мест для каждой зоны\n",
    "zones['workers_availability'] = 0.0\n",
    "for index, zone in zones.iterrows():\n",
    "    coef = 0.0\n",
    "    zone_distances = distances.loc[index]\n",
    "    \n",
    "    for column, distance in zone_distances.items():\n",
    "        if index == column:\n",
    "            continue\n",
    "        coef += (zones.loc[int(column), 'workers'] / distance)\n",
    "    zones.loc[index, 'workers_availability'] = coef"
   ],
   "metadata": {
    "collapsed": false,
    "ExecuteTime": {
     "end_time": "2024-01-17T19:04:09.850302900Z",
     "start_time": "2024-01-17T19:04:06.059528900Z"
    }
   },
   "id": "daeb30ebc0d38fd7"
  },
  {
   "cell_type": "code",
   "execution_count": 7,
   "outputs": [
    {
     "data": {
      "text/plain": "              area      landuse  industrial    retail   service  work_area  \\\nid                                                                           \n1     1.224163e+06  low_density    0.000000  0.000000  1.000000   4893.620   \n6     3.949440e+07  low_density    0.932489  0.067511  0.000000  29031.391   \n9     5.817216e+07  low_density    0.900648  0.009719  0.089633  39884.962   \n11    2.740008e+05  low_density    1.000000  0.000000  0.000000    539.633   \n16    2.060076e+05  residential    0.000000  0.133333  0.866667   6815.552   \n...            ...          ...         ...       ...       ...        ...   \n2869  3.137001e+05   commercial    0.439394  0.000000  0.560606   4756.526   \n2875  2.419463e+06   industrial    0.546729  0.000000  0.453271   9696.609   \n2877  1.502041e+05   industrial    1.000000  0.000000  0.000000   6515.337   \n2879  1.999429e+05   industrial    1.000000  0.000000  0.000000   4229.398   \n3000  3.550764e+06  low_density    0.274725  0.000000  0.725275   8527.540   \n\n      living_area  workers  population  \\\nid                                       \n1        113243.0      124        2211   \n6         45179.0      711         898   \n9        304269.0      926        6476   \n11         1527.0       15          20   \n16        79678.0      150        1340   \n...           ...      ...         ...   \n2869          0.0      132           0   \n2875       1284.0      214          24   \n2877          0.0      158           0   \n2879          0.0       94           0   \n3000      46561.0      182         911   \n\n                                               geometry  \\\nid                                                        \n1     POLYGON ((56.34764 58.03500, 56.34762 58.03500...   \n6     POLYGON ((56.34129 58.02780, 56.34127 58.02781...   \n9     POLYGON ((56.36243 58.05457, 56.36242 58.05457...   \n11    POLYGON ((56.40011 58.04080, 56.40011 58.04081...   \n16    POLYGON ((56.20791 58.00293, 56.20789 58.00293...   \n...                                                 ...   \n2869  POLYGON ((56.38621 58.14957, 56.38620 58.14958...   \n2875  POLYGON ((56.36681 58.12208, 56.36681 58.12208...   \n2877  POLYGON ((56.28264 58.02905, 56.28262 58.02904...   \n2879  POLYGON ((56.15650 57.88209, 56.15648 57.88209...   \n3000  POLYGON ((56.31847 58.03896, 56.31846 58.03897...   \n\n      population_availability  workers_availability  \nid                                                   \n1                   76.588172             35.953808  \n6                   59.992692             30.375010  \n9                   54.628613             28.182628  \n11                  56.377235             28.926896  \n16                 172.790236             79.292379  \n...                       ...                   ...  \n2869                38.929160             21.571072  \n2875                45.831944             24.601994  \n2877               112.926958            211.733180  \n2879                33.149738            117.367989  \n3000                82.146441             38.598313  \n\n[499 rows x 12 columns]",
      "text/html": "<div>\n<style scoped>\n    .dataframe tbody tr th:only-of-type {\n        vertical-align: middle;\n    }\n\n    .dataframe tbody tr th {\n        vertical-align: top;\n    }\n\n    .dataframe thead th {\n        text-align: right;\n    }\n</style>\n<table border=\"1\" class=\"dataframe\">\n  <thead>\n    <tr style=\"text-align: right;\">\n      <th></th>\n      <th>area</th>\n      <th>landuse</th>\n      <th>industrial</th>\n      <th>retail</th>\n      <th>service</th>\n      <th>work_area</th>\n      <th>living_area</th>\n      <th>workers</th>\n      <th>population</th>\n      <th>geometry</th>\n      <th>population_availability</th>\n      <th>workers_availability</th>\n    </tr>\n    <tr>\n      <th>id</th>\n      <th></th>\n      <th></th>\n      <th></th>\n      <th></th>\n      <th></th>\n      <th></th>\n      <th></th>\n      <th></th>\n      <th></th>\n      <th></th>\n      <th></th>\n      <th></th>\n    </tr>\n  </thead>\n  <tbody>\n    <tr>\n      <th>1</th>\n      <td>1.224163e+06</td>\n      <td>low_density</td>\n      <td>0.000000</td>\n      <td>0.000000</td>\n      <td>1.000000</td>\n      <td>4893.620</td>\n      <td>113243.0</td>\n      <td>124</td>\n      <td>2211</td>\n      <td>POLYGON ((56.34764 58.03500, 56.34762 58.03500...</td>\n      <td>76.588172</td>\n      <td>35.953808</td>\n    </tr>\n    <tr>\n      <th>6</th>\n      <td>3.949440e+07</td>\n      <td>low_density</td>\n      <td>0.932489</td>\n      <td>0.067511</td>\n      <td>0.000000</td>\n      <td>29031.391</td>\n      <td>45179.0</td>\n      <td>711</td>\n      <td>898</td>\n      <td>POLYGON ((56.34129 58.02780, 56.34127 58.02781...</td>\n      <td>59.992692</td>\n      <td>30.375010</td>\n    </tr>\n    <tr>\n      <th>9</th>\n      <td>5.817216e+07</td>\n      <td>low_density</td>\n      <td>0.900648</td>\n      <td>0.009719</td>\n      <td>0.089633</td>\n      <td>39884.962</td>\n      <td>304269.0</td>\n      <td>926</td>\n      <td>6476</td>\n      <td>POLYGON ((56.36243 58.05457, 56.36242 58.05457...</td>\n      <td>54.628613</td>\n      <td>28.182628</td>\n    </tr>\n    <tr>\n      <th>11</th>\n      <td>2.740008e+05</td>\n      <td>low_density</td>\n      <td>1.000000</td>\n      <td>0.000000</td>\n      <td>0.000000</td>\n      <td>539.633</td>\n      <td>1527.0</td>\n      <td>15</td>\n      <td>20</td>\n      <td>POLYGON ((56.40011 58.04080, 56.40011 58.04081...</td>\n      <td>56.377235</td>\n      <td>28.926896</td>\n    </tr>\n    <tr>\n      <th>16</th>\n      <td>2.060076e+05</td>\n      <td>residential</td>\n      <td>0.000000</td>\n      <td>0.133333</td>\n      <td>0.866667</td>\n      <td>6815.552</td>\n      <td>79678.0</td>\n      <td>150</td>\n      <td>1340</td>\n      <td>POLYGON ((56.20791 58.00293, 56.20789 58.00293...</td>\n      <td>172.790236</td>\n      <td>79.292379</td>\n    </tr>\n    <tr>\n      <th>...</th>\n      <td>...</td>\n      <td>...</td>\n      <td>...</td>\n      <td>...</td>\n      <td>...</td>\n      <td>...</td>\n      <td>...</td>\n      <td>...</td>\n      <td>...</td>\n      <td>...</td>\n      <td>...</td>\n      <td>...</td>\n    </tr>\n    <tr>\n      <th>2869</th>\n      <td>3.137001e+05</td>\n      <td>commercial</td>\n      <td>0.439394</td>\n      <td>0.000000</td>\n      <td>0.560606</td>\n      <td>4756.526</td>\n      <td>0.0</td>\n      <td>132</td>\n      <td>0</td>\n      <td>POLYGON ((56.38621 58.14957, 56.38620 58.14958...</td>\n      <td>38.929160</td>\n      <td>21.571072</td>\n    </tr>\n    <tr>\n      <th>2875</th>\n      <td>2.419463e+06</td>\n      <td>industrial</td>\n      <td>0.546729</td>\n      <td>0.000000</td>\n      <td>0.453271</td>\n      <td>9696.609</td>\n      <td>1284.0</td>\n      <td>214</td>\n      <td>24</td>\n      <td>POLYGON ((56.36681 58.12208, 56.36681 58.12208...</td>\n      <td>45.831944</td>\n      <td>24.601994</td>\n    </tr>\n    <tr>\n      <th>2877</th>\n      <td>1.502041e+05</td>\n      <td>industrial</td>\n      <td>1.000000</td>\n      <td>0.000000</td>\n      <td>0.000000</td>\n      <td>6515.337</td>\n      <td>0.0</td>\n      <td>158</td>\n      <td>0</td>\n      <td>POLYGON ((56.28264 58.02905, 56.28262 58.02904...</td>\n      <td>112.926958</td>\n      <td>211.733180</td>\n    </tr>\n    <tr>\n      <th>2879</th>\n      <td>1.999429e+05</td>\n      <td>industrial</td>\n      <td>1.000000</td>\n      <td>0.000000</td>\n      <td>0.000000</td>\n      <td>4229.398</td>\n      <td>0.0</td>\n      <td>94</td>\n      <td>0</td>\n      <td>POLYGON ((56.15650 57.88209, 56.15648 57.88209...</td>\n      <td>33.149738</td>\n      <td>117.367989</td>\n    </tr>\n    <tr>\n      <th>3000</th>\n      <td>3.550764e+06</td>\n      <td>low_density</td>\n      <td>0.274725</td>\n      <td>0.000000</td>\n      <td>0.725275</td>\n      <td>8527.540</td>\n      <td>46561.0</td>\n      <td>182</td>\n      <td>911</td>\n      <td>POLYGON ((56.31847 58.03896, 56.31846 58.03897...</td>\n      <td>82.146441</td>\n      <td>38.598313</td>\n    </tr>\n  </tbody>\n</table>\n<p>499 rows × 12 columns</p>\n</div>"
     },
     "execution_count": 7,
     "metadata": {},
     "output_type": "execute_result"
    }
   ],
   "source": [
    "zones"
   ],
   "metadata": {
    "collapsed": false,
    "ExecuteTime": {
     "end_time": "2024-01-17T19:04:12.989120700Z",
     "start_time": "2024-01-17T19:04:12.863277700Z"
    }
   },
   "id": "28913a6bf95481f1"
  },
  {
   "cell_type": "code",
   "execution_count": 8,
   "outputs": [],
   "source": [
    "zones.to_file('data/testzones2.geojson', driver='GeoJSON')"
   ],
   "metadata": {
    "collapsed": false,
    "ExecuteTime": {
     "end_time": "2024-01-17T19:04:32.382072400Z",
     "start_time": "2024-01-17T19:04:30.670678700Z"
    }
   },
   "id": "3c17cd0569002878"
  },
  {
   "cell_type": "markdown",
   "source": [
    "Нормализуем значения коэффициентов доступности"
   ],
   "metadata": {
    "collapsed": false
   },
   "id": "fa94396288f91959"
  },
  {
   "cell_type": "code",
   "execution_count": 7,
   "outputs": [
    {
     "data": {
      "text/plain": "       id          area      landuse  industrial    retail   service  \\\n0       1  1.224163e+06  low_density    0.000000  0.000000  1.000000   \n1       6  3.949440e+07  low_density    0.932489  0.067511  0.000000   \n2       9  5.817216e+07  low_density    0.900648  0.009719  0.089633   \n3      11  2.740008e+05  low_density    1.000000  0.000000  0.000000   \n4      16  2.060076e+05  residential    0.000000  0.133333  0.866667   \n..    ...           ...          ...         ...       ...       ...   \n494  2869  3.137001e+05   commercial    0.439394  0.000000  0.560606   \n495  2875  2.419463e+06   industrial    0.546729  0.000000  0.453271   \n496  2877  1.502041e+05   industrial    1.000000  0.000000  0.000000   \n497  2879  1.999429e+05   industrial    1.000000  0.000000  0.000000   \n498  3000  3.550764e+06  low_density    0.274725  0.000000  0.725275   \n\n     work_area  living_area  workers  population  population_availability  \\\n0     4893.620     113243.0      124        2211                76.588172   \n1    29031.391      45179.0      711         898                59.992692   \n2    39884.962     304269.0      926        6476                54.628613   \n3      539.633       1527.0       15          20                56.377235   \n4     6815.552      79678.0      150        1340               172.790236   \n..         ...          ...      ...         ...                      ...   \n494   4756.526          0.0      132           0                38.929160   \n495   9696.609       1284.0      214          24                45.831944   \n496   6515.337          0.0      158           0               112.926958   \n497   4229.398          0.0       94           0                33.149738   \n498   8527.540      46561.0      182         911                82.146441   \n\n     workers_availability                                           geometry  \n0               35.953808  POLYGON ((56.34764 58.03500, 56.34762 58.03500...  \n1               30.375010  POLYGON ((56.34129 58.02780, 56.34127 58.02781...  \n2               28.182628  POLYGON ((56.36243 58.05457, 56.36242 58.05457...  \n3               28.926896  POLYGON ((56.40011 58.04080, 56.40011 58.04081...  \n4               79.292379  POLYGON ((56.20791 58.00293, 56.20789 58.00293...  \n..                    ...                                                ...  \n494             21.571072  POLYGON ((56.38621 58.14957, 56.38620 58.14958...  \n495             24.601994  POLYGON ((56.36681 58.12208, 56.36681 58.12208...  \n496            211.733180  POLYGON ((56.28264 58.02905, 56.28262 58.02904...  \n497            117.367989  POLYGON ((56.15650 57.88209, 56.15648 57.88209...  \n498             38.598313  POLYGON ((56.31847 58.03896, 56.31846 58.03897...  \n\n[499 rows x 13 columns]",
      "text/html": "<div>\n<style scoped>\n    .dataframe tbody tr th:only-of-type {\n        vertical-align: middle;\n    }\n\n    .dataframe tbody tr th {\n        vertical-align: top;\n    }\n\n    .dataframe thead th {\n        text-align: right;\n    }\n</style>\n<table border=\"1\" class=\"dataframe\">\n  <thead>\n    <tr style=\"text-align: right;\">\n      <th></th>\n      <th>id</th>\n      <th>area</th>\n      <th>landuse</th>\n      <th>industrial</th>\n      <th>retail</th>\n      <th>service</th>\n      <th>work_area</th>\n      <th>living_area</th>\n      <th>workers</th>\n      <th>population</th>\n      <th>population_availability</th>\n      <th>workers_availability</th>\n      <th>geometry</th>\n    </tr>\n  </thead>\n  <tbody>\n    <tr>\n      <th>0</th>\n      <td>1</td>\n      <td>1.224163e+06</td>\n      <td>low_density</td>\n      <td>0.000000</td>\n      <td>0.000000</td>\n      <td>1.000000</td>\n      <td>4893.620</td>\n      <td>113243.0</td>\n      <td>124</td>\n      <td>2211</td>\n      <td>76.588172</td>\n      <td>35.953808</td>\n      <td>POLYGON ((56.34764 58.03500, 56.34762 58.03500...</td>\n    </tr>\n    <tr>\n      <th>1</th>\n      <td>6</td>\n      <td>3.949440e+07</td>\n      <td>low_density</td>\n      <td>0.932489</td>\n      <td>0.067511</td>\n      <td>0.000000</td>\n      <td>29031.391</td>\n      <td>45179.0</td>\n      <td>711</td>\n      <td>898</td>\n      <td>59.992692</td>\n      <td>30.375010</td>\n      <td>POLYGON ((56.34129 58.02780, 56.34127 58.02781...</td>\n    </tr>\n    <tr>\n      <th>2</th>\n      <td>9</td>\n      <td>5.817216e+07</td>\n      <td>low_density</td>\n      <td>0.900648</td>\n      <td>0.009719</td>\n      <td>0.089633</td>\n      <td>39884.962</td>\n      <td>304269.0</td>\n      <td>926</td>\n      <td>6476</td>\n      <td>54.628613</td>\n      <td>28.182628</td>\n      <td>POLYGON ((56.36243 58.05457, 56.36242 58.05457...</td>\n    </tr>\n    <tr>\n      <th>3</th>\n      <td>11</td>\n      <td>2.740008e+05</td>\n      <td>low_density</td>\n      <td>1.000000</td>\n      <td>0.000000</td>\n      <td>0.000000</td>\n      <td>539.633</td>\n      <td>1527.0</td>\n      <td>15</td>\n      <td>20</td>\n      <td>56.377235</td>\n      <td>28.926896</td>\n      <td>POLYGON ((56.40011 58.04080, 56.40011 58.04081...</td>\n    </tr>\n    <tr>\n      <th>4</th>\n      <td>16</td>\n      <td>2.060076e+05</td>\n      <td>residential</td>\n      <td>0.000000</td>\n      <td>0.133333</td>\n      <td>0.866667</td>\n      <td>6815.552</td>\n      <td>79678.0</td>\n      <td>150</td>\n      <td>1340</td>\n      <td>172.790236</td>\n      <td>79.292379</td>\n      <td>POLYGON ((56.20791 58.00293, 56.20789 58.00293...</td>\n    </tr>\n    <tr>\n      <th>...</th>\n      <td>...</td>\n      <td>...</td>\n      <td>...</td>\n      <td>...</td>\n      <td>...</td>\n      <td>...</td>\n      <td>...</td>\n      <td>...</td>\n      <td>...</td>\n      <td>...</td>\n      <td>...</td>\n      <td>...</td>\n      <td>...</td>\n    </tr>\n    <tr>\n      <th>494</th>\n      <td>2869</td>\n      <td>3.137001e+05</td>\n      <td>commercial</td>\n      <td>0.439394</td>\n      <td>0.000000</td>\n      <td>0.560606</td>\n      <td>4756.526</td>\n      <td>0.0</td>\n      <td>132</td>\n      <td>0</td>\n      <td>38.929160</td>\n      <td>21.571072</td>\n      <td>POLYGON ((56.38621 58.14957, 56.38620 58.14958...</td>\n    </tr>\n    <tr>\n      <th>495</th>\n      <td>2875</td>\n      <td>2.419463e+06</td>\n      <td>industrial</td>\n      <td>0.546729</td>\n      <td>0.000000</td>\n      <td>0.453271</td>\n      <td>9696.609</td>\n      <td>1284.0</td>\n      <td>214</td>\n      <td>24</td>\n      <td>45.831944</td>\n      <td>24.601994</td>\n      <td>POLYGON ((56.36681 58.12208, 56.36681 58.12208...</td>\n    </tr>\n    <tr>\n      <th>496</th>\n      <td>2877</td>\n      <td>1.502041e+05</td>\n      <td>industrial</td>\n      <td>1.000000</td>\n      <td>0.000000</td>\n      <td>0.000000</td>\n      <td>6515.337</td>\n      <td>0.0</td>\n      <td>158</td>\n      <td>0</td>\n      <td>112.926958</td>\n      <td>211.733180</td>\n      <td>POLYGON ((56.28264 58.02905, 56.28262 58.02904...</td>\n    </tr>\n    <tr>\n      <th>497</th>\n      <td>2879</td>\n      <td>1.999429e+05</td>\n      <td>industrial</td>\n      <td>1.000000</td>\n      <td>0.000000</td>\n      <td>0.000000</td>\n      <td>4229.398</td>\n      <td>0.0</td>\n      <td>94</td>\n      <td>0</td>\n      <td>33.149738</td>\n      <td>117.367989</td>\n      <td>POLYGON ((56.15650 57.88209, 56.15648 57.88209...</td>\n    </tr>\n    <tr>\n      <th>498</th>\n      <td>3000</td>\n      <td>3.550764e+06</td>\n      <td>low_density</td>\n      <td>0.274725</td>\n      <td>0.000000</td>\n      <td>0.725275</td>\n      <td>8527.540</td>\n      <td>46561.0</td>\n      <td>182</td>\n      <td>911</td>\n      <td>82.146441</td>\n      <td>38.598313</td>\n      <td>POLYGON ((56.31847 58.03896, 56.31846 58.03897...</td>\n    </tr>\n  </tbody>\n</table>\n<p>499 rows × 13 columns</p>\n</div>"
     },
     "execution_count": 7,
     "metadata": {},
     "output_type": "execute_result"
    }
   ],
   "source": [
    "zones = gpd.read_file(\"C:/Users/sm_pa/OneDrive/Рабочий стол/НИР3/perm_freight_modelling/data/testzones2.geojson\")\n",
    "zones"
   ],
   "metadata": {
    "collapsed": false,
    "ExecuteTime": {
     "end_time": "2024-01-18T10:01:59.740004400Z",
     "start_time": "2024-01-18T10:01:57.073543600Z"
    }
   },
   "id": "baf274a133364d33"
  },
  {
   "cell_type": "code",
   "execution_count": 5,
   "outputs": [],
   "source": [
    "from scipy import stats"
   ],
   "metadata": {
    "collapsed": false,
    "ExecuteTime": {
     "end_time": "2024-01-18T10:01:43.346122600Z",
     "start_time": "2024-01-18T10:01:40.857359700Z"
    }
   },
   "id": "c0c6c4179f9e6557"
  },
  {
   "cell_type": "code",
   "execution_count": 8,
   "outputs": [],
   "source": [
    "zones['population_availability'] = zones['population_availability'].clip(lower=1)\n",
    "zones['workers_availability'] = zones['workers_availability'].clip(lower=1)\n",
    "\n",
    "# Применяем преобразование Бокса-Кокса\n",
    "zones['population_availability_normalized'], _ = stats.boxcox(zones['population_availability'])\n",
    "zones['workers_availability_normalized'], _ = stats.boxcox(zones['workers_availability'])"
   ],
   "metadata": {
    "collapsed": false,
    "ExecuteTime": {
     "end_time": "2024-01-18T10:02:02.882137800Z",
     "start_time": "2024-01-18T10:02:02.787923800Z"
    }
   },
   "id": "f392a171bb31123f"
  },
  {
   "cell_type": "code",
   "execution_count": 12,
   "outputs": [
    {
     "ename": "ValueError",
     "evalue": "Need to specify at least one of 'labels', 'index' or 'columns'",
     "output_type": "error",
     "traceback": [
      "\u001B[1;31m---------------------------------------------------------------------------\u001B[0m",
      "\u001B[1;31mValueError\u001B[0m                                Traceback (most recent call last)",
      "\u001B[1;32m~\\AppData\\Local\\Temp\\ipykernel_308\\812381926.py\u001B[0m in \u001B[0;36m?\u001B[1;34m()\u001B[0m\n\u001B[1;32m----> 3\u001B[1;33m \u001B[0mzones\u001B[0m\u001B[1;33m[\u001B[0m\u001B[1;34m'population_availability'\u001B[0m\u001B[1;33m]\u001B[0m \u001B[1;33m=\u001B[0m \u001B[0mzones\u001B[0m\u001B[1;33m[\u001B[0m\u001B[1;34m'population_availability_normalized'\u001B[0m\u001B[1;33m]\u001B[0m\u001B[1;33m\u001B[0m\u001B[1;33m\u001B[0m\u001B[0m\n\u001B[0m\u001B[0;32m      4\u001B[0m \u001B[0mzones\u001B[0m\u001B[1;33m[\u001B[0m\u001B[1;34m'workers_availability'\u001B[0m\u001B[1;33m]\u001B[0m \u001B[1;33m=\u001B[0m \u001B[0mzones\u001B[0m\u001B[1;33m[\u001B[0m\u001B[1;34m'workers_availability_normalized'\u001B[0m\u001B[1;33m]\u001B[0m\u001B[1;33m\u001B[0m\u001B[1;33m\u001B[0m\u001B[0m\n\u001B[0;32m      5\u001B[0m \u001B[0mzones\u001B[0m\u001B[1;33m[\u001B[0m\u001B[1;34m'population_availability'\u001B[0m\u001B[1;33m]\u001B[0m\u001B[1;33m.\u001B[0m\u001B[0mdrop\u001B[0m\u001B[1;33m(\u001B[0m\u001B[1;33m)\u001B[0m\u001B[1;33m\u001B[0m\u001B[1;33m\u001B[0m\u001B[0m\n\u001B[0;32m      6\u001B[0m \u001B[0mzones\u001B[0m\u001B[1;33m[\u001B[0m\u001B[1;34m'workers_availability'\u001B[0m\u001B[1;33m]\u001B[0m\u001B[1;33m.\u001B[0m\u001B[0mdrop\u001B[0m\u001B[1;33m(\u001B[0m\u001B[1;33m)\u001B[0m\u001B[1;33m\u001B[0m\u001B[1;33m\u001B[0m\u001B[0m\n",
      "\u001B[1;32m~\\AppData\\Local\\Programs\\Python\\Python39\\lib\\site-packages\\pandas\\core\\series.py\u001B[0m in \u001B[0;36m?\u001B[1;34m(self, labels, axis, index, columns, level, inplace, errors)\u001B[0m\n\u001B[0;32m   5144\u001B[0m         \u001B[0mfalcon\u001B[0m  \u001B[0mspeed\u001B[0m     \u001B[1;36m320.0\u001B[0m\u001B[1;33m\u001B[0m\u001B[1;33m\u001B[0m\u001B[0m\n\u001B[0;32m   5145\u001B[0m                 \u001B[0mlength\u001B[0m      \u001B[1;36m0.3\u001B[0m\u001B[1;33m\u001B[0m\u001B[1;33m\u001B[0m\u001B[0m\n\u001B[0;32m   5146\u001B[0m         \u001B[0mdtype\u001B[0m\u001B[1;33m:\u001B[0m \u001B[0mfloat64\u001B[0m\u001B[1;33m\u001B[0m\u001B[1;33m\u001B[0m\u001B[0m\n\u001B[0;32m   5147\u001B[0m         \"\"\"\n\u001B[1;32m-> 5148\u001B[1;33m         return super().drop(\n\u001B[0m\u001B[0;32m   5149\u001B[0m             \u001B[0mlabels\u001B[0m\u001B[1;33m=\u001B[0m\u001B[0mlabels\u001B[0m\u001B[1;33m,\u001B[0m\u001B[1;33m\u001B[0m\u001B[1;33m\u001B[0m\u001B[0m\n\u001B[0;32m   5150\u001B[0m             \u001B[0maxis\u001B[0m\u001B[1;33m=\u001B[0m\u001B[0maxis\u001B[0m\u001B[1;33m,\u001B[0m\u001B[1;33m\u001B[0m\u001B[1;33m\u001B[0m\u001B[0m\n\u001B[0;32m   5151\u001B[0m             \u001B[0mindex\u001B[0m\u001B[1;33m=\u001B[0m\u001B[0mindex\u001B[0m\u001B[1;33m,\u001B[0m\u001B[1;33m\u001B[0m\u001B[1;33m\u001B[0m\u001B[0m\n",
      "\u001B[1;32m~\\AppData\\Local\\Programs\\Python\\Python39\\lib\\site-packages\\pandas\\core\\generic.py\u001B[0m in \u001B[0;36m?\u001B[1;34m(self, labels, axis, index, columns, level, inplace, errors)\u001B[0m\n\u001B[0;32m   4699\u001B[0m             \u001B[0maxes\u001B[0m \u001B[1;33m=\u001B[0m \u001B[1;33m{\u001B[0m\u001B[1;34m\"index\"\u001B[0m\u001B[1;33m:\u001B[0m \u001B[0mindex\u001B[0m\u001B[1;33m}\u001B[0m\u001B[1;33m\u001B[0m\u001B[1;33m\u001B[0m\u001B[0m\n\u001B[0;32m   4700\u001B[0m             \u001B[1;32mif\u001B[0m \u001B[0mself\u001B[0m\u001B[1;33m.\u001B[0m\u001B[0mndim\u001B[0m \u001B[1;33m==\u001B[0m \u001B[1;36m2\u001B[0m\u001B[1;33m:\u001B[0m\u001B[1;33m\u001B[0m\u001B[1;33m\u001B[0m\u001B[0m\n\u001B[0;32m   4701\u001B[0m                 \u001B[0maxes\u001B[0m\u001B[1;33m[\u001B[0m\u001B[1;34m\"columns\"\u001B[0m\u001B[1;33m]\u001B[0m \u001B[1;33m=\u001B[0m \u001B[0mcolumns\u001B[0m\u001B[1;33m\u001B[0m\u001B[1;33m\u001B[0m\u001B[0m\n\u001B[0;32m   4702\u001B[0m         \u001B[1;32melse\u001B[0m\u001B[1;33m:\u001B[0m\u001B[1;33m\u001B[0m\u001B[1;33m\u001B[0m\u001B[0m\n\u001B[1;32m-> 4703\u001B[1;33m             raise ValueError(\n\u001B[0m\u001B[0;32m   4704\u001B[0m                 \u001B[1;34m\"Need to specify at least one of 'labels', 'index' or 'columns'\"\u001B[0m\u001B[1;33m\u001B[0m\u001B[1;33m\u001B[0m\u001B[0m\n\u001B[0;32m   4705\u001B[0m             )\n\u001B[0;32m   4706\u001B[0m \u001B[1;33m\u001B[0m\u001B[0m\n",
      "\u001B[1;31mValueError\u001B[0m: Need to specify at least one of 'labels', 'index' or 'columns'"
     ]
    }
   ],
   "source": [
    "zones['population_availability'] = zones['population_availability_normalized']\n",
    "zones['workers_availability'] = zones['workers_availability_normalized']"
   ],
   "metadata": {
    "collapsed": false,
    "ExecuteTime": {
     "end_time": "2024-01-18T10:28:26.003216900Z",
     "start_time": "2024-01-18T10:28:25.758156300Z"
    }
   },
   "id": "b97d1ffc64d5f860"
  },
  {
   "cell_type": "code",
   "execution_count": 14,
   "outputs": [
    {
     "data": {
      "text/plain": "       id          area      landuse  industrial    retail   service  \\\n0       1  1.224163e+06  low_density    0.000000  0.000000  1.000000   \n1       6  3.949440e+07  low_density    0.932489  0.067511  0.000000   \n2       9  5.817216e+07  low_density    0.900648  0.009719  0.089633   \n3      11  2.740008e+05  low_density    1.000000  0.000000  0.000000   \n4      16  2.060076e+05  residential    0.000000  0.133333  0.866667   \n..    ...           ...          ...         ...       ...       ...   \n494  2869  3.137001e+05   commercial    0.439394  0.000000  0.560606   \n495  2875  2.419463e+06   industrial    0.546729  0.000000  0.453271   \n496  2877  1.502041e+05   industrial    1.000000  0.000000  0.000000   \n497  2879  1.999429e+05   industrial    1.000000  0.000000  0.000000   \n498  3000  3.550764e+06  low_density    0.274725  0.000000  0.725275   \n\n     work_area  living_area  workers  population  population_availability  \\\n0     4893.620     113243.0      124        2211                 5.241083   \n1    29031.391      45179.0      711         898                 4.892252   \n2    39884.962     304269.0      926        6476                 4.760366   \n3      539.633       1527.0       15          20                 4.804614   \n4     6815.552      79678.0      150        1340                 6.456608   \n..         ...          ...      ...         ...                      ...   \n494   4756.526          0.0      132           0                 4.291921   \n495   9696.609       1284.0      214          24                 4.515939   \n496   6515.337          0.0      158           0                 5.810754   \n497   4229.398          0.0       94           0                 4.074374   \n498   8527.540      46561.0      182         911                 5.342491   \n\n     workers_availability                                           geometry  \n0                2.463974  POLYGON ((56.34764 58.03500, 56.34762 58.03500...  \n1                2.386894  POLYGON ((56.34129 58.02780, 56.34127 58.02781...  \n2                2.351703  POLYGON ((56.36243 58.05457, 56.36242 58.05457...  \n3                2.364015  POLYGON ((56.40011 58.04080, 56.40011 58.04081...  \n4                2.789124  POLYGON ((56.20791 58.00293, 56.20789 58.00293...  \n..                    ...                                                ...  \n494              2.221195  POLYGON ((56.38621 58.14957, 56.38620 58.14958...  \n495              2.286350  POLYGON ((56.36681 58.12208, 56.36681 58.12208...  \n496              3.120476  POLYGON ((56.28264 58.02905, 56.28262 58.02904...  \n497              2.930219  POLYGON ((56.15650 57.88209, 56.15648 57.88209...  \n498              2.495559  POLYGON ((56.31847 58.03896, 56.31846 58.03897...  \n\n[499 rows x 13 columns]",
      "text/html": "<div>\n<style scoped>\n    .dataframe tbody tr th:only-of-type {\n        vertical-align: middle;\n    }\n\n    .dataframe tbody tr th {\n        vertical-align: top;\n    }\n\n    .dataframe thead th {\n        text-align: right;\n    }\n</style>\n<table border=\"1\" class=\"dataframe\">\n  <thead>\n    <tr style=\"text-align: right;\">\n      <th></th>\n      <th>id</th>\n      <th>area</th>\n      <th>landuse</th>\n      <th>industrial</th>\n      <th>retail</th>\n      <th>service</th>\n      <th>work_area</th>\n      <th>living_area</th>\n      <th>workers</th>\n      <th>population</th>\n      <th>population_availability</th>\n      <th>workers_availability</th>\n      <th>geometry</th>\n    </tr>\n  </thead>\n  <tbody>\n    <tr>\n      <th>0</th>\n      <td>1</td>\n      <td>1.224163e+06</td>\n      <td>low_density</td>\n      <td>0.000000</td>\n      <td>0.000000</td>\n      <td>1.000000</td>\n      <td>4893.620</td>\n      <td>113243.0</td>\n      <td>124</td>\n      <td>2211</td>\n      <td>5.241083</td>\n      <td>2.463974</td>\n      <td>POLYGON ((56.34764 58.03500, 56.34762 58.03500...</td>\n    </tr>\n    <tr>\n      <th>1</th>\n      <td>6</td>\n      <td>3.949440e+07</td>\n      <td>low_density</td>\n      <td>0.932489</td>\n      <td>0.067511</td>\n      <td>0.000000</td>\n      <td>29031.391</td>\n      <td>45179.0</td>\n      <td>711</td>\n      <td>898</td>\n      <td>4.892252</td>\n      <td>2.386894</td>\n      <td>POLYGON ((56.34129 58.02780, 56.34127 58.02781...</td>\n    </tr>\n    <tr>\n      <th>2</th>\n      <td>9</td>\n      <td>5.817216e+07</td>\n      <td>low_density</td>\n      <td>0.900648</td>\n      <td>0.009719</td>\n      <td>0.089633</td>\n      <td>39884.962</td>\n      <td>304269.0</td>\n      <td>926</td>\n      <td>6476</td>\n      <td>4.760366</td>\n      <td>2.351703</td>\n      <td>POLYGON ((56.36243 58.05457, 56.36242 58.05457...</td>\n    </tr>\n    <tr>\n      <th>3</th>\n      <td>11</td>\n      <td>2.740008e+05</td>\n      <td>low_density</td>\n      <td>1.000000</td>\n      <td>0.000000</td>\n      <td>0.000000</td>\n      <td>539.633</td>\n      <td>1527.0</td>\n      <td>15</td>\n      <td>20</td>\n      <td>4.804614</td>\n      <td>2.364015</td>\n      <td>POLYGON ((56.40011 58.04080, 56.40011 58.04081...</td>\n    </tr>\n    <tr>\n      <th>4</th>\n      <td>16</td>\n      <td>2.060076e+05</td>\n      <td>residential</td>\n      <td>0.000000</td>\n      <td>0.133333</td>\n      <td>0.866667</td>\n      <td>6815.552</td>\n      <td>79678.0</td>\n      <td>150</td>\n      <td>1340</td>\n      <td>6.456608</td>\n      <td>2.789124</td>\n      <td>POLYGON ((56.20791 58.00293, 56.20789 58.00293...</td>\n    </tr>\n    <tr>\n      <th>...</th>\n      <td>...</td>\n      <td>...</td>\n      <td>...</td>\n      <td>...</td>\n      <td>...</td>\n      <td>...</td>\n      <td>...</td>\n      <td>...</td>\n      <td>...</td>\n      <td>...</td>\n      <td>...</td>\n      <td>...</td>\n      <td>...</td>\n    </tr>\n    <tr>\n      <th>494</th>\n      <td>2869</td>\n      <td>3.137001e+05</td>\n      <td>commercial</td>\n      <td>0.439394</td>\n      <td>0.000000</td>\n      <td>0.560606</td>\n      <td>4756.526</td>\n      <td>0.0</td>\n      <td>132</td>\n      <td>0</td>\n      <td>4.291921</td>\n      <td>2.221195</td>\n      <td>POLYGON ((56.38621 58.14957, 56.38620 58.14958...</td>\n    </tr>\n    <tr>\n      <th>495</th>\n      <td>2875</td>\n      <td>2.419463e+06</td>\n      <td>industrial</td>\n      <td>0.546729</td>\n      <td>0.000000</td>\n      <td>0.453271</td>\n      <td>9696.609</td>\n      <td>1284.0</td>\n      <td>214</td>\n      <td>24</td>\n      <td>4.515939</td>\n      <td>2.286350</td>\n      <td>POLYGON ((56.36681 58.12208, 56.36681 58.12208...</td>\n    </tr>\n    <tr>\n      <th>496</th>\n      <td>2877</td>\n      <td>1.502041e+05</td>\n      <td>industrial</td>\n      <td>1.000000</td>\n      <td>0.000000</td>\n      <td>0.000000</td>\n      <td>6515.337</td>\n      <td>0.0</td>\n      <td>158</td>\n      <td>0</td>\n      <td>5.810754</td>\n      <td>3.120476</td>\n      <td>POLYGON ((56.28264 58.02905, 56.28262 58.02904...</td>\n    </tr>\n    <tr>\n      <th>497</th>\n      <td>2879</td>\n      <td>1.999429e+05</td>\n      <td>industrial</td>\n      <td>1.000000</td>\n      <td>0.000000</td>\n      <td>0.000000</td>\n      <td>4229.398</td>\n      <td>0.0</td>\n      <td>94</td>\n      <td>0</td>\n      <td>4.074374</td>\n      <td>2.930219</td>\n      <td>POLYGON ((56.15650 57.88209, 56.15648 57.88209...</td>\n    </tr>\n    <tr>\n      <th>498</th>\n      <td>3000</td>\n      <td>3.550764e+06</td>\n      <td>low_density</td>\n      <td>0.274725</td>\n      <td>0.000000</td>\n      <td>0.725275</td>\n      <td>8527.540</td>\n      <td>46561.0</td>\n      <td>182</td>\n      <td>911</td>\n      <td>5.342491</td>\n      <td>2.495559</td>\n      <td>POLYGON ((56.31847 58.03896, 56.31846 58.03897...</td>\n    </tr>\n  </tbody>\n</table>\n<p>499 rows × 13 columns</p>\n</div>"
     },
     "execution_count": 14,
     "metadata": {},
     "output_type": "execute_result"
    }
   ],
   "source": [
    "zones = zones.drop('population_availability_normalized', axis=1)\n",
    "zones = zones.drop('workers_availability_normalized', axis=1)\n",
    "zones"
   ],
   "metadata": {
    "collapsed": false,
    "ExecuteTime": {
     "end_time": "2024-01-18T10:30:35.215045400Z",
     "start_time": "2024-01-18T10:30:35.167545400Z"
    }
   },
   "id": "86c7d2eb64faec3e"
  },
  {
   "cell_type": "code",
   "execution_count": 16,
   "outputs": [],
   "source": [
    "zones.to_file('data/TAZ_final.geojson', driver='GeoJSON')"
   ],
   "metadata": {
    "collapsed": false,
    "ExecuteTime": {
     "end_time": "2024-01-18T10:30:51.150967300Z",
     "start_time": "2024-01-18T10:30:49.956388Z"
    }
   },
   "id": "ffb3063600cc2aa8"
  }
 ],
 "metadata": {
  "kernelspec": {
   "display_name": "Python 3",
   "language": "python",
   "name": "python3"
  },
  "language_info": {
   "codemirror_mode": {
    "name": "ipython",
    "version": 2
   },
   "file_extension": ".py",
   "mimetype": "text/x-python",
   "name": "python",
   "nbconvert_exporter": "python",
   "pygments_lexer": "ipython2",
   "version": "2.7.6"
  }
 },
 "nbformat": 4,
 "nbformat_minor": 5
}
