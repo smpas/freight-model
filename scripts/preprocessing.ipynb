{
 "cells": [
  {
   "cell_type": "code",
   "execution_count": 1,
   "id": "initial_id",
   "metadata": {
    "collapsed": true,
    "ExecuteTime": {
     "end_time": "2023-12-23T19:27:42.042712100Z",
     "start_time": "2023-12-23T19:27:38.565523400Z"
    }
   },
   "outputs": [],
   "source": [
    "import geopandas as gpd"
   ]
  },
  {
   "cell_type": "code",
   "execution_count": 2,
   "outputs": [
    {
     "data": {
      "text/plain": "               id    function  is_living  storeys_count  basement_area  \\\n0        81509035      retail      False              5       2434.182   \n1           28470      school      False              3       2393.244   \n2           28480      school      False              3       2346.316   \n3          290869      school      False              3       2337.493   \n4          299980      school      False              3       2377.855   \n...           ...         ...        ...            ...            ...   \n14088  1147821565         yes      False              1       1218.829   \n14089  1148104875         yes      False              1        107.470   \n14090  1148419580      office      False              4        624.885   \n14091  1148746841  industrial      False              1        188.391   \n14092  1149034816  industrial      False              1        516.981   \n\n       total_area  population  living_area  block_id  \\\n0             NaN           0          0.0       529   \n1             NaN           0          0.0      1705   \n2             NaN           0          0.0        31   \n3             NaN           0          0.0       379   \n4             NaN           0          0.0       375   \n...           ...         ...          ...       ...   \n14088         NaN           0          0.0       649   \n14089         NaN           0          0.0       274   \n14090         NaN           0          0.0       276   \n14091         NaN           0          0.0       274   \n14092         NaN           0          0.0       275   \n\n                                                geometry  \n0      MULTIPOLYGON (((56.18833 57.97849, 56.18910 57...  \n1      MULTIPOLYGON (((56.32419 58.03256, 56.32387 58...  \n2      MULTIPOLYGON (((56.35565 58.05996, 56.35499 58...  \n3      MULTIPOLYGON (((56.16076 57.99611, 56.16087 57...  \n4      MULTIPOLYGON (((56.15229 57.99695, 56.15242 57...  \n...                                                  ...  \n14088  MULTIPOLYGON (((56.16802 57.91086, 56.16836 57...  \n14089  MULTIPOLYGON (((56.13393 57.92601, 56.13408 57...  \n14090  MULTIPOLYGON (((56.16355 57.88379, 56.16394 57...  \n14091  MULTIPOLYGON (((56.13846 57.90833, 56.13847 57...  \n14092  MULTIPOLYGON (((56.15790 57.87906, 56.15796 57...  \n\n[14093 rows x 10 columns]",
      "text/html": "<div>\n<style scoped>\n    .dataframe tbody tr th:only-of-type {\n        vertical-align: middle;\n    }\n\n    .dataframe tbody tr th {\n        vertical-align: top;\n    }\n\n    .dataframe thead th {\n        text-align: right;\n    }\n</style>\n<table border=\"1\" class=\"dataframe\">\n  <thead>\n    <tr style=\"text-align: right;\">\n      <th></th>\n      <th>id</th>\n      <th>function</th>\n      <th>is_living</th>\n      <th>storeys_count</th>\n      <th>basement_area</th>\n      <th>total_area</th>\n      <th>population</th>\n      <th>living_area</th>\n      <th>block_id</th>\n      <th>geometry</th>\n    </tr>\n  </thead>\n  <tbody>\n    <tr>\n      <th>0</th>\n      <td>81509035</td>\n      <td>retail</td>\n      <td>False</td>\n      <td>5</td>\n      <td>2434.182</td>\n      <td>NaN</td>\n      <td>0</td>\n      <td>0.0</td>\n      <td>529</td>\n      <td>MULTIPOLYGON (((56.18833 57.97849, 56.18910 57...</td>\n    </tr>\n    <tr>\n      <th>1</th>\n      <td>28470</td>\n      <td>school</td>\n      <td>False</td>\n      <td>3</td>\n      <td>2393.244</td>\n      <td>NaN</td>\n      <td>0</td>\n      <td>0.0</td>\n      <td>1705</td>\n      <td>MULTIPOLYGON (((56.32419 58.03256, 56.32387 58...</td>\n    </tr>\n    <tr>\n      <th>2</th>\n      <td>28480</td>\n      <td>school</td>\n      <td>False</td>\n      <td>3</td>\n      <td>2346.316</td>\n      <td>NaN</td>\n      <td>0</td>\n      <td>0.0</td>\n      <td>31</td>\n      <td>MULTIPOLYGON (((56.35565 58.05996, 56.35499 58...</td>\n    </tr>\n    <tr>\n      <th>3</th>\n      <td>290869</td>\n      <td>school</td>\n      <td>False</td>\n      <td>3</td>\n      <td>2337.493</td>\n      <td>NaN</td>\n      <td>0</td>\n      <td>0.0</td>\n      <td>379</td>\n      <td>MULTIPOLYGON (((56.16076 57.99611, 56.16087 57...</td>\n    </tr>\n    <tr>\n      <th>4</th>\n      <td>299980</td>\n      <td>school</td>\n      <td>False</td>\n      <td>3</td>\n      <td>2377.855</td>\n      <td>NaN</td>\n      <td>0</td>\n      <td>0.0</td>\n      <td>375</td>\n      <td>MULTIPOLYGON (((56.15229 57.99695, 56.15242 57...</td>\n    </tr>\n    <tr>\n      <th>...</th>\n      <td>...</td>\n      <td>...</td>\n      <td>...</td>\n      <td>...</td>\n      <td>...</td>\n      <td>...</td>\n      <td>...</td>\n      <td>...</td>\n      <td>...</td>\n      <td>...</td>\n    </tr>\n    <tr>\n      <th>14088</th>\n      <td>1147821565</td>\n      <td>yes</td>\n      <td>False</td>\n      <td>1</td>\n      <td>1218.829</td>\n      <td>NaN</td>\n      <td>0</td>\n      <td>0.0</td>\n      <td>649</td>\n      <td>MULTIPOLYGON (((56.16802 57.91086, 56.16836 57...</td>\n    </tr>\n    <tr>\n      <th>14089</th>\n      <td>1148104875</td>\n      <td>yes</td>\n      <td>False</td>\n      <td>1</td>\n      <td>107.470</td>\n      <td>NaN</td>\n      <td>0</td>\n      <td>0.0</td>\n      <td>274</td>\n      <td>MULTIPOLYGON (((56.13393 57.92601, 56.13408 57...</td>\n    </tr>\n    <tr>\n      <th>14090</th>\n      <td>1148419580</td>\n      <td>office</td>\n      <td>False</td>\n      <td>4</td>\n      <td>624.885</td>\n      <td>NaN</td>\n      <td>0</td>\n      <td>0.0</td>\n      <td>276</td>\n      <td>MULTIPOLYGON (((56.16355 57.88379, 56.16394 57...</td>\n    </tr>\n    <tr>\n      <th>14091</th>\n      <td>1148746841</td>\n      <td>industrial</td>\n      <td>False</td>\n      <td>1</td>\n      <td>188.391</td>\n      <td>NaN</td>\n      <td>0</td>\n      <td>0.0</td>\n      <td>274</td>\n      <td>MULTIPOLYGON (((56.13846 57.90833, 56.13847 57...</td>\n    </tr>\n    <tr>\n      <th>14092</th>\n      <td>1149034816</td>\n      <td>industrial</td>\n      <td>False</td>\n      <td>1</td>\n      <td>516.981</td>\n      <td>NaN</td>\n      <td>0</td>\n      <td>0.0</td>\n      <td>275</td>\n      <td>MULTIPOLYGON (((56.15790 57.87906, 56.15796 57...</td>\n    </tr>\n  </tbody>\n</table>\n<p>14093 rows × 10 columns</p>\n</div>"
     },
     "execution_count": 2,
     "metadata": {},
     "output_type": "execute_result"
    }
   ],
   "source": [
    "non_living_buildings = gpd.read_file(\"data/buildings.geojson\")\n",
    "industrial_zone = gpd.read_file(\"data/landuse_industrial.geojson\")\n",
    "non_living_buildings"
   ],
   "metadata": {
    "collapsed": false,
    "ExecuteTime": {
     "end_time": "2023-12-23T19:29:45.208764600Z",
     "start_time": "2023-12-23T19:29:38.486832300Z"
    }
   },
   "id": "3d07c1db0832a0af"
  },
  {
   "cell_type": "markdown",
   "source": [
    "Определяем здания, попадающие в промзоны"
   ],
   "metadata": {
    "collapsed": false
   },
   "id": "ea2ebeae3cd699fb"
  },
  {
   "cell_type": "code",
   "execution_count": 3,
   "outputs": [
    {
     "name": "stderr",
     "output_type": "stream",
     "text": [
      "C:\\Users\\sm_pa\\AppData\\Local\\Programs\\Python\\Python39\\lib\\site-packages\\IPython\\core\\interactiveshell.py:3490: FutureWarning: The `op` parameter is deprecated and will be removed in a future release. Please use the `predicate` parameter instead.\n",
      "  if await self.run_code(code, result, async_=asy):\n"
     ]
    },
    {
     "data": {
      "text/plain": "               id    function  is_living  storeys_count  basement_area  \\\n0        81509035      retail      False              5       2434.182   \n1           28470      school      False              3       2393.244   \n2           28480      school      False              3       2346.316   \n3          290869      school      False              3       2337.493   \n4          299980      school      False              3       2377.855   \n...           ...         ...        ...            ...            ...   \n14088  1147821565         yes      False              1       1218.829   \n14089  1148104875         yes      False              1        107.470   \n14090  1148419580      office      False              4        624.885   \n14091  1148746841  industrial      False              1        188.391   \n14092  1149034816  industrial      False              1        516.981   \n\n       total_area  population  living_area  block_id  \\\n0             NaN           0          0.0       529   \n1             NaN           0          0.0      1705   \n2             NaN           0          0.0        31   \n3             NaN           0          0.0       379   \n4             NaN           0          0.0       375   \n...           ...         ...          ...       ...   \n14088         NaN           0          0.0       649   \n14089         NaN           0          0.0       274   \n14090         NaN           0          0.0       276   \n14091         NaN           0          0.0       274   \n14092         NaN           0          0.0       275   \n\n                                                geometry  ...  name:en  \\\n0      MULTIPOLYGON (((56.18833 57.97849, 56.18910 57...  ...      NaN   \n1      MULTIPOLYGON (((56.32419 58.03256, 56.32387 58...  ...      NaN   \n2      MULTIPOLYGON (((56.35565 58.05996, 56.35499 58...  ...      NaN   \n3      MULTIPOLYGON (((56.16076 57.99611, 56.16087 57...  ...      NaN   \n4      MULTIPOLYGON (((56.15229 57.99695, 56.15242 57...  ...      NaN   \n...                                                  ...  ...      ...   \n14088  MULTIPOLYGON (((56.16802 57.91086, 56.16836 57...  ...      NaN   \n14089  MULTIPOLYGON (((56.13393 57.92601, 56.13408 57...  ...      NaN   \n14090  MULTIPOLYGON (((56.16355 57.88379, 56.16394 57...  ...     None   \n14091  MULTIPOLYGON (((56.13846 57.90833, 56.13847 57...  ...     None   \n14092  MULTIPOLYGON (((56.15790 57.87906, 56.15796 57...  ...     None   \n\n      alt_name access barrier      industrial depot         addr:street  \\\n0          NaN    NaN     NaN             NaN   NaN                 NaN   \n1          NaN    NaN     NaN             NaN   NaN                 NaN   \n2          NaN    NaN     NaN             NaN   NaN                 NaN   \n3          NaN    NaN     NaN             NaN   NaN                 NaN   \n4          NaN    NaN     NaN             NaN   NaN                 NaN   \n...        ...    ...     ...             ...   ...                 ...   \n14088      NaN    NaN     NaN             NaN   NaN                 NaN   \n14089      NaN    NaN     NaN             NaN   NaN                 NaN   \n14090     None   None    None  road_transport  None  Промышленная улица   \n14091     None   None    None             oil  None  Промышленная улица   \n14092     None   None    None  petrochemicals  None  Промышленная улица   \n\n      addr:housenumber                                      name          type  \n0                  NaN                                       NaN           NaN  \n1                  NaN                                       NaN           NaN  \n2                  NaN                                       NaN           NaN  \n3                  NaN                                       NaN           NaN  \n4                  NaN                                       NaN           NaN  \n...                ...                                       ...           ...  \n14088              NaN                                       NaN           NaN  \n14089              NaN                                       NaN           NaN  \n14090               98  ООО «Автотранспортное предприятие «Кама»          None  \n14091               84           ООО «ЛУКОЙЛ-Пермнефтеоргсинтез»          None  \n14092               96            Филиал «ПМУ» АО «ОХК «Уралхим»  multipolygon  \n\n[14158 rows x 66 columns]",
      "text/html": "<div>\n<style scoped>\n    .dataframe tbody tr th:only-of-type {\n        vertical-align: middle;\n    }\n\n    .dataframe tbody tr th {\n        vertical-align: top;\n    }\n\n    .dataframe thead th {\n        text-align: right;\n    }\n</style>\n<table border=\"1\" class=\"dataframe\">\n  <thead>\n    <tr style=\"text-align: right;\">\n      <th></th>\n      <th>id</th>\n      <th>function</th>\n      <th>is_living</th>\n      <th>storeys_count</th>\n      <th>basement_area</th>\n      <th>total_area</th>\n      <th>population</th>\n      <th>living_area</th>\n      <th>block_id</th>\n      <th>geometry</th>\n      <th>...</th>\n      <th>name:en</th>\n      <th>alt_name</th>\n      <th>access</th>\n      <th>barrier</th>\n      <th>industrial</th>\n      <th>depot</th>\n      <th>addr:street</th>\n      <th>addr:housenumber</th>\n      <th>name</th>\n      <th>type</th>\n    </tr>\n  </thead>\n  <tbody>\n    <tr>\n      <th>0</th>\n      <td>81509035</td>\n      <td>retail</td>\n      <td>False</td>\n      <td>5</td>\n      <td>2434.182</td>\n      <td>NaN</td>\n      <td>0</td>\n      <td>0.0</td>\n      <td>529</td>\n      <td>MULTIPOLYGON (((56.18833 57.97849, 56.18910 57...</td>\n      <td>...</td>\n      <td>NaN</td>\n      <td>NaN</td>\n      <td>NaN</td>\n      <td>NaN</td>\n      <td>NaN</td>\n      <td>NaN</td>\n      <td>NaN</td>\n      <td>NaN</td>\n      <td>NaN</td>\n      <td>NaN</td>\n    </tr>\n    <tr>\n      <th>1</th>\n      <td>28470</td>\n      <td>school</td>\n      <td>False</td>\n      <td>3</td>\n      <td>2393.244</td>\n      <td>NaN</td>\n      <td>0</td>\n      <td>0.0</td>\n      <td>1705</td>\n      <td>MULTIPOLYGON (((56.32419 58.03256, 56.32387 58...</td>\n      <td>...</td>\n      <td>NaN</td>\n      <td>NaN</td>\n      <td>NaN</td>\n      <td>NaN</td>\n      <td>NaN</td>\n      <td>NaN</td>\n      <td>NaN</td>\n      <td>NaN</td>\n      <td>NaN</td>\n      <td>NaN</td>\n    </tr>\n    <tr>\n      <th>2</th>\n      <td>28480</td>\n      <td>school</td>\n      <td>False</td>\n      <td>3</td>\n      <td>2346.316</td>\n      <td>NaN</td>\n      <td>0</td>\n      <td>0.0</td>\n      <td>31</td>\n      <td>MULTIPOLYGON (((56.35565 58.05996, 56.35499 58...</td>\n      <td>...</td>\n      <td>NaN</td>\n      <td>NaN</td>\n      <td>NaN</td>\n      <td>NaN</td>\n      <td>NaN</td>\n      <td>NaN</td>\n      <td>NaN</td>\n      <td>NaN</td>\n      <td>NaN</td>\n      <td>NaN</td>\n    </tr>\n    <tr>\n      <th>3</th>\n      <td>290869</td>\n      <td>school</td>\n      <td>False</td>\n      <td>3</td>\n      <td>2337.493</td>\n      <td>NaN</td>\n      <td>0</td>\n      <td>0.0</td>\n      <td>379</td>\n      <td>MULTIPOLYGON (((56.16076 57.99611, 56.16087 57...</td>\n      <td>...</td>\n      <td>NaN</td>\n      <td>NaN</td>\n      <td>NaN</td>\n      <td>NaN</td>\n      <td>NaN</td>\n      <td>NaN</td>\n      <td>NaN</td>\n      <td>NaN</td>\n      <td>NaN</td>\n      <td>NaN</td>\n    </tr>\n    <tr>\n      <th>4</th>\n      <td>299980</td>\n      <td>school</td>\n      <td>False</td>\n      <td>3</td>\n      <td>2377.855</td>\n      <td>NaN</td>\n      <td>0</td>\n      <td>0.0</td>\n      <td>375</td>\n      <td>MULTIPOLYGON (((56.15229 57.99695, 56.15242 57...</td>\n      <td>...</td>\n      <td>NaN</td>\n      <td>NaN</td>\n      <td>NaN</td>\n      <td>NaN</td>\n      <td>NaN</td>\n      <td>NaN</td>\n      <td>NaN</td>\n      <td>NaN</td>\n      <td>NaN</td>\n      <td>NaN</td>\n    </tr>\n    <tr>\n      <th>...</th>\n      <td>...</td>\n      <td>...</td>\n      <td>...</td>\n      <td>...</td>\n      <td>...</td>\n      <td>...</td>\n      <td>...</td>\n      <td>...</td>\n      <td>...</td>\n      <td>...</td>\n      <td>...</td>\n      <td>...</td>\n      <td>...</td>\n      <td>...</td>\n      <td>...</td>\n      <td>...</td>\n      <td>...</td>\n      <td>...</td>\n      <td>...</td>\n      <td>...</td>\n      <td>...</td>\n    </tr>\n    <tr>\n      <th>14088</th>\n      <td>1147821565</td>\n      <td>yes</td>\n      <td>False</td>\n      <td>1</td>\n      <td>1218.829</td>\n      <td>NaN</td>\n      <td>0</td>\n      <td>0.0</td>\n      <td>649</td>\n      <td>MULTIPOLYGON (((56.16802 57.91086, 56.16836 57...</td>\n      <td>...</td>\n      <td>NaN</td>\n      <td>NaN</td>\n      <td>NaN</td>\n      <td>NaN</td>\n      <td>NaN</td>\n      <td>NaN</td>\n      <td>NaN</td>\n      <td>NaN</td>\n      <td>NaN</td>\n      <td>NaN</td>\n    </tr>\n    <tr>\n      <th>14089</th>\n      <td>1148104875</td>\n      <td>yes</td>\n      <td>False</td>\n      <td>1</td>\n      <td>107.470</td>\n      <td>NaN</td>\n      <td>0</td>\n      <td>0.0</td>\n      <td>274</td>\n      <td>MULTIPOLYGON (((56.13393 57.92601, 56.13408 57...</td>\n      <td>...</td>\n      <td>NaN</td>\n      <td>NaN</td>\n      <td>NaN</td>\n      <td>NaN</td>\n      <td>NaN</td>\n      <td>NaN</td>\n      <td>NaN</td>\n      <td>NaN</td>\n      <td>NaN</td>\n      <td>NaN</td>\n    </tr>\n    <tr>\n      <th>14090</th>\n      <td>1148419580</td>\n      <td>office</td>\n      <td>False</td>\n      <td>4</td>\n      <td>624.885</td>\n      <td>NaN</td>\n      <td>0</td>\n      <td>0.0</td>\n      <td>276</td>\n      <td>MULTIPOLYGON (((56.16355 57.88379, 56.16394 57...</td>\n      <td>...</td>\n      <td>None</td>\n      <td>None</td>\n      <td>None</td>\n      <td>None</td>\n      <td>road_transport</td>\n      <td>None</td>\n      <td>Промышленная улица</td>\n      <td>98</td>\n      <td>ООО «Автотранспортное предприятие «Кама»</td>\n      <td>None</td>\n    </tr>\n    <tr>\n      <th>14091</th>\n      <td>1148746841</td>\n      <td>industrial</td>\n      <td>False</td>\n      <td>1</td>\n      <td>188.391</td>\n      <td>NaN</td>\n      <td>0</td>\n      <td>0.0</td>\n      <td>274</td>\n      <td>MULTIPOLYGON (((56.13846 57.90833, 56.13847 57...</td>\n      <td>...</td>\n      <td>None</td>\n      <td>None</td>\n      <td>None</td>\n      <td>None</td>\n      <td>oil</td>\n      <td>None</td>\n      <td>Промышленная улица</td>\n      <td>84</td>\n      <td>ООО «ЛУКОЙЛ-Пермнефтеоргсинтез»</td>\n      <td>None</td>\n    </tr>\n    <tr>\n      <th>14092</th>\n      <td>1149034816</td>\n      <td>industrial</td>\n      <td>False</td>\n      <td>1</td>\n      <td>516.981</td>\n      <td>NaN</td>\n      <td>0</td>\n      <td>0.0</td>\n      <td>275</td>\n      <td>MULTIPOLYGON (((56.15790 57.87906, 56.15796 57...</td>\n      <td>...</td>\n      <td>None</td>\n      <td>None</td>\n      <td>None</td>\n      <td>None</td>\n      <td>petrochemicals</td>\n      <td>None</td>\n      <td>Промышленная улица</td>\n      <td>96</td>\n      <td>Филиал «ПМУ» АО «ОХК «Уралхим»</td>\n      <td>multipolygon</td>\n    </tr>\n  </tbody>\n</table>\n<p>14158 rows × 66 columns</p>\n</div>"
     },
     "execution_count": 3,
     "metadata": {},
     "output_type": "execute_result"
    }
   ],
   "source": [
    "# Пространственное объединение\n",
    "result = gpd.sjoin(non_living_buildings, industrial_zone, how=\"left\", op='intersects')\n",
    "result"
   ],
   "metadata": {
    "collapsed": false,
    "ExecuteTime": {
     "end_time": "2023-12-23T19:35:52.701022800Z",
     "start_time": "2023-12-23T19:35:52.339768800Z"
    }
   },
   "id": "f2368ea40a3c8701"
  },
  {
   "cell_type": "markdown",
   "source": [
    "Помечаем здания, попавшие в промзоны, как промышленные"
   ],
   "metadata": {
    "collapsed": false
   },
   "id": "fa3e71fb89534514"
  },
  {
   "cell_type": "code",
   "execution_count": 4,
   "outputs": [
    {
     "data": {
      "text/plain": "               id    function  is_living  storeys_count  basement_area  \\\n0        81509035      retail      False              5       2434.182   \n1           28470      school      False              3       2393.244   \n2           28480      school      False              3       2346.316   \n3          290869      school      False              3       2337.493   \n4          299980      school      False              3       2377.855   \n...           ...         ...        ...            ...            ...   \n14088  1147821565         yes      False              1       1218.829   \n14089  1148104875         yes      False              1        107.470   \n14090  1148419580      office      False              4        624.885   \n14091  1148746841  industrial      False              1        188.391   \n14092  1149034816  industrial      False              1        516.981   \n\n       total_area  population  living_area  block_id  \\\n0             NaN           0          0.0       529   \n1             NaN           0          0.0      1705   \n2             NaN           0          0.0        31   \n3             NaN           0          0.0       379   \n4             NaN           0          0.0       375   \n...           ...         ...          ...       ...   \n14088         NaN           0          0.0       649   \n14089         NaN           0          0.0       274   \n14090         NaN           0          0.0       276   \n14091         NaN           0          0.0       274   \n14092         NaN           0          0.0       275   \n\n                                                geometry  ...  alt_name  \\\n0      MULTIPOLYGON (((56.18833 57.97849, 56.18910 57...  ...       NaN   \n1      MULTIPOLYGON (((56.32419 58.03256, 56.32387 58...  ...       NaN   \n2      MULTIPOLYGON (((56.35565 58.05996, 56.35499 58...  ...       NaN   \n3      MULTIPOLYGON (((56.16076 57.99611, 56.16087 57...  ...       NaN   \n4      MULTIPOLYGON (((56.15229 57.99695, 56.15242 57...  ...       NaN   \n...                                                  ...  ...       ...   \n14088  MULTIPOLYGON (((56.16802 57.91086, 56.16836 57...  ...       NaN   \n14089  MULTIPOLYGON (((56.13393 57.92601, 56.13408 57...  ...       NaN   \n14090  MULTIPOLYGON (((56.16355 57.88379, 56.16394 57...  ...      None   \n14091  MULTIPOLYGON (((56.13846 57.90833, 56.13847 57...  ...      None   \n14092  MULTIPOLYGON (((56.15790 57.87906, 56.15796 57...  ...      None   \n\n      access barrier      industrial depot         addr:street  \\\n0        NaN     NaN             NaN   NaN                 NaN   \n1        NaN     NaN             NaN   NaN                 NaN   \n2        NaN     NaN             NaN   NaN                 NaN   \n3        NaN     NaN             NaN   NaN                 NaN   \n4        NaN     NaN             NaN   NaN                 NaN   \n...      ...     ...             ...   ...                 ...   \n14088    NaN     NaN             NaN   NaN                 NaN   \n14089    NaN     NaN             NaN   NaN                 NaN   \n14090   None    None  road_transport  None  Промышленная улица   \n14091   None    None             oil  None  Промышленная улица   \n14092   None    None  petrochemicals  None  Промышленная улица   \n\n      addr:housenumber                                      name  \\\n0                  NaN                                       NaN   \n1                  NaN                                       NaN   \n2                  NaN                                       NaN   \n3                  NaN                                       NaN   \n4                  NaN                                       NaN   \n...                ...                                       ...   \n14088              NaN                                       NaN   \n14089              NaN                                       NaN   \n14090               98  ООО «Автотранспортное предприятие «Кама»   \n14091               84           ООО «ЛУКОЙЛ-Пермнефтеоргсинтез»   \n14092               96            Филиал «ПМУ» АО «ОХК «Уралхим»   \n\n               type    industry  \n0               NaN              \n1               NaN              \n2               NaN              \n3               NaN              \n4               NaN              \n...             ...         ...  \n14088           NaN              \n14089           NaN              \n14090          None  industrial  \n14091          None  industrial  \n14092  multipolygon  industrial  \n\n[14158 rows x 67 columns]",
      "text/html": "<div>\n<style scoped>\n    .dataframe tbody tr th:only-of-type {\n        vertical-align: middle;\n    }\n\n    .dataframe tbody tr th {\n        vertical-align: top;\n    }\n\n    .dataframe thead th {\n        text-align: right;\n    }\n</style>\n<table border=\"1\" class=\"dataframe\">\n  <thead>\n    <tr style=\"text-align: right;\">\n      <th></th>\n      <th>id</th>\n      <th>function</th>\n      <th>is_living</th>\n      <th>storeys_count</th>\n      <th>basement_area</th>\n      <th>total_area</th>\n      <th>population</th>\n      <th>living_area</th>\n      <th>block_id</th>\n      <th>geometry</th>\n      <th>...</th>\n      <th>alt_name</th>\n      <th>access</th>\n      <th>barrier</th>\n      <th>industrial</th>\n      <th>depot</th>\n      <th>addr:street</th>\n      <th>addr:housenumber</th>\n      <th>name</th>\n      <th>type</th>\n      <th>industry</th>\n    </tr>\n  </thead>\n  <tbody>\n    <tr>\n      <th>0</th>\n      <td>81509035</td>\n      <td>retail</td>\n      <td>False</td>\n      <td>5</td>\n      <td>2434.182</td>\n      <td>NaN</td>\n      <td>0</td>\n      <td>0.0</td>\n      <td>529</td>\n      <td>MULTIPOLYGON (((56.18833 57.97849, 56.18910 57...</td>\n      <td>...</td>\n      <td>NaN</td>\n      <td>NaN</td>\n      <td>NaN</td>\n      <td>NaN</td>\n      <td>NaN</td>\n      <td>NaN</td>\n      <td>NaN</td>\n      <td>NaN</td>\n      <td>NaN</td>\n      <td></td>\n    </tr>\n    <tr>\n      <th>1</th>\n      <td>28470</td>\n      <td>school</td>\n      <td>False</td>\n      <td>3</td>\n      <td>2393.244</td>\n      <td>NaN</td>\n      <td>0</td>\n      <td>0.0</td>\n      <td>1705</td>\n      <td>MULTIPOLYGON (((56.32419 58.03256, 56.32387 58...</td>\n      <td>...</td>\n      <td>NaN</td>\n      <td>NaN</td>\n      <td>NaN</td>\n      <td>NaN</td>\n      <td>NaN</td>\n      <td>NaN</td>\n      <td>NaN</td>\n      <td>NaN</td>\n      <td>NaN</td>\n      <td></td>\n    </tr>\n    <tr>\n      <th>2</th>\n      <td>28480</td>\n      <td>school</td>\n      <td>False</td>\n      <td>3</td>\n      <td>2346.316</td>\n      <td>NaN</td>\n      <td>0</td>\n      <td>0.0</td>\n      <td>31</td>\n      <td>MULTIPOLYGON (((56.35565 58.05996, 56.35499 58...</td>\n      <td>...</td>\n      <td>NaN</td>\n      <td>NaN</td>\n      <td>NaN</td>\n      <td>NaN</td>\n      <td>NaN</td>\n      <td>NaN</td>\n      <td>NaN</td>\n      <td>NaN</td>\n      <td>NaN</td>\n      <td></td>\n    </tr>\n    <tr>\n      <th>3</th>\n      <td>290869</td>\n      <td>school</td>\n      <td>False</td>\n      <td>3</td>\n      <td>2337.493</td>\n      <td>NaN</td>\n      <td>0</td>\n      <td>0.0</td>\n      <td>379</td>\n      <td>MULTIPOLYGON (((56.16076 57.99611, 56.16087 57...</td>\n      <td>...</td>\n      <td>NaN</td>\n      <td>NaN</td>\n      <td>NaN</td>\n      <td>NaN</td>\n      <td>NaN</td>\n      <td>NaN</td>\n      <td>NaN</td>\n      <td>NaN</td>\n      <td>NaN</td>\n      <td></td>\n    </tr>\n    <tr>\n      <th>4</th>\n      <td>299980</td>\n      <td>school</td>\n      <td>False</td>\n      <td>3</td>\n      <td>2377.855</td>\n      <td>NaN</td>\n      <td>0</td>\n      <td>0.0</td>\n      <td>375</td>\n      <td>MULTIPOLYGON (((56.15229 57.99695, 56.15242 57...</td>\n      <td>...</td>\n      <td>NaN</td>\n      <td>NaN</td>\n      <td>NaN</td>\n      <td>NaN</td>\n      <td>NaN</td>\n      <td>NaN</td>\n      <td>NaN</td>\n      <td>NaN</td>\n      <td>NaN</td>\n      <td></td>\n    </tr>\n    <tr>\n      <th>...</th>\n      <td>...</td>\n      <td>...</td>\n      <td>...</td>\n      <td>...</td>\n      <td>...</td>\n      <td>...</td>\n      <td>...</td>\n      <td>...</td>\n      <td>...</td>\n      <td>...</td>\n      <td>...</td>\n      <td>...</td>\n      <td>...</td>\n      <td>...</td>\n      <td>...</td>\n      <td>...</td>\n      <td>...</td>\n      <td>...</td>\n      <td>...</td>\n      <td>...</td>\n      <td>...</td>\n    </tr>\n    <tr>\n      <th>14088</th>\n      <td>1147821565</td>\n      <td>yes</td>\n      <td>False</td>\n      <td>1</td>\n      <td>1218.829</td>\n      <td>NaN</td>\n      <td>0</td>\n      <td>0.0</td>\n      <td>649</td>\n      <td>MULTIPOLYGON (((56.16802 57.91086, 56.16836 57...</td>\n      <td>...</td>\n      <td>NaN</td>\n      <td>NaN</td>\n      <td>NaN</td>\n      <td>NaN</td>\n      <td>NaN</td>\n      <td>NaN</td>\n      <td>NaN</td>\n      <td>NaN</td>\n      <td>NaN</td>\n      <td></td>\n    </tr>\n    <tr>\n      <th>14089</th>\n      <td>1148104875</td>\n      <td>yes</td>\n      <td>False</td>\n      <td>1</td>\n      <td>107.470</td>\n      <td>NaN</td>\n      <td>0</td>\n      <td>0.0</td>\n      <td>274</td>\n      <td>MULTIPOLYGON (((56.13393 57.92601, 56.13408 57...</td>\n      <td>...</td>\n      <td>NaN</td>\n      <td>NaN</td>\n      <td>NaN</td>\n      <td>NaN</td>\n      <td>NaN</td>\n      <td>NaN</td>\n      <td>NaN</td>\n      <td>NaN</td>\n      <td>NaN</td>\n      <td></td>\n    </tr>\n    <tr>\n      <th>14090</th>\n      <td>1148419580</td>\n      <td>office</td>\n      <td>False</td>\n      <td>4</td>\n      <td>624.885</td>\n      <td>NaN</td>\n      <td>0</td>\n      <td>0.0</td>\n      <td>276</td>\n      <td>MULTIPOLYGON (((56.16355 57.88379, 56.16394 57...</td>\n      <td>...</td>\n      <td>None</td>\n      <td>None</td>\n      <td>None</td>\n      <td>road_transport</td>\n      <td>None</td>\n      <td>Промышленная улица</td>\n      <td>98</td>\n      <td>ООО «Автотранспортное предприятие «Кама»</td>\n      <td>None</td>\n      <td>industrial</td>\n    </tr>\n    <tr>\n      <th>14091</th>\n      <td>1148746841</td>\n      <td>industrial</td>\n      <td>False</td>\n      <td>1</td>\n      <td>188.391</td>\n      <td>NaN</td>\n      <td>0</td>\n      <td>0.0</td>\n      <td>274</td>\n      <td>MULTIPOLYGON (((56.13846 57.90833, 56.13847 57...</td>\n      <td>...</td>\n      <td>None</td>\n      <td>None</td>\n      <td>None</td>\n      <td>oil</td>\n      <td>None</td>\n      <td>Промышленная улица</td>\n      <td>84</td>\n      <td>ООО «ЛУКОЙЛ-Пермнефтеоргсинтез»</td>\n      <td>None</td>\n      <td>industrial</td>\n    </tr>\n    <tr>\n      <th>14092</th>\n      <td>1149034816</td>\n      <td>industrial</td>\n      <td>False</td>\n      <td>1</td>\n      <td>516.981</td>\n      <td>NaN</td>\n      <td>0</td>\n      <td>0.0</td>\n      <td>275</td>\n      <td>MULTIPOLYGON (((56.15790 57.87906, 56.15796 57...</td>\n      <td>...</td>\n      <td>None</td>\n      <td>None</td>\n      <td>None</td>\n      <td>petrochemicals</td>\n      <td>None</td>\n      <td>Промышленная улица</td>\n      <td>96</td>\n      <td>Филиал «ПМУ» АО «ОХК «Уралхим»</td>\n      <td>multipolygon</td>\n      <td>industrial</td>\n    </tr>\n  </tbody>\n</table>\n<p>14158 rows × 67 columns</p>\n</div>"
     },
     "execution_count": 4,
     "metadata": {},
     "output_type": "execute_result"
    }
   ],
   "source": [
    "# Создание поля 'industry' и заполнение его значениями\n",
    "result['industry'] = ''\n",
    "result.loc[~result['index_right'].isna(), 'industry'] = 'industrial'\n",
    "result"
   ],
   "metadata": {
    "collapsed": false,
    "ExecuteTime": {
     "end_time": "2023-12-23T19:37:03.686107700Z",
     "start_time": "2023-12-23T19:37:03.560597600Z"
    }
   },
   "id": "dc671509695d122f"
  },
  {
   "cell_type": "code",
   "execution_count": 5,
   "outputs": [
    {
     "data": {
      "text/plain": "               id    function  is_living  storeys_count  basement_area  \\\n0        81509035      retail      False              5       2434.182   \n1           28470      school      False              3       2393.244   \n2           28480      school      False              3       2346.316   \n3          290869      school      False              3       2337.493   \n4          299980      school      False              3       2377.855   \n...           ...         ...        ...            ...            ...   \n14088  1147821565         yes      False              1       1218.829   \n14089  1148104875         yes      False              1        107.470   \n14090  1148419580      office      False              4        624.885   \n14091  1148746841  industrial      False              1        188.391   \n14092  1149034816  industrial      False              1        516.981   \n\n       block_id                                           geometry    industry  \n0           529  MULTIPOLYGON (((56.18833 57.97849, 56.18910 57...              \n1          1705  MULTIPOLYGON (((56.32419 58.03256, 56.32387 58...              \n2            31  MULTIPOLYGON (((56.35565 58.05996, 56.35499 58...              \n3           379  MULTIPOLYGON (((56.16076 57.99611, 56.16087 57...              \n4           375  MULTIPOLYGON (((56.15229 57.99695, 56.15242 57...              \n...         ...                                                ...         ...  \n14088       649  MULTIPOLYGON (((56.16802 57.91086, 56.16836 57...              \n14089       274  MULTIPOLYGON (((56.13393 57.92601, 56.13408 57...              \n14090       276  MULTIPOLYGON (((56.16355 57.88379, 56.16394 57...  industrial  \n14091       274  MULTIPOLYGON (((56.13846 57.90833, 56.13847 57...  industrial  \n14092       275  MULTIPOLYGON (((56.15790 57.87906, 56.15796 57...  industrial  \n\n[14158 rows x 8 columns]",
      "text/html": "<div>\n<style scoped>\n    .dataframe tbody tr th:only-of-type {\n        vertical-align: middle;\n    }\n\n    .dataframe tbody tr th {\n        vertical-align: top;\n    }\n\n    .dataframe thead th {\n        text-align: right;\n    }\n</style>\n<table border=\"1\" class=\"dataframe\">\n  <thead>\n    <tr style=\"text-align: right;\">\n      <th></th>\n      <th>id</th>\n      <th>function</th>\n      <th>is_living</th>\n      <th>storeys_count</th>\n      <th>basement_area</th>\n      <th>block_id</th>\n      <th>geometry</th>\n      <th>industry</th>\n    </tr>\n  </thead>\n  <tbody>\n    <tr>\n      <th>0</th>\n      <td>81509035</td>\n      <td>retail</td>\n      <td>False</td>\n      <td>5</td>\n      <td>2434.182</td>\n      <td>529</td>\n      <td>MULTIPOLYGON (((56.18833 57.97849, 56.18910 57...</td>\n      <td></td>\n    </tr>\n    <tr>\n      <th>1</th>\n      <td>28470</td>\n      <td>school</td>\n      <td>False</td>\n      <td>3</td>\n      <td>2393.244</td>\n      <td>1705</td>\n      <td>MULTIPOLYGON (((56.32419 58.03256, 56.32387 58...</td>\n      <td></td>\n    </tr>\n    <tr>\n      <th>2</th>\n      <td>28480</td>\n      <td>school</td>\n      <td>False</td>\n      <td>3</td>\n      <td>2346.316</td>\n      <td>31</td>\n      <td>MULTIPOLYGON (((56.35565 58.05996, 56.35499 58...</td>\n      <td></td>\n    </tr>\n    <tr>\n      <th>3</th>\n      <td>290869</td>\n      <td>school</td>\n      <td>False</td>\n      <td>3</td>\n      <td>2337.493</td>\n      <td>379</td>\n      <td>MULTIPOLYGON (((56.16076 57.99611, 56.16087 57...</td>\n      <td></td>\n    </tr>\n    <tr>\n      <th>4</th>\n      <td>299980</td>\n      <td>school</td>\n      <td>False</td>\n      <td>3</td>\n      <td>2377.855</td>\n      <td>375</td>\n      <td>MULTIPOLYGON (((56.15229 57.99695, 56.15242 57...</td>\n      <td></td>\n    </tr>\n    <tr>\n      <th>...</th>\n      <td>...</td>\n      <td>...</td>\n      <td>...</td>\n      <td>...</td>\n      <td>...</td>\n      <td>...</td>\n      <td>...</td>\n      <td>...</td>\n    </tr>\n    <tr>\n      <th>14088</th>\n      <td>1147821565</td>\n      <td>yes</td>\n      <td>False</td>\n      <td>1</td>\n      <td>1218.829</td>\n      <td>649</td>\n      <td>MULTIPOLYGON (((56.16802 57.91086, 56.16836 57...</td>\n      <td></td>\n    </tr>\n    <tr>\n      <th>14089</th>\n      <td>1148104875</td>\n      <td>yes</td>\n      <td>False</td>\n      <td>1</td>\n      <td>107.470</td>\n      <td>274</td>\n      <td>MULTIPOLYGON (((56.13393 57.92601, 56.13408 57...</td>\n      <td></td>\n    </tr>\n    <tr>\n      <th>14090</th>\n      <td>1148419580</td>\n      <td>office</td>\n      <td>False</td>\n      <td>4</td>\n      <td>624.885</td>\n      <td>276</td>\n      <td>MULTIPOLYGON (((56.16355 57.88379, 56.16394 57...</td>\n      <td>industrial</td>\n    </tr>\n    <tr>\n      <th>14091</th>\n      <td>1148746841</td>\n      <td>industrial</td>\n      <td>False</td>\n      <td>1</td>\n      <td>188.391</td>\n      <td>274</td>\n      <td>MULTIPOLYGON (((56.13846 57.90833, 56.13847 57...</td>\n      <td>industrial</td>\n    </tr>\n    <tr>\n      <th>14092</th>\n      <td>1149034816</td>\n      <td>industrial</td>\n      <td>False</td>\n      <td>1</td>\n      <td>516.981</td>\n      <td>275</td>\n      <td>MULTIPOLYGON (((56.15790 57.87906, 56.15796 57...</td>\n      <td>industrial</td>\n    </tr>\n  </tbody>\n</table>\n<p>14158 rows × 8 columns</p>\n</div>"
     },
     "execution_count": 5,
     "metadata": {},
     "output_type": "execute_result"
    }
   ],
   "source": [
    "# отбрасываем лишние столбцы\n",
    "result = result[['id', 'function', 'is_living', 'storeys_count', 'basement_area', 'block_id', 'geometry', 'industry']]\n",
    "result"
   ],
   "metadata": {
    "collapsed": false,
    "ExecuteTime": {
     "end_time": "2023-12-23T19:40:13.985274600Z",
     "start_time": "2023-12-23T19:40:13.905802800Z"
    }
   },
   "id": "61b22d5a9c3f2e2e"
  },
  {
   "cell_type": "code",
   "execution_count": 25,
   "outputs": [
    {
     "data": {
      "text/plain": "5323"
     },
     "execution_count": 25,
     "metadata": {},
     "output_type": "execute_result"
    }
   ],
   "source": [
    "(result['industry'] == 'industrial').sum()"
   ],
   "metadata": {
    "collapsed": false,
    "ExecuteTime": {
     "end_time": "2023-12-23T20:49:16.639044500Z",
     "start_time": "2023-12-23T20:49:16.607794200Z"
    }
   },
   "id": "d59700702acd890a"
  },
  {
   "cell_type": "markdown",
   "source": [
    "Находим здания, попадающие в ретейл зоны"
   ],
   "metadata": {
    "collapsed": false
   },
   "id": "ed74a7235563e472"
  },
  {
   "cell_type": "code",
   "execution_count": 21,
   "outputs": [
    {
     "name": "stderr",
     "output_type": "stream",
     "text": [
      "C:\\Users\\sm_pa\\AppData\\Local\\Programs\\Python\\Python39\\lib\\site-packages\\IPython\\core\\interactiveshell.py:3490: FutureWarning: The `op` parameter is deprecated and will be removed in a future release. Please use the `predicate` parameter instead.\n",
      "  if await self.run_code(code, result, async_=asy):\n"
     ]
    },
    {
     "data": {
      "text/plain": "               id    function  is_living  storeys_count  basement_area  \\\n0        81509035      retail      False              5       2434.182   \n1           28470      school      False              3       2393.244   \n2           28480      school      False              3       2346.316   \n3          290869      school      False              3       2337.493   \n4          299980      school      False              3       2377.855   \n...           ...         ...        ...            ...            ...   \n14088  1147821565         yes      False              1       1218.829   \n14089  1148104875         yes      False              1        107.470   \n14090  1148419580      office      False              4        624.885   \n14091  1148746841  industrial      False              1        188.391   \n14092  1149034816  industrial      False              1        516.981   \n\n       block_id                                           geometry  \\\n0           529  MULTIPOLYGON (((56.18833 57.97849, 56.18910 57...   \n1          1705  MULTIPOLYGON (((56.32419 58.03256, 56.32387 58...   \n2            31  MULTIPOLYGON (((56.35565 58.05996, 56.35499 58...   \n3           379  MULTIPOLYGON (((56.16076 57.99611, 56.16087 57...   \n4           375  MULTIPOLYGON (((56.15229 57.99695, 56.15242 57...   \n...         ...                                                ...   \n14088       649  MULTIPOLYGON (((56.16802 57.91086, 56.16836 57...   \n14089       274  MULTIPOLYGON (((56.13393 57.92601, 56.13408 57...   \n14090       276  MULTIPOLYGON (((56.16355 57.88379, 56.16394 57...   \n14091       274  MULTIPOLYGON (((56.13846 57.90833, 56.13847 57...   \n14092       275  MULTIPOLYGON (((56.15790 57.87906, 56.15796 57...   \n\n         industry  index_right full_id  ... loc_name description addr:street  \\\n0                          NaN     NaN  ...      NaN         NaN         NaN   \n1                          NaN     NaN  ...      NaN         NaN         NaN   \n2                          NaN     NaN  ...      NaN         NaN         NaN   \n3                          NaN     NaN  ...      NaN         NaN         NaN   \n4                          NaN     NaN  ...      NaN         NaN         NaN   \n...           ...          ...     ...  ...      ...         ...         ...   \n14088                      NaN     NaN  ...      NaN         NaN         NaN   \n14089     service          NaN     NaN  ...      NaN         NaN         NaN   \n14090  industrial          NaN     NaN  ...      NaN         NaN         NaN   \n14091  industrial          NaN     NaN  ...      NaN         NaN         NaN   \n14092  industrial          NaN     NaN  ...      NaN         NaN         NaN   \n\n      addr:postcode addr:housenumber addr:city barrier amenity name type  \n0               NaN              NaN       NaN     NaN     NaN  NaN  NaN  \n1               NaN              NaN       NaN     NaN     NaN  NaN  NaN  \n2               NaN              NaN       NaN     NaN     NaN  NaN  NaN  \n3               NaN              NaN       NaN     NaN     NaN  NaN  NaN  \n4               NaN              NaN       NaN     NaN     NaN  NaN  NaN  \n...             ...              ...       ...     ...     ...  ...  ...  \n14088           NaN              NaN       NaN     NaN     NaN  NaN  NaN  \n14089           NaN              NaN       NaN     NaN     NaN  NaN  NaN  \n14090           NaN              NaN       NaN     NaN     NaN  NaN  NaN  \n14091           NaN              NaN       NaN     NaN     NaN  NaN  NaN  \n14092           NaN              NaN       NaN     NaN     NaN  NaN  NaN  \n\n[14161 rows x 24 columns]",
      "text/html": "<div>\n<style scoped>\n    .dataframe tbody tr th:only-of-type {\n        vertical-align: middle;\n    }\n\n    .dataframe tbody tr th {\n        vertical-align: top;\n    }\n\n    .dataframe thead th {\n        text-align: right;\n    }\n</style>\n<table border=\"1\" class=\"dataframe\">\n  <thead>\n    <tr style=\"text-align: right;\">\n      <th></th>\n      <th>id</th>\n      <th>function</th>\n      <th>is_living</th>\n      <th>storeys_count</th>\n      <th>basement_area</th>\n      <th>block_id</th>\n      <th>geometry</th>\n      <th>industry</th>\n      <th>index_right</th>\n      <th>full_id</th>\n      <th>...</th>\n      <th>loc_name</th>\n      <th>description</th>\n      <th>addr:street</th>\n      <th>addr:postcode</th>\n      <th>addr:housenumber</th>\n      <th>addr:city</th>\n      <th>barrier</th>\n      <th>amenity</th>\n      <th>name</th>\n      <th>type</th>\n    </tr>\n  </thead>\n  <tbody>\n    <tr>\n      <th>0</th>\n      <td>81509035</td>\n      <td>retail</td>\n      <td>False</td>\n      <td>5</td>\n      <td>2434.182</td>\n      <td>529</td>\n      <td>MULTIPOLYGON (((56.18833 57.97849, 56.18910 57...</td>\n      <td></td>\n      <td>NaN</td>\n      <td>NaN</td>\n      <td>...</td>\n      <td>NaN</td>\n      <td>NaN</td>\n      <td>NaN</td>\n      <td>NaN</td>\n      <td>NaN</td>\n      <td>NaN</td>\n      <td>NaN</td>\n      <td>NaN</td>\n      <td>NaN</td>\n      <td>NaN</td>\n    </tr>\n    <tr>\n      <th>1</th>\n      <td>28470</td>\n      <td>school</td>\n      <td>False</td>\n      <td>3</td>\n      <td>2393.244</td>\n      <td>1705</td>\n      <td>MULTIPOLYGON (((56.32419 58.03256, 56.32387 58...</td>\n      <td></td>\n      <td>NaN</td>\n      <td>NaN</td>\n      <td>...</td>\n      <td>NaN</td>\n      <td>NaN</td>\n      <td>NaN</td>\n      <td>NaN</td>\n      <td>NaN</td>\n      <td>NaN</td>\n      <td>NaN</td>\n      <td>NaN</td>\n      <td>NaN</td>\n      <td>NaN</td>\n    </tr>\n    <tr>\n      <th>2</th>\n      <td>28480</td>\n      <td>school</td>\n      <td>False</td>\n      <td>3</td>\n      <td>2346.316</td>\n      <td>31</td>\n      <td>MULTIPOLYGON (((56.35565 58.05996, 56.35499 58...</td>\n      <td></td>\n      <td>NaN</td>\n      <td>NaN</td>\n      <td>...</td>\n      <td>NaN</td>\n      <td>NaN</td>\n      <td>NaN</td>\n      <td>NaN</td>\n      <td>NaN</td>\n      <td>NaN</td>\n      <td>NaN</td>\n      <td>NaN</td>\n      <td>NaN</td>\n      <td>NaN</td>\n    </tr>\n    <tr>\n      <th>3</th>\n      <td>290869</td>\n      <td>school</td>\n      <td>False</td>\n      <td>3</td>\n      <td>2337.493</td>\n      <td>379</td>\n      <td>MULTIPOLYGON (((56.16076 57.99611, 56.16087 57...</td>\n      <td></td>\n      <td>NaN</td>\n      <td>NaN</td>\n      <td>...</td>\n      <td>NaN</td>\n      <td>NaN</td>\n      <td>NaN</td>\n      <td>NaN</td>\n      <td>NaN</td>\n      <td>NaN</td>\n      <td>NaN</td>\n      <td>NaN</td>\n      <td>NaN</td>\n      <td>NaN</td>\n    </tr>\n    <tr>\n      <th>4</th>\n      <td>299980</td>\n      <td>school</td>\n      <td>False</td>\n      <td>3</td>\n      <td>2377.855</td>\n      <td>375</td>\n      <td>MULTIPOLYGON (((56.15229 57.99695, 56.15242 57...</td>\n      <td></td>\n      <td>NaN</td>\n      <td>NaN</td>\n      <td>...</td>\n      <td>NaN</td>\n      <td>NaN</td>\n      <td>NaN</td>\n      <td>NaN</td>\n      <td>NaN</td>\n      <td>NaN</td>\n      <td>NaN</td>\n      <td>NaN</td>\n      <td>NaN</td>\n      <td>NaN</td>\n    </tr>\n    <tr>\n      <th>...</th>\n      <td>...</td>\n      <td>...</td>\n      <td>...</td>\n      <td>...</td>\n      <td>...</td>\n      <td>...</td>\n      <td>...</td>\n      <td>...</td>\n      <td>...</td>\n      <td>...</td>\n      <td>...</td>\n      <td>...</td>\n      <td>...</td>\n      <td>...</td>\n      <td>...</td>\n      <td>...</td>\n      <td>...</td>\n      <td>...</td>\n      <td>...</td>\n      <td>...</td>\n      <td>...</td>\n    </tr>\n    <tr>\n      <th>14088</th>\n      <td>1147821565</td>\n      <td>yes</td>\n      <td>False</td>\n      <td>1</td>\n      <td>1218.829</td>\n      <td>649</td>\n      <td>MULTIPOLYGON (((56.16802 57.91086, 56.16836 57...</td>\n      <td></td>\n      <td>NaN</td>\n      <td>NaN</td>\n      <td>...</td>\n      <td>NaN</td>\n      <td>NaN</td>\n      <td>NaN</td>\n      <td>NaN</td>\n      <td>NaN</td>\n      <td>NaN</td>\n      <td>NaN</td>\n      <td>NaN</td>\n      <td>NaN</td>\n      <td>NaN</td>\n    </tr>\n    <tr>\n      <th>14089</th>\n      <td>1148104875</td>\n      <td>yes</td>\n      <td>False</td>\n      <td>1</td>\n      <td>107.470</td>\n      <td>274</td>\n      <td>MULTIPOLYGON (((56.13393 57.92601, 56.13408 57...</td>\n      <td>service</td>\n      <td>NaN</td>\n      <td>NaN</td>\n      <td>...</td>\n      <td>NaN</td>\n      <td>NaN</td>\n      <td>NaN</td>\n      <td>NaN</td>\n      <td>NaN</td>\n      <td>NaN</td>\n      <td>NaN</td>\n      <td>NaN</td>\n      <td>NaN</td>\n      <td>NaN</td>\n    </tr>\n    <tr>\n      <th>14090</th>\n      <td>1148419580</td>\n      <td>office</td>\n      <td>False</td>\n      <td>4</td>\n      <td>624.885</td>\n      <td>276</td>\n      <td>MULTIPOLYGON (((56.16355 57.88379, 56.16394 57...</td>\n      <td>industrial</td>\n      <td>NaN</td>\n      <td>NaN</td>\n      <td>...</td>\n      <td>NaN</td>\n      <td>NaN</td>\n      <td>NaN</td>\n      <td>NaN</td>\n      <td>NaN</td>\n      <td>NaN</td>\n      <td>NaN</td>\n      <td>NaN</td>\n      <td>NaN</td>\n      <td>NaN</td>\n    </tr>\n    <tr>\n      <th>14091</th>\n      <td>1148746841</td>\n      <td>industrial</td>\n      <td>False</td>\n      <td>1</td>\n      <td>188.391</td>\n      <td>274</td>\n      <td>MULTIPOLYGON (((56.13846 57.90833, 56.13847 57...</td>\n      <td>industrial</td>\n      <td>NaN</td>\n      <td>NaN</td>\n      <td>...</td>\n      <td>NaN</td>\n      <td>NaN</td>\n      <td>NaN</td>\n      <td>NaN</td>\n      <td>NaN</td>\n      <td>NaN</td>\n      <td>NaN</td>\n      <td>NaN</td>\n      <td>NaN</td>\n      <td>NaN</td>\n    </tr>\n    <tr>\n      <th>14092</th>\n      <td>1149034816</td>\n      <td>industrial</td>\n      <td>False</td>\n      <td>1</td>\n      <td>516.981</td>\n      <td>275</td>\n      <td>MULTIPOLYGON (((56.15790 57.87906, 56.15796 57...</td>\n      <td>industrial</td>\n      <td>NaN</td>\n      <td>NaN</td>\n      <td>...</td>\n      <td>NaN</td>\n      <td>NaN</td>\n      <td>NaN</td>\n      <td>NaN</td>\n      <td>NaN</td>\n      <td>NaN</td>\n      <td>NaN</td>\n      <td>NaN</td>\n      <td>NaN</td>\n      <td>NaN</td>\n    </tr>\n  </tbody>\n</table>\n<p>14161 rows × 24 columns</p>\n</div>"
     },
     "execution_count": 21,
     "metadata": {},
     "output_type": "execute_result"
    }
   ],
   "source": [
    "retail_zone = gpd.read_file('data/landuse_retail.geojson')\n",
    "result = gpd.sjoin(result, retail_zone, how=\"left\", op='intersects')\n",
    "result"
   ],
   "metadata": {
    "collapsed": false,
    "ExecuteTime": {
     "end_time": "2023-12-23T20:48:46.947830200Z",
     "start_time": "2023-12-23T20:48:46.806643100Z"
    }
   },
   "id": "1ba3d03256f7469d"
  },
  {
   "cell_type": "markdown",
   "source": [
    "Здания, попавшие в ретейл зоны, помечаем как ретейл"
   ],
   "metadata": {
    "collapsed": false
   },
   "id": "d17edfc94e31a134"
  },
  {
   "cell_type": "code",
   "execution_count": 22,
   "outputs": [
    {
     "data": {
      "text/plain": "               id    function  is_living  storeys_count  basement_area  \\\n0        81509035      retail      False              5       2434.182   \n1           28470      school      False              3       2393.244   \n2           28480      school      False              3       2346.316   \n3          290869      school      False              3       2337.493   \n4          299980      school      False              3       2377.855   \n...           ...         ...        ...            ...            ...   \n14088  1147821565         yes      False              1       1218.829   \n14089  1148104875         yes      False              1        107.470   \n14090  1148419580      office      False              4        624.885   \n14091  1148746841  industrial      False              1        188.391   \n14092  1149034816  industrial      False              1        516.981   \n\n       block_id                                           geometry    industry  \n0           529  MULTIPOLYGON (((56.18833 57.97849, 56.18910 57...              \n1          1705  MULTIPOLYGON (((56.32419 58.03256, 56.32387 58...              \n2            31  MULTIPOLYGON (((56.35565 58.05996, 56.35499 58...              \n3           379  MULTIPOLYGON (((56.16076 57.99611, 56.16087 57...              \n4           375  MULTIPOLYGON (((56.15229 57.99695, 56.15242 57...              \n...         ...                                                ...         ...  \n14088       649  MULTIPOLYGON (((56.16802 57.91086, 56.16836 57...              \n14089       274  MULTIPOLYGON (((56.13393 57.92601, 56.13408 57...     service  \n14090       276  MULTIPOLYGON (((56.16355 57.88379, 56.16394 57...  industrial  \n14091       274  MULTIPOLYGON (((56.13846 57.90833, 56.13847 57...  industrial  \n14092       275  MULTIPOLYGON (((56.15790 57.87906, 56.15796 57...  industrial  \n\n[14161 rows x 8 columns]",
      "text/html": "<div>\n<style scoped>\n    .dataframe tbody tr th:only-of-type {\n        vertical-align: middle;\n    }\n\n    .dataframe tbody tr th {\n        vertical-align: top;\n    }\n\n    .dataframe thead th {\n        text-align: right;\n    }\n</style>\n<table border=\"1\" class=\"dataframe\">\n  <thead>\n    <tr style=\"text-align: right;\">\n      <th></th>\n      <th>id</th>\n      <th>function</th>\n      <th>is_living</th>\n      <th>storeys_count</th>\n      <th>basement_area</th>\n      <th>block_id</th>\n      <th>geometry</th>\n      <th>industry</th>\n    </tr>\n  </thead>\n  <tbody>\n    <tr>\n      <th>0</th>\n      <td>81509035</td>\n      <td>retail</td>\n      <td>False</td>\n      <td>5</td>\n      <td>2434.182</td>\n      <td>529</td>\n      <td>MULTIPOLYGON (((56.18833 57.97849, 56.18910 57...</td>\n      <td></td>\n    </tr>\n    <tr>\n      <th>1</th>\n      <td>28470</td>\n      <td>school</td>\n      <td>False</td>\n      <td>3</td>\n      <td>2393.244</td>\n      <td>1705</td>\n      <td>MULTIPOLYGON (((56.32419 58.03256, 56.32387 58...</td>\n      <td></td>\n    </tr>\n    <tr>\n      <th>2</th>\n      <td>28480</td>\n      <td>school</td>\n      <td>False</td>\n      <td>3</td>\n      <td>2346.316</td>\n      <td>31</td>\n      <td>MULTIPOLYGON (((56.35565 58.05996, 56.35499 58...</td>\n      <td></td>\n    </tr>\n    <tr>\n      <th>3</th>\n      <td>290869</td>\n      <td>school</td>\n      <td>False</td>\n      <td>3</td>\n      <td>2337.493</td>\n      <td>379</td>\n      <td>MULTIPOLYGON (((56.16076 57.99611, 56.16087 57...</td>\n      <td></td>\n    </tr>\n    <tr>\n      <th>4</th>\n      <td>299980</td>\n      <td>school</td>\n      <td>False</td>\n      <td>3</td>\n      <td>2377.855</td>\n      <td>375</td>\n      <td>MULTIPOLYGON (((56.15229 57.99695, 56.15242 57...</td>\n      <td></td>\n    </tr>\n    <tr>\n      <th>...</th>\n      <td>...</td>\n      <td>...</td>\n      <td>...</td>\n      <td>...</td>\n      <td>...</td>\n      <td>...</td>\n      <td>...</td>\n      <td>...</td>\n    </tr>\n    <tr>\n      <th>14088</th>\n      <td>1147821565</td>\n      <td>yes</td>\n      <td>False</td>\n      <td>1</td>\n      <td>1218.829</td>\n      <td>649</td>\n      <td>MULTIPOLYGON (((56.16802 57.91086, 56.16836 57...</td>\n      <td></td>\n    </tr>\n    <tr>\n      <th>14089</th>\n      <td>1148104875</td>\n      <td>yes</td>\n      <td>False</td>\n      <td>1</td>\n      <td>107.470</td>\n      <td>274</td>\n      <td>MULTIPOLYGON (((56.13393 57.92601, 56.13408 57...</td>\n      <td>service</td>\n    </tr>\n    <tr>\n      <th>14090</th>\n      <td>1148419580</td>\n      <td>office</td>\n      <td>False</td>\n      <td>4</td>\n      <td>624.885</td>\n      <td>276</td>\n      <td>MULTIPOLYGON (((56.16355 57.88379, 56.16394 57...</td>\n      <td>industrial</td>\n    </tr>\n    <tr>\n      <th>14091</th>\n      <td>1148746841</td>\n      <td>industrial</td>\n      <td>False</td>\n      <td>1</td>\n      <td>188.391</td>\n      <td>274</td>\n      <td>MULTIPOLYGON (((56.13846 57.90833, 56.13847 57...</td>\n      <td>industrial</td>\n    </tr>\n    <tr>\n      <th>14092</th>\n      <td>1149034816</td>\n      <td>industrial</td>\n      <td>False</td>\n      <td>1</td>\n      <td>516.981</td>\n      <td>275</td>\n      <td>MULTIPOLYGON (((56.15790 57.87906, 56.15796 57...</td>\n      <td>industrial</td>\n    </tr>\n  </tbody>\n</table>\n<p>14161 rows × 8 columns</p>\n</div>"
     },
     "execution_count": 22,
     "metadata": {},
     "output_type": "execute_result"
    }
   ],
   "source": [
    "result.loc[~result['index_right'].isna(), 'industry'] = 'retail'\n",
    "result = result[['id', 'function', 'is_living', 'storeys_count', 'basement_area', 'block_id', 'geometry', 'industry']]\n",
    "result"
   ],
   "metadata": {
    "collapsed": false,
    "ExecuteTime": {
     "end_time": "2023-12-23T20:48:59.464232700Z",
     "start_time": "2023-12-23T20:48:59.400889800Z"
    }
   },
   "id": "ab64b1a5e0dd615c"
  },
  {
   "cell_type": "code",
   "execution_count": 23,
   "outputs": [
    {
     "data": {
      "text/plain": "115"
     },
     "execution_count": 23,
     "metadata": {},
     "output_type": "execute_result"
    }
   ],
   "source": [
    "(result['industry'] == 'retail').sum()"
   ],
   "metadata": {
    "collapsed": false,
    "ExecuteTime": {
     "end_time": "2023-12-23T20:49:04.870330100Z",
     "start_time": "2023-12-23T20:49:04.839020100Z"
    }
   },
   "id": "8cc960ea74d6adfa"
  },
  {
   "cell_type": "markdown",
   "source": [],
   "metadata": {
    "collapsed": false
   },
   "id": "7e1d29d0ed9a4daf"
  },
  {
   "cell_type": "markdown",
   "source": [
    "Находим здания, попадающие в коммерческие зоны"
   ],
   "metadata": {
    "collapsed": false
   },
   "id": "8f4461f97b05466f"
  },
  {
   "cell_type": "code",
   "execution_count": 17,
   "outputs": [
    {
     "name": "stderr",
     "output_type": "stream",
     "text": [
      "C:\\Users\\sm_pa\\AppData\\Local\\Programs\\Python\\Python39\\lib\\site-packages\\IPython\\core\\interactiveshell.py:3490: FutureWarning: The `op` parameter is deprecated and will be removed in a future release. Please use the `predicate` parameter instead.\n",
      "  if await self.run_code(code, result, async_=asy):\n"
     ]
    }
   ],
   "source": [
    "commercial_zone = gpd.read_file('data/landuse_commercial.geojson')\n",
    "result = gpd.sjoin(result, commercial_zone, how=\"left\", op='intersects')"
   ],
   "metadata": {
    "collapsed": false,
    "ExecuteTime": {
     "end_time": "2023-12-23T20:47:48.396517700Z",
     "start_time": "2023-12-23T20:47:48.178066400Z"
    }
   },
   "id": "92b2bf17ad840d74"
  },
  {
   "cell_type": "markdown",
   "source": [
    "Здания, попавшие в коммерческие зоны, помечаем как услуги"
   ],
   "metadata": {
    "collapsed": false
   },
   "id": "2ca8cf94cc49c6af"
  },
  {
   "cell_type": "code",
   "execution_count": 18,
   "outputs": [
    {
     "data": {
      "text/plain": "               id    function  is_living  storeys_count  basement_area  \\\n0        81509035      retail      False              5       2434.182   \n1           28470      school      False              3       2393.244   \n2           28480      school      False              3       2346.316   \n3          290869      school      False              3       2337.493   \n4          299980      school      False              3       2377.855   \n...           ...         ...        ...            ...            ...   \n14088  1147821565         yes      False              1       1218.829   \n14089  1148104875         yes      False              1        107.470   \n14090  1148419580      office      False              4        624.885   \n14091  1148746841  industrial      False              1        188.391   \n14092  1149034816  industrial      False              1        516.981   \n\n       block_id                                           geometry    industry  \n0           529  MULTIPOLYGON (((56.18833 57.97849, 56.18910 57...              \n1          1705  MULTIPOLYGON (((56.32419 58.03256, 56.32387 58...              \n2            31  MULTIPOLYGON (((56.35565 58.05996, 56.35499 58...              \n3           379  MULTIPOLYGON (((56.16076 57.99611, 56.16087 57...              \n4           375  MULTIPOLYGON (((56.15229 57.99695, 56.15242 57...              \n...         ...                                                ...         ...  \n14088       649  MULTIPOLYGON (((56.16802 57.91086, 56.16836 57...              \n14089       274  MULTIPOLYGON (((56.13393 57.92601, 56.13408 57...     service  \n14090       276  MULTIPOLYGON (((56.16355 57.88379, 56.16394 57...  industrial  \n14091       274  MULTIPOLYGON (((56.13846 57.90833, 56.13847 57...  industrial  \n14092       275  MULTIPOLYGON (((56.15790 57.87906, 56.15796 57...  industrial  \n\n[14161 rows x 8 columns]",
      "text/html": "<div>\n<style scoped>\n    .dataframe tbody tr th:only-of-type {\n        vertical-align: middle;\n    }\n\n    .dataframe tbody tr th {\n        vertical-align: top;\n    }\n\n    .dataframe thead th {\n        text-align: right;\n    }\n</style>\n<table border=\"1\" class=\"dataframe\">\n  <thead>\n    <tr style=\"text-align: right;\">\n      <th></th>\n      <th>id</th>\n      <th>function</th>\n      <th>is_living</th>\n      <th>storeys_count</th>\n      <th>basement_area</th>\n      <th>block_id</th>\n      <th>geometry</th>\n      <th>industry</th>\n    </tr>\n  </thead>\n  <tbody>\n    <tr>\n      <th>0</th>\n      <td>81509035</td>\n      <td>retail</td>\n      <td>False</td>\n      <td>5</td>\n      <td>2434.182</td>\n      <td>529</td>\n      <td>MULTIPOLYGON (((56.18833 57.97849, 56.18910 57...</td>\n      <td></td>\n    </tr>\n    <tr>\n      <th>1</th>\n      <td>28470</td>\n      <td>school</td>\n      <td>False</td>\n      <td>3</td>\n      <td>2393.244</td>\n      <td>1705</td>\n      <td>MULTIPOLYGON (((56.32419 58.03256, 56.32387 58...</td>\n      <td></td>\n    </tr>\n    <tr>\n      <th>2</th>\n      <td>28480</td>\n      <td>school</td>\n      <td>False</td>\n      <td>3</td>\n      <td>2346.316</td>\n      <td>31</td>\n      <td>MULTIPOLYGON (((56.35565 58.05996, 56.35499 58...</td>\n      <td></td>\n    </tr>\n    <tr>\n      <th>3</th>\n      <td>290869</td>\n      <td>school</td>\n      <td>False</td>\n      <td>3</td>\n      <td>2337.493</td>\n      <td>379</td>\n      <td>MULTIPOLYGON (((56.16076 57.99611, 56.16087 57...</td>\n      <td></td>\n    </tr>\n    <tr>\n      <th>4</th>\n      <td>299980</td>\n      <td>school</td>\n      <td>False</td>\n      <td>3</td>\n      <td>2377.855</td>\n      <td>375</td>\n      <td>MULTIPOLYGON (((56.15229 57.99695, 56.15242 57...</td>\n      <td></td>\n    </tr>\n    <tr>\n      <th>...</th>\n      <td>...</td>\n      <td>...</td>\n      <td>...</td>\n      <td>...</td>\n      <td>...</td>\n      <td>...</td>\n      <td>...</td>\n      <td>...</td>\n    </tr>\n    <tr>\n      <th>14088</th>\n      <td>1147821565</td>\n      <td>yes</td>\n      <td>False</td>\n      <td>1</td>\n      <td>1218.829</td>\n      <td>649</td>\n      <td>MULTIPOLYGON (((56.16802 57.91086, 56.16836 57...</td>\n      <td></td>\n    </tr>\n    <tr>\n      <th>14089</th>\n      <td>1148104875</td>\n      <td>yes</td>\n      <td>False</td>\n      <td>1</td>\n      <td>107.470</td>\n      <td>274</td>\n      <td>MULTIPOLYGON (((56.13393 57.92601, 56.13408 57...</td>\n      <td>service</td>\n    </tr>\n    <tr>\n      <th>14090</th>\n      <td>1148419580</td>\n      <td>office</td>\n      <td>False</td>\n      <td>4</td>\n      <td>624.885</td>\n      <td>276</td>\n      <td>MULTIPOLYGON (((56.16355 57.88379, 56.16394 57...</td>\n      <td>industrial</td>\n    </tr>\n    <tr>\n      <th>14091</th>\n      <td>1148746841</td>\n      <td>industrial</td>\n      <td>False</td>\n      <td>1</td>\n      <td>188.391</td>\n      <td>274</td>\n      <td>MULTIPOLYGON (((56.13846 57.90833, 56.13847 57...</td>\n      <td>industrial</td>\n    </tr>\n    <tr>\n      <th>14092</th>\n      <td>1149034816</td>\n      <td>industrial</td>\n      <td>False</td>\n      <td>1</td>\n      <td>516.981</td>\n      <td>275</td>\n      <td>MULTIPOLYGON (((56.15790 57.87906, 56.15796 57...</td>\n      <td>industrial</td>\n    </tr>\n  </tbody>\n</table>\n<p>14161 rows × 8 columns</p>\n</div>"
     },
     "execution_count": 18,
     "metadata": {},
     "output_type": "execute_result"
    }
   ],
   "source": [
    "result.loc[~result['index_right'].isna(), 'industry'] = 'service'\n",
    "result = result[['id', 'function', 'is_living', 'storeys_count', 'basement_area', 'block_id', 'geometry', 'industry']]\n",
    "result"
   ],
   "metadata": {
    "collapsed": false,
    "ExecuteTime": {
     "end_time": "2023-12-23T20:47:50.757653700Z",
     "start_time": "2023-12-23T20:47:50.709093600Z"
    }
   },
   "id": "474b9fc95803dc80"
  },
  {
   "cell_type": "code",
   "execution_count": 24,
   "outputs": [
    {
     "data": {
      "text/plain": "832"
     },
     "execution_count": 24,
     "metadata": {},
     "output_type": "execute_result"
    }
   ],
   "source": [
    "(result['industry'] == 'service').sum()"
   ],
   "metadata": {
    "collapsed": false,
    "ExecuteTime": {
     "end_time": "2023-12-23T20:49:08.145724500Z",
     "start_time": "2023-12-23T20:49:08.111921700Z"
    }
   },
   "id": "b6aeff63a9f9db65"
  },
  {
   "cell_type": "code",
   "execution_count": 26,
   "outputs": [],
   "source": [
    "# Сохраняем геодатафрейм с назначенным типом индустрии\n",
    "result.to_file('data/buildings_with_industry.geojson', driver='GeoJSON')"
   ],
   "metadata": {
    "collapsed": false,
    "ExecuteTime": {
     "end_time": "2023-12-23T20:51:17.523077300Z",
     "start_time": "2023-12-23T20:51:14.128470100Z"
    }
   },
   "id": "812fc314014ad755"
  },
  {
   "cell_type": "code",
   "execution_count": 30,
   "outputs": [
    {
     "data": {
      "text/plain": "1"
     },
     "execution_count": 30,
     "metadata": {},
     "output_type": "execute_result"
    }
   ],
   "source": [
    "non_living_buildings['id'].duplicated().sum()"
   ],
   "metadata": {
    "collapsed": false,
    "ExecuteTime": {
     "end_time": "2023-12-23T20:54:17.561860Z",
     "start_time": "2023-12-23T20:54:17.529683100Z"
    }
   },
   "id": "adfef222feaad30a"
  },
  {
   "cell_type": "markdown",
   "source": [
    "Дальше посмотреть еще по тегам в function"
   ],
   "metadata": {
    "collapsed": false
   },
   "id": "71dba370f147dcc1"
  },
  {
   "cell_type": "code",
   "execution_count": 32,
   "outputs": [
    {
     "data": {
      "text/plain": "function\nyes               11400\nindustrial         1411\ncommercial          241\nkindergarten        219\nretail              213\noffice              163\nschool              148\nhospital             68\nconstruction         53\nchurch               38\nuniversity           32\nhangar               21\ngovernment           21\ntrain_station        17\nsupermarket          12\ncollege              10\ncivic                10\nhotel                 9\nshop                  9\npavilion              8\nsports_centre         7\nfire_station          6\nstadium               4\nfarm_auxiliary        4\nparking               4\ngrandstand            3\nno                    3\noutbuilding           3\npublic                3\nsports_hall           3\ntransportation        3\ndormitory             2\nmosque                2\nbridge                2\ncathedral             1\nabandoned             1\ntoilets               1\ncabin                 1\nindustrialь           1\nmonastery             1\nmanufacture           1\nhostel                1\npresbytery            1\nName: count, dtype: int64"
     },
     "execution_count": 32,
     "metadata": {},
     "output_type": "execute_result"
    }
   ],
   "source": [
    "new_result = result\n",
    "new_result['function'].value_counts()"
   ],
   "metadata": {
    "collapsed": false,
    "ExecuteTime": {
     "end_time": "2023-12-23T21:02:46.012624500Z",
     "start_time": "2023-12-23T21:02:45.965315800Z"
    }
   },
   "id": "987366b85e5bc46b"
  },
  {
   "cell_type": "code",
   "execution_count": 34,
   "outputs": [
    {
     "data": {
      "text/plain": "7891"
     },
     "execution_count": 34,
     "metadata": {},
     "output_type": "execute_result"
    }
   ],
   "source": [
    "(new_result['industry'] == \"\").sum()"
   ],
   "metadata": {
    "collapsed": false,
    "ExecuteTime": {
     "end_time": "2023-12-23T21:05:34.367265900Z",
     "start_time": "2023-12-23T21:05:34.335731900Z"
    }
   },
   "id": "2f0ba5a2dcedb06b"
  },
  {
   "cell_type": "code",
   "execution_count": 35,
   "outputs": [
    {
     "data": {
      "text/plain": "7586"
     },
     "execution_count": 35,
     "metadata": {},
     "output_type": "execute_result"
    }
   ],
   "source": [
    "# Установка значения 'industry' равным 'industrial', если значение 'function' равно 'industrial'\n",
    "new_result.loc[result['function'] == 'industrial', 'industry'] = 'industrial'\n",
    "(new_result['industry'] == \"\").sum()"
   ],
   "metadata": {
    "collapsed": false,
    "ExecuteTime": {
     "end_time": "2023-12-23T21:06:12.601535100Z",
     "start_time": "2023-12-23T21:06:12.521975600Z"
    }
   },
   "id": "2750bae2f1abd135"
  },
  {
   "cell_type": "code",
   "execution_count": 36,
   "outputs": [
    {
     "data": {
      "text/plain": "7265"
     },
     "execution_count": 36,
     "metadata": {},
     "output_type": "execute_result"
    }
   ],
   "source": [
    "new_result.loc[result['function'] == 'retail', 'industry'] = 'retail'\n",
    "new_result.loc[result['function'] == 'commercial', 'industry'] = 'service'\n",
    "(new_result['industry'] == \"\").sum()"
   ],
   "metadata": {
    "collapsed": false,
    "ExecuteTime": {
     "end_time": "2023-12-23T21:09:52.141947400Z",
     "start_time": "2023-12-23T21:09:52.110295500Z"
    }
   },
   "id": "fcc58722d20a67db"
  },
  {
   "cell_type": "code",
   "execution_count": 37,
   "outputs": [
    {
     "data": {
      "text/plain": "6741"
     },
     "execution_count": 37,
     "metadata": {},
     "output_type": "execute_result"
    }
   ],
   "source": [
    "new_result.loc[result['function'] == 'kindergarten', 'industry'] = 'retail'\n",
    "new_result.loc[result['function'] == 'office', 'industry'] = 'service'\n",
    "new_result.loc[result['function'] == 'hospital', 'industry'] = 'service'\n",
    "new_result.loc[result['function'] == 'church', 'industry'] = 'service'\n",
    "new_result.loc[result['function'] == 'university', 'industry'] = 'service'\n",
    "new_result.loc[result['function'] == 'hangar', 'industry'] = 'industrial'\n",
    "new_result.loc[result['function'] == 'government', 'industry'] = 'service'\n",
    "new_result.loc[result['function'] == 'train_station', 'industry'] = 'service'\n",
    "new_result.loc[result['function'] == 'supermarket', 'industry'] = 'retail'\n",
    "new_result.loc[result['function'] == 'college', 'industry'] = 'service'\n",
    "new_result.loc[result['function'] == 'civic', 'industry'] = 'service'\n",
    "new_result.loc[result['function'] == 'hotel', 'industry'] = 'service'\n",
    "new_result.loc[result['function'] == 'shop', 'industry'] = 'retail'\n",
    "new_result.loc[result['function'] == 'pavilion', 'industry'] = 'retail'\n",
    "new_result.loc[result['function'] == 'sports_centre', 'industry'] = 'service'\n",
    "(new_result['industry'] == \"\").sum()"
   ],
   "metadata": {
    "collapsed": false,
    "ExecuteTime": {
     "end_time": "2023-12-23T21:15:17.711894300Z",
     "start_time": "2023-12-23T21:15:17.648613800Z"
    }
   },
   "id": "b21bc5466cc35a47"
  },
  {
   "cell_type": "code",
   "execution_count": 38,
   "outputs": [],
   "source": [
    "new_result.to_file('data/buildings_with_industry.geojson', driver='GeoJSON')"
   ],
   "metadata": {
    "collapsed": false,
    "ExecuteTime": {
     "end_time": "2023-12-23T21:26:44.498123100Z",
     "start_time": "2023-12-23T21:26:41.226Z"
    }
   },
   "id": "d001f473e4d67aef"
  }
 ],
 "metadata": {
  "kernelspec": {
   "display_name": "Python 3",
   "language": "python",
   "name": "python3"
  },
  "language_info": {
   "codemirror_mode": {
    "name": "ipython",
    "version": 2
   },
   "file_extension": ".py",
   "mimetype": "text/x-python",
   "name": "python",
   "nbconvert_exporter": "python",
   "pygments_lexer": "ipython2",
   "version": "2.7.6"
  }
 },
 "nbformat": 4,
 "nbformat_minor": 5
}
