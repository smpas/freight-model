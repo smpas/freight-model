{
 "cells": [
  {
   "cell_type": "code",
   "execution_count": 10,
   "id": "initial_id",
   "metadata": {
    "collapsed": true,
    "ExecuteTime": {
     "end_time": "2023-12-24T20:00:16.634519400Z",
     "start_time": "2023-12-24T20:00:16.603255Z"
    }
   },
   "outputs": [],
   "source": [
    "import geopandas as gpd\n",
    "import numpy as np\n",
    "import pandas as pd"
   ]
  },
  {
   "cell_type": "code",
   "execution_count": 3,
   "outputs": [
    {
     "data": {
      "text/plain": "              id    function  is_living  storeys_count  basement_area  \\\n0        4669322         yes      False              1        694.450   \n1       79882759         yes      False              1        214.784   \n2       79882837      office      False              2        776.034   \n3       79883190         yes      False              1        189.197   \n4       89185196  industrial      False              1        450.628   \n...          ...         ...        ...            ...            ...   \n8486  1147821565         yes      False              1       1218.829   \n8487  1148104875         yes      False              1        107.470   \n8488  1148419580      office      False              4        624.885   \n8489  1148746841  industrial      False              1        188.391   \n8490  1149034816  industrial      False              1        516.981   \n\n      block_id    industry                                           geometry  \\\n0          275  industrial  MULTIPOLYGON (((56.17115 57.88024, 56.17135 57...   \n1          752  industrial  MULTIPOLYGON (((56.34866 58.10470, 56.34892 58...   \n2          752     service  MULTIPOLYGON (((56.34712 58.08610, 56.34720 58...   \n3          752  industrial  MULTIPOLYGON (((56.34799 58.10467, 56.34834 58...   \n4          943  industrial  MULTIPOLYGON (((56.12423 58.03430, 56.12452 58...   \n...        ...         ...                                                ...   \n8486       649  industrial  MULTIPOLYGON (((56.16802 57.91086, 56.16836 57...   \n8487       274     service  MULTIPOLYGON (((56.13393 57.92601, 56.13408 57...   \n8488       276     service  MULTIPOLYGON (((56.16355 57.88379, 56.16394 57...   \n8489       274  industrial  MULTIPOLYGON (((56.13846 57.90833, 56.13847 57...   \n8490       275  industrial  MULTIPOLYGON (((56.15790 57.87906, 56.15796 57...   \n\n      total_area  \n0        694.450  \n1        214.784  \n2       1552.068  \n3        189.197  \n4        450.628  \n...          ...  \n8486    1218.829  \n8487     107.470  \n8488    2499.540  \n8489     188.391  \n8490     516.981  \n\n[8491 rows x 9 columns]",
      "text/html": "<div>\n<style scoped>\n    .dataframe tbody tr th:only-of-type {\n        vertical-align: middle;\n    }\n\n    .dataframe tbody tr th {\n        vertical-align: top;\n    }\n\n    .dataframe thead th {\n        text-align: right;\n    }\n</style>\n<table border=\"1\" class=\"dataframe\">\n  <thead>\n    <tr style=\"text-align: right;\">\n      <th></th>\n      <th>id</th>\n      <th>function</th>\n      <th>is_living</th>\n      <th>storeys_count</th>\n      <th>basement_area</th>\n      <th>block_id</th>\n      <th>industry</th>\n      <th>geometry</th>\n      <th>total_area</th>\n    </tr>\n  </thead>\n  <tbody>\n    <tr>\n      <th>0</th>\n      <td>4669322</td>\n      <td>yes</td>\n      <td>False</td>\n      <td>1</td>\n      <td>694.450</td>\n      <td>275</td>\n      <td>industrial</td>\n      <td>MULTIPOLYGON (((56.17115 57.88024, 56.17135 57...</td>\n      <td>694.450</td>\n    </tr>\n    <tr>\n      <th>1</th>\n      <td>79882759</td>\n      <td>yes</td>\n      <td>False</td>\n      <td>1</td>\n      <td>214.784</td>\n      <td>752</td>\n      <td>industrial</td>\n      <td>MULTIPOLYGON (((56.34866 58.10470, 56.34892 58...</td>\n      <td>214.784</td>\n    </tr>\n    <tr>\n      <th>2</th>\n      <td>79882837</td>\n      <td>office</td>\n      <td>False</td>\n      <td>2</td>\n      <td>776.034</td>\n      <td>752</td>\n      <td>service</td>\n      <td>MULTIPOLYGON (((56.34712 58.08610, 56.34720 58...</td>\n      <td>1552.068</td>\n    </tr>\n    <tr>\n      <th>3</th>\n      <td>79883190</td>\n      <td>yes</td>\n      <td>False</td>\n      <td>1</td>\n      <td>189.197</td>\n      <td>752</td>\n      <td>industrial</td>\n      <td>MULTIPOLYGON (((56.34799 58.10467, 56.34834 58...</td>\n      <td>189.197</td>\n    </tr>\n    <tr>\n      <th>4</th>\n      <td>89185196</td>\n      <td>industrial</td>\n      <td>False</td>\n      <td>1</td>\n      <td>450.628</td>\n      <td>943</td>\n      <td>industrial</td>\n      <td>MULTIPOLYGON (((56.12423 58.03430, 56.12452 58...</td>\n      <td>450.628</td>\n    </tr>\n    <tr>\n      <th>...</th>\n      <td>...</td>\n      <td>...</td>\n      <td>...</td>\n      <td>...</td>\n      <td>...</td>\n      <td>...</td>\n      <td>...</td>\n      <td>...</td>\n      <td>...</td>\n    </tr>\n    <tr>\n      <th>8486</th>\n      <td>1147821565</td>\n      <td>yes</td>\n      <td>False</td>\n      <td>1</td>\n      <td>1218.829</td>\n      <td>649</td>\n      <td>industrial</td>\n      <td>MULTIPOLYGON (((56.16802 57.91086, 56.16836 57...</td>\n      <td>1218.829</td>\n    </tr>\n    <tr>\n      <th>8487</th>\n      <td>1148104875</td>\n      <td>yes</td>\n      <td>False</td>\n      <td>1</td>\n      <td>107.470</td>\n      <td>274</td>\n      <td>service</td>\n      <td>MULTIPOLYGON (((56.13393 57.92601, 56.13408 57...</td>\n      <td>107.470</td>\n    </tr>\n    <tr>\n      <th>8488</th>\n      <td>1148419580</td>\n      <td>office</td>\n      <td>False</td>\n      <td>4</td>\n      <td>624.885</td>\n      <td>276</td>\n      <td>service</td>\n      <td>MULTIPOLYGON (((56.16355 57.88379, 56.16394 57...</td>\n      <td>2499.540</td>\n    </tr>\n    <tr>\n      <th>8489</th>\n      <td>1148746841</td>\n      <td>industrial</td>\n      <td>False</td>\n      <td>1</td>\n      <td>188.391</td>\n      <td>274</td>\n      <td>industrial</td>\n      <td>MULTIPOLYGON (((56.13846 57.90833, 56.13847 57...</td>\n      <td>188.391</td>\n    </tr>\n    <tr>\n      <th>8490</th>\n      <td>1149034816</td>\n      <td>industrial</td>\n      <td>False</td>\n      <td>1</td>\n      <td>516.981</td>\n      <td>275</td>\n      <td>industrial</td>\n      <td>MULTIPOLYGON (((56.15790 57.87906, 56.15796 57...</td>\n      <td>516.981</td>\n    </tr>\n  </tbody>\n</table>\n<p>8491 rows × 9 columns</p>\n</div>"
     },
     "execution_count": 3,
     "metadata": {},
     "output_type": "execute_result"
    }
   ],
   "source": [
    "buildings_with_industry = gpd.read_file(\"data/buildings_with_industry.geojson\")\n",
    "buildings_with_industry['total_area'] = buildings_with_industry['basement_area'] * buildings_with_industry['storeys_count']\n",
    "buildings_with_industry"
   ],
   "metadata": {
    "collapsed": false,
    "ExecuteTime": {
     "end_time": "2023-12-24T19:35:18.735602400Z",
     "start_time": "2023-12-24T19:35:14.680755600Z"
    }
   },
   "id": "5e1bcfaeebb6e5da"
  },
  {
   "cell_type": "code",
   "execution_count": 6,
   "outputs": [],
   "source": [
    "def default_distr(\n",
    "    distributed_value,\n",
    "    probabilities_distribution,\n",
    "    probabilities_names,\n",
    "):\n",
    "    \"\"\"\n",
    "    Фунция для расселения населения.\n",
    "\n",
    "    :param distributed_value: Размер выходной случайной выборки\n",
    "    :param probabilities_distribution: Плотность распредения исходной выборки\n",
    "    :param probabilities_names: Исходная коллекция, откуда будет производиться выборка\n",
    "\n",
    "    :return: Numpy массив со случайно сгенерированными величинами с заданой вероятностью\n",
    "    \"\"\"\n",
    "    rng = np.random.default_rng(seed=0)\n",
    "    return rng.choice(\n",
    "        a=probabilities_names,\n",
    "        size=distributed_value,\n",
    "        p=probabilities_distribution\n",
    "    )"
   ],
   "metadata": {
    "collapsed": false,
    "ExecuteTime": {
     "end_time": "2023-12-24T19:54:25.691934800Z",
     "start_time": "2023-12-24T19:54:25.660683100Z"
    }
   },
   "id": "39181ea0f3ddcf11"
  },
  {
   "cell_type": "code",
   "execution_count": 7,
   "outputs": [
    {
     "data": {
      "text/plain": "              id    function  is_living  storeys_count  basement_area  \\\n0        4669322         yes      False              1        694.450   \n1       79882759         yes      False              1        214.784   \n2       79882837      office      False              2        776.034   \n3       79883190         yes      False              1        189.197   \n4       89185196  industrial      False              1        450.628   \n...          ...         ...        ...            ...            ...   \n8486  1147821565         yes      False              1       1218.829   \n8487  1148104875         yes      False              1        107.470   \n8488  1148419580      office      False              4        624.885   \n8489  1148746841  industrial      False              1        188.391   \n8490  1149034816  industrial      False              1        516.981   \n\n      block_id    industry                                           geometry  \\\n0          275  industrial  MULTIPOLYGON (((56.17115 57.88024, 56.17135 57...   \n1          752  industrial  MULTIPOLYGON (((56.34866 58.10470, 56.34892 58...   \n2          752     service  MULTIPOLYGON (((56.34712 58.08610, 56.34720 58...   \n3          752  industrial  MULTIPOLYGON (((56.34799 58.10467, 56.34834 58...   \n4          943  industrial  MULTIPOLYGON (((56.12423 58.03430, 56.12452 58...   \n...        ...         ...                                                ...   \n8486       649  industrial  MULTIPOLYGON (((56.16802 57.91086, 56.16836 57...   \n8487       274     service  MULTIPOLYGON (((56.13393 57.92601, 56.13408 57...   \n8488       276     service  MULTIPOLYGON (((56.16355 57.88379, 56.16394 57...   \n8489       274  industrial  MULTIPOLYGON (((56.13846 57.90833, 56.13847 57...   \n8490       275  industrial  MULTIPOLYGON (((56.15790 57.87906, 56.15796 57...   \n\n      total_area  probabilities_distribution  \n0        694.450                    0.000039  \n1        214.784                    0.000012  \n2       1552.068                    0.000088  \n3        189.197                    0.000011  \n4        450.628                    0.000025  \n...          ...                         ...  \n8486    1218.829                    0.000069  \n8487     107.470                    0.000006  \n8488    2499.540                    0.000141  \n8489     188.391                    0.000011  \n8490     516.981                    0.000029  \n\n[8491 rows x 10 columns]",
      "text/html": "<div>\n<style scoped>\n    .dataframe tbody tr th:only-of-type {\n        vertical-align: middle;\n    }\n\n    .dataframe tbody tr th {\n        vertical-align: top;\n    }\n\n    .dataframe thead th {\n        text-align: right;\n    }\n</style>\n<table border=\"1\" class=\"dataframe\">\n  <thead>\n    <tr style=\"text-align: right;\">\n      <th></th>\n      <th>id</th>\n      <th>function</th>\n      <th>is_living</th>\n      <th>storeys_count</th>\n      <th>basement_area</th>\n      <th>block_id</th>\n      <th>industry</th>\n      <th>geometry</th>\n      <th>total_area</th>\n      <th>probabilities_distribution</th>\n    </tr>\n  </thead>\n  <tbody>\n    <tr>\n      <th>0</th>\n      <td>4669322</td>\n      <td>yes</td>\n      <td>False</td>\n      <td>1</td>\n      <td>694.450</td>\n      <td>275</td>\n      <td>industrial</td>\n      <td>MULTIPOLYGON (((56.17115 57.88024, 56.17135 57...</td>\n      <td>694.450</td>\n      <td>0.000039</td>\n    </tr>\n    <tr>\n      <th>1</th>\n      <td>79882759</td>\n      <td>yes</td>\n      <td>False</td>\n      <td>1</td>\n      <td>214.784</td>\n      <td>752</td>\n      <td>industrial</td>\n      <td>MULTIPOLYGON (((56.34866 58.10470, 56.34892 58...</td>\n      <td>214.784</td>\n      <td>0.000012</td>\n    </tr>\n    <tr>\n      <th>2</th>\n      <td>79882837</td>\n      <td>office</td>\n      <td>False</td>\n      <td>2</td>\n      <td>776.034</td>\n      <td>752</td>\n      <td>service</td>\n      <td>MULTIPOLYGON (((56.34712 58.08610, 56.34720 58...</td>\n      <td>1552.068</td>\n      <td>0.000088</td>\n    </tr>\n    <tr>\n      <th>3</th>\n      <td>79883190</td>\n      <td>yes</td>\n      <td>False</td>\n      <td>1</td>\n      <td>189.197</td>\n      <td>752</td>\n      <td>industrial</td>\n      <td>MULTIPOLYGON (((56.34799 58.10467, 56.34834 58...</td>\n      <td>189.197</td>\n      <td>0.000011</td>\n    </tr>\n    <tr>\n      <th>4</th>\n      <td>89185196</td>\n      <td>industrial</td>\n      <td>False</td>\n      <td>1</td>\n      <td>450.628</td>\n      <td>943</td>\n      <td>industrial</td>\n      <td>MULTIPOLYGON (((56.12423 58.03430, 56.12452 58...</td>\n      <td>450.628</td>\n      <td>0.000025</td>\n    </tr>\n    <tr>\n      <th>...</th>\n      <td>...</td>\n      <td>...</td>\n      <td>...</td>\n      <td>...</td>\n      <td>...</td>\n      <td>...</td>\n      <td>...</td>\n      <td>...</td>\n      <td>...</td>\n      <td>...</td>\n    </tr>\n    <tr>\n      <th>8486</th>\n      <td>1147821565</td>\n      <td>yes</td>\n      <td>False</td>\n      <td>1</td>\n      <td>1218.829</td>\n      <td>649</td>\n      <td>industrial</td>\n      <td>MULTIPOLYGON (((56.16802 57.91086, 56.16836 57...</td>\n      <td>1218.829</td>\n      <td>0.000069</td>\n    </tr>\n    <tr>\n      <th>8487</th>\n      <td>1148104875</td>\n      <td>yes</td>\n      <td>False</td>\n      <td>1</td>\n      <td>107.470</td>\n      <td>274</td>\n      <td>service</td>\n      <td>MULTIPOLYGON (((56.13393 57.92601, 56.13408 57...</td>\n      <td>107.470</td>\n      <td>0.000006</td>\n    </tr>\n    <tr>\n      <th>8488</th>\n      <td>1148419580</td>\n      <td>office</td>\n      <td>False</td>\n      <td>4</td>\n      <td>624.885</td>\n      <td>276</td>\n      <td>service</td>\n      <td>MULTIPOLYGON (((56.16355 57.88379, 56.16394 57...</td>\n      <td>2499.540</td>\n      <td>0.000141</td>\n    </tr>\n    <tr>\n      <th>8489</th>\n      <td>1148746841</td>\n      <td>industrial</td>\n      <td>False</td>\n      <td>1</td>\n      <td>188.391</td>\n      <td>274</td>\n      <td>industrial</td>\n      <td>MULTIPOLYGON (((56.13846 57.90833, 56.13847 57...</td>\n      <td>188.391</td>\n      <td>0.000011</td>\n    </tr>\n    <tr>\n      <th>8490</th>\n      <td>1149034816</td>\n      <td>industrial</td>\n      <td>False</td>\n      <td>1</td>\n      <td>516.981</td>\n      <td>275</td>\n      <td>industrial</td>\n      <td>MULTIPOLYGON (((56.15790 57.87906, 56.15796 57...</td>\n      <td>516.981</td>\n      <td>0.000029</td>\n    </tr>\n  </tbody>\n</table>\n<p>8491 rows × 10 columns</p>\n</div>"
     },
     "execution_count": 7,
     "metadata": {},
     "output_type": "execute_result"
    }
   ],
   "source": [
    "# Считаем плотность распределения площадей предприятий города\n",
    "buildings_with_industry[\"probabilities_distribution\"] = \\\n",
    "    buildings_with_industry[\"total_area\"] / buildings_with_industry[\"total_area\"].sum()\n",
    "\n",
    "buildings_with_industry"
   ],
   "metadata": {
    "collapsed": false,
    "ExecuteTime": {
     "end_time": "2023-12-24T19:56:23.453608300Z",
     "start_time": "2023-12-24T19:56:23.390692500Z"
    }
   },
   "id": "d277e37738eb7cee"
  },
  {
   "cell_type": "code",
   "execution_count": 9,
   "outputs": [
    {
     "data": {
      "text/plain": "array([167565550, 102959251,  25209192, ..., 109428061, 164142138,\n       162806639], dtype=int64)"
     },
     "execution_count": 9,
     "metadata": {},
     "output_type": "execute_result"
    }
   ],
   "source": [
    "# Распределяем трудовые ресурсы города (414 тысяч человек) по всем зданиям\n",
    "resources = default_distr(414000, buildings_with_industry[\"probabilities_distribution\"], buildings_with_industry.id)\n",
    "resources"
   ],
   "metadata": {
    "collapsed": false,
    "ExecuteTime": {
     "end_time": "2023-12-24T19:58:44.622392400Z",
     "start_time": "2023-12-24T19:58:44.522564700Z"
    }
   },
   "id": "529348f3c16c7734"
  },
  {
   "cell_type": "code",
   "execution_count": 12,
   "outputs": [
    {
     "data": {
      "text/plain": "id\n1342457        111\n1439787       2543\n1480077          5\n1555504          3\n1555505          6\n              ... \n1147821565      35\n1148104875       2\n1148419580      67\n1148746841       6\n1149034816      18\nName: count, Length: 8375, dtype: int64"
     },
     "execution_count": 12,
     "metadata": {},
     "output_type": "execute_result"
    }
   ],
   "source": [
    "# Считаем сколько работников попало в каждое здание\n",
    "counted_resources = pd.Series(resources, name=\"id\").value_counts().sort_index()\n",
    "counted_resources"
   ],
   "metadata": {
    "collapsed": false,
    "ExecuteTime": {
     "end_time": "2023-12-24T20:04:05.611856700Z",
     "start_time": "2023-12-24T20:04:05.564981300Z"
    }
   },
   "id": "27e9146a74397d3f"
  },
  {
   "cell_type": "code",
   "execution_count": 13,
   "outputs": [
    {
     "data": {
      "text/plain": "              id    function  is_living  storeys_count  basement_area  \\\n0        4669322         yes      False              1        694.450   \n1       79882759         yes      False              1        214.784   \n2       79882837      office      False              2        776.034   \n3       79883190         yes      False              1        189.197   \n4       89185196  industrial      False              1        450.628   \n...          ...         ...        ...            ...            ...   \n8486  1147821565         yes      False              1       1218.829   \n8487  1148104875         yes      False              1        107.470   \n8488  1148419580      office      False              4        624.885   \n8489  1148746841  industrial      False              1        188.391   \n8490  1149034816  industrial      False              1        516.981   \n\n      block_id    industry                                           geometry  \\\n0          275  industrial  MULTIPOLYGON (((56.17115 57.88024, 56.17135 57...   \n1          752  industrial  MULTIPOLYGON (((56.34866 58.10470, 56.34892 58...   \n2          752     service  MULTIPOLYGON (((56.34712 58.08610, 56.34720 58...   \n3          752  industrial  MULTIPOLYGON (((56.34799 58.10467, 56.34834 58...   \n4          943  industrial  MULTIPOLYGON (((56.12423 58.03430, 56.12452 58...   \n...        ...         ...                                                ...   \n8486       649  industrial  MULTIPOLYGON (((56.16802 57.91086, 56.16836 57...   \n8487       274     service  MULTIPOLYGON (((56.13393 57.92601, 56.13408 57...   \n8488       276     service  MULTIPOLYGON (((56.16355 57.88379, 56.16394 57...   \n8489       274  industrial  MULTIPOLYGON (((56.13846 57.90833, 56.13847 57...   \n8490       275  industrial  MULTIPOLYGON (((56.15790 57.87906, 56.15796 57...   \n\n      total_area  probabilities_distribution  count  \n0        694.450                    0.000039   41.0  \n1        214.784                    0.000012    9.0  \n2       1552.068                    0.000088   72.0  \n3        189.197                    0.000011    8.0  \n4        450.628                    0.000025   19.0  \n...          ...                         ...    ...  \n8486    1218.829                    0.000069   35.0  \n8487     107.470                    0.000006    2.0  \n8488    2499.540                    0.000141   67.0  \n8489     188.391                    0.000011    6.0  \n8490     516.981                    0.000029   18.0  \n\n[8491 rows x 11 columns]",
      "text/html": "<div>\n<style scoped>\n    .dataframe tbody tr th:only-of-type {\n        vertical-align: middle;\n    }\n\n    .dataframe tbody tr th {\n        vertical-align: top;\n    }\n\n    .dataframe thead th {\n        text-align: right;\n    }\n</style>\n<table border=\"1\" class=\"dataframe\">\n  <thead>\n    <tr style=\"text-align: right;\">\n      <th></th>\n      <th>id</th>\n      <th>function</th>\n      <th>is_living</th>\n      <th>storeys_count</th>\n      <th>basement_area</th>\n      <th>block_id</th>\n      <th>industry</th>\n      <th>geometry</th>\n      <th>total_area</th>\n      <th>probabilities_distribution</th>\n      <th>count</th>\n    </tr>\n  </thead>\n  <tbody>\n    <tr>\n      <th>0</th>\n      <td>4669322</td>\n      <td>yes</td>\n      <td>False</td>\n      <td>1</td>\n      <td>694.450</td>\n      <td>275</td>\n      <td>industrial</td>\n      <td>MULTIPOLYGON (((56.17115 57.88024, 56.17135 57...</td>\n      <td>694.450</td>\n      <td>0.000039</td>\n      <td>41.0</td>\n    </tr>\n    <tr>\n      <th>1</th>\n      <td>79882759</td>\n      <td>yes</td>\n      <td>False</td>\n      <td>1</td>\n      <td>214.784</td>\n      <td>752</td>\n      <td>industrial</td>\n      <td>MULTIPOLYGON (((56.34866 58.10470, 56.34892 58...</td>\n      <td>214.784</td>\n      <td>0.000012</td>\n      <td>9.0</td>\n    </tr>\n    <tr>\n      <th>2</th>\n      <td>79882837</td>\n      <td>office</td>\n      <td>False</td>\n      <td>2</td>\n      <td>776.034</td>\n      <td>752</td>\n      <td>service</td>\n      <td>MULTIPOLYGON (((56.34712 58.08610, 56.34720 58...</td>\n      <td>1552.068</td>\n      <td>0.000088</td>\n      <td>72.0</td>\n    </tr>\n    <tr>\n      <th>3</th>\n      <td>79883190</td>\n      <td>yes</td>\n      <td>False</td>\n      <td>1</td>\n      <td>189.197</td>\n      <td>752</td>\n      <td>industrial</td>\n      <td>MULTIPOLYGON (((56.34799 58.10467, 56.34834 58...</td>\n      <td>189.197</td>\n      <td>0.000011</td>\n      <td>8.0</td>\n    </tr>\n    <tr>\n      <th>4</th>\n      <td>89185196</td>\n      <td>industrial</td>\n      <td>False</td>\n      <td>1</td>\n      <td>450.628</td>\n      <td>943</td>\n      <td>industrial</td>\n      <td>MULTIPOLYGON (((56.12423 58.03430, 56.12452 58...</td>\n      <td>450.628</td>\n      <td>0.000025</td>\n      <td>19.0</td>\n    </tr>\n    <tr>\n      <th>...</th>\n      <td>...</td>\n      <td>...</td>\n      <td>...</td>\n      <td>...</td>\n      <td>...</td>\n      <td>...</td>\n      <td>...</td>\n      <td>...</td>\n      <td>...</td>\n      <td>...</td>\n      <td>...</td>\n    </tr>\n    <tr>\n      <th>8486</th>\n      <td>1147821565</td>\n      <td>yes</td>\n      <td>False</td>\n      <td>1</td>\n      <td>1218.829</td>\n      <td>649</td>\n      <td>industrial</td>\n      <td>MULTIPOLYGON (((56.16802 57.91086, 56.16836 57...</td>\n      <td>1218.829</td>\n      <td>0.000069</td>\n      <td>35.0</td>\n    </tr>\n    <tr>\n      <th>8487</th>\n      <td>1148104875</td>\n      <td>yes</td>\n      <td>False</td>\n      <td>1</td>\n      <td>107.470</td>\n      <td>274</td>\n      <td>service</td>\n      <td>MULTIPOLYGON (((56.13393 57.92601, 56.13408 57...</td>\n      <td>107.470</td>\n      <td>0.000006</td>\n      <td>2.0</td>\n    </tr>\n    <tr>\n      <th>8488</th>\n      <td>1148419580</td>\n      <td>office</td>\n      <td>False</td>\n      <td>4</td>\n      <td>624.885</td>\n      <td>276</td>\n      <td>service</td>\n      <td>MULTIPOLYGON (((56.16355 57.88379, 56.16394 57...</td>\n      <td>2499.540</td>\n      <td>0.000141</td>\n      <td>67.0</td>\n    </tr>\n    <tr>\n      <th>8489</th>\n      <td>1148746841</td>\n      <td>industrial</td>\n      <td>False</td>\n      <td>1</td>\n      <td>188.391</td>\n      <td>274</td>\n      <td>industrial</td>\n      <td>MULTIPOLYGON (((56.13846 57.90833, 56.13847 57...</td>\n      <td>188.391</td>\n      <td>0.000011</td>\n      <td>6.0</td>\n    </tr>\n    <tr>\n      <th>8490</th>\n      <td>1149034816</td>\n      <td>industrial</td>\n      <td>False</td>\n      <td>1</td>\n      <td>516.981</td>\n      <td>275</td>\n      <td>industrial</td>\n      <td>MULTIPOLYGON (((56.15790 57.87906, 56.15796 57...</td>\n      <td>516.981</td>\n      <td>0.000029</td>\n      <td>18.0</td>\n    </tr>\n  </tbody>\n</table>\n<p>8491 rows × 11 columns</p>\n</div>"
     },
     "execution_count": 13,
     "metadata": {},
     "output_type": "execute_result"
    }
   ],
   "source": [
    "# добавляем поле с количеством рабочих\n",
    "buildings_with_industry = buildings_with_industry.merge(counted_resources, left_on='id', right_index=True, how='left')\n",
    "buildings_with_industry"
   ],
   "metadata": {
    "collapsed": false,
    "ExecuteTime": {
     "end_time": "2023-12-24T20:05:34.162783800Z",
     "start_time": "2023-12-24T20:05:34.099803100Z"
    }
   },
   "id": "473b8728f63b1f34"
  },
  {
   "cell_type": "code",
   "execution_count": 14,
   "outputs": [
    {
     "data": {
      "text/plain": "              id    function  is_living  storeys_count  basement_area  \\\n0        4669322         yes      False              1        694.450   \n1       79882759         yes      False              1        214.784   \n2       79882837      office      False              2        776.034   \n3       79883190         yes      False              1        189.197   \n4       89185196  industrial      False              1        450.628   \n...          ...         ...        ...            ...            ...   \n8486  1147821565         yes      False              1       1218.829   \n8487  1148104875         yes      False              1        107.470   \n8488  1148419580      office      False              4        624.885   \n8489  1148746841  industrial      False              1        188.391   \n8490  1149034816  industrial      False              1        516.981   \n\n      block_id    industry                                           geometry  \\\n0          275  industrial  MULTIPOLYGON (((56.17115 57.88024, 56.17135 57...   \n1          752  industrial  MULTIPOLYGON (((56.34866 58.10470, 56.34892 58...   \n2          752     service  MULTIPOLYGON (((56.34712 58.08610, 56.34720 58...   \n3          752  industrial  MULTIPOLYGON (((56.34799 58.10467, 56.34834 58...   \n4          943  industrial  MULTIPOLYGON (((56.12423 58.03430, 56.12452 58...   \n...        ...         ...                                                ...   \n8486       649  industrial  MULTIPOLYGON (((56.16802 57.91086, 56.16836 57...   \n8487       274     service  MULTIPOLYGON (((56.13393 57.92601, 56.13408 57...   \n8488       276     service  MULTIPOLYGON (((56.16355 57.88379, 56.16394 57...   \n8489       274  industrial  MULTIPOLYGON (((56.13846 57.90833, 56.13847 57...   \n8490       275  industrial  MULTIPOLYGON (((56.15790 57.87906, 56.15796 57...   \n\n      total_area  count  \n0        694.450   41.0  \n1        214.784    9.0  \n2       1552.068   72.0  \n3        189.197    8.0  \n4        450.628   19.0  \n...          ...    ...  \n8486    1218.829   35.0  \n8487     107.470    2.0  \n8488    2499.540   67.0  \n8489     188.391    6.0  \n8490     516.981   18.0  \n\n[8491 rows x 10 columns]",
      "text/html": "<div>\n<style scoped>\n    .dataframe tbody tr th:only-of-type {\n        vertical-align: middle;\n    }\n\n    .dataframe tbody tr th {\n        vertical-align: top;\n    }\n\n    .dataframe thead th {\n        text-align: right;\n    }\n</style>\n<table border=\"1\" class=\"dataframe\">\n  <thead>\n    <tr style=\"text-align: right;\">\n      <th></th>\n      <th>id</th>\n      <th>function</th>\n      <th>is_living</th>\n      <th>storeys_count</th>\n      <th>basement_area</th>\n      <th>block_id</th>\n      <th>industry</th>\n      <th>geometry</th>\n      <th>total_area</th>\n      <th>count</th>\n    </tr>\n  </thead>\n  <tbody>\n    <tr>\n      <th>0</th>\n      <td>4669322</td>\n      <td>yes</td>\n      <td>False</td>\n      <td>1</td>\n      <td>694.450</td>\n      <td>275</td>\n      <td>industrial</td>\n      <td>MULTIPOLYGON (((56.17115 57.88024, 56.17135 57...</td>\n      <td>694.450</td>\n      <td>41.0</td>\n    </tr>\n    <tr>\n      <th>1</th>\n      <td>79882759</td>\n      <td>yes</td>\n      <td>False</td>\n      <td>1</td>\n      <td>214.784</td>\n      <td>752</td>\n      <td>industrial</td>\n      <td>MULTIPOLYGON (((56.34866 58.10470, 56.34892 58...</td>\n      <td>214.784</td>\n      <td>9.0</td>\n    </tr>\n    <tr>\n      <th>2</th>\n      <td>79882837</td>\n      <td>office</td>\n      <td>False</td>\n      <td>2</td>\n      <td>776.034</td>\n      <td>752</td>\n      <td>service</td>\n      <td>MULTIPOLYGON (((56.34712 58.08610, 56.34720 58...</td>\n      <td>1552.068</td>\n      <td>72.0</td>\n    </tr>\n    <tr>\n      <th>3</th>\n      <td>79883190</td>\n      <td>yes</td>\n      <td>False</td>\n      <td>1</td>\n      <td>189.197</td>\n      <td>752</td>\n      <td>industrial</td>\n      <td>MULTIPOLYGON (((56.34799 58.10467, 56.34834 58...</td>\n      <td>189.197</td>\n      <td>8.0</td>\n    </tr>\n    <tr>\n      <th>4</th>\n      <td>89185196</td>\n      <td>industrial</td>\n      <td>False</td>\n      <td>1</td>\n      <td>450.628</td>\n      <td>943</td>\n      <td>industrial</td>\n      <td>MULTIPOLYGON (((56.12423 58.03430, 56.12452 58...</td>\n      <td>450.628</td>\n      <td>19.0</td>\n    </tr>\n    <tr>\n      <th>...</th>\n      <td>...</td>\n      <td>...</td>\n      <td>...</td>\n      <td>...</td>\n      <td>...</td>\n      <td>...</td>\n      <td>...</td>\n      <td>...</td>\n      <td>...</td>\n      <td>...</td>\n    </tr>\n    <tr>\n      <th>8486</th>\n      <td>1147821565</td>\n      <td>yes</td>\n      <td>False</td>\n      <td>1</td>\n      <td>1218.829</td>\n      <td>649</td>\n      <td>industrial</td>\n      <td>MULTIPOLYGON (((56.16802 57.91086, 56.16836 57...</td>\n      <td>1218.829</td>\n      <td>35.0</td>\n    </tr>\n    <tr>\n      <th>8487</th>\n      <td>1148104875</td>\n      <td>yes</td>\n      <td>False</td>\n      <td>1</td>\n      <td>107.470</td>\n      <td>274</td>\n      <td>service</td>\n      <td>MULTIPOLYGON (((56.13393 57.92601, 56.13408 57...</td>\n      <td>107.470</td>\n      <td>2.0</td>\n    </tr>\n    <tr>\n      <th>8488</th>\n      <td>1148419580</td>\n      <td>office</td>\n      <td>False</td>\n      <td>4</td>\n      <td>624.885</td>\n      <td>276</td>\n      <td>service</td>\n      <td>MULTIPOLYGON (((56.16355 57.88379, 56.16394 57...</td>\n      <td>2499.540</td>\n      <td>67.0</td>\n    </tr>\n    <tr>\n      <th>8489</th>\n      <td>1148746841</td>\n      <td>industrial</td>\n      <td>False</td>\n      <td>1</td>\n      <td>188.391</td>\n      <td>274</td>\n      <td>industrial</td>\n      <td>MULTIPOLYGON (((56.13846 57.90833, 56.13847 57...</td>\n      <td>188.391</td>\n      <td>6.0</td>\n    </tr>\n    <tr>\n      <th>8490</th>\n      <td>1149034816</td>\n      <td>industrial</td>\n      <td>False</td>\n      <td>1</td>\n      <td>516.981</td>\n      <td>275</td>\n      <td>industrial</td>\n      <td>MULTIPOLYGON (((56.15790 57.87906, 56.15796 57...</td>\n      <td>516.981</td>\n      <td>18.0</td>\n    </tr>\n  </tbody>\n</table>\n<p>8491 rows × 10 columns</p>\n</div>"
     },
     "execution_count": 14,
     "metadata": {},
     "output_type": "execute_result"
    }
   ],
   "source": [
    "buildings_with_industry = buildings_with_industry.drop('probabilities_distribution', axis=1)\n",
    "buildings_with_industry"
   ],
   "metadata": {
    "collapsed": false,
    "ExecuteTime": {
     "end_time": "2023-12-24T20:06:59.159104Z",
     "start_time": "2023-12-24T20:06:59.080114600Z"
    }
   },
   "id": "682193da4e198a4"
  },
  {
   "cell_type": "code",
   "execution_count": 16,
   "outputs": [
    {
     "data": {
      "text/plain": "              id    function  is_living  storeys_count  basement_area  \\\n0        4669322         yes      False              1        694.450   \n1       79882759         yes      False              1        214.784   \n2       79882837      office      False              2        776.034   \n3       79883190         yes      False              1        189.197   \n4       89185196  industrial      False              1        450.628   \n...          ...         ...        ...            ...            ...   \n8486  1147821565         yes      False              1       1218.829   \n8487  1148104875         yes      False              1        107.470   \n8488  1148419580      office      False              4        624.885   \n8489  1148746841  industrial      False              1        188.391   \n8490  1149034816  industrial      False              1        516.981   \n\n      block_id    industry                                           geometry  \\\n0          275  industrial  MULTIPOLYGON (((56.17115 57.88024, 56.17135 57...   \n1          752  industrial  MULTIPOLYGON (((56.34866 58.10470, 56.34892 58...   \n2          752     service  MULTIPOLYGON (((56.34712 58.08610, 56.34720 58...   \n3          752  industrial  MULTIPOLYGON (((56.34799 58.10467, 56.34834 58...   \n4          943  industrial  MULTIPOLYGON (((56.12423 58.03430, 56.12452 58...   \n...        ...         ...                                                ...   \n8486       649  industrial  MULTIPOLYGON (((56.16802 57.91086, 56.16836 57...   \n8487       274     service  MULTIPOLYGON (((56.13393 57.92601, 56.13408 57...   \n8488       276     service  MULTIPOLYGON (((56.16355 57.88379, 56.16394 57...   \n8489       274  industrial  MULTIPOLYGON (((56.13846 57.90833, 56.13847 57...   \n8490       275  industrial  MULTIPOLYGON (((56.15790 57.87906, 56.15796 57...   \n\n      total_area  workers  \n0        694.450     41.0  \n1        214.784      9.0  \n2       1552.068     72.0  \n3        189.197      8.0  \n4        450.628     19.0  \n...          ...      ...  \n8486    1218.829     35.0  \n8487     107.470      2.0  \n8488    2499.540     67.0  \n8489     188.391      6.0  \n8490     516.981     18.0  \n\n[8491 rows x 10 columns]",
      "text/html": "<div>\n<style scoped>\n    .dataframe tbody tr th:only-of-type {\n        vertical-align: middle;\n    }\n\n    .dataframe tbody tr th {\n        vertical-align: top;\n    }\n\n    .dataframe thead th {\n        text-align: right;\n    }\n</style>\n<table border=\"1\" class=\"dataframe\">\n  <thead>\n    <tr style=\"text-align: right;\">\n      <th></th>\n      <th>id</th>\n      <th>function</th>\n      <th>is_living</th>\n      <th>storeys_count</th>\n      <th>basement_area</th>\n      <th>block_id</th>\n      <th>industry</th>\n      <th>geometry</th>\n      <th>total_area</th>\n      <th>workers</th>\n    </tr>\n  </thead>\n  <tbody>\n    <tr>\n      <th>0</th>\n      <td>4669322</td>\n      <td>yes</td>\n      <td>False</td>\n      <td>1</td>\n      <td>694.450</td>\n      <td>275</td>\n      <td>industrial</td>\n      <td>MULTIPOLYGON (((56.17115 57.88024, 56.17135 57...</td>\n      <td>694.450</td>\n      <td>41.0</td>\n    </tr>\n    <tr>\n      <th>1</th>\n      <td>79882759</td>\n      <td>yes</td>\n      <td>False</td>\n      <td>1</td>\n      <td>214.784</td>\n      <td>752</td>\n      <td>industrial</td>\n      <td>MULTIPOLYGON (((56.34866 58.10470, 56.34892 58...</td>\n      <td>214.784</td>\n      <td>9.0</td>\n    </tr>\n    <tr>\n      <th>2</th>\n      <td>79882837</td>\n      <td>office</td>\n      <td>False</td>\n      <td>2</td>\n      <td>776.034</td>\n      <td>752</td>\n      <td>service</td>\n      <td>MULTIPOLYGON (((56.34712 58.08610, 56.34720 58...</td>\n      <td>1552.068</td>\n      <td>72.0</td>\n    </tr>\n    <tr>\n      <th>3</th>\n      <td>79883190</td>\n      <td>yes</td>\n      <td>False</td>\n      <td>1</td>\n      <td>189.197</td>\n      <td>752</td>\n      <td>industrial</td>\n      <td>MULTIPOLYGON (((56.34799 58.10467, 56.34834 58...</td>\n      <td>189.197</td>\n      <td>8.0</td>\n    </tr>\n    <tr>\n      <th>4</th>\n      <td>89185196</td>\n      <td>industrial</td>\n      <td>False</td>\n      <td>1</td>\n      <td>450.628</td>\n      <td>943</td>\n      <td>industrial</td>\n      <td>MULTIPOLYGON (((56.12423 58.03430, 56.12452 58...</td>\n      <td>450.628</td>\n      <td>19.0</td>\n    </tr>\n    <tr>\n      <th>...</th>\n      <td>...</td>\n      <td>...</td>\n      <td>...</td>\n      <td>...</td>\n      <td>...</td>\n      <td>...</td>\n      <td>...</td>\n      <td>...</td>\n      <td>...</td>\n      <td>...</td>\n    </tr>\n    <tr>\n      <th>8486</th>\n      <td>1147821565</td>\n      <td>yes</td>\n      <td>False</td>\n      <td>1</td>\n      <td>1218.829</td>\n      <td>649</td>\n      <td>industrial</td>\n      <td>MULTIPOLYGON (((56.16802 57.91086, 56.16836 57...</td>\n      <td>1218.829</td>\n      <td>35.0</td>\n    </tr>\n    <tr>\n      <th>8487</th>\n      <td>1148104875</td>\n      <td>yes</td>\n      <td>False</td>\n      <td>1</td>\n      <td>107.470</td>\n      <td>274</td>\n      <td>service</td>\n      <td>MULTIPOLYGON (((56.13393 57.92601, 56.13408 57...</td>\n      <td>107.470</td>\n      <td>2.0</td>\n    </tr>\n    <tr>\n      <th>8488</th>\n      <td>1148419580</td>\n      <td>office</td>\n      <td>False</td>\n      <td>4</td>\n      <td>624.885</td>\n      <td>276</td>\n      <td>service</td>\n      <td>MULTIPOLYGON (((56.16355 57.88379, 56.16394 57...</td>\n      <td>2499.540</td>\n      <td>67.0</td>\n    </tr>\n    <tr>\n      <th>8489</th>\n      <td>1148746841</td>\n      <td>industrial</td>\n      <td>False</td>\n      <td>1</td>\n      <td>188.391</td>\n      <td>274</td>\n      <td>industrial</td>\n      <td>MULTIPOLYGON (((56.13846 57.90833, 56.13847 57...</td>\n      <td>188.391</td>\n      <td>6.0</td>\n    </tr>\n    <tr>\n      <th>8490</th>\n      <td>1149034816</td>\n      <td>industrial</td>\n      <td>False</td>\n      <td>1</td>\n      <td>516.981</td>\n      <td>275</td>\n      <td>industrial</td>\n      <td>MULTIPOLYGON (((56.15790 57.87906, 56.15796 57...</td>\n      <td>516.981</td>\n      <td>18.0</td>\n    </tr>\n  </tbody>\n</table>\n<p>8491 rows × 10 columns</p>\n</div>"
     },
     "execution_count": 16,
     "metadata": {},
     "output_type": "execute_result"
    }
   ],
   "source": [
    "buildings_with_industry = buildings_with_industry.rename(columns={'count': 'workers'})\n",
    "buildings_with_industry"
   ],
   "metadata": {
    "collapsed": false,
    "ExecuteTime": {
     "end_time": "2023-12-24T20:08:15.595620200Z",
     "start_time": "2023-12-24T20:08:15.548280Z"
    }
   },
   "id": "a20ad3dbf9410db2"
  },
  {
   "cell_type": "code",
   "execution_count": null,
   "outputs": [],
   "source": [
    "buildings_with_industry = buildings_with_industry.dropna(subset=['workers'])\n",
    "buildings_with_industry['workers'] = pd.to_numeric(buildings_with_industry['workers'], errors='coerce').astype('Int64')\n",
    "buildings_with_industry"
   ],
   "metadata": {
    "collapsed": false
   },
   "id": "36e27bbfcc1bf326"
  },
  {
   "cell_type": "code",
   "execution_count": 28,
   "outputs": [],
   "source": [
    "buildings_with_industry.to_file('data/buildings_with_workers.geojson', driver='GeoJSON')"
   ],
   "metadata": {
    "collapsed": false,
    "ExecuteTime": {
     "end_time": "2023-12-24T20:25:25.181568900Z",
     "start_time": "2023-12-24T20:25:22.677149400Z"
    }
   },
   "id": "40240fcf051d87e5"
  }
 ],
 "metadata": {
  "kernelspec": {
   "display_name": "Python 3",
   "language": "python",
   "name": "python3"
  },
  "language_info": {
   "codemirror_mode": {
    "name": "ipython",
    "version": 2
   },
   "file_extension": ".py",
   "mimetype": "text/x-python",
   "name": "python",
   "nbconvert_exporter": "python",
   "pygments_lexer": "ipython2",
   "version": "2.7.6"
  }
 },
 "nbformat": 4,
 "nbformat_minor": 5
}
