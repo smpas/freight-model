{
 "cells": [
  {
   "cell_type": "code",
   "execution_count": null,
   "id": "initial_id",
   "metadata": {
    "collapsed": true,
    "is_executing": true
   },
   "outputs": [],
   "source": [
    "import geopandas as gpd\n",
    "import numpy as np\n",
    "import pandas as pd"
   ]
  },
  {
   "cell_type": "markdown",
   "source": [
    "Синтез TGR на основе типа индустрии и количества рабочих мест для 10% предприятий"
   ],
   "metadata": {
    "collapsed": false
   },
   "id": "cf37b3137ec5eb53"
  },
  {
   "cell_type": "code",
   "execution_count": 24,
   "outputs": [
    {
     "data": {
      "text/plain": "       id          area      landuse  industrial    retail   service  \\\n0       1  1.224163e+06  low_density    0.000000  0.000000  1.000000   \n1       6  3.949440e+07  low_density    0.932489  0.067511  0.000000   \n2       9  5.817216e+07  low_density    0.900648  0.009719  0.089633   \n3      11  2.740008e+05  low_density    1.000000  0.000000  0.000000   \n4      16  2.060076e+05  residential    0.000000  0.133333  0.866667   \n..    ...           ...          ...         ...       ...       ...   \n494  2869  3.137001e+05   commercial    0.439394  0.000000  0.560606   \n495  2875  2.419463e+06   industrial    0.546729  0.000000  0.453271   \n496  2877  1.502041e+05   industrial    1.000000  0.000000  0.000000   \n497  2879  1.999429e+05   industrial    1.000000  0.000000  0.000000   \n498  3000  3.550764e+06  low_density    0.274725  0.000000  0.725275   \n\n     work_area  living_area  workers  population  population_availability  \\\n0     4893.620     113243.0      124        2211                 5.241083   \n1    29031.391      45179.0      711         898                 4.892252   \n2    39884.962     304269.0      926        6476                 4.760366   \n3      539.633       1527.0       15          20                 4.804614   \n4     6815.552      79678.0      150        1340                 6.456608   \n..         ...          ...      ...         ...                      ...   \n494   4756.526          0.0      132           0                 4.291921   \n495   9696.609       1284.0      214          24                 4.515939   \n496   6515.337          0.0      158           0                 5.810754   \n497   4229.398          0.0       94           0                 4.074374   \n498   8527.540      46561.0      182         911                 5.342491   \n\n     workers_availability                                           geometry  \n0                2.463974  POLYGON ((56.34764 58.03500, 56.34762 58.03500...  \n1                2.386894  POLYGON ((56.34129 58.02780, 56.34127 58.02781...  \n2                2.351703  POLYGON ((56.36243 58.05457, 56.36242 58.05457...  \n3                2.364015  POLYGON ((56.40011 58.04080, 56.40011 58.04081...  \n4                2.789124  POLYGON ((56.20791 58.00293, 56.20789 58.00293...  \n..                    ...                                                ...  \n494              2.221195  POLYGON ((56.38621 58.14957, 56.38620 58.14958...  \n495              2.286350  POLYGON ((56.36681 58.12208, 56.36681 58.12208...  \n496              3.120476  POLYGON ((56.28264 58.02905, 56.28262 58.02904...  \n497              2.930219  POLYGON ((56.15650 57.88209, 56.15648 57.88209...  \n498              2.495559  POLYGON ((56.31847 58.03896, 56.31846 58.03897...  \n\n[499 rows x 13 columns]",
      "text/html": "<div>\n<style scoped>\n    .dataframe tbody tr th:only-of-type {\n        vertical-align: middle;\n    }\n\n    .dataframe tbody tr th {\n        vertical-align: top;\n    }\n\n    .dataframe thead th {\n        text-align: right;\n    }\n</style>\n<table border=\"1\" class=\"dataframe\">\n  <thead>\n    <tr style=\"text-align: right;\">\n      <th></th>\n      <th>id</th>\n      <th>area</th>\n      <th>landuse</th>\n      <th>industrial</th>\n      <th>retail</th>\n      <th>service</th>\n      <th>work_area</th>\n      <th>living_area</th>\n      <th>workers</th>\n      <th>population</th>\n      <th>population_availability</th>\n      <th>workers_availability</th>\n      <th>geometry</th>\n    </tr>\n  </thead>\n  <tbody>\n    <tr>\n      <th>0</th>\n      <td>1</td>\n      <td>1.224163e+06</td>\n      <td>low_density</td>\n      <td>0.000000</td>\n      <td>0.000000</td>\n      <td>1.000000</td>\n      <td>4893.620</td>\n      <td>113243.0</td>\n      <td>124</td>\n      <td>2211</td>\n      <td>5.241083</td>\n      <td>2.463974</td>\n      <td>POLYGON ((56.34764 58.03500, 56.34762 58.03500...</td>\n    </tr>\n    <tr>\n      <th>1</th>\n      <td>6</td>\n      <td>3.949440e+07</td>\n      <td>low_density</td>\n      <td>0.932489</td>\n      <td>0.067511</td>\n      <td>0.000000</td>\n      <td>29031.391</td>\n      <td>45179.0</td>\n      <td>711</td>\n      <td>898</td>\n      <td>4.892252</td>\n      <td>2.386894</td>\n      <td>POLYGON ((56.34129 58.02780, 56.34127 58.02781...</td>\n    </tr>\n    <tr>\n      <th>2</th>\n      <td>9</td>\n      <td>5.817216e+07</td>\n      <td>low_density</td>\n      <td>0.900648</td>\n      <td>0.009719</td>\n      <td>0.089633</td>\n      <td>39884.962</td>\n      <td>304269.0</td>\n      <td>926</td>\n      <td>6476</td>\n      <td>4.760366</td>\n      <td>2.351703</td>\n      <td>POLYGON ((56.36243 58.05457, 56.36242 58.05457...</td>\n    </tr>\n    <tr>\n      <th>3</th>\n      <td>11</td>\n      <td>2.740008e+05</td>\n      <td>low_density</td>\n      <td>1.000000</td>\n      <td>0.000000</td>\n      <td>0.000000</td>\n      <td>539.633</td>\n      <td>1527.0</td>\n      <td>15</td>\n      <td>20</td>\n      <td>4.804614</td>\n      <td>2.364015</td>\n      <td>POLYGON ((56.40011 58.04080, 56.40011 58.04081...</td>\n    </tr>\n    <tr>\n      <th>4</th>\n      <td>16</td>\n      <td>2.060076e+05</td>\n      <td>residential</td>\n      <td>0.000000</td>\n      <td>0.133333</td>\n      <td>0.866667</td>\n      <td>6815.552</td>\n      <td>79678.0</td>\n      <td>150</td>\n      <td>1340</td>\n      <td>6.456608</td>\n      <td>2.789124</td>\n      <td>POLYGON ((56.20791 58.00293, 56.20789 58.00293...</td>\n    </tr>\n    <tr>\n      <th>...</th>\n      <td>...</td>\n      <td>...</td>\n      <td>...</td>\n      <td>...</td>\n      <td>...</td>\n      <td>...</td>\n      <td>...</td>\n      <td>...</td>\n      <td>...</td>\n      <td>...</td>\n      <td>...</td>\n      <td>...</td>\n      <td>...</td>\n    </tr>\n    <tr>\n      <th>494</th>\n      <td>2869</td>\n      <td>3.137001e+05</td>\n      <td>commercial</td>\n      <td>0.439394</td>\n      <td>0.000000</td>\n      <td>0.560606</td>\n      <td>4756.526</td>\n      <td>0.0</td>\n      <td>132</td>\n      <td>0</td>\n      <td>4.291921</td>\n      <td>2.221195</td>\n      <td>POLYGON ((56.38621 58.14957, 56.38620 58.14958...</td>\n    </tr>\n    <tr>\n      <th>495</th>\n      <td>2875</td>\n      <td>2.419463e+06</td>\n      <td>industrial</td>\n      <td>0.546729</td>\n      <td>0.000000</td>\n      <td>0.453271</td>\n      <td>9696.609</td>\n      <td>1284.0</td>\n      <td>214</td>\n      <td>24</td>\n      <td>4.515939</td>\n      <td>2.286350</td>\n      <td>POLYGON ((56.36681 58.12208, 56.36681 58.12208...</td>\n    </tr>\n    <tr>\n      <th>496</th>\n      <td>2877</td>\n      <td>1.502041e+05</td>\n      <td>industrial</td>\n      <td>1.000000</td>\n      <td>0.000000</td>\n      <td>0.000000</td>\n      <td>6515.337</td>\n      <td>0.0</td>\n      <td>158</td>\n      <td>0</td>\n      <td>5.810754</td>\n      <td>3.120476</td>\n      <td>POLYGON ((56.28264 58.02905, 56.28262 58.02904...</td>\n    </tr>\n    <tr>\n      <th>497</th>\n      <td>2879</td>\n      <td>1.999429e+05</td>\n      <td>industrial</td>\n      <td>1.000000</td>\n      <td>0.000000</td>\n      <td>0.000000</td>\n      <td>4229.398</td>\n      <td>0.0</td>\n      <td>94</td>\n      <td>0</td>\n      <td>4.074374</td>\n      <td>2.930219</td>\n      <td>POLYGON ((56.15650 57.88209, 56.15648 57.88209...</td>\n    </tr>\n    <tr>\n      <th>498</th>\n      <td>3000</td>\n      <td>3.550764e+06</td>\n      <td>low_density</td>\n      <td>0.274725</td>\n      <td>0.000000</td>\n      <td>0.725275</td>\n      <td>8527.540</td>\n      <td>46561.0</td>\n      <td>182</td>\n      <td>911</td>\n      <td>5.342491</td>\n      <td>2.495559</td>\n      <td>POLYGON ((56.31847 58.03896, 56.31846 58.03897...</td>\n    </tr>\n  </tbody>\n</table>\n<p>499 rows × 13 columns</p>\n</div>"
     },
     "execution_count": 24,
     "metadata": {},
     "output_type": "execute_result"
    }
   ],
   "source": [
    "zones = gpd.read_file(\"C:/Users/sm_pa/OneDrive/Рабочий стол/НИР3/perm_freight_modelling/data/TAZ_final.geojson\")\n",
    "zones"
   ],
   "metadata": {
    "collapsed": false,
    "ExecuteTime": {
     "end_time": "2024-01-18T12:10:50.368985300Z",
     "start_time": "2024-01-18T12:10:48.705212900Z"
    }
   },
   "id": "f383148312bb320f"
  },
  {
   "cell_type": "code",
   "execution_count": 25,
   "outputs": [],
   "source": [
    "businesses = gpd.read_file(\n",
    "    \"C:/Users/sm_pa/OneDrive/Рабочий стол/НИР3/perm_freight_modelling/data/buildings_with_workers.geojson\")\n"
   ],
   "metadata": {
    "collapsed": false,
    "ExecuteTime": {
     "end_time": "2024-01-18T12:10:55.449107100Z",
     "start_time": "2024-01-18T12:10:52.650551600Z"
    }
   },
   "id": "9697fd52137d4f8b"
  },
  {
   "cell_type": "code",
   "execution_count": 26,
   "outputs": [
    {
     "data": {
      "text/plain": "            id_x    function  is_living  storeys_count  basement_area  \\\n0        4669322         yes      False              1        694.450   \n1       79882759         yes      False              1        214.784   \n2       79882837      office      False              2        776.034   \n3       79883190         yes      False              1        189.197   \n4       89185196  industrial      False              1        450.628   \n...          ...         ...        ...            ...            ...   \n8438  1147821565         yes      False              1       1218.829   \n8439  1148104875         yes      False              1        107.470   \n8440  1148419580      office      False              4        624.885   \n8441  1148746841  industrial      False              1        188.391   \n8442  1149034816  industrial      False              1        516.981   \n\n      block_id    industry  total_area  workers_x  \\\n0          275  industrial     694.450         41   \n1          752  industrial     214.784          9   \n2          752     service    1552.068         72   \n3          752  industrial     189.197          8   \n4          943  industrial     450.628         19   \n...        ...         ...         ...        ...   \n8438       649  industrial    1218.829         35   \n8439       274     service     107.470          2   \n8440       276     service    2499.540         67   \n8441       274  industrial     188.391          6   \n8442       275  industrial     516.981         18   \n\n                                             geometry_x  ...  industrial  \\\n0     MULTIPOLYGON (((56.17115 57.88024, 56.17135 57...  ...    0.998556   \n1     MULTIPOLYGON (((56.34866 58.10470, 56.34892 58...  ...    0.888674   \n2     MULTIPOLYGON (((56.34712 58.08610, 56.34720 58...  ...    0.888674   \n3     MULTIPOLYGON (((56.34799 58.10467, 56.34834 58...  ...    0.888674   \n4     MULTIPOLYGON (((56.12423 58.03430, 56.12452 58...  ...    0.801968   \n...                                                 ...  ...         ...   \n8438  MULTIPOLYGON (((56.16802 57.91086, 56.16836 57...  ...    1.000000   \n8439  MULTIPOLYGON (((56.13393 57.92601, 56.13408 57...  ...    0.941292   \n8440  MULTIPOLYGON (((56.16355 57.88379, 56.16394 57...  ...    0.773616   \n8441  MULTIPOLYGON (((56.13846 57.90833, 56.13847 57...  ...    0.941292   \n8442  MULTIPOLYGON (((56.15790 57.87906, 56.15796 57...  ...    0.998556   \n\n        retail   service   work_area  living_area  workers_y  population  \\\n0     0.000000  0.001444  206646.662          0.0       4848           0   \n1     0.046569  0.064757  333747.841          0.0       7752           0   \n2     0.046569  0.064757  333747.841          0.0       7752           0   \n3     0.046569  0.064757  333747.841          0.0       7752           0   \n4     0.000000  0.198032  113678.221       5488.0       3151         214   \n...        ...       ...         ...          ...        ...         ...   \n8438  0.000000  0.000000  165426.639          0.0       3961           0   \n8439  0.000000  0.058708  412150.745          0.0      10714           0   \n8440  0.000000  0.226384   27505.990          0.0        614           0   \n8441  0.000000  0.058708  412150.745          0.0      10714           0   \n8442  0.000000  0.001444  206646.662          0.0       4848           0   \n\n      population_availability  workers_availability  \\\n0                    4.152758              2.321604   \n1                    4.710778              2.383966   \n2                    4.710778              2.383966   \n3                    4.710778              2.383966   \n4                    4.979759              2.434761   \n...                       ...                   ...   \n8438                 4.672042              2.437900   \n8439                 4.441204              2.392340   \n8440                 4.208105              2.329820   \n8441                 4.441204              2.392340   \n8442                 4.152758              2.321604   \n\n                                             geometry_y  \n0     POLYGON ((56.15531 57.88344, 56.15533 57.88344...  \n1     POLYGON ((56.34256 58.09783, 56.34256 58.09784...  \n2     POLYGON ((56.34256 58.09783, 56.34256 58.09784...  \n3     POLYGON ((56.34256 58.09783, 56.34256 58.09784...  \n4     POLYGON ((56.05496 58.02391, 56.05494 58.02391...  \n...                                                 ...  \n8438  POLYGON ((56.14728 57.91902, 56.14727 57.91902...  \n8439  POLYGON ((56.12247 57.90545, 56.12245 57.90546...  \n8440  POLYGON ((56.15566 57.88340, 56.15565 57.88341...  \n8441  POLYGON ((56.12247 57.90545, 56.12245 57.90546...  \n8442  POLYGON ((56.15531 57.88344, 56.15533 57.88344...  \n\n[8443 rows x 23 columns]",
      "text/html": "<div>\n<style scoped>\n    .dataframe tbody tr th:only-of-type {\n        vertical-align: middle;\n    }\n\n    .dataframe tbody tr th {\n        vertical-align: top;\n    }\n\n    .dataframe thead th {\n        text-align: right;\n    }\n</style>\n<table border=\"1\" class=\"dataframe\">\n  <thead>\n    <tr style=\"text-align: right;\">\n      <th></th>\n      <th>id_x</th>\n      <th>function</th>\n      <th>is_living</th>\n      <th>storeys_count</th>\n      <th>basement_area</th>\n      <th>block_id</th>\n      <th>industry</th>\n      <th>total_area</th>\n      <th>workers_x</th>\n      <th>geometry_x</th>\n      <th>...</th>\n      <th>industrial</th>\n      <th>retail</th>\n      <th>service</th>\n      <th>work_area</th>\n      <th>living_area</th>\n      <th>workers_y</th>\n      <th>population</th>\n      <th>population_availability</th>\n      <th>workers_availability</th>\n      <th>geometry_y</th>\n    </tr>\n  </thead>\n  <tbody>\n    <tr>\n      <th>0</th>\n      <td>4669322</td>\n      <td>yes</td>\n      <td>False</td>\n      <td>1</td>\n      <td>694.450</td>\n      <td>275</td>\n      <td>industrial</td>\n      <td>694.450</td>\n      <td>41</td>\n      <td>MULTIPOLYGON (((56.17115 57.88024, 56.17135 57...</td>\n      <td>...</td>\n      <td>0.998556</td>\n      <td>0.000000</td>\n      <td>0.001444</td>\n      <td>206646.662</td>\n      <td>0.0</td>\n      <td>4848</td>\n      <td>0</td>\n      <td>4.152758</td>\n      <td>2.321604</td>\n      <td>POLYGON ((56.15531 57.88344, 56.15533 57.88344...</td>\n    </tr>\n    <tr>\n      <th>1</th>\n      <td>79882759</td>\n      <td>yes</td>\n      <td>False</td>\n      <td>1</td>\n      <td>214.784</td>\n      <td>752</td>\n      <td>industrial</td>\n      <td>214.784</td>\n      <td>9</td>\n      <td>MULTIPOLYGON (((56.34866 58.10470, 56.34892 58...</td>\n      <td>...</td>\n      <td>0.888674</td>\n      <td>0.046569</td>\n      <td>0.064757</td>\n      <td>333747.841</td>\n      <td>0.0</td>\n      <td>7752</td>\n      <td>0</td>\n      <td>4.710778</td>\n      <td>2.383966</td>\n      <td>POLYGON ((56.34256 58.09783, 56.34256 58.09784...</td>\n    </tr>\n    <tr>\n      <th>2</th>\n      <td>79882837</td>\n      <td>office</td>\n      <td>False</td>\n      <td>2</td>\n      <td>776.034</td>\n      <td>752</td>\n      <td>service</td>\n      <td>1552.068</td>\n      <td>72</td>\n      <td>MULTIPOLYGON (((56.34712 58.08610, 56.34720 58...</td>\n      <td>...</td>\n      <td>0.888674</td>\n      <td>0.046569</td>\n      <td>0.064757</td>\n      <td>333747.841</td>\n      <td>0.0</td>\n      <td>7752</td>\n      <td>0</td>\n      <td>4.710778</td>\n      <td>2.383966</td>\n      <td>POLYGON ((56.34256 58.09783, 56.34256 58.09784...</td>\n    </tr>\n    <tr>\n      <th>3</th>\n      <td>79883190</td>\n      <td>yes</td>\n      <td>False</td>\n      <td>1</td>\n      <td>189.197</td>\n      <td>752</td>\n      <td>industrial</td>\n      <td>189.197</td>\n      <td>8</td>\n      <td>MULTIPOLYGON (((56.34799 58.10467, 56.34834 58...</td>\n      <td>...</td>\n      <td>0.888674</td>\n      <td>0.046569</td>\n      <td>0.064757</td>\n      <td>333747.841</td>\n      <td>0.0</td>\n      <td>7752</td>\n      <td>0</td>\n      <td>4.710778</td>\n      <td>2.383966</td>\n      <td>POLYGON ((56.34256 58.09783, 56.34256 58.09784...</td>\n    </tr>\n    <tr>\n      <th>4</th>\n      <td>89185196</td>\n      <td>industrial</td>\n      <td>False</td>\n      <td>1</td>\n      <td>450.628</td>\n      <td>943</td>\n      <td>industrial</td>\n      <td>450.628</td>\n      <td>19</td>\n      <td>MULTIPOLYGON (((56.12423 58.03430, 56.12452 58...</td>\n      <td>...</td>\n      <td>0.801968</td>\n      <td>0.000000</td>\n      <td>0.198032</td>\n      <td>113678.221</td>\n      <td>5488.0</td>\n      <td>3151</td>\n      <td>214</td>\n      <td>4.979759</td>\n      <td>2.434761</td>\n      <td>POLYGON ((56.05496 58.02391, 56.05494 58.02391...</td>\n    </tr>\n    <tr>\n      <th>...</th>\n      <td>...</td>\n      <td>...</td>\n      <td>...</td>\n      <td>...</td>\n      <td>...</td>\n      <td>...</td>\n      <td>...</td>\n      <td>...</td>\n      <td>...</td>\n      <td>...</td>\n      <td>...</td>\n      <td>...</td>\n      <td>...</td>\n      <td>...</td>\n      <td>...</td>\n      <td>...</td>\n      <td>...</td>\n      <td>...</td>\n      <td>...</td>\n      <td>...</td>\n      <td>...</td>\n    </tr>\n    <tr>\n      <th>8438</th>\n      <td>1147821565</td>\n      <td>yes</td>\n      <td>False</td>\n      <td>1</td>\n      <td>1218.829</td>\n      <td>649</td>\n      <td>industrial</td>\n      <td>1218.829</td>\n      <td>35</td>\n      <td>MULTIPOLYGON (((56.16802 57.91086, 56.16836 57...</td>\n      <td>...</td>\n      <td>1.000000</td>\n      <td>0.000000</td>\n      <td>0.000000</td>\n      <td>165426.639</td>\n      <td>0.0</td>\n      <td>3961</td>\n      <td>0</td>\n      <td>4.672042</td>\n      <td>2.437900</td>\n      <td>POLYGON ((56.14728 57.91902, 56.14727 57.91902...</td>\n    </tr>\n    <tr>\n      <th>8439</th>\n      <td>1148104875</td>\n      <td>yes</td>\n      <td>False</td>\n      <td>1</td>\n      <td>107.470</td>\n      <td>274</td>\n      <td>service</td>\n      <td>107.470</td>\n      <td>2</td>\n      <td>MULTIPOLYGON (((56.13393 57.92601, 56.13408 57...</td>\n      <td>...</td>\n      <td>0.941292</td>\n      <td>0.000000</td>\n      <td>0.058708</td>\n      <td>412150.745</td>\n      <td>0.0</td>\n      <td>10714</td>\n      <td>0</td>\n      <td>4.441204</td>\n      <td>2.392340</td>\n      <td>POLYGON ((56.12247 57.90545, 56.12245 57.90546...</td>\n    </tr>\n    <tr>\n      <th>8440</th>\n      <td>1148419580</td>\n      <td>office</td>\n      <td>False</td>\n      <td>4</td>\n      <td>624.885</td>\n      <td>276</td>\n      <td>service</td>\n      <td>2499.540</td>\n      <td>67</td>\n      <td>MULTIPOLYGON (((56.16355 57.88379, 56.16394 57...</td>\n      <td>...</td>\n      <td>0.773616</td>\n      <td>0.000000</td>\n      <td>0.226384</td>\n      <td>27505.990</td>\n      <td>0.0</td>\n      <td>614</td>\n      <td>0</td>\n      <td>4.208105</td>\n      <td>2.329820</td>\n      <td>POLYGON ((56.15566 57.88340, 56.15565 57.88341...</td>\n    </tr>\n    <tr>\n      <th>8441</th>\n      <td>1148746841</td>\n      <td>industrial</td>\n      <td>False</td>\n      <td>1</td>\n      <td>188.391</td>\n      <td>274</td>\n      <td>industrial</td>\n      <td>188.391</td>\n      <td>6</td>\n      <td>MULTIPOLYGON (((56.13846 57.90833, 56.13847 57...</td>\n      <td>...</td>\n      <td>0.941292</td>\n      <td>0.000000</td>\n      <td>0.058708</td>\n      <td>412150.745</td>\n      <td>0.0</td>\n      <td>10714</td>\n      <td>0</td>\n      <td>4.441204</td>\n      <td>2.392340</td>\n      <td>POLYGON ((56.12247 57.90545, 56.12245 57.90546...</td>\n    </tr>\n    <tr>\n      <th>8442</th>\n      <td>1149034816</td>\n      <td>industrial</td>\n      <td>False</td>\n      <td>1</td>\n      <td>516.981</td>\n      <td>275</td>\n      <td>industrial</td>\n      <td>516.981</td>\n      <td>18</td>\n      <td>MULTIPOLYGON (((56.15790 57.87906, 56.15796 57...</td>\n      <td>...</td>\n      <td>0.998556</td>\n      <td>0.000000</td>\n      <td>0.001444</td>\n      <td>206646.662</td>\n      <td>0.0</td>\n      <td>4848</td>\n      <td>0</td>\n      <td>4.152758</td>\n      <td>2.321604</td>\n      <td>POLYGON ((56.15531 57.88344, 56.15533 57.88344...</td>\n    </tr>\n  </tbody>\n</table>\n<p>8443 rows × 23 columns</p>\n</div>"
     },
     "execution_count": 26,
     "metadata": {},
     "output_type": "execute_result"
    }
   ],
   "source": [
    "businesses_zones = pd.merge(businesses, zones, left_on='block_id', right_on='id', how='left')\n",
    "businesses_zones"
   ],
   "metadata": {
    "collapsed": false,
    "ExecuteTime": {
     "end_time": "2024-01-18T12:10:57.228805400Z",
     "start_time": "2024-01-18T12:10:57.110925500Z"
    }
   },
   "id": "566ba696151bad1e"
  },
  {
   "cell_type": "code",
   "execution_count": 27,
   "outputs": [
    {
     "data": {
      "text/plain": "            id_x  block_id    industry  total_area  workers_x  \\\n0        4669322       275  industrial     694.450         41   \n1       79882759       752  industrial     214.784          9   \n2       79882837       752     service    1552.068         72   \n3       79883190       752  industrial     189.197          8   \n4       89185196       943  industrial     450.628         19   \n...          ...       ...         ...         ...        ...   \n8438  1147821565       649  industrial    1218.829         35   \n8439  1148104875       274     service     107.470          2   \n8440  1148419580       276     service    2499.540         67   \n8441  1148746841       274  industrial     188.391          6   \n8442  1149034816       275  industrial     516.981         18   \n\n                                             geometry_x     landuse  \\\n0     MULTIPOLYGON (((56.17115 57.88024, 56.17135 57...  industrial   \n1     MULTIPOLYGON (((56.34866 58.10470, 56.34892 58...  industrial   \n2     MULTIPOLYGON (((56.34712 58.08610, 56.34720 58...  industrial   \n3     MULTIPOLYGON (((56.34799 58.10467, 56.34834 58...  industrial   \n4     MULTIPOLYGON (((56.12423 58.03430, 56.12452 58...  industrial   \n...                                                 ...         ...   \n8438  MULTIPOLYGON (((56.16802 57.91086, 56.16836 57...  industrial   \n8439  MULTIPOLYGON (((56.13393 57.92601, 56.13408 57...  industrial   \n8440  MULTIPOLYGON (((56.16355 57.88379, 56.16394 57...  industrial   \n8441  MULTIPOLYGON (((56.13846 57.90833, 56.13847 57...  industrial   \n8442  MULTIPOLYGON (((56.15790 57.87906, 56.15796 57...  industrial   \n\n      industrial    retail   service  population_availability  \\\n0       0.998556  0.000000  0.001444                 4.152758   \n1       0.888674  0.046569  0.064757                 4.710778   \n2       0.888674  0.046569  0.064757                 4.710778   \n3       0.888674  0.046569  0.064757                 4.710778   \n4       0.801968  0.000000  0.198032                 4.979759   \n...          ...       ...       ...                      ...   \n8438    1.000000  0.000000  0.000000                 4.672042   \n8439    0.941292  0.000000  0.058708                 4.441204   \n8440    0.773616  0.000000  0.226384                 4.208105   \n8441    0.941292  0.000000  0.058708                 4.441204   \n8442    0.998556  0.000000  0.001444                 4.152758   \n\n      workers_availability  \n0                 2.321604  \n1                 2.383966  \n2                 2.383966  \n3                 2.383966  \n4                 2.434761  \n...                    ...  \n8438              2.437900  \n8439              2.392340  \n8440              2.329820  \n8441              2.392340  \n8442              2.321604  \n\n[8443 rows x 12 columns]",
      "text/html": "<div>\n<style scoped>\n    .dataframe tbody tr th:only-of-type {\n        vertical-align: middle;\n    }\n\n    .dataframe tbody tr th {\n        vertical-align: top;\n    }\n\n    .dataframe thead th {\n        text-align: right;\n    }\n</style>\n<table border=\"1\" class=\"dataframe\">\n  <thead>\n    <tr style=\"text-align: right;\">\n      <th></th>\n      <th>id_x</th>\n      <th>block_id</th>\n      <th>industry</th>\n      <th>total_area</th>\n      <th>workers_x</th>\n      <th>geometry_x</th>\n      <th>landuse</th>\n      <th>industrial</th>\n      <th>retail</th>\n      <th>service</th>\n      <th>population_availability</th>\n      <th>workers_availability</th>\n    </tr>\n  </thead>\n  <tbody>\n    <tr>\n      <th>0</th>\n      <td>4669322</td>\n      <td>275</td>\n      <td>industrial</td>\n      <td>694.450</td>\n      <td>41</td>\n      <td>MULTIPOLYGON (((56.17115 57.88024, 56.17135 57...</td>\n      <td>industrial</td>\n      <td>0.998556</td>\n      <td>0.000000</td>\n      <td>0.001444</td>\n      <td>4.152758</td>\n      <td>2.321604</td>\n    </tr>\n    <tr>\n      <th>1</th>\n      <td>79882759</td>\n      <td>752</td>\n      <td>industrial</td>\n      <td>214.784</td>\n      <td>9</td>\n      <td>MULTIPOLYGON (((56.34866 58.10470, 56.34892 58...</td>\n      <td>industrial</td>\n      <td>0.888674</td>\n      <td>0.046569</td>\n      <td>0.064757</td>\n      <td>4.710778</td>\n      <td>2.383966</td>\n    </tr>\n    <tr>\n      <th>2</th>\n      <td>79882837</td>\n      <td>752</td>\n      <td>service</td>\n      <td>1552.068</td>\n      <td>72</td>\n      <td>MULTIPOLYGON (((56.34712 58.08610, 56.34720 58...</td>\n      <td>industrial</td>\n      <td>0.888674</td>\n      <td>0.046569</td>\n      <td>0.064757</td>\n      <td>4.710778</td>\n      <td>2.383966</td>\n    </tr>\n    <tr>\n      <th>3</th>\n      <td>79883190</td>\n      <td>752</td>\n      <td>industrial</td>\n      <td>189.197</td>\n      <td>8</td>\n      <td>MULTIPOLYGON (((56.34799 58.10467, 56.34834 58...</td>\n      <td>industrial</td>\n      <td>0.888674</td>\n      <td>0.046569</td>\n      <td>0.064757</td>\n      <td>4.710778</td>\n      <td>2.383966</td>\n    </tr>\n    <tr>\n      <th>4</th>\n      <td>89185196</td>\n      <td>943</td>\n      <td>industrial</td>\n      <td>450.628</td>\n      <td>19</td>\n      <td>MULTIPOLYGON (((56.12423 58.03430, 56.12452 58...</td>\n      <td>industrial</td>\n      <td>0.801968</td>\n      <td>0.000000</td>\n      <td>0.198032</td>\n      <td>4.979759</td>\n      <td>2.434761</td>\n    </tr>\n    <tr>\n      <th>...</th>\n      <td>...</td>\n      <td>...</td>\n      <td>...</td>\n      <td>...</td>\n      <td>...</td>\n      <td>...</td>\n      <td>...</td>\n      <td>...</td>\n      <td>...</td>\n      <td>...</td>\n      <td>...</td>\n      <td>...</td>\n    </tr>\n    <tr>\n      <th>8438</th>\n      <td>1147821565</td>\n      <td>649</td>\n      <td>industrial</td>\n      <td>1218.829</td>\n      <td>35</td>\n      <td>MULTIPOLYGON (((56.16802 57.91086, 56.16836 57...</td>\n      <td>industrial</td>\n      <td>1.000000</td>\n      <td>0.000000</td>\n      <td>0.000000</td>\n      <td>4.672042</td>\n      <td>2.437900</td>\n    </tr>\n    <tr>\n      <th>8439</th>\n      <td>1148104875</td>\n      <td>274</td>\n      <td>service</td>\n      <td>107.470</td>\n      <td>2</td>\n      <td>MULTIPOLYGON (((56.13393 57.92601, 56.13408 57...</td>\n      <td>industrial</td>\n      <td>0.941292</td>\n      <td>0.000000</td>\n      <td>0.058708</td>\n      <td>4.441204</td>\n      <td>2.392340</td>\n    </tr>\n    <tr>\n      <th>8440</th>\n      <td>1148419580</td>\n      <td>276</td>\n      <td>service</td>\n      <td>2499.540</td>\n      <td>67</td>\n      <td>MULTIPOLYGON (((56.16355 57.88379, 56.16394 57...</td>\n      <td>industrial</td>\n      <td>0.773616</td>\n      <td>0.000000</td>\n      <td>0.226384</td>\n      <td>4.208105</td>\n      <td>2.329820</td>\n    </tr>\n    <tr>\n      <th>8441</th>\n      <td>1148746841</td>\n      <td>274</td>\n      <td>industrial</td>\n      <td>188.391</td>\n      <td>6</td>\n      <td>MULTIPOLYGON (((56.13846 57.90833, 56.13847 57...</td>\n      <td>industrial</td>\n      <td>0.941292</td>\n      <td>0.000000</td>\n      <td>0.058708</td>\n      <td>4.441204</td>\n      <td>2.392340</td>\n    </tr>\n    <tr>\n      <th>8442</th>\n      <td>1149034816</td>\n      <td>275</td>\n      <td>industrial</td>\n      <td>516.981</td>\n      <td>18</td>\n      <td>MULTIPOLYGON (((56.15790 57.87906, 56.15796 57...</td>\n      <td>industrial</td>\n      <td>0.998556</td>\n      <td>0.000000</td>\n      <td>0.001444</td>\n      <td>4.152758</td>\n      <td>2.321604</td>\n    </tr>\n  </tbody>\n</table>\n<p>8443 rows × 12 columns</p>\n</div>"
     },
     "execution_count": 27,
     "metadata": {},
     "output_type": "execute_result"
    }
   ],
   "source": [
    "businesses_zones = businesses_zones[\n",
    "    ['id_x', 'block_id', 'industry', 'total_area', 'workers_x', 'geometry_x', 'landuse', 'industrial', 'retail',\n",
    "     'service', 'population_availability', 'workers_availability']]\n",
    "businesses_zones"
   ],
   "metadata": {
    "collapsed": false,
    "ExecuteTime": {
     "end_time": "2024-01-18T12:11:00.515643300Z",
     "start_time": "2024-01-18T12:11:00.459721600Z"
    }
   },
   "id": "3f715faa3ff007cc"
  },
  {
   "cell_type": "code",
   "execution_count": 28,
   "outputs": [
    {
     "data": {
      "text/plain": "              id  block_id    industry  total_area  workers  \\\n0        4669322       275  industrial     694.450       41   \n1       79882759       752  industrial     214.784        9   \n2       79882837       752     service    1552.068       72   \n3       79883190       752  industrial     189.197        8   \n4       89185196       943  industrial     450.628       19   \n...          ...       ...         ...         ...      ...   \n8438  1147821565       649  industrial    1218.829       35   \n8439  1148104875       274     service     107.470        2   \n8440  1148419580       276     service    2499.540       67   \n8441  1148746841       274  industrial     188.391        6   \n8442  1149034816       275  industrial     516.981       18   \n\n                                               geometry     landuse  \\\n0     MULTIPOLYGON (((56.17115 57.88024, 56.17135 57...  industrial   \n1     MULTIPOLYGON (((56.34866 58.10470, 56.34892 58...  industrial   \n2     MULTIPOLYGON (((56.34712 58.08610, 56.34720 58...  industrial   \n3     MULTIPOLYGON (((56.34799 58.10467, 56.34834 58...  industrial   \n4     MULTIPOLYGON (((56.12423 58.03430, 56.12452 58...  industrial   \n...                                                 ...         ...   \n8438  MULTIPOLYGON (((56.16802 57.91086, 56.16836 57...  industrial   \n8439  MULTIPOLYGON (((56.13393 57.92601, 56.13408 57...  industrial   \n8440  MULTIPOLYGON (((56.16355 57.88379, 56.16394 57...  industrial   \n8441  MULTIPOLYGON (((56.13846 57.90833, 56.13847 57...  industrial   \n8442  MULTIPOLYGON (((56.15790 57.87906, 56.15796 57...  industrial   \n\n      industrial    retail   service  population_availability  \\\n0       0.998556  0.000000  0.001444                 4.152758   \n1       0.888674  0.046569  0.064757                 4.710778   \n2       0.888674  0.046569  0.064757                 4.710778   \n3       0.888674  0.046569  0.064757                 4.710778   \n4       0.801968  0.000000  0.198032                 4.979759   \n...          ...       ...       ...                      ...   \n8438    1.000000  0.000000  0.000000                 4.672042   \n8439    0.941292  0.000000  0.058708                 4.441204   \n8440    0.773616  0.000000  0.226384                 4.208105   \n8441    0.941292  0.000000  0.058708                 4.441204   \n8442    0.998556  0.000000  0.001444                 4.152758   \n\n      workers_availability  \n0                 2.321604  \n1                 2.383966  \n2                 2.383966  \n3                 2.383966  \n4                 2.434761  \n...                    ...  \n8438              2.437900  \n8439              2.392340  \n8440              2.329820  \n8441              2.392340  \n8442              2.321604  \n\n[8443 rows x 12 columns]",
      "text/html": "<div>\n<style scoped>\n    .dataframe tbody tr th:only-of-type {\n        vertical-align: middle;\n    }\n\n    .dataframe tbody tr th {\n        vertical-align: top;\n    }\n\n    .dataframe thead th {\n        text-align: right;\n    }\n</style>\n<table border=\"1\" class=\"dataframe\">\n  <thead>\n    <tr style=\"text-align: right;\">\n      <th></th>\n      <th>id</th>\n      <th>block_id</th>\n      <th>industry</th>\n      <th>total_area</th>\n      <th>workers</th>\n      <th>geometry</th>\n      <th>landuse</th>\n      <th>industrial</th>\n      <th>retail</th>\n      <th>service</th>\n      <th>population_availability</th>\n      <th>workers_availability</th>\n    </tr>\n  </thead>\n  <tbody>\n    <tr>\n      <th>0</th>\n      <td>4669322</td>\n      <td>275</td>\n      <td>industrial</td>\n      <td>694.450</td>\n      <td>41</td>\n      <td>MULTIPOLYGON (((56.17115 57.88024, 56.17135 57...</td>\n      <td>industrial</td>\n      <td>0.998556</td>\n      <td>0.000000</td>\n      <td>0.001444</td>\n      <td>4.152758</td>\n      <td>2.321604</td>\n    </tr>\n    <tr>\n      <th>1</th>\n      <td>79882759</td>\n      <td>752</td>\n      <td>industrial</td>\n      <td>214.784</td>\n      <td>9</td>\n      <td>MULTIPOLYGON (((56.34866 58.10470, 56.34892 58...</td>\n      <td>industrial</td>\n      <td>0.888674</td>\n      <td>0.046569</td>\n      <td>0.064757</td>\n      <td>4.710778</td>\n      <td>2.383966</td>\n    </tr>\n    <tr>\n      <th>2</th>\n      <td>79882837</td>\n      <td>752</td>\n      <td>service</td>\n      <td>1552.068</td>\n      <td>72</td>\n      <td>MULTIPOLYGON (((56.34712 58.08610, 56.34720 58...</td>\n      <td>industrial</td>\n      <td>0.888674</td>\n      <td>0.046569</td>\n      <td>0.064757</td>\n      <td>4.710778</td>\n      <td>2.383966</td>\n    </tr>\n    <tr>\n      <th>3</th>\n      <td>79883190</td>\n      <td>752</td>\n      <td>industrial</td>\n      <td>189.197</td>\n      <td>8</td>\n      <td>MULTIPOLYGON (((56.34799 58.10467, 56.34834 58...</td>\n      <td>industrial</td>\n      <td>0.888674</td>\n      <td>0.046569</td>\n      <td>0.064757</td>\n      <td>4.710778</td>\n      <td>2.383966</td>\n    </tr>\n    <tr>\n      <th>4</th>\n      <td>89185196</td>\n      <td>943</td>\n      <td>industrial</td>\n      <td>450.628</td>\n      <td>19</td>\n      <td>MULTIPOLYGON (((56.12423 58.03430, 56.12452 58...</td>\n      <td>industrial</td>\n      <td>0.801968</td>\n      <td>0.000000</td>\n      <td>0.198032</td>\n      <td>4.979759</td>\n      <td>2.434761</td>\n    </tr>\n    <tr>\n      <th>...</th>\n      <td>...</td>\n      <td>...</td>\n      <td>...</td>\n      <td>...</td>\n      <td>...</td>\n      <td>...</td>\n      <td>...</td>\n      <td>...</td>\n      <td>...</td>\n      <td>...</td>\n      <td>...</td>\n      <td>...</td>\n    </tr>\n    <tr>\n      <th>8438</th>\n      <td>1147821565</td>\n      <td>649</td>\n      <td>industrial</td>\n      <td>1218.829</td>\n      <td>35</td>\n      <td>MULTIPOLYGON (((56.16802 57.91086, 56.16836 57...</td>\n      <td>industrial</td>\n      <td>1.000000</td>\n      <td>0.000000</td>\n      <td>0.000000</td>\n      <td>4.672042</td>\n      <td>2.437900</td>\n    </tr>\n    <tr>\n      <th>8439</th>\n      <td>1148104875</td>\n      <td>274</td>\n      <td>service</td>\n      <td>107.470</td>\n      <td>2</td>\n      <td>MULTIPOLYGON (((56.13393 57.92601, 56.13408 57...</td>\n      <td>industrial</td>\n      <td>0.941292</td>\n      <td>0.000000</td>\n      <td>0.058708</td>\n      <td>4.441204</td>\n      <td>2.392340</td>\n    </tr>\n    <tr>\n      <th>8440</th>\n      <td>1148419580</td>\n      <td>276</td>\n      <td>service</td>\n      <td>2499.540</td>\n      <td>67</td>\n      <td>MULTIPOLYGON (((56.16355 57.88379, 56.16394 57...</td>\n      <td>industrial</td>\n      <td>0.773616</td>\n      <td>0.000000</td>\n      <td>0.226384</td>\n      <td>4.208105</td>\n      <td>2.329820</td>\n    </tr>\n    <tr>\n      <th>8441</th>\n      <td>1148746841</td>\n      <td>274</td>\n      <td>industrial</td>\n      <td>188.391</td>\n      <td>6</td>\n      <td>MULTIPOLYGON (((56.13846 57.90833, 56.13847 57...</td>\n      <td>industrial</td>\n      <td>0.941292</td>\n      <td>0.000000</td>\n      <td>0.058708</td>\n      <td>4.441204</td>\n      <td>2.392340</td>\n    </tr>\n    <tr>\n      <th>8442</th>\n      <td>1149034816</td>\n      <td>275</td>\n      <td>industrial</td>\n      <td>516.981</td>\n      <td>18</td>\n      <td>MULTIPOLYGON (((56.15790 57.87906, 56.15796 57...</td>\n      <td>industrial</td>\n      <td>0.998556</td>\n      <td>0.000000</td>\n      <td>0.001444</td>\n      <td>4.152758</td>\n      <td>2.321604</td>\n    </tr>\n  </tbody>\n</table>\n<p>8443 rows × 12 columns</p>\n</div>"
     },
     "execution_count": 28,
     "metadata": {},
     "output_type": "execute_result"
    }
   ],
   "source": [
    "businesses_zones = businesses_zones.rename(columns={'id_x': 'id'})\n",
    "businesses_zones = businesses_zones.rename(columns={'workers_x': 'workers'})\n",
    "businesses_zones = businesses_zones.rename(columns={'geometry_x': 'geometry'})\n",
    "businesses_zones"
   ],
   "metadata": {
    "collapsed": false,
    "ExecuteTime": {
     "end_time": "2024-01-18T12:11:04.033969100Z",
     "start_time": "2024-01-18T12:11:03.955428500Z"
    }
   },
   "id": "7770af82ee54cb8d"
  },
  {
   "cell_type": "code",
   "execution_count": 29,
   "outputs": [
    {
     "data": {
      "text/plain": "              id  block_id    industry  total_area  workers  \\\n0        4669322       275  industrial     694.450       41   \n1       79882759       752  industrial     214.784        9   \n2       79882837       752     service    1552.068       72   \n3       79883190       752  industrial     189.197        8   \n4       89185196       943  industrial     450.628       19   \n...          ...       ...         ...         ...      ...   \n8438  1147821565       649  industrial    1218.829       35   \n8439  1148104875       274     service     107.470        2   \n8440  1148419580       276     service    2499.540       67   \n8441  1148746841       274  industrial     188.391        6   \n8442  1149034816       275  industrial     516.981       18   \n\n                                               geometry     landuse  \\\n0     MULTIPOLYGON (((56.17115 57.88024, 56.17135 57...  industrial   \n1     MULTIPOLYGON (((56.34866 58.10470, 56.34892 58...  industrial   \n2     MULTIPOLYGON (((56.34712 58.08610, 56.34720 58...  industrial   \n3     MULTIPOLYGON (((56.34799 58.10467, 56.34834 58...  industrial   \n4     MULTIPOLYGON (((56.12423 58.03430, 56.12452 58...  industrial   \n...                                                 ...         ...   \n8438  MULTIPOLYGON (((56.16802 57.91086, 56.16836 57...  industrial   \n8439  MULTIPOLYGON (((56.13393 57.92601, 56.13408 57...  industrial   \n8440  MULTIPOLYGON (((56.16355 57.88379, 56.16394 57...  industrial   \n8441  MULTIPOLYGON (((56.13846 57.90833, 56.13847 57...  industrial   \n8442  MULTIPOLYGON (((56.15790 57.87906, 56.15796 57...  industrial   \n\n      industrial    retail   service  population_availability  \\\n0       0.998556  0.000000  0.001444                 4.152758   \n1       0.888674  0.046569  0.064757                 4.710778   \n2       0.888674  0.046569  0.064757                 4.710778   \n3       0.888674  0.046569  0.064757                 4.710778   \n4       0.801968  0.000000  0.198032                 4.979759   \n...          ...       ...       ...                      ...   \n8438    1.000000  0.000000  0.000000                 4.672042   \n8439    0.941292  0.000000  0.058708                 4.441204   \n8440    0.773616  0.000000  0.226384                 4.208105   \n8441    0.941292  0.000000  0.058708                 4.441204   \n8442    0.998556  0.000000  0.001444                 4.152758   \n\n      workers_availability  employment_share  \n0                 2.321604          0.998556  \n1                 2.383966          0.888674  \n2                 2.383966          0.064757  \n3                 2.383966          0.888674  \n4                 2.434761          0.801968  \n...                    ...               ...  \n8438              2.437900          1.000000  \n8439              2.392340          0.058708  \n8440              2.329820          0.226384  \n8441              2.392340          0.941292  \n8442              2.321604          0.998556  \n\n[8443 rows x 13 columns]",
      "text/html": "<div>\n<style scoped>\n    .dataframe tbody tr th:only-of-type {\n        vertical-align: middle;\n    }\n\n    .dataframe tbody tr th {\n        vertical-align: top;\n    }\n\n    .dataframe thead th {\n        text-align: right;\n    }\n</style>\n<table border=\"1\" class=\"dataframe\">\n  <thead>\n    <tr style=\"text-align: right;\">\n      <th></th>\n      <th>id</th>\n      <th>block_id</th>\n      <th>industry</th>\n      <th>total_area</th>\n      <th>workers</th>\n      <th>geometry</th>\n      <th>landuse</th>\n      <th>industrial</th>\n      <th>retail</th>\n      <th>service</th>\n      <th>population_availability</th>\n      <th>workers_availability</th>\n      <th>employment_share</th>\n    </tr>\n  </thead>\n  <tbody>\n    <tr>\n      <th>0</th>\n      <td>4669322</td>\n      <td>275</td>\n      <td>industrial</td>\n      <td>694.450</td>\n      <td>41</td>\n      <td>MULTIPOLYGON (((56.17115 57.88024, 56.17135 57...</td>\n      <td>industrial</td>\n      <td>0.998556</td>\n      <td>0.000000</td>\n      <td>0.001444</td>\n      <td>4.152758</td>\n      <td>2.321604</td>\n      <td>0.998556</td>\n    </tr>\n    <tr>\n      <th>1</th>\n      <td>79882759</td>\n      <td>752</td>\n      <td>industrial</td>\n      <td>214.784</td>\n      <td>9</td>\n      <td>MULTIPOLYGON (((56.34866 58.10470, 56.34892 58...</td>\n      <td>industrial</td>\n      <td>0.888674</td>\n      <td>0.046569</td>\n      <td>0.064757</td>\n      <td>4.710778</td>\n      <td>2.383966</td>\n      <td>0.888674</td>\n    </tr>\n    <tr>\n      <th>2</th>\n      <td>79882837</td>\n      <td>752</td>\n      <td>service</td>\n      <td>1552.068</td>\n      <td>72</td>\n      <td>MULTIPOLYGON (((56.34712 58.08610, 56.34720 58...</td>\n      <td>industrial</td>\n      <td>0.888674</td>\n      <td>0.046569</td>\n      <td>0.064757</td>\n      <td>4.710778</td>\n      <td>2.383966</td>\n      <td>0.064757</td>\n    </tr>\n    <tr>\n      <th>3</th>\n      <td>79883190</td>\n      <td>752</td>\n      <td>industrial</td>\n      <td>189.197</td>\n      <td>8</td>\n      <td>MULTIPOLYGON (((56.34799 58.10467, 56.34834 58...</td>\n      <td>industrial</td>\n      <td>0.888674</td>\n      <td>0.046569</td>\n      <td>0.064757</td>\n      <td>4.710778</td>\n      <td>2.383966</td>\n      <td>0.888674</td>\n    </tr>\n    <tr>\n      <th>4</th>\n      <td>89185196</td>\n      <td>943</td>\n      <td>industrial</td>\n      <td>450.628</td>\n      <td>19</td>\n      <td>MULTIPOLYGON (((56.12423 58.03430, 56.12452 58...</td>\n      <td>industrial</td>\n      <td>0.801968</td>\n      <td>0.000000</td>\n      <td>0.198032</td>\n      <td>4.979759</td>\n      <td>2.434761</td>\n      <td>0.801968</td>\n    </tr>\n    <tr>\n      <th>...</th>\n      <td>...</td>\n      <td>...</td>\n      <td>...</td>\n      <td>...</td>\n      <td>...</td>\n      <td>...</td>\n      <td>...</td>\n      <td>...</td>\n      <td>...</td>\n      <td>...</td>\n      <td>...</td>\n      <td>...</td>\n      <td>...</td>\n    </tr>\n    <tr>\n      <th>8438</th>\n      <td>1147821565</td>\n      <td>649</td>\n      <td>industrial</td>\n      <td>1218.829</td>\n      <td>35</td>\n      <td>MULTIPOLYGON (((56.16802 57.91086, 56.16836 57...</td>\n      <td>industrial</td>\n      <td>1.000000</td>\n      <td>0.000000</td>\n      <td>0.000000</td>\n      <td>4.672042</td>\n      <td>2.437900</td>\n      <td>1.000000</td>\n    </tr>\n    <tr>\n      <th>8439</th>\n      <td>1148104875</td>\n      <td>274</td>\n      <td>service</td>\n      <td>107.470</td>\n      <td>2</td>\n      <td>MULTIPOLYGON (((56.13393 57.92601, 56.13408 57...</td>\n      <td>industrial</td>\n      <td>0.941292</td>\n      <td>0.000000</td>\n      <td>0.058708</td>\n      <td>4.441204</td>\n      <td>2.392340</td>\n      <td>0.058708</td>\n    </tr>\n    <tr>\n      <th>8440</th>\n      <td>1148419580</td>\n      <td>276</td>\n      <td>service</td>\n      <td>2499.540</td>\n      <td>67</td>\n      <td>MULTIPOLYGON (((56.16355 57.88379, 56.16394 57...</td>\n      <td>industrial</td>\n      <td>0.773616</td>\n      <td>0.000000</td>\n      <td>0.226384</td>\n      <td>4.208105</td>\n      <td>2.329820</td>\n      <td>0.226384</td>\n    </tr>\n    <tr>\n      <th>8441</th>\n      <td>1148746841</td>\n      <td>274</td>\n      <td>industrial</td>\n      <td>188.391</td>\n      <td>6</td>\n      <td>MULTIPOLYGON (((56.13846 57.90833, 56.13847 57...</td>\n      <td>industrial</td>\n      <td>0.941292</td>\n      <td>0.000000</td>\n      <td>0.058708</td>\n      <td>4.441204</td>\n      <td>2.392340</td>\n      <td>0.941292</td>\n    </tr>\n    <tr>\n      <th>8442</th>\n      <td>1149034816</td>\n      <td>275</td>\n      <td>industrial</td>\n      <td>516.981</td>\n      <td>18</td>\n      <td>MULTIPOLYGON (((56.15790 57.87906, 56.15796 57...</td>\n      <td>industrial</td>\n      <td>0.998556</td>\n      <td>0.000000</td>\n      <td>0.001444</td>\n      <td>4.152758</td>\n      <td>2.321604</td>\n      <td>0.998556</td>\n    </tr>\n  </tbody>\n</table>\n<p>8443 rows × 13 columns</p>\n</div>"
     },
     "execution_count": 29,
     "metadata": {},
     "output_type": "execute_result"
    }
   ],
   "source": [
    "businesses_zones['employment_share'] = 0.0  # Инициализируем нулями\n",
    "\n",
    "# Определяем условия для присвоения значений\n",
    "conditions = [\n",
    "    (businesses_zones['industry'] == 'industrial'),\n",
    "    (businesses_zones['industry'] == 'retail'),\n",
    "    (businesses_zones['industry'] == 'service')\n",
    "]\n",
    "\n",
    "# Значения для присвоения в соответствии с условиями\n",
    "values = [\n",
    "    businesses_zones['industrial'],\n",
    "    businesses_zones['retail'],\n",
    "    businesses_zones['service']\n",
    "]\n",
    "\n",
    "businesses_zones['employment_share'] = np.select(conditions, values, default=0.0)\n",
    "businesses_zones"
   ],
   "metadata": {
    "collapsed": false,
    "ExecuteTime": {
     "end_time": "2024-01-18T12:11:08.232148Z",
     "start_time": "2024-01-18T12:11:08.184224700Z"
    }
   },
   "id": "b7f8c85c3e6590c0"
  },
  {
   "cell_type": "code",
   "execution_count": 30,
   "outputs": [
    {
     "data": {
      "text/plain": "              id  block_id    industry  total_area  workers  \\\n0        4669322       275  industrial     694.450       41   \n1       79882759       752  industrial     214.784        9   \n2       79882837       752     service    1552.068       72   \n3       79883190       752  industrial     189.197        8   \n4       89185196       943  industrial     450.628       19   \n...          ...       ...         ...         ...      ...   \n8438  1147821565       649  industrial    1218.829       35   \n8439  1148104875       274     service     107.470        2   \n8440  1148419580       276     service    2499.540       67   \n8441  1148746841       274  industrial     188.391        6   \n8442  1149034816       275  industrial     516.981       18   \n\n                                               geometry     landuse  \\\n0     MULTIPOLYGON (((56.17115 57.88024, 56.17135 57...  industrial   \n1     MULTIPOLYGON (((56.34866 58.10470, 56.34892 58...  industrial   \n2     MULTIPOLYGON (((56.34712 58.08610, 56.34720 58...  industrial   \n3     MULTIPOLYGON (((56.34799 58.10467, 56.34834 58...  industrial   \n4     MULTIPOLYGON (((56.12423 58.03430, 56.12452 58...  industrial   \n...                                                 ...         ...   \n8438  MULTIPOLYGON (((56.16802 57.91086, 56.16836 57...  industrial   \n8439  MULTIPOLYGON (((56.13393 57.92601, 56.13408 57...  industrial   \n8440  MULTIPOLYGON (((56.16355 57.88379, 56.16394 57...  industrial   \n8441  MULTIPOLYGON (((56.13846 57.90833, 56.13847 57...  industrial   \n8442  MULTIPOLYGON (((56.15790 57.87906, 56.15796 57...  industrial   \n\n      industrial    retail   service  population_availability  \\\n0       0.998556  0.000000  0.001444                 4.152758   \n1       0.888674  0.046569  0.064757                 4.710778   \n2       0.888674  0.046569  0.064757                 4.710778   \n3       0.888674  0.046569  0.064757                 4.710778   \n4       0.801968  0.000000  0.198032                 4.979759   \n...          ...       ...       ...                      ...   \n8438    1.000000  0.000000  0.000000                 4.672042   \n8439    0.941292  0.000000  0.058708                 4.441204   \n8440    0.773616  0.000000  0.226384                 4.208105   \n8441    0.941292  0.000000  0.058708                 4.441204   \n8442    0.998556  0.000000  0.001444                 4.152758   \n\n      workers_availability  employment_share  tours  \n0                 2.321604          0.998556    NaN  \n1                 2.383966          0.888674    NaN  \n2                 2.383966          0.064757    NaN  \n3                 2.383966          0.888674    NaN  \n4                 2.434761          0.801968    NaN  \n...                    ...               ...    ...  \n8438              2.437900          1.000000    NaN  \n8439              2.392340          0.058708    NaN  \n8440              2.329820          0.226384    NaN  \n8441              2.392340          0.941292    NaN  \n8442              2.321604          0.998556    NaN  \n\n[8443 rows x 14 columns]",
      "text/html": "<div>\n<style scoped>\n    .dataframe tbody tr th:only-of-type {\n        vertical-align: middle;\n    }\n\n    .dataframe tbody tr th {\n        vertical-align: top;\n    }\n\n    .dataframe thead th {\n        text-align: right;\n    }\n</style>\n<table border=\"1\" class=\"dataframe\">\n  <thead>\n    <tr style=\"text-align: right;\">\n      <th></th>\n      <th>id</th>\n      <th>block_id</th>\n      <th>industry</th>\n      <th>total_area</th>\n      <th>workers</th>\n      <th>geometry</th>\n      <th>landuse</th>\n      <th>industrial</th>\n      <th>retail</th>\n      <th>service</th>\n      <th>population_availability</th>\n      <th>workers_availability</th>\n      <th>employment_share</th>\n      <th>tours</th>\n    </tr>\n  </thead>\n  <tbody>\n    <tr>\n      <th>0</th>\n      <td>4669322</td>\n      <td>275</td>\n      <td>industrial</td>\n      <td>694.450</td>\n      <td>41</td>\n      <td>MULTIPOLYGON (((56.17115 57.88024, 56.17135 57...</td>\n      <td>industrial</td>\n      <td>0.998556</td>\n      <td>0.000000</td>\n      <td>0.001444</td>\n      <td>4.152758</td>\n      <td>2.321604</td>\n      <td>0.998556</td>\n      <td>NaN</td>\n    </tr>\n    <tr>\n      <th>1</th>\n      <td>79882759</td>\n      <td>752</td>\n      <td>industrial</td>\n      <td>214.784</td>\n      <td>9</td>\n      <td>MULTIPOLYGON (((56.34866 58.10470, 56.34892 58...</td>\n      <td>industrial</td>\n      <td>0.888674</td>\n      <td>0.046569</td>\n      <td>0.064757</td>\n      <td>4.710778</td>\n      <td>2.383966</td>\n      <td>0.888674</td>\n      <td>NaN</td>\n    </tr>\n    <tr>\n      <th>2</th>\n      <td>79882837</td>\n      <td>752</td>\n      <td>service</td>\n      <td>1552.068</td>\n      <td>72</td>\n      <td>MULTIPOLYGON (((56.34712 58.08610, 56.34720 58...</td>\n      <td>industrial</td>\n      <td>0.888674</td>\n      <td>0.046569</td>\n      <td>0.064757</td>\n      <td>4.710778</td>\n      <td>2.383966</td>\n      <td>0.064757</td>\n      <td>NaN</td>\n    </tr>\n    <tr>\n      <th>3</th>\n      <td>79883190</td>\n      <td>752</td>\n      <td>industrial</td>\n      <td>189.197</td>\n      <td>8</td>\n      <td>MULTIPOLYGON (((56.34799 58.10467, 56.34834 58...</td>\n      <td>industrial</td>\n      <td>0.888674</td>\n      <td>0.046569</td>\n      <td>0.064757</td>\n      <td>4.710778</td>\n      <td>2.383966</td>\n      <td>0.888674</td>\n      <td>NaN</td>\n    </tr>\n    <tr>\n      <th>4</th>\n      <td>89185196</td>\n      <td>943</td>\n      <td>industrial</td>\n      <td>450.628</td>\n      <td>19</td>\n      <td>MULTIPOLYGON (((56.12423 58.03430, 56.12452 58...</td>\n      <td>industrial</td>\n      <td>0.801968</td>\n      <td>0.000000</td>\n      <td>0.198032</td>\n      <td>4.979759</td>\n      <td>2.434761</td>\n      <td>0.801968</td>\n      <td>NaN</td>\n    </tr>\n    <tr>\n      <th>...</th>\n      <td>...</td>\n      <td>...</td>\n      <td>...</td>\n      <td>...</td>\n      <td>...</td>\n      <td>...</td>\n      <td>...</td>\n      <td>...</td>\n      <td>...</td>\n      <td>...</td>\n      <td>...</td>\n      <td>...</td>\n      <td>...</td>\n      <td>...</td>\n    </tr>\n    <tr>\n      <th>8438</th>\n      <td>1147821565</td>\n      <td>649</td>\n      <td>industrial</td>\n      <td>1218.829</td>\n      <td>35</td>\n      <td>MULTIPOLYGON (((56.16802 57.91086, 56.16836 57...</td>\n      <td>industrial</td>\n      <td>1.000000</td>\n      <td>0.000000</td>\n      <td>0.000000</td>\n      <td>4.672042</td>\n      <td>2.437900</td>\n      <td>1.000000</td>\n      <td>NaN</td>\n    </tr>\n    <tr>\n      <th>8439</th>\n      <td>1148104875</td>\n      <td>274</td>\n      <td>service</td>\n      <td>107.470</td>\n      <td>2</td>\n      <td>MULTIPOLYGON (((56.13393 57.92601, 56.13408 57...</td>\n      <td>industrial</td>\n      <td>0.941292</td>\n      <td>0.000000</td>\n      <td>0.058708</td>\n      <td>4.441204</td>\n      <td>2.392340</td>\n      <td>0.058708</td>\n      <td>NaN</td>\n    </tr>\n    <tr>\n      <th>8440</th>\n      <td>1148419580</td>\n      <td>276</td>\n      <td>service</td>\n      <td>2499.540</td>\n      <td>67</td>\n      <td>MULTIPOLYGON (((56.16355 57.88379, 56.16394 57...</td>\n      <td>industrial</td>\n      <td>0.773616</td>\n      <td>0.000000</td>\n      <td>0.226384</td>\n      <td>4.208105</td>\n      <td>2.329820</td>\n      <td>0.226384</td>\n      <td>NaN</td>\n    </tr>\n    <tr>\n      <th>8441</th>\n      <td>1148746841</td>\n      <td>274</td>\n      <td>industrial</td>\n      <td>188.391</td>\n      <td>6</td>\n      <td>MULTIPOLYGON (((56.13846 57.90833, 56.13847 57...</td>\n      <td>industrial</td>\n      <td>0.941292</td>\n      <td>0.000000</td>\n      <td>0.058708</td>\n      <td>4.441204</td>\n      <td>2.392340</td>\n      <td>0.941292</td>\n      <td>NaN</td>\n    </tr>\n    <tr>\n      <th>8442</th>\n      <td>1149034816</td>\n      <td>275</td>\n      <td>industrial</td>\n      <td>516.981</td>\n      <td>18</td>\n      <td>MULTIPOLYGON (((56.15790 57.87906, 56.15796 57...</td>\n      <td>industrial</td>\n      <td>0.998556</td>\n      <td>0.000000</td>\n      <td>0.001444</td>\n      <td>4.152758</td>\n      <td>2.321604</td>\n      <td>0.998556</td>\n      <td>NaN</td>\n    </tr>\n  </tbody>\n</table>\n<p>8443 rows × 14 columns</p>\n</div>"
     },
     "execution_count": 30,
     "metadata": {},
     "output_type": "execute_result"
    }
   ],
   "source": [
    "businesses_tour_numbers = businesses_zones\n",
    "businesses_tour_numbers['tours'] = np.nan\n",
    "\n",
    "# Выбираем случайные предприятия с учетом их доли занятости\n",
    "total_employment = businesses_zones['workers'].sum()\n",
    "target_employment = 0.1 * total_employment\n",
    "\n",
    "# Выбираем случайные предприятия\n",
    "selected_enterprises = businesses_zones.sample(frac=target_employment / total_employment)\n",
    "\n",
    "# Задаем диапазоны для генерации общего количества туров в зависимости от индустрии\n",
    "ranges = {\n",
    "    'retail': (0.1, 0.16),\n",
    "    'industrial': (0.03, 0.05),\n",
    "    'service': (0.01, 0.03)\n",
    "}\n",
    "\n",
    "# Генерируем общее количество туров для каждого выбранного предприятия\n",
    "for index, enterprise in selected_enterprises.iterrows():\n",
    "    industry = enterprise['industry']\n",
    "    range_min, range_max = ranges[industry]\n",
    "\n",
    "    # Генерируем случайное количество туров\n",
    "    tours = np.random.uniform(range_min, range_max) * enterprise['workers']\n",
    "\n",
    "    businesses_tour_numbers.at[index, 'tours'] = int(tours)\n",
    "\n",
    "businesses_tour_numbers"
   ],
   "metadata": {
    "collapsed": false,
    "ExecuteTime": {
     "end_time": "2024-01-18T12:11:17.165092400Z",
     "start_time": "2024-01-18T12:11:17.023565200Z"
    }
   },
   "id": "b335cd07f6618fe9"
  },
  {
   "cell_type": "code",
   "execution_count": 31,
   "outputs": [],
   "source": [
    "businesses_tour_numbers.replace(0, np.nan, inplace=True)"
   ],
   "metadata": {
    "collapsed": false,
    "ExecuteTime": {
     "end_time": "2024-01-18T12:11:46.847864400Z",
     "start_time": "2024-01-18T12:11:46.753527200Z"
    }
   },
   "id": "337316629995fa41"
  },
  {
   "cell_type": "code",
   "execution_count": 32,
   "outputs": [
    {
     "data": {
      "text/plain": "1565.0"
     },
     "execution_count": 32,
     "metadata": {},
     "output_type": "execute_result"
    }
   ],
   "source": [
    "businesses_tour_numbers['tours'].sum()"
   ],
   "metadata": {
    "collapsed": false,
    "ExecuteTime": {
     "end_time": "2024-01-18T12:11:49.866355Z",
     "start_time": "2024-01-18T12:11:49.803412400Z"
    }
   },
   "id": "80f92dbea737ba7c"
  },
  {
   "cell_type": "code",
   "execution_count": 33,
   "outputs": [
    {
     "data": {
      "text/plain": "              id  block_id    industry  total_area  workers  \\\n0        4669322       275  industrial     694.450       41   \n1       79882759       752  industrial     214.784        9   \n2       79882837       752     service    1552.068       72   \n3       79883190       752  industrial     189.197        8   \n4       89185196       943  industrial     450.628       19   \n...          ...       ...         ...         ...      ...   \n8438  1147821565       649  industrial    1218.829       35   \n8439  1148104875       274     service     107.470        2   \n8440  1148419580       276     service    2499.540       67   \n8441  1148746841       274  industrial     188.391        6   \n8442  1149034816       275  industrial     516.981       18   \n\n                                               geometry     landuse  \\\n0     MULTIPOLYGON (((56.17115 57.88024, 56.17135 57...  industrial   \n1     MULTIPOLYGON (((56.34866 58.10470, 56.34892 58...  industrial   \n2     MULTIPOLYGON (((56.34712 58.08610, 56.34720 58...  industrial   \n3     MULTIPOLYGON (((56.34799 58.10467, 56.34834 58...  industrial   \n4     MULTIPOLYGON (((56.12423 58.03430, 56.12452 58...  industrial   \n...                                                 ...         ...   \n8438  MULTIPOLYGON (((56.16802 57.91086, 56.16836 57...  industrial   \n8439  MULTIPOLYGON (((56.13393 57.92601, 56.13408 57...  industrial   \n8440  MULTIPOLYGON (((56.16355 57.88379, 56.16394 57...  industrial   \n8441  MULTIPOLYGON (((56.13846 57.90833, 56.13847 57...  industrial   \n8442  MULTIPOLYGON (((56.15790 57.87906, 56.15796 57...  industrial   \n\n      industrial    retail   service  population_availability  \\\n0       0.998556       NaN  0.001444                 4.152758   \n1       0.888674  0.046569  0.064757                 4.710778   \n2       0.888674  0.046569  0.064757                 4.710778   \n3       0.888674  0.046569  0.064757                 4.710778   \n4       0.801968       NaN  0.198032                 4.979759   \n...          ...       ...       ...                      ...   \n8438    1.000000       NaN       NaN                 4.672042   \n8439    0.941292       NaN  0.058708                 4.441204   \n8440    0.773616       NaN  0.226384                 4.208105   \n8441    0.941292       NaN  0.058708                 4.441204   \n8442    0.998556       NaN  0.001444                 4.152758   \n\n      workers_availability  employment_share  tours  TGR  \n0                 2.321604          0.998556    NaN  NaN  \n1                 2.383966          0.888674    NaN  NaN  \n2                 2.383966          0.064757    NaN  NaN  \n3                 2.383966          0.888674    NaN  NaN  \n4                 2.434761          0.801968    NaN  NaN  \n...                    ...               ...    ...  ...  \n8438              2.437900          1.000000    NaN  NaN  \n8439              2.392340          0.058708    NaN  NaN  \n8440              2.329820          0.226384    NaN  NaN  \n8441              2.392340          0.941292    NaN  NaN  \n8442              2.321604          0.998556    NaN  NaN  \n\n[8443 rows x 15 columns]",
      "text/html": "<div>\n<style scoped>\n    .dataframe tbody tr th:only-of-type {\n        vertical-align: middle;\n    }\n\n    .dataframe tbody tr th {\n        vertical-align: top;\n    }\n\n    .dataframe thead th {\n        text-align: right;\n    }\n</style>\n<table border=\"1\" class=\"dataframe\">\n  <thead>\n    <tr style=\"text-align: right;\">\n      <th></th>\n      <th>id</th>\n      <th>block_id</th>\n      <th>industry</th>\n      <th>total_area</th>\n      <th>workers</th>\n      <th>geometry</th>\n      <th>landuse</th>\n      <th>industrial</th>\n      <th>retail</th>\n      <th>service</th>\n      <th>population_availability</th>\n      <th>workers_availability</th>\n      <th>employment_share</th>\n      <th>tours</th>\n      <th>TGR</th>\n    </tr>\n  </thead>\n  <tbody>\n    <tr>\n      <th>0</th>\n      <td>4669322</td>\n      <td>275</td>\n      <td>industrial</td>\n      <td>694.450</td>\n      <td>41</td>\n      <td>MULTIPOLYGON (((56.17115 57.88024, 56.17135 57...</td>\n      <td>industrial</td>\n      <td>0.998556</td>\n      <td>NaN</td>\n      <td>0.001444</td>\n      <td>4.152758</td>\n      <td>2.321604</td>\n      <td>0.998556</td>\n      <td>NaN</td>\n      <td>NaN</td>\n    </tr>\n    <tr>\n      <th>1</th>\n      <td>79882759</td>\n      <td>752</td>\n      <td>industrial</td>\n      <td>214.784</td>\n      <td>9</td>\n      <td>MULTIPOLYGON (((56.34866 58.10470, 56.34892 58...</td>\n      <td>industrial</td>\n      <td>0.888674</td>\n      <td>0.046569</td>\n      <td>0.064757</td>\n      <td>4.710778</td>\n      <td>2.383966</td>\n      <td>0.888674</td>\n      <td>NaN</td>\n      <td>NaN</td>\n    </tr>\n    <tr>\n      <th>2</th>\n      <td>79882837</td>\n      <td>752</td>\n      <td>service</td>\n      <td>1552.068</td>\n      <td>72</td>\n      <td>MULTIPOLYGON (((56.34712 58.08610, 56.34720 58...</td>\n      <td>industrial</td>\n      <td>0.888674</td>\n      <td>0.046569</td>\n      <td>0.064757</td>\n      <td>4.710778</td>\n      <td>2.383966</td>\n      <td>0.064757</td>\n      <td>NaN</td>\n      <td>NaN</td>\n    </tr>\n    <tr>\n      <th>3</th>\n      <td>79883190</td>\n      <td>752</td>\n      <td>industrial</td>\n      <td>189.197</td>\n      <td>8</td>\n      <td>MULTIPOLYGON (((56.34799 58.10467, 56.34834 58...</td>\n      <td>industrial</td>\n      <td>0.888674</td>\n      <td>0.046569</td>\n      <td>0.064757</td>\n      <td>4.710778</td>\n      <td>2.383966</td>\n      <td>0.888674</td>\n      <td>NaN</td>\n      <td>NaN</td>\n    </tr>\n    <tr>\n      <th>4</th>\n      <td>89185196</td>\n      <td>943</td>\n      <td>industrial</td>\n      <td>450.628</td>\n      <td>19</td>\n      <td>MULTIPOLYGON (((56.12423 58.03430, 56.12452 58...</td>\n      <td>industrial</td>\n      <td>0.801968</td>\n      <td>NaN</td>\n      <td>0.198032</td>\n      <td>4.979759</td>\n      <td>2.434761</td>\n      <td>0.801968</td>\n      <td>NaN</td>\n      <td>NaN</td>\n    </tr>\n    <tr>\n      <th>...</th>\n      <td>...</td>\n      <td>...</td>\n      <td>...</td>\n      <td>...</td>\n      <td>...</td>\n      <td>...</td>\n      <td>...</td>\n      <td>...</td>\n      <td>...</td>\n      <td>...</td>\n      <td>...</td>\n      <td>...</td>\n      <td>...</td>\n      <td>...</td>\n      <td>...</td>\n    </tr>\n    <tr>\n      <th>8438</th>\n      <td>1147821565</td>\n      <td>649</td>\n      <td>industrial</td>\n      <td>1218.829</td>\n      <td>35</td>\n      <td>MULTIPOLYGON (((56.16802 57.91086, 56.16836 57...</td>\n      <td>industrial</td>\n      <td>1.000000</td>\n      <td>NaN</td>\n      <td>NaN</td>\n      <td>4.672042</td>\n      <td>2.437900</td>\n      <td>1.000000</td>\n      <td>NaN</td>\n      <td>NaN</td>\n    </tr>\n    <tr>\n      <th>8439</th>\n      <td>1148104875</td>\n      <td>274</td>\n      <td>service</td>\n      <td>107.470</td>\n      <td>2</td>\n      <td>MULTIPOLYGON (((56.13393 57.92601, 56.13408 57...</td>\n      <td>industrial</td>\n      <td>0.941292</td>\n      <td>NaN</td>\n      <td>0.058708</td>\n      <td>4.441204</td>\n      <td>2.392340</td>\n      <td>0.058708</td>\n      <td>NaN</td>\n      <td>NaN</td>\n    </tr>\n    <tr>\n      <th>8440</th>\n      <td>1148419580</td>\n      <td>276</td>\n      <td>service</td>\n      <td>2499.540</td>\n      <td>67</td>\n      <td>MULTIPOLYGON (((56.16355 57.88379, 56.16394 57...</td>\n      <td>industrial</td>\n      <td>0.773616</td>\n      <td>NaN</td>\n      <td>0.226384</td>\n      <td>4.208105</td>\n      <td>2.329820</td>\n      <td>0.226384</td>\n      <td>NaN</td>\n      <td>NaN</td>\n    </tr>\n    <tr>\n      <th>8441</th>\n      <td>1148746841</td>\n      <td>274</td>\n      <td>industrial</td>\n      <td>188.391</td>\n      <td>6</td>\n      <td>MULTIPOLYGON (((56.13846 57.90833, 56.13847 57...</td>\n      <td>industrial</td>\n      <td>0.941292</td>\n      <td>NaN</td>\n      <td>0.058708</td>\n      <td>4.441204</td>\n      <td>2.392340</td>\n      <td>0.941292</td>\n      <td>NaN</td>\n      <td>NaN</td>\n    </tr>\n    <tr>\n      <th>8442</th>\n      <td>1149034816</td>\n      <td>275</td>\n      <td>industrial</td>\n      <td>516.981</td>\n      <td>18</td>\n      <td>MULTIPOLYGON (((56.15790 57.87906, 56.15796 57...</td>\n      <td>industrial</td>\n      <td>0.998556</td>\n      <td>NaN</td>\n      <td>0.001444</td>\n      <td>4.152758</td>\n      <td>2.321604</td>\n      <td>0.998556</td>\n      <td>NaN</td>\n      <td>NaN</td>\n    </tr>\n  </tbody>\n</table>\n<p>8443 rows × 15 columns</p>\n</div>"
     },
     "execution_count": 33,
     "metadata": {},
     "output_type": "execute_result"
    }
   ],
   "source": [
    "businesses_zones['TGR'] = businesses_zones['tours'] / businesses_zones['workers']\n",
    "businesses_zones"
   ],
   "metadata": {
    "collapsed": false,
    "ExecuteTime": {
     "end_time": "2024-01-18T12:13:49.603814600Z",
     "start_time": "2024-01-18T12:13:49.524888300Z"
    }
   },
   "id": "1ac9ed3530a3b0ff"
  },
  {
   "cell_type": "code",
   "execution_count": 35,
   "outputs": [],
   "source": [
    "businesses_zones.to_file('data/tour_numbers_syntetic.geojson', driver='GeoJSON')"
   ],
   "metadata": {
    "collapsed": false,
    "ExecuteTime": {
     "end_time": "2024-01-18T12:17:06.434801500Z",
     "start_time": "2024-01-18T12:17:03.876796700Z"
    }
   },
   "id": "a14e0e130815f52a"
  },
  {
   "cell_type": "raw",
   "source": [
    "СИНТЕЗ ЧАСОВ ОТПРАВЛЕНИЙ НА ОСНОВЕ ОДНОГО ИССЛЕДОВАНИЯ ДЛЯ СГЕНЕРИРОВАННОГО СПИСКА ТУРОВ"
   ],
   "metadata": {
    "collapsed": false
   },
   "id": "951bee7a388b0afb"
  },
  {
   "cell_type": "code",
   "execution_count": 5,
   "outputs": [
    {
     "data": {
      "text/plain": "              id  block_id    industry  total_area  workers     landuse  \\\n0        4669322       275  industrial     694.450       41  industrial   \n1       79882759       752  industrial     214.784        9  industrial   \n2       79882837       752     service    1552.068       72  industrial   \n3       79883190       752  industrial     189.197        8  industrial   \n4       89185196       943  industrial     450.628       19  industrial   \n...          ...       ...         ...         ...      ...         ...   \n8438  1147821565       649  industrial    1218.829       35  industrial   \n8439  1148104875       274     service     107.470        2  industrial   \n8440  1148419580       276     service    2499.540       67  industrial   \n8441  1148746841       274  industrial     188.391        6  industrial   \n8442  1149034816       275  industrial     516.981       18  industrial   \n\n      industrial    retail   service  population_availability  \\\n0       0.998556       NaN  0.001444                 4.152758   \n1       0.888674  0.046569  0.064757                 4.710778   \n2       0.888674  0.046569  0.064757                 4.710778   \n3       0.888674  0.046569  0.064757                 4.710778   \n4       0.801968       NaN  0.198032                 4.979759   \n...          ...       ...       ...                      ...   \n8438    1.000000       NaN       NaN                 4.672042   \n8439    0.941292       NaN  0.058708                 4.441204   \n8440    0.773616       NaN  0.226384                 4.208105   \n8441    0.941292       NaN  0.058708                 4.441204   \n8442    0.998556       NaN  0.001444                 4.152758   \n\n      workers_availability  employment_share  tours  TGR  \\\n0                 2.321604          0.998556    NaN  NaN   \n1                 2.383966          0.888674    NaN  NaN   \n2                 2.383966          0.064757    NaN  NaN   \n3                 2.383966          0.888674    NaN  NaN   \n4                 2.434761          0.801968    NaN  NaN   \n...                    ...               ...    ...  ...   \n8438              2.437900          1.000000    NaN  NaN   \n8439              2.392340          0.058708    NaN  NaN   \n8440              2.329820          0.226384    NaN  NaN   \n8441              2.392340          0.941292    NaN  NaN   \n8442              2.321604          0.998556    NaN  NaN   \n\n                                               geometry  \n0     MULTIPOLYGON (((56.17115 57.88024, 56.17135 57...  \n1     MULTIPOLYGON (((56.34866 58.10470, 56.34892 58...  \n2     MULTIPOLYGON (((56.34712 58.08610, 56.34720 58...  \n3     MULTIPOLYGON (((56.34799 58.10467, 56.34834 58...  \n4     MULTIPOLYGON (((56.12423 58.03430, 56.12452 58...  \n...                                                 ...  \n8438  MULTIPOLYGON (((56.16802 57.91086, 56.16836 57...  \n8439  MULTIPOLYGON (((56.13393 57.92601, 56.13408 57...  \n8440  MULTIPOLYGON (((56.16355 57.88379, 56.16394 57...  \n8441  MULTIPOLYGON (((56.13846 57.90833, 56.13847 57...  \n8442  MULTIPOLYGON (((56.15790 57.87906, 56.15796 57...  \n\n[8443 rows x 15 columns]",
      "text/html": "<div>\n<style scoped>\n    .dataframe tbody tr th:only-of-type {\n        vertical-align: middle;\n    }\n\n    .dataframe tbody tr th {\n        vertical-align: top;\n    }\n\n    .dataframe thead th {\n        text-align: right;\n    }\n</style>\n<table border=\"1\" class=\"dataframe\">\n  <thead>\n    <tr style=\"text-align: right;\">\n      <th></th>\n      <th>id</th>\n      <th>block_id</th>\n      <th>industry</th>\n      <th>total_area</th>\n      <th>workers</th>\n      <th>landuse</th>\n      <th>industrial</th>\n      <th>retail</th>\n      <th>service</th>\n      <th>population_availability</th>\n      <th>workers_availability</th>\n      <th>employment_share</th>\n      <th>tours</th>\n      <th>TGR</th>\n      <th>geometry</th>\n    </tr>\n  </thead>\n  <tbody>\n    <tr>\n      <th>0</th>\n      <td>4669322</td>\n      <td>275</td>\n      <td>industrial</td>\n      <td>694.450</td>\n      <td>41</td>\n      <td>industrial</td>\n      <td>0.998556</td>\n      <td>NaN</td>\n      <td>0.001444</td>\n      <td>4.152758</td>\n      <td>2.321604</td>\n      <td>0.998556</td>\n      <td>NaN</td>\n      <td>NaN</td>\n      <td>MULTIPOLYGON (((56.17115 57.88024, 56.17135 57...</td>\n    </tr>\n    <tr>\n      <th>1</th>\n      <td>79882759</td>\n      <td>752</td>\n      <td>industrial</td>\n      <td>214.784</td>\n      <td>9</td>\n      <td>industrial</td>\n      <td>0.888674</td>\n      <td>0.046569</td>\n      <td>0.064757</td>\n      <td>4.710778</td>\n      <td>2.383966</td>\n      <td>0.888674</td>\n      <td>NaN</td>\n      <td>NaN</td>\n      <td>MULTIPOLYGON (((56.34866 58.10470, 56.34892 58...</td>\n    </tr>\n    <tr>\n      <th>2</th>\n      <td>79882837</td>\n      <td>752</td>\n      <td>service</td>\n      <td>1552.068</td>\n      <td>72</td>\n      <td>industrial</td>\n      <td>0.888674</td>\n      <td>0.046569</td>\n      <td>0.064757</td>\n      <td>4.710778</td>\n      <td>2.383966</td>\n      <td>0.064757</td>\n      <td>NaN</td>\n      <td>NaN</td>\n      <td>MULTIPOLYGON (((56.34712 58.08610, 56.34720 58...</td>\n    </tr>\n    <tr>\n      <th>3</th>\n      <td>79883190</td>\n      <td>752</td>\n      <td>industrial</td>\n      <td>189.197</td>\n      <td>8</td>\n      <td>industrial</td>\n      <td>0.888674</td>\n      <td>0.046569</td>\n      <td>0.064757</td>\n      <td>4.710778</td>\n      <td>2.383966</td>\n      <td>0.888674</td>\n      <td>NaN</td>\n      <td>NaN</td>\n      <td>MULTIPOLYGON (((56.34799 58.10467, 56.34834 58...</td>\n    </tr>\n    <tr>\n      <th>4</th>\n      <td>89185196</td>\n      <td>943</td>\n      <td>industrial</td>\n      <td>450.628</td>\n      <td>19</td>\n      <td>industrial</td>\n      <td>0.801968</td>\n      <td>NaN</td>\n      <td>0.198032</td>\n      <td>4.979759</td>\n      <td>2.434761</td>\n      <td>0.801968</td>\n      <td>NaN</td>\n      <td>NaN</td>\n      <td>MULTIPOLYGON (((56.12423 58.03430, 56.12452 58...</td>\n    </tr>\n    <tr>\n      <th>...</th>\n      <td>...</td>\n      <td>...</td>\n      <td>...</td>\n      <td>...</td>\n      <td>...</td>\n      <td>...</td>\n      <td>...</td>\n      <td>...</td>\n      <td>...</td>\n      <td>...</td>\n      <td>...</td>\n      <td>...</td>\n      <td>...</td>\n      <td>...</td>\n      <td>...</td>\n    </tr>\n    <tr>\n      <th>8438</th>\n      <td>1147821565</td>\n      <td>649</td>\n      <td>industrial</td>\n      <td>1218.829</td>\n      <td>35</td>\n      <td>industrial</td>\n      <td>1.000000</td>\n      <td>NaN</td>\n      <td>NaN</td>\n      <td>4.672042</td>\n      <td>2.437900</td>\n      <td>1.000000</td>\n      <td>NaN</td>\n      <td>NaN</td>\n      <td>MULTIPOLYGON (((56.16802 57.91086, 56.16836 57...</td>\n    </tr>\n    <tr>\n      <th>8439</th>\n      <td>1148104875</td>\n      <td>274</td>\n      <td>service</td>\n      <td>107.470</td>\n      <td>2</td>\n      <td>industrial</td>\n      <td>0.941292</td>\n      <td>NaN</td>\n      <td>0.058708</td>\n      <td>4.441204</td>\n      <td>2.392340</td>\n      <td>0.058708</td>\n      <td>NaN</td>\n      <td>NaN</td>\n      <td>MULTIPOLYGON (((56.13393 57.92601, 56.13408 57...</td>\n    </tr>\n    <tr>\n      <th>8440</th>\n      <td>1148419580</td>\n      <td>276</td>\n      <td>service</td>\n      <td>2499.540</td>\n      <td>67</td>\n      <td>industrial</td>\n      <td>0.773616</td>\n      <td>NaN</td>\n      <td>0.226384</td>\n      <td>4.208105</td>\n      <td>2.329820</td>\n      <td>0.226384</td>\n      <td>NaN</td>\n      <td>NaN</td>\n      <td>MULTIPOLYGON (((56.16355 57.88379, 56.16394 57...</td>\n    </tr>\n    <tr>\n      <th>8441</th>\n      <td>1148746841</td>\n      <td>274</td>\n      <td>industrial</td>\n      <td>188.391</td>\n      <td>6</td>\n      <td>industrial</td>\n      <td>0.941292</td>\n      <td>NaN</td>\n      <td>0.058708</td>\n      <td>4.441204</td>\n      <td>2.392340</td>\n      <td>0.941292</td>\n      <td>NaN</td>\n      <td>NaN</td>\n      <td>MULTIPOLYGON (((56.13846 57.90833, 56.13847 57...</td>\n    </tr>\n    <tr>\n      <th>8442</th>\n      <td>1149034816</td>\n      <td>275</td>\n      <td>industrial</td>\n      <td>516.981</td>\n      <td>18</td>\n      <td>industrial</td>\n      <td>0.998556</td>\n      <td>NaN</td>\n      <td>0.001444</td>\n      <td>4.152758</td>\n      <td>2.321604</td>\n      <td>0.998556</td>\n      <td>NaN</td>\n      <td>NaN</td>\n      <td>MULTIPOLYGON (((56.15790 57.87906, 56.15796 57...</td>\n    </tr>\n  </tbody>\n</table>\n<p>8443 rows × 15 columns</p>\n</div>"
     },
     "execution_count": 5,
     "metadata": {},
     "output_type": "execute_result"
    }
   ],
   "source": [
    "tours_synthetic = gpd.read_file(\n",
    "    \"C:/Users/sm_pa/OneDrive/Рабочий стол/НИР3/perm_freight_modelling/data/tour_numbers_syntetic.geojson\")\n",
    "tours_synthetic"
   ],
   "metadata": {
    "collapsed": false,
    "ExecuteTime": {
     "end_time": "2024-01-18T18:14:46.334459200Z",
     "start_time": "2024-01-18T18:14:42.591587400Z"
    }
   },
   "id": "a086246b51957cbd"
  },
  {
   "cell_type": "code",
   "execution_count": 6,
   "outputs": [
    {
     "data": {
      "text/plain": "              id  block_id    industry  total_area  workers      landuse  \\\n16     206819075       324  industrial    1039.479       60  residential   \n23     698090257      1884  industrial   21594.268     1012   industrial   \n28     710506739       274  industrial    1082.080       59   industrial   \n58    1099979600       752  industrial     962.597       37   industrial   \n80       2194005       410     service   12325.055      287  residential   \n...          ...       ...         ...         ...      ...          ...   \n8256  1055221756      2237  industrial    1232.456       29   industrial   \n8278  1097680915        52      retail     785.667       20   industrial   \n8320  1103860108       209     service    4508.136      110   industrial   \n8398  1136615387       943  industrial    2367.608       51   industrial   \n8434  1147236714       294     service    3158.331       74   industrial   \n\n      industrial    retail   service  population_availability  \\\n16      0.865545  0.103314  0.031142                 6.314141   \n23      0.944083  0.007917  0.048000                 5.604110   \n28      0.941292       NaN  0.058708                 4.441204   \n58      0.888674  0.046569  0.064757                 4.710778   \n80      0.019342  0.083172  0.897485                 6.304679   \n...          ...       ...       ...                      ...   \n8256    0.758065  0.211485  0.030451                 5.490278   \n8278    0.765074  0.202428  0.032498                 5.232586   \n8320    0.943292       NaN  0.056708                 5.036346   \n8398    0.801968       NaN  0.198032                 4.979759   \n8434    0.891762  0.001600  0.106638                 4.802194   \n\n      workers_availability  employment_share  tours       TGR  \\\n16                2.824434          0.865545    2.0  0.033333   \n23                2.824705          0.944083   37.0  0.036561   \n28                2.392340          0.941292    2.0  0.033898   \n58                2.383966          0.888674    1.0  0.027027   \n80                2.803704          0.897485    6.0  0.020906   \n...                    ...               ...    ...       ...   \n8256              2.761119          0.758065    1.0  0.034483   \n8278              2.547181          0.202428    2.0  0.100000   \n8320              2.504850          0.056708    3.0  0.027273   \n8398              2.434761          0.801968    1.0  0.019608   \n8434              2.488054          0.106638    1.0  0.013514   \n\n                                               geometry  \n16    MULTIPOLYGON (((56.24348 57.97681, 56.24351 57...  \n23    MULTIPOLYGON (((56.15937 58.00912, 56.15972 58...  \n28    MULTIPOLYGON (((56.13594 57.92199, 56.13560 57...  \n58    MULTIPOLYGON (((56.34479 58.08673, 56.34490 58...  \n80    MULTIPOLYGON (((56.23966 57.98813, 56.23986 57...  \n...                                                 ...  \n8256  MULTIPOLYGON (((56.25706 57.96640, 56.25750 57...  \n8278  MULTIPOLYGON (((56.20571 58.03226, 56.20585 58...  \n8320  MULTIPOLYGON (((56.16704 58.04032, 56.16847 58...  \n8398  MULTIPOLYGON (((56.13883 58.01975, 56.13898 58...  \n8434  MULTIPOLYGON (((56.17449 57.91414, 56.17469 57...  \n\n[307 rows x 15 columns]",
      "text/html": "<div>\n<style scoped>\n    .dataframe tbody tr th:only-of-type {\n        vertical-align: middle;\n    }\n\n    .dataframe tbody tr th {\n        vertical-align: top;\n    }\n\n    .dataframe thead th {\n        text-align: right;\n    }\n</style>\n<table border=\"1\" class=\"dataframe\">\n  <thead>\n    <tr style=\"text-align: right;\">\n      <th></th>\n      <th>id</th>\n      <th>block_id</th>\n      <th>industry</th>\n      <th>total_area</th>\n      <th>workers</th>\n      <th>landuse</th>\n      <th>industrial</th>\n      <th>retail</th>\n      <th>service</th>\n      <th>population_availability</th>\n      <th>workers_availability</th>\n      <th>employment_share</th>\n      <th>tours</th>\n      <th>TGR</th>\n      <th>geometry</th>\n    </tr>\n  </thead>\n  <tbody>\n    <tr>\n      <th>16</th>\n      <td>206819075</td>\n      <td>324</td>\n      <td>industrial</td>\n      <td>1039.479</td>\n      <td>60</td>\n      <td>residential</td>\n      <td>0.865545</td>\n      <td>0.103314</td>\n      <td>0.031142</td>\n      <td>6.314141</td>\n      <td>2.824434</td>\n      <td>0.865545</td>\n      <td>2.0</td>\n      <td>0.033333</td>\n      <td>MULTIPOLYGON (((56.24348 57.97681, 56.24351 57...</td>\n    </tr>\n    <tr>\n      <th>23</th>\n      <td>698090257</td>\n      <td>1884</td>\n      <td>industrial</td>\n      <td>21594.268</td>\n      <td>1012</td>\n      <td>industrial</td>\n      <td>0.944083</td>\n      <td>0.007917</td>\n      <td>0.048000</td>\n      <td>5.604110</td>\n      <td>2.824705</td>\n      <td>0.944083</td>\n      <td>37.0</td>\n      <td>0.036561</td>\n      <td>MULTIPOLYGON (((56.15937 58.00912, 56.15972 58...</td>\n    </tr>\n    <tr>\n      <th>28</th>\n      <td>710506739</td>\n      <td>274</td>\n      <td>industrial</td>\n      <td>1082.080</td>\n      <td>59</td>\n      <td>industrial</td>\n      <td>0.941292</td>\n      <td>NaN</td>\n      <td>0.058708</td>\n      <td>4.441204</td>\n      <td>2.392340</td>\n      <td>0.941292</td>\n      <td>2.0</td>\n      <td>0.033898</td>\n      <td>MULTIPOLYGON (((56.13594 57.92199, 56.13560 57...</td>\n    </tr>\n    <tr>\n      <th>58</th>\n      <td>1099979600</td>\n      <td>752</td>\n      <td>industrial</td>\n      <td>962.597</td>\n      <td>37</td>\n      <td>industrial</td>\n      <td>0.888674</td>\n      <td>0.046569</td>\n      <td>0.064757</td>\n      <td>4.710778</td>\n      <td>2.383966</td>\n      <td>0.888674</td>\n      <td>1.0</td>\n      <td>0.027027</td>\n      <td>MULTIPOLYGON (((56.34479 58.08673, 56.34490 58...</td>\n    </tr>\n    <tr>\n      <th>80</th>\n      <td>2194005</td>\n      <td>410</td>\n      <td>service</td>\n      <td>12325.055</td>\n      <td>287</td>\n      <td>residential</td>\n      <td>0.019342</td>\n      <td>0.083172</td>\n      <td>0.897485</td>\n      <td>6.304679</td>\n      <td>2.803704</td>\n      <td>0.897485</td>\n      <td>6.0</td>\n      <td>0.020906</td>\n      <td>MULTIPOLYGON (((56.23966 57.98813, 56.23986 57...</td>\n    </tr>\n    <tr>\n      <th>...</th>\n      <td>...</td>\n      <td>...</td>\n      <td>...</td>\n      <td>...</td>\n      <td>...</td>\n      <td>...</td>\n      <td>...</td>\n      <td>...</td>\n      <td>...</td>\n      <td>...</td>\n      <td>...</td>\n      <td>...</td>\n      <td>...</td>\n      <td>...</td>\n      <td>...</td>\n    </tr>\n    <tr>\n      <th>8256</th>\n      <td>1055221756</td>\n      <td>2237</td>\n      <td>industrial</td>\n      <td>1232.456</td>\n      <td>29</td>\n      <td>industrial</td>\n      <td>0.758065</td>\n      <td>0.211485</td>\n      <td>0.030451</td>\n      <td>5.490278</td>\n      <td>2.761119</td>\n      <td>0.758065</td>\n      <td>1.0</td>\n      <td>0.034483</td>\n      <td>MULTIPOLYGON (((56.25706 57.96640, 56.25750 57...</td>\n    </tr>\n    <tr>\n      <th>8278</th>\n      <td>1097680915</td>\n      <td>52</td>\n      <td>retail</td>\n      <td>785.667</td>\n      <td>20</td>\n      <td>industrial</td>\n      <td>0.765074</td>\n      <td>0.202428</td>\n      <td>0.032498</td>\n      <td>5.232586</td>\n      <td>2.547181</td>\n      <td>0.202428</td>\n      <td>2.0</td>\n      <td>0.100000</td>\n      <td>MULTIPOLYGON (((56.20571 58.03226, 56.20585 58...</td>\n    </tr>\n    <tr>\n      <th>8320</th>\n      <td>1103860108</td>\n      <td>209</td>\n      <td>service</td>\n      <td>4508.136</td>\n      <td>110</td>\n      <td>industrial</td>\n      <td>0.943292</td>\n      <td>NaN</td>\n      <td>0.056708</td>\n      <td>5.036346</td>\n      <td>2.504850</td>\n      <td>0.056708</td>\n      <td>3.0</td>\n      <td>0.027273</td>\n      <td>MULTIPOLYGON (((56.16704 58.04032, 56.16847 58...</td>\n    </tr>\n    <tr>\n      <th>8398</th>\n      <td>1136615387</td>\n      <td>943</td>\n      <td>industrial</td>\n      <td>2367.608</td>\n      <td>51</td>\n      <td>industrial</td>\n      <td>0.801968</td>\n      <td>NaN</td>\n      <td>0.198032</td>\n      <td>4.979759</td>\n      <td>2.434761</td>\n      <td>0.801968</td>\n      <td>1.0</td>\n      <td>0.019608</td>\n      <td>MULTIPOLYGON (((56.13883 58.01975, 56.13898 58...</td>\n    </tr>\n    <tr>\n      <th>8434</th>\n      <td>1147236714</td>\n      <td>294</td>\n      <td>service</td>\n      <td>3158.331</td>\n      <td>74</td>\n      <td>industrial</td>\n      <td>0.891762</td>\n      <td>0.001600</td>\n      <td>0.106638</td>\n      <td>4.802194</td>\n      <td>2.488054</td>\n      <td>0.106638</td>\n      <td>1.0</td>\n      <td>0.013514</td>\n      <td>MULTIPOLYGON (((56.17449 57.91414, 56.17469 57...</td>\n    </tr>\n  </tbody>\n</table>\n<p>307 rows × 15 columns</p>\n</div>"
     },
     "execution_count": 6,
     "metadata": {},
     "output_type": "execute_result"
    }
   ],
   "source": [
    "tours_synthetic = tours_synthetic.dropna(subset=['tours'])\n",
    "tours_synthetic"
   ],
   "metadata": {
    "collapsed": false,
    "ExecuteTime": {
     "end_time": "2024-01-18T18:28:45.483189200Z",
     "start_time": "2024-01-18T18:28:45.404625500Z"
    }
   },
   "id": "53e61cabc2b5b7b0"
  },
  {
   "cell_type": "code",
   "execution_count": 7,
   "outputs": [
    {
     "data": {
      "text/plain": "Index(['id', 'block_id', 'industry', 'total_area', 'workers', 'landuse',\n       'industrial', 'retail', 'service', 'population_availability',\n       'workers_availability', 'employment_share', 'tours', 'TGR', 'geometry'],\n      dtype='object')"
     },
     "execution_count": 7,
     "metadata": {},
     "output_type": "execute_result"
    }
   ],
   "source": [
    "tours_synthetic.columns"
   ],
   "metadata": {
    "collapsed": false,
    "ExecuteTime": {
     "end_time": "2024-01-18T18:50:55.166291600Z",
     "start_time": "2024-01-18T18:50:55.135045700Z"
    }
   },
   "id": "13b2ab082e6e7db1"
  },
  {
   "cell_type": "code",
   "execution_count": 8,
   "outputs": [
    {
     "name": "stdout",
     "output_type": "stream",
     "text": [
      "             id  block_id    industry  total_area  workers      landuse  \\\n",
      "0     206819075       324  industrial    1039.479       60  residential   \n",
      "1     698090257      1884  industrial   21594.268     1012   industrial   \n",
      "2     710506739       274  industrial    1082.080       59   industrial   \n",
      "3    1099979600       752  industrial     962.597       37   industrial   \n",
      "4       2194005       410     service   12325.055      287  residential   \n",
      "..          ...       ...         ...         ...      ...          ...   \n",
      "302  1055221756      2237  industrial    1232.456       29   industrial   \n",
      "303  1097680915        52      retail     785.667       20   industrial   \n",
      "304  1103860108       209     service    4508.136      110   industrial   \n",
      "305  1136615387       943  industrial    2367.608       51   industrial   \n",
      "306  1147236714       294     service    3158.331       74   industrial   \n",
      "\n",
      "     industrial    retail   service  population_availability  \\\n",
      "0      0.865545  0.103314  0.031142                 6.314141   \n",
      "1      0.944083  0.007917  0.048000                 5.604110   \n",
      "2      0.941292       NaN  0.058708                 4.441204   \n",
      "3      0.888674  0.046569  0.064757                 4.710778   \n",
      "4      0.019342  0.083172  0.897485                 6.304679   \n",
      "..          ...       ...       ...                      ...   \n",
      "302    0.758065  0.211485  0.030451                 5.490278   \n",
      "303    0.765074  0.202428  0.032498                 5.232586   \n",
      "304    0.943292       NaN  0.056708                 5.036346   \n",
      "305    0.801968       NaN  0.198032                 4.979759   \n",
      "306    0.891762  0.001600  0.106638                 4.802194   \n",
      "\n",
      "     workers_availability  employment_share  tours       TGR  \\\n",
      "0                2.824434          0.865545    2.0  0.033333   \n",
      "1                2.824705          0.944083   37.0  0.036561   \n",
      "2                2.392340          0.941292    2.0  0.033898   \n",
      "3                2.383966          0.888674    1.0  0.027027   \n",
      "4                2.803704          0.897485    6.0  0.020906   \n",
      "..                    ...               ...    ...       ...   \n",
      "302              2.761119          0.758065    1.0  0.034483   \n",
      "303              2.547181          0.202428    2.0  0.100000   \n",
      "304              2.504850          0.056708    3.0  0.027273   \n",
      "305              2.434761          0.801968    1.0  0.019608   \n",
      "306              2.488054          0.106638    1.0  0.013514   \n",
      "\n",
      "                                              geometry  company_id  \n",
      "0    MULTIPOLYGON (((56.24348 57.97681, 56.24351 57...   206819075  \n",
      "1    MULTIPOLYGON (((56.15937 58.00912, 56.15972 58...   698090257  \n",
      "2    MULTIPOLYGON (((56.13594 57.92199, 56.13560 57...   710506739  \n",
      "3    MULTIPOLYGON (((56.34479 58.08673, 56.34490 58...  1099979600  \n",
      "4    MULTIPOLYGON (((56.23966 57.98813, 56.23986 57...     2194005  \n",
      "..                                                 ...         ...  \n",
      "302  MULTIPOLYGON (((56.25706 57.96640, 56.25750 57...  1055221756  \n",
      "303  MULTIPOLYGON (((56.20571 58.03226, 56.20585 58...  1097680915  \n",
      "304  MULTIPOLYGON (((56.16704 58.04032, 56.16847 58...  1103860108  \n",
      "305  MULTIPOLYGON (((56.13883 58.01975, 56.13898 58...  1136615387  \n",
      "306  MULTIPOLYGON (((56.17449 57.91414, 56.17469 57...  1147236714  \n",
      "\n",
      "[307 rows x 16 columns]\n"
     ]
    },
    {
     "name": "stderr",
     "output_type": "stream",
     "text": [
      "C:\\Users\\sm_pa\\AppData\\Local\\Programs\\Python\\Python39\\lib\\site-packages\\geopandas\\geodataframe.py:1543: SettingWithCopyWarning: \n",
      "A value is trying to be set on a copy of a slice from a DataFrame.\n",
      "Try using .loc[row_indexer,col_indexer] = value instead\n",
      "\n",
      "See the caveats in the documentation: https://pandas.pydata.org/pandas-docs/stable/user_guide/indexing.html#returning-a-view-versus-a-copy\n",
      "  super().__setitem__(key, value)\n"
     ]
    }
   ],
   "source": [
    "# Создаем новый столбец 'company_id' и присваиваем ему значения из столбца 'id'\n",
    "tours_synthetic['company_id'] = tours_synthetic['id']"
   ],
   "metadata": {
    "collapsed": false,
    "ExecuteTime": {
     "end_time": "2024-01-18T19:17:42.933303500Z",
     "start_time": "2024-01-18T19:17:42.727512900Z"
    }
   },
   "id": "58538d6a6d3ae0fc"
  },
  {
   "cell_type": "code",
   "execution_count": 11,
   "outputs": [
    {
     "data": {
      "text/plain": "              id  block_id    industry  total_area  workers      landuse  \\\n0      206819075       324  industrial    1039.479       60  residential   \n1      206819075       324  industrial    1039.479       60  residential   \n2      698090257      1884  industrial   21594.268     1012   industrial   \n3      698090257      1884  industrial   21594.268     1012   industrial   \n4      698090257      1884  industrial   21594.268     1012   industrial   \n...          ...       ...         ...         ...      ...          ...   \n1560  1103860108       209     service    4508.136      110   industrial   \n1561  1103860108       209     service    4508.136      110   industrial   \n1562  1103860108       209     service    4508.136      110   industrial   \n1563  1136615387       943  industrial    2367.608       51   industrial   \n1564  1147236714       294     service    3158.331       74   industrial   \n\n      industrial    retail   service  population_availability  \\\n0       0.865545  0.103314  0.031142                 6.314141   \n1       0.865545  0.103314  0.031142                 6.314141   \n2       0.944083  0.007917  0.048000                 5.604110   \n3       0.944083  0.007917  0.048000                 5.604110   \n4       0.944083  0.007917  0.048000                 5.604110   \n...          ...       ...       ...                      ...   \n1560    0.943292       NaN  0.056708                 5.036346   \n1561    0.943292       NaN  0.056708                 5.036346   \n1562    0.943292       NaN  0.056708                 5.036346   \n1563    0.801968       NaN  0.198032                 4.979759   \n1564    0.891762  0.001600  0.106638                 4.802194   \n\n      workers_availability  employment_share  tours       TGR  \\\n0                 2.824434          0.865545    2.0  0.033333   \n1                 2.824434          0.865545    2.0  0.033333   \n2                 2.824705          0.944083   37.0  0.036561   \n3                 2.824705          0.944083   37.0  0.036561   \n4                 2.824705          0.944083   37.0  0.036561   \n...                    ...               ...    ...       ...   \n1560              2.504850          0.056708    3.0  0.027273   \n1561              2.504850          0.056708    3.0  0.027273   \n1562              2.504850          0.056708    3.0  0.027273   \n1563              2.434761          0.801968    1.0  0.019608   \n1564              2.488054          0.106638    1.0  0.013514   \n\n                                               geometry  company_id  \n0     MULTIPOLYGON (((56.24348 57.97681, 56.24351 57...   206819075  \n1     MULTIPOLYGON (((56.24348 57.97681, 56.24351 57...   206819075  \n2     MULTIPOLYGON (((56.15937 58.00912, 56.15972 58...   698090257  \n3     MULTIPOLYGON (((56.15937 58.00912, 56.15972 58...   698090257  \n4     MULTIPOLYGON (((56.15937 58.00912, 56.15972 58...   698090257  \n...                                                 ...         ...  \n1560  MULTIPOLYGON (((56.16704 58.04032, 56.16847 58...  1103860108  \n1561  MULTIPOLYGON (((56.16704 58.04032, 56.16847 58...  1103860108  \n1562  MULTIPOLYGON (((56.16704 58.04032, 56.16847 58...  1103860108  \n1563  MULTIPOLYGON (((56.13883 58.01975, 56.13898 58...  1136615387  \n1564  MULTIPOLYGON (((56.17449 57.91414, 56.17469 57...  1147236714  \n\n[1565 rows x 16 columns]",
      "text/html": "<div>\n<style scoped>\n    .dataframe tbody tr th:only-of-type {\n        vertical-align: middle;\n    }\n\n    .dataframe tbody tr th {\n        vertical-align: top;\n    }\n\n    .dataframe thead th {\n        text-align: right;\n    }\n</style>\n<table border=\"1\" class=\"dataframe\">\n  <thead>\n    <tr style=\"text-align: right;\">\n      <th></th>\n      <th>id</th>\n      <th>block_id</th>\n      <th>industry</th>\n      <th>total_area</th>\n      <th>workers</th>\n      <th>landuse</th>\n      <th>industrial</th>\n      <th>retail</th>\n      <th>service</th>\n      <th>population_availability</th>\n      <th>workers_availability</th>\n      <th>employment_share</th>\n      <th>tours</th>\n      <th>TGR</th>\n      <th>geometry</th>\n      <th>company_id</th>\n    </tr>\n  </thead>\n  <tbody>\n    <tr>\n      <th>0</th>\n      <td>206819075</td>\n      <td>324</td>\n      <td>industrial</td>\n      <td>1039.479</td>\n      <td>60</td>\n      <td>residential</td>\n      <td>0.865545</td>\n      <td>0.103314</td>\n      <td>0.031142</td>\n      <td>6.314141</td>\n      <td>2.824434</td>\n      <td>0.865545</td>\n      <td>2.0</td>\n      <td>0.033333</td>\n      <td>MULTIPOLYGON (((56.24348 57.97681, 56.24351 57...</td>\n      <td>206819075</td>\n    </tr>\n    <tr>\n      <th>1</th>\n      <td>206819075</td>\n      <td>324</td>\n      <td>industrial</td>\n      <td>1039.479</td>\n      <td>60</td>\n      <td>residential</td>\n      <td>0.865545</td>\n      <td>0.103314</td>\n      <td>0.031142</td>\n      <td>6.314141</td>\n      <td>2.824434</td>\n      <td>0.865545</td>\n      <td>2.0</td>\n      <td>0.033333</td>\n      <td>MULTIPOLYGON (((56.24348 57.97681, 56.24351 57...</td>\n      <td>206819075</td>\n    </tr>\n    <tr>\n      <th>2</th>\n      <td>698090257</td>\n      <td>1884</td>\n      <td>industrial</td>\n      <td>21594.268</td>\n      <td>1012</td>\n      <td>industrial</td>\n      <td>0.944083</td>\n      <td>0.007917</td>\n      <td>0.048000</td>\n      <td>5.604110</td>\n      <td>2.824705</td>\n      <td>0.944083</td>\n      <td>37.0</td>\n      <td>0.036561</td>\n      <td>MULTIPOLYGON (((56.15937 58.00912, 56.15972 58...</td>\n      <td>698090257</td>\n    </tr>\n    <tr>\n      <th>3</th>\n      <td>698090257</td>\n      <td>1884</td>\n      <td>industrial</td>\n      <td>21594.268</td>\n      <td>1012</td>\n      <td>industrial</td>\n      <td>0.944083</td>\n      <td>0.007917</td>\n      <td>0.048000</td>\n      <td>5.604110</td>\n      <td>2.824705</td>\n      <td>0.944083</td>\n      <td>37.0</td>\n      <td>0.036561</td>\n      <td>MULTIPOLYGON (((56.15937 58.00912, 56.15972 58...</td>\n      <td>698090257</td>\n    </tr>\n    <tr>\n      <th>4</th>\n      <td>698090257</td>\n      <td>1884</td>\n      <td>industrial</td>\n      <td>21594.268</td>\n      <td>1012</td>\n      <td>industrial</td>\n      <td>0.944083</td>\n      <td>0.007917</td>\n      <td>0.048000</td>\n      <td>5.604110</td>\n      <td>2.824705</td>\n      <td>0.944083</td>\n      <td>37.0</td>\n      <td>0.036561</td>\n      <td>MULTIPOLYGON (((56.15937 58.00912, 56.15972 58...</td>\n      <td>698090257</td>\n    </tr>\n    <tr>\n      <th>...</th>\n      <td>...</td>\n      <td>...</td>\n      <td>...</td>\n      <td>...</td>\n      <td>...</td>\n      <td>...</td>\n      <td>...</td>\n      <td>...</td>\n      <td>...</td>\n      <td>...</td>\n      <td>...</td>\n      <td>...</td>\n      <td>...</td>\n      <td>...</td>\n      <td>...</td>\n      <td>...</td>\n    </tr>\n    <tr>\n      <th>1560</th>\n      <td>1103860108</td>\n      <td>209</td>\n      <td>service</td>\n      <td>4508.136</td>\n      <td>110</td>\n      <td>industrial</td>\n      <td>0.943292</td>\n      <td>NaN</td>\n      <td>0.056708</td>\n      <td>5.036346</td>\n      <td>2.504850</td>\n      <td>0.056708</td>\n      <td>3.0</td>\n      <td>0.027273</td>\n      <td>MULTIPOLYGON (((56.16704 58.04032, 56.16847 58...</td>\n      <td>1103860108</td>\n    </tr>\n    <tr>\n      <th>1561</th>\n      <td>1103860108</td>\n      <td>209</td>\n      <td>service</td>\n      <td>4508.136</td>\n      <td>110</td>\n      <td>industrial</td>\n      <td>0.943292</td>\n      <td>NaN</td>\n      <td>0.056708</td>\n      <td>5.036346</td>\n      <td>2.504850</td>\n      <td>0.056708</td>\n      <td>3.0</td>\n      <td>0.027273</td>\n      <td>MULTIPOLYGON (((56.16704 58.04032, 56.16847 58...</td>\n      <td>1103860108</td>\n    </tr>\n    <tr>\n      <th>1562</th>\n      <td>1103860108</td>\n      <td>209</td>\n      <td>service</td>\n      <td>4508.136</td>\n      <td>110</td>\n      <td>industrial</td>\n      <td>0.943292</td>\n      <td>NaN</td>\n      <td>0.056708</td>\n      <td>5.036346</td>\n      <td>2.504850</td>\n      <td>0.056708</td>\n      <td>3.0</td>\n      <td>0.027273</td>\n      <td>MULTIPOLYGON (((56.16704 58.04032, 56.16847 58...</td>\n      <td>1103860108</td>\n    </tr>\n    <tr>\n      <th>1563</th>\n      <td>1136615387</td>\n      <td>943</td>\n      <td>industrial</td>\n      <td>2367.608</td>\n      <td>51</td>\n      <td>industrial</td>\n      <td>0.801968</td>\n      <td>NaN</td>\n      <td>0.198032</td>\n      <td>4.979759</td>\n      <td>2.434761</td>\n      <td>0.801968</td>\n      <td>1.0</td>\n      <td>0.019608</td>\n      <td>MULTIPOLYGON (((56.13883 58.01975, 56.13898 58...</td>\n      <td>1136615387</td>\n    </tr>\n    <tr>\n      <th>1564</th>\n      <td>1147236714</td>\n      <td>294</td>\n      <td>service</td>\n      <td>3158.331</td>\n      <td>74</td>\n      <td>industrial</td>\n      <td>0.891762</td>\n      <td>0.001600</td>\n      <td>0.106638</td>\n      <td>4.802194</td>\n      <td>2.488054</td>\n      <td>0.106638</td>\n      <td>1.0</td>\n      <td>0.013514</td>\n      <td>MULTIPOLYGON (((56.17449 57.91414, 56.17469 57...</td>\n      <td>1147236714</td>\n    </tr>\n  </tbody>\n</table>\n<p>1565 rows × 16 columns</p>\n</div>"
     },
     "execution_count": 11,
     "metadata": {},
     "output_type": "execute_result"
    }
   ],
   "source": [
    "# Размножаем строки по столбцу 'tours'\n",
    "tours_synthetic_expanded = tours_synthetic.loc[\n",
    "    tours_synthetic.index.repeat(tours_synthetic['tours'])\n",
    "]\n",
    "\n",
    "# Сбрасываем индекс для нового DataFrame\n",
    "tours_synthetic_expanded = tours_synthetic_expanded.reset_index(drop=True)\n",
    "\n",
    "# Печатаем обновленный DataFrame\n",
    "tours_synthetic_expanded"
   ],
   "metadata": {
    "collapsed": false,
    "ExecuteTime": {
     "end_time": "2024-01-18T19:24:00.594143500Z",
     "start_time": "2024-01-18T19:24:00.530814500Z"
    }
   },
   "id": "75b043938a754ee3"
  },
  {
   "cell_type": "code",
   "execution_count": 12,
   "outputs": [
    {
     "data": {
      "text/plain": "              id  block_id    industry      landuse  population_availability  \\\n0      206819075       324  industrial  residential                 6.314141   \n1      206819075       324  industrial  residential                 6.314141   \n2      698090257      1884  industrial   industrial                 5.604110   \n3      698090257      1884  industrial   industrial                 5.604110   \n4      698090257      1884  industrial   industrial                 5.604110   \n...          ...       ...         ...          ...                      ...   \n1560  1103860108       209     service   industrial                 5.036346   \n1561  1103860108       209     service   industrial                 5.036346   \n1562  1103860108       209     service   industrial                 5.036346   \n1563  1136615387       943  industrial   industrial                 4.979759   \n1564  1147236714       294     service   industrial                 4.802194   \n\n      workers_availability  employment_share  \\\n0                 2.824434          0.865545   \n1                 2.824434          0.865545   \n2                 2.824705          0.944083   \n3                 2.824705          0.944083   \n4                 2.824705          0.944083   \n...                    ...               ...   \n1560              2.504850          0.056708   \n1561              2.504850          0.056708   \n1562              2.504850          0.056708   \n1563              2.434761          0.801968   \n1564              2.488054          0.106638   \n\n                                               geometry  company_id  \n0     MULTIPOLYGON (((56.24348 57.97681, 56.24351 57...   206819075  \n1     MULTIPOLYGON (((56.24348 57.97681, 56.24351 57...   206819075  \n2     MULTIPOLYGON (((56.15937 58.00912, 56.15972 58...   698090257  \n3     MULTIPOLYGON (((56.15937 58.00912, 56.15972 58...   698090257  \n4     MULTIPOLYGON (((56.15937 58.00912, 56.15972 58...   698090257  \n...                                                 ...         ...  \n1560  MULTIPOLYGON (((56.16704 58.04032, 56.16847 58...  1103860108  \n1561  MULTIPOLYGON (((56.16704 58.04032, 56.16847 58...  1103860108  \n1562  MULTIPOLYGON (((56.16704 58.04032, 56.16847 58...  1103860108  \n1563  MULTIPOLYGON (((56.13883 58.01975, 56.13898 58...  1136615387  \n1564  MULTIPOLYGON (((56.17449 57.91414, 56.17469 57...  1147236714  \n\n[1565 rows x 9 columns]",
      "text/html": "<div>\n<style scoped>\n    .dataframe tbody tr th:only-of-type {\n        vertical-align: middle;\n    }\n\n    .dataframe tbody tr th {\n        vertical-align: top;\n    }\n\n    .dataframe thead th {\n        text-align: right;\n    }\n</style>\n<table border=\"1\" class=\"dataframe\">\n  <thead>\n    <tr style=\"text-align: right;\">\n      <th></th>\n      <th>id</th>\n      <th>block_id</th>\n      <th>industry</th>\n      <th>landuse</th>\n      <th>population_availability</th>\n      <th>workers_availability</th>\n      <th>employment_share</th>\n      <th>geometry</th>\n      <th>company_id</th>\n    </tr>\n  </thead>\n  <tbody>\n    <tr>\n      <th>0</th>\n      <td>206819075</td>\n      <td>324</td>\n      <td>industrial</td>\n      <td>residential</td>\n      <td>6.314141</td>\n      <td>2.824434</td>\n      <td>0.865545</td>\n      <td>MULTIPOLYGON (((56.24348 57.97681, 56.24351 57...</td>\n      <td>206819075</td>\n    </tr>\n    <tr>\n      <th>1</th>\n      <td>206819075</td>\n      <td>324</td>\n      <td>industrial</td>\n      <td>residential</td>\n      <td>6.314141</td>\n      <td>2.824434</td>\n      <td>0.865545</td>\n      <td>MULTIPOLYGON (((56.24348 57.97681, 56.24351 57...</td>\n      <td>206819075</td>\n    </tr>\n    <tr>\n      <th>2</th>\n      <td>698090257</td>\n      <td>1884</td>\n      <td>industrial</td>\n      <td>industrial</td>\n      <td>5.604110</td>\n      <td>2.824705</td>\n      <td>0.944083</td>\n      <td>MULTIPOLYGON (((56.15937 58.00912, 56.15972 58...</td>\n      <td>698090257</td>\n    </tr>\n    <tr>\n      <th>3</th>\n      <td>698090257</td>\n      <td>1884</td>\n      <td>industrial</td>\n      <td>industrial</td>\n      <td>5.604110</td>\n      <td>2.824705</td>\n      <td>0.944083</td>\n      <td>MULTIPOLYGON (((56.15937 58.00912, 56.15972 58...</td>\n      <td>698090257</td>\n    </tr>\n    <tr>\n      <th>4</th>\n      <td>698090257</td>\n      <td>1884</td>\n      <td>industrial</td>\n      <td>industrial</td>\n      <td>5.604110</td>\n      <td>2.824705</td>\n      <td>0.944083</td>\n      <td>MULTIPOLYGON (((56.15937 58.00912, 56.15972 58...</td>\n      <td>698090257</td>\n    </tr>\n    <tr>\n      <th>...</th>\n      <td>...</td>\n      <td>...</td>\n      <td>...</td>\n      <td>...</td>\n      <td>...</td>\n      <td>...</td>\n      <td>...</td>\n      <td>...</td>\n      <td>...</td>\n    </tr>\n    <tr>\n      <th>1560</th>\n      <td>1103860108</td>\n      <td>209</td>\n      <td>service</td>\n      <td>industrial</td>\n      <td>5.036346</td>\n      <td>2.504850</td>\n      <td>0.056708</td>\n      <td>MULTIPOLYGON (((56.16704 58.04032, 56.16847 58...</td>\n      <td>1103860108</td>\n    </tr>\n    <tr>\n      <th>1561</th>\n      <td>1103860108</td>\n      <td>209</td>\n      <td>service</td>\n      <td>industrial</td>\n      <td>5.036346</td>\n      <td>2.504850</td>\n      <td>0.056708</td>\n      <td>MULTIPOLYGON (((56.16704 58.04032, 56.16847 58...</td>\n      <td>1103860108</td>\n    </tr>\n    <tr>\n      <th>1562</th>\n      <td>1103860108</td>\n      <td>209</td>\n      <td>service</td>\n      <td>industrial</td>\n      <td>5.036346</td>\n      <td>2.504850</td>\n      <td>0.056708</td>\n      <td>MULTIPOLYGON (((56.16704 58.04032, 56.16847 58...</td>\n      <td>1103860108</td>\n    </tr>\n    <tr>\n      <th>1563</th>\n      <td>1136615387</td>\n      <td>943</td>\n      <td>industrial</td>\n      <td>industrial</td>\n      <td>4.979759</td>\n      <td>2.434761</td>\n      <td>0.801968</td>\n      <td>MULTIPOLYGON (((56.13883 58.01975, 56.13898 58...</td>\n      <td>1136615387</td>\n    </tr>\n    <tr>\n      <th>1564</th>\n      <td>1147236714</td>\n      <td>294</td>\n      <td>service</td>\n      <td>industrial</td>\n      <td>4.802194</td>\n      <td>2.488054</td>\n      <td>0.106638</td>\n      <td>MULTIPOLYGON (((56.17449 57.91414, 56.17469 57...</td>\n      <td>1147236714</td>\n    </tr>\n  </tbody>\n</table>\n<p>1565 rows × 9 columns</p>\n</div>"
     },
     "execution_count": 12,
     "metadata": {},
     "output_type": "execute_result"
    }
   ],
   "source": [
    "columns_to_drop = ['tours', 'TGR', 'total_area', 'workers', 'industrial', 'retail', 'service']\n",
    "tours_synthetic_expanded = tours_synthetic_expanded.drop(columns=columns_to_drop)\n",
    "tours_synthetic_expanded"
   ],
   "metadata": {
    "collapsed": false,
    "ExecuteTime": {
     "end_time": "2024-01-18T19:30:41.061534600Z",
     "start_time": "2024-01-18T19:30:40.994861300Z"
    }
   },
   "id": "8c5ffc279d95b932"
  },
  {
   "cell_type": "code",
   "execution_count": 13,
   "outputs": [
    {
     "data": {
      "text/plain": "      block_id    industry      landuse  population_availability  \\\nid                                                                 \n0          324  industrial  residential                 6.314141   \n1          324  industrial  residential                 6.314141   \n2         1884  industrial   industrial                 5.604110   \n3         1884  industrial   industrial                 5.604110   \n4         1884  industrial   industrial                 5.604110   \n...        ...         ...          ...                      ...   \n1560       209     service   industrial                 5.036346   \n1561       209     service   industrial                 5.036346   \n1562       209     service   industrial                 5.036346   \n1563       943  industrial   industrial                 4.979759   \n1564       294     service   industrial                 4.802194   \n\n      workers_availability  employment_share  \\\nid                                             \n0                 2.824434          0.865545   \n1                 2.824434          0.865545   \n2                 2.824705          0.944083   \n3                 2.824705          0.944083   \n4                 2.824705          0.944083   \n...                    ...               ...   \n1560              2.504850          0.056708   \n1561              2.504850          0.056708   \n1562              2.504850          0.056708   \n1563              2.434761          0.801968   \n1564              2.488054          0.106638   \n\n                                               geometry  company_id  \nid                                                                   \n0     MULTIPOLYGON (((56.24348 57.97681, 56.24351 57...   206819075  \n1     MULTIPOLYGON (((56.24348 57.97681, 56.24351 57...   206819075  \n2     MULTIPOLYGON (((56.15937 58.00912, 56.15972 58...   698090257  \n3     MULTIPOLYGON (((56.15937 58.00912, 56.15972 58...   698090257  \n4     MULTIPOLYGON (((56.15937 58.00912, 56.15972 58...   698090257  \n...                                                 ...         ...  \n1560  MULTIPOLYGON (((56.16704 58.04032, 56.16847 58...  1103860108  \n1561  MULTIPOLYGON (((56.16704 58.04032, 56.16847 58...  1103860108  \n1562  MULTIPOLYGON (((56.16704 58.04032, 56.16847 58...  1103860108  \n1563  MULTIPOLYGON (((56.13883 58.01975, 56.13898 58...  1136615387  \n1564  MULTIPOLYGON (((56.17449 57.91414, 56.17469 57...  1147236714  \n\n[1565 rows x 8 columns]",
      "text/html": "<div>\n<style scoped>\n    .dataframe tbody tr th:only-of-type {\n        vertical-align: middle;\n    }\n\n    .dataframe tbody tr th {\n        vertical-align: top;\n    }\n\n    .dataframe thead th {\n        text-align: right;\n    }\n</style>\n<table border=\"1\" class=\"dataframe\">\n  <thead>\n    <tr style=\"text-align: right;\">\n      <th></th>\n      <th>block_id</th>\n      <th>industry</th>\n      <th>landuse</th>\n      <th>population_availability</th>\n      <th>workers_availability</th>\n      <th>employment_share</th>\n      <th>geometry</th>\n      <th>company_id</th>\n    </tr>\n    <tr>\n      <th>id</th>\n      <th></th>\n      <th></th>\n      <th></th>\n      <th></th>\n      <th></th>\n      <th></th>\n      <th></th>\n      <th></th>\n    </tr>\n  </thead>\n  <tbody>\n    <tr>\n      <th>0</th>\n      <td>324</td>\n      <td>industrial</td>\n      <td>residential</td>\n      <td>6.314141</td>\n      <td>2.824434</td>\n      <td>0.865545</td>\n      <td>MULTIPOLYGON (((56.24348 57.97681, 56.24351 57...</td>\n      <td>206819075</td>\n    </tr>\n    <tr>\n      <th>1</th>\n      <td>324</td>\n      <td>industrial</td>\n      <td>residential</td>\n      <td>6.314141</td>\n      <td>2.824434</td>\n      <td>0.865545</td>\n      <td>MULTIPOLYGON (((56.24348 57.97681, 56.24351 57...</td>\n      <td>206819075</td>\n    </tr>\n    <tr>\n      <th>2</th>\n      <td>1884</td>\n      <td>industrial</td>\n      <td>industrial</td>\n      <td>5.604110</td>\n      <td>2.824705</td>\n      <td>0.944083</td>\n      <td>MULTIPOLYGON (((56.15937 58.00912, 56.15972 58...</td>\n      <td>698090257</td>\n    </tr>\n    <tr>\n      <th>3</th>\n      <td>1884</td>\n      <td>industrial</td>\n      <td>industrial</td>\n      <td>5.604110</td>\n      <td>2.824705</td>\n      <td>0.944083</td>\n      <td>MULTIPOLYGON (((56.15937 58.00912, 56.15972 58...</td>\n      <td>698090257</td>\n    </tr>\n    <tr>\n      <th>4</th>\n      <td>1884</td>\n      <td>industrial</td>\n      <td>industrial</td>\n      <td>5.604110</td>\n      <td>2.824705</td>\n      <td>0.944083</td>\n      <td>MULTIPOLYGON (((56.15937 58.00912, 56.15972 58...</td>\n      <td>698090257</td>\n    </tr>\n    <tr>\n      <th>...</th>\n      <td>...</td>\n      <td>...</td>\n      <td>...</td>\n      <td>...</td>\n      <td>...</td>\n      <td>...</td>\n      <td>...</td>\n      <td>...</td>\n    </tr>\n    <tr>\n      <th>1560</th>\n      <td>209</td>\n      <td>service</td>\n      <td>industrial</td>\n      <td>5.036346</td>\n      <td>2.504850</td>\n      <td>0.056708</td>\n      <td>MULTIPOLYGON (((56.16704 58.04032, 56.16847 58...</td>\n      <td>1103860108</td>\n    </tr>\n    <tr>\n      <th>1561</th>\n      <td>209</td>\n      <td>service</td>\n      <td>industrial</td>\n      <td>5.036346</td>\n      <td>2.504850</td>\n      <td>0.056708</td>\n      <td>MULTIPOLYGON (((56.16704 58.04032, 56.16847 58...</td>\n      <td>1103860108</td>\n    </tr>\n    <tr>\n      <th>1562</th>\n      <td>209</td>\n      <td>service</td>\n      <td>industrial</td>\n      <td>5.036346</td>\n      <td>2.504850</td>\n      <td>0.056708</td>\n      <td>MULTIPOLYGON (((56.16704 58.04032, 56.16847 58...</td>\n      <td>1103860108</td>\n    </tr>\n    <tr>\n      <th>1563</th>\n      <td>943</td>\n      <td>industrial</td>\n      <td>industrial</td>\n      <td>4.979759</td>\n      <td>2.434761</td>\n      <td>0.801968</td>\n      <td>MULTIPOLYGON (((56.13883 58.01975, 56.13898 58...</td>\n      <td>1136615387</td>\n    </tr>\n    <tr>\n      <th>1564</th>\n      <td>294</td>\n      <td>service</td>\n      <td>industrial</td>\n      <td>4.802194</td>\n      <td>2.488054</td>\n      <td>0.106638</td>\n      <td>MULTIPOLYGON (((56.17449 57.91414, 56.17469 57...</td>\n      <td>1147236714</td>\n    </tr>\n  </tbody>\n</table>\n<p>1565 rows × 8 columns</p>\n</div>"
     },
     "execution_count": 13,
     "metadata": {},
     "output_type": "execute_result"
    }
   ],
   "source": [
    "tours_synthetic_expanded['id'] = tours_synthetic_expanded.index  # Копирование порядкового индекса в столбец 'id'\n",
    "tours_synthetic_expanded.set_index('id', inplace=True)  # Установка столбца 'id' в качестве индекса\n",
    "tours_synthetic_expanded"
   ],
   "metadata": {
    "collapsed": false,
    "ExecuteTime": {
     "end_time": "2024-01-18T19:50:02.429869600Z",
     "start_time": "2024-01-18T19:50:02.342794800Z"
    }
   },
   "id": "df4c162483673823"
  },
  {
   "cell_type": "code",
   "execution_count": null,
   "outputs": [],
   "source": [
    "tours_synthetic_expanded.to_file('data/tour_list_data.geojson', driver='GeoJSON')"
   ],
   "metadata": {
    "collapsed": false
   },
   "id": "499aa580016a27f4"
  },
  {
   "cell_type": "code",
   "execution_count": 15,
   "outputs": [
    {
     "data": {
      "text/plain": "Index(['block_id', 'industry', 'landuse', 'population_availability',\n       'workers_availability', 'employment_share', 'geometry', 'company_id'],\n      dtype='object')"
     },
     "execution_count": 15,
     "metadata": {},
     "output_type": "execute_result"
    }
   ],
   "source": [
    "tours_synthetic_expanded.columns"
   ],
   "metadata": {
    "collapsed": false,
    "ExecuteTime": {
     "end_time": "2024-01-19T11:34:13.553630700Z",
     "start_time": "2024-01-19T11:34:13.515349Z"
    }
   },
   "id": "b519b28525fee39e"
  },
  {
   "cell_type": "code",
   "execution_count": 22,
   "outputs": [],
   "source": [
    "from scipy.stats import rv_discrete\n",
    "from scipy.stats import expon"
   ],
   "metadata": {
    "collapsed": false,
    "ExecuteTime": {
     "end_time": "2024-01-19T11:46:47.662206100Z",
     "start_time": "2024-01-19T11:46:47.608813400Z"
    }
   },
   "id": "3fc7a0cabd5257ce"
  },
  {
   "cell_type": "markdown",
   "source": [
    "Генерация часа отправления"
   ],
   "metadata": {
    "collapsed": false
   },
   "id": "1208631f2e0033c2"
  },
  {
   "cell_type": "code",
   "execution_count": 26,
   "outputs": [
    {
     "name": "stdout",
     "output_type": "stream",
     "text": [
      "1.0\n"
     ]
    },
    {
     "data": {
      "text/plain": "      company_id  departure_hour\nid                              \n0      206819075              15\n1      206819075              10\n2      698090257              16\n3      698090257               9\n4      698090257              14\n...          ...             ...\n1560  1103860108              15\n1561  1103860108              10\n1562  1103860108              11\n1563  1136615387               9\n1564  1147236714              10\n\n[1565 rows x 2 columns]",
      "text/html": "<div>\n<style scoped>\n    .dataframe tbody tr th:only-of-type {\n        vertical-align: middle;\n    }\n\n    .dataframe tbody tr th {\n        vertical-align: top;\n    }\n\n    .dataframe thead th {\n        text-align: right;\n    }\n</style>\n<table border=\"1\" class=\"dataframe\">\n  <thead>\n    <tr style=\"text-align: right;\">\n      <th></th>\n      <th>company_id</th>\n      <th>departure_hour</th>\n    </tr>\n    <tr>\n      <th>id</th>\n      <th></th>\n      <th></th>\n    </tr>\n  </thead>\n  <tbody>\n    <tr>\n      <th>0</th>\n      <td>206819075</td>\n      <td>15</td>\n    </tr>\n    <tr>\n      <th>1</th>\n      <td>206819075</td>\n      <td>10</td>\n    </tr>\n    <tr>\n      <th>2</th>\n      <td>698090257</td>\n      <td>16</td>\n    </tr>\n    <tr>\n      <th>3</th>\n      <td>698090257</td>\n      <td>9</td>\n    </tr>\n    <tr>\n      <th>4</th>\n      <td>698090257</td>\n      <td>14</td>\n    </tr>\n    <tr>\n      <th>...</th>\n      <td>...</td>\n      <td>...</td>\n    </tr>\n    <tr>\n      <th>1560</th>\n      <td>1103860108</td>\n      <td>15</td>\n    </tr>\n    <tr>\n      <th>1561</th>\n      <td>1103860108</td>\n      <td>10</td>\n    </tr>\n    <tr>\n      <th>1562</th>\n      <td>1103860108</td>\n      <td>11</td>\n    </tr>\n    <tr>\n      <th>1563</th>\n      <td>1136615387</td>\n      <td>9</td>\n    </tr>\n    <tr>\n      <th>1564</th>\n      <td>1147236714</td>\n      <td>10</td>\n    </tr>\n  </tbody>\n</table>\n<p>1565 rows × 2 columns</p>\n</div>"
     },
     "execution_count": 26,
     "metadata": {},
     "output_type": "execute_result"
    }
   ],
   "source": [
    "# Распределение времени отправления туров\n",
    "hours = np.arange(24)\n",
    "hourly_distribution = np.array([\n",
    "    0.0, 0.0, 0.0, 0.005640794223826715, 0.02115297833935018, 0.050767148014440426,\n",
    "    0.25242554151624547, 0.5429264440433212, 4.690320397111913, 12.55499774368231,\n",
    "    15.207581227436823, 13.129569043321299, 11.178474729241877, 12.794731498194945,\n",
    "    12.306013086642597, 9.576658393501805, 4.800315884476534, 1.7883009927797833,\n",
    "    0.60012409747292418, 0.5, 0.0, 0.0, 0.0, 0.0\n",
    "])\n",
    "\n",
    "hourly_distribution = hourly_distribution / 100\n",
    "\n",
    "print(hourly_distribution.sum())\n",
    "\n",
    "# Кумулятивная функция распределения\n",
    "cdf = np.cumsum(hourly_distribution)\n",
    "\n",
    "# Создание случайной переменной с дискретным распределением\n",
    "random_variable = rv_discrete(values=(hours, hourly_distribution))\n",
    "\n",
    "# Генерация времени отправления туров\n",
    "tours_synthetic_expanded['departure_hour'] = random_variable.rvs(size=len(tours_synthetic_expanded))\n",
    "\n",
    "# Вывод данных\n",
    "tours_synthetic_expanded[['company_id', 'departure_hour']]"
   ],
   "metadata": {
    "collapsed": false,
    "ExecuteTime": {
     "end_time": "2024-01-19T12:01:27.800055500Z",
     "start_time": "2024-01-19T12:01:27.768411Z"
    }
   },
   "id": "20113e2f657f68e5"
  },
  {
   "cell_type": "markdown",
   "source": [
    "Генерация минуты отправления"
   ],
   "metadata": {
    "collapsed": false
   },
   "id": "9ef944843e9dbe81"
  },
  {
   "cell_type": "code",
   "execution_count": 29,
   "outputs": [
    {
     "data": {
      "text/plain": "      block_id    industry      landuse  population_availability  \\\nid                                                                 \n0          324  industrial  residential                 6.314141   \n1          324  industrial  residential                 6.314141   \n2         1884  industrial   industrial                 5.604110   \n3         1884  industrial   industrial                 5.604110   \n4         1884  industrial   industrial                 5.604110   \n...        ...         ...          ...                      ...   \n1560       209     service   industrial                 5.036346   \n1561       209     service   industrial                 5.036346   \n1562       209     service   industrial                 5.036346   \n1563       943  industrial   industrial                 4.979759   \n1564       294     service   industrial                 4.802194   \n\n      workers_availability  employment_share  \\\nid                                             \n0                 2.824434          0.865545   \n1                 2.824434          0.865545   \n2                 2.824705          0.944083   \n3                 2.824705          0.944083   \n4                 2.824705          0.944083   \n...                    ...               ...   \n1560              2.504850          0.056708   \n1561              2.504850          0.056708   \n1562              2.504850          0.056708   \n1563              2.434761          0.801968   \n1564              2.488054          0.106638   \n\n                                               geometry  company_id  \\\nid                                                                    \n0     MULTIPOLYGON (((56.24348 57.97681, 56.24351 57...   206819075   \n1     MULTIPOLYGON (((56.24348 57.97681, 56.24351 57...   206819075   \n2     MULTIPOLYGON (((56.15937 58.00912, 56.15972 58...   698090257   \n3     MULTIPOLYGON (((56.15937 58.00912, 56.15972 58...   698090257   \n4     MULTIPOLYGON (((56.15937 58.00912, 56.15972 58...   698090257   \n...                                                 ...         ...   \n1560  MULTIPOLYGON (((56.16704 58.04032, 56.16847 58...  1103860108   \n1561  MULTIPOLYGON (((56.16704 58.04032, 56.16847 58...  1103860108   \n1562  MULTIPOLYGON (((56.16704 58.04032, 56.16847 58...  1103860108   \n1563  MULTIPOLYGON (((56.13883 58.01975, 56.13898 58...  1136615387   \n1564  MULTIPOLYGON (((56.17449 57.91414, 56.17469 57...  1147236714   \n\n      departure_time  departure_hour  departure_minutes  \nid                                                       \n0                 12              15                 38  \n1                 14              10                 51  \n2                  9              16                 28  \n3                 10               9                 14  \n4                 14              14                 42  \n...              ...             ...                ...  \n1560              13              15                 16  \n1561              15              10                 19  \n1562              14              11                 40  \n1563              10               9                 48  \n1564              12              10                 19  \n\n[1565 rows x 11 columns]",
      "text/html": "<div>\n<style scoped>\n    .dataframe tbody tr th:only-of-type {\n        vertical-align: middle;\n    }\n\n    .dataframe tbody tr th {\n        vertical-align: top;\n    }\n\n    .dataframe thead th {\n        text-align: right;\n    }\n</style>\n<table border=\"1\" class=\"dataframe\">\n  <thead>\n    <tr style=\"text-align: right;\">\n      <th></th>\n      <th>block_id</th>\n      <th>industry</th>\n      <th>landuse</th>\n      <th>population_availability</th>\n      <th>workers_availability</th>\n      <th>employment_share</th>\n      <th>geometry</th>\n      <th>company_id</th>\n      <th>departure_time</th>\n      <th>departure_hour</th>\n      <th>departure_minutes</th>\n    </tr>\n    <tr>\n      <th>id</th>\n      <th></th>\n      <th></th>\n      <th></th>\n      <th></th>\n      <th></th>\n      <th></th>\n      <th></th>\n      <th></th>\n      <th></th>\n      <th></th>\n      <th></th>\n    </tr>\n  </thead>\n  <tbody>\n    <tr>\n      <th>0</th>\n      <td>324</td>\n      <td>industrial</td>\n      <td>residential</td>\n      <td>6.314141</td>\n      <td>2.824434</td>\n      <td>0.865545</td>\n      <td>MULTIPOLYGON (((56.24348 57.97681, 56.24351 57...</td>\n      <td>206819075</td>\n      <td>12</td>\n      <td>15</td>\n      <td>38</td>\n    </tr>\n    <tr>\n      <th>1</th>\n      <td>324</td>\n      <td>industrial</td>\n      <td>residential</td>\n      <td>6.314141</td>\n      <td>2.824434</td>\n      <td>0.865545</td>\n      <td>MULTIPOLYGON (((56.24348 57.97681, 56.24351 57...</td>\n      <td>206819075</td>\n      <td>14</td>\n      <td>10</td>\n      <td>51</td>\n    </tr>\n    <tr>\n      <th>2</th>\n      <td>1884</td>\n      <td>industrial</td>\n      <td>industrial</td>\n      <td>5.604110</td>\n      <td>2.824705</td>\n      <td>0.944083</td>\n      <td>MULTIPOLYGON (((56.15937 58.00912, 56.15972 58...</td>\n      <td>698090257</td>\n      <td>9</td>\n      <td>16</td>\n      <td>28</td>\n    </tr>\n    <tr>\n      <th>3</th>\n      <td>1884</td>\n      <td>industrial</td>\n      <td>industrial</td>\n      <td>5.604110</td>\n      <td>2.824705</td>\n      <td>0.944083</td>\n      <td>MULTIPOLYGON (((56.15937 58.00912, 56.15972 58...</td>\n      <td>698090257</td>\n      <td>10</td>\n      <td>9</td>\n      <td>14</td>\n    </tr>\n    <tr>\n      <th>4</th>\n      <td>1884</td>\n      <td>industrial</td>\n      <td>industrial</td>\n      <td>5.604110</td>\n      <td>2.824705</td>\n      <td>0.944083</td>\n      <td>MULTIPOLYGON (((56.15937 58.00912, 56.15972 58...</td>\n      <td>698090257</td>\n      <td>14</td>\n      <td>14</td>\n      <td>42</td>\n    </tr>\n    <tr>\n      <th>...</th>\n      <td>...</td>\n      <td>...</td>\n      <td>...</td>\n      <td>...</td>\n      <td>...</td>\n      <td>...</td>\n      <td>...</td>\n      <td>...</td>\n      <td>...</td>\n      <td>...</td>\n      <td>...</td>\n    </tr>\n    <tr>\n      <th>1560</th>\n      <td>209</td>\n      <td>service</td>\n      <td>industrial</td>\n      <td>5.036346</td>\n      <td>2.504850</td>\n      <td>0.056708</td>\n      <td>MULTIPOLYGON (((56.16704 58.04032, 56.16847 58...</td>\n      <td>1103860108</td>\n      <td>13</td>\n      <td>15</td>\n      <td>16</td>\n    </tr>\n    <tr>\n      <th>1561</th>\n      <td>209</td>\n      <td>service</td>\n      <td>industrial</td>\n      <td>5.036346</td>\n      <td>2.504850</td>\n      <td>0.056708</td>\n      <td>MULTIPOLYGON (((56.16704 58.04032, 56.16847 58...</td>\n      <td>1103860108</td>\n      <td>15</td>\n      <td>10</td>\n      <td>19</td>\n    </tr>\n    <tr>\n      <th>1562</th>\n      <td>209</td>\n      <td>service</td>\n      <td>industrial</td>\n      <td>5.036346</td>\n      <td>2.504850</td>\n      <td>0.056708</td>\n      <td>MULTIPOLYGON (((56.16704 58.04032, 56.16847 58...</td>\n      <td>1103860108</td>\n      <td>14</td>\n      <td>11</td>\n      <td>40</td>\n    </tr>\n    <tr>\n      <th>1563</th>\n      <td>943</td>\n      <td>industrial</td>\n      <td>industrial</td>\n      <td>4.979759</td>\n      <td>2.434761</td>\n      <td>0.801968</td>\n      <td>MULTIPOLYGON (((56.13883 58.01975, 56.13898 58...</td>\n      <td>1136615387</td>\n      <td>10</td>\n      <td>9</td>\n      <td>48</td>\n    </tr>\n    <tr>\n      <th>1564</th>\n      <td>294</td>\n      <td>service</td>\n      <td>industrial</td>\n      <td>4.802194</td>\n      <td>2.488054</td>\n      <td>0.106638</td>\n      <td>MULTIPOLYGON (((56.17449 57.91414, 56.17469 57...</td>\n      <td>1147236714</td>\n      <td>12</td>\n      <td>10</td>\n      <td>19</td>\n    </tr>\n  </tbody>\n</table>\n<p>1565 rows × 11 columns</p>\n</div>"
     },
     "execution_count": 29,
     "metadata": {},
     "output_type": "execute_result"
    }
   ],
   "source": [
    "tours_synthetic_expanded['departure_minutes'] = np.random.choice(range(60), size=len(tours_synthetic_expanded))\n",
    "tours_synthetic_expanded"
   ],
   "metadata": {
    "collapsed": false,
    "ExecuteTime": {
     "end_time": "2024-01-19T12:23:58.630486200Z",
     "start_time": "2024-01-19T12:23:58.568567200Z"
    }
   },
   "id": "226d2d1e2de420f1"
  },
  {
   "cell_type": "markdown",
   "source": [
    "Создадим колонку с точным временем"
   ],
   "metadata": {
    "collapsed": false
   },
   "id": "2700e39fead8d664"
  },
  {
   "cell_type": "code",
   "execution_count": 32,
   "outputs": [
    {
     "data": {
      "text/plain": "      block_id    industry      landuse  population_availability  \\\nid                                                                 \n0          324  industrial  residential                 6.314141   \n1          324  industrial  residential                 6.314141   \n2         1884  industrial   industrial                 5.604110   \n3         1884  industrial   industrial                 5.604110   \n4         1884  industrial   industrial                 5.604110   \n...        ...         ...          ...                      ...   \n1560       209     service   industrial                 5.036346   \n1561       209     service   industrial                 5.036346   \n1562       209     service   industrial                 5.036346   \n1563       943  industrial   industrial                 4.979759   \n1564       294     service   industrial                 4.802194   \n\n      workers_availability  employment_share  \\\nid                                             \n0                 2.824434          0.865545   \n1                 2.824434          0.865545   \n2                 2.824705          0.944083   \n3                 2.824705          0.944083   \n4                 2.824705          0.944083   \n...                    ...               ...   \n1560              2.504850          0.056708   \n1561              2.504850          0.056708   \n1562              2.504850          0.056708   \n1563              2.434761          0.801968   \n1564              2.488054          0.106638   \n\n                                               geometry  company_id  \\\nid                                                                    \n0     MULTIPOLYGON (((56.24348 57.97681, 56.24351 57...   206819075   \n1     MULTIPOLYGON (((56.24348 57.97681, 56.24351 57...   206819075   \n2     MULTIPOLYGON (((56.15937 58.00912, 56.15972 58...   698090257   \n3     MULTIPOLYGON (((56.15937 58.00912, 56.15972 58...   698090257   \n4     MULTIPOLYGON (((56.15937 58.00912, 56.15972 58...   698090257   \n...                                                 ...         ...   \n1560  MULTIPOLYGON (((56.16704 58.04032, 56.16847 58...  1103860108   \n1561  MULTIPOLYGON (((56.16704 58.04032, 56.16847 58...  1103860108   \n1562  MULTIPOLYGON (((56.16704 58.04032, 56.16847 58...  1103860108   \n1563  MULTIPOLYGON (((56.13883 58.01975, 56.13898 58...  1136615387   \n1564  MULTIPOLYGON (((56.17449 57.91414, 56.17469 57...  1147236714   \n\n          departure_time  departure_hour  departure_minutes  \nid                                                           \n0    1900-01-01 15:38:00              15                 38  \n1    1900-01-01 10:51:00              10                 51  \n2    1900-01-01 16:28:00              16                 28  \n3    1900-01-01 09:14:00               9                 14  \n4    1900-01-01 14:42:00              14                 42  \n...                  ...             ...                ...  \n1560 1900-01-01 15:16:00              15                 16  \n1561 1900-01-01 10:19:00              10                 19  \n1562 1900-01-01 11:40:00              11                 40  \n1563 1900-01-01 09:48:00               9                 48  \n1564 1900-01-01 10:19:00              10                 19  \n\n[1565 rows x 11 columns]",
      "text/html": "<div>\n<style scoped>\n    .dataframe tbody tr th:only-of-type {\n        vertical-align: middle;\n    }\n\n    .dataframe tbody tr th {\n        vertical-align: top;\n    }\n\n    .dataframe thead th {\n        text-align: right;\n    }\n</style>\n<table border=\"1\" class=\"dataframe\">\n  <thead>\n    <tr style=\"text-align: right;\">\n      <th></th>\n      <th>block_id</th>\n      <th>industry</th>\n      <th>landuse</th>\n      <th>population_availability</th>\n      <th>workers_availability</th>\n      <th>employment_share</th>\n      <th>geometry</th>\n      <th>company_id</th>\n      <th>departure_time</th>\n      <th>departure_hour</th>\n      <th>departure_minutes</th>\n    </tr>\n    <tr>\n      <th>id</th>\n      <th></th>\n      <th></th>\n      <th></th>\n      <th></th>\n      <th></th>\n      <th></th>\n      <th></th>\n      <th></th>\n      <th></th>\n      <th></th>\n      <th></th>\n    </tr>\n  </thead>\n  <tbody>\n    <tr>\n      <th>0</th>\n      <td>324</td>\n      <td>industrial</td>\n      <td>residential</td>\n      <td>6.314141</td>\n      <td>2.824434</td>\n      <td>0.865545</td>\n      <td>MULTIPOLYGON (((56.24348 57.97681, 56.24351 57...</td>\n      <td>206819075</td>\n      <td>1900-01-01 15:38:00</td>\n      <td>15</td>\n      <td>38</td>\n    </tr>\n    <tr>\n      <th>1</th>\n      <td>324</td>\n      <td>industrial</td>\n      <td>residential</td>\n      <td>6.314141</td>\n      <td>2.824434</td>\n      <td>0.865545</td>\n      <td>MULTIPOLYGON (((56.24348 57.97681, 56.24351 57...</td>\n      <td>206819075</td>\n      <td>1900-01-01 10:51:00</td>\n      <td>10</td>\n      <td>51</td>\n    </tr>\n    <tr>\n      <th>2</th>\n      <td>1884</td>\n      <td>industrial</td>\n      <td>industrial</td>\n      <td>5.604110</td>\n      <td>2.824705</td>\n      <td>0.944083</td>\n      <td>MULTIPOLYGON (((56.15937 58.00912, 56.15972 58...</td>\n      <td>698090257</td>\n      <td>1900-01-01 16:28:00</td>\n      <td>16</td>\n      <td>28</td>\n    </tr>\n    <tr>\n      <th>3</th>\n      <td>1884</td>\n      <td>industrial</td>\n      <td>industrial</td>\n      <td>5.604110</td>\n      <td>2.824705</td>\n      <td>0.944083</td>\n      <td>MULTIPOLYGON (((56.15937 58.00912, 56.15972 58...</td>\n      <td>698090257</td>\n      <td>1900-01-01 09:14:00</td>\n      <td>9</td>\n      <td>14</td>\n    </tr>\n    <tr>\n      <th>4</th>\n      <td>1884</td>\n      <td>industrial</td>\n      <td>industrial</td>\n      <td>5.604110</td>\n      <td>2.824705</td>\n      <td>0.944083</td>\n      <td>MULTIPOLYGON (((56.15937 58.00912, 56.15972 58...</td>\n      <td>698090257</td>\n      <td>1900-01-01 14:42:00</td>\n      <td>14</td>\n      <td>42</td>\n    </tr>\n    <tr>\n      <th>...</th>\n      <td>...</td>\n      <td>...</td>\n      <td>...</td>\n      <td>...</td>\n      <td>...</td>\n      <td>...</td>\n      <td>...</td>\n      <td>...</td>\n      <td>...</td>\n      <td>...</td>\n      <td>...</td>\n    </tr>\n    <tr>\n      <th>1560</th>\n      <td>209</td>\n      <td>service</td>\n      <td>industrial</td>\n      <td>5.036346</td>\n      <td>2.504850</td>\n      <td>0.056708</td>\n      <td>MULTIPOLYGON (((56.16704 58.04032, 56.16847 58...</td>\n      <td>1103860108</td>\n      <td>1900-01-01 15:16:00</td>\n      <td>15</td>\n      <td>16</td>\n    </tr>\n    <tr>\n      <th>1561</th>\n      <td>209</td>\n      <td>service</td>\n      <td>industrial</td>\n      <td>5.036346</td>\n      <td>2.504850</td>\n      <td>0.056708</td>\n      <td>MULTIPOLYGON (((56.16704 58.04032, 56.16847 58...</td>\n      <td>1103860108</td>\n      <td>1900-01-01 10:19:00</td>\n      <td>10</td>\n      <td>19</td>\n    </tr>\n    <tr>\n      <th>1562</th>\n      <td>209</td>\n      <td>service</td>\n      <td>industrial</td>\n      <td>5.036346</td>\n      <td>2.504850</td>\n      <td>0.056708</td>\n      <td>MULTIPOLYGON (((56.16704 58.04032, 56.16847 58...</td>\n      <td>1103860108</td>\n      <td>1900-01-01 11:40:00</td>\n      <td>11</td>\n      <td>40</td>\n    </tr>\n    <tr>\n      <th>1563</th>\n      <td>943</td>\n      <td>industrial</td>\n      <td>industrial</td>\n      <td>4.979759</td>\n      <td>2.434761</td>\n      <td>0.801968</td>\n      <td>MULTIPOLYGON (((56.13883 58.01975, 56.13898 58...</td>\n      <td>1136615387</td>\n      <td>1900-01-01 09:48:00</td>\n      <td>9</td>\n      <td>48</td>\n    </tr>\n    <tr>\n      <th>1564</th>\n      <td>294</td>\n      <td>service</td>\n      <td>industrial</td>\n      <td>4.802194</td>\n      <td>2.488054</td>\n      <td>0.106638</td>\n      <td>MULTIPOLYGON (((56.17449 57.91414, 56.17469 57...</td>\n      <td>1147236714</td>\n      <td>1900-01-01 10:19:00</td>\n      <td>10</td>\n      <td>19</td>\n    </tr>\n  </tbody>\n</table>\n<p>1565 rows × 11 columns</p>\n</div>"
     },
     "execution_count": 32,
     "metadata": {},
     "output_type": "execute_result"
    }
   ],
   "source": [
    "# Создаем колонку с временем\n",
    "tours_synthetic_expanded['departure_time'] = pd.to_datetime(tours_synthetic_expanded['departure_hour'].astype(str) + ':' +\n",
    "                                             tours_synthetic_expanded['departure_minutes'].astype(str), format='%H:%M')\n",
    "tours_synthetic_expanded"
   ],
   "metadata": {
    "collapsed": false,
    "ExecuteTime": {
     "end_time": "2024-01-19T12:30:38.007457600Z",
     "start_time": "2024-01-19T12:30:37.928798300Z"
    }
   },
   "id": "7ece3ce7e812b03a"
  },
  {
   "cell_type": "code",
   "execution_count": 34,
   "outputs": [
    {
     "data": {
      "text/plain": "      block_id    industry      landuse  population_availability  \\\nid                                                                 \n0          324  industrial  residential                 6.314141   \n1          324  industrial  residential                 6.314141   \n2         1884  industrial   industrial                 5.604110   \n3         1884  industrial   industrial                 5.604110   \n4         1884  industrial   industrial                 5.604110   \n...        ...         ...          ...                      ...   \n1560       209     service   industrial                 5.036346   \n1561       209     service   industrial                 5.036346   \n1562       209     service   industrial                 5.036346   \n1563       943  industrial   industrial                 4.979759   \n1564       294     service   industrial                 4.802194   \n\n      workers_availability  employment_share  \\\nid                                             \n0                 2.824434          0.865545   \n1                 2.824434          0.865545   \n2                 2.824705          0.944083   \n3                 2.824705          0.944083   \n4                 2.824705          0.944083   \n...                    ...               ...   \n1560              2.504850          0.056708   \n1561              2.504850          0.056708   \n1562              2.504850          0.056708   \n1563              2.434761          0.801968   \n1564              2.488054          0.106638   \n\n                                               geometry  company_id  \\\nid                                                                    \n0     MULTIPOLYGON (((56.24348 57.97681, 56.24351 57...   206819075   \n1     MULTIPOLYGON (((56.24348 57.97681, 56.24351 57...   206819075   \n2     MULTIPOLYGON (((56.15937 58.00912, 56.15972 58...   698090257   \n3     MULTIPOLYGON (((56.15937 58.00912, 56.15972 58...   698090257   \n4     MULTIPOLYGON (((56.15937 58.00912, 56.15972 58...   698090257   \n...                                                 ...         ...   \n1560  MULTIPOLYGON (((56.16704 58.04032, 56.16847 58...  1103860108   \n1561  MULTIPOLYGON (((56.16704 58.04032, 56.16847 58...  1103860108   \n1562  MULTIPOLYGON (((56.16704 58.04032, 56.16847 58...  1103860108   \n1563  MULTIPOLYGON (((56.13883 58.01975, 56.13898 58...  1136615387   \n1564  MULTIPOLYGON (((56.17449 57.91414, 56.17469 57...  1147236714   \n\n          departure_time  \nid                        \n0    1900-01-01 15:38:00  \n1    1900-01-01 10:51:00  \n2    1900-01-01 16:28:00  \n3    1900-01-01 09:14:00  \n4    1900-01-01 14:42:00  \n...                  ...  \n1560 1900-01-01 15:16:00  \n1561 1900-01-01 10:19:00  \n1562 1900-01-01 11:40:00  \n1563 1900-01-01 09:48:00  \n1564 1900-01-01 10:19:00  \n\n[1565 rows x 9 columns]",
      "text/html": "<div>\n<style scoped>\n    .dataframe tbody tr th:only-of-type {\n        vertical-align: middle;\n    }\n\n    .dataframe tbody tr th {\n        vertical-align: top;\n    }\n\n    .dataframe thead th {\n        text-align: right;\n    }\n</style>\n<table border=\"1\" class=\"dataframe\">\n  <thead>\n    <tr style=\"text-align: right;\">\n      <th></th>\n      <th>block_id</th>\n      <th>industry</th>\n      <th>landuse</th>\n      <th>population_availability</th>\n      <th>workers_availability</th>\n      <th>employment_share</th>\n      <th>geometry</th>\n      <th>company_id</th>\n      <th>departure_time</th>\n    </tr>\n    <tr>\n      <th>id</th>\n      <th></th>\n      <th></th>\n      <th></th>\n      <th></th>\n      <th></th>\n      <th></th>\n      <th></th>\n      <th></th>\n      <th></th>\n    </tr>\n  </thead>\n  <tbody>\n    <tr>\n      <th>0</th>\n      <td>324</td>\n      <td>industrial</td>\n      <td>residential</td>\n      <td>6.314141</td>\n      <td>2.824434</td>\n      <td>0.865545</td>\n      <td>MULTIPOLYGON (((56.24348 57.97681, 56.24351 57...</td>\n      <td>206819075</td>\n      <td>1900-01-01 15:38:00</td>\n    </tr>\n    <tr>\n      <th>1</th>\n      <td>324</td>\n      <td>industrial</td>\n      <td>residential</td>\n      <td>6.314141</td>\n      <td>2.824434</td>\n      <td>0.865545</td>\n      <td>MULTIPOLYGON (((56.24348 57.97681, 56.24351 57...</td>\n      <td>206819075</td>\n      <td>1900-01-01 10:51:00</td>\n    </tr>\n    <tr>\n      <th>2</th>\n      <td>1884</td>\n      <td>industrial</td>\n      <td>industrial</td>\n      <td>5.604110</td>\n      <td>2.824705</td>\n      <td>0.944083</td>\n      <td>MULTIPOLYGON (((56.15937 58.00912, 56.15972 58...</td>\n      <td>698090257</td>\n      <td>1900-01-01 16:28:00</td>\n    </tr>\n    <tr>\n      <th>3</th>\n      <td>1884</td>\n      <td>industrial</td>\n      <td>industrial</td>\n      <td>5.604110</td>\n      <td>2.824705</td>\n      <td>0.944083</td>\n      <td>MULTIPOLYGON (((56.15937 58.00912, 56.15972 58...</td>\n      <td>698090257</td>\n      <td>1900-01-01 09:14:00</td>\n    </tr>\n    <tr>\n      <th>4</th>\n      <td>1884</td>\n      <td>industrial</td>\n      <td>industrial</td>\n      <td>5.604110</td>\n      <td>2.824705</td>\n      <td>0.944083</td>\n      <td>MULTIPOLYGON (((56.15937 58.00912, 56.15972 58...</td>\n      <td>698090257</td>\n      <td>1900-01-01 14:42:00</td>\n    </tr>\n    <tr>\n      <th>...</th>\n      <td>...</td>\n      <td>...</td>\n      <td>...</td>\n      <td>...</td>\n      <td>...</td>\n      <td>...</td>\n      <td>...</td>\n      <td>...</td>\n      <td>...</td>\n    </tr>\n    <tr>\n      <th>1560</th>\n      <td>209</td>\n      <td>service</td>\n      <td>industrial</td>\n      <td>5.036346</td>\n      <td>2.504850</td>\n      <td>0.056708</td>\n      <td>MULTIPOLYGON (((56.16704 58.04032, 56.16847 58...</td>\n      <td>1103860108</td>\n      <td>1900-01-01 15:16:00</td>\n    </tr>\n    <tr>\n      <th>1561</th>\n      <td>209</td>\n      <td>service</td>\n      <td>industrial</td>\n      <td>5.036346</td>\n      <td>2.504850</td>\n      <td>0.056708</td>\n      <td>MULTIPOLYGON (((56.16704 58.04032, 56.16847 58...</td>\n      <td>1103860108</td>\n      <td>1900-01-01 10:19:00</td>\n    </tr>\n    <tr>\n      <th>1562</th>\n      <td>209</td>\n      <td>service</td>\n      <td>industrial</td>\n      <td>5.036346</td>\n      <td>2.504850</td>\n      <td>0.056708</td>\n      <td>MULTIPOLYGON (((56.16704 58.04032, 56.16847 58...</td>\n      <td>1103860108</td>\n      <td>1900-01-01 11:40:00</td>\n    </tr>\n    <tr>\n      <th>1563</th>\n      <td>943</td>\n      <td>industrial</td>\n      <td>industrial</td>\n      <td>4.979759</td>\n      <td>2.434761</td>\n      <td>0.801968</td>\n      <td>MULTIPOLYGON (((56.13883 58.01975, 56.13898 58...</td>\n      <td>1136615387</td>\n      <td>1900-01-01 09:48:00</td>\n    </tr>\n    <tr>\n      <th>1564</th>\n      <td>294</td>\n      <td>service</td>\n      <td>industrial</td>\n      <td>4.802194</td>\n      <td>2.488054</td>\n      <td>0.106638</td>\n      <td>MULTIPOLYGON (((56.17449 57.91414, 56.17469 57...</td>\n      <td>1147236714</td>\n      <td>1900-01-01 10:19:00</td>\n    </tr>\n  </tbody>\n</table>\n<p>1565 rows × 9 columns</p>\n</div>"
     },
     "execution_count": 34,
     "metadata": {},
     "output_type": "execute_result"
    }
   ],
   "source": [
    "tours_synthetic_expanded = tours_synthetic_expanded.drop(columns=['departure_hour', 'departure_minutes'])\n",
    "tours_synthetic_expanded"
   ],
   "metadata": {
    "collapsed": false,
    "ExecuteTime": {
     "end_time": "2024-01-19T12:35:46.874156200Z",
     "start_time": "2024-01-19T12:35:46.748435200Z"
    }
   },
   "id": "e923820372f1f104"
  },
  {
   "cell_type": "code",
   "execution_count": 35,
   "outputs": [],
   "source": [
    "tours_synthetic_expanded.to_file('data/departure_time_synthetic.geojson', driver='GeoJSON')"
   ],
   "metadata": {
    "collapsed": false,
    "ExecuteTime": {
     "end_time": "2024-01-19T12:36:31.088849800Z",
     "start_time": "2024-01-19T12:36:30.038341900Z"
    }
   },
   "id": "5a7516d4b5cd1040"
  },
  {
   "cell_type": "markdown",
   "source": [
    "СИНТЕЗИРУЕМ ТИП ТС ДЛЯ КАЖДОГО ТУРА "
   ],
   "metadata": {
    "collapsed": false
   },
   "id": "2956ace42f979766"
  },
  {
   "cell_type": "code",
   "execution_count": 37,
   "outputs": [],
   "source": [
    "tours_synthetic = gpd.read_file(\"C:/Users/sm_pa/OneDrive/Рабочий стол/НИР3/perm_freight_modelling/data/departure_time_synthetic.geojson\")"
   ],
   "metadata": {
    "collapsed": false,
    "ExecuteTime": {
     "end_time": "2024-01-19T12:54:07.255612400Z",
     "start_time": "2024-01-19T12:54:06.356749800Z"
    }
   },
   "id": "aca8da020c90913e"
  },
  {
   "cell_type": "code",
   "execution_count": 44,
   "outputs": [
    {
     "data": {
      "text/plain": "        id  block_id    industry      landuse  population_availability  \\\n0        0       324  industrial  residential                 6.314141   \n1        1       324  industrial  residential                 6.314141   \n2        2      1884  industrial   industrial                 5.604110   \n3        3      1884  industrial   industrial                 5.604110   \n4        4      1884  industrial   industrial                 5.604110   \n...    ...       ...         ...          ...                      ...   \n1560  1560       209     service   industrial                 5.036346   \n1561  1561       209     service   industrial                 5.036346   \n1562  1562       209     service   industrial                 5.036346   \n1563  1563       943  industrial   industrial                 4.979759   \n1564  1564       294     service   industrial                 4.802194   \n\n      workers_availability  employment_share  company_id      departure_time  \\\n0                 2.824434          0.865545   206819075 1900-01-01 15:38:00   \n1                 2.824434          0.865545   206819075 1900-01-01 10:51:00   \n2                 2.824705          0.944083   698090257 1900-01-01 16:28:00   \n3                 2.824705          0.944083   698090257 1900-01-01 09:14:00   \n4                 2.824705          0.944083   698090257 1900-01-01 14:42:00   \n...                    ...               ...         ...                 ...   \n1560              2.504850          0.056708  1103860108 1900-01-01 15:16:00   \n1561              2.504850          0.056708  1103860108 1900-01-01 10:19:00   \n1562              2.504850          0.056708  1103860108 1900-01-01 11:40:00   \n1563              2.434761          0.801968  1136615387 1900-01-01 09:48:00   \n1564              2.488054          0.106638  1147236714 1900-01-01 10:19:00   \n\n                                               geometry  vehicle_type  \n0     MULTIPOLYGON (((56.24348 57.97681, 56.24351 57...             1  \n1     MULTIPOLYGON (((56.24348 57.97681, 56.24351 57...             2  \n2     MULTIPOLYGON (((56.15937 58.00912, 56.15972 58...             0  \n3     MULTIPOLYGON (((56.15937 58.00912, 56.15972 58...             2  \n4     MULTIPOLYGON (((56.15937 58.00912, 56.15972 58...             0  \n...                                                 ...           ...  \n1560  MULTIPOLYGON (((56.16704 58.04032, 56.16847 58...             0  \n1561  MULTIPOLYGON (((56.16704 58.04032, 56.16847 58...             0  \n1562  MULTIPOLYGON (((56.16704 58.04032, 56.16847 58...             0  \n1563  MULTIPOLYGON (((56.13883 58.01975, 56.13898 58...             0  \n1564  MULTIPOLYGON (((56.17449 57.91414, 56.17469 57...             0  \n\n[1565 rows x 11 columns]",
      "text/html": "<div>\n<style scoped>\n    .dataframe tbody tr th:only-of-type {\n        vertical-align: middle;\n    }\n\n    .dataframe tbody tr th {\n        vertical-align: top;\n    }\n\n    .dataframe thead th {\n        text-align: right;\n    }\n</style>\n<table border=\"1\" class=\"dataframe\">\n  <thead>\n    <tr style=\"text-align: right;\">\n      <th></th>\n      <th>id</th>\n      <th>block_id</th>\n      <th>industry</th>\n      <th>landuse</th>\n      <th>population_availability</th>\n      <th>workers_availability</th>\n      <th>employment_share</th>\n      <th>company_id</th>\n      <th>departure_time</th>\n      <th>geometry</th>\n      <th>vehicle_type</th>\n    </tr>\n  </thead>\n  <tbody>\n    <tr>\n      <th>0</th>\n      <td>0</td>\n      <td>324</td>\n      <td>industrial</td>\n      <td>residential</td>\n      <td>6.314141</td>\n      <td>2.824434</td>\n      <td>0.865545</td>\n      <td>206819075</td>\n      <td>1900-01-01 15:38:00</td>\n      <td>MULTIPOLYGON (((56.24348 57.97681, 56.24351 57...</td>\n      <td>1</td>\n    </tr>\n    <tr>\n      <th>1</th>\n      <td>1</td>\n      <td>324</td>\n      <td>industrial</td>\n      <td>residential</td>\n      <td>6.314141</td>\n      <td>2.824434</td>\n      <td>0.865545</td>\n      <td>206819075</td>\n      <td>1900-01-01 10:51:00</td>\n      <td>MULTIPOLYGON (((56.24348 57.97681, 56.24351 57...</td>\n      <td>2</td>\n    </tr>\n    <tr>\n      <th>2</th>\n      <td>2</td>\n      <td>1884</td>\n      <td>industrial</td>\n      <td>industrial</td>\n      <td>5.604110</td>\n      <td>2.824705</td>\n      <td>0.944083</td>\n      <td>698090257</td>\n      <td>1900-01-01 16:28:00</td>\n      <td>MULTIPOLYGON (((56.15937 58.00912, 56.15972 58...</td>\n      <td>0</td>\n    </tr>\n    <tr>\n      <th>3</th>\n      <td>3</td>\n      <td>1884</td>\n      <td>industrial</td>\n      <td>industrial</td>\n      <td>5.604110</td>\n      <td>2.824705</td>\n      <td>0.944083</td>\n      <td>698090257</td>\n      <td>1900-01-01 09:14:00</td>\n      <td>MULTIPOLYGON (((56.15937 58.00912, 56.15972 58...</td>\n      <td>2</td>\n    </tr>\n    <tr>\n      <th>4</th>\n      <td>4</td>\n      <td>1884</td>\n      <td>industrial</td>\n      <td>industrial</td>\n      <td>5.604110</td>\n      <td>2.824705</td>\n      <td>0.944083</td>\n      <td>698090257</td>\n      <td>1900-01-01 14:42:00</td>\n      <td>MULTIPOLYGON (((56.15937 58.00912, 56.15972 58...</td>\n      <td>0</td>\n    </tr>\n    <tr>\n      <th>...</th>\n      <td>...</td>\n      <td>...</td>\n      <td>...</td>\n      <td>...</td>\n      <td>...</td>\n      <td>...</td>\n      <td>...</td>\n      <td>...</td>\n      <td>...</td>\n      <td>...</td>\n      <td>...</td>\n    </tr>\n    <tr>\n      <th>1560</th>\n      <td>1560</td>\n      <td>209</td>\n      <td>service</td>\n      <td>industrial</td>\n      <td>5.036346</td>\n      <td>2.504850</td>\n      <td>0.056708</td>\n      <td>1103860108</td>\n      <td>1900-01-01 15:16:00</td>\n      <td>MULTIPOLYGON (((56.16704 58.04032, 56.16847 58...</td>\n      <td>0</td>\n    </tr>\n    <tr>\n      <th>1561</th>\n      <td>1561</td>\n      <td>209</td>\n      <td>service</td>\n      <td>industrial</td>\n      <td>5.036346</td>\n      <td>2.504850</td>\n      <td>0.056708</td>\n      <td>1103860108</td>\n      <td>1900-01-01 10:19:00</td>\n      <td>MULTIPOLYGON (((56.16704 58.04032, 56.16847 58...</td>\n      <td>0</td>\n    </tr>\n    <tr>\n      <th>1562</th>\n      <td>1562</td>\n      <td>209</td>\n      <td>service</td>\n      <td>industrial</td>\n      <td>5.036346</td>\n      <td>2.504850</td>\n      <td>0.056708</td>\n      <td>1103860108</td>\n      <td>1900-01-01 11:40:00</td>\n      <td>MULTIPOLYGON (((56.16704 58.04032, 56.16847 58...</td>\n      <td>0</td>\n    </tr>\n    <tr>\n      <th>1563</th>\n      <td>1563</td>\n      <td>943</td>\n      <td>industrial</td>\n      <td>industrial</td>\n      <td>4.979759</td>\n      <td>2.434761</td>\n      <td>0.801968</td>\n      <td>1136615387</td>\n      <td>1900-01-01 09:48:00</td>\n      <td>MULTIPOLYGON (((56.13883 58.01975, 56.13898 58...</td>\n      <td>0</td>\n    </tr>\n    <tr>\n      <th>1564</th>\n      <td>1564</td>\n      <td>294</td>\n      <td>service</td>\n      <td>industrial</td>\n      <td>4.802194</td>\n      <td>2.488054</td>\n      <td>0.106638</td>\n      <td>1147236714</td>\n      <td>1900-01-01 10:19:00</td>\n      <td>MULTIPOLYGON (((56.17449 57.91414, 56.17469 57...</td>\n      <td>0</td>\n    </tr>\n  </tbody>\n</table>\n<p>1565 rows × 11 columns</p>\n</div>"
     },
     "execution_count": 44,
     "metadata": {},
     "output_type": "execute_result"
    }
   ],
   "source": [
    "# Генерируем типы транспортных средств с учетом вероятностей для каждой индустрии\n",
    "tours_synthetic['vehicle_type'] = np.where(tours_synthetic['industry'] == 'industrial', np.random.choice([0, 1, 2], len(tours_synthetic), p=[0.52, 0.25, 0.23]),\n",
    "                                  np.where(tours_synthetic['industry'] == 'retail', np.random.choice([0, 1, 2], len(tours_synthetic), p=[0.7, 0.2, 0.1]),\n",
    "                                  np.random.choice([0, 1, 2], len(tours_synthetic), p=[0.95, 0.04, 0.01])))\n",
    "tours_synthetic"
   ],
   "metadata": {
    "collapsed": false,
    "ExecuteTime": {
     "end_time": "2024-01-19T12:57:58.935771800Z",
     "start_time": "2024-01-19T12:57:58.842115Z"
    }
   },
   "id": "8f3b66af8785bcde"
  },
  {
   "cell_type": "raw",
   "source": [
    "СИНТЕЗИРУЕМ ЦЕЛЬ ТУРА"
   ],
   "metadata": {
    "collapsed": false
   },
   "id": "4a0de16ce679bd8c"
  },
  {
   "cell_type": "code",
   "execution_count": 48,
   "outputs": [
    {
     "data": {
      "text/plain": "        id  block_id    industry      landuse  population_availability  \\\n0        0       324  industrial  residential                 6.314141   \n1        1       324  industrial  residential                 6.314141   \n2        2      1884  industrial   industrial                 5.604110   \n3        3      1884  industrial   industrial                 5.604110   \n4        4      1884  industrial   industrial                 5.604110   \n...    ...       ...         ...          ...                      ...   \n1560  1560       209     service   industrial                 5.036346   \n1561  1561       209     service   industrial                 5.036346   \n1562  1562       209     service   industrial                 5.036346   \n1563  1563       943  industrial   industrial                 4.979759   \n1564  1564       294     service   industrial                 4.802194   \n\n      workers_availability  employment_share  company_id      departure_time  \\\n0                 2.824434          0.865545   206819075 1900-01-01 15:38:00   \n1                 2.824434          0.865545   206819075 1900-01-01 10:51:00   \n2                 2.824705          0.944083   698090257 1900-01-01 16:28:00   \n3                 2.824705          0.944083   698090257 1900-01-01 09:14:00   \n4                 2.824705          0.944083   698090257 1900-01-01 14:42:00   \n...                    ...               ...         ...                 ...   \n1560              2.504850          0.056708  1103860108 1900-01-01 15:16:00   \n1561              2.504850          0.056708  1103860108 1900-01-01 10:19:00   \n1562              2.504850          0.056708  1103860108 1900-01-01 11:40:00   \n1563              2.434761          0.801968  1136615387 1900-01-01 09:48:00   \n1564              2.488054          0.106638  1147236714 1900-01-01 10:19:00   \n\n                                               geometry  vehicle_type  \\\n0     MULTIPOLYGON (((56.24348 57.97681, 56.24351 57...             1   \n1     MULTIPOLYGON (((56.24348 57.97681, 56.24351 57...             2   \n2     MULTIPOLYGON (((56.15937 58.00912, 56.15972 58...             0   \n3     MULTIPOLYGON (((56.15937 58.00912, 56.15972 58...             2   \n4     MULTIPOLYGON (((56.15937 58.00912, 56.15972 58...             0   \n...                                                 ...           ...   \n1560  MULTIPOLYGON (((56.16704 58.04032, 56.16847 58...             0   \n1561  MULTIPOLYGON (((56.16704 58.04032, 56.16847 58...             0   \n1562  MULTIPOLYGON (((56.16704 58.04032, 56.16847 58...             0   \n1563  MULTIPOLYGON (((56.13883 58.01975, 56.13898 58...             0   \n1564  MULTIPOLYGON (((56.17449 57.91414, 56.17469 57...             0   \n\n      tour_purpose  \n0                0  \n1                0  \n2                1  \n3                0  \n4                0  \n...            ...  \n1560             0  \n1561             1  \n1562             1  \n1563             0  \n1564             0  \n\n[1565 rows x 12 columns]",
      "text/html": "<div>\n<style scoped>\n    .dataframe tbody tr th:only-of-type {\n        vertical-align: middle;\n    }\n\n    .dataframe tbody tr th {\n        vertical-align: top;\n    }\n\n    .dataframe thead th {\n        text-align: right;\n    }\n</style>\n<table border=\"1\" class=\"dataframe\">\n  <thead>\n    <tr style=\"text-align: right;\">\n      <th></th>\n      <th>id</th>\n      <th>block_id</th>\n      <th>industry</th>\n      <th>landuse</th>\n      <th>population_availability</th>\n      <th>workers_availability</th>\n      <th>employment_share</th>\n      <th>company_id</th>\n      <th>departure_time</th>\n      <th>geometry</th>\n      <th>vehicle_type</th>\n      <th>tour_purpose</th>\n    </tr>\n  </thead>\n  <tbody>\n    <tr>\n      <th>0</th>\n      <td>0</td>\n      <td>324</td>\n      <td>industrial</td>\n      <td>residential</td>\n      <td>6.314141</td>\n      <td>2.824434</td>\n      <td>0.865545</td>\n      <td>206819075</td>\n      <td>1900-01-01 15:38:00</td>\n      <td>MULTIPOLYGON (((56.24348 57.97681, 56.24351 57...</td>\n      <td>1</td>\n      <td>0</td>\n    </tr>\n    <tr>\n      <th>1</th>\n      <td>1</td>\n      <td>324</td>\n      <td>industrial</td>\n      <td>residential</td>\n      <td>6.314141</td>\n      <td>2.824434</td>\n      <td>0.865545</td>\n      <td>206819075</td>\n      <td>1900-01-01 10:51:00</td>\n      <td>MULTIPOLYGON (((56.24348 57.97681, 56.24351 57...</td>\n      <td>2</td>\n      <td>0</td>\n    </tr>\n    <tr>\n      <th>2</th>\n      <td>2</td>\n      <td>1884</td>\n      <td>industrial</td>\n      <td>industrial</td>\n      <td>5.604110</td>\n      <td>2.824705</td>\n      <td>0.944083</td>\n      <td>698090257</td>\n      <td>1900-01-01 16:28:00</td>\n      <td>MULTIPOLYGON (((56.15937 58.00912, 56.15972 58...</td>\n      <td>0</td>\n      <td>1</td>\n    </tr>\n    <tr>\n      <th>3</th>\n      <td>3</td>\n      <td>1884</td>\n      <td>industrial</td>\n      <td>industrial</td>\n      <td>5.604110</td>\n      <td>2.824705</td>\n      <td>0.944083</td>\n      <td>698090257</td>\n      <td>1900-01-01 09:14:00</td>\n      <td>MULTIPOLYGON (((56.15937 58.00912, 56.15972 58...</td>\n      <td>2</td>\n      <td>0</td>\n    </tr>\n    <tr>\n      <th>4</th>\n      <td>4</td>\n      <td>1884</td>\n      <td>industrial</td>\n      <td>industrial</td>\n      <td>5.604110</td>\n      <td>2.824705</td>\n      <td>0.944083</td>\n      <td>698090257</td>\n      <td>1900-01-01 14:42:00</td>\n      <td>MULTIPOLYGON (((56.15937 58.00912, 56.15972 58...</td>\n      <td>0</td>\n      <td>0</td>\n    </tr>\n    <tr>\n      <th>...</th>\n      <td>...</td>\n      <td>...</td>\n      <td>...</td>\n      <td>...</td>\n      <td>...</td>\n      <td>...</td>\n      <td>...</td>\n      <td>...</td>\n      <td>...</td>\n      <td>...</td>\n      <td>...</td>\n      <td>...</td>\n    </tr>\n    <tr>\n      <th>1560</th>\n      <td>1560</td>\n      <td>209</td>\n      <td>service</td>\n      <td>industrial</td>\n      <td>5.036346</td>\n      <td>2.504850</td>\n      <td>0.056708</td>\n      <td>1103860108</td>\n      <td>1900-01-01 15:16:00</td>\n      <td>MULTIPOLYGON (((56.16704 58.04032, 56.16847 58...</td>\n      <td>0</td>\n      <td>0</td>\n    </tr>\n    <tr>\n      <th>1561</th>\n      <td>1561</td>\n      <td>209</td>\n      <td>service</td>\n      <td>industrial</td>\n      <td>5.036346</td>\n      <td>2.504850</td>\n      <td>0.056708</td>\n      <td>1103860108</td>\n      <td>1900-01-01 10:19:00</td>\n      <td>MULTIPOLYGON (((56.16704 58.04032, 56.16847 58...</td>\n      <td>0</td>\n      <td>1</td>\n    </tr>\n    <tr>\n      <th>1562</th>\n      <td>1562</td>\n      <td>209</td>\n      <td>service</td>\n      <td>industrial</td>\n      <td>5.036346</td>\n      <td>2.504850</td>\n      <td>0.056708</td>\n      <td>1103860108</td>\n      <td>1900-01-01 11:40:00</td>\n      <td>MULTIPOLYGON (((56.16704 58.04032, 56.16847 58...</td>\n      <td>0</td>\n      <td>1</td>\n    </tr>\n    <tr>\n      <th>1563</th>\n      <td>1563</td>\n      <td>943</td>\n      <td>industrial</td>\n      <td>industrial</td>\n      <td>4.979759</td>\n      <td>2.434761</td>\n      <td>0.801968</td>\n      <td>1136615387</td>\n      <td>1900-01-01 09:48:00</td>\n      <td>MULTIPOLYGON (((56.13883 58.01975, 56.13898 58...</td>\n      <td>0</td>\n      <td>0</td>\n    </tr>\n    <tr>\n      <th>1564</th>\n      <td>1564</td>\n      <td>294</td>\n      <td>service</td>\n      <td>industrial</td>\n      <td>4.802194</td>\n      <td>2.488054</td>\n      <td>0.106638</td>\n      <td>1147236714</td>\n      <td>1900-01-01 10:19:00</td>\n      <td>MULTIPOLYGON (((56.17449 57.91414, 56.17469 57...</td>\n      <td>0</td>\n      <td>0</td>\n    </tr>\n  </tbody>\n</table>\n<p>1565 rows × 12 columns</p>\n</div>"
     },
     "execution_count": 48,
     "metadata": {},
     "output_type": "execute_result"
    }
   ],
   "source": [
    "# Генерируем цели тура с учетом вероятностей для каждого типа транспортного средства\n",
    "tours_synthetic['tour_purpose'] = np.where(tours_synthetic['vehicle_type'] == 0, np.random.choice([0, 1, 2], len(tours_synthetic), p=[0.65, 0.25, 0.1]),\n",
    "                                  np.where(tours_synthetic['vehicle_type'] == 1, np.random.choice([0, 1, 2], len(tours_synthetic), p=[0.85, 0.11, 0.04]),\n",
    "                                  np.random.choice([0, 1, 2], len(tours_synthetic), p=[0.93, 0.04, 0.03])))\n",
    "tours_synthetic"
   ],
   "metadata": {
    "collapsed": false,
    "ExecuteTime": {
     "end_time": "2024-01-19T13:09:09.949597300Z",
     "start_time": "2024-01-19T13:09:09.845791500Z"
    }
   },
   "id": "857de818fe0e9c39"
  },
  {
   "cell_type": "markdown",
   "source": [
    "Запишем время суток в отдельное поле    "
   ],
   "metadata": {
    "collapsed": false
   },
   "id": "5ea88483f8e46256"
  },
  {
   "cell_type": "code",
   "execution_count": 50,
   "outputs": [
    {
     "data": {
      "text/plain": "        id  block_id    industry      landuse  population_availability  \\\n0        0       324  industrial  residential                 6.314141   \n1        1       324  industrial  residential                 6.314141   \n2        2      1884  industrial   industrial                 5.604110   \n3        3      1884  industrial   industrial                 5.604110   \n4        4      1884  industrial   industrial                 5.604110   \n...    ...       ...         ...          ...                      ...   \n1560  1560       209     service   industrial                 5.036346   \n1561  1561       209     service   industrial                 5.036346   \n1562  1562       209     service   industrial                 5.036346   \n1563  1563       943  industrial   industrial                 4.979759   \n1564  1564       294     service   industrial                 4.802194   \n\n      workers_availability  employment_share  company_id      departure_time  \\\n0                 2.824434          0.865545   206819075 1900-01-01 15:38:00   \n1                 2.824434          0.865545   206819075 1900-01-01 10:51:00   \n2                 2.824705          0.944083   698090257 1900-01-01 16:28:00   \n3                 2.824705          0.944083   698090257 1900-01-01 09:14:00   \n4                 2.824705          0.944083   698090257 1900-01-01 14:42:00   \n...                    ...               ...         ...                 ...   \n1560              2.504850          0.056708  1103860108 1900-01-01 15:16:00   \n1561              2.504850          0.056708  1103860108 1900-01-01 10:19:00   \n1562              2.504850          0.056708  1103860108 1900-01-01 11:40:00   \n1563              2.434761          0.801968  1136615387 1900-01-01 09:48:00   \n1564              2.488054          0.106638  1147236714 1900-01-01 10:19:00   \n\n                                               geometry  vehicle_type  \\\n0     MULTIPOLYGON (((56.24348 57.97681, 56.24351 57...             1   \n1     MULTIPOLYGON (((56.24348 57.97681, 56.24351 57...             2   \n2     MULTIPOLYGON (((56.15937 58.00912, 56.15972 58...             0   \n3     MULTIPOLYGON (((56.15937 58.00912, 56.15972 58...             2   \n4     MULTIPOLYGON (((56.15937 58.00912, 56.15972 58...             0   \n...                                                 ...           ...   \n1560  MULTIPOLYGON (((56.16704 58.04032, 56.16847 58...             0   \n1561  MULTIPOLYGON (((56.16704 58.04032, 56.16847 58...             0   \n1562  MULTIPOLYGON (((56.16704 58.04032, 56.16847 58...             0   \n1563  MULTIPOLYGON (((56.13883 58.01975, 56.13898 58...             0   \n1564  MULTIPOLYGON (((56.17449 57.91414, 56.17469 57...             0   \n\n      tour_purpose  time_of_day  \n0                0            1  \n1                0            0  \n2                1            1  \n3                0            0  \n4                0            1  \n...            ...          ...  \n1560             0            1  \n1561             1            0  \n1562             1            1  \n1563             0            0  \n1564             0            0  \n\n[1565 rows x 13 columns]",
      "text/html": "<div>\n<style scoped>\n    .dataframe tbody tr th:only-of-type {\n        vertical-align: middle;\n    }\n\n    .dataframe tbody tr th {\n        vertical-align: top;\n    }\n\n    .dataframe thead th {\n        text-align: right;\n    }\n</style>\n<table border=\"1\" class=\"dataframe\">\n  <thead>\n    <tr style=\"text-align: right;\">\n      <th></th>\n      <th>id</th>\n      <th>block_id</th>\n      <th>industry</th>\n      <th>landuse</th>\n      <th>population_availability</th>\n      <th>workers_availability</th>\n      <th>employment_share</th>\n      <th>company_id</th>\n      <th>departure_time</th>\n      <th>geometry</th>\n      <th>vehicle_type</th>\n      <th>tour_purpose</th>\n      <th>time_of_day</th>\n    </tr>\n  </thead>\n  <tbody>\n    <tr>\n      <th>0</th>\n      <td>0</td>\n      <td>324</td>\n      <td>industrial</td>\n      <td>residential</td>\n      <td>6.314141</td>\n      <td>2.824434</td>\n      <td>0.865545</td>\n      <td>206819075</td>\n      <td>1900-01-01 15:38:00</td>\n      <td>MULTIPOLYGON (((56.24348 57.97681, 56.24351 57...</td>\n      <td>1</td>\n      <td>0</td>\n      <td>1</td>\n    </tr>\n    <tr>\n      <th>1</th>\n      <td>1</td>\n      <td>324</td>\n      <td>industrial</td>\n      <td>residential</td>\n      <td>6.314141</td>\n      <td>2.824434</td>\n      <td>0.865545</td>\n      <td>206819075</td>\n      <td>1900-01-01 10:51:00</td>\n      <td>MULTIPOLYGON (((56.24348 57.97681, 56.24351 57...</td>\n      <td>2</td>\n      <td>0</td>\n      <td>0</td>\n    </tr>\n    <tr>\n      <th>2</th>\n      <td>2</td>\n      <td>1884</td>\n      <td>industrial</td>\n      <td>industrial</td>\n      <td>5.604110</td>\n      <td>2.824705</td>\n      <td>0.944083</td>\n      <td>698090257</td>\n      <td>1900-01-01 16:28:00</td>\n      <td>MULTIPOLYGON (((56.15937 58.00912, 56.15972 58...</td>\n      <td>0</td>\n      <td>1</td>\n      <td>1</td>\n    </tr>\n    <tr>\n      <th>3</th>\n      <td>3</td>\n      <td>1884</td>\n      <td>industrial</td>\n      <td>industrial</td>\n      <td>5.604110</td>\n      <td>2.824705</td>\n      <td>0.944083</td>\n      <td>698090257</td>\n      <td>1900-01-01 09:14:00</td>\n      <td>MULTIPOLYGON (((56.15937 58.00912, 56.15972 58...</td>\n      <td>2</td>\n      <td>0</td>\n      <td>0</td>\n    </tr>\n    <tr>\n      <th>4</th>\n      <td>4</td>\n      <td>1884</td>\n      <td>industrial</td>\n      <td>industrial</td>\n      <td>5.604110</td>\n      <td>2.824705</td>\n      <td>0.944083</td>\n      <td>698090257</td>\n      <td>1900-01-01 14:42:00</td>\n      <td>MULTIPOLYGON (((56.15937 58.00912, 56.15972 58...</td>\n      <td>0</td>\n      <td>0</td>\n      <td>1</td>\n    </tr>\n    <tr>\n      <th>...</th>\n      <td>...</td>\n      <td>...</td>\n      <td>...</td>\n      <td>...</td>\n      <td>...</td>\n      <td>...</td>\n      <td>...</td>\n      <td>...</td>\n      <td>...</td>\n      <td>...</td>\n      <td>...</td>\n      <td>...</td>\n      <td>...</td>\n    </tr>\n    <tr>\n      <th>1560</th>\n      <td>1560</td>\n      <td>209</td>\n      <td>service</td>\n      <td>industrial</td>\n      <td>5.036346</td>\n      <td>2.504850</td>\n      <td>0.056708</td>\n      <td>1103860108</td>\n      <td>1900-01-01 15:16:00</td>\n      <td>MULTIPOLYGON (((56.16704 58.04032, 56.16847 58...</td>\n      <td>0</td>\n      <td>0</td>\n      <td>1</td>\n    </tr>\n    <tr>\n      <th>1561</th>\n      <td>1561</td>\n      <td>209</td>\n      <td>service</td>\n      <td>industrial</td>\n      <td>5.036346</td>\n      <td>2.504850</td>\n      <td>0.056708</td>\n      <td>1103860108</td>\n      <td>1900-01-01 10:19:00</td>\n      <td>MULTIPOLYGON (((56.16704 58.04032, 56.16847 58...</td>\n      <td>0</td>\n      <td>1</td>\n      <td>0</td>\n    </tr>\n    <tr>\n      <th>1562</th>\n      <td>1562</td>\n      <td>209</td>\n      <td>service</td>\n      <td>industrial</td>\n      <td>5.036346</td>\n      <td>2.504850</td>\n      <td>0.056708</td>\n      <td>1103860108</td>\n      <td>1900-01-01 11:40:00</td>\n      <td>MULTIPOLYGON (((56.16704 58.04032, 56.16847 58...</td>\n      <td>0</td>\n      <td>1</td>\n      <td>1</td>\n    </tr>\n    <tr>\n      <th>1563</th>\n      <td>1563</td>\n      <td>943</td>\n      <td>industrial</td>\n      <td>industrial</td>\n      <td>4.979759</td>\n      <td>2.434761</td>\n      <td>0.801968</td>\n      <td>1136615387</td>\n      <td>1900-01-01 09:48:00</td>\n      <td>MULTIPOLYGON (((56.13883 58.01975, 56.13898 58...</td>\n      <td>0</td>\n      <td>0</td>\n      <td>0</td>\n    </tr>\n    <tr>\n      <th>1564</th>\n      <td>1564</td>\n      <td>294</td>\n      <td>service</td>\n      <td>industrial</td>\n      <td>4.802194</td>\n      <td>2.488054</td>\n      <td>0.106638</td>\n      <td>1147236714</td>\n      <td>1900-01-01 10:19:00</td>\n      <td>MULTIPOLYGON (((56.17449 57.91414, 56.17469 57...</td>\n      <td>0</td>\n      <td>0</td>\n      <td>0</td>\n    </tr>\n  </tbody>\n</table>\n<p>1565 rows × 13 columns</p>\n</div>"
     },
     "execution_count": 50,
     "metadata": {},
     "output_type": "execute_result"
    }
   ],
   "source": [
    "def get_time_of_day(hour):\n",
    "    if 4 <= hour < 11:\n",
    "        return 0  # Утро\n",
    "    elif 11 <= hour < 18:\n",
    "        return 1  # День\n",
    "    else:\n",
    "        return 2  # Ночь\n",
    "\n",
    "tours_synthetic['time_of_day'] = tours_synthetic['departure_time'].dt.hour.apply(get_time_of_day)\n",
    "tours_synthetic"
   ],
   "metadata": {
    "collapsed": false,
    "ExecuteTime": {
     "end_time": "2024-01-19T13:14:15.225873800Z",
     "start_time": "2024-01-19T13:14:15.131132700Z"
    }
   },
   "id": "6c161609dfd3df0b"
  },
  {
   "cell_type": "code",
   "execution_count": 51,
   "outputs": [],
   "source": [
    "tours_synthetic.to_file('data/purpose_time_synthetic.geojson', driver='GeoJSON')"
   ],
   "metadata": {
    "collapsed": false,
    "ExecuteTime": {
     "end_time": "2024-01-19T13:16:39.094295600Z",
     "start_time": "2024-01-19T13:16:37.842765300Z"
    }
   },
   "id": "c7f4bf282ff464ae"
  },
  {
   "cell_type": "raw",
   "source": [
    "МИКРОМОДЕЛИРУЕМ ТУРЫ"
   ],
   "metadata": {
    "collapsed": false
   },
   "id": "dbb8116bf4ec262a"
  },
  {
   "cell_type": "code",
   "execution_count": 22,
   "outputs": [
    {
     "data": {
      "text/plain": "        id  block_id    industry      landuse  population_availability  \\\n0        0       324  industrial  residential                 6.314141   \n1        1       324  industrial  residential                 6.314141   \n2        2      1884  industrial   industrial                 5.604110   \n3        3      1884  industrial   industrial                 5.604110   \n4        4      1884  industrial   industrial                 5.604110   \n...    ...       ...         ...          ...                      ...   \n1560  1560       209     service   industrial                 5.036346   \n1561  1561       209     service   industrial                 5.036346   \n1562  1562       209     service   industrial                 5.036346   \n1563  1563       943  industrial   industrial                 4.979759   \n1564  1564       294     service   industrial                 4.802194   \n\n      workers_availability  employment_share  company_id      departure_time  \\\n0                 2.824434          0.865545   206819075 1900-01-01 15:38:00   \n1                 2.824434          0.865545   206819075 1900-01-01 10:51:00   \n2                 2.824705          0.944083   698090257 1900-01-01 16:28:00   \n3                 2.824705          0.944083   698090257 1900-01-01 09:14:00   \n4                 2.824705          0.944083   698090257 1900-01-01 14:42:00   \n...                    ...               ...         ...                 ...   \n1560              2.504850          0.056708  1103860108 1900-01-01 15:16:00   \n1561              2.504850          0.056708  1103860108 1900-01-01 10:19:00   \n1562              2.504850          0.056708  1103860108 1900-01-01 11:40:00   \n1563              2.434761          0.801968  1136615387 1900-01-01 09:48:00   \n1564              2.488054          0.106638  1147236714 1900-01-01 10:19:00   \n\n      vehicle_type  tour_purpose  time_of_day  industry_numeric  \\\n0                1             0            1                 0   \n1                2             0            0                 0   \n2                0             1            1                 0   \n3                2             0            0                 0   \n4                0             0            1                 0   \n...            ...           ...          ...               ...   \n1560             0             0            1                 2   \n1561             0             1            0                 2   \n1562             0             1            1                 2   \n1563             0             0            0                 0   \n1564             0             0            0                 2   \n\n      landuse_numeric  vehicle_purpose  \\\n0                   1                3   \n1                   1                6   \n2                   3                1   \n3                   3                6   \n4                   3                0   \n...               ...              ...   \n1560                3                0   \n1561                3                1   \n1562                3                1   \n1563                3                0   \n1564                3                0   \n\n                                               geometry  \n0     MULTIPOLYGON (((56.24348 57.97681, 56.24351 57...  \n1     MULTIPOLYGON (((56.24348 57.97681, 56.24351 57...  \n2     MULTIPOLYGON (((56.15937 58.00912, 56.15972 58...  \n3     MULTIPOLYGON (((56.15937 58.00912, 56.15972 58...  \n4     MULTIPOLYGON (((56.15937 58.00912, 56.15972 58...  \n...                                                 ...  \n1560  MULTIPOLYGON (((56.16704 58.04032, 56.16847 58...  \n1561  MULTIPOLYGON (((56.16704 58.04032, 56.16847 58...  \n1562  MULTIPOLYGON (((56.16704 58.04032, 56.16847 58...  \n1563  MULTIPOLYGON (((56.13883 58.01975, 56.13898 58...  \n1564  MULTIPOLYGON (((56.17449 57.91414, 56.17469 57...  \n\n[1565 rows x 16 columns]",
      "text/html": "<div>\n<style scoped>\n    .dataframe tbody tr th:only-of-type {\n        vertical-align: middle;\n    }\n\n    .dataframe tbody tr th {\n        vertical-align: top;\n    }\n\n    .dataframe thead th {\n        text-align: right;\n    }\n</style>\n<table border=\"1\" class=\"dataframe\">\n  <thead>\n    <tr style=\"text-align: right;\">\n      <th></th>\n      <th>id</th>\n      <th>block_id</th>\n      <th>industry</th>\n      <th>landuse</th>\n      <th>population_availability</th>\n      <th>workers_availability</th>\n      <th>employment_share</th>\n      <th>company_id</th>\n      <th>departure_time</th>\n      <th>vehicle_type</th>\n      <th>tour_purpose</th>\n      <th>time_of_day</th>\n      <th>industry_numeric</th>\n      <th>landuse_numeric</th>\n      <th>vehicle_purpose</th>\n      <th>geometry</th>\n    </tr>\n  </thead>\n  <tbody>\n    <tr>\n      <th>0</th>\n      <td>0</td>\n      <td>324</td>\n      <td>industrial</td>\n      <td>residential</td>\n      <td>6.314141</td>\n      <td>2.824434</td>\n      <td>0.865545</td>\n      <td>206819075</td>\n      <td>1900-01-01 15:38:00</td>\n      <td>1</td>\n      <td>0</td>\n      <td>1</td>\n      <td>0</td>\n      <td>1</td>\n      <td>3</td>\n      <td>MULTIPOLYGON (((56.24348 57.97681, 56.24351 57...</td>\n    </tr>\n    <tr>\n      <th>1</th>\n      <td>1</td>\n      <td>324</td>\n      <td>industrial</td>\n      <td>residential</td>\n      <td>6.314141</td>\n      <td>2.824434</td>\n      <td>0.865545</td>\n      <td>206819075</td>\n      <td>1900-01-01 10:51:00</td>\n      <td>2</td>\n      <td>0</td>\n      <td>0</td>\n      <td>0</td>\n      <td>1</td>\n      <td>6</td>\n      <td>MULTIPOLYGON (((56.24348 57.97681, 56.24351 57...</td>\n    </tr>\n    <tr>\n      <th>2</th>\n      <td>2</td>\n      <td>1884</td>\n      <td>industrial</td>\n      <td>industrial</td>\n      <td>5.604110</td>\n      <td>2.824705</td>\n      <td>0.944083</td>\n      <td>698090257</td>\n      <td>1900-01-01 16:28:00</td>\n      <td>0</td>\n      <td>1</td>\n      <td>1</td>\n      <td>0</td>\n      <td>3</td>\n      <td>1</td>\n      <td>MULTIPOLYGON (((56.15937 58.00912, 56.15972 58...</td>\n    </tr>\n    <tr>\n      <th>3</th>\n      <td>3</td>\n      <td>1884</td>\n      <td>industrial</td>\n      <td>industrial</td>\n      <td>5.604110</td>\n      <td>2.824705</td>\n      <td>0.944083</td>\n      <td>698090257</td>\n      <td>1900-01-01 09:14:00</td>\n      <td>2</td>\n      <td>0</td>\n      <td>0</td>\n      <td>0</td>\n      <td>3</td>\n      <td>6</td>\n      <td>MULTIPOLYGON (((56.15937 58.00912, 56.15972 58...</td>\n    </tr>\n    <tr>\n      <th>4</th>\n      <td>4</td>\n      <td>1884</td>\n      <td>industrial</td>\n      <td>industrial</td>\n      <td>5.604110</td>\n      <td>2.824705</td>\n      <td>0.944083</td>\n      <td>698090257</td>\n      <td>1900-01-01 14:42:00</td>\n      <td>0</td>\n      <td>0</td>\n      <td>1</td>\n      <td>0</td>\n      <td>3</td>\n      <td>0</td>\n      <td>MULTIPOLYGON (((56.15937 58.00912, 56.15972 58...</td>\n    </tr>\n    <tr>\n      <th>...</th>\n      <td>...</td>\n      <td>...</td>\n      <td>...</td>\n      <td>...</td>\n      <td>...</td>\n      <td>...</td>\n      <td>...</td>\n      <td>...</td>\n      <td>...</td>\n      <td>...</td>\n      <td>...</td>\n      <td>...</td>\n      <td>...</td>\n      <td>...</td>\n      <td>...</td>\n      <td>...</td>\n    </tr>\n    <tr>\n      <th>1560</th>\n      <td>1560</td>\n      <td>209</td>\n      <td>service</td>\n      <td>industrial</td>\n      <td>5.036346</td>\n      <td>2.504850</td>\n      <td>0.056708</td>\n      <td>1103860108</td>\n      <td>1900-01-01 15:16:00</td>\n      <td>0</td>\n      <td>0</td>\n      <td>1</td>\n      <td>2</td>\n      <td>3</td>\n      <td>0</td>\n      <td>MULTIPOLYGON (((56.16704 58.04032, 56.16847 58...</td>\n    </tr>\n    <tr>\n      <th>1561</th>\n      <td>1561</td>\n      <td>209</td>\n      <td>service</td>\n      <td>industrial</td>\n      <td>5.036346</td>\n      <td>2.504850</td>\n      <td>0.056708</td>\n      <td>1103860108</td>\n      <td>1900-01-01 10:19:00</td>\n      <td>0</td>\n      <td>1</td>\n      <td>0</td>\n      <td>2</td>\n      <td>3</td>\n      <td>1</td>\n      <td>MULTIPOLYGON (((56.16704 58.04032, 56.16847 58...</td>\n    </tr>\n    <tr>\n      <th>1562</th>\n      <td>1562</td>\n      <td>209</td>\n      <td>service</td>\n      <td>industrial</td>\n      <td>5.036346</td>\n      <td>2.504850</td>\n      <td>0.056708</td>\n      <td>1103860108</td>\n      <td>1900-01-01 11:40:00</td>\n      <td>0</td>\n      <td>1</td>\n      <td>1</td>\n      <td>2</td>\n      <td>3</td>\n      <td>1</td>\n      <td>MULTIPOLYGON (((56.16704 58.04032, 56.16847 58...</td>\n    </tr>\n    <tr>\n      <th>1563</th>\n      <td>1563</td>\n      <td>943</td>\n      <td>industrial</td>\n      <td>industrial</td>\n      <td>4.979759</td>\n      <td>2.434761</td>\n      <td>0.801968</td>\n      <td>1136615387</td>\n      <td>1900-01-01 09:48:00</td>\n      <td>0</td>\n      <td>0</td>\n      <td>0</td>\n      <td>0</td>\n      <td>3</td>\n      <td>0</td>\n      <td>MULTIPOLYGON (((56.13883 58.01975, 56.13898 58...</td>\n    </tr>\n    <tr>\n      <th>1564</th>\n      <td>1564</td>\n      <td>294</td>\n      <td>service</td>\n      <td>industrial</td>\n      <td>4.802194</td>\n      <td>2.488054</td>\n      <td>0.106638</td>\n      <td>1147236714</td>\n      <td>1900-01-01 10:19:00</td>\n      <td>0</td>\n      <td>0</td>\n      <td>0</td>\n      <td>2</td>\n      <td>3</td>\n      <td>0</td>\n      <td>MULTIPOLYGON (((56.17449 57.91414, 56.17469 57...</td>\n    </tr>\n  </tbody>\n</table>\n<p>1565 rows × 16 columns</p>\n</div>"
     },
     "execution_count": 22,
     "metadata": {},
     "output_type": "execute_result"
    }
   ],
   "source": [
    "synthetic_tours_data = gpd.read_file(\"C:/Users/sm_pa/OneDrive/Рабочий стол/НИР3/perm_freight_modelling/data/purpose_time_synthetic1.geojson\")\n",
    "synthetic_tours_data"
   ],
   "metadata": {
    "collapsed": false,
    "ExecuteTime": {
     "end_time": "2024-01-19T21:30:31.716163Z",
     "start_time": "2024-01-19T21:30:30.872499100Z"
    }
   },
   "id": "593dcdf6ed94ec33"
  },
  {
   "cell_type": "code",
   "execution_count": 23,
   "outputs": [
    {
     "data": {
      "text/plain": "Index(['id', 'block_id', 'industry', 'landuse', 'population_availability',\n       'workers_availability', 'employment_share', 'company_id',\n       'departure_time', 'vehicle_type', 'tour_purpose', 'time_of_day',\n       'industry_numeric', 'landuse_numeric', 'vehicle_purpose', 'geometry'],\n      dtype='object')"
     },
     "execution_count": 23,
     "metadata": {},
     "output_type": "execute_result"
    }
   ],
   "source": [
    "synthetic_tours_data.columns"
   ],
   "metadata": {
    "collapsed": false,
    "ExecuteTime": {
     "end_time": "2024-01-19T21:30:34.248961400Z",
     "start_time": "2024-01-19T21:30:34.186048700Z"
    }
   },
   "id": "89f09747a8cc64da"
  },
  {
   "cell_type": "raw",
   "source": [
    "Сгенерируем количество остановок для каждого тура"
   ],
   "metadata": {
    "collapsed": false
   },
   "id": "18780608df68cc19"
  },
  {
   "cell_type": "code",
   "execution_count": 24,
   "outputs": [],
   "source": [
    "# Количество остановок и соответствующие вероятности\n",
    "stops_counts = [2, 3, 4, 5, 6, 7, 8]\n",
    "probabilities = [0.1, 0.15, 0.23, 0.21, 0.14, 0.13, 0.04]"
   ],
   "metadata": {
    "collapsed": false,
    "ExecuteTime": {
     "end_time": "2024-01-19T21:30:36.630789600Z",
     "start_time": "2024-01-19T21:30:36.551974200Z"
    }
   },
   "id": "c50e52dd8d28b296"
  },
  {
   "cell_type": "code",
   "execution_count": 25,
   "outputs": [
    {
     "data": {
      "text/plain": "        id  block_id    industry      landuse  population_availability  \\\n0        0       324  industrial  residential                 6.314141   \n1        1       324  industrial  residential                 6.314141   \n2        2      1884  industrial   industrial                 5.604110   \n3        3      1884  industrial   industrial                 5.604110   \n4        4      1884  industrial   industrial                 5.604110   \n...    ...       ...         ...          ...                      ...   \n1560  1560       209     service   industrial                 5.036346   \n1561  1561       209     service   industrial                 5.036346   \n1562  1562       209     service   industrial                 5.036346   \n1563  1563       943  industrial   industrial                 4.979759   \n1564  1564       294     service   industrial                 4.802194   \n\n      workers_availability  employment_share  company_id      departure_time  \\\n0                 2.824434          0.865545   206819075 1900-01-01 15:38:00   \n1                 2.824434          0.865545   206819075 1900-01-01 10:51:00   \n2                 2.824705          0.944083   698090257 1900-01-01 16:28:00   \n3                 2.824705          0.944083   698090257 1900-01-01 09:14:00   \n4                 2.824705          0.944083   698090257 1900-01-01 14:42:00   \n...                    ...               ...         ...                 ...   \n1560              2.504850          0.056708  1103860108 1900-01-01 15:16:00   \n1561              2.504850          0.056708  1103860108 1900-01-01 10:19:00   \n1562              2.504850          0.056708  1103860108 1900-01-01 11:40:00   \n1563              2.434761          0.801968  1136615387 1900-01-01 09:48:00   \n1564              2.488054          0.106638  1147236714 1900-01-01 10:19:00   \n\n      vehicle_type  tour_purpose  time_of_day  industry_numeric  \\\n0                1             0            1                 0   \n1                2             0            0                 0   \n2                0             1            1                 0   \n3                2             0            0                 0   \n4                0             0            1                 0   \n...            ...           ...          ...               ...   \n1560             0             0            1                 2   \n1561             0             1            0                 2   \n1562             0             1            1                 2   \n1563             0             0            0                 0   \n1564             0             0            0                 2   \n\n      landuse_numeric  vehicle_purpose  \\\n0                   1                3   \n1                   1                6   \n2                   3                1   \n3                   3                6   \n4                   3                0   \n...               ...              ...   \n1560                3                0   \n1561                3                1   \n1562                3                1   \n1563                3                0   \n1564                3                0   \n\n                                               geometry  num_stops  \n0     MULTIPOLYGON (((56.24348 57.97681, 56.24351 57...          3  \n1     MULTIPOLYGON (((56.24348 57.97681, 56.24351 57...          3  \n2     MULTIPOLYGON (((56.15937 58.00912, 56.15972 58...          3  \n3     MULTIPOLYGON (((56.15937 58.00912, 56.15972 58...          8  \n4     MULTIPOLYGON (((56.15937 58.00912, 56.15972 58...          7  \n...                                                 ...        ...  \n1560  MULTIPOLYGON (((56.16704 58.04032, 56.16847 58...          3  \n1561  MULTIPOLYGON (((56.16704 58.04032, 56.16847 58...          4  \n1562  MULTIPOLYGON (((56.16704 58.04032, 56.16847 58...          3  \n1563  MULTIPOLYGON (((56.13883 58.01975, 56.13898 58...          5  \n1564  MULTIPOLYGON (((56.17449 57.91414, 56.17469 57...          5  \n\n[1565 rows x 17 columns]",
      "text/html": "<div>\n<style scoped>\n    .dataframe tbody tr th:only-of-type {\n        vertical-align: middle;\n    }\n\n    .dataframe tbody tr th {\n        vertical-align: top;\n    }\n\n    .dataframe thead th {\n        text-align: right;\n    }\n</style>\n<table border=\"1\" class=\"dataframe\">\n  <thead>\n    <tr style=\"text-align: right;\">\n      <th></th>\n      <th>id</th>\n      <th>block_id</th>\n      <th>industry</th>\n      <th>landuse</th>\n      <th>population_availability</th>\n      <th>workers_availability</th>\n      <th>employment_share</th>\n      <th>company_id</th>\n      <th>departure_time</th>\n      <th>vehicle_type</th>\n      <th>tour_purpose</th>\n      <th>time_of_day</th>\n      <th>industry_numeric</th>\n      <th>landuse_numeric</th>\n      <th>vehicle_purpose</th>\n      <th>geometry</th>\n      <th>num_stops</th>\n    </tr>\n  </thead>\n  <tbody>\n    <tr>\n      <th>0</th>\n      <td>0</td>\n      <td>324</td>\n      <td>industrial</td>\n      <td>residential</td>\n      <td>6.314141</td>\n      <td>2.824434</td>\n      <td>0.865545</td>\n      <td>206819075</td>\n      <td>1900-01-01 15:38:00</td>\n      <td>1</td>\n      <td>0</td>\n      <td>1</td>\n      <td>0</td>\n      <td>1</td>\n      <td>3</td>\n      <td>MULTIPOLYGON (((56.24348 57.97681, 56.24351 57...</td>\n      <td>3</td>\n    </tr>\n    <tr>\n      <th>1</th>\n      <td>1</td>\n      <td>324</td>\n      <td>industrial</td>\n      <td>residential</td>\n      <td>6.314141</td>\n      <td>2.824434</td>\n      <td>0.865545</td>\n      <td>206819075</td>\n      <td>1900-01-01 10:51:00</td>\n      <td>2</td>\n      <td>0</td>\n      <td>0</td>\n      <td>0</td>\n      <td>1</td>\n      <td>6</td>\n      <td>MULTIPOLYGON (((56.24348 57.97681, 56.24351 57...</td>\n      <td>3</td>\n    </tr>\n    <tr>\n      <th>2</th>\n      <td>2</td>\n      <td>1884</td>\n      <td>industrial</td>\n      <td>industrial</td>\n      <td>5.604110</td>\n      <td>2.824705</td>\n      <td>0.944083</td>\n      <td>698090257</td>\n      <td>1900-01-01 16:28:00</td>\n      <td>0</td>\n      <td>1</td>\n      <td>1</td>\n      <td>0</td>\n      <td>3</td>\n      <td>1</td>\n      <td>MULTIPOLYGON (((56.15937 58.00912, 56.15972 58...</td>\n      <td>3</td>\n    </tr>\n    <tr>\n      <th>3</th>\n      <td>3</td>\n      <td>1884</td>\n      <td>industrial</td>\n      <td>industrial</td>\n      <td>5.604110</td>\n      <td>2.824705</td>\n      <td>0.944083</td>\n      <td>698090257</td>\n      <td>1900-01-01 09:14:00</td>\n      <td>2</td>\n      <td>0</td>\n      <td>0</td>\n      <td>0</td>\n      <td>3</td>\n      <td>6</td>\n      <td>MULTIPOLYGON (((56.15937 58.00912, 56.15972 58...</td>\n      <td>8</td>\n    </tr>\n    <tr>\n      <th>4</th>\n      <td>4</td>\n      <td>1884</td>\n      <td>industrial</td>\n      <td>industrial</td>\n      <td>5.604110</td>\n      <td>2.824705</td>\n      <td>0.944083</td>\n      <td>698090257</td>\n      <td>1900-01-01 14:42:00</td>\n      <td>0</td>\n      <td>0</td>\n      <td>1</td>\n      <td>0</td>\n      <td>3</td>\n      <td>0</td>\n      <td>MULTIPOLYGON (((56.15937 58.00912, 56.15972 58...</td>\n      <td>7</td>\n    </tr>\n    <tr>\n      <th>...</th>\n      <td>...</td>\n      <td>...</td>\n      <td>...</td>\n      <td>...</td>\n      <td>...</td>\n      <td>...</td>\n      <td>...</td>\n      <td>...</td>\n      <td>...</td>\n      <td>...</td>\n      <td>...</td>\n      <td>...</td>\n      <td>...</td>\n      <td>...</td>\n      <td>...</td>\n      <td>...</td>\n      <td>...</td>\n    </tr>\n    <tr>\n      <th>1560</th>\n      <td>1560</td>\n      <td>209</td>\n      <td>service</td>\n      <td>industrial</td>\n      <td>5.036346</td>\n      <td>2.504850</td>\n      <td>0.056708</td>\n      <td>1103860108</td>\n      <td>1900-01-01 15:16:00</td>\n      <td>0</td>\n      <td>0</td>\n      <td>1</td>\n      <td>2</td>\n      <td>3</td>\n      <td>0</td>\n      <td>MULTIPOLYGON (((56.16704 58.04032, 56.16847 58...</td>\n      <td>3</td>\n    </tr>\n    <tr>\n      <th>1561</th>\n      <td>1561</td>\n      <td>209</td>\n      <td>service</td>\n      <td>industrial</td>\n      <td>5.036346</td>\n      <td>2.504850</td>\n      <td>0.056708</td>\n      <td>1103860108</td>\n      <td>1900-01-01 10:19:00</td>\n      <td>0</td>\n      <td>1</td>\n      <td>0</td>\n      <td>2</td>\n      <td>3</td>\n      <td>1</td>\n      <td>MULTIPOLYGON (((56.16704 58.04032, 56.16847 58...</td>\n      <td>4</td>\n    </tr>\n    <tr>\n      <th>1562</th>\n      <td>1562</td>\n      <td>209</td>\n      <td>service</td>\n      <td>industrial</td>\n      <td>5.036346</td>\n      <td>2.504850</td>\n      <td>0.056708</td>\n      <td>1103860108</td>\n      <td>1900-01-01 11:40:00</td>\n      <td>0</td>\n      <td>1</td>\n      <td>1</td>\n      <td>2</td>\n      <td>3</td>\n      <td>1</td>\n      <td>MULTIPOLYGON (((56.16704 58.04032, 56.16847 58...</td>\n      <td>3</td>\n    </tr>\n    <tr>\n      <th>1563</th>\n      <td>1563</td>\n      <td>943</td>\n      <td>industrial</td>\n      <td>industrial</td>\n      <td>4.979759</td>\n      <td>2.434761</td>\n      <td>0.801968</td>\n      <td>1136615387</td>\n      <td>1900-01-01 09:48:00</td>\n      <td>0</td>\n      <td>0</td>\n      <td>0</td>\n      <td>0</td>\n      <td>3</td>\n      <td>0</td>\n      <td>MULTIPOLYGON (((56.13883 58.01975, 56.13898 58...</td>\n      <td>5</td>\n    </tr>\n    <tr>\n      <th>1564</th>\n      <td>1564</td>\n      <td>294</td>\n      <td>service</td>\n      <td>industrial</td>\n      <td>4.802194</td>\n      <td>2.488054</td>\n      <td>0.106638</td>\n      <td>1147236714</td>\n      <td>1900-01-01 10:19:00</td>\n      <td>0</td>\n      <td>0</td>\n      <td>0</td>\n      <td>2</td>\n      <td>3</td>\n      <td>0</td>\n      <td>MULTIPOLYGON (((56.17449 57.91414, 56.17469 57...</td>\n      <td>5</td>\n    </tr>\n  </tbody>\n</table>\n<p>1565 rows × 17 columns</p>\n</div>"
     },
     "execution_count": 25,
     "metadata": {},
     "output_type": "execute_result"
    }
   ],
   "source": [
    "# Генерация количества остановок для каждого тура\n",
    "num_tours = len(synthetic_tours_data)  # Получаем количество туров в геодатафрейме\n",
    "stops_per_tour = np.random.choice(stops_counts, size=num_tours, p=probabilities)\n",
    "\n",
    "# Добавляем количество остановок как новое поле в геодатафрейм\n",
    "synthetic_tours_data['num_stops'] = stops_per_tour\n",
    "synthetic_tours_data"
   ],
   "metadata": {
    "collapsed": false,
    "ExecuteTime": {
     "end_time": "2024-01-19T21:30:38.359882600Z",
     "start_time": "2024-01-19T21:30:38.265717400Z"
    }
   },
   "id": "35e2ec5dc7d05a97"
  },
  {
   "cell_type": "raw",
   "source": [
    "Сгенерируем цели остановок для каждого тура"
   ],
   "metadata": {
    "collapsed": false
   },
   "id": "407d061bc7445f7b"
  },
  {
   "cell_type": "code",
   "execution_count": 26,
   "outputs": [
    {
     "name": "stdout",
     "output_type": "stream",
     "text": [
      "   num_stops                                              stops\n",
      "0          3   [{'purpose': 1}, {'purpose': 1}, {'purpose': 2}]\n",
      "1          3   [{'purpose': 1}, {'purpose': 1}, {'purpose': 2}]\n",
      "2          3   [{'purpose': 0}, {'purpose': 1}, {'purpose': 2}]\n",
      "3          8  [{'purpose': 0}, {'purpose': 0}, {'purpose': 0...\n",
      "4          7  [{'purpose': 0}, {'purpose': 1}, {'purpose': 0...\n"
     ]
    }
   ],
   "source": [
    "from random import shuffle\n",
    "\n",
    "def generate_stops(num_stops):\n",
    "    \"\"\"\n",
    "    Генерирует и перемешивает список остановок для тура, кроме последней остановки (возвращение).\n",
    "    :param num_stops: Общее количество остановок в туре.\n",
    "    :return: Список словарей, каждый из которых представляет остановку.\n",
    "    \"\"\"\n",
    "    # Добавляем 1-2 случайные остановки с целью \"прочее\" (код 1)\n",
    "    num_other_stops = np.random.randint(1, 3)\n",
    "    stops = [{'purpose': 1} for _ in range(num_other_stops)]\n",
    "\n",
    "    # Добавляем оставшиеся остановки с основной целью (код 0), за исключением последней\n",
    "    stops += [{'purpose': 0} for _ in range(num_stops - num_other_stops - 1)]\n",
    "\n",
    "    # Перемешиваем все остановки, кроме последней\n",
    "    shuffle(stops)\n",
    "\n",
    "    # Добавляем последнюю остановку с целью \"возвращение\" (код 2)\n",
    "    stops.append({'purpose': 2})\n",
    "\n",
    "    return stops\n",
    "\n",
    "# Применяем функцию к каждому туру в геодатафрейме\n",
    "synthetic_tours_data['stops'] = synthetic_tours_data['num_stops'].apply(generate_stops)\n",
    "\n",
    "# Проверка результата\n",
    "print(synthetic_tours_data[['num_stops', 'stops']].head())"
   ],
   "metadata": {
    "collapsed": false,
    "ExecuteTime": {
     "end_time": "2024-01-19T21:30:48.020635800Z",
     "start_time": "2024-01-19T21:30:47.971227100Z"
    }
   },
   "id": "b8723d842e864833"
  },
  {
   "cell_type": "code",
   "execution_count": 27,
   "outputs": [
    {
     "data": {
      "text/plain": "      num_stops                                              stops\n0             3   [{'purpose': 1}, {'purpose': 1}, {'purpose': 2}]\n1             3   [{'purpose': 1}, {'purpose': 1}, {'purpose': 2}]\n2             3   [{'purpose': 0}, {'purpose': 1}, {'purpose': 2}]\n3             8  [{'purpose': 0}, {'purpose': 0}, {'purpose': 0...\n4             7  [{'purpose': 0}, {'purpose': 1}, {'purpose': 0...\n...         ...                                                ...\n1560          3   [{'purpose': 1}, {'purpose': 1}, {'purpose': 2}]\n1561          4  [{'purpose': 1}, {'purpose': 0}, {'purpose': 0...\n1562          3   [{'purpose': 1}, {'purpose': 1}, {'purpose': 2}]\n1563          5  [{'purpose': 1}, {'purpose': 0}, {'purpose': 0...\n1564          5  [{'purpose': 0}, {'purpose': 0}, {'purpose': 0...\n\n[1565 rows x 2 columns]",
      "text/html": "<div>\n<style scoped>\n    .dataframe tbody tr th:only-of-type {\n        vertical-align: middle;\n    }\n\n    .dataframe tbody tr th {\n        vertical-align: top;\n    }\n\n    .dataframe thead th {\n        text-align: right;\n    }\n</style>\n<table border=\"1\" class=\"dataframe\">\n  <thead>\n    <tr style=\"text-align: right;\">\n      <th></th>\n      <th>num_stops</th>\n      <th>stops</th>\n    </tr>\n  </thead>\n  <tbody>\n    <tr>\n      <th>0</th>\n      <td>3</td>\n      <td>[{'purpose': 1}, {'purpose': 1}, {'purpose': 2}]</td>\n    </tr>\n    <tr>\n      <th>1</th>\n      <td>3</td>\n      <td>[{'purpose': 1}, {'purpose': 1}, {'purpose': 2}]</td>\n    </tr>\n    <tr>\n      <th>2</th>\n      <td>3</td>\n      <td>[{'purpose': 0}, {'purpose': 1}, {'purpose': 2}]</td>\n    </tr>\n    <tr>\n      <th>3</th>\n      <td>8</td>\n      <td>[{'purpose': 0}, {'purpose': 0}, {'purpose': 0...</td>\n    </tr>\n    <tr>\n      <th>4</th>\n      <td>7</td>\n      <td>[{'purpose': 0}, {'purpose': 1}, {'purpose': 0...</td>\n    </tr>\n    <tr>\n      <th>...</th>\n      <td>...</td>\n      <td>...</td>\n    </tr>\n    <tr>\n      <th>1560</th>\n      <td>3</td>\n      <td>[{'purpose': 1}, {'purpose': 1}, {'purpose': 2}]</td>\n    </tr>\n    <tr>\n      <th>1561</th>\n      <td>4</td>\n      <td>[{'purpose': 1}, {'purpose': 0}, {'purpose': 0...</td>\n    </tr>\n    <tr>\n      <th>1562</th>\n      <td>3</td>\n      <td>[{'purpose': 1}, {'purpose': 1}, {'purpose': 2}]</td>\n    </tr>\n    <tr>\n      <th>1563</th>\n      <td>5</td>\n      <td>[{'purpose': 1}, {'purpose': 0}, {'purpose': 0...</td>\n    </tr>\n    <tr>\n      <th>1564</th>\n      <td>5</td>\n      <td>[{'purpose': 0}, {'purpose': 0}, {'purpose': 0...</td>\n    </tr>\n  </tbody>\n</table>\n<p>1565 rows × 2 columns</p>\n</div>"
     },
     "execution_count": 27,
     "metadata": {},
     "output_type": "execute_result"
    }
   ],
   "source": [
    "synthetic_tours_data[['num_stops', 'stops']]"
   ],
   "metadata": {
    "collapsed": false,
    "ExecuteTime": {
     "end_time": "2024-01-19T21:30:52.256249100Z",
     "start_time": "2024-01-19T21:30:52.177705500Z"
    }
   },
   "id": "a7754ed80644d4c0"
  },
  {
   "cell_type": "raw",
   "source": [
    "Сгенерируем зоны остановок"
   ],
   "metadata": {
    "collapsed": false
   },
   "id": "a8ce9241bba4a5fd"
  },
  {
   "cell_type": "code",
   "execution_count": 28,
   "outputs": [
    {
     "data": {
      "text/plain": "       id        1        6        9       11       16       17       22  \\\n0       1    646.9   1592.9   2795.1   2855.8  10798.8  10859.1   9229.7   \n1       6   3772.0   2209.4   5908.6   3594.7  12332.1  12348.2  10857.5   \n2       9   5773.4   4525.7   3953.7   4691.6  14951.9  15012.2  13364.2   \n3      11   3346.0   1847.5   3944.8    225.6  13500.4  13560.7  11931.3   \n4      16  10059.1  12027.5  11720.1  13290.4    144.2    222.1   2163.2   \n..    ...      ...      ...      ...      ...      ...      ...      ...   \n494  2869  14652.2  15241.0  12025.8  15406.9  21852.1  21912.4  20264.4   \n495  2875  12827.7  13598.8  10318.8  13764.7  19693.9  19754.2  18106.2   \n496  2877   5053.5   7021.9   6703.3   8284.8   5831.6   5891.9   4180.4   \n497  2879  28119.9  29809.8  29789.5  31345.5  19296.1  19218.2  20409.4   \n498  3000    638.0   2606.4   3505.9   3869.3   9613.2   9673.5   8044.1   \n\n          23       24  ...     2626     2683     2750     2841     2856  \\\n0     4656.1   4630.0  ...   9472.9   3847.7  20862.8  13663.8   4432.8   \n1     6568.6   6317.2  ...  10261.1   5896.6  21302.6  15291.6   6120.0   \n2     8789.4   9034.2  ...  13626.0   7981.0  25015.9  17798.3   9140.7   \n3     7357.7   7331.6  ...  12018.6   6549.3  23564.4  16365.4   7134.4   \n4     6058.6   6138.5  ...   2443.6   7393.8  11533.1   3424.7   6270.7   \n..       ...      ...  ...      ...      ...      ...      ...      ...   \n494  15689.6  15934.4  ...  20526.2  14881.2  31916.1  24640.5  16040.9   \n495  13531.4  13776.2  ...  18368.0  12723.0  29757.9  22482.3  13882.7   \n496   1041.8   1221.3  ...   4505.7   2377.0  15895.6   8662.5   1414.0   \n497  24128.7  24199.3  ...  19830.2  25463.9   7917.9  18523.3  24331.5   \n498   3554.8   3444.4  ...   8287.3   2746.4  19677.2  12478.2   3247.2   \n\n        2869     2875     2877     2879     3000  \n0    14398.3  11734.9   5697.9  28764.3    300.4  \n1    17418.8  14941.7   7487.7  29204.1   3423.7  \n2    10740.6   8294.4   9831.2  32917.4   5425.1  \n3    15387.7  12977.9   8399.5  31465.9   2997.7  \n4    21716.6  18719.5   5727.0  19434.6  10407.4  \n..       ...      ...      ...      ...      ...  \n494    190.0   3203.3  16731.4  39817.6  14612.7  \n495   3581.5    870.5  14573.2  37659.4  12788.2  \n496  16699.8  13702.7      0.0  23797.1   5401.8  \n497  39786.0  36788.9  23797.1      0.0  28468.2  \n498  15008.6  12239.0   4596.6  27578.7    986.3  \n\n[499 rows x 500 columns]",
      "text/html": "<div>\n<style scoped>\n    .dataframe tbody tr th:only-of-type {\n        vertical-align: middle;\n    }\n\n    .dataframe tbody tr th {\n        vertical-align: top;\n    }\n\n    .dataframe thead th {\n        text-align: right;\n    }\n</style>\n<table border=\"1\" class=\"dataframe\">\n  <thead>\n    <tr style=\"text-align: right;\">\n      <th></th>\n      <th>id</th>\n      <th>1</th>\n      <th>6</th>\n      <th>9</th>\n      <th>11</th>\n      <th>16</th>\n      <th>17</th>\n      <th>22</th>\n      <th>23</th>\n      <th>24</th>\n      <th>...</th>\n      <th>2626</th>\n      <th>2683</th>\n      <th>2750</th>\n      <th>2841</th>\n      <th>2856</th>\n      <th>2869</th>\n      <th>2875</th>\n      <th>2877</th>\n      <th>2879</th>\n      <th>3000</th>\n    </tr>\n  </thead>\n  <tbody>\n    <tr>\n      <th>0</th>\n      <td>1</td>\n      <td>646.9</td>\n      <td>1592.9</td>\n      <td>2795.1</td>\n      <td>2855.8</td>\n      <td>10798.8</td>\n      <td>10859.1</td>\n      <td>9229.7</td>\n      <td>4656.1</td>\n      <td>4630.0</td>\n      <td>...</td>\n      <td>9472.9</td>\n      <td>3847.7</td>\n      <td>20862.8</td>\n      <td>13663.8</td>\n      <td>4432.8</td>\n      <td>14398.3</td>\n      <td>11734.9</td>\n      <td>5697.9</td>\n      <td>28764.3</td>\n      <td>300.4</td>\n    </tr>\n    <tr>\n      <th>1</th>\n      <td>6</td>\n      <td>3772.0</td>\n      <td>2209.4</td>\n      <td>5908.6</td>\n      <td>3594.7</td>\n      <td>12332.1</td>\n      <td>12348.2</td>\n      <td>10857.5</td>\n      <td>6568.6</td>\n      <td>6317.2</td>\n      <td>...</td>\n      <td>10261.1</td>\n      <td>5896.6</td>\n      <td>21302.6</td>\n      <td>15291.6</td>\n      <td>6120.0</td>\n      <td>17418.8</td>\n      <td>14941.7</td>\n      <td>7487.7</td>\n      <td>29204.1</td>\n      <td>3423.7</td>\n    </tr>\n    <tr>\n      <th>2</th>\n      <td>9</td>\n      <td>5773.4</td>\n      <td>4525.7</td>\n      <td>3953.7</td>\n      <td>4691.6</td>\n      <td>14951.9</td>\n      <td>15012.2</td>\n      <td>13364.2</td>\n      <td>8789.4</td>\n      <td>9034.2</td>\n      <td>...</td>\n      <td>13626.0</td>\n      <td>7981.0</td>\n      <td>25015.9</td>\n      <td>17798.3</td>\n      <td>9140.7</td>\n      <td>10740.6</td>\n      <td>8294.4</td>\n      <td>9831.2</td>\n      <td>32917.4</td>\n      <td>5425.1</td>\n    </tr>\n    <tr>\n      <th>3</th>\n      <td>11</td>\n      <td>3346.0</td>\n      <td>1847.5</td>\n      <td>3944.8</td>\n      <td>225.6</td>\n      <td>13500.4</td>\n      <td>13560.7</td>\n      <td>11931.3</td>\n      <td>7357.7</td>\n      <td>7331.6</td>\n      <td>...</td>\n      <td>12018.6</td>\n      <td>6549.3</td>\n      <td>23564.4</td>\n      <td>16365.4</td>\n      <td>7134.4</td>\n      <td>15387.7</td>\n      <td>12977.9</td>\n      <td>8399.5</td>\n      <td>31465.9</td>\n      <td>2997.7</td>\n    </tr>\n    <tr>\n      <th>4</th>\n      <td>16</td>\n      <td>10059.1</td>\n      <td>12027.5</td>\n      <td>11720.1</td>\n      <td>13290.4</td>\n      <td>144.2</td>\n      <td>222.1</td>\n      <td>2163.2</td>\n      <td>6058.6</td>\n      <td>6138.5</td>\n      <td>...</td>\n      <td>2443.6</td>\n      <td>7393.8</td>\n      <td>11533.1</td>\n      <td>3424.7</td>\n      <td>6270.7</td>\n      <td>21716.6</td>\n      <td>18719.5</td>\n      <td>5727.0</td>\n      <td>19434.6</td>\n      <td>10407.4</td>\n    </tr>\n    <tr>\n      <th>...</th>\n      <td>...</td>\n      <td>...</td>\n      <td>...</td>\n      <td>...</td>\n      <td>...</td>\n      <td>...</td>\n      <td>...</td>\n      <td>...</td>\n      <td>...</td>\n      <td>...</td>\n      <td>...</td>\n      <td>...</td>\n      <td>...</td>\n      <td>...</td>\n      <td>...</td>\n      <td>...</td>\n      <td>...</td>\n      <td>...</td>\n      <td>...</td>\n      <td>...</td>\n      <td>...</td>\n    </tr>\n    <tr>\n      <th>494</th>\n      <td>2869</td>\n      <td>14652.2</td>\n      <td>15241.0</td>\n      <td>12025.8</td>\n      <td>15406.9</td>\n      <td>21852.1</td>\n      <td>21912.4</td>\n      <td>20264.4</td>\n      <td>15689.6</td>\n      <td>15934.4</td>\n      <td>...</td>\n      <td>20526.2</td>\n      <td>14881.2</td>\n      <td>31916.1</td>\n      <td>24640.5</td>\n      <td>16040.9</td>\n      <td>190.0</td>\n      <td>3203.3</td>\n      <td>16731.4</td>\n      <td>39817.6</td>\n      <td>14612.7</td>\n    </tr>\n    <tr>\n      <th>495</th>\n      <td>2875</td>\n      <td>12827.7</td>\n      <td>13598.8</td>\n      <td>10318.8</td>\n      <td>13764.7</td>\n      <td>19693.9</td>\n      <td>19754.2</td>\n      <td>18106.2</td>\n      <td>13531.4</td>\n      <td>13776.2</td>\n      <td>...</td>\n      <td>18368.0</td>\n      <td>12723.0</td>\n      <td>29757.9</td>\n      <td>22482.3</td>\n      <td>13882.7</td>\n      <td>3581.5</td>\n      <td>870.5</td>\n      <td>14573.2</td>\n      <td>37659.4</td>\n      <td>12788.2</td>\n    </tr>\n    <tr>\n      <th>496</th>\n      <td>2877</td>\n      <td>5053.5</td>\n      <td>7021.9</td>\n      <td>6703.3</td>\n      <td>8284.8</td>\n      <td>5831.6</td>\n      <td>5891.9</td>\n      <td>4180.4</td>\n      <td>1041.8</td>\n      <td>1221.3</td>\n      <td>...</td>\n      <td>4505.7</td>\n      <td>2377.0</td>\n      <td>15895.6</td>\n      <td>8662.5</td>\n      <td>1414.0</td>\n      <td>16699.8</td>\n      <td>13702.7</td>\n      <td>0.0</td>\n      <td>23797.1</td>\n      <td>5401.8</td>\n    </tr>\n    <tr>\n      <th>497</th>\n      <td>2879</td>\n      <td>28119.9</td>\n      <td>29809.8</td>\n      <td>29789.5</td>\n      <td>31345.5</td>\n      <td>19296.1</td>\n      <td>19218.2</td>\n      <td>20409.4</td>\n      <td>24128.7</td>\n      <td>24199.3</td>\n      <td>...</td>\n      <td>19830.2</td>\n      <td>25463.9</td>\n      <td>7917.9</td>\n      <td>18523.3</td>\n      <td>24331.5</td>\n      <td>39786.0</td>\n      <td>36788.9</td>\n      <td>23797.1</td>\n      <td>0.0</td>\n      <td>28468.2</td>\n    </tr>\n    <tr>\n      <th>498</th>\n      <td>3000</td>\n      <td>638.0</td>\n      <td>2606.4</td>\n      <td>3505.9</td>\n      <td>3869.3</td>\n      <td>9613.2</td>\n      <td>9673.5</td>\n      <td>8044.1</td>\n      <td>3554.8</td>\n      <td>3444.4</td>\n      <td>...</td>\n      <td>8287.3</td>\n      <td>2746.4</td>\n      <td>19677.2</td>\n      <td>12478.2</td>\n      <td>3247.2</td>\n      <td>15008.6</td>\n      <td>12239.0</td>\n      <td>4596.6</td>\n      <td>27578.7</td>\n      <td>986.3</td>\n    </tr>\n  </tbody>\n</table>\n<p>499 rows × 500 columns</p>\n</div>"
     },
     "execution_count": 28,
     "metadata": {},
     "output_type": "execute_result"
    }
   ],
   "source": [
    "distance_matrix = pd.read_csv(\"C:/Users/sm_pa/OneDrive/Рабочий стол/НИР3/perm_freight_modelling/data/TAZ_distance_matrix.csv\")\n",
    "distance_matrix"
   ],
   "metadata": {
    "collapsed": false,
    "ExecuteTime": {
     "end_time": "2024-01-19T21:31:23.566606400Z",
     "start_time": "2024-01-19T21:31:23.456826Z"
    }
   },
   "id": "9cd11797ef804754"
  },
  {
   "cell_type": "code",
   "execution_count": 29,
   "outputs": [
    {
     "data": {
      "text/plain": "            1        6        9       11       16       17       22       23  \\\nid                                                                             \n1       646.9   1592.9   2795.1   2855.8  10798.8  10859.1   9229.7   4656.1   \n6      3772.0   2209.4   5908.6   3594.7  12332.1  12348.2  10857.5   6568.6   \n9      5773.4   4525.7   3953.7   4691.6  14951.9  15012.2  13364.2   8789.4   \n11     3346.0   1847.5   3944.8    225.6  13500.4  13560.7  11931.3   7357.7   \n16    10059.1  12027.5  11720.1  13290.4    144.2    222.1   2163.2   6058.6   \n...       ...      ...      ...      ...      ...      ...      ...      ...   \n2869  14652.2  15241.0  12025.8  15406.9  21852.1  21912.4  20264.4  15689.6   \n2875  12827.7  13598.8  10318.8  13764.7  19693.9  19754.2  18106.2  13531.4   \n2877   5053.5   7021.9   6703.3   8284.8   5831.6   5891.9   4180.4   1041.8   \n2879  28119.9  29809.8  29789.5  31345.5  19296.1  19218.2  20409.4  24128.7   \n3000    638.0   2606.4   3505.9   3869.3   9613.2   9673.5   8044.1   3554.8   \n\n           24       28  ...     2626     2683     2750     2841     2856  \\\nid                      ...                                                \n1      4630.0   3587.3  ...   9472.9   3847.7  20862.8  13663.8   4432.8   \n6      6317.2   5636.2  ...  10261.1   5896.6  21302.6  15291.6   6120.0   \n9      9034.2   7720.6  ...  13626.0   7981.0  25015.9  17798.3   9140.7   \n11     7331.6   6288.9  ...  12018.6   6549.3  23564.4  16365.4   7134.4   \n16     6138.5   7513.0  ...   2443.6   7393.8  11533.1   3424.7   6270.7   \n...       ...      ...  ...      ...      ...      ...      ...      ...   \n2869  15934.4  14620.8  ...  20526.2  14881.2  31916.1  24640.5  16040.9   \n2875  13776.2  12462.6  ...  18368.0  12723.0  29757.9  22482.3  13882.7   \n2877   1221.3   2496.2  ...   4505.7   2377.0  15895.6   8662.5   1414.0   \n2879  24199.3  25582.4  ...  19830.2  25463.9   7917.9  18523.3  24331.5   \n3000   3444.4   2486.0  ...   8287.3   2746.4  19677.2  12478.2   3247.2   \n\n         2869     2875     2877     2879     3000  \nid                                                 \n1     14398.3  11734.9   5697.9  28764.3    300.4  \n6     17418.8  14941.7   7487.7  29204.1   3423.7  \n9     10740.6   8294.4   9831.2  32917.4   5425.1  \n11    15387.7  12977.9   8399.5  31465.9   2997.7  \n16    21716.6  18719.5   5727.0  19434.6  10407.4  \n...       ...      ...      ...      ...      ...  \n2869    190.0   3203.3  16731.4  39817.6  14612.7  \n2875   3581.5    870.5  14573.2  37659.4  12788.2  \n2877  16699.8  13702.7      0.0  23797.1   5401.8  \n2879  39786.0  36788.9  23797.1      0.0  28468.2  \n3000  15008.6  12239.0   4596.6  27578.7    986.3  \n\n[499 rows x 499 columns]",
      "text/html": "<div>\n<style scoped>\n    .dataframe tbody tr th:only-of-type {\n        vertical-align: middle;\n    }\n\n    .dataframe tbody tr th {\n        vertical-align: top;\n    }\n\n    .dataframe thead th {\n        text-align: right;\n    }\n</style>\n<table border=\"1\" class=\"dataframe\">\n  <thead>\n    <tr style=\"text-align: right;\">\n      <th></th>\n      <th>1</th>\n      <th>6</th>\n      <th>9</th>\n      <th>11</th>\n      <th>16</th>\n      <th>17</th>\n      <th>22</th>\n      <th>23</th>\n      <th>24</th>\n      <th>28</th>\n      <th>...</th>\n      <th>2626</th>\n      <th>2683</th>\n      <th>2750</th>\n      <th>2841</th>\n      <th>2856</th>\n      <th>2869</th>\n      <th>2875</th>\n      <th>2877</th>\n      <th>2879</th>\n      <th>3000</th>\n    </tr>\n    <tr>\n      <th>id</th>\n      <th></th>\n      <th></th>\n      <th></th>\n      <th></th>\n      <th></th>\n      <th></th>\n      <th></th>\n      <th></th>\n      <th></th>\n      <th></th>\n      <th></th>\n      <th></th>\n      <th></th>\n      <th></th>\n      <th></th>\n      <th></th>\n      <th></th>\n      <th></th>\n      <th></th>\n      <th></th>\n      <th></th>\n    </tr>\n  </thead>\n  <tbody>\n    <tr>\n      <th>1</th>\n      <td>646.9</td>\n      <td>1592.9</td>\n      <td>2795.1</td>\n      <td>2855.8</td>\n      <td>10798.8</td>\n      <td>10859.1</td>\n      <td>9229.7</td>\n      <td>4656.1</td>\n      <td>4630.0</td>\n      <td>3587.3</td>\n      <td>...</td>\n      <td>9472.9</td>\n      <td>3847.7</td>\n      <td>20862.8</td>\n      <td>13663.8</td>\n      <td>4432.8</td>\n      <td>14398.3</td>\n      <td>11734.9</td>\n      <td>5697.9</td>\n      <td>28764.3</td>\n      <td>300.4</td>\n    </tr>\n    <tr>\n      <th>6</th>\n      <td>3772.0</td>\n      <td>2209.4</td>\n      <td>5908.6</td>\n      <td>3594.7</td>\n      <td>12332.1</td>\n      <td>12348.2</td>\n      <td>10857.5</td>\n      <td>6568.6</td>\n      <td>6317.2</td>\n      <td>5636.2</td>\n      <td>...</td>\n      <td>10261.1</td>\n      <td>5896.6</td>\n      <td>21302.6</td>\n      <td>15291.6</td>\n      <td>6120.0</td>\n      <td>17418.8</td>\n      <td>14941.7</td>\n      <td>7487.7</td>\n      <td>29204.1</td>\n      <td>3423.7</td>\n    </tr>\n    <tr>\n      <th>9</th>\n      <td>5773.4</td>\n      <td>4525.7</td>\n      <td>3953.7</td>\n      <td>4691.6</td>\n      <td>14951.9</td>\n      <td>15012.2</td>\n      <td>13364.2</td>\n      <td>8789.4</td>\n      <td>9034.2</td>\n      <td>7720.6</td>\n      <td>...</td>\n      <td>13626.0</td>\n      <td>7981.0</td>\n      <td>25015.9</td>\n      <td>17798.3</td>\n      <td>9140.7</td>\n      <td>10740.6</td>\n      <td>8294.4</td>\n      <td>9831.2</td>\n      <td>32917.4</td>\n      <td>5425.1</td>\n    </tr>\n    <tr>\n      <th>11</th>\n      <td>3346.0</td>\n      <td>1847.5</td>\n      <td>3944.8</td>\n      <td>225.6</td>\n      <td>13500.4</td>\n      <td>13560.7</td>\n      <td>11931.3</td>\n      <td>7357.7</td>\n      <td>7331.6</td>\n      <td>6288.9</td>\n      <td>...</td>\n      <td>12018.6</td>\n      <td>6549.3</td>\n      <td>23564.4</td>\n      <td>16365.4</td>\n      <td>7134.4</td>\n      <td>15387.7</td>\n      <td>12977.9</td>\n      <td>8399.5</td>\n      <td>31465.9</td>\n      <td>2997.7</td>\n    </tr>\n    <tr>\n      <th>16</th>\n      <td>10059.1</td>\n      <td>12027.5</td>\n      <td>11720.1</td>\n      <td>13290.4</td>\n      <td>144.2</td>\n      <td>222.1</td>\n      <td>2163.2</td>\n      <td>6058.6</td>\n      <td>6138.5</td>\n      <td>7513.0</td>\n      <td>...</td>\n      <td>2443.6</td>\n      <td>7393.8</td>\n      <td>11533.1</td>\n      <td>3424.7</td>\n      <td>6270.7</td>\n      <td>21716.6</td>\n      <td>18719.5</td>\n      <td>5727.0</td>\n      <td>19434.6</td>\n      <td>10407.4</td>\n    </tr>\n    <tr>\n      <th>...</th>\n      <td>...</td>\n      <td>...</td>\n      <td>...</td>\n      <td>...</td>\n      <td>...</td>\n      <td>...</td>\n      <td>...</td>\n      <td>...</td>\n      <td>...</td>\n      <td>...</td>\n      <td>...</td>\n      <td>...</td>\n      <td>...</td>\n      <td>...</td>\n      <td>...</td>\n      <td>...</td>\n      <td>...</td>\n      <td>...</td>\n      <td>...</td>\n      <td>...</td>\n      <td>...</td>\n    </tr>\n    <tr>\n      <th>2869</th>\n      <td>14652.2</td>\n      <td>15241.0</td>\n      <td>12025.8</td>\n      <td>15406.9</td>\n      <td>21852.1</td>\n      <td>21912.4</td>\n      <td>20264.4</td>\n      <td>15689.6</td>\n      <td>15934.4</td>\n      <td>14620.8</td>\n      <td>...</td>\n      <td>20526.2</td>\n      <td>14881.2</td>\n      <td>31916.1</td>\n      <td>24640.5</td>\n      <td>16040.9</td>\n      <td>190.0</td>\n      <td>3203.3</td>\n      <td>16731.4</td>\n      <td>39817.6</td>\n      <td>14612.7</td>\n    </tr>\n    <tr>\n      <th>2875</th>\n      <td>12827.7</td>\n      <td>13598.8</td>\n      <td>10318.8</td>\n      <td>13764.7</td>\n      <td>19693.9</td>\n      <td>19754.2</td>\n      <td>18106.2</td>\n      <td>13531.4</td>\n      <td>13776.2</td>\n      <td>12462.6</td>\n      <td>...</td>\n      <td>18368.0</td>\n      <td>12723.0</td>\n      <td>29757.9</td>\n      <td>22482.3</td>\n      <td>13882.7</td>\n      <td>3581.5</td>\n      <td>870.5</td>\n      <td>14573.2</td>\n      <td>37659.4</td>\n      <td>12788.2</td>\n    </tr>\n    <tr>\n      <th>2877</th>\n      <td>5053.5</td>\n      <td>7021.9</td>\n      <td>6703.3</td>\n      <td>8284.8</td>\n      <td>5831.6</td>\n      <td>5891.9</td>\n      <td>4180.4</td>\n      <td>1041.8</td>\n      <td>1221.3</td>\n      <td>2496.2</td>\n      <td>...</td>\n      <td>4505.7</td>\n      <td>2377.0</td>\n      <td>15895.6</td>\n      <td>8662.5</td>\n      <td>1414.0</td>\n      <td>16699.8</td>\n      <td>13702.7</td>\n      <td>0.0</td>\n      <td>23797.1</td>\n      <td>5401.8</td>\n    </tr>\n    <tr>\n      <th>2879</th>\n      <td>28119.9</td>\n      <td>29809.8</td>\n      <td>29789.5</td>\n      <td>31345.5</td>\n      <td>19296.1</td>\n      <td>19218.2</td>\n      <td>20409.4</td>\n      <td>24128.7</td>\n      <td>24199.3</td>\n      <td>25582.4</td>\n      <td>...</td>\n      <td>19830.2</td>\n      <td>25463.9</td>\n      <td>7917.9</td>\n      <td>18523.3</td>\n      <td>24331.5</td>\n      <td>39786.0</td>\n      <td>36788.9</td>\n      <td>23797.1</td>\n      <td>0.0</td>\n      <td>28468.2</td>\n    </tr>\n    <tr>\n      <th>3000</th>\n      <td>638.0</td>\n      <td>2606.4</td>\n      <td>3505.9</td>\n      <td>3869.3</td>\n      <td>9613.2</td>\n      <td>9673.5</td>\n      <td>8044.1</td>\n      <td>3554.8</td>\n      <td>3444.4</td>\n      <td>2486.0</td>\n      <td>...</td>\n      <td>8287.3</td>\n      <td>2746.4</td>\n      <td>19677.2</td>\n      <td>12478.2</td>\n      <td>3247.2</td>\n      <td>15008.6</td>\n      <td>12239.0</td>\n      <td>4596.6</td>\n      <td>27578.7</td>\n      <td>986.3</td>\n    </tr>\n  </tbody>\n</table>\n<p>499 rows × 499 columns</p>\n</div>"
     },
     "execution_count": 29,
     "metadata": {},
     "output_type": "execute_result"
    }
   ],
   "source": [
    "# Сделать столбец 'id' индексом\n",
    "distance_matrix.set_index('id', inplace=True)\n",
    "distance_matrix"
   ],
   "metadata": {
    "collapsed": false,
    "ExecuteTime": {
     "end_time": "2024-01-19T21:31:46.883261800Z",
     "start_time": "2024-01-19T21:31:46.773452Z"
    }
   },
   "id": "f4da1201a0c18b96"
  },
  {
   "cell_type": "code",
   "execution_count": 30,
   "outputs": [
    {
     "data": {
      "text/plain": "       id          area      landuse  industrial    retail   service  \\\n0       1  1.224163e+06  low_density    0.000000  0.000000  1.000000   \n1       6  3.949440e+07  low_density    0.932489  0.067511  0.000000   \n2       9  5.817216e+07  low_density    0.900648  0.009719  0.089633   \n3      11  2.740008e+05  low_density    1.000000  0.000000  0.000000   \n4      16  2.060076e+05  residential    0.000000  0.133333  0.866667   \n..    ...           ...          ...         ...       ...       ...   \n494  2869  3.137001e+05   commercial    0.439394  0.000000  0.560606   \n495  2875  2.419463e+06   industrial    0.546729  0.000000  0.453271   \n496  2877  1.502041e+05   industrial    1.000000  0.000000  0.000000   \n497  2879  1.999429e+05   industrial    1.000000  0.000000  0.000000   \n498  3000  3.550764e+06  low_density    0.274725  0.000000  0.725275   \n\n     work_area  living_area  workers  population  population_availability  \\\n0     4893.620     113243.0      124        2211                 5.241083   \n1    29031.391      45179.0      711         898                 4.892252   \n2    39884.962     304269.0      926        6476                 4.760366   \n3      539.633       1527.0       15          20                 4.804614   \n4     6815.552      79678.0      150        1340                 6.456608   \n..         ...          ...      ...         ...                      ...   \n494   4756.526          0.0      132           0                 4.291921   \n495   9696.609       1284.0      214          24                 4.515939   \n496   6515.337          0.0      158           0                 5.810754   \n497   4229.398          0.0       94           0                 4.074374   \n498   8527.540      46561.0      182         911                 5.342491   \n\n     workers_availability                                           geometry  \n0                2.463974  POLYGON ((56.34764 58.03500, 56.34762 58.03500...  \n1                2.386894  POLYGON ((56.34129 58.02780, 56.34127 58.02781...  \n2                2.351703  POLYGON ((56.36243 58.05457, 56.36242 58.05457...  \n3                2.364015  POLYGON ((56.40011 58.04080, 56.40011 58.04081...  \n4                2.789124  POLYGON ((56.20791 58.00293, 56.20789 58.00293...  \n..                    ...                                                ...  \n494              2.221195  POLYGON ((56.38621 58.14957, 56.38620 58.14958...  \n495              2.286350  POLYGON ((56.36681 58.12208, 56.36681 58.12208...  \n496              3.120476  POLYGON ((56.28264 58.02905, 56.28262 58.02904...  \n497              2.930219  POLYGON ((56.15650 57.88209, 56.15648 57.88209...  \n498              2.495559  POLYGON ((56.31847 58.03896, 56.31846 58.03897...  \n\n[499 rows x 13 columns]",
      "text/html": "<div>\n<style scoped>\n    .dataframe tbody tr th:only-of-type {\n        vertical-align: middle;\n    }\n\n    .dataframe tbody tr th {\n        vertical-align: top;\n    }\n\n    .dataframe thead th {\n        text-align: right;\n    }\n</style>\n<table border=\"1\" class=\"dataframe\">\n  <thead>\n    <tr style=\"text-align: right;\">\n      <th></th>\n      <th>id</th>\n      <th>area</th>\n      <th>landuse</th>\n      <th>industrial</th>\n      <th>retail</th>\n      <th>service</th>\n      <th>work_area</th>\n      <th>living_area</th>\n      <th>workers</th>\n      <th>population</th>\n      <th>population_availability</th>\n      <th>workers_availability</th>\n      <th>geometry</th>\n    </tr>\n  </thead>\n  <tbody>\n    <tr>\n      <th>0</th>\n      <td>1</td>\n      <td>1.224163e+06</td>\n      <td>low_density</td>\n      <td>0.000000</td>\n      <td>0.000000</td>\n      <td>1.000000</td>\n      <td>4893.620</td>\n      <td>113243.0</td>\n      <td>124</td>\n      <td>2211</td>\n      <td>5.241083</td>\n      <td>2.463974</td>\n      <td>POLYGON ((56.34764 58.03500, 56.34762 58.03500...</td>\n    </tr>\n    <tr>\n      <th>1</th>\n      <td>6</td>\n      <td>3.949440e+07</td>\n      <td>low_density</td>\n      <td>0.932489</td>\n      <td>0.067511</td>\n      <td>0.000000</td>\n      <td>29031.391</td>\n      <td>45179.0</td>\n      <td>711</td>\n      <td>898</td>\n      <td>4.892252</td>\n      <td>2.386894</td>\n      <td>POLYGON ((56.34129 58.02780, 56.34127 58.02781...</td>\n    </tr>\n    <tr>\n      <th>2</th>\n      <td>9</td>\n      <td>5.817216e+07</td>\n      <td>low_density</td>\n      <td>0.900648</td>\n      <td>0.009719</td>\n      <td>0.089633</td>\n      <td>39884.962</td>\n      <td>304269.0</td>\n      <td>926</td>\n      <td>6476</td>\n      <td>4.760366</td>\n      <td>2.351703</td>\n      <td>POLYGON ((56.36243 58.05457, 56.36242 58.05457...</td>\n    </tr>\n    <tr>\n      <th>3</th>\n      <td>11</td>\n      <td>2.740008e+05</td>\n      <td>low_density</td>\n      <td>1.000000</td>\n      <td>0.000000</td>\n      <td>0.000000</td>\n      <td>539.633</td>\n      <td>1527.0</td>\n      <td>15</td>\n      <td>20</td>\n      <td>4.804614</td>\n      <td>2.364015</td>\n      <td>POLYGON ((56.40011 58.04080, 56.40011 58.04081...</td>\n    </tr>\n    <tr>\n      <th>4</th>\n      <td>16</td>\n      <td>2.060076e+05</td>\n      <td>residential</td>\n      <td>0.000000</td>\n      <td>0.133333</td>\n      <td>0.866667</td>\n      <td>6815.552</td>\n      <td>79678.0</td>\n      <td>150</td>\n      <td>1340</td>\n      <td>6.456608</td>\n      <td>2.789124</td>\n      <td>POLYGON ((56.20791 58.00293, 56.20789 58.00293...</td>\n    </tr>\n    <tr>\n      <th>...</th>\n      <td>...</td>\n      <td>...</td>\n      <td>...</td>\n      <td>...</td>\n      <td>...</td>\n      <td>...</td>\n      <td>...</td>\n      <td>...</td>\n      <td>...</td>\n      <td>...</td>\n      <td>...</td>\n      <td>...</td>\n      <td>...</td>\n    </tr>\n    <tr>\n      <th>494</th>\n      <td>2869</td>\n      <td>3.137001e+05</td>\n      <td>commercial</td>\n      <td>0.439394</td>\n      <td>0.000000</td>\n      <td>0.560606</td>\n      <td>4756.526</td>\n      <td>0.0</td>\n      <td>132</td>\n      <td>0</td>\n      <td>4.291921</td>\n      <td>2.221195</td>\n      <td>POLYGON ((56.38621 58.14957, 56.38620 58.14958...</td>\n    </tr>\n    <tr>\n      <th>495</th>\n      <td>2875</td>\n      <td>2.419463e+06</td>\n      <td>industrial</td>\n      <td>0.546729</td>\n      <td>0.000000</td>\n      <td>0.453271</td>\n      <td>9696.609</td>\n      <td>1284.0</td>\n      <td>214</td>\n      <td>24</td>\n      <td>4.515939</td>\n      <td>2.286350</td>\n      <td>POLYGON ((56.36681 58.12208, 56.36681 58.12208...</td>\n    </tr>\n    <tr>\n      <th>496</th>\n      <td>2877</td>\n      <td>1.502041e+05</td>\n      <td>industrial</td>\n      <td>1.000000</td>\n      <td>0.000000</td>\n      <td>0.000000</td>\n      <td>6515.337</td>\n      <td>0.0</td>\n      <td>158</td>\n      <td>0</td>\n      <td>5.810754</td>\n      <td>3.120476</td>\n      <td>POLYGON ((56.28264 58.02905, 56.28262 58.02904...</td>\n    </tr>\n    <tr>\n      <th>497</th>\n      <td>2879</td>\n      <td>1.999429e+05</td>\n      <td>industrial</td>\n      <td>1.000000</td>\n      <td>0.000000</td>\n      <td>0.000000</td>\n      <td>4229.398</td>\n      <td>0.0</td>\n      <td>94</td>\n      <td>0</td>\n      <td>4.074374</td>\n      <td>2.930219</td>\n      <td>POLYGON ((56.15650 57.88209, 56.15648 57.88209...</td>\n    </tr>\n    <tr>\n      <th>498</th>\n      <td>3000</td>\n      <td>3.550764e+06</td>\n      <td>low_density</td>\n      <td>0.274725</td>\n      <td>0.000000</td>\n      <td>0.725275</td>\n      <td>8527.540</td>\n      <td>46561.0</td>\n      <td>182</td>\n      <td>911</td>\n      <td>5.342491</td>\n      <td>2.495559</td>\n      <td>POLYGON ((56.31847 58.03896, 56.31846 58.03897...</td>\n    </tr>\n  </tbody>\n</table>\n<p>499 rows × 13 columns</p>\n</div>"
     },
     "execution_count": 30,
     "metadata": {},
     "output_type": "execute_result"
    }
   ],
   "source": [
    "zones = gpd.read_file(\"C:/Users/sm_pa/OneDrive/Рабочий стол/НИР3/perm_freight_modelling/data/TAZ_final.geojson\")\n",
    "zones"
   ],
   "metadata": {
    "collapsed": false,
    "ExecuteTime": {
     "end_time": "2024-01-19T21:33:15.986450500Z",
     "start_time": "2024-01-19T21:33:13.543244500Z"
    }
   },
   "id": "2c73e47c9f324a2"
  },
  {
   "cell_type": "code",
   "execution_count": 31,
   "outputs": [
    {
     "name": "stderr",
     "output_type": "stream",
     "text": [
      "C:\\Users\\sm_pa\\AppData\\Local\\Temp\\ipykernel_3384\\175046214.py:1: UserWarning: Geometry is in a geographic CRS. Results from 'centroid' are likely incorrect. Use 'GeoSeries.to_crs()' to re-project geometries to a projected CRS before this operation.\n",
      "\n",
      "  zones['centroids'] = zones['geometry'].centroid\n"
     ]
    },
    {
     "data": {
      "text/plain": "       id          area      landuse  industrial    retail   service  \\\n0       1  1.224163e+06  low_density    0.000000  0.000000  1.000000   \n1       6  3.949440e+07  low_density    0.932489  0.067511  0.000000   \n2       9  5.817216e+07  low_density    0.900648  0.009719  0.089633   \n3      11  2.740008e+05  low_density    1.000000  0.000000  0.000000   \n4      16  2.060076e+05  residential    0.000000  0.133333  0.866667   \n..    ...           ...          ...         ...       ...       ...   \n494  2869  3.137001e+05   commercial    0.439394  0.000000  0.560606   \n495  2875  2.419463e+06   industrial    0.546729  0.000000  0.453271   \n496  2877  1.502041e+05   industrial    1.000000  0.000000  0.000000   \n497  2879  1.999429e+05   industrial    1.000000  0.000000  0.000000   \n498  3000  3.550764e+06  low_density    0.274725  0.000000  0.725275   \n\n     work_area  living_area  workers  population  population_availability  \\\n0     4893.620     113243.0      124        2211                 5.241083   \n1    29031.391      45179.0      711         898                 4.892252   \n2    39884.962     304269.0      926        6476                 4.760366   \n3      539.633       1527.0       15          20                 4.804614   \n4     6815.552      79678.0      150        1340                 6.456608   \n..         ...          ...      ...         ...                      ...   \n494   4756.526          0.0      132           0                 4.291921   \n495   9696.609       1284.0      214          24                 4.515939   \n496   6515.337          0.0      158           0                 5.810754   \n497   4229.398          0.0       94           0                 4.074374   \n498   8527.540      46561.0      182         911                 5.342491   \n\n     workers_availability                   geometry  \n0                2.463974  POINT (56.35909 58.03661)  \n1                2.386894  POINT (56.39549 58.02264)  \n2                2.351703  POINT (56.40065 58.06548)  \n3                2.364015  POINT (56.40413 58.04082)  \n4                2.789124  POINT (56.21203 58.00316)  \n..                    ...                        ...  \n494              2.221195  POINT (56.38927 58.14992)  \n495              2.286350  POINT (56.37708 58.13860)  \n496              3.120476  POINT (56.28619 58.03040)  \n497              2.930219  POINT (56.15952 57.88148)  \n498              2.495559  POINT (56.34246 58.03301)  \n\n[499 rows x 13 columns]",
      "text/html": "<div>\n<style scoped>\n    .dataframe tbody tr th:only-of-type {\n        vertical-align: middle;\n    }\n\n    .dataframe tbody tr th {\n        vertical-align: top;\n    }\n\n    .dataframe thead th {\n        text-align: right;\n    }\n</style>\n<table border=\"1\" class=\"dataframe\">\n  <thead>\n    <tr style=\"text-align: right;\">\n      <th></th>\n      <th>id</th>\n      <th>area</th>\n      <th>landuse</th>\n      <th>industrial</th>\n      <th>retail</th>\n      <th>service</th>\n      <th>work_area</th>\n      <th>living_area</th>\n      <th>workers</th>\n      <th>population</th>\n      <th>population_availability</th>\n      <th>workers_availability</th>\n      <th>geometry</th>\n    </tr>\n  </thead>\n  <tbody>\n    <tr>\n      <th>0</th>\n      <td>1</td>\n      <td>1.224163e+06</td>\n      <td>low_density</td>\n      <td>0.000000</td>\n      <td>0.000000</td>\n      <td>1.000000</td>\n      <td>4893.620</td>\n      <td>113243.0</td>\n      <td>124</td>\n      <td>2211</td>\n      <td>5.241083</td>\n      <td>2.463974</td>\n      <td>POINT (56.35909 58.03661)</td>\n    </tr>\n    <tr>\n      <th>1</th>\n      <td>6</td>\n      <td>3.949440e+07</td>\n      <td>low_density</td>\n      <td>0.932489</td>\n      <td>0.067511</td>\n      <td>0.000000</td>\n      <td>29031.391</td>\n      <td>45179.0</td>\n      <td>711</td>\n      <td>898</td>\n      <td>4.892252</td>\n      <td>2.386894</td>\n      <td>POINT (56.39549 58.02264)</td>\n    </tr>\n    <tr>\n      <th>2</th>\n      <td>9</td>\n      <td>5.817216e+07</td>\n      <td>low_density</td>\n      <td>0.900648</td>\n      <td>0.009719</td>\n      <td>0.089633</td>\n      <td>39884.962</td>\n      <td>304269.0</td>\n      <td>926</td>\n      <td>6476</td>\n      <td>4.760366</td>\n      <td>2.351703</td>\n      <td>POINT (56.40065 58.06548)</td>\n    </tr>\n    <tr>\n      <th>3</th>\n      <td>11</td>\n      <td>2.740008e+05</td>\n      <td>low_density</td>\n      <td>1.000000</td>\n      <td>0.000000</td>\n      <td>0.000000</td>\n      <td>539.633</td>\n      <td>1527.0</td>\n      <td>15</td>\n      <td>20</td>\n      <td>4.804614</td>\n      <td>2.364015</td>\n      <td>POINT (56.40413 58.04082)</td>\n    </tr>\n    <tr>\n      <th>4</th>\n      <td>16</td>\n      <td>2.060076e+05</td>\n      <td>residential</td>\n      <td>0.000000</td>\n      <td>0.133333</td>\n      <td>0.866667</td>\n      <td>6815.552</td>\n      <td>79678.0</td>\n      <td>150</td>\n      <td>1340</td>\n      <td>6.456608</td>\n      <td>2.789124</td>\n      <td>POINT (56.21203 58.00316)</td>\n    </tr>\n    <tr>\n      <th>...</th>\n      <td>...</td>\n      <td>...</td>\n      <td>...</td>\n      <td>...</td>\n      <td>...</td>\n      <td>...</td>\n      <td>...</td>\n      <td>...</td>\n      <td>...</td>\n      <td>...</td>\n      <td>...</td>\n      <td>...</td>\n      <td>...</td>\n    </tr>\n    <tr>\n      <th>494</th>\n      <td>2869</td>\n      <td>3.137001e+05</td>\n      <td>commercial</td>\n      <td>0.439394</td>\n      <td>0.000000</td>\n      <td>0.560606</td>\n      <td>4756.526</td>\n      <td>0.0</td>\n      <td>132</td>\n      <td>0</td>\n      <td>4.291921</td>\n      <td>2.221195</td>\n      <td>POINT (56.38927 58.14992)</td>\n    </tr>\n    <tr>\n      <th>495</th>\n      <td>2875</td>\n      <td>2.419463e+06</td>\n      <td>industrial</td>\n      <td>0.546729</td>\n      <td>0.000000</td>\n      <td>0.453271</td>\n      <td>9696.609</td>\n      <td>1284.0</td>\n      <td>214</td>\n      <td>24</td>\n      <td>4.515939</td>\n      <td>2.286350</td>\n      <td>POINT (56.37708 58.13860)</td>\n    </tr>\n    <tr>\n      <th>496</th>\n      <td>2877</td>\n      <td>1.502041e+05</td>\n      <td>industrial</td>\n      <td>1.000000</td>\n      <td>0.000000</td>\n      <td>0.000000</td>\n      <td>6515.337</td>\n      <td>0.0</td>\n      <td>158</td>\n      <td>0</td>\n      <td>5.810754</td>\n      <td>3.120476</td>\n      <td>POINT (56.28619 58.03040)</td>\n    </tr>\n    <tr>\n      <th>497</th>\n      <td>2879</td>\n      <td>1.999429e+05</td>\n      <td>industrial</td>\n      <td>1.000000</td>\n      <td>0.000000</td>\n      <td>0.000000</td>\n      <td>4229.398</td>\n      <td>0.0</td>\n      <td>94</td>\n      <td>0</td>\n      <td>4.074374</td>\n      <td>2.930219</td>\n      <td>POINT (56.15952 57.88148)</td>\n    </tr>\n    <tr>\n      <th>498</th>\n      <td>3000</td>\n      <td>3.550764e+06</td>\n      <td>low_density</td>\n      <td>0.274725</td>\n      <td>0.000000</td>\n      <td>0.725275</td>\n      <td>8527.540</td>\n      <td>46561.0</td>\n      <td>182</td>\n      <td>911</td>\n      <td>5.342491</td>\n      <td>2.495559</td>\n      <td>POINT (56.34246 58.03301)</td>\n    </tr>\n  </tbody>\n</table>\n<p>499 rows × 13 columns</p>\n</div>"
     },
     "execution_count": 31,
     "metadata": {},
     "output_type": "execute_result"
    }
   ],
   "source": [
    "zones['centroids'] = zones['geometry'].centroid\n",
    "\n",
    "# Удаляем поле 'geometry'\n",
    "zones = zones.drop(columns=['geometry'])\n",
    "\n",
    "# Переименовываем поле 'centroids' в 'geometry'\n",
    "zones = zones.rename(columns={'centroids': 'geometry'})\n",
    "\n",
    "zones"
   ],
   "metadata": {
    "collapsed": false,
    "ExecuteTime": {
     "end_time": "2024-01-19T21:34:08.267421300Z",
     "start_time": "2024-01-19T21:34:08.173183200Z"
    }
   },
   "id": "e87e64b46c12501d"
  },
  {
   "cell_type": "code",
   "execution_count": 32,
   "outputs": [
    {
     "data": {
      "text/plain": "       id      landuse  population_availability  workers_availability  \\\n0       1  low_density                 5.241083              2.463974   \n1       6  low_density                 4.892252              2.386894   \n2       9  low_density                 4.760366              2.351703   \n3      11  low_density                 4.804614              2.364015   \n4      16  residential                 6.456608              2.789124   \n..    ...          ...                      ...                   ...   \n494  2869   commercial                 4.291921              2.221195   \n495  2875   industrial                 4.515939              2.286350   \n496  2877   industrial                 5.810754              3.120476   \n497  2879   industrial                 4.074374              2.930219   \n498  3000  low_density                 5.342491              2.495559   \n\n                      geometry  \n0    POINT (56.35909 58.03661)  \n1    POINT (56.39549 58.02264)  \n2    POINT (56.40065 58.06548)  \n3    POINT (56.40413 58.04082)  \n4    POINT (56.21203 58.00316)  \n..                         ...  \n494  POINT (56.38927 58.14992)  \n495  POINT (56.37708 58.13860)  \n496  POINT (56.28619 58.03040)  \n497  POINT (56.15952 57.88148)  \n498  POINT (56.34246 58.03301)  \n\n[499 rows x 5 columns]",
      "text/html": "<div>\n<style scoped>\n    .dataframe tbody tr th:only-of-type {\n        vertical-align: middle;\n    }\n\n    .dataframe tbody tr th {\n        vertical-align: top;\n    }\n\n    .dataframe thead th {\n        text-align: right;\n    }\n</style>\n<table border=\"1\" class=\"dataframe\">\n  <thead>\n    <tr style=\"text-align: right;\">\n      <th></th>\n      <th>id</th>\n      <th>landuse</th>\n      <th>population_availability</th>\n      <th>workers_availability</th>\n      <th>geometry</th>\n    </tr>\n  </thead>\n  <tbody>\n    <tr>\n      <th>0</th>\n      <td>1</td>\n      <td>low_density</td>\n      <td>5.241083</td>\n      <td>2.463974</td>\n      <td>POINT (56.35909 58.03661)</td>\n    </tr>\n    <tr>\n      <th>1</th>\n      <td>6</td>\n      <td>low_density</td>\n      <td>4.892252</td>\n      <td>2.386894</td>\n      <td>POINT (56.39549 58.02264)</td>\n    </tr>\n    <tr>\n      <th>2</th>\n      <td>9</td>\n      <td>low_density</td>\n      <td>4.760366</td>\n      <td>2.351703</td>\n      <td>POINT (56.40065 58.06548)</td>\n    </tr>\n    <tr>\n      <th>3</th>\n      <td>11</td>\n      <td>low_density</td>\n      <td>4.804614</td>\n      <td>2.364015</td>\n      <td>POINT (56.40413 58.04082)</td>\n    </tr>\n    <tr>\n      <th>4</th>\n      <td>16</td>\n      <td>residential</td>\n      <td>6.456608</td>\n      <td>2.789124</td>\n      <td>POINT (56.21203 58.00316)</td>\n    </tr>\n    <tr>\n      <th>...</th>\n      <td>...</td>\n      <td>...</td>\n      <td>...</td>\n      <td>...</td>\n      <td>...</td>\n    </tr>\n    <tr>\n      <th>494</th>\n      <td>2869</td>\n      <td>commercial</td>\n      <td>4.291921</td>\n      <td>2.221195</td>\n      <td>POINT (56.38927 58.14992)</td>\n    </tr>\n    <tr>\n      <th>495</th>\n      <td>2875</td>\n      <td>industrial</td>\n      <td>4.515939</td>\n      <td>2.286350</td>\n      <td>POINT (56.37708 58.13860)</td>\n    </tr>\n    <tr>\n      <th>496</th>\n      <td>2877</td>\n      <td>industrial</td>\n      <td>5.810754</td>\n      <td>3.120476</td>\n      <td>POINT (56.28619 58.03040)</td>\n    </tr>\n    <tr>\n      <th>497</th>\n      <td>2879</td>\n      <td>industrial</td>\n      <td>4.074374</td>\n      <td>2.930219</td>\n      <td>POINT (56.15952 57.88148)</td>\n    </tr>\n    <tr>\n      <th>498</th>\n      <td>3000</td>\n      <td>low_density</td>\n      <td>5.342491</td>\n      <td>2.495559</td>\n      <td>POINT (56.34246 58.03301)</td>\n    </tr>\n  </tbody>\n</table>\n<p>499 rows × 5 columns</p>\n</div>"
     },
     "execution_count": 32,
     "metadata": {},
     "output_type": "execute_result"
    }
   ],
   "source": [
    "zones = zones[['id', 'landuse', 'population_availability', 'workers_availability', 'geometry']]\n",
    "zones"
   ],
   "metadata": {
    "collapsed": false,
    "ExecuteTime": {
     "end_time": "2024-01-19T21:37:26.463854400Z",
     "start_time": "2024-01-19T21:37:26.385303900Z"
    }
   },
   "id": "17dec807e62b1ecd"
  },
  {
   "cell_type": "code",
   "execution_count": null,
   "outputs": [],
   "source": [
    "custom_order = ['low_density', 'residential', 'commercial', 'industrial']\n",
    "zones['landuse_numeric'] = pd.Categorical(zones['landuse'], categories=custom_order, ordered=True).codes\n",
    "zones"
   ],
   "metadata": {
    "collapsed": false
   },
   "id": "c72f96e49033cd63"
  },
  {
   "cell_type": "code",
   "execution_count": 34,
   "outputs": [],
   "source": [
    "zones.to_file('data/TAZ_centroids.geojson', driver='GeoJSON')"
   ],
   "metadata": {
    "collapsed": false,
    "ExecuteTime": {
     "end_time": "2024-01-19T21:38:48.284374Z",
     "start_time": "2024-01-19T21:38:48.158200200Z"
    }
   },
   "id": "f021b8f1d16917a1"
  },
  {
   "cell_type": "code",
   "execution_count": 43,
   "outputs": [
    {
     "data": {
      "text/plain": "          landuse  population_availability  workers_availability  \\\nid                                                                 \n1     low_density                 5.241083              2.463974   \n6     low_density                 4.892252              2.386894   \n9     low_density                 4.760366              2.351703   \n11    low_density                 4.804614              2.364015   \n16    residential                 6.456608              2.789124   \n...           ...                      ...                   ...   \n2869   commercial                 4.291921              2.221195   \n2875   industrial                 4.515939              2.286350   \n2877   industrial                 5.810754              3.120476   \n2879   industrial                 4.074374              2.930219   \n3000  low_density                 5.342491              2.495559   \n\n                       geometry  landuse_numeric  \nid                                                \n1     POINT (56.35909 58.03661)                0  \n6     POINT (56.39549 58.02264)                0  \n9     POINT (56.40065 58.06548)                0  \n11    POINT (56.40413 58.04082)                0  \n16    POINT (56.21203 58.00316)                1  \n...                         ...              ...  \n2869  POINT (56.38927 58.14992)                2  \n2875  POINT (56.37708 58.13860)                3  \n2877  POINT (56.28619 58.03040)                3  \n2879  POINT (56.15952 57.88148)                3  \n3000  POINT (56.34246 58.03301)                0  \n\n[499 rows x 5 columns]",
      "text/html": "<div>\n<style scoped>\n    .dataframe tbody tr th:only-of-type {\n        vertical-align: middle;\n    }\n\n    .dataframe tbody tr th {\n        vertical-align: top;\n    }\n\n    .dataframe thead th {\n        text-align: right;\n    }\n</style>\n<table border=\"1\" class=\"dataframe\">\n  <thead>\n    <tr style=\"text-align: right;\">\n      <th></th>\n      <th>landuse</th>\n      <th>population_availability</th>\n      <th>workers_availability</th>\n      <th>geometry</th>\n      <th>landuse_numeric</th>\n    </tr>\n    <tr>\n      <th>id</th>\n      <th></th>\n      <th></th>\n      <th></th>\n      <th></th>\n      <th></th>\n    </tr>\n  </thead>\n  <tbody>\n    <tr>\n      <th>1</th>\n      <td>low_density</td>\n      <td>5.241083</td>\n      <td>2.463974</td>\n      <td>POINT (56.35909 58.03661)</td>\n      <td>0</td>\n    </tr>\n    <tr>\n      <th>6</th>\n      <td>low_density</td>\n      <td>4.892252</td>\n      <td>2.386894</td>\n      <td>POINT (56.39549 58.02264)</td>\n      <td>0</td>\n    </tr>\n    <tr>\n      <th>9</th>\n      <td>low_density</td>\n      <td>4.760366</td>\n      <td>2.351703</td>\n      <td>POINT (56.40065 58.06548)</td>\n      <td>0</td>\n    </tr>\n    <tr>\n      <th>11</th>\n      <td>low_density</td>\n      <td>4.804614</td>\n      <td>2.364015</td>\n      <td>POINT (56.40413 58.04082)</td>\n      <td>0</td>\n    </tr>\n    <tr>\n      <th>16</th>\n      <td>residential</td>\n      <td>6.456608</td>\n      <td>2.789124</td>\n      <td>POINT (56.21203 58.00316)</td>\n      <td>1</td>\n    </tr>\n    <tr>\n      <th>...</th>\n      <td>...</td>\n      <td>...</td>\n      <td>...</td>\n      <td>...</td>\n      <td>...</td>\n    </tr>\n    <tr>\n      <th>2869</th>\n      <td>commercial</td>\n      <td>4.291921</td>\n      <td>2.221195</td>\n      <td>POINT (56.38927 58.14992)</td>\n      <td>2</td>\n    </tr>\n    <tr>\n      <th>2875</th>\n      <td>industrial</td>\n      <td>4.515939</td>\n      <td>2.286350</td>\n      <td>POINT (56.37708 58.13860)</td>\n      <td>3</td>\n    </tr>\n    <tr>\n      <th>2877</th>\n      <td>industrial</td>\n      <td>5.810754</td>\n      <td>3.120476</td>\n      <td>POINT (56.28619 58.03040)</td>\n      <td>3</td>\n    </tr>\n    <tr>\n      <th>2879</th>\n      <td>industrial</td>\n      <td>4.074374</td>\n      <td>2.930219</td>\n      <td>POINT (56.15952 57.88148)</td>\n      <td>3</td>\n    </tr>\n    <tr>\n      <th>3000</th>\n      <td>low_density</td>\n      <td>5.342491</td>\n      <td>2.495559</td>\n      <td>POINT (56.34246 58.03301)</td>\n      <td>0</td>\n    </tr>\n  </tbody>\n</table>\n<p>499 rows × 5 columns</p>\n</div>"
     },
     "execution_count": 43,
     "metadata": {},
     "output_type": "execute_result"
    }
   ],
   "source": [
    "zones = zones.set_index('id')\n",
    "zones"
   ],
   "metadata": {
    "collapsed": false,
    "ExecuteTime": {
     "end_time": "2024-01-20T10:42:11.297729700Z",
     "start_time": "2024-01-20T10:42:11.187825800Z"
    }
   },
   "id": "365912afda3e5bd0"
  },
  {
   "cell_type": "code",
   "execution_count": 48,
   "outputs": [
    {
     "data": {
      "text/plain": "         1        6        9        11       16       17       22       23    \\\nid                                                                             \n1       646.9   1592.9   2795.1   2855.8  10798.8  10859.1   9229.7   4656.1   \n6      3772.0   2209.4   5908.6   3594.7  12332.1  12348.2  10857.5   6568.6   \n9      5773.4   4525.7   3953.7   4691.6  14951.9  15012.2  13364.2   8789.4   \n11     3346.0   1847.5   3944.8    225.6  13500.4  13560.7  11931.3   7357.7   \n16    10059.1  12027.5  11720.1  13290.4    144.2    222.1   2163.2   6058.6   \n...       ...      ...      ...      ...      ...      ...      ...      ...   \n2869  14652.2  15241.0  12025.8  15406.9  21852.1  21912.4  20264.4  15689.6   \n2875  12827.7  13598.8  10318.8  13764.7  19693.9  19754.2  18106.2  13531.4   \n2877   5053.5   7021.9   6703.3   8284.8   5831.6   5891.9   4180.4   1041.8   \n2879  28119.9  29809.8  29789.5  31345.5  19296.1  19218.2  20409.4  24128.7   \n3000    638.0   2606.4   3505.9   3869.3   9613.2   9673.5   8044.1   3554.8   \n\n         24       28    ...     2626     2683     2750     2841     2856  \\\nid                      ...                                                \n1      4630.0   3587.3  ...   9472.9   3847.7  20862.8  13663.8   4432.8   \n6      6317.2   5636.2  ...  10261.1   5896.6  21302.6  15291.6   6120.0   \n9      9034.2   7720.6  ...  13626.0   7981.0  25015.9  17798.3   9140.7   \n11     7331.6   6288.9  ...  12018.6   6549.3  23564.4  16365.4   7134.4   \n16     6138.5   7513.0  ...   2443.6   7393.8  11533.1   3424.7   6270.7   \n...       ...      ...  ...      ...      ...      ...      ...      ...   \n2869  15934.4  14620.8  ...  20526.2  14881.2  31916.1  24640.5  16040.9   \n2875  13776.2  12462.6  ...  18368.0  12723.0  29757.9  22482.3  13882.7   \n2877   1221.3   2496.2  ...   4505.7   2377.0  15895.6   8662.5   1414.0   \n2879  24199.3  25582.4  ...  19830.2  25463.9   7917.9  18523.3  24331.5   \n3000   3444.4   2486.0  ...   8287.3   2746.4  19677.2  12478.2   3247.2   \n\n         2869     2875     2877     2879     3000  \nid                                                 \n1     14398.3  11734.9   5697.9  28764.3    300.4  \n6     17418.8  14941.7   7487.7  29204.1   3423.7  \n9     10740.6   8294.4   9831.2  32917.4   5425.1  \n11    15387.7  12977.9   8399.5  31465.9   2997.7  \n16    21716.6  18719.5   5727.0  19434.6  10407.4  \n...       ...      ...      ...      ...      ...  \n2869    190.0   3203.3  16731.4  39817.6  14612.7  \n2875   3581.5    870.5  14573.2  37659.4  12788.2  \n2877  16699.8  13702.7      0.0  23797.1   5401.8  \n2879  39786.0  36788.9  23797.1      0.0  28468.2  \n3000  15008.6  12239.0   4596.6  27578.7    986.3  \n\n[499 rows x 499 columns]",
      "text/html": "<div>\n<style scoped>\n    .dataframe tbody tr th:only-of-type {\n        vertical-align: middle;\n    }\n\n    .dataframe tbody tr th {\n        vertical-align: top;\n    }\n\n    .dataframe thead th {\n        text-align: right;\n    }\n</style>\n<table border=\"1\" class=\"dataframe\">\n  <thead>\n    <tr style=\"text-align: right;\">\n      <th></th>\n      <th>1</th>\n      <th>6</th>\n      <th>9</th>\n      <th>11</th>\n      <th>16</th>\n      <th>17</th>\n      <th>22</th>\n      <th>23</th>\n      <th>24</th>\n      <th>28</th>\n      <th>...</th>\n      <th>2626</th>\n      <th>2683</th>\n      <th>2750</th>\n      <th>2841</th>\n      <th>2856</th>\n      <th>2869</th>\n      <th>2875</th>\n      <th>2877</th>\n      <th>2879</th>\n      <th>3000</th>\n    </tr>\n    <tr>\n      <th>id</th>\n      <th></th>\n      <th></th>\n      <th></th>\n      <th></th>\n      <th></th>\n      <th></th>\n      <th></th>\n      <th></th>\n      <th></th>\n      <th></th>\n      <th></th>\n      <th></th>\n      <th></th>\n      <th></th>\n      <th></th>\n      <th></th>\n      <th></th>\n      <th></th>\n      <th></th>\n      <th></th>\n      <th></th>\n    </tr>\n  </thead>\n  <tbody>\n    <tr>\n      <th>1</th>\n      <td>646.9</td>\n      <td>1592.9</td>\n      <td>2795.1</td>\n      <td>2855.8</td>\n      <td>10798.8</td>\n      <td>10859.1</td>\n      <td>9229.7</td>\n      <td>4656.1</td>\n      <td>4630.0</td>\n      <td>3587.3</td>\n      <td>...</td>\n      <td>9472.9</td>\n      <td>3847.7</td>\n      <td>20862.8</td>\n      <td>13663.8</td>\n      <td>4432.8</td>\n      <td>14398.3</td>\n      <td>11734.9</td>\n      <td>5697.9</td>\n      <td>28764.3</td>\n      <td>300.4</td>\n    </tr>\n    <tr>\n      <th>6</th>\n      <td>3772.0</td>\n      <td>2209.4</td>\n      <td>5908.6</td>\n      <td>3594.7</td>\n      <td>12332.1</td>\n      <td>12348.2</td>\n      <td>10857.5</td>\n      <td>6568.6</td>\n      <td>6317.2</td>\n      <td>5636.2</td>\n      <td>...</td>\n      <td>10261.1</td>\n      <td>5896.6</td>\n      <td>21302.6</td>\n      <td>15291.6</td>\n      <td>6120.0</td>\n      <td>17418.8</td>\n      <td>14941.7</td>\n      <td>7487.7</td>\n      <td>29204.1</td>\n      <td>3423.7</td>\n    </tr>\n    <tr>\n      <th>9</th>\n      <td>5773.4</td>\n      <td>4525.7</td>\n      <td>3953.7</td>\n      <td>4691.6</td>\n      <td>14951.9</td>\n      <td>15012.2</td>\n      <td>13364.2</td>\n      <td>8789.4</td>\n      <td>9034.2</td>\n      <td>7720.6</td>\n      <td>...</td>\n      <td>13626.0</td>\n      <td>7981.0</td>\n      <td>25015.9</td>\n      <td>17798.3</td>\n      <td>9140.7</td>\n      <td>10740.6</td>\n      <td>8294.4</td>\n      <td>9831.2</td>\n      <td>32917.4</td>\n      <td>5425.1</td>\n    </tr>\n    <tr>\n      <th>11</th>\n      <td>3346.0</td>\n      <td>1847.5</td>\n      <td>3944.8</td>\n      <td>225.6</td>\n      <td>13500.4</td>\n      <td>13560.7</td>\n      <td>11931.3</td>\n      <td>7357.7</td>\n      <td>7331.6</td>\n      <td>6288.9</td>\n      <td>...</td>\n      <td>12018.6</td>\n      <td>6549.3</td>\n      <td>23564.4</td>\n      <td>16365.4</td>\n      <td>7134.4</td>\n      <td>15387.7</td>\n      <td>12977.9</td>\n      <td>8399.5</td>\n      <td>31465.9</td>\n      <td>2997.7</td>\n    </tr>\n    <tr>\n      <th>16</th>\n      <td>10059.1</td>\n      <td>12027.5</td>\n      <td>11720.1</td>\n      <td>13290.4</td>\n      <td>144.2</td>\n      <td>222.1</td>\n      <td>2163.2</td>\n      <td>6058.6</td>\n      <td>6138.5</td>\n      <td>7513.0</td>\n      <td>...</td>\n      <td>2443.6</td>\n      <td>7393.8</td>\n      <td>11533.1</td>\n      <td>3424.7</td>\n      <td>6270.7</td>\n      <td>21716.6</td>\n      <td>18719.5</td>\n      <td>5727.0</td>\n      <td>19434.6</td>\n      <td>10407.4</td>\n    </tr>\n    <tr>\n      <th>...</th>\n      <td>...</td>\n      <td>...</td>\n      <td>...</td>\n      <td>...</td>\n      <td>...</td>\n      <td>...</td>\n      <td>...</td>\n      <td>...</td>\n      <td>...</td>\n      <td>...</td>\n      <td>...</td>\n      <td>...</td>\n      <td>...</td>\n      <td>...</td>\n      <td>...</td>\n      <td>...</td>\n      <td>...</td>\n      <td>...</td>\n      <td>...</td>\n      <td>...</td>\n      <td>...</td>\n    </tr>\n    <tr>\n      <th>2869</th>\n      <td>14652.2</td>\n      <td>15241.0</td>\n      <td>12025.8</td>\n      <td>15406.9</td>\n      <td>21852.1</td>\n      <td>21912.4</td>\n      <td>20264.4</td>\n      <td>15689.6</td>\n      <td>15934.4</td>\n      <td>14620.8</td>\n      <td>...</td>\n      <td>20526.2</td>\n      <td>14881.2</td>\n      <td>31916.1</td>\n      <td>24640.5</td>\n      <td>16040.9</td>\n      <td>190.0</td>\n      <td>3203.3</td>\n      <td>16731.4</td>\n      <td>39817.6</td>\n      <td>14612.7</td>\n    </tr>\n    <tr>\n      <th>2875</th>\n      <td>12827.7</td>\n      <td>13598.8</td>\n      <td>10318.8</td>\n      <td>13764.7</td>\n      <td>19693.9</td>\n      <td>19754.2</td>\n      <td>18106.2</td>\n      <td>13531.4</td>\n      <td>13776.2</td>\n      <td>12462.6</td>\n      <td>...</td>\n      <td>18368.0</td>\n      <td>12723.0</td>\n      <td>29757.9</td>\n      <td>22482.3</td>\n      <td>13882.7</td>\n      <td>3581.5</td>\n      <td>870.5</td>\n      <td>14573.2</td>\n      <td>37659.4</td>\n      <td>12788.2</td>\n    </tr>\n    <tr>\n      <th>2877</th>\n      <td>5053.5</td>\n      <td>7021.9</td>\n      <td>6703.3</td>\n      <td>8284.8</td>\n      <td>5831.6</td>\n      <td>5891.9</td>\n      <td>4180.4</td>\n      <td>1041.8</td>\n      <td>1221.3</td>\n      <td>2496.2</td>\n      <td>...</td>\n      <td>4505.7</td>\n      <td>2377.0</td>\n      <td>15895.6</td>\n      <td>8662.5</td>\n      <td>1414.0</td>\n      <td>16699.8</td>\n      <td>13702.7</td>\n      <td>0.0</td>\n      <td>23797.1</td>\n      <td>5401.8</td>\n    </tr>\n    <tr>\n      <th>2879</th>\n      <td>28119.9</td>\n      <td>29809.8</td>\n      <td>29789.5</td>\n      <td>31345.5</td>\n      <td>19296.1</td>\n      <td>19218.2</td>\n      <td>20409.4</td>\n      <td>24128.7</td>\n      <td>24199.3</td>\n      <td>25582.4</td>\n      <td>...</td>\n      <td>19830.2</td>\n      <td>25463.9</td>\n      <td>7917.9</td>\n      <td>18523.3</td>\n      <td>24331.5</td>\n      <td>39786.0</td>\n      <td>36788.9</td>\n      <td>23797.1</td>\n      <td>0.0</td>\n      <td>28468.2</td>\n    </tr>\n    <tr>\n      <th>3000</th>\n      <td>638.0</td>\n      <td>2606.4</td>\n      <td>3505.9</td>\n      <td>3869.3</td>\n      <td>9613.2</td>\n      <td>9673.5</td>\n      <td>8044.1</td>\n      <td>3554.8</td>\n      <td>3444.4</td>\n      <td>2486.0</td>\n      <td>...</td>\n      <td>8287.3</td>\n      <td>2746.4</td>\n      <td>19677.2</td>\n      <td>12478.2</td>\n      <td>3247.2</td>\n      <td>15008.6</td>\n      <td>12239.0</td>\n      <td>4596.6</td>\n      <td>27578.7</td>\n      <td>986.3</td>\n    </tr>\n  </tbody>\n</table>\n<p>499 rows × 499 columns</p>\n</div>"
     },
     "execution_count": 48,
     "metadata": {},
     "output_type": "execute_result"
    }
   ],
   "source": [
    "distance_matrix.columns = pd.to_numeric(distance_matrix.columns)\n",
    "distance_matrix"
   ],
   "metadata": {
    "collapsed": false,
    "ExecuteTime": {
     "end_time": "2024-01-20T10:43:38.963880400Z",
     "start_time": "2024-01-20T10:43:38.869611Z"
    }
   },
   "id": "e89a43d0a9fad36d"
  },
  {
   "cell_type": "code",
   "execution_count": 53,
   "outputs": [],
   "source": [
    "def select_zone_for_stop(home_zone_id, zones, distance_matrix):\n",
    "    \"\"\"\n",
    "    Выбирает зону для остановки на основе расстояния, типа землепользования, доступности рабочих мест и домашней зоны.\n",
    "    :param current_zone: ID текущей зоны.\n",
    "    :param home_zone_id: ID домашней зоны.\n",
    "    :param zones: DataFrame с зонами и их характеристиками.\n",
    "    :param distance_matrix: Матрица расстояний между зонами.\n",
    "    :return: ID выбранной зоны.\n",
    "    \"\"\"\n",
    "    probabilities = []\n",
    "\n",
    "    for zone_id in zones.index:\n",
    "        # Расчет вероятности на основе расстояния от домашней зоны\n",
    "        distance_home = distance_matrix.loc[home_zone_id, zone_id]\n",
    "        distance_probability_home = 1 / (distance_home + 1)  # Простой пример, можно модифицировать\n",
    "\n",
    "        # Учет типа землепользования\n",
    "        landuse_probability = zones.loc[zone_id, 'landuse_numeric'] / 3  # Пример, требует уточнения\n",
    "\n",
    "        # Учет доступности рабочих мест\n",
    "        work_availability = zones.loc[zone_id, 'workers_availability']\n",
    "        work_probability = work_availability / zones['workers_availability'].max()  # Нормализация\n",
    "\n",
    "        # Общая вероятность для зоны\n",
    "        total_probability = distance_probability_home * landuse_probability * work_probability\n",
    "        probabilities.append(total_probability)\n",
    "\n",
    "    # Нормализация вероятностей\n",
    "    probabilities = [p / sum(probabilities) for p in probabilities]\n",
    "\n",
    "    # Выбор зоны на основе сгенерированных вероятностей\n",
    "    selected_zone = np.random.choice(zones.index, p=probabilities)\n",
    "    return selected_zone"
   ],
   "metadata": {
    "collapsed": false,
    "ExecuteTime": {
     "end_time": "2024-01-20T10:44:14.450821800Z",
     "start_time": "2024-01-20T10:44:14.372811Z"
    }
   },
   "id": "20769ec38af29955"
  },
  {
   "cell_type": "code",
   "execution_count": 54,
   "outputs": [],
   "source": [
    "for index, row in synthetic_tours_data.iterrows():\n",
    "    home_zone_id = row['block_id']\n",
    "    for stop in row['stops']:\n",
    "        # Выбор зоны для остановки\n",
    "        selected_zone_id = select_zone_for_stop(home_zone_id, zones, distance_matrix)\n",
    "        # Добавление выбранной зоны к информации об остановке\n",
    "        stop['zone_id'] = selected_zone_id"
   ],
   "metadata": {
    "collapsed": false,
    "ExecuteTime": {
     "end_time": "2024-01-20T10:50:25.697951900Z",
     "start_time": "2024-01-20T10:44:16.103730200Z"
    }
   },
   "id": "f4a926dd878234ec"
  },
  {
   "cell_type": "code",
   "execution_count": 58,
   "outputs": [
    {
     "data": {
      "text/plain": "      block_id                                              stops\n0          324  [{'purpose': 1, 'zone_id': 777}, {'purpose': 1...\n1          324  [{'purpose': 1, 'zone_id': 771}, {'purpose': 1...\n2         1884  [{'purpose': 0, 'zone_id': 378}, {'purpose': 1...\n3         1884  [{'purpose': 0, 'zone_id': 1883}, {'purpose': ...\n4         1884  [{'purpose': 0, 'zone_id': 1550}, {'purpose': ...\n...        ...                                                ...\n1560       209  [{'purpose': 1, 'zone_id': 2059}, {'purpose': ...\n1561       209  [{'purpose': 1, 'zone_id': 471}, {'purpose': 0...\n1562       209  [{'purpose': 1, 'zone_id': 632}, {'purpose': 1...\n1563       943  [{'purpose': 1, 'zone_id': 1491}, {'purpose': ...\n1564       294  [{'purpose': 0, 'zone_id': 17}, {'purpose': 0,...\n\n[1565 rows x 2 columns]",
      "text/html": "<div>\n<style scoped>\n    .dataframe tbody tr th:only-of-type {\n        vertical-align: middle;\n    }\n\n    .dataframe tbody tr th {\n        vertical-align: top;\n    }\n\n    .dataframe thead th {\n        text-align: right;\n    }\n</style>\n<table border=\"1\" class=\"dataframe\">\n  <thead>\n    <tr style=\"text-align: right;\">\n      <th></th>\n      <th>block_id</th>\n      <th>stops</th>\n    </tr>\n  </thead>\n  <tbody>\n    <tr>\n      <th>0</th>\n      <td>324</td>\n      <td>[{'purpose': 1, 'zone_id': 777}, {'purpose': 1...</td>\n    </tr>\n    <tr>\n      <th>1</th>\n      <td>324</td>\n      <td>[{'purpose': 1, 'zone_id': 771}, {'purpose': 1...</td>\n    </tr>\n    <tr>\n      <th>2</th>\n      <td>1884</td>\n      <td>[{'purpose': 0, 'zone_id': 378}, {'purpose': 1...</td>\n    </tr>\n    <tr>\n      <th>3</th>\n      <td>1884</td>\n      <td>[{'purpose': 0, 'zone_id': 1883}, {'purpose': ...</td>\n    </tr>\n    <tr>\n      <th>4</th>\n      <td>1884</td>\n      <td>[{'purpose': 0, 'zone_id': 1550}, {'purpose': ...</td>\n    </tr>\n    <tr>\n      <th>...</th>\n      <td>...</td>\n      <td>...</td>\n    </tr>\n    <tr>\n      <th>1560</th>\n      <td>209</td>\n      <td>[{'purpose': 1, 'zone_id': 2059}, {'purpose': ...</td>\n    </tr>\n    <tr>\n      <th>1561</th>\n      <td>209</td>\n      <td>[{'purpose': 1, 'zone_id': 471}, {'purpose': 0...</td>\n    </tr>\n    <tr>\n      <th>1562</th>\n      <td>209</td>\n      <td>[{'purpose': 1, 'zone_id': 632}, {'purpose': 1...</td>\n    </tr>\n    <tr>\n      <th>1563</th>\n      <td>943</td>\n      <td>[{'purpose': 1, 'zone_id': 1491}, {'purpose': ...</td>\n    </tr>\n    <tr>\n      <th>1564</th>\n      <td>294</td>\n      <td>[{'purpose': 0, 'zone_id': 17}, {'purpose': 0,...</td>\n    </tr>\n  </tbody>\n</table>\n<p>1565 rows × 2 columns</p>\n</div>"
     },
     "execution_count": 58,
     "metadata": {},
     "output_type": "execute_result"
    }
   ],
   "source": [
    "synthetic_tours_data[['block_id', 'stops']]"
   ],
   "metadata": {
    "collapsed": false,
    "ExecuteTime": {
     "end_time": "2024-01-20T10:51:33.156423300Z",
     "start_time": "2024-01-20T10:51:33.022509900Z"
    }
   },
   "id": "33a3dfb40c1e186"
  },
  {
   "cell_type": "code",
   "execution_count": 61,
   "outputs": [],
   "source": [
    "for index, row in synthetic_tours_data.iterrows():\n",
    "    # Установка домашней зоны для последней остановки\n",
    "    if row['stops']:  # Проверяем, есть ли остановки\n",
    "        row['stops'][-1]['zone_id'] = row['block_id']"
   ],
   "metadata": {
    "collapsed": false,
    "ExecuteTime": {
     "end_time": "2024-01-20T11:18:06.379178400Z",
     "start_time": "2024-01-20T11:18:06.253696800Z"
    }
   },
   "id": "2da991e0ecc1d114"
  },
  {
   "cell_type": "raw",
   "source": [
    "Сгенерируем продолжительность остановок"
   ],
   "metadata": {
    "collapsed": false
   },
   "id": "429ad46e82b8e601"
  },
  {
   "cell_type": "code",
   "execution_count": 65,
   "outputs": [],
   "source": [
    "import numpy as np\n",
    "\n",
    "for index, row in synthetic_tours_data.iterrows():\n",
    "    for stop in row['stops']:\n",
    "        # Генерация продолжительности остановки с нормальным распределением\n",
    "        duration = np.random.normal(loc=20, scale=10)  # loc - среднее, scale - стандартное отклонение\n",
    "        duration = max(0, min(duration, 40))  # Ограничение продолжительности от 0 до 40 минут\n",
    "        stop['duration'] = int(duration)  # Добавление продолжительности в словарь остановки"
   ],
   "metadata": {
    "collapsed": false,
    "ExecuteTime": {
     "end_time": "2024-01-20T11:25:02.300631100Z",
     "start_time": "2024-01-20T11:25:02.143764500Z"
    }
   },
   "id": "bc4337d1477273a0"
  },
  {
   "cell_type": "code",
   "execution_count": 66,
   "outputs": [
    {
     "data": {
      "text/plain": "0       [{'purpose': 1, 'zone_id': 777, 'duration': 24...\n1       [{'purpose': 1, 'zone_id': 771, 'duration': 29...\n2       [{'purpose': 0, 'zone_id': 378, 'duration': 14...\n3       [{'purpose': 0, 'zone_id': 1883, 'duration': 3...\n4       [{'purpose': 0, 'zone_id': 1550, 'duration': 2...\n                              ...                        \n1560    [{'purpose': 1, 'zone_id': 2059, 'duration': 2...\n1561    [{'purpose': 1, 'zone_id': 471, 'duration': 11...\n1562    [{'purpose': 1, 'zone_id': 632, 'duration': 37...\n1563    [{'purpose': 1, 'zone_id': 1491, 'duration': 1...\n1564    [{'purpose': 0, 'zone_id': 17, 'duration': 35}...\nName: stops, Length: 1565, dtype: object"
     },
     "execution_count": 66,
     "metadata": {},
     "output_type": "execute_result"
    }
   ],
   "source": [
    "synthetic_tours_data['stops']"
   ],
   "metadata": {
    "collapsed": false,
    "ExecuteTime": {
     "end_time": "2024-01-20T11:25:20.696205900Z",
     "start_time": "2024-01-20T11:25:20.602031200Z"
    }
   },
   "id": "fc3e8569798e588d"
  },
  {
   "cell_type": "raw",
   "source": [
    "Добавим поле time_spent каждой остановке"
   ],
   "metadata": {
    "collapsed": false
   },
   "id": "a702eb5f51fbe088"
  },
  {
   "cell_type": "code",
   "execution_count": 77,
   "outputs": [],
   "source": [
    "import json"
   ],
   "metadata": {
    "collapsed": false
   },
   "id": "2d5e0f4d2ab60b1a"
  },
  {
   "cell_type": "code",
   "execution_count": 84,
   "outputs": [],
   "source": [
    "# Убедитесь, что stops преобразованы из строки JSON в список словарей\n",
    "synthetic_tours_data['stops'] = synthetic_tours_data['stops'].apply(json.loads)"
   ],
   "metadata": {
    "collapsed": false,
    "ExecuteTime": {
     "end_time": "2024-01-20T12:11:04.666157700Z",
     "start_time": "2024-01-20T12:11:04.540853600Z"
    }
   },
   "id": "1728e084f3e2837a"
  },
  {
   "cell_type": "code",
   "execution_count": null,
   "outputs": [],
   "source": [
    "SPEED = 600  # Скорость в метрах в минуту\n",
    "\n",
    "for index, row in synthetic_tours_data.iterrows():\n",
    "    time_spent = 0  # Начальное время, потраченное на путь\n",
    "    previous_zone = row['block_id']  # Начальная точка - домашняя зона\n",
    "\n",
    "    for stop in row['stops']:\n",
    "        current_zone = stop['zone_id']  # Преобразование ID текущей зоны в строку\n",
    "\n",
    "        # Расстояние от предыдущей зоны до текущей\n",
    "        distance = distance_matrix.loc[previous_zone, current_zone]\n",
    "\n",
    "        # Время, затрачиваемое на путь до текущей зоны\n",
    "        travel_time = distance / SPEED\n",
    "\n",
    "        # Общее время, затраченное до текущего момента (включая остановку)\n",
    "        time_spent += travel_time + stop['duration']\n",
    "\n",
    "        # Добавление времени, затраченного до текущей остановки, в словарь остановки\n",
    "        stop['time_spent'] = time_spent\n",
    "\n",
    "        # Обновление предыдущей зоны для следующего шага\n",
    "        previous_zone = current_zone"
   ],
   "metadata": {
    "collapsed": false,
    "is_executing": true
   },
   "id": "78759e564043da55"
  },
  {
   "cell_type": "code",
   "execution_count": null,
   "outputs": [],
   "source": [
    "# Загрузка данных из CSV\n",
    "synthetic_tours_data = pd.read_csv('C:/Users/sm_pa/OneDrive/Рабочий стол/НИР3/perm_freight_modelling/data/stops_synthetic.csv')\n",
    "\n",
    "# Преобразование строки JSON обратно в список словарей для каждой записи\n",
    "synthetic_tours_data['stops'] = synthetic_tours_data['stops'].apply(json.loads)\n",
    "\n",
    "synthetic_tours_data"
   ],
   "metadata": {
    "collapsed": false,
    "is_executing": true
   },
   "id": "22c4e4453a24997a"
  }
 ],
 "metadata": {
  "kernelspec": {
   "display_name": "Python 3",
   "language": "python",
   "name": "python3"
  },
  "language_info": {
   "codemirror_mode": {
    "name": "ipython",
    "version": 2
   },
   "file_extension": ".py",
   "mimetype": "text/x-python",
   "name": "python",
   "nbconvert_exporter": "python",
   "pygments_lexer": "ipython2",
   "version": "2.7.6"
  }
 },
 "nbformat": 4,
 "nbformat_minor": 5
}
