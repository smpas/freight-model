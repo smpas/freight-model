{
 "cells": [
  {
   "cell_type": "code",
   "execution_count": 1,
   "id": "initial_id",
   "metadata": {
    "collapsed": true,
    "ExecuteTime": {
     "end_time": "2024-01-20T17:00:06.356810700Z",
     "start_time": "2024-01-20T17:00:05.778488500Z"
    }
   },
   "outputs": [],
   "source": [
    "import geopandas as gpd\n",
    "import numpy as np\n",
    "import pandas as pd"
   ]
  },
  {
   "cell_type": "code",
   "execution_count": 41,
   "outputs": [
    {
     "data": {
      "text/plain": "              id  block_id    industry  total_area  workers     landuse  \\\n0        4669322       275  industrial     694.450       41  industrial   \n1       79882759       752  industrial     214.784        9  industrial   \n2       79882837       752     service    1552.068       72  industrial   \n3       79883190       752  industrial     189.197        8  industrial   \n4       89185196       943  industrial     450.628       19  industrial   \n...          ...       ...         ...         ...      ...         ...   \n8438  1147821565       649  industrial    1218.829       35  industrial   \n8439  1148104875       274     service     107.470        2  industrial   \n8440  1148419580       276     service    2499.540       67  industrial   \n8441  1148746841       274  industrial     188.391        6  industrial   \n8442  1149034816       275  industrial     516.981       18  industrial   \n\n      industrial    retail   service  population_availability  \\\n0       0.998556       NaN  0.001444                 4.152758   \n1       0.888674  0.046569  0.064757                 4.710778   \n2       0.888674  0.046569  0.064757                 4.710778   \n3       0.888674  0.046569  0.064757                 4.710778   \n4       0.801968       NaN  0.198032                 4.979759   \n...          ...       ...       ...                      ...   \n8438    1.000000       NaN       NaN                 4.672042   \n8439    0.941292       NaN  0.058708                 4.441204   \n8440    0.773616       NaN  0.226384                 4.208105   \n8441    0.941292       NaN  0.058708                 4.441204   \n8442    0.998556       NaN  0.001444                 4.152758   \n\n      workers_availability  employment_share  tours  TGR  \\\n0                 2.321604          0.998556    NaN  NaN   \n1                 2.383966          0.888674    NaN  NaN   \n2                 2.383966          0.064757    NaN  NaN   \n3                 2.383966          0.888674    NaN  NaN   \n4                 2.434761          0.801968    NaN  NaN   \n...                    ...               ...    ...  ...   \n8438              2.437900          1.000000    NaN  NaN   \n8439              2.392340          0.058708    NaN  NaN   \n8440              2.329820          0.226384    NaN  NaN   \n8441              2.392340          0.941292    NaN  NaN   \n8442              2.321604          0.998556    NaN  NaN   \n\n                                               geometry  \n0     MULTIPOLYGON (((56.17115 57.88024, 56.17135 57...  \n1     MULTIPOLYGON (((56.34866 58.10470, 56.34892 58...  \n2     MULTIPOLYGON (((56.34712 58.08610, 56.34720 58...  \n3     MULTIPOLYGON (((56.34799 58.10467, 56.34834 58...  \n4     MULTIPOLYGON (((56.12423 58.03430, 56.12452 58...  \n...                                                 ...  \n8438  MULTIPOLYGON (((56.16802 57.91086, 56.16836 57...  \n8439  MULTIPOLYGON (((56.13393 57.92601, 56.13408 57...  \n8440  MULTIPOLYGON (((56.16355 57.88379, 56.16394 57...  \n8441  MULTIPOLYGON (((56.13846 57.90833, 56.13847 57...  \n8442  MULTIPOLYGON (((56.15790 57.87906, 56.15796 57...  \n\n[8443 rows x 15 columns]",
      "text/html": "<div>\n<style scoped>\n    .dataframe tbody tr th:only-of-type {\n        vertical-align: middle;\n    }\n\n    .dataframe tbody tr th {\n        vertical-align: top;\n    }\n\n    .dataframe thead th {\n        text-align: right;\n    }\n</style>\n<table border=\"1\" class=\"dataframe\">\n  <thead>\n    <tr style=\"text-align: right;\">\n      <th></th>\n      <th>id</th>\n      <th>block_id</th>\n      <th>industry</th>\n      <th>total_area</th>\n      <th>workers</th>\n      <th>landuse</th>\n      <th>industrial</th>\n      <th>retail</th>\n      <th>service</th>\n      <th>population_availability</th>\n      <th>workers_availability</th>\n      <th>employment_share</th>\n      <th>tours</th>\n      <th>TGR</th>\n      <th>geometry</th>\n    </tr>\n  </thead>\n  <tbody>\n    <tr>\n      <th>0</th>\n      <td>4669322</td>\n      <td>275</td>\n      <td>industrial</td>\n      <td>694.450</td>\n      <td>41</td>\n      <td>industrial</td>\n      <td>0.998556</td>\n      <td>NaN</td>\n      <td>0.001444</td>\n      <td>4.152758</td>\n      <td>2.321604</td>\n      <td>0.998556</td>\n      <td>NaN</td>\n      <td>NaN</td>\n      <td>MULTIPOLYGON (((56.17115 57.88024, 56.17135 57...</td>\n    </tr>\n    <tr>\n      <th>1</th>\n      <td>79882759</td>\n      <td>752</td>\n      <td>industrial</td>\n      <td>214.784</td>\n      <td>9</td>\n      <td>industrial</td>\n      <td>0.888674</td>\n      <td>0.046569</td>\n      <td>0.064757</td>\n      <td>4.710778</td>\n      <td>2.383966</td>\n      <td>0.888674</td>\n      <td>NaN</td>\n      <td>NaN</td>\n      <td>MULTIPOLYGON (((56.34866 58.10470, 56.34892 58...</td>\n    </tr>\n    <tr>\n      <th>2</th>\n      <td>79882837</td>\n      <td>752</td>\n      <td>service</td>\n      <td>1552.068</td>\n      <td>72</td>\n      <td>industrial</td>\n      <td>0.888674</td>\n      <td>0.046569</td>\n      <td>0.064757</td>\n      <td>4.710778</td>\n      <td>2.383966</td>\n      <td>0.064757</td>\n      <td>NaN</td>\n      <td>NaN</td>\n      <td>MULTIPOLYGON (((56.34712 58.08610, 56.34720 58...</td>\n    </tr>\n    <tr>\n      <th>3</th>\n      <td>79883190</td>\n      <td>752</td>\n      <td>industrial</td>\n      <td>189.197</td>\n      <td>8</td>\n      <td>industrial</td>\n      <td>0.888674</td>\n      <td>0.046569</td>\n      <td>0.064757</td>\n      <td>4.710778</td>\n      <td>2.383966</td>\n      <td>0.888674</td>\n      <td>NaN</td>\n      <td>NaN</td>\n      <td>MULTIPOLYGON (((56.34799 58.10467, 56.34834 58...</td>\n    </tr>\n    <tr>\n      <th>4</th>\n      <td>89185196</td>\n      <td>943</td>\n      <td>industrial</td>\n      <td>450.628</td>\n      <td>19</td>\n      <td>industrial</td>\n      <td>0.801968</td>\n      <td>NaN</td>\n      <td>0.198032</td>\n      <td>4.979759</td>\n      <td>2.434761</td>\n      <td>0.801968</td>\n      <td>NaN</td>\n      <td>NaN</td>\n      <td>MULTIPOLYGON (((56.12423 58.03430, 56.12452 58...</td>\n    </tr>\n    <tr>\n      <th>...</th>\n      <td>...</td>\n      <td>...</td>\n      <td>...</td>\n      <td>...</td>\n      <td>...</td>\n      <td>...</td>\n      <td>...</td>\n      <td>...</td>\n      <td>...</td>\n      <td>...</td>\n      <td>...</td>\n      <td>...</td>\n      <td>...</td>\n      <td>...</td>\n      <td>...</td>\n    </tr>\n    <tr>\n      <th>8438</th>\n      <td>1147821565</td>\n      <td>649</td>\n      <td>industrial</td>\n      <td>1218.829</td>\n      <td>35</td>\n      <td>industrial</td>\n      <td>1.000000</td>\n      <td>NaN</td>\n      <td>NaN</td>\n      <td>4.672042</td>\n      <td>2.437900</td>\n      <td>1.000000</td>\n      <td>NaN</td>\n      <td>NaN</td>\n      <td>MULTIPOLYGON (((56.16802 57.91086, 56.16836 57...</td>\n    </tr>\n    <tr>\n      <th>8439</th>\n      <td>1148104875</td>\n      <td>274</td>\n      <td>service</td>\n      <td>107.470</td>\n      <td>2</td>\n      <td>industrial</td>\n      <td>0.941292</td>\n      <td>NaN</td>\n      <td>0.058708</td>\n      <td>4.441204</td>\n      <td>2.392340</td>\n      <td>0.058708</td>\n      <td>NaN</td>\n      <td>NaN</td>\n      <td>MULTIPOLYGON (((56.13393 57.92601, 56.13408 57...</td>\n    </tr>\n    <tr>\n      <th>8440</th>\n      <td>1148419580</td>\n      <td>276</td>\n      <td>service</td>\n      <td>2499.540</td>\n      <td>67</td>\n      <td>industrial</td>\n      <td>0.773616</td>\n      <td>NaN</td>\n      <td>0.226384</td>\n      <td>4.208105</td>\n      <td>2.329820</td>\n      <td>0.226384</td>\n      <td>NaN</td>\n      <td>NaN</td>\n      <td>MULTIPOLYGON (((56.16355 57.88379, 56.16394 57...</td>\n    </tr>\n    <tr>\n      <th>8441</th>\n      <td>1148746841</td>\n      <td>274</td>\n      <td>industrial</td>\n      <td>188.391</td>\n      <td>6</td>\n      <td>industrial</td>\n      <td>0.941292</td>\n      <td>NaN</td>\n      <td>0.058708</td>\n      <td>4.441204</td>\n      <td>2.392340</td>\n      <td>0.941292</td>\n      <td>NaN</td>\n      <td>NaN</td>\n      <td>MULTIPOLYGON (((56.13846 57.90833, 56.13847 57...</td>\n    </tr>\n    <tr>\n      <th>8442</th>\n      <td>1149034816</td>\n      <td>275</td>\n      <td>industrial</td>\n      <td>516.981</td>\n      <td>18</td>\n      <td>industrial</td>\n      <td>0.998556</td>\n      <td>NaN</td>\n      <td>0.001444</td>\n      <td>4.152758</td>\n      <td>2.321604</td>\n      <td>0.998556</td>\n      <td>NaN</td>\n      <td>NaN</td>\n      <td>MULTIPOLYGON (((56.15790 57.87906, 56.15796 57...</td>\n    </tr>\n  </tbody>\n</table>\n<p>8443 rows × 15 columns</p>\n</div>"
     },
     "execution_count": 41,
     "metadata": {},
     "output_type": "execute_result"
    }
   ],
   "source": [
    "TGR_data = gpd.read_file(\"C:/Users/sm_pa/OneDrive/Рабочий стол/НИР3/perm_freight_modelling/data/tour_numbers_syntetic.geojson\")\n",
    "TGR_data"
   ],
   "metadata": {
    "collapsed": false,
    "ExecuteTime": {
     "end_time": "2024-01-18T15:15:43.169827200Z",
     "start_time": "2024-01-18T15:15:39.506257600Z"
    }
   },
   "id": "d1f3a1f5fdc2c069"
  },
  {
   "cell_type": "code",
   "execution_count": 42,
   "outputs": [
    {
     "data": {
      "text/plain": "              id  block_id    industry  total_area  workers     landuse  \\\n0        4669322       275  industrial     694.450       41  industrial   \n1       79882759       752  industrial     214.784        9  industrial   \n2       79882837       752     service    1552.068       72  industrial   \n3       79883190       752  industrial     189.197        8  industrial   \n4       89185196       943  industrial     450.628       19  industrial   \n...          ...       ...         ...         ...      ...         ...   \n8438  1147821565       649  industrial    1218.829       35  industrial   \n8439  1148104875       274     service     107.470        2  industrial   \n8440  1148419580       276     service    2499.540       67  industrial   \n8441  1148746841       274  industrial     188.391        6  industrial   \n8442  1149034816       275  industrial     516.981       18  industrial   \n\n      industrial    retail   service  population_availability  \\\n0       0.998556       NaN  0.001444                 4.152758   \n1       0.888674  0.046569  0.064757                 4.710778   \n2       0.888674  0.046569  0.064757                 4.710778   \n3       0.888674  0.046569  0.064757                 4.710778   \n4       0.801968       NaN  0.198032                 4.979759   \n...          ...       ...       ...                      ...   \n8438    1.000000       NaN       NaN                 4.672042   \n8439    0.941292       NaN  0.058708                 4.441204   \n8440    0.773616       NaN  0.226384                 4.208105   \n8441    0.941292       NaN  0.058708                 4.441204   \n8442    0.998556       NaN  0.001444                 4.152758   \n\n      workers_availability  employment_share  tours  TGR  \\\n0                 2.321604          0.998556    NaN  NaN   \n1                 2.383966          0.888674    NaN  NaN   \n2                 2.383966          0.064757    NaN  NaN   \n3                 2.383966          0.888674    NaN  NaN   \n4                 2.434761          0.801968    NaN  NaN   \n...                    ...               ...    ...  ...   \n8438              2.437900          1.000000    NaN  NaN   \n8439              2.392340          0.058708    NaN  NaN   \n8440              2.329820          0.226384    NaN  NaN   \n8441              2.392340          0.941292    NaN  NaN   \n8442              2.321604          0.998556    NaN  NaN   \n\n                                               geometry  is_real_data  \\\n0     MULTIPOLYGON (((56.17115 57.88024, 56.17135 57...         False   \n1     MULTIPOLYGON (((56.34866 58.10470, 56.34892 58...         False   \n2     MULTIPOLYGON (((56.34712 58.08610, 56.34720 58...         False   \n3     MULTIPOLYGON (((56.34799 58.10467, 56.34834 58...         False   \n4     MULTIPOLYGON (((56.12423 58.03430, 56.12452 58...         False   \n...                                                 ...           ...   \n8438  MULTIPOLYGON (((56.16802 57.91086, 56.16836 57...         False   \n8439  MULTIPOLYGON (((56.13393 57.92601, 56.13408 57...         False   \n8440  MULTIPOLYGON (((56.16355 57.88379, 56.16394 57...         False   \n8441  MULTIPOLYGON (((56.13846 57.90833, 56.13847 57...         False   \n8442  MULTIPOLYGON (((56.15790 57.87906, 56.15796 57...         False   \n\n      landuse_numeric  \n0                   3  \n1                   3  \n2                   3  \n3                   3  \n4                   3  \n...               ...  \n8438                3  \n8439                3  \n8440                3  \n8441                3  \n8442                3  \n\n[8443 rows x 17 columns]",
      "text/html": "<div>\n<style scoped>\n    .dataframe tbody tr th:only-of-type {\n        vertical-align: middle;\n    }\n\n    .dataframe tbody tr th {\n        vertical-align: top;\n    }\n\n    .dataframe thead th {\n        text-align: right;\n    }\n</style>\n<table border=\"1\" class=\"dataframe\">\n  <thead>\n    <tr style=\"text-align: right;\">\n      <th></th>\n      <th>id</th>\n      <th>block_id</th>\n      <th>industry</th>\n      <th>total_area</th>\n      <th>workers</th>\n      <th>landuse</th>\n      <th>industrial</th>\n      <th>retail</th>\n      <th>service</th>\n      <th>population_availability</th>\n      <th>workers_availability</th>\n      <th>employment_share</th>\n      <th>tours</th>\n      <th>TGR</th>\n      <th>geometry</th>\n      <th>is_real_data</th>\n      <th>landuse_numeric</th>\n    </tr>\n  </thead>\n  <tbody>\n    <tr>\n      <th>0</th>\n      <td>4669322</td>\n      <td>275</td>\n      <td>industrial</td>\n      <td>694.450</td>\n      <td>41</td>\n      <td>industrial</td>\n      <td>0.998556</td>\n      <td>NaN</td>\n      <td>0.001444</td>\n      <td>4.152758</td>\n      <td>2.321604</td>\n      <td>0.998556</td>\n      <td>NaN</td>\n      <td>NaN</td>\n      <td>MULTIPOLYGON (((56.17115 57.88024, 56.17135 57...</td>\n      <td>False</td>\n      <td>3</td>\n    </tr>\n    <tr>\n      <th>1</th>\n      <td>79882759</td>\n      <td>752</td>\n      <td>industrial</td>\n      <td>214.784</td>\n      <td>9</td>\n      <td>industrial</td>\n      <td>0.888674</td>\n      <td>0.046569</td>\n      <td>0.064757</td>\n      <td>4.710778</td>\n      <td>2.383966</td>\n      <td>0.888674</td>\n      <td>NaN</td>\n      <td>NaN</td>\n      <td>MULTIPOLYGON (((56.34866 58.10470, 56.34892 58...</td>\n      <td>False</td>\n      <td>3</td>\n    </tr>\n    <tr>\n      <th>2</th>\n      <td>79882837</td>\n      <td>752</td>\n      <td>service</td>\n      <td>1552.068</td>\n      <td>72</td>\n      <td>industrial</td>\n      <td>0.888674</td>\n      <td>0.046569</td>\n      <td>0.064757</td>\n      <td>4.710778</td>\n      <td>2.383966</td>\n      <td>0.064757</td>\n      <td>NaN</td>\n      <td>NaN</td>\n      <td>MULTIPOLYGON (((56.34712 58.08610, 56.34720 58...</td>\n      <td>False</td>\n      <td>3</td>\n    </tr>\n    <tr>\n      <th>3</th>\n      <td>79883190</td>\n      <td>752</td>\n      <td>industrial</td>\n      <td>189.197</td>\n      <td>8</td>\n      <td>industrial</td>\n      <td>0.888674</td>\n      <td>0.046569</td>\n      <td>0.064757</td>\n      <td>4.710778</td>\n      <td>2.383966</td>\n      <td>0.888674</td>\n      <td>NaN</td>\n      <td>NaN</td>\n      <td>MULTIPOLYGON (((56.34799 58.10467, 56.34834 58...</td>\n      <td>False</td>\n      <td>3</td>\n    </tr>\n    <tr>\n      <th>4</th>\n      <td>89185196</td>\n      <td>943</td>\n      <td>industrial</td>\n      <td>450.628</td>\n      <td>19</td>\n      <td>industrial</td>\n      <td>0.801968</td>\n      <td>NaN</td>\n      <td>0.198032</td>\n      <td>4.979759</td>\n      <td>2.434761</td>\n      <td>0.801968</td>\n      <td>NaN</td>\n      <td>NaN</td>\n      <td>MULTIPOLYGON (((56.12423 58.03430, 56.12452 58...</td>\n      <td>False</td>\n      <td>3</td>\n    </tr>\n    <tr>\n      <th>...</th>\n      <td>...</td>\n      <td>...</td>\n      <td>...</td>\n      <td>...</td>\n      <td>...</td>\n      <td>...</td>\n      <td>...</td>\n      <td>...</td>\n      <td>...</td>\n      <td>...</td>\n      <td>...</td>\n      <td>...</td>\n      <td>...</td>\n      <td>...</td>\n      <td>...</td>\n      <td>...</td>\n      <td>...</td>\n    </tr>\n    <tr>\n      <th>8438</th>\n      <td>1147821565</td>\n      <td>649</td>\n      <td>industrial</td>\n      <td>1218.829</td>\n      <td>35</td>\n      <td>industrial</td>\n      <td>1.000000</td>\n      <td>NaN</td>\n      <td>NaN</td>\n      <td>4.672042</td>\n      <td>2.437900</td>\n      <td>1.000000</td>\n      <td>NaN</td>\n      <td>NaN</td>\n      <td>MULTIPOLYGON (((56.16802 57.91086, 56.16836 57...</td>\n      <td>False</td>\n      <td>3</td>\n    </tr>\n    <tr>\n      <th>8439</th>\n      <td>1148104875</td>\n      <td>274</td>\n      <td>service</td>\n      <td>107.470</td>\n      <td>2</td>\n      <td>industrial</td>\n      <td>0.941292</td>\n      <td>NaN</td>\n      <td>0.058708</td>\n      <td>4.441204</td>\n      <td>2.392340</td>\n      <td>0.058708</td>\n      <td>NaN</td>\n      <td>NaN</td>\n      <td>MULTIPOLYGON (((56.13393 57.92601, 56.13408 57...</td>\n      <td>False</td>\n      <td>3</td>\n    </tr>\n    <tr>\n      <th>8440</th>\n      <td>1148419580</td>\n      <td>276</td>\n      <td>service</td>\n      <td>2499.540</td>\n      <td>67</td>\n      <td>industrial</td>\n      <td>0.773616</td>\n      <td>NaN</td>\n      <td>0.226384</td>\n      <td>4.208105</td>\n      <td>2.329820</td>\n      <td>0.226384</td>\n      <td>NaN</td>\n      <td>NaN</td>\n      <td>MULTIPOLYGON (((56.16355 57.88379, 56.16394 57...</td>\n      <td>False</td>\n      <td>3</td>\n    </tr>\n    <tr>\n      <th>8441</th>\n      <td>1148746841</td>\n      <td>274</td>\n      <td>industrial</td>\n      <td>188.391</td>\n      <td>6</td>\n      <td>industrial</td>\n      <td>0.941292</td>\n      <td>NaN</td>\n      <td>0.058708</td>\n      <td>4.441204</td>\n      <td>2.392340</td>\n      <td>0.941292</td>\n      <td>NaN</td>\n      <td>NaN</td>\n      <td>MULTIPOLYGON (((56.13846 57.90833, 56.13847 57...</td>\n      <td>False</td>\n      <td>3</td>\n    </tr>\n    <tr>\n      <th>8442</th>\n      <td>1149034816</td>\n      <td>275</td>\n      <td>industrial</td>\n      <td>516.981</td>\n      <td>18</td>\n      <td>industrial</td>\n      <td>0.998556</td>\n      <td>NaN</td>\n      <td>0.001444</td>\n      <td>4.152758</td>\n      <td>2.321604</td>\n      <td>0.998556</td>\n      <td>NaN</td>\n      <td>NaN</td>\n      <td>MULTIPOLYGON (((56.15790 57.87906, 56.15796 57...</td>\n      <td>False</td>\n      <td>3</td>\n    </tr>\n  </tbody>\n</table>\n<p>8443 rows × 17 columns</p>\n</div>"
     },
     "execution_count": 42,
     "metadata": {},
     "output_type": "execute_result"
    }
   ],
   "source": [
    "TGR_data['is_real_data'] = np.where(TGR_data['tours'].isna(), False, True)\n",
    "custom_order = ['low_density', 'residential', 'commercial', 'industrial']\n",
    "TGR_data['landuse_numeric'] = pd.Categorical(TGR_data['landuse'], categories=custom_order, ordered=True).codes\n",
    "TGR_data"
   ],
   "metadata": {
    "collapsed": false,
    "ExecuteTime": {
     "end_time": "2024-01-18T15:15:45.792347600Z",
     "start_time": "2024-01-18T15:15:45.745442900Z"
    }
   },
   "id": "33733d23b616d034"
  },
  {
   "cell_type": "raw",
   "source": [
    "1 шаг метода: генерация TGR при помощи экспоненциальной регрессии"
   ],
   "metadata": {
    "collapsed": false
   },
   "id": "d5d8d3ef04967a9c"
  },
  {
   "cell_type": "code",
   "execution_count": 43,
   "outputs": [],
   "source": [
    "# Функция для вычисления TGR с использованием экспоненциальной регрессии\n",
    "def tgr_function(coefficients, employment, landuse, availability):\n",
    "    b0, b1, b2, b3 = coefficients\n",
    "    return b0 * np.exp(b1 * employment + b2 * landuse + b3 * availability)"
   ],
   "metadata": {
    "collapsed": false,
    "ExecuteTime": {
     "end_time": "2024-01-18T15:15:51.036716700Z",
     "start_time": "2024-01-18T15:15:51.020678400Z"
    }
   },
   "id": "ebc5a2c1f22411c3"
  },
  {
   "cell_type": "code",
   "execution_count": 44,
   "outputs": [],
   "source": [
    "# Функция для метода наименьших квадратов\n",
    "def objective_function(coefficients, employment, landuse, availability, TGR):\n",
    "    predicted_tgr = tgr_function(coefficients, employment, landuse, availability)\n",
    "    return predicted_tgr - TGR"
   ],
   "metadata": {
    "collapsed": false,
    "ExecuteTime": {
     "end_time": "2024-01-18T15:15:52.982221900Z",
     "start_time": "2024-01-18T15:15:52.950696200Z"
    }
   },
   "id": "ab430e8730a5f326"
  },
  {
   "cell_type": "code",
   "execution_count": 45,
   "outputs": [],
   "source": [
    "# Отбираем данные для обучения\n",
    "training_set = TGR_data[TGR_data['is_real_data'] == True]"
   ],
   "metadata": {
    "collapsed": false,
    "ExecuteTime": {
     "end_time": "2024-01-18T15:15:55.064609400Z",
     "start_time": "2024-01-18T15:15:55.035551100Z"
    }
   },
   "id": "7f031b05ebc90f9c"
  },
  {
   "cell_type": "code",
   "execution_count": 9,
   "outputs": [],
   "source": [
    "from scipy.optimize import least_squares"
   ],
   "metadata": {
    "collapsed": false,
    "ExecuteTime": {
     "end_time": "2024-01-18T12:38:16.775474Z",
     "start_time": "2024-01-18T12:38:14.154100900Z"
    }
   },
   "id": "abe82f7935c18b3d"
  },
  {
   "cell_type": "code",
   "execution_count": 46,
   "outputs": [
    {
     "name": "stdout",
     "output_type": "stream",
     "text": [
      "Оптимальные значения коэффициентов: [ 0.06442234 -0.78321739 -0.14452297  0.21644495]\n"
     ]
    }
   ],
   "source": [
    "# Начальные значения коэффициентов\n",
    "initial_guess = np.array([1, 1, 1, 1])\n",
    "\n",
    "# Минимизация функции с помощью метода наименьших квадратов\n",
    "result = least_squares(objective_function, initial_guess, args=(training_set['employment_share'], training_set['landuse_numeric'], training_set['workers_availability'], training_set['TGR']))\n",
    "\n",
    "# Оптимальные значения коэффициентов\n",
    "optimal_coefficients = result.x\n",
    "print(\"Оптимальные значения коэффициентов:\", optimal_coefficients)"
   ],
   "metadata": {
    "collapsed": false,
    "ExecuteTime": {
     "end_time": "2024-01-18T15:15:58.347675Z",
     "start_time": "2024-01-18T15:15:58.270358300Z"
    }
   },
   "id": "c1b5a0d9f8720abf"
  },
  {
   "cell_type": "raw",
   "source": [
    "Функция обучена, теперь необходимо подсчитать TGR для каждой зоны по каждой индустрии"
   ],
   "metadata": {
    "collapsed": false
   },
   "id": "70466cb34d1fd7a7"
  },
  {
   "cell_type": "code",
   "execution_count": 47,
   "outputs": [
    {
     "data": {
      "text/plain": "       id          area      landuse  industrial    retail   service  \\\n0       1  1.224163e+06  low_density    0.000000  0.000000  1.000000   \n1       6  3.949440e+07  low_density    0.932489  0.067511  0.000000   \n2       9  5.817216e+07  low_density    0.900648  0.009719  0.089633   \n3      11  2.740008e+05  low_density    1.000000  0.000000  0.000000   \n4      16  2.060076e+05  residential    0.000000  0.133333  0.866667   \n..    ...           ...          ...         ...       ...       ...   \n494  2869  3.137001e+05   commercial    0.439394  0.000000  0.560606   \n495  2875  2.419463e+06   industrial    0.546729  0.000000  0.453271   \n496  2877  1.502041e+05   industrial    1.000000  0.000000  0.000000   \n497  2879  1.999429e+05   industrial    1.000000  0.000000  0.000000   \n498  3000  3.550764e+06  low_density    0.274725  0.000000  0.725275   \n\n     work_area  living_area  workers  population  population_availability  \\\n0     4893.620     113243.0      124        2211                 5.241083   \n1    29031.391      45179.0      711         898                 4.892252   \n2    39884.962     304269.0      926        6476                 4.760366   \n3      539.633       1527.0       15          20                 4.804614   \n4     6815.552      79678.0      150        1340                 6.456608   \n..         ...          ...      ...         ...                      ...   \n494   4756.526          0.0      132           0                 4.291921   \n495   9696.609       1284.0      214          24                 4.515939   \n496   6515.337          0.0      158           0                 5.810754   \n497   4229.398          0.0       94           0                 4.074374   \n498   8527.540      46561.0      182         911                 5.342491   \n\n     workers_availability                                           geometry  \n0                2.463974  POLYGON ((56.34764 58.03500, 56.34762 58.03500...  \n1                2.386894  POLYGON ((56.34129 58.02780, 56.34127 58.02781...  \n2                2.351703  POLYGON ((56.36243 58.05457, 56.36242 58.05457...  \n3                2.364015  POLYGON ((56.40011 58.04080, 56.40011 58.04081...  \n4                2.789124  POLYGON ((56.20791 58.00293, 56.20789 58.00293...  \n..                    ...                                                ...  \n494              2.221195  POLYGON ((56.38621 58.14957, 56.38620 58.14958...  \n495              2.286350  POLYGON ((56.36681 58.12208, 56.36681 58.12208...  \n496              3.120476  POLYGON ((56.28264 58.02905, 56.28262 58.02904...  \n497              2.930219  POLYGON ((56.15650 57.88209, 56.15648 57.88209...  \n498              2.495559  POLYGON ((56.31847 58.03896, 56.31846 58.03897...  \n\n[499 rows x 13 columns]",
      "text/html": "<div>\n<style scoped>\n    .dataframe tbody tr th:only-of-type {\n        vertical-align: middle;\n    }\n\n    .dataframe tbody tr th {\n        vertical-align: top;\n    }\n\n    .dataframe thead th {\n        text-align: right;\n    }\n</style>\n<table border=\"1\" class=\"dataframe\">\n  <thead>\n    <tr style=\"text-align: right;\">\n      <th></th>\n      <th>id</th>\n      <th>area</th>\n      <th>landuse</th>\n      <th>industrial</th>\n      <th>retail</th>\n      <th>service</th>\n      <th>work_area</th>\n      <th>living_area</th>\n      <th>workers</th>\n      <th>population</th>\n      <th>population_availability</th>\n      <th>workers_availability</th>\n      <th>geometry</th>\n    </tr>\n  </thead>\n  <tbody>\n    <tr>\n      <th>0</th>\n      <td>1</td>\n      <td>1.224163e+06</td>\n      <td>low_density</td>\n      <td>0.000000</td>\n      <td>0.000000</td>\n      <td>1.000000</td>\n      <td>4893.620</td>\n      <td>113243.0</td>\n      <td>124</td>\n      <td>2211</td>\n      <td>5.241083</td>\n      <td>2.463974</td>\n      <td>POLYGON ((56.34764 58.03500, 56.34762 58.03500...</td>\n    </tr>\n    <tr>\n      <th>1</th>\n      <td>6</td>\n      <td>3.949440e+07</td>\n      <td>low_density</td>\n      <td>0.932489</td>\n      <td>0.067511</td>\n      <td>0.000000</td>\n      <td>29031.391</td>\n      <td>45179.0</td>\n      <td>711</td>\n      <td>898</td>\n      <td>4.892252</td>\n      <td>2.386894</td>\n      <td>POLYGON ((56.34129 58.02780, 56.34127 58.02781...</td>\n    </tr>\n    <tr>\n      <th>2</th>\n      <td>9</td>\n      <td>5.817216e+07</td>\n      <td>low_density</td>\n      <td>0.900648</td>\n      <td>0.009719</td>\n      <td>0.089633</td>\n      <td>39884.962</td>\n      <td>304269.0</td>\n      <td>926</td>\n      <td>6476</td>\n      <td>4.760366</td>\n      <td>2.351703</td>\n      <td>POLYGON ((56.36243 58.05457, 56.36242 58.05457...</td>\n    </tr>\n    <tr>\n      <th>3</th>\n      <td>11</td>\n      <td>2.740008e+05</td>\n      <td>low_density</td>\n      <td>1.000000</td>\n      <td>0.000000</td>\n      <td>0.000000</td>\n      <td>539.633</td>\n      <td>1527.0</td>\n      <td>15</td>\n      <td>20</td>\n      <td>4.804614</td>\n      <td>2.364015</td>\n      <td>POLYGON ((56.40011 58.04080, 56.40011 58.04081...</td>\n    </tr>\n    <tr>\n      <th>4</th>\n      <td>16</td>\n      <td>2.060076e+05</td>\n      <td>residential</td>\n      <td>0.000000</td>\n      <td>0.133333</td>\n      <td>0.866667</td>\n      <td>6815.552</td>\n      <td>79678.0</td>\n      <td>150</td>\n      <td>1340</td>\n      <td>6.456608</td>\n      <td>2.789124</td>\n      <td>POLYGON ((56.20791 58.00293, 56.20789 58.00293...</td>\n    </tr>\n    <tr>\n      <th>...</th>\n      <td>...</td>\n      <td>...</td>\n      <td>...</td>\n      <td>...</td>\n      <td>...</td>\n      <td>...</td>\n      <td>...</td>\n      <td>...</td>\n      <td>...</td>\n      <td>...</td>\n      <td>...</td>\n      <td>...</td>\n      <td>...</td>\n    </tr>\n    <tr>\n      <th>494</th>\n      <td>2869</td>\n      <td>3.137001e+05</td>\n      <td>commercial</td>\n      <td>0.439394</td>\n      <td>0.000000</td>\n      <td>0.560606</td>\n      <td>4756.526</td>\n      <td>0.0</td>\n      <td>132</td>\n      <td>0</td>\n      <td>4.291921</td>\n      <td>2.221195</td>\n      <td>POLYGON ((56.38621 58.14957, 56.38620 58.14958...</td>\n    </tr>\n    <tr>\n      <th>495</th>\n      <td>2875</td>\n      <td>2.419463e+06</td>\n      <td>industrial</td>\n      <td>0.546729</td>\n      <td>0.000000</td>\n      <td>0.453271</td>\n      <td>9696.609</td>\n      <td>1284.0</td>\n      <td>214</td>\n      <td>24</td>\n      <td>4.515939</td>\n      <td>2.286350</td>\n      <td>POLYGON ((56.36681 58.12208, 56.36681 58.12208...</td>\n    </tr>\n    <tr>\n      <th>496</th>\n      <td>2877</td>\n      <td>1.502041e+05</td>\n      <td>industrial</td>\n      <td>1.000000</td>\n      <td>0.000000</td>\n      <td>0.000000</td>\n      <td>6515.337</td>\n      <td>0.0</td>\n      <td>158</td>\n      <td>0</td>\n      <td>5.810754</td>\n      <td>3.120476</td>\n      <td>POLYGON ((56.28264 58.02905, 56.28262 58.02904...</td>\n    </tr>\n    <tr>\n      <th>497</th>\n      <td>2879</td>\n      <td>1.999429e+05</td>\n      <td>industrial</td>\n      <td>1.000000</td>\n      <td>0.000000</td>\n      <td>0.000000</td>\n      <td>4229.398</td>\n      <td>0.0</td>\n      <td>94</td>\n      <td>0</td>\n      <td>4.074374</td>\n      <td>2.930219</td>\n      <td>POLYGON ((56.15650 57.88209, 56.15648 57.88209...</td>\n    </tr>\n    <tr>\n      <th>498</th>\n      <td>3000</td>\n      <td>3.550764e+06</td>\n      <td>low_density</td>\n      <td>0.274725</td>\n      <td>0.000000</td>\n      <td>0.725275</td>\n      <td>8527.540</td>\n      <td>46561.0</td>\n      <td>182</td>\n      <td>911</td>\n      <td>5.342491</td>\n      <td>2.495559</td>\n      <td>POLYGON ((56.31847 58.03896, 56.31846 58.03897...</td>\n    </tr>\n  </tbody>\n</table>\n<p>499 rows × 13 columns</p>\n</div>"
     },
     "execution_count": 47,
     "metadata": {},
     "output_type": "execute_result"
    }
   ],
   "source": [
    "zones_data = gpd.read_file(\"C:/Users/sm_pa/OneDrive/Рабочий стол/НИР3/perm_freight_modelling/data/TAZ_final.geojson\")\n",
    "zones_data"
   ],
   "metadata": {
    "collapsed": false,
    "ExecuteTime": {
     "end_time": "2024-01-18T15:16:05.213880Z",
     "start_time": "2024-01-18T15:16:04.146244700Z"
    }
   },
   "id": "b8ac26a033dfaf93"
  },
  {
   "cell_type": "code",
   "execution_count": 48,
   "outputs": [
    {
     "data": {
      "text/plain": "       id          area      landuse  industrial    retail   service  \\\n0       1  1.224163e+06  low_density    0.000000  0.000000  1.000000   \n1       6  3.949440e+07  low_density    0.932489  0.067511  0.000000   \n2       9  5.817216e+07  low_density    0.900648  0.009719  0.089633   \n3      11  2.740008e+05  low_density    1.000000  0.000000  0.000000   \n4      16  2.060076e+05  residential    0.000000  0.133333  0.866667   \n..    ...           ...          ...         ...       ...       ...   \n494  2869  3.137001e+05   commercial    0.439394  0.000000  0.560606   \n495  2875  2.419463e+06   industrial    0.546729  0.000000  0.453271   \n496  2877  1.502041e+05   industrial    1.000000  0.000000  0.000000   \n497  2879  1.999429e+05   industrial    1.000000  0.000000  0.000000   \n498  3000  3.550764e+06  low_density    0.274725  0.000000  0.725275   \n\n     work_area  living_area  workers  population  population_availability  \\\n0     4893.620     113243.0      124        2211                 5.241083   \n1    29031.391      45179.0      711         898                 4.892252   \n2    39884.962     304269.0      926        6476                 4.760366   \n3      539.633       1527.0       15          20                 4.804614   \n4     6815.552      79678.0      150        1340                 6.456608   \n..         ...          ...      ...         ...                      ...   \n494   4756.526          0.0      132           0                 4.291921   \n495   9696.609       1284.0      214          24                 4.515939   \n496   6515.337          0.0      158           0                 5.810754   \n497   4229.398          0.0       94           0                 4.074374   \n498   8527.540      46561.0      182         911                 5.342491   \n\n     workers_availability                                           geometry  \\\n0                2.463974  POLYGON ((56.34764 58.03500, 56.34762 58.03500...   \n1                2.386894  POLYGON ((56.34129 58.02780, 56.34127 58.02781...   \n2                2.351703  POLYGON ((56.36243 58.05457, 56.36242 58.05457...   \n3                2.364015  POLYGON ((56.40011 58.04080, 56.40011 58.04081...   \n4                2.789124  POLYGON ((56.20791 58.00293, 56.20789 58.00293...   \n..                    ...                                                ...   \n494              2.221195  POLYGON ((56.38621 58.14957, 56.38620 58.14958...   \n495              2.286350  POLYGON ((56.36681 58.12208, 56.36681 58.12208...   \n496              3.120476  POLYGON ((56.28264 58.02905, 56.28262 58.02904...   \n497              2.930219  POLYGON ((56.15650 57.88209, 56.15648 57.88209...   \n498              2.495559  POLYGON ((56.31847 58.03896, 56.31846 58.03897...   \n\n     landuse_numeric  \n0                  0  \n1                  0  \n2                  0  \n3                  0  \n4                  1  \n..               ...  \n494                2  \n495                3  \n496                3  \n497                3  \n498                0  \n\n[499 rows x 14 columns]",
      "text/html": "<div>\n<style scoped>\n    .dataframe tbody tr th:only-of-type {\n        vertical-align: middle;\n    }\n\n    .dataframe tbody tr th {\n        vertical-align: top;\n    }\n\n    .dataframe thead th {\n        text-align: right;\n    }\n</style>\n<table border=\"1\" class=\"dataframe\">\n  <thead>\n    <tr style=\"text-align: right;\">\n      <th></th>\n      <th>id</th>\n      <th>area</th>\n      <th>landuse</th>\n      <th>industrial</th>\n      <th>retail</th>\n      <th>service</th>\n      <th>work_area</th>\n      <th>living_area</th>\n      <th>workers</th>\n      <th>population</th>\n      <th>population_availability</th>\n      <th>workers_availability</th>\n      <th>geometry</th>\n      <th>landuse_numeric</th>\n    </tr>\n  </thead>\n  <tbody>\n    <tr>\n      <th>0</th>\n      <td>1</td>\n      <td>1.224163e+06</td>\n      <td>low_density</td>\n      <td>0.000000</td>\n      <td>0.000000</td>\n      <td>1.000000</td>\n      <td>4893.620</td>\n      <td>113243.0</td>\n      <td>124</td>\n      <td>2211</td>\n      <td>5.241083</td>\n      <td>2.463974</td>\n      <td>POLYGON ((56.34764 58.03500, 56.34762 58.03500...</td>\n      <td>0</td>\n    </tr>\n    <tr>\n      <th>1</th>\n      <td>6</td>\n      <td>3.949440e+07</td>\n      <td>low_density</td>\n      <td>0.932489</td>\n      <td>0.067511</td>\n      <td>0.000000</td>\n      <td>29031.391</td>\n      <td>45179.0</td>\n      <td>711</td>\n      <td>898</td>\n      <td>4.892252</td>\n      <td>2.386894</td>\n      <td>POLYGON ((56.34129 58.02780, 56.34127 58.02781...</td>\n      <td>0</td>\n    </tr>\n    <tr>\n      <th>2</th>\n      <td>9</td>\n      <td>5.817216e+07</td>\n      <td>low_density</td>\n      <td>0.900648</td>\n      <td>0.009719</td>\n      <td>0.089633</td>\n      <td>39884.962</td>\n      <td>304269.0</td>\n      <td>926</td>\n      <td>6476</td>\n      <td>4.760366</td>\n      <td>2.351703</td>\n      <td>POLYGON ((56.36243 58.05457, 56.36242 58.05457...</td>\n      <td>0</td>\n    </tr>\n    <tr>\n      <th>3</th>\n      <td>11</td>\n      <td>2.740008e+05</td>\n      <td>low_density</td>\n      <td>1.000000</td>\n      <td>0.000000</td>\n      <td>0.000000</td>\n      <td>539.633</td>\n      <td>1527.0</td>\n      <td>15</td>\n      <td>20</td>\n      <td>4.804614</td>\n      <td>2.364015</td>\n      <td>POLYGON ((56.40011 58.04080, 56.40011 58.04081...</td>\n      <td>0</td>\n    </tr>\n    <tr>\n      <th>4</th>\n      <td>16</td>\n      <td>2.060076e+05</td>\n      <td>residential</td>\n      <td>0.000000</td>\n      <td>0.133333</td>\n      <td>0.866667</td>\n      <td>6815.552</td>\n      <td>79678.0</td>\n      <td>150</td>\n      <td>1340</td>\n      <td>6.456608</td>\n      <td>2.789124</td>\n      <td>POLYGON ((56.20791 58.00293, 56.20789 58.00293...</td>\n      <td>1</td>\n    </tr>\n    <tr>\n      <th>...</th>\n      <td>...</td>\n      <td>...</td>\n      <td>...</td>\n      <td>...</td>\n      <td>...</td>\n      <td>...</td>\n      <td>...</td>\n      <td>...</td>\n      <td>...</td>\n      <td>...</td>\n      <td>...</td>\n      <td>...</td>\n      <td>...</td>\n      <td>...</td>\n    </tr>\n    <tr>\n      <th>494</th>\n      <td>2869</td>\n      <td>3.137001e+05</td>\n      <td>commercial</td>\n      <td>0.439394</td>\n      <td>0.000000</td>\n      <td>0.560606</td>\n      <td>4756.526</td>\n      <td>0.0</td>\n      <td>132</td>\n      <td>0</td>\n      <td>4.291921</td>\n      <td>2.221195</td>\n      <td>POLYGON ((56.38621 58.14957, 56.38620 58.14958...</td>\n      <td>2</td>\n    </tr>\n    <tr>\n      <th>495</th>\n      <td>2875</td>\n      <td>2.419463e+06</td>\n      <td>industrial</td>\n      <td>0.546729</td>\n      <td>0.000000</td>\n      <td>0.453271</td>\n      <td>9696.609</td>\n      <td>1284.0</td>\n      <td>214</td>\n      <td>24</td>\n      <td>4.515939</td>\n      <td>2.286350</td>\n      <td>POLYGON ((56.36681 58.12208, 56.36681 58.12208...</td>\n      <td>3</td>\n    </tr>\n    <tr>\n      <th>496</th>\n      <td>2877</td>\n      <td>1.502041e+05</td>\n      <td>industrial</td>\n      <td>1.000000</td>\n      <td>0.000000</td>\n      <td>0.000000</td>\n      <td>6515.337</td>\n      <td>0.0</td>\n      <td>158</td>\n      <td>0</td>\n      <td>5.810754</td>\n      <td>3.120476</td>\n      <td>POLYGON ((56.28264 58.02905, 56.28262 58.02904...</td>\n      <td>3</td>\n    </tr>\n    <tr>\n      <th>497</th>\n      <td>2879</td>\n      <td>1.999429e+05</td>\n      <td>industrial</td>\n      <td>1.000000</td>\n      <td>0.000000</td>\n      <td>0.000000</td>\n      <td>4229.398</td>\n      <td>0.0</td>\n      <td>94</td>\n      <td>0</td>\n      <td>4.074374</td>\n      <td>2.930219</td>\n      <td>POLYGON ((56.15650 57.88209, 56.15648 57.88209...</td>\n      <td>3</td>\n    </tr>\n    <tr>\n      <th>498</th>\n      <td>3000</td>\n      <td>3.550764e+06</td>\n      <td>low_density</td>\n      <td>0.274725</td>\n      <td>0.000000</td>\n      <td>0.725275</td>\n      <td>8527.540</td>\n      <td>46561.0</td>\n      <td>182</td>\n      <td>911</td>\n      <td>5.342491</td>\n      <td>2.495559</td>\n      <td>POLYGON ((56.31847 58.03896, 56.31846 58.03897...</td>\n      <td>0</td>\n    </tr>\n  </tbody>\n</table>\n<p>499 rows × 14 columns</p>\n</div>"
     },
     "execution_count": 48,
     "metadata": {},
     "output_type": "execute_result"
    }
   ],
   "source": [
    "custom_order = ['low_density', 'residential', 'commercial', 'industrial']\n",
    "zones_data['landuse_numeric'] = pd.Categorical(zones_data['landuse'], categories=custom_order, ordered=True).codes\n",
    "zones_data['landuse_numeric'] = pd.factorize(zones_data['landuse'])[0]\n",
    "zones_data"
   ],
   "metadata": {
    "collapsed": false,
    "ExecuteTime": {
     "end_time": "2024-01-18T15:16:20.219715Z",
     "start_time": "2024-01-18T15:16:20.110106400Z"
    }
   },
   "id": "d1c9e948a9739692"
  },
  {
   "cell_type": "code",
   "execution_count": 49,
   "outputs": [
    {
     "data": {
      "text/plain": "       id          area      landuse  industrial    retail   service  \\\n0       1  1.224163e+06  low_density    0.000000  0.000000  1.000000   \n1       6  3.949440e+07  low_density    0.932489  0.067511  0.000000   \n2       9  5.817216e+07  low_density    0.900648  0.009719  0.089633   \n3      11  2.740008e+05  low_density    1.000000  0.000000  0.000000   \n4      16  2.060076e+05  residential    0.000000  0.133333  0.866667   \n..    ...           ...          ...         ...       ...       ...   \n494  2869  3.137001e+05   commercial    0.439394  0.000000  0.560606   \n495  2875  2.419463e+06   industrial    0.546729  0.000000  0.453271   \n496  2877  1.502041e+05   industrial    1.000000  0.000000  0.000000   \n497  2879  1.999429e+05   industrial    1.000000  0.000000  0.000000   \n498  3000  3.550764e+06  low_density    0.274725  0.000000  0.725275   \n\n     work_area  living_area  workers  population  population_availability  \\\n0     4893.620     113243.0      124        2211                 5.241083   \n1    29031.391      45179.0      711         898                 4.892252   \n2    39884.962     304269.0      926        6476                 4.760366   \n3      539.633       1527.0       15          20                 4.804614   \n4     6815.552      79678.0      150        1340                 6.456608   \n..         ...          ...      ...         ...                      ...   \n494   4756.526          0.0      132           0                 4.291921   \n495   9696.609       1284.0      214          24                 4.515939   \n496   6515.337          0.0      158           0                 5.810754   \n497   4229.398          0.0       94           0                 4.074374   \n498   8527.540      46561.0      182         911                 5.342491   \n\n     workers_availability                                           geometry  \\\n0                2.463974  POLYGON ((56.34764 58.03500, 56.34762 58.03500...   \n1                2.386894  POLYGON ((56.34129 58.02780, 56.34127 58.02781...   \n2                2.351703  POLYGON ((56.36243 58.05457, 56.36242 58.05457...   \n3                2.364015  POLYGON ((56.40011 58.04080, 56.40011 58.04081...   \n4                2.789124  POLYGON ((56.20791 58.00293, 56.20789 58.00293...   \n..                    ...                                                ...   \n494              2.221195  POLYGON ((56.38621 58.14957, 56.38620 58.14958...   \n495              2.286350  POLYGON ((56.36681 58.12208, 56.36681 58.12208...   \n496              3.120476  POLYGON ((56.28264 58.02905, 56.28262 58.02904...   \n497              2.930219  POLYGON ((56.15650 57.88209, 56.15648 57.88209...   \n498              2.495559  POLYGON ((56.31847 58.03896, 56.31846 58.03897...   \n\n     landuse_numeric  industrial_TGR  retail_TGR  service_TGR  \n0                  0        0.109813    0.109813     0.050177  \n1                  0        0.052026    0.102434     0.107996  \n2                  0        0.052935    0.106364     0.099910  \n3                  0        0.049103    0.107462     0.107462  \n4                  1        0.101965    0.091854     0.051720  \n..               ...             ...         ...          ...  \n494                2        0.055315    0.078037     0.050305  \n495                3        0.044637    0.068495     0.048026  \n496                3        0.037490    0.082048     0.082048  \n497                3        0.035978    0.078738     0.078738  \n498                0        0.089161    0.110566     0.062650  \n\n[499 rows x 17 columns]",
      "text/html": "<div>\n<style scoped>\n    .dataframe tbody tr th:only-of-type {\n        vertical-align: middle;\n    }\n\n    .dataframe tbody tr th {\n        vertical-align: top;\n    }\n\n    .dataframe thead th {\n        text-align: right;\n    }\n</style>\n<table border=\"1\" class=\"dataframe\">\n  <thead>\n    <tr style=\"text-align: right;\">\n      <th></th>\n      <th>id</th>\n      <th>area</th>\n      <th>landuse</th>\n      <th>industrial</th>\n      <th>retail</th>\n      <th>service</th>\n      <th>work_area</th>\n      <th>living_area</th>\n      <th>workers</th>\n      <th>population</th>\n      <th>population_availability</th>\n      <th>workers_availability</th>\n      <th>geometry</th>\n      <th>landuse_numeric</th>\n      <th>industrial_TGR</th>\n      <th>retail_TGR</th>\n      <th>service_TGR</th>\n    </tr>\n  </thead>\n  <tbody>\n    <tr>\n      <th>0</th>\n      <td>1</td>\n      <td>1.224163e+06</td>\n      <td>low_density</td>\n      <td>0.000000</td>\n      <td>0.000000</td>\n      <td>1.000000</td>\n      <td>4893.620</td>\n      <td>113243.0</td>\n      <td>124</td>\n      <td>2211</td>\n      <td>5.241083</td>\n      <td>2.463974</td>\n      <td>POLYGON ((56.34764 58.03500, 56.34762 58.03500...</td>\n      <td>0</td>\n      <td>0.109813</td>\n      <td>0.109813</td>\n      <td>0.050177</td>\n    </tr>\n    <tr>\n      <th>1</th>\n      <td>6</td>\n      <td>3.949440e+07</td>\n      <td>low_density</td>\n      <td>0.932489</td>\n      <td>0.067511</td>\n      <td>0.000000</td>\n      <td>29031.391</td>\n      <td>45179.0</td>\n      <td>711</td>\n      <td>898</td>\n      <td>4.892252</td>\n      <td>2.386894</td>\n      <td>POLYGON ((56.34129 58.02780, 56.34127 58.02781...</td>\n      <td>0</td>\n      <td>0.052026</td>\n      <td>0.102434</td>\n      <td>0.107996</td>\n    </tr>\n    <tr>\n      <th>2</th>\n      <td>9</td>\n      <td>5.817216e+07</td>\n      <td>low_density</td>\n      <td>0.900648</td>\n      <td>0.009719</td>\n      <td>0.089633</td>\n      <td>39884.962</td>\n      <td>304269.0</td>\n      <td>926</td>\n      <td>6476</td>\n      <td>4.760366</td>\n      <td>2.351703</td>\n      <td>POLYGON ((56.36243 58.05457, 56.36242 58.05457...</td>\n      <td>0</td>\n      <td>0.052935</td>\n      <td>0.106364</td>\n      <td>0.099910</td>\n    </tr>\n    <tr>\n      <th>3</th>\n      <td>11</td>\n      <td>2.740008e+05</td>\n      <td>low_density</td>\n      <td>1.000000</td>\n      <td>0.000000</td>\n      <td>0.000000</td>\n      <td>539.633</td>\n      <td>1527.0</td>\n      <td>15</td>\n      <td>20</td>\n      <td>4.804614</td>\n      <td>2.364015</td>\n      <td>POLYGON ((56.40011 58.04080, 56.40011 58.04081...</td>\n      <td>0</td>\n      <td>0.049103</td>\n      <td>0.107462</td>\n      <td>0.107462</td>\n    </tr>\n    <tr>\n      <th>4</th>\n      <td>16</td>\n      <td>2.060076e+05</td>\n      <td>residential</td>\n      <td>0.000000</td>\n      <td>0.133333</td>\n      <td>0.866667</td>\n      <td>6815.552</td>\n      <td>79678.0</td>\n      <td>150</td>\n      <td>1340</td>\n      <td>6.456608</td>\n      <td>2.789124</td>\n      <td>POLYGON ((56.20791 58.00293, 56.20789 58.00293...</td>\n      <td>1</td>\n      <td>0.101965</td>\n      <td>0.091854</td>\n      <td>0.051720</td>\n    </tr>\n    <tr>\n      <th>...</th>\n      <td>...</td>\n      <td>...</td>\n      <td>...</td>\n      <td>...</td>\n      <td>...</td>\n      <td>...</td>\n      <td>...</td>\n      <td>...</td>\n      <td>...</td>\n      <td>...</td>\n      <td>...</td>\n      <td>...</td>\n      <td>...</td>\n      <td>...</td>\n      <td>...</td>\n      <td>...</td>\n      <td>...</td>\n    </tr>\n    <tr>\n      <th>494</th>\n      <td>2869</td>\n      <td>3.137001e+05</td>\n      <td>commercial</td>\n      <td>0.439394</td>\n      <td>0.000000</td>\n      <td>0.560606</td>\n      <td>4756.526</td>\n      <td>0.0</td>\n      <td>132</td>\n      <td>0</td>\n      <td>4.291921</td>\n      <td>2.221195</td>\n      <td>POLYGON ((56.38621 58.14957, 56.38620 58.14958...</td>\n      <td>2</td>\n      <td>0.055315</td>\n      <td>0.078037</td>\n      <td>0.050305</td>\n    </tr>\n    <tr>\n      <th>495</th>\n      <td>2875</td>\n      <td>2.419463e+06</td>\n      <td>industrial</td>\n      <td>0.546729</td>\n      <td>0.000000</td>\n      <td>0.453271</td>\n      <td>9696.609</td>\n      <td>1284.0</td>\n      <td>214</td>\n      <td>24</td>\n      <td>4.515939</td>\n      <td>2.286350</td>\n      <td>POLYGON ((56.36681 58.12208, 56.36681 58.12208...</td>\n      <td>3</td>\n      <td>0.044637</td>\n      <td>0.068495</td>\n      <td>0.048026</td>\n    </tr>\n    <tr>\n      <th>496</th>\n      <td>2877</td>\n      <td>1.502041e+05</td>\n      <td>industrial</td>\n      <td>1.000000</td>\n      <td>0.000000</td>\n      <td>0.000000</td>\n      <td>6515.337</td>\n      <td>0.0</td>\n      <td>158</td>\n      <td>0</td>\n      <td>5.810754</td>\n      <td>3.120476</td>\n      <td>POLYGON ((56.28264 58.02905, 56.28262 58.02904...</td>\n      <td>3</td>\n      <td>0.037490</td>\n      <td>0.082048</td>\n      <td>0.082048</td>\n    </tr>\n    <tr>\n      <th>497</th>\n      <td>2879</td>\n      <td>1.999429e+05</td>\n      <td>industrial</td>\n      <td>1.000000</td>\n      <td>0.000000</td>\n      <td>0.000000</td>\n      <td>4229.398</td>\n      <td>0.0</td>\n      <td>94</td>\n      <td>0</td>\n      <td>4.074374</td>\n      <td>2.930219</td>\n      <td>POLYGON ((56.15650 57.88209, 56.15648 57.88209...</td>\n      <td>3</td>\n      <td>0.035978</td>\n      <td>0.078738</td>\n      <td>0.078738</td>\n    </tr>\n    <tr>\n      <th>498</th>\n      <td>3000</td>\n      <td>3.550764e+06</td>\n      <td>low_density</td>\n      <td>0.274725</td>\n      <td>0.000000</td>\n      <td>0.725275</td>\n      <td>8527.540</td>\n      <td>46561.0</td>\n      <td>182</td>\n      <td>911</td>\n      <td>5.342491</td>\n      <td>2.495559</td>\n      <td>POLYGON ((56.31847 58.03896, 56.31846 58.03897...</td>\n      <td>0</td>\n      <td>0.089161</td>\n      <td>0.110566</td>\n      <td>0.062650</td>\n    </tr>\n  </tbody>\n</table>\n<p>499 rows × 17 columns</p>\n</div>"
     },
     "execution_count": 49,
     "metadata": {},
     "output_type": "execute_result"
    }
   ],
   "source": [
    "# Создаем новые столбцы для TGR\n",
    "zones_data['industrial_TGR'] = np.nan\n",
    "zones_data['retail_TGR'] = np.nan\n",
    "zones_data['service_TGR'] = np.nan\n",
    "\n",
    "# Проходим по каждой зоне и вычисляем TGR для каждой индустрии\n",
    "for index, zone in zones_data.iterrows():\n",
    "    # Получаем необходимые данные из текущей зоны\n",
    "    industrial_employment = zone['industrial']\n",
    "    retail_employment = zone['retail']\n",
    "    service_employment = zone['service']\n",
    "    \n",
    "    landuse = zone['landuse_numeric']\n",
    "    availability = zone['workers_availability']\n",
    "    \n",
    "    # Вычисляем TGR для каждой индустрии\n",
    "    industrial_TGR = tgr_function(optimal_coefficients, industrial_employment, landuse, availability)\n",
    "    retail_TGR = tgr_function(optimal_coefficients, retail_employment, landuse, availability)\n",
    "    service_TGR = tgr_function(optimal_coefficients, service_employment, landuse, availability)\n",
    "    \n",
    "    # Записываем результат в соответствующие поля геодатафрейма\n",
    "    zones_data.at[index, 'industrial_TGR'] = industrial_TGR\n",
    "    zones_data.at[index, 'retail_TGR'] = retail_TGR\n",
    "    zones_data.at[index, 'service_TGR'] = service_TGR\n",
    "\n",
    "# Выводим обновленный геодатафрейм zones\n",
    "zones_data"
   ],
   "metadata": {
    "collapsed": false,
    "ExecuteTime": {
     "end_time": "2024-01-18T15:16:30.133507600Z",
     "start_time": "2024-01-18T15:16:29.970622500Z"
    }
   },
   "id": "f4985cb39cf9be3b"
  },
  {
   "cell_type": "raw",
   "source": [
    "Посчитаем количества туров для всех зон (и индустрий)"
   ],
   "metadata": {
    "collapsed": false
   },
   "id": "801e6cdd572b8c82"
  },
  {
   "cell_type": "code",
   "execution_count": 52,
   "outputs": [
    {
     "data": {
      "text/plain": "       id          area      landuse  industrial    retail   service  \\\n0       1  1.224163e+06  low_density    0.000000  0.000000  1.000000   \n1       6  3.949440e+07  low_density    0.932489  0.067511  0.000000   \n2       9  5.817216e+07  low_density    0.900648  0.009719  0.089633   \n3      11  2.740008e+05  low_density    1.000000  0.000000  0.000000   \n4      16  2.060076e+05  residential    0.000000  0.133333  0.866667   \n..    ...           ...          ...         ...       ...       ...   \n494  2869  3.137001e+05   commercial    0.439394  0.000000  0.560606   \n495  2875  2.419463e+06   industrial    0.546729  0.000000  0.453271   \n496  2877  1.502041e+05   industrial    1.000000  0.000000  0.000000   \n497  2879  1.999429e+05   industrial    1.000000  0.000000  0.000000   \n498  3000  3.550764e+06  low_density    0.274725  0.000000  0.725275   \n\n     work_area  living_area  workers  population  population_availability  \\\n0     4893.620     113243.0      124        2211                 5.241083   \n1    29031.391      45179.0      711         898                 4.892252   \n2    39884.962     304269.0      926        6476                 4.760366   \n3      539.633       1527.0       15          20                 4.804614   \n4     6815.552      79678.0      150        1340                 6.456608   \n..         ...          ...      ...         ...                      ...   \n494   4756.526          0.0      132           0                 4.291921   \n495   9696.609       1284.0      214          24                 4.515939   \n496   6515.337          0.0      158           0                 5.810754   \n497   4229.398          0.0       94           0                 4.074374   \n498   8527.540      46561.0      182         911                 5.342491   \n\n     workers_availability                                           geometry  \\\n0                2.463974  POLYGON ((56.34764 58.03500, 56.34762 58.03500...   \n1                2.386894  POLYGON ((56.34129 58.02780, 56.34127 58.02781...   \n2                2.351703  POLYGON ((56.36243 58.05457, 56.36242 58.05457...   \n3                2.364015  POLYGON ((56.40011 58.04080, 56.40011 58.04081...   \n4                2.789124  POLYGON ((56.20791 58.00293, 56.20789 58.00293...   \n..                    ...                                                ...   \n494              2.221195  POLYGON ((56.38621 58.14957, 56.38620 58.14958...   \n495              2.286350  POLYGON ((56.36681 58.12208, 56.36681 58.12208...   \n496              3.120476  POLYGON ((56.28264 58.02905, 56.28262 58.02904...   \n497              2.930219  POLYGON ((56.15650 57.88209, 56.15648 57.88209...   \n498              2.495559  POLYGON ((56.31847 58.03896, 56.31846 58.03897...   \n\n     landuse_numeric  industrial_TGR  retail_TGR  service_TGR  \\\n0                  0        0.109813    0.109813     0.050177   \n1                  0        0.052026    0.102434     0.107996   \n2                  0        0.052935    0.106364     0.099910   \n3                  0        0.049103    0.107462     0.107462   \n4                  1        0.101965    0.091854     0.051720   \n..               ...             ...         ...          ...   \n494                2        0.055315    0.078037     0.050305   \n495                3        0.044637    0.068495     0.048026   \n496                3        0.037490    0.082048     0.082048   \n497                3        0.035978    0.078738     0.078738   \n498                0        0.089161    0.110566     0.062650   \n\n     industrial_tours  retail_tours  service_tours  \n0            0.000000      0.000000       6.221955  \n1           34.493447      4.916820       0.000000  \n2           44.148095      0.957272       8.292555  \n3            0.736546      0.000000       0.000000  \n4            0.000000      1.837080       6.723575  \n..                ...           ...            ...  \n494          3.208257      0.000000       3.722570  \n495          5.222476      0.000000       4.658560  \n496          5.923487      0.000000       0.000000  \n497          3.381924      0.000000       0.000000  \n498          4.458042      0.000000       8.269801  \n\n[499 rows x 20 columns]",
      "text/html": "<div>\n<style scoped>\n    .dataframe tbody tr th:only-of-type {\n        vertical-align: middle;\n    }\n\n    .dataframe tbody tr th {\n        vertical-align: top;\n    }\n\n    .dataframe thead th {\n        text-align: right;\n    }\n</style>\n<table border=\"1\" class=\"dataframe\">\n  <thead>\n    <tr style=\"text-align: right;\">\n      <th></th>\n      <th>id</th>\n      <th>area</th>\n      <th>landuse</th>\n      <th>industrial</th>\n      <th>retail</th>\n      <th>service</th>\n      <th>work_area</th>\n      <th>living_area</th>\n      <th>workers</th>\n      <th>population</th>\n      <th>population_availability</th>\n      <th>workers_availability</th>\n      <th>geometry</th>\n      <th>landuse_numeric</th>\n      <th>industrial_TGR</th>\n      <th>retail_TGR</th>\n      <th>service_TGR</th>\n      <th>industrial_tours</th>\n      <th>retail_tours</th>\n      <th>service_tours</th>\n    </tr>\n  </thead>\n  <tbody>\n    <tr>\n      <th>0</th>\n      <td>1</td>\n      <td>1.224163e+06</td>\n      <td>low_density</td>\n      <td>0.000000</td>\n      <td>0.000000</td>\n      <td>1.000000</td>\n      <td>4893.620</td>\n      <td>113243.0</td>\n      <td>124</td>\n      <td>2211</td>\n      <td>5.241083</td>\n      <td>2.463974</td>\n      <td>POLYGON ((56.34764 58.03500, 56.34762 58.03500...</td>\n      <td>0</td>\n      <td>0.109813</td>\n      <td>0.109813</td>\n      <td>0.050177</td>\n      <td>0.000000</td>\n      <td>0.000000</td>\n      <td>6.221955</td>\n    </tr>\n    <tr>\n      <th>1</th>\n      <td>6</td>\n      <td>3.949440e+07</td>\n      <td>low_density</td>\n      <td>0.932489</td>\n      <td>0.067511</td>\n      <td>0.000000</td>\n      <td>29031.391</td>\n      <td>45179.0</td>\n      <td>711</td>\n      <td>898</td>\n      <td>4.892252</td>\n      <td>2.386894</td>\n      <td>POLYGON ((56.34129 58.02780, 56.34127 58.02781...</td>\n      <td>0</td>\n      <td>0.052026</td>\n      <td>0.102434</td>\n      <td>0.107996</td>\n      <td>34.493447</td>\n      <td>4.916820</td>\n      <td>0.000000</td>\n    </tr>\n    <tr>\n      <th>2</th>\n      <td>9</td>\n      <td>5.817216e+07</td>\n      <td>low_density</td>\n      <td>0.900648</td>\n      <td>0.009719</td>\n      <td>0.089633</td>\n      <td>39884.962</td>\n      <td>304269.0</td>\n      <td>926</td>\n      <td>6476</td>\n      <td>4.760366</td>\n      <td>2.351703</td>\n      <td>POLYGON ((56.36243 58.05457, 56.36242 58.05457...</td>\n      <td>0</td>\n      <td>0.052935</td>\n      <td>0.106364</td>\n      <td>0.099910</td>\n      <td>44.148095</td>\n      <td>0.957272</td>\n      <td>8.292555</td>\n    </tr>\n    <tr>\n      <th>3</th>\n      <td>11</td>\n      <td>2.740008e+05</td>\n      <td>low_density</td>\n      <td>1.000000</td>\n      <td>0.000000</td>\n      <td>0.000000</td>\n      <td>539.633</td>\n      <td>1527.0</td>\n      <td>15</td>\n      <td>20</td>\n      <td>4.804614</td>\n      <td>2.364015</td>\n      <td>POLYGON ((56.40011 58.04080, 56.40011 58.04081...</td>\n      <td>0</td>\n      <td>0.049103</td>\n      <td>0.107462</td>\n      <td>0.107462</td>\n      <td>0.736546</td>\n      <td>0.000000</td>\n      <td>0.000000</td>\n    </tr>\n    <tr>\n      <th>4</th>\n      <td>16</td>\n      <td>2.060076e+05</td>\n      <td>residential</td>\n      <td>0.000000</td>\n      <td>0.133333</td>\n      <td>0.866667</td>\n      <td>6815.552</td>\n      <td>79678.0</td>\n      <td>150</td>\n      <td>1340</td>\n      <td>6.456608</td>\n      <td>2.789124</td>\n      <td>POLYGON ((56.20791 58.00293, 56.20789 58.00293...</td>\n      <td>1</td>\n      <td>0.101965</td>\n      <td>0.091854</td>\n      <td>0.051720</td>\n      <td>0.000000</td>\n      <td>1.837080</td>\n      <td>6.723575</td>\n    </tr>\n    <tr>\n      <th>...</th>\n      <td>...</td>\n      <td>...</td>\n      <td>...</td>\n      <td>...</td>\n      <td>...</td>\n      <td>...</td>\n      <td>...</td>\n      <td>...</td>\n      <td>...</td>\n      <td>...</td>\n      <td>...</td>\n      <td>...</td>\n      <td>...</td>\n      <td>...</td>\n      <td>...</td>\n      <td>...</td>\n      <td>...</td>\n      <td>...</td>\n      <td>...</td>\n      <td>...</td>\n    </tr>\n    <tr>\n      <th>494</th>\n      <td>2869</td>\n      <td>3.137001e+05</td>\n      <td>commercial</td>\n      <td>0.439394</td>\n      <td>0.000000</td>\n      <td>0.560606</td>\n      <td>4756.526</td>\n      <td>0.0</td>\n      <td>132</td>\n      <td>0</td>\n      <td>4.291921</td>\n      <td>2.221195</td>\n      <td>POLYGON ((56.38621 58.14957, 56.38620 58.14958...</td>\n      <td>2</td>\n      <td>0.055315</td>\n      <td>0.078037</td>\n      <td>0.050305</td>\n      <td>3.208257</td>\n      <td>0.000000</td>\n      <td>3.722570</td>\n    </tr>\n    <tr>\n      <th>495</th>\n      <td>2875</td>\n      <td>2.419463e+06</td>\n      <td>industrial</td>\n      <td>0.546729</td>\n      <td>0.000000</td>\n      <td>0.453271</td>\n      <td>9696.609</td>\n      <td>1284.0</td>\n      <td>214</td>\n      <td>24</td>\n      <td>4.515939</td>\n      <td>2.286350</td>\n      <td>POLYGON ((56.36681 58.12208, 56.36681 58.12208...</td>\n      <td>3</td>\n      <td>0.044637</td>\n      <td>0.068495</td>\n      <td>0.048026</td>\n      <td>5.222476</td>\n      <td>0.000000</td>\n      <td>4.658560</td>\n    </tr>\n    <tr>\n      <th>496</th>\n      <td>2877</td>\n      <td>1.502041e+05</td>\n      <td>industrial</td>\n      <td>1.000000</td>\n      <td>0.000000</td>\n      <td>0.000000</td>\n      <td>6515.337</td>\n      <td>0.0</td>\n      <td>158</td>\n      <td>0</td>\n      <td>5.810754</td>\n      <td>3.120476</td>\n      <td>POLYGON ((56.28264 58.02905, 56.28262 58.02904...</td>\n      <td>3</td>\n      <td>0.037490</td>\n      <td>0.082048</td>\n      <td>0.082048</td>\n      <td>5.923487</td>\n      <td>0.000000</td>\n      <td>0.000000</td>\n    </tr>\n    <tr>\n      <th>497</th>\n      <td>2879</td>\n      <td>1.999429e+05</td>\n      <td>industrial</td>\n      <td>1.000000</td>\n      <td>0.000000</td>\n      <td>0.000000</td>\n      <td>4229.398</td>\n      <td>0.0</td>\n      <td>94</td>\n      <td>0</td>\n      <td>4.074374</td>\n      <td>2.930219</td>\n      <td>POLYGON ((56.15650 57.88209, 56.15648 57.88209...</td>\n      <td>3</td>\n      <td>0.035978</td>\n      <td>0.078738</td>\n      <td>0.078738</td>\n      <td>3.381924</td>\n      <td>0.000000</td>\n      <td>0.000000</td>\n    </tr>\n    <tr>\n      <th>498</th>\n      <td>3000</td>\n      <td>3.550764e+06</td>\n      <td>low_density</td>\n      <td>0.274725</td>\n      <td>0.000000</td>\n      <td>0.725275</td>\n      <td>8527.540</td>\n      <td>46561.0</td>\n      <td>182</td>\n      <td>911</td>\n      <td>5.342491</td>\n      <td>2.495559</td>\n      <td>POLYGON ((56.31847 58.03896, 56.31846 58.03897...</td>\n      <td>0</td>\n      <td>0.089161</td>\n      <td>0.110566</td>\n      <td>0.062650</td>\n      <td>4.458042</td>\n      <td>0.000000</td>\n      <td>8.269801</td>\n    </tr>\n  </tbody>\n</table>\n<p>499 rows × 20 columns</p>\n</div>"
     },
     "execution_count": 52,
     "metadata": {},
     "output_type": "execute_result"
    }
   ],
   "source": [
    "zones_data['industrial_tours'] = zones_data['industrial'] * zones_data['workers'] * zones_data['industrial_TGR']\n",
    "zones_data['retail_tours'] = zones_data['retail'] * zones_data['workers'] * zones_data['retail_TGR']\n",
    "zones_data['service_tours'] = zones_data['service'] * zones_data['workers'] * zones_data['service_TGR']\n",
    "zones_data"
   ],
   "metadata": {
    "collapsed": false,
    "ExecuteTime": {
     "end_time": "2024-01-18T15:53:56.073921100Z",
     "start_time": "2024-01-18T15:53:55.972284Z"
    }
   },
   "id": "2c4c4d93dba3548"
  },
  {
   "cell_type": "code",
   "execution_count": 53,
   "outputs": [
    {
     "data": {
      "text/plain": "       id          area      landuse  industrial    retail   service  \\\n0       1  1.224163e+06  low_density    0.000000  0.000000  1.000000   \n1       6  3.949440e+07  low_density    0.932489  0.067511  0.000000   \n2       9  5.817216e+07  low_density    0.900648  0.009719  0.089633   \n3      11  2.740008e+05  low_density    1.000000  0.000000  0.000000   \n4      16  2.060076e+05  residential    0.000000  0.133333  0.866667   \n..    ...           ...          ...         ...       ...       ...   \n494  2869  3.137001e+05   commercial    0.439394  0.000000  0.560606   \n495  2875  2.419463e+06   industrial    0.546729  0.000000  0.453271   \n496  2877  1.502041e+05   industrial    1.000000  0.000000  0.000000   \n497  2879  1.999429e+05   industrial    1.000000  0.000000  0.000000   \n498  3000  3.550764e+06  low_density    0.274725  0.000000  0.725275   \n\n     work_area  living_area  workers  population  population_availability  \\\n0     4893.620     113243.0      124        2211                 5.241083   \n1    29031.391      45179.0      711         898                 4.892252   \n2    39884.962     304269.0      926        6476                 4.760366   \n3      539.633       1527.0       15          20                 4.804614   \n4     6815.552      79678.0      150        1340                 6.456608   \n..         ...          ...      ...         ...                      ...   \n494   4756.526          0.0      132           0                 4.291921   \n495   9696.609       1284.0      214          24                 4.515939   \n496   6515.337          0.0      158           0                 5.810754   \n497   4229.398          0.0       94           0                 4.074374   \n498   8527.540      46561.0      182         911                 5.342491   \n\n     workers_availability                                           geometry  \\\n0                2.463974  POLYGON ((56.34764 58.03500, 56.34762 58.03500...   \n1                2.386894  POLYGON ((56.34129 58.02780, 56.34127 58.02781...   \n2                2.351703  POLYGON ((56.36243 58.05457, 56.36242 58.05457...   \n3                2.364015  POLYGON ((56.40011 58.04080, 56.40011 58.04081...   \n4                2.789124  POLYGON ((56.20791 58.00293, 56.20789 58.00293...   \n..                    ...                                                ...   \n494              2.221195  POLYGON ((56.38621 58.14957, 56.38620 58.14958...   \n495              2.286350  POLYGON ((56.36681 58.12208, 56.36681 58.12208...   \n496              3.120476  POLYGON ((56.28264 58.02905, 56.28262 58.02904...   \n497              2.930219  POLYGON ((56.15650 57.88209, 56.15648 57.88209...   \n498              2.495559  POLYGON ((56.31847 58.03896, 56.31846 58.03897...   \n\n     landuse_numeric  industrial_TGR  retail_TGR  service_TGR  \\\n0                  0        0.109813    0.109813     0.050177   \n1                  0        0.052026    0.102434     0.107996   \n2                  0        0.052935    0.106364     0.099910   \n3                  0        0.049103    0.107462     0.107462   \n4                  1        0.101965    0.091854     0.051720   \n..               ...             ...         ...          ...   \n494                2        0.055315    0.078037     0.050305   \n495                3        0.044637    0.068495     0.048026   \n496                3        0.037490    0.082048     0.082048   \n497                3        0.035978    0.078738     0.078738   \n498                0        0.089161    0.110566     0.062650   \n\n     industrial_tours  retail_tours  service_tours  \n0                   0             0              6  \n1                  34             4              0  \n2                  44             0              8  \n3                   0             0              0  \n4                   0             1              6  \n..                ...           ...            ...  \n494                 3             0              3  \n495                 5             0              4  \n496                 5             0              0  \n497                 3             0              0  \n498                 4             0              8  \n\n[499 rows x 20 columns]",
      "text/html": "<div>\n<style scoped>\n    .dataframe tbody tr th:only-of-type {\n        vertical-align: middle;\n    }\n\n    .dataframe tbody tr th {\n        vertical-align: top;\n    }\n\n    .dataframe thead th {\n        text-align: right;\n    }\n</style>\n<table border=\"1\" class=\"dataframe\">\n  <thead>\n    <tr style=\"text-align: right;\">\n      <th></th>\n      <th>id</th>\n      <th>area</th>\n      <th>landuse</th>\n      <th>industrial</th>\n      <th>retail</th>\n      <th>service</th>\n      <th>work_area</th>\n      <th>living_area</th>\n      <th>workers</th>\n      <th>population</th>\n      <th>population_availability</th>\n      <th>workers_availability</th>\n      <th>geometry</th>\n      <th>landuse_numeric</th>\n      <th>industrial_TGR</th>\n      <th>retail_TGR</th>\n      <th>service_TGR</th>\n      <th>industrial_tours</th>\n      <th>retail_tours</th>\n      <th>service_tours</th>\n    </tr>\n  </thead>\n  <tbody>\n    <tr>\n      <th>0</th>\n      <td>1</td>\n      <td>1.224163e+06</td>\n      <td>low_density</td>\n      <td>0.000000</td>\n      <td>0.000000</td>\n      <td>1.000000</td>\n      <td>4893.620</td>\n      <td>113243.0</td>\n      <td>124</td>\n      <td>2211</td>\n      <td>5.241083</td>\n      <td>2.463974</td>\n      <td>POLYGON ((56.34764 58.03500, 56.34762 58.03500...</td>\n      <td>0</td>\n      <td>0.109813</td>\n      <td>0.109813</td>\n      <td>0.050177</td>\n      <td>0</td>\n      <td>0</td>\n      <td>6</td>\n    </tr>\n    <tr>\n      <th>1</th>\n      <td>6</td>\n      <td>3.949440e+07</td>\n      <td>low_density</td>\n      <td>0.932489</td>\n      <td>0.067511</td>\n      <td>0.000000</td>\n      <td>29031.391</td>\n      <td>45179.0</td>\n      <td>711</td>\n      <td>898</td>\n      <td>4.892252</td>\n      <td>2.386894</td>\n      <td>POLYGON ((56.34129 58.02780, 56.34127 58.02781...</td>\n      <td>0</td>\n      <td>0.052026</td>\n      <td>0.102434</td>\n      <td>0.107996</td>\n      <td>34</td>\n      <td>4</td>\n      <td>0</td>\n    </tr>\n    <tr>\n      <th>2</th>\n      <td>9</td>\n      <td>5.817216e+07</td>\n      <td>low_density</td>\n      <td>0.900648</td>\n      <td>0.009719</td>\n      <td>0.089633</td>\n      <td>39884.962</td>\n      <td>304269.0</td>\n      <td>926</td>\n      <td>6476</td>\n      <td>4.760366</td>\n      <td>2.351703</td>\n      <td>POLYGON ((56.36243 58.05457, 56.36242 58.05457...</td>\n      <td>0</td>\n      <td>0.052935</td>\n      <td>0.106364</td>\n      <td>0.099910</td>\n      <td>44</td>\n      <td>0</td>\n      <td>8</td>\n    </tr>\n    <tr>\n      <th>3</th>\n      <td>11</td>\n      <td>2.740008e+05</td>\n      <td>low_density</td>\n      <td>1.000000</td>\n      <td>0.000000</td>\n      <td>0.000000</td>\n      <td>539.633</td>\n      <td>1527.0</td>\n      <td>15</td>\n      <td>20</td>\n      <td>4.804614</td>\n      <td>2.364015</td>\n      <td>POLYGON ((56.40011 58.04080, 56.40011 58.04081...</td>\n      <td>0</td>\n      <td>0.049103</td>\n      <td>0.107462</td>\n      <td>0.107462</td>\n      <td>0</td>\n      <td>0</td>\n      <td>0</td>\n    </tr>\n    <tr>\n      <th>4</th>\n      <td>16</td>\n      <td>2.060076e+05</td>\n      <td>residential</td>\n      <td>0.000000</td>\n      <td>0.133333</td>\n      <td>0.866667</td>\n      <td>6815.552</td>\n      <td>79678.0</td>\n      <td>150</td>\n      <td>1340</td>\n      <td>6.456608</td>\n      <td>2.789124</td>\n      <td>POLYGON ((56.20791 58.00293, 56.20789 58.00293...</td>\n      <td>1</td>\n      <td>0.101965</td>\n      <td>0.091854</td>\n      <td>0.051720</td>\n      <td>0</td>\n      <td>1</td>\n      <td>6</td>\n    </tr>\n    <tr>\n      <th>...</th>\n      <td>...</td>\n      <td>...</td>\n      <td>...</td>\n      <td>...</td>\n      <td>...</td>\n      <td>...</td>\n      <td>...</td>\n      <td>...</td>\n      <td>...</td>\n      <td>...</td>\n      <td>...</td>\n      <td>...</td>\n      <td>...</td>\n      <td>...</td>\n      <td>...</td>\n      <td>...</td>\n      <td>...</td>\n      <td>...</td>\n      <td>...</td>\n      <td>...</td>\n    </tr>\n    <tr>\n      <th>494</th>\n      <td>2869</td>\n      <td>3.137001e+05</td>\n      <td>commercial</td>\n      <td>0.439394</td>\n      <td>0.000000</td>\n      <td>0.560606</td>\n      <td>4756.526</td>\n      <td>0.0</td>\n      <td>132</td>\n      <td>0</td>\n      <td>4.291921</td>\n      <td>2.221195</td>\n      <td>POLYGON ((56.38621 58.14957, 56.38620 58.14958...</td>\n      <td>2</td>\n      <td>0.055315</td>\n      <td>0.078037</td>\n      <td>0.050305</td>\n      <td>3</td>\n      <td>0</td>\n      <td>3</td>\n    </tr>\n    <tr>\n      <th>495</th>\n      <td>2875</td>\n      <td>2.419463e+06</td>\n      <td>industrial</td>\n      <td>0.546729</td>\n      <td>0.000000</td>\n      <td>0.453271</td>\n      <td>9696.609</td>\n      <td>1284.0</td>\n      <td>214</td>\n      <td>24</td>\n      <td>4.515939</td>\n      <td>2.286350</td>\n      <td>POLYGON ((56.36681 58.12208, 56.36681 58.12208...</td>\n      <td>3</td>\n      <td>0.044637</td>\n      <td>0.068495</td>\n      <td>0.048026</td>\n      <td>5</td>\n      <td>0</td>\n      <td>4</td>\n    </tr>\n    <tr>\n      <th>496</th>\n      <td>2877</td>\n      <td>1.502041e+05</td>\n      <td>industrial</td>\n      <td>1.000000</td>\n      <td>0.000000</td>\n      <td>0.000000</td>\n      <td>6515.337</td>\n      <td>0.0</td>\n      <td>158</td>\n      <td>0</td>\n      <td>5.810754</td>\n      <td>3.120476</td>\n      <td>POLYGON ((56.28264 58.02905, 56.28262 58.02904...</td>\n      <td>3</td>\n      <td>0.037490</td>\n      <td>0.082048</td>\n      <td>0.082048</td>\n      <td>5</td>\n      <td>0</td>\n      <td>0</td>\n    </tr>\n    <tr>\n      <th>497</th>\n      <td>2879</td>\n      <td>1.999429e+05</td>\n      <td>industrial</td>\n      <td>1.000000</td>\n      <td>0.000000</td>\n      <td>0.000000</td>\n      <td>4229.398</td>\n      <td>0.0</td>\n      <td>94</td>\n      <td>0</td>\n      <td>4.074374</td>\n      <td>2.930219</td>\n      <td>POLYGON ((56.15650 57.88209, 56.15648 57.88209...</td>\n      <td>3</td>\n      <td>0.035978</td>\n      <td>0.078738</td>\n      <td>0.078738</td>\n      <td>3</td>\n      <td>0</td>\n      <td>0</td>\n    </tr>\n    <tr>\n      <th>498</th>\n      <td>3000</td>\n      <td>3.550764e+06</td>\n      <td>low_density</td>\n      <td>0.274725</td>\n      <td>0.000000</td>\n      <td>0.725275</td>\n      <td>8527.540</td>\n      <td>46561.0</td>\n      <td>182</td>\n      <td>911</td>\n      <td>5.342491</td>\n      <td>2.495559</td>\n      <td>POLYGON ((56.31847 58.03896, 56.31846 58.03897...</td>\n      <td>0</td>\n      <td>0.089161</td>\n      <td>0.110566</td>\n      <td>0.062650</td>\n      <td>4</td>\n      <td>0</td>\n      <td>8</td>\n    </tr>\n  </tbody>\n</table>\n<p>499 rows × 20 columns</p>\n</div>"
     },
     "execution_count": 53,
     "metadata": {},
     "output_type": "execute_result"
    }
   ],
   "source": [
    "zones_data['industrial_tours'] = zones_data['industrial_tours'].astype(int)\n",
    "zones_data['retail_tours'] = zones_data['retail_tours'].astype(int)\n",
    "zones_data['service_tours'] = zones_data['service_tours'].astype(int)\n",
    "zones_data"
   ],
   "metadata": {
    "collapsed": false,
    "ExecuteTime": {
     "end_time": "2024-01-18T16:26:11.666250500Z",
     "start_time": "2024-01-18T16:26:11.552966700Z"
    }
   },
   "id": "ec371c71981d9623"
  },
  {
   "cell_type": "code",
   "execution_count": 57,
   "outputs": [],
   "source": [
    "zones_data.to_file('data/metod_step1.geojson', driver='GeoJSON')"
   ],
   "metadata": {
    "collapsed": false,
    "ExecuteTime": {
     "end_time": "2024-01-18T16:30:58.890411900Z",
     "start_time": "2024-01-18T16:30:57.244973600Z"
    }
   },
   "id": "ee70b8db94e31c06"
  },
  {
   "cell_type": "raw",
   "source": [
    "Создадим список туров"
   ],
   "metadata": {
    "collapsed": false
   },
   "id": "52842fbf28a67b0e"
  },
  {
   "cell_type": "code",
   "execution_count": 59,
   "outputs": [],
   "source": [
    "zones_data.rename(columns={'id': 'zone_id'}, inplace=True)\n",
    "\n",
    "# Создаем копию zones_data для каждой индустрии\n",
    "industrial_data = zones_data.copy()\n",
    "retail_data = zones_data.copy()\n",
    "service_data = zones_data.copy()\n",
    "\n",
    "# Размножаем данные для каждой индустрии в соответствии с количеством туров\n",
    "industrial_data = industrial_data.loc[industrial_data.index.repeat(industrial_data['industrial_tours'])]\n",
    "retail_data = retail_data.loc[retail_data.index.repeat(retail_data['retail_tours'])]\n",
    "service_data = service_data.loc[service_data.index.repeat(service_data['service_tours'])]\n",
    "\n",
    "# Добавляем информацию об индустрии в каждый датафрейм\n",
    "industrial_data['industry'] = 'industrial'\n",
    "retail_data['industry'] = 'retail'\n",
    "service_data['industry'] = 'service'\n",
    "\n",
    "# Объединяем все данные в один датафрейм\n",
    "tours_data = pd.concat([industrial_data, retail_data, service_data])\n",
    "\n",
    "# Сбрасываем индекс, чтобы получить уникальные id для туров\n",
    "tours_data.reset_index(drop=True, inplace=True)"
   ],
   "metadata": {
    "collapsed": false,
    "ExecuteTime": {
     "end_time": "2024-01-19T13:29:28.115047Z",
     "start_time": "2024-01-19T13:29:27.973832600Z"
    }
   },
   "id": "885d34c9e8f63098"
  },
  {
   "cell_type": "code",
   "execution_count": 60,
   "outputs": [
    {
     "data": {
      "text/plain": "       zone_id          area      landuse  industrial    retail   service  \\\n0            6  3.949440e+07  low_density    0.932489  0.067511  0.000000   \n1            6  3.949440e+07  low_density    0.932489  0.067511  0.000000   \n2            6  3.949440e+07  low_density    0.932489  0.067511  0.000000   \n3            6  3.949440e+07  low_density    0.932489  0.067511  0.000000   \n4            6  3.949440e+07  low_density    0.932489  0.067511  0.000000   \n...        ...           ...          ...         ...       ...       ...   \n17504     3000  3.550764e+06  low_density    0.274725  0.000000  0.725275   \n17505     3000  3.550764e+06  low_density    0.274725  0.000000  0.725275   \n17506     3000  3.550764e+06  low_density    0.274725  0.000000  0.725275   \n17507     3000  3.550764e+06  low_density    0.274725  0.000000  0.725275   \n17508     3000  3.550764e+06  low_density    0.274725  0.000000  0.725275   \n\n       work_area  living_area  workers  population  ...  workers_availability  \\\n0      29031.391      45179.0      711         898  ...              2.386894   \n1      29031.391      45179.0      711         898  ...              2.386894   \n2      29031.391      45179.0      711         898  ...              2.386894   \n3      29031.391      45179.0      711         898  ...              2.386894   \n4      29031.391      45179.0      711         898  ...              2.386894   \n...          ...          ...      ...         ...  ...                   ...   \n17504   8527.540      46561.0      182         911  ...              2.495559   \n17505   8527.540      46561.0      182         911  ...              2.495559   \n17506   8527.540      46561.0      182         911  ...              2.495559   \n17507   8527.540      46561.0      182         911  ...              2.495559   \n17508   8527.540      46561.0      182         911  ...              2.495559   \n\n                                                geometry landuse_numeric  \\\n0      POLYGON ((56.34129 58.02780, 56.34127 58.02781...               0   \n1      POLYGON ((56.34129 58.02780, 56.34127 58.02781...               0   \n2      POLYGON ((56.34129 58.02780, 56.34127 58.02781...               0   \n3      POLYGON ((56.34129 58.02780, 56.34127 58.02781...               0   \n4      POLYGON ((56.34129 58.02780, 56.34127 58.02781...               0   \n...                                                  ...             ...   \n17504  POLYGON ((56.31847 58.03896, 56.31846 58.03897...               0   \n17505  POLYGON ((56.31847 58.03896, 56.31846 58.03897...               0   \n17506  POLYGON ((56.31847 58.03896, 56.31846 58.03897...               0   \n17507  POLYGON ((56.31847 58.03896, 56.31846 58.03897...               0   \n17508  POLYGON ((56.31847 58.03896, 56.31846 58.03897...               0   \n\n       industrial_TGR  retail_TGR  service_TGR  industrial_tours  \\\n0            0.052026    0.102434     0.107996                34   \n1            0.052026    0.102434     0.107996                34   \n2            0.052026    0.102434     0.107996                34   \n3            0.052026    0.102434     0.107996                34   \n4            0.052026    0.102434     0.107996                34   \n...               ...         ...          ...               ...   \n17504        0.089161    0.110566     0.062650                 4   \n17505        0.089161    0.110566     0.062650                 4   \n17506        0.089161    0.110566     0.062650                 4   \n17507        0.089161    0.110566     0.062650                 4   \n17508        0.089161    0.110566     0.062650                 4   \n\n       retail_tours  service_tours    industry  \n0                 4              0  industrial  \n1                 4              0  industrial  \n2                 4              0  industrial  \n3                 4              0  industrial  \n4                 4              0  industrial  \n...             ...            ...         ...  \n17504             0              8     service  \n17505             0              8     service  \n17506             0              8     service  \n17507             0              8     service  \n17508             0              8     service  \n\n[17509 rows x 21 columns]",
      "text/html": "<div>\n<style scoped>\n    .dataframe tbody tr th:only-of-type {\n        vertical-align: middle;\n    }\n\n    .dataframe tbody tr th {\n        vertical-align: top;\n    }\n\n    .dataframe thead th {\n        text-align: right;\n    }\n</style>\n<table border=\"1\" class=\"dataframe\">\n  <thead>\n    <tr style=\"text-align: right;\">\n      <th></th>\n      <th>zone_id</th>\n      <th>area</th>\n      <th>landuse</th>\n      <th>industrial</th>\n      <th>retail</th>\n      <th>service</th>\n      <th>work_area</th>\n      <th>living_area</th>\n      <th>workers</th>\n      <th>population</th>\n      <th>...</th>\n      <th>workers_availability</th>\n      <th>geometry</th>\n      <th>landuse_numeric</th>\n      <th>industrial_TGR</th>\n      <th>retail_TGR</th>\n      <th>service_TGR</th>\n      <th>industrial_tours</th>\n      <th>retail_tours</th>\n      <th>service_tours</th>\n      <th>industry</th>\n    </tr>\n  </thead>\n  <tbody>\n    <tr>\n      <th>0</th>\n      <td>6</td>\n      <td>3.949440e+07</td>\n      <td>low_density</td>\n      <td>0.932489</td>\n      <td>0.067511</td>\n      <td>0.000000</td>\n      <td>29031.391</td>\n      <td>45179.0</td>\n      <td>711</td>\n      <td>898</td>\n      <td>...</td>\n      <td>2.386894</td>\n      <td>POLYGON ((56.34129 58.02780, 56.34127 58.02781...</td>\n      <td>0</td>\n      <td>0.052026</td>\n      <td>0.102434</td>\n      <td>0.107996</td>\n      <td>34</td>\n      <td>4</td>\n      <td>0</td>\n      <td>industrial</td>\n    </tr>\n    <tr>\n      <th>1</th>\n      <td>6</td>\n      <td>3.949440e+07</td>\n      <td>low_density</td>\n      <td>0.932489</td>\n      <td>0.067511</td>\n      <td>0.000000</td>\n      <td>29031.391</td>\n      <td>45179.0</td>\n      <td>711</td>\n      <td>898</td>\n      <td>...</td>\n      <td>2.386894</td>\n      <td>POLYGON ((56.34129 58.02780, 56.34127 58.02781...</td>\n      <td>0</td>\n      <td>0.052026</td>\n      <td>0.102434</td>\n      <td>0.107996</td>\n      <td>34</td>\n      <td>4</td>\n      <td>0</td>\n      <td>industrial</td>\n    </tr>\n    <tr>\n      <th>2</th>\n      <td>6</td>\n      <td>3.949440e+07</td>\n      <td>low_density</td>\n      <td>0.932489</td>\n      <td>0.067511</td>\n      <td>0.000000</td>\n      <td>29031.391</td>\n      <td>45179.0</td>\n      <td>711</td>\n      <td>898</td>\n      <td>...</td>\n      <td>2.386894</td>\n      <td>POLYGON ((56.34129 58.02780, 56.34127 58.02781...</td>\n      <td>0</td>\n      <td>0.052026</td>\n      <td>0.102434</td>\n      <td>0.107996</td>\n      <td>34</td>\n      <td>4</td>\n      <td>0</td>\n      <td>industrial</td>\n    </tr>\n    <tr>\n      <th>3</th>\n      <td>6</td>\n      <td>3.949440e+07</td>\n      <td>low_density</td>\n      <td>0.932489</td>\n      <td>0.067511</td>\n      <td>0.000000</td>\n      <td>29031.391</td>\n      <td>45179.0</td>\n      <td>711</td>\n      <td>898</td>\n      <td>...</td>\n      <td>2.386894</td>\n      <td>POLYGON ((56.34129 58.02780, 56.34127 58.02781...</td>\n      <td>0</td>\n      <td>0.052026</td>\n      <td>0.102434</td>\n      <td>0.107996</td>\n      <td>34</td>\n      <td>4</td>\n      <td>0</td>\n      <td>industrial</td>\n    </tr>\n    <tr>\n      <th>4</th>\n      <td>6</td>\n      <td>3.949440e+07</td>\n      <td>low_density</td>\n      <td>0.932489</td>\n      <td>0.067511</td>\n      <td>0.000000</td>\n      <td>29031.391</td>\n      <td>45179.0</td>\n      <td>711</td>\n      <td>898</td>\n      <td>...</td>\n      <td>2.386894</td>\n      <td>POLYGON ((56.34129 58.02780, 56.34127 58.02781...</td>\n      <td>0</td>\n      <td>0.052026</td>\n      <td>0.102434</td>\n      <td>0.107996</td>\n      <td>34</td>\n      <td>4</td>\n      <td>0</td>\n      <td>industrial</td>\n    </tr>\n    <tr>\n      <th>...</th>\n      <td>...</td>\n      <td>...</td>\n      <td>...</td>\n      <td>...</td>\n      <td>...</td>\n      <td>...</td>\n      <td>...</td>\n      <td>...</td>\n      <td>...</td>\n      <td>...</td>\n      <td>...</td>\n      <td>...</td>\n      <td>...</td>\n      <td>...</td>\n      <td>...</td>\n      <td>...</td>\n      <td>...</td>\n      <td>...</td>\n      <td>...</td>\n      <td>...</td>\n      <td>...</td>\n    </tr>\n    <tr>\n      <th>17504</th>\n      <td>3000</td>\n      <td>3.550764e+06</td>\n      <td>low_density</td>\n      <td>0.274725</td>\n      <td>0.000000</td>\n      <td>0.725275</td>\n      <td>8527.540</td>\n      <td>46561.0</td>\n      <td>182</td>\n      <td>911</td>\n      <td>...</td>\n      <td>2.495559</td>\n      <td>POLYGON ((56.31847 58.03896, 56.31846 58.03897...</td>\n      <td>0</td>\n      <td>0.089161</td>\n      <td>0.110566</td>\n      <td>0.062650</td>\n      <td>4</td>\n      <td>0</td>\n      <td>8</td>\n      <td>service</td>\n    </tr>\n    <tr>\n      <th>17505</th>\n      <td>3000</td>\n      <td>3.550764e+06</td>\n      <td>low_density</td>\n      <td>0.274725</td>\n      <td>0.000000</td>\n      <td>0.725275</td>\n      <td>8527.540</td>\n      <td>46561.0</td>\n      <td>182</td>\n      <td>911</td>\n      <td>...</td>\n      <td>2.495559</td>\n      <td>POLYGON ((56.31847 58.03896, 56.31846 58.03897...</td>\n      <td>0</td>\n      <td>0.089161</td>\n      <td>0.110566</td>\n      <td>0.062650</td>\n      <td>4</td>\n      <td>0</td>\n      <td>8</td>\n      <td>service</td>\n    </tr>\n    <tr>\n      <th>17506</th>\n      <td>3000</td>\n      <td>3.550764e+06</td>\n      <td>low_density</td>\n      <td>0.274725</td>\n      <td>0.000000</td>\n      <td>0.725275</td>\n      <td>8527.540</td>\n      <td>46561.0</td>\n      <td>182</td>\n      <td>911</td>\n      <td>...</td>\n      <td>2.495559</td>\n      <td>POLYGON ((56.31847 58.03896, 56.31846 58.03897...</td>\n      <td>0</td>\n      <td>0.089161</td>\n      <td>0.110566</td>\n      <td>0.062650</td>\n      <td>4</td>\n      <td>0</td>\n      <td>8</td>\n      <td>service</td>\n    </tr>\n    <tr>\n      <th>17507</th>\n      <td>3000</td>\n      <td>3.550764e+06</td>\n      <td>low_density</td>\n      <td>0.274725</td>\n      <td>0.000000</td>\n      <td>0.725275</td>\n      <td>8527.540</td>\n      <td>46561.0</td>\n      <td>182</td>\n      <td>911</td>\n      <td>...</td>\n      <td>2.495559</td>\n      <td>POLYGON ((56.31847 58.03896, 56.31846 58.03897...</td>\n      <td>0</td>\n      <td>0.089161</td>\n      <td>0.110566</td>\n      <td>0.062650</td>\n      <td>4</td>\n      <td>0</td>\n      <td>8</td>\n      <td>service</td>\n    </tr>\n    <tr>\n      <th>17508</th>\n      <td>3000</td>\n      <td>3.550764e+06</td>\n      <td>low_density</td>\n      <td>0.274725</td>\n      <td>0.000000</td>\n      <td>0.725275</td>\n      <td>8527.540</td>\n      <td>46561.0</td>\n      <td>182</td>\n      <td>911</td>\n      <td>...</td>\n      <td>2.495559</td>\n      <td>POLYGON ((56.31847 58.03896, 56.31846 58.03897...</td>\n      <td>0</td>\n      <td>0.089161</td>\n      <td>0.110566</td>\n      <td>0.062650</td>\n      <td>4</td>\n      <td>0</td>\n      <td>8</td>\n      <td>service</td>\n    </tr>\n  </tbody>\n</table>\n<p>17509 rows × 21 columns</p>\n</div>"
     },
     "execution_count": 60,
     "metadata": {},
     "output_type": "execute_result"
    }
   ],
   "source": [
    "tours_data"
   ],
   "metadata": {
    "collapsed": false,
    "ExecuteTime": {
     "end_time": "2024-01-19T13:29:30.673769200Z",
     "start_time": "2024-01-19T13:29:30.529558Z"
    }
   },
   "id": "eb9e7e37eba7473"
  },
  {
   "cell_type": "code",
   "execution_count": 61,
   "outputs": [
    {
     "data": {
      "text/plain": "Index(['zone_id', 'area', 'landuse', 'industrial', 'retail', 'service',\n       'work_area', 'living_area', 'workers', 'population',\n       'population_availability', 'workers_availability', 'geometry',\n       'landuse_numeric', 'industrial_TGR', 'retail_TGR', 'service_TGR',\n       'industrial_tours', 'retail_tours', 'service_tours', 'industry'],\n      dtype='object')"
     },
     "execution_count": 61,
     "metadata": {},
     "output_type": "execute_result"
    }
   ],
   "source": [
    "tours_data.columns"
   ],
   "metadata": {
    "collapsed": false,
    "ExecuteTime": {
     "end_time": "2024-01-19T13:30:07.014652200Z",
     "start_time": "2024-01-19T13:30:06.967770700Z"
    }
   },
   "id": "1887f899b57d029b"
  },
  {
   "cell_type": "code",
   "execution_count": 63,
   "outputs": [
    {
     "data": {
      "text/plain": "       zone_id          area      landuse  industrial    retail   service  \\\n0            6  3.949440e+07  low_density    0.932489  0.067511  0.000000   \n1            6  3.949440e+07  low_density    0.932489  0.067511  0.000000   \n2            6  3.949440e+07  low_density    0.932489  0.067511  0.000000   \n3            6  3.949440e+07  low_density    0.932489  0.067511  0.000000   \n4            6  3.949440e+07  low_density    0.932489  0.067511  0.000000   \n...        ...           ...          ...         ...       ...       ...   \n17504     3000  3.550764e+06  low_density    0.274725  0.000000  0.725275   \n17505     3000  3.550764e+06  low_density    0.274725  0.000000  0.725275   \n17506     3000  3.550764e+06  low_density    0.274725  0.000000  0.725275   \n17507     3000  3.550764e+06  low_density    0.274725  0.000000  0.725275   \n17508     3000  3.550764e+06  low_density    0.274725  0.000000  0.725275   \n\n       work_area  living_area  workers  population  population_availability  \\\n0      29031.391      45179.0      711         898                 4.892252   \n1      29031.391      45179.0      711         898                 4.892252   \n2      29031.391      45179.0      711         898                 4.892252   \n3      29031.391      45179.0      711         898                 4.892252   \n4      29031.391      45179.0      711         898                 4.892252   \n...          ...          ...      ...         ...                      ...   \n17504   8527.540      46561.0      182         911                 5.342491   \n17505   8527.540      46561.0      182         911                 5.342491   \n17506   8527.540      46561.0      182         911                 5.342491   \n17507   8527.540      46561.0      182         911                 5.342491   \n17508   8527.540      46561.0      182         911                 5.342491   \n\n       workers_availability  \\\n0                  2.386894   \n1                  2.386894   \n2                  2.386894   \n3                  2.386894   \n4                  2.386894   \n...                     ...   \n17504              2.495559   \n17505              2.495559   \n17506              2.495559   \n17507              2.495559   \n17508              2.495559   \n\n                                                geometry  landuse_numeric  \\\n0      POLYGON ((56.34129 58.02780, 56.34127 58.02781...                0   \n1      POLYGON ((56.34129 58.02780, 56.34127 58.02781...                0   \n2      POLYGON ((56.34129 58.02780, 56.34127 58.02781...                0   \n3      POLYGON ((56.34129 58.02780, 56.34127 58.02781...                0   \n4      POLYGON ((56.34129 58.02780, 56.34127 58.02781...                0   \n...                                                  ...              ...   \n17504  POLYGON ((56.31847 58.03896, 56.31846 58.03897...                0   \n17505  POLYGON ((56.31847 58.03896, 56.31846 58.03897...                0   \n17506  POLYGON ((56.31847 58.03896, 56.31846 58.03897...                0   \n17507  POLYGON ((56.31847 58.03896, 56.31846 58.03897...                0   \n17508  POLYGON ((56.31847 58.03896, 56.31846 58.03897...                0   \n\n         industry  \n0      industrial  \n1      industrial  \n2      industrial  \n3      industrial  \n4      industrial  \n...           ...  \n17504     service  \n17505     service  \n17506     service  \n17507     service  \n17508     service  \n\n[17509 rows x 15 columns]",
      "text/html": "<div>\n<style scoped>\n    .dataframe tbody tr th:only-of-type {\n        vertical-align: middle;\n    }\n\n    .dataframe tbody tr th {\n        vertical-align: top;\n    }\n\n    .dataframe thead th {\n        text-align: right;\n    }\n</style>\n<table border=\"1\" class=\"dataframe\">\n  <thead>\n    <tr style=\"text-align: right;\">\n      <th></th>\n      <th>zone_id</th>\n      <th>area</th>\n      <th>landuse</th>\n      <th>industrial</th>\n      <th>retail</th>\n      <th>service</th>\n      <th>work_area</th>\n      <th>living_area</th>\n      <th>workers</th>\n      <th>population</th>\n      <th>population_availability</th>\n      <th>workers_availability</th>\n      <th>geometry</th>\n      <th>landuse_numeric</th>\n      <th>industry</th>\n    </tr>\n  </thead>\n  <tbody>\n    <tr>\n      <th>0</th>\n      <td>6</td>\n      <td>3.949440e+07</td>\n      <td>low_density</td>\n      <td>0.932489</td>\n      <td>0.067511</td>\n      <td>0.000000</td>\n      <td>29031.391</td>\n      <td>45179.0</td>\n      <td>711</td>\n      <td>898</td>\n      <td>4.892252</td>\n      <td>2.386894</td>\n      <td>POLYGON ((56.34129 58.02780, 56.34127 58.02781...</td>\n      <td>0</td>\n      <td>industrial</td>\n    </tr>\n    <tr>\n      <th>1</th>\n      <td>6</td>\n      <td>3.949440e+07</td>\n      <td>low_density</td>\n      <td>0.932489</td>\n      <td>0.067511</td>\n      <td>0.000000</td>\n      <td>29031.391</td>\n      <td>45179.0</td>\n      <td>711</td>\n      <td>898</td>\n      <td>4.892252</td>\n      <td>2.386894</td>\n      <td>POLYGON ((56.34129 58.02780, 56.34127 58.02781...</td>\n      <td>0</td>\n      <td>industrial</td>\n    </tr>\n    <tr>\n      <th>2</th>\n      <td>6</td>\n      <td>3.949440e+07</td>\n      <td>low_density</td>\n      <td>0.932489</td>\n      <td>0.067511</td>\n      <td>0.000000</td>\n      <td>29031.391</td>\n      <td>45179.0</td>\n      <td>711</td>\n      <td>898</td>\n      <td>4.892252</td>\n      <td>2.386894</td>\n      <td>POLYGON ((56.34129 58.02780, 56.34127 58.02781...</td>\n      <td>0</td>\n      <td>industrial</td>\n    </tr>\n    <tr>\n      <th>3</th>\n      <td>6</td>\n      <td>3.949440e+07</td>\n      <td>low_density</td>\n      <td>0.932489</td>\n      <td>0.067511</td>\n      <td>0.000000</td>\n      <td>29031.391</td>\n      <td>45179.0</td>\n      <td>711</td>\n      <td>898</td>\n      <td>4.892252</td>\n      <td>2.386894</td>\n      <td>POLYGON ((56.34129 58.02780, 56.34127 58.02781...</td>\n      <td>0</td>\n      <td>industrial</td>\n    </tr>\n    <tr>\n      <th>4</th>\n      <td>6</td>\n      <td>3.949440e+07</td>\n      <td>low_density</td>\n      <td>0.932489</td>\n      <td>0.067511</td>\n      <td>0.000000</td>\n      <td>29031.391</td>\n      <td>45179.0</td>\n      <td>711</td>\n      <td>898</td>\n      <td>4.892252</td>\n      <td>2.386894</td>\n      <td>POLYGON ((56.34129 58.02780, 56.34127 58.02781...</td>\n      <td>0</td>\n      <td>industrial</td>\n    </tr>\n    <tr>\n      <th>...</th>\n      <td>...</td>\n      <td>...</td>\n      <td>...</td>\n      <td>...</td>\n      <td>...</td>\n      <td>...</td>\n      <td>...</td>\n      <td>...</td>\n      <td>...</td>\n      <td>...</td>\n      <td>...</td>\n      <td>...</td>\n      <td>...</td>\n      <td>...</td>\n      <td>...</td>\n    </tr>\n    <tr>\n      <th>17504</th>\n      <td>3000</td>\n      <td>3.550764e+06</td>\n      <td>low_density</td>\n      <td>0.274725</td>\n      <td>0.000000</td>\n      <td>0.725275</td>\n      <td>8527.540</td>\n      <td>46561.0</td>\n      <td>182</td>\n      <td>911</td>\n      <td>5.342491</td>\n      <td>2.495559</td>\n      <td>POLYGON ((56.31847 58.03896, 56.31846 58.03897...</td>\n      <td>0</td>\n      <td>service</td>\n    </tr>\n    <tr>\n      <th>17505</th>\n      <td>3000</td>\n      <td>3.550764e+06</td>\n      <td>low_density</td>\n      <td>0.274725</td>\n      <td>0.000000</td>\n      <td>0.725275</td>\n      <td>8527.540</td>\n      <td>46561.0</td>\n      <td>182</td>\n      <td>911</td>\n      <td>5.342491</td>\n      <td>2.495559</td>\n      <td>POLYGON ((56.31847 58.03896, 56.31846 58.03897...</td>\n      <td>0</td>\n      <td>service</td>\n    </tr>\n    <tr>\n      <th>17506</th>\n      <td>3000</td>\n      <td>3.550764e+06</td>\n      <td>low_density</td>\n      <td>0.274725</td>\n      <td>0.000000</td>\n      <td>0.725275</td>\n      <td>8527.540</td>\n      <td>46561.0</td>\n      <td>182</td>\n      <td>911</td>\n      <td>5.342491</td>\n      <td>2.495559</td>\n      <td>POLYGON ((56.31847 58.03896, 56.31846 58.03897...</td>\n      <td>0</td>\n      <td>service</td>\n    </tr>\n    <tr>\n      <th>17507</th>\n      <td>3000</td>\n      <td>3.550764e+06</td>\n      <td>low_density</td>\n      <td>0.274725</td>\n      <td>0.000000</td>\n      <td>0.725275</td>\n      <td>8527.540</td>\n      <td>46561.0</td>\n      <td>182</td>\n      <td>911</td>\n      <td>5.342491</td>\n      <td>2.495559</td>\n      <td>POLYGON ((56.31847 58.03896, 56.31846 58.03897...</td>\n      <td>0</td>\n      <td>service</td>\n    </tr>\n    <tr>\n      <th>17508</th>\n      <td>3000</td>\n      <td>3.550764e+06</td>\n      <td>low_density</td>\n      <td>0.274725</td>\n      <td>0.000000</td>\n      <td>0.725275</td>\n      <td>8527.540</td>\n      <td>46561.0</td>\n      <td>182</td>\n      <td>911</td>\n      <td>5.342491</td>\n      <td>2.495559</td>\n      <td>POLYGON ((56.31847 58.03896, 56.31846 58.03897...</td>\n      <td>0</td>\n      <td>service</td>\n    </tr>\n  </tbody>\n</table>\n<p>17509 rows × 15 columns</p>\n</div>"
     },
     "execution_count": 63,
     "metadata": {},
     "output_type": "execute_result"
    }
   ],
   "source": [
    "tours_data = tours_data.drop(columns=['industrial_TGR', 'retail_TGR', 'service_TGR',\n",
    "       'industrial_tours', 'retail_tours', 'service_tours', 'work_area', 'living_area', 'workers', 'population', 'area'])\n",
    "tours_data"
   ],
   "metadata": {
    "collapsed": false,
    "ExecuteTime": {
     "end_time": "2024-01-19T13:31:00.851590800Z",
     "start_time": "2024-01-19T13:31:00.726153900Z"
    }
   },
   "id": "6bf3745f61476189"
  },
  {
   "cell_type": "code",
   "execution_count": 65,
   "outputs": [
    {
     "data": {
      "text/plain": "       zone_id      landuse  industrial    retail   service  \\\n0            6  low_density    0.932489  0.067511  0.000000   \n1            6  low_density    0.932489  0.067511  0.000000   \n2            6  low_density    0.932489  0.067511  0.000000   \n3            6  low_density    0.932489  0.067511  0.000000   \n4            6  low_density    0.932489  0.067511  0.000000   \n...        ...          ...         ...       ...       ...   \n17504     3000  low_density    0.274725  0.000000  0.725275   \n17505     3000  low_density    0.274725  0.000000  0.725275   \n17506     3000  low_density    0.274725  0.000000  0.725275   \n17507     3000  low_density    0.274725  0.000000  0.725275   \n17508     3000  low_density    0.274725  0.000000  0.725275   \n\n       population_availability  workers_availability  \\\n0                     4.892252              2.386894   \n1                     4.892252              2.386894   \n2                     4.892252              2.386894   \n3                     4.892252              2.386894   \n4                     4.892252              2.386894   \n...                        ...                   ...   \n17504                 5.342491              2.495559   \n17505                 5.342491              2.495559   \n17506                 5.342491              2.495559   \n17507                 5.342491              2.495559   \n17508                 5.342491              2.495559   \n\n                                                geometry  landuse_numeric  \\\n0      POLYGON ((56.34129 58.02780, 56.34127 58.02781...                0   \n1      POLYGON ((56.34129 58.02780, 56.34127 58.02781...                0   \n2      POLYGON ((56.34129 58.02780, 56.34127 58.02781...                0   \n3      POLYGON ((56.34129 58.02780, 56.34127 58.02781...                0   \n4      POLYGON ((56.34129 58.02780, 56.34127 58.02781...                0   \n...                                                  ...              ...   \n17504  POLYGON ((56.31847 58.03896, 56.31846 58.03897...                0   \n17505  POLYGON ((56.31847 58.03896, 56.31846 58.03897...                0   \n17506  POLYGON ((56.31847 58.03896, 56.31846 58.03897...                0   \n17507  POLYGON ((56.31847 58.03896, 56.31846 58.03897...                0   \n17508  POLYGON ((56.31847 58.03896, 56.31846 58.03897...                0   \n\n         industry  \n0      industrial  \n1      industrial  \n2      industrial  \n3      industrial  \n4      industrial  \n...           ...  \n17504     service  \n17505     service  \n17506     service  \n17507     service  \n17508     service  \n\n[17509 rows x 10 columns]",
      "text/html": "<div>\n<style scoped>\n    .dataframe tbody tr th:only-of-type {\n        vertical-align: middle;\n    }\n\n    .dataframe tbody tr th {\n        vertical-align: top;\n    }\n\n    .dataframe thead th {\n        text-align: right;\n    }\n</style>\n<table border=\"1\" class=\"dataframe\">\n  <thead>\n    <tr style=\"text-align: right;\">\n      <th></th>\n      <th>zone_id</th>\n      <th>landuse</th>\n      <th>industrial</th>\n      <th>retail</th>\n      <th>service</th>\n      <th>population_availability</th>\n      <th>workers_availability</th>\n      <th>geometry</th>\n      <th>landuse_numeric</th>\n      <th>industry</th>\n    </tr>\n  </thead>\n  <tbody>\n    <tr>\n      <th>0</th>\n      <td>6</td>\n      <td>low_density</td>\n      <td>0.932489</td>\n      <td>0.067511</td>\n      <td>0.000000</td>\n      <td>4.892252</td>\n      <td>2.386894</td>\n      <td>POLYGON ((56.34129 58.02780, 56.34127 58.02781...</td>\n      <td>0</td>\n      <td>industrial</td>\n    </tr>\n    <tr>\n      <th>1</th>\n      <td>6</td>\n      <td>low_density</td>\n      <td>0.932489</td>\n      <td>0.067511</td>\n      <td>0.000000</td>\n      <td>4.892252</td>\n      <td>2.386894</td>\n      <td>POLYGON ((56.34129 58.02780, 56.34127 58.02781...</td>\n      <td>0</td>\n      <td>industrial</td>\n    </tr>\n    <tr>\n      <th>2</th>\n      <td>6</td>\n      <td>low_density</td>\n      <td>0.932489</td>\n      <td>0.067511</td>\n      <td>0.000000</td>\n      <td>4.892252</td>\n      <td>2.386894</td>\n      <td>POLYGON ((56.34129 58.02780, 56.34127 58.02781...</td>\n      <td>0</td>\n      <td>industrial</td>\n    </tr>\n    <tr>\n      <th>3</th>\n      <td>6</td>\n      <td>low_density</td>\n      <td>0.932489</td>\n      <td>0.067511</td>\n      <td>0.000000</td>\n      <td>4.892252</td>\n      <td>2.386894</td>\n      <td>POLYGON ((56.34129 58.02780, 56.34127 58.02781...</td>\n      <td>0</td>\n      <td>industrial</td>\n    </tr>\n    <tr>\n      <th>4</th>\n      <td>6</td>\n      <td>low_density</td>\n      <td>0.932489</td>\n      <td>0.067511</td>\n      <td>0.000000</td>\n      <td>4.892252</td>\n      <td>2.386894</td>\n      <td>POLYGON ((56.34129 58.02780, 56.34127 58.02781...</td>\n      <td>0</td>\n      <td>industrial</td>\n    </tr>\n    <tr>\n      <th>...</th>\n      <td>...</td>\n      <td>...</td>\n      <td>...</td>\n      <td>...</td>\n      <td>...</td>\n      <td>...</td>\n      <td>...</td>\n      <td>...</td>\n      <td>...</td>\n      <td>...</td>\n    </tr>\n    <tr>\n      <th>17504</th>\n      <td>3000</td>\n      <td>low_density</td>\n      <td>0.274725</td>\n      <td>0.000000</td>\n      <td>0.725275</td>\n      <td>5.342491</td>\n      <td>2.495559</td>\n      <td>POLYGON ((56.31847 58.03896, 56.31846 58.03897...</td>\n      <td>0</td>\n      <td>service</td>\n    </tr>\n    <tr>\n      <th>17505</th>\n      <td>3000</td>\n      <td>low_density</td>\n      <td>0.274725</td>\n      <td>0.000000</td>\n      <td>0.725275</td>\n      <td>5.342491</td>\n      <td>2.495559</td>\n      <td>POLYGON ((56.31847 58.03896, 56.31846 58.03897...</td>\n      <td>0</td>\n      <td>service</td>\n    </tr>\n    <tr>\n      <th>17506</th>\n      <td>3000</td>\n      <td>low_density</td>\n      <td>0.274725</td>\n      <td>0.000000</td>\n      <td>0.725275</td>\n      <td>5.342491</td>\n      <td>2.495559</td>\n      <td>POLYGON ((56.31847 58.03896, 56.31846 58.03897...</td>\n      <td>0</td>\n      <td>service</td>\n    </tr>\n    <tr>\n      <th>17507</th>\n      <td>3000</td>\n      <td>low_density</td>\n      <td>0.274725</td>\n      <td>0.000000</td>\n      <td>0.725275</td>\n      <td>5.342491</td>\n      <td>2.495559</td>\n      <td>POLYGON ((56.31847 58.03896, 56.31846 58.03897...</td>\n      <td>0</td>\n      <td>service</td>\n    </tr>\n    <tr>\n      <th>17508</th>\n      <td>3000</td>\n      <td>low_density</td>\n      <td>0.274725</td>\n      <td>0.000000</td>\n      <td>0.725275</td>\n      <td>5.342491</td>\n      <td>2.495559</td>\n      <td>POLYGON ((56.31847 58.03896, 56.31846 58.03897...</td>\n      <td>0</td>\n      <td>service</td>\n    </tr>\n  </tbody>\n</table>\n<p>17509 rows × 10 columns</p>\n</div>"
     },
     "execution_count": 65,
     "metadata": {},
     "output_type": "execute_result"
    }
   ],
   "source": [
    "tours_data = tours_data.drop(columns=['area'])\n",
    "tours_data"
   ],
   "metadata": {
    "collapsed": false,
    "ExecuteTime": {
     "end_time": "2024-01-19T13:34:50.999439400Z",
     "start_time": "2024-01-19T13:34:50.873564800Z"
    }
   },
   "id": "4a305407722452fb"
  },
  {
   "cell_type": "code",
   "execution_count": 69,
   "outputs": [
    {
     "data": {
      "text/plain": "       zone_id      landuse  industrial    retail   service  \\\n0            6  low_density    0.932489  0.067511  0.000000   \n1            6  low_density    0.932489  0.067511  0.000000   \n2            6  low_density    0.932489  0.067511  0.000000   \n3            6  low_density    0.932489  0.067511  0.000000   \n4            6  low_density    0.932489  0.067511  0.000000   \n...        ...          ...         ...       ...       ...   \n17504     3000  low_density    0.274725  0.000000  0.725275   \n17505     3000  low_density    0.274725  0.000000  0.725275   \n17506     3000  low_density    0.274725  0.000000  0.725275   \n17507     3000  low_density    0.274725  0.000000  0.725275   \n17508     3000  low_density    0.274725  0.000000  0.725275   \n\n       population_availability  workers_availability  landuse_numeric  \\\n0                     4.892252              2.386894                0   \n1                     4.892252              2.386894                0   \n2                     4.892252              2.386894                0   \n3                     4.892252              2.386894                0   \n4                     4.892252              2.386894                0   \n...                        ...                   ...              ...   \n17504                 5.342491              2.495559                0   \n17505                 5.342491              2.495559                0   \n17506                 5.342491              2.495559                0   \n17507                 5.342491              2.495559                0   \n17508                 5.342491              2.495559                0   \n\n         industry                                           geometry  \n0      industrial  POLYGON ((56.34129 58.02780, 56.34127 58.02781...  \n1      industrial  POLYGON ((56.34129 58.02780, 56.34127 58.02781...  \n2      industrial  POLYGON ((56.34129 58.02780, 56.34127 58.02781...  \n3      industrial  POLYGON ((56.34129 58.02780, 56.34127 58.02781...  \n4      industrial  POLYGON ((56.34129 58.02780, 56.34127 58.02781...  \n...           ...                                                ...  \n17504     service  POLYGON ((56.31847 58.03896, 56.31846 58.03897...  \n17505     service  POLYGON ((56.31847 58.03896, 56.31846 58.03897...  \n17506     service  POLYGON ((56.31847 58.03896, 56.31846 58.03897...  \n17507     service  POLYGON ((56.31847 58.03896, 56.31846 58.03897...  \n17508     service  POLYGON ((56.31847 58.03896, 56.31846 58.03897...  \n\n[17509 rows x 10 columns]",
      "text/html": "<div>\n<style scoped>\n    .dataframe tbody tr th:only-of-type {\n        vertical-align: middle;\n    }\n\n    .dataframe tbody tr th {\n        vertical-align: top;\n    }\n\n    .dataframe thead th {\n        text-align: right;\n    }\n</style>\n<table border=\"1\" class=\"dataframe\">\n  <thead>\n    <tr style=\"text-align: right;\">\n      <th></th>\n      <th>zone_id</th>\n      <th>landuse</th>\n      <th>industrial</th>\n      <th>retail</th>\n      <th>service</th>\n      <th>population_availability</th>\n      <th>workers_availability</th>\n      <th>landuse_numeric</th>\n      <th>industry</th>\n      <th>geometry</th>\n    </tr>\n  </thead>\n  <tbody>\n    <tr>\n      <th>0</th>\n      <td>6</td>\n      <td>low_density</td>\n      <td>0.932489</td>\n      <td>0.067511</td>\n      <td>0.000000</td>\n      <td>4.892252</td>\n      <td>2.386894</td>\n      <td>0</td>\n      <td>industrial</td>\n      <td>POLYGON ((56.34129 58.02780, 56.34127 58.02781...</td>\n    </tr>\n    <tr>\n      <th>1</th>\n      <td>6</td>\n      <td>low_density</td>\n      <td>0.932489</td>\n      <td>0.067511</td>\n      <td>0.000000</td>\n      <td>4.892252</td>\n      <td>2.386894</td>\n      <td>0</td>\n      <td>industrial</td>\n      <td>POLYGON ((56.34129 58.02780, 56.34127 58.02781...</td>\n    </tr>\n    <tr>\n      <th>2</th>\n      <td>6</td>\n      <td>low_density</td>\n      <td>0.932489</td>\n      <td>0.067511</td>\n      <td>0.000000</td>\n      <td>4.892252</td>\n      <td>2.386894</td>\n      <td>0</td>\n      <td>industrial</td>\n      <td>POLYGON ((56.34129 58.02780, 56.34127 58.02781...</td>\n    </tr>\n    <tr>\n      <th>3</th>\n      <td>6</td>\n      <td>low_density</td>\n      <td>0.932489</td>\n      <td>0.067511</td>\n      <td>0.000000</td>\n      <td>4.892252</td>\n      <td>2.386894</td>\n      <td>0</td>\n      <td>industrial</td>\n      <td>POLYGON ((56.34129 58.02780, 56.34127 58.02781...</td>\n    </tr>\n    <tr>\n      <th>4</th>\n      <td>6</td>\n      <td>low_density</td>\n      <td>0.932489</td>\n      <td>0.067511</td>\n      <td>0.000000</td>\n      <td>4.892252</td>\n      <td>2.386894</td>\n      <td>0</td>\n      <td>industrial</td>\n      <td>POLYGON ((56.34129 58.02780, 56.34127 58.02781...</td>\n    </tr>\n    <tr>\n      <th>...</th>\n      <td>...</td>\n      <td>...</td>\n      <td>...</td>\n      <td>...</td>\n      <td>...</td>\n      <td>...</td>\n      <td>...</td>\n      <td>...</td>\n      <td>...</td>\n      <td>...</td>\n    </tr>\n    <tr>\n      <th>17504</th>\n      <td>3000</td>\n      <td>low_density</td>\n      <td>0.274725</td>\n      <td>0.000000</td>\n      <td>0.725275</td>\n      <td>5.342491</td>\n      <td>2.495559</td>\n      <td>0</td>\n      <td>service</td>\n      <td>POLYGON ((56.31847 58.03896, 56.31846 58.03897...</td>\n    </tr>\n    <tr>\n      <th>17505</th>\n      <td>3000</td>\n      <td>low_density</td>\n      <td>0.274725</td>\n      <td>0.000000</td>\n      <td>0.725275</td>\n      <td>5.342491</td>\n      <td>2.495559</td>\n      <td>0</td>\n      <td>service</td>\n      <td>POLYGON ((56.31847 58.03896, 56.31846 58.03897...</td>\n    </tr>\n    <tr>\n      <th>17506</th>\n      <td>3000</td>\n      <td>low_density</td>\n      <td>0.274725</td>\n      <td>0.000000</td>\n      <td>0.725275</td>\n      <td>5.342491</td>\n      <td>2.495559</td>\n      <td>0</td>\n      <td>service</td>\n      <td>POLYGON ((56.31847 58.03896, 56.31846 58.03897...</td>\n    </tr>\n    <tr>\n      <th>17507</th>\n      <td>3000</td>\n      <td>low_density</td>\n      <td>0.274725</td>\n      <td>0.000000</td>\n      <td>0.725275</td>\n      <td>5.342491</td>\n      <td>2.495559</td>\n      <td>0</td>\n      <td>service</td>\n      <td>POLYGON ((56.31847 58.03896, 56.31846 58.03897...</td>\n    </tr>\n    <tr>\n      <th>17508</th>\n      <td>3000</td>\n      <td>low_density</td>\n      <td>0.274725</td>\n      <td>0.000000</td>\n      <td>0.725275</td>\n      <td>5.342491</td>\n      <td>2.495559</td>\n      <td>0</td>\n      <td>service</td>\n      <td>POLYGON ((56.31847 58.03896, 56.31846 58.03897...</td>\n    </tr>\n  </tbody>\n</table>\n<p>17509 rows × 10 columns</p>\n</div>"
     },
     "execution_count": 69,
     "metadata": {},
     "output_type": "execute_result"
    }
   ],
   "source": [
    "tours_data = gpd.read_file(\"C:/Users/sm_pa/OneDrive/Рабочий стол/НИР3/perm_freight_modelling/data/step1_tour_list.geojson\")\n",
    "tours_data"
   ],
   "metadata": {
    "collapsed": false,
    "ExecuteTime": {
     "end_time": "2024-01-19T14:57:55.921060800Z",
     "start_time": "2024-01-19T14:55:12.796217300Z"
    }
   },
   "id": "9b0a844898c6b781"
  },
  {
   "cell_type": "code",
   "execution_count": 70,
   "outputs": [
    {
     "data": {
      "text/plain": "       zone_id      landuse  industrial    retail   service  \\\n0            6  low_density    0.932489  0.067511  0.000000   \n1            6  low_density    0.932489  0.067511  0.000000   \n2            6  low_density    0.932489  0.067511  0.000000   \n3            6  low_density    0.932489  0.067511  0.000000   \n4            6  low_density    0.932489  0.067511  0.000000   \n...        ...          ...         ...       ...       ...   \n17504     3000  low_density    0.274725  0.000000  0.725275   \n17505     3000  low_density    0.274725  0.000000  0.725275   \n17506     3000  low_density    0.274725  0.000000  0.725275   \n17507     3000  low_density    0.274725  0.000000  0.725275   \n17508     3000  low_density    0.274725  0.000000  0.725275   \n\n       population_availability  workers_availability  landuse_numeric  \\\n0                     4.892252              2.386894                0   \n1                     4.892252              2.386894                0   \n2                     4.892252              2.386894                0   \n3                     4.892252              2.386894                0   \n4                     4.892252              2.386894                0   \n...                        ...                   ...              ...   \n17504                 5.342491              2.495559                0   \n17505                 5.342491              2.495559                0   \n17506                 5.342491              2.495559                0   \n17507                 5.342491              2.495559                0   \n17508                 5.342491              2.495559                0   \n\n         industry                                           geometry  \\\n0      industrial  POLYGON ((56.34129 58.02780, 56.34127 58.02781...   \n1      industrial  POLYGON ((56.34129 58.02780, 56.34127 58.02781...   \n2      industrial  POLYGON ((56.34129 58.02780, 56.34127 58.02781...   \n3      industrial  POLYGON ((56.34129 58.02780, 56.34127 58.02781...   \n4      industrial  POLYGON ((56.34129 58.02780, 56.34127 58.02781...   \n...           ...                                                ...   \n17504     service  POLYGON ((56.31847 58.03896, 56.31846 58.03897...   \n17505     service  POLYGON ((56.31847 58.03896, 56.31846 58.03897...   \n17506     service  POLYGON ((56.31847 58.03896, 56.31846 58.03897...   \n17507     service  POLYGON ((56.31847 58.03896, 56.31846 58.03897...   \n17508     service  POLYGON ((56.31847 58.03896, 56.31846 58.03897...   \n\n       employment_share  \n0              0.932489  \n1              0.932489  \n2              0.932489  \n3              0.932489  \n4              0.932489  \n...                 ...  \n17504          0.725275  \n17505          0.725275  \n17506          0.725275  \n17507          0.725275  \n17508          0.725275  \n\n[17509 rows x 11 columns]",
      "text/html": "<div>\n<style scoped>\n    .dataframe tbody tr th:only-of-type {\n        vertical-align: middle;\n    }\n\n    .dataframe tbody tr th {\n        vertical-align: top;\n    }\n\n    .dataframe thead th {\n        text-align: right;\n    }\n</style>\n<table border=\"1\" class=\"dataframe\">\n  <thead>\n    <tr style=\"text-align: right;\">\n      <th></th>\n      <th>zone_id</th>\n      <th>landuse</th>\n      <th>industrial</th>\n      <th>retail</th>\n      <th>service</th>\n      <th>population_availability</th>\n      <th>workers_availability</th>\n      <th>landuse_numeric</th>\n      <th>industry</th>\n      <th>geometry</th>\n      <th>employment_share</th>\n    </tr>\n  </thead>\n  <tbody>\n    <tr>\n      <th>0</th>\n      <td>6</td>\n      <td>low_density</td>\n      <td>0.932489</td>\n      <td>0.067511</td>\n      <td>0.000000</td>\n      <td>4.892252</td>\n      <td>2.386894</td>\n      <td>0</td>\n      <td>industrial</td>\n      <td>POLYGON ((56.34129 58.02780, 56.34127 58.02781...</td>\n      <td>0.932489</td>\n    </tr>\n    <tr>\n      <th>1</th>\n      <td>6</td>\n      <td>low_density</td>\n      <td>0.932489</td>\n      <td>0.067511</td>\n      <td>0.000000</td>\n      <td>4.892252</td>\n      <td>2.386894</td>\n      <td>0</td>\n      <td>industrial</td>\n      <td>POLYGON ((56.34129 58.02780, 56.34127 58.02781...</td>\n      <td>0.932489</td>\n    </tr>\n    <tr>\n      <th>2</th>\n      <td>6</td>\n      <td>low_density</td>\n      <td>0.932489</td>\n      <td>0.067511</td>\n      <td>0.000000</td>\n      <td>4.892252</td>\n      <td>2.386894</td>\n      <td>0</td>\n      <td>industrial</td>\n      <td>POLYGON ((56.34129 58.02780, 56.34127 58.02781...</td>\n      <td>0.932489</td>\n    </tr>\n    <tr>\n      <th>3</th>\n      <td>6</td>\n      <td>low_density</td>\n      <td>0.932489</td>\n      <td>0.067511</td>\n      <td>0.000000</td>\n      <td>4.892252</td>\n      <td>2.386894</td>\n      <td>0</td>\n      <td>industrial</td>\n      <td>POLYGON ((56.34129 58.02780, 56.34127 58.02781...</td>\n      <td>0.932489</td>\n    </tr>\n    <tr>\n      <th>4</th>\n      <td>6</td>\n      <td>low_density</td>\n      <td>0.932489</td>\n      <td>0.067511</td>\n      <td>0.000000</td>\n      <td>4.892252</td>\n      <td>2.386894</td>\n      <td>0</td>\n      <td>industrial</td>\n      <td>POLYGON ((56.34129 58.02780, 56.34127 58.02781...</td>\n      <td>0.932489</td>\n    </tr>\n    <tr>\n      <th>...</th>\n      <td>...</td>\n      <td>...</td>\n      <td>...</td>\n      <td>...</td>\n      <td>...</td>\n      <td>...</td>\n      <td>...</td>\n      <td>...</td>\n      <td>...</td>\n      <td>...</td>\n      <td>...</td>\n    </tr>\n    <tr>\n      <th>17504</th>\n      <td>3000</td>\n      <td>low_density</td>\n      <td>0.274725</td>\n      <td>0.000000</td>\n      <td>0.725275</td>\n      <td>5.342491</td>\n      <td>2.495559</td>\n      <td>0</td>\n      <td>service</td>\n      <td>POLYGON ((56.31847 58.03896, 56.31846 58.03897...</td>\n      <td>0.725275</td>\n    </tr>\n    <tr>\n      <th>17505</th>\n      <td>3000</td>\n      <td>low_density</td>\n      <td>0.274725</td>\n      <td>0.000000</td>\n      <td>0.725275</td>\n      <td>5.342491</td>\n      <td>2.495559</td>\n      <td>0</td>\n      <td>service</td>\n      <td>POLYGON ((56.31847 58.03896, 56.31846 58.03897...</td>\n      <td>0.725275</td>\n    </tr>\n    <tr>\n      <th>17506</th>\n      <td>3000</td>\n      <td>low_density</td>\n      <td>0.274725</td>\n      <td>0.000000</td>\n      <td>0.725275</td>\n      <td>5.342491</td>\n      <td>2.495559</td>\n      <td>0</td>\n      <td>service</td>\n      <td>POLYGON ((56.31847 58.03896, 56.31846 58.03897...</td>\n      <td>0.725275</td>\n    </tr>\n    <tr>\n      <th>17507</th>\n      <td>3000</td>\n      <td>low_density</td>\n      <td>0.274725</td>\n      <td>0.000000</td>\n      <td>0.725275</td>\n      <td>5.342491</td>\n      <td>2.495559</td>\n      <td>0</td>\n      <td>service</td>\n      <td>POLYGON ((56.31847 58.03896, 56.31846 58.03897...</td>\n      <td>0.725275</td>\n    </tr>\n    <tr>\n      <th>17508</th>\n      <td>3000</td>\n      <td>low_density</td>\n      <td>0.274725</td>\n      <td>0.000000</td>\n      <td>0.725275</td>\n      <td>5.342491</td>\n      <td>2.495559</td>\n      <td>0</td>\n      <td>service</td>\n      <td>POLYGON ((56.31847 58.03896, 56.31846 58.03897...</td>\n      <td>0.725275</td>\n    </tr>\n  </tbody>\n</table>\n<p>17509 rows × 11 columns</p>\n</div>"
     },
     "execution_count": 70,
     "metadata": {},
     "output_type": "execute_result"
    }
   ],
   "source": [
    "tours_data['employment_share'] = 0.0  # Инициализируем нулями\n",
    "\n",
    "# Определяем условия для присвоения значений\n",
    "conditions = [\n",
    "    (tours_data['industry'] == 'industrial'),\n",
    "    (tours_data['industry'] == 'retail'),\n",
    "    (tours_data['industry'] == 'service')\n",
    "]\n",
    "\n",
    "# Значения для присвоения в соответствии с условиями\n",
    "values = [\n",
    "    tours_data['industrial'],\n",
    "    tours_data['retail'],\n",
    "    tours_data['service']\n",
    "]\n",
    "\n",
    "tours_data['employment_share'] = np.select(conditions, values, default=0.0)\n",
    "tours_data"
   ],
   "metadata": {
    "collapsed": false,
    "ExecuteTime": {
     "end_time": "2024-01-19T14:59:14.648770600Z",
     "start_time": "2024-01-19T14:59:14.523236800Z"
    }
   },
   "id": "c9c087b6ecc321b"
  },
  {
   "cell_type": "code",
   "execution_count": 71,
   "outputs": [
    {
     "data": {
      "text/plain": "       zone_id      landuse  industrial    retail   service  \\\n0            6  low_density    0.932489  0.067511  0.000000   \n1            6  low_density    0.932489  0.067511  0.000000   \n2            6  low_density    0.932489  0.067511  0.000000   \n3            6  low_density    0.932489  0.067511  0.000000   \n4            6  low_density    0.932489  0.067511  0.000000   \n...        ...          ...         ...       ...       ...   \n17504     3000  low_density    0.274725  0.000000  0.725275   \n17505     3000  low_density    0.274725  0.000000  0.725275   \n17506     3000  low_density    0.274725  0.000000  0.725275   \n17507     3000  low_density    0.274725  0.000000  0.725275   \n17508     3000  low_density    0.274725  0.000000  0.725275   \n\n       population_availability  workers_availability  landuse_numeric  \\\n0                     4.892252              2.386894                0   \n1                     4.892252              2.386894                0   \n2                     4.892252              2.386894                0   \n3                     4.892252              2.386894                0   \n4                     4.892252              2.386894                0   \n...                        ...                   ...              ...   \n17504                 5.342491              2.495559                0   \n17505                 5.342491              2.495559                0   \n17506                 5.342491              2.495559                0   \n17507                 5.342491              2.495559                0   \n17508                 5.342491              2.495559                0   \n\n         industry                                           geometry  \\\n0      industrial  POLYGON ((56.34129 58.02780, 56.34127 58.02781...   \n1      industrial  POLYGON ((56.34129 58.02780, 56.34127 58.02781...   \n2      industrial  POLYGON ((56.34129 58.02780, 56.34127 58.02781...   \n3      industrial  POLYGON ((56.34129 58.02780, 56.34127 58.02781...   \n4      industrial  POLYGON ((56.34129 58.02780, 56.34127 58.02781...   \n...           ...                                                ...   \n17504     service  POLYGON ((56.31847 58.03896, 56.31846 58.03897...   \n17505     service  POLYGON ((56.31847 58.03896, 56.31846 58.03897...   \n17506     service  POLYGON ((56.31847 58.03896, 56.31846 58.03897...   \n17507     service  POLYGON ((56.31847 58.03896, 56.31846 58.03897...   \n17508     service  POLYGON ((56.31847 58.03896, 56.31846 58.03897...   \n\n       employment_share  industry_numeric  \n0              0.932489                 0  \n1              0.932489                 0  \n2              0.932489                 0  \n3              0.932489                 0  \n4              0.932489                 0  \n...                 ...               ...  \n17504          0.725275                 2  \n17505          0.725275                 2  \n17506          0.725275                 2  \n17507          0.725275                 2  \n17508          0.725275                 2  \n\n[17509 rows x 12 columns]",
      "text/html": "<div>\n<style scoped>\n    .dataframe tbody tr th:only-of-type {\n        vertical-align: middle;\n    }\n\n    .dataframe tbody tr th {\n        vertical-align: top;\n    }\n\n    .dataframe thead th {\n        text-align: right;\n    }\n</style>\n<table border=\"1\" class=\"dataframe\">\n  <thead>\n    <tr style=\"text-align: right;\">\n      <th></th>\n      <th>zone_id</th>\n      <th>landuse</th>\n      <th>industrial</th>\n      <th>retail</th>\n      <th>service</th>\n      <th>population_availability</th>\n      <th>workers_availability</th>\n      <th>landuse_numeric</th>\n      <th>industry</th>\n      <th>geometry</th>\n      <th>employment_share</th>\n      <th>industry_numeric</th>\n    </tr>\n  </thead>\n  <tbody>\n    <tr>\n      <th>0</th>\n      <td>6</td>\n      <td>low_density</td>\n      <td>0.932489</td>\n      <td>0.067511</td>\n      <td>0.000000</td>\n      <td>4.892252</td>\n      <td>2.386894</td>\n      <td>0</td>\n      <td>industrial</td>\n      <td>POLYGON ((56.34129 58.02780, 56.34127 58.02781...</td>\n      <td>0.932489</td>\n      <td>0</td>\n    </tr>\n    <tr>\n      <th>1</th>\n      <td>6</td>\n      <td>low_density</td>\n      <td>0.932489</td>\n      <td>0.067511</td>\n      <td>0.000000</td>\n      <td>4.892252</td>\n      <td>2.386894</td>\n      <td>0</td>\n      <td>industrial</td>\n      <td>POLYGON ((56.34129 58.02780, 56.34127 58.02781...</td>\n      <td>0.932489</td>\n      <td>0</td>\n    </tr>\n    <tr>\n      <th>2</th>\n      <td>6</td>\n      <td>low_density</td>\n      <td>0.932489</td>\n      <td>0.067511</td>\n      <td>0.000000</td>\n      <td>4.892252</td>\n      <td>2.386894</td>\n      <td>0</td>\n      <td>industrial</td>\n      <td>POLYGON ((56.34129 58.02780, 56.34127 58.02781...</td>\n      <td>0.932489</td>\n      <td>0</td>\n    </tr>\n    <tr>\n      <th>3</th>\n      <td>6</td>\n      <td>low_density</td>\n      <td>0.932489</td>\n      <td>0.067511</td>\n      <td>0.000000</td>\n      <td>4.892252</td>\n      <td>2.386894</td>\n      <td>0</td>\n      <td>industrial</td>\n      <td>POLYGON ((56.34129 58.02780, 56.34127 58.02781...</td>\n      <td>0.932489</td>\n      <td>0</td>\n    </tr>\n    <tr>\n      <th>4</th>\n      <td>6</td>\n      <td>low_density</td>\n      <td>0.932489</td>\n      <td>0.067511</td>\n      <td>0.000000</td>\n      <td>4.892252</td>\n      <td>2.386894</td>\n      <td>0</td>\n      <td>industrial</td>\n      <td>POLYGON ((56.34129 58.02780, 56.34127 58.02781...</td>\n      <td>0.932489</td>\n      <td>0</td>\n    </tr>\n    <tr>\n      <th>...</th>\n      <td>...</td>\n      <td>...</td>\n      <td>...</td>\n      <td>...</td>\n      <td>...</td>\n      <td>...</td>\n      <td>...</td>\n      <td>...</td>\n      <td>...</td>\n      <td>...</td>\n      <td>...</td>\n      <td>...</td>\n    </tr>\n    <tr>\n      <th>17504</th>\n      <td>3000</td>\n      <td>low_density</td>\n      <td>0.274725</td>\n      <td>0.000000</td>\n      <td>0.725275</td>\n      <td>5.342491</td>\n      <td>2.495559</td>\n      <td>0</td>\n      <td>service</td>\n      <td>POLYGON ((56.31847 58.03896, 56.31846 58.03897...</td>\n      <td>0.725275</td>\n      <td>2</td>\n    </tr>\n    <tr>\n      <th>17505</th>\n      <td>3000</td>\n      <td>low_density</td>\n      <td>0.274725</td>\n      <td>0.000000</td>\n      <td>0.725275</td>\n      <td>5.342491</td>\n      <td>2.495559</td>\n      <td>0</td>\n      <td>service</td>\n      <td>POLYGON ((56.31847 58.03896, 56.31846 58.03897...</td>\n      <td>0.725275</td>\n      <td>2</td>\n    </tr>\n    <tr>\n      <th>17506</th>\n      <td>3000</td>\n      <td>low_density</td>\n      <td>0.274725</td>\n      <td>0.000000</td>\n      <td>0.725275</td>\n      <td>5.342491</td>\n      <td>2.495559</td>\n      <td>0</td>\n      <td>service</td>\n      <td>POLYGON ((56.31847 58.03896, 56.31846 58.03897...</td>\n      <td>0.725275</td>\n      <td>2</td>\n    </tr>\n    <tr>\n      <th>17507</th>\n      <td>3000</td>\n      <td>low_density</td>\n      <td>0.274725</td>\n      <td>0.000000</td>\n      <td>0.725275</td>\n      <td>5.342491</td>\n      <td>2.495559</td>\n      <td>0</td>\n      <td>service</td>\n      <td>POLYGON ((56.31847 58.03896, 56.31846 58.03897...</td>\n      <td>0.725275</td>\n      <td>2</td>\n    </tr>\n    <tr>\n      <th>17508</th>\n      <td>3000</td>\n      <td>low_density</td>\n      <td>0.274725</td>\n      <td>0.000000</td>\n      <td>0.725275</td>\n      <td>5.342491</td>\n      <td>2.495559</td>\n      <td>0</td>\n      <td>service</td>\n      <td>POLYGON ((56.31847 58.03896, 56.31846 58.03897...</td>\n      <td>0.725275</td>\n      <td>2</td>\n    </tr>\n  </tbody>\n</table>\n<p>17509 rows × 12 columns</p>\n</div>"
     },
     "execution_count": 71,
     "metadata": {},
     "output_type": "execute_result"
    }
   ],
   "source": [
    "custom_order = ['industrial', 'retail', 'service']\n",
    "tours_data['industry_numeric'] = pd.Categorical(tours_data['industry'], categories=custom_order, ordered=True).codes\n",
    "tours_data['industry_numeric'] = pd.factorize(tours_data['industry'])[0]\n",
    "tours_data"
   ],
   "metadata": {
    "collapsed": false,
    "ExecuteTime": {
     "end_time": "2024-01-19T15:02:01.291657900Z",
     "start_time": "2024-01-19T15:02:01.150542200Z"
    }
   },
   "id": "3b9f777cfe59206e"
  },
  {
   "cell_type": "code",
   "execution_count": 72,
   "outputs": [],
   "source": [
    "tours_data.to_file('data/step1_tour_list.geojson', driver='GeoJSON')"
   ],
   "metadata": {
    "collapsed": false,
    "ExecuteTime": {
     "end_time": "2024-01-19T15:04:46.558962700Z",
     "start_time": "2024-01-19T15:03:08.390978200Z"
    }
   },
   "id": "2a613c68d05fdfae"
  },
  {
   "cell_type": "raw",
   "source": [
    "2 шаг метода: генерация времени суток для каждого тура"
   ],
   "metadata": {
    "collapsed": false
   },
   "id": "12c0afeca181db6d"
  },
  {
   "cell_type": "code",
   "execution_count": 75,
   "outputs": [
    {
     "data": {
      "text/plain": "        id  block_id    industry      landuse  population_availability  \\\n0        0       324  industrial  residential                 6.314141   \n1        1       324  industrial  residential                 6.314141   \n2        2      1884  industrial   industrial                 5.604110   \n3        3      1884  industrial   industrial                 5.604110   \n4        4      1884  industrial   industrial                 5.604110   \n...    ...       ...         ...          ...                      ...   \n1560  1560       209     service   industrial                 5.036346   \n1561  1561       209     service   industrial                 5.036346   \n1562  1562       209     service   industrial                 5.036346   \n1563  1563       943  industrial   industrial                 4.979759   \n1564  1564       294     service   industrial                 4.802194   \n\n      workers_availability  employment_share  company_id      departure_time  \\\n0                 2.824434          0.865545   206819075 1900-01-01 15:38:00   \n1                 2.824434          0.865545   206819075 1900-01-01 10:51:00   \n2                 2.824705          0.944083   698090257 1900-01-01 16:28:00   \n3                 2.824705          0.944083   698090257 1900-01-01 09:14:00   \n4                 2.824705          0.944083   698090257 1900-01-01 14:42:00   \n...                    ...               ...         ...                 ...   \n1560              2.504850          0.056708  1103860108 1900-01-01 15:16:00   \n1561              2.504850          0.056708  1103860108 1900-01-01 10:19:00   \n1562              2.504850          0.056708  1103860108 1900-01-01 11:40:00   \n1563              2.434761          0.801968  1136615387 1900-01-01 09:48:00   \n1564              2.488054          0.106638  1147236714 1900-01-01 10:19:00   \n\n      vehicle_type  tour_purpose  time_of_day  \\\n0                1             0            1   \n1                2             0            0   \n2                0             1            1   \n3                2             0            0   \n4                0             0            1   \n...            ...           ...          ...   \n1560             0             0            1   \n1561             0             1            0   \n1562             0             1            1   \n1563             0             0            0   \n1564             0             0            0   \n\n                                               geometry  \n0     MULTIPOLYGON (((56.24348 57.97681, 56.24351 57...  \n1     MULTIPOLYGON (((56.24348 57.97681, 56.24351 57...  \n2     MULTIPOLYGON (((56.15937 58.00912, 56.15972 58...  \n3     MULTIPOLYGON (((56.15937 58.00912, 56.15972 58...  \n4     MULTIPOLYGON (((56.15937 58.00912, 56.15972 58...  \n...                                                 ...  \n1560  MULTIPOLYGON (((56.16704 58.04032, 56.16847 58...  \n1561  MULTIPOLYGON (((56.16704 58.04032, 56.16847 58...  \n1562  MULTIPOLYGON (((56.16704 58.04032, 56.16847 58...  \n1563  MULTIPOLYGON (((56.13883 58.01975, 56.13898 58...  \n1564  MULTIPOLYGON (((56.17449 57.91414, 56.17469 57...  \n\n[1565 rows x 13 columns]",
      "text/html": "<div>\n<style scoped>\n    .dataframe tbody tr th:only-of-type {\n        vertical-align: middle;\n    }\n\n    .dataframe tbody tr th {\n        vertical-align: top;\n    }\n\n    .dataframe thead th {\n        text-align: right;\n    }\n</style>\n<table border=\"1\" class=\"dataframe\">\n  <thead>\n    <tr style=\"text-align: right;\">\n      <th></th>\n      <th>id</th>\n      <th>block_id</th>\n      <th>industry</th>\n      <th>landuse</th>\n      <th>population_availability</th>\n      <th>workers_availability</th>\n      <th>employment_share</th>\n      <th>company_id</th>\n      <th>departure_time</th>\n      <th>vehicle_type</th>\n      <th>tour_purpose</th>\n      <th>time_of_day</th>\n      <th>geometry</th>\n    </tr>\n  </thead>\n  <tbody>\n    <tr>\n      <th>0</th>\n      <td>0</td>\n      <td>324</td>\n      <td>industrial</td>\n      <td>residential</td>\n      <td>6.314141</td>\n      <td>2.824434</td>\n      <td>0.865545</td>\n      <td>206819075</td>\n      <td>1900-01-01 15:38:00</td>\n      <td>1</td>\n      <td>0</td>\n      <td>1</td>\n      <td>MULTIPOLYGON (((56.24348 57.97681, 56.24351 57...</td>\n    </tr>\n    <tr>\n      <th>1</th>\n      <td>1</td>\n      <td>324</td>\n      <td>industrial</td>\n      <td>residential</td>\n      <td>6.314141</td>\n      <td>2.824434</td>\n      <td>0.865545</td>\n      <td>206819075</td>\n      <td>1900-01-01 10:51:00</td>\n      <td>2</td>\n      <td>0</td>\n      <td>0</td>\n      <td>MULTIPOLYGON (((56.24348 57.97681, 56.24351 57...</td>\n    </tr>\n    <tr>\n      <th>2</th>\n      <td>2</td>\n      <td>1884</td>\n      <td>industrial</td>\n      <td>industrial</td>\n      <td>5.604110</td>\n      <td>2.824705</td>\n      <td>0.944083</td>\n      <td>698090257</td>\n      <td>1900-01-01 16:28:00</td>\n      <td>0</td>\n      <td>1</td>\n      <td>1</td>\n      <td>MULTIPOLYGON (((56.15937 58.00912, 56.15972 58...</td>\n    </tr>\n    <tr>\n      <th>3</th>\n      <td>3</td>\n      <td>1884</td>\n      <td>industrial</td>\n      <td>industrial</td>\n      <td>5.604110</td>\n      <td>2.824705</td>\n      <td>0.944083</td>\n      <td>698090257</td>\n      <td>1900-01-01 09:14:00</td>\n      <td>2</td>\n      <td>0</td>\n      <td>0</td>\n      <td>MULTIPOLYGON (((56.15937 58.00912, 56.15972 58...</td>\n    </tr>\n    <tr>\n      <th>4</th>\n      <td>4</td>\n      <td>1884</td>\n      <td>industrial</td>\n      <td>industrial</td>\n      <td>5.604110</td>\n      <td>2.824705</td>\n      <td>0.944083</td>\n      <td>698090257</td>\n      <td>1900-01-01 14:42:00</td>\n      <td>0</td>\n      <td>0</td>\n      <td>1</td>\n      <td>MULTIPOLYGON (((56.15937 58.00912, 56.15972 58...</td>\n    </tr>\n    <tr>\n      <th>...</th>\n      <td>...</td>\n      <td>...</td>\n      <td>...</td>\n      <td>...</td>\n      <td>...</td>\n      <td>...</td>\n      <td>...</td>\n      <td>...</td>\n      <td>...</td>\n      <td>...</td>\n      <td>...</td>\n      <td>...</td>\n      <td>...</td>\n    </tr>\n    <tr>\n      <th>1560</th>\n      <td>1560</td>\n      <td>209</td>\n      <td>service</td>\n      <td>industrial</td>\n      <td>5.036346</td>\n      <td>2.504850</td>\n      <td>0.056708</td>\n      <td>1103860108</td>\n      <td>1900-01-01 15:16:00</td>\n      <td>0</td>\n      <td>0</td>\n      <td>1</td>\n      <td>MULTIPOLYGON (((56.16704 58.04032, 56.16847 58...</td>\n    </tr>\n    <tr>\n      <th>1561</th>\n      <td>1561</td>\n      <td>209</td>\n      <td>service</td>\n      <td>industrial</td>\n      <td>5.036346</td>\n      <td>2.504850</td>\n      <td>0.056708</td>\n      <td>1103860108</td>\n      <td>1900-01-01 10:19:00</td>\n      <td>0</td>\n      <td>1</td>\n      <td>0</td>\n      <td>MULTIPOLYGON (((56.16704 58.04032, 56.16847 58...</td>\n    </tr>\n    <tr>\n      <th>1562</th>\n      <td>1562</td>\n      <td>209</td>\n      <td>service</td>\n      <td>industrial</td>\n      <td>5.036346</td>\n      <td>2.504850</td>\n      <td>0.056708</td>\n      <td>1103860108</td>\n      <td>1900-01-01 11:40:00</td>\n      <td>0</td>\n      <td>1</td>\n      <td>1</td>\n      <td>MULTIPOLYGON (((56.16704 58.04032, 56.16847 58...</td>\n    </tr>\n    <tr>\n      <th>1563</th>\n      <td>1563</td>\n      <td>943</td>\n      <td>industrial</td>\n      <td>industrial</td>\n      <td>4.979759</td>\n      <td>2.434761</td>\n      <td>0.801968</td>\n      <td>1136615387</td>\n      <td>1900-01-01 09:48:00</td>\n      <td>0</td>\n      <td>0</td>\n      <td>0</td>\n      <td>MULTIPOLYGON (((56.13883 58.01975, 56.13898 58...</td>\n    </tr>\n    <tr>\n      <th>1564</th>\n      <td>1564</td>\n      <td>294</td>\n      <td>service</td>\n      <td>industrial</td>\n      <td>4.802194</td>\n      <td>2.488054</td>\n      <td>0.106638</td>\n      <td>1147236714</td>\n      <td>1900-01-01 10:19:00</td>\n      <td>0</td>\n      <td>0</td>\n      <td>0</td>\n      <td>MULTIPOLYGON (((56.17449 57.91414, 56.17469 57...</td>\n    </tr>\n  </tbody>\n</table>\n<p>1565 rows × 13 columns</p>\n</div>"
     },
     "execution_count": 75,
     "metadata": {},
     "output_type": "execute_result"
    }
   ],
   "source": [
    "# Загрузка данныx\n",
    "synthetic_tours_data = gpd.read_file(\"C:/Users/sm_pa/OneDrive/Рабочий стол/НИР3/perm_freight_modelling/data/purpose_time_synthetic.geojson\")\n",
    "synthetic_tours_data"
   ],
   "metadata": {
    "collapsed": false,
    "ExecuteTime": {
     "end_time": "2024-01-19T15:12:31.016312800Z",
     "start_time": "2024-01-19T15:12:30.246804600Z"
    }
   },
   "id": "46aef7613d0b3cdc"
  },
  {
   "cell_type": "code",
   "execution_count": 81,
   "outputs": [
    {
     "data": {
      "text/plain": "        id  block_id    industry      landuse  population_availability  \\\n0        0       324  industrial  residential                 6.314141   \n1        1       324  industrial  residential                 6.314141   \n2        2      1884  industrial   industrial                 5.604110   \n3        3      1884  industrial   industrial                 5.604110   \n4        4      1884  industrial   industrial                 5.604110   \n...    ...       ...         ...          ...                      ...   \n1560  1560       209     service   industrial                 5.036346   \n1561  1561       209     service   industrial                 5.036346   \n1562  1562       209     service   industrial                 5.036346   \n1563  1563       943  industrial   industrial                 4.979759   \n1564  1564       294     service   industrial                 4.802194   \n\n      workers_availability  employment_share  company_id      departure_time  \\\n0                 2.824434          0.865545   206819075 1900-01-01 15:38:00   \n1                 2.824434          0.865545   206819075 1900-01-01 10:51:00   \n2                 2.824705          0.944083   698090257 1900-01-01 16:28:00   \n3                 2.824705          0.944083   698090257 1900-01-01 09:14:00   \n4                 2.824705          0.944083   698090257 1900-01-01 14:42:00   \n...                    ...               ...         ...                 ...   \n1560              2.504850          0.056708  1103860108 1900-01-01 15:16:00   \n1561              2.504850          0.056708  1103860108 1900-01-01 10:19:00   \n1562              2.504850          0.056708  1103860108 1900-01-01 11:40:00   \n1563              2.434761          0.801968  1136615387 1900-01-01 09:48:00   \n1564              2.488054          0.106638  1147236714 1900-01-01 10:19:00   \n\n      vehicle_type  tour_purpose  time_of_day  \\\n0                1             0            1   \n1                2             0            0   \n2                0             1            1   \n3                2             0            0   \n4                0             0            1   \n...            ...           ...          ...   \n1560             0             0            1   \n1561             0             1            0   \n1562             0             1            1   \n1563             0             0            0   \n1564             0             0            0   \n\n                                               geometry  industry_numeric  \\\n0     MULTIPOLYGON (((56.24348 57.97681, 56.24351 57...                 0   \n1     MULTIPOLYGON (((56.24348 57.97681, 56.24351 57...                 0   \n2     MULTIPOLYGON (((56.15937 58.00912, 56.15972 58...                 0   \n3     MULTIPOLYGON (((56.15937 58.00912, 56.15972 58...                 0   \n4     MULTIPOLYGON (((56.15937 58.00912, 56.15972 58...                 0   \n...                                                 ...               ...   \n1560  MULTIPOLYGON (((56.16704 58.04032, 56.16847 58...                 2   \n1561  MULTIPOLYGON (((56.16704 58.04032, 56.16847 58...                 2   \n1562  MULTIPOLYGON (((56.16704 58.04032, 56.16847 58...                 2   \n1563  MULTIPOLYGON (((56.13883 58.01975, 56.13898 58...                 0   \n1564  MULTIPOLYGON (((56.17449 57.91414, 56.17469 57...                 2   \n\n      landuse_numeric  \n0                   1  \n1                   1  \n2                   3  \n3                   3  \n4                   3  \n...               ...  \n1560                3  \n1561                3  \n1562                3  \n1563                3  \n1564                3  \n\n[1565 rows x 15 columns]",
      "text/html": "<div>\n<style scoped>\n    .dataframe tbody tr th:only-of-type {\n        vertical-align: middle;\n    }\n\n    .dataframe tbody tr th {\n        vertical-align: top;\n    }\n\n    .dataframe thead th {\n        text-align: right;\n    }\n</style>\n<table border=\"1\" class=\"dataframe\">\n  <thead>\n    <tr style=\"text-align: right;\">\n      <th></th>\n      <th>id</th>\n      <th>block_id</th>\n      <th>industry</th>\n      <th>landuse</th>\n      <th>population_availability</th>\n      <th>workers_availability</th>\n      <th>employment_share</th>\n      <th>company_id</th>\n      <th>departure_time</th>\n      <th>vehicle_type</th>\n      <th>tour_purpose</th>\n      <th>time_of_day</th>\n      <th>geometry</th>\n      <th>industry_numeric</th>\n      <th>landuse_numeric</th>\n    </tr>\n  </thead>\n  <tbody>\n    <tr>\n      <th>0</th>\n      <td>0</td>\n      <td>324</td>\n      <td>industrial</td>\n      <td>residential</td>\n      <td>6.314141</td>\n      <td>2.824434</td>\n      <td>0.865545</td>\n      <td>206819075</td>\n      <td>1900-01-01 15:38:00</td>\n      <td>1</td>\n      <td>0</td>\n      <td>1</td>\n      <td>MULTIPOLYGON (((56.24348 57.97681, 56.24351 57...</td>\n      <td>0</td>\n      <td>1</td>\n    </tr>\n    <tr>\n      <th>1</th>\n      <td>1</td>\n      <td>324</td>\n      <td>industrial</td>\n      <td>residential</td>\n      <td>6.314141</td>\n      <td>2.824434</td>\n      <td>0.865545</td>\n      <td>206819075</td>\n      <td>1900-01-01 10:51:00</td>\n      <td>2</td>\n      <td>0</td>\n      <td>0</td>\n      <td>MULTIPOLYGON (((56.24348 57.97681, 56.24351 57...</td>\n      <td>0</td>\n      <td>1</td>\n    </tr>\n    <tr>\n      <th>2</th>\n      <td>2</td>\n      <td>1884</td>\n      <td>industrial</td>\n      <td>industrial</td>\n      <td>5.604110</td>\n      <td>2.824705</td>\n      <td>0.944083</td>\n      <td>698090257</td>\n      <td>1900-01-01 16:28:00</td>\n      <td>0</td>\n      <td>1</td>\n      <td>1</td>\n      <td>MULTIPOLYGON (((56.15937 58.00912, 56.15972 58...</td>\n      <td>0</td>\n      <td>3</td>\n    </tr>\n    <tr>\n      <th>3</th>\n      <td>3</td>\n      <td>1884</td>\n      <td>industrial</td>\n      <td>industrial</td>\n      <td>5.604110</td>\n      <td>2.824705</td>\n      <td>0.944083</td>\n      <td>698090257</td>\n      <td>1900-01-01 09:14:00</td>\n      <td>2</td>\n      <td>0</td>\n      <td>0</td>\n      <td>MULTIPOLYGON (((56.15937 58.00912, 56.15972 58...</td>\n      <td>0</td>\n      <td>3</td>\n    </tr>\n    <tr>\n      <th>4</th>\n      <td>4</td>\n      <td>1884</td>\n      <td>industrial</td>\n      <td>industrial</td>\n      <td>5.604110</td>\n      <td>2.824705</td>\n      <td>0.944083</td>\n      <td>698090257</td>\n      <td>1900-01-01 14:42:00</td>\n      <td>0</td>\n      <td>0</td>\n      <td>1</td>\n      <td>MULTIPOLYGON (((56.15937 58.00912, 56.15972 58...</td>\n      <td>0</td>\n      <td>3</td>\n    </tr>\n    <tr>\n      <th>...</th>\n      <td>...</td>\n      <td>...</td>\n      <td>...</td>\n      <td>...</td>\n      <td>...</td>\n      <td>...</td>\n      <td>...</td>\n      <td>...</td>\n      <td>...</td>\n      <td>...</td>\n      <td>...</td>\n      <td>...</td>\n      <td>...</td>\n      <td>...</td>\n      <td>...</td>\n    </tr>\n    <tr>\n      <th>1560</th>\n      <td>1560</td>\n      <td>209</td>\n      <td>service</td>\n      <td>industrial</td>\n      <td>5.036346</td>\n      <td>2.504850</td>\n      <td>0.056708</td>\n      <td>1103860108</td>\n      <td>1900-01-01 15:16:00</td>\n      <td>0</td>\n      <td>0</td>\n      <td>1</td>\n      <td>MULTIPOLYGON (((56.16704 58.04032, 56.16847 58...</td>\n      <td>2</td>\n      <td>3</td>\n    </tr>\n    <tr>\n      <th>1561</th>\n      <td>1561</td>\n      <td>209</td>\n      <td>service</td>\n      <td>industrial</td>\n      <td>5.036346</td>\n      <td>2.504850</td>\n      <td>0.056708</td>\n      <td>1103860108</td>\n      <td>1900-01-01 10:19:00</td>\n      <td>0</td>\n      <td>1</td>\n      <td>0</td>\n      <td>MULTIPOLYGON (((56.16704 58.04032, 56.16847 58...</td>\n      <td>2</td>\n      <td>3</td>\n    </tr>\n    <tr>\n      <th>1562</th>\n      <td>1562</td>\n      <td>209</td>\n      <td>service</td>\n      <td>industrial</td>\n      <td>5.036346</td>\n      <td>2.504850</td>\n      <td>0.056708</td>\n      <td>1103860108</td>\n      <td>1900-01-01 11:40:00</td>\n      <td>0</td>\n      <td>1</td>\n      <td>1</td>\n      <td>MULTIPOLYGON (((56.16704 58.04032, 56.16847 58...</td>\n      <td>2</td>\n      <td>3</td>\n    </tr>\n    <tr>\n      <th>1563</th>\n      <td>1563</td>\n      <td>943</td>\n      <td>industrial</td>\n      <td>industrial</td>\n      <td>4.979759</td>\n      <td>2.434761</td>\n      <td>0.801968</td>\n      <td>1136615387</td>\n      <td>1900-01-01 09:48:00</td>\n      <td>0</td>\n      <td>0</td>\n      <td>0</td>\n      <td>MULTIPOLYGON (((56.13883 58.01975, 56.13898 58...</td>\n      <td>0</td>\n      <td>3</td>\n    </tr>\n    <tr>\n      <th>1564</th>\n      <td>1564</td>\n      <td>294</td>\n      <td>service</td>\n      <td>industrial</td>\n      <td>4.802194</td>\n      <td>2.488054</td>\n      <td>0.106638</td>\n      <td>1147236714</td>\n      <td>1900-01-01 10:19:00</td>\n      <td>0</td>\n      <td>0</td>\n      <td>0</td>\n      <td>MULTIPOLYGON (((56.17449 57.91414, 56.17469 57...</td>\n      <td>2</td>\n      <td>3</td>\n    </tr>\n  </tbody>\n</table>\n<p>1565 rows × 15 columns</p>\n</div>"
     },
     "execution_count": 81,
     "metadata": {},
     "output_type": "execute_result"
    }
   ],
   "source": [
    "custom_order = ['industrial', 'retail', 'service']\n",
    "synthetic_tours_data['industry_numeric'] = pd.Categorical(synthetic_tours_data['industry'], categories=custom_order, ordered=True).codes\n",
    "synthetic_tours_data"
   ],
   "metadata": {
    "collapsed": false,
    "ExecuteTime": {
     "end_time": "2024-01-19T15:26:40.397617300Z",
     "start_time": "2024-01-19T15:26:40.282676400Z"
    }
   },
   "id": "ec3d60cc575c2c9"
  },
  {
   "cell_type": "code",
   "execution_count": 79,
   "outputs": [
    {
     "data": {
      "text/plain": "        id  block_id    industry      landuse  population_availability  \\\n0        0       324  industrial  residential                 6.314141   \n1        1       324  industrial  residential                 6.314141   \n2        2      1884  industrial   industrial                 5.604110   \n3        3      1884  industrial   industrial                 5.604110   \n4        4      1884  industrial   industrial                 5.604110   \n...    ...       ...         ...          ...                      ...   \n1560  1560       209     service   industrial                 5.036346   \n1561  1561       209     service   industrial                 5.036346   \n1562  1562       209     service   industrial                 5.036346   \n1563  1563       943  industrial   industrial                 4.979759   \n1564  1564       294     service   industrial                 4.802194   \n\n      workers_availability  employment_share  company_id      departure_time  \\\n0                 2.824434          0.865545   206819075 1900-01-01 15:38:00   \n1                 2.824434          0.865545   206819075 1900-01-01 10:51:00   \n2                 2.824705          0.944083   698090257 1900-01-01 16:28:00   \n3                 2.824705          0.944083   698090257 1900-01-01 09:14:00   \n4                 2.824705          0.944083   698090257 1900-01-01 14:42:00   \n...                    ...               ...         ...                 ...   \n1560              2.504850          0.056708  1103860108 1900-01-01 15:16:00   \n1561              2.504850          0.056708  1103860108 1900-01-01 10:19:00   \n1562              2.504850          0.056708  1103860108 1900-01-01 11:40:00   \n1563              2.434761          0.801968  1136615387 1900-01-01 09:48:00   \n1564              2.488054          0.106638  1147236714 1900-01-01 10:19:00   \n\n      vehicle_type  tour_purpose  time_of_day  \\\n0                1             0            1   \n1                2             0            0   \n2                0             1            1   \n3                2             0            0   \n4                0             0            1   \n...            ...           ...          ...   \n1560             0             0            1   \n1561             0             1            0   \n1562             0             1            1   \n1563             0             0            0   \n1564             0             0            0   \n\n                                               geometry  industry_numeric  \\\n0     MULTIPOLYGON (((56.24348 57.97681, 56.24351 57...                 0   \n1     MULTIPOLYGON (((56.24348 57.97681, 56.24351 57...                 0   \n2     MULTIPOLYGON (((56.15937 58.00912, 56.15972 58...                 0   \n3     MULTIPOLYGON (((56.15937 58.00912, 56.15972 58...                 0   \n4     MULTIPOLYGON (((56.15937 58.00912, 56.15972 58...                 0   \n...                                                 ...               ...   \n1560  MULTIPOLYGON (((56.16704 58.04032, 56.16847 58...                 2   \n1561  MULTIPOLYGON (((56.16704 58.04032, 56.16847 58...                 2   \n1562  MULTIPOLYGON (((56.16704 58.04032, 56.16847 58...                 2   \n1563  MULTIPOLYGON (((56.13883 58.01975, 56.13898 58...                 0   \n1564  MULTIPOLYGON (((56.17449 57.91414, 56.17469 57...                 2   \n\n      landuse_numeric  \n0                   1  \n1                   1  \n2                   3  \n3                   3  \n4                   3  \n...               ...  \n1560                3  \n1561                3  \n1562                3  \n1563                3  \n1564                3  \n\n[1565 rows x 15 columns]",
      "text/html": "<div>\n<style scoped>\n    .dataframe tbody tr th:only-of-type {\n        vertical-align: middle;\n    }\n\n    .dataframe tbody tr th {\n        vertical-align: top;\n    }\n\n    .dataframe thead th {\n        text-align: right;\n    }\n</style>\n<table border=\"1\" class=\"dataframe\">\n  <thead>\n    <tr style=\"text-align: right;\">\n      <th></th>\n      <th>id</th>\n      <th>block_id</th>\n      <th>industry</th>\n      <th>landuse</th>\n      <th>population_availability</th>\n      <th>workers_availability</th>\n      <th>employment_share</th>\n      <th>company_id</th>\n      <th>departure_time</th>\n      <th>vehicle_type</th>\n      <th>tour_purpose</th>\n      <th>time_of_day</th>\n      <th>geometry</th>\n      <th>industry_numeric</th>\n      <th>landuse_numeric</th>\n    </tr>\n  </thead>\n  <tbody>\n    <tr>\n      <th>0</th>\n      <td>0</td>\n      <td>324</td>\n      <td>industrial</td>\n      <td>residential</td>\n      <td>6.314141</td>\n      <td>2.824434</td>\n      <td>0.865545</td>\n      <td>206819075</td>\n      <td>1900-01-01 15:38:00</td>\n      <td>1</td>\n      <td>0</td>\n      <td>1</td>\n      <td>MULTIPOLYGON (((56.24348 57.97681, 56.24351 57...</td>\n      <td>0</td>\n      <td>1</td>\n    </tr>\n    <tr>\n      <th>1</th>\n      <td>1</td>\n      <td>324</td>\n      <td>industrial</td>\n      <td>residential</td>\n      <td>6.314141</td>\n      <td>2.824434</td>\n      <td>0.865545</td>\n      <td>206819075</td>\n      <td>1900-01-01 10:51:00</td>\n      <td>2</td>\n      <td>0</td>\n      <td>0</td>\n      <td>MULTIPOLYGON (((56.24348 57.97681, 56.24351 57...</td>\n      <td>0</td>\n      <td>1</td>\n    </tr>\n    <tr>\n      <th>2</th>\n      <td>2</td>\n      <td>1884</td>\n      <td>industrial</td>\n      <td>industrial</td>\n      <td>5.604110</td>\n      <td>2.824705</td>\n      <td>0.944083</td>\n      <td>698090257</td>\n      <td>1900-01-01 16:28:00</td>\n      <td>0</td>\n      <td>1</td>\n      <td>1</td>\n      <td>MULTIPOLYGON (((56.15937 58.00912, 56.15972 58...</td>\n      <td>0</td>\n      <td>3</td>\n    </tr>\n    <tr>\n      <th>3</th>\n      <td>3</td>\n      <td>1884</td>\n      <td>industrial</td>\n      <td>industrial</td>\n      <td>5.604110</td>\n      <td>2.824705</td>\n      <td>0.944083</td>\n      <td>698090257</td>\n      <td>1900-01-01 09:14:00</td>\n      <td>2</td>\n      <td>0</td>\n      <td>0</td>\n      <td>MULTIPOLYGON (((56.15937 58.00912, 56.15972 58...</td>\n      <td>0</td>\n      <td>3</td>\n    </tr>\n    <tr>\n      <th>4</th>\n      <td>4</td>\n      <td>1884</td>\n      <td>industrial</td>\n      <td>industrial</td>\n      <td>5.604110</td>\n      <td>2.824705</td>\n      <td>0.944083</td>\n      <td>698090257</td>\n      <td>1900-01-01 14:42:00</td>\n      <td>0</td>\n      <td>0</td>\n      <td>1</td>\n      <td>MULTIPOLYGON (((56.15937 58.00912, 56.15972 58...</td>\n      <td>0</td>\n      <td>3</td>\n    </tr>\n    <tr>\n      <th>...</th>\n      <td>...</td>\n      <td>...</td>\n      <td>...</td>\n      <td>...</td>\n      <td>...</td>\n      <td>...</td>\n      <td>...</td>\n      <td>...</td>\n      <td>...</td>\n      <td>...</td>\n      <td>...</td>\n      <td>...</td>\n      <td>...</td>\n      <td>...</td>\n      <td>...</td>\n    </tr>\n    <tr>\n      <th>1560</th>\n      <td>1560</td>\n      <td>209</td>\n      <td>service</td>\n      <td>industrial</td>\n      <td>5.036346</td>\n      <td>2.504850</td>\n      <td>0.056708</td>\n      <td>1103860108</td>\n      <td>1900-01-01 15:16:00</td>\n      <td>0</td>\n      <td>0</td>\n      <td>1</td>\n      <td>MULTIPOLYGON (((56.16704 58.04032, 56.16847 58...</td>\n      <td>2</td>\n      <td>3</td>\n    </tr>\n    <tr>\n      <th>1561</th>\n      <td>1561</td>\n      <td>209</td>\n      <td>service</td>\n      <td>industrial</td>\n      <td>5.036346</td>\n      <td>2.504850</td>\n      <td>0.056708</td>\n      <td>1103860108</td>\n      <td>1900-01-01 10:19:00</td>\n      <td>0</td>\n      <td>1</td>\n      <td>0</td>\n      <td>MULTIPOLYGON (((56.16704 58.04032, 56.16847 58...</td>\n      <td>2</td>\n      <td>3</td>\n    </tr>\n    <tr>\n      <th>1562</th>\n      <td>1562</td>\n      <td>209</td>\n      <td>service</td>\n      <td>industrial</td>\n      <td>5.036346</td>\n      <td>2.504850</td>\n      <td>0.056708</td>\n      <td>1103860108</td>\n      <td>1900-01-01 11:40:00</td>\n      <td>0</td>\n      <td>1</td>\n      <td>1</td>\n      <td>MULTIPOLYGON (((56.16704 58.04032, 56.16847 58...</td>\n      <td>2</td>\n      <td>3</td>\n    </tr>\n    <tr>\n      <th>1563</th>\n      <td>1563</td>\n      <td>943</td>\n      <td>industrial</td>\n      <td>industrial</td>\n      <td>4.979759</td>\n      <td>2.434761</td>\n      <td>0.801968</td>\n      <td>1136615387</td>\n      <td>1900-01-01 09:48:00</td>\n      <td>0</td>\n      <td>0</td>\n      <td>0</td>\n      <td>MULTIPOLYGON (((56.13883 58.01975, 56.13898 58...</td>\n      <td>0</td>\n      <td>3</td>\n    </tr>\n    <tr>\n      <th>1564</th>\n      <td>1564</td>\n      <td>294</td>\n      <td>service</td>\n      <td>industrial</td>\n      <td>4.802194</td>\n      <td>2.488054</td>\n      <td>0.106638</td>\n      <td>1147236714</td>\n      <td>1900-01-01 10:19:00</td>\n      <td>0</td>\n      <td>0</td>\n      <td>0</td>\n      <td>MULTIPOLYGON (((56.17449 57.91414, 56.17469 57...</td>\n      <td>2</td>\n      <td>3</td>\n    </tr>\n  </tbody>\n</table>\n<p>1565 rows × 15 columns</p>\n</div>"
     },
     "execution_count": 79,
     "metadata": {},
     "output_type": "execute_result"
    }
   ],
   "source": [
    "custom_order = ['low_density', 'residential', 'commercial', 'industrial']\n",
    "synthetic_tours_data['landuse_numeric'] = pd.Categorical(synthetic_tours_data['landuse'], categories=custom_order, ordered=True).codes\n",
    "synthetic_tours_data"
   ],
   "metadata": {
    "collapsed": false,
    "ExecuteTime": {
     "end_time": "2024-01-19T15:25:01.669047400Z",
     "start_time": "2024-01-19T15:25:01.543574Z"
    }
   },
   "id": "b1fd5977473259e3"
  },
  {
   "cell_type": "code",
   "execution_count": 92,
   "outputs": [],
   "source": [
    "synthetic_tours_data.to_file('data/purpose_time_synthetic.geojson', driver='GeoJSON')"
   ],
   "metadata": {
    "collapsed": false,
    "ExecuteTime": {
     "end_time": "2024-01-19T15:44:29.495170700Z",
     "start_time": "2024-01-19T15:44:28.122978600Z"
    }
   },
   "id": "b97022a6d40ae8f9"
  },
  {
   "cell_type": "code",
   "execution_count": 3,
   "outputs": [],
   "source": [
    "from sklearn.linear_model import LogisticRegression"
   ],
   "metadata": {
    "collapsed": false,
    "ExecuteTime": {
     "end_time": "2024-01-19T16:10:15.991683700Z",
     "start_time": "2024-01-19T16:10:05.189338900Z"
    }
   },
   "id": "946c5a76ad913378"
  },
  {
   "cell_type": "code",
   "execution_count": 6,
   "outputs": [],
   "source": [
    "synthetic_tours_data = gpd.read_file(\"C:/Users/sm_pa/OneDrive/Рабочий стол/НИР3/perm_freight_modelling/data/purpose_time_synthetic.geojson\")"
   ],
   "metadata": {
    "collapsed": false,
    "ExecuteTime": {
     "end_time": "2024-01-19T16:15:28.244213300Z",
     "start_time": "2024-01-19T16:15:25.282893600Z"
    }
   },
   "id": "b551226a59710087"
  },
  {
   "cell_type": "code",
   "execution_count": 8,
   "outputs": [
    {
     "data": {
      "text/plain": "LogisticRegression()",
      "text/html": "<style>#sk-container-id-1 {\n  /* Definition of color scheme common for light and dark mode */\n  --sklearn-color-text: black;\n  --sklearn-color-line: gray;\n  /* Definition of color scheme for unfitted estimators */\n  --sklearn-color-unfitted-level-0: #fff5e6;\n  --sklearn-color-unfitted-level-1: #f6e4d2;\n  --sklearn-color-unfitted-level-2: #ffe0b3;\n  --sklearn-color-unfitted-level-3: chocolate;\n  /* Definition of color scheme for fitted estimators */\n  --sklearn-color-fitted-level-0: #f0f8ff;\n  --sklearn-color-fitted-level-1: #d4ebff;\n  --sklearn-color-fitted-level-2: #b3dbfd;\n  --sklearn-color-fitted-level-3: cornflowerblue;\n\n  /* Specific color for light theme */\n  --sklearn-color-text-on-default-background: var(--sg-text-color, var(--theme-code-foreground, var(--jp-content-font-color1, black)));\n  --sklearn-color-background: var(--sg-background-color, var(--theme-background, var(--jp-layout-color0, white)));\n  --sklearn-color-border-box: var(--sg-text-color, var(--theme-code-foreground, var(--jp-content-font-color1, black)));\n  --sklearn-color-icon: #696969;\n\n  @media (prefers-color-scheme: dark) {\n    /* Redefinition of color scheme for dark theme */\n    --sklearn-color-text-on-default-background: var(--sg-text-color, var(--theme-code-foreground, var(--jp-content-font-color1, white)));\n    --sklearn-color-background: var(--sg-background-color, var(--theme-background, var(--jp-layout-color0, #111)));\n    --sklearn-color-border-box: var(--sg-text-color, var(--theme-code-foreground, var(--jp-content-font-color1, white)));\n    --sklearn-color-icon: #878787;\n  }\n}\n\n#sk-container-id-1 {\n  color: var(--sklearn-color-text);\n}\n\n#sk-container-id-1 pre {\n  padding: 0;\n}\n\n#sk-container-id-1 input.sk-hidden--visually {\n  border: 0;\n  clip: rect(1px 1px 1px 1px);\n  clip: rect(1px, 1px, 1px, 1px);\n  height: 1px;\n  margin: -1px;\n  overflow: hidden;\n  padding: 0;\n  position: absolute;\n  width: 1px;\n}\n\n#sk-container-id-1 div.sk-dashed-wrapped {\n  border: 1px dashed var(--sklearn-color-line);\n  margin: 0 0.4em 0.5em 0.4em;\n  box-sizing: border-box;\n  padding-bottom: 0.4em;\n  background-color: var(--sklearn-color-background);\n}\n\n#sk-container-id-1 div.sk-container {\n  /* jupyter's `normalize.less` sets `[hidden] { display: none; }`\n     but bootstrap.min.css set `[hidden] { display: none !important; }`\n     so we also need the `!important` here to be able to override the\n     default hidden behavior on the sphinx rendered scikit-learn.org.\n     See: https://github.com/scikit-learn/scikit-learn/issues/21755 */\n  display: inline-block !important;\n  position: relative;\n}\n\n#sk-container-id-1 div.sk-text-repr-fallback {\n  display: none;\n}\n\ndiv.sk-parallel-item,\ndiv.sk-serial,\ndiv.sk-item {\n  /* draw centered vertical line to link estimators */\n  background-image: linear-gradient(var(--sklearn-color-text-on-default-background), var(--sklearn-color-text-on-default-background));\n  background-size: 2px 100%;\n  background-repeat: no-repeat;\n  background-position: center center;\n}\n\n/* Parallel-specific style estimator block */\n\n#sk-container-id-1 div.sk-parallel-item::after {\n  content: \"\";\n  width: 100%;\n  border-bottom: 2px solid var(--sklearn-color-text-on-default-background);\n  flex-grow: 1;\n}\n\n#sk-container-id-1 div.sk-parallel {\n  display: flex;\n  align-items: stretch;\n  justify-content: center;\n  background-color: var(--sklearn-color-background);\n  position: relative;\n}\n\n#sk-container-id-1 div.sk-parallel-item {\n  display: flex;\n  flex-direction: column;\n}\n\n#sk-container-id-1 div.sk-parallel-item:first-child::after {\n  align-self: flex-end;\n  width: 50%;\n}\n\n#sk-container-id-1 div.sk-parallel-item:last-child::after {\n  align-self: flex-start;\n  width: 50%;\n}\n\n#sk-container-id-1 div.sk-parallel-item:only-child::after {\n  width: 0;\n}\n\n/* Serial-specific style estimator block */\n\n#sk-container-id-1 div.sk-serial {\n  display: flex;\n  flex-direction: column;\n  align-items: center;\n  background-color: var(--sklearn-color-background);\n  padding-right: 1em;\n  padding-left: 1em;\n}\n\n\n/* Toggleable style: style used for estimator/Pipeline/ColumnTransformer box that is\nclickable and can be expanded/collapsed.\n- Pipeline and ColumnTransformer use this feature and define the default style\n- Estimators will overwrite some part of the style using the `sk-estimator` class\n*/\n\n/* Pipeline and ColumnTransformer style (default) */\n\n#sk-container-id-1 div.sk-toggleable {\n  /* Default theme specific background. It is overwritten whether we have a\n  specific estimator or a Pipeline/ColumnTransformer */\n  background-color: var(--sklearn-color-background);\n}\n\n/* Toggleable label */\n#sk-container-id-1 label.sk-toggleable__label {\n  cursor: pointer;\n  display: block;\n  width: 100%;\n  margin-bottom: 0;\n  padding: 0.5em;\n  box-sizing: border-box;\n  text-align: center;\n}\n\n#sk-container-id-1 label.sk-toggleable__label-arrow:before {\n  /* Arrow on the left of the label */\n  content: \"▸\";\n  float: left;\n  margin-right: 0.25em;\n  color: var(--sklearn-color-icon);\n}\n\n#sk-container-id-1 label.sk-toggleable__label-arrow:hover:before {\n  color: var(--sklearn-color-text);\n}\n\n/* Toggleable content - dropdown */\n\n#sk-container-id-1 div.sk-toggleable__content {\n  max-height: 0;\n  max-width: 0;\n  overflow: hidden;\n  text-align: left;\n  /* unfitted */\n  background-color: var(--sklearn-color-unfitted-level-0);\n}\n\n#sk-container-id-1 div.sk-toggleable__content.fitted {\n  /* fitted */\n  background-color: var(--sklearn-color-fitted-level-0);\n}\n\n#sk-container-id-1 div.sk-toggleable__content pre {\n  margin: 0.2em;\n  border-radius: 0.25em;\n  color: var(--sklearn-color-text);\n  /* unfitted */\n  background-color: var(--sklearn-color-unfitted-level-0);\n}\n\n#sk-container-id-1 div.sk-toggleable__content.fitted pre {\n  /* unfitted */\n  background-color: var(--sklearn-color-fitted-level-0);\n}\n\n#sk-container-id-1 input.sk-toggleable__control:checked~div.sk-toggleable__content {\n  /* Expand drop-down */\n  max-height: 200px;\n  max-width: 100%;\n  overflow: auto;\n}\n\n#sk-container-id-1 input.sk-toggleable__control:checked~label.sk-toggleable__label-arrow:before {\n  content: \"▾\";\n}\n\n/* Pipeline/ColumnTransformer-specific style */\n\n#sk-container-id-1 div.sk-label input.sk-toggleable__control:checked~label.sk-toggleable__label {\n  color: var(--sklearn-color-text);\n  background-color: var(--sklearn-color-unfitted-level-2);\n}\n\n#sk-container-id-1 div.sk-label.fitted input.sk-toggleable__control:checked~label.sk-toggleable__label {\n  background-color: var(--sklearn-color-fitted-level-2);\n}\n\n/* Estimator-specific style */\n\n/* Colorize estimator box */\n#sk-container-id-1 div.sk-estimator input.sk-toggleable__control:checked~label.sk-toggleable__label {\n  /* unfitted */\n  background-color: var(--sklearn-color-unfitted-level-2);\n}\n\n#sk-container-id-1 div.sk-estimator.fitted input.sk-toggleable__control:checked~label.sk-toggleable__label {\n  /* fitted */\n  background-color: var(--sklearn-color-fitted-level-2);\n}\n\n#sk-container-id-1 div.sk-label label.sk-toggleable__label,\n#sk-container-id-1 div.sk-label label {\n  /* The background is the default theme color */\n  color: var(--sklearn-color-text-on-default-background);\n}\n\n/* On hover, darken the color of the background */\n#sk-container-id-1 div.sk-label:hover label.sk-toggleable__label {\n  color: var(--sklearn-color-text);\n  background-color: var(--sklearn-color-unfitted-level-2);\n}\n\n/* Label box, darken color on hover, fitted */\n#sk-container-id-1 div.sk-label.fitted:hover label.sk-toggleable__label.fitted {\n  color: var(--sklearn-color-text);\n  background-color: var(--sklearn-color-fitted-level-2);\n}\n\n/* Estimator label */\n\n#sk-container-id-1 div.sk-label label {\n  font-family: monospace;\n  font-weight: bold;\n  display: inline-block;\n  line-height: 1.2em;\n}\n\n#sk-container-id-1 div.sk-label-container {\n  text-align: center;\n}\n\n/* Estimator-specific */\n#sk-container-id-1 div.sk-estimator {\n  font-family: monospace;\n  border: 1px dotted var(--sklearn-color-border-box);\n  border-radius: 0.25em;\n  box-sizing: border-box;\n  margin-bottom: 0.5em;\n  /* unfitted */\n  background-color: var(--sklearn-color-unfitted-level-0);\n}\n\n#sk-container-id-1 div.sk-estimator.fitted {\n  /* fitted */\n  background-color: var(--sklearn-color-fitted-level-0);\n}\n\n/* on hover */\n#sk-container-id-1 div.sk-estimator:hover {\n  /* unfitted */\n  background-color: var(--sklearn-color-unfitted-level-2);\n}\n\n#sk-container-id-1 div.sk-estimator.fitted:hover {\n  /* fitted */\n  background-color: var(--sklearn-color-fitted-level-2);\n}\n\n/* Specification for estimator info (e.g. \"i\" and \"?\") */\n\n/* Common style for \"i\" and \"?\" */\n\n.sk-estimator-doc-link,\na:link.sk-estimator-doc-link,\na:visited.sk-estimator-doc-link {\n  float: right;\n  font-size: smaller;\n  line-height: 1em;\n  font-family: monospace;\n  background-color: var(--sklearn-color-background);\n  border-radius: 1em;\n  height: 1em;\n  width: 1em;\n  text-decoration: none !important;\n  margin-left: 1ex;\n  /* unfitted */\n  border: var(--sklearn-color-unfitted-level-1) 1pt solid;\n  color: var(--sklearn-color-unfitted-level-1);\n}\n\n.sk-estimator-doc-link.fitted,\na:link.sk-estimator-doc-link.fitted,\na:visited.sk-estimator-doc-link.fitted {\n  /* fitted */\n  border: var(--sklearn-color-fitted-level-1) 1pt solid;\n  color: var(--sklearn-color-fitted-level-1);\n}\n\n/* On hover */\ndiv.sk-estimator:hover .sk-estimator-doc-link:hover,\n.sk-estimator-doc-link:hover,\ndiv.sk-label-container:hover .sk-estimator-doc-link:hover,\n.sk-estimator-doc-link:hover {\n  /* unfitted */\n  background-color: var(--sklearn-color-unfitted-level-3);\n  color: var(--sklearn-color-background);\n  text-decoration: none;\n}\n\ndiv.sk-estimator.fitted:hover .sk-estimator-doc-link.fitted:hover,\n.sk-estimator-doc-link.fitted:hover,\ndiv.sk-label-container:hover .sk-estimator-doc-link.fitted:hover,\n.sk-estimator-doc-link.fitted:hover {\n  /* fitted */\n  background-color: var(--sklearn-color-fitted-level-3);\n  color: var(--sklearn-color-background);\n  text-decoration: none;\n}\n\n/* Span, style for the box shown on hovering the info icon */\n.sk-estimator-doc-link span {\n  display: none;\n  z-index: 9999;\n  position: relative;\n  font-weight: normal;\n  right: .2ex;\n  padding: .5ex;\n  margin: .5ex;\n  width: min-content;\n  min-width: 20ex;\n  max-width: 50ex;\n  color: var(--sklearn-color-text);\n  box-shadow: 2pt 2pt 4pt #999;\n  /* unfitted */\n  background: var(--sklearn-color-unfitted-level-0);\n  border: .5pt solid var(--sklearn-color-unfitted-level-3);\n}\n\n.sk-estimator-doc-link.fitted span {\n  /* fitted */\n  background: var(--sklearn-color-fitted-level-0);\n  border: var(--sklearn-color-fitted-level-3);\n}\n\n.sk-estimator-doc-link:hover span {\n  display: block;\n}\n\n/* \"?\"-specific style due to the `<a>` HTML tag */\n\n#sk-container-id-1 a.estimator_doc_link {\n  float: right;\n  font-size: 1rem;\n  line-height: 1em;\n  font-family: monospace;\n  background-color: var(--sklearn-color-background);\n  border-radius: 1rem;\n  height: 1rem;\n  width: 1rem;\n  text-decoration: none;\n  /* unfitted */\n  color: var(--sklearn-color-unfitted-level-1);\n  border: var(--sklearn-color-unfitted-level-1) 1pt solid;\n}\n\n#sk-container-id-1 a.estimator_doc_link.fitted {\n  /* fitted */\n  border: var(--sklearn-color-fitted-level-1) 1pt solid;\n  color: var(--sklearn-color-fitted-level-1);\n}\n\n/* On hover */\n#sk-container-id-1 a.estimator_doc_link:hover {\n  /* unfitted */\n  background-color: var(--sklearn-color-unfitted-level-3);\n  color: var(--sklearn-color-background);\n  text-decoration: none;\n}\n\n#sk-container-id-1 a.estimator_doc_link.fitted:hover {\n  /* fitted */\n  background-color: var(--sklearn-color-fitted-level-3);\n}\n</style><div id=\"sk-container-id-1\" class=\"sk-top-container\"><div class=\"sk-text-repr-fallback\"><pre>LogisticRegression()</pre><b>In a Jupyter environment, please rerun this cell to show the HTML representation or trust the notebook. <br />On GitHub, the HTML representation is unable to render, please try loading this page with nbviewer.org.</b></div><div class=\"sk-container\" hidden><div class=\"sk-item\"><div class=\"sk-estimator fitted sk-toggleable\"><input class=\"sk-toggleable__control sk-hidden--visually\" id=\"sk-estimator-id-1\" type=\"checkbox\" checked><label for=\"sk-estimator-id-1\" class=\"sk-toggleable__label fitted sk-toggleable__label-arrow fitted\">&nbsp;&nbsp;LogisticRegression<a class=\"sk-estimator-doc-link fitted\" rel=\"noreferrer\" target=\"_blank\" href=\"https://scikit-learn.org/1.4/modules/generated/sklearn.linear_model.LogisticRegression.html\">?<span>Documentation for LogisticRegression</span></a><span class=\"sk-estimator-doc-link fitted\">i<span>Fitted</span></span></label><div class=\"sk-toggleable__content fitted\"><pre>LogisticRegression()</pre></div> </div></div></div></div>"
     },
     "execution_count": 8,
     "metadata": {},
     "output_type": "execute_result"
    }
   ],
   "source": [
    "# Выделение признаков и целевой переменной из tours_data\n",
    "X_train = synthetic_tours_data[['employment_share', 'landuse_numeric', 'workers_availability']]\n",
    "y_train = synthetic_tours_data['time_of_day']\n",
    "\n",
    "# Создание и обучение модели\n",
    "logit_model = LogisticRegression()\n",
    "logit_model.fit(X_train, y_train)"
   ],
   "metadata": {
    "collapsed": false,
    "ExecuteTime": {
     "end_time": "2024-01-19T16:16:27.372521300Z",
     "start_time": "2024-01-19T16:16:27.278272Z"
    }
   },
   "id": "36592dec390d23ff"
  },
  {
   "cell_type": "code",
   "execution_count": 10,
   "outputs": [
    {
     "data": {
      "text/plain": "       zone_id      landuse  industrial    retail   service  \\\n0            6  low_density    0.932489  0.067511  0.000000   \n1            6  low_density    0.932489  0.067511  0.000000   \n2            6  low_density    0.932489  0.067511  0.000000   \n3            6  low_density    0.932489  0.067511  0.000000   \n4            6  low_density    0.932489  0.067511  0.000000   \n...        ...          ...         ...       ...       ...   \n17504     3000  low_density    0.274725  0.000000  0.725275   \n17505     3000  low_density    0.274725  0.000000  0.725275   \n17506     3000  low_density    0.274725  0.000000  0.725275   \n17507     3000  low_density    0.274725  0.000000  0.725275   \n17508     3000  low_density    0.274725  0.000000  0.725275   \n\n       population_availability  workers_availability  landuse_numeric  \\\n0                     4.892252              2.386894                0   \n1                     4.892252              2.386894                0   \n2                     4.892252              2.386894                0   \n3                     4.892252              2.386894                0   \n4                     4.892252              2.386894                0   \n...                        ...                   ...              ...   \n17504                 5.342491              2.495559                0   \n17505                 5.342491              2.495559                0   \n17506                 5.342491              2.495559                0   \n17507                 5.342491              2.495559                0   \n17508                 5.342491              2.495559                0   \n\n         industry  employment_share  industry_numeric  \\\n0      industrial          0.932489                 0   \n1      industrial          0.932489                 0   \n2      industrial          0.932489                 0   \n3      industrial          0.932489                 0   \n4      industrial          0.932489                 0   \n...           ...               ...               ...   \n17504     service          0.725275                 2   \n17505     service          0.725275                 2   \n17506     service          0.725275                 2   \n17507     service          0.725275                 2   \n17508     service          0.725275                 2   \n\n                                                geometry  \n0      POLYGON ((56.34129 58.02780, 56.34127 58.02781...  \n1      POLYGON ((56.34129 58.02780, 56.34127 58.02781...  \n2      POLYGON ((56.34129 58.02780, 56.34127 58.02781...  \n3      POLYGON ((56.34129 58.02780, 56.34127 58.02781...  \n4      POLYGON ((56.34129 58.02780, 56.34127 58.02781...  \n...                                                  ...  \n17504  POLYGON ((56.31847 58.03896, 56.31846 58.03897...  \n17505  POLYGON ((56.31847 58.03896, 56.31846 58.03897...  \n17506  POLYGON ((56.31847 58.03896, 56.31846 58.03897...  \n17507  POLYGON ((56.31847 58.03896, 56.31846 58.03897...  \n17508  POLYGON ((56.31847 58.03896, 56.31846 58.03897...  \n\n[17509 rows x 12 columns]",
      "text/html": "<div>\n<style scoped>\n    .dataframe tbody tr th:only-of-type {\n        vertical-align: middle;\n    }\n\n    .dataframe tbody tr th {\n        vertical-align: top;\n    }\n\n    .dataframe thead th {\n        text-align: right;\n    }\n</style>\n<table border=\"1\" class=\"dataframe\">\n  <thead>\n    <tr style=\"text-align: right;\">\n      <th></th>\n      <th>zone_id</th>\n      <th>landuse</th>\n      <th>industrial</th>\n      <th>retail</th>\n      <th>service</th>\n      <th>population_availability</th>\n      <th>workers_availability</th>\n      <th>landuse_numeric</th>\n      <th>industry</th>\n      <th>employment_share</th>\n      <th>industry_numeric</th>\n      <th>geometry</th>\n    </tr>\n  </thead>\n  <tbody>\n    <tr>\n      <th>0</th>\n      <td>6</td>\n      <td>low_density</td>\n      <td>0.932489</td>\n      <td>0.067511</td>\n      <td>0.000000</td>\n      <td>4.892252</td>\n      <td>2.386894</td>\n      <td>0</td>\n      <td>industrial</td>\n      <td>0.932489</td>\n      <td>0</td>\n      <td>POLYGON ((56.34129 58.02780, 56.34127 58.02781...</td>\n    </tr>\n    <tr>\n      <th>1</th>\n      <td>6</td>\n      <td>low_density</td>\n      <td>0.932489</td>\n      <td>0.067511</td>\n      <td>0.000000</td>\n      <td>4.892252</td>\n      <td>2.386894</td>\n      <td>0</td>\n      <td>industrial</td>\n      <td>0.932489</td>\n      <td>0</td>\n      <td>POLYGON ((56.34129 58.02780, 56.34127 58.02781...</td>\n    </tr>\n    <tr>\n      <th>2</th>\n      <td>6</td>\n      <td>low_density</td>\n      <td>0.932489</td>\n      <td>0.067511</td>\n      <td>0.000000</td>\n      <td>4.892252</td>\n      <td>2.386894</td>\n      <td>0</td>\n      <td>industrial</td>\n      <td>0.932489</td>\n      <td>0</td>\n      <td>POLYGON ((56.34129 58.02780, 56.34127 58.02781...</td>\n    </tr>\n    <tr>\n      <th>3</th>\n      <td>6</td>\n      <td>low_density</td>\n      <td>0.932489</td>\n      <td>0.067511</td>\n      <td>0.000000</td>\n      <td>4.892252</td>\n      <td>2.386894</td>\n      <td>0</td>\n      <td>industrial</td>\n      <td>0.932489</td>\n      <td>0</td>\n      <td>POLYGON ((56.34129 58.02780, 56.34127 58.02781...</td>\n    </tr>\n    <tr>\n      <th>4</th>\n      <td>6</td>\n      <td>low_density</td>\n      <td>0.932489</td>\n      <td>0.067511</td>\n      <td>0.000000</td>\n      <td>4.892252</td>\n      <td>2.386894</td>\n      <td>0</td>\n      <td>industrial</td>\n      <td>0.932489</td>\n      <td>0</td>\n      <td>POLYGON ((56.34129 58.02780, 56.34127 58.02781...</td>\n    </tr>\n    <tr>\n      <th>...</th>\n      <td>...</td>\n      <td>...</td>\n      <td>...</td>\n      <td>...</td>\n      <td>...</td>\n      <td>...</td>\n      <td>...</td>\n      <td>...</td>\n      <td>...</td>\n      <td>...</td>\n      <td>...</td>\n      <td>...</td>\n    </tr>\n    <tr>\n      <th>17504</th>\n      <td>3000</td>\n      <td>low_density</td>\n      <td>0.274725</td>\n      <td>0.000000</td>\n      <td>0.725275</td>\n      <td>5.342491</td>\n      <td>2.495559</td>\n      <td>0</td>\n      <td>service</td>\n      <td>0.725275</td>\n      <td>2</td>\n      <td>POLYGON ((56.31847 58.03896, 56.31846 58.03897...</td>\n    </tr>\n    <tr>\n      <th>17505</th>\n      <td>3000</td>\n      <td>low_density</td>\n      <td>0.274725</td>\n      <td>0.000000</td>\n      <td>0.725275</td>\n      <td>5.342491</td>\n      <td>2.495559</td>\n      <td>0</td>\n      <td>service</td>\n      <td>0.725275</td>\n      <td>2</td>\n      <td>POLYGON ((56.31847 58.03896, 56.31846 58.03897...</td>\n    </tr>\n    <tr>\n      <th>17506</th>\n      <td>3000</td>\n      <td>low_density</td>\n      <td>0.274725</td>\n      <td>0.000000</td>\n      <td>0.725275</td>\n      <td>5.342491</td>\n      <td>2.495559</td>\n      <td>0</td>\n      <td>service</td>\n      <td>0.725275</td>\n      <td>2</td>\n      <td>POLYGON ((56.31847 58.03896, 56.31846 58.03897...</td>\n    </tr>\n    <tr>\n      <th>17507</th>\n      <td>3000</td>\n      <td>low_density</td>\n      <td>0.274725</td>\n      <td>0.000000</td>\n      <td>0.725275</td>\n      <td>5.342491</td>\n      <td>2.495559</td>\n      <td>0</td>\n      <td>service</td>\n      <td>0.725275</td>\n      <td>2</td>\n      <td>POLYGON ((56.31847 58.03896, 56.31846 58.03897...</td>\n    </tr>\n    <tr>\n      <th>17508</th>\n      <td>3000</td>\n      <td>low_density</td>\n      <td>0.274725</td>\n      <td>0.000000</td>\n      <td>0.725275</td>\n      <td>5.342491</td>\n      <td>2.495559</td>\n      <td>0</td>\n      <td>service</td>\n      <td>0.725275</td>\n      <td>2</td>\n      <td>POLYGON ((56.31847 58.03896, 56.31846 58.03897...</td>\n    </tr>\n  </tbody>\n</table>\n<p>17509 rows × 12 columns</p>\n</div>"
     },
     "execution_count": 10,
     "metadata": {},
     "output_type": "execute_result"
    }
   ],
   "source": [
    "generated_tours_data = gpd.read_file(\"C:/Users/sm_pa/OneDrive/Рабочий стол/НИР3/perm_freight_modelling/data/step1_tour_list.geojson\")\n",
    "generated_tours_data"
   ],
   "metadata": {
    "collapsed": false,
    "ExecuteTime": {
     "end_time": "2024-01-19T16:26:02.974650200Z",
     "start_time": "2024-01-19T16:23:17.759178100Z"
    }
   },
   "id": "2c40e6216de6847"
  },
  {
   "cell_type": "code",
   "execution_count": 11,
   "outputs": [
    {
     "name": "stdout",
     "output_type": "stream",
     "text": [
      "Предсказанные значения: [[0.31313962 0.6719018  0.01495858]\n",
      " [0.31313962 0.6719018  0.01495858]\n",
      " [0.31313962 0.6719018  0.01495858]\n",
      " ...\n",
      " [0.32340531 0.66270969 0.013885  ]\n",
      " [0.32340531 0.66270969 0.013885  ]\n",
      " [0.32340531 0.66270969 0.013885  ]]\n"
     ]
    }
   ],
   "source": [
    "X_test = generated_tours_data[['employment_share', 'landuse_numeric', 'workers_availability']]\n",
    "\n",
    "predictions = logit_model.predict_proba(X_test)\n",
    "\n",
    "print(\"Предсказанные значения:\", predictions)"
   ],
   "metadata": {
    "collapsed": false,
    "ExecuteTime": {
     "end_time": "2024-01-19T16:27:34.748772Z",
     "start_time": "2024-01-19T16:27:34.647729500Z"
    }
   },
   "id": "b7f4b9ec044eec7f"
  },
  {
   "cell_type": "code",
   "execution_count": 13,
   "outputs": [],
   "source": [
    "def choose_time_of_day(probabilities):\n",
    "    num_tours = len(probabilities)\n",
    "    time_of_day_options = [0, 1, 2]\n",
    "\n",
    "    # Выбираем время суток для каждого тура\n",
    "    chosen_times = np.array([np.random.choice(time_of_day_options, p=prob) for prob in probabilities])\n",
    "\n",
    "    return chosen_times"
   ],
   "metadata": {
    "collapsed": false,
    "ExecuteTime": {
     "end_time": "2024-01-19T17:47:33.719875800Z",
     "start_time": "2024-01-19T17:47:33.582449500Z"
    }
   },
   "id": "bc66008f5fcf6ce9"
  },
  {
   "cell_type": "code",
   "execution_count": 14,
   "outputs": [
    {
     "data": {
      "text/plain": "       zone_id      landuse  industrial    retail   service  \\\n0            6  low_density    0.932489  0.067511  0.000000   \n1            6  low_density    0.932489  0.067511  0.000000   \n2            6  low_density    0.932489  0.067511  0.000000   \n3            6  low_density    0.932489  0.067511  0.000000   \n4            6  low_density    0.932489  0.067511  0.000000   \n...        ...          ...         ...       ...       ...   \n17504     3000  low_density    0.274725  0.000000  0.725275   \n17505     3000  low_density    0.274725  0.000000  0.725275   \n17506     3000  low_density    0.274725  0.000000  0.725275   \n17507     3000  low_density    0.274725  0.000000  0.725275   \n17508     3000  low_density    0.274725  0.000000  0.725275   \n\n       population_availability  workers_availability  landuse_numeric  \\\n0                     4.892252              2.386894                0   \n1                     4.892252              2.386894                0   \n2                     4.892252              2.386894                0   \n3                     4.892252              2.386894                0   \n4                     4.892252              2.386894                0   \n...                        ...                   ...              ...   \n17504                 5.342491              2.495559                0   \n17505                 5.342491              2.495559                0   \n17506                 5.342491              2.495559                0   \n17507                 5.342491              2.495559                0   \n17508                 5.342491              2.495559                0   \n\n         industry  employment_share  industry_numeric  \\\n0      industrial          0.932489                 0   \n1      industrial          0.932489                 0   \n2      industrial          0.932489                 0   \n3      industrial          0.932489                 0   \n4      industrial          0.932489                 0   \n...           ...               ...               ...   \n17504     service          0.725275                 2   \n17505     service          0.725275                 2   \n17506     service          0.725275                 2   \n17507     service          0.725275                 2   \n17508     service          0.725275                 2   \n\n                                                geometry  time_of_day  \n0      POLYGON ((56.34129 58.02780, 56.34127 58.02781...            1  \n1      POLYGON ((56.34129 58.02780, 56.34127 58.02781...            1  \n2      POLYGON ((56.34129 58.02780, 56.34127 58.02781...            0  \n3      POLYGON ((56.34129 58.02780, 56.34127 58.02781...            0  \n4      POLYGON ((56.34129 58.02780, 56.34127 58.02781...            1  \n...                                                  ...          ...  \n17504  POLYGON ((56.31847 58.03896, 56.31846 58.03897...            1  \n17505  POLYGON ((56.31847 58.03896, 56.31846 58.03897...            1  \n17506  POLYGON ((56.31847 58.03896, 56.31846 58.03897...            1  \n17507  POLYGON ((56.31847 58.03896, 56.31846 58.03897...            1  \n17508  POLYGON ((56.31847 58.03896, 56.31846 58.03897...            1  \n\n[17509 rows x 13 columns]",
      "text/html": "<div>\n<style scoped>\n    .dataframe tbody tr th:only-of-type {\n        vertical-align: middle;\n    }\n\n    .dataframe tbody tr th {\n        vertical-align: top;\n    }\n\n    .dataframe thead th {\n        text-align: right;\n    }\n</style>\n<table border=\"1\" class=\"dataframe\">\n  <thead>\n    <tr style=\"text-align: right;\">\n      <th></th>\n      <th>zone_id</th>\n      <th>landuse</th>\n      <th>industrial</th>\n      <th>retail</th>\n      <th>service</th>\n      <th>population_availability</th>\n      <th>workers_availability</th>\n      <th>landuse_numeric</th>\n      <th>industry</th>\n      <th>employment_share</th>\n      <th>industry_numeric</th>\n      <th>geometry</th>\n      <th>time_of_day</th>\n    </tr>\n  </thead>\n  <tbody>\n    <tr>\n      <th>0</th>\n      <td>6</td>\n      <td>low_density</td>\n      <td>0.932489</td>\n      <td>0.067511</td>\n      <td>0.000000</td>\n      <td>4.892252</td>\n      <td>2.386894</td>\n      <td>0</td>\n      <td>industrial</td>\n      <td>0.932489</td>\n      <td>0</td>\n      <td>POLYGON ((56.34129 58.02780, 56.34127 58.02781...</td>\n      <td>1</td>\n    </tr>\n    <tr>\n      <th>1</th>\n      <td>6</td>\n      <td>low_density</td>\n      <td>0.932489</td>\n      <td>0.067511</td>\n      <td>0.000000</td>\n      <td>4.892252</td>\n      <td>2.386894</td>\n      <td>0</td>\n      <td>industrial</td>\n      <td>0.932489</td>\n      <td>0</td>\n      <td>POLYGON ((56.34129 58.02780, 56.34127 58.02781...</td>\n      <td>1</td>\n    </tr>\n    <tr>\n      <th>2</th>\n      <td>6</td>\n      <td>low_density</td>\n      <td>0.932489</td>\n      <td>0.067511</td>\n      <td>0.000000</td>\n      <td>4.892252</td>\n      <td>2.386894</td>\n      <td>0</td>\n      <td>industrial</td>\n      <td>0.932489</td>\n      <td>0</td>\n      <td>POLYGON ((56.34129 58.02780, 56.34127 58.02781...</td>\n      <td>0</td>\n    </tr>\n    <tr>\n      <th>3</th>\n      <td>6</td>\n      <td>low_density</td>\n      <td>0.932489</td>\n      <td>0.067511</td>\n      <td>0.000000</td>\n      <td>4.892252</td>\n      <td>2.386894</td>\n      <td>0</td>\n      <td>industrial</td>\n      <td>0.932489</td>\n      <td>0</td>\n      <td>POLYGON ((56.34129 58.02780, 56.34127 58.02781...</td>\n      <td>0</td>\n    </tr>\n    <tr>\n      <th>4</th>\n      <td>6</td>\n      <td>low_density</td>\n      <td>0.932489</td>\n      <td>0.067511</td>\n      <td>0.000000</td>\n      <td>4.892252</td>\n      <td>2.386894</td>\n      <td>0</td>\n      <td>industrial</td>\n      <td>0.932489</td>\n      <td>0</td>\n      <td>POLYGON ((56.34129 58.02780, 56.34127 58.02781...</td>\n      <td>1</td>\n    </tr>\n    <tr>\n      <th>...</th>\n      <td>...</td>\n      <td>...</td>\n      <td>...</td>\n      <td>...</td>\n      <td>...</td>\n      <td>...</td>\n      <td>...</td>\n      <td>...</td>\n      <td>...</td>\n      <td>...</td>\n      <td>...</td>\n      <td>...</td>\n      <td>...</td>\n    </tr>\n    <tr>\n      <th>17504</th>\n      <td>3000</td>\n      <td>low_density</td>\n      <td>0.274725</td>\n      <td>0.000000</td>\n      <td>0.725275</td>\n      <td>5.342491</td>\n      <td>2.495559</td>\n      <td>0</td>\n      <td>service</td>\n      <td>0.725275</td>\n      <td>2</td>\n      <td>POLYGON ((56.31847 58.03896, 56.31846 58.03897...</td>\n      <td>1</td>\n    </tr>\n    <tr>\n      <th>17505</th>\n      <td>3000</td>\n      <td>low_density</td>\n      <td>0.274725</td>\n      <td>0.000000</td>\n      <td>0.725275</td>\n      <td>5.342491</td>\n      <td>2.495559</td>\n      <td>0</td>\n      <td>service</td>\n      <td>0.725275</td>\n      <td>2</td>\n      <td>POLYGON ((56.31847 58.03896, 56.31846 58.03897...</td>\n      <td>1</td>\n    </tr>\n    <tr>\n      <th>17506</th>\n      <td>3000</td>\n      <td>low_density</td>\n      <td>0.274725</td>\n      <td>0.000000</td>\n      <td>0.725275</td>\n      <td>5.342491</td>\n      <td>2.495559</td>\n      <td>0</td>\n      <td>service</td>\n      <td>0.725275</td>\n      <td>2</td>\n      <td>POLYGON ((56.31847 58.03896, 56.31846 58.03897...</td>\n      <td>1</td>\n    </tr>\n    <tr>\n      <th>17507</th>\n      <td>3000</td>\n      <td>low_density</td>\n      <td>0.274725</td>\n      <td>0.000000</td>\n      <td>0.725275</td>\n      <td>5.342491</td>\n      <td>2.495559</td>\n      <td>0</td>\n      <td>service</td>\n      <td>0.725275</td>\n      <td>2</td>\n      <td>POLYGON ((56.31847 58.03896, 56.31846 58.03897...</td>\n      <td>1</td>\n    </tr>\n    <tr>\n      <th>17508</th>\n      <td>3000</td>\n      <td>low_density</td>\n      <td>0.274725</td>\n      <td>0.000000</td>\n      <td>0.725275</td>\n      <td>5.342491</td>\n      <td>2.495559</td>\n      <td>0</td>\n      <td>service</td>\n      <td>0.725275</td>\n      <td>2</td>\n      <td>POLYGON ((56.31847 58.03896, 56.31846 58.03897...</td>\n      <td>1</td>\n    </tr>\n  </tbody>\n</table>\n<p>17509 rows × 13 columns</p>\n</div>"
     },
     "execution_count": 14,
     "metadata": {},
     "output_type": "execute_result"
    }
   ],
   "source": [
    "chosen_times = choose_time_of_day(predictions)\n",
    "\n",
    "# Добавляем выбранные времена суток к данным о турах\n",
    "generated_tours_data['time_of_day'] = chosen_times\n",
    "\n",
    "generated_tours_data"
   ],
   "metadata": {
    "collapsed": false,
    "ExecuteTime": {
     "end_time": "2024-01-19T17:48:42.018747700Z",
     "start_time": "2024-01-19T17:48:40.839521500Z"
    }
   },
   "id": "de0f40d294352030"
  },
  {
   "cell_type": "code",
   "execution_count": 21,
   "outputs": [],
   "source": [
    "generated_tours_data.to_file('data/step2_tours.geojson', driver='GeoJSON')"
   ],
   "metadata": {
    "collapsed": false,
    "ExecuteTime": {
     "end_time": "2024-01-19T18:20:25.216524500Z",
     "start_time": "2024-01-19T18:18:34.246261Z"
    }
   },
   "id": "b8eb0b8a6923e4bb"
  },
  {
   "cell_type": "markdown",
   "source": [
    "3 шаг метода: генерация цели тура и типа ТС при помощи полиномальной логистической регрессии"
   ],
   "metadata": {
    "collapsed": false
   },
   "id": "4169ea7f3eacd2fe"
  },
  {
   "cell_type": "code",
   "execution_count": 16,
   "outputs": [
    {
     "data": {
      "text/plain": "        id  block_id    industry      landuse  population_availability  \\\n0        0       324  industrial  residential                 6.314141   \n1        1       324  industrial  residential                 6.314141   \n2        2      1884  industrial   industrial                 5.604110   \n3        3      1884  industrial   industrial                 5.604110   \n4        4      1884  industrial   industrial                 5.604110   \n...    ...       ...         ...          ...                      ...   \n1560  1560       209     service   industrial                 5.036346   \n1561  1561       209     service   industrial                 5.036346   \n1562  1562       209     service   industrial                 5.036346   \n1563  1563       943  industrial   industrial                 4.979759   \n1564  1564       294     service   industrial                 4.802194   \n\n      workers_availability  employment_share  company_id      departure_time  \\\n0                 2.824434          0.865545   206819075 1900-01-01 15:38:00   \n1                 2.824434          0.865545   206819075 1900-01-01 10:51:00   \n2                 2.824705          0.944083   698090257 1900-01-01 16:28:00   \n3                 2.824705          0.944083   698090257 1900-01-01 09:14:00   \n4                 2.824705          0.944083   698090257 1900-01-01 14:42:00   \n...                    ...               ...         ...                 ...   \n1560              2.504850          0.056708  1103860108 1900-01-01 15:16:00   \n1561              2.504850          0.056708  1103860108 1900-01-01 10:19:00   \n1562              2.504850          0.056708  1103860108 1900-01-01 11:40:00   \n1563              2.434761          0.801968  1136615387 1900-01-01 09:48:00   \n1564              2.488054          0.106638  1147236714 1900-01-01 10:19:00   \n\n      vehicle_type  tour_purpose  time_of_day  industry_numeric  \\\n0                1             0            1                 0   \n1                2             0            0                 0   \n2                0             1            1                 0   \n3                2             0            0                 0   \n4                0             0            1                 0   \n...            ...           ...          ...               ...   \n1560             0             0            1                 2   \n1561             0             1            0                 2   \n1562             0             1            1                 2   \n1563             0             0            0                 0   \n1564             0             0            0                 2   \n\n      landuse_numeric                                           geometry  \n0                   1  MULTIPOLYGON (((56.24348 57.97681, 56.24351 57...  \n1                   1  MULTIPOLYGON (((56.24348 57.97681, 56.24351 57...  \n2                   3  MULTIPOLYGON (((56.15937 58.00912, 56.15972 58...  \n3                   3  MULTIPOLYGON (((56.15937 58.00912, 56.15972 58...  \n4                   3  MULTIPOLYGON (((56.15937 58.00912, 56.15972 58...  \n...               ...                                                ...  \n1560                3  MULTIPOLYGON (((56.16704 58.04032, 56.16847 58...  \n1561                3  MULTIPOLYGON (((56.16704 58.04032, 56.16847 58...  \n1562                3  MULTIPOLYGON (((56.16704 58.04032, 56.16847 58...  \n1563                3  MULTIPOLYGON (((56.13883 58.01975, 56.13898 58...  \n1564                3  MULTIPOLYGON (((56.17449 57.91414, 56.17469 57...  \n\n[1565 rows x 15 columns]",
      "text/html": "<div>\n<style scoped>\n    .dataframe tbody tr th:only-of-type {\n        vertical-align: middle;\n    }\n\n    .dataframe tbody tr th {\n        vertical-align: top;\n    }\n\n    .dataframe thead th {\n        text-align: right;\n    }\n</style>\n<table border=\"1\" class=\"dataframe\">\n  <thead>\n    <tr style=\"text-align: right;\">\n      <th></th>\n      <th>id</th>\n      <th>block_id</th>\n      <th>industry</th>\n      <th>landuse</th>\n      <th>population_availability</th>\n      <th>workers_availability</th>\n      <th>employment_share</th>\n      <th>company_id</th>\n      <th>departure_time</th>\n      <th>vehicle_type</th>\n      <th>tour_purpose</th>\n      <th>time_of_day</th>\n      <th>industry_numeric</th>\n      <th>landuse_numeric</th>\n      <th>geometry</th>\n    </tr>\n  </thead>\n  <tbody>\n    <tr>\n      <th>0</th>\n      <td>0</td>\n      <td>324</td>\n      <td>industrial</td>\n      <td>residential</td>\n      <td>6.314141</td>\n      <td>2.824434</td>\n      <td>0.865545</td>\n      <td>206819075</td>\n      <td>1900-01-01 15:38:00</td>\n      <td>1</td>\n      <td>0</td>\n      <td>1</td>\n      <td>0</td>\n      <td>1</td>\n      <td>MULTIPOLYGON (((56.24348 57.97681, 56.24351 57...</td>\n    </tr>\n    <tr>\n      <th>1</th>\n      <td>1</td>\n      <td>324</td>\n      <td>industrial</td>\n      <td>residential</td>\n      <td>6.314141</td>\n      <td>2.824434</td>\n      <td>0.865545</td>\n      <td>206819075</td>\n      <td>1900-01-01 10:51:00</td>\n      <td>2</td>\n      <td>0</td>\n      <td>0</td>\n      <td>0</td>\n      <td>1</td>\n      <td>MULTIPOLYGON (((56.24348 57.97681, 56.24351 57...</td>\n    </tr>\n    <tr>\n      <th>2</th>\n      <td>2</td>\n      <td>1884</td>\n      <td>industrial</td>\n      <td>industrial</td>\n      <td>5.604110</td>\n      <td>2.824705</td>\n      <td>0.944083</td>\n      <td>698090257</td>\n      <td>1900-01-01 16:28:00</td>\n      <td>0</td>\n      <td>1</td>\n      <td>1</td>\n      <td>0</td>\n      <td>3</td>\n      <td>MULTIPOLYGON (((56.15937 58.00912, 56.15972 58...</td>\n    </tr>\n    <tr>\n      <th>3</th>\n      <td>3</td>\n      <td>1884</td>\n      <td>industrial</td>\n      <td>industrial</td>\n      <td>5.604110</td>\n      <td>2.824705</td>\n      <td>0.944083</td>\n      <td>698090257</td>\n      <td>1900-01-01 09:14:00</td>\n      <td>2</td>\n      <td>0</td>\n      <td>0</td>\n      <td>0</td>\n      <td>3</td>\n      <td>MULTIPOLYGON (((56.15937 58.00912, 56.15972 58...</td>\n    </tr>\n    <tr>\n      <th>4</th>\n      <td>4</td>\n      <td>1884</td>\n      <td>industrial</td>\n      <td>industrial</td>\n      <td>5.604110</td>\n      <td>2.824705</td>\n      <td>0.944083</td>\n      <td>698090257</td>\n      <td>1900-01-01 14:42:00</td>\n      <td>0</td>\n      <td>0</td>\n      <td>1</td>\n      <td>0</td>\n      <td>3</td>\n      <td>MULTIPOLYGON (((56.15937 58.00912, 56.15972 58...</td>\n    </tr>\n    <tr>\n      <th>...</th>\n      <td>...</td>\n      <td>...</td>\n      <td>...</td>\n      <td>...</td>\n      <td>...</td>\n      <td>...</td>\n      <td>...</td>\n      <td>...</td>\n      <td>...</td>\n      <td>...</td>\n      <td>...</td>\n      <td>...</td>\n      <td>...</td>\n      <td>...</td>\n      <td>...</td>\n    </tr>\n    <tr>\n      <th>1560</th>\n      <td>1560</td>\n      <td>209</td>\n      <td>service</td>\n      <td>industrial</td>\n      <td>5.036346</td>\n      <td>2.504850</td>\n      <td>0.056708</td>\n      <td>1103860108</td>\n      <td>1900-01-01 15:16:00</td>\n      <td>0</td>\n      <td>0</td>\n      <td>1</td>\n      <td>2</td>\n      <td>3</td>\n      <td>MULTIPOLYGON (((56.16704 58.04032, 56.16847 58...</td>\n    </tr>\n    <tr>\n      <th>1561</th>\n      <td>1561</td>\n      <td>209</td>\n      <td>service</td>\n      <td>industrial</td>\n      <td>5.036346</td>\n      <td>2.504850</td>\n      <td>0.056708</td>\n      <td>1103860108</td>\n      <td>1900-01-01 10:19:00</td>\n      <td>0</td>\n      <td>1</td>\n      <td>0</td>\n      <td>2</td>\n      <td>3</td>\n      <td>MULTIPOLYGON (((56.16704 58.04032, 56.16847 58...</td>\n    </tr>\n    <tr>\n      <th>1562</th>\n      <td>1562</td>\n      <td>209</td>\n      <td>service</td>\n      <td>industrial</td>\n      <td>5.036346</td>\n      <td>2.504850</td>\n      <td>0.056708</td>\n      <td>1103860108</td>\n      <td>1900-01-01 11:40:00</td>\n      <td>0</td>\n      <td>1</td>\n      <td>1</td>\n      <td>2</td>\n      <td>3</td>\n      <td>MULTIPOLYGON (((56.16704 58.04032, 56.16847 58...</td>\n    </tr>\n    <tr>\n      <th>1563</th>\n      <td>1563</td>\n      <td>943</td>\n      <td>industrial</td>\n      <td>industrial</td>\n      <td>4.979759</td>\n      <td>2.434761</td>\n      <td>0.801968</td>\n      <td>1136615387</td>\n      <td>1900-01-01 09:48:00</td>\n      <td>0</td>\n      <td>0</td>\n      <td>0</td>\n      <td>0</td>\n      <td>3</td>\n      <td>MULTIPOLYGON (((56.13883 58.01975, 56.13898 58...</td>\n    </tr>\n    <tr>\n      <th>1564</th>\n      <td>1564</td>\n      <td>294</td>\n      <td>service</td>\n      <td>industrial</td>\n      <td>4.802194</td>\n      <td>2.488054</td>\n      <td>0.106638</td>\n      <td>1147236714</td>\n      <td>1900-01-01 10:19:00</td>\n      <td>0</td>\n      <td>0</td>\n      <td>0</td>\n      <td>2</td>\n      <td>3</td>\n      <td>MULTIPOLYGON (((56.17449 57.91414, 56.17469 57...</td>\n    </tr>\n  </tbody>\n</table>\n<p>1565 rows × 15 columns</p>\n</div>"
     },
     "execution_count": 16,
     "metadata": {},
     "output_type": "execute_result"
    }
   ],
   "source": [
    "synthetic_tours_data = gpd.read_file(\"C:/Users/sm_pa/OneDrive/Рабочий стол/НИР3/perm_freight_modelling/data/purpose_time_synthetic.geojson\")\n",
    "synthetic_tours_data"
   ],
   "metadata": {
    "collapsed": false,
    "ExecuteTime": {
     "end_time": "2024-01-19T18:02:10.589599200Z",
     "start_time": "2024-01-19T18:02:08.275230Z"
    }
   },
   "id": "73f187aa70405491"
  },
  {
   "cell_type": "code",
   "execution_count": 17,
   "outputs": [
    {
     "data": {
      "text/plain": "        id  block_id    industry      landuse  population_availability  \\\n0        0       324  industrial  residential                 6.314141   \n1        1       324  industrial  residential                 6.314141   \n2        2      1884  industrial   industrial                 5.604110   \n3        3      1884  industrial   industrial                 5.604110   \n4        4      1884  industrial   industrial                 5.604110   \n...    ...       ...         ...          ...                      ...   \n1560  1560       209     service   industrial                 5.036346   \n1561  1561       209     service   industrial                 5.036346   \n1562  1562       209     service   industrial                 5.036346   \n1563  1563       943  industrial   industrial                 4.979759   \n1564  1564       294     service   industrial                 4.802194   \n\n      workers_availability  employment_share  company_id      departure_time  \\\n0                 2.824434          0.865545   206819075 1900-01-01 15:38:00   \n1                 2.824434          0.865545   206819075 1900-01-01 10:51:00   \n2                 2.824705          0.944083   698090257 1900-01-01 16:28:00   \n3                 2.824705          0.944083   698090257 1900-01-01 09:14:00   \n4                 2.824705          0.944083   698090257 1900-01-01 14:42:00   \n...                    ...               ...         ...                 ...   \n1560              2.504850          0.056708  1103860108 1900-01-01 15:16:00   \n1561              2.504850          0.056708  1103860108 1900-01-01 10:19:00   \n1562              2.504850          0.056708  1103860108 1900-01-01 11:40:00   \n1563              2.434761          0.801968  1136615387 1900-01-01 09:48:00   \n1564              2.488054          0.106638  1147236714 1900-01-01 10:19:00   \n\n      vehicle_type  tour_purpose  time_of_day  industry_numeric  \\\n0                1             0            1                 0   \n1                2             0            0                 0   \n2                0             1            1                 0   \n3                2             0            0                 0   \n4                0             0            1                 0   \n...            ...           ...          ...               ...   \n1560             0             0            1                 2   \n1561             0             1            0                 2   \n1562             0             1            1                 2   \n1563             0             0            0                 0   \n1564             0             0            0                 2   \n\n      landuse_numeric                                           geometry  \\\n0                   1  MULTIPOLYGON (((56.24348 57.97681, 56.24351 57...   \n1                   1  MULTIPOLYGON (((56.24348 57.97681, 56.24351 57...   \n2                   3  MULTIPOLYGON (((56.15937 58.00912, 56.15972 58...   \n3                   3  MULTIPOLYGON (((56.15937 58.00912, 56.15972 58...   \n4                   3  MULTIPOLYGON (((56.15937 58.00912, 56.15972 58...   \n...               ...                                                ...   \n1560                3  MULTIPOLYGON (((56.16704 58.04032, 56.16847 58...   \n1561                3  MULTIPOLYGON (((56.16704 58.04032, 56.16847 58...   \n1562                3  MULTIPOLYGON (((56.16704 58.04032, 56.16847 58...   \n1563                3  MULTIPOLYGON (((56.13883 58.01975, 56.13898 58...   \n1564                3  MULTIPOLYGON (((56.17449 57.91414, 56.17469 57...   \n\n      vehicle_purpose  \n0                   3  \n1                   6  \n2                   1  \n3                   6  \n4                   0  \n...               ...  \n1560                0  \n1561                1  \n1562                1  \n1563                0  \n1564                0  \n\n[1565 rows x 16 columns]",
      "text/html": "<div>\n<style scoped>\n    .dataframe tbody tr th:only-of-type {\n        vertical-align: middle;\n    }\n\n    .dataframe tbody tr th {\n        vertical-align: top;\n    }\n\n    .dataframe thead th {\n        text-align: right;\n    }\n</style>\n<table border=\"1\" class=\"dataframe\">\n  <thead>\n    <tr style=\"text-align: right;\">\n      <th></th>\n      <th>id</th>\n      <th>block_id</th>\n      <th>industry</th>\n      <th>landuse</th>\n      <th>population_availability</th>\n      <th>workers_availability</th>\n      <th>employment_share</th>\n      <th>company_id</th>\n      <th>departure_time</th>\n      <th>vehicle_type</th>\n      <th>tour_purpose</th>\n      <th>time_of_day</th>\n      <th>industry_numeric</th>\n      <th>landuse_numeric</th>\n      <th>geometry</th>\n      <th>vehicle_purpose</th>\n    </tr>\n  </thead>\n  <tbody>\n    <tr>\n      <th>0</th>\n      <td>0</td>\n      <td>324</td>\n      <td>industrial</td>\n      <td>residential</td>\n      <td>6.314141</td>\n      <td>2.824434</td>\n      <td>0.865545</td>\n      <td>206819075</td>\n      <td>1900-01-01 15:38:00</td>\n      <td>1</td>\n      <td>0</td>\n      <td>1</td>\n      <td>0</td>\n      <td>1</td>\n      <td>MULTIPOLYGON (((56.24348 57.97681, 56.24351 57...</td>\n      <td>3</td>\n    </tr>\n    <tr>\n      <th>1</th>\n      <td>1</td>\n      <td>324</td>\n      <td>industrial</td>\n      <td>residential</td>\n      <td>6.314141</td>\n      <td>2.824434</td>\n      <td>0.865545</td>\n      <td>206819075</td>\n      <td>1900-01-01 10:51:00</td>\n      <td>2</td>\n      <td>0</td>\n      <td>0</td>\n      <td>0</td>\n      <td>1</td>\n      <td>MULTIPOLYGON (((56.24348 57.97681, 56.24351 57...</td>\n      <td>6</td>\n    </tr>\n    <tr>\n      <th>2</th>\n      <td>2</td>\n      <td>1884</td>\n      <td>industrial</td>\n      <td>industrial</td>\n      <td>5.604110</td>\n      <td>2.824705</td>\n      <td>0.944083</td>\n      <td>698090257</td>\n      <td>1900-01-01 16:28:00</td>\n      <td>0</td>\n      <td>1</td>\n      <td>1</td>\n      <td>0</td>\n      <td>3</td>\n      <td>MULTIPOLYGON (((56.15937 58.00912, 56.15972 58...</td>\n      <td>1</td>\n    </tr>\n    <tr>\n      <th>3</th>\n      <td>3</td>\n      <td>1884</td>\n      <td>industrial</td>\n      <td>industrial</td>\n      <td>5.604110</td>\n      <td>2.824705</td>\n      <td>0.944083</td>\n      <td>698090257</td>\n      <td>1900-01-01 09:14:00</td>\n      <td>2</td>\n      <td>0</td>\n      <td>0</td>\n      <td>0</td>\n      <td>3</td>\n      <td>MULTIPOLYGON (((56.15937 58.00912, 56.15972 58...</td>\n      <td>6</td>\n    </tr>\n    <tr>\n      <th>4</th>\n      <td>4</td>\n      <td>1884</td>\n      <td>industrial</td>\n      <td>industrial</td>\n      <td>5.604110</td>\n      <td>2.824705</td>\n      <td>0.944083</td>\n      <td>698090257</td>\n      <td>1900-01-01 14:42:00</td>\n      <td>0</td>\n      <td>0</td>\n      <td>1</td>\n      <td>0</td>\n      <td>3</td>\n      <td>MULTIPOLYGON (((56.15937 58.00912, 56.15972 58...</td>\n      <td>0</td>\n    </tr>\n    <tr>\n      <th>...</th>\n      <td>...</td>\n      <td>...</td>\n      <td>...</td>\n      <td>...</td>\n      <td>...</td>\n      <td>...</td>\n      <td>...</td>\n      <td>...</td>\n      <td>...</td>\n      <td>...</td>\n      <td>...</td>\n      <td>...</td>\n      <td>...</td>\n      <td>...</td>\n      <td>...</td>\n      <td>...</td>\n    </tr>\n    <tr>\n      <th>1560</th>\n      <td>1560</td>\n      <td>209</td>\n      <td>service</td>\n      <td>industrial</td>\n      <td>5.036346</td>\n      <td>2.504850</td>\n      <td>0.056708</td>\n      <td>1103860108</td>\n      <td>1900-01-01 15:16:00</td>\n      <td>0</td>\n      <td>0</td>\n      <td>1</td>\n      <td>2</td>\n      <td>3</td>\n      <td>MULTIPOLYGON (((56.16704 58.04032, 56.16847 58...</td>\n      <td>0</td>\n    </tr>\n    <tr>\n      <th>1561</th>\n      <td>1561</td>\n      <td>209</td>\n      <td>service</td>\n      <td>industrial</td>\n      <td>5.036346</td>\n      <td>2.504850</td>\n      <td>0.056708</td>\n      <td>1103860108</td>\n      <td>1900-01-01 10:19:00</td>\n      <td>0</td>\n      <td>1</td>\n      <td>0</td>\n      <td>2</td>\n      <td>3</td>\n      <td>MULTIPOLYGON (((56.16704 58.04032, 56.16847 58...</td>\n      <td>1</td>\n    </tr>\n    <tr>\n      <th>1562</th>\n      <td>1562</td>\n      <td>209</td>\n      <td>service</td>\n      <td>industrial</td>\n      <td>5.036346</td>\n      <td>2.504850</td>\n      <td>0.056708</td>\n      <td>1103860108</td>\n      <td>1900-01-01 11:40:00</td>\n      <td>0</td>\n      <td>1</td>\n      <td>1</td>\n      <td>2</td>\n      <td>3</td>\n      <td>MULTIPOLYGON (((56.16704 58.04032, 56.16847 58...</td>\n      <td>1</td>\n    </tr>\n    <tr>\n      <th>1563</th>\n      <td>1563</td>\n      <td>943</td>\n      <td>industrial</td>\n      <td>industrial</td>\n      <td>4.979759</td>\n      <td>2.434761</td>\n      <td>0.801968</td>\n      <td>1136615387</td>\n      <td>1900-01-01 09:48:00</td>\n      <td>0</td>\n      <td>0</td>\n      <td>0</td>\n      <td>0</td>\n      <td>3</td>\n      <td>MULTIPOLYGON (((56.13883 58.01975, 56.13898 58...</td>\n      <td>0</td>\n    </tr>\n    <tr>\n      <th>1564</th>\n      <td>1564</td>\n      <td>294</td>\n      <td>service</td>\n      <td>industrial</td>\n      <td>4.802194</td>\n      <td>2.488054</td>\n      <td>0.106638</td>\n      <td>1147236714</td>\n      <td>1900-01-01 10:19:00</td>\n      <td>0</td>\n      <td>0</td>\n      <td>0</td>\n      <td>2</td>\n      <td>3</td>\n      <td>MULTIPOLYGON (((56.17449 57.91414, 56.17469 57...</td>\n      <td>0</td>\n    </tr>\n  </tbody>\n</table>\n<p>1565 rows × 16 columns</p>\n</div>"
     },
     "execution_count": 17,
     "metadata": {},
     "output_type": "execute_result"
    }
   ],
   "source": [
    "synthetic_tours_data['vehicle_purpose'] = synthetic_tours_data['vehicle_type'] * 3 + synthetic_tours_data['tour_purpose']\n",
    "synthetic_tours_data"
   ],
   "metadata": {
    "collapsed": false,
    "ExecuteTime": {
     "end_time": "2024-01-19T18:12:40.936217Z",
     "start_time": "2024-01-19T18:12:40.857588Z"
    }
   },
   "id": "e1a1daead61d69d"
  },
  {
   "cell_type": "code",
   "execution_count": 18,
   "outputs": [],
   "source": [
    "synthetic_tours_data.to_file('data/purpose_time_synthetic1.geojson', driver='GeoJSON')"
   ],
   "metadata": {
    "collapsed": false,
    "ExecuteTime": {
     "end_time": "2024-01-19T18:15:44.862123600Z",
     "start_time": "2024-01-19T18:15:44.019276800Z"
    }
   },
   "id": "6fc0c2ed5dae9fd1"
  },
  {
   "cell_type": "code",
   "execution_count": 20,
   "outputs": [
    {
     "name": "stderr",
     "output_type": "stream",
     "text": [
      "C:\\Users\\sm_pa\\AppData\\Local\\Programs\\Python\\Python39\\lib\\site-packages\\sklearn\\linear_model\\_logistic.py:469: ConvergenceWarning: lbfgs failed to converge (status=1):\n",
      "STOP: TOTAL NO. of ITERATIONS REACHED LIMIT.\n",
      "\n",
      "Increase the number of iterations (max_iter) or scale the data as shown in:\n",
      "    https://scikit-learn.org/stable/modules/preprocessing.html\n",
      "Please also refer to the documentation for alternative solver options:\n",
      "    https://scikit-learn.org/stable/modules/linear_model.html#logistic-regression\n",
      "  n_iter_i = _check_optimize_result(\n"
     ]
    },
    {
     "data": {
      "text/plain": "LogisticRegression()",
      "text/html": "<style>#sk-container-id-2 {\n  /* Definition of color scheme common for light and dark mode */\n  --sklearn-color-text: black;\n  --sklearn-color-line: gray;\n  /* Definition of color scheme for unfitted estimators */\n  --sklearn-color-unfitted-level-0: #fff5e6;\n  --sklearn-color-unfitted-level-1: #f6e4d2;\n  --sklearn-color-unfitted-level-2: #ffe0b3;\n  --sklearn-color-unfitted-level-3: chocolate;\n  /* Definition of color scheme for fitted estimators */\n  --sklearn-color-fitted-level-0: #f0f8ff;\n  --sklearn-color-fitted-level-1: #d4ebff;\n  --sklearn-color-fitted-level-2: #b3dbfd;\n  --sklearn-color-fitted-level-3: cornflowerblue;\n\n  /* Specific color for light theme */\n  --sklearn-color-text-on-default-background: var(--sg-text-color, var(--theme-code-foreground, var(--jp-content-font-color1, black)));\n  --sklearn-color-background: var(--sg-background-color, var(--theme-background, var(--jp-layout-color0, white)));\n  --sklearn-color-border-box: var(--sg-text-color, var(--theme-code-foreground, var(--jp-content-font-color1, black)));\n  --sklearn-color-icon: #696969;\n\n  @media (prefers-color-scheme: dark) {\n    /* Redefinition of color scheme for dark theme */\n    --sklearn-color-text-on-default-background: var(--sg-text-color, var(--theme-code-foreground, var(--jp-content-font-color1, white)));\n    --sklearn-color-background: var(--sg-background-color, var(--theme-background, var(--jp-layout-color0, #111)));\n    --sklearn-color-border-box: var(--sg-text-color, var(--theme-code-foreground, var(--jp-content-font-color1, white)));\n    --sklearn-color-icon: #878787;\n  }\n}\n\n#sk-container-id-2 {\n  color: var(--sklearn-color-text);\n}\n\n#sk-container-id-2 pre {\n  padding: 0;\n}\n\n#sk-container-id-2 input.sk-hidden--visually {\n  border: 0;\n  clip: rect(1px 1px 1px 1px);\n  clip: rect(1px, 1px, 1px, 1px);\n  height: 1px;\n  margin: -1px;\n  overflow: hidden;\n  padding: 0;\n  position: absolute;\n  width: 1px;\n}\n\n#sk-container-id-2 div.sk-dashed-wrapped {\n  border: 1px dashed var(--sklearn-color-line);\n  margin: 0 0.4em 0.5em 0.4em;\n  box-sizing: border-box;\n  padding-bottom: 0.4em;\n  background-color: var(--sklearn-color-background);\n}\n\n#sk-container-id-2 div.sk-container {\n  /* jupyter's `normalize.less` sets `[hidden] { display: none; }`\n     but bootstrap.min.css set `[hidden] { display: none !important; }`\n     so we also need the `!important` here to be able to override the\n     default hidden behavior on the sphinx rendered scikit-learn.org.\n     See: https://github.com/scikit-learn/scikit-learn/issues/21755 */\n  display: inline-block !important;\n  position: relative;\n}\n\n#sk-container-id-2 div.sk-text-repr-fallback {\n  display: none;\n}\n\ndiv.sk-parallel-item,\ndiv.sk-serial,\ndiv.sk-item {\n  /* draw centered vertical line to link estimators */\n  background-image: linear-gradient(var(--sklearn-color-text-on-default-background), var(--sklearn-color-text-on-default-background));\n  background-size: 2px 100%;\n  background-repeat: no-repeat;\n  background-position: center center;\n}\n\n/* Parallel-specific style estimator block */\n\n#sk-container-id-2 div.sk-parallel-item::after {\n  content: \"\";\n  width: 100%;\n  border-bottom: 2px solid var(--sklearn-color-text-on-default-background);\n  flex-grow: 1;\n}\n\n#sk-container-id-2 div.sk-parallel {\n  display: flex;\n  align-items: stretch;\n  justify-content: center;\n  background-color: var(--sklearn-color-background);\n  position: relative;\n}\n\n#sk-container-id-2 div.sk-parallel-item {\n  display: flex;\n  flex-direction: column;\n}\n\n#sk-container-id-2 div.sk-parallel-item:first-child::after {\n  align-self: flex-end;\n  width: 50%;\n}\n\n#sk-container-id-2 div.sk-parallel-item:last-child::after {\n  align-self: flex-start;\n  width: 50%;\n}\n\n#sk-container-id-2 div.sk-parallel-item:only-child::after {\n  width: 0;\n}\n\n/* Serial-specific style estimator block */\n\n#sk-container-id-2 div.sk-serial {\n  display: flex;\n  flex-direction: column;\n  align-items: center;\n  background-color: var(--sklearn-color-background);\n  padding-right: 1em;\n  padding-left: 1em;\n}\n\n\n/* Toggleable style: style used for estimator/Pipeline/ColumnTransformer box that is\nclickable and can be expanded/collapsed.\n- Pipeline and ColumnTransformer use this feature and define the default style\n- Estimators will overwrite some part of the style using the `sk-estimator` class\n*/\n\n/* Pipeline and ColumnTransformer style (default) */\n\n#sk-container-id-2 div.sk-toggleable {\n  /* Default theme specific background. It is overwritten whether we have a\n  specific estimator or a Pipeline/ColumnTransformer */\n  background-color: var(--sklearn-color-background);\n}\n\n/* Toggleable label */\n#sk-container-id-2 label.sk-toggleable__label {\n  cursor: pointer;\n  display: block;\n  width: 100%;\n  margin-bottom: 0;\n  padding: 0.5em;\n  box-sizing: border-box;\n  text-align: center;\n}\n\n#sk-container-id-2 label.sk-toggleable__label-arrow:before {\n  /* Arrow on the left of the label */\n  content: \"▸\";\n  float: left;\n  margin-right: 0.25em;\n  color: var(--sklearn-color-icon);\n}\n\n#sk-container-id-2 label.sk-toggleable__label-arrow:hover:before {\n  color: var(--sklearn-color-text);\n}\n\n/* Toggleable content - dropdown */\n\n#sk-container-id-2 div.sk-toggleable__content {\n  max-height: 0;\n  max-width: 0;\n  overflow: hidden;\n  text-align: left;\n  /* unfitted */\n  background-color: var(--sklearn-color-unfitted-level-0);\n}\n\n#sk-container-id-2 div.sk-toggleable__content.fitted {\n  /* fitted */\n  background-color: var(--sklearn-color-fitted-level-0);\n}\n\n#sk-container-id-2 div.sk-toggleable__content pre {\n  margin: 0.2em;\n  border-radius: 0.25em;\n  color: var(--sklearn-color-text);\n  /* unfitted */\n  background-color: var(--sklearn-color-unfitted-level-0);\n}\n\n#sk-container-id-2 div.sk-toggleable__content.fitted pre {\n  /* unfitted */\n  background-color: var(--sklearn-color-fitted-level-0);\n}\n\n#sk-container-id-2 input.sk-toggleable__control:checked~div.sk-toggleable__content {\n  /* Expand drop-down */\n  max-height: 200px;\n  max-width: 100%;\n  overflow: auto;\n}\n\n#sk-container-id-2 input.sk-toggleable__control:checked~label.sk-toggleable__label-arrow:before {\n  content: \"▾\";\n}\n\n/* Pipeline/ColumnTransformer-specific style */\n\n#sk-container-id-2 div.sk-label input.sk-toggleable__control:checked~label.sk-toggleable__label {\n  color: var(--sklearn-color-text);\n  background-color: var(--sklearn-color-unfitted-level-2);\n}\n\n#sk-container-id-2 div.sk-label.fitted input.sk-toggleable__control:checked~label.sk-toggleable__label {\n  background-color: var(--sklearn-color-fitted-level-2);\n}\n\n/* Estimator-specific style */\n\n/* Colorize estimator box */\n#sk-container-id-2 div.sk-estimator input.sk-toggleable__control:checked~label.sk-toggleable__label {\n  /* unfitted */\n  background-color: var(--sklearn-color-unfitted-level-2);\n}\n\n#sk-container-id-2 div.sk-estimator.fitted input.sk-toggleable__control:checked~label.sk-toggleable__label {\n  /* fitted */\n  background-color: var(--sklearn-color-fitted-level-2);\n}\n\n#sk-container-id-2 div.sk-label label.sk-toggleable__label,\n#sk-container-id-2 div.sk-label label {\n  /* The background is the default theme color */\n  color: var(--sklearn-color-text-on-default-background);\n}\n\n/* On hover, darken the color of the background */\n#sk-container-id-2 div.sk-label:hover label.sk-toggleable__label {\n  color: var(--sklearn-color-text);\n  background-color: var(--sklearn-color-unfitted-level-2);\n}\n\n/* Label box, darken color on hover, fitted */\n#sk-container-id-2 div.sk-label.fitted:hover label.sk-toggleable__label.fitted {\n  color: var(--sklearn-color-text);\n  background-color: var(--sklearn-color-fitted-level-2);\n}\n\n/* Estimator label */\n\n#sk-container-id-2 div.sk-label label {\n  font-family: monospace;\n  font-weight: bold;\n  display: inline-block;\n  line-height: 1.2em;\n}\n\n#sk-container-id-2 div.sk-label-container {\n  text-align: center;\n}\n\n/* Estimator-specific */\n#sk-container-id-2 div.sk-estimator {\n  font-family: monospace;\n  border: 1px dotted var(--sklearn-color-border-box);\n  border-radius: 0.25em;\n  box-sizing: border-box;\n  margin-bottom: 0.5em;\n  /* unfitted */\n  background-color: var(--sklearn-color-unfitted-level-0);\n}\n\n#sk-container-id-2 div.sk-estimator.fitted {\n  /* fitted */\n  background-color: var(--sklearn-color-fitted-level-0);\n}\n\n/* on hover */\n#sk-container-id-2 div.sk-estimator:hover {\n  /* unfitted */\n  background-color: var(--sklearn-color-unfitted-level-2);\n}\n\n#sk-container-id-2 div.sk-estimator.fitted:hover {\n  /* fitted */\n  background-color: var(--sklearn-color-fitted-level-2);\n}\n\n/* Specification for estimator info (e.g. \"i\" and \"?\") */\n\n/* Common style for \"i\" and \"?\" */\n\n.sk-estimator-doc-link,\na:link.sk-estimator-doc-link,\na:visited.sk-estimator-doc-link {\n  float: right;\n  font-size: smaller;\n  line-height: 1em;\n  font-family: monospace;\n  background-color: var(--sklearn-color-background);\n  border-radius: 1em;\n  height: 1em;\n  width: 1em;\n  text-decoration: none !important;\n  margin-left: 1ex;\n  /* unfitted */\n  border: var(--sklearn-color-unfitted-level-1) 1pt solid;\n  color: var(--sklearn-color-unfitted-level-1);\n}\n\n.sk-estimator-doc-link.fitted,\na:link.sk-estimator-doc-link.fitted,\na:visited.sk-estimator-doc-link.fitted {\n  /* fitted */\n  border: var(--sklearn-color-fitted-level-1) 1pt solid;\n  color: var(--sklearn-color-fitted-level-1);\n}\n\n/* On hover */\ndiv.sk-estimator:hover .sk-estimator-doc-link:hover,\n.sk-estimator-doc-link:hover,\ndiv.sk-label-container:hover .sk-estimator-doc-link:hover,\n.sk-estimator-doc-link:hover {\n  /* unfitted */\n  background-color: var(--sklearn-color-unfitted-level-3);\n  color: var(--sklearn-color-background);\n  text-decoration: none;\n}\n\ndiv.sk-estimator.fitted:hover .sk-estimator-doc-link.fitted:hover,\n.sk-estimator-doc-link.fitted:hover,\ndiv.sk-label-container:hover .sk-estimator-doc-link.fitted:hover,\n.sk-estimator-doc-link.fitted:hover {\n  /* fitted */\n  background-color: var(--sklearn-color-fitted-level-3);\n  color: var(--sklearn-color-background);\n  text-decoration: none;\n}\n\n/* Span, style for the box shown on hovering the info icon */\n.sk-estimator-doc-link span {\n  display: none;\n  z-index: 9999;\n  position: relative;\n  font-weight: normal;\n  right: .2ex;\n  padding: .5ex;\n  margin: .5ex;\n  width: min-content;\n  min-width: 20ex;\n  max-width: 50ex;\n  color: var(--sklearn-color-text);\n  box-shadow: 2pt 2pt 4pt #999;\n  /* unfitted */\n  background: var(--sklearn-color-unfitted-level-0);\n  border: .5pt solid var(--sklearn-color-unfitted-level-3);\n}\n\n.sk-estimator-doc-link.fitted span {\n  /* fitted */\n  background: var(--sklearn-color-fitted-level-0);\n  border: var(--sklearn-color-fitted-level-3);\n}\n\n.sk-estimator-doc-link:hover span {\n  display: block;\n}\n\n/* \"?\"-specific style due to the `<a>` HTML tag */\n\n#sk-container-id-2 a.estimator_doc_link {\n  float: right;\n  font-size: 1rem;\n  line-height: 1em;\n  font-family: monospace;\n  background-color: var(--sklearn-color-background);\n  border-radius: 1rem;\n  height: 1rem;\n  width: 1rem;\n  text-decoration: none;\n  /* unfitted */\n  color: var(--sklearn-color-unfitted-level-1);\n  border: var(--sklearn-color-unfitted-level-1) 1pt solid;\n}\n\n#sk-container-id-2 a.estimator_doc_link.fitted {\n  /* fitted */\n  border: var(--sklearn-color-fitted-level-1) 1pt solid;\n  color: var(--sklearn-color-fitted-level-1);\n}\n\n/* On hover */\n#sk-container-id-2 a.estimator_doc_link:hover {\n  /* unfitted */\n  background-color: var(--sklearn-color-unfitted-level-3);\n  color: var(--sklearn-color-background);\n  text-decoration: none;\n}\n\n#sk-container-id-2 a.estimator_doc_link.fitted:hover {\n  /* fitted */\n  background-color: var(--sklearn-color-fitted-level-3);\n}\n</style><div id=\"sk-container-id-2\" class=\"sk-top-container\"><div class=\"sk-text-repr-fallback\"><pre>LogisticRegression()</pre><b>In a Jupyter environment, please rerun this cell to show the HTML representation or trust the notebook. <br />On GitHub, the HTML representation is unable to render, please try loading this page with nbviewer.org.</b></div><div class=\"sk-container\" hidden><div class=\"sk-item\"><div class=\"sk-estimator fitted sk-toggleable\"><input class=\"sk-toggleable__control sk-hidden--visually\" id=\"sk-estimator-id-2\" type=\"checkbox\" checked><label for=\"sk-estimator-id-2\" class=\"sk-toggleable__label fitted sk-toggleable__label-arrow fitted\">&nbsp;&nbsp;LogisticRegression<a class=\"sk-estimator-doc-link fitted\" rel=\"noreferrer\" target=\"_blank\" href=\"https://scikit-learn.org/1.4/modules/generated/sklearn.linear_model.LogisticRegression.html\">?<span>Documentation for LogisticRegression</span></a><span class=\"sk-estimator-doc-link fitted\">i<span>Fitted</span></span></label><div class=\"sk-toggleable__content fitted\"><pre>LogisticRegression()</pre></div> </div></div></div></div>"
     },
     "execution_count": 20,
     "metadata": {},
     "output_type": "execute_result"
    }
   ],
   "source": [
    "X_train = synthetic_tours_data[['landuse_numeric', 'industry_numeric', 'population_availability', 'workers_availability']]\n",
    "y_train = synthetic_tours_data['vehicle_purpose']  # Здесь 'vehicle_purpose' представляет комбинацию цели маршрута и типа ТС\n",
    "\n",
    "# Создание и обучение модели\n",
    "logit_model = LogisticRegression()\n",
    "logit_model.fit(X_train, y_train)"
   ],
   "metadata": {
    "collapsed": false,
    "ExecuteTime": {
     "end_time": "2024-01-19T18:16:55.138418300Z",
     "start_time": "2024-01-19T18:16:54.997467600Z"
    }
   },
   "id": "645383e7c0775f68"
  },
  {
   "cell_type": "code",
   "execution_count": 22,
   "outputs": [],
   "source": [
    "generated_tours_data = gpd.read_file(\"C:/Users/sm_pa/OneDrive/Рабочий стол/НИР3/perm_freight_modelling/data/step2_tours.geojson\")"
   ],
   "metadata": {
    "collapsed": false,
    "ExecuteTime": {
     "end_time": "2024-01-19T18:23:51.039797700Z",
     "start_time": "2024-01-19T18:20:34.348594200Z"
    }
   },
   "id": "c2dec9a7d9016620"
  },
  {
   "cell_type": "code",
   "execution_count": 23,
   "outputs": [
    {
     "data": {
      "text/plain": "array([[0.25619022, 0.11614089, 0.04091228, ..., 0.1515541 , 0.04214669,\n        0.01861269],\n       [0.25619022, 0.11614089, 0.04091228, ..., 0.1515541 , 0.04214669,\n        0.01861269],\n       [0.25619022, 0.11614089, 0.04091228, ..., 0.1515541 , 0.04214669,\n        0.01861269],\n       ...,\n       [0.54872737, 0.20368322, 0.09513952, ..., 0.02960052, 0.01024378,\n        0.00190133],\n       [0.54872737, 0.20368322, 0.09513952, ..., 0.02960052, 0.01024378,\n        0.00190133],\n       [0.54872737, 0.20368322, 0.09513952, ..., 0.02960052, 0.01024378,\n        0.00190133]])"
     },
     "execution_count": 23,
     "metadata": {},
     "output_type": "execute_result"
    }
   ],
   "source": [
    "# Подготовка тестовых данных для предсказания\n",
    "X_test = generated_tours_data[['landuse_numeric', 'industry_numeric', 'population_availability', 'workers_availability']]\n",
    "\n",
    "# Предсказание вероятностей\n",
    "probabilities = logit_model.predict_proba(X_test)\n",
    "\n",
    "probabilities"
   ],
   "metadata": {
    "collapsed": false,
    "ExecuteTime": {
     "end_time": "2024-01-19T18:23:57.290054800Z",
     "start_time": "2024-01-19T18:23:57.211152800Z"
    }
   },
   "id": "645fdaa07649caa5"
  },
  {
   "cell_type": "code",
   "execution_count": 25,
   "outputs": [
    {
     "data": {
      "text/plain": "       zone_id      landuse  industrial    retail   service  \\\n0            6  low_density    0.932489  0.067511  0.000000   \n1            6  low_density    0.932489  0.067511  0.000000   \n2            6  low_density    0.932489  0.067511  0.000000   \n3            6  low_density    0.932489  0.067511  0.000000   \n4            6  low_density    0.932489  0.067511  0.000000   \n...        ...          ...         ...       ...       ...   \n17504     3000  low_density    0.274725  0.000000  0.725275   \n17505     3000  low_density    0.274725  0.000000  0.725275   \n17506     3000  low_density    0.274725  0.000000  0.725275   \n17507     3000  low_density    0.274725  0.000000  0.725275   \n17508     3000  low_density    0.274725  0.000000  0.725275   \n\n       population_availability  workers_availability  landuse_numeric  \\\n0                     4.892252              2.386894                0   \n1                     4.892252              2.386894                0   \n2                     4.892252              2.386894                0   \n3                     4.892252              2.386894                0   \n4                     4.892252              2.386894                0   \n...                        ...                   ...              ...   \n17504                 5.342491              2.495559                0   \n17505                 5.342491              2.495559                0   \n17506                 5.342491              2.495559                0   \n17507                 5.342491              2.495559                0   \n17508                 5.342491              2.495559                0   \n\n         industry  employment_share  industry_numeric  time_of_day  \\\n0      industrial          0.932489                 0            1   \n1      industrial          0.932489                 0            1   \n2      industrial          0.932489                 0            0   \n3      industrial          0.932489                 0            0   \n4      industrial          0.932489                 0            1   \n...           ...               ...               ...          ...   \n17504     service          0.725275                 2            1   \n17505     service          0.725275                 2            1   \n17506     service          0.725275                 2            1   \n17507     service          0.725275                 2            1   \n17508     service          0.725275                 2            1   \n\n                                                geometry  vehicle_purpose  \n0      POLYGON ((56.34129 58.02780, 56.34127 58.02781...                3  \n1      POLYGON ((56.34129 58.02780, 56.34127 58.02781...                0  \n2      POLYGON ((56.34129 58.02780, 56.34127 58.02781...                3  \n3      POLYGON ((56.34129 58.02780, 56.34127 58.02781...                3  \n4      POLYGON ((56.34129 58.02780, 56.34127 58.02781...                6  \n...                                                  ...              ...  \n17504  POLYGON ((56.31847 58.03896, 56.31846 58.03897...                0  \n17505  POLYGON ((56.31847 58.03896, 56.31846 58.03897...                0  \n17506  POLYGON ((56.31847 58.03896, 56.31846 58.03897...                1  \n17507  POLYGON ((56.31847 58.03896, 56.31846 58.03897...                0  \n17508  POLYGON ((56.31847 58.03896, 56.31846 58.03897...                2  \n\n[17509 rows x 14 columns]",
      "text/html": "<div>\n<style scoped>\n    .dataframe tbody tr th:only-of-type {\n        vertical-align: middle;\n    }\n\n    .dataframe tbody tr th {\n        vertical-align: top;\n    }\n\n    .dataframe thead th {\n        text-align: right;\n    }\n</style>\n<table border=\"1\" class=\"dataframe\">\n  <thead>\n    <tr style=\"text-align: right;\">\n      <th></th>\n      <th>zone_id</th>\n      <th>landuse</th>\n      <th>industrial</th>\n      <th>retail</th>\n      <th>service</th>\n      <th>population_availability</th>\n      <th>workers_availability</th>\n      <th>landuse_numeric</th>\n      <th>industry</th>\n      <th>employment_share</th>\n      <th>industry_numeric</th>\n      <th>time_of_day</th>\n      <th>geometry</th>\n      <th>vehicle_purpose</th>\n    </tr>\n  </thead>\n  <tbody>\n    <tr>\n      <th>0</th>\n      <td>6</td>\n      <td>low_density</td>\n      <td>0.932489</td>\n      <td>0.067511</td>\n      <td>0.000000</td>\n      <td>4.892252</td>\n      <td>2.386894</td>\n      <td>0</td>\n      <td>industrial</td>\n      <td>0.932489</td>\n      <td>0</td>\n      <td>1</td>\n      <td>POLYGON ((56.34129 58.02780, 56.34127 58.02781...</td>\n      <td>3</td>\n    </tr>\n    <tr>\n      <th>1</th>\n      <td>6</td>\n      <td>low_density</td>\n      <td>0.932489</td>\n      <td>0.067511</td>\n      <td>0.000000</td>\n      <td>4.892252</td>\n      <td>2.386894</td>\n      <td>0</td>\n      <td>industrial</td>\n      <td>0.932489</td>\n      <td>0</td>\n      <td>1</td>\n      <td>POLYGON ((56.34129 58.02780, 56.34127 58.02781...</td>\n      <td>0</td>\n    </tr>\n    <tr>\n      <th>2</th>\n      <td>6</td>\n      <td>low_density</td>\n      <td>0.932489</td>\n      <td>0.067511</td>\n      <td>0.000000</td>\n      <td>4.892252</td>\n      <td>2.386894</td>\n      <td>0</td>\n      <td>industrial</td>\n      <td>0.932489</td>\n      <td>0</td>\n      <td>0</td>\n      <td>POLYGON ((56.34129 58.02780, 56.34127 58.02781...</td>\n      <td>3</td>\n    </tr>\n    <tr>\n      <th>3</th>\n      <td>6</td>\n      <td>low_density</td>\n      <td>0.932489</td>\n      <td>0.067511</td>\n      <td>0.000000</td>\n      <td>4.892252</td>\n      <td>2.386894</td>\n      <td>0</td>\n      <td>industrial</td>\n      <td>0.932489</td>\n      <td>0</td>\n      <td>0</td>\n      <td>POLYGON ((56.34129 58.02780, 56.34127 58.02781...</td>\n      <td>3</td>\n    </tr>\n    <tr>\n      <th>4</th>\n      <td>6</td>\n      <td>low_density</td>\n      <td>0.932489</td>\n      <td>0.067511</td>\n      <td>0.000000</td>\n      <td>4.892252</td>\n      <td>2.386894</td>\n      <td>0</td>\n      <td>industrial</td>\n      <td>0.932489</td>\n      <td>0</td>\n      <td>1</td>\n      <td>POLYGON ((56.34129 58.02780, 56.34127 58.02781...</td>\n      <td>6</td>\n    </tr>\n    <tr>\n      <th>...</th>\n      <td>...</td>\n      <td>...</td>\n      <td>...</td>\n      <td>...</td>\n      <td>...</td>\n      <td>...</td>\n      <td>...</td>\n      <td>...</td>\n      <td>...</td>\n      <td>...</td>\n      <td>...</td>\n      <td>...</td>\n      <td>...</td>\n      <td>...</td>\n    </tr>\n    <tr>\n      <th>17504</th>\n      <td>3000</td>\n      <td>low_density</td>\n      <td>0.274725</td>\n      <td>0.000000</td>\n      <td>0.725275</td>\n      <td>5.342491</td>\n      <td>2.495559</td>\n      <td>0</td>\n      <td>service</td>\n      <td>0.725275</td>\n      <td>2</td>\n      <td>1</td>\n      <td>POLYGON ((56.31847 58.03896, 56.31846 58.03897...</td>\n      <td>0</td>\n    </tr>\n    <tr>\n      <th>17505</th>\n      <td>3000</td>\n      <td>low_density</td>\n      <td>0.274725</td>\n      <td>0.000000</td>\n      <td>0.725275</td>\n      <td>5.342491</td>\n      <td>2.495559</td>\n      <td>0</td>\n      <td>service</td>\n      <td>0.725275</td>\n      <td>2</td>\n      <td>1</td>\n      <td>POLYGON ((56.31847 58.03896, 56.31846 58.03897...</td>\n      <td>0</td>\n    </tr>\n    <tr>\n      <th>17506</th>\n      <td>3000</td>\n      <td>low_density</td>\n      <td>0.274725</td>\n      <td>0.000000</td>\n      <td>0.725275</td>\n      <td>5.342491</td>\n      <td>2.495559</td>\n      <td>0</td>\n      <td>service</td>\n      <td>0.725275</td>\n      <td>2</td>\n      <td>1</td>\n      <td>POLYGON ((56.31847 58.03896, 56.31846 58.03897...</td>\n      <td>1</td>\n    </tr>\n    <tr>\n      <th>17507</th>\n      <td>3000</td>\n      <td>low_density</td>\n      <td>0.274725</td>\n      <td>0.000000</td>\n      <td>0.725275</td>\n      <td>5.342491</td>\n      <td>2.495559</td>\n      <td>0</td>\n      <td>service</td>\n      <td>0.725275</td>\n      <td>2</td>\n      <td>1</td>\n      <td>POLYGON ((56.31847 58.03896, 56.31846 58.03897...</td>\n      <td>0</td>\n    </tr>\n    <tr>\n      <th>17508</th>\n      <td>3000</td>\n      <td>low_density</td>\n      <td>0.274725</td>\n      <td>0.000000</td>\n      <td>0.725275</td>\n      <td>5.342491</td>\n      <td>2.495559</td>\n      <td>0</td>\n      <td>service</td>\n      <td>0.725275</td>\n      <td>2</td>\n      <td>1</td>\n      <td>POLYGON ((56.31847 58.03896, 56.31846 58.03897...</td>\n      <td>2</td>\n    </tr>\n  </tbody>\n</table>\n<p>17509 rows × 14 columns</p>\n</div>"
     },
     "execution_count": 25,
     "metadata": {},
     "output_type": "execute_result"
    }
   ],
   "source": [
    "classes = [0, 1, 2, 3, 4, 5, 6, 7, 8]\n",
    "\n",
    "# Инициализируйте список для сохранения назначенных классов\n",
    "assigned_classes = []\n",
    "\n",
    "# Проходите по каждому туру\n",
    "for i in range(len(generated_tours_data)):\n",
    "    tour_probabilities = probabilities[i]  # Вероятности для текущего тура\n",
    "    cumulative_probabilities = np.cumsum(tour_probabilities)  # Кумулятивные вероятности для текущего тура\n",
    "    random_number = np.random.rand()  # Генерируйте случайное число для текущего тура\n",
    "\n",
    "    # Назначьте класс на основе кумулятивных вероятностей и случайного числа\n",
    "    for j, cumulative_prob in enumerate(cumulative_probabilities):\n",
    "        if random_number <= cumulative_prob:\n",
    "            assigned_classes.append(classes[j])\n",
    "            break\n",
    "\n",
    "# Добавьте назначенные классы в исходные данные\n",
    "generated_tours_data['vehicle_purpose'] = assigned_classes\n",
    "\n",
    "# Теперь generated_tours_data содержит назначенные классы (тип ТС / цель поездки) для каждого тура\n",
    "generated_tours_data"
   ],
   "metadata": {
    "collapsed": false,
    "ExecuteTime": {
     "end_time": "2024-01-19T18:29:34.483361600Z",
     "start_time": "2024-01-19T18:29:34.271755700Z"
    }
   },
   "id": "5056336644351f13"
  },
  {
   "cell_type": "code",
   "execution_count": 28,
   "outputs": [
    {
     "data": {
      "text/plain": "       zone_id      landuse  industrial    retail   service  \\\n0            6  low_density    0.932489  0.067511  0.000000   \n1            6  low_density    0.932489  0.067511  0.000000   \n2            6  low_density    0.932489  0.067511  0.000000   \n3            6  low_density    0.932489  0.067511  0.000000   \n4            6  low_density    0.932489  0.067511  0.000000   \n...        ...          ...         ...       ...       ...   \n17504     3000  low_density    0.274725  0.000000  0.725275   \n17505     3000  low_density    0.274725  0.000000  0.725275   \n17506     3000  low_density    0.274725  0.000000  0.725275   \n17507     3000  low_density    0.274725  0.000000  0.725275   \n17508     3000  low_density    0.274725  0.000000  0.725275   \n\n       population_availability  workers_availability  landuse_numeric  \\\n0                     4.892252              2.386894                0   \n1                     4.892252              2.386894                0   \n2                     4.892252              2.386894                0   \n3                     4.892252              2.386894                0   \n4                     4.892252              2.386894                0   \n...                        ...                   ...              ...   \n17504                 5.342491              2.495559                0   \n17505                 5.342491              2.495559                0   \n17506                 5.342491              2.495559                0   \n17507                 5.342491              2.495559                0   \n17508                 5.342491              2.495559                0   \n\n         industry  employment_share  industry_numeric  time_of_day  \\\n0      industrial          0.932489                 0            1   \n1      industrial          0.932489                 0            1   \n2      industrial          0.932489                 0            0   \n3      industrial          0.932489                 0            0   \n4      industrial          0.932489                 0            1   \n...           ...               ...               ...          ...   \n17504     service          0.725275                 2            1   \n17505     service          0.725275                 2            1   \n17506     service          0.725275                 2            1   \n17507     service          0.725275                 2            1   \n17508     service          0.725275                 2            1   \n\n                                                geometry  vehicle_purpose  \\\n0      POLYGON ((56.34129 58.02780, 56.34127 58.02781...                3   \n1      POLYGON ((56.34129 58.02780, 56.34127 58.02781...                0   \n2      POLYGON ((56.34129 58.02780, 56.34127 58.02781...                3   \n3      POLYGON ((56.34129 58.02780, 56.34127 58.02781...                3   \n4      POLYGON ((56.34129 58.02780, 56.34127 58.02781...                6   \n...                                                  ...              ...   \n17504  POLYGON ((56.31847 58.03896, 56.31846 58.03897...                0   \n17505  POLYGON ((56.31847 58.03896, 56.31846 58.03897...                0   \n17506  POLYGON ((56.31847 58.03896, 56.31846 58.03897...                1   \n17507  POLYGON ((56.31847 58.03896, 56.31846 58.03897...                0   \n17508  POLYGON ((56.31847 58.03896, 56.31846 58.03897...                2   \n\n       vehicle_type  tour_purpose  \n0                 1             0  \n1                 0             0  \n2                 1             0  \n3                 1             0  \n4                 2             0  \n...             ...           ...  \n17504             0             0  \n17505             0             0  \n17506             0             1  \n17507             0             0  \n17508             0             2  \n\n[17509 rows x 16 columns]",
      "text/html": "<div>\n<style scoped>\n    .dataframe tbody tr th:only-of-type {\n        vertical-align: middle;\n    }\n\n    .dataframe tbody tr th {\n        vertical-align: top;\n    }\n\n    .dataframe thead th {\n        text-align: right;\n    }\n</style>\n<table border=\"1\" class=\"dataframe\">\n  <thead>\n    <tr style=\"text-align: right;\">\n      <th></th>\n      <th>zone_id</th>\n      <th>landuse</th>\n      <th>industrial</th>\n      <th>retail</th>\n      <th>service</th>\n      <th>population_availability</th>\n      <th>workers_availability</th>\n      <th>landuse_numeric</th>\n      <th>industry</th>\n      <th>employment_share</th>\n      <th>industry_numeric</th>\n      <th>time_of_day</th>\n      <th>geometry</th>\n      <th>vehicle_purpose</th>\n      <th>vehicle_type</th>\n      <th>tour_purpose</th>\n    </tr>\n  </thead>\n  <tbody>\n    <tr>\n      <th>0</th>\n      <td>6</td>\n      <td>low_density</td>\n      <td>0.932489</td>\n      <td>0.067511</td>\n      <td>0.000000</td>\n      <td>4.892252</td>\n      <td>2.386894</td>\n      <td>0</td>\n      <td>industrial</td>\n      <td>0.932489</td>\n      <td>0</td>\n      <td>1</td>\n      <td>POLYGON ((56.34129 58.02780, 56.34127 58.02781...</td>\n      <td>3</td>\n      <td>1</td>\n      <td>0</td>\n    </tr>\n    <tr>\n      <th>1</th>\n      <td>6</td>\n      <td>low_density</td>\n      <td>0.932489</td>\n      <td>0.067511</td>\n      <td>0.000000</td>\n      <td>4.892252</td>\n      <td>2.386894</td>\n      <td>0</td>\n      <td>industrial</td>\n      <td>0.932489</td>\n      <td>0</td>\n      <td>1</td>\n      <td>POLYGON ((56.34129 58.02780, 56.34127 58.02781...</td>\n      <td>0</td>\n      <td>0</td>\n      <td>0</td>\n    </tr>\n    <tr>\n      <th>2</th>\n      <td>6</td>\n      <td>low_density</td>\n      <td>0.932489</td>\n      <td>0.067511</td>\n      <td>0.000000</td>\n      <td>4.892252</td>\n      <td>2.386894</td>\n      <td>0</td>\n      <td>industrial</td>\n      <td>0.932489</td>\n      <td>0</td>\n      <td>0</td>\n      <td>POLYGON ((56.34129 58.02780, 56.34127 58.02781...</td>\n      <td>3</td>\n      <td>1</td>\n      <td>0</td>\n    </tr>\n    <tr>\n      <th>3</th>\n      <td>6</td>\n      <td>low_density</td>\n      <td>0.932489</td>\n      <td>0.067511</td>\n      <td>0.000000</td>\n      <td>4.892252</td>\n      <td>2.386894</td>\n      <td>0</td>\n      <td>industrial</td>\n      <td>0.932489</td>\n      <td>0</td>\n      <td>0</td>\n      <td>POLYGON ((56.34129 58.02780, 56.34127 58.02781...</td>\n      <td>3</td>\n      <td>1</td>\n      <td>0</td>\n    </tr>\n    <tr>\n      <th>4</th>\n      <td>6</td>\n      <td>low_density</td>\n      <td>0.932489</td>\n      <td>0.067511</td>\n      <td>0.000000</td>\n      <td>4.892252</td>\n      <td>2.386894</td>\n      <td>0</td>\n      <td>industrial</td>\n      <td>0.932489</td>\n      <td>0</td>\n      <td>1</td>\n      <td>POLYGON ((56.34129 58.02780, 56.34127 58.02781...</td>\n      <td>6</td>\n      <td>2</td>\n      <td>0</td>\n    </tr>\n    <tr>\n      <th>...</th>\n      <td>...</td>\n      <td>...</td>\n      <td>...</td>\n      <td>...</td>\n      <td>...</td>\n      <td>...</td>\n      <td>...</td>\n      <td>...</td>\n      <td>...</td>\n      <td>...</td>\n      <td>...</td>\n      <td>...</td>\n      <td>...</td>\n      <td>...</td>\n      <td>...</td>\n      <td>...</td>\n    </tr>\n    <tr>\n      <th>17504</th>\n      <td>3000</td>\n      <td>low_density</td>\n      <td>0.274725</td>\n      <td>0.000000</td>\n      <td>0.725275</td>\n      <td>5.342491</td>\n      <td>2.495559</td>\n      <td>0</td>\n      <td>service</td>\n      <td>0.725275</td>\n      <td>2</td>\n      <td>1</td>\n      <td>POLYGON ((56.31847 58.03896, 56.31846 58.03897...</td>\n      <td>0</td>\n      <td>0</td>\n      <td>0</td>\n    </tr>\n    <tr>\n      <th>17505</th>\n      <td>3000</td>\n      <td>low_density</td>\n      <td>0.274725</td>\n      <td>0.000000</td>\n      <td>0.725275</td>\n      <td>5.342491</td>\n      <td>2.495559</td>\n      <td>0</td>\n      <td>service</td>\n      <td>0.725275</td>\n      <td>2</td>\n      <td>1</td>\n      <td>POLYGON ((56.31847 58.03896, 56.31846 58.03897...</td>\n      <td>0</td>\n      <td>0</td>\n      <td>0</td>\n    </tr>\n    <tr>\n      <th>17506</th>\n      <td>3000</td>\n      <td>low_density</td>\n      <td>0.274725</td>\n      <td>0.000000</td>\n      <td>0.725275</td>\n      <td>5.342491</td>\n      <td>2.495559</td>\n      <td>0</td>\n      <td>service</td>\n      <td>0.725275</td>\n      <td>2</td>\n      <td>1</td>\n      <td>POLYGON ((56.31847 58.03896, 56.31846 58.03897...</td>\n      <td>1</td>\n      <td>0</td>\n      <td>1</td>\n    </tr>\n    <tr>\n      <th>17507</th>\n      <td>3000</td>\n      <td>low_density</td>\n      <td>0.274725</td>\n      <td>0.000000</td>\n      <td>0.725275</td>\n      <td>5.342491</td>\n      <td>2.495559</td>\n      <td>0</td>\n      <td>service</td>\n      <td>0.725275</td>\n      <td>2</td>\n      <td>1</td>\n      <td>POLYGON ((56.31847 58.03896, 56.31846 58.03897...</td>\n      <td>0</td>\n      <td>0</td>\n      <td>0</td>\n    </tr>\n    <tr>\n      <th>17508</th>\n      <td>3000</td>\n      <td>low_density</td>\n      <td>0.274725</td>\n      <td>0.000000</td>\n      <td>0.725275</td>\n      <td>5.342491</td>\n      <td>2.495559</td>\n      <td>0</td>\n      <td>service</td>\n      <td>0.725275</td>\n      <td>2</td>\n      <td>1</td>\n      <td>POLYGON ((56.31847 58.03896, 56.31846 58.03897...</td>\n      <td>2</td>\n      <td>0</td>\n      <td>2</td>\n    </tr>\n  </tbody>\n</table>\n<p>17509 rows × 16 columns</p>\n</div>"
     },
     "execution_count": 28,
     "metadata": {},
     "output_type": "execute_result"
    }
   ],
   "source": [
    "generated_tours_data['vehicle_type'] = generated_tours_data['vehicle_purpose'].apply(lambda x: int(x / 3))\n",
    "generated_tours_data['tour_purpose'] = generated_tours_data['vehicle_purpose'] % 3\n",
    "generated_tours_data"
   ],
   "metadata": {
    "collapsed": false,
    "ExecuteTime": {
     "end_time": "2024-01-19T18:33:57.935517Z",
     "start_time": "2024-01-19T18:33:57.770826100Z"
    }
   },
   "id": "d34772b36624c42f"
  },
  {
   "cell_type": "code",
   "execution_count": 29,
   "outputs": [],
   "source": [
    "generated_tours_data.to_file('data/step3_tours.geojson', driver='GeoJSON')"
   ],
   "metadata": {
    "collapsed": false,
    "ExecuteTime": {
     "end_time": "2024-01-19T18:37:00.987804200Z",
     "start_time": "2024-01-19T18:35:13.604966600Z"
    }
   },
   "id": "6e470461d507dcd6"
  },
  {
   "cell_type": "markdown",
   "source": [
    "4 шаг метода: генерация точного времени отправления ТС"
   ],
   "metadata": {
    "collapsed": false
   },
   "id": "e222c60e640c8e5f"
  },
  {
   "cell_type": "code",
   "execution_count": 30,
   "outputs": [
    {
     "data": {
      "text/plain": "        id  block_id    industry      landuse  population_availability  \\\n0        0       324  industrial  residential                 6.314141   \n1        1       324  industrial  residential                 6.314141   \n2        2      1884  industrial   industrial                 5.604110   \n3        3      1884  industrial   industrial                 5.604110   \n4        4      1884  industrial   industrial                 5.604110   \n...    ...       ...         ...          ...                      ...   \n1560  1560       209     service   industrial                 5.036346   \n1561  1561       209     service   industrial                 5.036346   \n1562  1562       209     service   industrial                 5.036346   \n1563  1563       943  industrial   industrial                 4.979759   \n1564  1564       294     service   industrial                 4.802194   \n\n      workers_availability  employment_share  company_id      departure_time  \\\n0                 2.824434          0.865545   206819075 1900-01-01 15:38:00   \n1                 2.824434          0.865545   206819075 1900-01-01 10:51:00   \n2                 2.824705          0.944083   698090257 1900-01-01 16:28:00   \n3                 2.824705          0.944083   698090257 1900-01-01 09:14:00   \n4                 2.824705          0.944083   698090257 1900-01-01 14:42:00   \n...                    ...               ...         ...                 ...   \n1560              2.504850          0.056708  1103860108 1900-01-01 15:16:00   \n1561              2.504850          0.056708  1103860108 1900-01-01 10:19:00   \n1562              2.504850          0.056708  1103860108 1900-01-01 11:40:00   \n1563              2.434761          0.801968  1136615387 1900-01-01 09:48:00   \n1564              2.488054          0.106638  1147236714 1900-01-01 10:19:00   \n\n      vehicle_type  tour_purpose  time_of_day  industry_numeric  \\\n0                1             0            1                 0   \n1                2             0            0                 0   \n2                0             1            1                 0   \n3                2             0            0                 0   \n4                0             0            1                 0   \n...            ...           ...          ...               ...   \n1560             0             0            1                 2   \n1561             0             1            0                 2   \n1562             0             1            1                 2   \n1563             0             0            0                 0   \n1564             0             0            0                 2   \n\n      landuse_numeric  vehicle_purpose  \\\n0                   1                3   \n1                   1                6   \n2                   3                1   \n3                   3                6   \n4                   3                0   \n...               ...              ...   \n1560                3                0   \n1561                3                1   \n1562                3                1   \n1563                3                0   \n1564                3                0   \n\n                                               geometry  \n0     MULTIPOLYGON (((56.24348 57.97681, 56.24351 57...  \n1     MULTIPOLYGON (((56.24348 57.97681, 56.24351 57...  \n2     MULTIPOLYGON (((56.15937 58.00912, 56.15972 58...  \n3     MULTIPOLYGON (((56.15937 58.00912, 56.15972 58...  \n4     MULTIPOLYGON (((56.15937 58.00912, 56.15972 58...  \n...                                                 ...  \n1560  MULTIPOLYGON (((56.16704 58.04032, 56.16847 58...  \n1561  MULTIPOLYGON (((56.16704 58.04032, 56.16847 58...  \n1562  MULTIPOLYGON (((56.16704 58.04032, 56.16847 58...  \n1563  MULTIPOLYGON (((56.13883 58.01975, 56.13898 58...  \n1564  MULTIPOLYGON (((56.17449 57.91414, 56.17469 57...  \n\n[1565 rows x 16 columns]",
      "text/html": "<div>\n<style scoped>\n    .dataframe tbody tr th:only-of-type {\n        vertical-align: middle;\n    }\n\n    .dataframe tbody tr th {\n        vertical-align: top;\n    }\n\n    .dataframe thead th {\n        text-align: right;\n    }\n</style>\n<table border=\"1\" class=\"dataframe\">\n  <thead>\n    <tr style=\"text-align: right;\">\n      <th></th>\n      <th>id</th>\n      <th>block_id</th>\n      <th>industry</th>\n      <th>landuse</th>\n      <th>population_availability</th>\n      <th>workers_availability</th>\n      <th>employment_share</th>\n      <th>company_id</th>\n      <th>departure_time</th>\n      <th>vehicle_type</th>\n      <th>tour_purpose</th>\n      <th>time_of_day</th>\n      <th>industry_numeric</th>\n      <th>landuse_numeric</th>\n      <th>vehicle_purpose</th>\n      <th>geometry</th>\n    </tr>\n  </thead>\n  <tbody>\n    <tr>\n      <th>0</th>\n      <td>0</td>\n      <td>324</td>\n      <td>industrial</td>\n      <td>residential</td>\n      <td>6.314141</td>\n      <td>2.824434</td>\n      <td>0.865545</td>\n      <td>206819075</td>\n      <td>1900-01-01 15:38:00</td>\n      <td>1</td>\n      <td>0</td>\n      <td>1</td>\n      <td>0</td>\n      <td>1</td>\n      <td>3</td>\n      <td>MULTIPOLYGON (((56.24348 57.97681, 56.24351 57...</td>\n    </tr>\n    <tr>\n      <th>1</th>\n      <td>1</td>\n      <td>324</td>\n      <td>industrial</td>\n      <td>residential</td>\n      <td>6.314141</td>\n      <td>2.824434</td>\n      <td>0.865545</td>\n      <td>206819075</td>\n      <td>1900-01-01 10:51:00</td>\n      <td>2</td>\n      <td>0</td>\n      <td>0</td>\n      <td>0</td>\n      <td>1</td>\n      <td>6</td>\n      <td>MULTIPOLYGON (((56.24348 57.97681, 56.24351 57...</td>\n    </tr>\n    <tr>\n      <th>2</th>\n      <td>2</td>\n      <td>1884</td>\n      <td>industrial</td>\n      <td>industrial</td>\n      <td>5.604110</td>\n      <td>2.824705</td>\n      <td>0.944083</td>\n      <td>698090257</td>\n      <td>1900-01-01 16:28:00</td>\n      <td>0</td>\n      <td>1</td>\n      <td>1</td>\n      <td>0</td>\n      <td>3</td>\n      <td>1</td>\n      <td>MULTIPOLYGON (((56.15937 58.00912, 56.15972 58...</td>\n    </tr>\n    <tr>\n      <th>3</th>\n      <td>3</td>\n      <td>1884</td>\n      <td>industrial</td>\n      <td>industrial</td>\n      <td>5.604110</td>\n      <td>2.824705</td>\n      <td>0.944083</td>\n      <td>698090257</td>\n      <td>1900-01-01 09:14:00</td>\n      <td>2</td>\n      <td>0</td>\n      <td>0</td>\n      <td>0</td>\n      <td>3</td>\n      <td>6</td>\n      <td>MULTIPOLYGON (((56.15937 58.00912, 56.15972 58...</td>\n    </tr>\n    <tr>\n      <th>4</th>\n      <td>4</td>\n      <td>1884</td>\n      <td>industrial</td>\n      <td>industrial</td>\n      <td>5.604110</td>\n      <td>2.824705</td>\n      <td>0.944083</td>\n      <td>698090257</td>\n      <td>1900-01-01 14:42:00</td>\n      <td>0</td>\n      <td>0</td>\n      <td>1</td>\n      <td>0</td>\n      <td>3</td>\n      <td>0</td>\n      <td>MULTIPOLYGON (((56.15937 58.00912, 56.15972 58...</td>\n    </tr>\n    <tr>\n      <th>...</th>\n      <td>...</td>\n      <td>...</td>\n      <td>...</td>\n      <td>...</td>\n      <td>...</td>\n      <td>...</td>\n      <td>...</td>\n      <td>...</td>\n      <td>...</td>\n      <td>...</td>\n      <td>...</td>\n      <td>...</td>\n      <td>...</td>\n      <td>...</td>\n      <td>...</td>\n      <td>...</td>\n    </tr>\n    <tr>\n      <th>1560</th>\n      <td>1560</td>\n      <td>209</td>\n      <td>service</td>\n      <td>industrial</td>\n      <td>5.036346</td>\n      <td>2.504850</td>\n      <td>0.056708</td>\n      <td>1103860108</td>\n      <td>1900-01-01 15:16:00</td>\n      <td>0</td>\n      <td>0</td>\n      <td>1</td>\n      <td>2</td>\n      <td>3</td>\n      <td>0</td>\n      <td>MULTIPOLYGON (((56.16704 58.04032, 56.16847 58...</td>\n    </tr>\n    <tr>\n      <th>1561</th>\n      <td>1561</td>\n      <td>209</td>\n      <td>service</td>\n      <td>industrial</td>\n      <td>5.036346</td>\n      <td>2.504850</td>\n      <td>0.056708</td>\n      <td>1103860108</td>\n      <td>1900-01-01 10:19:00</td>\n      <td>0</td>\n      <td>1</td>\n      <td>0</td>\n      <td>2</td>\n      <td>3</td>\n      <td>1</td>\n      <td>MULTIPOLYGON (((56.16704 58.04032, 56.16847 58...</td>\n    </tr>\n    <tr>\n      <th>1562</th>\n      <td>1562</td>\n      <td>209</td>\n      <td>service</td>\n      <td>industrial</td>\n      <td>5.036346</td>\n      <td>2.504850</td>\n      <td>0.056708</td>\n      <td>1103860108</td>\n      <td>1900-01-01 11:40:00</td>\n      <td>0</td>\n      <td>1</td>\n      <td>1</td>\n      <td>2</td>\n      <td>3</td>\n      <td>1</td>\n      <td>MULTIPOLYGON (((56.16704 58.04032, 56.16847 58...</td>\n    </tr>\n    <tr>\n      <th>1563</th>\n      <td>1563</td>\n      <td>943</td>\n      <td>industrial</td>\n      <td>industrial</td>\n      <td>4.979759</td>\n      <td>2.434761</td>\n      <td>0.801968</td>\n      <td>1136615387</td>\n      <td>1900-01-01 09:48:00</td>\n      <td>0</td>\n      <td>0</td>\n      <td>0</td>\n      <td>0</td>\n      <td>3</td>\n      <td>0</td>\n      <td>MULTIPOLYGON (((56.13883 58.01975, 56.13898 58...</td>\n    </tr>\n    <tr>\n      <th>1564</th>\n      <td>1564</td>\n      <td>294</td>\n      <td>service</td>\n      <td>industrial</td>\n      <td>4.802194</td>\n      <td>2.488054</td>\n      <td>0.106638</td>\n      <td>1147236714</td>\n      <td>1900-01-01 10:19:00</td>\n      <td>0</td>\n      <td>0</td>\n      <td>0</td>\n      <td>2</td>\n      <td>3</td>\n      <td>0</td>\n      <td>MULTIPOLYGON (((56.17449 57.91414, 56.17469 57...</td>\n    </tr>\n  </tbody>\n</table>\n<p>1565 rows × 16 columns</p>\n</div>"
     },
     "execution_count": 30,
     "metadata": {},
     "output_type": "execute_result"
    }
   ],
   "source": [
    "synthetic_tours_data = gpd.read_file(\"C:/Users/sm_pa/OneDrive/Рабочий стол/НИР3/perm_freight_modelling/data/purpose_time_synthetic1.geojson\")\n",
    "synthetic_tours_data"
   ],
   "metadata": {
    "collapsed": false,
    "ExecuteTime": {
     "end_time": "2024-01-19T19:23:49.885535600Z",
     "start_time": "2024-01-19T19:23:47.567532200Z"
    }
   },
   "id": "8ba1077c49376738"
  },
  {
   "cell_type": "code",
   "execution_count": 32,
   "outputs": [
    {
     "data": {
      "text/plain": "array(['1900-01-01T18:36:00.000000000', '1900-01-01T19:57:00.000000000',\n       '1900-01-01T18:00:00.000000000', '1900-01-01T19:31:00.000000000',\n       '1900-01-01T19:16:00.000000000', '1900-01-01T19:57:00.000000000',\n       '1900-01-01T18:01:00.000000000', '1900-01-01T18:06:00.000000000',\n       '1900-01-01T19:20:00.000000000', '1900-01-01T18:05:00.000000000',\n       '1900-01-01T18:26:00.000000000', '1900-01-01T18:57:00.000000000',\n       '1900-01-01T03:23:00.000000000'], dtype='datetime64[ns]')"
     },
     "execution_count": 32,
     "metadata": {},
     "output_type": "execute_result"
    }
   ],
   "source": [
    "morning_tours = synthetic_tours_data[synthetic_tours_data['time_of_day'] == 0]\n",
    "day_tours = synthetic_tours_data[synthetic_tours_data['time_of_day'] == 1]\n",
    "night_tours = synthetic_tours_data[synthetic_tours_data['time_of_day'] == 2]\n",
    "\n",
    "morning_starts = morning_tours['departure_time'].values\n",
    "day_starts = day_tours['departure_time'].values\n",
    "night_starts = night_tours['departure_time'].values"
   ],
   "metadata": {
    "collapsed": false,
    "ExecuteTime": {
     "end_time": "2024-01-19T19:28:26.778128300Z",
     "start_time": "2024-01-19T19:28:26.668327100Z"
    }
   },
   "id": "d89da9f40714a7de"
  },
  {
   "cell_type": "code",
   "execution_count": 33,
   "outputs": [
    {
     "data": {
      "text/plain": "       zone_id      landuse  industrial    retail   service  \\\n0            6  low_density    0.932489  0.067511  0.000000   \n1            6  low_density    0.932489  0.067511  0.000000   \n2            6  low_density    0.932489  0.067511  0.000000   \n3            6  low_density    0.932489  0.067511  0.000000   \n4            6  low_density    0.932489  0.067511  0.000000   \n...        ...          ...         ...       ...       ...   \n17504     3000  low_density    0.274725  0.000000  0.725275   \n17505     3000  low_density    0.274725  0.000000  0.725275   \n17506     3000  low_density    0.274725  0.000000  0.725275   \n17507     3000  low_density    0.274725  0.000000  0.725275   \n17508     3000  low_density    0.274725  0.000000  0.725275   \n\n       population_availability  workers_availability  landuse_numeric  \\\n0                     4.892252              2.386894                0   \n1                     4.892252              2.386894                0   \n2                     4.892252              2.386894                0   \n3                     4.892252              2.386894                0   \n4                     4.892252              2.386894                0   \n...                        ...                   ...              ...   \n17504                 5.342491              2.495559                0   \n17505                 5.342491              2.495559                0   \n17506                 5.342491              2.495559                0   \n17507                 5.342491              2.495559                0   \n17508                 5.342491              2.495559                0   \n\n         industry  employment_share  industry_numeric  time_of_day  \\\n0      industrial          0.932489                 0            1   \n1      industrial          0.932489                 0            1   \n2      industrial          0.932489                 0            0   \n3      industrial          0.932489                 0            0   \n4      industrial          0.932489                 0            1   \n...           ...               ...               ...          ...   \n17504     service          0.725275                 2            1   \n17505     service          0.725275                 2            1   \n17506     service          0.725275                 2            1   \n17507     service          0.725275                 2            1   \n17508     service          0.725275                 2            1   \n\n       vehicle_purpose  vehicle_type  tour_purpose  \\\n0                    3             1             0   \n1                    0             0             0   \n2                    3             1             0   \n3                    3             1             0   \n4                    6             2             0   \n...                ...           ...           ...   \n17504                0             0             0   \n17505                0             0             0   \n17506                1             0             1   \n17507                0             0             0   \n17508                2             0             2   \n\n                                                geometry  \n0      POLYGON ((56.34129 58.02780, 56.34127 58.02781...  \n1      POLYGON ((56.34129 58.02780, 56.34127 58.02781...  \n2      POLYGON ((56.34129 58.02780, 56.34127 58.02781...  \n3      POLYGON ((56.34129 58.02780, 56.34127 58.02781...  \n4      POLYGON ((56.34129 58.02780, 56.34127 58.02781...  \n...                                                  ...  \n17504  POLYGON ((56.31847 58.03896, 56.31846 58.03897...  \n17505  POLYGON ((56.31847 58.03896, 56.31846 58.03897...  \n17506  POLYGON ((56.31847 58.03896, 56.31846 58.03897...  \n17507  POLYGON ((56.31847 58.03896, 56.31846 58.03897...  \n17508  POLYGON ((56.31847 58.03896, 56.31846 58.03897...  \n\n[17509 rows x 16 columns]",
      "text/html": "<div>\n<style scoped>\n    .dataframe tbody tr th:only-of-type {\n        vertical-align: middle;\n    }\n\n    .dataframe tbody tr th {\n        vertical-align: top;\n    }\n\n    .dataframe thead th {\n        text-align: right;\n    }\n</style>\n<table border=\"1\" class=\"dataframe\">\n  <thead>\n    <tr style=\"text-align: right;\">\n      <th></th>\n      <th>zone_id</th>\n      <th>landuse</th>\n      <th>industrial</th>\n      <th>retail</th>\n      <th>service</th>\n      <th>population_availability</th>\n      <th>workers_availability</th>\n      <th>landuse_numeric</th>\n      <th>industry</th>\n      <th>employment_share</th>\n      <th>industry_numeric</th>\n      <th>time_of_day</th>\n      <th>vehicle_purpose</th>\n      <th>vehicle_type</th>\n      <th>tour_purpose</th>\n      <th>geometry</th>\n    </tr>\n  </thead>\n  <tbody>\n    <tr>\n      <th>0</th>\n      <td>6</td>\n      <td>low_density</td>\n      <td>0.932489</td>\n      <td>0.067511</td>\n      <td>0.000000</td>\n      <td>4.892252</td>\n      <td>2.386894</td>\n      <td>0</td>\n      <td>industrial</td>\n      <td>0.932489</td>\n      <td>0</td>\n      <td>1</td>\n      <td>3</td>\n      <td>1</td>\n      <td>0</td>\n      <td>POLYGON ((56.34129 58.02780, 56.34127 58.02781...</td>\n    </tr>\n    <tr>\n      <th>1</th>\n      <td>6</td>\n      <td>low_density</td>\n      <td>0.932489</td>\n      <td>0.067511</td>\n      <td>0.000000</td>\n      <td>4.892252</td>\n      <td>2.386894</td>\n      <td>0</td>\n      <td>industrial</td>\n      <td>0.932489</td>\n      <td>0</td>\n      <td>1</td>\n      <td>0</td>\n      <td>0</td>\n      <td>0</td>\n      <td>POLYGON ((56.34129 58.02780, 56.34127 58.02781...</td>\n    </tr>\n    <tr>\n      <th>2</th>\n      <td>6</td>\n      <td>low_density</td>\n      <td>0.932489</td>\n      <td>0.067511</td>\n      <td>0.000000</td>\n      <td>4.892252</td>\n      <td>2.386894</td>\n      <td>0</td>\n      <td>industrial</td>\n      <td>0.932489</td>\n      <td>0</td>\n      <td>0</td>\n      <td>3</td>\n      <td>1</td>\n      <td>0</td>\n      <td>POLYGON ((56.34129 58.02780, 56.34127 58.02781...</td>\n    </tr>\n    <tr>\n      <th>3</th>\n      <td>6</td>\n      <td>low_density</td>\n      <td>0.932489</td>\n      <td>0.067511</td>\n      <td>0.000000</td>\n      <td>4.892252</td>\n      <td>2.386894</td>\n      <td>0</td>\n      <td>industrial</td>\n      <td>0.932489</td>\n      <td>0</td>\n      <td>0</td>\n      <td>3</td>\n      <td>1</td>\n      <td>0</td>\n      <td>POLYGON ((56.34129 58.02780, 56.34127 58.02781...</td>\n    </tr>\n    <tr>\n      <th>4</th>\n      <td>6</td>\n      <td>low_density</td>\n      <td>0.932489</td>\n      <td>0.067511</td>\n      <td>0.000000</td>\n      <td>4.892252</td>\n      <td>2.386894</td>\n      <td>0</td>\n      <td>industrial</td>\n      <td>0.932489</td>\n      <td>0</td>\n      <td>1</td>\n      <td>6</td>\n      <td>2</td>\n      <td>0</td>\n      <td>POLYGON ((56.34129 58.02780, 56.34127 58.02781...</td>\n    </tr>\n    <tr>\n      <th>...</th>\n      <td>...</td>\n      <td>...</td>\n      <td>...</td>\n      <td>...</td>\n      <td>...</td>\n      <td>...</td>\n      <td>...</td>\n      <td>...</td>\n      <td>...</td>\n      <td>...</td>\n      <td>...</td>\n      <td>...</td>\n      <td>...</td>\n      <td>...</td>\n      <td>...</td>\n      <td>...</td>\n    </tr>\n    <tr>\n      <th>17504</th>\n      <td>3000</td>\n      <td>low_density</td>\n      <td>0.274725</td>\n      <td>0.000000</td>\n      <td>0.725275</td>\n      <td>5.342491</td>\n      <td>2.495559</td>\n      <td>0</td>\n      <td>service</td>\n      <td>0.725275</td>\n      <td>2</td>\n      <td>1</td>\n      <td>0</td>\n      <td>0</td>\n      <td>0</td>\n      <td>POLYGON ((56.31847 58.03896, 56.31846 58.03897...</td>\n    </tr>\n    <tr>\n      <th>17505</th>\n      <td>3000</td>\n      <td>low_density</td>\n      <td>0.274725</td>\n      <td>0.000000</td>\n      <td>0.725275</td>\n      <td>5.342491</td>\n      <td>2.495559</td>\n      <td>0</td>\n      <td>service</td>\n      <td>0.725275</td>\n      <td>2</td>\n      <td>1</td>\n      <td>0</td>\n      <td>0</td>\n      <td>0</td>\n      <td>POLYGON ((56.31847 58.03896, 56.31846 58.03897...</td>\n    </tr>\n    <tr>\n      <th>17506</th>\n      <td>3000</td>\n      <td>low_density</td>\n      <td>0.274725</td>\n      <td>0.000000</td>\n      <td>0.725275</td>\n      <td>5.342491</td>\n      <td>2.495559</td>\n      <td>0</td>\n      <td>service</td>\n      <td>0.725275</td>\n      <td>2</td>\n      <td>1</td>\n      <td>1</td>\n      <td>0</td>\n      <td>1</td>\n      <td>POLYGON ((56.31847 58.03896, 56.31846 58.03897...</td>\n    </tr>\n    <tr>\n      <th>17507</th>\n      <td>3000</td>\n      <td>low_density</td>\n      <td>0.274725</td>\n      <td>0.000000</td>\n      <td>0.725275</td>\n      <td>5.342491</td>\n      <td>2.495559</td>\n      <td>0</td>\n      <td>service</td>\n      <td>0.725275</td>\n      <td>2</td>\n      <td>1</td>\n      <td>0</td>\n      <td>0</td>\n      <td>0</td>\n      <td>POLYGON ((56.31847 58.03896, 56.31846 58.03897...</td>\n    </tr>\n    <tr>\n      <th>17508</th>\n      <td>3000</td>\n      <td>low_density</td>\n      <td>0.274725</td>\n      <td>0.000000</td>\n      <td>0.725275</td>\n      <td>5.342491</td>\n      <td>2.495559</td>\n      <td>0</td>\n      <td>service</td>\n      <td>0.725275</td>\n      <td>2</td>\n      <td>1</td>\n      <td>2</td>\n      <td>0</td>\n      <td>2</td>\n      <td>POLYGON ((56.31847 58.03896, 56.31846 58.03897...</td>\n    </tr>\n  </tbody>\n</table>\n<p>17509 rows × 16 columns</p>\n</div>"
     },
     "execution_count": 33,
     "metadata": {},
     "output_type": "execute_result"
    }
   ],
   "source": [
    "generated_tours = gpd.read_file(\"C:/Users/sm_pa/OneDrive/Рабочий стол/НИР3/perm_freight_modelling/data/step3_tours.geojson\")\n",
    "generated_tours"
   ],
   "metadata": {
    "collapsed": false,
    "ExecuteTime": {
     "end_time": "2024-01-19T19:35:44.977845800Z",
     "start_time": "2024-01-19T19:32:38.964539400Z"
    }
   },
   "id": "9142ae3c27f420c0"
  },
  {
   "cell_type": "code",
   "execution_count": 35,
   "outputs": [
    {
     "data": {
      "text/plain": "       zone_id      landuse  industrial    retail   service  \\\n0            6  low_density    0.932489  0.067511  0.000000   \n1            6  low_density    0.932489  0.067511  0.000000   \n2            6  low_density    0.932489  0.067511  0.000000   \n3            6  low_density    0.932489  0.067511  0.000000   \n4            6  low_density    0.932489  0.067511  0.000000   \n...        ...          ...         ...       ...       ...   \n17504     3000  low_density    0.274725  0.000000  0.725275   \n17505     3000  low_density    0.274725  0.000000  0.725275   \n17506     3000  low_density    0.274725  0.000000  0.725275   \n17507     3000  low_density    0.274725  0.000000  0.725275   \n17508     3000  low_density    0.274725  0.000000  0.725275   \n\n       population_availability  workers_availability  landuse_numeric  \\\n0                     4.892252              2.386894                0   \n1                     4.892252              2.386894                0   \n2                     4.892252              2.386894                0   \n3                     4.892252              2.386894                0   \n4                     4.892252              2.386894                0   \n...                        ...                   ...              ...   \n17504                 5.342491              2.495559                0   \n17505                 5.342491              2.495559                0   \n17506                 5.342491              2.495559                0   \n17507                 5.342491              2.495559                0   \n17508                 5.342491              2.495559                0   \n\n         industry  employment_share  industry_numeric  time_of_day  \\\n0      industrial          0.932489                 0            1   \n1      industrial          0.932489                 0            1   \n2      industrial          0.932489                 0            0   \n3      industrial          0.932489                 0            0   \n4      industrial          0.932489                 0            1   \n...           ...               ...               ...          ...   \n17504     service          0.725275                 2            1   \n17505     service          0.725275                 2            1   \n17506     service          0.725275                 2            1   \n17507     service          0.725275                 2            1   \n17508     service          0.725275                 2            1   \n\n       vehicle_purpose  vehicle_type  tour_purpose  \\\n0                    3             1             0   \n1                    0             0             0   \n2                    3             1             0   \n3                    3             1             0   \n4                    6             2             0   \n...                ...           ...           ...   \n17504                0             0             0   \n17505                0             0             0   \n17506                1             0             1   \n17507                0             0             0   \n17508                2             0             2   \n\n                                                geometry assigned_start_time  \n0      POLYGON ((56.34129 58.02780, 56.34127 58.02781... 1900-01-01 16:17:00  \n1      POLYGON ((56.34129 58.02780, 56.34127 58.02781... 1900-01-01 16:27:00  \n2      POLYGON ((56.34129 58.02780, 56.34127 58.02781... 1900-01-01 10:40:00  \n3      POLYGON ((56.34129 58.02780, 56.34127 58.02781... 1900-01-01 09:34:00  \n4      POLYGON ((56.34129 58.02780, 56.34127 58.02781... 1900-01-01 14:18:00  \n...                                                  ...                 ...  \n17504  POLYGON ((56.31847 58.03896, 56.31846 58.03897... 1900-01-01 16:44:00  \n17505  POLYGON ((56.31847 58.03896, 56.31846 58.03897... 1900-01-01 12:11:00  \n17506  POLYGON ((56.31847 58.03896, 56.31846 58.03897... 1900-01-01 15:03:00  \n17507  POLYGON ((56.31847 58.03896, 56.31846 58.03897... 1900-01-01 14:57:00  \n17508  POLYGON ((56.31847 58.03896, 56.31846 58.03897... 1900-01-01 16:04:00  \n\n[17509 rows x 17 columns]",
      "text/html": "<div>\n<style scoped>\n    .dataframe tbody tr th:only-of-type {\n        vertical-align: middle;\n    }\n\n    .dataframe tbody tr th {\n        vertical-align: top;\n    }\n\n    .dataframe thead th {\n        text-align: right;\n    }\n</style>\n<table border=\"1\" class=\"dataframe\">\n  <thead>\n    <tr style=\"text-align: right;\">\n      <th></th>\n      <th>zone_id</th>\n      <th>landuse</th>\n      <th>industrial</th>\n      <th>retail</th>\n      <th>service</th>\n      <th>population_availability</th>\n      <th>workers_availability</th>\n      <th>landuse_numeric</th>\n      <th>industry</th>\n      <th>employment_share</th>\n      <th>industry_numeric</th>\n      <th>time_of_day</th>\n      <th>vehicle_purpose</th>\n      <th>vehicle_type</th>\n      <th>tour_purpose</th>\n      <th>geometry</th>\n      <th>assigned_start_time</th>\n    </tr>\n  </thead>\n  <tbody>\n    <tr>\n      <th>0</th>\n      <td>6</td>\n      <td>low_density</td>\n      <td>0.932489</td>\n      <td>0.067511</td>\n      <td>0.000000</td>\n      <td>4.892252</td>\n      <td>2.386894</td>\n      <td>0</td>\n      <td>industrial</td>\n      <td>0.932489</td>\n      <td>0</td>\n      <td>1</td>\n      <td>3</td>\n      <td>1</td>\n      <td>0</td>\n      <td>POLYGON ((56.34129 58.02780, 56.34127 58.02781...</td>\n      <td>1900-01-01 16:17:00</td>\n    </tr>\n    <tr>\n      <th>1</th>\n      <td>6</td>\n      <td>low_density</td>\n      <td>0.932489</td>\n      <td>0.067511</td>\n      <td>0.000000</td>\n      <td>4.892252</td>\n      <td>2.386894</td>\n      <td>0</td>\n      <td>industrial</td>\n      <td>0.932489</td>\n      <td>0</td>\n      <td>1</td>\n      <td>0</td>\n      <td>0</td>\n      <td>0</td>\n      <td>POLYGON ((56.34129 58.02780, 56.34127 58.02781...</td>\n      <td>1900-01-01 16:27:00</td>\n    </tr>\n    <tr>\n      <th>2</th>\n      <td>6</td>\n      <td>low_density</td>\n      <td>0.932489</td>\n      <td>0.067511</td>\n      <td>0.000000</td>\n      <td>4.892252</td>\n      <td>2.386894</td>\n      <td>0</td>\n      <td>industrial</td>\n      <td>0.932489</td>\n      <td>0</td>\n      <td>0</td>\n      <td>3</td>\n      <td>1</td>\n      <td>0</td>\n      <td>POLYGON ((56.34129 58.02780, 56.34127 58.02781...</td>\n      <td>1900-01-01 10:40:00</td>\n    </tr>\n    <tr>\n      <th>3</th>\n      <td>6</td>\n      <td>low_density</td>\n      <td>0.932489</td>\n      <td>0.067511</td>\n      <td>0.000000</td>\n      <td>4.892252</td>\n      <td>2.386894</td>\n      <td>0</td>\n      <td>industrial</td>\n      <td>0.932489</td>\n      <td>0</td>\n      <td>0</td>\n      <td>3</td>\n      <td>1</td>\n      <td>0</td>\n      <td>POLYGON ((56.34129 58.02780, 56.34127 58.02781...</td>\n      <td>1900-01-01 09:34:00</td>\n    </tr>\n    <tr>\n      <th>4</th>\n      <td>6</td>\n      <td>low_density</td>\n      <td>0.932489</td>\n      <td>0.067511</td>\n      <td>0.000000</td>\n      <td>4.892252</td>\n      <td>2.386894</td>\n      <td>0</td>\n      <td>industrial</td>\n      <td>0.932489</td>\n      <td>0</td>\n      <td>1</td>\n      <td>6</td>\n      <td>2</td>\n      <td>0</td>\n      <td>POLYGON ((56.34129 58.02780, 56.34127 58.02781...</td>\n      <td>1900-01-01 14:18:00</td>\n    </tr>\n    <tr>\n      <th>...</th>\n      <td>...</td>\n      <td>...</td>\n      <td>...</td>\n      <td>...</td>\n      <td>...</td>\n      <td>...</td>\n      <td>...</td>\n      <td>...</td>\n      <td>...</td>\n      <td>...</td>\n      <td>...</td>\n      <td>...</td>\n      <td>...</td>\n      <td>...</td>\n      <td>...</td>\n      <td>...</td>\n      <td>...</td>\n    </tr>\n    <tr>\n      <th>17504</th>\n      <td>3000</td>\n      <td>low_density</td>\n      <td>0.274725</td>\n      <td>0.000000</td>\n      <td>0.725275</td>\n      <td>5.342491</td>\n      <td>2.495559</td>\n      <td>0</td>\n      <td>service</td>\n      <td>0.725275</td>\n      <td>2</td>\n      <td>1</td>\n      <td>0</td>\n      <td>0</td>\n      <td>0</td>\n      <td>POLYGON ((56.31847 58.03896, 56.31846 58.03897...</td>\n      <td>1900-01-01 16:44:00</td>\n    </tr>\n    <tr>\n      <th>17505</th>\n      <td>3000</td>\n      <td>low_density</td>\n      <td>0.274725</td>\n      <td>0.000000</td>\n      <td>0.725275</td>\n      <td>5.342491</td>\n      <td>2.495559</td>\n      <td>0</td>\n      <td>service</td>\n      <td>0.725275</td>\n      <td>2</td>\n      <td>1</td>\n      <td>0</td>\n      <td>0</td>\n      <td>0</td>\n      <td>POLYGON ((56.31847 58.03896, 56.31846 58.03897...</td>\n      <td>1900-01-01 12:11:00</td>\n    </tr>\n    <tr>\n      <th>17506</th>\n      <td>3000</td>\n      <td>low_density</td>\n      <td>0.274725</td>\n      <td>0.000000</td>\n      <td>0.725275</td>\n      <td>5.342491</td>\n      <td>2.495559</td>\n      <td>0</td>\n      <td>service</td>\n      <td>0.725275</td>\n      <td>2</td>\n      <td>1</td>\n      <td>1</td>\n      <td>0</td>\n      <td>1</td>\n      <td>POLYGON ((56.31847 58.03896, 56.31846 58.03897...</td>\n      <td>1900-01-01 15:03:00</td>\n    </tr>\n    <tr>\n      <th>17507</th>\n      <td>3000</td>\n      <td>low_density</td>\n      <td>0.274725</td>\n      <td>0.000000</td>\n      <td>0.725275</td>\n      <td>5.342491</td>\n      <td>2.495559</td>\n      <td>0</td>\n      <td>service</td>\n      <td>0.725275</td>\n      <td>2</td>\n      <td>1</td>\n      <td>0</td>\n      <td>0</td>\n      <td>0</td>\n      <td>POLYGON ((56.31847 58.03896, 56.31846 58.03897...</td>\n      <td>1900-01-01 14:57:00</td>\n    </tr>\n    <tr>\n      <th>17508</th>\n      <td>3000</td>\n      <td>low_density</td>\n      <td>0.274725</td>\n      <td>0.000000</td>\n      <td>0.725275</td>\n      <td>5.342491</td>\n      <td>2.495559</td>\n      <td>0</td>\n      <td>service</td>\n      <td>0.725275</td>\n      <td>2</td>\n      <td>1</td>\n      <td>2</td>\n      <td>0</td>\n      <td>2</td>\n      <td>POLYGON ((56.31847 58.03896, 56.31846 58.03897...</td>\n      <td>1900-01-01 16:04:00</td>\n    </tr>\n  </tbody>\n</table>\n<p>17509 rows × 17 columns</p>\n</div>"
     },
     "execution_count": 35,
     "metadata": {},
     "output_type": "execute_result"
    }
   ],
   "source": [
    "import random\n",
    "\n",
    "# Инициализация списка для сохранения назначенных времен начала туров\n",
    "assigned_start_times = []\n",
    "\n",
    "# Проход по каждому туру\n",
    "for index, row in generated_tours.iterrows():\n",
    "    # Определение времени суток для текущего тура\n",
    "    time_of_day = row['time_of_day']\n",
    "\n",
    "    # Выбор соответствующего массива времен в зависимости от времени суток\n",
    "    if time_of_day == 0:\n",
    "        time_starts = morning_starts\n",
    "    elif time_of_day == 1:\n",
    "        time_starts = day_starts\n",
    "    elif time_of_day == 2:\n",
    "        time_starts = night_starts\n",
    "    else:\n",
    "        raise ValueError(f\"Неизвестное значение времени суток: {time_of_day}\")\n",
    "\n",
    "    # Выбор случайного времени из соответствующего массива\n",
    "    assigned_start_times.append(random.choice(time_starts))\n",
    "\n",
    "# Добавление назначенных времен начала в исходные данные\n",
    "generated_tours['assigned_start_time'] = assigned_start_times\n",
    "\n",
    "# generated_tours теперь содержит назначенные времена начала для каждого тура в соответствии с временем суток\n",
    "generated_tours"
   ],
   "metadata": {
    "collapsed": false,
    "ExecuteTime": {
     "end_time": "2024-01-19T19:41:18.898380700Z",
     "start_time": "2024-01-19T19:41:16.909922800Z"
    }
   },
   "id": "7afc29ab642f2509"
  },
  {
   "cell_type": "code",
   "execution_count": 37,
   "outputs": [],
   "source": [
    "generated_tours.to_file('data/step4_tours.geojson', driver='GeoJSON')"
   ],
   "metadata": {
    "collapsed": false,
    "ExecuteTime": {
     "end_time": "2024-01-19T19:47:11.975425100Z",
     "start_time": "2024-01-19T19:45:33.387203600Z"
    }
   },
   "id": "ccb02e72265b4f8a"
  },
  {
   "cell_type": "raw",
   "source": [
    "5 и 6 шаги метода: итеративная генерация остановок с 1.целью 2.месторасположением 3.продолжительностью"
   ],
   "metadata": {
    "collapsed": false
   },
   "id": "b95686a99f0ba5f8"
  },
  {
   "cell_type": "code",
   "execution_count": 2,
   "outputs": [],
   "source": [
    "import json"
   ],
   "metadata": {
    "collapsed": false,
    "ExecuteTime": {
     "end_time": "2024-01-20T17:00:32.633755Z",
     "start_time": "2024-01-20T17:00:32.540001600Z"
    }
   },
   "id": "5499987577c9d0cb"
  },
  {
   "cell_type": "code",
   "execution_count": 51,
   "outputs": [
    {
     "data": {
      "text/plain": "      Unnamed: 0    id  block_id    industry      landuse  \\\n0              0     0       324  industrial  residential   \n1              1     1       324  industrial  residential   \n2              2     2      1884  industrial   industrial   \n3              3     3      1884  industrial   industrial   \n4              4     4      1884  industrial   industrial   \n...          ...   ...       ...         ...          ...   \n1560        1560  1560       209     service   industrial   \n1561        1561  1561       209     service   industrial   \n1562        1562  1562       209     service   industrial   \n1563        1563  1563       943  industrial   industrial   \n1564        1564  1564       294     service   industrial   \n\n      population_availability  workers_availability  employment_share  \\\n0                    6.314141              2.824434          0.865545   \n1                    6.314141              2.824434          0.865545   \n2                    5.604110              2.824705          0.944083   \n3                    5.604110              2.824705          0.944083   \n4                    5.604110              2.824705          0.944083   \n...                       ...                   ...               ...   \n1560                 5.036346              2.504850          0.056708   \n1561                 5.036346              2.504850          0.056708   \n1562                 5.036346              2.504850          0.056708   \n1563                 4.979759              2.434761          0.801968   \n1564                 4.802194              2.488054          0.106638   \n\n      company_id       departure_time  vehicle_type  tour_purpose  \\\n0      206819075  1900-01-01 15:38:00             1             0   \n1      206819075  1900-01-01 10:51:00             2             0   \n2      698090257  1900-01-01 16:28:00             0             1   \n3      698090257  1900-01-01 09:14:00             2             0   \n4      698090257  1900-01-01 14:42:00             0             0   \n...          ...                  ...           ...           ...   \n1560  1103860108  1900-01-01 15:16:00             0             0   \n1561  1103860108  1900-01-01 10:19:00             0             1   \n1562  1103860108  1900-01-01 11:40:00             0             1   \n1563  1136615387  1900-01-01 09:48:00             0             0   \n1564  1147236714  1900-01-01 10:19:00             0             0   \n\n      time_of_day  industry_numeric  landuse_numeric  vehicle_purpose  \\\n0               1                 0                1                3   \n1               0                 0                1                6   \n2               1                 0                3                1   \n3               0                 0                3                6   \n4               1                 0                3                0   \n...           ...               ...              ...              ...   \n1560            1                 2                3                0   \n1561            0                 2                3                1   \n1562            1                 2                3                1   \n1563            0                 0                3                0   \n1564            0                 2                3                0   \n\n                                               geometry  num_stops  \\\n0     MULTIPOLYGON (((56.2434834 57.9768117, 56.2435...          3   \n1     MULTIPOLYGON (((56.2434834 57.9768117, 56.2435...          3   \n2     MULTIPOLYGON (((56.1593721 58.0091175, 56.1597...          3   \n3     MULTIPOLYGON (((56.1593721 58.0091175, 56.1597...          8   \n4     MULTIPOLYGON (((56.1593721 58.0091175, 56.1597...          7   \n...                                                 ...        ...   \n1560  MULTIPOLYGON (((56.1670356 58.040318099999986,...          3   \n1561  MULTIPOLYGON (((56.1670356 58.040318099999986,...          4   \n1562  MULTIPOLYGON (((56.1670356 58.040318099999986,...          3   \n1563  MULTIPOLYGON (((56.1388268 58.0197489, 56.1389...          5   \n1564  MULTIPOLYGON (((56.1744929 57.9141385, 56.1746...          5   \n\n                                                  stops  \n0     [{\"purpose\": 1, \"zone_id\": 777, \"duration\": 24...  \n1     [{\"purpose\": 1, \"zone_id\": 771, \"duration\": 29...  \n2     [{\"purpose\": 0, \"zone_id\": 378, \"duration\": 14...  \n3     [{\"purpose\": 0, \"zone_id\": 1883, \"duration\": 3...  \n4     [{\"purpose\": 0, \"zone_id\": 1550, \"duration\": 2...  \n...                                                 ...  \n1560  [{\"purpose\": 1, \"zone_id\": 2059, \"duration\": 2...  \n1561  [{\"purpose\": 1, \"zone_id\": 471, \"duration\": 11...  \n1562  [{\"purpose\": 1, \"zone_id\": 632, \"duration\": 37...  \n1563  [{\"purpose\": 1, \"zone_id\": 1491, \"duration\": 1...  \n1564  [{\"purpose\": 0, \"zone_id\": 17, \"duration\": 35,...  \n\n[1565 rows x 19 columns]",
      "text/html": "<div>\n<style scoped>\n    .dataframe tbody tr th:only-of-type {\n        vertical-align: middle;\n    }\n\n    .dataframe tbody tr th {\n        vertical-align: top;\n    }\n\n    .dataframe thead th {\n        text-align: right;\n    }\n</style>\n<table border=\"1\" class=\"dataframe\">\n  <thead>\n    <tr style=\"text-align: right;\">\n      <th></th>\n      <th>Unnamed: 0</th>\n      <th>id</th>\n      <th>block_id</th>\n      <th>industry</th>\n      <th>landuse</th>\n      <th>population_availability</th>\n      <th>workers_availability</th>\n      <th>employment_share</th>\n      <th>company_id</th>\n      <th>departure_time</th>\n      <th>vehicle_type</th>\n      <th>tour_purpose</th>\n      <th>time_of_day</th>\n      <th>industry_numeric</th>\n      <th>landuse_numeric</th>\n      <th>vehicle_purpose</th>\n      <th>geometry</th>\n      <th>num_stops</th>\n      <th>stops</th>\n    </tr>\n  </thead>\n  <tbody>\n    <tr>\n      <th>0</th>\n      <td>0</td>\n      <td>0</td>\n      <td>324</td>\n      <td>industrial</td>\n      <td>residential</td>\n      <td>6.314141</td>\n      <td>2.824434</td>\n      <td>0.865545</td>\n      <td>206819075</td>\n      <td>1900-01-01 15:38:00</td>\n      <td>1</td>\n      <td>0</td>\n      <td>1</td>\n      <td>0</td>\n      <td>1</td>\n      <td>3</td>\n      <td>MULTIPOLYGON (((56.2434834 57.9768117, 56.2435...</td>\n      <td>3</td>\n      <td>[{\"purpose\": 1, \"zone_id\": 777, \"duration\": 24...</td>\n    </tr>\n    <tr>\n      <th>1</th>\n      <td>1</td>\n      <td>1</td>\n      <td>324</td>\n      <td>industrial</td>\n      <td>residential</td>\n      <td>6.314141</td>\n      <td>2.824434</td>\n      <td>0.865545</td>\n      <td>206819075</td>\n      <td>1900-01-01 10:51:00</td>\n      <td>2</td>\n      <td>0</td>\n      <td>0</td>\n      <td>0</td>\n      <td>1</td>\n      <td>6</td>\n      <td>MULTIPOLYGON (((56.2434834 57.9768117, 56.2435...</td>\n      <td>3</td>\n      <td>[{\"purpose\": 1, \"zone_id\": 771, \"duration\": 29...</td>\n    </tr>\n    <tr>\n      <th>2</th>\n      <td>2</td>\n      <td>2</td>\n      <td>1884</td>\n      <td>industrial</td>\n      <td>industrial</td>\n      <td>5.604110</td>\n      <td>2.824705</td>\n      <td>0.944083</td>\n      <td>698090257</td>\n      <td>1900-01-01 16:28:00</td>\n      <td>0</td>\n      <td>1</td>\n      <td>1</td>\n      <td>0</td>\n      <td>3</td>\n      <td>1</td>\n      <td>MULTIPOLYGON (((56.1593721 58.0091175, 56.1597...</td>\n      <td>3</td>\n      <td>[{\"purpose\": 0, \"zone_id\": 378, \"duration\": 14...</td>\n    </tr>\n    <tr>\n      <th>3</th>\n      <td>3</td>\n      <td>3</td>\n      <td>1884</td>\n      <td>industrial</td>\n      <td>industrial</td>\n      <td>5.604110</td>\n      <td>2.824705</td>\n      <td>0.944083</td>\n      <td>698090257</td>\n      <td>1900-01-01 09:14:00</td>\n      <td>2</td>\n      <td>0</td>\n      <td>0</td>\n      <td>0</td>\n      <td>3</td>\n      <td>6</td>\n      <td>MULTIPOLYGON (((56.1593721 58.0091175, 56.1597...</td>\n      <td>8</td>\n      <td>[{\"purpose\": 0, \"zone_id\": 1883, \"duration\": 3...</td>\n    </tr>\n    <tr>\n      <th>4</th>\n      <td>4</td>\n      <td>4</td>\n      <td>1884</td>\n      <td>industrial</td>\n      <td>industrial</td>\n      <td>5.604110</td>\n      <td>2.824705</td>\n      <td>0.944083</td>\n      <td>698090257</td>\n      <td>1900-01-01 14:42:00</td>\n      <td>0</td>\n      <td>0</td>\n      <td>1</td>\n      <td>0</td>\n      <td>3</td>\n      <td>0</td>\n      <td>MULTIPOLYGON (((56.1593721 58.0091175, 56.1597...</td>\n      <td>7</td>\n      <td>[{\"purpose\": 0, \"zone_id\": 1550, \"duration\": 2...</td>\n    </tr>\n    <tr>\n      <th>...</th>\n      <td>...</td>\n      <td>...</td>\n      <td>...</td>\n      <td>...</td>\n      <td>...</td>\n      <td>...</td>\n      <td>...</td>\n      <td>...</td>\n      <td>...</td>\n      <td>...</td>\n      <td>...</td>\n      <td>...</td>\n      <td>...</td>\n      <td>...</td>\n      <td>...</td>\n      <td>...</td>\n      <td>...</td>\n      <td>...</td>\n      <td>...</td>\n    </tr>\n    <tr>\n      <th>1560</th>\n      <td>1560</td>\n      <td>1560</td>\n      <td>209</td>\n      <td>service</td>\n      <td>industrial</td>\n      <td>5.036346</td>\n      <td>2.504850</td>\n      <td>0.056708</td>\n      <td>1103860108</td>\n      <td>1900-01-01 15:16:00</td>\n      <td>0</td>\n      <td>0</td>\n      <td>1</td>\n      <td>2</td>\n      <td>3</td>\n      <td>0</td>\n      <td>MULTIPOLYGON (((56.1670356 58.040318099999986,...</td>\n      <td>3</td>\n      <td>[{\"purpose\": 1, \"zone_id\": 2059, \"duration\": 2...</td>\n    </tr>\n    <tr>\n      <th>1561</th>\n      <td>1561</td>\n      <td>1561</td>\n      <td>209</td>\n      <td>service</td>\n      <td>industrial</td>\n      <td>5.036346</td>\n      <td>2.504850</td>\n      <td>0.056708</td>\n      <td>1103860108</td>\n      <td>1900-01-01 10:19:00</td>\n      <td>0</td>\n      <td>1</td>\n      <td>0</td>\n      <td>2</td>\n      <td>3</td>\n      <td>1</td>\n      <td>MULTIPOLYGON (((56.1670356 58.040318099999986,...</td>\n      <td>4</td>\n      <td>[{\"purpose\": 1, \"zone_id\": 471, \"duration\": 11...</td>\n    </tr>\n    <tr>\n      <th>1562</th>\n      <td>1562</td>\n      <td>1562</td>\n      <td>209</td>\n      <td>service</td>\n      <td>industrial</td>\n      <td>5.036346</td>\n      <td>2.504850</td>\n      <td>0.056708</td>\n      <td>1103860108</td>\n      <td>1900-01-01 11:40:00</td>\n      <td>0</td>\n      <td>1</td>\n      <td>1</td>\n      <td>2</td>\n      <td>3</td>\n      <td>1</td>\n      <td>MULTIPOLYGON (((56.1670356 58.040318099999986,...</td>\n      <td>3</td>\n      <td>[{\"purpose\": 1, \"zone_id\": 632, \"duration\": 37...</td>\n    </tr>\n    <tr>\n      <th>1563</th>\n      <td>1563</td>\n      <td>1563</td>\n      <td>943</td>\n      <td>industrial</td>\n      <td>industrial</td>\n      <td>4.979759</td>\n      <td>2.434761</td>\n      <td>0.801968</td>\n      <td>1136615387</td>\n      <td>1900-01-01 09:48:00</td>\n      <td>0</td>\n      <td>0</td>\n      <td>0</td>\n      <td>0</td>\n      <td>3</td>\n      <td>0</td>\n      <td>MULTIPOLYGON (((56.1388268 58.0197489, 56.1389...</td>\n      <td>5</td>\n      <td>[{\"purpose\": 1, \"zone_id\": 1491, \"duration\": 1...</td>\n    </tr>\n    <tr>\n      <th>1564</th>\n      <td>1564</td>\n      <td>1564</td>\n      <td>294</td>\n      <td>service</td>\n      <td>industrial</td>\n      <td>4.802194</td>\n      <td>2.488054</td>\n      <td>0.106638</td>\n      <td>1147236714</td>\n      <td>1900-01-01 10:19:00</td>\n      <td>0</td>\n      <td>0</td>\n      <td>0</td>\n      <td>2</td>\n      <td>3</td>\n      <td>0</td>\n      <td>MULTIPOLYGON (((56.1744929 57.9141385, 56.1746...</td>\n      <td>5</td>\n      <td>[{\"purpose\": 0, \"zone_id\": 17, \"duration\": 35,...</td>\n    </tr>\n  </tbody>\n</table>\n<p>1565 rows × 19 columns</p>\n</div>"
     },
     "execution_count": 51,
     "metadata": {},
     "output_type": "execute_result"
    }
   ],
   "source": [
    "# Загрузка данных из CSV\n",
    "synthetic_tours_data = pd.read_csv('C:/Users/sm_pa/OneDrive/Рабочий стол/НИР3/perm_freight_modelling/data/stops_synthetic.csv')\n",
    "\n",
    "# Преобразование строки JSON обратно в список словарей для каждой записи\n",
    "synthetic_tours_data['stops'] = synthetic_tours_data['stops'].apply(json.loads)\n",
    "\n",
    "synthetic_tours_data"
   ],
   "metadata": {
    "collapsed": false,
    "ExecuteTime": {
     "end_time": "2024-01-20T15:18:42.546325Z",
     "start_time": "2024-01-20T15:18:40.726542800Z"
    }
   },
   "id": "dd124865322b9415"
  },
  {
   "cell_type": "code",
   "execution_count": 5,
   "outputs": [],
   "source": [
    "generated_tours = gpd.read_file(\"C:/Users/sm_pa/OneDrive/Рабочий стол/НИР3/perm_freight_modelling/data/step4_tours.geojson\")"
   ],
   "metadata": {
    "collapsed": false,
    "ExecuteTime": {
     "end_time": "2024-01-20T15:36:29.199407800Z",
     "start_time": "2024-01-20T15:33:12.221230Z"
    }
   },
   "id": "7a86ecfb1ded9265"
  },
  {
   "cell_type": "code",
   "execution_count": 7,
   "outputs": [
    {
     "data": {
      "text/plain": "       zone_id      landuse  industrial    retail   service  \\\n0            6  low_density    0.932489  0.067511  0.000000   \n1            6  low_density    0.932489  0.067511  0.000000   \n2            6  low_density    0.932489  0.067511  0.000000   \n3            6  low_density    0.932489  0.067511  0.000000   \n4            6  low_density    0.932489  0.067511  0.000000   \n...        ...          ...         ...       ...       ...   \n17504     3000  low_density    0.274725  0.000000  0.725275   \n17505     3000  low_density    0.274725  0.000000  0.725275   \n17506     3000  low_density    0.274725  0.000000  0.725275   \n17507     3000  low_density    0.274725  0.000000  0.725275   \n17508     3000  low_density    0.274725  0.000000  0.725275   \n\n       population_availability  workers_availability  landuse_numeric  \\\n0                     4.892252              2.386894                0   \n1                     4.892252              2.386894                0   \n2                     4.892252              2.386894                0   \n3                     4.892252              2.386894                0   \n4                     4.892252              2.386894                0   \n...                        ...                   ...              ...   \n17504                 5.342491              2.495559                0   \n17505                 5.342491              2.495559                0   \n17506                 5.342491              2.495559                0   \n17507                 5.342491              2.495559                0   \n17508                 5.342491              2.495559                0   \n\n         industry  employment_share  industry_numeric  time_of_day  \\\n0      industrial          0.932489                 0            1   \n1      industrial          0.932489                 0            1   \n2      industrial          0.932489                 0            0   \n3      industrial          0.932489                 0            0   \n4      industrial          0.932489                 0            1   \n...           ...               ...               ...          ...   \n17504     service          0.725275                 2            1   \n17505     service          0.725275                 2            1   \n17506     service          0.725275                 2            1   \n17507     service          0.725275                 2            1   \n17508     service          0.725275                 2            1   \n\n       vehicle_purpose  vehicle_type  tour_purpose assigned_start_time  \\\n0                    3             1             0 1900-01-01 16:17:00   \n1                    0             0             0 1900-01-01 16:27:00   \n2                    3             1             0 1900-01-01 10:40:00   \n3                    3             1             0 1900-01-01 09:34:00   \n4                    6             2             0 1900-01-01 14:18:00   \n...                ...           ...           ...                 ...   \n17504                0             0             0 1900-01-01 16:44:00   \n17505                0             0             0 1900-01-01 12:11:00   \n17506                1             0             1 1900-01-01 15:03:00   \n17507                0             0             0 1900-01-01 14:57:00   \n17508                2             0             2 1900-01-01 16:04:00   \n\n                                                geometry  \n0      POLYGON ((56.34129 58.02780, 56.34127 58.02781...  \n1      POLYGON ((56.34129 58.02780, 56.34127 58.02781...  \n2      POLYGON ((56.34129 58.02780, 56.34127 58.02781...  \n3      POLYGON ((56.34129 58.02780, 56.34127 58.02781...  \n4      POLYGON ((56.34129 58.02780, 56.34127 58.02781...  \n...                                                  ...  \n17504  POLYGON ((56.31847 58.03896, 56.31846 58.03897...  \n17505  POLYGON ((56.31847 58.03896, 56.31846 58.03897...  \n17506  POLYGON ((56.31847 58.03896, 56.31846 58.03897...  \n17507  POLYGON ((56.31847 58.03896, 56.31846 58.03897...  \n17508  POLYGON ((56.31847 58.03896, 56.31846 58.03897...  \n\n[17509 rows x 17 columns]",
      "text/html": "<div>\n<style scoped>\n    .dataframe tbody tr th:only-of-type {\n        vertical-align: middle;\n    }\n\n    .dataframe tbody tr th {\n        vertical-align: top;\n    }\n\n    .dataframe thead th {\n        text-align: right;\n    }\n</style>\n<table border=\"1\" class=\"dataframe\">\n  <thead>\n    <tr style=\"text-align: right;\">\n      <th></th>\n      <th>zone_id</th>\n      <th>landuse</th>\n      <th>industrial</th>\n      <th>retail</th>\n      <th>service</th>\n      <th>population_availability</th>\n      <th>workers_availability</th>\n      <th>landuse_numeric</th>\n      <th>industry</th>\n      <th>employment_share</th>\n      <th>industry_numeric</th>\n      <th>time_of_day</th>\n      <th>vehicle_purpose</th>\n      <th>vehicle_type</th>\n      <th>tour_purpose</th>\n      <th>assigned_start_time</th>\n      <th>geometry</th>\n    </tr>\n  </thead>\n  <tbody>\n    <tr>\n      <th>0</th>\n      <td>6</td>\n      <td>low_density</td>\n      <td>0.932489</td>\n      <td>0.067511</td>\n      <td>0.000000</td>\n      <td>4.892252</td>\n      <td>2.386894</td>\n      <td>0</td>\n      <td>industrial</td>\n      <td>0.932489</td>\n      <td>0</td>\n      <td>1</td>\n      <td>3</td>\n      <td>1</td>\n      <td>0</td>\n      <td>1900-01-01 16:17:00</td>\n      <td>POLYGON ((56.34129 58.02780, 56.34127 58.02781...</td>\n    </tr>\n    <tr>\n      <th>1</th>\n      <td>6</td>\n      <td>low_density</td>\n      <td>0.932489</td>\n      <td>0.067511</td>\n      <td>0.000000</td>\n      <td>4.892252</td>\n      <td>2.386894</td>\n      <td>0</td>\n      <td>industrial</td>\n      <td>0.932489</td>\n      <td>0</td>\n      <td>1</td>\n      <td>0</td>\n      <td>0</td>\n      <td>0</td>\n      <td>1900-01-01 16:27:00</td>\n      <td>POLYGON ((56.34129 58.02780, 56.34127 58.02781...</td>\n    </tr>\n    <tr>\n      <th>2</th>\n      <td>6</td>\n      <td>low_density</td>\n      <td>0.932489</td>\n      <td>0.067511</td>\n      <td>0.000000</td>\n      <td>4.892252</td>\n      <td>2.386894</td>\n      <td>0</td>\n      <td>industrial</td>\n      <td>0.932489</td>\n      <td>0</td>\n      <td>0</td>\n      <td>3</td>\n      <td>1</td>\n      <td>0</td>\n      <td>1900-01-01 10:40:00</td>\n      <td>POLYGON ((56.34129 58.02780, 56.34127 58.02781...</td>\n    </tr>\n    <tr>\n      <th>3</th>\n      <td>6</td>\n      <td>low_density</td>\n      <td>0.932489</td>\n      <td>0.067511</td>\n      <td>0.000000</td>\n      <td>4.892252</td>\n      <td>2.386894</td>\n      <td>0</td>\n      <td>industrial</td>\n      <td>0.932489</td>\n      <td>0</td>\n      <td>0</td>\n      <td>3</td>\n      <td>1</td>\n      <td>0</td>\n      <td>1900-01-01 09:34:00</td>\n      <td>POLYGON ((56.34129 58.02780, 56.34127 58.02781...</td>\n    </tr>\n    <tr>\n      <th>4</th>\n      <td>6</td>\n      <td>low_density</td>\n      <td>0.932489</td>\n      <td>0.067511</td>\n      <td>0.000000</td>\n      <td>4.892252</td>\n      <td>2.386894</td>\n      <td>0</td>\n      <td>industrial</td>\n      <td>0.932489</td>\n      <td>0</td>\n      <td>1</td>\n      <td>6</td>\n      <td>2</td>\n      <td>0</td>\n      <td>1900-01-01 14:18:00</td>\n      <td>POLYGON ((56.34129 58.02780, 56.34127 58.02781...</td>\n    </tr>\n    <tr>\n      <th>...</th>\n      <td>...</td>\n      <td>...</td>\n      <td>...</td>\n      <td>...</td>\n      <td>...</td>\n      <td>...</td>\n      <td>...</td>\n      <td>...</td>\n      <td>...</td>\n      <td>...</td>\n      <td>...</td>\n      <td>...</td>\n      <td>...</td>\n      <td>...</td>\n      <td>...</td>\n      <td>...</td>\n      <td>...</td>\n    </tr>\n    <tr>\n      <th>17504</th>\n      <td>3000</td>\n      <td>low_density</td>\n      <td>0.274725</td>\n      <td>0.000000</td>\n      <td>0.725275</td>\n      <td>5.342491</td>\n      <td>2.495559</td>\n      <td>0</td>\n      <td>service</td>\n      <td>0.725275</td>\n      <td>2</td>\n      <td>1</td>\n      <td>0</td>\n      <td>0</td>\n      <td>0</td>\n      <td>1900-01-01 16:44:00</td>\n      <td>POLYGON ((56.31847 58.03896, 56.31846 58.03897...</td>\n    </tr>\n    <tr>\n      <th>17505</th>\n      <td>3000</td>\n      <td>low_density</td>\n      <td>0.274725</td>\n      <td>0.000000</td>\n      <td>0.725275</td>\n      <td>5.342491</td>\n      <td>2.495559</td>\n      <td>0</td>\n      <td>service</td>\n      <td>0.725275</td>\n      <td>2</td>\n      <td>1</td>\n      <td>0</td>\n      <td>0</td>\n      <td>0</td>\n      <td>1900-01-01 12:11:00</td>\n      <td>POLYGON ((56.31847 58.03896, 56.31846 58.03897...</td>\n    </tr>\n    <tr>\n      <th>17506</th>\n      <td>3000</td>\n      <td>low_density</td>\n      <td>0.274725</td>\n      <td>0.000000</td>\n      <td>0.725275</td>\n      <td>5.342491</td>\n      <td>2.495559</td>\n      <td>0</td>\n      <td>service</td>\n      <td>0.725275</td>\n      <td>2</td>\n      <td>1</td>\n      <td>1</td>\n      <td>0</td>\n      <td>1</td>\n      <td>1900-01-01 15:03:00</td>\n      <td>POLYGON ((56.31847 58.03896, 56.31846 58.03897...</td>\n    </tr>\n    <tr>\n      <th>17507</th>\n      <td>3000</td>\n      <td>low_density</td>\n      <td>0.274725</td>\n      <td>0.000000</td>\n      <td>0.725275</td>\n      <td>5.342491</td>\n      <td>2.495559</td>\n      <td>0</td>\n      <td>service</td>\n      <td>0.725275</td>\n      <td>2</td>\n      <td>1</td>\n      <td>0</td>\n      <td>0</td>\n      <td>0</td>\n      <td>1900-01-01 14:57:00</td>\n      <td>POLYGON ((56.31847 58.03896, 56.31846 58.03897...</td>\n    </tr>\n    <tr>\n      <th>17508</th>\n      <td>3000</td>\n      <td>low_density</td>\n      <td>0.274725</td>\n      <td>0.000000</td>\n      <td>0.725275</td>\n      <td>5.342491</td>\n      <td>2.495559</td>\n      <td>0</td>\n      <td>service</td>\n      <td>0.725275</td>\n      <td>2</td>\n      <td>1</td>\n      <td>2</td>\n      <td>0</td>\n      <td>2</td>\n      <td>1900-01-01 16:04:00</td>\n      <td>POLYGON ((56.31847 58.03896, 56.31846 58.03897...</td>\n    </tr>\n  </tbody>\n</table>\n<p>17509 rows × 17 columns</p>\n</div>"
     },
     "execution_count": 7,
     "metadata": {},
     "output_type": "execute_result"
    }
   ],
   "source": [
    "generated_tours"
   ],
   "metadata": {
    "collapsed": false,
    "ExecuteTime": {
     "end_time": "2024-01-20T15:40:15.702673400Z",
     "start_time": "2024-01-20T15:40:15.482885700Z"
    }
   },
   "id": "88f5c47c4cdd1b93"
  },
  {
   "cell_type": "markdown",
   "source": [
    "Сгенерируем количество остановок для каждого тура"
   ],
   "metadata": {
    "collapsed": false
   },
   "id": "42d929e31dbc507b"
  },
  {
   "cell_type": "code",
   "execution_count": 8,
   "outputs": [],
   "source": [
    "# Количество остановок и соответствующие вероятности\n",
    "stops_counts = [2, 3, 4, 5, 6, 7, 8]\n",
    "probabilities = [0.1, 0.15, 0.23, 0.21, 0.14, 0.13, 0.04]"
   ],
   "metadata": {
    "collapsed": false,
    "ExecuteTime": {
     "end_time": "2024-01-20T15:40:36.899689700Z",
     "start_time": "2024-01-20T15:40:36.711145100Z"
    }
   },
   "id": "23535500624ff568"
  },
  {
   "cell_type": "code",
   "execution_count": 9,
   "outputs": [
    {
     "data": {
      "text/plain": "       zone_id      landuse  industrial    retail   service  \\\n0            6  low_density    0.932489  0.067511  0.000000   \n1            6  low_density    0.932489  0.067511  0.000000   \n2            6  low_density    0.932489  0.067511  0.000000   \n3            6  low_density    0.932489  0.067511  0.000000   \n4            6  low_density    0.932489  0.067511  0.000000   \n...        ...          ...         ...       ...       ...   \n17504     3000  low_density    0.274725  0.000000  0.725275   \n17505     3000  low_density    0.274725  0.000000  0.725275   \n17506     3000  low_density    0.274725  0.000000  0.725275   \n17507     3000  low_density    0.274725  0.000000  0.725275   \n17508     3000  low_density    0.274725  0.000000  0.725275   \n\n       population_availability  workers_availability  landuse_numeric  \\\n0                     4.892252              2.386894                0   \n1                     4.892252              2.386894                0   \n2                     4.892252              2.386894                0   \n3                     4.892252              2.386894                0   \n4                     4.892252              2.386894                0   \n...                        ...                   ...              ...   \n17504                 5.342491              2.495559                0   \n17505                 5.342491              2.495559                0   \n17506                 5.342491              2.495559                0   \n17507                 5.342491              2.495559                0   \n17508                 5.342491              2.495559                0   \n\n         industry  employment_share  industry_numeric  time_of_day  \\\n0      industrial          0.932489                 0            1   \n1      industrial          0.932489                 0            1   \n2      industrial          0.932489                 0            0   \n3      industrial          0.932489                 0            0   \n4      industrial          0.932489                 0            1   \n...           ...               ...               ...          ...   \n17504     service          0.725275                 2            1   \n17505     service          0.725275                 2            1   \n17506     service          0.725275                 2            1   \n17507     service          0.725275                 2            1   \n17508     service          0.725275                 2            1   \n\n       vehicle_purpose  vehicle_type  tour_purpose assigned_start_time  \\\n0                    3             1             0 1900-01-01 16:17:00   \n1                    0             0             0 1900-01-01 16:27:00   \n2                    3             1             0 1900-01-01 10:40:00   \n3                    3             1             0 1900-01-01 09:34:00   \n4                    6             2             0 1900-01-01 14:18:00   \n...                ...           ...           ...                 ...   \n17504                0             0             0 1900-01-01 16:44:00   \n17505                0             0             0 1900-01-01 12:11:00   \n17506                1             0             1 1900-01-01 15:03:00   \n17507                0             0             0 1900-01-01 14:57:00   \n17508                2             0             2 1900-01-01 16:04:00   \n\n                                                geometry  num_stops  \n0      POLYGON ((56.34129 58.02780, 56.34127 58.02781...          3  \n1      POLYGON ((56.34129 58.02780, 56.34127 58.02781...          3  \n2      POLYGON ((56.34129 58.02780, 56.34127 58.02781...          5  \n3      POLYGON ((56.34129 58.02780, 56.34127 58.02781...          5  \n4      POLYGON ((56.34129 58.02780, 56.34127 58.02781...          3  \n...                                                  ...        ...  \n17504  POLYGON ((56.31847 58.03896, 56.31846 58.03897...          2  \n17505  POLYGON ((56.31847 58.03896, 56.31846 58.03897...          4  \n17506  POLYGON ((56.31847 58.03896, 56.31846 58.03897...          4  \n17507  POLYGON ((56.31847 58.03896, 56.31846 58.03897...          3  \n17508  POLYGON ((56.31847 58.03896, 56.31846 58.03897...          7  \n\n[17509 rows x 18 columns]",
      "text/html": "<div>\n<style scoped>\n    .dataframe tbody tr th:only-of-type {\n        vertical-align: middle;\n    }\n\n    .dataframe tbody tr th {\n        vertical-align: top;\n    }\n\n    .dataframe thead th {\n        text-align: right;\n    }\n</style>\n<table border=\"1\" class=\"dataframe\">\n  <thead>\n    <tr style=\"text-align: right;\">\n      <th></th>\n      <th>zone_id</th>\n      <th>landuse</th>\n      <th>industrial</th>\n      <th>retail</th>\n      <th>service</th>\n      <th>population_availability</th>\n      <th>workers_availability</th>\n      <th>landuse_numeric</th>\n      <th>industry</th>\n      <th>employment_share</th>\n      <th>industry_numeric</th>\n      <th>time_of_day</th>\n      <th>vehicle_purpose</th>\n      <th>vehicle_type</th>\n      <th>tour_purpose</th>\n      <th>assigned_start_time</th>\n      <th>geometry</th>\n      <th>num_stops</th>\n    </tr>\n  </thead>\n  <tbody>\n    <tr>\n      <th>0</th>\n      <td>6</td>\n      <td>low_density</td>\n      <td>0.932489</td>\n      <td>0.067511</td>\n      <td>0.000000</td>\n      <td>4.892252</td>\n      <td>2.386894</td>\n      <td>0</td>\n      <td>industrial</td>\n      <td>0.932489</td>\n      <td>0</td>\n      <td>1</td>\n      <td>3</td>\n      <td>1</td>\n      <td>0</td>\n      <td>1900-01-01 16:17:00</td>\n      <td>POLYGON ((56.34129 58.02780, 56.34127 58.02781...</td>\n      <td>3</td>\n    </tr>\n    <tr>\n      <th>1</th>\n      <td>6</td>\n      <td>low_density</td>\n      <td>0.932489</td>\n      <td>0.067511</td>\n      <td>0.000000</td>\n      <td>4.892252</td>\n      <td>2.386894</td>\n      <td>0</td>\n      <td>industrial</td>\n      <td>0.932489</td>\n      <td>0</td>\n      <td>1</td>\n      <td>0</td>\n      <td>0</td>\n      <td>0</td>\n      <td>1900-01-01 16:27:00</td>\n      <td>POLYGON ((56.34129 58.02780, 56.34127 58.02781...</td>\n      <td>3</td>\n    </tr>\n    <tr>\n      <th>2</th>\n      <td>6</td>\n      <td>low_density</td>\n      <td>0.932489</td>\n      <td>0.067511</td>\n      <td>0.000000</td>\n      <td>4.892252</td>\n      <td>2.386894</td>\n      <td>0</td>\n      <td>industrial</td>\n      <td>0.932489</td>\n      <td>0</td>\n      <td>0</td>\n      <td>3</td>\n      <td>1</td>\n      <td>0</td>\n      <td>1900-01-01 10:40:00</td>\n      <td>POLYGON ((56.34129 58.02780, 56.34127 58.02781...</td>\n      <td>5</td>\n    </tr>\n    <tr>\n      <th>3</th>\n      <td>6</td>\n      <td>low_density</td>\n      <td>0.932489</td>\n      <td>0.067511</td>\n      <td>0.000000</td>\n      <td>4.892252</td>\n      <td>2.386894</td>\n      <td>0</td>\n      <td>industrial</td>\n      <td>0.932489</td>\n      <td>0</td>\n      <td>0</td>\n      <td>3</td>\n      <td>1</td>\n      <td>0</td>\n      <td>1900-01-01 09:34:00</td>\n      <td>POLYGON ((56.34129 58.02780, 56.34127 58.02781...</td>\n      <td>5</td>\n    </tr>\n    <tr>\n      <th>4</th>\n      <td>6</td>\n      <td>low_density</td>\n      <td>0.932489</td>\n      <td>0.067511</td>\n      <td>0.000000</td>\n      <td>4.892252</td>\n      <td>2.386894</td>\n      <td>0</td>\n      <td>industrial</td>\n      <td>0.932489</td>\n      <td>0</td>\n      <td>1</td>\n      <td>6</td>\n      <td>2</td>\n      <td>0</td>\n      <td>1900-01-01 14:18:00</td>\n      <td>POLYGON ((56.34129 58.02780, 56.34127 58.02781...</td>\n      <td>3</td>\n    </tr>\n    <tr>\n      <th>...</th>\n      <td>...</td>\n      <td>...</td>\n      <td>...</td>\n      <td>...</td>\n      <td>...</td>\n      <td>...</td>\n      <td>...</td>\n      <td>...</td>\n      <td>...</td>\n      <td>...</td>\n      <td>...</td>\n      <td>...</td>\n      <td>...</td>\n      <td>...</td>\n      <td>...</td>\n      <td>...</td>\n      <td>...</td>\n      <td>...</td>\n    </tr>\n    <tr>\n      <th>17504</th>\n      <td>3000</td>\n      <td>low_density</td>\n      <td>0.274725</td>\n      <td>0.000000</td>\n      <td>0.725275</td>\n      <td>5.342491</td>\n      <td>2.495559</td>\n      <td>0</td>\n      <td>service</td>\n      <td>0.725275</td>\n      <td>2</td>\n      <td>1</td>\n      <td>0</td>\n      <td>0</td>\n      <td>0</td>\n      <td>1900-01-01 16:44:00</td>\n      <td>POLYGON ((56.31847 58.03896, 56.31846 58.03897...</td>\n      <td>2</td>\n    </tr>\n    <tr>\n      <th>17505</th>\n      <td>3000</td>\n      <td>low_density</td>\n      <td>0.274725</td>\n      <td>0.000000</td>\n      <td>0.725275</td>\n      <td>5.342491</td>\n      <td>2.495559</td>\n      <td>0</td>\n      <td>service</td>\n      <td>0.725275</td>\n      <td>2</td>\n      <td>1</td>\n      <td>0</td>\n      <td>0</td>\n      <td>0</td>\n      <td>1900-01-01 12:11:00</td>\n      <td>POLYGON ((56.31847 58.03896, 56.31846 58.03897...</td>\n      <td>4</td>\n    </tr>\n    <tr>\n      <th>17506</th>\n      <td>3000</td>\n      <td>low_density</td>\n      <td>0.274725</td>\n      <td>0.000000</td>\n      <td>0.725275</td>\n      <td>5.342491</td>\n      <td>2.495559</td>\n      <td>0</td>\n      <td>service</td>\n      <td>0.725275</td>\n      <td>2</td>\n      <td>1</td>\n      <td>1</td>\n      <td>0</td>\n      <td>1</td>\n      <td>1900-01-01 15:03:00</td>\n      <td>POLYGON ((56.31847 58.03896, 56.31846 58.03897...</td>\n      <td>4</td>\n    </tr>\n    <tr>\n      <th>17507</th>\n      <td>3000</td>\n      <td>low_density</td>\n      <td>0.274725</td>\n      <td>0.000000</td>\n      <td>0.725275</td>\n      <td>5.342491</td>\n      <td>2.495559</td>\n      <td>0</td>\n      <td>service</td>\n      <td>0.725275</td>\n      <td>2</td>\n      <td>1</td>\n      <td>0</td>\n      <td>0</td>\n      <td>0</td>\n      <td>1900-01-01 14:57:00</td>\n      <td>POLYGON ((56.31847 58.03896, 56.31846 58.03897...</td>\n      <td>3</td>\n    </tr>\n    <tr>\n      <th>17508</th>\n      <td>3000</td>\n      <td>low_density</td>\n      <td>0.274725</td>\n      <td>0.000000</td>\n      <td>0.725275</td>\n      <td>5.342491</td>\n      <td>2.495559</td>\n      <td>0</td>\n      <td>service</td>\n      <td>0.725275</td>\n      <td>2</td>\n      <td>1</td>\n      <td>2</td>\n      <td>0</td>\n      <td>2</td>\n      <td>1900-01-01 16:04:00</td>\n      <td>POLYGON ((56.31847 58.03896, 56.31846 58.03897...</td>\n      <td>7</td>\n    </tr>\n  </tbody>\n</table>\n<p>17509 rows × 18 columns</p>\n</div>"
     },
     "execution_count": 9,
     "metadata": {},
     "output_type": "execute_result"
    }
   ],
   "source": [
    "# Генерация количества остановок для каждого тура\n",
    "num_tours = len(generated_tours)  # Получаем количество туров в геодатафрейме\n",
    "stops_per_tour = np.random.choice(stops_counts, size=num_tours, p=probabilities)\n",
    "\n",
    "# Добавляем количество остановок как новое поле в геодатафрейм\n",
    "generated_tours['num_stops'] = stops_per_tour\n",
    "generated_tours"
   ],
   "metadata": {
    "collapsed": false,
    "ExecuteTime": {
     "end_time": "2024-01-20T15:40:46.897950Z",
     "start_time": "2024-01-20T15:40:46.429209300Z"
    }
   },
   "id": "800a3c9db9c8036d"
  },
  {
   "cell_type": "markdown",
   "source": [
    "Сгенерируем цели остановок для каждого тура"
   ],
   "metadata": {
    "collapsed": false
   },
   "id": "bcc164f908cd4925"
  },
  {
   "cell_type": "code",
   "execution_count": 10,
   "outputs": [
    {
     "ename": "NameError",
     "evalue": "name 'synthetic_tours_data' is not defined",
     "output_type": "error",
     "traceback": [
      "\u001B[1;31m---------------------------------------------------------------------------\u001B[0m",
      "\u001B[1;31mNameError\u001B[0m                                 Traceback (most recent call last)",
      "Cell \u001B[1;32mIn[10], line 20\u001B[0m\n\u001B[0;32m     17\u001B[0m generated_tours[\u001B[38;5;124m'\u001B[39m\u001B[38;5;124mstops\u001B[39m\u001B[38;5;124m'\u001B[39m] \u001B[38;5;241m=\u001B[39m generated_tours[\u001B[38;5;124m'\u001B[39m\u001B[38;5;124mnum_stops\u001B[39m\u001B[38;5;124m'\u001B[39m]\u001B[38;5;241m.\u001B[39mapply(generate_stops)\n\u001B[0;32m     19\u001B[0m \u001B[38;5;66;03m# Проверка результата\u001B[39;00m\n\u001B[1;32m---> 20\u001B[0m \u001B[38;5;28mprint\u001B[39m(\u001B[43msynthetic_tours_data\u001B[49m[[\u001B[38;5;124m'\u001B[39m\u001B[38;5;124mnum_stops\u001B[39m\u001B[38;5;124m'\u001B[39m, \u001B[38;5;124m'\u001B[39m\u001B[38;5;124mstops\u001B[39m\u001B[38;5;124m'\u001B[39m]]\u001B[38;5;241m.\u001B[39mhead())\n",
      "\u001B[1;31mNameError\u001B[0m: name 'synthetic_tours_data' is not defined"
     ]
    }
   ],
   "source": [
    "from random import shuffle\n",
    "\n",
    "def generate_stops(num_stops):\n",
    "    num_other_stops = np.random.randint(1, 3)\n",
    "    stops = [{'purpose': 1} for _ in range(num_other_stops)]\n",
    "\n",
    "    stops += [{'purpose': 0} for _ in range(num_stops - num_other_stops - 1)]\n",
    "\n",
    "    shuffle(stops)\n",
    "\n",
    "    # Добавляем последнюю остановку с целью \"возвращение\" (код 2)\n",
    "    stops.append({'purpose': 2})\n",
    "\n",
    "    return stops\n",
    "\n",
    "# Применяем функцию к каждому туру в геодатафрейме\n",
    "generated_tours['stops'] = generated_tours['num_stops'].apply(generate_stops)"
   ],
   "metadata": {
    "collapsed": false,
    "ExecuteTime": {
     "end_time": "2024-01-20T15:41:12.994153200Z",
     "start_time": "2024-01-20T15:41:12.743236400Z"
    }
   },
   "id": "25aeb15dafb34f56"
  },
  {
   "cell_type": "code",
   "execution_count": 13,
   "outputs": [
    {
     "data": {
      "text/plain": "       num_stops                                              stops\n0              3   [{'purpose': 0}, {'purpose': 1}, {'purpose': 2}]\n1              3   [{'purpose': 0}, {'purpose': 1}, {'purpose': 2}]\n2              5  [{'purpose': 0}, {'purpose': 0}, {'purpose': 0...\n3              5  [{'purpose': 0}, {'purpose': 0}, {'purpose': 0...\n4              3   [{'purpose': 1}, {'purpose': 1}, {'purpose': 2}]\n...          ...                                                ...\n17504          2                   [{'purpose': 1}, {'purpose': 2}]\n17505          4  [{'purpose': 0}, {'purpose': 1}, {'purpose': 1...\n17506          4  [{'purpose': 1}, {'purpose': 1}, {'purpose': 0...\n17507          3   [{'purpose': 1}, {'purpose': 0}, {'purpose': 2}]\n17508          7  [{'purpose': 0}, {'purpose': 1}, {'purpose': 0...\n\n[17509 rows x 2 columns]",
      "text/html": "<div>\n<style scoped>\n    .dataframe tbody tr th:only-of-type {\n        vertical-align: middle;\n    }\n\n    .dataframe tbody tr th {\n        vertical-align: top;\n    }\n\n    .dataframe thead th {\n        text-align: right;\n    }\n</style>\n<table border=\"1\" class=\"dataframe\">\n  <thead>\n    <tr style=\"text-align: right;\">\n      <th></th>\n      <th>num_stops</th>\n      <th>stops</th>\n    </tr>\n  </thead>\n  <tbody>\n    <tr>\n      <th>0</th>\n      <td>3</td>\n      <td>[{'purpose': 0}, {'purpose': 1}, {'purpose': 2}]</td>\n    </tr>\n    <tr>\n      <th>1</th>\n      <td>3</td>\n      <td>[{'purpose': 0}, {'purpose': 1}, {'purpose': 2}]</td>\n    </tr>\n    <tr>\n      <th>2</th>\n      <td>5</td>\n      <td>[{'purpose': 0}, {'purpose': 0}, {'purpose': 0...</td>\n    </tr>\n    <tr>\n      <th>3</th>\n      <td>5</td>\n      <td>[{'purpose': 0}, {'purpose': 0}, {'purpose': 0...</td>\n    </tr>\n    <tr>\n      <th>4</th>\n      <td>3</td>\n      <td>[{'purpose': 1}, {'purpose': 1}, {'purpose': 2}]</td>\n    </tr>\n    <tr>\n      <th>...</th>\n      <td>...</td>\n      <td>...</td>\n    </tr>\n    <tr>\n      <th>17504</th>\n      <td>2</td>\n      <td>[{'purpose': 1}, {'purpose': 2}]</td>\n    </tr>\n    <tr>\n      <th>17505</th>\n      <td>4</td>\n      <td>[{'purpose': 0}, {'purpose': 1}, {'purpose': 1...</td>\n    </tr>\n    <tr>\n      <th>17506</th>\n      <td>4</td>\n      <td>[{'purpose': 1}, {'purpose': 1}, {'purpose': 0...</td>\n    </tr>\n    <tr>\n      <th>17507</th>\n      <td>3</td>\n      <td>[{'purpose': 1}, {'purpose': 0}, {'purpose': 2}]</td>\n    </tr>\n    <tr>\n      <th>17508</th>\n      <td>7</td>\n      <td>[{'purpose': 0}, {'purpose': 1}, {'purpose': 0...</td>\n    </tr>\n  </tbody>\n</table>\n<p>17509 rows × 2 columns</p>\n</div>"
     },
     "execution_count": 13,
     "metadata": {},
     "output_type": "execute_result"
    }
   ],
   "source": [
    "# Проверка результата\n",
    "generated_tours[['num_stops', 'stops']]"
   ],
   "metadata": {
    "collapsed": false,
    "ExecuteTime": {
     "end_time": "2024-01-20T15:41:46.104628200Z",
     "start_time": "2024-01-20T15:41:45.963168900Z"
    }
   },
   "id": "6ba2e93a0ec2a6db"
  },
  {
   "cell_type": "markdown",
   "source": [
    "Сохраним результат 5 шага"
   ],
   "metadata": {
    "collapsed": false
   },
   "id": "868e4db3802314bf"
  },
  {
   "cell_type": "code",
   "execution_count": 14,
   "outputs": [],
   "source": [
    "import json\n",
    "\n",
    "# Преобразование списка словарей в строку JSON для каждой записи\n",
    "generated_tours['stops'] = generated_tours['stops'].apply(json.dumps)\n",
    "\n",
    "generated_tours.to_csv('step5_tours.csv', index=False)"
   ],
   "metadata": {
    "collapsed": false,
    "ExecuteTime": {
     "end_time": "2024-01-20T15:53:53.799752400Z",
     "start_time": "2024-01-20T15:53:19.534689300Z"
    }
   },
   "id": "88f706f1df0e524f"
  },
  {
   "cell_type": "code",
   "execution_count": 16,
   "outputs": [
    {
     "data": {
      "text/plain": "       zone_id      landuse  industrial    retail   service  \\\n0            6  low_density    0.932489  0.067511  0.000000   \n1            6  low_density    0.932489  0.067511  0.000000   \n2            6  low_density    0.932489  0.067511  0.000000   \n3            6  low_density    0.932489  0.067511  0.000000   \n4            6  low_density    0.932489  0.067511  0.000000   \n...        ...          ...         ...       ...       ...   \n17504     3000  low_density    0.274725  0.000000  0.725275   \n17505     3000  low_density    0.274725  0.000000  0.725275   \n17506     3000  low_density    0.274725  0.000000  0.725275   \n17507     3000  low_density    0.274725  0.000000  0.725275   \n17508     3000  low_density    0.274725  0.000000  0.725275   \n\n       population_availability  workers_availability  landuse_numeric  \\\n0                     4.892252              2.386894                0   \n1                     4.892252              2.386894                0   \n2                     4.892252              2.386894                0   \n3                     4.892252              2.386894                0   \n4                     4.892252              2.386894                0   \n...                        ...                   ...              ...   \n17504                 5.342491              2.495559                0   \n17505                 5.342491              2.495559                0   \n17506                 5.342491              2.495559                0   \n17507                 5.342491              2.495559                0   \n17508                 5.342491              2.495559                0   \n\n         industry  employment_share  industry_numeric  time_of_day  \\\n0      industrial          0.932489                 0            1   \n1      industrial          0.932489                 0            1   \n2      industrial          0.932489                 0            0   \n3      industrial          0.932489                 0            0   \n4      industrial          0.932489                 0            1   \n...           ...               ...               ...          ...   \n17504     service          0.725275                 2            1   \n17505     service          0.725275                 2            1   \n17506     service          0.725275                 2            1   \n17507     service          0.725275                 2            1   \n17508     service          0.725275                 2            1   \n\n       vehicle_purpose  vehicle_type  tour_purpose assigned_start_time  \\\n0                    3             1             0 1900-01-01 16:17:00   \n1                    0             0             0 1900-01-01 16:27:00   \n2                    3             1             0 1900-01-01 10:40:00   \n3                    3             1             0 1900-01-01 09:34:00   \n4                    6             2             0 1900-01-01 14:18:00   \n...                ...           ...           ...                 ...   \n17504                0             0             0 1900-01-01 16:44:00   \n17505                0             0             0 1900-01-01 12:11:00   \n17506                1             0             1 1900-01-01 15:03:00   \n17507                0             0             0 1900-01-01 14:57:00   \n17508                2             0             2 1900-01-01 16:04:00   \n\n                                                geometry  num_stops  \\\n0      POLYGON ((56.34129 58.02780, 56.34127 58.02781...          3   \n1      POLYGON ((56.34129 58.02780, 56.34127 58.02781...          3   \n2      POLYGON ((56.34129 58.02780, 56.34127 58.02781...          5   \n3      POLYGON ((56.34129 58.02780, 56.34127 58.02781...          5   \n4      POLYGON ((56.34129 58.02780, 56.34127 58.02781...          3   \n...                                                  ...        ...   \n17504  POLYGON ((56.31847 58.03896, 56.31846 58.03897...          2   \n17505  POLYGON ((56.31847 58.03896, 56.31846 58.03897...          4   \n17506  POLYGON ((56.31847 58.03896, 56.31846 58.03897...          4   \n17507  POLYGON ((56.31847 58.03896, 56.31846 58.03897...          3   \n17508  POLYGON ((56.31847 58.03896, 56.31846 58.03897...          7   \n\n                                                   stops  \n0       [{'purpose': 0}, {'purpose': 1}, {'purpose': 2}]  \n1       [{'purpose': 0}, {'purpose': 1}, {'purpose': 2}]  \n2      [{'purpose': 0}, {'purpose': 0}, {'purpose': 0...  \n3      [{'purpose': 0}, {'purpose': 0}, {'purpose': 0...  \n4       [{'purpose': 1}, {'purpose': 1}, {'purpose': 2}]  \n...                                                  ...  \n17504                   [{'purpose': 1}, {'purpose': 2}]  \n17505  [{'purpose': 0}, {'purpose': 1}, {'purpose': 1...  \n17506  [{'purpose': 1}, {'purpose': 1}, {'purpose': 0...  \n17507   [{'purpose': 1}, {'purpose': 0}, {'purpose': 2}]  \n17508  [{'purpose': 0}, {'purpose': 1}, {'purpose': 0...  \n\n[17509 rows x 19 columns]",
      "text/html": "<div>\n<style scoped>\n    .dataframe tbody tr th:only-of-type {\n        vertical-align: middle;\n    }\n\n    .dataframe tbody tr th {\n        vertical-align: top;\n    }\n\n    .dataframe thead th {\n        text-align: right;\n    }\n</style>\n<table border=\"1\" class=\"dataframe\">\n  <thead>\n    <tr style=\"text-align: right;\">\n      <th></th>\n      <th>zone_id</th>\n      <th>landuse</th>\n      <th>industrial</th>\n      <th>retail</th>\n      <th>service</th>\n      <th>population_availability</th>\n      <th>workers_availability</th>\n      <th>landuse_numeric</th>\n      <th>industry</th>\n      <th>employment_share</th>\n      <th>industry_numeric</th>\n      <th>time_of_day</th>\n      <th>vehicle_purpose</th>\n      <th>vehicle_type</th>\n      <th>tour_purpose</th>\n      <th>assigned_start_time</th>\n      <th>geometry</th>\n      <th>num_stops</th>\n      <th>stops</th>\n    </tr>\n  </thead>\n  <tbody>\n    <tr>\n      <th>0</th>\n      <td>6</td>\n      <td>low_density</td>\n      <td>0.932489</td>\n      <td>0.067511</td>\n      <td>0.000000</td>\n      <td>4.892252</td>\n      <td>2.386894</td>\n      <td>0</td>\n      <td>industrial</td>\n      <td>0.932489</td>\n      <td>0</td>\n      <td>1</td>\n      <td>3</td>\n      <td>1</td>\n      <td>0</td>\n      <td>1900-01-01 16:17:00</td>\n      <td>POLYGON ((56.34129 58.02780, 56.34127 58.02781...</td>\n      <td>3</td>\n      <td>[{'purpose': 0}, {'purpose': 1}, {'purpose': 2}]</td>\n    </tr>\n    <tr>\n      <th>1</th>\n      <td>6</td>\n      <td>low_density</td>\n      <td>0.932489</td>\n      <td>0.067511</td>\n      <td>0.000000</td>\n      <td>4.892252</td>\n      <td>2.386894</td>\n      <td>0</td>\n      <td>industrial</td>\n      <td>0.932489</td>\n      <td>0</td>\n      <td>1</td>\n      <td>0</td>\n      <td>0</td>\n      <td>0</td>\n      <td>1900-01-01 16:27:00</td>\n      <td>POLYGON ((56.34129 58.02780, 56.34127 58.02781...</td>\n      <td>3</td>\n      <td>[{'purpose': 0}, {'purpose': 1}, {'purpose': 2}]</td>\n    </tr>\n    <tr>\n      <th>2</th>\n      <td>6</td>\n      <td>low_density</td>\n      <td>0.932489</td>\n      <td>0.067511</td>\n      <td>0.000000</td>\n      <td>4.892252</td>\n      <td>2.386894</td>\n      <td>0</td>\n      <td>industrial</td>\n      <td>0.932489</td>\n      <td>0</td>\n      <td>0</td>\n      <td>3</td>\n      <td>1</td>\n      <td>0</td>\n      <td>1900-01-01 10:40:00</td>\n      <td>POLYGON ((56.34129 58.02780, 56.34127 58.02781...</td>\n      <td>5</td>\n      <td>[{'purpose': 0}, {'purpose': 0}, {'purpose': 0...</td>\n    </tr>\n    <tr>\n      <th>3</th>\n      <td>6</td>\n      <td>low_density</td>\n      <td>0.932489</td>\n      <td>0.067511</td>\n      <td>0.000000</td>\n      <td>4.892252</td>\n      <td>2.386894</td>\n      <td>0</td>\n      <td>industrial</td>\n      <td>0.932489</td>\n      <td>0</td>\n      <td>0</td>\n      <td>3</td>\n      <td>1</td>\n      <td>0</td>\n      <td>1900-01-01 09:34:00</td>\n      <td>POLYGON ((56.34129 58.02780, 56.34127 58.02781...</td>\n      <td>5</td>\n      <td>[{'purpose': 0}, {'purpose': 0}, {'purpose': 0...</td>\n    </tr>\n    <tr>\n      <th>4</th>\n      <td>6</td>\n      <td>low_density</td>\n      <td>0.932489</td>\n      <td>0.067511</td>\n      <td>0.000000</td>\n      <td>4.892252</td>\n      <td>2.386894</td>\n      <td>0</td>\n      <td>industrial</td>\n      <td>0.932489</td>\n      <td>0</td>\n      <td>1</td>\n      <td>6</td>\n      <td>2</td>\n      <td>0</td>\n      <td>1900-01-01 14:18:00</td>\n      <td>POLYGON ((56.34129 58.02780, 56.34127 58.02781...</td>\n      <td>3</td>\n      <td>[{'purpose': 1}, {'purpose': 1}, {'purpose': 2}]</td>\n    </tr>\n    <tr>\n      <th>...</th>\n      <td>...</td>\n      <td>...</td>\n      <td>...</td>\n      <td>...</td>\n      <td>...</td>\n      <td>...</td>\n      <td>...</td>\n      <td>...</td>\n      <td>...</td>\n      <td>...</td>\n      <td>...</td>\n      <td>...</td>\n      <td>...</td>\n      <td>...</td>\n      <td>...</td>\n      <td>...</td>\n      <td>...</td>\n      <td>...</td>\n      <td>...</td>\n    </tr>\n    <tr>\n      <th>17504</th>\n      <td>3000</td>\n      <td>low_density</td>\n      <td>0.274725</td>\n      <td>0.000000</td>\n      <td>0.725275</td>\n      <td>5.342491</td>\n      <td>2.495559</td>\n      <td>0</td>\n      <td>service</td>\n      <td>0.725275</td>\n      <td>2</td>\n      <td>1</td>\n      <td>0</td>\n      <td>0</td>\n      <td>0</td>\n      <td>1900-01-01 16:44:00</td>\n      <td>POLYGON ((56.31847 58.03896, 56.31846 58.03897...</td>\n      <td>2</td>\n      <td>[{'purpose': 1}, {'purpose': 2}]</td>\n    </tr>\n    <tr>\n      <th>17505</th>\n      <td>3000</td>\n      <td>low_density</td>\n      <td>0.274725</td>\n      <td>0.000000</td>\n      <td>0.725275</td>\n      <td>5.342491</td>\n      <td>2.495559</td>\n      <td>0</td>\n      <td>service</td>\n      <td>0.725275</td>\n      <td>2</td>\n      <td>1</td>\n      <td>0</td>\n      <td>0</td>\n      <td>0</td>\n      <td>1900-01-01 12:11:00</td>\n      <td>POLYGON ((56.31847 58.03896, 56.31846 58.03897...</td>\n      <td>4</td>\n      <td>[{'purpose': 0}, {'purpose': 1}, {'purpose': 1...</td>\n    </tr>\n    <tr>\n      <th>17506</th>\n      <td>3000</td>\n      <td>low_density</td>\n      <td>0.274725</td>\n      <td>0.000000</td>\n      <td>0.725275</td>\n      <td>5.342491</td>\n      <td>2.495559</td>\n      <td>0</td>\n      <td>service</td>\n      <td>0.725275</td>\n      <td>2</td>\n      <td>1</td>\n      <td>1</td>\n      <td>0</td>\n      <td>1</td>\n      <td>1900-01-01 15:03:00</td>\n      <td>POLYGON ((56.31847 58.03896, 56.31846 58.03897...</td>\n      <td>4</td>\n      <td>[{'purpose': 1}, {'purpose': 1}, {'purpose': 0...</td>\n    </tr>\n    <tr>\n      <th>17507</th>\n      <td>3000</td>\n      <td>low_density</td>\n      <td>0.274725</td>\n      <td>0.000000</td>\n      <td>0.725275</td>\n      <td>5.342491</td>\n      <td>2.495559</td>\n      <td>0</td>\n      <td>service</td>\n      <td>0.725275</td>\n      <td>2</td>\n      <td>1</td>\n      <td>0</td>\n      <td>0</td>\n      <td>0</td>\n      <td>1900-01-01 14:57:00</td>\n      <td>POLYGON ((56.31847 58.03896, 56.31846 58.03897...</td>\n      <td>3</td>\n      <td>[{'purpose': 1}, {'purpose': 0}, {'purpose': 2}]</td>\n    </tr>\n    <tr>\n      <th>17508</th>\n      <td>3000</td>\n      <td>low_density</td>\n      <td>0.274725</td>\n      <td>0.000000</td>\n      <td>0.725275</td>\n      <td>5.342491</td>\n      <td>2.495559</td>\n      <td>0</td>\n      <td>service</td>\n      <td>0.725275</td>\n      <td>2</td>\n      <td>1</td>\n      <td>2</td>\n      <td>0</td>\n      <td>2</td>\n      <td>1900-01-01 16:04:00</td>\n      <td>POLYGON ((56.31847 58.03896, 56.31846 58.03897...</td>\n      <td>7</td>\n      <td>[{'purpose': 0}, {'purpose': 1}, {'purpose': 0...</td>\n    </tr>\n  </tbody>\n</table>\n<p>17509 rows × 19 columns</p>\n</div>"
     },
     "execution_count": 16,
     "metadata": {},
     "output_type": "execute_result"
    }
   ],
   "source": [
    "generated_tours['stops'] = generated_tours['stops'].apply(json.loads)\n",
    "generated_tours"
   ],
   "metadata": {
    "collapsed": false,
    "ExecuteTime": {
     "end_time": "2024-01-20T15:56:46.344788400Z",
     "start_time": "2024-01-20T15:56:46.163762700Z"
    }
   },
   "id": "daf89d035aeb5474"
  },
  {
   "cell_type": "markdown",
   "source": [
    "Загрузим все зоны"
   ],
   "metadata": {
    "collapsed": false
   },
   "id": "825dfdf3b8fa2364"
  },
  {
   "cell_type": "code",
   "execution_count": 3,
   "outputs": [
    {
     "data": {
      "text/plain": "          landuse  population_availability  workers_availability  \\\nid                                                                 \n1     low_density                 5.241083              2.463974   \n6     low_density                 4.892252              2.386894   \n9     low_density                 4.760366              2.351703   \n11    low_density                 4.804614              2.364015   \n16    residential                 6.456608              2.789124   \n...           ...                      ...                   ...   \n2869   commercial                 4.291921              2.221195   \n2875   industrial                 4.515939              2.286350   \n2877   industrial                 5.810754              3.120476   \n2879   industrial                 4.074374              2.930219   \n3000  low_density                 5.342491              2.495559   \n\n      landuse_numeric                   geometry  \nid                                                \n1                   0  POINT (56.35909 58.03661)  \n6                   0  POINT (56.39549 58.02264)  \n9                   0  POINT (56.40065 58.06548)  \n11                  0  POINT (56.40413 58.04082)  \n16                  1  POINT (56.21203 58.00316)  \n...               ...                        ...  \n2869                2  POINT (56.38927 58.14992)  \n2875                3  POINT (56.37708 58.13860)  \n2877                3  POINT (56.28619 58.03040)  \n2879                3  POINT (56.15952 57.88148)  \n3000                0  POINT (56.34246 58.03301)  \n\n[499 rows x 5 columns]",
      "text/html": "<div>\n<style scoped>\n    .dataframe tbody tr th:only-of-type {\n        vertical-align: middle;\n    }\n\n    .dataframe tbody tr th {\n        vertical-align: top;\n    }\n\n    .dataframe thead th {\n        text-align: right;\n    }\n</style>\n<table border=\"1\" class=\"dataframe\">\n  <thead>\n    <tr style=\"text-align: right;\">\n      <th></th>\n      <th>landuse</th>\n      <th>population_availability</th>\n      <th>workers_availability</th>\n      <th>landuse_numeric</th>\n      <th>geometry</th>\n    </tr>\n    <tr>\n      <th>id</th>\n      <th></th>\n      <th></th>\n      <th></th>\n      <th></th>\n      <th></th>\n    </tr>\n  </thead>\n  <tbody>\n    <tr>\n      <th>1</th>\n      <td>low_density</td>\n      <td>5.241083</td>\n      <td>2.463974</td>\n      <td>0</td>\n      <td>POINT (56.35909 58.03661)</td>\n    </tr>\n    <tr>\n      <th>6</th>\n      <td>low_density</td>\n      <td>4.892252</td>\n      <td>2.386894</td>\n      <td>0</td>\n      <td>POINT (56.39549 58.02264)</td>\n    </tr>\n    <tr>\n      <th>9</th>\n      <td>low_density</td>\n      <td>4.760366</td>\n      <td>2.351703</td>\n      <td>0</td>\n      <td>POINT (56.40065 58.06548)</td>\n    </tr>\n    <tr>\n      <th>11</th>\n      <td>low_density</td>\n      <td>4.804614</td>\n      <td>2.364015</td>\n      <td>0</td>\n      <td>POINT (56.40413 58.04082)</td>\n    </tr>\n    <tr>\n      <th>16</th>\n      <td>residential</td>\n      <td>6.456608</td>\n      <td>2.789124</td>\n      <td>1</td>\n      <td>POINT (56.21203 58.00316)</td>\n    </tr>\n    <tr>\n      <th>...</th>\n      <td>...</td>\n      <td>...</td>\n      <td>...</td>\n      <td>...</td>\n      <td>...</td>\n    </tr>\n    <tr>\n      <th>2869</th>\n      <td>commercial</td>\n      <td>4.291921</td>\n      <td>2.221195</td>\n      <td>2</td>\n      <td>POINT (56.38927 58.14992)</td>\n    </tr>\n    <tr>\n      <th>2875</th>\n      <td>industrial</td>\n      <td>4.515939</td>\n      <td>2.286350</td>\n      <td>3</td>\n      <td>POINT (56.37708 58.13860)</td>\n    </tr>\n    <tr>\n      <th>2877</th>\n      <td>industrial</td>\n      <td>5.810754</td>\n      <td>3.120476</td>\n      <td>3</td>\n      <td>POINT (56.28619 58.03040)</td>\n    </tr>\n    <tr>\n      <th>2879</th>\n      <td>industrial</td>\n      <td>4.074374</td>\n      <td>2.930219</td>\n      <td>3</td>\n      <td>POINT (56.15952 57.88148)</td>\n    </tr>\n    <tr>\n      <th>3000</th>\n      <td>low_density</td>\n      <td>5.342491</td>\n      <td>2.495559</td>\n      <td>0</td>\n      <td>POINT (56.34246 58.03301)</td>\n    </tr>\n  </tbody>\n</table>\n<p>499 rows × 5 columns</p>\n</div>"
     },
     "execution_count": 3,
     "metadata": {},
     "output_type": "execute_result"
    }
   ],
   "source": [
    "zones = gpd.read_file(\"C:/Users/sm_pa/OneDrive/Рабочий стол/НИР3/perm_freight_modelling/data/TAZ_centroids.geojson\")\n",
    "zones = zones.set_index('id')\n",
    "zones"
   ],
   "metadata": {
    "collapsed": false,
    "ExecuteTime": {
     "end_time": "2024-01-20T17:01:18.139474Z",
     "start_time": "2024-01-20T17:01:15.576017300Z"
    }
   },
   "id": "8b381ba3f9203a14"
  },
  {
   "cell_type": "markdown",
   "source": [
    "Загрузим матрицу расстояний"
   ],
   "metadata": {
    "collapsed": false
   },
   "id": "cf3168dcf53f034f"
  },
  {
   "cell_type": "code",
   "execution_count": 4,
   "outputs": [
    {
     "data": {
      "text/plain": "            1        6        9       11       16       17       22       23  \\\nid                                                                             \n1       646.9   1592.9   2795.1   2855.8  10798.8  10859.1   9229.7   4656.1   \n6      3772.0   2209.4   5908.6   3594.7  12332.1  12348.2  10857.5   6568.6   \n9      5773.4   4525.7   3953.7   4691.6  14951.9  15012.2  13364.2   8789.4   \n11     3346.0   1847.5   3944.8    225.6  13500.4  13560.7  11931.3   7357.7   \n16    10059.1  12027.5  11720.1  13290.4    144.2    222.1   2163.2   6058.6   \n...       ...      ...      ...      ...      ...      ...      ...      ...   \n2869  14652.2  15241.0  12025.8  15406.9  21852.1  21912.4  20264.4  15689.6   \n2875  12827.7  13598.8  10318.8  13764.7  19693.9  19754.2  18106.2  13531.4   \n2877   5053.5   7021.9   6703.3   8284.8   5831.6   5891.9   4180.4   1041.8   \n2879  28119.9  29809.8  29789.5  31345.5  19296.1  19218.2  20409.4  24128.7   \n3000    638.0   2606.4   3505.9   3869.3   9613.2   9673.5   8044.1   3554.8   \n\n           24       28  ...     2626     2683     2750     2841     2856  \\\nid                      ...                                                \n1      4630.0   3587.3  ...   9472.9   3847.7  20862.8  13663.8   4432.8   \n6      6317.2   5636.2  ...  10261.1   5896.6  21302.6  15291.6   6120.0   \n9      9034.2   7720.6  ...  13626.0   7981.0  25015.9  17798.3   9140.7   \n11     7331.6   6288.9  ...  12018.6   6549.3  23564.4  16365.4   7134.4   \n16     6138.5   7513.0  ...   2443.6   7393.8  11533.1   3424.7   6270.7   \n...       ...      ...  ...      ...      ...      ...      ...      ...   \n2869  15934.4  14620.8  ...  20526.2  14881.2  31916.1  24640.5  16040.9   \n2875  13776.2  12462.6  ...  18368.0  12723.0  29757.9  22482.3  13882.7   \n2877   1221.3   2496.2  ...   4505.7   2377.0  15895.6   8662.5   1414.0   \n2879  24199.3  25582.4  ...  19830.2  25463.9   7917.9  18523.3  24331.5   \n3000   3444.4   2486.0  ...   8287.3   2746.4  19677.2  12478.2   3247.2   \n\n         2869     2875     2877     2879     3000  \nid                                                 \n1     14398.3  11734.9   5697.9  28764.3    300.4  \n6     17418.8  14941.7   7487.7  29204.1   3423.7  \n9     10740.6   8294.4   9831.2  32917.4   5425.1  \n11    15387.7  12977.9   8399.5  31465.9   2997.7  \n16    21716.6  18719.5   5727.0  19434.6  10407.4  \n...       ...      ...      ...      ...      ...  \n2869    190.0   3203.3  16731.4  39817.6  14612.7  \n2875   3581.5    870.5  14573.2  37659.4  12788.2  \n2877  16699.8  13702.7      0.0  23797.1   5401.8  \n2879  39786.0  36788.9  23797.1      0.0  28468.2  \n3000  15008.6  12239.0   4596.6  27578.7    986.3  \n\n[499 rows x 499 columns]",
      "text/html": "<div>\n<style scoped>\n    .dataframe tbody tr th:only-of-type {\n        vertical-align: middle;\n    }\n\n    .dataframe tbody tr th {\n        vertical-align: top;\n    }\n\n    .dataframe thead th {\n        text-align: right;\n    }\n</style>\n<table border=\"1\" class=\"dataframe\">\n  <thead>\n    <tr style=\"text-align: right;\">\n      <th></th>\n      <th>1</th>\n      <th>6</th>\n      <th>9</th>\n      <th>11</th>\n      <th>16</th>\n      <th>17</th>\n      <th>22</th>\n      <th>23</th>\n      <th>24</th>\n      <th>28</th>\n      <th>...</th>\n      <th>2626</th>\n      <th>2683</th>\n      <th>2750</th>\n      <th>2841</th>\n      <th>2856</th>\n      <th>2869</th>\n      <th>2875</th>\n      <th>2877</th>\n      <th>2879</th>\n      <th>3000</th>\n    </tr>\n    <tr>\n      <th>id</th>\n      <th></th>\n      <th></th>\n      <th></th>\n      <th></th>\n      <th></th>\n      <th></th>\n      <th></th>\n      <th></th>\n      <th></th>\n      <th></th>\n      <th></th>\n      <th></th>\n      <th></th>\n      <th></th>\n      <th></th>\n      <th></th>\n      <th></th>\n      <th></th>\n      <th></th>\n      <th></th>\n      <th></th>\n    </tr>\n  </thead>\n  <tbody>\n    <tr>\n      <th>1</th>\n      <td>646.9</td>\n      <td>1592.9</td>\n      <td>2795.1</td>\n      <td>2855.8</td>\n      <td>10798.8</td>\n      <td>10859.1</td>\n      <td>9229.7</td>\n      <td>4656.1</td>\n      <td>4630.0</td>\n      <td>3587.3</td>\n      <td>...</td>\n      <td>9472.9</td>\n      <td>3847.7</td>\n      <td>20862.8</td>\n      <td>13663.8</td>\n      <td>4432.8</td>\n      <td>14398.3</td>\n      <td>11734.9</td>\n      <td>5697.9</td>\n      <td>28764.3</td>\n      <td>300.4</td>\n    </tr>\n    <tr>\n      <th>6</th>\n      <td>3772.0</td>\n      <td>2209.4</td>\n      <td>5908.6</td>\n      <td>3594.7</td>\n      <td>12332.1</td>\n      <td>12348.2</td>\n      <td>10857.5</td>\n      <td>6568.6</td>\n      <td>6317.2</td>\n      <td>5636.2</td>\n      <td>...</td>\n      <td>10261.1</td>\n      <td>5896.6</td>\n      <td>21302.6</td>\n      <td>15291.6</td>\n      <td>6120.0</td>\n      <td>17418.8</td>\n      <td>14941.7</td>\n      <td>7487.7</td>\n      <td>29204.1</td>\n      <td>3423.7</td>\n    </tr>\n    <tr>\n      <th>9</th>\n      <td>5773.4</td>\n      <td>4525.7</td>\n      <td>3953.7</td>\n      <td>4691.6</td>\n      <td>14951.9</td>\n      <td>15012.2</td>\n      <td>13364.2</td>\n      <td>8789.4</td>\n      <td>9034.2</td>\n      <td>7720.6</td>\n      <td>...</td>\n      <td>13626.0</td>\n      <td>7981.0</td>\n      <td>25015.9</td>\n      <td>17798.3</td>\n      <td>9140.7</td>\n      <td>10740.6</td>\n      <td>8294.4</td>\n      <td>9831.2</td>\n      <td>32917.4</td>\n      <td>5425.1</td>\n    </tr>\n    <tr>\n      <th>11</th>\n      <td>3346.0</td>\n      <td>1847.5</td>\n      <td>3944.8</td>\n      <td>225.6</td>\n      <td>13500.4</td>\n      <td>13560.7</td>\n      <td>11931.3</td>\n      <td>7357.7</td>\n      <td>7331.6</td>\n      <td>6288.9</td>\n      <td>...</td>\n      <td>12018.6</td>\n      <td>6549.3</td>\n      <td>23564.4</td>\n      <td>16365.4</td>\n      <td>7134.4</td>\n      <td>15387.7</td>\n      <td>12977.9</td>\n      <td>8399.5</td>\n      <td>31465.9</td>\n      <td>2997.7</td>\n    </tr>\n    <tr>\n      <th>16</th>\n      <td>10059.1</td>\n      <td>12027.5</td>\n      <td>11720.1</td>\n      <td>13290.4</td>\n      <td>144.2</td>\n      <td>222.1</td>\n      <td>2163.2</td>\n      <td>6058.6</td>\n      <td>6138.5</td>\n      <td>7513.0</td>\n      <td>...</td>\n      <td>2443.6</td>\n      <td>7393.8</td>\n      <td>11533.1</td>\n      <td>3424.7</td>\n      <td>6270.7</td>\n      <td>21716.6</td>\n      <td>18719.5</td>\n      <td>5727.0</td>\n      <td>19434.6</td>\n      <td>10407.4</td>\n    </tr>\n    <tr>\n      <th>...</th>\n      <td>...</td>\n      <td>...</td>\n      <td>...</td>\n      <td>...</td>\n      <td>...</td>\n      <td>...</td>\n      <td>...</td>\n      <td>...</td>\n      <td>...</td>\n      <td>...</td>\n      <td>...</td>\n      <td>...</td>\n      <td>...</td>\n      <td>...</td>\n      <td>...</td>\n      <td>...</td>\n      <td>...</td>\n      <td>...</td>\n      <td>...</td>\n      <td>...</td>\n      <td>...</td>\n    </tr>\n    <tr>\n      <th>2869</th>\n      <td>14652.2</td>\n      <td>15241.0</td>\n      <td>12025.8</td>\n      <td>15406.9</td>\n      <td>21852.1</td>\n      <td>21912.4</td>\n      <td>20264.4</td>\n      <td>15689.6</td>\n      <td>15934.4</td>\n      <td>14620.8</td>\n      <td>...</td>\n      <td>20526.2</td>\n      <td>14881.2</td>\n      <td>31916.1</td>\n      <td>24640.5</td>\n      <td>16040.9</td>\n      <td>190.0</td>\n      <td>3203.3</td>\n      <td>16731.4</td>\n      <td>39817.6</td>\n      <td>14612.7</td>\n    </tr>\n    <tr>\n      <th>2875</th>\n      <td>12827.7</td>\n      <td>13598.8</td>\n      <td>10318.8</td>\n      <td>13764.7</td>\n      <td>19693.9</td>\n      <td>19754.2</td>\n      <td>18106.2</td>\n      <td>13531.4</td>\n      <td>13776.2</td>\n      <td>12462.6</td>\n      <td>...</td>\n      <td>18368.0</td>\n      <td>12723.0</td>\n      <td>29757.9</td>\n      <td>22482.3</td>\n      <td>13882.7</td>\n      <td>3581.5</td>\n      <td>870.5</td>\n      <td>14573.2</td>\n      <td>37659.4</td>\n      <td>12788.2</td>\n    </tr>\n    <tr>\n      <th>2877</th>\n      <td>5053.5</td>\n      <td>7021.9</td>\n      <td>6703.3</td>\n      <td>8284.8</td>\n      <td>5831.6</td>\n      <td>5891.9</td>\n      <td>4180.4</td>\n      <td>1041.8</td>\n      <td>1221.3</td>\n      <td>2496.2</td>\n      <td>...</td>\n      <td>4505.7</td>\n      <td>2377.0</td>\n      <td>15895.6</td>\n      <td>8662.5</td>\n      <td>1414.0</td>\n      <td>16699.8</td>\n      <td>13702.7</td>\n      <td>0.0</td>\n      <td>23797.1</td>\n      <td>5401.8</td>\n    </tr>\n    <tr>\n      <th>2879</th>\n      <td>28119.9</td>\n      <td>29809.8</td>\n      <td>29789.5</td>\n      <td>31345.5</td>\n      <td>19296.1</td>\n      <td>19218.2</td>\n      <td>20409.4</td>\n      <td>24128.7</td>\n      <td>24199.3</td>\n      <td>25582.4</td>\n      <td>...</td>\n      <td>19830.2</td>\n      <td>25463.9</td>\n      <td>7917.9</td>\n      <td>18523.3</td>\n      <td>24331.5</td>\n      <td>39786.0</td>\n      <td>36788.9</td>\n      <td>23797.1</td>\n      <td>0.0</td>\n      <td>28468.2</td>\n    </tr>\n    <tr>\n      <th>3000</th>\n      <td>638.0</td>\n      <td>2606.4</td>\n      <td>3505.9</td>\n      <td>3869.3</td>\n      <td>9613.2</td>\n      <td>9673.5</td>\n      <td>8044.1</td>\n      <td>3554.8</td>\n      <td>3444.4</td>\n      <td>2486.0</td>\n      <td>...</td>\n      <td>8287.3</td>\n      <td>2746.4</td>\n      <td>19677.2</td>\n      <td>12478.2</td>\n      <td>3247.2</td>\n      <td>15008.6</td>\n      <td>12239.0</td>\n      <td>4596.6</td>\n      <td>27578.7</td>\n      <td>986.3</td>\n    </tr>\n  </tbody>\n</table>\n<p>499 rows × 499 columns</p>\n</div>"
     },
     "execution_count": 4,
     "metadata": {},
     "output_type": "execute_result"
    }
   ],
   "source": [
    "distance_matrix = pd.read_csv(\"C:/Users/sm_pa/OneDrive/Рабочий стол/НИР3/perm_freight_modelling/data/distance_matrix.csv\")\n",
    "distance_matrix.set_index('id', inplace=True)\n",
    "distance_matrix"
   ],
   "metadata": {
    "collapsed": false,
    "ExecuteTime": {
     "end_time": "2024-01-20T17:01:22.020112900Z",
     "start_time": "2024-01-20T17:01:21.879470300Z"
    }
   },
   "id": "27d84adfbbc32a15"
  },
  {
   "cell_type": "code",
   "execution_count": 6,
   "outputs": [
    {
     "data": {
      "text/plain": "       zone_id      landuse  industrial    retail   service  \\\n0            6  low_density    0.932489  0.067511  0.000000   \n1            6  low_density    0.932489  0.067511  0.000000   \n2            6  low_density    0.932489  0.067511  0.000000   \n3            6  low_density    0.932489  0.067511  0.000000   \n4            6  low_density    0.932489  0.067511  0.000000   \n...        ...          ...         ...       ...       ...   \n17504     3000  low_density    0.274725  0.000000  0.725275   \n17505     3000  low_density    0.274725  0.000000  0.725275   \n17506     3000  low_density    0.274725  0.000000  0.725275   \n17507     3000  low_density    0.274725  0.000000  0.725275   \n17508     3000  low_density    0.274725  0.000000  0.725275   \n\n       population_availability  workers_availability  landuse_numeric  \\\n0                     4.892252              2.386894                0   \n1                     4.892252              2.386894                0   \n2                     4.892252              2.386894                0   \n3                     4.892252              2.386894                0   \n4                     4.892252              2.386894                0   \n...                        ...                   ...              ...   \n17504                 5.342491              2.495559                0   \n17505                 5.342491              2.495559                0   \n17506                 5.342491              2.495559                0   \n17507                 5.342491              2.495559                0   \n17508                 5.342491              2.495559                0   \n\n         industry  employment_share  industry_numeric  time_of_day  \\\n0      industrial          0.932489                 0            1   \n1      industrial          0.932489                 0            1   \n2      industrial          0.932489                 0            0   \n3      industrial          0.932489                 0            0   \n4      industrial          0.932489                 0            1   \n...           ...               ...               ...          ...   \n17504     service          0.725275                 2            1   \n17505     service          0.725275                 2            1   \n17506     service          0.725275                 2            1   \n17507     service          0.725275                 2            1   \n17508     service          0.725275                 2            1   \n\n       vehicle_purpose  vehicle_type  tour_purpose  assigned_start_time  \\\n0                    3             1             0  1900-01-01 16:17:00   \n1                    0             0             0  1900-01-01 16:27:00   \n2                    3             1             0  1900-01-01 10:40:00   \n3                    3             1             0  1900-01-01 09:34:00   \n4                    6             2             0  1900-01-01 14:18:00   \n...                ...           ...           ...                  ...   \n17504                0             0             0  1900-01-01 16:44:00   \n17505                0             0             0  1900-01-01 12:11:00   \n17506                1             0             1  1900-01-01 15:03:00   \n17507                0             0             0  1900-01-01 14:57:00   \n17508                2             0             2  1900-01-01 16:04:00   \n\n                                                geometry  num_stops  \\\n0      POLYGON ((56.341288358568235 58.02780495372831...          3   \n1      POLYGON ((56.341288358568235 58.02780495372831...          3   \n2      POLYGON ((56.341288358568235 58.02780495372831...          5   \n3      POLYGON ((56.341288358568235 58.02780495372831...          5   \n4      POLYGON ((56.341288358568235 58.02780495372831...          3   \n...                                                  ...        ...   \n17504  POLYGON ((56.31846606892069 58.03895842149396,...          2   \n17505  POLYGON ((56.31846606892069 58.03895842149396,...          4   \n17506  POLYGON ((56.31846606892069 58.03895842149396,...          4   \n17507  POLYGON ((56.31846606892069 58.03895842149396,...          3   \n17508  POLYGON ((56.31846606892069 58.03895842149396,...          7   \n\n                                                   stops  \n0       [{'purpose': 0}, {'purpose': 1}, {'purpose': 2}]  \n1       [{'purpose': 0}, {'purpose': 1}, {'purpose': 2}]  \n2      [{'purpose': 0}, {'purpose': 0}, {'purpose': 0...  \n3      [{'purpose': 0}, {'purpose': 0}, {'purpose': 0...  \n4       [{'purpose': 1}, {'purpose': 1}, {'purpose': 2}]  \n...                                                  ...  \n17504                   [{'purpose': 1}, {'purpose': 2}]  \n17505  [{'purpose': 0}, {'purpose': 1}, {'purpose': 1...  \n17506  [{'purpose': 1}, {'purpose': 1}, {'purpose': 0...  \n17507   [{'purpose': 1}, {'purpose': 0}, {'purpose': 2}]  \n17508  [{'purpose': 0}, {'purpose': 1}, {'purpose': 0...  \n\n[17509 rows x 19 columns]",
      "text/html": "<div>\n<style scoped>\n    .dataframe tbody tr th:only-of-type {\n        vertical-align: middle;\n    }\n\n    .dataframe tbody tr th {\n        vertical-align: top;\n    }\n\n    .dataframe thead th {\n        text-align: right;\n    }\n</style>\n<table border=\"1\" class=\"dataframe\">\n  <thead>\n    <tr style=\"text-align: right;\">\n      <th></th>\n      <th>zone_id</th>\n      <th>landuse</th>\n      <th>industrial</th>\n      <th>retail</th>\n      <th>service</th>\n      <th>population_availability</th>\n      <th>workers_availability</th>\n      <th>landuse_numeric</th>\n      <th>industry</th>\n      <th>employment_share</th>\n      <th>industry_numeric</th>\n      <th>time_of_day</th>\n      <th>vehicle_purpose</th>\n      <th>vehicle_type</th>\n      <th>tour_purpose</th>\n      <th>assigned_start_time</th>\n      <th>geometry</th>\n      <th>num_stops</th>\n      <th>stops</th>\n    </tr>\n  </thead>\n  <tbody>\n    <tr>\n      <th>0</th>\n      <td>6</td>\n      <td>low_density</td>\n      <td>0.932489</td>\n      <td>0.067511</td>\n      <td>0.000000</td>\n      <td>4.892252</td>\n      <td>2.386894</td>\n      <td>0</td>\n      <td>industrial</td>\n      <td>0.932489</td>\n      <td>0</td>\n      <td>1</td>\n      <td>3</td>\n      <td>1</td>\n      <td>0</td>\n      <td>1900-01-01 16:17:00</td>\n      <td>POLYGON ((56.341288358568235 58.02780495372831...</td>\n      <td>3</td>\n      <td>[{'purpose': 0}, {'purpose': 1}, {'purpose': 2}]</td>\n    </tr>\n    <tr>\n      <th>1</th>\n      <td>6</td>\n      <td>low_density</td>\n      <td>0.932489</td>\n      <td>0.067511</td>\n      <td>0.000000</td>\n      <td>4.892252</td>\n      <td>2.386894</td>\n      <td>0</td>\n      <td>industrial</td>\n      <td>0.932489</td>\n      <td>0</td>\n      <td>1</td>\n      <td>0</td>\n      <td>0</td>\n      <td>0</td>\n      <td>1900-01-01 16:27:00</td>\n      <td>POLYGON ((56.341288358568235 58.02780495372831...</td>\n      <td>3</td>\n      <td>[{'purpose': 0}, {'purpose': 1}, {'purpose': 2}]</td>\n    </tr>\n    <tr>\n      <th>2</th>\n      <td>6</td>\n      <td>low_density</td>\n      <td>0.932489</td>\n      <td>0.067511</td>\n      <td>0.000000</td>\n      <td>4.892252</td>\n      <td>2.386894</td>\n      <td>0</td>\n      <td>industrial</td>\n      <td>0.932489</td>\n      <td>0</td>\n      <td>0</td>\n      <td>3</td>\n      <td>1</td>\n      <td>0</td>\n      <td>1900-01-01 10:40:00</td>\n      <td>POLYGON ((56.341288358568235 58.02780495372831...</td>\n      <td>5</td>\n      <td>[{'purpose': 0}, {'purpose': 0}, {'purpose': 0...</td>\n    </tr>\n    <tr>\n      <th>3</th>\n      <td>6</td>\n      <td>low_density</td>\n      <td>0.932489</td>\n      <td>0.067511</td>\n      <td>0.000000</td>\n      <td>4.892252</td>\n      <td>2.386894</td>\n      <td>0</td>\n      <td>industrial</td>\n      <td>0.932489</td>\n      <td>0</td>\n      <td>0</td>\n      <td>3</td>\n      <td>1</td>\n      <td>0</td>\n      <td>1900-01-01 09:34:00</td>\n      <td>POLYGON ((56.341288358568235 58.02780495372831...</td>\n      <td>5</td>\n      <td>[{'purpose': 0}, {'purpose': 0}, {'purpose': 0...</td>\n    </tr>\n    <tr>\n      <th>4</th>\n      <td>6</td>\n      <td>low_density</td>\n      <td>0.932489</td>\n      <td>0.067511</td>\n      <td>0.000000</td>\n      <td>4.892252</td>\n      <td>2.386894</td>\n      <td>0</td>\n      <td>industrial</td>\n      <td>0.932489</td>\n      <td>0</td>\n      <td>1</td>\n      <td>6</td>\n      <td>2</td>\n      <td>0</td>\n      <td>1900-01-01 14:18:00</td>\n      <td>POLYGON ((56.341288358568235 58.02780495372831...</td>\n      <td>3</td>\n      <td>[{'purpose': 1}, {'purpose': 1}, {'purpose': 2}]</td>\n    </tr>\n    <tr>\n      <th>...</th>\n      <td>...</td>\n      <td>...</td>\n      <td>...</td>\n      <td>...</td>\n      <td>...</td>\n      <td>...</td>\n      <td>...</td>\n      <td>...</td>\n      <td>...</td>\n      <td>...</td>\n      <td>...</td>\n      <td>...</td>\n      <td>...</td>\n      <td>...</td>\n      <td>...</td>\n      <td>...</td>\n      <td>...</td>\n      <td>...</td>\n      <td>...</td>\n    </tr>\n    <tr>\n      <th>17504</th>\n      <td>3000</td>\n      <td>low_density</td>\n      <td>0.274725</td>\n      <td>0.000000</td>\n      <td>0.725275</td>\n      <td>5.342491</td>\n      <td>2.495559</td>\n      <td>0</td>\n      <td>service</td>\n      <td>0.725275</td>\n      <td>2</td>\n      <td>1</td>\n      <td>0</td>\n      <td>0</td>\n      <td>0</td>\n      <td>1900-01-01 16:44:00</td>\n      <td>POLYGON ((56.31846606892069 58.03895842149396,...</td>\n      <td>2</td>\n      <td>[{'purpose': 1}, {'purpose': 2}]</td>\n    </tr>\n    <tr>\n      <th>17505</th>\n      <td>3000</td>\n      <td>low_density</td>\n      <td>0.274725</td>\n      <td>0.000000</td>\n      <td>0.725275</td>\n      <td>5.342491</td>\n      <td>2.495559</td>\n      <td>0</td>\n      <td>service</td>\n      <td>0.725275</td>\n      <td>2</td>\n      <td>1</td>\n      <td>0</td>\n      <td>0</td>\n      <td>0</td>\n      <td>1900-01-01 12:11:00</td>\n      <td>POLYGON ((56.31846606892069 58.03895842149396,...</td>\n      <td>4</td>\n      <td>[{'purpose': 0}, {'purpose': 1}, {'purpose': 1...</td>\n    </tr>\n    <tr>\n      <th>17506</th>\n      <td>3000</td>\n      <td>low_density</td>\n      <td>0.274725</td>\n      <td>0.000000</td>\n      <td>0.725275</td>\n      <td>5.342491</td>\n      <td>2.495559</td>\n      <td>0</td>\n      <td>service</td>\n      <td>0.725275</td>\n      <td>2</td>\n      <td>1</td>\n      <td>1</td>\n      <td>0</td>\n      <td>1</td>\n      <td>1900-01-01 15:03:00</td>\n      <td>POLYGON ((56.31846606892069 58.03895842149396,...</td>\n      <td>4</td>\n      <td>[{'purpose': 1}, {'purpose': 1}, {'purpose': 0...</td>\n    </tr>\n    <tr>\n      <th>17507</th>\n      <td>3000</td>\n      <td>low_density</td>\n      <td>0.274725</td>\n      <td>0.000000</td>\n      <td>0.725275</td>\n      <td>5.342491</td>\n      <td>2.495559</td>\n      <td>0</td>\n      <td>service</td>\n      <td>0.725275</td>\n      <td>2</td>\n      <td>1</td>\n      <td>0</td>\n      <td>0</td>\n      <td>0</td>\n      <td>1900-01-01 14:57:00</td>\n      <td>POLYGON ((56.31846606892069 58.03895842149396,...</td>\n      <td>3</td>\n      <td>[{'purpose': 1}, {'purpose': 0}, {'purpose': 2}]</td>\n    </tr>\n    <tr>\n      <th>17508</th>\n      <td>3000</td>\n      <td>low_density</td>\n      <td>0.274725</td>\n      <td>0.000000</td>\n      <td>0.725275</td>\n      <td>5.342491</td>\n      <td>2.495559</td>\n      <td>0</td>\n      <td>service</td>\n      <td>0.725275</td>\n      <td>2</td>\n      <td>1</td>\n      <td>2</td>\n      <td>0</td>\n      <td>2</td>\n      <td>1900-01-01 16:04:00</td>\n      <td>POLYGON ((56.31846606892069 58.03895842149396,...</td>\n      <td>7</td>\n      <td>[{'purpose': 0}, {'purpose': 1}, {'purpose': 0...</td>\n    </tr>\n  </tbody>\n</table>\n<p>17509 rows × 19 columns</p>\n</div>"
     },
     "execution_count": 6,
     "metadata": {},
     "output_type": "execute_result"
    }
   ],
   "source": [
    "# Загрузка данных из CSV\n",
    "generated_tours = pd.read_csv('C:/Users/sm_pa/OneDrive/Рабочий стол/НИР3/perm_freight_modelling/data/step5_tours.csv')\n",
    "\n",
    "# Преобразование строки JSON обратно в список словарей для каждой записи\n",
    "generated_tours['stops'] = generated_tours['stops'].apply(json.loads)\n",
    "\n",
    "generated_tours"
   ],
   "metadata": {
    "collapsed": false,
    "ExecuteTime": {
     "end_time": "2024-01-20T17:06:00.775987500Z",
     "start_time": "2024-01-20T17:05:55.203389800Z"
    }
   },
   "id": "81b83a3bac49be80"
  },
  {
   "cell_type": "markdown",
   "source": [
    "Сгенерируем локации остановок"
   ],
   "metadata": {
    "collapsed": false
   },
   "id": "3a5d13795b3cdb3f"
  },
  {
   "cell_type": "code",
   "execution_count": 7,
   "outputs": [],
   "source": [
    "def select_zone_for_stop(home_zone_id, zones, distance_matrix):\n",
    "    \"\"\"\n",
    "    Выбирает зону для остановки на основе расстояния, типа землепользования, доступности рабочих мест и домашней зоны.\n",
    "    :param current_zone: ID текущей зоны.\n",
    "    :param home_zone_id: ID домашней зоны.\n",
    "    :param zones: DataFrame с зонами и их характеристиками.\n",
    "    :param distance_matrix: Матрица расстояний между зонами.\n",
    "    :return: ID выбранной зоны.\n",
    "    \"\"\"\n",
    "    probabilities = []\n",
    "\n",
    "    for zone_id in zones.index:\n",
    "        # Проверка на совпадение с домашней зоной\n",
    "        if zone_id == home_zone_id:\n",
    "            probabilities.append(0)  # Если ID совпадают, устанавливаем вероятность в 0\n",
    "            continue\n",
    "                    \n",
    "        # Расчет вероятности на основе расстояния от домашней зоны\n",
    "        distance_home = distance_matrix.loc[home_zone_id, zone_id]\n",
    "        distance_probability_home = 1 / (distance_home + 1)\n",
    "\n",
    "        # Учет типа землепользования\n",
    "        landuse_probability = zones.loc[zone_id, 'landuse_numeric'] / 3\n",
    "\n",
    "        # Учет доступности рабочих мест\n",
    "        work_availability = zones.loc[zone_id, 'workers_availability']\n",
    "        work_probability = work_availability / zones['workers_availability'].max()  # Нормализация\n",
    "\n",
    "        # Общая вероятность для зоны\n",
    "        total_probability = distance_probability_home * landuse_probability * work_probability\n",
    "        probabilities.append(total_probability)\n",
    "\n",
    "    # Нормализация вероятностей\n",
    "    probabilities = [p / sum(probabilities) for p in probabilities]\n",
    "\n",
    "    # Выбор зоны на основе сгенерированных вероятностей\n",
    "    selected_zone = np.random.choice(zones.index, p=probabilities)\n",
    "    return selected_zone"
   ],
   "metadata": {
    "collapsed": false,
    "ExecuteTime": {
     "end_time": "2024-01-20T17:08:01.319257800Z",
     "start_time": "2024-01-20T17:08:01.272391500Z"
    }
   },
   "id": "2e2b8afc920ea9fb"
  },
  {
   "cell_type": "code",
   "execution_count": 5,
   "outputs": [],
   "source": [
    "distance_matrix.columns = pd.to_numeric(distance_matrix.columns)"
   ],
   "metadata": {
    "collapsed": false,
    "ExecuteTime": {
     "end_time": "2024-01-20T17:01:30.854262500Z",
     "start_time": "2024-01-20T17:01:30.791806700Z"
    }
   },
   "id": "8c010602711e9f6a"
  },
  {
   "cell_type": "code",
   "execution_count": 8,
   "outputs": [],
   "source": [
    "for index, row in generated_tours.iterrows():\n",
    "    home_zone_id = row['zone_id']\n",
    "    for stop in row['stops']:\n",
    "        # Выбор зоны для остановки\n",
    "        selected_zone_id = select_zone_for_stop(home_zone_id, zones, distance_matrix)\n",
    "        # Добавление выбранной зоны к информации об остановке\n",
    "        stop['zone_id'] = selected_zone_id"
   ],
   "metadata": {
    "collapsed": false,
    "ExecuteTime": {
     "end_time": "2024-01-20T18:06:30.271608100Z",
     "start_time": "2024-01-20T17:09:10.094476400Z"
    }
   },
   "id": "49bd9e5ee92245f2"
  },
  {
   "cell_type": "code",
   "execution_count": 9,
   "outputs": [
    {
     "data": {
      "text/plain": "   zone_id      landuse  industrial    retail  service  \\\n0        6  low_density    0.932489  0.067511      0.0   \n1        6  low_density    0.932489  0.067511      0.0   \n2        6  low_density    0.932489  0.067511      0.0   \n3        6  low_density    0.932489  0.067511      0.0   \n4        6  low_density    0.932489  0.067511      0.0   \n5        6  low_density    0.932489  0.067511      0.0   \n6        6  low_density    0.932489  0.067511      0.0   \n7        6  low_density    0.932489  0.067511      0.0   \n8        6  low_density    0.932489  0.067511      0.0   \n9        6  low_density    0.932489  0.067511      0.0   \n\n   population_availability  workers_availability  landuse_numeric    industry  \\\n0                 4.892252              2.386894                0  industrial   \n1                 4.892252              2.386894                0  industrial   \n2                 4.892252              2.386894                0  industrial   \n3                 4.892252              2.386894                0  industrial   \n4                 4.892252              2.386894                0  industrial   \n5                 4.892252              2.386894                0  industrial   \n6                 4.892252              2.386894                0  industrial   \n7                 4.892252              2.386894                0  industrial   \n8                 4.892252              2.386894                0  industrial   \n9                 4.892252              2.386894                0  industrial   \n\n   employment_share  industry_numeric  time_of_day  vehicle_purpose  \\\n0          0.932489                 0            1                3   \n1          0.932489                 0            1                0   \n2          0.932489                 0            0                3   \n3          0.932489                 0            0                3   \n4          0.932489                 0            1                6   \n5          0.932489                 0            1                3   \n6          0.932489                 0            1                3   \n7          0.932489                 0            1                4   \n8          0.932489                 0            1                3   \n9          0.932489                 0            1                3   \n\n   vehicle_type  tour_purpose  assigned_start_time  \\\n0             1             0  1900-01-01 16:17:00   \n1             0             0  1900-01-01 16:27:00   \n2             1             0  1900-01-01 10:40:00   \n3             1             0  1900-01-01 09:34:00   \n4             2             0  1900-01-01 14:18:00   \n5             1             0  1900-01-01 12:43:00   \n6             1             0  1900-01-01 14:24:00   \n7             1             1  1900-01-01 17:25:00   \n8             1             0  1900-01-01 11:47:00   \n9             1             0  1900-01-01 12:19:00   \n\n                                            geometry  num_stops  \\\n0  POLYGON ((56.341288358568235 58.02780495372831...          3   \n1  POLYGON ((56.341288358568235 58.02780495372831...          3   \n2  POLYGON ((56.341288358568235 58.02780495372831...          5   \n3  POLYGON ((56.341288358568235 58.02780495372831...          5   \n4  POLYGON ((56.341288358568235 58.02780495372831...          3   \n5  POLYGON ((56.341288358568235 58.02780495372831...          3   \n6  POLYGON ((56.341288358568235 58.02780495372831...          6   \n7  POLYGON ((56.341288358568235 58.02780495372831...          2   \n8  POLYGON ((56.341288358568235 58.02780495372831...          2   \n9  POLYGON ((56.341288358568235 58.02780495372831...          5   \n\n                                               stops  \n0  [{'purpose': 0, 'zone_id': 280}, {'purpose': 1...  \n1  [{'purpose': 0, 'zone_id': 2620}, {'purpose': ...  \n2  [{'purpose': 0, 'zone_id': 43}, {'purpose': 0,...  \n3  [{'purpose': 0, 'zone_id': 1338}, {'purpose': ...  \n4  [{'purpose': 1, 'zone_id': 453}, {'purpose': 1...  \n5  [{'purpose': 1, 'zone_id': 1543}, {'purpose': ...  \n6  [{'purpose': 1, 'zone_id': 655}, {'purpose': 0...  \n7  [{'purpose': 1, 'zone_id': 549}, {'purpose': 1...  \n8  [{'purpose': 1, 'zone_id': 95}, {'purpose': 1,...  \n9  [{'purpose': 0, 'zone_id': 880}, {'purpose': 1...  ",
      "text/html": "<div>\n<style scoped>\n    .dataframe tbody tr th:only-of-type {\n        vertical-align: middle;\n    }\n\n    .dataframe tbody tr th {\n        vertical-align: top;\n    }\n\n    .dataframe thead th {\n        text-align: right;\n    }\n</style>\n<table border=\"1\" class=\"dataframe\">\n  <thead>\n    <tr style=\"text-align: right;\">\n      <th></th>\n      <th>zone_id</th>\n      <th>landuse</th>\n      <th>industrial</th>\n      <th>retail</th>\n      <th>service</th>\n      <th>population_availability</th>\n      <th>workers_availability</th>\n      <th>landuse_numeric</th>\n      <th>industry</th>\n      <th>employment_share</th>\n      <th>industry_numeric</th>\n      <th>time_of_day</th>\n      <th>vehicle_purpose</th>\n      <th>vehicle_type</th>\n      <th>tour_purpose</th>\n      <th>assigned_start_time</th>\n      <th>geometry</th>\n      <th>num_stops</th>\n      <th>stops</th>\n    </tr>\n  </thead>\n  <tbody>\n    <tr>\n      <th>0</th>\n      <td>6</td>\n      <td>low_density</td>\n      <td>0.932489</td>\n      <td>0.067511</td>\n      <td>0.0</td>\n      <td>4.892252</td>\n      <td>2.386894</td>\n      <td>0</td>\n      <td>industrial</td>\n      <td>0.932489</td>\n      <td>0</td>\n      <td>1</td>\n      <td>3</td>\n      <td>1</td>\n      <td>0</td>\n      <td>1900-01-01 16:17:00</td>\n      <td>POLYGON ((56.341288358568235 58.02780495372831...</td>\n      <td>3</td>\n      <td>[{'purpose': 0, 'zone_id': 280}, {'purpose': 1...</td>\n    </tr>\n    <tr>\n      <th>1</th>\n      <td>6</td>\n      <td>low_density</td>\n      <td>0.932489</td>\n      <td>0.067511</td>\n      <td>0.0</td>\n      <td>4.892252</td>\n      <td>2.386894</td>\n      <td>0</td>\n      <td>industrial</td>\n      <td>0.932489</td>\n      <td>0</td>\n      <td>1</td>\n      <td>0</td>\n      <td>0</td>\n      <td>0</td>\n      <td>1900-01-01 16:27:00</td>\n      <td>POLYGON ((56.341288358568235 58.02780495372831...</td>\n      <td>3</td>\n      <td>[{'purpose': 0, 'zone_id': 2620}, {'purpose': ...</td>\n    </tr>\n    <tr>\n      <th>2</th>\n      <td>6</td>\n      <td>low_density</td>\n      <td>0.932489</td>\n      <td>0.067511</td>\n      <td>0.0</td>\n      <td>4.892252</td>\n      <td>2.386894</td>\n      <td>0</td>\n      <td>industrial</td>\n      <td>0.932489</td>\n      <td>0</td>\n      <td>0</td>\n      <td>3</td>\n      <td>1</td>\n      <td>0</td>\n      <td>1900-01-01 10:40:00</td>\n      <td>POLYGON ((56.341288358568235 58.02780495372831...</td>\n      <td>5</td>\n      <td>[{'purpose': 0, 'zone_id': 43}, {'purpose': 0,...</td>\n    </tr>\n    <tr>\n      <th>3</th>\n      <td>6</td>\n      <td>low_density</td>\n      <td>0.932489</td>\n      <td>0.067511</td>\n      <td>0.0</td>\n      <td>4.892252</td>\n      <td>2.386894</td>\n      <td>0</td>\n      <td>industrial</td>\n      <td>0.932489</td>\n      <td>0</td>\n      <td>0</td>\n      <td>3</td>\n      <td>1</td>\n      <td>0</td>\n      <td>1900-01-01 09:34:00</td>\n      <td>POLYGON ((56.341288358568235 58.02780495372831...</td>\n      <td>5</td>\n      <td>[{'purpose': 0, 'zone_id': 1338}, {'purpose': ...</td>\n    </tr>\n    <tr>\n      <th>4</th>\n      <td>6</td>\n      <td>low_density</td>\n      <td>0.932489</td>\n      <td>0.067511</td>\n      <td>0.0</td>\n      <td>4.892252</td>\n      <td>2.386894</td>\n      <td>0</td>\n      <td>industrial</td>\n      <td>0.932489</td>\n      <td>0</td>\n      <td>1</td>\n      <td>6</td>\n      <td>2</td>\n      <td>0</td>\n      <td>1900-01-01 14:18:00</td>\n      <td>POLYGON ((56.341288358568235 58.02780495372831...</td>\n      <td>3</td>\n      <td>[{'purpose': 1, 'zone_id': 453}, {'purpose': 1...</td>\n    </tr>\n    <tr>\n      <th>5</th>\n      <td>6</td>\n      <td>low_density</td>\n      <td>0.932489</td>\n      <td>0.067511</td>\n      <td>0.0</td>\n      <td>4.892252</td>\n      <td>2.386894</td>\n      <td>0</td>\n      <td>industrial</td>\n      <td>0.932489</td>\n      <td>0</td>\n      <td>1</td>\n      <td>3</td>\n      <td>1</td>\n      <td>0</td>\n      <td>1900-01-01 12:43:00</td>\n      <td>POLYGON ((56.341288358568235 58.02780495372831...</td>\n      <td>3</td>\n      <td>[{'purpose': 1, 'zone_id': 1543}, {'purpose': ...</td>\n    </tr>\n    <tr>\n      <th>6</th>\n      <td>6</td>\n      <td>low_density</td>\n      <td>0.932489</td>\n      <td>0.067511</td>\n      <td>0.0</td>\n      <td>4.892252</td>\n      <td>2.386894</td>\n      <td>0</td>\n      <td>industrial</td>\n      <td>0.932489</td>\n      <td>0</td>\n      <td>1</td>\n      <td>3</td>\n      <td>1</td>\n      <td>0</td>\n      <td>1900-01-01 14:24:00</td>\n      <td>POLYGON ((56.341288358568235 58.02780495372831...</td>\n      <td>6</td>\n      <td>[{'purpose': 1, 'zone_id': 655}, {'purpose': 0...</td>\n    </tr>\n    <tr>\n      <th>7</th>\n      <td>6</td>\n      <td>low_density</td>\n      <td>0.932489</td>\n      <td>0.067511</td>\n      <td>0.0</td>\n      <td>4.892252</td>\n      <td>2.386894</td>\n      <td>0</td>\n      <td>industrial</td>\n      <td>0.932489</td>\n      <td>0</td>\n      <td>1</td>\n      <td>4</td>\n      <td>1</td>\n      <td>1</td>\n      <td>1900-01-01 17:25:00</td>\n      <td>POLYGON ((56.341288358568235 58.02780495372831...</td>\n      <td>2</td>\n      <td>[{'purpose': 1, 'zone_id': 549}, {'purpose': 1...</td>\n    </tr>\n    <tr>\n      <th>8</th>\n      <td>6</td>\n      <td>low_density</td>\n      <td>0.932489</td>\n      <td>0.067511</td>\n      <td>0.0</td>\n      <td>4.892252</td>\n      <td>2.386894</td>\n      <td>0</td>\n      <td>industrial</td>\n      <td>0.932489</td>\n      <td>0</td>\n      <td>1</td>\n      <td>3</td>\n      <td>1</td>\n      <td>0</td>\n      <td>1900-01-01 11:47:00</td>\n      <td>POLYGON ((56.341288358568235 58.02780495372831...</td>\n      <td>2</td>\n      <td>[{'purpose': 1, 'zone_id': 95}, {'purpose': 1,...</td>\n    </tr>\n    <tr>\n      <th>9</th>\n      <td>6</td>\n      <td>low_density</td>\n      <td>0.932489</td>\n      <td>0.067511</td>\n      <td>0.0</td>\n      <td>4.892252</td>\n      <td>2.386894</td>\n      <td>0</td>\n      <td>industrial</td>\n      <td>0.932489</td>\n      <td>0</td>\n      <td>1</td>\n      <td>3</td>\n      <td>1</td>\n      <td>0</td>\n      <td>1900-01-01 12:19:00</td>\n      <td>POLYGON ((56.341288358568235 58.02780495372831...</td>\n      <td>5</td>\n      <td>[{'purpose': 0, 'zone_id': 880}, {'purpose': 1...</td>\n    </tr>\n  </tbody>\n</table>\n</div>"
     },
     "execution_count": 9,
     "metadata": {},
     "output_type": "execute_result"
    }
   ],
   "source": [
    "generated_tours.head(10)"
   ],
   "metadata": {
    "collapsed": false,
    "ExecuteTime": {
     "end_time": "2024-01-20T18:09:12.199341100Z",
     "start_time": "2024-01-20T18:09:12.105594500Z"
    }
   },
   "id": "706747512bc0efbe"
  },
  {
   "cell_type": "code",
   "execution_count": 10,
   "outputs": [
    {
     "ename": "TypeError",
     "evalue": "Object of type int64 is not JSON serializable",
     "output_type": "error",
     "traceback": [
      "\u001B[1;31m---------------------------------------------------------------------------\u001B[0m",
      "\u001B[1;31mTypeError\u001B[0m                                 Traceback (most recent call last)",
      "Cell \u001B[1;32mIn[10], line 2\u001B[0m\n\u001B[0;32m      1\u001B[0m \u001B[38;5;66;03m# Преобразование списка словарей в строку JSON для каждой записи\u001B[39;00m\n\u001B[1;32m----> 2\u001B[0m generated_tours[\u001B[38;5;124m'\u001B[39m\u001B[38;5;124mstops\u001B[39m\u001B[38;5;124m'\u001B[39m] \u001B[38;5;241m=\u001B[39m \u001B[43mgenerated_tours\u001B[49m\u001B[43m[\u001B[49m\u001B[38;5;124;43m'\u001B[39;49m\u001B[38;5;124;43mstops\u001B[39;49m\u001B[38;5;124;43m'\u001B[39;49m\u001B[43m]\u001B[49m\u001B[38;5;241;43m.\u001B[39;49m\u001B[43mapply\u001B[49m\u001B[43m(\u001B[49m\u001B[43mjson\u001B[49m\u001B[38;5;241;43m.\u001B[39;49m\u001B[43mdumps\u001B[49m\u001B[43m)\u001B[49m\n\u001B[0;32m      4\u001B[0m generated_tours\u001B[38;5;241m.\u001B[39mto_csv(\u001B[38;5;124m'\u001B[39m\u001B[38;5;124mstep6_tours.csv\u001B[39m\u001B[38;5;124m'\u001B[39m, index\u001B[38;5;241m=\u001B[39m\u001B[38;5;28;01mFalse\u001B[39;00m)\n",
      "File \u001B[1;32m~\\AppData\\Local\\Programs\\Python\\Python39\\lib\\site-packages\\pandas\\core\\series.py:4757\u001B[0m, in \u001B[0;36mSeries.apply\u001B[1;34m(self, func, convert_dtype, args, by_row, **kwargs)\u001B[0m\n\u001B[0;32m   4629\u001B[0m \u001B[38;5;28;01mdef\u001B[39;00m \u001B[38;5;21mapply\u001B[39m(\n\u001B[0;32m   4630\u001B[0m     \u001B[38;5;28mself\u001B[39m,\n\u001B[0;32m   4631\u001B[0m     func: AggFuncType,\n\u001B[1;32m   (...)\u001B[0m\n\u001B[0;32m   4636\u001B[0m     \u001B[38;5;241m*\u001B[39m\u001B[38;5;241m*\u001B[39mkwargs,\n\u001B[0;32m   4637\u001B[0m ) \u001B[38;5;241m-\u001B[39m\u001B[38;5;241m>\u001B[39m DataFrame \u001B[38;5;241m|\u001B[39m Series:\n\u001B[0;32m   4638\u001B[0m \u001B[38;5;250m    \u001B[39m\u001B[38;5;124;03m\"\"\"\u001B[39;00m\n\u001B[0;32m   4639\u001B[0m \u001B[38;5;124;03m    Invoke function on values of Series.\u001B[39;00m\n\u001B[0;32m   4640\u001B[0m \n\u001B[1;32m   (...)\u001B[0m\n\u001B[0;32m   4755\u001B[0m \u001B[38;5;124;03m    dtype: float64\u001B[39;00m\n\u001B[0;32m   4756\u001B[0m \u001B[38;5;124;03m    \"\"\"\u001B[39;00m\n\u001B[1;32m-> 4757\u001B[0m     \u001B[38;5;28;01mreturn\u001B[39;00m \u001B[43mSeriesApply\u001B[49m\u001B[43m(\u001B[49m\n\u001B[0;32m   4758\u001B[0m \u001B[43m        \u001B[49m\u001B[38;5;28;43mself\u001B[39;49m\u001B[43m,\u001B[49m\n\u001B[0;32m   4759\u001B[0m \u001B[43m        \u001B[49m\u001B[43mfunc\u001B[49m\u001B[43m,\u001B[49m\n\u001B[0;32m   4760\u001B[0m \u001B[43m        \u001B[49m\u001B[43mconvert_dtype\u001B[49m\u001B[38;5;241;43m=\u001B[39;49m\u001B[43mconvert_dtype\u001B[49m\u001B[43m,\u001B[49m\n\u001B[0;32m   4761\u001B[0m \u001B[43m        \u001B[49m\u001B[43mby_row\u001B[49m\u001B[38;5;241;43m=\u001B[39;49m\u001B[43mby_row\u001B[49m\u001B[43m,\u001B[49m\n\u001B[0;32m   4762\u001B[0m \u001B[43m        \u001B[49m\u001B[43margs\u001B[49m\u001B[38;5;241;43m=\u001B[39;49m\u001B[43margs\u001B[49m\u001B[43m,\u001B[49m\n\u001B[0;32m   4763\u001B[0m \u001B[43m        \u001B[49m\u001B[43mkwargs\u001B[49m\u001B[38;5;241;43m=\u001B[39;49m\u001B[43mkwargs\u001B[49m\u001B[43m,\u001B[49m\n\u001B[0;32m   4764\u001B[0m \u001B[43m    \u001B[49m\u001B[43m)\u001B[49m\u001B[38;5;241;43m.\u001B[39;49m\u001B[43mapply\u001B[49m\u001B[43m(\u001B[49m\u001B[43m)\u001B[49m\n",
      "File \u001B[1;32m~\\AppData\\Local\\Programs\\Python\\Python39\\lib\\site-packages\\pandas\\core\\apply.py:1209\u001B[0m, in \u001B[0;36mSeriesApply.apply\u001B[1;34m(self)\u001B[0m\n\u001B[0;32m   1206\u001B[0m     \u001B[38;5;28;01mreturn\u001B[39;00m \u001B[38;5;28mself\u001B[39m\u001B[38;5;241m.\u001B[39mapply_compat()\n\u001B[0;32m   1208\u001B[0m \u001B[38;5;66;03m# self.func is Callable\u001B[39;00m\n\u001B[1;32m-> 1209\u001B[0m \u001B[38;5;28;01mreturn\u001B[39;00m \u001B[38;5;28;43mself\u001B[39;49m\u001B[38;5;241;43m.\u001B[39;49m\u001B[43mapply_standard\u001B[49m\u001B[43m(\u001B[49m\u001B[43m)\u001B[49m\n",
      "File \u001B[1;32m~\\AppData\\Local\\Programs\\Python\\Python39\\lib\\site-packages\\pandas\\core\\apply.py:1289\u001B[0m, in \u001B[0;36mSeriesApply.apply_standard\u001B[1;34m(self)\u001B[0m\n\u001B[0;32m   1283\u001B[0m \u001B[38;5;66;03m# row-wise access\u001B[39;00m\n\u001B[0;32m   1284\u001B[0m \u001B[38;5;66;03m# apply doesn't have a `na_action` keyword and for backward compat reasons\u001B[39;00m\n\u001B[0;32m   1285\u001B[0m \u001B[38;5;66;03m# we need to give `na_action=\"ignore\"` for categorical data.\u001B[39;00m\n\u001B[0;32m   1286\u001B[0m \u001B[38;5;66;03m# TODO: remove the `na_action=\"ignore\"` when that default has been changed in\u001B[39;00m\n\u001B[0;32m   1287\u001B[0m \u001B[38;5;66;03m#  Categorical (GH51645).\u001B[39;00m\n\u001B[0;32m   1288\u001B[0m action \u001B[38;5;241m=\u001B[39m \u001B[38;5;124m\"\u001B[39m\u001B[38;5;124mignore\u001B[39m\u001B[38;5;124m\"\u001B[39m \u001B[38;5;28;01mif\u001B[39;00m \u001B[38;5;28misinstance\u001B[39m(obj\u001B[38;5;241m.\u001B[39mdtype, CategoricalDtype) \u001B[38;5;28;01melse\u001B[39;00m \u001B[38;5;28;01mNone\u001B[39;00m\n\u001B[1;32m-> 1289\u001B[0m mapped \u001B[38;5;241m=\u001B[39m \u001B[43mobj\u001B[49m\u001B[38;5;241;43m.\u001B[39;49m\u001B[43m_map_values\u001B[49m\u001B[43m(\u001B[49m\n\u001B[0;32m   1290\u001B[0m \u001B[43m    \u001B[49m\u001B[43mmapper\u001B[49m\u001B[38;5;241;43m=\u001B[39;49m\u001B[43mcurried\u001B[49m\u001B[43m,\u001B[49m\u001B[43m \u001B[49m\u001B[43mna_action\u001B[49m\u001B[38;5;241;43m=\u001B[39;49m\u001B[43maction\u001B[49m\u001B[43m,\u001B[49m\u001B[43m \u001B[49m\u001B[43mconvert\u001B[49m\u001B[38;5;241;43m=\u001B[39;49m\u001B[38;5;28;43mself\u001B[39;49m\u001B[38;5;241;43m.\u001B[39;49m\u001B[43mconvert_dtype\u001B[49m\n\u001B[0;32m   1291\u001B[0m \u001B[43m\u001B[49m\u001B[43m)\u001B[49m\n\u001B[0;32m   1293\u001B[0m \u001B[38;5;28;01mif\u001B[39;00m \u001B[38;5;28mlen\u001B[39m(mapped) \u001B[38;5;129;01mand\u001B[39;00m \u001B[38;5;28misinstance\u001B[39m(mapped[\u001B[38;5;241m0\u001B[39m], ABCSeries):\n\u001B[0;32m   1294\u001B[0m     \u001B[38;5;66;03m# GH#43986 Need to do list(mapped) in order to get treated as nested\u001B[39;00m\n\u001B[0;32m   1295\u001B[0m     \u001B[38;5;66;03m#  See also GH#25959 regarding EA support\u001B[39;00m\n\u001B[0;32m   1296\u001B[0m     \u001B[38;5;28;01mreturn\u001B[39;00m obj\u001B[38;5;241m.\u001B[39m_constructor_expanddim(\u001B[38;5;28mlist\u001B[39m(mapped), index\u001B[38;5;241m=\u001B[39mobj\u001B[38;5;241m.\u001B[39mindex)\n",
      "File \u001B[1;32m~\\AppData\\Local\\Programs\\Python\\Python39\\lib\\site-packages\\pandas\\core\\base.py:921\u001B[0m, in \u001B[0;36mIndexOpsMixin._map_values\u001B[1;34m(self, mapper, na_action, convert)\u001B[0m\n\u001B[0;32m    918\u001B[0m \u001B[38;5;28;01mif\u001B[39;00m \u001B[38;5;28misinstance\u001B[39m(arr, ExtensionArray):\n\u001B[0;32m    919\u001B[0m     \u001B[38;5;28;01mreturn\u001B[39;00m arr\u001B[38;5;241m.\u001B[39mmap(mapper, na_action\u001B[38;5;241m=\u001B[39mna_action)\n\u001B[1;32m--> 921\u001B[0m \u001B[38;5;28;01mreturn\u001B[39;00m \u001B[43malgorithms\u001B[49m\u001B[38;5;241;43m.\u001B[39;49m\u001B[43mmap_array\u001B[49m\u001B[43m(\u001B[49m\u001B[43marr\u001B[49m\u001B[43m,\u001B[49m\u001B[43m \u001B[49m\u001B[43mmapper\u001B[49m\u001B[43m,\u001B[49m\u001B[43m \u001B[49m\u001B[43mna_action\u001B[49m\u001B[38;5;241;43m=\u001B[39;49m\u001B[43mna_action\u001B[49m\u001B[43m,\u001B[49m\u001B[43m \u001B[49m\u001B[43mconvert\u001B[49m\u001B[38;5;241;43m=\u001B[39;49m\u001B[43mconvert\u001B[49m\u001B[43m)\u001B[49m\n",
      "File \u001B[1;32m~\\AppData\\Local\\Programs\\Python\\Python39\\lib\\site-packages\\pandas\\core\\algorithms.py:1814\u001B[0m, in \u001B[0;36mmap_array\u001B[1;34m(arr, mapper, na_action, convert)\u001B[0m\n\u001B[0;32m   1812\u001B[0m values \u001B[38;5;241m=\u001B[39m arr\u001B[38;5;241m.\u001B[39mastype(\u001B[38;5;28mobject\u001B[39m, copy\u001B[38;5;241m=\u001B[39m\u001B[38;5;28;01mFalse\u001B[39;00m)\n\u001B[0;32m   1813\u001B[0m \u001B[38;5;28;01mif\u001B[39;00m na_action \u001B[38;5;129;01mis\u001B[39;00m \u001B[38;5;28;01mNone\u001B[39;00m:\n\u001B[1;32m-> 1814\u001B[0m     \u001B[38;5;28;01mreturn\u001B[39;00m \u001B[43mlib\u001B[49m\u001B[38;5;241;43m.\u001B[39;49m\u001B[43mmap_infer\u001B[49m\u001B[43m(\u001B[49m\u001B[43mvalues\u001B[49m\u001B[43m,\u001B[49m\u001B[43m \u001B[49m\u001B[43mmapper\u001B[49m\u001B[43m,\u001B[49m\u001B[43m \u001B[49m\u001B[43mconvert\u001B[49m\u001B[38;5;241;43m=\u001B[39;49m\u001B[43mconvert\u001B[49m\u001B[43m)\u001B[49m\n\u001B[0;32m   1815\u001B[0m \u001B[38;5;28;01melse\u001B[39;00m:\n\u001B[0;32m   1816\u001B[0m     \u001B[38;5;28;01mreturn\u001B[39;00m lib\u001B[38;5;241m.\u001B[39mmap_infer_mask(\n\u001B[0;32m   1817\u001B[0m         values, mapper, mask\u001B[38;5;241m=\u001B[39misna(values)\u001B[38;5;241m.\u001B[39mview(np\u001B[38;5;241m.\u001B[39muint8), convert\u001B[38;5;241m=\u001B[39mconvert\n\u001B[0;32m   1818\u001B[0m     )\n",
      "File \u001B[1;32mlib.pyx:2926\u001B[0m, in \u001B[0;36mpandas._libs.lib.map_infer\u001B[1;34m()\u001B[0m\n",
      "File \u001B[1;32m~\\AppData\\Local\\Programs\\Python\\Python39\\lib\\json\\__init__.py:231\u001B[0m, in \u001B[0;36mdumps\u001B[1;34m(obj, skipkeys, ensure_ascii, check_circular, allow_nan, cls, indent, separators, default, sort_keys, **kw)\u001B[0m\n\u001B[0;32m    226\u001B[0m \u001B[38;5;66;03m# cached encoder\u001B[39;00m\n\u001B[0;32m    227\u001B[0m \u001B[38;5;28;01mif\u001B[39;00m (\u001B[38;5;129;01mnot\u001B[39;00m skipkeys \u001B[38;5;129;01mand\u001B[39;00m ensure_ascii \u001B[38;5;129;01mand\u001B[39;00m\n\u001B[0;32m    228\u001B[0m     check_circular \u001B[38;5;129;01mand\u001B[39;00m allow_nan \u001B[38;5;129;01mand\u001B[39;00m\n\u001B[0;32m    229\u001B[0m     \u001B[38;5;28mcls\u001B[39m \u001B[38;5;129;01mis\u001B[39;00m \u001B[38;5;28;01mNone\u001B[39;00m \u001B[38;5;129;01mand\u001B[39;00m indent \u001B[38;5;129;01mis\u001B[39;00m \u001B[38;5;28;01mNone\u001B[39;00m \u001B[38;5;129;01mand\u001B[39;00m separators \u001B[38;5;129;01mis\u001B[39;00m \u001B[38;5;28;01mNone\u001B[39;00m \u001B[38;5;129;01mand\u001B[39;00m\n\u001B[0;32m    230\u001B[0m     default \u001B[38;5;129;01mis\u001B[39;00m \u001B[38;5;28;01mNone\u001B[39;00m \u001B[38;5;129;01mand\u001B[39;00m \u001B[38;5;129;01mnot\u001B[39;00m sort_keys \u001B[38;5;129;01mand\u001B[39;00m \u001B[38;5;129;01mnot\u001B[39;00m kw):\n\u001B[1;32m--> 231\u001B[0m     \u001B[38;5;28;01mreturn\u001B[39;00m \u001B[43m_default_encoder\u001B[49m\u001B[38;5;241;43m.\u001B[39;49m\u001B[43mencode\u001B[49m\u001B[43m(\u001B[49m\u001B[43mobj\u001B[49m\u001B[43m)\u001B[49m\n\u001B[0;32m    232\u001B[0m \u001B[38;5;28;01mif\u001B[39;00m \u001B[38;5;28mcls\u001B[39m \u001B[38;5;129;01mis\u001B[39;00m \u001B[38;5;28;01mNone\u001B[39;00m:\n\u001B[0;32m    233\u001B[0m     \u001B[38;5;28mcls\u001B[39m \u001B[38;5;241m=\u001B[39m JSONEncoder\n",
      "File \u001B[1;32m~\\AppData\\Local\\Programs\\Python\\Python39\\lib\\json\\encoder.py:199\u001B[0m, in \u001B[0;36mJSONEncoder.encode\u001B[1;34m(self, o)\u001B[0m\n\u001B[0;32m    195\u001B[0m         \u001B[38;5;28;01mreturn\u001B[39;00m encode_basestring(o)\n\u001B[0;32m    196\u001B[0m \u001B[38;5;66;03m# This doesn't pass the iterator directly to ''.join() because the\u001B[39;00m\n\u001B[0;32m    197\u001B[0m \u001B[38;5;66;03m# exceptions aren't as detailed.  The list call should be roughly\u001B[39;00m\n\u001B[0;32m    198\u001B[0m \u001B[38;5;66;03m# equivalent to the PySequence_Fast that ''.join() would do.\u001B[39;00m\n\u001B[1;32m--> 199\u001B[0m chunks \u001B[38;5;241m=\u001B[39m \u001B[38;5;28;43mself\u001B[39;49m\u001B[38;5;241;43m.\u001B[39;49m\u001B[43miterencode\u001B[49m\u001B[43m(\u001B[49m\u001B[43mo\u001B[49m\u001B[43m,\u001B[49m\u001B[43m \u001B[49m\u001B[43m_one_shot\u001B[49m\u001B[38;5;241;43m=\u001B[39;49m\u001B[38;5;28;43;01mTrue\u001B[39;49;00m\u001B[43m)\u001B[49m\n\u001B[0;32m    200\u001B[0m \u001B[38;5;28;01mif\u001B[39;00m \u001B[38;5;129;01mnot\u001B[39;00m \u001B[38;5;28misinstance\u001B[39m(chunks, (\u001B[38;5;28mlist\u001B[39m, \u001B[38;5;28mtuple\u001B[39m)):\n\u001B[0;32m    201\u001B[0m     chunks \u001B[38;5;241m=\u001B[39m \u001B[38;5;28mlist\u001B[39m(chunks)\n",
      "File \u001B[1;32m~\\AppData\\Local\\Programs\\Python\\Python39\\lib\\json\\encoder.py:257\u001B[0m, in \u001B[0;36mJSONEncoder.iterencode\u001B[1;34m(self, o, _one_shot)\u001B[0m\n\u001B[0;32m    252\u001B[0m \u001B[38;5;28;01melse\u001B[39;00m:\n\u001B[0;32m    253\u001B[0m     _iterencode \u001B[38;5;241m=\u001B[39m _make_iterencode(\n\u001B[0;32m    254\u001B[0m         markers, \u001B[38;5;28mself\u001B[39m\u001B[38;5;241m.\u001B[39mdefault, _encoder, \u001B[38;5;28mself\u001B[39m\u001B[38;5;241m.\u001B[39mindent, floatstr,\n\u001B[0;32m    255\u001B[0m         \u001B[38;5;28mself\u001B[39m\u001B[38;5;241m.\u001B[39mkey_separator, \u001B[38;5;28mself\u001B[39m\u001B[38;5;241m.\u001B[39mitem_separator, \u001B[38;5;28mself\u001B[39m\u001B[38;5;241m.\u001B[39msort_keys,\n\u001B[0;32m    256\u001B[0m         \u001B[38;5;28mself\u001B[39m\u001B[38;5;241m.\u001B[39mskipkeys, _one_shot)\n\u001B[1;32m--> 257\u001B[0m \u001B[38;5;28;01mreturn\u001B[39;00m \u001B[43m_iterencode\u001B[49m\u001B[43m(\u001B[49m\u001B[43mo\u001B[49m\u001B[43m,\u001B[49m\u001B[43m \u001B[49m\u001B[38;5;241;43m0\u001B[39;49m\u001B[43m)\u001B[49m\n",
      "File \u001B[1;32m~\\AppData\\Local\\Programs\\Python\\Python39\\lib\\json\\encoder.py:179\u001B[0m, in \u001B[0;36mJSONEncoder.default\u001B[1;34m(self, o)\u001B[0m\n\u001B[0;32m    160\u001B[0m \u001B[38;5;28;01mdef\u001B[39;00m \u001B[38;5;21mdefault\u001B[39m(\u001B[38;5;28mself\u001B[39m, o):\n\u001B[0;32m    161\u001B[0m \u001B[38;5;250m    \u001B[39m\u001B[38;5;124;03m\"\"\"Implement this method in a subclass such that it returns\u001B[39;00m\n\u001B[0;32m    162\u001B[0m \u001B[38;5;124;03m    a serializable object for ``o``, or calls the base implementation\u001B[39;00m\n\u001B[0;32m    163\u001B[0m \u001B[38;5;124;03m    (to raise a ``TypeError``).\u001B[39;00m\n\u001B[1;32m   (...)\u001B[0m\n\u001B[0;32m    177\u001B[0m \n\u001B[0;32m    178\u001B[0m \u001B[38;5;124;03m    \"\"\"\u001B[39;00m\n\u001B[1;32m--> 179\u001B[0m     \u001B[38;5;28;01mraise\u001B[39;00m \u001B[38;5;167;01mTypeError\u001B[39;00m(\u001B[38;5;124mf\u001B[39m\u001B[38;5;124m'\u001B[39m\u001B[38;5;124mObject of type \u001B[39m\u001B[38;5;132;01m{\u001B[39;00mo\u001B[38;5;241m.\u001B[39m\u001B[38;5;18m__class__\u001B[39m\u001B[38;5;241m.\u001B[39m\u001B[38;5;18m__name__\u001B[39m\u001B[38;5;132;01m}\u001B[39;00m\u001B[38;5;124m \u001B[39m\u001B[38;5;124m'\u001B[39m\n\u001B[0;32m    180\u001B[0m                     \u001B[38;5;124mf\u001B[39m\u001B[38;5;124m'\u001B[39m\u001B[38;5;124mis not JSON serializable\u001B[39m\u001B[38;5;124m'\u001B[39m)\n",
      "\u001B[1;31mTypeError\u001B[0m: Object of type int64 is not JSON serializable"
     ]
    }
   ],
   "source": [
    "# Преобразование списка словарей в строку JSON для каждой записи\n",
    "generated_tours['stops'] = generated_tours['stops'].apply(json.dumps)\n",
    "\n",
    "generated_tours.to_csv('step6_tours.csv', index=False)"
   ],
   "metadata": {
    "collapsed": false,
    "ExecuteTime": {
     "end_time": "2024-01-20T18:10:33.837255800Z",
     "start_time": "2024-01-20T18:10:31.753690Z"
    }
   },
   "id": "1df458594a830731"
  },
  {
   "cell_type": "code",
   "execution_count": 11,
   "outputs": [],
   "source": [
    "test_tours = generated_tours\n",
    "def custom_json_serializer(obj):\n",
    "    \"\"\"Конвертирует несериализуемые объекты в сериализуемые.\"\"\"\n",
    "    if isinstance(obj, np.integer):\n",
    "        return int(obj)\n",
    "    raise TypeError(f\"Object of type {obj.__class__.__name__} is not JSON serializable\")\n",
    "\n",
    "# Преобразование списка словарей в строку JSON для каждой записи\n",
    "test_tours['stops'] = test_tours['stops'].apply(lambda x: json.dumps(x, default=custom_json_serializer))"
   ],
   "metadata": {
    "collapsed": false,
    "ExecuteTime": {
     "end_time": "2024-01-20T18:14:42.858556Z",
     "start_time": "2024-01-20T18:14:42.608898Z"
    }
   },
   "id": "a79d86b8f5fe69b6"
  },
  {
   "cell_type": "code",
   "execution_count": 12,
   "outputs": [],
   "source": [
    "test_tours.to_csv('step6_tours.csv', index=False)"
   ],
   "metadata": {
    "collapsed": false,
    "ExecuteTime": {
     "end_time": "2024-01-20T18:15:18.305042Z",
     "start_time": "2024-01-20T18:15:03.932077400Z"
    }
   },
   "id": "664b7bc8bb5c40f6"
  },
  {
   "cell_type": "code",
   "execution_count": 14,
   "outputs": [
    {
     "data": {
      "text/plain": "0        [{\"purpose\": 0, \"zone_id\": 280}, {\"purpose\": 1...\n1        [{\"purpose\": 0, \"zone_id\": 2620}, {\"purpose\": ...\n2        [{\"purpose\": 0, \"zone_id\": 43}, {\"purpose\": 0,...\n3        [{\"purpose\": 0, \"zone_id\": 1338}, {\"purpose\": ...\n4        [{\"purpose\": 1, \"zone_id\": 453}, {\"purpose\": 1...\n                               ...                        \n17504    [{\"purpose\": 1, \"zone_id\": 1720}, {\"purpose\": ...\n17505    [{\"purpose\": 0, \"zone_id\": 29}, {\"purpose\": 1,...\n17506    [{\"purpose\": 1, \"zone_id\": 745}, {\"purpose\": 1...\n17507    [{\"purpose\": 1, \"zone_id\": 479}, {\"purpose\": 0...\n17508    [{\"purpose\": 0, \"zone_id\": 2058}, {\"purpose\": ...\nName: stops, Length: 17509, dtype: object"
     },
     "execution_count": 14,
     "metadata": {},
     "output_type": "execute_result"
    }
   ],
   "source": [
    "test_tours['stops']"
   ],
   "metadata": {
    "collapsed": false,
    "ExecuteTime": {
     "end_time": "2024-01-20T18:18:11.134656600Z",
     "start_time": "2024-01-20T18:18:10.977616300Z"
    }
   },
   "id": "41fad8377a99a780"
  },
  {
   "cell_type": "code",
   "execution_count": 19,
   "outputs": [
    {
     "data": {
      "text/plain": "Index(['zone_id', 'landuse', 'industrial', 'retail', 'service',\n       'population_availability', 'workers_availability', 'landuse_numeric',\n       'industry', 'employment_share', 'industry_numeric', 'time_of_day',\n       'vehicle_purpose', 'vehicle_type', 'tour_purpose',\n       'assigned_start_time', 'geometry', 'num_stops', 'stops'],\n      dtype='object')"
     },
     "execution_count": 19,
     "metadata": {},
     "output_type": "execute_result"
    }
   ],
   "source": [
    "test_tours.columns"
   ],
   "metadata": {
    "collapsed": false,
    "ExecuteTime": {
     "end_time": "2024-01-20T19:37:52.730291200Z",
     "start_time": "2024-01-20T19:37:52.620480500Z"
    }
   },
   "id": "9550b05d91e4e680"
  },
  {
   "cell_type": "code",
   "execution_count": 20,
   "outputs": [],
   "source": [
    "test_tours2 = test_tours"
   ],
   "metadata": {
    "collapsed": false,
    "ExecuteTime": {
     "end_time": "2024-01-20T19:39:44.716943100Z",
     "start_time": "2024-01-20T19:39:44.658989100Z"
    }
   },
   "id": "7b643735ebd7329e"
  },
  {
   "cell_type": "code",
   "execution_count": 21,
   "outputs": [],
   "source": [
    "for index, tour in test_tours2.iterrows():\n",
    "    # Получаем zone_id тура\n",
    "    tour_zone_id = tour['zone_id']\n",
    "    \n",
    "    # Преобразуем строку JSON в список словарей (если она еще не в этом формате)\n",
    "    stops = json.loads(tour['stops']) if isinstance(tour['stops'], str) else tour['stops']\n",
    "\n",
    "    if stops:  # Проверяем, не пустой ли список остановок\n",
    "        # Назначаем последней остановке zone_id тура\n",
    "        stops[-1]['zone_id'] = tour_zone_id\n",
    "        \n",
    "        # Сохраняем обновленный список остановок обратно в DataFrame\n",
    "        test_tours2.at[index, 'stops'] = json.dumps(stops)  # Сериализуем обратно в JSON для сохранения в DataFrame"
   ],
   "metadata": {
    "collapsed": false,
    "ExecuteTime": {
     "end_time": "2024-01-20T19:40:11.794378400Z",
     "start_time": "2024-01-20T19:40:09.213626500Z"
    }
   },
   "id": "c9a176e9b6fc63d2"
  },
  {
   "cell_type": "code",
   "execution_count": 22,
   "outputs": [
    {
     "data": {
      "text/plain": "       zone_id      landuse  industrial    retail   service  \\\n0            6  low_density    0.932489  0.067511  0.000000   \n1            6  low_density    0.932489  0.067511  0.000000   \n2            6  low_density    0.932489  0.067511  0.000000   \n3            6  low_density    0.932489  0.067511  0.000000   \n4            6  low_density    0.932489  0.067511  0.000000   \n...        ...          ...         ...       ...       ...   \n17504     3000  low_density    0.274725  0.000000  0.725275   \n17505     3000  low_density    0.274725  0.000000  0.725275   \n17506     3000  low_density    0.274725  0.000000  0.725275   \n17507     3000  low_density    0.274725  0.000000  0.725275   \n17508     3000  low_density    0.274725  0.000000  0.725275   \n\n       population_availability  workers_availability  landuse_numeric  \\\n0                     4.892252              2.386894                0   \n1                     4.892252              2.386894                0   \n2                     4.892252              2.386894                0   \n3                     4.892252              2.386894                0   \n4                     4.892252              2.386894                0   \n...                        ...                   ...              ...   \n17504                 5.342491              2.495559                0   \n17505                 5.342491              2.495559                0   \n17506                 5.342491              2.495559                0   \n17507                 5.342491              2.495559                0   \n17508                 5.342491              2.495559                0   \n\n         industry  employment_share  industry_numeric  time_of_day  \\\n0      industrial          0.932489                 0            1   \n1      industrial          0.932489                 0            1   \n2      industrial          0.932489                 0            0   \n3      industrial          0.932489                 0            0   \n4      industrial          0.932489                 0            1   \n...           ...               ...               ...          ...   \n17504     service          0.725275                 2            1   \n17505     service          0.725275                 2            1   \n17506     service          0.725275                 2            1   \n17507     service          0.725275                 2            1   \n17508     service          0.725275                 2            1   \n\n       vehicle_purpose  vehicle_type  tour_purpose  assigned_start_time  \\\n0                    3             1             0  1900-01-01 16:17:00   \n1                    0             0             0  1900-01-01 16:27:00   \n2                    3             1             0  1900-01-01 10:40:00   \n3                    3             1             0  1900-01-01 09:34:00   \n4                    6             2             0  1900-01-01 14:18:00   \n...                ...           ...           ...                  ...   \n17504                0             0             0  1900-01-01 16:44:00   \n17505                0             0             0  1900-01-01 12:11:00   \n17506                1             0             1  1900-01-01 15:03:00   \n17507                0             0             0  1900-01-01 14:57:00   \n17508                2             0             2  1900-01-01 16:04:00   \n\n                                                geometry  num_stops  \\\n0      POLYGON ((56.341288358568235 58.02780495372831...          3   \n1      POLYGON ((56.341288358568235 58.02780495372831...          3   \n2      POLYGON ((56.341288358568235 58.02780495372831...          5   \n3      POLYGON ((56.341288358568235 58.02780495372831...          5   \n4      POLYGON ((56.341288358568235 58.02780495372831...          3   \n...                                                  ...        ...   \n17504  POLYGON ((56.31846606892069 58.03895842149396,...          2   \n17505  POLYGON ((56.31846606892069 58.03895842149396,...          4   \n17506  POLYGON ((56.31846606892069 58.03895842149396,...          4   \n17507  POLYGON ((56.31846606892069 58.03895842149396,...          3   \n17508  POLYGON ((56.31846606892069 58.03895842149396,...          7   \n\n                                                   stops  \n0      [{\"purpose\": 0, \"zone_id\": 280}, {\"purpose\": 1...  \n1      [{\"purpose\": 0, \"zone_id\": 2620}, {\"purpose\": ...  \n2      [{\"purpose\": 0, \"zone_id\": 43}, {\"purpose\": 0,...  \n3      [{\"purpose\": 0, \"zone_id\": 1338}, {\"purpose\": ...  \n4      [{\"purpose\": 1, \"zone_id\": 453}, {\"purpose\": 1...  \n...                                                  ...  \n17504  [{\"purpose\": 1, \"zone_id\": 1720}, {\"purpose\": ...  \n17505  [{\"purpose\": 0, \"zone_id\": 29}, {\"purpose\": 1,...  \n17506  [{\"purpose\": 1, \"zone_id\": 745}, {\"purpose\": 1...  \n17507  [{\"purpose\": 1, \"zone_id\": 479}, {\"purpose\": 0...  \n17508  [{\"purpose\": 0, \"zone_id\": 2058}, {\"purpose\": ...  \n\n[17509 rows x 19 columns]",
      "text/html": "<div>\n<style scoped>\n    .dataframe tbody tr th:only-of-type {\n        vertical-align: middle;\n    }\n\n    .dataframe tbody tr th {\n        vertical-align: top;\n    }\n\n    .dataframe thead th {\n        text-align: right;\n    }\n</style>\n<table border=\"1\" class=\"dataframe\">\n  <thead>\n    <tr style=\"text-align: right;\">\n      <th></th>\n      <th>zone_id</th>\n      <th>landuse</th>\n      <th>industrial</th>\n      <th>retail</th>\n      <th>service</th>\n      <th>population_availability</th>\n      <th>workers_availability</th>\n      <th>landuse_numeric</th>\n      <th>industry</th>\n      <th>employment_share</th>\n      <th>industry_numeric</th>\n      <th>time_of_day</th>\n      <th>vehicle_purpose</th>\n      <th>vehicle_type</th>\n      <th>tour_purpose</th>\n      <th>assigned_start_time</th>\n      <th>geometry</th>\n      <th>num_stops</th>\n      <th>stops</th>\n    </tr>\n  </thead>\n  <tbody>\n    <tr>\n      <th>0</th>\n      <td>6</td>\n      <td>low_density</td>\n      <td>0.932489</td>\n      <td>0.067511</td>\n      <td>0.000000</td>\n      <td>4.892252</td>\n      <td>2.386894</td>\n      <td>0</td>\n      <td>industrial</td>\n      <td>0.932489</td>\n      <td>0</td>\n      <td>1</td>\n      <td>3</td>\n      <td>1</td>\n      <td>0</td>\n      <td>1900-01-01 16:17:00</td>\n      <td>POLYGON ((56.341288358568235 58.02780495372831...</td>\n      <td>3</td>\n      <td>[{\"purpose\": 0, \"zone_id\": 280}, {\"purpose\": 1...</td>\n    </tr>\n    <tr>\n      <th>1</th>\n      <td>6</td>\n      <td>low_density</td>\n      <td>0.932489</td>\n      <td>0.067511</td>\n      <td>0.000000</td>\n      <td>4.892252</td>\n      <td>2.386894</td>\n      <td>0</td>\n      <td>industrial</td>\n      <td>0.932489</td>\n      <td>0</td>\n      <td>1</td>\n      <td>0</td>\n      <td>0</td>\n      <td>0</td>\n      <td>1900-01-01 16:27:00</td>\n      <td>POLYGON ((56.341288358568235 58.02780495372831...</td>\n      <td>3</td>\n      <td>[{\"purpose\": 0, \"zone_id\": 2620}, {\"purpose\": ...</td>\n    </tr>\n    <tr>\n      <th>2</th>\n      <td>6</td>\n      <td>low_density</td>\n      <td>0.932489</td>\n      <td>0.067511</td>\n      <td>0.000000</td>\n      <td>4.892252</td>\n      <td>2.386894</td>\n      <td>0</td>\n      <td>industrial</td>\n      <td>0.932489</td>\n      <td>0</td>\n      <td>0</td>\n      <td>3</td>\n      <td>1</td>\n      <td>0</td>\n      <td>1900-01-01 10:40:00</td>\n      <td>POLYGON ((56.341288358568235 58.02780495372831...</td>\n      <td>5</td>\n      <td>[{\"purpose\": 0, \"zone_id\": 43}, {\"purpose\": 0,...</td>\n    </tr>\n    <tr>\n      <th>3</th>\n      <td>6</td>\n      <td>low_density</td>\n      <td>0.932489</td>\n      <td>0.067511</td>\n      <td>0.000000</td>\n      <td>4.892252</td>\n      <td>2.386894</td>\n      <td>0</td>\n      <td>industrial</td>\n      <td>0.932489</td>\n      <td>0</td>\n      <td>0</td>\n      <td>3</td>\n      <td>1</td>\n      <td>0</td>\n      <td>1900-01-01 09:34:00</td>\n      <td>POLYGON ((56.341288358568235 58.02780495372831...</td>\n      <td>5</td>\n      <td>[{\"purpose\": 0, \"zone_id\": 1338}, {\"purpose\": ...</td>\n    </tr>\n    <tr>\n      <th>4</th>\n      <td>6</td>\n      <td>low_density</td>\n      <td>0.932489</td>\n      <td>0.067511</td>\n      <td>0.000000</td>\n      <td>4.892252</td>\n      <td>2.386894</td>\n      <td>0</td>\n      <td>industrial</td>\n      <td>0.932489</td>\n      <td>0</td>\n      <td>1</td>\n      <td>6</td>\n      <td>2</td>\n      <td>0</td>\n      <td>1900-01-01 14:18:00</td>\n      <td>POLYGON ((56.341288358568235 58.02780495372831...</td>\n      <td>3</td>\n      <td>[{\"purpose\": 1, \"zone_id\": 453}, {\"purpose\": 1...</td>\n    </tr>\n    <tr>\n      <th>...</th>\n      <td>...</td>\n      <td>...</td>\n      <td>...</td>\n      <td>...</td>\n      <td>...</td>\n      <td>...</td>\n      <td>...</td>\n      <td>...</td>\n      <td>...</td>\n      <td>...</td>\n      <td>...</td>\n      <td>...</td>\n      <td>...</td>\n      <td>...</td>\n      <td>...</td>\n      <td>...</td>\n      <td>...</td>\n      <td>...</td>\n      <td>...</td>\n    </tr>\n    <tr>\n      <th>17504</th>\n      <td>3000</td>\n      <td>low_density</td>\n      <td>0.274725</td>\n      <td>0.000000</td>\n      <td>0.725275</td>\n      <td>5.342491</td>\n      <td>2.495559</td>\n      <td>0</td>\n      <td>service</td>\n      <td>0.725275</td>\n      <td>2</td>\n      <td>1</td>\n      <td>0</td>\n      <td>0</td>\n      <td>0</td>\n      <td>1900-01-01 16:44:00</td>\n      <td>POLYGON ((56.31846606892069 58.03895842149396,...</td>\n      <td>2</td>\n      <td>[{\"purpose\": 1, \"zone_id\": 1720}, {\"purpose\": ...</td>\n    </tr>\n    <tr>\n      <th>17505</th>\n      <td>3000</td>\n      <td>low_density</td>\n      <td>0.274725</td>\n      <td>0.000000</td>\n      <td>0.725275</td>\n      <td>5.342491</td>\n      <td>2.495559</td>\n      <td>0</td>\n      <td>service</td>\n      <td>0.725275</td>\n      <td>2</td>\n      <td>1</td>\n      <td>0</td>\n      <td>0</td>\n      <td>0</td>\n      <td>1900-01-01 12:11:00</td>\n      <td>POLYGON ((56.31846606892069 58.03895842149396,...</td>\n      <td>4</td>\n      <td>[{\"purpose\": 0, \"zone_id\": 29}, {\"purpose\": 1,...</td>\n    </tr>\n    <tr>\n      <th>17506</th>\n      <td>3000</td>\n      <td>low_density</td>\n      <td>0.274725</td>\n      <td>0.000000</td>\n      <td>0.725275</td>\n      <td>5.342491</td>\n      <td>2.495559</td>\n      <td>0</td>\n      <td>service</td>\n      <td>0.725275</td>\n      <td>2</td>\n      <td>1</td>\n      <td>1</td>\n      <td>0</td>\n      <td>1</td>\n      <td>1900-01-01 15:03:00</td>\n      <td>POLYGON ((56.31846606892069 58.03895842149396,...</td>\n      <td>4</td>\n      <td>[{\"purpose\": 1, \"zone_id\": 745}, {\"purpose\": 1...</td>\n    </tr>\n    <tr>\n      <th>17507</th>\n      <td>3000</td>\n      <td>low_density</td>\n      <td>0.274725</td>\n      <td>0.000000</td>\n      <td>0.725275</td>\n      <td>5.342491</td>\n      <td>2.495559</td>\n      <td>0</td>\n      <td>service</td>\n      <td>0.725275</td>\n      <td>2</td>\n      <td>1</td>\n      <td>0</td>\n      <td>0</td>\n      <td>0</td>\n      <td>1900-01-01 14:57:00</td>\n      <td>POLYGON ((56.31846606892069 58.03895842149396,...</td>\n      <td>3</td>\n      <td>[{\"purpose\": 1, \"zone_id\": 479}, {\"purpose\": 0...</td>\n    </tr>\n    <tr>\n      <th>17508</th>\n      <td>3000</td>\n      <td>low_density</td>\n      <td>0.274725</td>\n      <td>0.000000</td>\n      <td>0.725275</td>\n      <td>5.342491</td>\n      <td>2.495559</td>\n      <td>0</td>\n      <td>service</td>\n      <td>0.725275</td>\n      <td>2</td>\n      <td>1</td>\n      <td>2</td>\n      <td>0</td>\n      <td>2</td>\n      <td>1900-01-01 16:04:00</td>\n      <td>POLYGON ((56.31846606892069 58.03895842149396,...</td>\n      <td>7</td>\n      <td>[{\"purpose\": 0, \"zone_id\": 2058}, {\"purpose\": ...</td>\n    </tr>\n  </tbody>\n</table>\n<p>17509 rows × 19 columns</p>\n</div>"
     },
     "execution_count": 22,
     "metadata": {},
     "output_type": "execute_result"
    }
   ],
   "source": [
    "test_tours2"
   ],
   "metadata": {
    "collapsed": false,
    "ExecuteTime": {
     "end_time": "2024-01-20T19:40:19.459959200Z",
     "start_time": "2024-01-20T19:40:19.302927400Z"
    }
   },
   "id": "990d8a1d834dc56f"
  },
  {
   "cell_type": "raw",
   "source": [
    "Сгенерируем продолжительность остановок"
   ],
   "metadata": {
    "collapsed": false
   },
   "id": "6f18bd0514d5bbdf"
  },
  {
   "cell_type": "code",
   "execution_count": 23,
   "outputs": [],
   "source": [
    "# Параметры нормального распределения\n",
    "mean_duration = 20.5  # Среднее значение продолжительности\n",
    "std_deviation = 10    # Стандартное отклонение\n",
    "\n",
    "for index, tour in test_tours2.iterrows():\n",
    "    # Преобразуем строку JSON в список словарей (если она еще не в этом формате)\n",
    "    stops = json.loads(tour['stops']) if isinstance(tour['stops'], str) else tour['stops']\n",
    "\n",
    "    for stop in stops:\n",
    "        # Генерация продолжительности остановки с нормальным распределением\n",
    "        duration = np.random.normal(mean_duration, std_deviation)\n",
    "\n",
    "        # Ограничение продолжительности в диапазоне от 1 до 40 минут\n",
    "        duration = max(1, min(duration, 40))\n",
    "\n",
    "        # Присваиваем сгенерированную продолжительность остановке\n",
    "        stop['duration'] = round(duration)  # Округление до ближайшего целого числа\n",
    "\n",
    "    # Сохраняем обновленный список остановок обратно в DataFrame\n",
    "    test_tours2.at[index, 'stops'] = json.dumps(stops)  # Сериализуем обратно в JSON для сохранения в DataFrame"
   ],
   "metadata": {
    "collapsed": false,
    "ExecuteTime": {
     "end_time": "2024-01-20T19:43:18.942864800Z",
     "start_time": "2024-01-20T19:43:16.777633900Z"
    }
   },
   "id": "5d379c6023ba36a6"
  },
  {
   "cell_type": "code",
   "execution_count": 24,
   "outputs": [
    {
     "data": {
      "text/plain": "       zone_id      landuse  industrial    retail   service  \\\n0            6  low_density    0.932489  0.067511  0.000000   \n1            6  low_density    0.932489  0.067511  0.000000   \n2            6  low_density    0.932489  0.067511  0.000000   \n3            6  low_density    0.932489  0.067511  0.000000   \n4            6  low_density    0.932489  0.067511  0.000000   \n...        ...          ...         ...       ...       ...   \n17504     3000  low_density    0.274725  0.000000  0.725275   \n17505     3000  low_density    0.274725  0.000000  0.725275   \n17506     3000  low_density    0.274725  0.000000  0.725275   \n17507     3000  low_density    0.274725  0.000000  0.725275   \n17508     3000  low_density    0.274725  0.000000  0.725275   \n\n       population_availability  workers_availability  landuse_numeric  \\\n0                     4.892252              2.386894                0   \n1                     4.892252              2.386894                0   \n2                     4.892252              2.386894                0   \n3                     4.892252              2.386894                0   \n4                     4.892252              2.386894                0   \n...                        ...                   ...              ...   \n17504                 5.342491              2.495559                0   \n17505                 5.342491              2.495559                0   \n17506                 5.342491              2.495559                0   \n17507                 5.342491              2.495559                0   \n17508                 5.342491              2.495559                0   \n\n         industry  employment_share  industry_numeric  time_of_day  \\\n0      industrial          0.932489                 0            1   \n1      industrial          0.932489                 0            1   \n2      industrial          0.932489                 0            0   \n3      industrial          0.932489                 0            0   \n4      industrial          0.932489                 0            1   \n...           ...               ...               ...          ...   \n17504     service          0.725275                 2            1   \n17505     service          0.725275                 2            1   \n17506     service          0.725275                 2            1   \n17507     service          0.725275                 2            1   \n17508     service          0.725275                 2            1   \n\n       vehicle_purpose  vehicle_type  tour_purpose  assigned_start_time  \\\n0                    3             1             0  1900-01-01 16:17:00   \n1                    0             0             0  1900-01-01 16:27:00   \n2                    3             1             0  1900-01-01 10:40:00   \n3                    3             1             0  1900-01-01 09:34:00   \n4                    6             2             0  1900-01-01 14:18:00   \n...                ...           ...           ...                  ...   \n17504                0             0             0  1900-01-01 16:44:00   \n17505                0             0             0  1900-01-01 12:11:00   \n17506                1             0             1  1900-01-01 15:03:00   \n17507                0             0             0  1900-01-01 14:57:00   \n17508                2             0             2  1900-01-01 16:04:00   \n\n                                                geometry  num_stops  \\\n0      POLYGON ((56.341288358568235 58.02780495372831...          3   \n1      POLYGON ((56.341288358568235 58.02780495372831...          3   \n2      POLYGON ((56.341288358568235 58.02780495372831...          5   \n3      POLYGON ((56.341288358568235 58.02780495372831...          5   \n4      POLYGON ((56.341288358568235 58.02780495372831...          3   \n...                                                  ...        ...   \n17504  POLYGON ((56.31846606892069 58.03895842149396,...          2   \n17505  POLYGON ((56.31846606892069 58.03895842149396,...          4   \n17506  POLYGON ((56.31846606892069 58.03895842149396,...          4   \n17507  POLYGON ((56.31846606892069 58.03895842149396,...          3   \n17508  POLYGON ((56.31846606892069 58.03895842149396,...          7   \n\n                                                   stops  \n0      [{\"purpose\": 0, \"zone_id\": 280, \"duration\": 28...  \n1      [{\"purpose\": 0, \"zone_id\": 2620, \"duration\": 2...  \n2      [{\"purpose\": 0, \"zone_id\": 43, \"duration\": 19}...  \n3      [{\"purpose\": 0, \"zone_id\": 1338, \"duration\": 2...  \n4      [{\"purpose\": 1, \"zone_id\": 453, \"duration\": 11...  \n...                                                  ...  \n17504  [{\"purpose\": 1, \"zone_id\": 1720, \"duration\": 1...  \n17505  [{\"purpose\": 0, \"zone_id\": 29, \"duration\": 25}...  \n17506  [{\"purpose\": 1, \"zone_id\": 745, \"duration\": 19...  \n17507  [{\"purpose\": 1, \"zone_id\": 479, \"duration\": 38...  \n17508  [{\"purpose\": 0, \"zone_id\": 2058, \"duration\": 1...  \n\n[17509 rows x 19 columns]",
      "text/html": "<div>\n<style scoped>\n    .dataframe tbody tr th:only-of-type {\n        vertical-align: middle;\n    }\n\n    .dataframe tbody tr th {\n        vertical-align: top;\n    }\n\n    .dataframe thead th {\n        text-align: right;\n    }\n</style>\n<table border=\"1\" class=\"dataframe\">\n  <thead>\n    <tr style=\"text-align: right;\">\n      <th></th>\n      <th>zone_id</th>\n      <th>landuse</th>\n      <th>industrial</th>\n      <th>retail</th>\n      <th>service</th>\n      <th>population_availability</th>\n      <th>workers_availability</th>\n      <th>landuse_numeric</th>\n      <th>industry</th>\n      <th>employment_share</th>\n      <th>industry_numeric</th>\n      <th>time_of_day</th>\n      <th>vehicle_purpose</th>\n      <th>vehicle_type</th>\n      <th>tour_purpose</th>\n      <th>assigned_start_time</th>\n      <th>geometry</th>\n      <th>num_stops</th>\n      <th>stops</th>\n    </tr>\n  </thead>\n  <tbody>\n    <tr>\n      <th>0</th>\n      <td>6</td>\n      <td>low_density</td>\n      <td>0.932489</td>\n      <td>0.067511</td>\n      <td>0.000000</td>\n      <td>4.892252</td>\n      <td>2.386894</td>\n      <td>0</td>\n      <td>industrial</td>\n      <td>0.932489</td>\n      <td>0</td>\n      <td>1</td>\n      <td>3</td>\n      <td>1</td>\n      <td>0</td>\n      <td>1900-01-01 16:17:00</td>\n      <td>POLYGON ((56.341288358568235 58.02780495372831...</td>\n      <td>3</td>\n      <td>[{\"purpose\": 0, \"zone_id\": 280, \"duration\": 28...</td>\n    </tr>\n    <tr>\n      <th>1</th>\n      <td>6</td>\n      <td>low_density</td>\n      <td>0.932489</td>\n      <td>0.067511</td>\n      <td>0.000000</td>\n      <td>4.892252</td>\n      <td>2.386894</td>\n      <td>0</td>\n      <td>industrial</td>\n      <td>0.932489</td>\n      <td>0</td>\n      <td>1</td>\n      <td>0</td>\n      <td>0</td>\n      <td>0</td>\n      <td>1900-01-01 16:27:00</td>\n      <td>POLYGON ((56.341288358568235 58.02780495372831...</td>\n      <td>3</td>\n      <td>[{\"purpose\": 0, \"zone_id\": 2620, \"duration\": 2...</td>\n    </tr>\n    <tr>\n      <th>2</th>\n      <td>6</td>\n      <td>low_density</td>\n      <td>0.932489</td>\n      <td>0.067511</td>\n      <td>0.000000</td>\n      <td>4.892252</td>\n      <td>2.386894</td>\n      <td>0</td>\n      <td>industrial</td>\n      <td>0.932489</td>\n      <td>0</td>\n      <td>0</td>\n      <td>3</td>\n      <td>1</td>\n      <td>0</td>\n      <td>1900-01-01 10:40:00</td>\n      <td>POLYGON ((56.341288358568235 58.02780495372831...</td>\n      <td>5</td>\n      <td>[{\"purpose\": 0, \"zone_id\": 43, \"duration\": 19}...</td>\n    </tr>\n    <tr>\n      <th>3</th>\n      <td>6</td>\n      <td>low_density</td>\n      <td>0.932489</td>\n      <td>0.067511</td>\n      <td>0.000000</td>\n      <td>4.892252</td>\n      <td>2.386894</td>\n      <td>0</td>\n      <td>industrial</td>\n      <td>0.932489</td>\n      <td>0</td>\n      <td>0</td>\n      <td>3</td>\n      <td>1</td>\n      <td>0</td>\n      <td>1900-01-01 09:34:00</td>\n      <td>POLYGON ((56.341288358568235 58.02780495372831...</td>\n      <td>5</td>\n      <td>[{\"purpose\": 0, \"zone_id\": 1338, \"duration\": 2...</td>\n    </tr>\n    <tr>\n      <th>4</th>\n      <td>6</td>\n      <td>low_density</td>\n      <td>0.932489</td>\n      <td>0.067511</td>\n      <td>0.000000</td>\n      <td>4.892252</td>\n      <td>2.386894</td>\n      <td>0</td>\n      <td>industrial</td>\n      <td>0.932489</td>\n      <td>0</td>\n      <td>1</td>\n      <td>6</td>\n      <td>2</td>\n      <td>0</td>\n      <td>1900-01-01 14:18:00</td>\n      <td>POLYGON ((56.341288358568235 58.02780495372831...</td>\n      <td>3</td>\n      <td>[{\"purpose\": 1, \"zone_id\": 453, \"duration\": 11...</td>\n    </tr>\n    <tr>\n      <th>...</th>\n      <td>...</td>\n      <td>...</td>\n      <td>...</td>\n      <td>...</td>\n      <td>...</td>\n      <td>...</td>\n      <td>...</td>\n      <td>...</td>\n      <td>...</td>\n      <td>...</td>\n      <td>...</td>\n      <td>...</td>\n      <td>...</td>\n      <td>...</td>\n      <td>...</td>\n      <td>...</td>\n      <td>...</td>\n      <td>...</td>\n      <td>...</td>\n    </tr>\n    <tr>\n      <th>17504</th>\n      <td>3000</td>\n      <td>low_density</td>\n      <td>0.274725</td>\n      <td>0.000000</td>\n      <td>0.725275</td>\n      <td>5.342491</td>\n      <td>2.495559</td>\n      <td>0</td>\n      <td>service</td>\n      <td>0.725275</td>\n      <td>2</td>\n      <td>1</td>\n      <td>0</td>\n      <td>0</td>\n      <td>0</td>\n      <td>1900-01-01 16:44:00</td>\n      <td>POLYGON ((56.31846606892069 58.03895842149396,...</td>\n      <td>2</td>\n      <td>[{\"purpose\": 1, \"zone_id\": 1720, \"duration\": 1...</td>\n    </tr>\n    <tr>\n      <th>17505</th>\n      <td>3000</td>\n      <td>low_density</td>\n      <td>0.274725</td>\n      <td>0.000000</td>\n      <td>0.725275</td>\n      <td>5.342491</td>\n      <td>2.495559</td>\n      <td>0</td>\n      <td>service</td>\n      <td>0.725275</td>\n      <td>2</td>\n      <td>1</td>\n      <td>0</td>\n      <td>0</td>\n      <td>0</td>\n      <td>1900-01-01 12:11:00</td>\n      <td>POLYGON ((56.31846606892069 58.03895842149396,...</td>\n      <td>4</td>\n      <td>[{\"purpose\": 0, \"zone_id\": 29, \"duration\": 25}...</td>\n    </tr>\n    <tr>\n      <th>17506</th>\n      <td>3000</td>\n      <td>low_density</td>\n      <td>0.274725</td>\n      <td>0.000000</td>\n      <td>0.725275</td>\n      <td>5.342491</td>\n      <td>2.495559</td>\n      <td>0</td>\n      <td>service</td>\n      <td>0.725275</td>\n      <td>2</td>\n      <td>1</td>\n      <td>1</td>\n      <td>0</td>\n      <td>1</td>\n      <td>1900-01-01 15:03:00</td>\n      <td>POLYGON ((56.31846606892069 58.03895842149396,...</td>\n      <td>4</td>\n      <td>[{\"purpose\": 1, \"zone_id\": 745, \"duration\": 19...</td>\n    </tr>\n    <tr>\n      <th>17507</th>\n      <td>3000</td>\n      <td>low_density</td>\n      <td>0.274725</td>\n      <td>0.000000</td>\n      <td>0.725275</td>\n      <td>5.342491</td>\n      <td>2.495559</td>\n      <td>0</td>\n      <td>service</td>\n      <td>0.725275</td>\n      <td>2</td>\n      <td>1</td>\n      <td>0</td>\n      <td>0</td>\n      <td>0</td>\n      <td>1900-01-01 14:57:00</td>\n      <td>POLYGON ((56.31846606892069 58.03895842149396,...</td>\n      <td>3</td>\n      <td>[{\"purpose\": 1, \"zone_id\": 479, \"duration\": 38...</td>\n    </tr>\n    <tr>\n      <th>17508</th>\n      <td>3000</td>\n      <td>low_density</td>\n      <td>0.274725</td>\n      <td>0.000000</td>\n      <td>0.725275</td>\n      <td>5.342491</td>\n      <td>2.495559</td>\n      <td>0</td>\n      <td>service</td>\n      <td>0.725275</td>\n      <td>2</td>\n      <td>1</td>\n      <td>2</td>\n      <td>0</td>\n      <td>2</td>\n      <td>1900-01-01 16:04:00</td>\n      <td>POLYGON ((56.31846606892069 58.03895842149396,...</td>\n      <td>7</td>\n      <td>[{\"purpose\": 0, \"zone_id\": 2058, \"duration\": 1...</td>\n    </tr>\n  </tbody>\n</table>\n<p>17509 rows × 19 columns</p>\n</div>"
     },
     "execution_count": 24,
     "metadata": {},
     "output_type": "execute_result"
    }
   ],
   "source": [
    "test_tours2"
   ],
   "metadata": {
    "collapsed": false,
    "ExecuteTime": {
     "end_time": "2024-01-20T19:43:35.512452700Z",
     "start_time": "2024-01-20T19:43:35.402644700Z"
    }
   },
   "id": "1b69425f171e2f83"
  },
  {
   "cell_type": "code",
   "execution_count": 25,
   "outputs": [],
   "source": [
    "test_tours2.to_csv('step7_tours.csv', index=False)"
   ],
   "metadata": {
    "collapsed": false,
    "ExecuteTime": {
     "end_time": "2024-01-20T19:47:53.632659600Z",
     "start_time": "2024-01-20T19:47:40.080331300Z"
    }
   },
   "id": "a9ddda8441330c72"
  },
  {
   "cell_type": "raw",
   "source": [
    "КОД ДЛЯ ФОРМИРОВАНИЯ ORIGIN-DESTINATION МАТРИЦЫ"
   ],
   "metadata": {
    "collapsed": false
   },
   "id": "241a7da9e502b3af"
  },
  {
   "cell_type": "code",
   "execution_count": 28,
   "outputs": [
    {
     "name": "stdout",
     "output_type": "stream",
     "text": [
      "Index(['landuse', 'population_availability', 'workers_availability',\n",
      "       'landuse_numeric', 'geometry'],\n",
      "      dtype='object')\n"
     ]
    }
   ],
   "source": [
    "print(zones.columns)"
   ],
   "metadata": {
    "collapsed": false,
    "ExecuteTime": {
     "end_time": "2024-01-20T19:56:40.218578500Z",
     "start_time": "2024-01-20T19:56:40.140065400Z"
    }
   },
   "id": "69d7393224610116"
  },
  {
   "cell_type": "code",
   "execution_count": 29,
   "outputs": [
    {
     "name": "stdout",
     "output_type": "stream",
     "text": [
      "      1     6     9     11    16    17    22    23    24    28    ...  2626  \\\n",
      "1        0     0     0     0     0     0     0     0     0     0  ...     0   \n",
      "6        0     0     0     0     0     0     0     0     1     0  ...     0   \n",
      "9        0     0     0     0     0     0     0     0     0     0  ...     0   \n",
      "11       0     0     0     0     0     0     0     0     0     0  ...     0   \n",
      "16       0     0     0     0     0     0     0     0     0     0  ...     0   \n",
      "...    ...   ...   ...   ...   ...   ...   ...   ...   ...   ...  ...   ...   \n",
      "2869     0     0     0     0     0     0     0     0     1     0  ...     1   \n",
      "2875     0     0     0     0     0     0     0     0     0     1  ...     0   \n",
      "2877     0     0     1     0     0     1     0     6     0     3  ...     3   \n",
      "2879     0     0     0     0     0     0     0     1     0     0  ...     0   \n",
      "3000     0     0     0     0     0     0     0     0     0     0  ...     0   \n",
      "\n",
      "      2683  2750  2841  2856  2869  2875  2877  2879  3000  \n",
      "1        0     0     0     0     0     0     0     0     0  \n",
      "6        0     0     0     0     0     1     1     0     0  \n",
      "9        0     0     0     0     0     0     0     0     0  \n",
      "11       0     0     0     0     0     0     0     0     0  \n",
      "16       0     1     1     0     0     0     0     0     0  \n",
      "...    ...   ...   ...   ...   ...   ...   ...   ...   ...  \n",
      "2869     0     0     0     0     0     0     1     0     0  \n",
      "2875     0     0     0     0     1     0     1     0     0  \n",
      "2877     4     1     1     0     0     1     1     0     0  \n",
      "2879     1     0     0     0     0     0     0     2     0  \n",
      "3000     0     0     0     0     0     0     0     0     0  \n",
      "\n",
      "[499 rows x 499 columns]\n"
     ]
    }
   ],
   "source": [
    "# Инициализация OD матрицы\n",
    "zone_ids = sorted(zones.index)  # Предполагая, что 'id' это поле с ID зон в геодатафрейме zones\n",
    "od_matrix = pd.DataFrame(0, index=zone_ids, columns=zone_ids)\n",
    "\n",
    "# Заполнение матрицы\n",
    "for index, row in test_tours2.iterrows():\n",
    "    # Получение домашней зоны для текущего тура\n",
    "    home_zone = row['zone_id']\n",
    "    \n",
    "    # Преобразование списка остановок из строки JSON (если требуется)\n",
    "    stops = json.loads(row['stops']) if isinstance(row['stops'], str) else row['stops']\n",
    "\n",
    "    # Перемещение из домашней зоны в первую остановку\n",
    "    if stops:\n",
    "        first_stop_zone = stops[0]['zone_id']\n",
    "        od_matrix.loc[home_zone, first_stop_zone] += 1\n",
    "\n",
    "        # Перемещения между последовательными остановками\n",
    "        for i in range(len(stops) - 1):\n",
    "            from_zone = stops[i]['zone_id']\n",
    "            to_zone = stops[i + 1]['zone_id']\n",
    "            od_matrix.loc[from_zone, to_zone] += 1\n",
    "\n",
    "# Вывод OD матрицы\n",
    "print(od_matrix)"
   ],
   "metadata": {
    "collapsed": false,
    "ExecuteTime": {
     "end_time": "2024-01-20T19:57:19.341676500Z",
     "start_time": "2024-01-20T19:57:02.593150700Z"
    }
   },
   "id": "29204b91ce6cf37"
  },
  {
   "cell_type": "code",
   "execution_count": 31,
   "outputs": [
    {
     "data": {
      "text/plain": "1         6\n6        38\n9        52\n11        0\n16      111\n       ... \n2869     66\n2875    136\n2877    326\n2879    154\n3000     12\nLength: 499, dtype: int64"
     },
     "execution_count": 31,
     "metadata": {},
     "output_type": "execute_result"
    }
   ],
   "source": [
    "# Подсчет общей суммы по всем столбцам\n",
    "column_sums = od_matrix.sum()\n",
    "\n",
    "# Подсчет общей суммы по всем столбцам\n",
    "column_sums"
   ],
   "metadata": {
    "collapsed": false,
    "ExecuteTime": {
     "end_time": "2024-01-20T19:59:13.011862800Z",
     "start_time": "2024-01-20T19:59:12.886935900Z"
    }
   },
   "id": "1a76f80d3f1d6ac8"
  },
  {
   "cell_type": "code",
   "execution_count": 32,
   "outputs": [],
   "source": [
    "od_matrix.to_csv('data/od_matrix.csv', index=False)"
   ],
   "metadata": {
    "collapsed": false,
    "ExecuteTime": {
     "end_time": "2024-01-20T20:07:44.214400200Z",
     "start_time": "2024-01-20T20:07:44.120158800Z"
    }
   },
   "id": "983bbdf61e9e2577"
  },
  {
   "cell_type": "markdown",
   "source": [
    "Необходимо преобразовать центроиды зон в проекцию соответствующую UTM 40"
   ],
   "metadata": {
    "collapsed": false
   },
   "id": "494495ec8337dc0"
  },
  {
   "cell_type": "code",
   "execution_count": 33,
   "outputs": [
    {
     "data": {
      "text/plain": "          landuse  population_availability  workers_availability  \\\nid                                                                 \n1     low_density                 5.241083              2.463974   \n6     low_density                 4.892252              2.386894   \n9     low_density                 4.760366              2.351703   \n11    low_density                 4.804614              2.364015   \n16    residential                 6.456608              2.789124   \n...           ...                      ...                   ...   \n2869   commercial                 4.291921              2.221195   \n2875   industrial                 4.515939              2.286350   \n2877   industrial                 5.810754              3.120476   \n2879   industrial                 4.074374              2.930219   \n3000  low_density                 5.342491              2.495559   \n\n      landuse_numeric                   geometry  \nid                                                \n1                   0  POINT (56.35909 58.03661)  \n6                   0  POINT (56.39549 58.02264)  \n9                   0  POINT (56.40065 58.06548)  \n11                  0  POINT (56.40413 58.04082)  \n16                  1  POINT (56.21203 58.00316)  \n...               ...                        ...  \n2869                2  POINT (56.38927 58.14992)  \n2875                3  POINT (56.37708 58.13860)  \n2877                3  POINT (56.28619 58.03040)  \n2879                3  POINT (56.15952 57.88148)  \n3000                0  POINT (56.34246 58.03301)  \n\n[499 rows x 5 columns]",
      "text/html": "<div>\n<style scoped>\n    .dataframe tbody tr th:only-of-type {\n        vertical-align: middle;\n    }\n\n    .dataframe tbody tr th {\n        vertical-align: top;\n    }\n\n    .dataframe thead th {\n        text-align: right;\n    }\n</style>\n<table border=\"1\" class=\"dataframe\">\n  <thead>\n    <tr style=\"text-align: right;\">\n      <th></th>\n      <th>landuse</th>\n      <th>population_availability</th>\n      <th>workers_availability</th>\n      <th>landuse_numeric</th>\n      <th>geometry</th>\n    </tr>\n    <tr>\n      <th>id</th>\n      <th></th>\n      <th></th>\n      <th></th>\n      <th></th>\n      <th></th>\n    </tr>\n  </thead>\n  <tbody>\n    <tr>\n      <th>1</th>\n      <td>low_density</td>\n      <td>5.241083</td>\n      <td>2.463974</td>\n      <td>0</td>\n      <td>POINT (56.35909 58.03661)</td>\n    </tr>\n    <tr>\n      <th>6</th>\n      <td>low_density</td>\n      <td>4.892252</td>\n      <td>2.386894</td>\n      <td>0</td>\n      <td>POINT (56.39549 58.02264)</td>\n    </tr>\n    <tr>\n      <th>9</th>\n      <td>low_density</td>\n      <td>4.760366</td>\n      <td>2.351703</td>\n      <td>0</td>\n      <td>POINT (56.40065 58.06548)</td>\n    </tr>\n    <tr>\n      <th>11</th>\n      <td>low_density</td>\n      <td>4.804614</td>\n      <td>2.364015</td>\n      <td>0</td>\n      <td>POINT (56.40413 58.04082)</td>\n    </tr>\n    <tr>\n      <th>16</th>\n      <td>residential</td>\n      <td>6.456608</td>\n      <td>2.789124</td>\n      <td>1</td>\n      <td>POINT (56.21203 58.00316)</td>\n    </tr>\n    <tr>\n      <th>...</th>\n      <td>...</td>\n      <td>...</td>\n      <td>...</td>\n      <td>...</td>\n      <td>...</td>\n    </tr>\n    <tr>\n      <th>2869</th>\n      <td>commercial</td>\n      <td>4.291921</td>\n      <td>2.221195</td>\n      <td>2</td>\n      <td>POINT (56.38927 58.14992)</td>\n    </tr>\n    <tr>\n      <th>2875</th>\n      <td>industrial</td>\n      <td>4.515939</td>\n      <td>2.286350</td>\n      <td>3</td>\n      <td>POINT (56.37708 58.13860)</td>\n    </tr>\n    <tr>\n      <th>2877</th>\n      <td>industrial</td>\n      <td>5.810754</td>\n      <td>3.120476</td>\n      <td>3</td>\n      <td>POINT (56.28619 58.03040)</td>\n    </tr>\n    <tr>\n      <th>2879</th>\n      <td>industrial</td>\n      <td>4.074374</td>\n      <td>2.930219</td>\n      <td>3</td>\n      <td>POINT (56.15952 57.88148)</td>\n    </tr>\n    <tr>\n      <th>3000</th>\n      <td>low_density</td>\n      <td>5.342491</td>\n      <td>2.495559</td>\n      <td>0</td>\n      <td>POINT (56.34246 58.03301)</td>\n    </tr>\n  </tbody>\n</table>\n<p>499 rows × 5 columns</p>\n</div>"
     },
     "execution_count": 33,
     "metadata": {},
     "output_type": "execute_result"
    }
   ],
   "source": [
    "zones"
   ],
   "metadata": {
    "collapsed": false,
    "ExecuteTime": {
     "end_time": "2024-01-21T11:56:06.846717900Z",
     "start_time": "2024-01-21T11:56:05.442996300Z"
    }
   },
   "id": "f357bbec4fd77581"
  },
  {
   "cell_type": "code",
   "execution_count": 40,
   "outputs": [],
   "source": [
    "from pyproj import Proj, transform\n",
    "from shapely.geometry import Point"
   ],
   "metadata": {
    "collapsed": false,
    "ExecuteTime": {
     "end_time": "2024-01-21T12:01:49.499652100Z",
     "start_time": "2024-01-21T12:01:49.442157100Z"
    }
   },
   "id": "badb043a689e811"
  },
  {
   "cell_type": "code",
   "execution_count": 38,
   "outputs": [],
   "source": [
    "zones_test = zones"
   ],
   "metadata": {
    "collapsed": false,
    "ExecuteTime": {
     "end_time": "2024-01-21T12:01:26.567824Z",
     "start_time": "2024-01-21T12:01:26.488975Z"
    }
   },
   "id": "5bfdeabd4dbb37aa"
  },
  {
   "cell_type": "code",
   "execution_count": 41,
   "outputs": [
    {
     "name": "stderr",
     "output_type": "stream",
     "text": [
      "C:\\Users\\sm_pa\\AppData\\Local\\Programs\\Python\\Python39\\lib\\site-packages\\pyproj\\crs\\crs.py:141: FutureWarning: '+init=<authority>:<code>' syntax is deprecated. '<authority>:<code>' is the preferred initialization method. When making the change, be mindful of axis order changes: https://pyproj4.github.io/pyproj/stable/gotchas.html#axis-order-changes-in-proj-6\n",
      "  in_crs_string = _prepare_from_proj_string(in_crs_string)\n",
      "C:\\Users\\sm_pa\\AppData\\Local\\Programs\\Python\\Python39\\lib\\site-packages\\pyproj\\crs\\crs.py:141: FutureWarning: '+init=<authority>:<code>' syntax is deprecated. '<authority>:<code>' is the preferred initialization method. When making the change, be mindful of axis order changes: https://pyproj4.github.io/pyproj/stable/gotchas.html#axis-order-changes-in-proj-6\n",
      "  in_crs_string = _prepare_from_proj_string(in_crs_string)\n",
      "C:\\Users\\sm_pa\\AppData\\Local\\Temp\\ipykernel_7048\\678575862.py:7: FutureWarning: This function is deprecated. See: https://pyproj4.github.io/pyproj/stable/gotchas.html#upgrading-to-pyproj-2-from-pyproj-1\n",
      "  x, y = transform(Proj(init='epsg:4326'), utm40, lon, lat)  # Преобразование из WGS 84 (EPSG:4326) в UTM40\n",
      "C:\\Users\\sm_pa\\AppData\\Local\\Programs\\Python\\Python39\\lib\\site-packages\\pyproj\\crs\\crs.py:141: FutureWarning: '+init=<authority>:<code>' syntax is deprecated. '<authority>:<code>' is the preferred initialization method. When making the change, be mindful of axis order changes: https://pyproj4.github.io/pyproj/stable/gotchas.html#axis-order-changes-in-proj-6\n",
      "  in_crs_string = _prepare_from_proj_string(in_crs_string)\n",
      "C:\\Users\\sm_pa\\AppData\\Local\\Temp\\ipykernel_7048\\678575862.py:7: FutureWarning: This function is deprecated. See: https://pyproj4.github.io/pyproj/stable/gotchas.html#upgrading-to-pyproj-2-from-pyproj-1\n",
      "  x, y = transform(Proj(init='epsg:4326'), utm40, lon, lat)  # Преобразование из WGS 84 (EPSG:4326) в UTM40\n",
      "C:\\Users\\sm_pa\\AppData\\Local\\Programs\\Python\\Python39\\lib\\site-packages\\pyproj\\crs\\crs.py:141: FutureWarning: '+init=<authority>:<code>' syntax is deprecated. '<authority>:<code>' is the preferred initialization method. When making the change, be mindful of axis order changes: https://pyproj4.github.io/pyproj/stable/gotchas.html#axis-order-changes-in-proj-6\n",
      "  in_crs_string = _prepare_from_proj_string(in_crs_string)\n",
      "C:\\Users\\sm_pa\\AppData\\Local\\Temp\\ipykernel_7048\\678575862.py:7: FutureWarning: This function is deprecated. See: https://pyproj4.github.io/pyproj/stable/gotchas.html#upgrading-to-pyproj-2-from-pyproj-1\n",
      "  x, y = transform(Proj(init='epsg:4326'), utm40, lon, lat)  # Преобразование из WGS 84 (EPSG:4326) в UTM40\n",
      "C:\\Users\\sm_pa\\AppData\\Local\\Programs\\Python\\Python39\\lib\\site-packages\\pyproj\\crs\\crs.py:141: FutureWarning: '+init=<authority>:<code>' syntax is deprecated. '<authority>:<code>' is the preferred initialization method. When making the change, be mindful of axis order changes: https://pyproj4.github.io/pyproj/stable/gotchas.html#axis-order-changes-in-proj-6\n",
      "  in_crs_string = _prepare_from_proj_string(in_crs_string)\n",
      "C:\\Users\\sm_pa\\AppData\\Local\\Temp\\ipykernel_7048\\678575862.py:7: FutureWarning: This function is deprecated. See: https://pyproj4.github.io/pyproj/stable/gotchas.html#upgrading-to-pyproj-2-from-pyproj-1\n",
      "  x, y = transform(Proj(init='epsg:4326'), utm40, lon, lat)  # Преобразование из WGS 84 (EPSG:4326) в UTM40\n",
      "C:\\Users\\sm_pa\\AppData\\Local\\Programs\\Python\\Python39\\lib\\site-packages\\pyproj\\crs\\crs.py:141: FutureWarning: '+init=<authority>:<code>' syntax is deprecated. '<authority>:<code>' is the preferred initialization method. When making the change, be mindful of axis order changes: https://pyproj4.github.io/pyproj/stable/gotchas.html#axis-order-changes-in-proj-6\n",
      "  in_crs_string = _prepare_from_proj_string(in_crs_string)\n",
      "C:\\Users\\sm_pa\\AppData\\Local\\Temp\\ipykernel_7048\\678575862.py:7: FutureWarning: This function is deprecated. See: https://pyproj4.github.io/pyproj/stable/gotchas.html#upgrading-to-pyproj-2-from-pyproj-1\n",
      "  x, y = transform(Proj(init='epsg:4326'), utm40, lon, lat)  # Преобразование из WGS 84 (EPSG:4326) в UTM40\n",
      "C:\\Users\\sm_pa\\AppData\\Local\\Programs\\Python\\Python39\\lib\\site-packages\\pyproj\\crs\\crs.py:141: FutureWarning: '+init=<authority>:<code>' syntax is deprecated. '<authority>:<code>' is the preferred initialization method. When making the change, be mindful of axis order changes: https://pyproj4.github.io/pyproj/stable/gotchas.html#axis-order-changes-in-proj-6\n",
      "  in_crs_string = _prepare_from_proj_string(in_crs_string)\n",
      "C:\\Users\\sm_pa\\AppData\\Local\\Temp\\ipykernel_7048\\678575862.py:7: FutureWarning: This function is deprecated. See: https://pyproj4.github.io/pyproj/stable/gotchas.html#upgrading-to-pyproj-2-from-pyproj-1\n",
      "  x, y = transform(Proj(init='epsg:4326'), utm40, lon, lat)  # Преобразование из WGS 84 (EPSG:4326) в UTM40\n",
      "C:\\Users\\sm_pa\\AppData\\Local\\Programs\\Python\\Python39\\lib\\site-packages\\pyproj\\crs\\crs.py:141: FutureWarning: '+init=<authority>:<code>' syntax is deprecated. '<authority>:<code>' is the preferred initialization method. When making the change, be mindful of axis order changes: https://pyproj4.github.io/pyproj/stable/gotchas.html#axis-order-changes-in-proj-6\n",
      "  in_crs_string = _prepare_from_proj_string(in_crs_string)\n",
      "C:\\Users\\sm_pa\\AppData\\Local\\Temp\\ipykernel_7048\\678575862.py:7: FutureWarning: This function is deprecated. See: https://pyproj4.github.io/pyproj/stable/gotchas.html#upgrading-to-pyproj-2-from-pyproj-1\n",
      "  x, y = transform(Proj(init='epsg:4326'), utm40, lon, lat)  # Преобразование из WGS 84 (EPSG:4326) в UTM40\n",
      "C:\\Users\\sm_pa\\AppData\\Local\\Programs\\Python\\Python39\\lib\\site-packages\\pyproj\\crs\\crs.py:141: FutureWarning: '+init=<authority>:<code>' syntax is deprecated. '<authority>:<code>' is the preferred initialization method. When making the change, be mindful of axis order changes: https://pyproj4.github.io/pyproj/stable/gotchas.html#axis-order-changes-in-proj-6\n",
      "  in_crs_string = _prepare_from_proj_string(in_crs_string)\n",
      "C:\\Users\\sm_pa\\AppData\\Local\\Temp\\ipykernel_7048\\678575862.py:7: FutureWarning: This function is deprecated. See: https://pyproj4.github.io/pyproj/stable/gotchas.html#upgrading-to-pyproj-2-from-pyproj-1\n",
      "  x, y = transform(Proj(init='epsg:4326'), utm40, lon, lat)  # Преобразование из WGS 84 (EPSG:4326) в UTM40\n",
      "C:\\Users\\sm_pa\\AppData\\Local\\Programs\\Python\\Python39\\lib\\site-packages\\pyproj\\crs\\crs.py:141: FutureWarning: '+init=<authority>:<code>' syntax is deprecated. '<authority>:<code>' is the preferred initialization method. When making the change, be mindful of axis order changes: https://pyproj4.github.io/pyproj/stable/gotchas.html#axis-order-changes-in-proj-6\n",
      "  in_crs_string = _prepare_from_proj_string(in_crs_string)\n",
      "C:\\Users\\sm_pa\\AppData\\Local\\Temp\\ipykernel_7048\\678575862.py:7: FutureWarning: This function is deprecated. See: https://pyproj4.github.io/pyproj/stable/gotchas.html#upgrading-to-pyproj-2-from-pyproj-1\n",
      "  x, y = transform(Proj(init='epsg:4326'), utm40, lon, lat)  # Преобразование из WGS 84 (EPSG:4326) в UTM40\n",
      "C:\\Users\\sm_pa\\AppData\\Local\\Programs\\Python\\Python39\\lib\\site-packages\\pyproj\\crs\\crs.py:141: FutureWarning: '+init=<authority>:<code>' syntax is deprecated. '<authority>:<code>' is the preferred initialization method. When making the change, be mindful of axis order changes: https://pyproj4.github.io/pyproj/stable/gotchas.html#axis-order-changes-in-proj-6\n",
      "  in_crs_string = _prepare_from_proj_string(in_crs_string)\n",
      "C:\\Users\\sm_pa\\AppData\\Local\\Temp\\ipykernel_7048\\678575862.py:7: FutureWarning: This function is deprecated. See: https://pyproj4.github.io/pyproj/stable/gotchas.html#upgrading-to-pyproj-2-from-pyproj-1\n",
      "  x, y = transform(Proj(init='epsg:4326'), utm40, lon, lat)  # Преобразование из WGS 84 (EPSG:4326) в UTM40\n",
      "C:\\Users\\sm_pa\\AppData\\Local\\Programs\\Python\\Python39\\lib\\site-packages\\pyproj\\crs\\crs.py:141: FutureWarning: '+init=<authority>:<code>' syntax is deprecated. '<authority>:<code>' is the preferred initialization method. When making the change, be mindful of axis order changes: https://pyproj4.github.io/pyproj/stable/gotchas.html#axis-order-changes-in-proj-6\n",
      "  in_crs_string = _prepare_from_proj_string(in_crs_string)\n",
      "C:\\Users\\sm_pa\\AppData\\Local\\Temp\\ipykernel_7048\\678575862.py:7: FutureWarning: This function is deprecated. See: https://pyproj4.github.io/pyproj/stable/gotchas.html#upgrading-to-pyproj-2-from-pyproj-1\n",
      "  x, y = transform(Proj(init='epsg:4326'), utm40, lon, lat)  # Преобразование из WGS 84 (EPSG:4326) в UTM40\n",
      "C:\\Users\\sm_pa\\AppData\\Local\\Programs\\Python\\Python39\\lib\\site-packages\\pyproj\\crs\\crs.py:141: FutureWarning: '+init=<authority>:<code>' syntax is deprecated. '<authority>:<code>' is the preferred initialization method. When making the change, be mindful of axis order changes: https://pyproj4.github.io/pyproj/stable/gotchas.html#axis-order-changes-in-proj-6\n",
      "  in_crs_string = _prepare_from_proj_string(in_crs_string)\n",
      "C:\\Users\\sm_pa\\AppData\\Local\\Temp\\ipykernel_7048\\678575862.py:7: FutureWarning: This function is deprecated. See: https://pyproj4.github.io/pyproj/stable/gotchas.html#upgrading-to-pyproj-2-from-pyproj-1\n",
      "  x, y = transform(Proj(init='epsg:4326'), utm40, lon, lat)  # Преобразование из WGS 84 (EPSG:4326) в UTM40\n",
      "C:\\Users\\sm_pa\\AppData\\Local\\Programs\\Python\\Python39\\lib\\site-packages\\pyproj\\crs\\crs.py:141: FutureWarning: '+init=<authority>:<code>' syntax is deprecated. '<authority>:<code>' is the preferred initialization method. When making the change, be mindful of axis order changes: https://pyproj4.github.io/pyproj/stable/gotchas.html#axis-order-changes-in-proj-6\n",
      "  in_crs_string = _prepare_from_proj_string(in_crs_string)\n",
      "C:\\Users\\sm_pa\\AppData\\Local\\Temp\\ipykernel_7048\\678575862.py:7: FutureWarning: This function is deprecated. See: https://pyproj4.github.io/pyproj/stable/gotchas.html#upgrading-to-pyproj-2-from-pyproj-1\n",
      "  x, y = transform(Proj(init='epsg:4326'), utm40, lon, lat)  # Преобразование из WGS 84 (EPSG:4326) в UTM40\n",
      "C:\\Users\\sm_pa\\AppData\\Local\\Programs\\Python\\Python39\\lib\\site-packages\\pyproj\\crs\\crs.py:141: FutureWarning: '+init=<authority>:<code>' syntax is deprecated. '<authority>:<code>' is the preferred initialization method. When making the change, be mindful of axis order changes: https://pyproj4.github.io/pyproj/stable/gotchas.html#axis-order-changes-in-proj-6\n",
      "  in_crs_string = _prepare_from_proj_string(in_crs_string)\n",
      "C:\\Users\\sm_pa\\AppData\\Local\\Temp\\ipykernel_7048\\678575862.py:7: FutureWarning: This function is deprecated. See: https://pyproj4.github.io/pyproj/stable/gotchas.html#upgrading-to-pyproj-2-from-pyproj-1\n",
      "  x, y = transform(Proj(init='epsg:4326'), utm40, lon, lat)  # Преобразование из WGS 84 (EPSG:4326) в UTM40\n",
      "C:\\Users\\sm_pa\\AppData\\Local\\Programs\\Python\\Python39\\lib\\site-packages\\pyproj\\crs\\crs.py:141: FutureWarning: '+init=<authority>:<code>' syntax is deprecated. '<authority>:<code>' is the preferred initialization method. When making the change, be mindful of axis order changes: https://pyproj4.github.io/pyproj/stable/gotchas.html#axis-order-changes-in-proj-6\n",
      "  in_crs_string = _prepare_from_proj_string(in_crs_string)\n",
      "C:\\Users\\sm_pa\\AppData\\Local\\Temp\\ipykernel_7048\\678575862.py:7: FutureWarning: This function is deprecated. See: https://pyproj4.github.io/pyproj/stable/gotchas.html#upgrading-to-pyproj-2-from-pyproj-1\n",
      "  x, y = transform(Proj(init='epsg:4326'), utm40, lon, lat)  # Преобразование из WGS 84 (EPSG:4326) в UTM40\n",
      "C:\\Users\\sm_pa\\AppData\\Local\\Programs\\Python\\Python39\\lib\\site-packages\\pyproj\\crs\\crs.py:141: FutureWarning: '+init=<authority>:<code>' syntax is deprecated. '<authority>:<code>' is the preferred initialization method. When making the change, be mindful of axis order changes: https://pyproj4.github.io/pyproj/stable/gotchas.html#axis-order-changes-in-proj-6\n",
      "  in_crs_string = _prepare_from_proj_string(in_crs_string)\n",
      "C:\\Users\\sm_pa\\AppData\\Local\\Temp\\ipykernel_7048\\678575862.py:7: FutureWarning: This function is deprecated. See: https://pyproj4.github.io/pyproj/stable/gotchas.html#upgrading-to-pyproj-2-from-pyproj-1\n",
      "  x, y = transform(Proj(init='epsg:4326'), utm40, lon, lat)  # Преобразование из WGS 84 (EPSG:4326) в UTM40\n",
      "C:\\Users\\sm_pa\\AppData\\Local\\Programs\\Python\\Python39\\lib\\site-packages\\pyproj\\crs\\crs.py:141: FutureWarning: '+init=<authority>:<code>' syntax is deprecated. '<authority>:<code>' is the preferred initialization method. When making the change, be mindful of axis order changes: https://pyproj4.github.io/pyproj/stable/gotchas.html#axis-order-changes-in-proj-6\n",
      "  in_crs_string = _prepare_from_proj_string(in_crs_string)\n",
      "C:\\Users\\sm_pa\\AppData\\Local\\Temp\\ipykernel_7048\\678575862.py:7: FutureWarning: This function is deprecated. See: https://pyproj4.github.io/pyproj/stable/gotchas.html#upgrading-to-pyproj-2-from-pyproj-1\n",
      "  x, y = transform(Proj(init='epsg:4326'), utm40, lon, lat)  # Преобразование из WGS 84 (EPSG:4326) в UTM40\n",
      "C:\\Users\\sm_pa\\AppData\\Local\\Programs\\Python\\Python39\\lib\\site-packages\\pyproj\\crs\\crs.py:141: FutureWarning: '+init=<authority>:<code>' syntax is deprecated. '<authority>:<code>' is the preferred initialization method. When making the change, be mindful of axis order changes: https://pyproj4.github.io/pyproj/stable/gotchas.html#axis-order-changes-in-proj-6\n",
      "  in_crs_string = _prepare_from_proj_string(in_crs_string)\n",
      "C:\\Users\\sm_pa\\AppData\\Local\\Temp\\ipykernel_7048\\678575862.py:7: FutureWarning: This function is deprecated. See: https://pyproj4.github.io/pyproj/stable/gotchas.html#upgrading-to-pyproj-2-from-pyproj-1\n",
      "  x, y = transform(Proj(init='epsg:4326'), utm40, lon, lat)  # Преобразование из WGS 84 (EPSG:4326) в UTM40\n",
      "C:\\Users\\sm_pa\\AppData\\Local\\Programs\\Python\\Python39\\lib\\site-packages\\pyproj\\crs\\crs.py:141: FutureWarning: '+init=<authority>:<code>' syntax is deprecated. '<authority>:<code>' is the preferred initialization method. When making the change, be mindful of axis order changes: https://pyproj4.github.io/pyproj/stable/gotchas.html#axis-order-changes-in-proj-6\n",
      "  in_crs_string = _prepare_from_proj_string(in_crs_string)\n",
      "C:\\Users\\sm_pa\\AppData\\Local\\Temp\\ipykernel_7048\\678575862.py:7: FutureWarning: This function is deprecated. See: https://pyproj4.github.io/pyproj/stable/gotchas.html#upgrading-to-pyproj-2-from-pyproj-1\n",
      "  x, y = transform(Proj(init='epsg:4326'), utm40, lon, lat)  # Преобразование из WGS 84 (EPSG:4326) в UTM40\n",
      "C:\\Users\\sm_pa\\AppData\\Local\\Programs\\Python\\Python39\\lib\\site-packages\\pyproj\\crs\\crs.py:141: FutureWarning: '+init=<authority>:<code>' syntax is deprecated. '<authority>:<code>' is the preferred initialization method. When making the change, be mindful of axis order changes: https://pyproj4.github.io/pyproj/stable/gotchas.html#axis-order-changes-in-proj-6\n",
      "  in_crs_string = _prepare_from_proj_string(in_crs_string)\n",
      "C:\\Users\\sm_pa\\AppData\\Local\\Temp\\ipykernel_7048\\678575862.py:7: FutureWarning: This function is deprecated. See: https://pyproj4.github.io/pyproj/stable/gotchas.html#upgrading-to-pyproj-2-from-pyproj-1\n",
      "  x, y = transform(Proj(init='epsg:4326'), utm40, lon, lat)  # Преобразование из WGS 84 (EPSG:4326) в UTM40\n",
      "C:\\Users\\sm_pa\\AppData\\Local\\Programs\\Python\\Python39\\lib\\site-packages\\pyproj\\crs\\crs.py:141: FutureWarning: '+init=<authority>:<code>' syntax is deprecated. '<authority>:<code>' is the preferred initialization method. When making the change, be mindful of axis order changes: https://pyproj4.github.io/pyproj/stable/gotchas.html#axis-order-changes-in-proj-6\n",
      "  in_crs_string = _prepare_from_proj_string(in_crs_string)\n",
      "C:\\Users\\sm_pa\\AppData\\Local\\Temp\\ipykernel_7048\\678575862.py:7: FutureWarning: This function is deprecated. See: https://pyproj4.github.io/pyproj/stable/gotchas.html#upgrading-to-pyproj-2-from-pyproj-1\n",
      "  x, y = transform(Proj(init='epsg:4326'), utm40, lon, lat)  # Преобразование из WGS 84 (EPSG:4326) в UTM40\n",
      "C:\\Users\\sm_pa\\AppData\\Local\\Programs\\Python\\Python39\\lib\\site-packages\\pyproj\\crs\\crs.py:141: FutureWarning: '+init=<authority>:<code>' syntax is deprecated. '<authority>:<code>' is the preferred initialization method. When making the change, be mindful of axis order changes: https://pyproj4.github.io/pyproj/stable/gotchas.html#axis-order-changes-in-proj-6\n",
      "  in_crs_string = _prepare_from_proj_string(in_crs_string)\n",
      "C:\\Users\\sm_pa\\AppData\\Local\\Temp\\ipykernel_7048\\678575862.py:7: FutureWarning: This function is deprecated. See: https://pyproj4.github.io/pyproj/stable/gotchas.html#upgrading-to-pyproj-2-from-pyproj-1\n",
      "  x, y = transform(Proj(init='epsg:4326'), utm40, lon, lat)  # Преобразование из WGS 84 (EPSG:4326) в UTM40\n",
      "C:\\Users\\sm_pa\\AppData\\Local\\Programs\\Python\\Python39\\lib\\site-packages\\pyproj\\crs\\crs.py:141: FutureWarning: '+init=<authority>:<code>' syntax is deprecated. '<authority>:<code>' is the preferred initialization method. When making the change, be mindful of axis order changes: https://pyproj4.github.io/pyproj/stable/gotchas.html#axis-order-changes-in-proj-6\n",
      "  in_crs_string = _prepare_from_proj_string(in_crs_string)\n",
      "C:\\Users\\sm_pa\\AppData\\Local\\Temp\\ipykernel_7048\\678575862.py:7: FutureWarning: This function is deprecated. See: https://pyproj4.github.io/pyproj/stable/gotchas.html#upgrading-to-pyproj-2-from-pyproj-1\n",
      "  x, y = transform(Proj(init='epsg:4326'), utm40, lon, lat)  # Преобразование из WGS 84 (EPSG:4326) в UTM40\n",
      "C:\\Users\\sm_pa\\AppData\\Local\\Programs\\Python\\Python39\\lib\\site-packages\\pyproj\\crs\\crs.py:141: FutureWarning: '+init=<authority>:<code>' syntax is deprecated. '<authority>:<code>' is the preferred initialization method. When making the change, be mindful of axis order changes: https://pyproj4.github.io/pyproj/stable/gotchas.html#axis-order-changes-in-proj-6\n",
      "  in_crs_string = _prepare_from_proj_string(in_crs_string)\n",
      "C:\\Users\\sm_pa\\AppData\\Local\\Temp\\ipykernel_7048\\678575862.py:7: FutureWarning: This function is deprecated. See: https://pyproj4.github.io/pyproj/stable/gotchas.html#upgrading-to-pyproj-2-from-pyproj-1\n",
      "  x, y = transform(Proj(init='epsg:4326'), utm40, lon, lat)  # Преобразование из WGS 84 (EPSG:4326) в UTM40\n",
      "C:\\Users\\sm_pa\\AppData\\Local\\Programs\\Python\\Python39\\lib\\site-packages\\pyproj\\crs\\crs.py:141: FutureWarning: '+init=<authority>:<code>' syntax is deprecated. '<authority>:<code>' is the preferred initialization method. When making the change, be mindful of axis order changes: https://pyproj4.github.io/pyproj/stable/gotchas.html#axis-order-changes-in-proj-6\n",
      "  in_crs_string = _prepare_from_proj_string(in_crs_string)\n",
      "C:\\Users\\sm_pa\\AppData\\Local\\Temp\\ipykernel_7048\\678575862.py:7: FutureWarning: This function is deprecated. See: https://pyproj4.github.io/pyproj/stable/gotchas.html#upgrading-to-pyproj-2-from-pyproj-1\n",
      "  x, y = transform(Proj(init='epsg:4326'), utm40, lon, lat)  # Преобразование из WGS 84 (EPSG:4326) в UTM40\n",
      "C:\\Users\\sm_pa\\AppData\\Local\\Programs\\Python\\Python39\\lib\\site-packages\\pyproj\\crs\\crs.py:141: FutureWarning: '+init=<authority>:<code>' syntax is deprecated. '<authority>:<code>' is the preferred initialization method. When making the change, be mindful of axis order changes: https://pyproj4.github.io/pyproj/stable/gotchas.html#axis-order-changes-in-proj-6\n",
      "  in_crs_string = _prepare_from_proj_string(in_crs_string)\n",
      "C:\\Users\\sm_pa\\AppData\\Local\\Temp\\ipykernel_7048\\678575862.py:7: FutureWarning: This function is deprecated. See: https://pyproj4.github.io/pyproj/stable/gotchas.html#upgrading-to-pyproj-2-from-pyproj-1\n",
      "  x, y = transform(Proj(init='epsg:4326'), utm40, lon, lat)  # Преобразование из WGS 84 (EPSG:4326) в UTM40\n",
      "C:\\Users\\sm_pa\\AppData\\Local\\Programs\\Python\\Python39\\lib\\site-packages\\pyproj\\crs\\crs.py:141: FutureWarning: '+init=<authority>:<code>' syntax is deprecated. '<authority>:<code>' is the preferred initialization method. When making the change, be mindful of axis order changes: https://pyproj4.github.io/pyproj/stable/gotchas.html#axis-order-changes-in-proj-6\n",
      "  in_crs_string = _prepare_from_proj_string(in_crs_string)\n",
      "C:\\Users\\sm_pa\\AppData\\Local\\Temp\\ipykernel_7048\\678575862.py:7: FutureWarning: This function is deprecated. See: https://pyproj4.github.io/pyproj/stable/gotchas.html#upgrading-to-pyproj-2-from-pyproj-1\n",
      "  x, y = transform(Proj(init='epsg:4326'), utm40, lon, lat)  # Преобразование из WGS 84 (EPSG:4326) в UTM40\n",
      "C:\\Users\\sm_pa\\AppData\\Local\\Programs\\Python\\Python39\\lib\\site-packages\\pyproj\\crs\\crs.py:141: FutureWarning: '+init=<authority>:<code>' syntax is deprecated. '<authority>:<code>' is the preferred initialization method. When making the change, be mindful of axis order changes: https://pyproj4.github.io/pyproj/stable/gotchas.html#axis-order-changes-in-proj-6\n",
      "  in_crs_string = _prepare_from_proj_string(in_crs_string)\n",
      "C:\\Users\\sm_pa\\AppData\\Local\\Temp\\ipykernel_7048\\678575862.py:7: FutureWarning: This function is deprecated. See: https://pyproj4.github.io/pyproj/stable/gotchas.html#upgrading-to-pyproj-2-from-pyproj-1\n",
      "  x, y = transform(Proj(init='epsg:4326'), utm40, lon, lat)  # Преобразование из WGS 84 (EPSG:4326) в UTM40\n",
      "C:\\Users\\sm_pa\\AppData\\Local\\Programs\\Python\\Python39\\lib\\site-packages\\pyproj\\crs\\crs.py:141: FutureWarning: '+init=<authority>:<code>' syntax is deprecated. '<authority>:<code>' is the preferred initialization method. When making the change, be mindful of axis order changes: https://pyproj4.github.io/pyproj/stable/gotchas.html#axis-order-changes-in-proj-6\n",
      "  in_crs_string = _prepare_from_proj_string(in_crs_string)\n",
      "C:\\Users\\sm_pa\\AppData\\Local\\Temp\\ipykernel_7048\\678575862.py:7: FutureWarning: This function is deprecated. See: https://pyproj4.github.io/pyproj/stable/gotchas.html#upgrading-to-pyproj-2-from-pyproj-1\n",
      "  x, y = transform(Proj(init='epsg:4326'), utm40, lon, lat)  # Преобразование из WGS 84 (EPSG:4326) в UTM40\n",
      "C:\\Users\\sm_pa\\AppData\\Local\\Programs\\Python\\Python39\\lib\\site-packages\\pyproj\\crs\\crs.py:141: FutureWarning: '+init=<authority>:<code>' syntax is deprecated. '<authority>:<code>' is the preferred initialization method. When making the change, be mindful of axis order changes: https://pyproj4.github.io/pyproj/stable/gotchas.html#axis-order-changes-in-proj-6\n",
      "  in_crs_string = _prepare_from_proj_string(in_crs_string)\n",
      "C:\\Users\\sm_pa\\AppData\\Local\\Temp\\ipykernel_7048\\678575862.py:7: FutureWarning: This function is deprecated. See: https://pyproj4.github.io/pyproj/stable/gotchas.html#upgrading-to-pyproj-2-from-pyproj-1\n",
      "  x, y = transform(Proj(init='epsg:4326'), utm40, lon, lat)  # Преобразование из WGS 84 (EPSG:4326) в UTM40\n",
      "C:\\Users\\sm_pa\\AppData\\Local\\Programs\\Python\\Python39\\lib\\site-packages\\pyproj\\crs\\crs.py:141: FutureWarning: '+init=<authority>:<code>' syntax is deprecated. '<authority>:<code>' is the preferred initialization method. When making the change, be mindful of axis order changes: https://pyproj4.github.io/pyproj/stable/gotchas.html#axis-order-changes-in-proj-6\n",
      "  in_crs_string = _prepare_from_proj_string(in_crs_string)\n",
      "C:\\Users\\sm_pa\\AppData\\Local\\Temp\\ipykernel_7048\\678575862.py:7: FutureWarning: This function is deprecated. See: https://pyproj4.github.io/pyproj/stable/gotchas.html#upgrading-to-pyproj-2-from-pyproj-1\n",
      "  x, y = transform(Proj(init='epsg:4326'), utm40, lon, lat)  # Преобразование из WGS 84 (EPSG:4326) в UTM40\n",
      "C:\\Users\\sm_pa\\AppData\\Local\\Programs\\Python\\Python39\\lib\\site-packages\\pyproj\\crs\\crs.py:141: FutureWarning: '+init=<authority>:<code>' syntax is deprecated. '<authority>:<code>' is the preferred initialization method. When making the change, be mindful of axis order changes: https://pyproj4.github.io/pyproj/stable/gotchas.html#axis-order-changes-in-proj-6\n",
      "  in_crs_string = _prepare_from_proj_string(in_crs_string)\n",
      "C:\\Users\\sm_pa\\AppData\\Local\\Temp\\ipykernel_7048\\678575862.py:7: FutureWarning: This function is deprecated. See: https://pyproj4.github.io/pyproj/stable/gotchas.html#upgrading-to-pyproj-2-from-pyproj-1\n",
      "  x, y = transform(Proj(init='epsg:4326'), utm40, lon, lat)  # Преобразование из WGS 84 (EPSG:4326) в UTM40\n",
      "C:\\Users\\sm_pa\\AppData\\Local\\Programs\\Python\\Python39\\lib\\site-packages\\pyproj\\crs\\crs.py:141: FutureWarning: '+init=<authority>:<code>' syntax is deprecated. '<authority>:<code>' is the preferred initialization method. When making the change, be mindful of axis order changes: https://pyproj4.github.io/pyproj/stable/gotchas.html#axis-order-changes-in-proj-6\n",
      "  in_crs_string = _prepare_from_proj_string(in_crs_string)\n",
      "C:\\Users\\sm_pa\\AppData\\Local\\Temp\\ipykernel_7048\\678575862.py:7: FutureWarning: This function is deprecated. See: https://pyproj4.github.io/pyproj/stable/gotchas.html#upgrading-to-pyproj-2-from-pyproj-1\n",
      "  x, y = transform(Proj(init='epsg:4326'), utm40, lon, lat)  # Преобразование из WGS 84 (EPSG:4326) в UTM40\n",
      "C:\\Users\\sm_pa\\AppData\\Local\\Programs\\Python\\Python39\\lib\\site-packages\\pyproj\\crs\\crs.py:141: FutureWarning: '+init=<authority>:<code>' syntax is deprecated. '<authority>:<code>' is the preferred initialization method. When making the change, be mindful of axis order changes: https://pyproj4.github.io/pyproj/stable/gotchas.html#axis-order-changes-in-proj-6\n",
      "  in_crs_string = _prepare_from_proj_string(in_crs_string)\n",
      "C:\\Users\\sm_pa\\AppData\\Local\\Temp\\ipykernel_7048\\678575862.py:7: FutureWarning: This function is deprecated. See: https://pyproj4.github.io/pyproj/stable/gotchas.html#upgrading-to-pyproj-2-from-pyproj-1\n",
      "  x, y = transform(Proj(init='epsg:4326'), utm40, lon, lat)  # Преобразование из WGS 84 (EPSG:4326) в UTM40\n",
      "C:\\Users\\sm_pa\\AppData\\Local\\Programs\\Python\\Python39\\lib\\site-packages\\pyproj\\crs\\crs.py:141: FutureWarning: '+init=<authority>:<code>' syntax is deprecated. '<authority>:<code>' is the preferred initialization method. When making the change, be mindful of axis order changes: https://pyproj4.github.io/pyproj/stable/gotchas.html#axis-order-changes-in-proj-6\n",
      "  in_crs_string = _prepare_from_proj_string(in_crs_string)\n",
      "C:\\Users\\sm_pa\\AppData\\Local\\Temp\\ipykernel_7048\\678575862.py:7: FutureWarning: This function is deprecated. See: https://pyproj4.github.io/pyproj/stable/gotchas.html#upgrading-to-pyproj-2-from-pyproj-1\n",
      "  x, y = transform(Proj(init='epsg:4326'), utm40, lon, lat)  # Преобразование из WGS 84 (EPSG:4326) в UTM40\n",
      "C:\\Users\\sm_pa\\AppData\\Local\\Programs\\Python\\Python39\\lib\\site-packages\\pyproj\\crs\\crs.py:141: FutureWarning: '+init=<authority>:<code>' syntax is deprecated. '<authority>:<code>' is the preferred initialization method. When making the change, be mindful of axis order changes: https://pyproj4.github.io/pyproj/stable/gotchas.html#axis-order-changes-in-proj-6\n",
      "  in_crs_string = _prepare_from_proj_string(in_crs_string)\n",
      "C:\\Users\\sm_pa\\AppData\\Local\\Temp\\ipykernel_7048\\678575862.py:7: FutureWarning: This function is deprecated. See: https://pyproj4.github.io/pyproj/stable/gotchas.html#upgrading-to-pyproj-2-from-pyproj-1\n",
      "  x, y = transform(Proj(init='epsg:4326'), utm40, lon, lat)  # Преобразование из WGS 84 (EPSG:4326) в UTM40\n",
      "C:\\Users\\sm_pa\\AppData\\Local\\Programs\\Python\\Python39\\lib\\site-packages\\pyproj\\crs\\crs.py:141: FutureWarning: '+init=<authority>:<code>' syntax is deprecated. '<authority>:<code>' is the preferred initialization method. When making the change, be mindful of axis order changes: https://pyproj4.github.io/pyproj/stable/gotchas.html#axis-order-changes-in-proj-6\n",
      "  in_crs_string = _prepare_from_proj_string(in_crs_string)\n",
      "C:\\Users\\sm_pa\\AppData\\Local\\Temp\\ipykernel_7048\\678575862.py:7: FutureWarning: This function is deprecated. See: https://pyproj4.github.io/pyproj/stable/gotchas.html#upgrading-to-pyproj-2-from-pyproj-1\n",
      "  x, y = transform(Proj(init='epsg:4326'), utm40, lon, lat)  # Преобразование из WGS 84 (EPSG:4326) в UTM40\n",
      "C:\\Users\\sm_pa\\AppData\\Local\\Programs\\Python\\Python39\\lib\\site-packages\\pyproj\\crs\\crs.py:141: FutureWarning: '+init=<authority>:<code>' syntax is deprecated. '<authority>:<code>' is the preferred initialization method. When making the change, be mindful of axis order changes: https://pyproj4.github.io/pyproj/stable/gotchas.html#axis-order-changes-in-proj-6\n",
      "  in_crs_string = _prepare_from_proj_string(in_crs_string)\n",
      "C:\\Users\\sm_pa\\AppData\\Local\\Temp\\ipykernel_7048\\678575862.py:7: FutureWarning: This function is deprecated. See: https://pyproj4.github.io/pyproj/stable/gotchas.html#upgrading-to-pyproj-2-from-pyproj-1\n",
      "  x, y = transform(Proj(init='epsg:4326'), utm40, lon, lat)  # Преобразование из WGS 84 (EPSG:4326) в UTM40\n",
      "C:\\Users\\sm_pa\\AppData\\Local\\Programs\\Python\\Python39\\lib\\site-packages\\pyproj\\crs\\crs.py:141: FutureWarning: '+init=<authority>:<code>' syntax is deprecated. '<authority>:<code>' is the preferred initialization method. When making the change, be mindful of axis order changes: https://pyproj4.github.io/pyproj/stable/gotchas.html#axis-order-changes-in-proj-6\n",
      "  in_crs_string = _prepare_from_proj_string(in_crs_string)\n",
      "C:\\Users\\sm_pa\\AppData\\Local\\Temp\\ipykernel_7048\\678575862.py:7: FutureWarning: This function is deprecated. See: https://pyproj4.github.io/pyproj/stable/gotchas.html#upgrading-to-pyproj-2-from-pyproj-1\n",
      "  x, y = transform(Proj(init='epsg:4326'), utm40, lon, lat)  # Преобразование из WGS 84 (EPSG:4326) в UTM40\n",
      "C:\\Users\\sm_pa\\AppData\\Local\\Programs\\Python\\Python39\\lib\\site-packages\\pyproj\\crs\\crs.py:141: FutureWarning: '+init=<authority>:<code>' syntax is deprecated. '<authority>:<code>' is the preferred initialization method. When making the change, be mindful of axis order changes: https://pyproj4.github.io/pyproj/stable/gotchas.html#axis-order-changes-in-proj-6\n",
      "  in_crs_string = _prepare_from_proj_string(in_crs_string)\n",
      "C:\\Users\\sm_pa\\AppData\\Local\\Temp\\ipykernel_7048\\678575862.py:7: FutureWarning: This function is deprecated. See: https://pyproj4.github.io/pyproj/stable/gotchas.html#upgrading-to-pyproj-2-from-pyproj-1\n",
      "  x, y = transform(Proj(init='epsg:4326'), utm40, lon, lat)  # Преобразование из WGS 84 (EPSG:4326) в UTM40\n",
      "C:\\Users\\sm_pa\\AppData\\Local\\Programs\\Python\\Python39\\lib\\site-packages\\pyproj\\crs\\crs.py:141: FutureWarning: '+init=<authority>:<code>' syntax is deprecated. '<authority>:<code>' is the preferred initialization method. When making the change, be mindful of axis order changes: https://pyproj4.github.io/pyproj/stable/gotchas.html#axis-order-changes-in-proj-6\n",
      "  in_crs_string = _prepare_from_proj_string(in_crs_string)\n",
      "C:\\Users\\sm_pa\\AppData\\Local\\Temp\\ipykernel_7048\\678575862.py:7: FutureWarning: This function is deprecated. See: https://pyproj4.github.io/pyproj/stable/gotchas.html#upgrading-to-pyproj-2-from-pyproj-1\n",
      "  x, y = transform(Proj(init='epsg:4326'), utm40, lon, lat)  # Преобразование из WGS 84 (EPSG:4326) в UTM40\n",
      "C:\\Users\\sm_pa\\AppData\\Local\\Programs\\Python\\Python39\\lib\\site-packages\\pyproj\\crs\\crs.py:141: FutureWarning: '+init=<authority>:<code>' syntax is deprecated. '<authority>:<code>' is the preferred initialization method. When making the change, be mindful of axis order changes: https://pyproj4.github.io/pyproj/stable/gotchas.html#axis-order-changes-in-proj-6\n",
      "  in_crs_string = _prepare_from_proj_string(in_crs_string)\n",
      "C:\\Users\\sm_pa\\AppData\\Local\\Temp\\ipykernel_7048\\678575862.py:7: FutureWarning: This function is deprecated. See: https://pyproj4.github.io/pyproj/stable/gotchas.html#upgrading-to-pyproj-2-from-pyproj-1\n",
      "  x, y = transform(Proj(init='epsg:4326'), utm40, lon, lat)  # Преобразование из WGS 84 (EPSG:4326) в UTM40\n",
      "C:\\Users\\sm_pa\\AppData\\Local\\Programs\\Python\\Python39\\lib\\site-packages\\pyproj\\crs\\crs.py:141: FutureWarning: '+init=<authority>:<code>' syntax is deprecated. '<authority>:<code>' is the preferred initialization method. When making the change, be mindful of axis order changes: https://pyproj4.github.io/pyproj/stable/gotchas.html#axis-order-changes-in-proj-6\n",
      "  in_crs_string = _prepare_from_proj_string(in_crs_string)\n",
      "C:\\Users\\sm_pa\\AppData\\Local\\Temp\\ipykernel_7048\\678575862.py:7: FutureWarning: This function is deprecated. See: https://pyproj4.github.io/pyproj/stable/gotchas.html#upgrading-to-pyproj-2-from-pyproj-1\n",
      "  x, y = transform(Proj(init='epsg:4326'), utm40, lon, lat)  # Преобразование из WGS 84 (EPSG:4326) в UTM40\n",
      "C:\\Users\\sm_pa\\AppData\\Local\\Programs\\Python\\Python39\\lib\\site-packages\\pyproj\\crs\\crs.py:141: FutureWarning: '+init=<authority>:<code>' syntax is deprecated. '<authority>:<code>' is the preferred initialization method. When making the change, be mindful of axis order changes: https://pyproj4.github.io/pyproj/stable/gotchas.html#axis-order-changes-in-proj-6\n",
      "  in_crs_string = _prepare_from_proj_string(in_crs_string)\n",
      "C:\\Users\\sm_pa\\AppData\\Local\\Temp\\ipykernel_7048\\678575862.py:7: FutureWarning: This function is deprecated. See: https://pyproj4.github.io/pyproj/stable/gotchas.html#upgrading-to-pyproj-2-from-pyproj-1\n",
      "  x, y = transform(Proj(init='epsg:4326'), utm40, lon, lat)  # Преобразование из WGS 84 (EPSG:4326) в UTM40\n",
      "C:\\Users\\sm_pa\\AppData\\Local\\Programs\\Python\\Python39\\lib\\site-packages\\pyproj\\crs\\crs.py:141: FutureWarning: '+init=<authority>:<code>' syntax is deprecated. '<authority>:<code>' is the preferred initialization method. When making the change, be mindful of axis order changes: https://pyproj4.github.io/pyproj/stable/gotchas.html#axis-order-changes-in-proj-6\n",
      "  in_crs_string = _prepare_from_proj_string(in_crs_string)\n",
      "C:\\Users\\sm_pa\\AppData\\Local\\Temp\\ipykernel_7048\\678575862.py:7: FutureWarning: This function is deprecated. See: https://pyproj4.github.io/pyproj/stable/gotchas.html#upgrading-to-pyproj-2-from-pyproj-1\n",
      "  x, y = transform(Proj(init='epsg:4326'), utm40, lon, lat)  # Преобразование из WGS 84 (EPSG:4326) в UTM40\n",
      "C:\\Users\\sm_pa\\AppData\\Local\\Programs\\Python\\Python39\\lib\\site-packages\\pyproj\\crs\\crs.py:141: FutureWarning: '+init=<authority>:<code>' syntax is deprecated. '<authority>:<code>' is the preferred initialization method. When making the change, be mindful of axis order changes: https://pyproj4.github.io/pyproj/stable/gotchas.html#axis-order-changes-in-proj-6\n",
      "  in_crs_string = _prepare_from_proj_string(in_crs_string)\n",
      "C:\\Users\\sm_pa\\AppData\\Local\\Temp\\ipykernel_7048\\678575862.py:7: FutureWarning: This function is deprecated. See: https://pyproj4.github.io/pyproj/stable/gotchas.html#upgrading-to-pyproj-2-from-pyproj-1\n",
      "  x, y = transform(Proj(init='epsg:4326'), utm40, lon, lat)  # Преобразование из WGS 84 (EPSG:4326) в UTM40\n",
      "C:\\Users\\sm_pa\\AppData\\Local\\Programs\\Python\\Python39\\lib\\site-packages\\pyproj\\crs\\crs.py:141: FutureWarning: '+init=<authority>:<code>' syntax is deprecated. '<authority>:<code>' is the preferred initialization method. When making the change, be mindful of axis order changes: https://pyproj4.github.io/pyproj/stable/gotchas.html#axis-order-changes-in-proj-6\n",
      "  in_crs_string = _prepare_from_proj_string(in_crs_string)\n",
      "C:\\Users\\sm_pa\\AppData\\Local\\Temp\\ipykernel_7048\\678575862.py:7: FutureWarning: This function is deprecated. See: https://pyproj4.github.io/pyproj/stable/gotchas.html#upgrading-to-pyproj-2-from-pyproj-1\n",
      "  x, y = transform(Proj(init='epsg:4326'), utm40, lon, lat)  # Преобразование из WGS 84 (EPSG:4326) в UTM40\n",
      "C:\\Users\\sm_pa\\AppData\\Local\\Programs\\Python\\Python39\\lib\\site-packages\\pyproj\\crs\\crs.py:141: FutureWarning: '+init=<authority>:<code>' syntax is deprecated. '<authority>:<code>' is the preferred initialization method. When making the change, be mindful of axis order changes: https://pyproj4.github.io/pyproj/stable/gotchas.html#axis-order-changes-in-proj-6\n",
      "  in_crs_string = _prepare_from_proj_string(in_crs_string)\n",
      "C:\\Users\\sm_pa\\AppData\\Local\\Temp\\ipykernel_7048\\678575862.py:7: FutureWarning: This function is deprecated. See: https://pyproj4.github.io/pyproj/stable/gotchas.html#upgrading-to-pyproj-2-from-pyproj-1\n",
      "  x, y = transform(Proj(init='epsg:4326'), utm40, lon, lat)  # Преобразование из WGS 84 (EPSG:4326) в UTM40\n",
      "C:\\Users\\sm_pa\\AppData\\Local\\Programs\\Python\\Python39\\lib\\site-packages\\pyproj\\crs\\crs.py:141: FutureWarning: '+init=<authority>:<code>' syntax is deprecated. '<authority>:<code>' is the preferred initialization method. When making the change, be mindful of axis order changes: https://pyproj4.github.io/pyproj/stable/gotchas.html#axis-order-changes-in-proj-6\n",
      "  in_crs_string = _prepare_from_proj_string(in_crs_string)\n",
      "C:\\Users\\sm_pa\\AppData\\Local\\Temp\\ipykernel_7048\\678575862.py:7: FutureWarning: This function is deprecated. See: https://pyproj4.github.io/pyproj/stable/gotchas.html#upgrading-to-pyproj-2-from-pyproj-1\n",
      "  x, y = transform(Proj(init='epsg:4326'), utm40, lon, lat)  # Преобразование из WGS 84 (EPSG:4326) в UTM40\n",
      "C:\\Users\\sm_pa\\AppData\\Local\\Programs\\Python\\Python39\\lib\\site-packages\\pyproj\\crs\\crs.py:141: FutureWarning: '+init=<authority>:<code>' syntax is deprecated. '<authority>:<code>' is the preferred initialization method. When making the change, be mindful of axis order changes: https://pyproj4.github.io/pyproj/stable/gotchas.html#axis-order-changes-in-proj-6\n",
      "  in_crs_string = _prepare_from_proj_string(in_crs_string)\n",
      "C:\\Users\\sm_pa\\AppData\\Local\\Temp\\ipykernel_7048\\678575862.py:7: FutureWarning: This function is deprecated. See: https://pyproj4.github.io/pyproj/stable/gotchas.html#upgrading-to-pyproj-2-from-pyproj-1\n",
      "  x, y = transform(Proj(init='epsg:4326'), utm40, lon, lat)  # Преобразование из WGS 84 (EPSG:4326) в UTM40\n",
      "C:\\Users\\sm_pa\\AppData\\Local\\Programs\\Python\\Python39\\lib\\site-packages\\pyproj\\crs\\crs.py:141: FutureWarning: '+init=<authority>:<code>' syntax is deprecated. '<authority>:<code>' is the preferred initialization method. When making the change, be mindful of axis order changes: https://pyproj4.github.io/pyproj/stable/gotchas.html#axis-order-changes-in-proj-6\n",
      "  in_crs_string = _prepare_from_proj_string(in_crs_string)\n",
      "C:\\Users\\sm_pa\\AppData\\Local\\Temp\\ipykernel_7048\\678575862.py:7: FutureWarning: This function is deprecated. See: https://pyproj4.github.io/pyproj/stable/gotchas.html#upgrading-to-pyproj-2-from-pyproj-1\n",
      "  x, y = transform(Proj(init='epsg:4326'), utm40, lon, lat)  # Преобразование из WGS 84 (EPSG:4326) в UTM40\n",
      "C:\\Users\\sm_pa\\AppData\\Local\\Programs\\Python\\Python39\\lib\\site-packages\\pyproj\\crs\\crs.py:141: FutureWarning: '+init=<authority>:<code>' syntax is deprecated. '<authority>:<code>' is the preferred initialization method. When making the change, be mindful of axis order changes: https://pyproj4.github.io/pyproj/stable/gotchas.html#axis-order-changes-in-proj-6\n",
      "  in_crs_string = _prepare_from_proj_string(in_crs_string)\n",
      "C:\\Users\\sm_pa\\AppData\\Local\\Temp\\ipykernel_7048\\678575862.py:7: FutureWarning: This function is deprecated. See: https://pyproj4.github.io/pyproj/stable/gotchas.html#upgrading-to-pyproj-2-from-pyproj-1\n",
      "  x, y = transform(Proj(init='epsg:4326'), utm40, lon, lat)  # Преобразование из WGS 84 (EPSG:4326) в UTM40\n",
      "C:\\Users\\sm_pa\\AppData\\Local\\Programs\\Python\\Python39\\lib\\site-packages\\pyproj\\crs\\crs.py:141: FutureWarning: '+init=<authority>:<code>' syntax is deprecated. '<authority>:<code>' is the preferred initialization method. When making the change, be mindful of axis order changes: https://pyproj4.github.io/pyproj/stable/gotchas.html#axis-order-changes-in-proj-6\n",
      "  in_crs_string = _prepare_from_proj_string(in_crs_string)\n",
      "C:\\Users\\sm_pa\\AppData\\Local\\Temp\\ipykernel_7048\\678575862.py:7: FutureWarning: This function is deprecated. See: https://pyproj4.github.io/pyproj/stable/gotchas.html#upgrading-to-pyproj-2-from-pyproj-1\n",
      "  x, y = transform(Proj(init='epsg:4326'), utm40, lon, lat)  # Преобразование из WGS 84 (EPSG:4326) в UTM40\n",
      "C:\\Users\\sm_pa\\AppData\\Local\\Programs\\Python\\Python39\\lib\\site-packages\\pyproj\\crs\\crs.py:141: FutureWarning: '+init=<authority>:<code>' syntax is deprecated. '<authority>:<code>' is the preferred initialization method. When making the change, be mindful of axis order changes: https://pyproj4.github.io/pyproj/stable/gotchas.html#axis-order-changes-in-proj-6\n",
      "  in_crs_string = _prepare_from_proj_string(in_crs_string)\n",
      "C:\\Users\\sm_pa\\AppData\\Local\\Temp\\ipykernel_7048\\678575862.py:7: FutureWarning: This function is deprecated. See: https://pyproj4.github.io/pyproj/stable/gotchas.html#upgrading-to-pyproj-2-from-pyproj-1\n",
      "  x, y = transform(Proj(init='epsg:4326'), utm40, lon, lat)  # Преобразование из WGS 84 (EPSG:4326) в UTM40\n",
      "C:\\Users\\sm_pa\\AppData\\Local\\Programs\\Python\\Python39\\lib\\site-packages\\pyproj\\crs\\crs.py:141: FutureWarning: '+init=<authority>:<code>' syntax is deprecated. '<authority>:<code>' is the preferred initialization method. When making the change, be mindful of axis order changes: https://pyproj4.github.io/pyproj/stable/gotchas.html#axis-order-changes-in-proj-6\n",
      "  in_crs_string = _prepare_from_proj_string(in_crs_string)\n",
      "C:\\Users\\sm_pa\\AppData\\Local\\Temp\\ipykernel_7048\\678575862.py:7: FutureWarning: This function is deprecated. See: https://pyproj4.github.io/pyproj/stable/gotchas.html#upgrading-to-pyproj-2-from-pyproj-1\n",
      "  x, y = transform(Proj(init='epsg:4326'), utm40, lon, lat)  # Преобразование из WGS 84 (EPSG:4326) в UTM40\n",
      "C:\\Users\\sm_pa\\AppData\\Local\\Programs\\Python\\Python39\\lib\\site-packages\\pyproj\\crs\\crs.py:141: FutureWarning: '+init=<authority>:<code>' syntax is deprecated. '<authority>:<code>' is the preferred initialization method. When making the change, be mindful of axis order changes: https://pyproj4.github.io/pyproj/stable/gotchas.html#axis-order-changes-in-proj-6\n",
      "  in_crs_string = _prepare_from_proj_string(in_crs_string)\n",
      "C:\\Users\\sm_pa\\AppData\\Local\\Temp\\ipykernel_7048\\678575862.py:7: FutureWarning: This function is deprecated. See: https://pyproj4.github.io/pyproj/stable/gotchas.html#upgrading-to-pyproj-2-from-pyproj-1\n",
      "  x, y = transform(Proj(init='epsg:4326'), utm40, lon, lat)  # Преобразование из WGS 84 (EPSG:4326) в UTM40\n",
      "C:\\Users\\sm_pa\\AppData\\Local\\Programs\\Python\\Python39\\lib\\site-packages\\pyproj\\crs\\crs.py:141: FutureWarning: '+init=<authority>:<code>' syntax is deprecated. '<authority>:<code>' is the preferred initialization method. When making the change, be mindful of axis order changes: https://pyproj4.github.io/pyproj/stable/gotchas.html#axis-order-changes-in-proj-6\n",
      "  in_crs_string = _prepare_from_proj_string(in_crs_string)\n",
      "C:\\Users\\sm_pa\\AppData\\Local\\Temp\\ipykernel_7048\\678575862.py:7: FutureWarning: This function is deprecated. See: https://pyproj4.github.io/pyproj/stable/gotchas.html#upgrading-to-pyproj-2-from-pyproj-1\n",
      "  x, y = transform(Proj(init='epsg:4326'), utm40, lon, lat)  # Преобразование из WGS 84 (EPSG:4326) в UTM40\n",
      "C:\\Users\\sm_pa\\AppData\\Local\\Programs\\Python\\Python39\\lib\\site-packages\\pyproj\\crs\\crs.py:141: FutureWarning: '+init=<authority>:<code>' syntax is deprecated. '<authority>:<code>' is the preferred initialization method. When making the change, be mindful of axis order changes: https://pyproj4.github.io/pyproj/stable/gotchas.html#axis-order-changes-in-proj-6\n",
      "  in_crs_string = _prepare_from_proj_string(in_crs_string)\n",
      "C:\\Users\\sm_pa\\AppData\\Local\\Temp\\ipykernel_7048\\678575862.py:7: FutureWarning: This function is deprecated. See: https://pyproj4.github.io/pyproj/stable/gotchas.html#upgrading-to-pyproj-2-from-pyproj-1\n",
      "  x, y = transform(Proj(init='epsg:4326'), utm40, lon, lat)  # Преобразование из WGS 84 (EPSG:4326) в UTM40\n",
      "C:\\Users\\sm_pa\\AppData\\Local\\Programs\\Python\\Python39\\lib\\site-packages\\pyproj\\crs\\crs.py:141: FutureWarning: '+init=<authority>:<code>' syntax is deprecated. '<authority>:<code>' is the preferred initialization method. When making the change, be mindful of axis order changes: https://pyproj4.github.io/pyproj/stable/gotchas.html#axis-order-changes-in-proj-6\n",
      "  in_crs_string = _prepare_from_proj_string(in_crs_string)\n",
      "C:\\Users\\sm_pa\\AppData\\Local\\Temp\\ipykernel_7048\\678575862.py:7: FutureWarning: This function is deprecated. See: https://pyproj4.github.io/pyproj/stable/gotchas.html#upgrading-to-pyproj-2-from-pyproj-1\n",
      "  x, y = transform(Proj(init='epsg:4326'), utm40, lon, lat)  # Преобразование из WGS 84 (EPSG:4326) в UTM40\n",
      "C:\\Users\\sm_pa\\AppData\\Local\\Programs\\Python\\Python39\\lib\\site-packages\\pyproj\\crs\\crs.py:141: FutureWarning: '+init=<authority>:<code>' syntax is deprecated. '<authority>:<code>' is the preferred initialization method. When making the change, be mindful of axis order changes: https://pyproj4.github.io/pyproj/stable/gotchas.html#axis-order-changes-in-proj-6\n",
      "  in_crs_string = _prepare_from_proj_string(in_crs_string)\n",
      "C:\\Users\\sm_pa\\AppData\\Local\\Temp\\ipykernel_7048\\678575862.py:7: FutureWarning: This function is deprecated. See: https://pyproj4.github.io/pyproj/stable/gotchas.html#upgrading-to-pyproj-2-from-pyproj-1\n",
      "  x, y = transform(Proj(init='epsg:4326'), utm40, lon, lat)  # Преобразование из WGS 84 (EPSG:4326) в UTM40\n",
      "C:\\Users\\sm_pa\\AppData\\Local\\Programs\\Python\\Python39\\lib\\site-packages\\pyproj\\crs\\crs.py:141: FutureWarning: '+init=<authority>:<code>' syntax is deprecated. '<authority>:<code>' is the preferred initialization method. When making the change, be mindful of axis order changes: https://pyproj4.github.io/pyproj/stable/gotchas.html#axis-order-changes-in-proj-6\n",
      "  in_crs_string = _prepare_from_proj_string(in_crs_string)\n",
      "C:\\Users\\sm_pa\\AppData\\Local\\Temp\\ipykernel_7048\\678575862.py:7: FutureWarning: This function is deprecated. See: https://pyproj4.github.io/pyproj/stable/gotchas.html#upgrading-to-pyproj-2-from-pyproj-1\n",
      "  x, y = transform(Proj(init='epsg:4326'), utm40, lon, lat)  # Преобразование из WGS 84 (EPSG:4326) в UTM40\n",
      "C:\\Users\\sm_pa\\AppData\\Local\\Programs\\Python\\Python39\\lib\\site-packages\\pyproj\\crs\\crs.py:141: FutureWarning: '+init=<authority>:<code>' syntax is deprecated. '<authority>:<code>' is the preferred initialization method. When making the change, be mindful of axis order changes: https://pyproj4.github.io/pyproj/stable/gotchas.html#axis-order-changes-in-proj-6\n",
      "  in_crs_string = _prepare_from_proj_string(in_crs_string)\n",
      "C:\\Users\\sm_pa\\AppData\\Local\\Temp\\ipykernel_7048\\678575862.py:7: FutureWarning: This function is deprecated. See: https://pyproj4.github.io/pyproj/stable/gotchas.html#upgrading-to-pyproj-2-from-pyproj-1\n",
      "  x, y = transform(Proj(init='epsg:4326'), utm40, lon, lat)  # Преобразование из WGS 84 (EPSG:4326) в UTM40\n",
      "C:\\Users\\sm_pa\\AppData\\Local\\Programs\\Python\\Python39\\lib\\site-packages\\pyproj\\crs\\crs.py:141: FutureWarning: '+init=<authority>:<code>' syntax is deprecated. '<authority>:<code>' is the preferred initialization method. When making the change, be mindful of axis order changes: https://pyproj4.github.io/pyproj/stable/gotchas.html#axis-order-changes-in-proj-6\n",
      "  in_crs_string = _prepare_from_proj_string(in_crs_string)\n",
      "C:\\Users\\sm_pa\\AppData\\Local\\Temp\\ipykernel_7048\\678575862.py:7: FutureWarning: This function is deprecated. See: https://pyproj4.github.io/pyproj/stable/gotchas.html#upgrading-to-pyproj-2-from-pyproj-1\n",
      "  x, y = transform(Proj(init='epsg:4326'), utm40, lon, lat)  # Преобразование из WGS 84 (EPSG:4326) в UTM40\n",
      "C:\\Users\\sm_pa\\AppData\\Local\\Programs\\Python\\Python39\\lib\\site-packages\\pyproj\\crs\\crs.py:141: FutureWarning: '+init=<authority>:<code>' syntax is deprecated. '<authority>:<code>' is the preferred initialization method. When making the change, be mindful of axis order changes: https://pyproj4.github.io/pyproj/stable/gotchas.html#axis-order-changes-in-proj-6\n",
      "  in_crs_string = _prepare_from_proj_string(in_crs_string)\n",
      "C:\\Users\\sm_pa\\AppData\\Local\\Temp\\ipykernel_7048\\678575862.py:7: FutureWarning: This function is deprecated. See: https://pyproj4.github.io/pyproj/stable/gotchas.html#upgrading-to-pyproj-2-from-pyproj-1\n",
      "  x, y = transform(Proj(init='epsg:4326'), utm40, lon, lat)  # Преобразование из WGS 84 (EPSG:4326) в UTM40\n",
      "C:\\Users\\sm_pa\\AppData\\Local\\Programs\\Python\\Python39\\lib\\site-packages\\pyproj\\crs\\crs.py:141: FutureWarning: '+init=<authority>:<code>' syntax is deprecated. '<authority>:<code>' is the preferred initialization method. When making the change, be mindful of axis order changes: https://pyproj4.github.io/pyproj/stable/gotchas.html#axis-order-changes-in-proj-6\n",
      "  in_crs_string = _prepare_from_proj_string(in_crs_string)\n",
      "C:\\Users\\sm_pa\\AppData\\Local\\Temp\\ipykernel_7048\\678575862.py:7: FutureWarning: This function is deprecated. See: https://pyproj4.github.io/pyproj/stable/gotchas.html#upgrading-to-pyproj-2-from-pyproj-1\n",
      "  x, y = transform(Proj(init='epsg:4326'), utm40, lon, lat)  # Преобразование из WGS 84 (EPSG:4326) в UTM40\n",
      "C:\\Users\\sm_pa\\AppData\\Local\\Programs\\Python\\Python39\\lib\\site-packages\\pyproj\\crs\\crs.py:141: FutureWarning: '+init=<authority>:<code>' syntax is deprecated. '<authority>:<code>' is the preferred initialization method. When making the change, be mindful of axis order changes: https://pyproj4.github.io/pyproj/stable/gotchas.html#axis-order-changes-in-proj-6\n",
      "  in_crs_string = _prepare_from_proj_string(in_crs_string)\n",
      "C:\\Users\\sm_pa\\AppData\\Local\\Temp\\ipykernel_7048\\678575862.py:7: FutureWarning: This function is deprecated. See: https://pyproj4.github.io/pyproj/stable/gotchas.html#upgrading-to-pyproj-2-from-pyproj-1\n",
      "  x, y = transform(Proj(init='epsg:4326'), utm40, lon, lat)  # Преобразование из WGS 84 (EPSG:4326) в UTM40\n",
      "C:\\Users\\sm_pa\\AppData\\Local\\Programs\\Python\\Python39\\lib\\site-packages\\pyproj\\crs\\crs.py:141: FutureWarning: '+init=<authority>:<code>' syntax is deprecated. '<authority>:<code>' is the preferred initialization method. When making the change, be mindful of axis order changes: https://pyproj4.github.io/pyproj/stable/gotchas.html#axis-order-changes-in-proj-6\n",
      "  in_crs_string = _prepare_from_proj_string(in_crs_string)\n",
      "C:\\Users\\sm_pa\\AppData\\Local\\Temp\\ipykernel_7048\\678575862.py:7: FutureWarning: This function is deprecated. See: https://pyproj4.github.io/pyproj/stable/gotchas.html#upgrading-to-pyproj-2-from-pyproj-1\n",
      "  x, y = transform(Proj(init='epsg:4326'), utm40, lon, lat)  # Преобразование из WGS 84 (EPSG:4326) в UTM40\n",
      "C:\\Users\\sm_pa\\AppData\\Local\\Programs\\Python\\Python39\\lib\\site-packages\\pyproj\\crs\\crs.py:141: FutureWarning: '+init=<authority>:<code>' syntax is deprecated. '<authority>:<code>' is the preferred initialization method. When making the change, be mindful of axis order changes: https://pyproj4.github.io/pyproj/stable/gotchas.html#axis-order-changes-in-proj-6\n",
      "  in_crs_string = _prepare_from_proj_string(in_crs_string)\n",
      "C:\\Users\\sm_pa\\AppData\\Local\\Temp\\ipykernel_7048\\678575862.py:7: FutureWarning: This function is deprecated. See: https://pyproj4.github.io/pyproj/stable/gotchas.html#upgrading-to-pyproj-2-from-pyproj-1\n",
      "  x, y = transform(Proj(init='epsg:4326'), utm40, lon, lat)  # Преобразование из WGS 84 (EPSG:4326) в UTM40\n",
      "C:\\Users\\sm_pa\\AppData\\Local\\Programs\\Python\\Python39\\lib\\site-packages\\pyproj\\crs\\crs.py:141: FutureWarning: '+init=<authority>:<code>' syntax is deprecated. '<authority>:<code>' is the preferred initialization method. When making the change, be mindful of axis order changes: https://pyproj4.github.io/pyproj/stable/gotchas.html#axis-order-changes-in-proj-6\n",
      "  in_crs_string = _prepare_from_proj_string(in_crs_string)\n",
      "C:\\Users\\sm_pa\\AppData\\Local\\Temp\\ipykernel_7048\\678575862.py:7: FutureWarning: This function is deprecated. See: https://pyproj4.github.io/pyproj/stable/gotchas.html#upgrading-to-pyproj-2-from-pyproj-1\n",
      "  x, y = transform(Proj(init='epsg:4326'), utm40, lon, lat)  # Преобразование из WGS 84 (EPSG:4326) в UTM40\n",
      "C:\\Users\\sm_pa\\AppData\\Local\\Programs\\Python\\Python39\\lib\\site-packages\\pyproj\\crs\\crs.py:141: FutureWarning: '+init=<authority>:<code>' syntax is deprecated. '<authority>:<code>' is the preferred initialization method. When making the change, be mindful of axis order changes: https://pyproj4.github.io/pyproj/stable/gotchas.html#axis-order-changes-in-proj-6\n",
      "  in_crs_string = _prepare_from_proj_string(in_crs_string)\n",
      "C:\\Users\\sm_pa\\AppData\\Local\\Temp\\ipykernel_7048\\678575862.py:7: FutureWarning: This function is deprecated. See: https://pyproj4.github.io/pyproj/stable/gotchas.html#upgrading-to-pyproj-2-from-pyproj-1\n",
      "  x, y = transform(Proj(init='epsg:4326'), utm40, lon, lat)  # Преобразование из WGS 84 (EPSG:4326) в UTM40\n",
      "C:\\Users\\sm_pa\\AppData\\Local\\Programs\\Python\\Python39\\lib\\site-packages\\pyproj\\crs\\crs.py:141: FutureWarning: '+init=<authority>:<code>' syntax is deprecated. '<authority>:<code>' is the preferred initialization method. When making the change, be mindful of axis order changes: https://pyproj4.github.io/pyproj/stable/gotchas.html#axis-order-changes-in-proj-6\n",
      "  in_crs_string = _prepare_from_proj_string(in_crs_string)\n",
      "C:\\Users\\sm_pa\\AppData\\Local\\Temp\\ipykernel_7048\\678575862.py:7: FutureWarning: This function is deprecated. See: https://pyproj4.github.io/pyproj/stable/gotchas.html#upgrading-to-pyproj-2-from-pyproj-1\n",
      "  x, y = transform(Proj(init='epsg:4326'), utm40, lon, lat)  # Преобразование из WGS 84 (EPSG:4326) в UTM40\n",
      "C:\\Users\\sm_pa\\AppData\\Local\\Programs\\Python\\Python39\\lib\\site-packages\\pyproj\\crs\\crs.py:141: FutureWarning: '+init=<authority>:<code>' syntax is deprecated. '<authority>:<code>' is the preferred initialization method. When making the change, be mindful of axis order changes: https://pyproj4.github.io/pyproj/stable/gotchas.html#axis-order-changes-in-proj-6\n",
      "  in_crs_string = _prepare_from_proj_string(in_crs_string)\n",
      "C:\\Users\\sm_pa\\AppData\\Local\\Temp\\ipykernel_7048\\678575862.py:7: FutureWarning: This function is deprecated. See: https://pyproj4.github.io/pyproj/stable/gotchas.html#upgrading-to-pyproj-2-from-pyproj-1\n",
      "  x, y = transform(Proj(init='epsg:4326'), utm40, lon, lat)  # Преобразование из WGS 84 (EPSG:4326) в UTM40\n",
      "C:\\Users\\sm_pa\\AppData\\Local\\Programs\\Python\\Python39\\lib\\site-packages\\pyproj\\crs\\crs.py:141: FutureWarning: '+init=<authority>:<code>' syntax is deprecated. '<authority>:<code>' is the preferred initialization method. When making the change, be mindful of axis order changes: https://pyproj4.github.io/pyproj/stable/gotchas.html#axis-order-changes-in-proj-6\n",
      "  in_crs_string = _prepare_from_proj_string(in_crs_string)\n",
      "C:\\Users\\sm_pa\\AppData\\Local\\Temp\\ipykernel_7048\\678575862.py:7: FutureWarning: This function is deprecated. See: https://pyproj4.github.io/pyproj/stable/gotchas.html#upgrading-to-pyproj-2-from-pyproj-1\n",
      "  x, y = transform(Proj(init='epsg:4326'), utm40, lon, lat)  # Преобразование из WGS 84 (EPSG:4326) в UTM40\n",
      "C:\\Users\\sm_pa\\AppData\\Local\\Programs\\Python\\Python39\\lib\\site-packages\\pyproj\\crs\\crs.py:141: FutureWarning: '+init=<authority>:<code>' syntax is deprecated. '<authority>:<code>' is the preferred initialization method. When making the change, be mindful of axis order changes: https://pyproj4.github.io/pyproj/stable/gotchas.html#axis-order-changes-in-proj-6\n",
      "  in_crs_string = _prepare_from_proj_string(in_crs_string)\n",
      "C:\\Users\\sm_pa\\AppData\\Local\\Temp\\ipykernel_7048\\678575862.py:7: FutureWarning: This function is deprecated. See: https://pyproj4.github.io/pyproj/stable/gotchas.html#upgrading-to-pyproj-2-from-pyproj-1\n",
      "  x, y = transform(Proj(init='epsg:4326'), utm40, lon, lat)  # Преобразование из WGS 84 (EPSG:4326) в UTM40\n",
      "C:\\Users\\sm_pa\\AppData\\Local\\Programs\\Python\\Python39\\lib\\site-packages\\pyproj\\crs\\crs.py:141: FutureWarning: '+init=<authority>:<code>' syntax is deprecated. '<authority>:<code>' is the preferred initialization method. When making the change, be mindful of axis order changes: https://pyproj4.github.io/pyproj/stable/gotchas.html#axis-order-changes-in-proj-6\n",
      "  in_crs_string = _prepare_from_proj_string(in_crs_string)\n",
      "C:\\Users\\sm_pa\\AppData\\Local\\Temp\\ipykernel_7048\\678575862.py:7: FutureWarning: This function is deprecated. See: https://pyproj4.github.io/pyproj/stable/gotchas.html#upgrading-to-pyproj-2-from-pyproj-1\n",
      "  x, y = transform(Proj(init='epsg:4326'), utm40, lon, lat)  # Преобразование из WGS 84 (EPSG:4326) в UTM40\n",
      "C:\\Users\\sm_pa\\AppData\\Local\\Programs\\Python\\Python39\\lib\\site-packages\\pyproj\\crs\\crs.py:141: FutureWarning: '+init=<authority>:<code>' syntax is deprecated. '<authority>:<code>' is the preferred initialization method. When making the change, be mindful of axis order changes: https://pyproj4.github.io/pyproj/stable/gotchas.html#axis-order-changes-in-proj-6\n",
      "  in_crs_string = _prepare_from_proj_string(in_crs_string)\n",
      "C:\\Users\\sm_pa\\AppData\\Local\\Temp\\ipykernel_7048\\678575862.py:7: FutureWarning: This function is deprecated. See: https://pyproj4.github.io/pyproj/stable/gotchas.html#upgrading-to-pyproj-2-from-pyproj-1\n",
      "  x, y = transform(Proj(init='epsg:4326'), utm40, lon, lat)  # Преобразование из WGS 84 (EPSG:4326) в UTM40\n",
      "C:\\Users\\sm_pa\\AppData\\Local\\Programs\\Python\\Python39\\lib\\site-packages\\pyproj\\crs\\crs.py:141: FutureWarning: '+init=<authority>:<code>' syntax is deprecated. '<authority>:<code>' is the preferred initialization method. When making the change, be mindful of axis order changes: https://pyproj4.github.io/pyproj/stable/gotchas.html#axis-order-changes-in-proj-6\n",
      "  in_crs_string = _prepare_from_proj_string(in_crs_string)\n",
      "C:\\Users\\sm_pa\\AppData\\Local\\Temp\\ipykernel_7048\\678575862.py:7: FutureWarning: This function is deprecated. See: https://pyproj4.github.io/pyproj/stable/gotchas.html#upgrading-to-pyproj-2-from-pyproj-1\n",
      "  x, y = transform(Proj(init='epsg:4326'), utm40, lon, lat)  # Преобразование из WGS 84 (EPSG:4326) в UTM40\n",
      "C:\\Users\\sm_pa\\AppData\\Local\\Programs\\Python\\Python39\\lib\\site-packages\\pyproj\\crs\\crs.py:141: FutureWarning: '+init=<authority>:<code>' syntax is deprecated. '<authority>:<code>' is the preferred initialization method. When making the change, be mindful of axis order changes: https://pyproj4.github.io/pyproj/stable/gotchas.html#axis-order-changes-in-proj-6\n",
      "  in_crs_string = _prepare_from_proj_string(in_crs_string)\n",
      "C:\\Users\\sm_pa\\AppData\\Local\\Temp\\ipykernel_7048\\678575862.py:7: FutureWarning: This function is deprecated. See: https://pyproj4.github.io/pyproj/stable/gotchas.html#upgrading-to-pyproj-2-from-pyproj-1\n",
      "  x, y = transform(Proj(init='epsg:4326'), utm40, lon, lat)  # Преобразование из WGS 84 (EPSG:4326) в UTM40\n",
      "C:\\Users\\sm_pa\\AppData\\Local\\Programs\\Python\\Python39\\lib\\site-packages\\pyproj\\crs\\crs.py:141: FutureWarning: '+init=<authority>:<code>' syntax is deprecated. '<authority>:<code>' is the preferred initialization method. When making the change, be mindful of axis order changes: https://pyproj4.github.io/pyproj/stable/gotchas.html#axis-order-changes-in-proj-6\n",
      "  in_crs_string = _prepare_from_proj_string(in_crs_string)\n",
      "C:\\Users\\sm_pa\\AppData\\Local\\Temp\\ipykernel_7048\\678575862.py:7: FutureWarning: This function is deprecated. See: https://pyproj4.github.io/pyproj/stable/gotchas.html#upgrading-to-pyproj-2-from-pyproj-1\n",
      "  x, y = transform(Proj(init='epsg:4326'), utm40, lon, lat)  # Преобразование из WGS 84 (EPSG:4326) в UTM40\n",
      "C:\\Users\\sm_pa\\AppData\\Local\\Programs\\Python\\Python39\\lib\\site-packages\\pyproj\\crs\\crs.py:141: FutureWarning: '+init=<authority>:<code>' syntax is deprecated. '<authority>:<code>' is the preferred initialization method. When making the change, be mindful of axis order changes: https://pyproj4.github.io/pyproj/stable/gotchas.html#axis-order-changes-in-proj-6\n",
      "  in_crs_string = _prepare_from_proj_string(in_crs_string)\n",
      "C:\\Users\\sm_pa\\AppData\\Local\\Temp\\ipykernel_7048\\678575862.py:7: FutureWarning: This function is deprecated. See: https://pyproj4.github.io/pyproj/stable/gotchas.html#upgrading-to-pyproj-2-from-pyproj-1\n",
      "  x, y = transform(Proj(init='epsg:4326'), utm40, lon, lat)  # Преобразование из WGS 84 (EPSG:4326) в UTM40\n",
      "C:\\Users\\sm_pa\\AppData\\Local\\Programs\\Python\\Python39\\lib\\site-packages\\pyproj\\crs\\crs.py:141: FutureWarning: '+init=<authority>:<code>' syntax is deprecated. '<authority>:<code>' is the preferred initialization method. When making the change, be mindful of axis order changes: https://pyproj4.github.io/pyproj/stable/gotchas.html#axis-order-changes-in-proj-6\n",
      "  in_crs_string = _prepare_from_proj_string(in_crs_string)\n",
      "C:\\Users\\sm_pa\\AppData\\Local\\Temp\\ipykernel_7048\\678575862.py:7: FutureWarning: This function is deprecated. See: https://pyproj4.github.io/pyproj/stable/gotchas.html#upgrading-to-pyproj-2-from-pyproj-1\n",
      "  x, y = transform(Proj(init='epsg:4326'), utm40, lon, lat)  # Преобразование из WGS 84 (EPSG:4326) в UTM40\n",
      "C:\\Users\\sm_pa\\AppData\\Local\\Programs\\Python\\Python39\\lib\\site-packages\\pyproj\\crs\\crs.py:141: FutureWarning: '+init=<authority>:<code>' syntax is deprecated. '<authority>:<code>' is the preferred initialization method. When making the change, be mindful of axis order changes: https://pyproj4.github.io/pyproj/stable/gotchas.html#axis-order-changes-in-proj-6\n",
      "  in_crs_string = _prepare_from_proj_string(in_crs_string)\n",
      "C:\\Users\\sm_pa\\AppData\\Local\\Temp\\ipykernel_7048\\678575862.py:7: FutureWarning: This function is deprecated. See: https://pyproj4.github.io/pyproj/stable/gotchas.html#upgrading-to-pyproj-2-from-pyproj-1\n",
      "  x, y = transform(Proj(init='epsg:4326'), utm40, lon, lat)  # Преобразование из WGS 84 (EPSG:4326) в UTM40\n",
      "C:\\Users\\sm_pa\\AppData\\Local\\Programs\\Python\\Python39\\lib\\site-packages\\pyproj\\crs\\crs.py:141: FutureWarning: '+init=<authority>:<code>' syntax is deprecated. '<authority>:<code>' is the preferred initialization method. When making the change, be mindful of axis order changes: https://pyproj4.github.io/pyproj/stable/gotchas.html#axis-order-changes-in-proj-6\n",
      "  in_crs_string = _prepare_from_proj_string(in_crs_string)\n",
      "C:\\Users\\sm_pa\\AppData\\Local\\Temp\\ipykernel_7048\\678575862.py:7: FutureWarning: This function is deprecated. See: https://pyproj4.github.io/pyproj/stable/gotchas.html#upgrading-to-pyproj-2-from-pyproj-1\n",
      "  x, y = transform(Proj(init='epsg:4326'), utm40, lon, lat)  # Преобразование из WGS 84 (EPSG:4326) в UTM40\n",
      "C:\\Users\\sm_pa\\AppData\\Local\\Programs\\Python\\Python39\\lib\\site-packages\\pyproj\\crs\\crs.py:141: FutureWarning: '+init=<authority>:<code>' syntax is deprecated. '<authority>:<code>' is the preferred initialization method. When making the change, be mindful of axis order changes: https://pyproj4.github.io/pyproj/stable/gotchas.html#axis-order-changes-in-proj-6\n",
      "  in_crs_string = _prepare_from_proj_string(in_crs_string)\n",
      "C:\\Users\\sm_pa\\AppData\\Local\\Temp\\ipykernel_7048\\678575862.py:7: FutureWarning: This function is deprecated. See: https://pyproj4.github.io/pyproj/stable/gotchas.html#upgrading-to-pyproj-2-from-pyproj-1\n",
      "  x, y = transform(Proj(init='epsg:4326'), utm40, lon, lat)  # Преобразование из WGS 84 (EPSG:4326) в UTM40\n",
      "C:\\Users\\sm_pa\\AppData\\Local\\Programs\\Python\\Python39\\lib\\site-packages\\pyproj\\crs\\crs.py:141: FutureWarning: '+init=<authority>:<code>' syntax is deprecated. '<authority>:<code>' is the preferred initialization method. When making the change, be mindful of axis order changes: https://pyproj4.github.io/pyproj/stable/gotchas.html#axis-order-changes-in-proj-6\n",
      "  in_crs_string = _prepare_from_proj_string(in_crs_string)\n",
      "C:\\Users\\sm_pa\\AppData\\Local\\Temp\\ipykernel_7048\\678575862.py:7: FutureWarning: This function is deprecated. See: https://pyproj4.github.io/pyproj/stable/gotchas.html#upgrading-to-pyproj-2-from-pyproj-1\n",
      "  x, y = transform(Proj(init='epsg:4326'), utm40, lon, lat)  # Преобразование из WGS 84 (EPSG:4326) в UTM40\n",
      "C:\\Users\\sm_pa\\AppData\\Local\\Programs\\Python\\Python39\\lib\\site-packages\\pyproj\\crs\\crs.py:141: FutureWarning: '+init=<authority>:<code>' syntax is deprecated. '<authority>:<code>' is the preferred initialization method. When making the change, be mindful of axis order changes: https://pyproj4.github.io/pyproj/stable/gotchas.html#axis-order-changes-in-proj-6\n",
      "  in_crs_string = _prepare_from_proj_string(in_crs_string)\n",
      "C:\\Users\\sm_pa\\AppData\\Local\\Temp\\ipykernel_7048\\678575862.py:7: FutureWarning: This function is deprecated. See: https://pyproj4.github.io/pyproj/stable/gotchas.html#upgrading-to-pyproj-2-from-pyproj-1\n",
      "  x, y = transform(Proj(init='epsg:4326'), utm40, lon, lat)  # Преобразование из WGS 84 (EPSG:4326) в UTM40\n",
      "C:\\Users\\sm_pa\\AppData\\Local\\Programs\\Python\\Python39\\lib\\site-packages\\pyproj\\crs\\crs.py:141: FutureWarning: '+init=<authority>:<code>' syntax is deprecated. '<authority>:<code>' is the preferred initialization method. When making the change, be mindful of axis order changes: https://pyproj4.github.io/pyproj/stable/gotchas.html#axis-order-changes-in-proj-6\n",
      "  in_crs_string = _prepare_from_proj_string(in_crs_string)\n",
      "C:\\Users\\sm_pa\\AppData\\Local\\Temp\\ipykernel_7048\\678575862.py:7: FutureWarning: This function is deprecated. See: https://pyproj4.github.io/pyproj/stable/gotchas.html#upgrading-to-pyproj-2-from-pyproj-1\n",
      "  x, y = transform(Proj(init='epsg:4326'), utm40, lon, lat)  # Преобразование из WGS 84 (EPSG:4326) в UTM40\n",
      "C:\\Users\\sm_pa\\AppData\\Local\\Programs\\Python\\Python39\\lib\\site-packages\\pyproj\\crs\\crs.py:141: FutureWarning: '+init=<authority>:<code>' syntax is deprecated. '<authority>:<code>' is the preferred initialization method. When making the change, be mindful of axis order changes: https://pyproj4.github.io/pyproj/stable/gotchas.html#axis-order-changes-in-proj-6\n",
      "  in_crs_string = _prepare_from_proj_string(in_crs_string)\n",
      "C:\\Users\\sm_pa\\AppData\\Local\\Temp\\ipykernel_7048\\678575862.py:7: FutureWarning: This function is deprecated. See: https://pyproj4.github.io/pyproj/stable/gotchas.html#upgrading-to-pyproj-2-from-pyproj-1\n",
      "  x, y = transform(Proj(init='epsg:4326'), utm40, lon, lat)  # Преобразование из WGS 84 (EPSG:4326) в UTM40\n",
      "C:\\Users\\sm_pa\\AppData\\Local\\Programs\\Python\\Python39\\lib\\site-packages\\pyproj\\crs\\crs.py:141: FutureWarning: '+init=<authority>:<code>' syntax is deprecated. '<authority>:<code>' is the preferred initialization method. When making the change, be mindful of axis order changes: https://pyproj4.github.io/pyproj/stable/gotchas.html#axis-order-changes-in-proj-6\n",
      "  in_crs_string = _prepare_from_proj_string(in_crs_string)\n",
      "C:\\Users\\sm_pa\\AppData\\Local\\Temp\\ipykernel_7048\\678575862.py:7: FutureWarning: This function is deprecated. See: https://pyproj4.github.io/pyproj/stable/gotchas.html#upgrading-to-pyproj-2-from-pyproj-1\n",
      "  x, y = transform(Proj(init='epsg:4326'), utm40, lon, lat)  # Преобразование из WGS 84 (EPSG:4326) в UTM40\n",
      "C:\\Users\\sm_pa\\AppData\\Local\\Programs\\Python\\Python39\\lib\\site-packages\\pyproj\\crs\\crs.py:141: FutureWarning: '+init=<authority>:<code>' syntax is deprecated. '<authority>:<code>' is the preferred initialization method. When making the change, be mindful of axis order changes: https://pyproj4.github.io/pyproj/stable/gotchas.html#axis-order-changes-in-proj-6\n",
      "  in_crs_string = _prepare_from_proj_string(in_crs_string)\n",
      "C:\\Users\\sm_pa\\AppData\\Local\\Temp\\ipykernel_7048\\678575862.py:7: FutureWarning: This function is deprecated. See: https://pyproj4.github.io/pyproj/stable/gotchas.html#upgrading-to-pyproj-2-from-pyproj-1\n",
      "  x, y = transform(Proj(init='epsg:4326'), utm40, lon, lat)  # Преобразование из WGS 84 (EPSG:4326) в UTM40\n",
      "C:\\Users\\sm_pa\\AppData\\Local\\Programs\\Python\\Python39\\lib\\site-packages\\pyproj\\crs\\crs.py:141: FutureWarning: '+init=<authority>:<code>' syntax is deprecated. '<authority>:<code>' is the preferred initialization method. When making the change, be mindful of axis order changes: https://pyproj4.github.io/pyproj/stable/gotchas.html#axis-order-changes-in-proj-6\n",
      "  in_crs_string = _prepare_from_proj_string(in_crs_string)\n",
      "C:\\Users\\sm_pa\\AppData\\Local\\Temp\\ipykernel_7048\\678575862.py:7: FutureWarning: This function is deprecated. See: https://pyproj4.github.io/pyproj/stable/gotchas.html#upgrading-to-pyproj-2-from-pyproj-1\n",
      "  x, y = transform(Proj(init='epsg:4326'), utm40, lon, lat)  # Преобразование из WGS 84 (EPSG:4326) в UTM40\n",
      "C:\\Users\\sm_pa\\AppData\\Local\\Programs\\Python\\Python39\\lib\\site-packages\\pyproj\\crs\\crs.py:141: FutureWarning: '+init=<authority>:<code>' syntax is deprecated. '<authority>:<code>' is the preferred initialization method. When making the change, be mindful of axis order changes: https://pyproj4.github.io/pyproj/stable/gotchas.html#axis-order-changes-in-proj-6\n",
      "  in_crs_string = _prepare_from_proj_string(in_crs_string)\n",
      "C:\\Users\\sm_pa\\AppData\\Local\\Temp\\ipykernel_7048\\678575862.py:7: FutureWarning: This function is deprecated. See: https://pyproj4.github.io/pyproj/stable/gotchas.html#upgrading-to-pyproj-2-from-pyproj-1\n",
      "  x, y = transform(Proj(init='epsg:4326'), utm40, lon, lat)  # Преобразование из WGS 84 (EPSG:4326) в UTM40\n",
      "C:\\Users\\sm_pa\\AppData\\Local\\Programs\\Python\\Python39\\lib\\site-packages\\pyproj\\crs\\crs.py:141: FutureWarning: '+init=<authority>:<code>' syntax is deprecated. '<authority>:<code>' is the preferred initialization method. When making the change, be mindful of axis order changes: https://pyproj4.github.io/pyproj/stable/gotchas.html#axis-order-changes-in-proj-6\n",
      "  in_crs_string = _prepare_from_proj_string(in_crs_string)\n",
      "C:\\Users\\sm_pa\\AppData\\Local\\Temp\\ipykernel_7048\\678575862.py:7: FutureWarning: This function is deprecated. See: https://pyproj4.github.io/pyproj/stable/gotchas.html#upgrading-to-pyproj-2-from-pyproj-1\n",
      "  x, y = transform(Proj(init='epsg:4326'), utm40, lon, lat)  # Преобразование из WGS 84 (EPSG:4326) в UTM40\n",
      "C:\\Users\\sm_pa\\AppData\\Local\\Programs\\Python\\Python39\\lib\\site-packages\\pyproj\\crs\\crs.py:141: FutureWarning: '+init=<authority>:<code>' syntax is deprecated. '<authority>:<code>' is the preferred initialization method. When making the change, be mindful of axis order changes: https://pyproj4.github.io/pyproj/stable/gotchas.html#axis-order-changes-in-proj-6\n",
      "  in_crs_string = _prepare_from_proj_string(in_crs_string)\n",
      "C:\\Users\\sm_pa\\AppData\\Local\\Temp\\ipykernel_7048\\678575862.py:7: FutureWarning: This function is deprecated. See: https://pyproj4.github.io/pyproj/stable/gotchas.html#upgrading-to-pyproj-2-from-pyproj-1\n",
      "  x, y = transform(Proj(init='epsg:4326'), utm40, lon, lat)  # Преобразование из WGS 84 (EPSG:4326) в UTM40\n",
      "C:\\Users\\sm_pa\\AppData\\Local\\Programs\\Python\\Python39\\lib\\site-packages\\pyproj\\crs\\crs.py:141: FutureWarning: '+init=<authority>:<code>' syntax is deprecated. '<authority>:<code>' is the preferred initialization method. When making the change, be mindful of axis order changes: https://pyproj4.github.io/pyproj/stable/gotchas.html#axis-order-changes-in-proj-6\n",
      "  in_crs_string = _prepare_from_proj_string(in_crs_string)\n",
      "C:\\Users\\sm_pa\\AppData\\Local\\Temp\\ipykernel_7048\\678575862.py:7: FutureWarning: This function is deprecated. See: https://pyproj4.github.io/pyproj/stable/gotchas.html#upgrading-to-pyproj-2-from-pyproj-1\n",
      "  x, y = transform(Proj(init='epsg:4326'), utm40, lon, lat)  # Преобразование из WGS 84 (EPSG:4326) в UTM40\n",
      "C:\\Users\\sm_pa\\AppData\\Local\\Programs\\Python\\Python39\\lib\\site-packages\\pyproj\\crs\\crs.py:141: FutureWarning: '+init=<authority>:<code>' syntax is deprecated. '<authority>:<code>' is the preferred initialization method. When making the change, be mindful of axis order changes: https://pyproj4.github.io/pyproj/stable/gotchas.html#axis-order-changes-in-proj-6\n",
      "  in_crs_string = _prepare_from_proj_string(in_crs_string)\n",
      "C:\\Users\\sm_pa\\AppData\\Local\\Temp\\ipykernel_7048\\678575862.py:7: FutureWarning: This function is deprecated. See: https://pyproj4.github.io/pyproj/stable/gotchas.html#upgrading-to-pyproj-2-from-pyproj-1\n",
      "  x, y = transform(Proj(init='epsg:4326'), utm40, lon, lat)  # Преобразование из WGS 84 (EPSG:4326) в UTM40\n",
      "C:\\Users\\sm_pa\\AppData\\Local\\Programs\\Python\\Python39\\lib\\site-packages\\pyproj\\crs\\crs.py:141: FutureWarning: '+init=<authority>:<code>' syntax is deprecated. '<authority>:<code>' is the preferred initialization method. When making the change, be mindful of axis order changes: https://pyproj4.github.io/pyproj/stable/gotchas.html#axis-order-changes-in-proj-6\n",
      "  in_crs_string = _prepare_from_proj_string(in_crs_string)\n",
      "C:\\Users\\sm_pa\\AppData\\Local\\Temp\\ipykernel_7048\\678575862.py:7: FutureWarning: This function is deprecated. See: https://pyproj4.github.io/pyproj/stable/gotchas.html#upgrading-to-pyproj-2-from-pyproj-1\n",
      "  x, y = transform(Proj(init='epsg:4326'), utm40, lon, lat)  # Преобразование из WGS 84 (EPSG:4326) в UTM40\n",
      "C:\\Users\\sm_pa\\AppData\\Local\\Programs\\Python\\Python39\\lib\\site-packages\\pyproj\\crs\\crs.py:141: FutureWarning: '+init=<authority>:<code>' syntax is deprecated. '<authority>:<code>' is the preferred initialization method. When making the change, be mindful of axis order changes: https://pyproj4.github.io/pyproj/stable/gotchas.html#axis-order-changes-in-proj-6\n",
      "  in_crs_string = _prepare_from_proj_string(in_crs_string)\n",
      "C:\\Users\\sm_pa\\AppData\\Local\\Temp\\ipykernel_7048\\678575862.py:7: FutureWarning: This function is deprecated. See: https://pyproj4.github.io/pyproj/stable/gotchas.html#upgrading-to-pyproj-2-from-pyproj-1\n",
      "  x, y = transform(Proj(init='epsg:4326'), utm40, lon, lat)  # Преобразование из WGS 84 (EPSG:4326) в UTM40\n",
      "C:\\Users\\sm_pa\\AppData\\Local\\Programs\\Python\\Python39\\lib\\site-packages\\pyproj\\crs\\crs.py:141: FutureWarning: '+init=<authority>:<code>' syntax is deprecated. '<authority>:<code>' is the preferred initialization method. When making the change, be mindful of axis order changes: https://pyproj4.github.io/pyproj/stable/gotchas.html#axis-order-changes-in-proj-6\n",
      "  in_crs_string = _prepare_from_proj_string(in_crs_string)\n",
      "C:\\Users\\sm_pa\\AppData\\Local\\Temp\\ipykernel_7048\\678575862.py:7: FutureWarning: This function is deprecated. See: https://pyproj4.github.io/pyproj/stable/gotchas.html#upgrading-to-pyproj-2-from-pyproj-1\n",
      "  x, y = transform(Proj(init='epsg:4326'), utm40, lon, lat)  # Преобразование из WGS 84 (EPSG:4326) в UTM40\n",
      "C:\\Users\\sm_pa\\AppData\\Local\\Programs\\Python\\Python39\\lib\\site-packages\\pyproj\\crs\\crs.py:141: FutureWarning: '+init=<authority>:<code>' syntax is deprecated. '<authority>:<code>' is the preferred initialization method. When making the change, be mindful of axis order changes: https://pyproj4.github.io/pyproj/stable/gotchas.html#axis-order-changes-in-proj-6\n",
      "  in_crs_string = _prepare_from_proj_string(in_crs_string)\n",
      "C:\\Users\\sm_pa\\AppData\\Local\\Temp\\ipykernel_7048\\678575862.py:7: FutureWarning: This function is deprecated. See: https://pyproj4.github.io/pyproj/stable/gotchas.html#upgrading-to-pyproj-2-from-pyproj-1\n",
      "  x, y = transform(Proj(init='epsg:4326'), utm40, lon, lat)  # Преобразование из WGS 84 (EPSG:4326) в UTM40\n",
      "C:\\Users\\sm_pa\\AppData\\Local\\Programs\\Python\\Python39\\lib\\site-packages\\pyproj\\crs\\crs.py:141: FutureWarning: '+init=<authority>:<code>' syntax is deprecated. '<authority>:<code>' is the preferred initialization method. When making the change, be mindful of axis order changes: https://pyproj4.github.io/pyproj/stable/gotchas.html#axis-order-changes-in-proj-6\n",
      "  in_crs_string = _prepare_from_proj_string(in_crs_string)\n",
      "C:\\Users\\sm_pa\\AppData\\Local\\Temp\\ipykernel_7048\\678575862.py:7: FutureWarning: This function is deprecated. See: https://pyproj4.github.io/pyproj/stable/gotchas.html#upgrading-to-pyproj-2-from-pyproj-1\n",
      "  x, y = transform(Proj(init='epsg:4326'), utm40, lon, lat)  # Преобразование из WGS 84 (EPSG:4326) в UTM40\n",
      "C:\\Users\\sm_pa\\AppData\\Local\\Programs\\Python\\Python39\\lib\\site-packages\\pyproj\\crs\\crs.py:141: FutureWarning: '+init=<authority>:<code>' syntax is deprecated. '<authority>:<code>' is the preferred initialization method. When making the change, be mindful of axis order changes: https://pyproj4.github.io/pyproj/stable/gotchas.html#axis-order-changes-in-proj-6\n",
      "  in_crs_string = _prepare_from_proj_string(in_crs_string)\n",
      "C:\\Users\\sm_pa\\AppData\\Local\\Temp\\ipykernel_7048\\678575862.py:7: FutureWarning: This function is deprecated. See: https://pyproj4.github.io/pyproj/stable/gotchas.html#upgrading-to-pyproj-2-from-pyproj-1\n",
      "  x, y = transform(Proj(init='epsg:4326'), utm40, lon, lat)  # Преобразование из WGS 84 (EPSG:4326) в UTM40\n",
      "C:\\Users\\sm_pa\\AppData\\Local\\Programs\\Python\\Python39\\lib\\site-packages\\pyproj\\crs\\crs.py:141: FutureWarning: '+init=<authority>:<code>' syntax is deprecated. '<authority>:<code>' is the preferred initialization method. When making the change, be mindful of axis order changes: https://pyproj4.github.io/pyproj/stable/gotchas.html#axis-order-changes-in-proj-6\n",
      "  in_crs_string = _prepare_from_proj_string(in_crs_string)\n",
      "C:\\Users\\sm_pa\\AppData\\Local\\Temp\\ipykernel_7048\\678575862.py:7: FutureWarning: This function is deprecated. See: https://pyproj4.github.io/pyproj/stable/gotchas.html#upgrading-to-pyproj-2-from-pyproj-1\n",
      "  x, y = transform(Proj(init='epsg:4326'), utm40, lon, lat)  # Преобразование из WGS 84 (EPSG:4326) в UTM40\n",
      "C:\\Users\\sm_pa\\AppData\\Local\\Programs\\Python\\Python39\\lib\\site-packages\\pyproj\\crs\\crs.py:141: FutureWarning: '+init=<authority>:<code>' syntax is deprecated. '<authority>:<code>' is the preferred initialization method. When making the change, be mindful of axis order changes: https://pyproj4.github.io/pyproj/stable/gotchas.html#axis-order-changes-in-proj-6\n",
      "  in_crs_string = _prepare_from_proj_string(in_crs_string)\n",
      "C:\\Users\\sm_pa\\AppData\\Local\\Temp\\ipykernel_7048\\678575862.py:7: FutureWarning: This function is deprecated. See: https://pyproj4.github.io/pyproj/stable/gotchas.html#upgrading-to-pyproj-2-from-pyproj-1\n",
      "  x, y = transform(Proj(init='epsg:4326'), utm40, lon, lat)  # Преобразование из WGS 84 (EPSG:4326) в UTM40\n",
      "C:\\Users\\sm_pa\\AppData\\Local\\Programs\\Python\\Python39\\lib\\site-packages\\pyproj\\crs\\crs.py:141: FutureWarning: '+init=<authority>:<code>' syntax is deprecated. '<authority>:<code>' is the preferred initialization method. When making the change, be mindful of axis order changes: https://pyproj4.github.io/pyproj/stable/gotchas.html#axis-order-changes-in-proj-6\n",
      "  in_crs_string = _prepare_from_proj_string(in_crs_string)\n",
      "C:\\Users\\sm_pa\\AppData\\Local\\Temp\\ipykernel_7048\\678575862.py:7: FutureWarning: This function is deprecated. See: https://pyproj4.github.io/pyproj/stable/gotchas.html#upgrading-to-pyproj-2-from-pyproj-1\n",
      "  x, y = transform(Proj(init='epsg:4326'), utm40, lon, lat)  # Преобразование из WGS 84 (EPSG:4326) в UTM40\n",
      "C:\\Users\\sm_pa\\AppData\\Local\\Programs\\Python\\Python39\\lib\\site-packages\\pyproj\\crs\\crs.py:141: FutureWarning: '+init=<authority>:<code>' syntax is deprecated. '<authority>:<code>' is the preferred initialization method. When making the change, be mindful of axis order changes: https://pyproj4.github.io/pyproj/stable/gotchas.html#axis-order-changes-in-proj-6\n",
      "  in_crs_string = _prepare_from_proj_string(in_crs_string)\n",
      "C:\\Users\\sm_pa\\AppData\\Local\\Temp\\ipykernel_7048\\678575862.py:7: FutureWarning: This function is deprecated. See: https://pyproj4.github.io/pyproj/stable/gotchas.html#upgrading-to-pyproj-2-from-pyproj-1\n",
      "  x, y = transform(Proj(init='epsg:4326'), utm40, lon, lat)  # Преобразование из WGS 84 (EPSG:4326) в UTM40\n",
      "C:\\Users\\sm_pa\\AppData\\Local\\Programs\\Python\\Python39\\lib\\site-packages\\pyproj\\crs\\crs.py:141: FutureWarning: '+init=<authority>:<code>' syntax is deprecated. '<authority>:<code>' is the preferred initialization method. When making the change, be mindful of axis order changes: https://pyproj4.github.io/pyproj/stable/gotchas.html#axis-order-changes-in-proj-6\n",
      "  in_crs_string = _prepare_from_proj_string(in_crs_string)\n",
      "C:\\Users\\sm_pa\\AppData\\Local\\Temp\\ipykernel_7048\\678575862.py:7: FutureWarning: This function is deprecated. See: https://pyproj4.github.io/pyproj/stable/gotchas.html#upgrading-to-pyproj-2-from-pyproj-1\n",
      "  x, y = transform(Proj(init='epsg:4326'), utm40, lon, lat)  # Преобразование из WGS 84 (EPSG:4326) в UTM40\n",
      "C:\\Users\\sm_pa\\AppData\\Local\\Programs\\Python\\Python39\\lib\\site-packages\\pyproj\\crs\\crs.py:141: FutureWarning: '+init=<authority>:<code>' syntax is deprecated. '<authority>:<code>' is the preferred initialization method. When making the change, be mindful of axis order changes: https://pyproj4.github.io/pyproj/stable/gotchas.html#axis-order-changes-in-proj-6\n",
      "  in_crs_string = _prepare_from_proj_string(in_crs_string)\n",
      "C:\\Users\\sm_pa\\AppData\\Local\\Temp\\ipykernel_7048\\678575862.py:7: FutureWarning: This function is deprecated. See: https://pyproj4.github.io/pyproj/stable/gotchas.html#upgrading-to-pyproj-2-from-pyproj-1\n",
      "  x, y = transform(Proj(init='epsg:4326'), utm40, lon, lat)  # Преобразование из WGS 84 (EPSG:4326) в UTM40\n",
      "C:\\Users\\sm_pa\\AppData\\Local\\Programs\\Python\\Python39\\lib\\site-packages\\pyproj\\crs\\crs.py:141: FutureWarning: '+init=<authority>:<code>' syntax is deprecated. '<authority>:<code>' is the preferred initialization method. When making the change, be mindful of axis order changes: https://pyproj4.github.io/pyproj/stable/gotchas.html#axis-order-changes-in-proj-6\n",
      "  in_crs_string = _prepare_from_proj_string(in_crs_string)\n",
      "C:\\Users\\sm_pa\\AppData\\Local\\Temp\\ipykernel_7048\\678575862.py:7: FutureWarning: This function is deprecated. See: https://pyproj4.github.io/pyproj/stable/gotchas.html#upgrading-to-pyproj-2-from-pyproj-1\n",
      "  x, y = transform(Proj(init='epsg:4326'), utm40, lon, lat)  # Преобразование из WGS 84 (EPSG:4326) в UTM40\n",
      "C:\\Users\\sm_pa\\AppData\\Local\\Programs\\Python\\Python39\\lib\\site-packages\\pyproj\\crs\\crs.py:141: FutureWarning: '+init=<authority>:<code>' syntax is deprecated. '<authority>:<code>' is the preferred initialization method. When making the change, be mindful of axis order changes: https://pyproj4.github.io/pyproj/stable/gotchas.html#axis-order-changes-in-proj-6\n",
      "  in_crs_string = _prepare_from_proj_string(in_crs_string)\n",
      "C:\\Users\\sm_pa\\AppData\\Local\\Temp\\ipykernel_7048\\678575862.py:7: FutureWarning: This function is deprecated. See: https://pyproj4.github.io/pyproj/stable/gotchas.html#upgrading-to-pyproj-2-from-pyproj-1\n",
      "  x, y = transform(Proj(init='epsg:4326'), utm40, lon, lat)  # Преобразование из WGS 84 (EPSG:4326) в UTM40\n",
      "C:\\Users\\sm_pa\\AppData\\Local\\Programs\\Python\\Python39\\lib\\site-packages\\pyproj\\crs\\crs.py:141: FutureWarning: '+init=<authority>:<code>' syntax is deprecated. '<authority>:<code>' is the preferred initialization method. When making the change, be mindful of axis order changes: https://pyproj4.github.io/pyproj/stable/gotchas.html#axis-order-changes-in-proj-6\n",
      "  in_crs_string = _prepare_from_proj_string(in_crs_string)\n",
      "C:\\Users\\sm_pa\\AppData\\Local\\Temp\\ipykernel_7048\\678575862.py:7: FutureWarning: This function is deprecated. See: https://pyproj4.github.io/pyproj/stable/gotchas.html#upgrading-to-pyproj-2-from-pyproj-1\n",
      "  x, y = transform(Proj(init='epsg:4326'), utm40, lon, lat)  # Преобразование из WGS 84 (EPSG:4326) в UTM40\n",
      "C:\\Users\\sm_pa\\AppData\\Local\\Programs\\Python\\Python39\\lib\\site-packages\\pyproj\\crs\\crs.py:141: FutureWarning: '+init=<authority>:<code>' syntax is deprecated. '<authority>:<code>' is the preferred initialization method. When making the change, be mindful of axis order changes: https://pyproj4.github.io/pyproj/stable/gotchas.html#axis-order-changes-in-proj-6\n",
      "  in_crs_string = _prepare_from_proj_string(in_crs_string)\n",
      "C:\\Users\\sm_pa\\AppData\\Local\\Temp\\ipykernel_7048\\678575862.py:7: FutureWarning: This function is deprecated. See: https://pyproj4.github.io/pyproj/stable/gotchas.html#upgrading-to-pyproj-2-from-pyproj-1\n",
      "  x, y = transform(Proj(init='epsg:4326'), utm40, lon, lat)  # Преобразование из WGS 84 (EPSG:4326) в UTM40\n",
      "C:\\Users\\sm_pa\\AppData\\Local\\Programs\\Python\\Python39\\lib\\site-packages\\pyproj\\crs\\crs.py:141: FutureWarning: '+init=<authority>:<code>' syntax is deprecated. '<authority>:<code>' is the preferred initialization method. When making the change, be mindful of axis order changes: https://pyproj4.github.io/pyproj/stable/gotchas.html#axis-order-changes-in-proj-6\n",
      "  in_crs_string = _prepare_from_proj_string(in_crs_string)\n",
      "C:\\Users\\sm_pa\\AppData\\Local\\Temp\\ipykernel_7048\\678575862.py:7: FutureWarning: This function is deprecated. See: https://pyproj4.github.io/pyproj/stable/gotchas.html#upgrading-to-pyproj-2-from-pyproj-1\n",
      "  x, y = transform(Proj(init='epsg:4326'), utm40, lon, lat)  # Преобразование из WGS 84 (EPSG:4326) в UTM40\n",
      "C:\\Users\\sm_pa\\AppData\\Local\\Programs\\Python\\Python39\\lib\\site-packages\\pyproj\\crs\\crs.py:141: FutureWarning: '+init=<authority>:<code>' syntax is deprecated. '<authority>:<code>' is the preferred initialization method. When making the change, be mindful of axis order changes: https://pyproj4.github.io/pyproj/stable/gotchas.html#axis-order-changes-in-proj-6\n",
      "  in_crs_string = _prepare_from_proj_string(in_crs_string)\n",
      "C:\\Users\\sm_pa\\AppData\\Local\\Temp\\ipykernel_7048\\678575862.py:7: FutureWarning: This function is deprecated. See: https://pyproj4.github.io/pyproj/stable/gotchas.html#upgrading-to-pyproj-2-from-pyproj-1\n",
      "  x, y = transform(Proj(init='epsg:4326'), utm40, lon, lat)  # Преобразование из WGS 84 (EPSG:4326) в UTM40\n",
      "C:\\Users\\sm_pa\\AppData\\Local\\Programs\\Python\\Python39\\lib\\site-packages\\pyproj\\crs\\crs.py:141: FutureWarning: '+init=<authority>:<code>' syntax is deprecated. '<authority>:<code>' is the preferred initialization method. When making the change, be mindful of axis order changes: https://pyproj4.github.io/pyproj/stable/gotchas.html#axis-order-changes-in-proj-6\n",
      "  in_crs_string = _prepare_from_proj_string(in_crs_string)\n",
      "C:\\Users\\sm_pa\\AppData\\Local\\Temp\\ipykernel_7048\\678575862.py:7: FutureWarning: This function is deprecated. See: https://pyproj4.github.io/pyproj/stable/gotchas.html#upgrading-to-pyproj-2-from-pyproj-1\n",
      "  x, y = transform(Proj(init='epsg:4326'), utm40, lon, lat)  # Преобразование из WGS 84 (EPSG:4326) в UTM40\n",
      "C:\\Users\\sm_pa\\AppData\\Local\\Programs\\Python\\Python39\\lib\\site-packages\\pyproj\\crs\\crs.py:141: FutureWarning: '+init=<authority>:<code>' syntax is deprecated. '<authority>:<code>' is the preferred initialization method. When making the change, be mindful of axis order changes: https://pyproj4.github.io/pyproj/stable/gotchas.html#axis-order-changes-in-proj-6\n",
      "  in_crs_string = _prepare_from_proj_string(in_crs_string)\n",
      "C:\\Users\\sm_pa\\AppData\\Local\\Temp\\ipykernel_7048\\678575862.py:7: FutureWarning: This function is deprecated. See: https://pyproj4.github.io/pyproj/stable/gotchas.html#upgrading-to-pyproj-2-from-pyproj-1\n",
      "  x, y = transform(Proj(init='epsg:4326'), utm40, lon, lat)  # Преобразование из WGS 84 (EPSG:4326) в UTM40\n",
      "C:\\Users\\sm_pa\\AppData\\Local\\Programs\\Python\\Python39\\lib\\site-packages\\pyproj\\crs\\crs.py:141: FutureWarning: '+init=<authority>:<code>' syntax is deprecated. '<authority>:<code>' is the preferred initialization method. When making the change, be mindful of axis order changes: https://pyproj4.github.io/pyproj/stable/gotchas.html#axis-order-changes-in-proj-6\n",
      "  in_crs_string = _prepare_from_proj_string(in_crs_string)\n",
      "C:\\Users\\sm_pa\\AppData\\Local\\Temp\\ipykernel_7048\\678575862.py:7: FutureWarning: This function is deprecated. See: https://pyproj4.github.io/pyproj/stable/gotchas.html#upgrading-to-pyproj-2-from-pyproj-1\n",
      "  x, y = transform(Proj(init='epsg:4326'), utm40, lon, lat)  # Преобразование из WGS 84 (EPSG:4326) в UTM40\n",
      "C:\\Users\\sm_pa\\AppData\\Local\\Programs\\Python\\Python39\\lib\\site-packages\\pyproj\\crs\\crs.py:141: FutureWarning: '+init=<authority>:<code>' syntax is deprecated. '<authority>:<code>' is the preferred initialization method. When making the change, be mindful of axis order changes: https://pyproj4.github.io/pyproj/stable/gotchas.html#axis-order-changes-in-proj-6\n",
      "  in_crs_string = _prepare_from_proj_string(in_crs_string)\n",
      "C:\\Users\\sm_pa\\AppData\\Local\\Temp\\ipykernel_7048\\678575862.py:7: FutureWarning: This function is deprecated. See: https://pyproj4.github.io/pyproj/stable/gotchas.html#upgrading-to-pyproj-2-from-pyproj-1\n",
      "  x, y = transform(Proj(init='epsg:4326'), utm40, lon, lat)  # Преобразование из WGS 84 (EPSG:4326) в UTM40\n",
      "C:\\Users\\sm_pa\\AppData\\Local\\Programs\\Python\\Python39\\lib\\site-packages\\pyproj\\crs\\crs.py:141: FutureWarning: '+init=<authority>:<code>' syntax is deprecated. '<authority>:<code>' is the preferred initialization method. When making the change, be mindful of axis order changes: https://pyproj4.github.io/pyproj/stable/gotchas.html#axis-order-changes-in-proj-6\n",
      "  in_crs_string = _prepare_from_proj_string(in_crs_string)\n",
      "C:\\Users\\sm_pa\\AppData\\Local\\Temp\\ipykernel_7048\\678575862.py:7: FutureWarning: This function is deprecated. See: https://pyproj4.github.io/pyproj/stable/gotchas.html#upgrading-to-pyproj-2-from-pyproj-1\n",
      "  x, y = transform(Proj(init='epsg:4326'), utm40, lon, lat)  # Преобразование из WGS 84 (EPSG:4326) в UTM40\n",
      "C:\\Users\\sm_pa\\AppData\\Local\\Programs\\Python\\Python39\\lib\\site-packages\\pyproj\\crs\\crs.py:141: FutureWarning: '+init=<authority>:<code>' syntax is deprecated. '<authority>:<code>' is the preferred initialization method. When making the change, be mindful of axis order changes: https://pyproj4.github.io/pyproj/stable/gotchas.html#axis-order-changes-in-proj-6\n",
      "  in_crs_string = _prepare_from_proj_string(in_crs_string)\n",
      "C:\\Users\\sm_pa\\AppData\\Local\\Temp\\ipykernel_7048\\678575862.py:7: FutureWarning: This function is deprecated. See: https://pyproj4.github.io/pyproj/stable/gotchas.html#upgrading-to-pyproj-2-from-pyproj-1\n",
      "  x, y = transform(Proj(init='epsg:4326'), utm40, lon, lat)  # Преобразование из WGS 84 (EPSG:4326) в UTM40\n",
      "C:\\Users\\sm_pa\\AppData\\Local\\Programs\\Python\\Python39\\lib\\site-packages\\pyproj\\crs\\crs.py:141: FutureWarning: '+init=<authority>:<code>' syntax is deprecated. '<authority>:<code>' is the preferred initialization method. When making the change, be mindful of axis order changes: https://pyproj4.github.io/pyproj/stable/gotchas.html#axis-order-changes-in-proj-6\n",
      "  in_crs_string = _prepare_from_proj_string(in_crs_string)\n",
      "C:\\Users\\sm_pa\\AppData\\Local\\Temp\\ipykernel_7048\\678575862.py:7: FutureWarning: This function is deprecated. See: https://pyproj4.github.io/pyproj/stable/gotchas.html#upgrading-to-pyproj-2-from-pyproj-1\n",
      "  x, y = transform(Proj(init='epsg:4326'), utm40, lon, lat)  # Преобразование из WGS 84 (EPSG:4326) в UTM40\n",
      "C:\\Users\\sm_pa\\AppData\\Local\\Programs\\Python\\Python39\\lib\\site-packages\\pyproj\\crs\\crs.py:141: FutureWarning: '+init=<authority>:<code>' syntax is deprecated. '<authority>:<code>' is the preferred initialization method. When making the change, be mindful of axis order changes: https://pyproj4.github.io/pyproj/stable/gotchas.html#axis-order-changes-in-proj-6\n",
      "  in_crs_string = _prepare_from_proj_string(in_crs_string)\n",
      "C:\\Users\\sm_pa\\AppData\\Local\\Temp\\ipykernel_7048\\678575862.py:7: FutureWarning: This function is deprecated. See: https://pyproj4.github.io/pyproj/stable/gotchas.html#upgrading-to-pyproj-2-from-pyproj-1\n",
      "  x, y = transform(Proj(init='epsg:4326'), utm40, lon, lat)  # Преобразование из WGS 84 (EPSG:4326) в UTM40\n",
      "C:\\Users\\sm_pa\\AppData\\Local\\Programs\\Python\\Python39\\lib\\site-packages\\pyproj\\crs\\crs.py:141: FutureWarning: '+init=<authority>:<code>' syntax is deprecated. '<authority>:<code>' is the preferred initialization method. When making the change, be mindful of axis order changes: https://pyproj4.github.io/pyproj/stable/gotchas.html#axis-order-changes-in-proj-6\n",
      "  in_crs_string = _prepare_from_proj_string(in_crs_string)\n",
      "C:\\Users\\sm_pa\\AppData\\Local\\Temp\\ipykernel_7048\\678575862.py:7: FutureWarning: This function is deprecated. See: https://pyproj4.github.io/pyproj/stable/gotchas.html#upgrading-to-pyproj-2-from-pyproj-1\n",
      "  x, y = transform(Proj(init='epsg:4326'), utm40, lon, lat)  # Преобразование из WGS 84 (EPSG:4326) в UTM40\n",
      "C:\\Users\\sm_pa\\AppData\\Local\\Programs\\Python\\Python39\\lib\\site-packages\\pyproj\\crs\\crs.py:141: FutureWarning: '+init=<authority>:<code>' syntax is deprecated. '<authority>:<code>' is the preferred initialization method. When making the change, be mindful of axis order changes: https://pyproj4.github.io/pyproj/stable/gotchas.html#axis-order-changes-in-proj-6\n",
      "  in_crs_string = _prepare_from_proj_string(in_crs_string)\n",
      "C:\\Users\\sm_pa\\AppData\\Local\\Temp\\ipykernel_7048\\678575862.py:7: FutureWarning: This function is deprecated. See: https://pyproj4.github.io/pyproj/stable/gotchas.html#upgrading-to-pyproj-2-from-pyproj-1\n",
      "  x, y = transform(Proj(init='epsg:4326'), utm40, lon, lat)  # Преобразование из WGS 84 (EPSG:4326) в UTM40\n",
      "C:\\Users\\sm_pa\\AppData\\Local\\Programs\\Python\\Python39\\lib\\site-packages\\pyproj\\crs\\crs.py:141: FutureWarning: '+init=<authority>:<code>' syntax is deprecated. '<authority>:<code>' is the preferred initialization method. When making the change, be mindful of axis order changes: https://pyproj4.github.io/pyproj/stable/gotchas.html#axis-order-changes-in-proj-6\n",
      "  in_crs_string = _prepare_from_proj_string(in_crs_string)\n",
      "C:\\Users\\sm_pa\\AppData\\Local\\Temp\\ipykernel_7048\\678575862.py:7: FutureWarning: This function is deprecated. See: https://pyproj4.github.io/pyproj/stable/gotchas.html#upgrading-to-pyproj-2-from-pyproj-1\n",
      "  x, y = transform(Proj(init='epsg:4326'), utm40, lon, lat)  # Преобразование из WGS 84 (EPSG:4326) в UTM40\n",
      "C:\\Users\\sm_pa\\AppData\\Local\\Programs\\Python\\Python39\\lib\\site-packages\\pyproj\\crs\\crs.py:141: FutureWarning: '+init=<authority>:<code>' syntax is deprecated. '<authority>:<code>' is the preferred initialization method. When making the change, be mindful of axis order changes: https://pyproj4.github.io/pyproj/stable/gotchas.html#axis-order-changes-in-proj-6\n",
      "  in_crs_string = _prepare_from_proj_string(in_crs_string)\n",
      "C:\\Users\\sm_pa\\AppData\\Local\\Temp\\ipykernel_7048\\678575862.py:7: FutureWarning: This function is deprecated. See: https://pyproj4.github.io/pyproj/stable/gotchas.html#upgrading-to-pyproj-2-from-pyproj-1\n",
      "  x, y = transform(Proj(init='epsg:4326'), utm40, lon, lat)  # Преобразование из WGS 84 (EPSG:4326) в UTM40\n",
      "C:\\Users\\sm_pa\\AppData\\Local\\Programs\\Python\\Python39\\lib\\site-packages\\pyproj\\crs\\crs.py:141: FutureWarning: '+init=<authority>:<code>' syntax is deprecated. '<authority>:<code>' is the preferred initialization method. When making the change, be mindful of axis order changes: https://pyproj4.github.io/pyproj/stable/gotchas.html#axis-order-changes-in-proj-6\n",
      "  in_crs_string = _prepare_from_proj_string(in_crs_string)\n",
      "C:\\Users\\sm_pa\\AppData\\Local\\Temp\\ipykernel_7048\\678575862.py:7: FutureWarning: This function is deprecated. See: https://pyproj4.github.io/pyproj/stable/gotchas.html#upgrading-to-pyproj-2-from-pyproj-1\n",
      "  x, y = transform(Proj(init='epsg:4326'), utm40, lon, lat)  # Преобразование из WGS 84 (EPSG:4326) в UTM40\n",
      "C:\\Users\\sm_pa\\AppData\\Local\\Programs\\Python\\Python39\\lib\\site-packages\\pyproj\\crs\\crs.py:141: FutureWarning: '+init=<authority>:<code>' syntax is deprecated. '<authority>:<code>' is the preferred initialization method. When making the change, be mindful of axis order changes: https://pyproj4.github.io/pyproj/stable/gotchas.html#axis-order-changes-in-proj-6\n",
      "  in_crs_string = _prepare_from_proj_string(in_crs_string)\n",
      "C:\\Users\\sm_pa\\AppData\\Local\\Temp\\ipykernel_7048\\678575862.py:7: FutureWarning: This function is deprecated. See: https://pyproj4.github.io/pyproj/stable/gotchas.html#upgrading-to-pyproj-2-from-pyproj-1\n",
      "  x, y = transform(Proj(init='epsg:4326'), utm40, lon, lat)  # Преобразование из WGS 84 (EPSG:4326) в UTM40\n",
      "C:\\Users\\sm_pa\\AppData\\Local\\Programs\\Python\\Python39\\lib\\site-packages\\pyproj\\crs\\crs.py:141: FutureWarning: '+init=<authority>:<code>' syntax is deprecated. '<authority>:<code>' is the preferred initialization method. When making the change, be mindful of axis order changes: https://pyproj4.github.io/pyproj/stable/gotchas.html#axis-order-changes-in-proj-6\n",
      "  in_crs_string = _prepare_from_proj_string(in_crs_string)\n",
      "C:\\Users\\sm_pa\\AppData\\Local\\Temp\\ipykernel_7048\\678575862.py:7: FutureWarning: This function is deprecated. See: https://pyproj4.github.io/pyproj/stable/gotchas.html#upgrading-to-pyproj-2-from-pyproj-1\n",
      "  x, y = transform(Proj(init='epsg:4326'), utm40, lon, lat)  # Преобразование из WGS 84 (EPSG:4326) в UTM40\n",
      "C:\\Users\\sm_pa\\AppData\\Local\\Programs\\Python\\Python39\\lib\\site-packages\\pyproj\\crs\\crs.py:141: FutureWarning: '+init=<authority>:<code>' syntax is deprecated. '<authority>:<code>' is the preferred initialization method. When making the change, be mindful of axis order changes: https://pyproj4.github.io/pyproj/stable/gotchas.html#axis-order-changes-in-proj-6\n",
      "  in_crs_string = _prepare_from_proj_string(in_crs_string)\n",
      "C:\\Users\\sm_pa\\AppData\\Local\\Temp\\ipykernel_7048\\678575862.py:7: FutureWarning: This function is deprecated. See: https://pyproj4.github.io/pyproj/stable/gotchas.html#upgrading-to-pyproj-2-from-pyproj-1\n",
      "  x, y = transform(Proj(init='epsg:4326'), utm40, lon, lat)  # Преобразование из WGS 84 (EPSG:4326) в UTM40\n",
      "C:\\Users\\sm_pa\\AppData\\Local\\Programs\\Python\\Python39\\lib\\site-packages\\pyproj\\crs\\crs.py:141: FutureWarning: '+init=<authority>:<code>' syntax is deprecated. '<authority>:<code>' is the preferred initialization method. When making the change, be mindful of axis order changes: https://pyproj4.github.io/pyproj/stable/gotchas.html#axis-order-changes-in-proj-6\n",
      "  in_crs_string = _prepare_from_proj_string(in_crs_string)\n",
      "C:\\Users\\sm_pa\\AppData\\Local\\Temp\\ipykernel_7048\\678575862.py:7: FutureWarning: This function is deprecated. See: https://pyproj4.github.io/pyproj/stable/gotchas.html#upgrading-to-pyproj-2-from-pyproj-1\n",
      "  x, y = transform(Proj(init='epsg:4326'), utm40, lon, lat)  # Преобразование из WGS 84 (EPSG:4326) в UTM40\n",
      "C:\\Users\\sm_pa\\AppData\\Local\\Programs\\Python\\Python39\\lib\\site-packages\\pyproj\\crs\\crs.py:141: FutureWarning: '+init=<authority>:<code>' syntax is deprecated. '<authority>:<code>' is the preferred initialization method. When making the change, be mindful of axis order changes: https://pyproj4.github.io/pyproj/stable/gotchas.html#axis-order-changes-in-proj-6\n",
      "  in_crs_string = _prepare_from_proj_string(in_crs_string)\n",
      "C:\\Users\\sm_pa\\AppData\\Local\\Temp\\ipykernel_7048\\678575862.py:7: FutureWarning: This function is deprecated. See: https://pyproj4.github.io/pyproj/stable/gotchas.html#upgrading-to-pyproj-2-from-pyproj-1\n",
      "  x, y = transform(Proj(init='epsg:4326'), utm40, lon, lat)  # Преобразование из WGS 84 (EPSG:4326) в UTM40\n",
      "C:\\Users\\sm_pa\\AppData\\Local\\Programs\\Python\\Python39\\lib\\site-packages\\pyproj\\crs\\crs.py:141: FutureWarning: '+init=<authority>:<code>' syntax is deprecated. '<authority>:<code>' is the preferred initialization method. When making the change, be mindful of axis order changes: https://pyproj4.github.io/pyproj/stable/gotchas.html#axis-order-changes-in-proj-6\n",
      "  in_crs_string = _prepare_from_proj_string(in_crs_string)\n",
      "C:\\Users\\sm_pa\\AppData\\Local\\Temp\\ipykernel_7048\\678575862.py:7: FutureWarning: This function is deprecated. See: https://pyproj4.github.io/pyproj/stable/gotchas.html#upgrading-to-pyproj-2-from-pyproj-1\n",
      "  x, y = transform(Proj(init='epsg:4326'), utm40, lon, lat)  # Преобразование из WGS 84 (EPSG:4326) в UTM40\n",
      "C:\\Users\\sm_pa\\AppData\\Local\\Programs\\Python\\Python39\\lib\\site-packages\\pyproj\\crs\\crs.py:141: FutureWarning: '+init=<authority>:<code>' syntax is deprecated. '<authority>:<code>' is the preferred initialization method. When making the change, be mindful of axis order changes: https://pyproj4.github.io/pyproj/stable/gotchas.html#axis-order-changes-in-proj-6\n",
      "  in_crs_string = _prepare_from_proj_string(in_crs_string)\n",
      "C:\\Users\\sm_pa\\AppData\\Local\\Temp\\ipykernel_7048\\678575862.py:7: FutureWarning: This function is deprecated. See: https://pyproj4.github.io/pyproj/stable/gotchas.html#upgrading-to-pyproj-2-from-pyproj-1\n",
      "  x, y = transform(Proj(init='epsg:4326'), utm40, lon, lat)  # Преобразование из WGS 84 (EPSG:4326) в UTM40\n",
      "C:\\Users\\sm_pa\\AppData\\Local\\Programs\\Python\\Python39\\lib\\site-packages\\pyproj\\crs\\crs.py:141: FutureWarning: '+init=<authority>:<code>' syntax is deprecated. '<authority>:<code>' is the preferred initialization method. When making the change, be mindful of axis order changes: https://pyproj4.github.io/pyproj/stable/gotchas.html#axis-order-changes-in-proj-6\n",
      "  in_crs_string = _prepare_from_proj_string(in_crs_string)\n",
      "C:\\Users\\sm_pa\\AppData\\Local\\Temp\\ipykernel_7048\\678575862.py:7: FutureWarning: This function is deprecated. See: https://pyproj4.github.io/pyproj/stable/gotchas.html#upgrading-to-pyproj-2-from-pyproj-1\n",
      "  x, y = transform(Proj(init='epsg:4326'), utm40, lon, lat)  # Преобразование из WGS 84 (EPSG:4326) в UTM40\n",
      "C:\\Users\\sm_pa\\AppData\\Local\\Programs\\Python\\Python39\\lib\\site-packages\\pyproj\\crs\\crs.py:141: FutureWarning: '+init=<authority>:<code>' syntax is deprecated. '<authority>:<code>' is the preferred initialization method. When making the change, be mindful of axis order changes: https://pyproj4.github.io/pyproj/stable/gotchas.html#axis-order-changes-in-proj-6\n",
      "  in_crs_string = _prepare_from_proj_string(in_crs_string)\n",
      "C:\\Users\\sm_pa\\AppData\\Local\\Temp\\ipykernel_7048\\678575862.py:7: FutureWarning: This function is deprecated. See: https://pyproj4.github.io/pyproj/stable/gotchas.html#upgrading-to-pyproj-2-from-pyproj-1\n",
      "  x, y = transform(Proj(init='epsg:4326'), utm40, lon, lat)  # Преобразование из WGS 84 (EPSG:4326) в UTM40\n",
      "C:\\Users\\sm_pa\\AppData\\Local\\Programs\\Python\\Python39\\lib\\site-packages\\pyproj\\crs\\crs.py:141: FutureWarning: '+init=<authority>:<code>' syntax is deprecated. '<authority>:<code>' is the preferred initialization method. When making the change, be mindful of axis order changes: https://pyproj4.github.io/pyproj/stable/gotchas.html#axis-order-changes-in-proj-6\n",
      "  in_crs_string = _prepare_from_proj_string(in_crs_string)\n",
      "C:\\Users\\sm_pa\\AppData\\Local\\Temp\\ipykernel_7048\\678575862.py:7: FutureWarning: This function is deprecated. See: https://pyproj4.github.io/pyproj/stable/gotchas.html#upgrading-to-pyproj-2-from-pyproj-1\n",
      "  x, y = transform(Proj(init='epsg:4326'), utm40, lon, lat)  # Преобразование из WGS 84 (EPSG:4326) в UTM40\n",
      "C:\\Users\\sm_pa\\AppData\\Local\\Programs\\Python\\Python39\\lib\\site-packages\\pyproj\\crs\\crs.py:141: FutureWarning: '+init=<authority>:<code>' syntax is deprecated. '<authority>:<code>' is the preferred initialization method. When making the change, be mindful of axis order changes: https://pyproj4.github.io/pyproj/stable/gotchas.html#axis-order-changes-in-proj-6\n",
      "  in_crs_string = _prepare_from_proj_string(in_crs_string)\n",
      "C:\\Users\\sm_pa\\AppData\\Local\\Temp\\ipykernel_7048\\678575862.py:7: FutureWarning: This function is deprecated. See: https://pyproj4.github.io/pyproj/stable/gotchas.html#upgrading-to-pyproj-2-from-pyproj-1\n",
      "  x, y = transform(Proj(init='epsg:4326'), utm40, lon, lat)  # Преобразование из WGS 84 (EPSG:4326) в UTM40\n",
      "C:\\Users\\sm_pa\\AppData\\Local\\Programs\\Python\\Python39\\lib\\site-packages\\pyproj\\crs\\crs.py:141: FutureWarning: '+init=<authority>:<code>' syntax is deprecated. '<authority>:<code>' is the preferred initialization method. When making the change, be mindful of axis order changes: https://pyproj4.github.io/pyproj/stable/gotchas.html#axis-order-changes-in-proj-6\n",
      "  in_crs_string = _prepare_from_proj_string(in_crs_string)\n",
      "C:\\Users\\sm_pa\\AppData\\Local\\Temp\\ipykernel_7048\\678575862.py:7: FutureWarning: This function is deprecated. See: https://pyproj4.github.io/pyproj/stable/gotchas.html#upgrading-to-pyproj-2-from-pyproj-1\n",
      "  x, y = transform(Proj(init='epsg:4326'), utm40, lon, lat)  # Преобразование из WGS 84 (EPSG:4326) в UTM40\n",
      "C:\\Users\\sm_pa\\AppData\\Local\\Programs\\Python\\Python39\\lib\\site-packages\\pyproj\\crs\\crs.py:141: FutureWarning: '+init=<authority>:<code>' syntax is deprecated. '<authority>:<code>' is the preferred initialization method. When making the change, be mindful of axis order changes: https://pyproj4.github.io/pyproj/stable/gotchas.html#axis-order-changes-in-proj-6\n",
      "  in_crs_string = _prepare_from_proj_string(in_crs_string)\n",
      "C:\\Users\\sm_pa\\AppData\\Local\\Temp\\ipykernel_7048\\678575862.py:7: FutureWarning: This function is deprecated. See: https://pyproj4.github.io/pyproj/stable/gotchas.html#upgrading-to-pyproj-2-from-pyproj-1\n",
      "  x, y = transform(Proj(init='epsg:4326'), utm40, lon, lat)  # Преобразование из WGS 84 (EPSG:4326) в UTM40\n",
      "C:\\Users\\sm_pa\\AppData\\Local\\Programs\\Python\\Python39\\lib\\site-packages\\pyproj\\crs\\crs.py:141: FutureWarning: '+init=<authority>:<code>' syntax is deprecated. '<authority>:<code>' is the preferred initialization method. When making the change, be mindful of axis order changes: https://pyproj4.github.io/pyproj/stable/gotchas.html#axis-order-changes-in-proj-6\n",
      "  in_crs_string = _prepare_from_proj_string(in_crs_string)\n",
      "C:\\Users\\sm_pa\\AppData\\Local\\Temp\\ipykernel_7048\\678575862.py:7: FutureWarning: This function is deprecated. See: https://pyproj4.github.io/pyproj/stable/gotchas.html#upgrading-to-pyproj-2-from-pyproj-1\n",
      "  x, y = transform(Proj(init='epsg:4326'), utm40, lon, lat)  # Преобразование из WGS 84 (EPSG:4326) в UTM40\n",
      "C:\\Users\\sm_pa\\AppData\\Local\\Programs\\Python\\Python39\\lib\\site-packages\\pyproj\\crs\\crs.py:141: FutureWarning: '+init=<authority>:<code>' syntax is deprecated. '<authority>:<code>' is the preferred initialization method. When making the change, be mindful of axis order changes: https://pyproj4.github.io/pyproj/stable/gotchas.html#axis-order-changes-in-proj-6\n",
      "  in_crs_string = _prepare_from_proj_string(in_crs_string)\n",
      "C:\\Users\\sm_pa\\AppData\\Local\\Temp\\ipykernel_7048\\678575862.py:7: FutureWarning: This function is deprecated. See: https://pyproj4.github.io/pyproj/stable/gotchas.html#upgrading-to-pyproj-2-from-pyproj-1\n",
      "  x, y = transform(Proj(init='epsg:4326'), utm40, lon, lat)  # Преобразование из WGS 84 (EPSG:4326) в UTM40\n",
      "C:\\Users\\sm_pa\\AppData\\Local\\Programs\\Python\\Python39\\lib\\site-packages\\pyproj\\crs\\crs.py:141: FutureWarning: '+init=<authority>:<code>' syntax is deprecated. '<authority>:<code>' is the preferred initialization method. When making the change, be mindful of axis order changes: https://pyproj4.github.io/pyproj/stable/gotchas.html#axis-order-changes-in-proj-6\n",
      "  in_crs_string = _prepare_from_proj_string(in_crs_string)\n",
      "C:\\Users\\sm_pa\\AppData\\Local\\Temp\\ipykernel_7048\\678575862.py:7: FutureWarning: This function is deprecated. See: https://pyproj4.github.io/pyproj/stable/gotchas.html#upgrading-to-pyproj-2-from-pyproj-1\n",
      "  x, y = transform(Proj(init='epsg:4326'), utm40, lon, lat)  # Преобразование из WGS 84 (EPSG:4326) в UTM40\n",
      "C:\\Users\\sm_pa\\AppData\\Local\\Programs\\Python\\Python39\\lib\\site-packages\\pyproj\\crs\\crs.py:141: FutureWarning: '+init=<authority>:<code>' syntax is deprecated. '<authority>:<code>' is the preferred initialization method. When making the change, be mindful of axis order changes: https://pyproj4.github.io/pyproj/stable/gotchas.html#axis-order-changes-in-proj-6\n",
      "  in_crs_string = _prepare_from_proj_string(in_crs_string)\n",
      "C:\\Users\\sm_pa\\AppData\\Local\\Temp\\ipykernel_7048\\678575862.py:7: FutureWarning: This function is deprecated. See: https://pyproj4.github.io/pyproj/stable/gotchas.html#upgrading-to-pyproj-2-from-pyproj-1\n",
      "  x, y = transform(Proj(init='epsg:4326'), utm40, lon, lat)  # Преобразование из WGS 84 (EPSG:4326) в UTM40\n",
      "C:\\Users\\sm_pa\\AppData\\Local\\Programs\\Python\\Python39\\lib\\site-packages\\pyproj\\crs\\crs.py:141: FutureWarning: '+init=<authority>:<code>' syntax is deprecated. '<authority>:<code>' is the preferred initialization method. When making the change, be mindful of axis order changes: https://pyproj4.github.io/pyproj/stable/gotchas.html#axis-order-changes-in-proj-6\n",
      "  in_crs_string = _prepare_from_proj_string(in_crs_string)\n",
      "C:\\Users\\sm_pa\\AppData\\Local\\Temp\\ipykernel_7048\\678575862.py:7: FutureWarning: This function is deprecated. See: https://pyproj4.github.io/pyproj/stable/gotchas.html#upgrading-to-pyproj-2-from-pyproj-1\n",
      "  x, y = transform(Proj(init='epsg:4326'), utm40, lon, lat)  # Преобразование из WGS 84 (EPSG:4326) в UTM40\n",
      "C:\\Users\\sm_pa\\AppData\\Local\\Programs\\Python\\Python39\\lib\\site-packages\\pyproj\\crs\\crs.py:141: FutureWarning: '+init=<authority>:<code>' syntax is deprecated. '<authority>:<code>' is the preferred initialization method. When making the change, be mindful of axis order changes: https://pyproj4.github.io/pyproj/stable/gotchas.html#axis-order-changes-in-proj-6\n",
      "  in_crs_string = _prepare_from_proj_string(in_crs_string)\n",
      "C:\\Users\\sm_pa\\AppData\\Local\\Temp\\ipykernel_7048\\678575862.py:7: FutureWarning: This function is deprecated. See: https://pyproj4.github.io/pyproj/stable/gotchas.html#upgrading-to-pyproj-2-from-pyproj-1\n",
      "  x, y = transform(Proj(init='epsg:4326'), utm40, lon, lat)  # Преобразование из WGS 84 (EPSG:4326) в UTM40\n",
      "C:\\Users\\sm_pa\\AppData\\Local\\Programs\\Python\\Python39\\lib\\site-packages\\pyproj\\crs\\crs.py:141: FutureWarning: '+init=<authority>:<code>' syntax is deprecated. '<authority>:<code>' is the preferred initialization method. When making the change, be mindful of axis order changes: https://pyproj4.github.io/pyproj/stable/gotchas.html#axis-order-changes-in-proj-6\n",
      "  in_crs_string = _prepare_from_proj_string(in_crs_string)\n",
      "C:\\Users\\sm_pa\\AppData\\Local\\Temp\\ipykernel_7048\\678575862.py:7: FutureWarning: This function is deprecated. See: https://pyproj4.github.io/pyproj/stable/gotchas.html#upgrading-to-pyproj-2-from-pyproj-1\n",
      "  x, y = transform(Proj(init='epsg:4326'), utm40, lon, lat)  # Преобразование из WGS 84 (EPSG:4326) в UTM40\n",
      "C:\\Users\\sm_pa\\AppData\\Local\\Programs\\Python\\Python39\\lib\\site-packages\\pyproj\\crs\\crs.py:141: FutureWarning: '+init=<authority>:<code>' syntax is deprecated. '<authority>:<code>' is the preferred initialization method. When making the change, be mindful of axis order changes: https://pyproj4.github.io/pyproj/stable/gotchas.html#axis-order-changes-in-proj-6\n",
      "  in_crs_string = _prepare_from_proj_string(in_crs_string)\n",
      "C:\\Users\\sm_pa\\AppData\\Local\\Temp\\ipykernel_7048\\678575862.py:7: FutureWarning: This function is deprecated. See: https://pyproj4.github.io/pyproj/stable/gotchas.html#upgrading-to-pyproj-2-from-pyproj-1\n",
      "  x, y = transform(Proj(init='epsg:4326'), utm40, lon, lat)  # Преобразование из WGS 84 (EPSG:4326) в UTM40\n",
      "C:\\Users\\sm_pa\\AppData\\Local\\Programs\\Python\\Python39\\lib\\site-packages\\pyproj\\crs\\crs.py:141: FutureWarning: '+init=<authority>:<code>' syntax is deprecated. '<authority>:<code>' is the preferred initialization method. When making the change, be mindful of axis order changes: https://pyproj4.github.io/pyproj/stable/gotchas.html#axis-order-changes-in-proj-6\n",
      "  in_crs_string = _prepare_from_proj_string(in_crs_string)\n",
      "C:\\Users\\sm_pa\\AppData\\Local\\Temp\\ipykernel_7048\\678575862.py:7: FutureWarning: This function is deprecated. See: https://pyproj4.github.io/pyproj/stable/gotchas.html#upgrading-to-pyproj-2-from-pyproj-1\n",
      "  x, y = transform(Proj(init='epsg:4326'), utm40, lon, lat)  # Преобразование из WGS 84 (EPSG:4326) в UTM40\n",
      "C:\\Users\\sm_pa\\AppData\\Local\\Programs\\Python\\Python39\\lib\\site-packages\\pyproj\\crs\\crs.py:141: FutureWarning: '+init=<authority>:<code>' syntax is deprecated. '<authority>:<code>' is the preferred initialization method. When making the change, be mindful of axis order changes: https://pyproj4.github.io/pyproj/stable/gotchas.html#axis-order-changes-in-proj-6\n",
      "  in_crs_string = _prepare_from_proj_string(in_crs_string)\n",
      "C:\\Users\\sm_pa\\AppData\\Local\\Temp\\ipykernel_7048\\678575862.py:7: FutureWarning: This function is deprecated. See: https://pyproj4.github.io/pyproj/stable/gotchas.html#upgrading-to-pyproj-2-from-pyproj-1\n",
      "  x, y = transform(Proj(init='epsg:4326'), utm40, lon, lat)  # Преобразование из WGS 84 (EPSG:4326) в UTM40\n",
      "C:\\Users\\sm_pa\\AppData\\Local\\Programs\\Python\\Python39\\lib\\site-packages\\pyproj\\crs\\crs.py:141: FutureWarning: '+init=<authority>:<code>' syntax is deprecated. '<authority>:<code>' is the preferred initialization method. When making the change, be mindful of axis order changes: https://pyproj4.github.io/pyproj/stable/gotchas.html#axis-order-changes-in-proj-6\n",
      "  in_crs_string = _prepare_from_proj_string(in_crs_string)\n",
      "C:\\Users\\sm_pa\\AppData\\Local\\Temp\\ipykernel_7048\\678575862.py:7: FutureWarning: This function is deprecated. See: https://pyproj4.github.io/pyproj/stable/gotchas.html#upgrading-to-pyproj-2-from-pyproj-1\n",
      "  x, y = transform(Proj(init='epsg:4326'), utm40, lon, lat)  # Преобразование из WGS 84 (EPSG:4326) в UTM40\n",
      "C:\\Users\\sm_pa\\AppData\\Local\\Programs\\Python\\Python39\\lib\\site-packages\\pyproj\\crs\\crs.py:141: FutureWarning: '+init=<authority>:<code>' syntax is deprecated. '<authority>:<code>' is the preferred initialization method. When making the change, be mindful of axis order changes: https://pyproj4.github.io/pyproj/stable/gotchas.html#axis-order-changes-in-proj-6\n",
      "  in_crs_string = _prepare_from_proj_string(in_crs_string)\n",
      "C:\\Users\\sm_pa\\AppData\\Local\\Temp\\ipykernel_7048\\678575862.py:7: FutureWarning: This function is deprecated. See: https://pyproj4.github.io/pyproj/stable/gotchas.html#upgrading-to-pyproj-2-from-pyproj-1\n",
      "  x, y = transform(Proj(init='epsg:4326'), utm40, lon, lat)  # Преобразование из WGS 84 (EPSG:4326) в UTM40\n",
      "C:\\Users\\sm_pa\\AppData\\Local\\Programs\\Python\\Python39\\lib\\site-packages\\pyproj\\crs\\crs.py:141: FutureWarning: '+init=<authority>:<code>' syntax is deprecated. '<authority>:<code>' is the preferred initialization method. When making the change, be mindful of axis order changes: https://pyproj4.github.io/pyproj/stable/gotchas.html#axis-order-changes-in-proj-6\n",
      "  in_crs_string = _prepare_from_proj_string(in_crs_string)\n",
      "C:\\Users\\sm_pa\\AppData\\Local\\Temp\\ipykernel_7048\\678575862.py:7: FutureWarning: This function is deprecated. See: https://pyproj4.github.io/pyproj/stable/gotchas.html#upgrading-to-pyproj-2-from-pyproj-1\n",
      "  x, y = transform(Proj(init='epsg:4326'), utm40, lon, lat)  # Преобразование из WGS 84 (EPSG:4326) в UTM40\n",
      "C:\\Users\\sm_pa\\AppData\\Local\\Programs\\Python\\Python39\\lib\\site-packages\\pyproj\\crs\\crs.py:141: FutureWarning: '+init=<authority>:<code>' syntax is deprecated. '<authority>:<code>' is the preferred initialization method. When making the change, be mindful of axis order changes: https://pyproj4.github.io/pyproj/stable/gotchas.html#axis-order-changes-in-proj-6\n",
      "  in_crs_string = _prepare_from_proj_string(in_crs_string)\n",
      "C:\\Users\\sm_pa\\AppData\\Local\\Temp\\ipykernel_7048\\678575862.py:7: FutureWarning: This function is deprecated. See: https://pyproj4.github.io/pyproj/stable/gotchas.html#upgrading-to-pyproj-2-from-pyproj-1\n",
      "  x, y = transform(Proj(init='epsg:4326'), utm40, lon, lat)  # Преобразование из WGS 84 (EPSG:4326) в UTM40\n",
      "C:\\Users\\sm_pa\\AppData\\Local\\Programs\\Python\\Python39\\lib\\site-packages\\pyproj\\crs\\crs.py:141: FutureWarning: '+init=<authority>:<code>' syntax is deprecated. '<authority>:<code>' is the preferred initialization method. When making the change, be mindful of axis order changes: https://pyproj4.github.io/pyproj/stable/gotchas.html#axis-order-changes-in-proj-6\n",
      "  in_crs_string = _prepare_from_proj_string(in_crs_string)\n",
      "C:\\Users\\sm_pa\\AppData\\Local\\Temp\\ipykernel_7048\\678575862.py:7: FutureWarning: This function is deprecated. See: https://pyproj4.github.io/pyproj/stable/gotchas.html#upgrading-to-pyproj-2-from-pyproj-1\n",
      "  x, y = transform(Proj(init='epsg:4326'), utm40, lon, lat)  # Преобразование из WGS 84 (EPSG:4326) в UTM40\n",
      "C:\\Users\\sm_pa\\AppData\\Local\\Programs\\Python\\Python39\\lib\\site-packages\\pyproj\\crs\\crs.py:141: FutureWarning: '+init=<authority>:<code>' syntax is deprecated. '<authority>:<code>' is the preferred initialization method. When making the change, be mindful of axis order changes: https://pyproj4.github.io/pyproj/stable/gotchas.html#axis-order-changes-in-proj-6\n",
      "  in_crs_string = _prepare_from_proj_string(in_crs_string)\n",
      "C:\\Users\\sm_pa\\AppData\\Local\\Temp\\ipykernel_7048\\678575862.py:7: FutureWarning: This function is deprecated. See: https://pyproj4.github.io/pyproj/stable/gotchas.html#upgrading-to-pyproj-2-from-pyproj-1\n",
      "  x, y = transform(Proj(init='epsg:4326'), utm40, lon, lat)  # Преобразование из WGS 84 (EPSG:4326) в UTM40\n",
      "C:\\Users\\sm_pa\\AppData\\Local\\Programs\\Python\\Python39\\lib\\site-packages\\pyproj\\crs\\crs.py:141: FutureWarning: '+init=<authority>:<code>' syntax is deprecated. '<authority>:<code>' is the preferred initialization method. When making the change, be mindful of axis order changes: https://pyproj4.github.io/pyproj/stable/gotchas.html#axis-order-changes-in-proj-6\n",
      "  in_crs_string = _prepare_from_proj_string(in_crs_string)\n",
      "C:\\Users\\sm_pa\\AppData\\Local\\Temp\\ipykernel_7048\\678575862.py:7: FutureWarning: This function is deprecated. See: https://pyproj4.github.io/pyproj/stable/gotchas.html#upgrading-to-pyproj-2-from-pyproj-1\n",
      "  x, y = transform(Proj(init='epsg:4326'), utm40, lon, lat)  # Преобразование из WGS 84 (EPSG:4326) в UTM40\n",
      "C:\\Users\\sm_pa\\AppData\\Local\\Programs\\Python\\Python39\\lib\\site-packages\\pyproj\\crs\\crs.py:141: FutureWarning: '+init=<authority>:<code>' syntax is deprecated. '<authority>:<code>' is the preferred initialization method. When making the change, be mindful of axis order changes: https://pyproj4.github.io/pyproj/stable/gotchas.html#axis-order-changes-in-proj-6\n",
      "  in_crs_string = _prepare_from_proj_string(in_crs_string)\n",
      "C:\\Users\\sm_pa\\AppData\\Local\\Temp\\ipykernel_7048\\678575862.py:7: FutureWarning: This function is deprecated. See: https://pyproj4.github.io/pyproj/stable/gotchas.html#upgrading-to-pyproj-2-from-pyproj-1\n",
      "  x, y = transform(Proj(init='epsg:4326'), utm40, lon, lat)  # Преобразование из WGS 84 (EPSG:4326) в UTM40\n",
      "C:\\Users\\sm_pa\\AppData\\Local\\Programs\\Python\\Python39\\lib\\site-packages\\pyproj\\crs\\crs.py:141: FutureWarning: '+init=<authority>:<code>' syntax is deprecated. '<authority>:<code>' is the preferred initialization method. When making the change, be mindful of axis order changes: https://pyproj4.github.io/pyproj/stable/gotchas.html#axis-order-changes-in-proj-6\n",
      "  in_crs_string = _prepare_from_proj_string(in_crs_string)\n",
      "C:\\Users\\sm_pa\\AppData\\Local\\Temp\\ipykernel_7048\\678575862.py:7: FutureWarning: This function is deprecated. See: https://pyproj4.github.io/pyproj/stable/gotchas.html#upgrading-to-pyproj-2-from-pyproj-1\n",
      "  x, y = transform(Proj(init='epsg:4326'), utm40, lon, lat)  # Преобразование из WGS 84 (EPSG:4326) в UTM40\n",
      "C:\\Users\\sm_pa\\AppData\\Local\\Programs\\Python\\Python39\\lib\\site-packages\\pyproj\\crs\\crs.py:141: FutureWarning: '+init=<authority>:<code>' syntax is deprecated. '<authority>:<code>' is the preferred initialization method. When making the change, be mindful of axis order changes: https://pyproj4.github.io/pyproj/stable/gotchas.html#axis-order-changes-in-proj-6\n",
      "  in_crs_string = _prepare_from_proj_string(in_crs_string)\n",
      "C:\\Users\\sm_pa\\AppData\\Local\\Temp\\ipykernel_7048\\678575862.py:7: FutureWarning: This function is deprecated. See: https://pyproj4.github.io/pyproj/stable/gotchas.html#upgrading-to-pyproj-2-from-pyproj-1\n",
      "  x, y = transform(Proj(init='epsg:4326'), utm40, lon, lat)  # Преобразование из WGS 84 (EPSG:4326) в UTM40\n",
      "C:\\Users\\sm_pa\\AppData\\Local\\Programs\\Python\\Python39\\lib\\site-packages\\pyproj\\crs\\crs.py:141: FutureWarning: '+init=<authority>:<code>' syntax is deprecated. '<authority>:<code>' is the preferred initialization method. When making the change, be mindful of axis order changes: https://pyproj4.github.io/pyproj/stable/gotchas.html#axis-order-changes-in-proj-6\n",
      "  in_crs_string = _prepare_from_proj_string(in_crs_string)\n",
      "C:\\Users\\sm_pa\\AppData\\Local\\Temp\\ipykernel_7048\\678575862.py:7: FutureWarning: This function is deprecated. See: https://pyproj4.github.io/pyproj/stable/gotchas.html#upgrading-to-pyproj-2-from-pyproj-1\n",
      "  x, y = transform(Proj(init='epsg:4326'), utm40, lon, lat)  # Преобразование из WGS 84 (EPSG:4326) в UTM40\n",
      "C:\\Users\\sm_pa\\AppData\\Local\\Programs\\Python\\Python39\\lib\\site-packages\\pyproj\\crs\\crs.py:141: FutureWarning: '+init=<authority>:<code>' syntax is deprecated. '<authority>:<code>' is the preferred initialization method. When making the change, be mindful of axis order changes: https://pyproj4.github.io/pyproj/stable/gotchas.html#axis-order-changes-in-proj-6\n",
      "  in_crs_string = _prepare_from_proj_string(in_crs_string)\n",
      "C:\\Users\\sm_pa\\AppData\\Local\\Temp\\ipykernel_7048\\678575862.py:7: FutureWarning: This function is deprecated. See: https://pyproj4.github.io/pyproj/stable/gotchas.html#upgrading-to-pyproj-2-from-pyproj-1\n",
      "  x, y = transform(Proj(init='epsg:4326'), utm40, lon, lat)  # Преобразование из WGS 84 (EPSG:4326) в UTM40\n",
      "C:\\Users\\sm_pa\\AppData\\Local\\Programs\\Python\\Python39\\lib\\site-packages\\pyproj\\crs\\crs.py:141: FutureWarning: '+init=<authority>:<code>' syntax is deprecated. '<authority>:<code>' is the preferred initialization method. When making the change, be mindful of axis order changes: https://pyproj4.github.io/pyproj/stable/gotchas.html#axis-order-changes-in-proj-6\n",
      "  in_crs_string = _prepare_from_proj_string(in_crs_string)\n",
      "C:\\Users\\sm_pa\\AppData\\Local\\Temp\\ipykernel_7048\\678575862.py:7: FutureWarning: This function is deprecated. See: https://pyproj4.github.io/pyproj/stable/gotchas.html#upgrading-to-pyproj-2-from-pyproj-1\n",
      "  x, y = transform(Proj(init='epsg:4326'), utm40, lon, lat)  # Преобразование из WGS 84 (EPSG:4326) в UTM40\n",
      "C:\\Users\\sm_pa\\AppData\\Local\\Programs\\Python\\Python39\\lib\\site-packages\\pyproj\\crs\\crs.py:141: FutureWarning: '+init=<authority>:<code>' syntax is deprecated. '<authority>:<code>' is the preferred initialization method. When making the change, be mindful of axis order changes: https://pyproj4.github.io/pyproj/stable/gotchas.html#axis-order-changes-in-proj-6\n",
      "  in_crs_string = _prepare_from_proj_string(in_crs_string)\n",
      "C:\\Users\\sm_pa\\AppData\\Local\\Temp\\ipykernel_7048\\678575862.py:7: FutureWarning: This function is deprecated. See: https://pyproj4.github.io/pyproj/stable/gotchas.html#upgrading-to-pyproj-2-from-pyproj-1\n",
      "  x, y = transform(Proj(init='epsg:4326'), utm40, lon, lat)  # Преобразование из WGS 84 (EPSG:4326) в UTM40\n",
      "C:\\Users\\sm_pa\\AppData\\Local\\Programs\\Python\\Python39\\lib\\site-packages\\pyproj\\crs\\crs.py:141: FutureWarning: '+init=<authority>:<code>' syntax is deprecated. '<authority>:<code>' is the preferred initialization method. When making the change, be mindful of axis order changes: https://pyproj4.github.io/pyproj/stable/gotchas.html#axis-order-changes-in-proj-6\n",
      "  in_crs_string = _prepare_from_proj_string(in_crs_string)\n",
      "C:\\Users\\sm_pa\\AppData\\Local\\Temp\\ipykernel_7048\\678575862.py:7: FutureWarning: This function is deprecated. See: https://pyproj4.github.io/pyproj/stable/gotchas.html#upgrading-to-pyproj-2-from-pyproj-1\n",
      "  x, y = transform(Proj(init='epsg:4326'), utm40, lon, lat)  # Преобразование из WGS 84 (EPSG:4326) в UTM40\n",
      "C:\\Users\\sm_pa\\AppData\\Local\\Programs\\Python\\Python39\\lib\\site-packages\\pyproj\\crs\\crs.py:141: FutureWarning: '+init=<authority>:<code>' syntax is deprecated. '<authority>:<code>' is the preferred initialization method. When making the change, be mindful of axis order changes: https://pyproj4.github.io/pyproj/stable/gotchas.html#axis-order-changes-in-proj-6\n",
      "  in_crs_string = _prepare_from_proj_string(in_crs_string)\n",
      "C:\\Users\\sm_pa\\AppData\\Local\\Temp\\ipykernel_7048\\678575862.py:7: FutureWarning: This function is deprecated. See: https://pyproj4.github.io/pyproj/stable/gotchas.html#upgrading-to-pyproj-2-from-pyproj-1\n",
      "  x, y = transform(Proj(init='epsg:4326'), utm40, lon, lat)  # Преобразование из WGS 84 (EPSG:4326) в UTM40\n",
      "C:\\Users\\sm_pa\\AppData\\Local\\Programs\\Python\\Python39\\lib\\site-packages\\pyproj\\crs\\crs.py:141: FutureWarning: '+init=<authority>:<code>' syntax is deprecated. '<authority>:<code>' is the preferred initialization method. When making the change, be mindful of axis order changes: https://pyproj4.github.io/pyproj/stable/gotchas.html#axis-order-changes-in-proj-6\n",
      "  in_crs_string = _prepare_from_proj_string(in_crs_string)\n",
      "C:\\Users\\sm_pa\\AppData\\Local\\Temp\\ipykernel_7048\\678575862.py:7: FutureWarning: This function is deprecated. See: https://pyproj4.github.io/pyproj/stable/gotchas.html#upgrading-to-pyproj-2-from-pyproj-1\n",
      "  x, y = transform(Proj(init='epsg:4326'), utm40, lon, lat)  # Преобразование из WGS 84 (EPSG:4326) в UTM40\n",
      "C:\\Users\\sm_pa\\AppData\\Local\\Programs\\Python\\Python39\\lib\\site-packages\\pyproj\\crs\\crs.py:141: FutureWarning: '+init=<authority>:<code>' syntax is deprecated. '<authority>:<code>' is the preferred initialization method. When making the change, be mindful of axis order changes: https://pyproj4.github.io/pyproj/stable/gotchas.html#axis-order-changes-in-proj-6\n",
      "  in_crs_string = _prepare_from_proj_string(in_crs_string)\n",
      "C:\\Users\\sm_pa\\AppData\\Local\\Temp\\ipykernel_7048\\678575862.py:7: FutureWarning: This function is deprecated. See: https://pyproj4.github.io/pyproj/stable/gotchas.html#upgrading-to-pyproj-2-from-pyproj-1\n",
      "  x, y = transform(Proj(init='epsg:4326'), utm40, lon, lat)  # Преобразование из WGS 84 (EPSG:4326) в UTM40\n",
      "C:\\Users\\sm_pa\\AppData\\Local\\Programs\\Python\\Python39\\lib\\site-packages\\pyproj\\crs\\crs.py:141: FutureWarning: '+init=<authority>:<code>' syntax is deprecated. '<authority>:<code>' is the preferred initialization method. When making the change, be mindful of axis order changes: https://pyproj4.github.io/pyproj/stable/gotchas.html#axis-order-changes-in-proj-6\n",
      "  in_crs_string = _prepare_from_proj_string(in_crs_string)\n",
      "C:\\Users\\sm_pa\\AppData\\Local\\Temp\\ipykernel_7048\\678575862.py:7: FutureWarning: This function is deprecated. See: https://pyproj4.github.io/pyproj/stable/gotchas.html#upgrading-to-pyproj-2-from-pyproj-1\n",
      "  x, y = transform(Proj(init='epsg:4326'), utm40, lon, lat)  # Преобразование из WGS 84 (EPSG:4326) в UTM40\n",
      "C:\\Users\\sm_pa\\AppData\\Local\\Programs\\Python\\Python39\\lib\\site-packages\\pyproj\\crs\\crs.py:141: FutureWarning: '+init=<authority>:<code>' syntax is deprecated. '<authority>:<code>' is the preferred initialization method. When making the change, be mindful of axis order changes: https://pyproj4.github.io/pyproj/stable/gotchas.html#axis-order-changes-in-proj-6\n",
      "  in_crs_string = _prepare_from_proj_string(in_crs_string)\n",
      "C:\\Users\\sm_pa\\AppData\\Local\\Temp\\ipykernel_7048\\678575862.py:7: FutureWarning: This function is deprecated. See: https://pyproj4.github.io/pyproj/stable/gotchas.html#upgrading-to-pyproj-2-from-pyproj-1\n",
      "  x, y = transform(Proj(init='epsg:4326'), utm40, lon, lat)  # Преобразование из WGS 84 (EPSG:4326) в UTM40\n",
      "C:\\Users\\sm_pa\\AppData\\Local\\Programs\\Python\\Python39\\lib\\site-packages\\pyproj\\crs\\crs.py:141: FutureWarning: '+init=<authority>:<code>' syntax is deprecated. '<authority>:<code>' is the preferred initialization method. When making the change, be mindful of axis order changes: https://pyproj4.github.io/pyproj/stable/gotchas.html#axis-order-changes-in-proj-6\n",
      "  in_crs_string = _prepare_from_proj_string(in_crs_string)\n",
      "C:\\Users\\sm_pa\\AppData\\Local\\Temp\\ipykernel_7048\\678575862.py:7: FutureWarning: This function is deprecated. See: https://pyproj4.github.io/pyproj/stable/gotchas.html#upgrading-to-pyproj-2-from-pyproj-1\n",
      "  x, y = transform(Proj(init='epsg:4326'), utm40, lon, lat)  # Преобразование из WGS 84 (EPSG:4326) в UTM40\n",
      "C:\\Users\\sm_pa\\AppData\\Local\\Programs\\Python\\Python39\\lib\\site-packages\\pyproj\\crs\\crs.py:141: FutureWarning: '+init=<authority>:<code>' syntax is deprecated. '<authority>:<code>' is the preferred initialization method. When making the change, be mindful of axis order changes: https://pyproj4.github.io/pyproj/stable/gotchas.html#axis-order-changes-in-proj-6\n",
      "  in_crs_string = _prepare_from_proj_string(in_crs_string)\n",
      "C:\\Users\\sm_pa\\AppData\\Local\\Temp\\ipykernel_7048\\678575862.py:7: FutureWarning: This function is deprecated. See: https://pyproj4.github.io/pyproj/stable/gotchas.html#upgrading-to-pyproj-2-from-pyproj-1\n",
      "  x, y = transform(Proj(init='epsg:4326'), utm40, lon, lat)  # Преобразование из WGS 84 (EPSG:4326) в UTM40\n",
      "C:\\Users\\sm_pa\\AppData\\Local\\Programs\\Python\\Python39\\lib\\site-packages\\pyproj\\crs\\crs.py:141: FutureWarning: '+init=<authority>:<code>' syntax is deprecated. '<authority>:<code>' is the preferred initialization method. When making the change, be mindful of axis order changes: https://pyproj4.github.io/pyproj/stable/gotchas.html#axis-order-changes-in-proj-6\n",
      "  in_crs_string = _prepare_from_proj_string(in_crs_string)\n",
      "C:\\Users\\sm_pa\\AppData\\Local\\Temp\\ipykernel_7048\\678575862.py:7: FutureWarning: This function is deprecated. See: https://pyproj4.github.io/pyproj/stable/gotchas.html#upgrading-to-pyproj-2-from-pyproj-1\n",
      "  x, y = transform(Proj(init='epsg:4326'), utm40, lon, lat)  # Преобразование из WGS 84 (EPSG:4326) в UTM40\n",
      "C:\\Users\\sm_pa\\AppData\\Local\\Programs\\Python\\Python39\\lib\\site-packages\\pyproj\\crs\\crs.py:141: FutureWarning: '+init=<authority>:<code>' syntax is deprecated. '<authority>:<code>' is the preferred initialization method. When making the change, be mindful of axis order changes: https://pyproj4.github.io/pyproj/stable/gotchas.html#axis-order-changes-in-proj-6\n",
      "  in_crs_string = _prepare_from_proj_string(in_crs_string)\n",
      "C:\\Users\\sm_pa\\AppData\\Local\\Temp\\ipykernel_7048\\678575862.py:7: FutureWarning: This function is deprecated. See: https://pyproj4.github.io/pyproj/stable/gotchas.html#upgrading-to-pyproj-2-from-pyproj-1\n",
      "  x, y = transform(Proj(init='epsg:4326'), utm40, lon, lat)  # Преобразование из WGS 84 (EPSG:4326) в UTM40\n",
      "C:\\Users\\sm_pa\\AppData\\Local\\Programs\\Python\\Python39\\lib\\site-packages\\pyproj\\crs\\crs.py:141: FutureWarning: '+init=<authority>:<code>' syntax is deprecated. '<authority>:<code>' is the preferred initialization method. When making the change, be mindful of axis order changes: https://pyproj4.github.io/pyproj/stable/gotchas.html#axis-order-changes-in-proj-6\n",
      "  in_crs_string = _prepare_from_proj_string(in_crs_string)\n",
      "C:\\Users\\sm_pa\\AppData\\Local\\Temp\\ipykernel_7048\\678575862.py:7: FutureWarning: This function is deprecated. See: https://pyproj4.github.io/pyproj/stable/gotchas.html#upgrading-to-pyproj-2-from-pyproj-1\n",
      "  x, y = transform(Proj(init='epsg:4326'), utm40, lon, lat)  # Преобразование из WGS 84 (EPSG:4326) в UTM40\n",
      "C:\\Users\\sm_pa\\AppData\\Local\\Programs\\Python\\Python39\\lib\\site-packages\\pyproj\\crs\\crs.py:141: FutureWarning: '+init=<authority>:<code>' syntax is deprecated. '<authority>:<code>' is the preferred initialization method. When making the change, be mindful of axis order changes: https://pyproj4.github.io/pyproj/stable/gotchas.html#axis-order-changes-in-proj-6\n",
      "  in_crs_string = _prepare_from_proj_string(in_crs_string)\n",
      "C:\\Users\\sm_pa\\AppData\\Local\\Temp\\ipykernel_7048\\678575862.py:7: FutureWarning: This function is deprecated. See: https://pyproj4.github.io/pyproj/stable/gotchas.html#upgrading-to-pyproj-2-from-pyproj-1\n",
      "  x, y = transform(Proj(init='epsg:4326'), utm40, lon, lat)  # Преобразование из WGS 84 (EPSG:4326) в UTM40\n",
      "C:\\Users\\sm_pa\\AppData\\Local\\Programs\\Python\\Python39\\lib\\site-packages\\pyproj\\crs\\crs.py:141: FutureWarning: '+init=<authority>:<code>' syntax is deprecated. '<authority>:<code>' is the preferred initialization method. When making the change, be mindful of axis order changes: https://pyproj4.github.io/pyproj/stable/gotchas.html#axis-order-changes-in-proj-6\n",
      "  in_crs_string = _prepare_from_proj_string(in_crs_string)\n",
      "C:\\Users\\sm_pa\\AppData\\Local\\Temp\\ipykernel_7048\\678575862.py:7: FutureWarning: This function is deprecated. See: https://pyproj4.github.io/pyproj/stable/gotchas.html#upgrading-to-pyproj-2-from-pyproj-1\n",
      "  x, y = transform(Proj(init='epsg:4326'), utm40, lon, lat)  # Преобразование из WGS 84 (EPSG:4326) в UTM40\n",
      "C:\\Users\\sm_pa\\AppData\\Local\\Programs\\Python\\Python39\\lib\\site-packages\\pyproj\\crs\\crs.py:141: FutureWarning: '+init=<authority>:<code>' syntax is deprecated. '<authority>:<code>' is the preferred initialization method. When making the change, be mindful of axis order changes: https://pyproj4.github.io/pyproj/stable/gotchas.html#axis-order-changes-in-proj-6\n",
      "  in_crs_string = _prepare_from_proj_string(in_crs_string)\n",
      "C:\\Users\\sm_pa\\AppData\\Local\\Temp\\ipykernel_7048\\678575862.py:7: FutureWarning: This function is deprecated. See: https://pyproj4.github.io/pyproj/stable/gotchas.html#upgrading-to-pyproj-2-from-pyproj-1\n",
      "  x, y = transform(Proj(init='epsg:4326'), utm40, lon, lat)  # Преобразование из WGS 84 (EPSG:4326) в UTM40\n",
      "C:\\Users\\sm_pa\\AppData\\Local\\Programs\\Python\\Python39\\lib\\site-packages\\pyproj\\crs\\crs.py:141: FutureWarning: '+init=<authority>:<code>' syntax is deprecated. '<authority>:<code>' is the preferred initialization method. When making the change, be mindful of axis order changes: https://pyproj4.github.io/pyproj/stable/gotchas.html#axis-order-changes-in-proj-6\n",
      "  in_crs_string = _prepare_from_proj_string(in_crs_string)\n",
      "C:\\Users\\sm_pa\\AppData\\Local\\Temp\\ipykernel_7048\\678575862.py:7: FutureWarning: This function is deprecated. See: https://pyproj4.github.io/pyproj/stable/gotchas.html#upgrading-to-pyproj-2-from-pyproj-1\n",
      "  x, y = transform(Proj(init='epsg:4326'), utm40, lon, lat)  # Преобразование из WGS 84 (EPSG:4326) в UTM40\n",
      "C:\\Users\\sm_pa\\AppData\\Local\\Programs\\Python\\Python39\\lib\\site-packages\\pyproj\\crs\\crs.py:141: FutureWarning: '+init=<authority>:<code>' syntax is deprecated. '<authority>:<code>' is the preferred initialization method. When making the change, be mindful of axis order changes: https://pyproj4.github.io/pyproj/stable/gotchas.html#axis-order-changes-in-proj-6\n",
      "  in_crs_string = _prepare_from_proj_string(in_crs_string)\n",
      "C:\\Users\\sm_pa\\AppData\\Local\\Temp\\ipykernel_7048\\678575862.py:7: FutureWarning: This function is deprecated. See: https://pyproj4.github.io/pyproj/stable/gotchas.html#upgrading-to-pyproj-2-from-pyproj-1\n",
      "  x, y = transform(Proj(init='epsg:4326'), utm40, lon, lat)  # Преобразование из WGS 84 (EPSG:4326) в UTM40\n",
      "C:\\Users\\sm_pa\\AppData\\Local\\Programs\\Python\\Python39\\lib\\site-packages\\pyproj\\crs\\crs.py:141: FutureWarning: '+init=<authority>:<code>' syntax is deprecated. '<authority>:<code>' is the preferred initialization method. When making the change, be mindful of axis order changes: https://pyproj4.github.io/pyproj/stable/gotchas.html#axis-order-changes-in-proj-6\n",
      "  in_crs_string = _prepare_from_proj_string(in_crs_string)\n",
      "C:\\Users\\sm_pa\\AppData\\Local\\Temp\\ipykernel_7048\\678575862.py:7: FutureWarning: This function is deprecated. See: https://pyproj4.github.io/pyproj/stable/gotchas.html#upgrading-to-pyproj-2-from-pyproj-1\n",
      "  x, y = transform(Proj(init='epsg:4326'), utm40, lon, lat)  # Преобразование из WGS 84 (EPSG:4326) в UTM40\n",
      "C:\\Users\\sm_pa\\AppData\\Local\\Programs\\Python\\Python39\\lib\\site-packages\\pyproj\\crs\\crs.py:141: FutureWarning: '+init=<authority>:<code>' syntax is deprecated. '<authority>:<code>' is the preferred initialization method. When making the change, be mindful of axis order changes: https://pyproj4.github.io/pyproj/stable/gotchas.html#axis-order-changes-in-proj-6\n",
      "  in_crs_string = _prepare_from_proj_string(in_crs_string)\n",
      "C:\\Users\\sm_pa\\AppData\\Local\\Temp\\ipykernel_7048\\678575862.py:7: FutureWarning: This function is deprecated. See: https://pyproj4.github.io/pyproj/stable/gotchas.html#upgrading-to-pyproj-2-from-pyproj-1\n",
      "  x, y = transform(Proj(init='epsg:4326'), utm40, lon, lat)  # Преобразование из WGS 84 (EPSG:4326) в UTM40\n",
      "C:\\Users\\sm_pa\\AppData\\Local\\Programs\\Python\\Python39\\lib\\site-packages\\pyproj\\crs\\crs.py:141: FutureWarning: '+init=<authority>:<code>' syntax is deprecated. '<authority>:<code>' is the preferred initialization method. When making the change, be mindful of axis order changes: https://pyproj4.github.io/pyproj/stable/gotchas.html#axis-order-changes-in-proj-6\n",
      "  in_crs_string = _prepare_from_proj_string(in_crs_string)\n",
      "C:\\Users\\sm_pa\\AppData\\Local\\Temp\\ipykernel_7048\\678575862.py:7: FutureWarning: This function is deprecated. See: https://pyproj4.github.io/pyproj/stable/gotchas.html#upgrading-to-pyproj-2-from-pyproj-1\n",
      "  x, y = transform(Proj(init='epsg:4326'), utm40, lon, lat)  # Преобразование из WGS 84 (EPSG:4326) в UTM40\n",
      "C:\\Users\\sm_pa\\AppData\\Local\\Programs\\Python\\Python39\\lib\\site-packages\\pyproj\\crs\\crs.py:141: FutureWarning: '+init=<authority>:<code>' syntax is deprecated. '<authority>:<code>' is the preferred initialization method. When making the change, be mindful of axis order changes: https://pyproj4.github.io/pyproj/stable/gotchas.html#axis-order-changes-in-proj-6\n",
      "  in_crs_string = _prepare_from_proj_string(in_crs_string)\n",
      "C:\\Users\\sm_pa\\AppData\\Local\\Temp\\ipykernel_7048\\678575862.py:7: FutureWarning: This function is deprecated. See: https://pyproj4.github.io/pyproj/stable/gotchas.html#upgrading-to-pyproj-2-from-pyproj-1\n",
      "  x, y = transform(Proj(init='epsg:4326'), utm40, lon, lat)  # Преобразование из WGS 84 (EPSG:4326) в UTM40\n",
      "C:\\Users\\sm_pa\\AppData\\Local\\Programs\\Python\\Python39\\lib\\site-packages\\pyproj\\crs\\crs.py:141: FutureWarning: '+init=<authority>:<code>' syntax is deprecated. '<authority>:<code>' is the preferred initialization method. When making the change, be mindful of axis order changes: https://pyproj4.github.io/pyproj/stable/gotchas.html#axis-order-changes-in-proj-6\n",
      "  in_crs_string = _prepare_from_proj_string(in_crs_string)\n",
      "C:\\Users\\sm_pa\\AppData\\Local\\Temp\\ipykernel_7048\\678575862.py:7: FutureWarning: This function is deprecated. See: https://pyproj4.github.io/pyproj/stable/gotchas.html#upgrading-to-pyproj-2-from-pyproj-1\n",
      "  x, y = transform(Proj(init='epsg:4326'), utm40, lon, lat)  # Преобразование из WGS 84 (EPSG:4326) в UTM40\n",
      "C:\\Users\\sm_pa\\AppData\\Local\\Programs\\Python\\Python39\\lib\\site-packages\\pyproj\\crs\\crs.py:141: FutureWarning: '+init=<authority>:<code>' syntax is deprecated. '<authority>:<code>' is the preferred initialization method. When making the change, be mindful of axis order changes: https://pyproj4.github.io/pyproj/stable/gotchas.html#axis-order-changes-in-proj-6\n",
      "  in_crs_string = _prepare_from_proj_string(in_crs_string)\n",
      "C:\\Users\\sm_pa\\AppData\\Local\\Temp\\ipykernel_7048\\678575862.py:7: FutureWarning: This function is deprecated. See: https://pyproj4.github.io/pyproj/stable/gotchas.html#upgrading-to-pyproj-2-from-pyproj-1\n",
      "  x, y = transform(Proj(init='epsg:4326'), utm40, lon, lat)  # Преобразование из WGS 84 (EPSG:4326) в UTM40\n",
      "C:\\Users\\sm_pa\\AppData\\Local\\Programs\\Python\\Python39\\lib\\site-packages\\pyproj\\crs\\crs.py:141: FutureWarning: '+init=<authority>:<code>' syntax is deprecated. '<authority>:<code>' is the preferred initialization method. When making the change, be mindful of axis order changes: https://pyproj4.github.io/pyproj/stable/gotchas.html#axis-order-changes-in-proj-6\n",
      "  in_crs_string = _prepare_from_proj_string(in_crs_string)\n",
      "C:\\Users\\sm_pa\\AppData\\Local\\Temp\\ipykernel_7048\\678575862.py:7: FutureWarning: This function is deprecated. See: https://pyproj4.github.io/pyproj/stable/gotchas.html#upgrading-to-pyproj-2-from-pyproj-1\n",
      "  x, y = transform(Proj(init='epsg:4326'), utm40, lon, lat)  # Преобразование из WGS 84 (EPSG:4326) в UTM40\n",
      "C:\\Users\\sm_pa\\AppData\\Local\\Programs\\Python\\Python39\\lib\\site-packages\\pyproj\\crs\\crs.py:141: FutureWarning: '+init=<authority>:<code>' syntax is deprecated. '<authority>:<code>' is the preferred initialization method. When making the change, be mindful of axis order changes: https://pyproj4.github.io/pyproj/stable/gotchas.html#axis-order-changes-in-proj-6\n",
      "  in_crs_string = _prepare_from_proj_string(in_crs_string)\n",
      "C:\\Users\\sm_pa\\AppData\\Local\\Temp\\ipykernel_7048\\678575862.py:7: FutureWarning: This function is deprecated. See: https://pyproj4.github.io/pyproj/stable/gotchas.html#upgrading-to-pyproj-2-from-pyproj-1\n",
      "  x, y = transform(Proj(init='epsg:4326'), utm40, lon, lat)  # Преобразование из WGS 84 (EPSG:4326) в UTM40\n",
      "C:\\Users\\sm_pa\\AppData\\Local\\Programs\\Python\\Python39\\lib\\site-packages\\pyproj\\crs\\crs.py:141: FutureWarning: '+init=<authority>:<code>' syntax is deprecated. '<authority>:<code>' is the preferred initialization method. When making the change, be mindful of axis order changes: https://pyproj4.github.io/pyproj/stable/gotchas.html#axis-order-changes-in-proj-6\n",
      "  in_crs_string = _prepare_from_proj_string(in_crs_string)\n",
      "C:\\Users\\sm_pa\\AppData\\Local\\Temp\\ipykernel_7048\\678575862.py:7: FutureWarning: This function is deprecated. See: https://pyproj4.github.io/pyproj/stable/gotchas.html#upgrading-to-pyproj-2-from-pyproj-1\n",
      "  x, y = transform(Proj(init='epsg:4326'), utm40, lon, lat)  # Преобразование из WGS 84 (EPSG:4326) в UTM40\n",
      "C:\\Users\\sm_pa\\AppData\\Local\\Programs\\Python\\Python39\\lib\\site-packages\\pyproj\\crs\\crs.py:141: FutureWarning: '+init=<authority>:<code>' syntax is deprecated. '<authority>:<code>' is the preferred initialization method. When making the change, be mindful of axis order changes: https://pyproj4.github.io/pyproj/stable/gotchas.html#axis-order-changes-in-proj-6\n",
      "  in_crs_string = _prepare_from_proj_string(in_crs_string)\n",
      "C:\\Users\\sm_pa\\AppData\\Local\\Temp\\ipykernel_7048\\678575862.py:7: FutureWarning: This function is deprecated. See: https://pyproj4.github.io/pyproj/stable/gotchas.html#upgrading-to-pyproj-2-from-pyproj-1\n",
      "  x, y = transform(Proj(init='epsg:4326'), utm40, lon, lat)  # Преобразование из WGS 84 (EPSG:4326) в UTM40\n",
      "C:\\Users\\sm_pa\\AppData\\Local\\Programs\\Python\\Python39\\lib\\site-packages\\pyproj\\crs\\crs.py:141: FutureWarning: '+init=<authority>:<code>' syntax is deprecated. '<authority>:<code>' is the preferred initialization method. When making the change, be mindful of axis order changes: https://pyproj4.github.io/pyproj/stable/gotchas.html#axis-order-changes-in-proj-6\n",
      "  in_crs_string = _prepare_from_proj_string(in_crs_string)\n",
      "C:\\Users\\sm_pa\\AppData\\Local\\Temp\\ipykernel_7048\\678575862.py:7: FutureWarning: This function is deprecated. See: https://pyproj4.github.io/pyproj/stable/gotchas.html#upgrading-to-pyproj-2-from-pyproj-1\n",
      "  x, y = transform(Proj(init='epsg:4326'), utm40, lon, lat)  # Преобразование из WGS 84 (EPSG:4326) в UTM40\n",
      "C:\\Users\\sm_pa\\AppData\\Local\\Programs\\Python\\Python39\\lib\\site-packages\\pyproj\\crs\\crs.py:141: FutureWarning: '+init=<authority>:<code>' syntax is deprecated. '<authority>:<code>' is the preferred initialization method. When making the change, be mindful of axis order changes: https://pyproj4.github.io/pyproj/stable/gotchas.html#axis-order-changes-in-proj-6\n",
      "  in_crs_string = _prepare_from_proj_string(in_crs_string)\n",
      "C:\\Users\\sm_pa\\AppData\\Local\\Temp\\ipykernel_7048\\678575862.py:7: FutureWarning: This function is deprecated. See: https://pyproj4.github.io/pyproj/stable/gotchas.html#upgrading-to-pyproj-2-from-pyproj-1\n",
      "  x, y = transform(Proj(init='epsg:4326'), utm40, lon, lat)  # Преобразование из WGS 84 (EPSG:4326) в UTM40\n",
      "C:\\Users\\sm_pa\\AppData\\Local\\Programs\\Python\\Python39\\lib\\site-packages\\pyproj\\crs\\crs.py:141: FutureWarning: '+init=<authority>:<code>' syntax is deprecated. '<authority>:<code>' is the preferred initialization method. When making the change, be mindful of axis order changes: https://pyproj4.github.io/pyproj/stable/gotchas.html#axis-order-changes-in-proj-6\n",
      "  in_crs_string = _prepare_from_proj_string(in_crs_string)\n",
      "C:\\Users\\sm_pa\\AppData\\Local\\Temp\\ipykernel_7048\\678575862.py:7: FutureWarning: This function is deprecated. See: https://pyproj4.github.io/pyproj/stable/gotchas.html#upgrading-to-pyproj-2-from-pyproj-1\n",
      "  x, y = transform(Proj(init='epsg:4326'), utm40, lon, lat)  # Преобразование из WGS 84 (EPSG:4326) в UTM40\n",
      "C:\\Users\\sm_pa\\AppData\\Local\\Programs\\Python\\Python39\\lib\\site-packages\\pyproj\\crs\\crs.py:141: FutureWarning: '+init=<authority>:<code>' syntax is deprecated. '<authority>:<code>' is the preferred initialization method. When making the change, be mindful of axis order changes: https://pyproj4.github.io/pyproj/stable/gotchas.html#axis-order-changes-in-proj-6\n",
      "  in_crs_string = _prepare_from_proj_string(in_crs_string)\n",
      "C:\\Users\\sm_pa\\AppData\\Local\\Temp\\ipykernel_7048\\678575862.py:7: FutureWarning: This function is deprecated. See: https://pyproj4.github.io/pyproj/stable/gotchas.html#upgrading-to-pyproj-2-from-pyproj-1\n",
      "  x, y = transform(Proj(init='epsg:4326'), utm40, lon, lat)  # Преобразование из WGS 84 (EPSG:4326) в UTM40\n",
      "C:\\Users\\sm_pa\\AppData\\Local\\Programs\\Python\\Python39\\lib\\site-packages\\pyproj\\crs\\crs.py:141: FutureWarning: '+init=<authority>:<code>' syntax is deprecated. '<authority>:<code>' is the preferred initialization method. When making the change, be mindful of axis order changes: https://pyproj4.github.io/pyproj/stable/gotchas.html#axis-order-changes-in-proj-6\n",
      "  in_crs_string = _prepare_from_proj_string(in_crs_string)\n",
      "C:\\Users\\sm_pa\\AppData\\Local\\Temp\\ipykernel_7048\\678575862.py:7: FutureWarning: This function is deprecated. See: https://pyproj4.github.io/pyproj/stable/gotchas.html#upgrading-to-pyproj-2-from-pyproj-1\n",
      "  x, y = transform(Proj(init='epsg:4326'), utm40, lon, lat)  # Преобразование из WGS 84 (EPSG:4326) в UTM40\n",
      "C:\\Users\\sm_pa\\AppData\\Local\\Programs\\Python\\Python39\\lib\\site-packages\\pyproj\\crs\\crs.py:141: FutureWarning: '+init=<authority>:<code>' syntax is deprecated. '<authority>:<code>' is the preferred initialization method. When making the change, be mindful of axis order changes: https://pyproj4.github.io/pyproj/stable/gotchas.html#axis-order-changes-in-proj-6\n",
      "  in_crs_string = _prepare_from_proj_string(in_crs_string)\n",
      "C:\\Users\\sm_pa\\AppData\\Local\\Temp\\ipykernel_7048\\678575862.py:7: FutureWarning: This function is deprecated. See: https://pyproj4.github.io/pyproj/stable/gotchas.html#upgrading-to-pyproj-2-from-pyproj-1\n",
      "  x, y = transform(Proj(init='epsg:4326'), utm40, lon, lat)  # Преобразование из WGS 84 (EPSG:4326) в UTM40\n",
      "C:\\Users\\sm_pa\\AppData\\Local\\Programs\\Python\\Python39\\lib\\site-packages\\pyproj\\crs\\crs.py:141: FutureWarning: '+init=<authority>:<code>' syntax is deprecated. '<authority>:<code>' is the preferred initialization method. When making the change, be mindful of axis order changes: https://pyproj4.github.io/pyproj/stable/gotchas.html#axis-order-changes-in-proj-6\n",
      "  in_crs_string = _prepare_from_proj_string(in_crs_string)\n",
      "C:\\Users\\sm_pa\\AppData\\Local\\Temp\\ipykernel_7048\\678575862.py:7: FutureWarning: This function is deprecated. See: https://pyproj4.github.io/pyproj/stable/gotchas.html#upgrading-to-pyproj-2-from-pyproj-1\n",
      "  x, y = transform(Proj(init='epsg:4326'), utm40, lon, lat)  # Преобразование из WGS 84 (EPSG:4326) в UTM40\n",
      "C:\\Users\\sm_pa\\AppData\\Local\\Programs\\Python\\Python39\\lib\\site-packages\\pyproj\\crs\\crs.py:141: FutureWarning: '+init=<authority>:<code>' syntax is deprecated. '<authority>:<code>' is the preferred initialization method. When making the change, be mindful of axis order changes: https://pyproj4.github.io/pyproj/stable/gotchas.html#axis-order-changes-in-proj-6\n",
      "  in_crs_string = _prepare_from_proj_string(in_crs_string)\n",
      "C:\\Users\\sm_pa\\AppData\\Local\\Temp\\ipykernel_7048\\678575862.py:7: FutureWarning: This function is deprecated. See: https://pyproj4.github.io/pyproj/stable/gotchas.html#upgrading-to-pyproj-2-from-pyproj-1\n",
      "  x, y = transform(Proj(init='epsg:4326'), utm40, lon, lat)  # Преобразование из WGS 84 (EPSG:4326) в UTM40\n",
      "C:\\Users\\sm_pa\\AppData\\Local\\Programs\\Python\\Python39\\lib\\site-packages\\pyproj\\crs\\crs.py:141: FutureWarning: '+init=<authority>:<code>' syntax is deprecated. '<authority>:<code>' is the preferred initialization method. When making the change, be mindful of axis order changes: https://pyproj4.github.io/pyproj/stable/gotchas.html#axis-order-changes-in-proj-6\n",
      "  in_crs_string = _prepare_from_proj_string(in_crs_string)\n",
      "C:\\Users\\sm_pa\\AppData\\Local\\Temp\\ipykernel_7048\\678575862.py:7: FutureWarning: This function is deprecated. See: https://pyproj4.github.io/pyproj/stable/gotchas.html#upgrading-to-pyproj-2-from-pyproj-1\n",
      "  x, y = transform(Proj(init='epsg:4326'), utm40, lon, lat)  # Преобразование из WGS 84 (EPSG:4326) в UTM40\n",
      "C:\\Users\\sm_pa\\AppData\\Local\\Programs\\Python\\Python39\\lib\\site-packages\\pyproj\\crs\\crs.py:141: FutureWarning: '+init=<authority>:<code>' syntax is deprecated. '<authority>:<code>' is the preferred initialization method. When making the change, be mindful of axis order changes: https://pyproj4.github.io/pyproj/stable/gotchas.html#axis-order-changes-in-proj-6\n",
      "  in_crs_string = _prepare_from_proj_string(in_crs_string)\n",
      "C:\\Users\\sm_pa\\AppData\\Local\\Temp\\ipykernel_7048\\678575862.py:7: FutureWarning: This function is deprecated. See: https://pyproj4.github.io/pyproj/stable/gotchas.html#upgrading-to-pyproj-2-from-pyproj-1\n",
      "  x, y = transform(Proj(init='epsg:4326'), utm40, lon, lat)  # Преобразование из WGS 84 (EPSG:4326) в UTM40\n",
      "C:\\Users\\sm_pa\\AppData\\Local\\Programs\\Python\\Python39\\lib\\site-packages\\pyproj\\crs\\crs.py:141: FutureWarning: '+init=<authority>:<code>' syntax is deprecated. '<authority>:<code>' is the preferred initialization method. When making the change, be mindful of axis order changes: https://pyproj4.github.io/pyproj/stable/gotchas.html#axis-order-changes-in-proj-6\n",
      "  in_crs_string = _prepare_from_proj_string(in_crs_string)\n",
      "C:\\Users\\sm_pa\\AppData\\Local\\Temp\\ipykernel_7048\\678575862.py:7: FutureWarning: This function is deprecated. See: https://pyproj4.github.io/pyproj/stable/gotchas.html#upgrading-to-pyproj-2-from-pyproj-1\n",
      "  x, y = transform(Proj(init='epsg:4326'), utm40, lon, lat)  # Преобразование из WGS 84 (EPSG:4326) в UTM40\n",
      "C:\\Users\\sm_pa\\AppData\\Local\\Programs\\Python\\Python39\\lib\\site-packages\\pyproj\\crs\\crs.py:141: FutureWarning: '+init=<authority>:<code>' syntax is deprecated. '<authority>:<code>' is the preferred initialization method. When making the change, be mindful of axis order changes: https://pyproj4.github.io/pyproj/stable/gotchas.html#axis-order-changes-in-proj-6\n",
      "  in_crs_string = _prepare_from_proj_string(in_crs_string)\n",
      "C:\\Users\\sm_pa\\AppData\\Local\\Temp\\ipykernel_7048\\678575862.py:7: FutureWarning: This function is deprecated. See: https://pyproj4.github.io/pyproj/stable/gotchas.html#upgrading-to-pyproj-2-from-pyproj-1\n",
      "  x, y = transform(Proj(init='epsg:4326'), utm40, lon, lat)  # Преобразование из WGS 84 (EPSG:4326) в UTM40\n",
      "C:\\Users\\sm_pa\\AppData\\Local\\Programs\\Python\\Python39\\lib\\site-packages\\pyproj\\crs\\crs.py:141: FutureWarning: '+init=<authority>:<code>' syntax is deprecated. '<authority>:<code>' is the preferred initialization method. When making the change, be mindful of axis order changes: https://pyproj4.github.io/pyproj/stable/gotchas.html#axis-order-changes-in-proj-6\n",
      "  in_crs_string = _prepare_from_proj_string(in_crs_string)\n",
      "C:\\Users\\sm_pa\\AppData\\Local\\Temp\\ipykernel_7048\\678575862.py:7: FutureWarning: This function is deprecated. See: https://pyproj4.github.io/pyproj/stable/gotchas.html#upgrading-to-pyproj-2-from-pyproj-1\n",
      "  x, y = transform(Proj(init='epsg:4326'), utm40, lon, lat)  # Преобразование из WGS 84 (EPSG:4326) в UTM40\n",
      "C:\\Users\\sm_pa\\AppData\\Local\\Programs\\Python\\Python39\\lib\\site-packages\\pyproj\\crs\\crs.py:141: FutureWarning: '+init=<authority>:<code>' syntax is deprecated. '<authority>:<code>' is the preferred initialization method. When making the change, be mindful of axis order changes: https://pyproj4.github.io/pyproj/stable/gotchas.html#axis-order-changes-in-proj-6\n",
      "  in_crs_string = _prepare_from_proj_string(in_crs_string)\n",
      "C:\\Users\\sm_pa\\AppData\\Local\\Temp\\ipykernel_7048\\678575862.py:7: FutureWarning: This function is deprecated. See: https://pyproj4.github.io/pyproj/stable/gotchas.html#upgrading-to-pyproj-2-from-pyproj-1\n",
      "  x, y = transform(Proj(init='epsg:4326'), utm40, lon, lat)  # Преобразование из WGS 84 (EPSG:4326) в UTM40\n",
      "C:\\Users\\sm_pa\\AppData\\Local\\Programs\\Python\\Python39\\lib\\site-packages\\pyproj\\crs\\crs.py:141: FutureWarning: '+init=<authority>:<code>' syntax is deprecated. '<authority>:<code>' is the preferred initialization method. When making the change, be mindful of axis order changes: https://pyproj4.github.io/pyproj/stable/gotchas.html#axis-order-changes-in-proj-6\n",
      "  in_crs_string = _prepare_from_proj_string(in_crs_string)\n",
      "C:\\Users\\sm_pa\\AppData\\Local\\Temp\\ipykernel_7048\\678575862.py:7: FutureWarning: This function is deprecated. See: https://pyproj4.github.io/pyproj/stable/gotchas.html#upgrading-to-pyproj-2-from-pyproj-1\n",
      "  x, y = transform(Proj(init='epsg:4326'), utm40, lon, lat)  # Преобразование из WGS 84 (EPSG:4326) в UTM40\n",
      "C:\\Users\\sm_pa\\AppData\\Local\\Programs\\Python\\Python39\\lib\\site-packages\\pyproj\\crs\\crs.py:141: FutureWarning: '+init=<authority>:<code>' syntax is deprecated. '<authority>:<code>' is the preferred initialization method. When making the change, be mindful of axis order changes: https://pyproj4.github.io/pyproj/stable/gotchas.html#axis-order-changes-in-proj-6\n",
      "  in_crs_string = _prepare_from_proj_string(in_crs_string)\n",
      "C:\\Users\\sm_pa\\AppData\\Local\\Temp\\ipykernel_7048\\678575862.py:7: FutureWarning: This function is deprecated. See: https://pyproj4.github.io/pyproj/stable/gotchas.html#upgrading-to-pyproj-2-from-pyproj-1\n",
      "  x, y = transform(Proj(init='epsg:4326'), utm40, lon, lat)  # Преобразование из WGS 84 (EPSG:4326) в UTM40\n",
      "C:\\Users\\sm_pa\\AppData\\Local\\Programs\\Python\\Python39\\lib\\site-packages\\pyproj\\crs\\crs.py:141: FutureWarning: '+init=<authority>:<code>' syntax is deprecated. '<authority>:<code>' is the preferred initialization method. When making the change, be mindful of axis order changes: https://pyproj4.github.io/pyproj/stable/gotchas.html#axis-order-changes-in-proj-6\n",
      "  in_crs_string = _prepare_from_proj_string(in_crs_string)\n",
      "C:\\Users\\sm_pa\\AppData\\Local\\Temp\\ipykernel_7048\\678575862.py:7: FutureWarning: This function is deprecated. See: https://pyproj4.github.io/pyproj/stable/gotchas.html#upgrading-to-pyproj-2-from-pyproj-1\n",
      "  x, y = transform(Proj(init='epsg:4326'), utm40, lon, lat)  # Преобразование из WGS 84 (EPSG:4326) в UTM40\n",
      "C:\\Users\\sm_pa\\AppData\\Local\\Programs\\Python\\Python39\\lib\\site-packages\\pyproj\\crs\\crs.py:141: FutureWarning: '+init=<authority>:<code>' syntax is deprecated. '<authority>:<code>' is the preferred initialization method. When making the change, be mindful of axis order changes: https://pyproj4.github.io/pyproj/stable/gotchas.html#axis-order-changes-in-proj-6\n",
      "  in_crs_string = _prepare_from_proj_string(in_crs_string)\n",
      "C:\\Users\\sm_pa\\AppData\\Local\\Temp\\ipykernel_7048\\678575862.py:7: FutureWarning: This function is deprecated. See: https://pyproj4.github.io/pyproj/stable/gotchas.html#upgrading-to-pyproj-2-from-pyproj-1\n",
      "  x, y = transform(Proj(init='epsg:4326'), utm40, lon, lat)  # Преобразование из WGS 84 (EPSG:4326) в UTM40\n",
      "C:\\Users\\sm_pa\\AppData\\Local\\Programs\\Python\\Python39\\lib\\site-packages\\pyproj\\crs\\crs.py:141: FutureWarning: '+init=<authority>:<code>' syntax is deprecated. '<authority>:<code>' is the preferred initialization method. When making the change, be mindful of axis order changes: https://pyproj4.github.io/pyproj/stable/gotchas.html#axis-order-changes-in-proj-6\n",
      "  in_crs_string = _prepare_from_proj_string(in_crs_string)\n",
      "C:\\Users\\sm_pa\\AppData\\Local\\Temp\\ipykernel_7048\\678575862.py:7: FutureWarning: This function is deprecated. See: https://pyproj4.github.io/pyproj/stable/gotchas.html#upgrading-to-pyproj-2-from-pyproj-1\n",
      "  x, y = transform(Proj(init='epsg:4326'), utm40, lon, lat)  # Преобразование из WGS 84 (EPSG:4326) в UTM40\n",
      "C:\\Users\\sm_pa\\AppData\\Local\\Programs\\Python\\Python39\\lib\\site-packages\\pyproj\\crs\\crs.py:141: FutureWarning: '+init=<authority>:<code>' syntax is deprecated. '<authority>:<code>' is the preferred initialization method. When making the change, be mindful of axis order changes: https://pyproj4.github.io/pyproj/stable/gotchas.html#axis-order-changes-in-proj-6\n",
      "  in_crs_string = _prepare_from_proj_string(in_crs_string)\n",
      "C:\\Users\\sm_pa\\AppData\\Local\\Temp\\ipykernel_7048\\678575862.py:7: FutureWarning: This function is deprecated. See: https://pyproj4.github.io/pyproj/stable/gotchas.html#upgrading-to-pyproj-2-from-pyproj-1\n",
      "  x, y = transform(Proj(init='epsg:4326'), utm40, lon, lat)  # Преобразование из WGS 84 (EPSG:4326) в UTM40\n",
      "C:\\Users\\sm_pa\\AppData\\Local\\Programs\\Python\\Python39\\lib\\site-packages\\pyproj\\crs\\crs.py:141: FutureWarning: '+init=<authority>:<code>' syntax is deprecated. '<authority>:<code>' is the preferred initialization method. When making the change, be mindful of axis order changes: https://pyproj4.github.io/pyproj/stable/gotchas.html#axis-order-changes-in-proj-6\n",
      "  in_crs_string = _prepare_from_proj_string(in_crs_string)\n",
      "C:\\Users\\sm_pa\\AppData\\Local\\Temp\\ipykernel_7048\\678575862.py:7: FutureWarning: This function is deprecated. See: https://pyproj4.github.io/pyproj/stable/gotchas.html#upgrading-to-pyproj-2-from-pyproj-1\n",
      "  x, y = transform(Proj(init='epsg:4326'), utm40, lon, lat)  # Преобразование из WGS 84 (EPSG:4326) в UTM40\n",
      "C:\\Users\\sm_pa\\AppData\\Local\\Programs\\Python\\Python39\\lib\\site-packages\\pyproj\\crs\\crs.py:141: FutureWarning: '+init=<authority>:<code>' syntax is deprecated. '<authority>:<code>' is the preferred initialization method. When making the change, be mindful of axis order changes: https://pyproj4.github.io/pyproj/stable/gotchas.html#axis-order-changes-in-proj-6\n",
      "  in_crs_string = _prepare_from_proj_string(in_crs_string)\n",
      "C:\\Users\\sm_pa\\AppData\\Local\\Temp\\ipykernel_7048\\678575862.py:7: FutureWarning: This function is deprecated. See: https://pyproj4.github.io/pyproj/stable/gotchas.html#upgrading-to-pyproj-2-from-pyproj-1\n",
      "  x, y = transform(Proj(init='epsg:4326'), utm40, lon, lat)  # Преобразование из WGS 84 (EPSG:4326) в UTM40\n",
      "C:\\Users\\sm_pa\\AppData\\Local\\Programs\\Python\\Python39\\lib\\site-packages\\pyproj\\crs\\crs.py:141: FutureWarning: '+init=<authority>:<code>' syntax is deprecated. '<authority>:<code>' is the preferred initialization method. When making the change, be mindful of axis order changes: https://pyproj4.github.io/pyproj/stable/gotchas.html#axis-order-changes-in-proj-6\n",
      "  in_crs_string = _prepare_from_proj_string(in_crs_string)\n",
      "C:\\Users\\sm_pa\\AppData\\Local\\Temp\\ipykernel_7048\\678575862.py:7: FutureWarning: This function is deprecated. See: https://pyproj4.github.io/pyproj/stable/gotchas.html#upgrading-to-pyproj-2-from-pyproj-1\n",
      "  x, y = transform(Proj(init='epsg:4326'), utm40, lon, lat)  # Преобразование из WGS 84 (EPSG:4326) в UTM40\n",
      "C:\\Users\\sm_pa\\AppData\\Local\\Programs\\Python\\Python39\\lib\\site-packages\\pyproj\\crs\\crs.py:141: FutureWarning: '+init=<authority>:<code>' syntax is deprecated. '<authority>:<code>' is the preferred initialization method. When making the change, be mindful of axis order changes: https://pyproj4.github.io/pyproj/stable/gotchas.html#axis-order-changes-in-proj-6\n",
      "  in_crs_string = _prepare_from_proj_string(in_crs_string)\n",
      "C:\\Users\\sm_pa\\AppData\\Local\\Temp\\ipykernel_7048\\678575862.py:7: FutureWarning: This function is deprecated. See: https://pyproj4.github.io/pyproj/stable/gotchas.html#upgrading-to-pyproj-2-from-pyproj-1\n",
      "  x, y = transform(Proj(init='epsg:4326'), utm40, lon, lat)  # Преобразование из WGS 84 (EPSG:4326) в UTM40\n",
      "C:\\Users\\sm_pa\\AppData\\Local\\Programs\\Python\\Python39\\lib\\site-packages\\pyproj\\crs\\crs.py:141: FutureWarning: '+init=<authority>:<code>' syntax is deprecated. '<authority>:<code>' is the preferred initialization method. When making the change, be mindful of axis order changes: https://pyproj4.github.io/pyproj/stable/gotchas.html#axis-order-changes-in-proj-6\n",
      "  in_crs_string = _prepare_from_proj_string(in_crs_string)\n",
      "C:\\Users\\sm_pa\\AppData\\Local\\Temp\\ipykernel_7048\\678575862.py:7: FutureWarning: This function is deprecated. See: https://pyproj4.github.io/pyproj/stable/gotchas.html#upgrading-to-pyproj-2-from-pyproj-1\n",
      "  x, y = transform(Proj(init='epsg:4326'), utm40, lon, lat)  # Преобразование из WGS 84 (EPSG:4326) в UTM40\n",
      "C:\\Users\\sm_pa\\AppData\\Local\\Programs\\Python\\Python39\\lib\\site-packages\\pyproj\\crs\\crs.py:141: FutureWarning: '+init=<authority>:<code>' syntax is deprecated. '<authority>:<code>' is the preferred initialization method. When making the change, be mindful of axis order changes: https://pyproj4.github.io/pyproj/stable/gotchas.html#axis-order-changes-in-proj-6\n",
      "  in_crs_string = _prepare_from_proj_string(in_crs_string)\n",
      "C:\\Users\\sm_pa\\AppData\\Local\\Temp\\ipykernel_7048\\678575862.py:7: FutureWarning: This function is deprecated. See: https://pyproj4.github.io/pyproj/stable/gotchas.html#upgrading-to-pyproj-2-from-pyproj-1\n",
      "  x, y = transform(Proj(init='epsg:4326'), utm40, lon, lat)  # Преобразование из WGS 84 (EPSG:4326) в UTM40\n",
      "C:\\Users\\sm_pa\\AppData\\Local\\Programs\\Python\\Python39\\lib\\site-packages\\pyproj\\crs\\crs.py:141: FutureWarning: '+init=<authority>:<code>' syntax is deprecated. '<authority>:<code>' is the preferred initialization method. When making the change, be mindful of axis order changes: https://pyproj4.github.io/pyproj/stable/gotchas.html#axis-order-changes-in-proj-6\n",
      "  in_crs_string = _prepare_from_proj_string(in_crs_string)\n",
      "C:\\Users\\sm_pa\\AppData\\Local\\Temp\\ipykernel_7048\\678575862.py:7: FutureWarning: This function is deprecated. See: https://pyproj4.github.io/pyproj/stable/gotchas.html#upgrading-to-pyproj-2-from-pyproj-1\n",
      "  x, y = transform(Proj(init='epsg:4326'), utm40, lon, lat)  # Преобразование из WGS 84 (EPSG:4326) в UTM40\n",
      "C:\\Users\\sm_pa\\AppData\\Local\\Programs\\Python\\Python39\\lib\\site-packages\\pyproj\\crs\\crs.py:141: FutureWarning: '+init=<authority>:<code>' syntax is deprecated. '<authority>:<code>' is the preferred initialization method. When making the change, be mindful of axis order changes: https://pyproj4.github.io/pyproj/stable/gotchas.html#axis-order-changes-in-proj-6\n",
      "  in_crs_string = _prepare_from_proj_string(in_crs_string)\n",
      "C:\\Users\\sm_pa\\AppData\\Local\\Temp\\ipykernel_7048\\678575862.py:7: FutureWarning: This function is deprecated. See: https://pyproj4.github.io/pyproj/stable/gotchas.html#upgrading-to-pyproj-2-from-pyproj-1\n",
      "  x, y = transform(Proj(init='epsg:4326'), utm40, lon, lat)  # Преобразование из WGS 84 (EPSG:4326) в UTM40\n",
      "C:\\Users\\sm_pa\\AppData\\Local\\Programs\\Python\\Python39\\lib\\site-packages\\pyproj\\crs\\crs.py:141: FutureWarning: '+init=<authority>:<code>' syntax is deprecated. '<authority>:<code>' is the preferred initialization method. When making the change, be mindful of axis order changes: https://pyproj4.github.io/pyproj/stable/gotchas.html#axis-order-changes-in-proj-6\n",
      "  in_crs_string = _prepare_from_proj_string(in_crs_string)\n",
      "C:\\Users\\sm_pa\\AppData\\Local\\Temp\\ipykernel_7048\\678575862.py:7: FutureWarning: This function is deprecated. See: https://pyproj4.github.io/pyproj/stable/gotchas.html#upgrading-to-pyproj-2-from-pyproj-1\n",
      "  x, y = transform(Proj(init='epsg:4326'), utm40, lon, lat)  # Преобразование из WGS 84 (EPSG:4326) в UTM40\n",
      "C:\\Users\\sm_pa\\AppData\\Local\\Programs\\Python\\Python39\\lib\\site-packages\\pyproj\\crs\\crs.py:141: FutureWarning: '+init=<authority>:<code>' syntax is deprecated. '<authority>:<code>' is the preferred initialization method. When making the change, be mindful of axis order changes: https://pyproj4.github.io/pyproj/stable/gotchas.html#axis-order-changes-in-proj-6\n",
      "  in_crs_string = _prepare_from_proj_string(in_crs_string)\n",
      "C:\\Users\\sm_pa\\AppData\\Local\\Temp\\ipykernel_7048\\678575862.py:7: FutureWarning: This function is deprecated. See: https://pyproj4.github.io/pyproj/stable/gotchas.html#upgrading-to-pyproj-2-from-pyproj-1\n",
      "  x, y = transform(Proj(init='epsg:4326'), utm40, lon, lat)  # Преобразование из WGS 84 (EPSG:4326) в UTM40\n",
      "C:\\Users\\sm_pa\\AppData\\Local\\Programs\\Python\\Python39\\lib\\site-packages\\pyproj\\crs\\crs.py:141: FutureWarning: '+init=<authority>:<code>' syntax is deprecated. '<authority>:<code>' is the preferred initialization method. When making the change, be mindful of axis order changes: https://pyproj4.github.io/pyproj/stable/gotchas.html#axis-order-changes-in-proj-6\n",
      "  in_crs_string = _prepare_from_proj_string(in_crs_string)\n",
      "C:\\Users\\sm_pa\\AppData\\Local\\Temp\\ipykernel_7048\\678575862.py:7: FutureWarning: This function is deprecated. See: https://pyproj4.github.io/pyproj/stable/gotchas.html#upgrading-to-pyproj-2-from-pyproj-1\n",
      "  x, y = transform(Proj(init='epsg:4326'), utm40, lon, lat)  # Преобразование из WGS 84 (EPSG:4326) в UTM40\n",
      "C:\\Users\\sm_pa\\AppData\\Local\\Programs\\Python\\Python39\\lib\\site-packages\\pyproj\\crs\\crs.py:141: FutureWarning: '+init=<authority>:<code>' syntax is deprecated. '<authority>:<code>' is the preferred initialization method. When making the change, be mindful of axis order changes: https://pyproj4.github.io/pyproj/stable/gotchas.html#axis-order-changes-in-proj-6\n",
      "  in_crs_string = _prepare_from_proj_string(in_crs_string)\n",
      "C:\\Users\\sm_pa\\AppData\\Local\\Temp\\ipykernel_7048\\678575862.py:7: FutureWarning: This function is deprecated. See: https://pyproj4.github.io/pyproj/stable/gotchas.html#upgrading-to-pyproj-2-from-pyproj-1\n",
      "  x, y = transform(Proj(init='epsg:4326'), utm40, lon, lat)  # Преобразование из WGS 84 (EPSG:4326) в UTM40\n",
      "C:\\Users\\sm_pa\\AppData\\Local\\Programs\\Python\\Python39\\lib\\site-packages\\pyproj\\crs\\crs.py:141: FutureWarning: '+init=<authority>:<code>' syntax is deprecated. '<authority>:<code>' is the preferred initialization method. When making the change, be mindful of axis order changes: https://pyproj4.github.io/pyproj/stable/gotchas.html#axis-order-changes-in-proj-6\n",
      "  in_crs_string = _prepare_from_proj_string(in_crs_string)\n",
      "C:\\Users\\sm_pa\\AppData\\Local\\Temp\\ipykernel_7048\\678575862.py:7: FutureWarning: This function is deprecated. See: https://pyproj4.github.io/pyproj/stable/gotchas.html#upgrading-to-pyproj-2-from-pyproj-1\n",
      "  x, y = transform(Proj(init='epsg:4326'), utm40, lon, lat)  # Преобразование из WGS 84 (EPSG:4326) в UTM40\n",
      "C:\\Users\\sm_pa\\AppData\\Local\\Programs\\Python\\Python39\\lib\\site-packages\\pyproj\\crs\\crs.py:141: FutureWarning: '+init=<authority>:<code>' syntax is deprecated. '<authority>:<code>' is the preferred initialization method. When making the change, be mindful of axis order changes: https://pyproj4.github.io/pyproj/stable/gotchas.html#axis-order-changes-in-proj-6\n",
      "  in_crs_string = _prepare_from_proj_string(in_crs_string)\n",
      "C:\\Users\\sm_pa\\AppData\\Local\\Temp\\ipykernel_7048\\678575862.py:7: FutureWarning: This function is deprecated. See: https://pyproj4.github.io/pyproj/stable/gotchas.html#upgrading-to-pyproj-2-from-pyproj-1\n",
      "  x, y = transform(Proj(init='epsg:4326'), utm40, lon, lat)  # Преобразование из WGS 84 (EPSG:4326) в UTM40\n",
      "C:\\Users\\sm_pa\\AppData\\Local\\Programs\\Python\\Python39\\lib\\site-packages\\pyproj\\crs\\crs.py:141: FutureWarning: '+init=<authority>:<code>' syntax is deprecated. '<authority>:<code>' is the preferred initialization method. When making the change, be mindful of axis order changes: https://pyproj4.github.io/pyproj/stable/gotchas.html#axis-order-changes-in-proj-6\n",
      "  in_crs_string = _prepare_from_proj_string(in_crs_string)\n",
      "C:\\Users\\sm_pa\\AppData\\Local\\Temp\\ipykernel_7048\\678575862.py:7: FutureWarning: This function is deprecated. See: https://pyproj4.github.io/pyproj/stable/gotchas.html#upgrading-to-pyproj-2-from-pyproj-1\n",
      "  x, y = transform(Proj(init='epsg:4326'), utm40, lon, lat)  # Преобразование из WGS 84 (EPSG:4326) в UTM40\n",
      "C:\\Users\\sm_pa\\AppData\\Local\\Programs\\Python\\Python39\\lib\\site-packages\\pyproj\\crs\\crs.py:141: FutureWarning: '+init=<authority>:<code>' syntax is deprecated. '<authority>:<code>' is the preferred initialization method. When making the change, be mindful of axis order changes: https://pyproj4.github.io/pyproj/stable/gotchas.html#axis-order-changes-in-proj-6\n",
      "  in_crs_string = _prepare_from_proj_string(in_crs_string)\n",
      "C:\\Users\\sm_pa\\AppData\\Local\\Temp\\ipykernel_7048\\678575862.py:7: FutureWarning: This function is deprecated. See: https://pyproj4.github.io/pyproj/stable/gotchas.html#upgrading-to-pyproj-2-from-pyproj-1\n",
      "  x, y = transform(Proj(init='epsg:4326'), utm40, lon, lat)  # Преобразование из WGS 84 (EPSG:4326) в UTM40\n",
      "C:\\Users\\sm_pa\\AppData\\Local\\Programs\\Python\\Python39\\lib\\site-packages\\pyproj\\crs\\crs.py:141: FutureWarning: '+init=<authority>:<code>' syntax is deprecated. '<authority>:<code>' is the preferred initialization method. When making the change, be mindful of axis order changes: https://pyproj4.github.io/pyproj/stable/gotchas.html#axis-order-changes-in-proj-6\n",
      "  in_crs_string = _prepare_from_proj_string(in_crs_string)\n",
      "C:\\Users\\sm_pa\\AppData\\Local\\Temp\\ipykernel_7048\\678575862.py:7: FutureWarning: This function is deprecated. See: https://pyproj4.github.io/pyproj/stable/gotchas.html#upgrading-to-pyproj-2-from-pyproj-1\n",
      "  x, y = transform(Proj(init='epsg:4326'), utm40, lon, lat)  # Преобразование из WGS 84 (EPSG:4326) в UTM40\n",
      "C:\\Users\\sm_pa\\AppData\\Local\\Programs\\Python\\Python39\\lib\\site-packages\\pyproj\\crs\\crs.py:141: FutureWarning: '+init=<authority>:<code>' syntax is deprecated. '<authority>:<code>' is the preferred initialization method. When making the change, be mindful of axis order changes: https://pyproj4.github.io/pyproj/stable/gotchas.html#axis-order-changes-in-proj-6\n",
      "  in_crs_string = _prepare_from_proj_string(in_crs_string)\n",
      "C:\\Users\\sm_pa\\AppData\\Local\\Temp\\ipykernel_7048\\678575862.py:7: FutureWarning: This function is deprecated. See: https://pyproj4.github.io/pyproj/stable/gotchas.html#upgrading-to-pyproj-2-from-pyproj-1\n",
      "  x, y = transform(Proj(init='epsg:4326'), utm40, lon, lat)  # Преобразование из WGS 84 (EPSG:4326) в UTM40\n",
      "C:\\Users\\sm_pa\\AppData\\Local\\Programs\\Python\\Python39\\lib\\site-packages\\pyproj\\crs\\crs.py:141: FutureWarning: '+init=<authority>:<code>' syntax is deprecated. '<authority>:<code>' is the preferred initialization method. When making the change, be mindful of axis order changes: https://pyproj4.github.io/pyproj/stable/gotchas.html#axis-order-changes-in-proj-6\n",
      "  in_crs_string = _prepare_from_proj_string(in_crs_string)\n",
      "C:\\Users\\sm_pa\\AppData\\Local\\Temp\\ipykernel_7048\\678575862.py:7: FutureWarning: This function is deprecated. See: https://pyproj4.github.io/pyproj/stable/gotchas.html#upgrading-to-pyproj-2-from-pyproj-1\n",
      "  x, y = transform(Proj(init='epsg:4326'), utm40, lon, lat)  # Преобразование из WGS 84 (EPSG:4326) в UTM40\n",
      "C:\\Users\\sm_pa\\AppData\\Local\\Programs\\Python\\Python39\\lib\\site-packages\\pyproj\\crs\\crs.py:141: FutureWarning: '+init=<authority>:<code>' syntax is deprecated. '<authority>:<code>' is the preferred initialization method. When making the change, be mindful of axis order changes: https://pyproj4.github.io/pyproj/stable/gotchas.html#axis-order-changes-in-proj-6\n",
      "  in_crs_string = _prepare_from_proj_string(in_crs_string)\n",
      "C:\\Users\\sm_pa\\AppData\\Local\\Temp\\ipykernel_7048\\678575862.py:7: FutureWarning: This function is deprecated. See: https://pyproj4.github.io/pyproj/stable/gotchas.html#upgrading-to-pyproj-2-from-pyproj-1\n",
      "  x, y = transform(Proj(init='epsg:4326'), utm40, lon, lat)  # Преобразование из WGS 84 (EPSG:4326) в UTM40\n",
      "C:\\Users\\sm_pa\\AppData\\Local\\Programs\\Python\\Python39\\lib\\site-packages\\pyproj\\crs\\crs.py:141: FutureWarning: '+init=<authority>:<code>' syntax is deprecated. '<authority>:<code>' is the preferred initialization method. When making the change, be mindful of axis order changes: https://pyproj4.github.io/pyproj/stable/gotchas.html#axis-order-changes-in-proj-6\n",
      "  in_crs_string = _prepare_from_proj_string(in_crs_string)\n",
      "C:\\Users\\sm_pa\\AppData\\Local\\Temp\\ipykernel_7048\\678575862.py:7: FutureWarning: This function is deprecated. See: https://pyproj4.github.io/pyproj/stable/gotchas.html#upgrading-to-pyproj-2-from-pyproj-1\n",
      "  x, y = transform(Proj(init='epsg:4326'), utm40, lon, lat)  # Преобразование из WGS 84 (EPSG:4326) в UTM40\n",
      "C:\\Users\\sm_pa\\AppData\\Local\\Programs\\Python\\Python39\\lib\\site-packages\\pyproj\\crs\\crs.py:141: FutureWarning: '+init=<authority>:<code>' syntax is deprecated. '<authority>:<code>' is the preferred initialization method. When making the change, be mindful of axis order changes: https://pyproj4.github.io/pyproj/stable/gotchas.html#axis-order-changes-in-proj-6\n",
      "  in_crs_string = _prepare_from_proj_string(in_crs_string)\n",
      "C:\\Users\\sm_pa\\AppData\\Local\\Temp\\ipykernel_7048\\678575862.py:7: FutureWarning: This function is deprecated. See: https://pyproj4.github.io/pyproj/stable/gotchas.html#upgrading-to-pyproj-2-from-pyproj-1\n",
      "  x, y = transform(Proj(init='epsg:4326'), utm40, lon, lat)  # Преобразование из WGS 84 (EPSG:4326) в UTM40\n",
      "C:\\Users\\sm_pa\\AppData\\Local\\Programs\\Python\\Python39\\lib\\site-packages\\pyproj\\crs\\crs.py:141: FutureWarning: '+init=<authority>:<code>' syntax is deprecated. '<authority>:<code>' is the preferred initialization method. When making the change, be mindful of axis order changes: https://pyproj4.github.io/pyproj/stable/gotchas.html#axis-order-changes-in-proj-6\n",
      "  in_crs_string = _prepare_from_proj_string(in_crs_string)\n",
      "C:\\Users\\sm_pa\\AppData\\Local\\Temp\\ipykernel_7048\\678575862.py:7: FutureWarning: This function is deprecated. See: https://pyproj4.github.io/pyproj/stable/gotchas.html#upgrading-to-pyproj-2-from-pyproj-1\n",
      "  x, y = transform(Proj(init='epsg:4326'), utm40, lon, lat)  # Преобразование из WGS 84 (EPSG:4326) в UTM40\n",
      "C:\\Users\\sm_pa\\AppData\\Local\\Programs\\Python\\Python39\\lib\\site-packages\\pyproj\\crs\\crs.py:141: FutureWarning: '+init=<authority>:<code>' syntax is deprecated. '<authority>:<code>' is the preferred initialization method. When making the change, be mindful of axis order changes: https://pyproj4.github.io/pyproj/stable/gotchas.html#axis-order-changes-in-proj-6\n",
      "  in_crs_string = _prepare_from_proj_string(in_crs_string)\n",
      "C:\\Users\\sm_pa\\AppData\\Local\\Temp\\ipykernel_7048\\678575862.py:7: FutureWarning: This function is deprecated. See: https://pyproj4.github.io/pyproj/stable/gotchas.html#upgrading-to-pyproj-2-from-pyproj-1\n",
      "  x, y = transform(Proj(init='epsg:4326'), utm40, lon, lat)  # Преобразование из WGS 84 (EPSG:4326) в UTM40\n",
      "C:\\Users\\sm_pa\\AppData\\Local\\Programs\\Python\\Python39\\lib\\site-packages\\pyproj\\crs\\crs.py:141: FutureWarning: '+init=<authority>:<code>' syntax is deprecated. '<authority>:<code>' is the preferred initialization method. When making the change, be mindful of axis order changes: https://pyproj4.github.io/pyproj/stable/gotchas.html#axis-order-changes-in-proj-6\n",
      "  in_crs_string = _prepare_from_proj_string(in_crs_string)\n",
      "C:\\Users\\sm_pa\\AppData\\Local\\Temp\\ipykernel_7048\\678575862.py:7: FutureWarning: This function is deprecated. See: https://pyproj4.github.io/pyproj/stable/gotchas.html#upgrading-to-pyproj-2-from-pyproj-1\n",
      "  x, y = transform(Proj(init='epsg:4326'), utm40, lon, lat)  # Преобразование из WGS 84 (EPSG:4326) в UTM40\n",
      "C:\\Users\\sm_pa\\AppData\\Local\\Programs\\Python\\Python39\\lib\\site-packages\\pyproj\\crs\\crs.py:141: FutureWarning: '+init=<authority>:<code>' syntax is deprecated. '<authority>:<code>' is the preferred initialization method. When making the change, be mindful of axis order changes: https://pyproj4.github.io/pyproj/stable/gotchas.html#axis-order-changes-in-proj-6\n",
      "  in_crs_string = _prepare_from_proj_string(in_crs_string)\n",
      "C:\\Users\\sm_pa\\AppData\\Local\\Temp\\ipykernel_7048\\678575862.py:7: FutureWarning: This function is deprecated. See: https://pyproj4.github.io/pyproj/stable/gotchas.html#upgrading-to-pyproj-2-from-pyproj-1\n",
      "  x, y = transform(Proj(init='epsg:4326'), utm40, lon, lat)  # Преобразование из WGS 84 (EPSG:4326) в UTM40\n",
      "C:\\Users\\sm_pa\\AppData\\Local\\Programs\\Python\\Python39\\lib\\site-packages\\pyproj\\crs\\crs.py:141: FutureWarning: '+init=<authority>:<code>' syntax is deprecated. '<authority>:<code>' is the preferred initialization method. When making the change, be mindful of axis order changes: https://pyproj4.github.io/pyproj/stable/gotchas.html#axis-order-changes-in-proj-6\n",
      "  in_crs_string = _prepare_from_proj_string(in_crs_string)\n",
      "C:\\Users\\sm_pa\\AppData\\Local\\Temp\\ipykernel_7048\\678575862.py:7: FutureWarning: This function is deprecated. See: https://pyproj4.github.io/pyproj/stable/gotchas.html#upgrading-to-pyproj-2-from-pyproj-1\n",
      "  x, y = transform(Proj(init='epsg:4326'), utm40, lon, lat)  # Преобразование из WGS 84 (EPSG:4326) в UTM40\n",
      "C:\\Users\\sm_pa\\AppData\\Local\\Programs\\Python\\Python39\\lib\\site-packages\\pyproj\\crs\\crs.py:141: FutureWarning: '+init=<authority>:<code>' syntax is deprecated. '<authority>:<code>' is the preferred initialization method. When making the change, be mindful of axis order changes: https://pyproj4.github.io/pyproj/stable/gotchas.html#axis-order-changes-in-proj-6\n",
      "  in_crs_string = _prepare_from_proj_string(in_crs_string)\n",
      "C:\\Users\\sm_pa\\AppData\\Local\\Temp\\ipykernel_7048\\678575862.py:7: FutureWarning: This function is deprecated. See: https://pyproj4.github.io/pyproj/stable/gotchas.html#upgrading-to-pyproj-2-from-pyproj-1\n",
      "  x, y = transform(Proj(init='epsg:4326'), utm40, lon, lat)  # Преобразование из WGS 84 (EPSG:4326) в UTM40\n",
      "C:\\Users\\sm_pa\\AppData\\Local\\Programs\\Python\\Python39\\lib\\site-packages\\pyproj\\crs\\crs.py:141: FutureWarning: '+init=<authority>:<code>' syntax is deprecated. '<authority>:<code>' is the preferred initialization method. When making the change, be mindful of axis order changes: https://pyproj4.github.io/pyproj/stable/gotchas.html#axis-order-changes-in-proj-6\n",
      "  in_crs_string = _prepare_from_proj_string(in_crs_string)\n",
      "C:\\Users\\sm_pa\\AppData\\Local\\Temp\\ipykernel_7048\\678575862.py:7: FutureWarning: This function is deprecated. See: https://pyproj4.github.io/pyproj/stable/gotchas.html#upgrading-to-pyproj-2-from-pyproj-1\n",
      "  x, y = transform(Proj(init='epsg:4326'), utm40, lon, lat)  # Преобразование из WGS 84 (EPSG:4326) в UTM40\n",
      "C:\\Users\\sm_pa\\AppData\\Local\\Programs\\Python\\Python39\\lib\\site-packages\\pyproj\\crs\\crs.py:141: FutureWarning: '+init=<authority>:<code>' syntax is deprecated. '<authority>:<code>' is the preferred initialization method. When making the change, be mindful of axis order changes: https://pyproj4.github.io/pyproj/stable/gotchas.html#axis-order-changes-in-proj-6\n",
      "  in_crs_string = _prepare_from_proj_string(in_crs_string)\n",
      "C:\\Users\\sm_pa\\AppData\\Local\\Temp\\ipykernel_7048\\678575862.py:7: FutureWarning: This function is deprecated. See: https://pyproj4.github.io/pyproj/stable/gotchas.html#upgrading-to-pyproj-2-from-pyproj-1\n",
      "  x, y = transform(Proj(init='epsg:4326'), utm40, lon, lat)  # Преобразование из WGS 84 (EPSG:4326) в UTM40\n",
      "C:\\Users\\sm_pa\\AppData\\Local\\Programs\\Python\\Python39\\lib\\site-packages\\pyproj\\crs\\crs.py:141: FutureWarning: '+init=<authority>:<code>' syntax is deprecated. '<authority>:<code>' is the preferred initialization method. When making the change, be mindful of axis order changes: https://pyproj4.github.io/pyproj/stable/gotchas.html#axis-order-changes-in-proj-6\n",
      "  in_crs_string = _prepare_from_proj_string(in_crs_string)\n",
      "C:\\Users\\sm_pa\\AppData\\Local\\Temp\\ipykernel_7048\\678575862.py:7: FutureWarning: This function is deprecated. See: https://pyproj4.github.io/pyproj/stable/gotchas.html#upgrading-to-pyproj-2-from-pyproj-1\n",
      "  x, y = transform(Proj(init='epsg:4326'), utm40, lon, lat)  # Преобразование из WGS 84 (EPSG:4326) в UTM40\n",
      "C:\\Users\\sm_pa\\AppData\\Local\\Programs\\Python\\Python39\\lib\\site-packages\\pyproj\\crs\\crs.py:141: FutureWarning: '+init=<authority>:<code>' syntax is deprecated. '<authority>:<code>' is the preferred initialization method. When making the change, be mindful of axis order changes: https://pyproj4.github.io/pyproj/stable/gotchas.html#axis-order-changes-in-proj-6\n",
      "  in_crs_string = _prepare_from_proj_string(in_crs_string)\n",
      "C:\\Users\\sm_pa\\AppData\\Local\\Temp\\ipykernel_7048\\678575862.py:7: FutureWarning: This function is deprecated. See: https://pyproj4.github.io/pyproj/stable/gotchas.html#upgrading-to-pyproj-2-from-pyproj-1\n",
      "  x, y = transform(Proj(init='epsg:4326'), utm40, lon, lat)  # Преобразование из WGS 84 (EPSG:4326) в UTM40\n",
      "C:\\Users\\sm_pa\\AppData\\Local\\Programs\\Python\\Python39\\lib\\site-packages\\pyproj\\crs\\crs.py:141: FutureWarning: '+init=<authority>:<code>' syntax is deprecated. '<authority>:<code>' is the preferred initialization method. When making the change, be mindful of axis order changes: https://pyproj4.github.io/pyproj/stable/gotchas.html#axis-order-changes-in-proj-6\n",
      "  in_crs_string = _prepare_from_proj_string(in_crs_string)\n",
      "C:\\Users\\sm_pa\\AppData\\Local\\Temp\\ipykernel_7048\\678575862.py:7: FutureWarning: This function is deprecated. See: https://pyproj4.github.io/pyproj/stable/gotchas.html#upgrading-to-pyproj-2-from-pyproj-1\n",
      "  x, y = transform(Proj(init='epsg:4326'), utm40, lon, lat)  # Преобразование из WGS 84 (EPSG:4326) в UTM40\n",
      "C:\\Users\\sm_pa\\AppData\\Local\\Programs\\Python\\Python39\\lib\\site-packages\\pyproj\\crs\\crs.py:141: FutureWarning: '+init=<authority>:<code>' syntax is deprecated. '<authority>:<code>' is the preferred initialization method. When making the change, be mindful of axis order changes: https://pyproj4.github.io/pyproj/stable/gotchas.html#axis-order-changes-in-proj-6\n",
      "  in_crs_string = _prepare_from_proj_string(in_crs_string)\n",
      "C:\\Users\\sm_pa\\AppData\\Local\\Temp\\ipykernel_7048\\678575862.py:7: FutureWarning: This function is deprecated. See: https://pyproj4.github.io/pyproj/stable/gotchas.html#upgrading-to-pyproj-2-from-pyproj-1\n",
      "  x, y = transform(Proj(init='epsg:4326'), utm40, lon, lat)  # Преобразование из WGS 84 (EPSG:4326) в UTM40\n",
      "C:\\Users\\sm_pa\\AppData\\Local\\Programs\\Python\\Python39\\lib\\site-packages\\pyproj\\crs\\crs.py:141: FutureWarning: '+init=<authority>:<code>' syntax is deprecated. '<authority>:<code>' is the preferred initialization method. When making the change, be mindful of axis order changes: https://pyproj4.github.io/pyproj/stable/gotchas.html#axis-order-changes-in-proj-6\n",
      "  in_crs_string = _prepare_from_proj_string(in_crs_string)\n",
      "C:\\Users\\sm_pa\\AppData\\Local\\Temp\\ipykernel_7048\\678575862.py:7: FutureWarning: This function is deprecated. See: https://pyproj4.github.io/pyproj/stable/gotchas.html#upgrading-to-pyproj-2-from-pyproj-1\n",
      "  x, y = transform(Proj(init='epsg:4326'), utm40, lon, lat)  # Преобразование из WGS 84 (EPSG:4326) в UTM40\n",
      "C:\\Users\\sm_pa\\AppData\\Local\\Programs\\Python\\Python39\\lib\\site-packages\\pyproj\\crs\\crs.py:141: FutureWarning: '+init=<authority>:<code>' syntax is deprecated. '<authority>:<code>' is the preferred initialization method. When making the change, be mindful of axis order changes: https://pyproj4.github.io/pyproj/stable/gotchas.html#axis-order-changes-in-proj-6\n",
      "  in_crs_string = _prepare_from_proj_string(in_crs_string)\n",
      "C:\\Users\\sm_pa\\AppData\\Local\\Temp\\ipykernel_7048\\678575862.py:7: FutureWarning: This function is deprecated. See: https://pyproj4.github.io/pyproj/stable/gotchas.html#upgrading-to-pyproj-2-from-pyproj-1\n",
      "  x, y = transform(Proj(init='epsg:4326'), utm40, lon, lat)  # Преобразование из WGS 84 (EPSG:4326) в UTM40\n",
      "C:\\Users\\sm_pa\\AppData\\Local\\Programs\\Python\\Python39\\lib\\site-packages\\pyproj\\crs\\crs.py:141: FutureWarning: '+init=<authority>:<code>' syntax is deprecated. '<authority>:<code>' is the preferred initialization method. When making the change, be mindful of axis order changes: https://pyproj4.github.io/pyproj/stable/gotchas.html#axis-order-changes-in-proj-6\n",
      "  in_crs_string = _prepare_from_proj_string(in_crs_string)\n",
      "C:\\Users\\sm_pa\\AppData\\Local\\Temp\\ipykernel_7048\\678575862.py:7: FutureWarning: This function is deprecated. See: https://pyproj4.github.io/pyproj/stable/gotchas.html#upgrading-to-pyproj-2-from-pyproj-1\n",
      "  x, y = transform(Proj(init='epsg:4326'), utm40, lon, lat)  # Преобразование из WGS 84 (EPSG:4326) в UTM40\n",
      "C:\\Users\\sm_pa\\AppData\\Local\\Programs\\Python\\Python39\\lib\\site-packages\\pyproj\\crs\\crs.py:141: FutureWarning: '+init=<authority>:<code>' syntax is deprecated. '<authority>:<code>' is the preferred initialization method. When making the change, be mindful of axis order changes: https://pyproj4.github.io/pyproj/stable/gotchas.html#axis-order-changes-in-proj-6\n",
      "  in_crs_string = _prepare_from_proj_string(in_crs_string)\n",
      "C:\\Users\\sm_pa\\AppData\\Local\\Temp\\ipykernel_7048\\678575862.py:7: FutureWarning: This function is deprecated. See: https://pyproj4.github.io/pyproj/stable/gotchas.html#upgrading-to-pyproj-2-from-pyproj-1\n",
      "  x, y = transform(Proj(init='epsg:4326'), utm40, lon, lat)  # Преобразование из WGS 84 (EPSG:4326) в UTM40\n",
      "C:\\Users\\sm_pa\\AppData\\Local\\Programs\\Python\\Python39\\lib\\site-packages\\pyproj\\crs\\crs.py:141: FutureWarning: '+init=<authority>:<code>' syntax is deprecated. '<authority>:<code>' is the preferred initialization method. When making the change, be mindful of axis order changes: https://pyproj4.github.io/pyproj/stable/gotchas.html#axis-order-changes-in-proj-6\n",
      "  in_crs_string = _prepare_from_proj_string(in_crs_string)\n",
      "C:\\Users\\sm_pa\\AppData\\Local\\Temp\\ipykernel_7048\\678575862.py:7: FutureWarning: This function is deprecated. See: https://pyproj4.github.io/pyproj/stable/gotchas.html#upgrading-to-pyproj-2-from-pyproj-1\n",
      "  x, y = transform(Proj(init='epsg:4326'), utm40, lon, lat)  # Преобразование из WGS 84 (EPSG:4326) в UTM40\n",
      "C:\\Users\\sm_pa\\AppData\\Local\\Programs\\Python\\Python39\\lib\\site-packages\\pyproj\\crs\\crs.py:141: FutureWarning: '+init=<authority>:<code>' syntax is deprecated. '<authority>:<code>' is the preferred initialization method. When making the change, be mindful of axis order changes: https://pyproj4.github.io/pyproj/stable/gotchas.html#axis-order-changes-in-proj-6\n",
      "  in_crs_string = _prepare_from_proj_string(in_crs_string)\n",
      "C:\\Users\\sm_pa\\AppData\\Local\\Temp\\ipykernel_7048\\678575862.py:7: FutureWarning: This function is deprecated. See: https://pyproj4.github.io/pyproj/stable/gotchas.html#upgrading-to-pyproj-2-from-pyproj-1\n",
      "  x, y = transform(Proj(init='epsg:4326'), utm40, lon, lat)  # Преобразование из WGS 84 (EPSG:4326) в UTM40\n",
      "C:\\Users\\sm_pa\\AppData\\Local\\Programs\\Python\\Python39\\lib\\site-packages\\pyproj\\crs\\crs.py:141: FutureWarning: '+init=<authority>:<code>' syntax is deprecated. '<authority>:<code>' is the preferred initialization method. When making the change, be mindful of axis order changes: https://pyproj4.github.io/pyproj/stable/gotchas.html#axis-order-changes-in-proj-6\n",
      "  in_crs_string = _prepare_from_proj_string(in_crs_string)\n",
      "C:\\Users\\sm_pa\\AppData\\Local\\Temp\\ipykernel_7048\\678575862.py:7: FutureWarning: This function is deprecated. See: https://pyproj4.github.io/pyproj/stable/gotchas.html#upgrading-to-pyproj-2-from-pyproj-1\n",
      "  x, y = transform(Proj(init='epsg:4326'), utm40, lon, lat)  # Преобразование из WGS 84 (EPSG:4326) в UTM40\n",
      "C:\\Users\\sm_pa\\AppData\\Local\\Programs\\Python\\Python39\\lib\\site-packages\\pyproj\\crs\\crs.py:141: FutureWarning: '+init=<authority>:<code>' syntax is deprecated. '<authority>:<code>' is the preferred initialization method. When making the change, be mindful of axis order changes: https://pyproj4.github.io/pyproj/stable/gotchas.html#axis-order-changes-in-proj-6\n",
      "  in_crs_string = _prepare_from_proj_string(in_crs_string)\n",
      "C:\\Users\\sm_pa\\AppData\\Local\\Temp\\ipykernel_7048\\678575862.py:7: FutureWarning: This function is deprecated. See: https://pyproj4.github.io/pyproj/stable/gotchas.html#upgrading-to-pyproj-2-from-pyproj-1\n",
      "  x, y = transform(Proj(init='epsg:4326'), utm40, lon, lat)  # Преобразование из WGS 84 (EPSG:4326) в UTM40\n",
      "C:\\Users\\sm_pa\\AppData\\Local\\Programs\\Python\\Python39\\lib\\site-packages\\pyproj\\crs\\crs.py:141: FutureWarning: '+init=<authority>:<code>' syntax is deprecated. '<authority>:<code>' is the preferred initialization method. When making the change, be mindful of axis order changes: https://pyproj4.github.io/pyproj/stable/gotchas.html#axis-order-changes-in-proj-6\n",
      "  in_crs_string = _prepare_from_proj_string(in_crs_string)\n",
      "C:\\Users\\sm_pa\\AppData\\Local\\Temp\\ipykernel_7048\\678575862.py:7: FutureWarning: This function is deprecated. See: https://pyproj4.github.io/pyproj/stable/gotchas.html#upgrading-to-pyproj-2-from-pyproj-1\n",
      "  x, y = transform(Proj(init='epsg:4326'), utm40, lon, lat)  # Преобразование из WGS 84 (EPSG:4326) в UTM40\n",
      "C:\\Users\\sm_pa\\AppData\\Local\\Programs\\Python\\Python39\\lib\\site-packages\\pyproj\\crs\\crs.py:141: FutureWarning: '+init=<authority>:<code>' syntax is deprecated. '<authority>:<code>' is the preferred initialization method. When making the change, be mindful of axis order changes: https://pyproj4.github.io/pyproj/stable/gotchas.html#axis-order-changes-in-proj-6\n",
      "  in_crs_string = _prepare_from_proj_string(in_crs_string)\n",
      "C:\\Users\\sm_pa\\AppData\\Local\\Temp\\ipykernel_7048\\678575862.py:7: FutureWarning: This function is deprecated. See: https://pyproj4.github.io/pyproj/stable/gotchas.html#upgrading-to-pyproj-2-from-pyproj-1\n",
      "  x, y = transform(Proj(init='epsg:4326'), utm40, lon, lat)  # Преобразование из WGS 84 (EPSG:4326) в UTM40\n",
      "C:\\Users\\sm_pa\\AppData\\Local\\Programs\\Python\\Python39\\lib\\site-packages\\pyproj\\crs\\crs.py:141: FutureWarning: '+init=<authority>:<code>' syntax is deprecated. '<authority>:<code>' is the preferred initialization method. When making the change, be mindful of axis order changes: https://pyproj4.github.io/pyproj/stable/gotchas.html#axis-order-changes-in-proj-6\n",
      "  in_crs_string = _prepare_from_proj_string(in_crs_string)\n",
      "C:\\Users\\sm_pa\\AppData\\Local\\Temp\\ipykernel_7048\\678575862.py:7: FutureWarning: This function is deprecated. See: https://pyproj4.github.io/pyproj/stable/gotchas.html#upgrading-to-pyproj-2-from-pyproj-1\n",
      "  x, y = transform(Proj(init='epsg:4326'), utm40, lon, lat)  # Преобразование из WGS 84 (EPSG:4326) в UTM40\n",
      "C:\\Users\\sm_pa\\AppData\\Local\\Programs\\Python\\Python39\\lib\\site-packages\\pyproj\\crs\\crs.py:141: FutureWarning: '+init=<authority>:<code>' syntax is deprecated. '<authority>:<code>' is the preferred initialization method. When making the change, be mindful of axis order changes: https://pyproj4.github.io/pyproj/stable/gotchas.html#axis-order-changes-in-proj-6\n",
      "  in_crs_string = _prepare_from_proj_string(in_crs_string)\n",
      "C:\\Users\\sm_pa\\AppData\\Local\\Temp\\ipykernel_7048\\678575862.py:7: FutureWarning: This function is deprecated. See: https://pyproj4.github.io/pyproj/stable/gotchas.html#upgrading-to-pyproj-2-from-pyproj-1\n",
      "  x, y = transform(Proj(init='epsg:4326'), utm40, lon, lat)  # Преобразование из WGS 84 (EPSG:4326) в UTM40\n",
      "C:\\Users\\sm_pa\\AppData\\Local\\Programs\\Python\\Python39\\lib\\site-packages\\pyproj\\crs\\crs.py:141: FutureWarning: '+init=<authority>:<code>' syntax is deprecated. '<authority>:<code>' is the preferred initialization method. When making the change, be mindful of axis order changes: https://pyproj4.github.io/pyproj/stable/gotchas.html#axis-order-changes-in-proj-6\n",
      "  in_crs_string = _prepare_from_proj_string(in_crs_string)\n",
      "C:\\Users\\sm_pa\\AppData\\Local\\Temp\\ipykernel_7048\\678575862.py:7: FutureWarning: This function is deprecated. See: https://pyproj4.github.io/pyproj/stable/gotchas.html#upgrading-to-pyproj-2-from-pyproj-1\n",
      "  x, y = transform(Proj(init='epsg:4326'), utm40, lon, lat)  # Преобразование из WGS 84 (EPSG:4326) в UTM40\n",
      "C:\\Users\\sm_pa\\AppData\\Local\\Programs\\Python\\Python39\\lib\\site-packages\\pyproj\\crs\\crs.py:141: FutureWarning: '+init=<authority>:<code>' syntax is deprecated. '<authority>:<code>' is the preferred initialization method. When making the change, be mindful of axis order changes: https://pyproj4.github.io/pyproj/stable/gotchas.html#axis-order-changes-in-proj-6\n",
      "  in_crs_string = _prepare_from_proj_string(in_crs_string)\n",
      "C:\\Users\\sm_pa\\AppData\\Local\\Temp\\ipykernel_7048\\678575862.py:7: FutureWarning: This function is deprecated. See: https://pyproj4.github.io/pyproj/stable/gotchas.html#upgrading-to-pyproj-2-from-pyproj-1\n",
      "  x, y = transform(Proj(init='epsg:4326'), utm40, lon, lat)  # Преобразование из WGS 84 (EPSG:4326) в UTM40\n",
      "C:\\Users\\sm_pa\\AppData\\Local\\Programs\\Python\\Python39\\lib\\site-packages\\pyproj\\crs\\crs.py:141: FutureWarning: '+init=<authority>:<code>' syntax is deprecated. '<authority>:<code>' is the preferred initialization method. When making the change, be mindful of axis order changes: https://pyproj4.github.io/pyproj/stable/gotchas.html#axis-order-changes-in-proj-6\n",
      "  in_crs_string = _prepare_from_proj_string(in_crs_string)\n",
      "C:\\Users\\sm_pa\\AppData\\Local\\Temp\\ipykernel_7048\\678575862.py:7: FutureWarning: This function is deprecated. See: https://pyproj4.github.io/pyproj/stable/gotchas.html#upgrading-to-pyproj-2-from-pyproj-1\n",
      "  x, y = transform(Proj(init='epsg:4326'), utm40, lon, lat)  # Преобразование из WGS 84 (EPSG:4326) в UTM40\n",
      "C:\\Users\\sm_pa\\AppData\\Local\\Programs\\Python\\Python39\\lib\\site-packages\\pyproj\\crs\\crs.py:141: FutureWarning: '+init=<authority>:<code>' syntax is deprecated. '<authority>:<code>' is the preferred initialization method. When making the change, be mindful of axis order changes: https://pyproj4.github.io/pyproj/stable/gotchas.html#axis-order-changes-in-proj-6\n",
      "  in_crs_string = _prepare_from_proj_string(in_crs_string)\n",
      "C:\\Users\\sm_pa\\AppData\\Local\\Temp\\ipykernel_7048\\678575862.py:7: FutureWarning: This function is deprecated. See: https://pyproj4.github.io/pyproj/stable/gotchas.html#upgrading-to-pyproj-2-from-pyproj-1\n",
      "  x, y = transform(Proj(init='epsg:4326'), utm40, lon, lat)  # Преобразование из WGS 84 (EPSG:4326) в UTM40\n",
      "C:\\Users\\sm_pa\\AppData\\Local\\Programs\\Python\\Python39\\lib\\site-packages\\pyproj\\crs\\crs.py:141: FutureWarning: '+init=<authority>:<code>' syntax is deprecated. '<authority>:<code>' is the preferred initialization method. When making the change, be mindful of axis order changes: https://pyproj4.github.io/pyproj/stable/gotchas.html#axis-order-changes-in-proj-6\n",
      "  in_crs_string = _prepare_from_proj_string(in_crs_string)\n",
      "C:\\Users\\sm_pa\\AppData\\Local\\Temp\\ipykernel_7048\\678575862.py:7: FutureWarning: This function is deprecated. See: https://pyproj4.github.io/pyproj/stable/gotchas.html#upgrading-to-pyproj-2-from-pyproj-1\n",
      "  x, y = transform(Proj(init='epsg:4326'), utm40, lon, lat)  # Преобразование из WGS 84 (EPSG:4326) в UTM40\n",
      "C:\\Users\\sm_pa\\AppData\\Local\\Programs\\Python\\Python39\\lib\\site-packages\\pyproj\\crs\\crs.py:141: FutureWarning: '+init=<authority>:<code>' syntax is deprecated. '<authority>:<code>' is the preferred initialization method. When making the change, be mindful of axis order changes: https://pyproj4.github.io/pyproj/stable/gotchas.html#axis-order-changes-in-proj-6\n",
      "  in_crs_string = _prepare_from_proj_string(in_crs_string)\n",
      "C:\\Users\\sm_pa\\AppData\\Local\\Temp\\ipykernel_7048\\678575862.py:7: FutureWarning: This function is deprecated. See: https://pyproj4.github.io/pyproj/stable/gotchas.html#upgrading-to-pyproj-2-from-pyproj-1\n",
      "  x, y = transform(Proj(init='epsg:4326'), utm40, lon, lat)  # Преобразование из WGS 84 (EPSG:4326) в UTM40\n",
      "C:\\Users\\sm_pa\\AppData\\Local\\Programs\\Python\\Python39\\lib\\site-packages\\pyproj\\crs\\crs.py:141: FutureWarning: '+init=<authority>:<code>' syntax is deprecated. '<authority>:<code>' is the preferred initialization method. When making the change, be mindful of axis order changes: https://pyproj4.github.io/pyproj/stable/gotchas.html#axis-order-changes-in-proj-6\n",
      "  in_crs_string = _prepare_from_proj_string(in_crs_string)\n",
      "C:\\Users\\sm_pa\\AppData\\Local\\Temp\\ipykernel_7048\\678575862.py:7: FutureWarning: This function is deprecated. See: https://pyproj4.github.io/pyproj/stable/gotchas.html#upgrading-to-pyproj-2-from-pyproj-1\n",
      "  x, y = transform(Proj(init='epsg:4326'), utm40, lon, lat)  # Преобразование из WGS 84 (EPSG:4326) в UTM40\n",
      "C:\\Users\\sm_pa\\AppData\\Local\\Programs\\Python\\Python39\\lib\\site-packages\\pyproj\\crs\\crs.py:141: FutureWarning: '+init=<authority>:<code>' syntax is deprecated. '<authority>:<code>' is the preferred initialization method. When making the change, be mindful of axis order changes: https://pyproj4.github.io/pyproj/stable/gotchas.html#axis-order-changes-in-proj-6\n",
      "  in_crs_string = _prepare_from_proj_string(in_crs_string)\n",
      "C:\\Users\\sm_pa\\AppData\\Local\\Temp\\ipykernel_7048\\678575862.py:7: FutureWarning: This function is deprecated. See: https://pyproj4.github.io/pyproj/stable/gotchas.html#upgrading-to-pyproj-2-from-pyproj-1\n",
      "  x, y = transform(Proj(init='epsg:4326'), utm40, lon, lat)  # Преобразование из WGS 84 (EPSG:4326) в UTM40\n",
      "C:\\Users\\sm_pa\\AppData\\Local\\Programs\\Python\\Python39\\lib\\site-packages\\pyproj\\crs\\crs.py:141: FutureWarning: '+init=<authority>:<code>' syntax is deprecated. '<authority>:<code>' is the preferred initialization method. When making the change, be mindful of axis order changes: https://pyproj4.github.io/pyproj/stable/gotchas.html#axis-order-changes-in-proj-6\n",
      "  in_crs_string = _prepare_from_proj_string(in_crs_string)\n",
      "C:\\Users\\sm_pa\\AppData\\Local\\Temp\\ipykernel_7048\\678575862.py:7: FutureWarning: This function is deprecated. See: https://pyproj4.github.io/pyproj/stable/gotchas.html#upgrading-to-pyproj-2-from-pyproj-1\n",
      "  x, y = transform(Proj(init='epsg:4326'), utm40, lon, lat)  # Преобразование из WGS 84 (EPSG:4326) в UTM40\n",
      "C:\\Users\\sm_pa\\AppData\\Local\\Programs\\Python\\Python39\\lib\\site-packages\\pyproj\\crs\\crs.py:141: FutureWarning: '+init=<authority>:<code>' syntax is deprecated. '<authority>:<code>' is the preferred initialization method. When making the change, be mindful of axis order changes: https://pyproj4.github.io/pyproj/stable/gotchas.html#axis-order-changes-in-proj-6\n",
      "  in_crs_string = _prepare_from_proj_string(in_crs_string)\n",
      "C:\\Users\\sm_pa\\AppData\\Local\\Temp\\ipykernel_7048\\678575862.py:7: FutureWarning: This function is deprecated. See: https://pyproj4.github.io/pyproj/stable/gotchas.html#upgrading-to-pyproj-2-from-pyproj-1\n",
      "  x, y = transform(Proj(init='epsg:4326'), utm40, lon, lat)  # Преобразование из WGS 84 (EPSG:4326) в UTM40\n",
      "C:\\Users\\sm_pa\\AppData\\Local\\Programs\\Python\\Python39\\lib\\site-packages\\pyproj\\crs\\crs.py:141: FutureWarning: '+init=<authority>:<code>' syntax is deprecated. '<authority>:<code>' is the preferred initialization method. When making the change, be mindful of axis order changes: https://pyproj4.github.io/pyproj/stable/gotchas.html#axis-order-changes-in-proj-6\n",
      "  in_crs_string = _prepare_from_proj_string(in_crs_string)\n",
      "C:\\Users\\sm_pa\\AppData\\Local\\Temp\\ipykernel_7048\\678575862.py:7: FutureWarning: This function is deprecated. See: https://pyproj4.github.io/pyproj/stable/gotchas.html#upgrading-to-pyproj-2-from-pyproj-1\n",
      "  x, y = transform(Proj(init='epsg:4326'), utm40, lon, lat)  # Преобразование из WGS 84 (EPSG:4326) в UTM40\n",
      "C:\\Users\\sm_pa\\AppData\\Local\\Programs\\Python\\Python39\\lib\\site-packages\\pyproj\\crs\\crs.py:141: FutureWarning: '+init=<authority>:<code>' syntax is deprecated. '<authority>:<code>' is the preferred initialization method. When making the change, be mindful of axis order changes: https://pyproj4.github.io/pyproj/stable/gotchas.html#axis-order-changes-in-proj-6\n",
      "  in_crs_string = _prepare_from_proj_string(in_crs_string)\n",
      "C:\\Users\\sm_pa\\AppData\\Local\\Temp\\ipykernel_7048\\678575862.py:7: FutureWarning: This function is deprecated. See: https://pyproj4.github.io/pyproj/stable/gotchas.html#upgrading-to-pyproj-2-from-pyproj-1\n",
      "  x, y = transform(Proj(init='epsg:4326'), utm40, lon, lat)  # Преобразование из WGS 84 (EPSG:4326) в UTM40\n",
      "C:\\Users\\sm_pa\\AppData\\Local\\Programs\\Python\\Python39\\lib\\site-packages\\pyproj\\crs\\crs.py:141: FutureWarning: '+init=<authority>:<code>' syntax is deprecated. '<authority>:<code>' is the preferred initialization method. When making the change, be mindful of axis order changes: https://pyproj4.github.io/pyproj/stable/gotchas.html#axis-order-changes-in-proj-6\n",
      "  in_crs_string = _prepare_from_proj_string(in_crs_string)\n",
      "C:\\Users\\sm_pa\\AppData\\Local\\Temp\\ipykernel_7048\\678575862.py:7: FutureWarning: This function is deprecated. See: https://pyproj4.github.io/pyproj/stable/gotchas.html#upgrading-to-pyproj-2-from-pyproj-1\n",
      "  x, y = transform(Proj(init='epsg:4326'), utm40, lon, lat)  # Преобразование из WGS 84 (EPSG:4326) в UTM40\n",
      "C:\\Users\\sm_pa\\AppData\\Local\\Programs\\Python\\Python39\\lib\\site-packages\\pyproj\\crs\\crs.py:141: FutureWarning: '+init=<authority>:<code>' syntax is deprecated. '<authority>:<code>' is the preferred initialization method. When making the change, be mindful of axis order changes: https://pyproj4.github.io/pyproj/stable/gotchas.html#axis-order-changes-in-proj-6\n",
      "  in_crs_string = _prepare_from_proj_string(in_crs_string)\n",
      "C:\\Users\\sm_pa\\AppData\\Local\\Temp\\ipykernel_7048\\678575862.py:7: FutureWarning: This function is deprecated. See: https://pyproj4.github.io/pyproj/stable/gotchas.html#upgrading-to-pyproj-2-from-pyproj-1\n",
      "  x, y = transform(Proj(init='epsg:4326'), utm40, lon, lat)  # Преобразование из WGS 84 (EPSG:4326) в UTM40\n",
      "C:\\Users\\sm_pa\\AppData\\Local\\Programs\\Python\\Python39\\lib\\site-packages\\pyproj\\crs\\crs.py:141: FutureWarning: '+init=<authority>:<code>' syntax is deprecated. '<authority>:<code>' is the preferred initialization method. When making the change, be mindful of axis order changes: https://pyproj4.github.io/pyproj/stable/gotchas.html#axis-order-changes-in-proj-6\n",
      "  in_crs_string = _prepare_from_proj_string(in_crs_string)\n",
      "C:\\Users\\sm_pa\\AppData\\Local\\Temp\\ipykernel_7048\\678575862.py:7: FutureWarning: This function is deprecated. See: https://pyproj4.github.io/pyproj/stable/gotchas.html#upgrading-to-pyproj-2-from-pyproj-1\n",
      "  x, y = transform(Proj(init='epsg:4326'), utm40, lon, lat)  # Преобразование из WGS 84 (EPSG:4326) в UTM40\n",
      "C:\\Users\\sm_pa\\AppData\\Local\\Programs\\Python\\Python39\\lib\\site-packages\\pyproj\\crs\\crs.py:141: FutureWarning: '+init=<authority>:<code>' syntax is deprecated. '<authority>:<code>' is the preferred initialization method. When making the change, be mindful of axis order changes: https://pyproj4.github.io/pyproj/stable/gotchas.html#axis-order-changes-in-proj-6\n",
      "  in_crs_string = _prepare_from_proj_string(in_crs_string)\n",
      "C:\\Users\\sm_pa\\AppData\\Local\\Temp\\ipykernel_7048\\678575862.py:7: FutureWarning: This function is deprecated. See: https://pyproj4.github.io/pyproj/stable/gotchas.html#upgrading-to-pyproj-2-from-pyproj-1\n",
      "  x, y = transform(Proj(init='epsg:4326'), utm40, lon, lat)  # Преобразование из WGS 84 (EPSG:4326) в UTM40\n",
      "C:\\Users\\sm_pa\\AppData\\Local\\Programs\\Python\\Python39\\lib\\site-packages\\pyproj\\crs\\crs.py:141: FutureWarning: '+init=<authority>:<code>' syntax is deprecated. '<authority>:<code>' is the preferred initialization method. When making the change, be mindful of axis order changes: https://pyproj4.github.io/pyproj/stable/gotchas.html#axis-order-changes-in-proj-6\n",
      "  in_crs_string = _prepare_from_proj_string(in_crs_string)\n",
      "C:\\Users\\sm_pa\\AppData\\Local\\Temp\\ipykernel_7048\\678575862.py:7: FutureWarning: This function is deprecated. See: https://pyproj4.github.io/pyproj/stable/gotchas.html#upgrading-to-pyproj-2-from-pyproj-1\n",
      "  x, y = transform(Proj(init='epsg:4326'), utm40, lon, lat)  # Преобразование из WGS 84 (EPSG:4326) в UTM40\n",
      "C:\\Users\\sm_pa\\AppData\\Local\\Programs\\Python\\Python39\\lib\\site-packages\\pyproj\\crs\\crs.py:141: FutureWarning: '+init=<authority>:<code>' syntax is deprecated. '<authority>:<code>' is the preferred initialization method. When making the change, be mindful of axis order changes: https://pyproj4.github.io/pyproj/stable/gotchas.html#axis-order-changes-in-proj-6\n",
      "  in_crs_string = _prepare_from_proj_string(in_crs_string)\n",
      "C:\\Users\\sm_pa\\AppData\\Local\\Temp\\ipykernel_7048\\678575862.py:7: FutureWarning: This function is deprecated. See: https://pyproj4.github.io/pyproj/stable/gotchas.html#upgrading-to-pyproj-2-from-pyproj-1\n",
      "  x, y = transform(Proj(init='epsg:4326'), utm40, lon, lat)  # Преобразование из WGS 84 (EPSG:4326) в UTM40\n",
      "C:\\Users\\sm_pa\\AppData\\Local\\Programs\\Python\\Python39\\lib\\site-packages\\pyproj\\crs\\crs.py:141: FutureWarning: '+init=<authority>:<code>' syntax is deprecated. '<authority>:<code>' is the preferred initialization method. When making the change, be mindful of axis order changes: https://pyproj4.github.io/pyproj/stable/gotchas.html#axis-order-changes-in-proj-6\n",
      "  in_crs_string = _prepare_from_proj_string(in_crs_string)\n",
      "C:\\Users\\sm_pa\\AppData\\Local\\Temp\\ipykernel_7048\\678575862.py:7: FutureWarning: This function is deprecated. See: https://pyproj4.github.io/pyproj/stable/gotchas.html#upgrading-to-pyproj-2-from-pyproj-1\n",
      "  x, y = transform(Proj(init='epsg:4326'), utm40, lon, lat)  # Преобразование из WGS 84 (EPSG:4326) в UTM40\n",
      "C:\\Users\\sm_pa\\AppData\\Local\\Programs\\Python\\Python39\\lib\\site-packages\\pyproj\\crs\\crs.py:141: FutureWarning: '+init=<authority>:<code>' syntax is deprecated. '<authority>:<code>' is the preferred initialization method. When making the change, be mindful of axis order changes: https://pyproj4.github.io/pyproj/stable/gotchas.html#axis-order-changes-in-proj-6\n",
      "  in_crs_string = _prepare_from_proj_string(in_crs_string)\n",
      "C:\\Users\\sm_pa\\AppData\\Local\\Temp\\ipykernel_7048\\678575862.py:7: FutureWarning: This function is deprecated. See: https://pyproj4.github.io/pyproj/stable/gotchas.html#upgrading-to-pyproj-2-from-pyproj-1\n",
      "  x, y = transform(Proj(init='epsg:4326'), utm40, lon, lat)  # Преобразование из WGS 84 (EPSG:4326) в UTM40\n",
      "C:\\Users\\sm_pa\\AppData\\Local\\Programs\\Python\\Python39\\lib\\site-packages\\pyproj\\crs\\crs.py:141: FutureWarning: '+init=<authority>:<code>' syntax is deprecated. '<authority>:<code>' is the preferred initialization method. When making the change, be mindful of axis order changes: https://pyproj4.github.io/pyproj/stable/gotchas.html#axis-order-changes-in-proj-6\n",
      "  in_crs_string = _prepare_from_proj_string(in_crs_string)\n",
      "C:\\Users\\sm_pa\\AppData\\Local\\Temp\\ipykernel_7048\\678575862.py:7: FutureWarning: This function is deprecated. See: https://pyproj4.github.io/pyproj/stable/gotchas.html#upgrading-to-pyproj-2-from-pyproj-1\n",
      "  x, y = transform(Proj(init='epsg:4326'), utm40, lon, lat)  # Преобразование из WGS 84 (EPSG:4326) в UTM40\n",
      "C:\\Users\\sm_pa\\AppData\\Local\\Programs\\Python\\Python39\\lib\\site-packages\\pyproj\\crs\\crs.py:141: FutureWarning: '+init=<authority>:<code>' syntax is deprecated. '<authority>:<code>' is the preferred initialization method. When making the change, be mindful of axis order changes: https://pyproj4.github.io/pyproj/stable/gotchas.html#axis-order-changes-in-proj-6\n",
      "  in_crs_string = _prepare_from_proj_string(in_crs_string)\n",
      "C:\\Users\\sm_pa\\AppData\\Local\\Temp\\ipykernel_7048\\678575862.py:7: FutureWarning: This function is deprecated. See: https://pyproj4.github.io/pyproj/stable/gotchas.html#upgrading-to-pyproj-2-from-pyproj-1\n",
      "  x, y = transform(Proj(init='epsg:4326'), utm40, lon, lat)  # Преобразование из WGS 84 (EPSG:4326) в UTM40\n",
      "C:\\Users\\sm_pa\\AppData\\Local\\Programs\\Python\\Python39\\lib\\site-packages\\pyproj\\crs\\crs.py:141: FutureWarning: '+init=<authority>:<code>' syntax is deprecated. '<authority>:<code>' is the preferred initialization method. When making the change, be mindful of axis order changes: https://pyproj4.github.io/pyproj/stable/gotchas.html#axis-order-changes-in-proj-6\n",
      "  in_crs_string = _prepare_from_proj_string(in_crs_string)\n",
      "C:\\Users\\sm_pa\\AppData\\Local\\Temp\\ipykernel_7048\\678575862.py:7: FutureWarning: This function is deprecated. See: https://pyproj4.github.io/pyproj/stable/gotchas.html#upgrading-to-pyproj-2-from-pyproj-1\n",
      "  x, y = transform(Proj(init='epsg:4326'), utm40, lon, lat)  # Преобразование из WGS 84 (EPSG:4326) в UTM40\n",
      "C:\\Users\\sm_pa\\AppData\\Local\\Programs\\Python\\Python39\\lib\\site-packages\\pyproj\\crs\\crs.py:141: FutureWarning: '+init=<authority>:<code>' syntax is deprecated. '<authority>:<code>' is the preferred initialization method. When making the change, be mindful of axis order changes: https://pyproj4.github.io/pyproj/stable/gotchas.html#axis-order-changes-in-proj-6\n",
      "  in_crs_string = _prepare_from_proj_string(in_crs_string)\n",
      "C:\\Users\\sm_pa\\AppData\\Local\\Temp\\ipykernel_7048\\678575862.py:7: FutureWarning: This function is deprecated. See: https://pyproj4.github.io/pyproj/stable/gotchas.html#upgrading-to-pyproj-2-from-pyproj-1\n",
      "  x, y = transform(Proj(init='epsg:4326'), utm40, lon, lat)  # Преобразование из WGS 84 (EPSG:4326) в UTM40\n",
      "C:\\Users\\sm_pa\\AppData\\Local\\Programs\\Python\\Python39\\lib\\site-packages\\pyproj\\crs\\crs.py:141: FutureWarning: '+init=<authority>:<code>' syntax is deprecated. '<authority>:<code>' is the preferred initialization method. When making the change, be mindful of axis order changes: https://pyproj4.github.io/pyproj/stable/gotchas.html#axis-order-changes-in-proj-6\n",
      "  in_crs_string = _prepare_from_proj_string(in_crs_string)\n",
      "C:\\Users\\sm_pa\\AppData\\Local\\Temp\\ipykernel_7048\\678575862.py:7: FutureWarning: This function is deprecated. See: https://pyproj4.github.io/pyproj/stable/gotchas.html#upgrading-to-pyproj-2-from-pyproj-1\n",
      "  x, y = transform(Proj(init='epsg:4326'), utm40, lon, lat)  # Преобразование из WGS 84 (EPSG:4326) в UTM40\n",
      "C:\\Users\\sm_pa\\AppData\\Local\\Programs\\Python\\Python39\\lib\\site-packages\\pyproj\\crs\\crs.py:141: FutureWarning: '+init=<authority>:<code>' syntax is deprecated. '<authority>:<code>' is the preferred initialization method. When making the change, be mindful of axis order changes: https://pyproj4.github.io/pyproj/stable/gotchas.html#axis-order-changes-in-proj-6\n",
      "  in_crs_string = _prepare_from_proj_string(in_crs_string)\n",
      "C:\\Users\\sm_pa\\AppData\\Local\\Temp\\ipykernel_7048\\678575862.py:7: FutureWarning: This function is deprecated. See: https://pyproj4.github.io/pyproj/stable/gotchas.html#upgrading-to-pyproj-2-from-pyproj-1\n",
      "  x, y = transform(Proj(init='epsg:4326'), utm40, lon, lat)  # Преобразование из WGS 84 (EPSG:4326) в UTM40\n",
      "C:\\Users\\sm_pa\\AppData\\Local\\Programs\\Python\\Python39\\lib\\site-packages\\pyproj\\crs\\crs.py:141: FutureWarning: '+init=<authority>:<code>' syntax is deprecated. '<authority>:<code>' is the preferred initialization method. When making the change, be mindful of axis order changes: https://pyproj4.github.io/pyproj/stable/gotchas.html#axis-order-changes-in-proj-6\n",
      "  in_crs_string = _prepare_from_proj_string(in_crs_string)\n",
      "C:\\Users\\sm_pa\\AppData\\Local\\Temp\\ipykernel_7048\\678575862.py:7: FutureWarning: This function is deprecated. See: https://pyproj4.github.io/pyproj/stable/gotchas.html#upgrading-to-pyproj-2-from-pyproj-1\n",
      "  x, y = transform(Proj(init='epsg:4326'), utm40, lon, lat)  # Преобразование из WGS 84 (EPSG:4326) в UTM40\n",
      "C:\\Users\\sm_pa\\AppData\\Local\\Programs\\Python\\Python39\\lib\\site-packages\\pyproj\\crs\\crs.py:141: FutureWarning: '+init=<authority>:<code>' syntax is deprecated. '<authority>:<code>' is the preferred initialization method. When making the change, be mindful of axis order changes: https://pyproj4.github.io/pyproj/stable/gotchas.html#axis-order-changes-in-proj-6\n",
      "  in_crs_string = _prepare_from_proj_string(in_crs_string)\n",
      "C:\\Users\\sm_pa\\AppData\\Local\\Temp\\ipykernel_7048\\678575862.py:7: FutureWarning: This function is deprecated. See: https://pyproj4.github.io/pyproj/stable/gotchas.html#upgrading-to-pyproj-2-from-pyproj-1\n",
      "  x, y = transform(Proj(init='epsg:4326'), utm40, lon, lat)  # Преобразование из WGS 84 (EPSG:4326) в UTM40\n",
      "C:\\Users\\sm_pa\\AppData\\Local\\Programs\\Python\\Python39\\lib\\site-packages\\pyproj\\crs\\crs.py:141: FutureWarning: '+init=<authority>:<code>' syntax is deprecated. '<authority>:<code>' is the preferred initialization method. When making the change, be mindful of axis order changes: https://pyproj4.github.io/pyproj/stable/gotchas.html#axis-order-changes-in-proj-6\n",
      "  in_crs_string = _prepare_from_proj_string(in_crs_string)\n",
      "C:\\Users\\sm_pa\\AppData\\Local\\Temp\\ipykernel_7048\\678575862.py:7: FutureWarning: This function is deprecated. See: https://pyproj4.github.io/pyproj/stable/gotchas.html#upgrading-to-pyproj-2-from-pyproj-1\n",
      "  x, y = transform(Proj(init='epsg:4326'), utm40, lon, lat)  # Преобразование из WGS 84 (EPSG:4326) в UTM40\n",
      "C:\\Users\\sm_pa\\AppData\\Local\\Programs\\Python\\Python39\\lib\\site-packages\\pyproj\\crs\\crs.py:141: FutureWarning: '+init=<authority>:<code>' syntax is deprecated. '<authority>:<code>' is the preferred initialization method. When making the change, be mindful of axis order changes: https://pyproj4.github.io/pyproj/stable/gotchas.html#axis-order-changes-in-proj-6\n",
      "  in_crs_string = _prepare_from_proj_string(in_crs_string)\n",
      "C:\\Users\\sm_pa\\AppData\\Local\\Temp\\ipykernel_7048\\678575862.py:7: FutureWarning: This function is deprecated. See: https://pyproj4.github.io/pyproj/stable/gotchas.html#upgrading-to-pyproj-2-from-pyproj-1\n",
      "  x, y = transform(Proj(init='epsg:4326'), utm40, lon, lat)  # Преобразование из WGS 84 (EPSG:4326) в UTM40\n",
      "C:\\Users\\sm_pa\\AppData\\Local\\Programs\\Python\\Python39\\lib\\site-packages\\pyproj\\crs\\crs.py:141: FutureWarning: '+init=<authority>:<code>' syntax is deprecated. '<authority>:<code>' is the preferred initialization method. When making the change, be mindful of axis order changes: https://pyproj4.github.io/pyproj/stable/gotchas.html#axis-order-changes-in-proj-6\n",
      "  in_crs_string = _prepare_from_proj_string(in_crs_string)\n",
      "C:\\Users\\sm_pa\\AppData\\Local\\Temp\\ipykernel_7048\\678575862.py:7: FutureWarning: This function is deprecated. See: https://pyproj4.github.io/pyproj/stable/gotchas.html#upgrading-to-pyproj-2-from-pyproj-1\n",
      "  x, y = transform(Proj(init='epsg:4326'), utm40, lon, lat)  # Преобразование из WGS 84 (EPSG:4326) в UTM40\n",
      "C:\\Users\\sm_pa\\AppData\\Local\\Programs\\Python\\Python39\\lib\\site-packages\\pyproj\\crs\\crs.py:141: FutureWarning: '+init=<authority>:<code>' syntax is deprecated. '<authority>:<code>' is the preferred initialization method. When making the change, be mindful of axis order changes: https://pyproj4.github.io/pyproj/stable/gotchas.html#axis-order-changes-in-proj-6\n",
      "  in_crs_string = _prepare_from_proj_string(in_crs_string)\n",
      "C:\\Users\\sm_pa\\AppData\\Local\\Temp\\ipykernel_7048\\678575862.py:7: FutureWarning: This function is deprecated. See: https://pyproj4.github.io/pyproj/stable/gotchas.html#upgrading-to-pyproj-2-from-pyproj-1\n",
      "  x, y = transform(Proj(init='epsg:4326'), utm40, lon, lat)  # Преобразование из WGS 84 (EPSG:4326) в UTM40\n",
      "C:\\Users\\sm_pa\\AppData\\Local\\Programs\\Python\\Python39\\lib\\site-packages\\pyproj\\crs\\crs.py:141: FutureWarning: '+init=<authority>:<code>' syntax is deprecated. '<authority>:<code>' is the preferred initialization method. When making the change, be mindful of axis order changes: https://pyproj4.github.io/pyproj/stable/gotchas.html#axis-order-changes-in-proj-6\n",
      "  in_crs_string = _prepare_from_proj_string(in_crs_string)\n",
      "C:\\Users\\sm_pa\\AppData\\Local\\Temp\\ipykernel_7048\\678575862.py:7: FutureWarning: This function is deprecated. See: https://pyproj4.github.io/pyproj/stable/gotchas.html#upgrading-to-pyproj-2-from-pyproj-1\n",
      "  x, y = transform(Proj(init='epsg:4326'), utm40, lon, lat)  # Преобразование из WGS 84 (EPSG:4326) в UTM40\n",
      "C:\\Users\\sm_pa\\AppData\\Local\\Programs\\Python\\Python39\\lib\\site-packages\\pyproj\\crs\\crs.py:141: FutureWarning: '+init=<authority>:<code>' syntax is deprecated. '<authority>:<code>' is the preferred initialization method. When making the change, be mindful of axis order changes: https://pyproj4.github.io/pyproj/stable/gotchas.html#axis-order-changes-in-proj-6\n",
      "  in_crs_string = _prepare_from_proj_string(in_crs_string)\n",
      "C:\\Users\\sm_pa\\AppData\\Local\\Temp\\ipykernel_7048\\678575862.py:7: FutureWarning: This function is deprecated. See: https://pyproj4.github.io/pyproj/stable/gotchas.html#upgrading-to-pyproj-2-from-pyproj-1\n",
      "  x, y = transform(Proj(init='epsg:4326'), utm40, lon, lat)  # Преобразование из WGS 84 (EPSG:4326) в UTM40\n",
      "C:\\Users\\sm_pa\\AppData\\Local\\Programs\\Python\\Python39\\lib\\site-packages\\pyproj\\crs\\crs.py:141: FutureWarning: '+init=<authority>:<code>' syntax is deprecated. '<authority>:<code>' is the preferred initialization method. When making the change, be mindful of axis order changes: https://pyproj4.github.io/pyproj/stable/gotchas.html#axis-order-changes-in-proj-6\n",
      "  in_crs_string = _prepare_from_proj_string(in_crs_string)\n",
      "C:\\Users\\sm_pa\\AppData\\Local\\Temp\\ipykernel_7048\\678575862.py:7: FutureWarning: This function is deprecated. See: https://pyproj4.github.io/pyproj/stable/gotchas.html#upgrading-to-pyproj-2-from-pyproj-1\n",
      "  x, y = transform(Proj(init='epsg:4326'), utm40, lon, lat)  # Преобразование из WGS 84 (EPSG:4326) в UTM40\n",
      "C:\\Users\\sm_pa\\AppData\\Local\\Programs\\Python\\Python39\\lib\\site-packages\\pyproj\\crs\\crs.py:141: FutureWarning: '+init=<authority>:<code>' syntax is deprecated. '<authority>:<code>' is the preferred initialization method. When making the change, be mindful of axis order changes: https://pyproj4.github.io/pyproj/stable/gotchas.html#axis-order-changes-in-proj-6\n",
      "  in_crs_string = _prepare_from_proj_string(in_crs_string)\n",
      "C:\\Users\\sm_pa\\AppData\\Local\\Temp\\ipykernel_7048\\678575862.py:7: FutureWarning: This function is deprecated. See: https://pyproj4.github.io/pyproj/stable/gotchas.html#upgrading-to-pyproj-2-from-pyproj-1\n",
      "  x, y = transform(Proj(init='epsg:4326'), utm40, lon, lat)  # Преобразование из WGS 84 (EPSG:4326) в UTM40\n",
      "C:\\Users\\sm_pa\\AppData\\Local\\Programs\\Python\\Python39\\lib\\site-packages\\pyproj\\crs\\crs.py:141: FutureWarning: '+init=<authority>:<code>' syntax is deprecated. '<authority>:<code>' is the preferred initialization method. When making the change, be mindful of axis order changes: https://pyproj4.github.io/pyproj/stable/gotchas.html#axis-order-changes-in-proj-6\n",
      "  in_crs_string = _prepare_from_proj_string(in_crs_string)\n",
      "C:\\Users\\sm_pa\\AppData\\Local\\Temp\\ipykernel_7048\\678575862.py:7: FutureWarning: This function is deprecated. See: https://pyproj4.github.io/pyproj/stable/gotchas.html#upgrading-to-pyproj-2-from-pyproj-1\n",
      "  x, y = transform(Proj(init='epsg:4326'), utm40, lon, lat)  # Преобразование из WGS 84 (EPSG:4326) в UTM40\n",
      "C:\\Users\\sm_pa\\AppData\\Local\\Programs\\Python\\Python39\\lib\\site-packages\\pyproj\\crs\\crs.py:141: FutureWarning: '+init=<authority>:<code>' syntax is deprecated. '<authority>:<code>' is the preferred initialization method. When making the change, be mindful of axis order changes: https://pyproj4.github.io/pyproj/stable/gotchas.html#axis-order-changes-in-proj-6\n",
      "  in_crs_string = _prepare_from_proj_string(in_crs_string)\n",
      "C:\\Users\\sm_pa\\AppData\\Local\\Temp\\ipykernel_7048\\678575862.py:7: FutureWarning: This function is deprecated. See: https://pyproj4.github.io/pyproj/stable/gotchas.html#upgrading-to-pyproj-2-from-pyproj-1\n",
      "  x, y = transform(Proj(init='epsg:4326'), utm40, lon, lat)  # Преобразование из WGS 84 (EPSG:4326) в UTM40\n",
      "C:\\Users\\sm_pa\\AppData\\Local\\Programs\\Python\\Python39\\lib\\site-packages\\pyproj\\crs\\crs.py:141: FutureWarning: '+init=<authority>:<code>' syntax is deprecated. '<authority>:<code>' is the preferred initialization method. When making the change, be mindful of axis order changes: https://pyproj4.github.io/pyproj/stable/gotchas.html#axis-order-changes-in-proj-6\n",
      "  in_crs_string = _prepare_from_proj_string(in_crs_string)\n",
      "C:\\Users\\sm_pa\\AppData\\Local\\Temp\\ipykernel_7048\\678575862.py:7: FutureWarning: This function is deprecated. See: https://pyproj4.github.io/pyproj/stable/gotchas.html#upgrading-to-pyproj-2-from-pyproj-1\n",
      "  x, y = transform(Proj(init='epsg:4326'), utm40, lon, lat)  # Преобразование из WGS 84 (EPSG:4326) в UTM40\n",
      "C:\\Users\\sm_pa\\AppData\\Local\\Programs\\Python\\Python39\\lib\\site-packages\\pyproj\\crs\\crs.py:141: FutureWarning: '+init=<authority>:<code>' syntax is deprecated. '<authority>:<code>' is the preferred initialization method. When making the change, be mindful of axis order changes: https://pyproj4.github.io/pyproj/stable/gotchas.html#axis-order-changes-in-proj-6\n",
      "  in_crs_string = _prepare_from_proj_string(in_crs_string)\n",
      "C:\\Users\\sm_pa\\AppData\\Local\\Temp\\ipykernel_7048\\678575862.py:7: FutureWarning: This function is deprecated. See: https://pyproj4.github.io/pyproj/stable/gotchas.html#upgrading-to-pyproj-2-from-pyproj-1\n",
      "  x, y = transform(Proj(init='epsg:4326'), utm40, lon, lat)  # Преобразование из WGS 84 (EPSG:4326) в UTM40\n",
      "C:\\Users\\sm_pa\\AppData\\Local\\Programs\\Python\\Python39\\lib\\site-packages\\pyproj\\crs\\crs.py:141: FutureWarning: '+init=<authority>:<code>' syntax is deprecated. '<authority>:<code>' is the preferred initialization method. When making the change, be mindful of axis order changes: https://pyproj4.github.io/pyproj/stable/gotchas.html#axis-order-changes-in-proj-6\n",
      "  in_crs_string = _prepare_from_proj_string(in_crs_string)\n",
      "C:\\Users\\sm_pa\\AppData\\Local\\Temp\\ipykernel_7048\\678575862.py:7: FutureWarning: This function is deprecated. See: https://pyproj4.github.io/pyproj/stable/gotchas.html#upgrading-to-pyproj-2-from-pyproj-1\n",
      "  x, y = transform(Proj(init='epsg:4326'), utm40, lon, lat)  # Преобразование из WGS 84 (EPSG:4326) в UTM40\n",
      "C:\\Users\\sm_pa\\AppData\\Local\\Programs\\Python\\Python39\\lib\\site-packages\\pyproj\\crs\\crs.py:141: FutureWarning: '+init=<authority>:<code>' syntax is deprecated. '<authority>:<code>' is the preferred initialization method. When making the change, be mindful of axis order changes: https://pyproj4.github.io/pyproj/stable/gotchas.html#axis-order-changes-in-proj-6\n",
      "  in_crs_string = _prepare_from_proj_string(in_crs_string)\n",
      "C:\\Users\\sm_pa\\AppData\\Local\\Temp\\ipykernel_7048\\678575862.py:7: FutureWarning: This function is deprecated. See: https://pyproj4.github.io/pyproj/stable/gotchas.html#upgrading-to-pyproj-2-from-pyproj-1\n",
      "  x, y = transform(Proj(init='epsg:4326'), utm40, lon, lat)  # Преобразование из WGS 84 (EPSG:4326) в UTM40\n",
      "C:\\Users\\sm_pa\\AppData\\Local\\Programs\\Python\\Python39\\lib\\site-packages\\pyproj\\crs\\crs.py:141: FutureWarning: '+init=<authority>:<code>' syntax is deprecated. '<authority>:<code>' is the preferred initialization method. When making the change, be mindful of axis order changes: https://pyproj4.github.io/pyproj/stable/gotchas.html#axis-order-changes-in-proj-6\n",
      "  in_crs_string = _prepare_from_proj_string(in_crs_string)\n",
      "C:\\Users\\sm_pa\\AppData\\Local\\Temp\\ipykernel_7048\\678575862.py:7: FutureWarning: This function is deprecated. See: https://pyproj4.github.io/pyproj/stable/gotchas.html#upgrading-to-pyproj-2-from-pyproj-1\n",
      "  x, y = transform(Proj(init='epsg:4326'), utm40, lon, lat)  # Преобразование из WGS 84 (EPSG:4326) в UTM40\n",
      "C:\\Users\\sm_pa\\AppData\\Local\\Programs\\Python\\Python39\\lib\\site-packages\\pyproj\\crs\\crs.py:141: FutureWarning: '+init=<authority>:<code>' syntax is deprecated. '<authority>:<code>' is the preferred initialization method. When making the change, be mindful of axis order changes: https://pyproj4.github.io/pyproj/stable/gotchas.html#axis-order-changes-in-proj-6\n",
      "  in_crs_string = _prepare_from_proj_string(in_crs_string)\n",
      "C:\\Users\\sm_pa\\AppData\\Local\\Temp\\ipykernel_7048\\678575862.py:7: FutureWarning: This function is deprecated. See: https://pyproj4.github.io/pyproj/stable/gotchas.html#upgrading-to-pyproj-2-from-pyproj-1\n",
      "  x, y = transform(Proj(init='epsg:4326'), utm40, lon, lat)  # Преобразование из WGS 84 (EPSG:4326) в UTM40\n",
      "C:\\Users\\sm_pa\\AppData\\Local\\Programs\\Python\\Python39\\lib\\site-packages\\pyproj\\crs\\crs.py:141: FutureWarning: '+init=<authority>:<code>' syntax is deprecated. '<authority>:<code>' is the preferred initialization method. When making the change, be mindful of axis order changes: https://pyproj4.github.io/pyproj/stable/gotchas.html#axis-order-changes-in-proj-6\n",
      "  in_crs_string = _prepare_from_proj_string(in_crs_string)\n",
      "C:\\Users\\sm_pa\\AppData\\Local\\Temp\\ipykernel_7048\\678575862.py:7: FutureWarning: This function is deprecated. See: https://pyproj4.github.io/pyproj/stable/gotchas.html#upgrading-to-pyproj-2-from-pyproj-1\n",
      "  x, y = transform(Proj(init='epsg:4326'), utm40, lon, lat)  # Преобразование из WGS 84 (EPSG:4326) в UTM40\n",
      "C:\\Users\\sm_pa\\AppData\\Local\\Programs\\Python\\Python39\\lib\\site-packages\\pyproj\\crs\\crs.py:141: FutureWarning: '+init=<authority>:<code>' syntax is deprecated. '<authority>:<code>' is the preferred initialization method. When making the change, be mindful of axis order changes: https://pyproj4.github.io/pyproj/stable/gotchas.html#axis-order-changes-in-proj-6\n",
      "  in_crs_string = _prepare_from_proj_string(in_crs_string)\n",
      "C:\\Users\\sm_pa\\AppData\\Local\\Temp\\ipykernel_7048\\678575862.py:7: FutureWarning: This function is deprecated. See: https://pyproj4.github.io/pyproj/stable/gotchas.html#upgrading-to-pyproj-2-from-pyproj-1\n",
      "  x, y = transform(Proj(init='epsg:4326'), utm40, lon, lat)  # Преобразование из WGS 84 (EPSG:4326) в UTM40\n",
      "C:\\Users\\sm_pa\\AppData\\Local\\Programs\\Python\\Python39\\lib\\site-packages\\pyproj\\crs\\crs.py:141: FutureWarning: '+init=<authority>:<code>' syntax is deprecated. '<authority>:<code>' is the preferred initialization method. When making the change, be mindful of axis order changes: https://pyproj4.github.io/pyproj/stable/gotchas.html#axis-order-changes-in-proj-6\n",
      "  in_crs_string = _prepare_from_proj_string(in_crs_string)\n",
      "C:\\Users\\sm_pa\\AppData\\Local\\Temp\\ipykernel_7048\\678575862.py:7: FutureWarning: This function is deprecated. See: https://pyproj4.github.io/pyproj/stable/gotchas.html#upgrading-to-pyproj-2-from-pyproj-1\n",
      "  x, y = transform(Proj(init='epsg:4326'), utm40, lon, lat)  # Преобразование из WGS 84 (EPSG:4326) в UTM40\n",
      "C:\\Users\\sm_pa\\AppData\\Local\\Programs\\Python\\Python39\\lib\\site-packages\\pyproj\\crs\\crs.py:141: FutureWarning: '+init=<authority>:<code>' syntax is deprecated. '<authority>:<code>' is the preferred initialization method. When making the change, be mindful of axis order changes: https://pyproj4.github.io/pyproj/stable/gotchas.html#axis-order-changes-in-proj-6\n",
      "  in_crs_string = _prepare_from_proj_string(in_crs_string)\n",
      "C:\\Users\\sm_pa\\AppData\\Local\\Temp\\ipykernel_7048\\678575862.py:7: FutureWarning: This function is deprecated. See: https://pyproj4.github.io/pyproj/stable/gotchas.html#upgrading-to-pyproj-2-from-pyproj-1\n",
      "  x, y = transform(Proj(init='epsg:4326'), utm40, lon, lat)  # Преобразование из WGS 84 (EPSG:4326) в UTM40\n",
      "C:\\Users\\sm_pa\\AppData\\Local\\Programs\\Python\\Python39\\lib\\site-packages\\pyproj\\crs\\crs.py:141: FutureWarning: '+init=<authority>:<code>' syntax is deprecated. '<authority>:<code>' is the preferred initialization method. When making the change, be mindful of axis order changes: https://pyproj4.github.io/pyproj/stable/gotchas.html#axis-order-changes-in-proj-6\n",
      "  in_crs_string = _prepare_from_proj_string(in_crs_string)\n",
      "C:\\Users\\sm_pa\\AppData\\Local\\Temp\\ipykernel_7048\\678575862.py:7: FutureWarning: This function is deprecated. See: https://pyproj4.github.io/pyproj/stable/gotchas.html#upgrading-to-pyproj-2-from-pyproj-1\n",
      "  x, y = transform(Proj(init='epsg:4326'), utm40, lon, lat)  # Преобразование из WGS 84 (EPSG:4326) в UTM40\n",
      "C:\\Users\\sm_pa\\AppData\\Local\\Programs\\Python\\Python39\\lib\\site-packages\\pyproj\\crs\\crs.py:141: FutureWarning: '+init=<authority>:<code>' syntax is deprecated. '<authority>:<code>' is the preferred initialization method. When making the change, be mindful of axis order changes: https://pyproj4.github.io/pyproj/stable/gotchas.html#axis-order-changes-in-proj-6\n",
      "  in_crs_string = _prepare_from_proj_string(in_crs_string)\n",
      "C:\\Users\\sm_pa\\AppData\\Local\\Temp\\ipykernel_7048\\678575862.py:7: FutureWarning: This function is deprecated. See: https://pyproj4.github.io/pyproj/stable/gotchas.html#upgrading-to-pyproj-2-from-pyproj-1\n",
      "  x, y = transform(Proj(init='epsg:4326'), utm40, lon, lat)  # Преобразование из WGS 84 (EPSG:4326) в UTM40\n",
      "C:\\Users\\sm_pa\\AppData\\Local\\Programs\\Python\\Python39\\lib\\site-packages\\pyproj\\crs\\crs.py:141: FutureWarning: '+init=<authority>:<code>' syntax is deprecated. '<authority>:<code>' is the preferred initialization method. When making the change, be mindful of axis order changes: https://pyproj4.github.io/pyproj/stable/gotchas.html#axis-order-changes-in-proj-6\n",
      "  in_crs_string = _prepare_from_proj_string(in_crs_string)\n",
      "C:\\Users\\sm_pa\\AppData\\Local\\Temp\\ipykernel_7048\\678575862.py:7: FutureWarning: This function is deprecated. See: https://pyproj4.github.io/pyproj/stable/gotchas.html#upgrading-to-pyproj-2-from-pyproj-1\n",
      "  x, y = transform(Proj(init='epsg:4326'), utm40, lon, lat)  # Преобразование из WGS 84 (EPSG:4326) в UTM40\n",
      "C:\\Users\\sm_pa\\AppData\\Local\\Programs\\Python\\Python39\\lib\\site-packages\\pyproj\\crs\\crs.py:141: FutureWarning: '+init=<authority>:<code>' syntax is deprecated. '<authority>:<code>' is the preferred initialization method. When making the change, be mindful of axis order changes: https://pyproj4.github.io/pyproj/stable/gotchas.html#axis-order-changes-in-proj-6\n",
      "  in_crs_string = _prepare_from_proj_string(in_crs_string)\n",
      "C:\\Users\\sm_pa\\AppData\\Local\\Temp\\ipykernel_7048\\678575862.py:7: FutureWarning: This function is deprecated. See: https://pyproj4.github.io/pyproj/stable/gotchas.html#upgrading-to-pyproj-2-from-pyproj-1\n",
      "  x, y = transform(Proj(init='epsg:4326'), utm40, lon, lat)  # Преобразование из WGS 84 (EPSG:4326) в UTM40\n",
      "C:\\Users\\sm_pa\\AppData\\Local\\Programs\\Python\\Python39\\lib\\site-packages\\pyproj\\crs\\crs.py:141: FutureWarning: '+init=<authority>:<code>' syntax is deprecated. '<authority>:<code>' is the preferred initialization method. When making the change, be mindful of axis order changes: https://pyproj4.github.io/pyproj/stable/gotchas.html#axis-order-changes-in-proj-6\n",
      "  in_crs_string = _prepare_from_proj_string(in_crs_string)\n",
      "C:\\Users\\sm_pa\\AppData\\Local\\Temp\\ipykernel_7048\\678575862.py:7: FutureWarning: This function is deprecated. See: https://pyproj4.github.io/pyproj/stable/gotchas.html#upgrading-to-pyproj-2-from-pyproj-1\n",
      "  x, y = transform(Proj(init='epsg:4326'), utm40, lon, lat)  # Преобразование из WGS 84 (EPSG:4326) в UTM40\n",
      "C:\\Users\\sm_pa\\AppData\\Local\\Programs\\Python\\Python39\\lib\\site-packages\\pyproj\\crs\\crs.py:141: FutureWarning: '+init=<authority>:<code>' syntax is deprecated. '<authority>:<code>' is the preferred initialization method. When making the change, be mindful of axis order changes: https://pyproj4.github.io/pyproj/stable/gotchas.html#axis-order-changes-in-proj-6\n",
      "  in_crs_string = _prepare_from_proj_string(in_crs_string)\n",
      "C:\\Users\\sm_pa\\AppData\\Local\\Temp\\ipykernel_7048\\678575862.py:7: FutureWarning: This function is deprecated. See: https://pyproj4.github.io/pyproj/stable/gotchas.html#upgrading-to-pyproj-2-from-pyproj-1\n",
      "  x, y = transform(Proj(init='epsg:4326'), utm40, lon, lat)  # Преобразование из WGS 84 (EPSG:4326) в UTM40\n",
      "C:\\Users\\sm_pa\\AppData\\Local\\Programs\\Python\\Python39\\lib\\site-packages\\pyproj\\crs\\crs.py:141: FutureWarning: '+init=<authority>:<code>' syntax is deprecated. '<authority>:<code>' is the preferred initialization method. When making the change, be mindful of axis order changes: https://pyproj4.github.io/pyproj/stable/gotchas.html#axis-order-changes-in-proj-6\n",
      "  in_crs_string = _prepare_from_proj_string(in_crs_string)\n",
      "C:\\Users\\sm_pa\\AppData\\Local\\Temp\\ipykernel_7048\\678575862.py:7: FutureWarning: This function is deprecated. See: https://pyproj4.github.io/pyproj/stable/gotchas.html#upgrading-to-pyproj-2-from-pyproj-1\n",
      "  x, y = transform(Proj(init='epsg:4326'), utm40, lon, lat)  # Преобразование из WGS 84 (EPSG:4326) в UTM40\n",
      "C:\\Users\\sm_pa\\AppData\\Local\\Programs\\Python\\Python39\\lib\\site-packages\\pyproj\\crs\\crs.py:141: FutureWarning: '+init=<authority>:<code>' syntax is deprecated. '<authority>:<code>' is the preferred initialization method. When making the change, be mindful of axis order changes: https://pyproj4.github.io/pyproj/stable/gotchas.html#axis-order-changes-in-proj-6\n",
      "  in_crs_string = _prepare_from_proj_string(in_crs_string)\n",
      "C:\\Users\\sm_pa\\AppData\\Local\\Temp\\ipykernel_7048\\678575862.py:7: FutureWarning: This function is deprecated. See: https://pyproj4.github.io/pyproj/stable/gotchas.html#upgrading-to-pyproj-2-from-pyproj-1\n",
      "  x, y = transform(Proj(init='epsg:4326'), utm40, lon, lat)  # Преобразование из WGS 84 (EPSG:4326) в UTM40\n",
      "C:\\Users\\sm_pa\\AppData\\Local\\Programs\\Python\\Python39\\lib\\site-packages\\pyproj\\crs\\crs.py:141: FutureWarning: '+init=<authority>:<code>' syntax is deprecated. '<authority>:<code>' is the preferred initialization method. When making the change, be mindful of axis order changes: https://pyproj4.github.io/pyproj/stable/gotchas.html#axis-order-changes-in-proj-6\n",
      "  in_crs_string = _prepare_from_proj_string(in_crs_string)\n",
      "C:\\Users\\sm_pa\\AppData\\Local\\Temp\\ipykernel_7048\\678575862.py:7: FutureWarning: This function is deprecated. See: https://pyproj4.github.io/pyproj/stable/gotchas.html#upgrading-to-pyproj-2-from-pyproj-1\n",
      "  x, y = transform(Proj(init='epsg:4326'), utm40, lon, lat)  # Преобразование из WGS 84 (EPSG:4326) в UTM40\n",
      "C:\\Users\\sm_pa\\AppData\\Local\\Programs\\Python\\Python39\\lib\\site-packages\\pyproj\\crs\\crs.py:141: FutureWarning: '+init=<authority>:<code>' syntax is deprecated. '<authority>:<code>' is the preferred initialization method. When making the change, be mindful of axis order changes: https://pyproj4.github.io/pyproj/stable/gotchas.html#axis-order-changes-in-proj-6\n",
      "  in_crs_string = _prepare_from_proj_string(in_crs_string)\n",
      "C:\\Users\\sm_pa\\AppData\\Local\\Temp\\ipykernel_7048\\678575862.py:7: FutureWarning: This function is deprecated. See: https://pyproj4.github.io/pyproj/stable/gotchas.html#upgrading-to-pyproj-2-from-pyproj-1\n",
      "  x, y = transform(Proj(init='epsg:4326'), utm40, lon, lat)  # Преобразование из WGS 84 (EPSG:4326) в UTM40\n",
      "C:\\Users\\sm_pa\\AppData\\Local\\Programs\\Python\\Python39\\lib\\site-packages\\pyproj\\crs\\crs.py:141: FutureWarning: '+init=<authority>:<code>' syntax is deprecated. '<authority>:<code>' is the preferred initialization method. When making the change, be mindful of axis order changes: https://pyproj4.github.io/pyproj/stable/gotchas.html#axis-order-changes-in-proj-6\n",
      "  in_crs_string = _prepare_from_proj_string(in_crs_string)\n",
      "C:\\Users\\sm_pa\\AppData\\Local\\Temp\\ipykernel_7048\\678575862.py:7: FutureWarning: This function is deprecated. See: https://pyproj4.github.io/pyproj/stable/gotchas.html#upgrading-to-pyproj-2-from-pyproj-1\n",
      "  x, y = transform(Proj(init='epsg:4326'), utm40, lon, lat)  # Преобразование из WGS 84 (EPSG:4326) в UTM40\n",
      "C:\\Users\\sm_pa\\AppData\\Local\\Programs\\Python\\Python39\\lib\\site-packages\\pyproj\\crs\\crs.py:141: FutureWarning: '+init=<authority>:<code>' syntax is deprecated. '<authority>:<code>' is the preferred initialization method. When making the change, be mindful of axis order changes: https://pyproj4.github.io/pyproj/stable/gotchas.html#axis-order-changes-in-proj-6\n",
      "  in_crs_string = _prepare_from_proj_string(in_crs_string)\n",
      "C:\\Users\\sm_pa\\AppData\\Local\\Temp\\ipykernel_7048\\678575862.py:7: FutureWarning: This function is deprecated. See: https://pyproj4.github.io/pyproj/stable/gotchas.html#upgrading-to-pyproj-2-from-pyproj-1\n",
      "  x, y = transform(Proj(init='epsg:4326'), utm40, lon, lat)  # Преобразование из WGS 84 (EPSG:4326) в UTM40\n",
      "C:\\Users\\sm_pa\\AppData\\Local\\Programs\\Python\\Python39\\lib\\site-packages\\pyproj\\crs\\crs.py:141: FutureWarning: '+init=<authority>:<code>' syntax is deprecated. '<authority>:<code>' is the preferred initialization method. When making the change, be mindful of axis order changes: https://pyproj4.github.io/pyproj/stable/gotchas.html#axis-order-changes-in-proj-6\n",
      "  in_crs_string = _prepare_from_proj_string(in_crs_string)\n",
      "C:\\Users\\sm_pa\\AppData\\Local\\Temp\\ipykernel_7048\\678575862.py:7: FutureWarning: This function is deprecated. See: https://pyproj4.github.io/pyproj/stable/gotchas.html#upgrading-to-pyproj-2-from-pyproj-1\n",
      "  x, y = transform(Proj(init='epsg:4326'), utm40, lon, lat)  # Преобразование из WGS 84 (EPSG:4326) в UTM40\n",
      "C:\\Users\\sm_pa\\AppData\\Local\\Programs\\Python\\Python39\\lib\\site-packages\\pyproj\\crs\\crs.py:141: FutureWarning: '+init=<authority>:<code>' syntax is deprecated. '<authority>:<code>' is the preferred initialization method. When making the change, be mindful of axis order changes: https://pyproj4.github.io/pyproj/stable/gotchas.html#axis-order-changes-in-proj-6\n",
      "  in_crs_string = _prepare_from_proj_string(in_crs_string)\n",
      "C:\\Users\\sm_pa\\AppData\\Local\\Temp\\ipykernel_7048\\678575862.py:7: FutureWarning: This function is deprecated. See: https://pyproj4.github.io/pyproj/stable/gotchas.html#upgrading-to-pyproj-2-from-pyproj-1\n",
      "  x, y = transform(Proj(init='epsg:4326'), utm40, lon, lat)  # Преобразование из WGS 84 (EPSG:4326) в UTM40\n",
      "C:\\Users\\sm_pa\\AppData\\Local\\Programs\\Python\\Python39\\lib\\site-packages\\pyproj\\crs\\crs.py:141: FutureWarning: '+init=<authority>:<code>' syntax is deprecated. '<authority>:<code>' is the preferred initialization method. When making the change, be mindful of axis order changes: https://pyproj4.github.io/pyproj/stable/gotchas.html#axis-order-changes-in-proj-6\n",
      "  in_crs_string = _prepare_from_proj_string(in_crs_string)\n",
      "C:\\Users\\sm_pa\\AppData\\Local\\Temp\\ipykernel_7048\\678575862.py:7: FutureWarning: This function is deprecated. See: https://pyproj4.github.io/pyproj/stable/gotchas.html#upgrading-to-pyproj-2-from-pyproj-1\n",
      "  x, y = transform(Proj(init='epsg:4326'), utm40, lon, lat)  # Преобразование из WGS 84 (EPSG:4326) в UTM40\n",
      "C:\\Users\\sm_pa\\AppData\\Local\\Programs\\Python\\Python39\\lib\\site-packages\\pyproj\\crs\\crs.py:141: FutureWarning: '+init=<authority>:<code>' syntax is deprecated. '<authority>:<code>' is the preferred initialization method. When making the change, be mindful of axis order changes: https://pyproj4.github.io/pyproj/stable/gotchas.html#axis-order-changes-in-proj-6\n",
      "  in_crs_string = _prepare_from_proj_string(in_crs_string)\n",
      "C:\\Users\\sm_pa\\AppData\\Local\\Temp\\ipykernel_7048\\678575862.py:7: FutureWarning: This function is deprecated. See: https://pyproj4.github.io/pyproj/stable/gotchas.html#upgrading-to-pyproj-2-from-pyproj-1\n",
      "  x, y = transform(Proj(init='epsg:4326'), utm40, lon, lat)  # Преобразование из WGS 84 (EPSG:4326) в UTM40\n",
      "C:\\Users\\sm_pa\\AppData\\Local\\Programs\\Python\\Python39\\lib\\site-packages\\pyproj\\crs\\crs.py:141: FutureWarning: '+init=<authority>:<code>' syntax is deprecated. '<authority>:<code>' is the preferred initialization method. When making the change, be mindful of axis order changes: https://pyproj4.github.io/pyproj/stable/gotchas.html#axis-order-changes-in-proj-6\n",
      "  in_crs_string = _prepare_from_proj_string(in_crs_string)\n",
      "C:\\Users\\sm_pa\\AppData\\Local\\Temp\\ipykernel_7048\\678575862.py:7: FutureWarning: This function is deprecated. See: https://pyproj4.github.io/pyproj/stable/gotchas.html#upgrading-to-pyproj-2-from-pyproj-1\n",
      "  x, y = transform(Proj(init='epsg:4326'), utm40, lon, lat)  # Преобразование из WGS 84 (EPSG:4326) в UTM40\n",
      "C:\\Users\\sm_pa\\AppData\\Local\\Programs\\Python\\Python39\\lib\\site-packages\\pyproj\\crs\\crs.py:141: FutureWarning: '+init=<authority>:<code>' syntax is deprecated. '<authority>:<code>' is the preferred initialization method. When making the change, be mindful of axis order changes: https://pyproj4.github.io/pyproj/stable/gotchas.html#axis-order-changes-in-proj-6\n",
      "  in_crs_string = _prepare_from_proj_string(in_crs_string)\n",
      "C:\\Users\\sm_pa\\AppData\\Local\\Temp\\ipykernel_7048\\678575862.py:7: FutureWarning: This function is deprecated. See: https://pyproj4.github.io/pyproj/stable/gotchas.html#upgrading-to-pyproj-2-from-pyproj-1\n",
      "  x, y = transform(Proj(init='epsg:4326'), utm40, lon, lat)  # Преобразование из WGS 84 (EPSG:4326) в UTM40\n",
      "C:\\Users\\sm_pa\\AppData\\Local\\Programs\\Python\\Python39\\lib\\site-packages\\pyproj\\crs\\crs.py:141: FutureWarning: '+init=<authority>:<code>' syntax is deprecated. '<authority>:<code>' is the preferred initialization method. When making the change, be mindful of axis order changes: https://pyproj4.github.io/pyproj/stable/gotchas.html#axis-order-changes-in-proj-6\n",
      "  in_crs_string = _prepare_from_proj_string(in_crs_string)\n",
      "C:\\Users\\sm_pa\\AppData\\Local\\Temp\\ipykernel_7048\\678575862.py:7: FutureWarning: This function is deprecated. See: https://pyproj4.github.io/pyproj/stable/gotchas.html#upgrading-to-pyproj-2-from-pyproj-1\n",
      "  x, y = transform(Proj(init='epsg:4326'), utm40, lon, lat)  # Преобразование из WGS 84 (EPSG:4326) в UTM40\n",
      "C:\\Users\\sm_pa\\AppData\\Local\\Programs\\Python\\Python39\\lib\\site-packages\\pyproj\\crs\\crs.py:141: FutureWarning: '+init=<authority>:<code>' syntax is deprecated. '<authority>:<code>' is the preferred initialization method. When making the change, be mindful of axis order changes: https://pyproj4.github.io/pyproj/stable/gotchas.html#axis-order-changes-in-proj-6\n",
      "  in_crs_string = _prepare_from_proj_string(in_crs_string)\n",
      "C:\\Users\\sm_pa\\AppData\\Local\\Temp\\ipykernel_7048\\678575862.py:7: FutureWarning: This function is deprecated. See: https://pyproj4.github.io/pyproj/stable/gotchas.html#upgrading-to-pyproj-2-from-pyproj-1\n",
      "  x, y = transform(Proj(init='epsg:4326'), utm40, lon, lat)  # Преобразование из WGS 84 (EPSG:4326) в UTM40\n",
      "C:\\Users\\sm_pa\\AppData\\Local\\Programs\\Python\\Python39\\lib\\site-packages\\pyproj\\crs\\crs.py:141: FutureWarning: '+init=<authority>:<code>' syntax is deprecated. '<authority>:<code>' is the preferred initialization method. When making the change, be mindful of axis order changes: https://pyproj4.github.io/pyproj/stable/gotchas.html#axis-order-changes-in-proj-6\n",
      "  in_crs_string = _prepare_from_proj_string(in_crs_string)\n",
      "C:\\Users\\sm_pa\\AppData\\Local\\Temp\\ipykernel_7048\\678575862.py:7: FutureWarning: This function is deprecated. See: https://pyproj4.github.io/pyproj/stable/gotchas.html#upgrading-to-pyproj-2-from-pyproj-1\n",
      "  x, y = transform(Proj(init='epsg:4326'), utm40, lon, lat)  # Преобразование из WGS 84 (EPSG:4326) в UTM40\n",
      "C:\\Users\\sm_pa\\AppData\\Local\\Programs\\Python\\Python39\\lib\\site-packages\\pyproj\\crs\\crs.py:141: FutureWarning: '+init=<authority>:<code>' syntax is deprecated. '<authority>:<code>' is the preferred initialization method. When making the change, be mindful of axis order changes: https://pyproj4.github.io/pyproj/stable/gotchas.html#axis-order-changes-in-proj-6\n",
      "  in_crs_string = _prepare_from_proj_string(in_crs_string)\n",
      "C:\\Users\\sm_pa\\AppData\\Local\\Temp\\ipykernel_7048\\678575862.py:7: FutureWarning: This function is deprecated. See: https://pyproj4.github.io/pyproj/stable/gotchas.html#upgrading-to-pyproj-2-from-pyproj-1\n",
      "  x, y = transform(Proj(init='epsg:4326'), utm40, lon, lat)  # Преобразование из WGS 84 (EPSG:4326) в UTM40\n",
      "C:\\Users\\sm_pa\\AppData\\Local\\Programs\\Python\\Python39\\lib\\site-packages\\pyproj\\crs\\crs.py:141: FutureWarning: '+init=<authority>:<code>' syntax is deprecated. '<authority>:<code>' is the preferred initialization method. When making the change, be mindful of axis order changes: https://pyproj4.github.io/pyproj/stable/gotchas.html#axis-order-changes-in-proj-6\n",
      "  in_crs_string = _prepare_from_proj_string(in_crs_string)\n",
      "C:\\Users\\sm_pa\\AppData\\Local\\Temp\\ipykernel_7048\\678575862.py:7: FutureWarning: This function is deprecated. See: https://pyproj4.github.io/pyproj/stable/gotchas.html#upgrading-to-pyproj-2-from-pyproj-1\n",
      "  x, y = transform(Proj(init='epsg:4326'), utm40, lon, lat)  # Преобразование из WGS 84 (EPSG:4326) в UTM40\n",
      "C:\\Users\\sm_pa\\AppData\\Local\\Programs\\Python\\Python39\\lib\\site-packages\\pyproj\\crs\\crs.py:141: FutureWarning: '+init=<authority>:<code>' syntax is deprecated. '<authority>:<code>' is the preferred initialization method. When making the change, be mindful of axis order changes: https://pyproj4.github.io/pyproj/stable/gotchas.html#axis-order-changes-in-proj-6\n",
      "  in_crs_string = _prepare_from_proj_string(in_crs_string)\n",
      "C:\\Users\\sm_pa\\AppData\\Local\\Temp\\ipykernel_7048\\678575862.py:7: FutureWarning: This function is deprecated. See: https://pyproj4.github.io/pyproj/stable/gotchas.html#upgrading-to-pyproj-2-from-pyproj-1\n",
      "  x, y = transform(Proj(init='epsg:4326'), utm40, lon, lat)  # Преобразование из WGS 84 (EPSG:4326) в UTM40\n",
      "C:\\Users\\sm_pa\\AppData\\Local\\Programs\\Python\\Python39\\lib\\site-packages\\pyproj\\crs\\crs.py:141: FutureWarning: '+init=<authority>:<code>' syntax is deprecated. '<authority>:<code>' is the preferred initialization method. When making the change, be mindful of axis order changes: https://pyproj4.github.io/pyproj/stable/gotchas.html#axis-order-changes-in-proj-6\n",
      "  in_crs_string = _prepare_from_proj_string(in_crs_string)\n",
      "C:\\Users\\sm_pa\\AppData\\Local\\Temp\\ipykernel_7048\\678575862.py:7: FutureWarning: This function is deprecated. See: https://pyproj4.github.io/pyproj/stable/gotchas.html#upgrading-to-pyproj-2-from-pyproj-1\n",
      "  x, y = transform(Proj(init='epsg:4326'), utm40, lon, lat)  # Преобразование из WGS 84 (EPSG:4326) в UTM40\n",
      "C:\\Users\\sm_pa\\AppData\\Local\\Programs\\Python\\Python39\\lib\\site-packages\\pyproj\\crs\\crs.py:141: FutureWarning: '+init=<authority>:<code>' syntax is deprecated. '<authority>:<code>' is the preferred initialization method. When making the change, be mindful of axis order changes: https://pyproj4.github.io/pyproj/stable/gotchas.html#axis-order-changes-in-proj-6\n",
      "  in_crs_string = _prepare_from_proj_string(in_crs_string)\n",
      "C:\\Users\\sm_pa\\AppData\\Local\\Temp\\ipykernel_7048\\678575862.py:7: FutureWarning: This function is deprecated. See: https://pyproj4.github.io/pyproj/stable/gotchas.html#upgrading-to-pyproj-2-from-pyproj-1\n",
      "  x, y = transform(Proj(init='epsg:4326'), utm40, lon, lat)  # Преобразование из WGS 84 (EPSG:4326) в UTM40\n",
      "C:\\Users\\sm_pa\\AppData\\Local\\Programs\\Python\\Python39\\lib\\site-packages\\pyproj\\crs\\crs.py:141: FutureWarning: '+init=<authority>:<code>' syntax is deprecated. '<authority>:<code>' is the preferred initialization method. When making the change, be mindful of axis order changes: https://pyproj4.github.io/pyproj/stable/gotchas.html#axis-order-changes-in-proj-6\n",
      "  in_crs_string = _prepare_from_proj_string(in_crs_string)\n",
      "C:\\Users\\sm_pa\\AppData\\Local\\Temp\\ipykernel_7048\\678575862.py:7: FutureWarning: This function is deprecated. See: https://pyproj4.github.io/pyproj/stable/gotchas.html#upgrading-to-pyproj-2-from-pyproj-1\n",
      "  x, y = transform(Proj(init='epsg:4326'), utm40, lon, lat)  # Преобразование из WGS 84 (EPSG:4326) в UTM40\n",
      "C:\\Users\\sm_pa\\AppData\\Local\\Programs\\Python\\Python39\\lib\\site-packages\\pyproj\\crs\\crs.py:141: FutureWarning: '+init=<authority>:<code>' syntax is deprecated. '<authority>:<code>' is the preferred initialization method. When making the change, be mindful of axis order changes: https://pyproj4.github.io/pyproj/stable/gotchas.html#axis-order-changes-in-proj-6\n",
      "  in_crs_string = _prepare_from_proj_string(in_crs_string)\n",
      "C:\\Users\\sm_pa\\AppData\\Local\\Temp\\ipykernel_7048\\678575862.py:7: FutureWarning: This function is deprecated. See: https://pyproj4.github.io/pyproj/stable/gotchas.html#upgrading-to-pyproj-2-from-pyproj-1\n",
      "  x, y = transform(Proj(init='epsg:4326'), utm40, lon, lat)  # Преобразование из WGS 84 (EPSG:4326) в UTM40\n",
      "C:\\Users\\sm_pa\\AppData\\Local\\Programs\\Python\\Python39\\lib\\site-packages\\pyproj\\crs\\crs.py:141: FutureWarning: '+init=<authority>:<code>' syntax is deprecated. '<authority>:<code>' is the preferred initialization method. When making the change, be mindful of axis order changes: https://pyproj4.github.io/pyproj/stable/gotchas.html#axis-order-changes-in-proj-6\n",
      "  in_crs_string = _prepare_from_proj_string(in_crs_string)\n",
      "C:\\Users\\sm_pa\\AppData\\Local\\Temp\\ipykernel_7048\\678575862.py:7: FutureWarning: This function is deprecated. See: https://pyproj4.github.io/pyproj/stable/gotchas.html#upgrading-to-pyproj-2-from-pyproj-1\n",
      "  x, y = transform(Proj(init='epsg:4326'), utm40, lon, lat)  # Преобразование из WGS 84 (EPSG:4326) в UTM40\n",
      "C:\\Users\\sm_pa\\AppData\\Local\\Programs\\Python\\Python39\\lib\\site-packages\\pyproj\\crs\\crs.py:141: FutureWarning: '+init=<authority>:<code>' syntax is deprecated. '<authority>:<code>' is the preferred initialization method. When making the change, be mindful of axis order changes: https://pyproj4.github.io/pyproj/stable/gotchas.html#axis-order-changes-in-proj-6\n",
      "  in_crs_string = _prepare_from_proj_string(in_crs_string)\n",
      "C:\\Users\\sm_pa\\AppData\\Local\\Temp\\ipykernel_7048\\678575862.py:7: FutureWarning: This function is deprecated. See: https://pyproj4.github.io/pyproj/stable/gotchas.html#upgrading-to-pyproj-2-from-pyproj-1\n",
      "  x, y = transform(Proj(init='epsg:4326'), utm40, lon, lat)  # Преобразование из WGS 84 (EPSG:4326) в UTM40\n",
      "C:\\Users\\sm_pa\\AppData\\Local\\Programs\\Python\\Python39\\lib\\site-packages\\pyproj\\crs\\crs.py:141: FutureWarning: '+init=<authority>:<code>' syntax is deprecated. '<authority>:<code>' is the preferred initialization method. When making the change, be mindful of axis order changes: https://pyproj4.github.io/pyproj/stable/gotchas.html#axis-order-changes-in-proj-6\n",
      "  in_crs_string = _prepare_from_proj_string(in_crs_string)\n",
      "C:\\Users\\sm_pa\\AppData\\Local\\Temp\\ipykernel_7048\\678575862.py:7: FutureWarning: This function is deprecated. See: https://pyproj4.github.io/pyproj/stable/gotchas.html#upgrading-to-pyproj-2-from-pyproj-1\n",
      "  x, y = transform(Proj(init='epsg:4326'), utm40, lon, lat)  # Преобразование из WGS 84 (EPSG:4326) в UTM40\n",
      "C:\\Users\\sm_pa\\AppData\\Local\\Programs\\Python\\Python39\\lib\\site-packages\\pyproj\\crs\\crs.py:141: FutureWarning: '+init=<authority>:<code>' syntax is deprecated. '<authority>:<code>' is the preferred initialization method. When making the change, be mindful of axis order changes: https://pyproj4.github.io/pyproj/stable/gotchas.html#axis-order-changes-in-proj-6\n",
      "  in_crs_string = _prepare_from_proj_string(in_crs_string)\n",
      "C:\\Users\\sm_pa\\AppData\\Local\\Temp\\ipykernel_7048\\678575862.py:7: FutureWarning: This function is deprecated. See: https://pyproj4.github.io/pyproj/stable/gotchas.html#upgrading-to-pyproj-2-from-pyproj-1\n",
      "  x, y = transform(Proj(init='epsg:4326'), utm40, lon, lat)  # Преобразование из WGS 84 (EPSG:4326) в UTM40\n",
      "C:\\Users\\sm_pa\\AppData\\Local\\Programs\\Python\\Python39\\lib\\site-packages\\pyproj\\crs\\crs.py:141: FutureWarning: '+init=<authority>:<code>' syntax is deprecated. '<authority>:<code>' is the preferred initialization method. When making the change, be mindful of axis order changes: https://pyproj4.github.io/pyproj/stable/gotchas.html#axis-order-changes-in-proj-6\n",
      "  in_crs_string = _prepare_from_proj_string(in_crs_string)\n",
      "C:\\Users\\sm_pa\\AppData\\Local\\Temp\\ipykernel_7048\\678575862.py:7: FutureWarning: This function is deprecated. See: https://pyproj4.github.io/pyproj/stable/gotchas.html#upgrading-to-pyproj-2-from-pyproj-1\n",
      "  x, y = transform(Proj(init='epsg:4326'), utm40, lon, lat)  # Преобразование из WGS 84 (EPSG:4326) в UTM40\n",
      "C:\\Users\\sm_pa\\AppData\\Local\\Programs\\Python\\Python39\\lib\\site-packages\\pyproj\\crs\\crs.py:141: FutureWarning: '+init=<authority>:<code>' syntax is deprecated. '<authority>:<code>' is the preferred initialization method. When making the change, be mindful of axis order changes: https://pyproj4.github.io/pyproj/stable/gotchas.html#axis-order-changes-in-proj-6\n",
      "  in_crs_string = _prepare_from_proj_string(in_crs_string)\n",
      "C:\\Users\\sm_pa\\AppData\\Local\\Temp\\ipykernel_7048\\678575862.py:7: FutureWarning: This function is deprecated. See: https://pyproj4.github.io/pyproj/stable/gotchas.html#upgrading-to-pyproj-2-from-pyproj-1\n",
      "  x, y = transform(Proj(init='epsg:4326'), utm40, lon, lat)  # Преобразование из WGS 84 (EPSG:4326) в UTM40\n",
      "C:\\Users\\sm_pa\\AppData\\Local\\Programs\\Python\\Python39\\lib\\site-packages\\pyproj\\crs\\crs.py:141: FutureWarning: '+init=<authority>:<code>' syntax is deprecated. '<authority>:<code>' is the preferred initialization method. When making the change, be mindful of axis order changes: https://pyproj4.github.io/pyproj/stable/gotchas.html#axis-order-changes-in-proj-6\n",
      "  in_crs_string = _prepare_from_proj_string(in_crs_string)\n",
      "C:\\Users\\sm_pa\\AppData\\Local\\Temp\\ipykernel_7048\\678575862.py:7: FutureWarning: This function is deprecated. See: https://pyproj4.github.io/pyproj/stable/gotchas.html#upgrading-to-pyproj-2-from-pyproj-1\n",
      "  x, y = transform(Proj(init='epsg:4326'), utm40, lon, lat)  # Преобразование из WGS 84 (EPSG:4326) в UTM40\n",
      "C:\\Users\\sm_pa\\AppData\\Local\\Programs\\Python\\Python39\\lib\\site-packages\\pyproj\\crs\\crs.py:141: FutureWarning: '+init=<authority>:<code>' syntax is deprecated. '<authority>:<code>' is the preferred initialization method. When making the change, be mindful of axis order changes: https://pyproj4.github.io/pyproj/stable/gotchas.html#axis-order-changes-in-proj-6\n",
      "  in_crs_string = _prepare_from_proj_string(in_crs_string)\n",
      "C:\\Users\\sm_pa\\AppData\\Local\\Temp\\ipykernel_7048\\678575862.py:7: FutureWarning: This function is deprecated. See: https://pyproj4.github.io/pyproj/stable/gotchas.html#upgrading-to-pyproj-2-from-pyproj-1\n",
      "  x, y = transform(Proj(init='epsg:4326'), utm40, lon, lat)  # Преобразование из WGS 84 (EPSG:4326) в UTM40\n",
      "C:\\Users\\sm_pa\\AppData\\Local\\Programs\\Python\\Python39\\lib\\site-packages\\pyproj\\crs\\crs.py:141: FutureWarning: '+init=<authority>:<code>' syntax is deprecated. '<authority>:<code>' is the preferred initialization method. When making the change, be mindful of axis order changes: https://pyproj4.github.io/pyproj/stable/gotchas.html#axis-order-changes-in-proj-6\n",
      "  in_crs_string = _prepare_from_proj_string(in_crs_string)\n",
      "C:\\Users\\sm_pa\\AppData\\Local\\Temp\\ipykernel_7048\\678575862.py:7: FutureWarning: This function is deprecated. See: https://pyproj4.github.io/pyproj/stable/gotchas.html#upgrading-to-pyproj-2-from-pyproj-1\n",
      "  x, y = transform(Proj(init='epsg:4326'), utm40, lon, lat)  # Преобразование из WGS 84 (EPSG:4326) в UTM40\n",
      "C:\\Users\\sm_pa\\AppData\\Local\\Programs\\Python\\Python39\\lib\\site-packages\\pyproj\\crs\\crs.py:141: FutureWarning: '+init=<authority>:<code>' syntax is deprecated. '<authority>:<code>' is the preferred initialization method. When making the change, be mindful of axis order changes: https://pyproj4.github.io/pyproj/stable/gotchas.html#axis-order-changes-in-proj-6\n",
      "  in_crs_string = _prepare_from_proj_string(in_crs_string)\n",
      "C:\\Users\\sm_pa\\AppData\\Local\\Temp\\ipykernel_7048\\678575862.py:7: FutureWarning: This function is deprecated. See: https://pyproj4.github.io/pyproj/stable/gotchas.html#upgrading-to-pyproj-2-from-pyproj-1\n",
      "  x, y = transform(Proj(init='epsg:4326'), utm40, lon, lat)  # Преобразование из WGS 84 (EPSG:4326) в UTM40\n",
      "C:\\Users\\sm_pa\\AppData\\Local\\Programs\\Python\\Python39\\lib\\site-packages\\pyproj\\crs\\crs.py:141: FutureWarning: '+init=<authority>:<code>' syntax is deprecated. '<authority>:<code>' is the preferred initialization method. When making the change, be mindful of axis order changes: https://pyproj4.github.io/pyproj/stable/gotchas.html#axis-order-changes-in-proj-6\n",
      "  in_crs_string = _prepare_from_proj_string(in_crs_string)\n",
      "C:\\Users\\sm_pa\\AppData\\Local\\Temp\\ipykernel_7048\\678575862.py:7: FutureWarning: This function is deprecated. See: https://pyproj4.github.io/pyproj/stable/gotchas.html#upgrading-to-pyproj-2-from-pyproj-1\n",
      "  x, y = transform(Proj(init='epsg:4326'), utm40, lon, lat)  # Преобразование из WGS 84 (EPSG:4326) в UTM40\n",
      "C:\\Users\\sm_pa\\AppData\\Local\\Programs\\Python\\Python39\\lib\\site-packages\\pyproj\\crs\\crs.py:141: FutureWarning: '+init=<authority>:<code>' syntax is deprecated. '<authority>:<code>' is the preferred initialization method. When making the change, be mindful of axis order changes: https://pyproj4.github.io/pyproj/stable/gotchas.html#axis-order-changes-in-proj-6\n",
      "  in_crs_string = _prepare_from_proj_string(in_crs_string)\n",
      "C:\\Users\\sm_pa\\AppData\\Local\\Temp\\ipykernel_7048\\678575862.py:7: FutureWarning: This function is deprecated. See: https://pyproj4.github.io/pyproj/stable/gotchas.html#upgrading-to-pyproj-2-from-pyproj-1\n",
      "  x, y = transform(Proj(init='epsg:4326'), utm40, lon, lat)  # Преобразование из WGS 84 (EPSG:4326) в UTM40\n",
      "C:\\Users\\sm_pa\\AppData\\Local\\Programs\\Python\\Python39\\lib\\site-packages\\pyproj\\crs\\crs.py:141: FutureWarning: '+init=<authority>:<code>' syntax is deprecated. '<authority>:<code>' is the preferred initialization method. When making the change, be mindful of axis order changes: https://pyproj4.github.io/pyproj/stable/gotchas.html#axis-order-changes-in-proj-6\n",
      "  in_crs_string = _prepare_from_proj_string(in_crs_string)\n",
      "C:\\Users\\sm_pa\\AppData\\Local\\Temp\\ipykernel_7048\\678575862.py:7: FutureWarning: This function is deprecated. See: https://pyproj4.github.io/pyproj/stable/gotchas.html#upgrading-to-pyproj-2-from-pyproj-1\n",
      "  x, y = transform(Proj(init='epsg:4326'), utm40, lon, lat)  # Преобразование из WGS 84 (EPSG:4326) в UTM40\n",
      "C:\\Users\\sm_pa\\AppData\\Local\\Programs\\Python\\Python39\\lib\\site-packages\\pyproj\\crs\\crs.py:141: FutureWarning: '+init=<authority>:<code>' syntax is deprecated. '<authority>:<code>' is the preferred initialization method. When making the change, be mindful of axis order changes: https://pyproj4.github.io/pyproj/stable/gotchas.html#axis-order-changes-in-proj-6\n",
      "  in_crs_string = _prepare_from_proj_string(in_crs_string)\n",
      "C:\\Users\\sm_pa\\AppData\\Local\\Temp\\ipykernel_7048\\678575862.py:7: FutureWarning: This function is deprecated. See: https://pyproj4.github.io/pyproj/stable/gotchas.html#upgrading-to-pyproj-2-from-pyproj-1\n",
      "  x, y = transform(Proj(init='epsg:4326'), utm40, lon, lat)  # Преобразование из WGS 84 (EPSG:4326) в UTM40\n",
      "C:\\Users\\sm_pa\\AppData\\Local\\Programs\\Python\\Python39\\lib\\site-packages\\pyproj\\crs\\crs.py:141: FutureWarning: '+init=<authority>:<code>' syntax is deprecated. '<authority>:<code>' is the preferred initialization method. When making the change, be mindful of axis order changes: https://pyproj4.github.io/pyproj/stable/gotchas.html#axis-order-changes-in-proj-6\n",
      "  in_crs_string = _prepare_from_proj_string(in_crs_string)\n",
      "C:\\Users\\sm_pa\\AppData\\Local\\Temp\\ipykernel_7048\\678575862.py:7: FutureWarning: This function is deprecated. See: https://pyproj4.github.io/pyproj/stable/gotchas.html#upgrading-to-pyproj-2-from-pyproj-1\n",
      "  x, y = transform(Proj(init='epsg:4326'), utm40, lon, lat)  # Преобразование из WGS 84 (EPSG:4326) в UTM40\n",
      "C:\\Users\\sm_pa\\AppData\\Local\\Programs\\Python\\Python39\\lib\\site-packages\\pyproj\\crs\\crs.py:141: FutureWarning: '+init=<authority>:<code>' syntax is deprecated. '<authority>:<code>' is the preferred initialization method. When making the change, be mindful of axis order changes: https://pyproj4.github.io/pyproj/stable/gotchas.html#axis-order-changes-in-proj-6\n",
      "  in_crs_string = _prepare_from_proj_string(in_crs_string)\n",
      "C:\\Users\\sm_pa\\AppData\\Local\\Temp\\ipykernel_7048\\678575862.py:7: FutureWarning: This function is deprecated. See: https://pyproj4.github.io/pyproj/stable/gotchas.html#upgrading-to-pyproj-2-from-pyproj-1\n",
      "  x, y = transform(Proj(init='epsg:4326'), utm40, lon, lat)  # Преобразование из WGS 84 (EPSG:4326) в UTM40\n",
      "C:\\Users\\sm_pa\\AppData\\Local\\Programs\\Python\\Python39\\lib\\site-packages\\pyproj\\crs\\crs.py:141: FutureWarning: '+init=<authority>:<code>' syntax is deprecated. '<authority>:<code>' is the preferred initialization method. When making the change, be mindful of axis order changes: https://pyproj4.github.io/pyproj/stable/gotchas.html#axis-order-changes-in-proj-6\n",
      "  in_crs_string = _prepare_from_proj_string(in_crs_string)\n",
      "C:\\Users\\sm_pa\\AppData\\Local\\Temp\\ipykernel_7048\\678575862.py:7: FutureWarning: This function is deprecated. See: https://pyproj4.github.io/pyproj/stable/gotchas.html#upgrading-to-pyproj-2-from-pyproj-1\n",
      "  x, y = transform(Proj(init='epsg:4326'), utm40, lon, lat)  # Преобразование из WGS 84 (EPSG:4326) в UTM40\n",
      "C:\\Users\\sm_pa\\AppData\\Local\\Programs\\Python\\Python39\\lib\\site-packages\\pyproj\\crs\\crs.py:141: FutureWarning: '+init=<authority>:<code>' syntax is deprecated. '<authority>:<code>' is the preferred initialization method. When making the change, be mindful of axis order changes: https://pyproj4.github.io/pyproj/stable/gotchas.html#axis-order-changes-in-proj-6\n",
      "  in_crs_string = _prepare_from_proj_string(in_crs_string)\n",
      "C:\\Users\\sm_pa\\AppData\\Local\\Temp\\ipykernel_7048\\678575862.py:7: FutureWarning: This function is deprecated. See: https://pyproj4.github.io/pyproj/stable/gotchas.html#upgrading-to-pyproj-2-from-pyproj-1\n",
      "  x, y = transform(Proj(init='epsg:4326'), utm40, lon, lat)  # Преобразование из WGS 84 (EPSG:4326) в UTM40\n",
      "C:\\Users\\sm_pa\\AppData\\Local\\Programs\\Python\\Python39\\lib\\site-packages\\pyproj\\crs\\crs.py:141: FutureWarning: '+init=<authority>:<code>' syntax is deprecated. '<authority>:<code>' is the preferred initialization method. When making the change, be mindful of axis order changes: https://pyproj4.github.io/pyproj/stable/gotchas.html#axis-order-changes-in-proj-6\n",
      "  in_crs_string = _prepare_from_proj_string(in_crs_string)\n",
      "C:\\Users\\sm_pa\\AppData\\Local\\Temp\\ipykernel_7048\\678575862.py:7: FutureWarning: This function is deprecated. See: https://pyproj4.github.io/pyproj/stable/gotchas.html#upgrading-to-pyproj-2-from-pyproj-1\n",
      "  x, y = transform(Proj(init='epsg:4326'), utm40, lon, lat)  # Преобразование из WGS 84 (EPSG:4326) в UTM40\n",
      "C:\\Users\\sm_pa\\AppData\\Local\\Programs\\Python\\Python39\\lib\\site-packages\\pyproj\\crs\\crs.py:141: FutureWarning: '+init=<authority>:<code>' syntax is deprecated. '<authority>:<code>' is the preferred initialization method. When making the change, be mindful of axis order changes: https://pyproj4.github.io/pyproj/stable/gotchas.html#axis-order-changes-in-proj-6\n",
      "  in_crs_string = _prepare_from_proj_string(in_crs_string)\n",
      "C:\\Users\\sm_pa\\AppData\\Local\\Temp\\ipykernel_7048\\678575862.py:7: FutureWarning: This function is deprecated. See: https://pyproj4.github.io/pyproj/stable/gotchas.html#upgrading-to-pyproj-2-from-pyproj-1\n",
      "  x, y = transform(Proj(init='epsg:4326'), utm40, lon, lat)  # Преобразование из WGS 84 (EPSG:4326) в UTM40\n",
      "C:\\Users\\sm_pa\\AppData\\Local\\Programs\\Python\\Python39\\lib\\site-packages\\pyproj\\crs\\crs.py:141: FutureWarning: '+init=<authority>:<code>' syntax is deprecated. '<authority>:<code>' is the preferred initialization method. When making the change, be mindful of axis order changes: https://pyproj4.github.io/pyproj/stable/gotchas.html#axis-order-changes-in-proj-6\n",
      "  in_crs_string = _prepare_from_proj_string(in_crs_string)\n",
      "C:\\Users\\sm_pa\\AppData\\Local\\Temp\\ipykernel_7048\\678575862.py:7: FutureWarning: This function is deprecated. See: https://pyproj4.github.io/pyproj/stable/gotchas.html#upgrading-to-pyproj-2-from-pyproj-1\n",
      "  x, y = transform(Proj(init='epsg:4326'), utm40, lon, lat)  # Преобразование из WGS 84 (EPSG:4326) в UTM40\n",
      "C:\\Users\\sm_pa\\AppData\\Local\\Programs\\Python\\Python39\\lib\\site-packages\\pyproj\\crs\\crs.py:141: FutureWarning: '+init=<authority>:<code>' syntax is deprecated. '<authority>:<code>' is the preferred initialization method. When making the change, be mindful of axis order changes: https://pyproj4.github.io/pyproj/stable/gotchas.html#axis-order-changes-in-proj-6\n",
      "  in_crs_string = _prepare_from_proj_string(in_crs_string)\n",
      "C:\\Users\\sm_pa\\AppData\\Local\\Temp\\ipykernel_7048\\678575862.py:7: FutureWarning: This function is deprecated. See: https://pyproj4.github.io/pyproj/stable/gotchas.html#upgrading-to-pyproj-2-from-pyproj-1\n",
      "  x, y = transform(Proj(init='epsg:4326'), utm40, lon, lat)  # Преобразование из WGS 84 (EPSG:4326) в UTM40\n",
      "C:\\Users\\sm_pa\\AppData\\Local\\Programs\\Python\\Python39\\lib\\site-packages\\pyproj\\crs\\crs.py:141: FutureWarning: '+init=<authority>:<code>' syntax is deprecated. '<authority>:<code>' is the preferred initialization method. When making the change, be mindful of axis order changes: https://pyproj4.github.io/pyproj/stable/gotchas.html#axis-order-changes-in-proj-6\n",
      "  in_crs_string = _prepare_from_proj_string(in_crs_string)\n",
      "C:\\Users\\sm_pa\\AppData\\Local\\Temp\\ipykernel_7048\\678575862.py:7: FutureWarning: This function is deprecated. See: https://pyproj4.github.io/pyproj/stable/gotchas.html#upgrading-to-pyproj-2-from-pyproj-1\n",
      "  x, y = transform(Proj(init='epsg:4326'), utm40, lon, lat)  # Преобразование из WGS 84 (EPSG:4326) в UTM40\n",
      "C:\\Users\\sm_pa\\AppData\\Local\\Programs\\Python\\Python39\\lib\\site-packages\\pyproj\\crs\\crs.py:141: FutureWarning: '+init=<authority>:<code>' syntax is deprecated. '<authority>:<code>' is the preferred initialization method. When making the change, be mindful of axis order changes: https://pyproj4.github.io/pyproj/stable/gotchas.html#axis-order-changes-in-proj-6\n",
      "  in_crs_string = _prepare_from_proj_string(in_crs_string)\n",
      "C:\\Users\\sm_pa\\AppData\\Local\\Temp\\ipykernel_7048\\678575862.py:7: FutureWarning: This function is deprecated. See: https://pyproj4.github.io/pyproj/stable/gotchas.html#upgrading-to-pyproj-2-from-pyproj-1\n",
      "  x, y = transform(Proj(init='epsg:4326'), utm40, lon, lat)  # Преобразование из WGS 84 (EPSG:4326) в UTM40\n",
      "C:\\Users\\sm_pa\\AppData\\Local\\Programs\\Python\\Python39\\lib\\site-packages\\pyproj\\crs\\crs.py:141: FutureWarning: '+init=<authority>:<code>' syntax is deprecated. '<authority>:<code>' is the preferred initialization method. When making the change, be mindful of axis order changes: https://pyproj4.github.io/pyproj/stable/gotchas.html#axis-order-changes-in-proj-6\n",
      "  in_crs_string = _prepare_from_proj_string(in_crs_string)\n",
      "C:\\Users\\sm_pa\\AppData\\Local\\Temp\\ipykernel_7048\\678575862.py:7: FutureWarning: This function is deprecated. See: https://pyproj4.github.io/pyproj/stable/gotchas.html#upgrading-to-pyproj-2-from-pyproj-1\n",
      "  x, y = transform(Proj(init='epsg:4326'), utm40, lon, lat)  # Преобразование из WGS 84 (EPSG:4326) в UTM40\n",
      "C:\\Users\\sm_pa\\AppData\\Local\\Programs\\Python\\Python39\\lib\\site-packages\\pyproj\\crs\\crs.py:141: FutureWarning: '+init=<authority>:<code>' syntax is deprecated. '<authority>:<code>' is the preferred initialization method. When making the change, be mindful of axis order changes: https://pyproj4.github.io/pyproj/stable/gotchas.html#axis-order-changes-in-proj-6\n",
      "  in_crs_string = _prepare_from_proj_string(in_crs_string)\n",
      "C:\\Users\\sm_pa\\AppData\\Local\\Temp\\ipykernel_7048\\678575862.py:7: FutureWarning: This function is deprecated. See: https://pyproj4.github.io/pyproj/stable/gotchas.html#upgrading-to-pyproj-2-from-pyproj-1\n",
      "  x, y = transform(Proj(init='epsg:4326'), utm40, lon, lat)  # Преобразование из WGS 84 (EPSG:4326) в UTM40\n",
      "C:\\Users\\sm_pa\\AppData\\Local\\Programs\\Python\\Python39\\lib\\site-packages\\pyproj\\crs\\crs.py:141: FutureWarning: '+init=<authority>:<code>' syntax is deprecated. '<authority>:<code>' is the preferred initialization method. When making the change, be mindful of axis order changes: https://pyproj4.github.io/pyproj/stable/gotchas.html#axis-order-changes-in-proj-6\n",
      "  in_crs_string = _prepare_from_proj_string(in_crs_string)\n",
      "C:\\Users\\sm_pa\\AppData\\Local\\Temp\\ipykernel_7048\\678575862.py:7: FutureWarning: This function is deprecated. See: https://pyproj4.github.io/pyproj/stable/gotchas.html#upgrading-to-pyproj-2-from-pyproj-1\n",
      "  x, y = transform(Proj(init='epsg:4326'), utm40, lon, lat)  # Преобразование из WGS 84 (EPSG:4326) в UTM40\n",
      "C:\\Users\\sm_pa\\AppData\\Local\\Programs\\Python\\Python39\\lib\\site-packages\\pyproj\\crs\\crs.py:141: FutureWarning: '+init=<authority>:<code>' syntax is deprecated. '<authority>:<code>' is the preferred initialization method. When making the change, be mindful of axis order changes: https://pyproj4.github.io/pyproj/stable/gotchas.html#axis-order-changes-in-proj-6\n",
      "  in_crs_string = _prepare_from_proj_string(in_crs_string)\n",
      "C:\\Users\\sm_pa\\AppData\\Local\\Temp\\ipykernel_7048\\678575862.py:7: FutureWarning: This function is deprecated. See: https://pyproj4.github.io/pyproj/stable/gotchas.html#upgrading-to-pyproj-2-from-pyproj-1\n",
      "  x, y = transform(Proj(init='epsg:4326'), utm40, lon, lat)  # Преобразование из WGS 84 (EPSG:4326) в UTM40\n",
      "C:\\Users\\sm_pa\\AppData\\Local\\Programs\\Python\\Python39\\lib\\site-packages\\pyproj\\crs\\crs.py:141: FutureWarning: '+init=<authority>:<code>' syntax is deprecated. '<authority>:<code>' is the preferred initialization method. When making the change, be mindful of axis order changes: https://pyproj4.github.io/pyproj/stable/gotchas.html#axis-order-changes-in-proj-6\n",
      "  in_crs_string = _prepare_from_proj_string(in_crs_string)\n",
      "C:\\Users\\sm_pa\\AppData\\Local\\Temp\\ipykernel_7048\\678575862.py:7: FutureWarning: This function is deprecated. See: https://pyproj4.github.io/pyproj/stable/gotchas.html#upgrading-to-pyproj-2-from-pyproj-1\n",
      "  x, y = transform(Proj(init='epsg:4326'), utm40, lon, lat)  # Преобразование из WGS 84 (EPSG:4326) в UTM40\n",
      "C:\\Users\\sm_pa\\AppData\\Local\\Programs\\Python\\Python39\\lib\\site-packages\\pyproj\\crs\\crs.py:141: FutureWarning: '+init=<authority>:<code>' syntax is deprecated. '<authority>:<code>' is the preferred initialization method. When making the change, be mindful of axis order changes: https://pyproj4.github.io/pyproj/stable/gotchas.html#axis-order-changes-in-proj-6\n",
      "  in_crs_string = _prepare_from_proj_string(in_crs_string)\n",
      "C:\\Users\\sm_pa\\AppData\\Local\\Temp\\ipykernel_7048\\678575862.py:7: FutureWarning: This function is deprecated. See: https://pyproj4.github.io/pyproj/stable/gotchas.html#upgrading-to-pyproj-2-from-pyproj-1\n",
      "  x, y = transform(Proj(init='epsg:4326'), utm40, lon, lat)  # Преобразование из WGS 84 (EPSG:4326) в UTM40\n",
      "C:\\Users\\sm_pa\\AppData\\Local\\Programs\\Python\\Python39\\lib\\site-packages\\pyproj\\crs\\crs.py:141: FutureWarning: '+init=<authority>:<code>' syntax is deprecated. '<authority>:<code>' is the preferred initialization method. When making the change, be mindful of axis order changes: https://pyproj4.github.io/pyproj/stable/gotchas.html#axis-order-changes-in-proj-6\n",
      "  in_crs_string = _prepare_from_proj_string(in_crs_string)\n",
      "C:\\Users\\sm_pa\\AppData\\Local\\Temp\\ipykernel_7048\\678575862.py:7: FutureWarning: This function is deprecated. See: https://pyproj4.github.io/pyproj/stable/gotchas.html#upgrading-to-pyproj-2-from-pyproj-1\n",
      "  x, y = transform(Proj(init='epsg:4326'), utm40, lon, lat)  # Преобразование из WGS 84 (EPSG:4326) в UTM40\n",
      "C:\\Users\\sm_pa\\AppData\\Local\\Programs\\Python\\Python39\\lib\\site-packages\\pyproj\\crs\\crs.py:141: FutureWarning: '+init=<authority>:<code>' syntax is deprecated. '<authority>:<code>' is the preferred initialization method. When making the change, be mindful of axis order changes: https://pyproj4.github.io/pyproj/stable/gotchas.html#axis-order-changes-in-proj-6\n",
      "  in_crs_string = _prepare_from_proj_string(in_crs_string)\n",
      "C:\\Users\\sm_pa\\AppData\\Local\\Temp\\ipykernel_7048\\678575862.py:7: FutureWarning: This function is deprecated. See: https://pyproj4.github.io/pyproj/stable/gotchas.html#upgrading-to-pyproj-2-from-pyproj-1\n",
      "  x, y = transform(Proj(init='epsg:4326'), utm40, lon, lat)  # Преобразование из WGS 84 (EPSG:4326) в UTM40\n",
      "C:\\Users\\sm_pa\\AppData\\Local\\Programs\\Python\\Python39\\lib\\site-packages\\pyproj\\crs\\crs.py:141: FutureWarning: '+init=<authority>:<code>' syntax is deprecated. '<authority>:<code>' is the preferred initialization method. When making the change, be mindful of axis order changes: https://pyproj4.github.io/pyproj/stable/gotchas.html#axis-order-changes-in-proj-6\n",
      "  in_crs_string = _prepare_from_proj_string(in_crs_string)\n",
      "C:\\Users\\sm_pa\\AppData\\Local\\Temp\\ipykernel_7048\\678575862.py:7: FutureWarning: This function is deprecated. See: https://pyproj4.github.io/pyproj/stable/gotchas.html#upgrading-to-pyproj-2-from-pyproj-1\n",
      "  x, y = transform(Proj(init='epsg:4326'), utm40, lon, lat)  # Преобразование из WGS 84 (EPSG:4326) в UTM40\n",
      "C:\\Users\\sm_pa\\AppData\\Local\\Programs\\Python\\Python39\\lib\\site-packages\\pyproj\\crs\\crs.py:141: FutureWarning: '+init=<authority>:<code>' syntax is deprecated. '<authority>:<code>' is the preferred initialization method. When making the change, be mindful of axis order changes: https://pyproj4.github.io/pyproj/stable/gotchas.html#axis-order-changes-in-proj-6\n",
      "  in_crs_string = _prepare_from_proj_string(in_crs_string)\n",
      "C:\\Users\\sm_pa\\AppData\\Local\\Temp\\ipykernel_7048\\678575862.py:7: FutureWarning: This function is deprecated. See: https://pyproj4.github.io/pyproj/stable/gotchas.html#upgrading-to-pyproj-2-from-pyproj-1\n",
      "  x, y = transform(Proj(init='epsg:4326'), utm40, lon, lat)  # Преобразование из WGS 84 (EPSG:4326) в UTM40\n",
      "C:\\Users\\sm_pa\\AppData\\Local\\Programs\\Python\\Python39\\lib\\site-packages\\pyproj\\crs\\crs.py:141: FutureWarning: '+init=<authority>:<code>' syntax is deprecated. '<authority>:<code>' is the preferred initialization method. When making the change, be mindful of axis order changes: https://pyproj4.github.io/pyproj/stable/gotchas.html#axis-order-changes-in-proj-6\n",
      "  in_crs_string = _prepare_from_proj_string(in_crs_string)\n",
      "C:\\Users\\sm_pa\\AppData\\Local\\Temp\\ipykernel_7048\\678575862.py:7: FutureWarning: This function is deprecated. See: https://pyproj4.github.io/pyproj/stable/gotchas.html#upgrading-to-pyproj-2-from-pyproj-1\n",
      "  x, y = transform(Proj(init='epsg:4326'), utm40, lon, lat)  # Преобразование из WGS 84 (EPSG:4326) в UTM40\n",
      "C:\\Users\\sm_pa\\AppData\\Local\\Programs\\Python\\Python39\\lib\\site-packages\\pyproj\\crs\\crs.py:141: FutureWarning: '+init=<authority>:<code>' syntax is deprecated. '<authority>:<code>' is the preferred initialization method. When making the change, be mindful of axis order changes: https://pyproj4.github.io/pyproj/stable/gotchas.html#axis-order-changes-in-proj-6\n",
      "  in_crs_string = _prepare_from_proj_string(in_crs_string)\n",
      "C:\\Users\\sm_pa\\AppData\\Local\\Temp\\ipykernel_7048\\678575862.py:7: FutureWarning: This function is deprecated. See: https://pyproj4.github.io/pyproj/stable/gotchas.html#upgrading-to-pyproj-2-from-pyproj-1\n",
      "  x, y = transform(Proj(init='epsg:4326'), utm40, lon, lat)  # Преобразование из WGS 84 (EPSG:4326) в UTM40\n",
      "C:\\Users\\sm_pa\\AppData\\Local\\Programs\\Python\\Python39\\lib\\site-packages\\pyproj\\crs\\crs.py:141: FutureWarning: '+init=<authority>:<code>' syntax is deprecated. '<authority>:<code>' is the preferred initialization method. When making the change, be mindful of axis order changes: https://pyproj4.github.io/pyproj/stable/gotchas.html#axis-order-changes-in-proj-6\n",
      "  in_crs_string = _prepare_from_proj_string(in_crs_string)\n",
      "C:\\Users\\sm_pa\\AppData\\Local\\Temp\\ipykernel_7048\\678575862.py:7: FutureWarning: This function is deprecated. See: https://pyproj4.github.io/pyproj/stable/gotchas.html#upgrading-to-pyproj-2-from-pyproj-1\n",
      "  x, y = transform(Proj(init='epsg:4326'), utm40, lon, lat)  # Преобразование из WGS 84 (EPSG:4326) в UTM40\n",
      "C:\\Users\\sm_pa\\AppData\\Local\\Programs\\Python\\Python39\\lib\\site-packages\\pyproj\\crs\\crs.py:141: FutureWarning: '+init=<authority>:<code>' syntax is deprecated. '<authority>:<code>' is the preferred initialization method. When making the change, be mindful of axis order changes: https://pyproj4.github.io/pyproj/stable/gotchas.html#axis-order-changes-in-proj-6\n",
      "  in_crs_string = _prepare_from_proj_string(in_crs_string)\n",
      "C:\\Users\\sm_pa\\AppData\\Local\\Temp\\ipykernel_7048\\678575862.py:7: FutureWarning: This function is deprecated. See: https://pyproj4.github.io/pyproj/stable/gotchas.html#upgrading-to-pyproj-2-from-pyproj-1\n",
      "  x, y = transform(Proj(init='epsg:4326'), utm40, lon, lat)  # Преобразование из WGS 84 (EPSG:4326) в UTM40\n",
      "C:\\Users\\sm_pa\\AppData\\Local\\Programs\\Python\\Python39\\lib\\site-packages\\pyproj\\crs\\crs.py:141: FutureWarning: '+init=<authority>:<code>' syntax is deprecated. '<authority>:<code>' is the preferred initialization method. When making the change, be mindful of axis order changes: https://pyproj4.github.io/pyproj/stable/gotchas.html#axis-order-changes-in-proj-6\n",
      "  in_crs_string = _prepare_from_proj_string(in_crs_string)\n",
      "C:\\Users\\sm_pa\\AppData\\Local\\Temp\\ipykernel_7048\\678575862.py:7: FutureWarning: This function is deprecated. See: https://pyproj4.github.io/pyproj/stable/gotchas.html#upgrading-to-pyproj-2-from-pyproj-1\n",
      "  x, y = transform(Proj(init='epsg:4326'), utm40, lon, lat)  # Преобразование из WGS 84 (EPSG:4326) в UTM40\n",
      "C:\\Users\\sm_pa\\AppData\\Local\\Programs\\Python\\Python39\\lib\\site-packages\\pyproj\\crs\\crs.py:141: FutureWarning: '+init=<authority>:<code>' syntax is deprecated. '<authority>:<code>' is the preferred initialization method. When making the change, be mindful of axis order changes: https://pyproj4.github.io/pyproj/stable/gotchas.html#axis-order-changes-in-proj-6\n",
      "  in_crs_string = _prepare_from_proj_string(in_crs_string)\n",
      "C:\\Users\\sm_pa\\AppData\\Local\\Temp\\ipykernel_7048\\678575862.py:7: FutureWarning: This function is deprecated. See: https://pyproj4.github.io/pyproj/stable/gotchas.html#upgrading-to-pyproj-2-from-pyproj-1\n",
      "  x, y = transform(Proj(init='epsg:4326'), utm40, lon, lat)  # Преобразование из WGS 84 (EPSG:4326) в UTM40\n",
      "C:\\Users\\sm_pa\\AppData\\Local\\Programs\\Python\\Python39\\lib\\site-packages\\pyproj\\crs\\crs.py:141: FutureWarning: '+init=<authority>:<code>' syntax is deprecated. '<authority>:<code>' is the preferred initialization method. When making the change, be mindful of axis order changes: https://pyproj4.github.io/pyproj/stable/gotchas.html#axis-order-changes-in-proj-6\n",
      "  in_crs_string = _prepare_from_proj_string(in_crs_string)\n",
      "C:\\Users\\sm_pa\\AppData\\Local\\Temp\\ipykernel_7048\\678575862.py:7: FutureWarning: This function is deprecated. See: https://pyproj4.github.io/pyproj/stable/gotchas.html#upgrading-to-pyproj-2-from-pyproj-1\n",
      "  x, y = transform(Proj(init='epsg:4326'), utm40, lon, lat)  # Преобразование из WGS 84 (EPSG:4326) в UTM40\n",
      "C:\\Users\\sm_pa\\AppData\\Local\\Programs\\Python\\Python39\\lib\\site-packages\\pyproj\\crs\\crs.py:141: FutureWarning: '+init=<authority>:<code>' syntax is deprecated. '<authority>:<code>' is the preferred initialization method. When making the change, be mindful of axis order changes: https://pyproj4.github.io/pyproj/stable/gotchas.html#axis-order-changes-in-proj-6\n",
      "  in_crs_string = _prepare_from_proj_string(in_crs_string)\n",
      "C:\\Users\\sm_pa\\AppData\\Local\\Temp\\ipykernel_7048\\678575862.py:7: FutureWarning: This function is deprecated. See: https://pyproj4.github.io/pyproj/stable/gotchas.html#upgrading-to-pyproj-2-from-pyproj-1\n",
      "  x, y = transform(Proj(init='epsg:4326'), utm40, lon, lat)  # Преобразование из WGS 84 (EPSG:4326) в UTM40\n",
      "C:\\Users\\sm_pa\\AppData\\Local\\Programs\\Python\\Python39\\lib\\site-packages\\pyproj\\crs\\crs.py:141: FutureWarning: '+init=<authority>:<code>' syntax is deprecated. '<authority>:<code>' is the preferred initialization method. When making the change, be mindful of axis order changes: https://pyproj4.github.io/pyproj/stable/gotchas.html#axis-order-changes-in-proj-6\n",
      "  in_crs_string = _prepare_from_proj_string(in_crs_string)\n",
      "C:\\Users\\sm_pa\\AppData\\Local\\Temp\\ipykernel_7048\\678575862.py:7: FutureWarning: This function is deprecated. See: https://pyproj4.github.io/pyproj/stable/gotchas.html#upgrading-to-pyproj-2-from-pyproj-1\n",
      "  x, y = transform(Proj(init='epsg:4326'), utm40, lon, lat)  # Преобразование из WGS 84 (EPSG:4326) в UTM40\n",
      "C:\\Users\\sm_pa\\AppData\\Local\\Programs\\Python\\Python39\\lib\\site-packages\\pyproj\\crs\\crs.py:141: FutureWarning: '+init=<authority>:<code>' syntax is deprecated. '<authority>:<code>' is the preferred initialization method. When making the change, be mindful of axis order changes: https://pyproj4.github.io/pyproj/stable/gotchas.html#axis-order-changes-in-proj-6\n",
      "  in_crs_string = _prepare_from_proj_string(in_crs_string)\n",
      "C:\\Users\\sm_pa\\AppData\\Local\\Temp\\ipykernel_7048\\678575862.py:7: FutureWarning: This function is deprecated. See: https://pyproj4.github.io/pyproj/stable/gotchas.html#upgrading-to-pyproj-2-from-pyproj-1\n",
      "  x, y = transform(Proj(init='epsg:4326'), utm40, lon, lat)  # Преобразование из WGS 84 (EPSG:4326) в UTM40\n",
      "C:\\Users\\sm_pa\\AppData\\Local\\Programs\\Python\\Python39\\lib\\site-packages\\pyproj\\crs\\crs.py:141: FutureWarning: '+init=<authority>:<code>' syntax is deprecated. '<authority>:<code>' is the preferred initialization method. When making the change, be mindful of axis order changes: https://pyproj4.github.io/pyproj/stable/gotchas.html#axis-order-changes-in-proj-6\n",
      "  in_crs_string = _prepare_from_proj_string(in_crs_string)\n",
      "C:\\Users\\sm_pa\\AppData\\Local\\Temp\\ipykernel_7048\\678575862.py:7: FutureWarning: This function is deprecated. See: https://pyproj4.github.io/pyproj/stable/gotchas.html#upgrading-to-pyproj-2-from-pyproj-1\n",
      "  x, y = transform(Proj(init='epsg:4326'), utm40, lon, lat)  # Преобразование из WGS 84 (EPSG:4326) в UTM40\n",
      "C:\\Users\\sm_pa\\AppData\\Local\\Programs\\Python\\Python39\\lib\\site-packages\\pyproj\\crs\\crs.py:141: FutureWarning: '+init=<authority>:<code>' syntax is deprecated. '<authority>:<code>' is the preferred initialization method. When making the change, be mindful of axis order changes: https://pyproj4.github.io/pyproj/stable/gotchas.html#axis-order-changes-in-proj-6\n",
      "  in_crs_string = _prepare_from_proj_string(in_crs_string)\n",
      "C:\\Users\\sm_pa\\AppData\\Local\\Temp\\ipykernel_7048\\678575862.py:7: FutureWarning: This function is deprecated. See: https://pyproj4.github.io/pyproj/stable/gotchas.html#upgrading-to-pyproj-2-from-pyproj-1\n",
      "  x, y = transform(Proj(init='epsg:4326'), utm40, lon, lat)  # Преобразование из WGS 84 (EPSG:4326) в UTM40\n",
      "C:\\Users\\sm_pa\\AppData\\Local\\Programs\\Python\\Python39\\lib\\site-packages\\pyproj\\crs\\crs.py:141: FutureWarning: '+init=<authority>:<code>' syntax is deprecated. '<authority>:<code>' is the preferred initialization method. When making the change, be mindful of axis order changes: https://pyproj4.github.io/pyproj/stable/gotchas.html#axis-order-changes-in-proj-6\n",
      "  in_crs_string = _prepare_from_proj_string(in_crs_string)\n",
      "C:\\Users\\sm_pa\\AppData\\Local\\Temp\\ipykernel_7048\\678575862.py:7: FutureWarning: This function is deprecated. See: https://pyproj4.github.io/pyproj/stable/gotchas.html#upgrading-to-pyproj-2-from-pyproj-1\n",
      "  x, y = transform(Proj(init='epsg:4326'), utm40, lon, lat)  # Преобразование из WGS 84 (EPSG:4326) в UTM40\n",
      "C:\\Users\\sm_pa\\AppData\\Local\\Programs\\Python\\Python39\\lib\\site-packages\\pyproj\\crs\\crs.py:141: FutureWarning: '+init=<authority>:<code>' syntax is deprecated. '<authority>:<code>' is the preferred initialization method. When making the change, be mindful of axis order changes: https://pyproj4.github.io/pyproj/stable/gotchas.html#axis-order-changes-in-proj-6\n",
      "  in_crs_string = _prepare_from_proj_string(in_crs_string)\n",
      "C:\\Users\\sm_pa\\AppData\\Local\\Temp\\ipykernel_7048\\678575862.py:7: FutureWarning: This function is deprecated. See: https://pyproj4.github.io/pyproj/stable/gotchas.html#upgrading-to-pyproj-2-from-pyproj-1\n",
      "  x, y = transform(Proj(init='epsg:4326'), utm40, lon, lat)  # Преобразование из WGS 84 (EPSG:4326) в UTM40\n",
      "C:\\Users\\sm_pa\\AppData\\Local\\Programs\\Python\\Python39\\lib\\site-packages\\pyproj\\crs\\crs.py:141: FutureWarning: '+init=<authority>:<code>' syntax is deprecated. '<authority>:<code>' is the preferred initialization method. When making the change, be mindful of axis order changes: https://pyproj4.github.io/pyproj/stable/gotchas.html#axis-order-changes-in-proj-6\n",
      "  in_crs_string = _prepare_from_proj_string(in_crs_string)\n",
      "C:\\Users\\sm_pa\\AppData\\Local\\Temp\\ipykernel_7048\\678575862.py:7: FutureWarning: This function is deprecated. See: https://pyproj4.github.io/pyproj/stable/gotchas.html#upgrading-to-pyproj-2-from-pyproj-1\n",
      "  x, y = transform(Proj(init='epsg:4326'), utm40, lon, lat)  # Преобразование из WGS 84 (EPSG:4326) в UTM40\n",
      "C:\\Users\\sm_pa\\AppData\\Local\\Programs\\Python\\Python39\\lib\\site-packages\\pyproj\\crs\\crs.py:141: FutureWarning: '+init=<authority>:<code>' syntax is deprecated. '<authority>:<code>' is the preferred initialization method. When making the change, be mindful of axis order changes: https://pyproj4.github.io/pyproj/stable/gotchas.html#axis-order-changes-in-proj-6\n",
      "  in_crs_string = _prepare_from_proj_string(in_crs_string)\n",
      "C:\\Users\\sm_pa\\AppData\\Local\\Temp\\ipykernel_7048\\678575862.py:7: FutureWarning: This function is deprecated. See: https://pyproj4.github.io/pyproj/stable/gotchas.html#upgrading-to-pyproj-2-from-pyproj-1\n",
      "  x, y = transform(Proj(init='epsg:4326'), utm40, lon, lat)  # Преобразование из WGS 84 (EPSG:4326) в UTM40\n",
      "C:\\Users\\sm_pa\\AppData\\Local\\Programs\\Python\\Python39\\lib\\site-packages\\pyproj\\crs\\crs.py:141: FutureWarning: '+init=<authority>:<code>' syntax is deprecated. '<authority>:<code>' is the preferred initialization method. When making the change, be mindful of axis order changes: https://pyproj4.github.io/pyproj/stable/gotchas.html#axis-order-changes-in-proj-6\n",
      "  in_crs_string = _prepare_from_proj_string(in_crs_string)\n",
      "C:\\Users\\sm_pa\\AppData\\Local\\Temp\\ipykernel_7048\\678575862.py:7: FutureWarning: This function is deprecated. See: https://pyproj4.github.io/pyproj/stable/gotchas.html#upgrading-to-pyproj-2-from-pyproj-1\n",
      "  x, y = transform(Proj(init='epsg:4326'), utm40, lon, lat)  # Преобразование из WGS 84 (EPSG:4326) в UTM40\n",
      "C:\\Users\\sm_pa\\AppData\\Local\\Programs\\Python\\Python39\\lib\\site-packages\\pyproj\\crs\\crs.py:141: FutureWarning: '+init=<authority>:<code>' syntax is deprecated. '<authority>:<code>' is the preferred initialization method. When making the change, be mindful of axis order changes: https://pyproj4.github.io/pyproj/stable/gotchas.html#axis-order-changes-in-proj-6\n",
      "  in_crs_string = _prepare_from_proj_string(in_crs_string)\n",
      "C:\\Users\\sm_pa\\AppData\\Local\\Temp\\ipykernel_7048\\678575862.py:7: FutureWarning: This function is deprecated. See: https://pyproj4.github.io/pyproj/stable/gotchas.html#upgrading-to-pyproj-2-from-pyproj-1\n",
      "  x, y = transform(Proj(init='epsg:4326'), utm40, lon, lat)  # Преобразование из WGS 84 (EPSG:4326) в UTM40\n",
      "C:\\Users\\sm_pa\\AppData\\Local\\Programs\\Python\\Python39\\lib\\site-packages\\pyproj\\crs\\crs.py:141: FutureWarning: '+init=<authority>:<code>' syntax is deprecated. '<authority>:<code>' is the preferred initialization method. When making the change, be mindful of axis order changes: https://pyproj4.github.io/pyproj/stable/gotchas.html#axis-order-changes-in-proj-6\n",
      "  in_crs_string = _prepare_from_proj_string(in_crs_string)\n",
      "C:\\Users\\sm_pa\\AppData\\Local\\Temp\\ipykernel_7048\\678575862.py:7: FutureWarning: This function is deprecated. See: https://pyproj4.github.io/pyproj/stable/gotchas.html#upgrading-to-pyproj-2-from-pyproj-1\n",
      "  x, y = transform(Proj(init='epsg:4326'), utm40, lon, lat)  # Преобразование из WGS 84 (EPSG:4326) в UTM40\n",
      "C:\\Users\\sm_pa\\AppData\\Local\\Programs\\Python\\Python39\\lib\\site-packages\\pyproj\\crs\\crs.py:141: FutureWarning: '+init=<authority>:<code>' syntax is deprecated. '<authority>:<code>' is the preferred initialization method. When making the change, be mindful of axis order changes: https://pyproj4.github.io/pyproj/stable/gotchas.html#axis-order-changes-in-proj-6\n",
      "  in_crs_string = _prepare_from_proj_string(in_crs_string)\n",
      "C:\\Users\\sm_pa\\AppData\\Local\\Temp\\ipykernel_7048\\678575862.py:7: FutureWarning: This function is deprecated. See: https://pyproj4.github.io/pyproj/stable/gotchas.html#upgrading-to-pyproj-2-from-pyproj-1\n",
      "  x, y = transform(Proj(init='epsg:4326'), utm40, lon, lat)  # Преобразование из WGS 84 (EPSG:4326) в UTM40\n",
      "C:\\Users\\sm_pa\\AppData\\Local\\Programs\\Python\\Python39\\lib\\site-packages\\pyproj\\crs\\crs.py:141: FutureWarning: '+init=<authority>:<code>' syntax is deprecated. '<authority>:<code>' is the preferred initialization method. When making the change, be mindful of axis order changes: https://pyproj4.github.io/pyproj/stable/gotchas.html#axis-order-changes-in-proj-6\n",
      "  in_crs_string = _prepare_from_proj_string(in_crs_string)\n",
      "C:\\Users\\sm_pa\\AppData\\Local\\Temp\\ipykernel_7048\\678575862.py:7: FutureWarning: This function is deprecated. See: https://pyproj4.github.io/pyproj/stable/gotchas.html#upgrading-to-pyproj-2-from-pyproj-1\n",
      "  x, y = transform(Proj(init='epsg:4326'), utm40, lon, lat)  # Преобразование из WGS 84 (EPSG:4326) в UTM40\n",
      "C:\\Users\\sm_pa\\AppData\\Local\\Programs\\Python\\Python39\\lib\\site-packages\\pyproj\\crs\\crs.py:141: FutureWarning: '+init=<authority>:<code>' syntax is deprecated. '<authority>:<code>' is the preferred initialization method. When making the change, be mindful of axis order changes: https://pyproj4.github.io/pyproj/stable/gotchas.html#axis-order-changes-in-proj-6\n",
      "  in_crs_string = _prepare_from_proj_string(in_crs_string)\n",
      "C:\\Users\\sm_pa\\AppData\\Local\\Temp\\ipykernel_7048\\678575862.py:7: FutureWarning: This function is deprecated. See: https://pyproj4.github.io/pyproj/stable/gotchas.html#upgrading-to-pyproj-2-from-pyproj-1\n",
      "  x, y = transform(Proj(init='epsg:4326'), utm40, lon, lat)  # Преобразование из WGS 84 (EPSG:4326) в UTM40\n",
      "C:\\Users\\sm_pa\\AppData\\Local\\Programs\\Python\\Python39\\lib\\site-packages\\pyproj\\crs\\crs.py:141: FutureWarning: '+init=<authority>:<code>' syntax is deprecated. '<authority>:<code>' is the preferred initialization method. When making the change, be mindful of axis order changes: https://pyproj4.github.io/pyproj/stable/gotchas.html#axis-order-changes-in-proj-6\n",
      "  in_crs_string = _prepare_from_proj_string(in_crs_string)\n",
      "C:\\Users\\sm_pa\\AppData\\Local\\Temp\\ipykernel_7048\\678575862.py:7: FutureWarning: This function is deprecated. See: https://pyproj4.github.io/pyproj/stable/gotchas.html#upgrading-to-pyproj-2-from-pyproj-1\n",
      "  x, y = transform(Proj(init='epsg:4326'), utm40, lon, lat)  # Преобразование из WGS 84 (EPSG:4326) в UTM40\n",
      "C:\\Users\\sm_pa\\AppData\\Local\\Programs\\Python\\Python39\\lib\\site-packages\\pyproj\\crs\\crs.py:141: FutureWarning: '+init=<authority>:<code>' syntax is deprecated. '<authority>:<code>' is the preferred initialization method. When making the change, be mindful of axis order changes: https://pyproj4.github.io/pyproj/stable/gotchas.html#axis-order-changes-in-proj-6\n",
      "  in_crs_string = _prepare_from_proj_string(in_crs_string)\n",
      "C:\\Users\\sm_pa\\AppData\\Local\\Temp\\ipykernel_7048\\678575862.py:7: FutureWarning: This function is deprecated. See: https://pyproj4.github.io/pyproj/stable/gotchas.html#upgrading-to-pyproj-2-from-pyproj-1\n",
      "  x, y = transform(Proj(init='epsg:4326'), utm40, lon, lat)  # Преобразование из WGS 84 (EPSG:4326) в UTM40\n",
      "C:\\Users\\sm_pa\\AppData\\Local\\Programs\\Python\\Python39\\lib\\site-packages\\pyproj\\crs\\crs.py:141: FutureWarning: '+init=<authority>:<code>' syntax is deprecated. '<authority>:<code>' is the preferred initialization method. When making the change, be mindful of axis order changes: https://pyproj4.github.io/pyproj/stable/gotchas.html#axis-order-changes-in-proj-6\n",
      "  in_crs_string = _prepare_from_proj_string(in_crs_string)\n",
      "C:\\Users\\sm_pa\\AppData\\Local\\Temp\\ipykernel_7048\\678575862.py:7: FutureWarning: This function is deprecated. See: https://pyproj4.github.io/pyproj/stable/gotchas.html#upgrading-to-pyproj-2-from-pyproj-1\n",
      "  x, y = transform(Proj(init='epsg:4326'), utm40, lon, lat)  # Преобразование из WGS 84 (EPSG:4326) в UTM40\n",
      "C:\\Users\\sm_pa\\AppData\\Local\\Programs\\Python\\Python39\\lib\\site-packages\\pyproj\\crs\\crs.py:141: FutureWarning: '+init=<authority>:<code>' syntax is deprecated. '<authority>:<code>' is the preferred initialization method. When making the change, be mindful of axis order changes: https://pyproj4.github.io/pyproj/stable/gotchas.html#axis-order-changes-in-proj-6\n",
      "  in_crs_string = _prepare_from_proj_string(in_crs_string)\n",
      "C:\\Users\\sm_pa\\AppData\\Local\\Temp\\ipykernel_7048\\678575862.py:7: FutureWarning: This function is deprecated. See: https://pyproj4.github.io/pyproj/stable/gotchas.html#upgrading-to-pyproj-2-from-pyproj-1\n",
      "  x, y = transform(Proj(init='epsg:4326'), utm40, lon, lat)  # Преобразование из WGS 84 (EPSG:4326) в UTM40\n",
      "C:\\Users\\sm_pa\\AppData\\Local\\Programs\\Python\\Python39\\lib\\site-packages\\pyproj\\crs\\crs.py:141: FutureWarning: '+init=<authority>:<code>' syntax is deprecated. '<authority>:<code>' is the preferred initialization method. When making the change, be mindful of axis order changes: https://pyproj4.github.io/pyproj/stable/gotchas.html#axis-order-changes-in-proj-6\n",
      "  in_crs_string = _prepare_from_proj_string(in_crs_string)\n",
      "C:\\Users\\sm_pa\\AppData\\Local\\Temp\\ipykernel_7048\\678575862.py:7: FutureWarning: This function is deprecated. See: https://pyproj4.github.io/pyproj/stable/gotchas.html#upgrading-to-pyproj-2-from-pyproj-1\n",
      "  x, y = transform(Proj(init='epsg:4326'), utm40, lon, lat)  # Преобразование из WGS 84 (EPSG:4326) в UTM40\n",
      "C:\\Users\\sm_pa\\AppData\\Local\\Programs\\Python\\Python39\\lib\\site-packages\\pyproj\\crs\\crs.py:141: FutureWarning: '+init=<authority>:<code>' syntax is deprecated. '<authority>:<code>' is the preferred initialization method. When making the change, be mindful of axis order changes: https://pyproj4.github.io/pyproj/stable/gotchas.html#axis-order-changes-in-proj-6\n",
      "  in_crs_string = _prepare_from_proj_string(in_crs_string)\n",
      "C:\\Users\\sm_pa\\AppData\\Local\\Temp\\ipykernel_7048\\678575862.py:7: FutureWarning: This function is deprecated. See: https://pyproj4.github.io/pyproj/stable/gotchas.html#upgrading-to-pyproj-2-from-pyproj-1\n",
      "  x, y = transform(Proj(init='epsg:4326'), utm40, lon, lat)  # Преобразование из WGS 84 (EPSG:4326) в UTM40\n",
      "C:\\Users\\sm_pa\\AppData\\Local\\Programs\\Python\\Python39\\lib\\site-packages\\pyproj\\crs\\crs.py:141: FutureWarning: '+init=<authority>:<code>' syntax is deprecated. '<authority>:<code>' is the preferred initialization method. When making the change, be mindful of axis order changes: https://pyproj4.github.io/pyproj/stable/gotchas.html#axis-order-changes-in-proj-6\n",
      "  in_crs_string = _prepare_from_proj_string(in_crs_string)\n",
      "C:\\Users\\sm_pa\\AppData\\Local\\Temp\\ipykernel_7048\\678575862.py:7: FutureWarning: This function is deprecated. See: https://pyproj4.github.io/pyproj/stable/gotchas.html#upgrading-to-pyproj-2-from-pyproj-1\n",
      "  x, y = transform(Proj(init='epsg:4326'), utm40, lon, lat)  # Преобразование из WGS 84 (EPSG:4326) в UTM40\n",
      "C:\\Users\\sm_pa\\AppData\\Local\\Programs\\Python\\Python39\\lib\\site-packages\\pyproj\\crs\\crs.py:141: FutureWarning: '+init=<authority>:<code>' syntax is deprecated. '<authority>:<code>' is the preferred initialization method. When making the change, be mindful of axis order changes: https://pyproj4.github.io/pyproj/stable/gotchas.html#axis-order-changes-in-proj-6\n",
      "  in_crs_string = _prepare_from_proj_string(in_crs_string)\n",
      "C:\\Users\\sm_pa\\AppData\\Local\\Temp\\ipykernel_7048\\678575862.py:7: FutureWarning: This function is deprecated. See: https://pyproj4.github.io/pyproj/stable/gotchas.html#upgrading-to-pyproj-2-from-pyproj-1\n",
      "  x, y = transform(Proj(init='epsg:4326'), utm40, lon, lat)  # Преобразование из WGS 84 (EPSG:4326) в UTM40\n",
      "C:\\Users\\sm_pa\\AppData\\Local\\Programs\\Python\\Python39\\lib\\site-packages\\pyproj\\crs\\crs.py:141: FutureWarning: '+init=<authority>:<code>' syntax is deprecated. '<authority>:<code>' is the preferred initialization method. When making the change, be mindful of axis order changes: https://pyproj4.github.io/pyproj/stable/gotchas.html#axis-order-changes-in-proj-6\n",
      "  in_crs_string = _prepare_from_proj_string(in_crs_string)\n",
      "C:\\Users\\sm_pa\\AppData\\Local\\Temp\\ipykernel_7048\\678575862.py:7: FutureWarning: This function is deprecated. See: https://pyproj4.github.io/pyproj/stable/gotchas.html#upgrading-to-pyproj-2-from-pyproj-1\n",
      "  x, y = transform(Proj(init='epsg:4326'), utm40, lon, lat)  # Преобразование из WGS 84 (EPSG:4326) в UTM40\n",
      "C:\\Users\\sm_pa\\AppData\\Local\\Programs\\Python\\Python39\\lib\\site-packages\\pyproj\\crs\\crs.py:141: FutureWarning: '+init=<authority>:<code>' syntax is deprecated. '<authority>:<code>' is the preferred initialization method. When making the change, be mindful of axis order changes: https://pyproj4.github.io/pyproj/stable/gotchas.html#axis-order-changes-in-proj-6\n",
      "  in_crs_string = _prepare_from_proj_string(in_crs_string)\n",
      "C:\\Users\\sm_pa\\AppData\\Local\\Temp\\ipykernel_7048\\678575862.py:7: FutureWarning: This function is deprecated. See: https://pyproj4.github.io/pyproj/stable/gotchas.html#upgrading-to-pyproj-2-from-pyproj-1\n",
      "  x, y = transform(Proj(init='epsg:4326'), utm40, lon, lat)  # Преобразование из WGS 84 (EPSG:4326) в UTM40\n",
      "C:\\Users\\sm_pa\\AppData\\Local\\Programs\\Python\\Python39\\lib\\site-packages\\pyproj\\crs\\crs.py:141: FutureWarning: '+init=<authority>:<code>' syntax is deprecated. '<authority>:<code>' is the preferred initialization method. When making the change, be mindful of axis order changes: https://pyproj4.github.io/pyproj/stable/gotchas.html#axis-order-changes-in-proj-6\n",
      "  in_crs_string = _prepare_from_proj_string(in_crs_string)\n",
      "C:\\Users\\sm_pa\\AppData\\Local\\Temp\\ipykernel_7048\\678575862.py:7: FutureWarning: This function is deprecated. See: https://pyproj4.github.io/pyproj/stable/gotchas.html#upgrading-to-pyproj-2-from-pyproj-1\n",
      "  x, y = transform(Proj(init='epsg:4326'), utm40, lon, lat)  # Преобразование из WGS 84 (EPSG:4326) в UTM40\n",
      "C:\\Users\\sm_pa\\AppData\\Local\\Programs\\Python\\Python39\\lib\\site-packages\\pyproj\\crs\\crs.py:141: FutureWarning: '+init=<authority>:<code>' syntax is deprecated. '<authority>:<code>' is the preferred initialization method. When making the change, be mindful of axis order changes: https://pyproj4.github.io/pyproj/stable/gotchas.html#axis-order-changes-in-proj-6\n",
      "  in_crs_string = _prepare_from_proj_string(in_crs_string)\n",
      "C:\\Users\\sm_pa\\AppData\\Local\\Temp\\ipykernel_7048\\678575862.py:7: FutureWarning: This function is deprecated. See: https://pyproj4.github.io/pyproj/stable/gotchas.html#upgrading-to-pyproj-2-from-pyproj-1\n",
      "  x, y = transform(Proj(init='epsg:4326'), utm40, lon, lat)  # Преобразование из WGS 84 (EPSG:4326) в UTM40\n",
      "C:\\Users\\sm_pa\\AppData\\Local\\Programs\\Python\\Python39\\lib\\site-packages\\pyproj\\crs\\crs.py:141: FutureWarning: '+init=<authority>:<code>' syntax is deprecated. '<authority>:<code>' is the preferred initialization method. When making the change, be mindful of axis order changes: https://pyproj4.github.io/pyproj/stable/gotchas.html#axis-order-changes-in-proj-6\n",
      "  in_crs_string = _prepare_from_proj_string(in_crs_string)\n",
      "C:\\Users\\sm_pa\\AppData\\Local\\Temp\\ipykernel_7048\\678575862.py:7: FutureWarning: This function is deprecated. See: https://pyproj4.github.io/pyproj/stable/gotchas.html#upgrading-to-pyproj-2-from-pyproj-1\n",
      "  x, y = transform(Proj(init='epsg:4326'), utm40, lon, lat)  # Преобразование из WGS 84 (EPSG:4326) в UTM40\n",
      "C:\\Users\\sm_pa\\AppData\\Local\\Programs\\Python\\Python39\\lib\\site-packages\\pyproj\\crs\\crs.py:141: FutureWarning: '+init=<authority>:<code>' syntax is deprecated. '<authority>:<code>' is the preferred initialization method. When making the change, be mindful of axis order changes: https://pyproj4.github.io/pyproj/stable/gotchas.html#axis-order-changes-in-proj-6\n",
      "  in_crs_string = _prepare_from_proj_string(in_crs_string)\n",
      "C:\\Users\\sm_pa\\AppData\\Local\\Temp\\ipykernel_7048\\678575862.py:7: FutureWarning: This function is deprecated. See: https://pyproj4.github.io/pyproj/stable/gotchas.html#upgrading-to-pyproj-2-from-pyproj-1\n",
      "  x, y = transform(Proj(init='epsg:4326'), utm40, lon, lat)  # Преобразование из WGS 84 (EPSG:4326) в UTM40\n",
      "C:\\Users\\sm_pa\\AppData\\Local\\Programs\\Python\\Python39\\lib\\site-packages\\pyproj\\crs\\crs.py:141: FutureWarning: '+init=<authority>:<code>' syntax is deprecated. '<authority>:<code>' is the preferred initialization method. When making the change, be mindful of axis order changes: https://pyproj4.github.io/pyproj/stable/gotchas.html#axis-order-changes-in-proj-6\n",
      "  in_crs_string = _prepare_from_proj_string(in_crs_string)\n",
      "C:\\Users\\sm_pa\\AppData\\Local\\Temp\\ipykernel_7048\\678575862.py:7: FutureWarning: This function is deprecated. See: https://pyproj4.github.io/pyproj/stable/gotchas.html#upgrading-to-pyproj-2-from-pyproj-1\n",
      "  x, y = transform(Proj(init='epsg:4326'), utm40, lon, lat)  # Преобразование из WGS 84 (EPSG:4326) в UTM40\n",
      "C:\\Users\\sm_pa\\AppData\\Local\\Programs\\Python\\Python39\\lib\\site-packages\\pyproj\\crs\\crs.py:141: FutureWarning: '+init=<authority>:<code>' syntax is deprecated. '<authority>:<code>' is the preferred initialization method. When making the change, be mindful of axis order changes: https://pyproj4.github.io/pyproj/stable/gotchas.html#axis-order-changes-in-proj-6\n",
      "  in_crs_string = _prepare_from_proj_string(in_crs_string)\n",
      "C:\\Users\\sm_pa\\AppData\\Local\\Temp\\ipykernel_7048\\678575862.py:7: FutureWarning: This function is deprecated. See: https://pyproj4.github.io/pyproj/stable/gotchas.html#upgrading-to-pyproj-2-from-pyproj-1\n",
      "  x, y = transform(Proj(init='epsg:4326'), utm40, lon, lat)  # Преобразование из WGS 84 (EPSG:4326) в UTM40\n",
      "C:\\Users\\sm_pa\\AppData\\Local\\Programs\\Python\\Python39\\lib\\site-packages\\pyproj\\crs\\crs.py:141: FutureWarning: '+init=<authority>:<code>' syntax is deprecated. '<authority>:<code>' is the preferred initialization method. When making the change, be mindful of axis order changes: https://pyproj4.github.io/pyproj/stable/gotchas.html#axis-order-changes-in-proj-6\n",
      "  in_crs_string = _prepare_from_proj_string(in_crs_string)\n",
      "C:\\Users\\sm_pa\\AppData\\Local\\Temp\\ipykernel_7048\\678575862.py:7: FutureWarning: This function is deprecated. See: https://pyproj4.github.io/pyproj/stable/gotchas.html#upgrading-to-pyproj-2-from-pyproj-1\n",
      "  x, y = transform(Proj(init='epsg:4326'), utm40, lon, lat)  # Преобразование из WGS 84 (EPSG:4326) в UTM40\n",
      "C:\\Users\\sm_pa\\AppData\\Local\\Programs\\Python\\Python39\\lib\\site-packages\\pyproj\\crs\\crs.py:141: FutureWarning: '+init=<authority>:<code>' syntax is deprecated. '<authority>:<code>' is the preferred initialization method. When making the change, be mindful of axis order changes: https://pyproj4.github.io/pyproj/stable/gotchas.html#axis-order-changes-in-proj-6\n",
      "  in_crs_string = _prepare_from_proj_string(in_crs_string)\n",
      "C:\\Users\\sm_pa\\AppData\\Local\\Temp\\ipykernel_7048\\678575862.py:7: FutureWarning: This function is deprecated. See: https://pyproj4.github.io/pyproj/stable/gotchas.html#upgrading-to-pyproj-2-from-pyproj-1\n",
      "  x, y = transform(Proj(init='epsg:4326'), utm40, lon, lat)  # Преобразование из WGS 84 (EPSG:4326) в UTM40\n",
      "C:\\Users\\sm_pa\\AppData\\Local\\Programs\\Python\\Python39\\lib\\site-packages\\pyproj\\crs\\crs.py:141: FutureWarning: '+init=<authority>:<code>' syntax is deprecated. '<authority>:<code>' is the preferred initialization method. When making the change, be mindful of axis order changes: https://pyproj4.github.io/pyproj/stable/gotchas.html#axis-order-changes-in-proj-6\n",
      "  in_crs_string = _prepare_from_proj_string(in_crs_string)\n",
      "C:\\Users\\sm_pa\\AppData\\Local\\Temp\\ipykernel_7048\\678575862.py:7: FutureWarning: This function is deprecated. See: https://pyproj4.github.io/pyproj/stable/gotchas.html#upgrading-to-pyproj-2-from-pyproj-1\n",
      "  x, y = transform(Proj(init='epsg:4326'), utm40, lon, lat)  # Преобразование из WGS 84 (EPSG:4326) в UTM40\n",
      "C:\\Users\\sm_pa\\AppData\\Local\\Programs\\Python\\Python39\\lib\\site-packages\\pyproj\\crs\\crs.py:141: FutureWarning: '+init=<authority>:<code>' syntax is deprecated. '<authority>:<code>' is the preferred initialization method. When making the change, be mindful of axis order changes: https://pyproj4.github.io/pyproj/stable/gotchas.html#axis-order-changes-in-proj-6\n",
      "  in_crs_string = _prepare_from_proj_string(in_crs_string)\n",
      "C:\\Users\\sm_pa\\AppData\\Local\\Temp\\ipykernel_7048\\678575862.py:7: FutureWarning: This function is deprecated. See: https://pyproj4.github.io/pyproj/stable/gotchas.html#upgrading-to-pyproj-2-from-pyproj-1\n",
      "  x, y = transform(Proj(init='epsg:4326'), utm40, lon, lat)  # Преобразование из WGS 84 (EPSG:4326) в UTM40\n",
      "C:\\Users\\sm_pa\\AppData\\Local\\Programs\\Python\\Python39\\lib\\site-packages\\pyproj\\crs\\crs.py:141: FutureWarning: '+init=<authority>:<code>' syntax is deprecated. '<authority>:<code>' is the preferred initialization method. When making the change, be mindful of axis order changes: https://pyproj4.github.io/pyproj/stable/gotchas.html#axis-order-changes-in-proj-6\n",
      "  in_crs_string = _prepare_from_proj_string(in_crs_string)\n",
      "C:\\Users\\sm_pa\\AppData\\Local\\Temp\\ipykernel_7048\\678575862.py:7: FutureWarning: This function is deprecated. See: https://pyproj4.github.io/pyproj/stable/gotchas.html#upgrading-to-pyproj-2-from-pyproj-1\n",
      "  x, y = transform(Proj(init='epsg:4326'), utm40, lon, lat)  # Преобразование из WGS 84 (EPSG:4326) в UTM40\n",
      "C:\\Users\\sm_pa\\AppData\\Local\\Programs\\Python\\Python39\\lib\\site-packages\\pyproj\\crs\\crs.py:141: FutureWarning: '+init=<authority>:<code>' syntax is deprecated. '<authority>:<code>' is the preferred initialization method. When making the change, be mindful of axis order changes: https://pyproj4.github.io/pyproj/stable/gotchas.html#axis-order-changes-in-proj-6\n",
      "  in_crs_string = _prepare_from_proj_string(in_crs_string)\n",
      "C:\\Users\\sm_pa\\AppData\\Local\\Temp\\ipykernel_7048\\678575862.py:7: FutureWarning: This function is deprecated. See: https://pyproj4.github.io/pyproj/stable/gotchas.html#upgrading-to-pyproj-2-from-pyproj-1\n",
      "  x, y = transform(Proj(init='epsg:4326'), utm40, lon, lat)  # Преобразование из WGS 84 (EPSG:4326) в UTM40\n",
      "C:\\Users\\sm_pa\\AppData\\Local\\Programs\\Python\\Python39\\lib\\site-packages\\pyproj\\crs\\crs.py:141: FutureWarning: '+init=<authority>:<code>' syntax is deprecated. '<authority>:<code>' is the preferred initialization method. When making the change, be mindful of axis order changes: https://pyproj4.github.io/pyproj/stable/gotchas.html#axis-order-changes-in-proj-6\n",
      "  in_crs_string = _prepare_from_proj_string(in_crs_string)\n",
      "C:\\Users\\sm_pa\\AppData\\Local\\Temp\\ipykernel_7048\\678575862.py:7: FutureWarning: This function is deprecated. See: https://pyproj4.github.io/pyproj/stable/gotchas.html#upgrading-to-pyproj-2-from-pyproj-1\n",
      "  x, y = transform(Proj(init='epsg:4326'), utm40, lon, lat)  # Преобразование из WGS 84 (EPSG:4326) в UTM40\n",
      "C:\\Users\\sm_pa\\AppData\\Local\\Programs\\Python\\Python39\\lib\\site-packages\\pyproj\\crs\\crs.py:141: FutureWarning: '+init=<authority>:<code>' syntax is deprecated. '<authority>:<code>' is the preferred initialization method. When making the change, be mindful of axis order changes: https://pyproj4.github.io/pyproj/stable/gotchas.html#axis-order-changes-in-proj-6\n",
      "  in_crs_string = _prepare_from_proj_string(in_crs_string)\n",
      "C:\\Users\\sm_pa\\AppData\\Local\\Temp\\ipykernel_7048\\678575862.py:7: FutureWarning: This function is deprecated. See: https://pyproj4.github.io/pyproj/stable/gotchas.html#upgrading-to-pyproj-2-from-pyproj-1\n",
      "  x, y = transform(Proj(init='epsg:4326'), utm40, lon, lat)  # Преобразование из WGS 84 (EPSG:4326) в UTM40\n",
      "C:\\Users\\sm_pa\\AppData\\Local\\Programs\\Python\\Python39\\lib\\site-packages\\pyproj\\crs\\crs.py:141: FutureWarning: '+init=<authority>:<code>' syntax is deprecated. '<authority>:<code>' is the preferred initialization method. When making the change, be mindful of axis order changes: https://pyproj4.github.io/pyproj/stable/gotchas.html#axis-order-changes-in-proj-6\n",
      "  in_crs_string = _prepare_from_proj_string(in_crs_string)\n",
      "C:\\Users\\sm_pa\\AppData\\Local\\Temp\\ipykernel_7048\\678575862.py:7: FutureWarning: This function is deprecated. See: https://pyproj4.github.io/pyproj/stable/gotchas.html#upgrading-to-pyproj-2-from-pyproj-1\n",
      "  x, y = transform(Proj(init='epsg:4326'), utm40, lon, lat)  # Преобразование из WGS 84 (EPSG:4326) в UTM40\n",
      "C:\\Users\\sm_pa\\AppData\\Local\\Programs\\Python\\Python39\\lib\\site-packages\\pyproj\\crs\\crs.py:141: FutureWarning: '+init=<authority>:<code>' syntax is deprecated. '<authority>:<code>' is the preferred initialization method. When making the change, be mindful of axis order changes: https://pyproj4.github.io/pyproj/stable/gotchas.html#axis-order-changes-in-proj-6\n",
      "  in_crs_string = _prepare_from_proj_string(in_crs_string)\n",
      "C:\\Users\\sm_pa\\AppData\\Local\\Temp\\ipykernel_7048\\678575862.py:7: FutureWarning: This function is deprecated. See: https://pyproj4.github.io/pyproj/stable/gotchas.html#upgrading-to-pyproj-2-from-pyproj-1\n",
      "  x, y = transform(Proj(init='epsg:4326'), utm40, lon, lat)  # Преобразование из WGS 84 (EPSG:4326) в UTM40\n",
      "C:\\Users\\sm_pa\\AppData\\Local\\Programs\\Python\\Python39\\lib\\site-packages\\pyproj\\crs\\crs.py:141: FutureWarning: '+init=<authority>:<code>' syntax is deprecated. '<authority>:<code>' is the preferred initialization method. When making the change, be mindful of axis order changes: https://pyproj4.github.io/pyproj/stable/gotchas.html#axis-order-changes-in-proj-6\n",
      "  in_crs_string = _prepare_from_proj_string(in_crs_string)\n",
      "C:\\Users\\sm_pa\\AppData\\Local\\Temp\\ipykernel_7048\\678575862.py:7: FutureWarning: This function is deprecated. See: https://pyproj4.github.io/pyproj/stable/gotchas.html#upgrading-to-pyproj-2-from-pyproj-1\n",
      "  x, y = transform(Proj(init='epsg:4326'), utm40, lon, lat)  # Преобразование из WGS 84 (EPSG:4326) в UTM40\n",
      "C:\\Users\\sm_pa\\AppData\\Local\\Programs\\Python\\Python39\\lib\\site-packages\\pyproj\\crs\\crs.py:141: FutureWarning: '+init=<authority>:<code>' syntax is deprecated. '<authority>:<code>' is the preferred initialization method. When making the change, be mindful of axis order changes: https://pyproj4.github.io/pyproj/stable/gotchas.html#axis-order-changes-in-proj-6\n",
      "  in_crs_string = _prepare_from_proj_string(in_crs_string)\n",
      "C:\\Users\\sm_pa\\AppData\\Local\\Temp\\ipykernel_7048\\678575862.py:7: FutureWarning: This function is deprecated. See: https://pyproj4.github.io/pyproj/stable/gotchas.html#upgrading-to-pyproj-2-from-pyproj-1\n",
      "  x, y = transform(Proj(init='epsg:4326'), utm40, lon, lat)  # Преобразование из WGS 84 (EPSG:4326) в UTM40\n",
      "C:\\Users\\sm_pa\\AppData\\Local\\Programs\\Python\\Python39\\lib\\site-packages\\pyproj\\crs\\crs.py:141: FutureWarning: '+init=<authority>:<code>' syntax is deprecated. '<authority>:<code>' is the preferred initialization method. When making the change, be mindful of axis order changes: https://pyproj4.github.io/pyproj/stable/gotchas.html#axis-order-changes-in-proj-6\n",
      "  in_crs_string = _prepare_from_proj_string(in_crs_string)\n",
      "C:\\Users\\sm_pa\\AppData\\Local\\Temp\\ipykernel_7048\\678575862.py:7: FutureWarning: This function is deprecated. See: https://pyproj4.github.io/pyproj/stable/gotchas.html#upgrading-to-pyproj-2-from-pyproj-1\n",
      "  x, y = transform(Proj(init='epsg:4326'), utm40, lon, lat)  # Преобразование из WGS 84 (EPSG:4326) в UTM40\n",
      "C:\\Users\\sm_pa\\AppData\\Local\\Programs\\Python\\Python39\\lib\\site-packages\\pyproj\\crs\\crs.py:141: FutureWarning: '+init=<authority>:<code>' syntax is deprecated. '<authority>:<code>' is the preferred initialization method. When making the change, be mindful of axis order changes: https://pyproj4.github.io/pyproj/stable/gotchas.html#axis-order-changes-in-proj-6\n",
      "  in_crs_string = _prepare_from_proj_string(in_crs_string)\n",
      "C:\\Users\\sm_pa\\AppData\\Local\\Temp\\ipykernel_7048\\678575862.py:7: FutureWarning: This function is deprecated. See: https://pyproj4.github.io/pyproj/stable/gotchas.html#upgrading-to-pyproj-2-from-pyproj-1\n",
      "  x, y = transform(Proj(init='epsg:4326'), utm40, lon, lat)  # Преобразование из WGS 84 (EPSG:4326) в UTM40\n",
      "C:\\Users\\sm_pa\\AppData\\Local\\Programs\\Python\\Python39\\lib\\site-packages\\pyproj\\crs\\crs.py:141: FutureWarning: '+init=<authority>:<code>' syntax is deprecated. '<authority>:<code>' is the preferred initialization method. When making the change, be mindful of axis order changes: https://pyproj4.github.io/pyproj/stable/gotchas.html#axis-order-changes-in-proj-6\n",
      "  in_crs_string = _prepare_from_proj_string(in_crs_string)\n",
      "C:\\Users\\sm_pa\\AppData\\Local\\Temp\\ipykernel_7048\\678575862.py:7: FutureWarning: This function is deprecated. See: https://pyproj4.github.io/pyproj/stable/gotchas.html#upgrading-to-pyproj-2-from-pyproj-1\n",
      "  x, y = transform(Proj(init='epsg:4326'), utm40, lon, lat)  # Преобразование из WGS 84 (EPSG:4326) в UTM40\n",
      "C:\\Users\\sm_pa\\AppData\\Local\\Programs\\Python\\Python39\\lib\\site-packages\\pyproj\\crs\\crs.py:141: FutureWarning: '+init=<authority>:<code>' syntax is deprecated. '<authority>:<code>' is the preferred initialization method. When making the change, be mindful of axis order changes: https://pyproj4.github.io/pyproj/stable/gotchas.html#axis-order-changes-in-proj-6\n",
      "  in_crs_string = _prepare_from_proj_string(in_crs_string)\n",
      "C:\\Users\\sm_pa\\AppData\\Local\\Temp\\ipykernel_7048\\678575862.py:7: FutureWarning: This function is deprecated. See: https://pyproj4.github.io/pyproj/stable/gotchas.html#upgrading-to-pyproj-2-from-pyproj-1\n",
      "  x, y = transform(Proj(init='epsg:4326'), utm40, lon, lat)  # Преобразование из WGS 84 (EPSG:4326) в UTM40\n",
      "C:\\Users\\sm_pa\\AppData\\Local\\Programs\\Python\\Python39\\lib\\site-packages\\pyproj\\crs\\crs.py:141: FutureWarning: '+init=<authority>:<code>' syntax is deprecated. '<authority>:<code>' is the preferred initialization method. When making the change, be mindful of axis order changes: https://pyproj4.github.io/pyproj/stable/gotchas.html#axis-order-changes-in-proj-6\n",
      "  in_crs_string = _prepare_from_proj_string(in_crs_string)\n",
      "C:\\Users\\sm_pa\\AppData\\Local\\Temp\\ipykernel_7048\\678575862.py:7: FutureWarning: This function is deprecated. See: https://pyproj4.github.io/pyproj/stable/gotchas.html#upgrading-to-pyproj-2-from-pyproj-1\n",
      "  x, y = transform(Proj(init='epsg:4326'), utm40, lon, lat)  # Преобразование из WGS 84 (EPSG:4326) в UTM40\n",
      "C:\\Users\\sm_pa\\AppData\\Local\\Programs\\Python\\Python39\\lib\\site-packages\\pyproj\\crs\\crs.py:141: FutureWarning: '+init=<authority>:<code>' syntax is deprecated. '<authority>:<code>' is the preferred initialization method. When making the change, be mindful of axis order changes: https://pyproj4.github.io/pyproj/stable/gotchas.html#axis-order-changes-in-proj-6\n",
      "  in_crs_string = _prepare_from_proj_string(in_crs_string)\n",
      "C:\\Users\\sm_pa\\AppData\\Local\\Temp\\ipykernel_7048\\678575862.py:7: FutureWarning: This function is deprecated. See: https://pyproj4.github.io/pyproj/stable/gotchas.html#upgrading-to-pyproj-2-from-pyproj-1\n",
      "  x, y = transform(Proj(init='epsg:4326'), utm40, lon, lat)  # Преобразование из WGS 84 (EPSG:4326) в UTM40\n",
      "C:\\Users\\sm_pa\\AppData\\Local\\Programs\\Python\\Python39\\lib\\site-packages\\pyproj\\crs\\crs.py:141: FutureWarning: '+init=<authority>:<code>' syntax is deprecated. '<authority>:<code>' is the preferred initialization method. When making the change, be mindful of axis order changes: https://pyproj4.github.io/pyproj/stable/gotchas.html#axis-order-changes-in-proj-6\n",
      "  in_crs_string = _prepare_from_proj_string(in_crs_string)\n",
      "C:\\Users\\sm_pa\\AppData\\Local\\Temp\\ipykernel_7048\\678575862.py:7: FutureWarning: This function is deprecated. See: https://pyproj4.github.io/pyproj/stable/gotchas.html#upgrading-to-pyproj-2-from-pyproj-1\n",
      "  x, y = transform(Proj(init='epsg:4326'), utm40, lon, lat)  # Преобразование из WGS 84 (EPSG:4326) в UTM40\n",
      "C:\\Users\\sm_pa\\AppData\\Local\\Programs\\Python\\Python39\\lib\\site-packages\\pyproj\\crs\\crs.py:141: FutureWarning: '+init=<authority>:<code>' syntax is deprecated. '<authority>:<code>' is the preferred initialization method. When making the change, be mindful of axis order changes: https://pyproj4.github.io/pyproj/stable/gotchas.html#axis-order-changes-in-proj-6\n",
      "  in_crs_string = _prepare_from_proj_string(in_crs_string)\n",
      "C:\\Users\\sm_pa\\AppData\\Local\\Temp\\ipykernel_7048\\678575862.py:7: FutureWarning: This function is deprecated. See: https://pyproj4.github.io/pyproj/stable/gotchas.html#upgrading-to-pyproj-2-from-pyproj-1\n",
      "  x, y = transform(Proj(init='epsg:4326'), utm40, lon, lat)  # Преобразование из WGS 84 (EPSG:4326) в UTM40\n",
      "C:\\Users\\sm_pa\\AppData\\Local\\Programs\\Python\\Python39\\lib\\site-packages\\pyproj\\crs\\crs.py:141: FutureWarning: '+init=<authority>:<code>' syntax is deprecated. '<authority>:<code>' is the preferred initialization method. When making the change, be mindful of axis order changes: https://pyproj4.github.io/pyproj/stable/gotchas.html#axis-order-changes-in-proj-6\n",
      "  in_crs_string = _prepare_from_proj_string(in_crs_string)\n",
      "C:\\Users\\sm_pa\\AppData\\Local\\Temp\\ipykernel_7048\\678575862.py:7: FutureWarning: This function is deprecated. See: https://pyproj4.github.io/pyproj/stable/gotchas.html#upgrading-to-pyproj-2-from-pyproj-1\n",
      "  x, y = transform(Proj(init='epsg:4326'), utm40, lon, lat)  # Преобразование из WGS 84 (EPSG:4326) в UTM40\n",
      "C:\\Users\\sm_pa\\AppData\\Local\\Programs\\Python\\Python39\\lib\\site-packages\\pyproj\\crs\\crs.py:141: FutureWarning: '+init=<authority>:<code>' syntax is deprecated. '<authority>:<code>' is the preferred initialization method. When making the change, be mindful of axis order changes: https://pyproj4.github.io/pyproj/stable/gotchas.html#axis-order-changes-in-proj-6\n",
      "  in_crs_string = _prepare_from_proj_string(in_crs_string)\n",
      "C:\\Users\\sm_pa\\AppData\\Local\\Temp\\ipykernel_7048\\678575862.py:7: FutureWarning: This function is deprecated. See: https://pyproj4.github.io/pyproj/stable/gotchas.html#upgrading-to-pyproj-2-from-pyproj-1\n",
      "  x, y = transform(Proj(init='epsg:4326'), utm40, lon, lat)  # Преобразование из WGS 84 (EPSG:4326) в UTM40\n",
      "C:\\Users\\sm_pa\\AppData\\Local\\Programs\\Python\\Python39\\lib\\site-packages\\pyproj\\crs\\crs.py:141: FutureWarning: '+init=<authority>:<code>' syntax is deprecated. '<authority>:<code>' is the preferred initialization method. When making the change, be mindful of axis order changes: https://pyproj4.github.io/pyproj/stable/gotchas.html#axis-order-changes-in-proj-6\n",
      "  in_crs_string = _prepare_from_proj_string(in_crs_string)\n",
      "C:\\Users\\sm_pa\\AppData\\Local\\Temp\\ipykernel_7048\\678575862.py:7: FutureWarning: This function is deprecated. See: https://pyproj4.github.io/pyproj/stable/gotchas.html#upgrading-to-pyproj-2-from-pyproj-1\n",
      "  x, y = transform(Proj(init='epsg:4326'), utm40, lon, lat)  # Преобразование из WGS 84 (EPSG:4326) в UTM40\n",
      "C:\\Users\\sm_pa\\AppData\\Local\\Programs\\Python\\Python39\\lib\\site-packages\\pyproj\\crs\\crs.py:141: FutureWarning: '+init=<authority>:<code>' syntax is deprecated. '<authority>:<code>' is the preferred initialization method. When making the change, be mindful of axis order changes: https://pyproj4.github.io/pyproj/stable/gotchas.html#axis-order-changes-in-proj-6\n",
      "  in_crs_string = _prepare_from_proj_string(in_crs_string)\n",
      "C:\\Users\\sm_pa\\AppData\\Local\\Temp\\ipykernel_7048\\678575862.py:7: FutureWarning: This function is deprecated. See: https://pyproj4.github.io/pyproj/stable/gotchas.html#upgrading-to-pyproj-2-from-pyproj-1\n",
      "  x, y = transform(Proj(init='epsg:4326'), utm40, lon, lat)  # Преобразование из WGS 84 (EPSG:4326) в UTM40\n",
      "C:\\Users\\sm_pa\\AppData\\Local\\Programs\\Python\\Python39\\lib\\site-packages\\pyproj\\crs\\crs.py:141: FutureWarning: '+init=<authority>:<code>' syntax is deprecated. '<authority>:<code>' is the preferred initialization method. When making the change, be mindful of axis order changes: https://pyproj4.github.io/pyproj/stable/gotchas.html#axis-order-changes-in-proj-6\n",
      "  in_crs_string = _prepare_from_proj_string(in_crs_string)\n",
      "C:\\Users\\sm_pa\\AppData\\Local\\Temp\\ipykernel_7048\\678575862.py:7: FutureWarning: This function is deprecated. See: https://pyproj4.github.io/pyproj/stable/gotchas.html#upgrading-to-pyproj-2-from-pyproj-1\n",
      "  x, y = transform(Proj(init='epsg:4326'), utm40, lon, lat)  # Преобразование из WGS 84 (EPSG:4326) в UTM40\n",
      "C:\\Users\\sm_pa\\AppData\\Local\\Programs\\Python\\Python39\\lib\\site-packages\\pyproj\\crs\\crs.py:141: FutureWarning: '+init=<authority>:<code>' syntax is deprecated. '<authority>:<code>' is the preferred initialization method. When making the change, be mindful of axis order changes: https://pyproj4.github.io/pyproj/stable/gotchas.html#axis-order-changes-in-proj-6\n",
      "  in_crs_string = _prepare_from_proj_string(in_crs_string)\n",
      "C:\\Users\\sm_pa\\AppData\\Local\\Temp\\ipykernel_7048\\678575862.py:7: FutureWarning: This function is deprecated. See: https://pyproj4.github.io/pyproj/stable/gotchas.html#upgrading-to-pyproj-2-from-pyproj-1\n",
      "  x, y = transform(Proj(init='epsg:4326'), utm40, lon, lat)  # Преобразование из WGS 84 (EPSG:4326) в UTM40\n",
      "C:\\Users\\sm_pa\\AppData\\Local\\Programs\\Python\\Python39\\lib\\site-packages\\pyproj\\crs\\crs.py:141: FutureWarning: '+init=<authority>:<code>' syntax is deprecated. '<authority>:<code>' is the preferred initialization method. When making the change, be mindful of axis order changes: https://pyproj4.github.io/pyproj/stable/gotchas.html#axis-order-changes-in-proj-6\n",
      "  in_crs_string = _prepare_from_proj_string(in_crs_string)\n",
      "C:\\Users\\sm_pa\\AppData\\Local\\Temp\\ipykernel_7048\\678575862.py:7: FutureWarning: This function is deprecated. See: https://pyproj4.github.io/pyproj/stable/gotchas.html#upgrading-to-pyproj-2-from-pyproj-1\n",
      "  x, y = transform(Proj(init='epsg:4326'), utm40, lon, lat)  # Преобразование из WGS 84 (EPSG:4326) в UTM40\n",
      "C:\\Users\\sm_pa\\AppData\\Local\\Programs\\Python\\Python39\\lib\\site-packages\\pyproj\\crs\\crs.py:141: FutureWarning: '+init=<authority>:<code>' syntax is deprecated. '<authority>:<code>' is the preferred initialization method. When making the change, be mindful of axis order changes: https://pyproj4.github.io/pyproj/stable/gotchas.html#axis-order-changes-in-proj-6\n",
      "  in_crs_string = _prepare_from_proj_string(in_crs_string)\n",
      "C:\\Users\\sm_pa\\AppData\\Local\\Temp\\ipykernel_7048\\678575862.py:7: FutureWarning: This function is deprecated. See: https://pyproj4.github.io/pyproj/stable/gotchas.html#upgrading-to-pyproj-2-from-pyproj-1\n",
      "  x, y = transform(Proj(init='epsg:4326'), utm40, lon, lat)  # Преобразование из WGS 84 (EPSG:4326) в UTM40\n",
      "C:\\Users\\sm_pa\\AppData\\Local\\Programs\\Python\\Python39\\lib\\site-packages\\pyproj\\crs\\crs.py:141: FutureWarning: '+init=<authority>:<code>' syntax is deprecated. '<authority>:<code>' is the preferred initialization method. When making the change, be mindful of axis order changes: https://pyproj4.github.io/pyproj/stable/gotchas.html#axis-order-changes-in-proj-6\n",
      "  in_crs_string = _prepare_from_proj_string(in_crs_string)\n",
      "C:\\Users\\sm_pa\\AppData\\Local\\Temp\\ipykernel_7048\\678575862.py:7: FutureWarning: This function is deprecated. See: https://pyproj4.github.io/pyproj/stable/gotchas.html#upgrading-to-pyproj-2-from-pyproj-1\n",
      "  x, y = transform(Proj(init='epsg:4326'), utm40, lon, lat)  # Преобразование из WGS 84 (EPSG:4326) в UTM40\n",
      "C:\\Users\\sm_pa\\AppData\\Local\\Programs\\Python\\Python39\\lib\\site-packages\\pyproj\\crs\\crs.py:141: FutureWarning: '+init=<authority>:<code>' syntax is deprecated. '<authority>:<code>' is the preferred initialization method. When making the change, be mindful of axis order changes: https://pyproj4.github.io/pyproj/stable/gotchas.html#axis-order-changes-in-proj-6\n",
      "  in_crs_string = _prepare_from_proj_string(in_crs_string)\n",
      "C:\\Users\\sm_pa\\AppData\\Local\\Temp\\ipykernel_7048\\678575862.py:7: FutureWarning: This function is deprecated. See: https://pyproj4.github.io/pyproj/stable/gotchas.html#upgrading-to-pyproj-2-from-pyproj-1\n",
      "  x, y = transform(Proj(init='epsg:4326'), utm40, lon, lat)  # Преобразование из WGS 84 (EPSG:4326) в UTM40\n",
      "C:\\Users\\sm_pa\\AppData\\Local\\Programs\\Python\\Python39\\lib\\site-packages\\pyproj\\crs\\crs.py:141: FutureWarning: '+init=<authority>:<code>' syntax is deprecated. '<authority>:<code>' is the preferred initialization method. When making the change, be mindful of axis order changes: https://pyproj4.github.io/pyproj/stable/gotchas.html#axis-order-changes-in-proj-6\n",
      "  in_crs_string = _prepare_from_proj_string(in_crs_string)\n",
      "C:\\Users\\sm_pa\\AppData\\Local\\Temp\\ipykernel_7048\\678575862.py:7: FutureWarning: This function is deprecated. See: https://pyproj4.github.io/pyproj/stable/gotchas.html#upgrading-to-pyproj-2-from-pyproj-1\n",
      "  x, y = transform(Proj(init='epsg:4326'), utm40, lon, lat)  # Преобразование из WGS 84 (EPSG:4326) в UTM40\n",
      "C:\\Users\\sm_pa\\AppData\\Local\\Programs\\Python\\Python39\\lib\\site-packages\\pyproj\\crs\\crs.py:141: FutureWarning: '+init=<authority>:<code>' syntax is deprecated. '<authority>:<code>' is the preferred initialization method. When making the change, be mindful of axis order changes: https://pyproj4.github.io/pyproj/stable/gotchas.html#axis-order-changes-in-proj-6\n",
      "  in_crs_string = _prepare_from_proj_string(in_crs_string)\n",
      "C:\\Users\\sm_pa\\AppData\\Local\\Temp\\ipykernel_7048\\678575862.py:7: FutureWarning: This function is deprecated. See: https://pyproj4.github.io/pyproj/stable/gotchas.html#upgrading-to-pyproj-2-from-pyproj-1\n",
      "  x, y = transform(Proj(init='epsg:4326'), utm40, lon, lat)  # Преобразование из WGS 84 (EPSG:4326) в UTM40\n",
      "C:\\Users\\sm_pa\\AppData\\Local\\Programs\\Python\\Python39\\lib\\site-packages\\pyproj\\crs\\crs.py:141: FutureWarning: '+init=<authority>:<code>' syntax is deprecated. '<authority>:<code>' is the preferred initialization method. When making the change, be mindful of axis order changes: https://pyproj4.github.io/pyproj/stable/gotchas.html#axis-order-changes-in-proj-6\n",
      "  in_crs_string = _prepare_from_proj_string(in_crs_string)\n",
      "C:\\Users\\sm_pa\\AppData\\Local\\Temp\\ipykernel_7048\\678575862.py:7: FutureWarning: This function is deprecated. See: https://pyproj4.github.io/pyproj/stable/gotchas.html#upgrading-to-pyproj-2-from-pyproj-1\n",
      "  x, y = transform(Proj(init='epsg:4326'), utm40, lon, lat)  # Преобразование из WGS 84 (EPSG:4326) в UTM40\n",
      "C:\\Users\\sm_pa\\AppData\\Local\\Programs\\Python\\Python39\\lib\\site-packages\\pyproj\\crs\\crs.py:141: FutureWarning: '+init=<authority>:<code>' syntax is deprecated. '<authority>:<code>' is the preferred initialization method. When making the change, be mindful of axis order changes: https://pyproj4.github.io/pyproj/stable/gotchas.html#axis-order-changes-in-proj-6\n",
      "  in_crs_string = _prepare_from_proj_string(in_crs_string)\n",
      "C:\\Users\\sm_pa\\AppData\\Local\\Temp\\ipykernel_7048\\678575862.py:7: FutureWarning: This function is deprecated. See: https://pyproj4.github.io/pyproj/stable/gotchas.html#upgrading-to-pyproj-2-from-pyproj-1\n",
      "  x, y = transform(Proj(init='epsg:4326'), utm40, lon, lat)  # Преобразование из WGS 84 (EPSG:4326) в UTM40\n",
      "C:\\Users\\sm_pa\\AppData\\Local\\Programs\\Python\\Python39\\lib\\site-packages\\pyproj\\crs\\crs.py:141: FutureWarning: '+init=<authority>:<code>' syntax is deprecated. '<authority>:<code>' is the preferred initialization method. When making the change, be mindful of axis order changes: https://pyproj4.github.io/pyproj/stable/gotchas.html#axis-order-changes-in-proj-6\n",
      "  in_crs_string = _prepare_from_proj_string(in_crs_string)\n",
      "C:\\Users\\sm_pa\\AppData\\Local\\Temp\\ipykernel_7048\\678575862.py:7: FutureWarning: This function is deprecated. See: https://pyproj4.github.io/pyproj/stable/gotchas.html#upgrading-to-pyproj-2-from-pyproj-1\n",
      "  x, y = transform(Proj(init='epsg:4326'), utm40, lon, lat)  # Преобразование из WGS 84 (EPSG:4326) в UTM40\n",
      "C:\\Users\\sm_pa\\AppData\\Local\\Programs\\Python\\Python39\\lib\\site-packages\\pyproj\\crs\\crs.py:141: FutureWarning: '+init=<authority>:<code>' syntax is deprecated. '<authority>:<code>' is the preferred initialization method. When making the change, be mindful of axis order changes: https://pyproj4.github.io/pyproj/stable/gotchas.html#axis-order-changes-in-proj-6\n",
      "  in_crs_string = _prepare_from_proj_string(in_crs_string)\n",
      "C:\\Users\\sm_pa\\AppData\\Local\\Temp\\ipykernel_7048\\678575862.py:7: FutureWarning: This function is deprecated. See: https://pyproj4.github.io/pyproj/stable/gotchas.html#upgrading-to-pyproj-2-from-pyproj-1\n",
      "  x, y = transform(Proj(init='epsg:4326'), utm40, lon, lat)  # Преобразование из WGS 84 (EPSG:4326) в UTM40\n",
      "C:\\Users\\sm_pa\\AppData\\Local\\Programs\\Python\\Python39\\lib\\site-packages\\pyproj\\crs\\crs.py:141: FutureWarning: '+init=<authority>:<code>' syntax is deprecated. '<authority>:<code>' is the preferred initialization method. When making the change, be mindful of axis order changes: https://pyproj4.github.io/pyproj/stable/gotchas.html#axis-order-changes-in-proj-6\n",
      "  in_crs_string = _prepare_from_proj_string(in_crs_string)\n",
      "C:\\Users\\sm_pa\\AppData\\Local\\Temp\\ipykernel_7048\\678575862.py:7: FutureWarning: This function is deprecated. See: https://pyproj4.github.io/pyproj/stable/gotchas.html#upgrading-to-pyproj-2-from-pyproj-1\n",
      "  x, y = transform(Proj(init='epsg:4326'), utm40, lon, lat)  # Преобразование из WGS 84 (EPSG:4326) в UTM40\n",
      "C:\\Users\\sm_pa\\AppData\\Local\\Programs\\Python\\Python39\\lib\\site-packages\\pyproj\\crs\\crs.py:141: FutureWarning: '+init=<authority>:<code>' syntax is deprecated. '<authority>:<code>' is the preferred initialization method. When making the change, be mindful of axis order changes: https://pyproj4.github.io/pyproj/stable/gotchas.html#axis-order-changes-in-proj-6\n",
      "  in_crs_string = _prepare_from_proj_string(in_crs_string)\n",
      "C:\\Users\\sm_pa\\AppData\\Local\\Temp\\ipykernel_7048\\678575862.py:7: FutureWarning: This function is deprecated. See: https://pyproj4.github.io/pyproj/stable/gotchas.html#upgrading-to-pyproj-2-from-pyproj-1\n",
      "  x, y = transform(Proj(init='epsg:4326'), utm40, lon, lat)  # Преобразование из WGS 84 (EPSG:4326) в UTM40\n",
      "C:\\Users\\sm_pa\\AppData\\Local\\Programs\\Python\\Python39\\lib\\site-packages\\pyproj\\crs\\crs.py:141: FutureWarning: '+init=<authority>:<code>' syntax is deprecated. '<authority>:<code>' is the preferred initialization method. When making the change, be mindful of axis order changes: https://pyproj4.github.io/pyproj/stable/gotchas.html#axis-order-changes-in-proj-6\n",
      "  in_crs_string = _prepare_from_proj_string(in_crs_string)\n",
      "C:\\Users\\sm_pa\\AppData\\Local\\Temp\\ipykernel_7048\\678575862.py:7: FutureWarning: This function is deprecated. See: https://pyproj4.github.io/pyproj/stable/gotchas.html#upgrading-to-pyproj-2-from-pyproj-1\n",
      "  x, y = transform(Proj(init='epsg:4326'), utm40, lon, lat)  # Преобразование из WGS 84 (EPSG:4326) в UTM40\n",
      "C:\\Users\\sm_pa\\AppData\\Local\\Programs\\Python\\Python39\\lib\\site-packages\\pyproj\\crs\\crs.py:141: FutureWarning: '+init=<authority>:<code>' syntax is deprecated. '<authority>:<code>' is the preferred initialization method. When making the change, be mindful of axis order changes: https://pyproj4.github.io/pyproj/stable/gotchas.html#axis-order-changes-in-proj-6\n",
      "  in_crs_string = _prepare_from_proj_string(in_crs_string)\n",
      "C:\\Users\\sm_pa\\AppData\\Local\\Temp\\ipykernel_7048\\678575862.py:7: FutureWarning: This function is deprecated. See: https://pyproj4.github.io/pyproj/stable/gotchas.html#upgrading-to-pyproj-2-from-pyproj-1\n",
      "  x, y = transform(Proj(init='epsg:4326'), utm40, lon, lat)  # Преобразование из WGS 84 (EPSG:4326) в UTM40\n",
      "C:\\Users\\sm_pa\\AppData\\Local\\Programs\\Python\\Python39\\lib\\site-packages\\pyproj\\crs\\crs.py:141: FutureWarning: '+init=<authority>:<code>' syntax is deprecated. '<authority>:<code>' is the preferred initialization method. When making the change, be mindful of axis order changes: https://pyproj4.github.io/pyproj/stable/gotchas.html#axis-order-changes-in-proj-6\n",
      "  in_crs_string = _prepare_from_proj_string(in_crs_string)\n",
      "C:\\Users\\sm_pa\\AppData\\Local\\Temp\\ipykernel_7048\\678575862.py:7: FutureWarning: This function is deprecated. See: https://pyproj4.github.io/pyproj/stable/gotchas.html#upgrading-to-pyproj-2-from-pyproj-1\n",
      "  x, y = transform(Proj(init='epsg:4326'), utm40, lon, lat)  # Преобразование из WGS 84 (EPSG:4326) в UTM40\n",
      "C:\\Users\\sm_pa\\AppData\\Local\\Programs\\Python\\Python39\\lib\\site-packages\\pyproj\\crs\\crs.py:141: FutureWarning: '+init=<authority>:<code>' syntax is deprecated. '<authority>:<code>' is the preferred initialization method. When making the change, be mindful of axis order changes: https://pyproj4.github.io/pyproj/stable/gotchas.html#axis-order-changes-in-proj-6\n",
      "  in_crs_string = _prepare_from_proj_string(in_crs_string)\n",
      "C:\\Users\\sm_pa\\AppData\\Local\\Temp\\ipykernel_7048\\678575862.py:7: FutureWarning: This function is deprecated. See: https://pyproj4.github.io/pyproj/stable/gotchas.html#upgrading-to-pyproj-2-from-pyproj-1\n",
      "  x, y = transform(Proj(init='epsg:4326'), utm40, lon, lat)  # Преобразование из WGS 84 (EPSG:4326) в UTM40\n",
      "C:\\Users\\sm_pa\\AppData\\Local\\Programs\\Python\\Python39\\lib\\site-packages\\pyproj\\crs\\crs.py:141: FutureWarning: '+init=<authority>:<code>' syntax is deprecated. '<authority>:<code>' is the preferred initialization method. When making the change, be mindful of axis order changes: https://pyproj4.github.io/pyproj/stable/gotchas.html#axis-order-changes-in-proj-6\n",
      "  in_crs_string = _prepare_from_proj_string(in_crs_string)\n",
      "C:\\Users\\sm_pa\\AppData\\Local\\Temp\\ipykernel_7048\\678575862.py:7: FutureWarning: This function is deprecated. See: https://pyproj4.github.io/pyproj/stable/gotchas.html#upgrading-to-pyproj-2-from-pyproj-1\n",
      "  x, y = transform(Proj(init='epsg:4326'), utm40, lon, lat)  # Преобразование из WGS 84 (EPSG:4326) в UTM40\n",
      "C:\\Users\\sm_pa\\AppData\\Local\\Programs\\Python\\Python39\\lib\\site-packages\\pyproj\\crs\\crs.py:141: FutureWarning: '+init=<authority>:<code>' syntax is deprecated. '<authority>:<code>' is the preferred initialization method. When making the change, be mindful of axis order changes: https://pyproj4.github.io/pyproj/stable/gotchas.html#axis-order-changes-in-proj-6\n",
      "  in_crs_string = _prepare_from_proj_string(in_crs_string)\n",
      "C:\\Users\\sm_pa\\AppData\\Local\\Temp\\ipykernel_7048\\678575862.py:7: FutureWarning: This function is deprecated. See: https://pyproj4.github.io/pyproj/stable/gotchas.html#upgrading-to-pyproj-2-from-pyproj-1\n",
      "  x, y = transform(Proj(init='epsg:4326'), utm40, lon, lat)  # Преобразование из WGS 84 (EPSG:4326) в UTM40\n",
      "C:\\Users\\sm_pa\\AppData\\Local\\Programs\\Python\\Python39\\lib\\site-packages\\pyproj\\crs\\crs.py:141: FutureWarning: '+init=<authority>:<code>' syntax is deprecated. '<authority>:<code>' is the preferred initialization method. When making the change, be mindful of axis order changes: https://pyproj4.github.io/pyproj/stable/gotchas.html#axis-order-changes-in-proj-6\n",
      "  in_crs_string = _prepare_from_proj_string(in_crs_string)\n",
      "C:\\Users\\sm_pa\\AppData\\Local\\Temp\\ipykernel_7048\\678575862.py:7: FutureWarning: This function is deprecated. See: https://pyproj4.github.io/pyproj/stable/gotchas.html#upgrading-to-pyproj-2-from-pyproj-1\n",
      "  x, y = transform(Proj(init='epsg:4326'), utm40, lon, lat)  # Преобразование из WGS 84 (EPSG:4326) в UTM40\n",
      "C:\\Users\\sm_pa\\AppData\\Local\\Programs\\Python\\Python39\\lib\\site-packages\\pyproj\\crs\\crs.py:141: FutureWarning: '+init=<authority>:<code>' syntax is deprecated. '<authority>:<code>' is the preferred initialization method. When making the change, be mindful of axis order changes: https://pyproj4.github.io/pyproj/stable/gotchas.html#axis-order-changes-in-proj-6\n",
      "  in_crs_string = _prepare_from_proj_string(in_crs_string)\n",
      "C:\\Users\\sm_pa\\AppData\\Local\\Temp\\ipykernel_7048\\678575862.py:7: FutureWarning: This function is deprecated. See: https://pyproj4.github.io/pyproj/stable/gotchas.html#upgrading-to-pyproj-2-from-pyproj-1\n",
      "  x, y = transform(Proj(init='epsg:4326'), utm40, lon, lat)  # Преобразование из WGS 84 (EPSG:4326) в UTM40\n",
      "C:\\Users\\sm_pa\\AppData\\Local\\Programs\\Python\\Python39\\lib\\site-packages\\pyproj\\crs\\crs.py:141: FutureWarning: '+init=<authority>:<code>' syntax is deprecated. '<authority>:<code>' is the preferred initialization method. When making the change, be mindful of axis order changes: https://pyproj4.github.io/pyproj/stable/gotchas.html#axis-order-changes-in-proj-6\n",
      "  in_crs_string = _prepare_from_proj_string(in_crs_string)\n",
      "C:\\Users\\sm_pa\\AppData\\Local\\Temp\\ipykernel_7048\\678575862.py:7: FutureWarning: This function is deprecated. See: https://pyproj4.github.io/pyproj/stable/gotchas.html#upgrading-to-pyproj-2-from-pyproj-1\n",
      "  x, y = transform(Proj(init='epsg:4326'), utm40, lon, lat)  # Преобразование из WGS 84 (EPSG:4326) в UTM40\n",
      "C:\\Users\\sm_pa\\AppData\\Local\\Programs\\Python\\Python39\\lib\\site-packages\\pyproj\\crs\\crs.py:141: FutureWarning: '+init=<authority>:<code>' syntax is deprecated. '<authority>:<code>' is the preferred initialization method. When making the change, be mindful of axis order changes: https://pyproj4.github.io/pyproj/stable/gotchas.html#axis-order-changes-in-proj-6\n",
      "  in_crs_string = _prepare_from_proj_string(in_crs_string)\n",
      "C:\\Users\\sm_pa\\AppData\\Local\\Temp\\ipykernel_7048\\678575862.py:7: FutureWarning: This function is deprecated. See: https://pyproj4.github.io/pyproj/stable/gotchas.html#upgrading-to-pyproj-2-from-pyproj-1\n",
      "  x, y = transform(Proj(init='epsg:4326'), utm40, lon, lat)  # Преобразование из WGS 84 (EPSG:4326) в UTM40\n",
      "C:\\Users\\sm_pa\\AppData\\Local\\Programs\\Python\\Python39\\lib\\site-packages\\pyproj\\crs\\crs.py:141: FutureWarning: '+init=<authority>:<code>' syntax is deprecated. '<authority>:<code>' is the preferred initialization method. When making the change, be mindful of axis order changes: https://pyproj4.github.io/pyproj/stable/gotchas.html#axis-order-changes-in-proj-6\n",
      "  in_crs_string = _prepare_from_proj_string(in_crs_string)\n",
      "C:\\Users\\sm_pa\\AppData\\Local\\Temp\\ipykernel_7048\\678575862.py:7: FutureWarning: This function is deprecated. See: https://pyproj4.github.io/pyproj/stable/gotchas.html#upgrading-to-pyproj-2-from-pyproj-1\n",
      "  x, y = transform(Proj(init='epsg:4326'), utm40, lon, lat)  # Преобразование из WGS 84 (EPSG:4326) в UTM40\n",
      "C:\\Users\\sm_pa\\AppData\\Local\\Programs\\Python\\Python39\\lib\\site-packages\\pyproj\\crs\\crs.py:141: FutureWarning: '+init=<authority>:<code>' syntax is deprecated. '<authority>:<code>' is the preferred initialization method. When making the change, be mindful of axis order changes: https://pyproj4.github.io/pyproj/stable/gotchas.html#axis-order-changes-in-proj-6\n",
      "  in_crs_string = _prepare_from_proj_string(in_crs_string)\n",
      "C:\\Users\\sm_pa\\AppData\\Local\\Temp\\ipykernel_7048\\678575862.py:7: FutureWarning: This function is deprecated. See: https://pyproj4.github.io/pyproj/stable/gotchas.html#upgrading-to-pyproj-2-from-pyproj-1\n",
      "  x, y = transform(Proj(init='epsg:4326'), utm40, lon, lat)  # Преобразование из WGS 84 (EPSG:4326) в UTM40\n",
      "C:\\Users\\sm_pa\\AppData\\Local\\Programs\\Python\\Python39\\lib\\site-packages\\pyproj\\crs\\crs.py:141: FutureWarning: '+init=<authority>:<code>' syntax is deprecated. '<authority>:<code>' is the preferred initialization method. When making the change, be mindful of axis order changes: https://pyproj4.github.io/pyproj/stable/gotchas.html#axis-order-changes-in-proj-6\n",
      "  in_crs_string = _prepare_from_proj_string(in_crs_string)\n",
      "C:\\Users\\sm_pa\\AppData\\Local\\Temp\\ipykernel_7048\\678575862.py:7: FutureWarning: This function is deprecated. See: https://pyproj4.github.io/pyproj/stable/gotchas.html#upgrading-to-pyproj-2-from-pyproj-1\n",
      "  x, y = transform(Proj(init='epsg:4326'), utm40, lon, lat)  # Преобразование из WGS 84 (EPSG:4326) в UTM40\n",
      "C:\\Users\\sm_pa\\AppData\\Local\\Programs\\Python\\Python39\\lib\\site-packages\\pyproj\\crs\\crs.py:141: FutureWarning: '+init=<authority>:<code>' syntax is deprecated. '<authority>:<code>' is the preferred initialization method. When making the change, be mindful of axis order changes: https://pyproj4.github.io/pyproj/stable/gotchas.html#axis-order-changes-in-proj-6\n",
      "  in_crs_string = _prepare_from_proj_string(in_crs_string)\n",
      "C:\\Users\\sm_pa\\AppData\\Local\\Temp\\ipykernel_7048\\678575862.py:7: FutureWarning: This function is deprecated. See: https://pyproj4.github.io/pyproj/stable/gotchas.html#upgrading-to-pyproj-2-from-pyproj-1\n",
      "  x, y = transform(Proj(init='epsg:4326'), utm40, lon, lat)  # Преобразование из WGS 84 (EPSG:4326) в UTM40\n",
      "C:\\Users\\sm_pa\\AppData\\Local\\Programs\\Python\\Python39\\lib\\site-packages\\pyproj\\crs\\crs.py:141: FutureWarning: '+init=<authority>:<code>' syntax is deprecated. '<authority>:<code>' is the preferred initialization method. When making the change, be mindful of axis order changes: https://pyproj4.github.io/pyproj/stable/gotchas.html#axis-order-changes-in-proj-6\n",
      "  in_crs_string = _prepare_from_proj_string(in_crs_string)\n",
      "C:\\Users\\sm_pa\\AppData\\Local\\Temp\\ipykernel_7048\\678575862.py:7: FutureWarning: This function is deprecated. See: https://pyproj4.github.io/pyproj/stable/gotchas.html#upgrading-to-pyproj-2-from-pyproj-1\n",
      "  x, y = transform(Proj(init='epsg:4326'), utm40, lon, lat)  # Преобразование из WGS 84 (EPSG:4326) в UTM40\n",
      "C:\\Users\\sm_pa\\AppData\\Local\\Programs\\Python\\Python39\\lib\\site-packages\\pyproj\\crs\\crs.py:141: FutureWarning: '+init=<authority>:<code>' syntax is deprecated. '<authority>:<code>' is the preferred initialization method. When making the change, be mindful of axis order changes: https://pyproj4.github.io/pyproj/stable/gotchas.html#axis-order-changes-in-proj-6\n",
      "  in_crs_string = _prepare_from_proj_string(in_crs_string)\n",
      "C:\\Users\\sm_pa\\AppData\\Local\\Temp\\ipykernel_7048\\678575862.py:7: FutureWarning: This function is deprecated. See: https://pyproj4.github.io/pyproj/stable/gotchas.html#upgrading-to-pyproj-2-from-pyproj-1\n",
      "  x, y = transform(Proj(init='epsg:4326'), utm40, lon, lat)  # Преобразование из WGS 84 (EPSG:4326) в UTM40\n",
      "C:\\Users\\sm_pa\\AppData\\Local\\Programs\\Python\\Python39\\lib\\site-packages\\pyproj\\crs\\crs.py:141: FutureWarning: '+init=<authority>:<code>' syntax is deprecated. '<authority>:<code>' is the preferred initialization method. When making the change, be mindful of axis order changes: https://pyproj4.github.io/pyproj/stable/gotchas.html#axis-order-changes-in-proj-6\n",
      "  in_crs_string = _prepare_from_proj_string(in_crs_string)\n",
      "C:\\Users\\sm_pa\\AppData\\Local\\Temp\\ipykernel_7048\\678575862.py:7: FutureWarning: This function is deprecated. See: https://pyproj4.github.io/pyproj/stable/gotchas.html#upgrading-to-pyproj-2-from-pyproj-1\n",
      "  x, y = transform(Proj(init='epsg:4326'), utm40, lon, lat)  # Преобразование из WGS 84 (EPSG:4326) в UTM40\n",
      "C:\\Users\\sm_pa\\AppData\\Local\\Programs\\Python\\Python39\\lib\\site-packages\\pyproj\\crs\\crs.py:141: FutureWarning: '+init=<authority>:<code>' syntax is deprecated. '<authority>:<code>' is the preferred initialization method. When making the change, be mindful of axis order changes: https://pyproj4.github.io/pyproj/stable/gotchas.html#axis-order-changes-in-proj-6\n",
      "  in_crs_string = _prepare_from_proj_string(in_crs_string)\n",
      "C:\\Users\\sm_pa\\AppData\\Local\\Temp\\ipykernel_7048\\678575862.py:7: FutureWarning: This function is deprecated. See: https://pyproj4.github.io/pyproj/stable/gotchas.html#upgrading-to-pyproj-2-from-pyproj-1\n",
      "  x, y = transform(Proj(init='epsg:4326'), utm40, lon, lat)  # Преобразование из WGS 84 (EPSG:4326) в UTM40\n",
      "C:\\Users\\sm_pa\\AppData\\Local\\Programs\\Python\\Python39\\lib\\site-packages\\pyproj\\crs\\crs.py:141: FutureWarning: '+init=<authority>:<code>' syntax is deprecated. '<authority>:<code>' is the preferred initialization method. When making the change, be mindful of axis order changes: https://pyproj4.github.io/pyproj/stable/gotchas.html#axis-order-changes-in-proj-6\n",
      "  in_crs_string = _prepare_from_proj_string(in_crs_string)\n",
      "C:\\Users\\sm_pa\\AppData\\Local\\Temp\\ipykernel_7048\\678575862.py:7: FutureWarning: This function is deprecated. See: https://pyproj4.github.io/pyproj/stable/gotchas.html#upgrading-to-pyproj-2-from-pyproj-1\n",
      "  x, y = transform(Proj(init='epsg:4326'), utm40, lon, lat)  # Преобразование из WGS 84 (EPSG:4326) в UTM40\n",
      "C:\\Users\\sm_pa\\AppData\\Local\\Programs\\Python\\Python39\\lib\\site-packages\\pyproj\\crs\\crs.py:141: FutureWarning: '+init=<authority>:<code>' syntax is deprecated. '<authority>:<code>' is the preferred initialization method. When making the change, be mindful of axis order changes: https://pyproj4.github.io/pyproj/stable/gotchas.html#axis-order-changes-in-proj-6\n",
      "  in_crs_string = _prepare_from_proj_string(in_crs_string)\n",
      "C:\\Users\\sm_pa\\AppData\\Local\\Temp\\ipykernel_7048\\678575862.py:7: FutureWarning: This function is deprecated. See: https://pyproj4.github.io/pyproj/stable/gotchas.html#upgrading-to-pyproj-2-from-pyproj-1\n",
      "  x, y = transform(Proj(init='epsg:4326'), utm40, lon, lat)  # Преобразование из WGS 84 (EPSG:4326) в UTM40\n",
      "C:\\Users\\sm_pa\\AppData\\Local\\Programs\\Python\\Python39\\lib\\site-packages\\pyproj\\crs\\crs.py:141: FutureWarning: '+init=<authority>:<code>' syntax is deprecated. '<authority>:<code>' is the preferred initialization method. When making the change, be mindful of axis order changes: https://pyproj4.github.io/pyproj/stable/gotchas.html#axis-order-changes-in-proj-6\n",
      "  in_crs_string = _prepare_from_proj_string(in_crs_string)\n",
      "C:\\Users\\sm_pa\\AppData\\Local\\Temp\\ipykernel_7048\\678575862.py:7: FutureWarning: This function is deprecated. See: https://pyproj4.github.io/pyproj/stable/gotchas.html#upgrading-to-pyproj-2-from-pyproj-1\n",
      "  x, y = transform(Proj(init='epsg:4326'), utm40, lon, lat)  # Преобразование из WGS 84 (EPSG:4326) в UTM40\n",
      "C:\\Users\\sm_pa\\AppData\\Local\\Programs\\Python\\Python39\\lib\\site-packages\\pyproj\\crs\\crs.py:141: FutureWarning: '+init=<authority>:<code>' syntax is deprecated. '<authority>:<code>' is the preferred initialization method. When making the change, be mindful of axis order changes: https://pyproj4.github.io/pyproj/stable/gotchas.html#axis-order-changes-in-proj-6\n",
      "  in_crs_string = _prepare_from_proj_string(in_crs_string)\n",
      "C:\\Users\\sm_pa\\AppData\\Local\\Temp\\ipykernel_7048\\678575862.py:7: FutureWarning: This function is deprecated. See: https://pyproj4.github.io/pyproj/stable/gotchas.html#upgrading-to-pyproj-2-from-pyproj-1\n",
      "  x, y = transform(Proj(init='epsg:4326'), utm40, lon, lat)  # Преобразование из WGS 84 (EPSG:4326) в UTM40\n",
      "C:\\Users\\sm_pa\\AppData\\Local\\Programs\\Python\\Python39\\lib\\site-packages\\pyproj\\crs\\crs.py:141: FutureWarning: '+init=<authority>:<code>' syntax is deprecated. '<authority>:<code>' is the preferred initialization method. When making the change, be mindful of axis order changes: https://pyproj4.github.io/pyproj/stable/gotchas.html#axis-order-changes-in-proj-6\n",
      "  in_crs_string = _prepare_from_proj_string(in_crs_string)\n",
      "C:\\Users\\sm_pa\\AppData\\Local\\Temp\\ipykernel_7048\\678575862.py:7: FutureWarning: This function is deprecated. See: https://pyproj4.github.io/pyproj/stable/gotchas.html#upgrading-to-pyproj-2-from-pyproj-1\n",
      "  x, y = transform(Proj(init='epsg:4326'), utm40, lon, lat)  # Преобразование из WGS 84 (EPSG:4326) в UTM40\n",
      "C:\\Users\\sm_pa\\AppData\\Local\\Programs\\Python\\Python39\\lib\\site-packages\\pyproj\\crs\\crs.py:141: FutureWarning: '+init=<authority>:<code>' syntax is deprecated. '<authority>:<code>' is the preferred initialization method. When making the change, be mindful of axis order changes: https://pyproj4.github.io/pyproj/stable/gotchas.html#axis-order-changes-in-proj-6\n",
      "  in_crs_string = _prepare_from_proj_string(in_crs_string)\n",
      "C:\\Users\\sm_pa\\AppData\\Local\\Temp\\ipykernel_7048\\678575862.py:7: FutureWarning: This function is deprecated. See: https://pyproj4.github.io/pyproj/stable/gotchas.html#upgrading-to-pyproj-2-from-pyproj-1\n",
      "  x, y = transform(Proj(init='epsg:4326'), utm40, lon, lat)  # Преобразование из WGS 84 (EPSG:4326) в UTM40\n",
      "C:\\Users\\sm_pa\\AppData\\Local\\Programs\\Python\\Python39\\lib\\site-packages\\pyproj\\crs\\crs.py:141: FutureWarning: '+init=<authority>:<code>' syntax is deprecated. '<authority>:<code>' is the preferred initialization method. When making the change, be mindful of axis order changes: https://pyproj4.github.io/pyproj/stable/gotchas.html#axis-order-changes-in-proj-6\n",
      "  in_crs_string = _prepare_from_proj_string(in_crs_string)\n",
      "C:\\Users\\sm_pa\\AppData\\Local\\Temp\\ipykernel_7048\\678575862.py:7: FutureWarning: This function is deprecated. See: https://pyproj4.github.io/pyproj/stable/gotchas.html#upgrading-to-pyproj-2-from-pyproj-1\n",
      "  x, y = transform(Proj(init='epsg:4326'), utm40, lon, lat)  # Преобразование из WGS 84 (EPSG:4326) в UTM40\n",
      "C:\\Users\\sm_pa\\AppData\\Local\\Programs\\Python\\Python39\\lib\\site-packages\\pyproj\\crs\\crs.py:141: FutureWarning: '+init=<authority>:<code>' syntax is deprecated. '<authority>:<code>' is the preferred initialization method. When making the change, be mindful of axis order changes: https://pyproj4.github.io/pyproj/stable/gotchas.html#axis-order-changes-in-proj-6\n",
      "  in_crs_string = _prepare_from_proj_string(in_crs_string)\n",
      "C:\\Users\\sm_pa\\AppData\\Local\\Temp\\ipykernel_7048\\678575862.py:7: FutureWarning: This function is deprecated. See: https://pyproj4.github.io/pyproj/stable/gotchas.html#upgrading-to-pyproj-2-from-pyproj-1\n",
      "  x, y = transform(Proj(init='epsg:4326'), utm40, lon, lat)  # Преобразование из WGS 84 (EPSG:4326) в UTM40\n",
      "C:\\Users\\sm_pa\\AppData\\Local\\Programs\\Python\\Python39\\lib\\site-packages\\pyproj\\crs\\crs.py:141: FutureWarning: '+init=<authority>:<code>' syntax is deprecated. '<authority>:<code>' is the preferred initialization method. When making the change, be mindful of axis order changes: https://pyproj4.github.io/pyproj/stable/gotchas.html#axis-order-changes-in-proj-6\n",
      "  in_crs_string = _prepare_from_proj_string(in_crs_string)\n",
      "C:\\Users\\sm_pa\\AppData\\Local\\Temp\\ipykernel_7048\\678575862.py:7: FutureWarning: This function is deprecated. See: https://pyproj4.github.io/pyproj/stable/gotchas.html#upgrading-to-pyproj-2-from-pyproj-1\n",
      "  x, y = transform(Proj(init='epsg:4326'), utm40, lon, lat)  # Преобразование из WGS 84 (EPSG:4326) в UTM40\n",
      "C:\\Users\\sm_pa\\AppData\\Local\\Programs\\Python\\Python39\\lib\\site-packages\\pyproj\\crs\\crs.py:141: FutureWarning: '+init=<authority>:<code>' syntax is deprecated. '<authority>:<code>' is the preferred initialization method. When making the change, be mindful of axis order changes: https://pyproj4.github.io/pyproj/stable/gotchas.html#axis-order-changes-in-proj-6\n",
      "  in_crs_string = _prepare_from_proj_string(in_crs_string)\n",
      "C:\\Users\\sm_pa\\AppData\\Local\\Temp\\ipykernel_7048\\678575862.py:7: FutureWarning: This function is deprecated. See: https://pyproj4.github.io/pyproj/stable/gotchas.html#upgrading-to-pyproj-2-from-pyproj-1\n",
      "  x, y = transform(Proj(init='epsg:4326'), utm40, lon, lat)  # Преобразование из WGS 84 (EPSG:4326) в UTM40\n",
      "C:\\Users\\sm_pa\\AppData\\Local\\Programs\\Python\\Python39\\lib\\site-packages\\pyproj\\crs\\crs.py:141: FutureWarning: '+init=<authority>:<code>' syntax is deprecated. '<authority>:<code>' is the preferred initialization method. When making the change, be mindful of axis order changes: https://pyproj4.github.io/pyproj/stable/gotchas.html#axis-order-changes-in-proj-6\n",
      "  in_crs_string = _prepare_from_proj_string(in_crs_string)\n",
      "C:\\Users\\sm_pa\\AppData\\Local\\Temp\\ipykernel_7048\\678575862.py:7: FutureWarning: This function is deprecated. See: https://pyproj4.github.io/pyproj/stable/gotchas.html#upgrading-to-pyproj-2-from-pyproj-1\n",
      "  x, y = transform(Proj(init='epsg:4326'), utm40, lon, lat)  # Преобразование из WGS 84 (EPSG:4326) в UTM40\n",
      "C:\\Users\\sm_pa\\AppData\\Local\\Programs\\Python\\Python39\\lib\\site-packages\\pyproj\\crs\\crs.py:141: FutureWarning: '+init=<authority>:<code>' syntax is deprecated. '<authority>:<code>' is the preferred initialization method. When making the change, be mindful of axis order changes: https://pyproj4.github.io/pyproj/stable/gotchas.html#axis-order-changes-in-proj-6\n",
      "  in_crs_string = _prepare_from_proj_string(in_crs_string)\n",
      "C:\\Users\\sm_pa\\AppData\\Local\\Temp\\ipykernel_7048\\678575862.py:7: FutureWarning: This function is deprecated. See: https://pyproj4.github.io/pyproj/stable/gotchas.html#upgrading-to-pyproj-2-from-pyproj-1\n",
      "  x, y = transform(Proj(init='epsg:4326'), utm40, lon, lat)  # Преобразование из WGS 84 (EPSG:4326) в UTM40\n",
      "C:\\Users\\sm_pa\\AppData\\Local\\Programs\\Python\\Python39\\lib\\site-packages\\pyproj\\crs\\crs.py:141: FutureWarning: '+init=<authority>:<code>' syntax is deprecated. '<authority>:<code>' is the preferred initialization method. When making the change, be mindful of axis order changes: https://pyproj4.github.io/pyproj/stable/gotchas.html#axis-order-changes-in-proj-6\n",
      "  in_crs_string = _prepare_from_proj_string(in_crs_string)\n",
      "C:\\Users\\sm_pa\\AppData\\Local\\Temp\\ipykernel_7048\\678575862.py:7: FutureWarning: This function is deprecated. See: https://pyproj4.github.io/pyproj/stable/gotchas.html#upgrading-to-pyproj-2-from-pyproj-1\n",
      "  x, y = transform(Proj(init='epsg:4326'), utm40, lon, lat)  # Преобразование из WGS 84 (EPSG:4326) в UTM40\n",
      "C:\\Users\\sm_pa\\AppData\\Local\\Programs\\Python\\Python39\\lib\\site-packages\\pyproj\\crs\\crs.py:141: FutureWarning: '+init=<authority>:<code>' syntax is deprecated. '<authority>:<code>' is the preferred initialization method. When making the change, be mindful of axis order changes: https://pyproj4.github.io/pyproj/stable/gotchas.html#axis-order-changes-in-proj-6\n",
      "  in_crs_string = _prepare_from_proj_string(in_crs_string)\n",
      "C:\\Users\\sm_pa\\AppData\\Local\\Temp\\ipykernel_7048\\678575862.py:7: FutureWarning: This function is deprecated. See: https://pyproj4.github.io/pyproj/stable/gotchas.html#upgrading-to-pyproj-2-from-pyproj-1\n",
      "  x, y = transform(Proj(init='epsg:4326'), utm40, lon, lat)  # Преобразование из WGS 84 (EPSG:4326) в UTM40\n",
      "C:\\Users\\sm_pa\\AppData\\Local\\Programs\\Python\\Python39\\lib\\site-packages\\pyproj\\crs\\crs.py:141: FutureWarning: '+init=<authority>:<code>' syntax is deprecated. '<authority>:<code>' is the preferred initialization method. When making the change, be mindful of axis order changes: https://pyproj4.github.io/pyproj/stable/gotchas.html#axis-order-changes-in-proj-6\n",
      "  in_crs_string = _prepare_from_proj_string(in_crs_string)\n",
      "C:\\Users\\sm_pa\\AppData\\Local\\Temp\\ipykernel_7048\\678575862.py:7: FutureWarning: This function is deprecated. See: https://pyproj4.github.io/pyproj/stable/gotchas.html#upgrading-to-pyproj-2-from-pyproj-1\n",
      "  x, y = transform(Proj(init='epsg:4326'), utm40, lon, lat)  # Преобразование из WGS 84 (EPSG:4326) в UTM40\n",
      "C:\\Users\\sm_pa\\AppData\\Local\\Programs\\Python\\Python39\\lib\\site-packages\\pyproj\\crs\\crs.py:141: FutureWarning: '+init=<authority>:<code>' syntax is deprecated. '<authority>:<code>' is the preferred initialization method. When making the change, be mindful of axis order changes: https://pyproj4.github.io/pyproj/stable/gotchas.html#axis-order-changes-in-proj-6\n",
      "  in_crs_string = _prepare_from_proj_string(in_crs_string)\n",
      "C:\\Users\\sm_pa\\AppData\\Local\\Temp\\ipykernel_7048\\678575862.py:7: FutureWarning: This function is deprecated. See: https://pyproj4.github.io/pyproj/stable/gotchas.html#upgrading-to-pyproj-2-from-pyproj-1\n",
      "  x, y = transform(Proj(init='epsg:4326'), utm40, lon, lat)  # Преобразование из WGS 84 (EPSG:4326) в UTM40\n",
      "C:\\Users\\sm_pa\\AppData\\Local\\Programs\\Python\\Python39\\lib\\site-packages\\pyproj\\crs\\crs.py:141: FutureWarning: '+init=<authority>:<code>' syntax is deprecated. '<authority>:<code>' is the preferred initialization method. When making the change, be mindful of axis order changes: https://pyproj4.github.io/pyproj/stable/gotchas.html#axis-order-changes-in-proj-6\n",
      "  in_crs_string = _prepare_from_proj_string(in_crs_string)\n",
      "C:\\Users\\sm_pa\\AppData\\Local\\Temp\\ipykernel_7048\\678575862.py:7: FutureWarning: This function is deprecated. See: https://pyproj4.github.io/pyproj/stable/gotchas.html#upgrading-to-pyproj-2-from-pyproj-1\n",
      "  x, y = transform(Proj(init='epsg:4326'), utm40, lon, lat)  # Преобразование из WGS 84 (EPSG:4326) в UTM40\n",
      "C:\\Users\\sm_pa\\AppData\\Local\\Programs\\Python\\Python39\\lib\\site-packages\\pyproj\\crs\\crs.py:141: FutureWarning: '+init=<authority>:<code>' syntax is deprecated. '<authority>:<code>' is the preferred initialization method. When making the change, be mindful of axis order changes: https://pyproj4.github.io/pyproj/stable/gotchas.html#axis-order-changes-in-proj-6\n",
      "  in_crs_string = _prepare_from_proj_string(in_crs_string)\n",
      "C:\\Users\\sm_pa\\AppData\\Local\\Temp\\ipykernel_7048\\678575862.py:7: FutureWarning: This function is deprecated. See: https://pyproj4.github.io/pyproj/stable/gotchas.html#upgrading-to-pyproj-2-from-pyproj-1\n",
      "  x, y = transform(Proj(init='epsg:4326'), utm40, lon, lat)  # Преобразование из WGS 84 (EPSG:4326) в UTM40\n",
      "C:\\Users\\sm_pa\\AppData\\Local\\Programs\\Python\\Python39\\lib\\site-packages\\pyproj\\crs\\crs.py:141: FutureWarning: '+init=<authority>:<code>' syntax is deprecated. '<authority>:<code>' is the preferred initialization method. When making the change, be mindful of axis order changes: https://pyproj4.github.io/pyproj/stable/gotchas.html#axis-order-changes-in-proj-6\n",
      "  in_crs_string = _prepare_from_proj_string(in_crs_string)\n",
      "C:\\Users\\sm_pa\\AppData\\Local\\Temp\\ipykernel_7048\\678575862.py:7: FutureWarning: This function is deprecated. See: https://pyproj4.github.io/pyproj/stable/gotchas.html#upgrading-to-pyproj-2-from-pyproj-1\n",
      "  x, y = transform(Proj(init='epsg:4326'), utm40, lon, lat)  # Преобразование из WGS 84 (EPSG:4326) в UTM40\n",
      "C:\\Users\\sm_pa\\AppData\\Local\\Programs\\Python\\Python39\\lib\\site-packages\\pyproj\\crs\\crs.py:141: FutureWarning: '+init=<authority>:<code>' syntax is deprecated. '<authority>:<code>' is the preferred initialization method. When making the change, be mindful of axis order changes: https://pyproj4.github.io/pyproj/stable/gotchas.html#axis-order-changes-in-proj-6\n",
      "  in_crs_string = _prepare_from_proj_string(in_crs_string)\n",
      "C:\\Users\\sm_pa\\AppData\\Local\\Temp\\ipykernel_7048\\678575862.py:7: FutureWarning: This function is deprecated. See: https://pyproj4.github.io/pyproj/stable/gotchas.html#upgrading-to-pyproj-2-from-pyproj-1\n",
      "  x, y = transform(Proj(init='epsg:4326'), utm40, lon, lat)  # Преобразование из WGS 84 (EPSG:4326) в UTM40\n",
      "C:\\Users\\sm_pa\\AppData\\Local\\Programs\\Python\\Python39\\lib\\site-packages\\pyproj\\crs\\crs.py:141: FutureWarning: '+init=<authority>:<code>' syntax is deprecated. '<authority>:<code>' is the preferred initialization method. When making the change, be mindful of axis order changes: https://pyproj4.github.io/pyproj/stable/gotchas.html#axis-order-changes-in-proj-6\n",
      "  in_crs_string = _prepare_from_proj_string(in_crs_string)\n",
      "C:\\Users\\sm_pa\\AppData\\Local\\Temp\\ipykernel_7048\\678575862.py:7: FutureWarning: This function is deprecated. See: https://pyproj4.github.io/pyproj/stable/gotchas.html#upgrading-to-pyproj-2-from-pyproj-1\n",
      "  x, y = transform(Proj(init='epsg:4326'), utm40, lon, lat)  # Преобразование из WGS 84 (EPSG:4326) в UTM40\n",
      "C:\\Users\\sm_pa\\AppData\\Local\\Programs\\Python\\Python39\\lib\\site-packages\\pyproj\\crs\\crs.py:141: FutureWarning: '+init=<authority>:<code>' syntax is deprecated. '<authority>:<code>' is the preferred initialization method. When making the change, be mindful of axis order changes: https://pyproj4.github.io/pyproj/stable/gotchas.html#axis-order-changes-in-proj-6\n",
      "  in_crs_string = _prepare_from_proj_string(in_crs_string)\n",
      "C:\\Users\\sm_pa\\AppData\\Local\\Temp\\ipykernel_7048\\678575862.py:7: FutureWarning: This function is deprecated. See: https://pyproj4.github.io/pyproj/stable/gotchas.html#upgrading-to-pyproj-2-from-pyproj-1\n",
      "  x, y = transform(Proj(init='epsg:4326'), utm40, lon, lat)  # Преобразование из WGS 84 (EPSG:4326) в UTM40\n",
      "C:\\Users\\sm_pa\\AppData\\Local\\Programs\\Python\\Python39\\lib\\site-packages\\pyproj\\crs\\crs.py:141: FutureWarning: '+init=<authority>:<code>' syntax is deprecated. '<authority>:<code>' is the preferred initialization method. When making the change, be mindful of axis order changes: https://pyproj4.github.io/pyproj/stable/gotchas.html#axis-order-changes-in-proj-6\n",
      "  in_crs_string = _prepare_from_proj_string(in_crs_string)\n",
      "C:\\Users\\sm_pa\\AppData\\Local\\Temp\\ipykernel_7048\\678575862.py:7: FutureWarning: This function is deprecated. See: https://pyproj4.github.io/pyproj/stable/gotchas.html#upgrading-to-pyproj-2-from-pyproj-1\n",
      "  x, y = transform(Proj(init='epsg:4326'), utm40, lon, lat)  # Преобразование из WGS 84 (EPSG:4326) в UTM40\n",
      "C:\\Users\\sm_pa\\AppData\\Local\\Programs\\Python\\Python39\\lib\\site-packages\\pyproj\\crs\\crs.py:141: FutureWarning: '+init=<authority>:<code>' syntax is deprecated. '<authority>:<code>' is the preferred initialization method. When making the change, be mindful of axis order changes: https://pyproj4.github.io/pyproj/stable/gotchas.html#axis-order-changes-in-proj-6\n",
      "  in_crs_string = _prepare_from_proj_string(in_crs_string)\n",
      "C:\\Users\\sm_pa\\AppData\\Local\\Temp\\ipykernel_7048\\678575862.py:7: FutureWarning: This function is deprecated. See: https://pyproj4.github.io/pyproj/stable/gotchas.html#upgrading-to-pyproj-2-from-pyproj-1\n",
      "  x, y = transform(Proj(init='epsg:4326'), utm40, lon, lat)  # Преобразование из WGS 84 (EPSG:4326) в UTM40\n",
      "C:\\Users\\sm_pa\\AppData\\Local\\Programs\\Python\\Python39\\lib\\site-packages\\pyproj\\crs\\crs.py:141: FutureWarning: '+init=<authority>:<code>' syntax is deprecated. '<authority>:<code>' is the preferred initialization method. When making the change, be mindful of axis order changes: https://pyproj4.github.io/pyproj/stable/gotchas.html#axis-order-changes-in-proj-6\n",
      "  in_crs_string = _prepare_from_proj_string(in_crs_string)\n",
      "C:\\Users\\sm_pa\\AppData\\Local\\Temp\\ipykernel_7048\\678575862.py:7: FutureWarning: This function is deprecated. See: https://pyproj4.github.io/pyproj/stable/gotchas.html#upgrading-to-pyproj-2-from-pyproj-1\n",
      "  x, y = transform(Proj(init='epsg:4326'), utm40, lon, lat)  # Преобразование из WGS 84 (EPSG:4326) в UTM40\n",
      "C:\\Users\\sm_pa\\AppData\\Local\\Programs\\Python\\Python39\\lib\\site-packages\\pyproj\\crs\\crs.py:141: FutureWarning: '+init=<authority>:<code>' syntax is deprecated. '<authority>:<code>' is the preferred initialization method. When making the change, be mindful of axis order changes: https://pyproj4.github.io/pyproj/stable/gotchas.html#axis-order-changes-in-proj-6\n",
      "  in_crs_string = _prepare_from_proj_string(in_crs_string)\n",
      "C:\\Users\\sm_pa\\AppData\\Local\\Temp\\ipykernel_7048\\678575862.py:7: FutureWarning: This function is deprecated. See: https://pyproj4.github.io/pyproj/stable/gotchas.html#upgrading-to-pyproj-2-from-pyproj-1\n",
      "  x, y = transform(Proj(init='epsg:4326'), utm40, lon, lat)  # Преобразование из WGS 84 (EPSG:4326) в UTM40\n",
      "C:\\Users\\sm_pa\\AppData\\Local\\Programs\\Python\\Python39\\lib\\site-packages\\pyproj\\crs\\crs.py:141: FutureWarning: '+init=<authority>:<code>' syntax is deprecated. '<authority>:<code>' is the preferred initialization method. When making the change, be mindful of axis order changes: https://pyproj4.github.io/pyproj/stable/gotchas.html#axis-order-changes-in-proj-6\n",
      "  in_crs_string = _prepare_from_proj_string(in_crs_string)\n",
      "C:\\Users\\sm_pa\\AppData\\Local\\Temp\\ipykernel_7048\\678575862.py:7: FutureWarning: This function is deprecated. See: https://pyproj4.github.io/pyproj/stable/gotchas.html#upgrading-to-pyproj-2-from-pyproj-1\n",
      "  x, y = transform(Proj(init='epsg:4326'), utm40, lon, lat)  # Преобразование из WGS 84 (EPSG:4326) в UTM40\n",
      "C:\\Users\\sm_pa\\AppData\\Local\\Programs\\Python\\Python39\\lib\\site-packages\\pyproj\\crs\\crs.py:141: FutureWarning: '+init=<authority>:<code>' syntax is deprecated. '<authority>:<code>' is the preferred initialization method. When making the change, be mindful of axis order changes: https://pyproj4.github.io/pyproj/stable/gotchas.html#axis-order-changes-in-proj-6\n",
      "  in_crs_string = _prepare_from_proj_string(in_crs_string)\n",
      "C:\\Users\\sm_pa\\AppData\\Local\\Temp\\ipykernel_7048\\678575862.py:7: FutureWarning: This function is deprecated. See: https://pyproj4.github.io/pyproj/stable/gotchas.html#upgrading-to-pyproj-2-from-pyproj-1\n",
      "  x, y = transform(Proj(init='epsg:4326'), utm40, lon, lat)  # Преобразование из WGS 84 (EPSG:4326) в UTM40\n",
      "C:\\Users\\sm_pa\\AppData\\Local\\Programs\\Python\\Python39\\lib\\site-packages\\pyproj\\crs\\crs.py:141: FutureWarning: '+init=<authority>:<code>' syntax is deprecated. '<authority>:<code>' is the preferred initialization method. When making the change, be mindful of axis order changes: https://pyproj4.github.io/pyproj/stable/gotchas.html#axis-order-changes-in-proj-6\n",
      "  in_crs_string = _prepare_from_proj_string(in_crs_string)\n",
      "C:\\Users\\sm_pa\\AppData\\Local\\Temp\\ipykernel_7048\\678575862.py:7: FutureWarning: This function is deprecated. See: https://pyproj4.github.io/pyproj/stable/gotchas.html#upgrading-to-pyproj-2-from-pyproj-1\n",
      "  x, y = transform(Proj(init='epsg:4326'), utm40, lon, lat)  # Преобразование из WGS 84 (EPSG:4326) в UTM40\n",
      "C:\\Users\\sm_pa\\AppData\\Local\\Programs\\Python\\Python39\\lib\\site-packages\\pyproj\\crs\\crs.py:141: FutureWarning: '+init=<authority>:<code>' syntax is deprecated. '<authority>:<code>' is the preferred initialization method. When making the change, be mindful of axis order changes: https://pyproj4.github.io/pyproj/stable/gotchas.html#axis-order-changes-in-proj-6\n",
      "  in_crs_string = _prepare_from_proj_string(in_crs_string)\n",
      "C:\\Users\\sm_pa\\AppData\\Local\\Temp\\ipykernel_7048\\678575862.py:7: FutureWarning: This function is deprecated. See: https://pyproj4.github.io/pyproj/stable/gotchas.html#upgrading-to-pyproj-2-from-pyproj-1\n",
      "  x, y = transform(Proj(init='epsg:4326'), utm40, lon, lat)  # Преобразование из WGS 84 (EPSG:4326) в UTM40\n",
      "C:\\Users\\sm_pa\\AppData\\Local\\Programs\\Python\\Python39\\lib\\site-packages\\pyproj\\crs\\crs.py:141: FutureWarning: '+init=<authority>:<code>' syntax is deprecated. '<authority>:<code>' is the preferred initialization method. When making the change, be mindful of axis order changes: https://pyproj4.github.io/pyproj/stable/gotchas.html#axis-order-changes-in-proj-6\n",
      "  in_crs_string = _prepare_from_proj_string(in_crs_string)\n",
      "C:\\Users\\sm_pa\\AppData\\Local\\Temp\\ipykernel_7048\\678575862.py:7: FutureWarning: This function is deprecated. See: https://pyproj4.github.io/pyproj/stable/gotchas.html#upgrading-to-pyproj-2-from-pyproj-1\n",
      "  x, y = transform(Proj(init='epsg:4326'), utm40, lon, lat)  # Преобразование из WGS 84 (EPSG:4326) в UTM40\n",
      "C:\\Users\\sm_pa\\AppData\\Local\\Programs\\Python\\Python39\\lib\\site-packages\\pyproj\\crs\\crs.py:141: FutureWarning: '+init=<authority>:<code>' syntax is deprecated. '<authority>:<code>' is the preferred initialization method. When making the change, be mindful of axis order changes: https://pyproj4.github.io/pyproj/stable/gotchas.html#axis-order-changes-in-proj-6\n",
      "  in_crs_string = _prepare_from_proj_string(in_crs_string)\n",
      "C:\\Users\\sm_pa\\AppData\\Local\\Temp\\ipykernel_7048\\678575862.py:7: FutureWarning: This function is deprecated. See: https://pyproj4.github.io/pyproj/stable/gotchas.html#upgrading-to-pyproj-2-from-pyproj-1\n",
      "  x, y = transform(Proj(init='epsg:4326'), utm40, lon, lat)  # Преобразование из WGS 84 (EPSG:4326) в UTM40\n",
      "C:\\Users\\sm_pa\\AppData\\Local\\Programs\\Python\\Python39\\lib\\site-packages\\pyproj\\crs\\crs.py:141: FutureWarning: '+init=<authority>:<code>' syntax is deprecated. '<authority>:<code>' is the preferred initialization method. When making the change, be mindful of axis order changes: https://pyproj4.github.io/pyproj/stable/gotchas.html#axis-order-changes-in-proj-6\n",
      "  in_crs_string = _prepare_from_proj_string(in_crs_string)\n",
      "C:\\Users\\sm_pa\\AppData\\Local\\Temp\\ipykernel_7048\\678575862.py:7: FutureWarning: This function is deprecated. See: https://pyproj4.github.io/pyproj/stable/gotchas.html#upgrading-to-pyproj-2-from-pyproj-1\n",
      "  x, y = transform(Proj(init='epsg:4326'), utm40, lon, lat)  # Преобразование из WGS 84 (EPSG:4326) в UTM40\n",
      "C:\\Users\\sm_pa\\AppData\\Local\\Programs\\Python\\Python39\\lib\\site-packages\\pyproj\\crs\\crs.py:141: FutureWarning: '+init=<authority>:<code>' syntax is deprecated. '<authority>:<code>' is the preferred initialization method. When making the change, be mindful of axis order changes: https://pyproj4.github.io/pyproj/stable/gotchas.html#axis-order-changes-in-proj-6\n",
      "  in_crs_string = _prepare_from_proj_string(in_crs_string)\n",
      "C:\\Users\\sm_pa\\AppData\\Local\\Temp\\ipykernel_7048\\678575862.py:7: FutureWarning: This function is deprecated. See: https://pyproj4.github.io/pyproj/stable/gotchas.html#upgrading-to-pyproj-2-from-pyproj-1\n",
      "  x, y = transform(Proj(init='epsg:4326'), utm40, lon, lat)  # Преобразование из WGS 84 (EPSG:4326) в UTM40\n",
      "C:\\Users\\sm_pa\\AppData\\Local\\Programs\\Python\\Python39\\lib\\site-packages\\pyproj\\crs\\crs.py:141: FutureWarning: '+init=<authority>:<code>' syntax is deprecated. '<authority>:<code>' is the preferred initialization method. When making the change, be mindful of axis order changes: https://pyproj4.github.io/pyproj/stable/gotchas.html#axis-order-changes-in-proj-6\n",
      "  in_crs_string = _prepare_from_proj_string(in_crs_string)\n",
      "C:\\Users\\sm_pa\\AppData\\Local\\Temp\\ipykernel_7048\\678575862.py:7: FutureWarning: This function is deprecated. See: https://pyproj4.github.io/pyproj/stable/gotchas.html#upgrading-to-pyproj-2-from-pyproj-1\n",
      "  x, y = transform(Proj(init='epsg:4326'), utm40, lon, lat)  # Преобразование из WGS 84 (EPSG:4326) в UTM40\n",
      "C:\\Users\\sm_pa\\AppData\\Local\\Programs\\Python\\Python39\\lib\\site-packages\\pyproj\\crs\\crs.py:141: FutureWarning: '+init=<authority>:<code>' syntax is deprecated. '<authority>:<code>' is the preferred initialization method. When making the change, be mindful of axis order changes: https://pyproj4.github.io/pyproj/stable/gotchas.html#axis-order-changes-in-proj-6\n",
      "  in_crs_string = _prepare_from_proj_string(in_crs_string)\n",
      "C:\\Users\\sm_pa\\AppData\\Local\\Temp\\ipykernel_7048\\678575862.py:7: FutureWarning: This function is deprecated. See: https://pyproj4.github.io/pyproj/stable/gotchas.html#upgrading-to-pyproj-2-from-pyproj-1\n",
      "  x, y = transform(Proj(init='epsg:4326'), utm40, lon, lat)  # Преобразование из WGS 84 (EPSG:4326) в UTM40\n",
      "C:\\Users\\sm_pa\\AppData\\Local\\Programs\\Python\\Python39\\lib\\site-packages\\pyproj\\crs\\crs.py:141: FutureWarning: '+init=<authority>:<code>' syntax is deprecated. '<authority>:<code>' is the preferred initialization method. When making the change, be mindful of axis order changes: https://pyproj4.github.io/pyproj/stable/gotchas.html#axis-order-changes-in-proj-6\n",
      "  in_crs_string = _prepare_from_proj_string(in_crs_string)\n",
      "C:\\Users\\sm_pa\\AppData\\Local\\Temp\\ipykernel_7048\\678575862.py:7: FutureWarning: This function is deprecated. See: https://pyproj4.github.io/pyproj/stable/gotchas.html#upgrading-to-pyproj-2-from-pyproj-1\n",
      "  x, y = transform(Proj(init='epsg:4326'), utm40, lon, lat)  # Преобразование из WGS 84 (EPSG:4326) в UTM40\n",
      "C:\\Users\\sm_pa\\AppData\\Local\\Programs\\Python\\Python39\\lib\\site-packages\\pyproj\\crs\\crs.py:141: FutureWarning: '+init=<authority>:<code>' syntax is deprecated. '<authority>:<code>' is the preferred initialization method. When making the change, be mindful of axis order changes: https://pyproj4.github.io/pyproj/stable/gotchas.html#axis-order-changes-in-proj-6\n",
      "  in_crs_string = _prepare_from_proj_string(in_crs_string)\n",
      "C:\\Users\\sm_pa\\AppData\\Local\\Temp\\ipykernel_7048\\678575862.py:7: FutureWarning: This function is deprecated. See: https://pyproj4.github.io/pyproj/stable/gotchas.html#upgrading-to-pyproj-2-from-pyproj-1\n",
      "  x, y = transform(Proj(init='epsg:4326'), utm40, lon, lat)  # Преобразование из WGS 84 (EPSG:4326) в UTM40\n",
      "C:\\Users\\sm_pa\\AppData\\Local\\Programs\\Python\\Python39\\lib\\site-packages\\pyproj\\crs\\crs.py:141: FutureWarning: '+init=<authority>:<code>' syntax is deprecated. '<authority>:<code>' is the preferred initialization method. When making the change, be mindful of axis order changes: https://pyproj4.github.io/pyproj/stable/gotchas.html#axis-order-changes-in-proj-6\n",
      "  in_crs_string = _prepare_from_proj_string(in_crs_string)\n",
      "C:\\Users\\sm_pa\\AppData\\Local\\Temp\\ipykernel_7048\\678575862.py:7: FutureWarning: This function is deprecated. See: https://pyproj4.github.io/pyproj/stable/gotchas.html#upgrading-to-pyproj-2-from-pyproj-1\n",
      "  x, y = transform(Proj(init='epsg:4326'), utm40, lon, lat)  # Преобразование из WGS 84 (EPSG:4326) в UTM40\n"
     ]
    }
   ],
   "source": [
    "# Определите проекцию UTM40\n",
    "utm40 = Proj(init='epsg:32640')  # EPSG код для UTM Zone 40N\n",
    "\n",
    "# Функция для преобразования координат точек в проекцию UTM40\n",
    "def transform_to_utm40(geom):\n",
    "    lon, lat = geom.x, geom.y\n",
    "    x, y = transform(Proj(init='epsg:4326'), utm40, lon, lat)  # Преобразование из WGS 84 (EPSG:4326) в UTM40\n",
    "    return Point(x, y)\n",
    "\n",
    "# Примените функцию преобразования ко всем геометриям в геодатафрейме\n",
    "zones_test['geometry'] = zones_test['geometry'].apply(transform_to_utm40)"
   ],
   "metadata": {
    "collapsed": false,
    "ExecuteTime": {
     "end_time": "2024-01-21T12:02:06.977328Z",
     "start_time": "2024-01-21T12:01:51.976456400Z"
    }
   },
   "id": "9325a445afcfddd1"
  },
  {
   "cell_type": "code",
   "execution_count": 43,
   "outputs": [],
   "source": [
    "zones_test.to_file('data/zones_utm40.geojson', driver='GeoJSON')"
   ],
   "metadata": {
    "collapsed": false,
    "ExecuteTime": {
     "end_time": "2024-01-21T12:05:05.486629600Z",
     "start_time": "2024-01-21T12:05:04.312885200Z"
    }
   },
   "id": "ad5d9515fcb59f91"
  },
  {
   "cell_type": "code",
   "execution_count": 59,
   "outputs": [
    {
     "data": {
      "text/plain": "          landuse  population_availability  workers_availability  \\\nid                                                                 \n1     low_density                 5.241083              2.463974   \n6     low_density                 4.892252              2.386894   \n9     low_density                 4.760366              2.351703   \n11    low_density                 4.804614              2.364015   \n16    residential                 6.456608              2.789124   \n...           ...                      ...                   ...   \n2869   commercial                 4.291921              2.221195   \n2875   industrial                 4.515939              2.286350   \n2877   industrial                 5.810754              3.120476   \n2879   industrial                 4.074374              2.930219   \n3000  low_density                 5.342491              2.495559   \n\n      landuse_numeric                            geometry              x  \\\nid                                                                         \n1                   0  POINT (462155.54800 6432965.26328)  462155.548001   \n6                   0  POINT (464290.82796 6431390.46274)  464290.827958   \n9                   0  POINT (464637.72372 6436156.93450)  464637.723720   \n11                  0  POINT (464819.02985 6433410.43797)  464819.029852   \n16                  1  POINT (453428.57430 6429333.61123)  453428.574298   \n...               ...                                 ...            ...   \n2869                2  POINT (464051.82935 6445564.40802)  464051.829352   \n2875                3  POINT (463322.10610 6444310.44111)  463322.106100   \n2877                3  POINT (457843.72949 6432317.06464)  457843.729485   \n2879                3  POINT (450156.69852 6415824.51862)  450156.698516   \n3000                0  POINT (461169.42394 6432574.11436)  461169.423944   \n\n                 y  \nid                  \n1     6.432965e+06  \n6     6.431390e+06  \n9     6.436157e+06  \n11    6.433410e+06  \n16    6.429334e+06  \n...            ...  \n2869  6.445564e+06  \n2875  6.444310e+06  \n2877  6.432317e+06  \n2879  6.415825e+06  \n3000  6.432574e+06  \n\n[499 rows x 7 columns]",
      "text/html": "<div>\n<style scoped>\n    .dataframe tbody tr th:only-of-type {\n        vertical-align: middle;\n    }\n\n    .dataframe tbody tr th {\n        vertical-align: top;\n    }\n\n    .dataframe thead th {\n        text-align: right;\n    }\n</style>\n<table border=\"1\" class=\"dataframe\">\n  <thead>\n    <tr style=\"text-align: right;\">\n      <th></th>\n      <th>landuse</th>\n      <th>population_availability</th>\n      <th>workers_availability</th>\n      <th>landuse_numeric</th>\n      <th>geometry</th>\n      <th>x</th>\n      <th>y</th>\n    </tr>\n    <tr>\n      <th>id</th>\n      <th></th>\n      <th></th>\n      <th></th>\n      <th></th>\n      <th></th>\n      <th></th>\n      <th></th>\n    </tr>\n  </thead>\n  <tbody>\n    <tr>\n      <th>1</th>\n      <td>low_density</td>\n      <td>5.241083</td>\n      <td>2.463974</td>\n      <td>0</td>\n      <td>POINT (462155.54800 6432965.26328)</td>\n      <td>462155.548001</td>\n      <td>6.432965e+06</td>\n    </tr>\n    <tr>\n      <th>6</th>\n      <td>low_density</td>\n      <td>4.892252</td>\n      <td>2.386894</td>\n      <td>0</td>\n      <td>POINT (464290.82796 6431390.46274)</td>\n      <td>464290.827958</td>\n      <td>6.431390e+06</td>\n    </tr>\n    <tr>\n      <th>9</th>\n      <td>low_density</td>\n      <td>4.760366</td>\n      <td>2.351703</td>\n      <td>0</td>\n      <td>POINT (464637.72372 6436156.93450)</td>\n      <td>464637.723720</td>\n      <td>6.436157e+06</td>\n    </tr>\n    <tr>\n      <th>11</th>\n      <td>low_density</td>\n      <td>4.804614</td>\n      <td>2.364015</td>\n      <td>0</td>\n      <td>POINT (464819.02985 6433410.43797)</td>\n      <td>464819.029852</td>\n      <td>6.433410e+06</td>\n    </tr>\n    <tr>\n      <th>16</th>\n      <td>residential</td>\n      <td>6.456608</td>\n      <td>2.789124</td>\n      <td>1</td>\n      <td>POINT (453428.57430 6429333.61123)</td>\n      <td>453428.574298</td>\n      <td>6.429334e+06</td>\n    </tr>\n    <tr>\n      <th>...</th>\n      <td>...</td>\n      <td>...</td>\n      <td>...</td>\n      <td>...</td>\n      <td>...</td>\n      <td>...</td>\n      <td>...</td>\n    </tr>\n    <tr>\n      <th>2869</th>\n      <td>commercial</td>\n      <td>4.291921</td>\n      <td>2.221195</td>\n      <td>2</td>\n      <td>POINT (464051.82935 6445564.40802)</td>\n      <td>464051.829352</td>\n      <td>6.445564e+06</td>\n    </tr>\n    <tr>\n      <th>2875</th>\n      <td>industrial</td>\n      <td>4.515939</td>\n      <td>2.286350</td>\n      <td>3</td>\n      <td>POINT (463322.10610 6444310.44111)</td>\n      <td>463322.106100</td>\n      <td>6.444310e+06</td>\n    </tr>\n    <tr>\n      <th>2877</th>\n      <td>industrial</td>\n      <td>5.810754</td>\n      <td>3.120476</td>\n      <td>3</td>\n      <td>POINT (457843.72949 6432317.06464)</td>\n      <td>457843.729485</td>\n      <td>6.432317e+06</td>\n    </tr>\n    <tr>\n      <th>2879</th>\n      <td>industrial</td>\n      <td>4.074374</td>\n      <td>2.930219</td>\n      <td>3</td>\n      <td>POINT (450156.69852 6415824.51862)</td>\n      <td>450156.698516</td>\n      <td>6.415825e+06</td>\n    </tr>\n    <tr>\n      <th>3000</th>\n      <td>low_density</td>\n      <td>5.342491</td>\n      <td>2.495559</td>\n      <td>0</td>\n      <td>POINT (461169.42394 6432574.11436)</td>\n      <td>461169.423944</td>\n      <td>6.432574e+06</td>\n    </tr>\n  </tbody>\n</table>\n<p>499 rows × 7 columns</p>\n</div>"
     },
     "execution_count": 59,
     "metadata": {},
     "output_type": "execute_result"
    }
   ],
   "source": [
    "zones = zones_test\n",
    "# Преобразование геометрии в столбцы \"x\" и \"y\"\n",
    "zones[\"x\"] = zones.geometry.x\n",
    "zones[\"y\"] = zones.geometry.y\n",
    "zones"
   ],
   "metadata": {
    "collapsed": false,
    "ExecuteTime": {
     "end_time": "2024-01-21T12:34:51.458354200Z",
     "start_time": "2024-01-21T12:34:51.311211500Z"
    }
   },
   "id": "76630e5f90d72da1"
  },
  {
   "cell_type": "raw",
   "source": [
    "Теперь нужно преобразовать наши туры в XML-файл с дневными планами"
   ],
   "metadata": {
    "collapsed": false
   },
   "id": "ba2b0fd0d3fc013"
  },
  {
   "cell_type": "code",
   "execution_count": 67,
   "outputs": [
    {
     "data": {
      "text/plain": "       zone_id  population_availability  workers_availability  \\\n0            6                 4.892252              2.386894   \n1            6                 4.892252              2.386894   \n2            6                 4.892252              2.386894   \n3            6                 4.892252              2.386894   \n4            6                 4.892252              2.386894   \n...        ...                      ...                   ...   \n17504     3000                 5.342491              2.495559   \n17505     3000                 5.342491              2.495559   \n17506     3000                 5.342491              2.495559   \n17507     3000                 5.342491              2.495559   \n17508     3000                 5.342491              2.495559   \n\n       landuse_numeric  employment_share  industry_numeric  time_of_day  \\\n0                    0          0.932489                 0            1   \n1                    0          0.932489                 0            1   \n2                    0          0.932489                 0            0   \n3                    0          0.932489                 0            0   \n4                    0          0.932489                 0            1   \n...                ...               ...               ...          ...   \n17504                0          0.725275                 2            1   \n17505                0          0.725275                 2            1   \n17506                0          0.725275                 2            1   \n17507                0          0.725275                 2            1   \n17508                0          0.725275                 2            1   \n\n       vehicle_purpose  vehicle_type  tour_purpose  assigned_start_time  \\\n0                    3             1             0  1900-01-01 16:17:00   \n1                    0             0             0  1900-01-01 16:27:00   \n2                    3             1             0  1900-01-01 10:40:00   \n3                    3             1             0  1900-01-01 09:34:00   \n4                    6             2             0  1900-01-01 14:18:00   \n...                ...           ...           ...                  ...   \n17504                0             0             0  1900-01-01 16:44:00   \n17505                0             0             0  1900-01-01 12:11:00   \n17506                1             0             1  1900-01-01 15:03:00   \n17507                0             0             0  1900-01-01 14:57:00   \n17508                2             0             2  1900-01-01 16:04:00   \n\n       num_stops                                              stops  \n0              3  [{\"purpose\": 0, \"zone_id\": 280, \"duration\": 28...  \n1              3  [{\"purpose\": 0, \"zone_id\": 2620, \"duration\": 2...  \n2              5  [{\"purpose\": 0, \"zone_id\": 43, \"duration\": 19}...  \n3              5  [{\"purpose\": 0, \"zone_id\": 1338, \"duration\": 2...  \n4              3  [{\"purpose\": 1, \"zone_id\": 453, \"duration\": 11...  \n...          ...                                                ...  \n17504          2  [{\"purpose\": 1, \"zone_id\": 1720, \"duration\": 1...  \n17505          4  [{\"purpose\": 0, \"zone_id\": 29, \"duration\": 25}...  \n17506          4  [{\"purpose\": 1, \"zone_id\": 745, \"duration\": 19...  \n17507          3  [{\"purpose\": 1, \"zone_id\": 479, \"duration\": 38...  \n17508          7  [{\"purpose\": 0, \"zone_id\": 2058, \"duration\": 1...  \n\n[17509 rows x 13 columns]",
      "text/html": "<div>\n<style scoped>\n    .dataframe tbody tr th:only-of-type {\n        vertical-align: middle;\n    }\n\n    .dataframe tbody tr th {\n        vertical-align: top;\n    }\n\n    .dataframe thead th {\n        text-align: right;\n    }\n</style>\n<table border=\"1\" class=\"dataframe\">\n  <thead>\n    <tr style=\"text-align: right;\">\n      <th></th>\n      <th>zone_id</th>\n      <th>population_availability</th>\n      <th>workers_availability</th>\n      <th>landuse_numeric</th>\n      <th>employment_share</th>\n      <th>industry_numeric</th>\n      <th>time_of_day</th>\n      <th>vehicle_purpose</th>\n      <th>vehicle_type</th>\n      <th>tour_purpose</th>\n      <th>assigned_start_time</th>\n      <th>num_stops</th>\n      <th>stops</th>\n    </tr>\n  </thead>\n  <tbody>\n    <tr>\n      <th>0</th>\n      <td>6</td>\n      <td>4.892252</td>\n      <td>2.386894</td>\n      <td>0</td>\n      <td>0.932489</td>\n      <td>0</td>\n      <td>1</td>\n      <td>3</td>\n      <td>1</td>\n      <td>0</td>\n      <td>1900-01-01 16:17:00</td>\n      <td>3</td>\n      <td>[{\"purpose\": 0, \"zone_id\": 280, \"duration\": 28...</td>\n    </tr>\n    <tr>\n      <th>1</th>\n      <td>6</td>\n      <td>4.892252</td>\n      <td>2.386894</td>\n      <td>0</td>\n      <td>0.932489</td>\n      <td>0</td>\n      <td>1</td>\n      <td>0</td>\n      <td>0</td>\n      <td>0</td>\n      <td>1900-01-01 16:27:00</td>\n      <td>3</td>\n      <td>[{\"purpose\": 0, \"zone_id\": 2620, \"duration\": 2...</td>\n    </tr>\n    <tr>\n      <th>2</th>\n      <td>6</td>\n      <td>4.892252</td>\n      <td>2.386894</td>\n      <td>0</td>\n      <td>0.932489</td>\n      <td>0</td>\n      <td>0</td>\n      <td>3</td>\n      <td>1</td>\n      <td>0</td>\n      <td>1900-01-01 10:40:00</td>\n      <td>5</td>\n      <td>[{\"purpose\": 0, \"zone_id\": 43, \"duration\": 19}...</td>\n    </tr>\n    <tr>\n      <th>3</th>\n      <td>6</td>\n      <td>4.892252</td>\n      <td>2.386894</td>\n      <td>0</td>\n      <td>0.932489</td>\n      <td>0</td>\n      <td>0</td>\n      <td>3</td>\n      <td>1</td>\n      <td>0</td>\n      <td>1900-01-01 09:34:00</td>\n      <td>5</td>\n      <td>[{\"purpose\": 0, \"zone_id\": 1338, \"duration\": 2...</td>\n    </tr>\n    <tr>\n      <th>4</th>\n      <td>6</td>\n      <td>4.892252</td>\n      <td>2.386894</td>\n      <td>0</td>\n      <td>0.932489</td>\n      <td>0</td>\n      <td>1</td>\n      <td>6</td>\n      <td>2</td>\n      <td>0</td>\n      <td>1900-01-01 14:18:00</td>\n      <td>3</td>\n      <td>[{\"purpose\": 1, \"zone_id\": 453, \"duration\": 11...</td>\n    </tr>\n    <tr>\n      <th>...</th>\n      <td>...</td>\n      <td>...</td>\n      <td>...</td>\n      <td>...</td>\n      <td>...</td>\n      <td>...</td>\n      <td>...</td>\n      <td>...</td>\n      <td>...</td>\n      <td>...</td>\n      <td>...</td>\n      <td>...</td>\n      <td>...</td>\n    </tr>\n    <tr>\n      <th>17504</th>\n      <td>3000</td>\n      <td>5.342491</td>\n      <td>2.495559</td>\n      <td>0</td>\n      <td>0.725275</td>\n      <td>2</td>\n      <td>1</td>\n      <td>0</td>\n      <td>0</td>\n      <td>0</td>\n      <td>1900-01-01 16:44:00</td>\n      <td>2</td>\n      <td>[{\"purpose\": 1, \"zone_id\": 1720, \"duration\": 1...</td>\n    </tr>\n    <tr>\n      <th>17505</th>\n      <td>3000</td>\n      <td>5.342491</td>\n      <td>2.495559</td>\n      <td>0</td>\n      <td>0.725275</td>\n      <td>2</td>\n      <td>1</td>\n      <td>0</td>\n      <td>0</td>\n      <td>0</td>\n      <td>1900-01-01 12:11:00</td>\n      <td>4</td>\n      <td>[{\"purpose\": 0, \"zone_id\": 29, \"duration\": 25}...</td>\n    </tr>\n    <tr>\n      <th>17506</th>\n      <td>3000</td>\n      <td>5.342491</td>\n      <td>2.495559</td>\n      <td>0</td>\n      <td>0.725275</td>\n      <td>2</td>\n      <td>1</td>\n      <td>1</td>\n      <td>0</td>\n      <td>1</td>\n      <td>1900-01-01 15:03:00</td>\n      <td>4</td>\n      <td>[{\"purpose\": 1, \"zone_id\": 745, \"duration\": 19...</td>\n    </tr>\n    <tr>\n      <th>17507</th>\n      <td>3000</td>\n      <td>5.342491</td>\n      <td>2.495559</td>\n      <td>0</td>\n      <td>0.725275</td>\n      <td>2</td>\n      <td>1</td>\n      <td>0</td>\n      <td>0</td>\n      <td>0</td>\n      <td>1900-01-01 14:57:00</td>\n      <td>3</td>\n      <td>[{\"purpose\": 1, \"zone_id\": 479, \"duration\": 38...</td>\n    </tr>\n    <tr>\n      <th>17508</th>\n      <td>3000</td>\n      <td>5.342491</td>\n      <td>2.495559</td>\n      <td>0</td>\n      <td>0.725275</td>\n      <td>2</td>\n      <td>1</td>\n      <td>2</td>\n      <td>0</td>\n      <td>2</td>\n      <td>1900-01-01 16:04:00</td>\n      <td>7</td>\n      <td>[{\"purpose\": 0, \"zone_id\": 2058, \"duration\": 1...</td>\n    </tr>\n  </tbody>\n</table>\n<p>17509 rows × 13 columns</p>\n</div>"
     },
     "execution_count": 67,
     "metadata": {},
     "output_type": "execute_result"
    }
   ],
   "source": [
    "test_tours2 = test_tours2.drop(columns=['geometry', 'industrial', 'retail', 'service', 'landuse', 'industry'])\n",
    "test_tours2"
   ],
   "metadata": {
    "collapsed": false,
    "ExecuteTime": {
     "end_time": "2024-01-21T15:00:13.194357300Z",
     "start_time": "2024-01-21T15:00:12.128467Z"
    }
   },
   "id": "30f4f6ca2c225ea9"
  },
  {
   "cell_type": "code",
   "execution_count": 52,
   "outputs": [],
   "source": [
    "import xml.etree.ElementTree as ET"
   ],
   "metadata": {
    "collapsed": false,
    "ExecuteTime": {
     "end_time": "2024-01-21T12:28:33.514123700Z",
     "start_time": "2024-01-21T12:28:33.373074100Z"
    }
   },
   "id": "a75b8f522bb1a6c8"
  },
  {
   "cell_type": "code",
   "execution_count": 60,
   "outputs": [],
   "source": [
    "def create_activity_element(activity_type, x, y, end_time):\n",
    "    act_element = ET.Element(\"act\")\n",
    "    act_element.set(\"type\", activity_type)\n",
    "    act_element.set(\"x\", str(x))\n",
    "    act_element.set(\"y\", str(y))\n",
    "    act_element.set(\"end_time\", end_time)\n",
    "    return act_element\n",
    "\n",
    "def create_leg_element():\n",
    "    leg_element = ET.Element(\"leg\")\n",
    "    leg_element.set(\"mode\", \"car\")\n",
    "    return leg_element\n",
    "\n",
    "def create_plan_element(activities):\n",
    "    plan_element = ET.Element(\"plan\")\n",
    "    for activity in activities:\n",
    "        plan_element.append(activity)\n",
    "    return plan_element"
   ],
   "metadata": {
    "collapsed": false,
    "ExecuteTime": {
     "end_time": "2024-01-21T12:35:03.952043600Z",
     "start_time": "2024-01-21T12:35:03.889069400Z"
    }
   },
   "id": "6560f90b24121550"
  },
  {
   "cell_type": "code",
   "execution_count": 68,
   "outputs": [],
   "source": [
    "root = ET.Element(\"plans\", {\"xml:lang\": \"de-CH\"})\n",
    "\n",
    "for i, row in test_tours2.iterrows():\n",
    "    person_element = ET.Element(\"person\", {\"id\": str(i)})\n",
    "    plan = ET.Element(\"plan\")\n",
    "    \n",
    "    # Создание начальной активности type=\"h\" с временем и координатами\n",
    "    zone_id = row[\"zone_id\"]\n",
    "    zone_info = zones.loc[zone_id]  # Получить информацию о зоне по индексу\n",
    "    x = zone_info[\"x\"]\n",
    "    y = zone_info[\"y\"]\n",
    "    \n",
    "    # Изменение формата времени на \"hh:mm:ss\"\n",
    "    assigned_start_time = row[\"assigned_start_time\"].split(\" \")[-1]\n",
    "    \n",
    "    start_activity = ET.Element(\"act\", {\"type\": \"h\", \"x\": str(x), \"y\": str(y), \"end_time\": assigned_start_time})\n",
    "    plan.append(start_activity)\n",
    "    \n",
    "    # Добавление лега на машине\n",
    "    car_leg = ET.Element(\"leg\", {\"mode\": \"car\"})\n",
    "    plan.append(car_leg)\n",
    "    \n",
    "    # Преобразование строки JSON в объект Python\n",
    "    stops = json.loads(row[\"stops\"])\n",
    "    \n",
    "    for i, stop in enumerate(stops):\n",
    "        zone_id = stop[\"zone_id\"]\n",
    "        duration = stop[\"duration\"]\n",
    "        zone_info = zones.loc[zone_id]  # Получить информацию о зоне по индексу\n",
    "        x = zone_info[\"x\"]\n",
    "        y = zone_info[\"y\"]\n",
    "        \n",
    "        # Определение типа активности в зависимости от purpose\n",
    "        if stop[\"purpose\"] == 0:\n",
    "            activity_type = \"w\"\n",
    "        elif stop[\"purpose\"] == 1:\n",
    "            activity_type = \"o\"\n",
    "        else:\n",
    "            activity_type = \"h\"\n",
    "        \n",
    "        # Добавление активности без end_time, но с dur и координатами\n",
    "        activity = ET.Element(\"act\", {\"type\": activity_type, \"x\": str(x), \"y\": str(y), \"dur\": str(duration)})\n",
    "        plan.append(activity)\n",
    "        \n",
    "        # Добавление лега на машине, кроме последней остановки\n",
    "        if i < len(stops) - 1:\n",
    "            car_leg = ET.Element(\"leg\", {\"mode\": \"car\"})\n",
    "            plan.append(car_leg)\n",
    "    \n",
    "    # Создание плана\n",
    "    person_element.append(plan)\n",
    "    root.append(person_element)\n",
    "\n",
    "# Сохранение в файл\n",
    "tree = ET.ElementTree(root)\n",
    "tree.write(\"plans.xml\", encoding=\"utf-8\", xml_declaration=True)"
   ],
   "metadata": {
    "collapsed": false,
    "ExecuteTime": {
     "end_time": "2024-01-21T15:03:12.832652900Z",
     "start_time": "2024-01-21T15:02:59.007009900Z"
    }
   },
   "id": "4e297436cf77e39f"
  }
 ],
 "metadata": {
  "kernelspec": {
   "display_name": "Python 3",
   "language": "python",
   "name": "python3"
  },
  "language_info": {
   "codemirror_mode": {
    "name": "ipython",
    "version": 2
   },
   "file_extension": ".py",
   "mimetype": "text/x-python",
   "name": "python",
   "nbconvert_exporter": "python",
   "pygments_lexer": "ipython2",
   "version": "2.7.6"
  }
 },
 "nbformat": 4,
 "nbformat_minor": 5
}
